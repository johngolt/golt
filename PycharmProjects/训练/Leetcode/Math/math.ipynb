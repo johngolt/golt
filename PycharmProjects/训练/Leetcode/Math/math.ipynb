{
 "cells": [
  {
   "cell_type": "markdown",
   "metadata": {},
   "source": [
    "Given a 32-bit signed integer, reverse digits of an integer.\n",
    "Assume we are dealing with an environment which could only store integers within the 32-bit signed integer range:$[−2^{31},  2^{31} − 1]$. For the purpose of this problem, assume that your function returns 0 when the reversed integer overflows."
   ]
  },
  {
   "cell_type": "code",
   "execution_count": null,
   "metadata": {},
   "outputs": [],
   "source": [
    "def reverse(x):\n",
    "    flag, res = True, 0\n",
    "    if x < 0:\n",
    "        flag = False\n",
    "        x= 0-x\n",
    "    while x!=0:\n",
    "        x, y = divmod(x, 10)\n",
    "        res =res *10 +y\n",
    "    if not flag:\n",
    "        res = 0-res\n",
    "    if res>2**31 -1 or res < 2**31:\n",
    "        return 0\n",
    "    return res\n",
    "reverse(-120)"
   ]
  },
  {
   "cell_type": "markdown",
   "metadata": {},
   "source": [
    "The function first discards as many whitespace characters as necessary until the first non-whitespace character is found. Then, starting from this character, takes an optional initial plus or minus sign followed by as many numerical digits as possible, and interprets them as a numerical value.\n",
    "\n",
    "Only the space character ' ' is considered as whitespace character.\n",
    "Assume we are dealing with an environment which could only store integers within the 32-bit signed integer range: $[−2^{31},  2^{31} − 1]$. If the numerical value is out of the range of representable values, $INT_MAX (2^{31} − 1)$ or $INT_MIN (−2^{31})$ is returned."
   ]
  },
  {
   "cell_type": "code",
   "execution_count": 25,
   "metadata": {
    "ExecuteTime": {
     "end_time": "2019-05-06T06:45:10.056766Z",
     "start_time": "2019-05-06T06:45:10.048787Z"
    }
   },
   "outputs": [],
   "source": [
    "def str2int(string):\n",
    "    string = str.strip(' ')\n",
    "    nums = [ord(i) for i in '0123456789']\n",
    "    neg = [ord('-'), ord('+')]\n",
    "    if not string:\n",
    "        return 0\n",
    "    if ord(string[0]) not in nums and ord(string[0]) not in neg:\n",
    "        return 0\n",
    "    result, flag = 0, True\n",
    "    if ord(string[0]) in neg:\n",
    "        if ord(string[0])==neg[0]:\n",
    "            flag = False\n",
    "            string = string[1:]\n",
    "        else:\n",
    "            string = string[1:]\n",
    "    if not string:\n",
    "        return 0\n",
    "    for item in string:\n",
    "        if ord(item) in nums:\n",
    "            result = result * 10 + ord(item)-ord('0')\n",
    "        else:\n",
    "            break\n",
    "    if not flag:\n",
    "        result = 0-result\n",
    "    if result > 2**31-1:\n",
    "        return 2**31-1\n",
    "    if result<-2**31:\n",
    "        return -2**31\n",
    "    return result"
   ]
  },
  {
   "cell_type": "markdown",
   "metadata": {},
   "source": [
    "Roman numerals are represented by seven different symbols: I, V, X, L, C, D and M.\n",
    "Given an integer, convert it to a roman numeral. Input is guaranteed to be within the range from 1 to 3999.\n",
    "\n",
    "I can be placed before V (5) and X (10) to make 4 and 9. \n",
    "X can be placed before L (50) and C (100) to make 40 and 90. \n",
    "C can be placed before D (500) and M (1000) to make 400 and 900."
   ]
  },
  {
   "cell_type": "code",
   "execution_count": 40,
   "metadata": {
    "ExecuteTime": {
     "end_time": "2019-05-06T07:23:43.250459Z",
     "start_time": "2019-05-06T07:23:43.243477Z"
    }
   },
   "outputs": [],
   "source": [
    "def int2rom(num):\n",
    "    nums=[1000, 500, 100, 50, 10, 5, 1]\n",
    "    symbols = list('MDCLXVI')\n",
    "    result=[]\n",
    "    for  item, symbol in zip(nums, symbols):\n",
    "        times, num = divmod(num, item)\n",
    "        result.append(symbol*times)\n",
    "    res = ''.join(result)\n",
    "    res = res.replace('DCCCC', 'CM')\n",
    "    res = res.replace('CCCC', 'CD')\n",
    "    res = res.replace('LXXXX', 'XC')\n",
    "    res = res.replace('XXXX', 'XL')\n",
    "    res = res.replace('VIIII', 'IX')\n",
    "    res = res.replace('IIII', 'IV')\n",
    "    return res"
   ]
  },
  {
   "cell_type": "markdown",
   "metadata": {},
   "source": [
    "Given two integers dividend and divisor, divide two integers without using multiplication, division and mod operator.\n",
    "\n",
    "Return the quotient after dividing dividend by divisor.\n",
    "\n",
    "The integer division should truncate toward zero."
   ]
  },
  {
   "cell_type": "code",
   "execution_count": 1,
   "metadata": {
    "ExecuteTime": {
     "end_time": "2019-05-22T06:40:06.652375Z",
     "start_time": "2019-05-22T06:40:06.635459Z"
    }
   },
   "outputs": [
    {
     "data": {
      "text/plain": [
       "-3"
      ]
     },
     "execution_count": 1,
     "metadata": {},
     "output_type": "execute_result"
    }
   ],
   "source": [
    "def divide(self, dividend: int, divisor: int) -> int:\n",
    "    positive = (dividend < 0) is (divisor < 0)\n",
    "    dividend, divisor = abs(dividend), abs(divisor)\n",
    "    res = 0\n",
    "    while dividend >= divisor:\n",
    "        temp, i = divisor, 1\n",
    "        while dividend >= temp:\n",
    "            dividend -= temp\n",
    "            res += i\n",
    "            i <<= 1\n",
    "            temp <<= 1\n",
    "    if not positive:\n",
    "        res = -res\n",
    "    return min(max(-2147483648, res), 2147483647)"
   ]
  },
  {
   "cell_type": "markdown",
   "metadata": {},
   "source": [
    "Given two non-negative integers num1 and num2 represented as strings, return the product of num1 and num2, also represented as a string."
   ]
  },
  {
   "cell_type": "code",
   "execution_count": 9,
   "metadata": {
    "ExecuteTime": {
     "end_time": "2019-05-22T06:53:13.885554Z",
     "start_time": "2019-05-22T06:53:13.875581Z"
    }
   },
   "outputs": [
    {
     "data": {
      "text/plain": [
       "1230593324"
      ]
     },
     "execution_count": 9,
     "metadata": {},
     "output_type": "execute_result"
    }
   ],
   "source": [
    "def multiply(self, num1: str, num2: str) -> str:\n",
    "    num_1 = self.str2num(num1)\n",
    "    num_2 = self.str2num(num2)\n",
    "    return str(num_1 * num_2)\n",
    "def str2num(num):\n",
    "    res = 0\n",
    "    begin = ord('0')\n",
    "    for i, item in enumerate(num):\n",
    "        res = 10*res + ord(item)-begin\n",
    "    return res"
   ]
  },
  {
   "cell_type": "code",
   "execution_count": 6,
   "metadata": {
    "ExecuteTime": {
     "end_time": "2019-05-22T06:43:34.686062Z",
     "start_time": "2019-05-22T06:43:34.679081Z"
    }
   },
   "outputs": [
    {
     "data": {
      "text/plain": [
       "True"
      ]
     },
     "execution_count": 6,
     "metadata": {},
     "output_type": "execute_result"
    }
   ],
   "source": [
    "def getPermutation(n, k):\n",
    "    nums = [i for i in range(1, n+1)]\n",
    "    index, k = k//n, k%n\n",
    "    permu = ''\n",
    "    permu += nums[index]\n",
    "    nums.pop(index)"
   ]
  },
  {
   "cell_type": "code",
   "execution_count": 17,
   "metadata": {
    "ExecuteTime": {
     "end_time": "2019-05-22T07:24:21.838548Z",
     "start_time": "2019-05-22T07:24:21.830567Z"
    }
   },
   "outputs": [
    {
     "data": {
      "text/plain": [
       "'213'"
      ]
     },
     "execution_count": 17,
     "metadata": {},
     "output_type": "execute_result"
    }
   ],
   "source": [
    "import math\n",
    "def getPermutation(n, k):\n",
    "        numbers = list(range(1, n+1))\n",
    "        permutation = ''\n",
    "        k -= 1\n",
    "        while n > 0:\n",
    "            n -= 1\n",
    "            # get the index of current digit\n",
    "            index, k = divmod(k, math.factorial(n))\n",
    "            permutation += str(numbers[index])\n",
    "            # remove handled number\n",
    "            numbers.pop(index)\n",
    "\n",
    "        return permutation\n",
    "getPermutation(3, 3)"
   ]
  },
  {
   "cell_type": "markdown",
   "metadata": {},
   "source": [
    "Validate if a given string can be interpreted as a decimal number.\n",
    "It is intended for the problem statement to be ambiguous. You should gather all requirements up front before implementing one. However, here is a list of characters that can be in a valid decimal number:\n",
    "\n",
    "Numbers 0-9\n",
    "\n",
    "Exponent - \"e\"\n",
    "\n",
    "Positive/negative sign - \"+\"/\"-\"\n",
    "\n",
    "Decimal point - \".\""
   ]
  },
  {
   "cell_type": "code",
   "execution_count": 40,
   "metadata": {
    "ExecuteTime": {
     "end_time": "2019-05-22T07:38:43.639900Z",
     "start_time": "2019-05-22T07:38:43.629960Z"
    }
   },
   "outputs": [
    {
     "data": {
      "text/plain": [
       "False"
      ]
     },
     "execution_count": 40,
     "metadata": {},
     "output_type": "execute_result"
    }
   ],
   "source": [
    "def isNumber(self, s: str) -> bool:\n",
    "    s = s.strip()\n",
    "    if 'e' not in s:\n",
    "        return self.isFloat(s)\n",
    "    items = s.split('e')\n",
    "    if len(items) !=2:\n",
    "        return False\n",
    "    return self.isFloat(items[0]) and self.isInt(items[1])\n",
    "# 判断是否为整数\n",
    "def isInt(self, s):\n",
    "    if not s:\n",
    "        return False\n",
    "    if len(s) ==1:\n",
    "        return s.isdigit()\n",
    "    if s.startswith(('+', '-')):\n",
    "        return s[1] not in ('+', '-') and self.isInt(s[1:])\n",
    "    else:\n",
    "        s = s.strip('0')\n",
    "        if not s:\n",
    "            return True\n",
    "        return s.isdigit()\n",
    "def isFloat(self, s):\n",
    "    if s.startswith(('+', '-')):\n",
    "        return self.isFloat(s[1:])\n",
    "    if '.' not in s:\n",
    "        return self.isInt(s)\n",
    "    if s.startswith('.') and len(s)>1:\n",
    "        s='0'+s\n",
    "    if s.endswith('.') and len(s)>1:\n",
    "        s = s+'0'\n",
    "    items = s.split('.')\n",
    "    if len(items) !=2:\n",
    "        return False\n",
    "    return (items[0] == '0' or self.isInt(items[0])) and (items[1].isdigit())"
   ]
  },
  {
   "cell_type": "code",
   "execution_count": 3,
   "metadata": {
    "ExecuteTime": {
     "end_time": "2019-05-22T09:26:36.712782Z",
     "start_time": "2019-05-22T09:26:36.704769Z"
    }
   },
   "outputs": [
    {
     "data": {
      "text/plain": [
       "34304"
      ]
     },
     "execution_count": 3,
     "metadata": {},
     "output_type": "execute_result"
    }
   ],
   "source": [
    "def mySqrt(x):\n",
    "    low, high = 1, x//2\n",
    "    while low < high:\n",
    "        mid = (low + high)//2\n",
    "        if mid**2<=x<(mid+1)**2:\n",
    "            return mid\n",
    "        elif x<mid**2:\n",
    "            high = mid-1\n",
    "        else:\n",
    "            low = mid+1\n",
    "    return low\n",
    "\n",
    "mySqrt(1176789017)"
   ]
  },
  {
   "cell_type": "code",
   "execution_count": 129,
   "metadata": {
    "ExecuteTime": {
     "end_time": "2019-05-22T09:15:20.695578Z",
     "start_time": "2019-05-22T09:15:20.688600Z"
    }
   },
   "outputs": [
    {
     "data": {
      "text/plain": [
       "34304.358571470184"
      ]
     },
     "execution_count": 129,
     "metadata": {},
     "output_type": "execute_result"
    }
   ],
   "source": []
  },
  {
   "cell_type": "code",
   "execution_count": null,
   "metadata": {},
   "outputs": [],
   "source": []
  }
 ],
 "metadata": {
  "kernelspec": {
   "display_name": "Python 3",
   "language": "python",
   "name": "python3"
  },
  "language_info": {
   "codemirror_mode": {
    "name": "ipython",
    "version": 3
   },
   "file_extension": ".py",
   "mimetype": "text/x-python",
   "name": "python",
   "nbconvert_exporter": "python",
   "pygments_lexer": "ipython3",
   "version": "3.6.5"
  },
  "toc": {
   "base_numbering": 1,
   "nav_menu": {},
   "number_sections": true,
   "sideBar": true,
   "skip_h1_title": false,
   "title_cell": "Table of Contents",
   "title_sidebar": "Contents",
   "toc_cell": false,
   "toc_position": {},
   "toc_section_display": true,
   "toc_window_display": false
  },
  "varInspector": {
   "cols": {
    "lenName": 16,
    "lenType": 16,
    "lenVar": 40
   },
   "kernels_config": {
    "python": {
     "delete_cmd_postfix": "",
     "delete_cmd_prefix": "del ",
     "library": "var_list.py",
     "varRefreshCmd": "print(var_dic_list())"
    },
    "r": {
     "delete_cmd_postfix": ") ",
     "delete_cmd_prefix": "rm(",
     "library": "var_list.r",
     "varRefreshCmd": "cat(var_dic_list()) "
    }
   },
   "types_to_exclude": [
    "module",
    "function",
    "builtin_function_or_method",
    "instance",
    "_Feature"
   ],
   "window_display": false
  }
 },
 "nbformat": 4,
 "nbformat_minor": 2
}
