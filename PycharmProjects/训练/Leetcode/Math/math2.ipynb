{
 "cells": [
  {
   "cell_type": "markdown",
   "metadata": {},
   "source": [
    "Given two integers representing the numerator and denominator of a fraction, return the fraction in string format.\n",
    "\n",
    "If the fractional part is repeating, enclose the repeating part in parentheses.%^&"
   ]
  },
  {
   "cell_type": "code",
   "execution_count": null,
   "metadata": {},
   "outputs": [],
   "source": [
    "def fractionToDecimal(self, numerator: int, denominator: int) -> str:\n",
    "    res=\"\"\n",
    "    if numerator/denominator<0:\n",
    "        res+=\"-\"\n",
    "    if numerator%denominator==0:\n",
    "        return str(numerator/denominator)\n",
    "    numerator=abs(numerator)\n",
    "    denominator=abs(denominator)\n",
    "    res+=str(numerator//denominator)\n",
    "    res+=\".\"\n",
    "    numerator%=denominator\n",
    "    i=len(res)\n",
    "    table={}\n",
    "    while numerator!=0:\n",
    "        if numerator not in table.keys():\n",
    "            table[numerator]=i\n",
    "        else:\n",
    "            i=table[numerator]\n",
    "            res=res[:i]+\"(\"+res[i:]+\")\"\n",
    "            return res\n",
    "        numerator=numerator*10\n",
    "        res+=str(numerator//denominator)\n",
    "        numerator%=denominator\n",
    "        i+=1\n",
    "    return res"
   ]
  },
  {
   "cell_type": "markdown",
   "metadata": {
    "ExecuteTime": {
     "end_time": "2019-05-23T04:07:53.852345Z",
     "start_time": "2019-05-23T04:07:53.844366Z"
    }
   },
   "source": [
    "Given a positive integer, return its corresponding column title as appear in an Excel sheet."
   ]
  },
  {
   "cell_type": "code",
   "execution_count": null,
   "metadata": {},
   "outputs": [],
   "source": [
    "def convertToTitle(n):\n",
    "    start = ord('A')\n",
    "    res = ''\n",
    "    alphas = [chr(start + i) for i in range(26)]\n",
    "    while n > 0:\n",
    "        res += alphas[(n-1)%26]\n",
    "        n = (n-1)//26\n",
    "    return res[::-1]"
   ]
  },
  {
   "cell_type": "markdown",
   "metadata": {},
   "source": [
    "Given a column title as appear in an Excel sheet, return its corresponding column number."
   ]
  },
  {
   "cell_type": "code",
   "execution_count": 16,
   "metadata": {
    "ExecuteTime": {
     "end_time": "2019-05-23T04:44:23.620032Z",
     "start_time": "2019-05-23T04:44:23.613049Z"
    }
   },
   "outputs": [
    {
     "data": {
      "text/plain": [
       "701"
      ]
     },
     "execution_count": 16,
     "metadata": {},
     "output_type": "execute_result"
    }
   ],
   "source": [
    "def titleToNumber(s):\n",
    "    res = 0\n",
    "    begin = ord('A')\n",
    "    for each in s:\n",
    "        res = 26 *res + (ord(each) - begin + 1)\n",
    "    return res\n",
    "titleToNumber('ZY')"
   ]
  },
  {
   "cell_type": "markdown",
   "metadata": {},
   "source": [
    "Given an integer n, return the number of trailing zeroes in n!."
   ]
  },
  {
   "cell_type": "code",
   "execution_count": 24,
   "metadata": {
    "ExecuteTime": {
     "end_time": "2019-05-23T04:58:49.580524Z",
     "start_time": "2019-05-23T04:58:49.573546Z"
    }
   },
   "outputs": [
    {
     "data": {
      "text/plain": [
       "7"
      ]
     },
     "execution_count": 24,
     "metadata": {},
     "output_type": "execute_result"
    }
   ],
   "source": [
    "import math\n",
    "def zerotrailing(n):\n",
    "    length = 0\n",
    "    while n > 0:\n",
    "        n, index = divmod(n, 5)\n",
    "        length += n\n",
    "    return length\n",
    "zerotrailing(30)"
   ]
  },
  {
   "cell_type": "markdown",
   "metadata": {},
   "source": [
    "Count the number of prime numbers less than a non-negative number, n."
   ]
  },
  {
   "cell_type": "code",
   "execution_count": 25,
   "metadata": {
    "ExecuteTime": {
     "end_time": "2019-05-23T05:27:33.300361Z",
     "start_time": "2019-05-23T05:27:33.293378Z"
    }
   },
   "outputs": [],
   "source": [
    "def countPrimes(self, n: int) -> int:\n",
    "    if n <= 2:\n",
    "        return 0\n",
    "    res = [True] * n\n",
    "    res[0] = res[1] = False\n",
    "    for i in range(2, n):\n",
    "        if res[i] == True:\n",
    "            for j in range(i, (n-1)//i+1):\n",
    "                res[i*j] = False\n",
    "    return sum(res)"
   ]
  },
  {
   "cell_type": "markdown",
   "metadata": {},
   "source": [
    "Find the total area covered by two rectilinear rectangles in a 2D plane.\n",
    "Each rectangle is defined by its bottom left corner and top right corner as shown in the figure."
   ]
  },
  {
   "cell_type": "code",
   "execution_count": 29,
   "metadata": {
    "ExecuteTime": {
     "end_time": "2019-05-23T05:51:47.586835Z",
     "start_time": "2019-05-23T05:51:47.575864Z"
    }
   },
   "outputs": [
    {
     "data": {
      "text/plain": [
       "45"
      ]
     },
     "execution_count": 29,
     "metadata": {},
     "output_type": "execute_result"
    }
   ],
   "source": [
    "def computeArea(A, B, C, D, E, F, G, H):\n",
    "    left1, right1, bottom1, top1 = get(A, B, C, D)\n",
    "    left2, right2, bottom2, top2 = get(E, F, G, H)\n",
    "    left3, right3 = max(left1, left2), min(right1, right2)\n",
    "    bottom3, top3 = max(bottom1, bottom2), min(top1, top2)\n",
    "    area = (right1-left1)* (top1- bottom1)+(right2-left2)*(top2-bottom2)\n",
    "    if right3>=left3 and top3 >= bottom3:\n",
    "        area -= (right3-left3)*(top3- bottom3)\n",
    "    return area\n",
    "def get(A, B, C, D):\n",
    "    left, right = min(A, C), max(A, C)\n",
    "    bottom, top = min(B, D), max(B, D)\n",
    "    return left, right, bottom, top\n",
    "computeArea(A = -3, B = 0, C = 3, D = 4, E = 0, F = -1, G = 9, H = 2)"
   ]
  },
  {
   "cell_type": "code",
   "execution_count": 30,
   "metadata": {
    "ExecuteTime": {
     "end_time": "2019-05-23T08:02:17.415176Z",
     "start_time": "2019-05-23T08:01:38.275889Z"
    }
   },
   "outputs": [
    {
     "name": "stderr",
     "output_type": "stream",
     "text": [
      "Using TensorFlow backend.\n"
     ]
    }
   ],
   "source": [
    "import keras"
   ]
  },
  {
   "cell_type": "code",
   "execution_count": 40,
   "metadata": {
    "ExecuteTime": {
     "end_time": "2019-05-23T13:59:49.714709Z",
     "start_time": "2019-05-23T13:59:48.480790Z"
    }
   },
   "outputs": [],
   "source": [
    "model = keras.Sequential()\n",
    "model.add(keras.layers.Bidirectional(keras.layers.LSTM(10, return_sequences=True),\n",
    "                        input_shape=(5, 10)))\n",
    "model.add(keras.layers.Bidirectional(keras.layers.LSTM(10)))\n",
    "model.add(keras.layers.Dense(5))\n",
    "model.add(keras.layers.Activation('softmax'))\n",
    "model.compile(loss='categorical_crossentropy', optimizer='rmsprop')"
   ]
  },
  {
   "cell_type": "code",
   "execution_count": 41,
   "metadata": {
    "ExecuteTime": {
     "end_time": "2019-05-23T13:59:57.331110Z",
     "start_time": "2019-05-23T13:59:57.324128Z"
    }
   },
   "outputs": [
    {
     "name": "stdout",
     "output_type": "stream",
     "text": [
      "_________________________________________________________________\n",
      "Layer (type)                 Output Shape              Param #   \n",
      "=================================================================\n",
      "bidirectional_1 (Bidirection (None, 5, 20)             1680      \n",
      "_________________________________________________________________\n",
      "bidirectional_2 (Bidirection (None, 20)                2480      \n",
      "_________________________________________________________________\n",
      "dense_6 (Dense)              (None, 5)                 105       \n",
      "_________________________________________________________________\n",
      "activation_1 (Activation)    (None, 5)                 0         \n",
      "=================================================================\n",
      "Total params: 4,265\n",
      "Trainable params: 4,265\n",
      "Non-trainable params: 0\n",
      "_________________________________________________________________\n"
     ]
    }
   ],
   "source": [
    "model.summary()"
   ]
  },
  {
   "cell_type": "code",
   "execution_count": null,
   "metadata": {},
   "outputs": [],
   "source": []
  }
 ],
 "metadata": {
  "kernelspec": {
   "display_name": "Python 3",
   "language": "python",
   "name": "python3"
  },
  "toc": {
   "base_numbering": 1,
   "nav_menu": {},
   "number_sections": true,
   "sideBar": true,
   "skip_h1_title": false,
   "title_cell": "Table of Contents",
   "title_sidebar": "Contents",
   "toc_cell": false,
   "toc_position": {},
   "toc_section_display": true,
   "toc_window_display": false
  },
  "varInspector": {
   "cols": {
    "lenName": 16,
    "lenType": 16,
    "lenVar": 40
   },
   "kernels_config": {
    "python": {
     "delete_cmd_postfix": "",
     "delete_cmd_prefix": "del ",
     "library": "var_list.py",
     "varRefreshCmd": "print(var_dic_list())"
    },
    "r": {
     "delete_cmd_postfix": ") ",
     "delete_cmd_prefix": "rm(",
     "library": "var_list.r",
     "varRefreshCmd": "cat(var_dic_list()) "
    }
   },
   "types_to_exclude": [
    "module",
    "function",
    "builtin_function_or_method",
    "instance",
    "_Feature"
   ],
   "window_display": false
  }
 },
 "nbformat": 4,
 "nbformat_minor": 2
}
