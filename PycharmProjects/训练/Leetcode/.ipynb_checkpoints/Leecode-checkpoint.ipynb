{
 "cells": [
  {
   "cell_type": "markdown",
   "metadata": {},
   "source": [
    "Given a sorted array nums, remove the duplicates in-place such that each element appear only once and return the new length."
   ]
  },
  {
   "cell_type": "code",
   "execution_count": null,
   "metadata": {},
   "outputs": [],
   "source": [
    "def removeDuplicates(nums):  \n",
    "    for i in range(len(nums)-1, 0, -1):\n",
    "        if nums[i] == nums[i-1]:\n",
    "            nums.pop(i)\n",
    "    return len(nums)"
   ]
  },
  {
   "cell_type": "markdown",
   "metadata": {},
   "source": [
    "Given an array nums and a value val, remove all instances of that value in-place and return the new length."
   ]
  },
  {
   "cell_type": "code",
   "execution_count": null,
   "metadata": {},
   "outputs": [],
   "source": [
    "def removeElement(nums, val):\n",
    "    length = len(nums)\n",
    "    for i in range(length - 1, -1, -1):\n",
    "        if nums[i]==val:\n",
    "            nums.pop(i)\n",
    "    return len(nums)"
   ]
  },
  {
   "cell_type": "code",
   "execution_count": null,
   "metadata": {},
   "outputs": [],
   "source": [
    "def area(lists):\n",
    "    length = len(lists)\n",
    "    res = 0\n",
    "    i, j = 0, length-1\n",
    "    while i<j:\n",
    "        if lists[i]<= lists[j]:\n",
    "            res = max(res, lists[i] *(j-i))\n",
    "            i +=1\n",
    "        else:\n",
    "            res = max(res, lists[j] * (j-i))\n",
    "            j -= 1\n",
    "    return res\n",
    "area([1,8,6,2,5,4,8,3,7])"
   ]
  },
  {
   "cell_type": "markdown",
   "metadata": {},
   "source": [
    "Suppose an array sorted in ascending order is rotated at some pivot unknown to you beforehand."
   ]
  },
  {
   "cell_type": "code",
   "execution_count": null,
   "metadata": {},
   "outputs": [],
   "source": [
    "def search(nums, target):\n",
    "        if not nums: # 为空\n",
    "            return -1\n",
    "        length = len(nums)\n",
    "        if nums[0]== target:\n",
    "            return 0\n",
    "        if nums[length-1] == target:\n",
    "            return length -1\n",
    "        elif nums[0]<target:\n",
    "            for j in range(1, length):\n",
    "                if nums[j] == target:\n",
    "                    return j\n",
    "                if nums[j] < nums[j-1]:\n",
    "                    break\n",
    "        else:\n",
    "            for j in range(length - 2, 0, -1):\n",
    "                if nums[j] == target:\n",
    "                    return j\n",
    "                if nums[j] > nums[j+1]:\n",
    "                    break\n",
    "        return -1"
   ]
  },
  {
   "cell_type": "markdown",
   "metadata": {},
   "source": [
    "Given a sorted array and a target value, return the index if the target is found. If not, return the index where it would be if it were inserted in order."
   ]
  },
  {
   "cell_type": "code",
   "execution_count": 9,
   "metadata": {
    "ExecuteTime": {
     "end_time": "2019-04-28T10:39:50.722836Z",
     "start_time": "2019-04-28T10:39:50.710867Z"
    }
   },
   "outputs": [
    {
     "data": {
      "text/plain": [
       "0"
      ]
     },
     "execution_count": 9,
     "metadata": {},
     "output_type": "execute_result"
    }
   ],
   "source": [
    "def insert(nums, target):\n",
    "    if not nums: # 为空\n",
    "        return 0\n",
    "    if target > nums[len(nums) -1]:# 大于最大值\n",
    "        return len(nums)\n",
    "    if target <= nums[0]:# 小于等于最小值\n",
    "        return 0\n",
    "    low, high = 0, len(nums) - 1 # 其他情况\n",
    "    while low <= high:\n",
    "        mid = (low+ high)//2\n",
    "        if nums[mid]< target <=nums[mid + 1]:\n",
    "            return mid + 1\n",
    "        elif target <= nums[mid]:\n",
    "            high = mid - 1\n",
    "        else:\n",
    "            low = mid +1\n",
    "nums, target = [1], 1\n",
    "insert(nums, target)"
   ]
  },
  {
   "cell_type": "markdown",
   "metadata": {
    "ExecuteTime": {
     "end_time": "2019-04-28T10:29:15.995585Z",
     "start_time": "2019-04-28T10:29:15.989557Z"
    }
   },
   "source": [
    "Given a set of candidate numbers (candidates) (without duplicates) and a target number (target), find all unique combinations in candidates where the candidate numbers sums to target."
   ]
  },
  {
   "cell_type": "code",
   "execution_count": 35,
   "metadata": {
    "ExecuteTime": {
     "end_time": "2019-04-28T12:02:25.015768Z",
     "start_time": "2019-04-28T12:02:25.005796Z"
    }
   },
   "outputs": [
    {
     "data": {
      "text/plain": [
       "[[2, 2, 2, 2, 2, 2, 2, 2, 2],\n",
       " [2, 2, 2, 2, 2, 2, 3, 3],\n",
       " [2, 2, 2, 2, 3, 7],\n",
       " [2, 2, 2, 3, 3, 3, 3],\n",
       " [2, 2, 7, 7],\n",
       " [2, 3, 3, 3, 7],\n",
       " [3, 3, 3, 3, 3, 3]]"
      ]
     },
     "execution_count": 35,
     "metadata": {},
     "output_type": "execute_result"
    }
   ],
   "source": [
    "def combinationSum(candidates, target):\n",
    "    result = []\n",
    "    candidates = sorted(candidates)\n",
    "    def dfs(remain, stack):\n",
    "        if remain == 0:\n",
    "            result.append(stack)\n",
    "            return \n",
    "\n",
    "        for item in candidates:\n",
    "            if item > remain: break\n",
    "            if stack and item < stack[-1]: continue\n",
    "            else:\n",
    "                dfs(remain - item, stack + [item])\n",
    "    \n",
    "    dfs(target, [])\n",
    "    return result\n",
    "candidates = [7,3,2]\n",
    "target = 18\n",
    "combinationSum(candidates, target)"
   ]
  },
  {
   "cell_type": "code",
   "execution_count": null,
   "metadata": {
    "ExecuteTime": {
     "end_time": "2019-04-28T11:46:36.404604Z",
     "start_time": "2019-04-28T11:46:36.399581Z"
    }
   },
   "outputs": [],
   "source": [
    "result = []\n",
    "    candidates = sorted(candidates)\n",
    "    def dfs(remain, stack):\n",
    "        if remain == 0:\n",
    "            result.append(stack)\n",
    "            return \n",
    "\n",
    "        for item in candidates:\n",
    "            if item > remain: break\n",
    "            if stack and item < stack[-1]: continue\n",
    "            else:\n",
    "                dfs(remain - item, stack + [item])\n",
    "    \n",
    "    dfs(target, [])\n",
    "    return result"
   ]
  },
  {
   "cell_type": "code",
   "execution_count": null,
   "metadata": {},
   "outputs": [],
   "source": []
  }
 ],
 "metadata": {
  "kernelspec": {
   "display_name": "Python 3",
   "language": "python",
   "name": "python3"
  },
  "language_info": {
   "codemirror_mode": {
    "name": "ipython",
    "version": 3
   },
   "file_extension": ".py",
   "mimetype": "text/x-python",
   "name": "python",
   "nbconvert_exporter": "python",
   "pygments_lexer": "ipython3",
   "version": "3.6.5"
  },
  "toc": {
   "base_numbering": 1,
   "nav_menu": {},
   "number_sections": true,
   "sideBar": true,
   "skip_h1_title": false,
   "title_cell": "Table of Contents",
   "title_sidebar": "Contents",
   "toc_cell": false,
   "toc_position": {},
   "toc_section_display": true,
   "toc_window_display": false
  },
  "varInspector": {
   "cols": {
    "lenName": 16,
    "lenType": 16,
    "lenVar": 40
   },
   "kernels_config": {
    "python": {
     "delete_cmd_postfix": "",
     "delete_cmd_prefix": "del ",
     "library": "var_list.py",
     "varRefreshCmd": "print(var_dic_list())"
    },
    "r": {
     "delete_cmd_postfix": ") ",
     "delete_cmd_prefix": "rm(",
     "library": "var_list.r",
     "varRefreshCmd": "cat(var_dic_list()) "
    }
   },
   "types_to_exclude": [
    "module",
    "function",
    "builtin_function_or_method",
    "instance",
    "_Feature"
   ],
   "window_display": false
  }
 },
 "nbformat": 4,
 "nbformat_minor": 2
}
