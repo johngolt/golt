{
 "cells": [
  {
   "cell_type": "markdown",
   "metadata": {},
   "source": [
    "Given a sorted array nums, remove the duplicates in-place such that each element appear only once and return the new length."
   ]
  },
  {
   "cell_type": "code",
   "execution_count": null,
   "metadata": {},
   "outputs": [],
   "source": [
    "def removeDuplicates(nums):  \n",
    "    for i in range(len(nums)-1, 0, -1):\n",
    "        if nums[i] == nums[i-1]:\n",
    "            nums.pop(i)\n",
    "    return len(nums)"
   ]
  },
  {
   "cell_type": "markdown",
   "metadata": {},
   "source": [
    "Given an array nums and a value val, remove all instances of that value in-place and return the new length."
   ]
  },
  {
   "cell_type": "code",
   "execution_count": null,
   "metadata": {},
   "outputs": [],
   "source": [
    "def removeElement(nums, val):\n",
    "    length = len(nums)\n",
    "    for i in range(length - 1, -1, -1):\n",
    "        if nums[i]==val:\n",
    "            nums.pop(i)\n",
    "    return len(nums)"
   ]
  },
  {
   "cell_type": "code",
   "execution_count": null,
   "metadata": {},
   "outputs": [],
   "source": [
    "def area(lists):\n",
    "    length = len(lists)\n",
    "    res = 0\n",
    "    i, j = 0, length-1\n",
    "    while i<j:\n",
    "        if lists[i]<= lists[j]:\n",
    "            res = max(res, lists[i] *(j-i))\n",
    "            i +=1\n",
    "        else:\n",
    "            res = max(res, lists[j] * (j-i))\n",
    "            j -= 1\n",
    "    return res\n",
    "area([1,8,6,2,5,4,8,3,7])"
   ]
  },
  {
   "cell_type": "markdown",
   "metadata": {},
   "source": [
    "Suppose an array sorted in ascending order is rotated at some pivot unknown to you beforehand."
   ]
  },
  {
   "cell_type": "code",
   "execution_count": null,
   "metadata": {},
   "outputs": [],
   "source": [
    "def search(nums, target):\n",
    "        if not nums: # 为空\n",
    "            return -1\n",
    "        length = len(nums)\n",
    "        if nums[0]== target:\n",
    "            return 0\n",
    "        if nums[length-1] == target:\n",
    "            return length -1\n",
    "        elif nums[0]<target:\n",
    "            for j in range(1, length):\n",
    "                if nums[j] == target:\n",
    "                    return j\n",
    "                if nums[j] < nums[j-1]:\n",
    "                    break\n",
    "        else:\n",
    "            for j in range(length - 2, 0, -1):\n",
    "                if nums[j] == target:\n",
    "                    return j\n",
    "                if nums[j] > nums[j+1]:\n",
    "                    break\n",
    "        return -1"
   ]
  },
  {
   "cell_type": "markdown",
   "metadata": {},
   "source": [
    "Given a sorted array and a target value, return the index if the target is found. If not, return the index where it would be if it were inserted in order."
   ]
  },
  {
   "cell_type": "code",
   "execution_count": 9,
   "metadata": {
    "ExecuteTime": {
     "end_time": "2019-04-28T10:39:50.722836Z",
     "start_time": "2019-04-28T10:39:50.710867Z"
    }
   },
   "outputs": [
    {
     "data": {
      "text/plain": [
       "0"
      ]
     },
     "execution_count": 9,
     "metadata": {},
     "output_type": "execute_result"
    }
   ],
   "source": [
    "def insert(nums, target):\n",
    "    if not nums: # 为空\n",
    "        return 0\n",
    "    if target > nums[len(nums) -1]:# 大于最大值\n",
    "        return len(nums)\n",
    "    if target <= nums[0]:# 小于等于最小值\n",
    "        return 0\n",
    "    low, high = 0, len(nums) - 1 # 其他情况\n",
    "    while low <= high:\n",
    "        mid = (low+ high)//2\n",
    "        if nums[mid]< target <=nums[mid + 1]:\n",
    "            return mid + 1\n",
    "        elif target <= nums[mid]:\n",
    "            high = mid - 1\n",
    "        else:\n",
    "            low = mid +1\n",
    "nums, target = [1], 1\n",
    "insert(nums, target)"
   ]
  },
  {
   "cell_type": "markdown",
   "metadata": {
    "ExecuteTime": {
     "end_time": "2019-04-28T10:29:15.995585Z",
     "start_time": "2019-04-28T10:29:15.989557Z"
    }
   },
   "source": [
    "Given a set of candidate numbers (candidates) (without duplicates) and a target number (target), find all unique combinations in candidates where the candidate numbers sums to target."
   ]
  },
  {
   "cell_type": "code",
   "execution_count": 35,
   "metadata": {
    "ExecuteTime": {
     "end_time": "2019-04-28T12:02:25.015768Z",
     "start_time": "2019-04-28T12:02:25.005796Z"
    }
   },
   "outputs": [
    {
     "data": {
      "text/plain": [
       "[[2, 2, 2, 2, 2, 2, 2, 2, 2],\n",
       " [2, 2, 2, 2, 2, 2, 3, 3],\n",
       " [2, 2, 2, 2, 3, 7],\n",
       " [2, 2, 2, 3, 3, 3, 3],\n",
       " [2, 2, 7, 7],\n",
       " [2, 3, 3, 3, 7],\n",
       " [3, 3, 3, 3, 3, 3]]"
      ]
     },
     "execution_count": 35,
     "metadata": {},
     "output_type": "execute_result"
    }
   ],
   "source": [
    "def combinationSum(candidates, target):\n",
    "    result = []\n",
    "    candidates = sorted(candidates)\n",
    "    def dfs(remain, stack):\n",
    "        if remain == 0:\n",
    "            result.append(stack)\n",
    "            return \n",
    "\n",
    "        for item in candidates:\n",
    "            if item > remain: break\n",
    "            if stack and item < stack[-1]: continue\n",
    "            else:\n",
    "                dfs(remain - item, stack + [item])\n",
    "    \n",
    "    dfs(target, [])\n",
    "    return result\n",
    "candidates = [7,3,2]\n",
    "target = 18\n",
    "combinationSum(candidates, target)"
   ]
  },
  {
   "cell_type": "code",
   "execution_count": null,
   "metadata": {
    "ExecuteTime": {
     "end_time": "2019-04-28T11:46:36.404604Z",
     "start_time": "2019-04-28T11:46:36.399581Z"
    }
   },
   "outputs": [],
   "source": [
    "result = []\n",
    "    candidates = sorted(candidates)\n",
    "    def dfs(remain, stack):\n",
    "        if remain == 0:\n",
    "            result.append(stack)\n",
    "            return \n",
    "\n",
    "        for item in candidates:\n",
    "            if item > remain: break\n",
    "            if stack and item < stack[-1]: continue\n",
    "            else:\n",
    "                dfs(remain - item, stack + [item])\n",
    "    \n",
    "    dfs(target, [])\n",
    "    return result"
   ]
  },
  {
   "cell_type": "markdown",
   "metadata": {},
   "source": [
    "Given n non-negative integers representing an elevation map where the width of each bar is 1, compute how much water it is able to trap after raining."
   ]
  },
  {
   "cell_type": "code",
   "execution_count": 33,
   "metadata": {
    "ExecuteTime": {
     "end_time": "2019-04-29T11:06:41.089465Z",
     "start_time": "2019-04-29T11:06:41.082483Z"
    }
   },
   "outputs": [],
   "source": [
    "def rain(height):\n",
    "    left, right, res=0, 0, 0\n",
    "    left_res, right_res = [], []\n",
    "    for i, item in enumerate(height):\n",
    "        if item > left:\n",
    "            left = item\n",
    "            left_res.append(left)\n",
    "        else:\n",
    "            left_res.append(left)\n",
    "    for i, item in enumerate(reversed(height)):\n",
    "        if item > right:\n",
    "            right = item\n",
    "            right_res.append(right)\n",
    "        else:\n",
    "            right_res.append(right)\n",
    "    for i, j, k in zip(left_res, reversed(right_res), height):\n",
    "        res += min(i, j) -k\n",
    "    return res"
   ]
  },
  {
   "cell_type": "markdown",
   "metadata": {},
   "source": [
    "You are given an n x n 2D matrix representing an image.\n",
    "Rotate the image by 90 degrees (clockwise)."
   ]
  },
  {
   "cell_type": "code",
   "execution_count": 34,
   "metadata": {
    "ExecuteTime": {
     "end_time": "2019-04-29T11:06:41.878226Z",
     "start_time": "2019-04-29T11:06:41.872243Z"
    }
   },
   "outputs": [
    {
     "data": {
      "text/plain": [
       "6"
      ]
     },
     "execution_count": 34,
     "metadata": {},
     "output_type": "execute_result"
    }
   ],
   "source": [
    "class Solution:\n",
    "    def rotate(self, A):\n",
    "        A[:] = zip(*A[::-1])\n",
    "class Solution:\n",
    "    def rotate(self, A):\n",
    "        A.reverse()\n",
    "        for i in range(len(A)):\n",
    "            for j in range(i):\n",
    "                A[i][j], A[j][i] = A[j][i], A[i][j]\n",
    "class Solution:\n",
    "    def rotate(self, A):\n",
    "        n = len(A)\n",
    "        for i in range(n):\n",
    "            for j in range(i):\n",
    "                A[i][j], A[j][i] = A[j][i], A[i][j]\n",
    "        for row in A:\n",
    "            for j in range(n/2):\n",
    "                row[j], row[~j] = row[~j], row[j]"
   ]
  },
  {
   "cell_type": "code",
   "execution_count": null,
   "metadata": {
    "ExecuteTime": {
     "end_time": "2019-05-01T07:44:14.155293Z",
     "start_time": "2019-05-01T07:44:14.149313Z"
    }
   },
   "outputs": [],
   "source": [
    "one = [1,2,34]\n",
    "one[~1] # [~i] is way nicer than [n-1-i]"
   ]
  },
  {
   "cell_type": "markdown",
   "metadata": {
    "ExecuteTime": {
     "end_time": "2019-05-01T07:42:34.693860Z",
     "start_time": "2019-05-01T07:42:34.689910Z"
    }
   },
   "source": [
    "Given an integer array nums, find the contiguous subarray (containing at least one number) which has the largest sum and return its sum."
   ]
  },
  {
   "cell_type": "code",
   "execution_count": 21,
   "metadata": {
    "ExecuteTime": {
     "end_time": "2019-05-01T08:13:30.843455Z",
     "start_time": "2019-05-01T08:13:30.835476Z"
    }
   },
   "outputs": [
    {
     "data": {
      "text/plain": [
       "6"
      ]
     },
     "execution_count": 21,
     "metadata": {},
     "output_type": "execute_result"
    }
   ],
   "source": [
    "def MaxSubArray(nums):\n",
    "    if not nums:\n",
    "        return None\n",
    "    Max, cur= nums[0], nums[0]\n",
    "    for i, item in enumerate(nums[1:]):\n",
    "        cur = max(cur+item, item)\n",
    "        Max = max(Max, cur)\n",
    "    return Max\n",
    "MaxSubArray([-2,1,-3,4,-1,2,1,-5,4])"
   ]
  },
  {
   "cell_type": "code",
   "execution_count": null,
   "metadata": {
    "ExecuteTime": {
     "end_time": "2019-05-01T08:13:32.965712Z",
     "start_time": "2019-05-01T08:13:32.959732Z"
    }
   },
   "outputs": [],
   "source": [
    " def maxSubArrayHelper(self,nums, l, r):\n",
    "        if l > r:\n",
    "            return -2147483647\n",
    "        m = (l+r) / 2\n",
    "        \n",
    "        leftMax = sumNum = 0\n",
    "        for i in range(m - 1, l - 1, -1):\n",
    "            sumNum += nums[i]\n",
    "            leftMax = max(leftMax, sumNum)\n",
    "        \n",
    "        rightMax = sumNum = 0\n",
    "        for i in range(m + 1, r + 1):\n",
    "            sumNum += nums[i]\n",
    "            rightMax = max(rightMax, sumNum)\n",
    "            \n",
    "        leftAns = self.maxSubArrayHelper(nums, l, m - 1)\n",
    "        rightAns = self.maxSubArrayHelper(nums, m + 1, r)\n",
    "            \n",
    "        return max(leftMax + nums[m] + rightMax, max(leftAns, rightAns))\n",
    "        \n",
    "def maxSubArray(self, nums):\n",
    "    return self.maxSubArrayHelper(nums, 0, len(nums) - 1)"
   ]
  },
  {
   "cell_type": "markdown",
   "metadata": {},
   "source": [
    "Given a matrix of m x n elements (m rows, n columns), return all elements of the matrix in spiral order."
   ]
  },
  {
   "cell_type": "code",
   "execution_count": 31,
   "metadata": {
    "ExecuteTime": {
     "end_time": "2019-05-01T08:41:46.054639Z",
     "start_time": "2019-05-01T08:41:46.040679Z"
    }
   },
   "outputs": [
    {
     "data": {
      "text/plain": [
       "[1, 11, 12, 13, 14, 15, 16, 17, 18, 19, 20, 10, 9, 8, 7, 6, 5, 4, 3, 2]"
      ]
     },
     "execution_count": 31,
     "metadata": {},
     "output_type": "execute_result"
    }
   ],
   "source": [
    "def SpidOder(matrix):\n",
    "    if not matrix:\n",
    "        return []\n",
    "    if len(matrix) == 1:\n",
    "        return matrix[0]\n",
    "    if len(matrix[0]) ==0:\n",
    "        return []\n",
    "    elif len(matrix[0]) ==1:\n",
    "        return [item[0] for item in matrix]\n",
    "    return matrix[0] + [item[-1] for item in matrix[1:-1]] + list(reversed(matrix[-1]))+ list(reversed([item[0] for item in matrix[1:-1]])) + SpidOder([item[1:-1] for item in matrix[1:-1]])\n",
    "SpidOder([[1,11],[2,12],[3,13],[4,14],[5,15],[6,16],[7,17],[8,18],[9,19],[10,20]])"
   ]
  },
  {
   "cell_type": "markdown",
   "metadata": {},
   "source": [
    "Given an array of non-negative integers, you are initially positioned at the first index of the array.Each element in the array represents your maximum jump length at that position.Determine if you are able to reach the last index."
   ]
  },
  {
   "cell_type": "code",
   "execution_count": 1,
   "metadata": {
    "ExecuteTime": {
     "end_time": "2019-05-01T13:48:21.749773Z",
     "start_time": "2019-05-01T13:48:21.730826Z"
    }
   },
   "outputs": [
    {
     "data": {
      "text/plain": [
       "True"
      ]
     },
     "execution_count": 1,
     "metadata": {},
     "output_type": "execute_result"
    }
   ],
   "source": [
    "class Solution:\n",
    "    def canJump(self, nums):\n",
    "        if len(nums)<=1:\n",
    "            return True\n",
    "        furth, cur = 0, 0\n",
    "        while furth < len(nums)-1:\n",
    "            index = 0\n",
    "            for i in range(1, nums[cur] + 1):\n",
    "                if cur + i>= len(nums)-1:\n",
    "                    return True\n",
    "                if nums[cur + i] + cur + i >= furth:\n",
    "                    index = i\n",
    "                    furth = nums[cur + i] + cur + i\n",
    "            cur += index\n",
    "            if nums[cur]==0:\n",
    "                return False\n",
    "        return True\n",
    "    \n",
    "solution = Solution()\n",
    "solution.canJump([8,2,4,4,4,9,5,2,5,8,8,0,8,6,9,1,1,6,3,5,1,2,6,6,0,4,8,6,0,3,2,8,7,6,5,1,7,0,3,4,8,3,5,9,0,4,0,1,0,5,9,2,0,7,0,2,1,0,8,2,5,1,2,3,9,7,4,7,0,0,1,8,5,6,7,5,1,9,9,3,5,0,7,5])"
   ]
  },
  {
   "cell_type": "code",
   "execution_count": 7,
   "metadata": {
    "ExecuteTime": {
     "end_time": "2019-05-01T14:09:40.389178Z",
     "start_time": "2019-05-01T14:09:40.382194Z"
    }
   },
   "outputs": [
    {
     "data": {
      "text/plain": [
       "False"
      ]
     },
     "execution_count": 7,
     "metadata": {},
     "output_type": "execute_result"
    }
   ],
   "source": [
    "def canJump(nums):\n",
    "    goal = len(nums) - 1\n",
    "    for i in range(len(nums)-1, -1, -1):\n",
    "        if i + nums[i] >= goal:\n",
    "            goal = i\n",
    "    return not goal\n",
    "canJump([0, 2, 3])"
   ]
  },
  {
   "cell_type": "code",
   "execution_count": 6,
   "metadata": {
    "ExecuteTime": {
     "end_time": "2019-05-01T14:09:03.091696Z",
     "start_time": "2019-05-01T14:09:03.086709Z"
    }
   },
   "outputs": [
    {
     "name": "stdout",
     "output_type": "stream",
     "text": [
      "3\n",
      "2\n",
      "1\n",
      "0\n"
     ]
    }
   ],
   "source": [
    "def canJump(self, nums):\n",
    "    m = 0 # 所在位置\n",
    "    for i, n in enumerate(nums):\n",
    "        if i > m:\n",
    "            return False\n",
    "        m = max(m, i+n)\n",
    "    return True"
   ]
  },
  {
   "cell_type": "code",
   "execution_count": null,
   "metadata": {},
   "outputs": [],
   "source": []
  }
 ],
 "metadata": {
  "kernelspec": {
   "display_name": "Python 3",
   "language": "python",
   "name": "python3"
  },
  "language_info": {
   "codemirror_mode": {
    "name": "ipython",
    "version": 3
   },
   "file_extension": ".py",
   "mimetype": "text/x-python",
   "name": "python",
   "nbconvert_exporter": "python",
   "pygments_lexer": "ipython3",
   "version": "3.6.5"
  },
  "toc": {
   "base_numbering": 1,
   "nav_menu": {},
   "number_sections": true,
   "sideBar": true,
   "skip_h1_title": false,
   "title_cell": "Table of Contents",
   "title_sidebar": "Contents",
   "toc_cell": false,
   "toc_position": {},
   "toc_section_display": true,
   "toc_window_display": false
  },
  "varInspector": {
   "cols": {
    "lenName": 16,
    "lenType": 16,
    "lenVar": 40
   },
   "kernels_config": {
    "python": {
     "delete_cmd_postfix": "",
     "delete_cmd_prefix": "del ",
     "library": "var_list.py",
     "varRefreshCmd": "print(var_dic_list())"
    },
    "r": {
     "delete_cmd_postfix": ") ",
     "delete_cmd_prefix": "rm(",
     "library": "var_list.r",
     "varRefreshCmd": "cat(var_dic_list()) "
    }
   },
   "types_to_exclude": [
    "module",
    "function",
    "builtin_function_or_method",
    "instance",
    "_Feature"
   ],
   "window_display": false
  }
 },
 "nbformat": 4,
 "nbformat_minor": 2
}
