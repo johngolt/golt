{
 "cells": [
  {
   "cell_type": "markdown",
   "metadata": {},
   "source": [
    "Given a sorted integer array without duplicates, return the summary of its ranges."
   ]
  },
  {
   "cell_type": "code",
   "execution_count": 1,
   "metadata": {
    "ExecuteTime": {
     "end_time": "2019-05-08T04:38:23.905836Z",
     "start_time": "2019-05-08T04:38:23.888882Z"
    }
   },
   "outputs": [
    {
     "data": {
      "text/plain": [
       "['0->2', '4->5', '7']"
      ]
     },
     "execution_count": 1,
     "metadata": {},
     "output_type": "execute_result"
    }
   ],
   "source": [
    "def summaryRanges(nums):\n",
    "    if not nums:\n",
    "        return []\n",
    "    if len(nums)==1:\n",
    "        return [str(nums[0])]\n",
    "    value, start, end, result = nums[0], 0, 0, []\n",
    "    for i, item in enumerate(nums[1:], start = 1):\n",
    "        if item- value ==1:\n",
    "            value = item\n",
    "            end += 1\n",
    "        else:\n",
    "            if start == end:\n",
    "                result.append(str(nums[start]))\n",
    "            else:\n",
    "                result.append(str(nums[start])+'->'+str(nums[end]))\n",
    "            start = i\n",
    "            end = i\n",
    "            value = nums[i]\n",
    "    if start == end:\n",
    "        result.append(str(nums[start]))\n",
    "    else:\n",
    "        result.append(str(nums[start])+'->'+str(nums[end]))\n",
    "    return result\n",
    "summaryRanges([0,1,2,4,5,7])"
   ]
  },
  {
   "cell_type": "markdown",
   "metadata": {},
   "source": [
    "Given a collection of candidate numbers (candidates) and a target number (target), find all unique combinations in candidates where the candidate numbers sums to target.\n",
    "Each number in candidates may only be used once in the combination.\n",
    "\n",
    "Note: All numbers (including target) will be positive integers.\n",
    " The solution set must not contain duplicate combinations."
   ]
  },
  {
   "cell_type": "code",
   "execution_count": 6,
   "metadata": {
    "ExecuteTime": {
     "end_time": "2019-05-20T06:18:56.628534Z",
     "start_time": "2019-05-20T06:18:56.621550Z"
    }
   },
   "outputs": [],
   "source": [
    "def dfs(nums, target, index, path, res):\n",
    "     if target < 0:\n",
    "        return  # backtracking\n",
    "     if target == 0:\n",
    "        res.append(path)\n",
    "        return\n",
    "     for i in range(index, len(nums)):\n",
    "        if i > index and nums[i] == nums[i - 1]:\n",
    "            continue\n",
    "        if nums[i] > target:\n",
    "            break\n",
    "        dfs(nums, target - nums[i], i + 1, path + [nums[i]], res)\n",
    "def combinationSum2(candidates, target):\n",
    "    res = []\n",
    "    candidates.sort()\n",
    "    dfs(candidates, target, 0, [], res)\n",
    "    return res"
   ]
  },
  {
   "cell_type": "code",
   "execution_count": 20,
   "metadata": {
    "ExecuteTime": {
     "end_time": "2019-05-20T06:58:22.036575Z",
     "start_time": "2019-05-20T06:58:22.026601Z"
    }
   },
   "outputs": [
    {
     "data": {
      "text/plain": [
       "[[-1, 0, 1], [-1, -1, 2]]"
      ]
     },
     "execution_count": 20,
     "metadata": {},
     "output_type": "execute_result"
    }
   ],
   "source": [
    "def threeSum(self, nums):\n",
    "    res = []\n",
    "    nums.sort()\n",
    "    for i in xrange(len(nums)-2):\n",
    "        if i > 0 and nums[i] == nums[i-1]:\n",
    "            continue\n",
    "        l, r = i+1, len(nums)-1\n",
    "        while l < r:\n",
    "            s = nums[i] + nums[l] + nums[r]\n",
    "            if s < 0:\n",
    "                l +=1 \n",
    "            elif s > 0:\n",
    "                r -= 1\n",
    "            else:\n",
    "                res.append((nums[i], nums[l], nums[r]))\n",
    "                while l < r and nums[l] == nums[l+1]:\n",
    "                    l += 1\n",
    "                while l < r and nums[r] == nums[r-1]:\n",
    "                    r -= 1\n",
    "                l += 1; r -= 1\n",
    "    return res"
   ]
  },
  {
   "cell_type": "code",
   "execution_count": null,
   "metadata": {},
   "outputs": [],
   "source": [
    "def threeSum(self, nums: List[int]) -> List[List[int]]:\n",
    "        ans = set([])\n",
    "        plus = sorted([n for n in nums if n>0])\n",
    "        plus_c = set(plus)\n",
    "        zero = [n for n in nums if n == 0]\n",
    "        minus = sorted([n for n in nums if n<0])\n",
    "        minus_c = set(minus)\n",
    "        # all zero\n",
    "        if len(zero)>2:\n",
    "            ans.add((0,0,0))\n",
    "        # plus zero minus\n",
    "        if len(zero)>0:\n",
    "            for n in minus:\n",
    "                if -n in plus_c:\n",
    "                    ans.add((n,0,-n))\n",
    "        # plus minus minus\n",
    "        n = len(minus)\n",
    "        for i in range(n):\n",
    "            for j in range(i+1,n):\n",
    "                diff = -(minus[i]+minus[j])\n",
    "                if diff in plus_c:\n",
    "                    ans.add((minus[i],minus[j],diff))\n",
    "        # plus plus minus\n",
    "        n = len(plus)\n",
    "        for i in range(n):\n",
    "            for j in range(i+1,n):\n",
    "                diff = -(plus[i]+plus[j])\n",
    "                if diff in minus_c:\n",
    "                    ans.add((diff,plus[i],plus[j]))\n",
    "        return list(ans)"
   ]
  },
  {
   "cell_type": "markdown",
   "metadata": {},
   "source": [
    "Given a string s, find the longest palindromic substring in s. You may assume that the maximum length of s is 1000."
   ]
  },
  {
   "cell_type": "code",
   "execution_count": 9,
   "metadata": {
    "ExecuteTime": {
     "end_time": "2019-05-21T06:16:06.920866Z",
     "start_time": "2019-05-21T06:16:06.911889Z"
    }
   },
   "outputs": [
    {
     "data": {
      "text/plain": [
       "'cabac'"
      ]
     },
     "execution_count": 9,
     "metadata": {},
     "output_type": "execute_result"
    }
   ],
   "source": [
    "def longestPalindrome(s):\n",
    "    # Transform S into T.\n",
    "    # For example, S = \"abba\", T = \"^#a#b#b#a#$\".\n",
    "    # ^ and $ signs are sentinels appended to each end to avoid bounds checking\n",
    "    T = '#'.join('^{}$'.format(s))\n",
    "    n = len(T)\n",
    "    P = [0] * n\n",
    "    C = R = 0\n",
    "    for i in range (1, n-1):\n",
    "        P[i] = (R > i) and min(R - i, P[2*C - i]) # equals to i' = C - (i-C)\n",
    "        # Attempt to expand palindrome centered at i\n",
    "        while T[i + 1 + P[i]] == T[i - 1 - P[i]]:\n",
    "            P[i] += 1\n",
    "\n",
    "        # If palindrome centered at i expand past R,\n",
    "        # adjust center based on expanded palindrome.\n",
    "        if i + P[i] > R:\n",
    "            C, R = i, i + P[i]\n",
    "\n",
    "    # Find the maximum element in P.\n",
    "    maxLen, centerIndex = max((n, i) for i, n in enumerate(P))\n",
    "    return s[(centerIndex  - maxLen)//2: (centerIndex  + maxLen)//2]"
   ]
  },
  {
   "cell_type": "markdown",
   "metadata": {},
   "source": [
    "The string \"PAYPALISHIRING\" is written in a zigzag pattern on a given number of rows like this: (you may want to display this pattern in a fixed font for better "
   ]
  },
  {
   "cell_type": "code",
   "execution_count": 14,
   "metadata": {
    "ExecuteTime": {
     "end_time": "2019-05-21T09:26:30.463571Z",
     "start_time": "2019-05-21T09:26:30.458265Z"
    }
   },
   "outputs": [],
   "source": [
    "def convert(s, numRows):\n",
    "    if not s:\n",
    "        return ''\n",
    "    if numRows ==1:\n",
    "        return s\n",
    "    T = 2 * numRows -2\n",
    "    lis = ['' for _ in range(numRows)]\n",
    "    for i, item in enumerate(s):\n",
    "        index = i%T if i%T < numRows else T-i%T\n",
    "        lis[index]=lis[index] + item\n",
    "    return ''.join(lis)\n",
    "s = \"PAYPALISHIRING\"\n",
    "numRows = 4\n",
    "res = convert(s, numRows)"
   ]
  },
  {
   "cell_type": "code",
   "execution_count": 15,
   "metadata": {
    "ExecuteTime": {
     "end_time": "2019-05-21T09:26:35.212060Z",
     "start_time": "2019-05-21T09:26:35.205135Z"
    }
   },
   "outputs": [
    {
     "data": {
      "text/plain": [
       "'PINALSIGYAHRPI'"
      ]
     },
     "execution_count": 15,
     "metadata": {},
     "output_type": "execute_result"
    }
   ],
   "source": [
    "res"
   ]
  },
  {
   "cell_type": "code",
   "execution_count": null,
   "metadata": {},
   "outputs": [],
   "source": []
  }
 ],
 "metadata": {
  "kernelspec": {
   "display_name": "Python 3",
   "language": "python",
   "name": "python3"
  },
  "language_info": {
   "codemirror_mode": {
    "name": "ipython",
    "version": 3
   },
   "file_extension": ".py",
   "mimetype": "text/x-python",
   "name": "python",
   "nbconvert_exporter": "python",
   "pygments_lexer": "ipython3",
   "version": "3.6.5"
  },
  "toc": {
   "base_numbering": 1,
   "nav_menu": {},
   "number_sections": true,
   "sideBar": true,
   "skip_h1_title": false,
   "title_cell": "Table of Contents",
   "title_sidebar": "Contents",
   "toc_cell": false,
   "toc_position": {},
   "toc_section_display": true,
   "toc_window_display": false
  },
  "varInspector": {
   "cols": {
    "lenName": 16,
    "lenType": 16,
    "lenVar": 40
   },
   "kernels_config": {
    "python": {
     "delete_cmd_postfix": "",
     "delete_cmd_prefix": "del ",
     "library": "var_list.py",
     "varRefreshCmd": "print(var_dic_list())"
    },
    "r": {
     "delete_cmd_postfix": ") ",
     "delete_cmd_prefix": "rm(",
     "library": "var_list.r",
     "varRefreshCmd": "cat(var_dic_list()) "
    }
   },
   "types_to_exclude": [
    "module",
    "function",
    "builtin_function_or_method",
    "instance",
    "_Feature"
   ],
   "window_display": false
  }
 },
 "nbformat": 4,
 "nbformat_minor": 2
}
