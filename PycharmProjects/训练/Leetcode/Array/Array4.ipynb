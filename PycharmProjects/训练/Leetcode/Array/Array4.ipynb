{
 "cells": [
  {
   "cell_type": "markdown",
   "metadata": {},
   "source": [
    "Given an input string (s) and a pattern (p), implement regular expression matching with support for '.' and '*'.\n",
    "\n",
    "'.' Matches any single character.\n",
    "'*' Matches zero or more of the preceding element.\n",
    "The matching should cover the entire input string (not partial).\n",
    "\n",
    "Note:\n",
    "- s could be empty and contains only lowercase letters a-z.\n",
    "- p could be empty and contains only lowercase letters a-z, and characters like . or *."
   ]
  },
  {
   "cell_type": "code",
   "execution_count": null,
   "metadata": {},
   "outputs": [],
   "source": [
    "#Recursive\n",
    "class Solution(object):\n",
    "    def isMatch(self, text, pattern):\n",
    "        if not pattern:\n",
    "            return not text\n",
    "\n",
    "        first_match = bool(text) and pattern[0] in {text[0], '.'}\n",
    "        if len(pattern) >= 2 and pattern[1] == '*':\n",
    "            return (self.isMatch(text, pattern[2:]) or\n",
    "                    first_match and self.isMatch(text[1:], pattern))\n",
    "        else:\n",
    "            return first_match and self.isMatch(text[1:], pattern[1:])"
   ]
  },
  {
   "cell_type": "code",
   "execution_count": null,
   "metadata": {},
   "outputs": [],
   "source": [
    "# Dynamic Programming\n",
    "class Solution(object):\n",
    "    def isMatch(self, text, pattern):\n",
    "        memo = {}\n",
    "        def dp(i, j):\n",
    "            if (i, j) not in memo:\n",
    "                if j == len(pattern):\n",
    "                    ans = i == len(text)\n",
    "                else:\n",
    "                    first_match = i < len(text) and pattern[j] in {text[i], '.'}\n",
    "                    if j+1 < len(pattern) and pattern[j+1] == '*':\n",
    "                        ans = dp(i, j+2) or first_match and dp(i+1, j)\n",
    "                    else:\n",
    "                        ans = first_match and dp(i+1, j+1)\n",
    "                memo[i, j] = ans\n",
    "            return memo[i, j]\n",
    "        return dp(0, 0)"
   ]
  },
  {
   "cell_type": "markdown",
   "metadata": {},
   "source": [
    "Given an array nums of n integers and an integer target, find three integers in nums such that the sum is closest to target. Return the sum of the three integers. You may assume that each input would have exactly one solution"
   ]
  },
  {
   "cell_type": "code",
   "execution_count": 5,
   "metadata": {
    "ExecuteTime": {
     "end_time": "2019-06-19T06:04:22.714110Z",
     "start_time": "2019-06-19T06:04:22.705137Z"
    }
   },
   "outputs": [
    {
     "data": {
      "text/plain": [
       "2"
      ]
     },
     "execution_count": 5,
     "metadata": {},
     "output_type": "execute_result"
    }
   ],
   "source": [
    "def ThreeSumClosest(nums, target):\n",
    "    result, diff = 0, float('inf')\n",
    "    nums.sort()\n",
    "    for index, value in enumerate(nums[:-2]):\n",
    "        left, right = index+1, len(nums)-1\n",
    "        while left < right:\n",
    "            s = value + nums[left] + nums[right]\n",
    "            if s == target:\n",
    "                return target\n",
    "            elif s > target:\n",
    "                if s - target < diff:\n",
    "                    diff = s - target\n",
    "                    result = s\n",
    "                right -= 1\n",
    "            else:\n",
    "                if target - s < diff:\n",
    "                    diff = target - s\n",
    "                    result = s\n",
    "                left += 1\n",
    "    return result\n",
    "ThreeSumClosest([-1, 2, 1, -4], 1)"
   ]
  },
  {
   "cell_type": "code",
   "execution_count": 12,
   "metadata": {
    "ExecuteTime": {
     "end_time": "2019-06-19T06:26:42.605680Z",
     "start_time": "2019-06-19T06:26:42.594709Z"
    }
   },
   "outputs": [
    {
     "data": {
      "text/plain": [
       "[[-3, -2, 2, 3],\n",
       " [-3, -1, 1, 3],\n",
       " [-3, 0, 0, 3],\n",
       " [-3, 0, 1, 2],\n",
       " [-2, -1, 0, 3],\n",
       " [-2, -1, 1, 2],\n",
       " [-2, 0, 0, 2],\n",
       " [-1, 0, 0, 1]]"
      ]
     },
     "execution_count": 12,
     "metadata": {},
     "output_type": "execute_result"
    }
   ],
   "source": [
    "def FourSum(nums, target):\n",
    "    result = []\n",
    "    nums.sort()\n",
    "    for index, value in enumerate(nums[:-3]):\n",
    "        data = ThreeSum(nums[index+1:], target-value)\n",
    "        if data:\n",
    "            for each in data:\n",
    "                if [value]+each not in result:\n",
    "                    result.append([value] + each)\n",
    "    return result\n",
    "def ThreeSum(nums, target):\n",
    "    result = set()\n",
    "    for index, value in enumerate(nums[:-2]):\n",
    "        left, right = index+1, len(nums)-1\n",
    "        while left < right:\n",
    "            s = value + nums[left] + nums[right]\n",
    "            if s == target:\n",
    "                result.append([value, nums[left], nums[right]])\n",
    "                left += 1\n",
    "            elif s > target:\n",
    "                right -= 1\n",
    "            else:\n",
    "                left += 1\n",
    "    return result"
   ]
  },
  {
   "cell_type": "code",
   "execution_count": null,
   "metadata": {},
   "outputs": [],
   "source": [
    "def fourSum(self, nums, target):\n",
    "        def findNsum(l, r, target, N, result, results):\n",
    "            if r-l+1 < N or N < 2 or target < nums[l]*N or target > nums[r]*N:  # early termination\n",
    "                return\n",
    "            if N == 2: # two pointers solve sorted 2-sum problem\n",
    "                while l < r:\n",
    "                    s = nums[l] + nums[r]\n",
    "                    if s == target:\n",
    "                        results.append(result + [nums[l], nums[r]])\n",
    "                        l += 1\n",
    "                        while l < r and nums[l] == nums[l-1]:\n",
    "                            l += 1\n",
    "                    elif s < target:\n",
    "                        l += 1\n",
    "                    else:\n",
    "                        r -= 1\n",
    "            else: # recursively reduce N\n",
    "                for i in range(l, r+1):\n",
    "                    if i == l or (i > l and nums[i-1] != nums[i]):\n",
    "                        findNsum(i+1, r, target-nums[i], N-1, result+[nums[i]], results)\n",
    "        nums.sort()\n",
    "        results = []\n",
    "        findNsum(0, len(nums)-1, target, 4, [], results)\n",
    "        return results"
   ]
  },
  {
   "cell_type": "markdown",
   "metadata": {},
   "source": [
    "Given an array, rotate the array to the right by k steps, where k is non-negative."
   ]
  },
  {
   "cell_type": "code",
   "execution_count": 34,
   "metadata": {
    "ExecuteTime": {
     "end_time": "2019-06-19T07:16:22.425806Z",
     "start_time": "2019-06-19T07:16:22.420819Z"
    }
   },
   "outputs": [],
   "source": [
    "def rotate(nums, k):\n",
    "    length = len(nums)\n",
    "    rtt = k%length\n",
    "    for i in range(length-rtt):\n",
    "        nums.append(nums.pop(0))"
   ]
  },
  {
   "cell_type": "markdown",
   "metadata": {},
   "source": [
    "A robot is located at the top-left corner of a m x n grid \n",
    "The robot can only move either down or right at any point in time. The robot is trying to reach the bottom-right corner of the grid \n",
    "Now consider if some obstacles are added to the grids. How many unique paths would there be?"
   ]
  },
  {
   "cell_type": "code",
   "execution_count": 35,
   "metadata": {
    "ExecuteTime": {
     "end_time": "2019-06-19T07:16:23.006897Z",
     "start_time": "2019-06-19T07:16:23.000915Z"
    }
   },
   "outputs": [
    {
     "data": {
      "text/plain": [
       "[5, 6, 7, 1, 2, 3, 4]"
      ]
     },
     "execution_count": 35,
     "metadata": {},
     "output_type": "execute_result"
    }
   ],
   "source": [
    "def uniquePathsWithObstacles(self, grid):\n",
    "        if grid[0][0] == 1:\n",
    "            return 0\n",
    "        len_of_i = len(grid)\n",
    "        len_of_j = len(grid[0])\n",
    "        dp = [[0 for x in range(len_of_j)] for y in range(len_of_i)]         \n",
    "        for i in range(0, len_of_i):\n",
    "            for j in range(0, len_of_j):\n",
    "                if i == 0 and j == 0:\n",
    "                    dp[i][j] = 1\n",
    "                elif grid[i][j] == 1:\n",
    "                    dp[i][j] = 0\n",
    "                else:\n",
    "                    if j - 1 >= 0:\n",
    "                        dp[i][j] += dp[i][j-1]\n",
    "                    if i - 1 >= 0:\n",
    "                        dp[i][j] += dp[i-1][j]\n",
    "                \n",
    "        return dp[len_of_i-1][len_of_j-1]     "
   ]
  },
  {
   "cell_type": "code",
   "execution_count": null,
   "metadata": {},
   "outputs": [],
   "source": [
    "def maximalRectangle(matrix):\n",
    "    res, histRow = 0, ([0 for _ in matrix[0]]) if matrix else None\n",
    "    for rowNums in matrix:\n",
    "        stk = []\n",
    "        for c, num in enumerate(rowNums):\n",
    "            histRow[c] = (histRow[c]+1) if num == '1' else 0\n",
    "        for i, n in enumerate(histRow+[0]):\n",
    "            while stk and histRow[stk[-1]] > n:\n",
    "                h = histRow[stk.pop()]\n",
    "                res = max(res, h * ((i - stk[-1] - 1) if stk else i))\n",
    "            stk.append(i)\n",
    "    return res"
   ]
  },
  {
   "cell_type": "code",
   "execution_count": null,
   "metadata": {},
   "outputs": [],
   "source": []
  },
  {
   "cell_type": "code",
   "execution_count": null,
   "metadata": {},
   "outputs": [],
   "source": []
  },
  {
   "cell_type": "code",
   "execution_count": null,
   "metadata": {},
   "outputs": [],
   "source": []
  },
  {
   "cell_type": "code",
   "execution_count": null,
   "metadata": {},
   "outputs": [],
   "source": []
  },
  {
   "cell_type": "code",
   "execution_count": null,
   "metadata": {},
   "outputs": [],
   "source": []
  },
  {
   "cell_type": "code",
   "execution_count": null,
   "metadata": {},
   "outputs": [],
   "source": []
  },
  {
   "cell_type": "code",
   "execution_count": null,
   "metadata": {},
   "outputs": [],
   "source": []
  },
  {
   "cell_type": "code",
   "execution_count": null,
   "metadata": {},
   "outputs": [],
   "source": []
  },
  {
   "cell_type": "code",
   "execution_count": null,
   "metadata": {},
   "outputs": [],
   "source": []
  },
  {
   "cell_type": "code",
   "execution_count": null,
   "metadata": {},
   "outputs": [],
   "source": []
  },
  {
   "cell_type": "code",
   "execution_count": null,
   "metadata": {},
   "outputs": [],
   "source": []
  },
  {
   "cell_type": "code",
   "execution_count": null,
   "metadata": {},
   "outputs": [],
   "source": []
  },
  {
   "cell_type": "code",
   "execution_count": null,
   "metadata": {},
   "outputs": [],
   "source": []
  },
  {
   "cell_type": "code",
   "execution_count": null,
   "metadata": {},
   "outputs": [],
   "source": []
  },
  {
   "cell_type": "code",
   "execution_count": null,
   "metadata": {},
   "outputs": [],
   "source": []
  }
 ],
 "metadata": {
  "kernelspec": {
   "display_name": "Python 3",
   "language": "python",
   "name": "python3"
  },
  "language_info": {
   "codemirror_mode": {
    "name": "ipython",
    "version": 3
   },
   "file_extension": ".py",
   "mimetype": "text/x-python",
   "name": "python",
   "nbconvert_exporter": "python",
   "pygments_lexer": "ipython3",
   "version": "3.6.5"
  },
  "toc": {
   "base_numbering": 1,
   "nav_menu": {},
   "number_sections": true,
   "sideBar": true,
   "skip_h1_title": false,
   "title_cell": "Table of Contents",
   "title_sidebar": "Contents",
   "toc_cell": false,
   "toc_position": {},
   "toc_section_display": true,
   "toc_window_display": false
  },
  "varInspector": {
   "cols": {
    "lenName": 16,
    "lenType": 16,
    "lenVar": 40
   },
   "kernels_config": {
    "python": {
     "delete_cmd_postfix": "",
     "delete_cmd_prefix": "del ",
     "library": "var_list.py",
     "varRefreshCmd": "print(var_dic_list())"
    },
    "r": {
     "delete_cmd_postfix": ") ",
     "delete_cmd_prefix": "rm(",
     "library": "var_list.r",
     "varRefreshCmd": "cat(var_dic_list()) "
    }
   },
   "types_to_exclude": [
    "module",
    "function",
    "builtin_function_or_method",
    "instance",
    "_Feature"
   ],
   "window_display": false
  }
 },
 "nbformat": 4,
 "nbformat_minor": 2
}
