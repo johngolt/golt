{
 "cells": [
  {
   "cell_type": "markdown",
   "metadata": {},
   "source": [
    "Given a set of distinct integers, nums, return all possible subsets (the power set)."
   ]
  },
  {
   "cell_type": "code",
   "execution_count": 10,
   "metadata": {
    "ExecuteTime": {
     "end_time": "2019-05-04T04:36:10.382456Z",
     "start_time": "2019-05-04T04:36:10.378467Z"
    }
   },
   "outputs": [],
   "source": [
    "def subsets(nums):\n",
    "    if not nums:\n",
    "        return [[]]\n",
    "    return [*self.subsets(nums[:-1]),*(item + [nums[-1]] for item in self.subsets(nums[:-1]))]\n",
    "result = subsets([1,2,3,4])"
   ]
  },
  {
   "cell_type": "markdown",
   "metadata": {},
   "source": [
    "Given a 2D board and a word, find if the word exists in the grid.\n",
    "\n",
    "The word can be constructed from letters of sequentially adjacent cell, where \"adjacent\" cells are those horizontally or vertically neighboring. The same letter cell may not be used more than once."
   ]
  },
  {
   "cell_type": "code",
   "execution_count": 127,
   "metadata": {
    "ExecuteTime": {
     "end_time": "2019-05-04T06:31:24.960455Z",
     "start_time": "2019-05-04T06:31:24.952476Z"
    }
   },
   "outputs": [],
   "source": [
    "def search(i,j,word, grid, used):\n",
    "    copy = used.copy() # 确保之前使用的被保存起来。\n",
    "    if not word:\n",
    "        return True\n",
    "    dic = {}\n",
    "    for h in [-1,0,1]:\n",
    "        for v in [-1,0,1]:\n",
    "            if 0<=i+h<=len(grid)-1 and 0<=j+v<=len(grid[0])-1 and (h==0 or v==0):\n",
    "                dic[(h,v)] = grid[i+h][j+v]\n",
    "    dic.pop((0,0))\n",
    "    print(i,j,dic)\n",
    "    for key, value in dic.items():\n",
    "        if (i+key[0], j+key[1]) in used:\n",
    "            continue\n",
    "        else:\n",
    "            if value == word[0]:\n",
    "                used.append((i+key[0], j+key[1]))\n",
    "                result = search(i+key[0], j+key[1], word[1:], grid, used)\n",
    "                if result:\n",
    "                    return result\n",
    "            used = copy\n",
    "    return False\n",
    "def exist(board, word):\n",
    "    used = []\n",
    "    for i, items in enumerate(board):\n",
    "        for j, item in enumerate(items):\n",
    "            if item == word[0]:\n",
    "                used.append((i,j))\n",
    "                result = search(i, j, word[1:], board, used)\n",
    "                if result:\n",
    "                    return result\n",
    "            used = []\n",
    "    return False\n",
    "board =[[\"A\",\"B\",\"C\",\"E\"],[\"S\",\"F\",\"E\",\"S\"],[\"A\",\"D\",\"E\",\"E\"]]\n",
    "word = \"ABCESEEEFS\"\n",
    "exist(board, word)"
   ]
  },
  {
   "cell_type": "code",
   "execution_count": null,
   "metadata": {
    "ExecuteTime": {
     "end_time": "2019-05-04T06:31:25.537852Z",
     "start_time": "2019-05-04T06:31:25.528876Z"
    }
   },
   "outputs": [],
   "source": [
    "def exist(self, board, word):\n",
    "    if not board:\n",
    "        return False\n",
    "    for i in xrange(len(board)):\n",
    "        for j in xrange(len(board[0])):\n",
    "            if self.dfs(board, i, j, word):\n",
    "                return True\n",
    "    return False\n",
    "# check whether can find word, start at (i,j) position    \n",
    "def dfs(self, board, i, j, word):\n",
    "    if len(word) == 0: # all the characters are checked\n",
    "        return True\n",
    "    if i<0 or i>=len(board) or j<0 or j>=len(board[0]) or word[0]!=board[i][j]:\n",
    "        return False\n",
    "    tmp = board[i][j]  # first character is found, check the remaining part\n",
    "    board[i][j] = \"#\"  # avoid visit agian \n",
    "    # check whether can find \"word\" along one direction\n",
    "    res = self.dfs(board, i+1, j, word[1:]) or self.dfs(board, i-1, j, word[1:]) \\\n",
    "    or self.dfs(board, i, j+1, word[1:]) or self.dfs(board, i, j-1, word[1:])\n",
    "    board[i][j] = tmp\n",
    "    return res"
   ]
  },
  {
   "cell_type": "markdown",
   "metadata": {
    "ExecuteTime": {
     "end_time": "2019-05-04T05:29:46.680597Z",
     "start_time": "2019-05-04T05:29:46.675611Z"
    }
   },
   "source": [
    "Given a sorted array nums, remove the duplicates in-place such that duplicates appeared at most twice and return the new length."
   ]
  },
  {
   "cell_type": "code",
   "execution_count": null,
   "metadata": {},
   "outputs": [],
   "source": [
    "def removeDuplicates(self, nums: List[int]) -> int:\n",
    "    if not nums:\n",
    "        return 0\n",
    "    times = 1\n",
    "    pop_times =0\n",
    "    begin = nums[0]\n",
    "    for i,item in enumerate(nums[1:]):\n",
    "        if item == begin:\n",
    "            times += 1\n",
    "            if times>2:\n",
    "                nums.pop(i-pop_times)\n",
    "                pop_times += 1\n",
    "                times =2\n",
    "        else:\n",
    "            begin = item\n",
    "            times = 1\n",
    "    return len(nums)"
   ]
  },
  {
   "cell_type": "markdown",
   "metadata": {},
   "source": [
    "Suppose an array sorted in ascending order is rotated at some pivot unknown to you beforehand.\n",
    "You are given a target value to search. If found in the array return true, otherwise return false."
   ]
  },
  {
   "cell_type": "code",
   "execution_count": null,
   "metadata": {},
   "outputs": [],
   "source": [
    "def search(nums, target):\n",
    "    if not nums:\n",
    "        return False\n",
    "    if target == nums[0]:\n",
    "        return True\n",
    "    elif target> nums[0]:\n",
    "        for i, item in enumerate(nums[1:]):\n",
    "            if item == target:\n",
    "                return True\n",
    "            if item<nums[i]:\n",
    "                break\n",
    "    else:\n",
    "        for i in range(len(nums)-1, 0, -1):\n",
    "            if nums[i] == target:\n",
    "                return True\n",
    "            if nums[i] < nums[i-1]:\n",
    "                break\n",
    "    return False"
   ]
  },
  {
   "cell_type": "markdown",
   "metadata": {},
   "source": [
    "Given n non-negative integers representing the histogram's bar height where the width of each bar is 1, find the area of largest rectangle in the histogram."
   ]
  },
  {
   "cell_type": "code",
   "execution_count": 4,
   "metadata": {
    "ExecuteTime": {
     "end_time": "2019-05-05T03:50:33.984376Z",
     "start_time": "2019-05-05T03:50:33.975402Z"
    }
   },
   "outputs": [
    {
     "data": {
      "text/plain": [
       "10"
      ]
     },
     "execution_count": 4,
     "metadata": {},
     "output_type": "execute_result"
    }
   ],
   "source": [
    "def largestRectangle(heights):\n",
    "    if not heights:\n",
    "            return 0\n",
    "        if len(heights)==1:\n",
    "            return heights[0]\n",
    "        mins=min(heights) # 如何找到最小值和最小值的索引需要改进，才可以使用递归\n",
    "        index = heights.index(mins)\n",
    "        return max([self.largestRectangleArea(heights[:index]),\n",
    "                    self.largestRectangleArea(heights[index+1:]), mins*len(heights)])\n",
    "largestRectangle([2,1,5,6,2,3])"
   ]
  },
  {
   "cell_type": "code",
   "execution_count": null,
   "metadata": {
    "ExecuteTime": {
     "end_time": "2019-05-05T03:46:35.179495Z",
     "start_time": "2019-05-05T03:46:35.174509Z"
    }
   },
   "outputs": [],
   "source": [
    "height.append(0)\n",
    "stack = [-1]\n",
    "ans = 0\n",
    "for i in range(len(height)):\n",
    "    while height[i] < height[stack[-1]]:\n",
    "        h = height[stack.pop()]\n",
    "        w = i - stack[-1] - 1\n",
    "        ans = max(ans, h * w)\n",
    "    stack.append(i)\n",
    "height.pop()\n",
    "return ans"
   ]
  },
  {
   "cell_type": "markdown",
   "metadata": {},
   "source": [
    "Given two sorted integer arrays nums1 and nums2, merge nums2 into nums1 as one sorted array.\n",
    "\n",
    "Note:\n",
    "The number of elements initialized in nums1 and nums2 are m and n respectively.\n",
    "You may assume that nums1 has enough space (size that is greater or equal to m + n) to hold additional elements from nums2."
   ]
  },
  {
   "cell_type": "code",
   "execution_count": 51,
   "metadata": {
    "ExecuteTime": {
     "end_time": "2019-05-05T05:32:17.214264Z",
     "start_time": "2019-05-05T05:32:17.206283Z"
    }
   },
   "outputs": [],
   "source": [
    "def merge(nums1, m, nums2, n):\n",
    "    l1, l2, end = m-1, n-1, m+n-1\n",
    "    while l1 >= 0 and l2 >= 0:\n",
    "        if nums2[l2] > nums1[l1]:\n",
    "            nums1[end] = nums2[l2]\n",
    "            l2 -= 1\n",
    "        else:\n",
    "            nums1[end] = nums1[l1]\n",
    "            l1 -= 1\n",
    "        end -= 1\n",
    "    if l1 < 0: # if nums2 left\n",
    "        nums1[:l2+1] = nums2[:l2+1]\n",
    "            \n",
    "nums1=[4,0,0,0,0,0]\n",
    "nums2=[1,2,3,5,6]\n",
    "merge(nums1, 1,nums2, 5)"
   ]
  },
  {
   "cell_type": "code",
   "execution_count": 61,
   "metadata": {
    "ExecuteTime": {
     "end_time": "2019-05-05T05:47:15.635042Z",
     "start_time": "2019-05-05T05:47:15.624071Z"
    }
   },
   "outputs": [
    {
     "name": "stdout",
     "output_type": "stream",
     "text": [
      "[[1]]\n",
      "[[2, 1], [1, 2]]\n",
      "[[3, 2, 1], [2, 3, 1], [2, 1, 3]]\n",
      "[[3, 1, 2], [1, 3, 2], [1, 2, 3]]\n"
     ]
    },
    {
     "data": {
      "text/plain": [
       "[[3, 2, 1], [2, 3, 1], [2, 1, 3], [3, 1, 2], [1, 3, 2], [1, 2, 3]]"
      ]
     },
     "execution_count": 61,
     "metadata": {},
     "output_type": "execute_result"
    }
   ],
   "source": [
    "def permute(nums):\n",
    "    if not nums:\n",
    "        return [[]]\n",
    "    item = nums[-1]\n",
    "    result = []\n",
    "    for i in permute(nums[:-1]):\n",
    "        cur = [i[:j]+[item]+i[j:] for j,_ in enumerate(i)] +[[*i, item]]\n",
    "        print(cur)\n",
    "        result.extend(cur)\n",
    "    return result\n",
    "permute([1,2,3])"
   ]
  },
  {
   "cell_type": "code",
   "execution_count": null,
   "metadata": {},
   "outputs": [],
   "source": [
    "def findMedianSortedArrays(self, A, B):\n",
    "    l = len(A) + len(B)\n",
    "    if l % 2 == 1:\n",
    "        return self.kth(A, B, l // 2)\n",
    "    else:\n",
    "        return (self.kth(A, B, l // 2) + self.kth(A, B, l // 2 - 1)) / 2.   \n",
    "    \n",
    "def kth(self, a, b, k):\n",
    "    if not a:\n",
    "        return b[k]\n",
    "    if not b:\n",
    "        return a[k]\n",
    "    ia, ib = len(a) // 2 , len(b) // 2\n",
    "    ma, mb = a[ia], b[ib]\n",
    "    \n",
    "    # when k is bigger than the sum of a and b's median indices \n",
    "    if ia + ib < k:\n",
    "        # if a's median is bigger than b's, b's first half doesn't include k\n",
    "        if ma > mb:\n",
    "            return self.kth(a, b[ib + 1:], k - ib - 1)\n",
    "        else:\n",
    "            return self.kth(a[ia + 1:], b, k - ia - 1)\n",
    "    # when k is smaller than the sum of a and b's indices\n",
    "    else:\n",
    "        # if a's median is bigger than b's, a's second half doesn't include k\n",
    "        if ma > mb:\n",
    "            return self.kth(a[:ia], b, k)\n",
    "        else:\n",
    "            return self.kth(a, b[:ib], k)"
   ]
  },
  {
   "cell_type": "markdown",
   "metadata": {},
   "source": [
    "Given a collection of integers that might contain duplicates, nums, return all possible subsets (the power set).\n",
    "\n",
    "Note: The solution set must not contain duplicate subsets."
   ]
  },
  {
   "cell_type": "code",
   "execution_count": 30,
   "metadata": {
    "ExecuteTime": {
     "end_time": "2019-05-07T05:24:09.243818Z",
     "start_time": "2019-05-07T05:24:07.388777Z"
    }
   },
   "outputs": [
    {
     "name": "stdout",
     "output_type": "stream",
     "text": [
      "19.8 µs ± 846 ns per loop (mean ± std. dev. of 7 runs, 10000 loops each)\n"
     ]
    }
   ],
   "source": [
    "def subsetWithDup(nums):\n",
    "    if not nums:\n",
    "        return [[]]\n",
    "    res = subsetWithDup(nums[:-1])\n",
    "    res2 = (sorted(item + [nums[-1]]) for item in res if sorted(item+[nums[-1]]) not in res)\n",
    "    return [*res, *res2]\n",
    "\n",
    "subsetWithDup([4,4,4,1,4])"
   ]
  },
  {
   "cell_type": "markdown",
   "metadata": {},
   "source": [
    "Given a non-negative integer numRows, generate the first numRows of Pascal's triangle.\n",
    "In Pascal's triangle, each number is the sum of the two numbers directly above it."
   ]
  },
  {
   "cell_type": "code",
   "execution_count": 37,
   "metadata": {
    "ExecuteTime": {
     "end_time": "2019-05-07T06:37:53.101911Z",
     "start_time": "2019-05-07T06:37:53.090942Z"
    }
   },
   "outputs": [
    {
     "data": {
      "text/plain": [
       "[[1], [1, 1], [1, 2, 1], [1, 3, 3, 1], [1, 4, 6, 4, 1]]"
      ]
     },
     "execution_count": 37,
     "metadata": {},
     "output_type": "execute_result"
    }
   ],
   "source": [
    "def pascal(numRows):\n",
    "    if not numRows:\n",
    "        return []\n",
    "    if numRows==1:\n",
    "        return [[1]]\n",
    "    if numRows==2:\n",
    "        return [[1],[1,1]]\n",
    "    res = self.generate(numRows-1)\n",
    "    last = res[-1]\n",
    "    result = (last[i-1] + item for i, item in enumerate(last[1:], start=1))\n",
    "    res.append([1,*result, 1])\n",
    "    return res"
   ]
  },
  {
   "cell_type": "code",
   "execution_count": 58,
   "metadata": {
    "ExecuteTime": {
     "end_time": "2019-05-07T10:22:36.394931Z",
     "start_time": "2019-05-07T10:22:36.387951Z"
    }
   },
   "outputs": [],
   "source": [
    "def C(i, n):\n",
    "    if i == 0:\n",
    "        return 1\n",
    "    res = 1\n",
    "    for j in range(1,i+1):\n",
    "        res *= (n-j+1)/j\n",
    "    return round(res)\n",
    "def getRows(rowIndex):\n",
    "    if rowIndex==0:\n",
    "        return [1]\n",
    "    index, l = divmod(rowIndex, 2)\n",
    "    if l==0:\n",
    "        g = [C(i,rowIndex) for i in range(index)]\n",
    "        return [*g, C(index, rowIndex), *reversed(g)]\n",
    "    else:\n",
    "        g = [C(i,rowIndex) for i in range(index+1)]\n",
    "        return [*g, *reversed(g)]              "
   ]
  },
  {
   "cell_type": "markdown",
   "metadata": {},
   "source": [
    "Given a triangle, find the minimum path sum from top to bottom. Each step you may move to adjacent numbers on the row below."
   ]
  },
  {
   "cell_type": "code",
   "execution_count": 63,
   "metadata": {
    "ExecuteTime": {
     "end_time": "2019-05-07T10:41:26.555096Z",
     "start_time": "2019-05-07T10:41:26.547112Z"
    }
   },
   "outputs": [
    {
     "data": {
      "text/plain": [
       "2"
      ]
     },
     "execution_count": 63,
     "metadata": {},
     "output_type": "execute_result"
    }
   ],
   "source": [
    "def minmumTotal(triangle):\n",
    "    if not triangle:\n",
    "        return 0\n",
    "    for j,items in enumerate(triangle[1:], start=1):\n",
    "        for i, item in enumerate(items):\n",
    "            if i-1>=0:\n",
    "                if i<=len(triangle[j-1])-1:\n",
    "                    triangle[j][i] = min([item+triangle[j-1][i-1], item+triangle[j-1][i]])\n",
    "                else:\n",
    "                    triangle[j][i]=item+triangle[j-1][i-1]\n",
    "            else:\n",
    "                triangle[j][i]=item+triangle[j-1][i]\n",
    "    return min(triangle[-1])"
   ]
  },
  {
   "cell_type": "code",
   "execution_count": null,
   "metadata": {},
   "outputs": [],
   "source": []
  }
 ],
 "metadata": {
  "kernelspec": {
   "display_name": "Python 3",
   "language": "python",
   "name": "python3"
  },
  "language_info": {
   "codemirror_mode": {
    "name": "ipython",
    "version": 3
   },
   "file_extension": ".py",
   "mimetype": "text/x-python",
   "name": "python",
   "nbconvert_exporter": "python",
   "pygments_lexer": "ipython3",
   "version": "3.6.5"
  },
  "toc": {
   "base_numbering": 1,
   "nav_menu": {},
   "number_sections": true,
   "sideBar": true,
   "skip_h1_title": false,
   "title_cell": "Table of Contents",
   "title_sidebar": "Contents",
   "toc_cell": false,
   "toc_position": {},
   "toc_section_display": true,
   "toc_window_display": false
  },
  "varInspector": {
   "cols": {
    "lenName": 16,
    "lenType": 16,
    "lenVar": 40
   },
   "kernels_config": {
    "python": {
     "delete_cmd_postfix": "",
     "delete_cmd_prefix": "del ",
     "library": "var_list.py",
     "varRefreshCmd": "print(var_dic_list())"
    },
    "r": {
     "delete_cmd_postfix": ") ",
     "delete_cmd_prefix": "rm(",
     "library": "var_list.r",
     "varRefreshCmd": "cat(var_dic_list()) "
    }
   },
   "types_to_exclude": [
    "module",
    "function",
    "builtin_function_or_method",
    "instance",
    "_Feature"
   ],
   "window_display": false
  }
 },
 "nbformat": 4,
 "nbformat_minor": 2
}
