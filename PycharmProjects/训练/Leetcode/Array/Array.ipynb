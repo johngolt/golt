{
 "cells": [
  {
   "cell_type": "markdown",
   "metadata": {},
   "source": [
    "Given a collection of intervals, merge all overlapping intervals."
   ]
  },
  {
   "cell_type": "code",
   "execution_count": 8,
   "metadata": {
    "ExecuteTime": {
     "end_time": "2019-05-02T05:31:22.800797Z",
     "start_time": "2019-05-02T05:31:22.792678Z"
    }
   },
   "outputs": [],
   "source": [
    "def merge(intervals):\n",
    "    sorted_intervals = sorted(intervals, key = lambda x:x[0])\n",
    "    result = [sorted_intervals[0]]\n",
    "    for i, item in enumerate(sorted_intervals[1:]):\n",
    "        if item[0]<= result[-1][1]:\n",
    "            result[-1]=[result[-1][0], max(item[1], result[-1][1])]\n",
    "        else:\n",
    "            result.append(item)\n",
    "    return result        "
   ]
  },
  {
   "cell_type": "markdown",
   "metadata": {
    "ExecuteTime": {
     "end_time": "2019-05-02T05:31:23.453932Z",
     "start_time": "2019-05-02T05:31:23.446951Z"
    }
   },
   "source": [
    "Given a set of non-overlapping intervals, insert a new interval into the intervals (merge if necessary)."
   ]
  },
  {
   "cell_type": "code",
   "execution_count": 31,
   "metadata": {
    "ExecuteTime": {
     "end_time": "2019-05-02T06:19:38.251143Z",
     "start_time": "2019-05-02T06:19:38.238177Z"
    }
   },
   "outputs": [
    {
     "data": {
      "text/plain": [
       "[[1, 2], [3, 10], [12, 16]]"
      ]
     },
     "execution_count": 31,
     "metadata": {},
     "output_type": "execute_result"
    }
   ],
   "source": [
    "def insert(intervals, newInterval):\n",
    "    if not intervals:\n",
    "        return [newInterval]\n",
    "    if not newInterval:\n",
    "        return intervals\n",
    "    intervals.insert(0, [float('-inf'), float('-inf')])\n",
    "    intervals.append([float('inf'), float('inf')])\n",
    "    for i, item in enumerate(intervals[:-1]):\n",
    "        if item[0] <= newInterval[0] and intervals[i+1][0]>= newInterval[0]:\n",
    "            intervals.insert(i+1, newInterval)\n",
    "    intervals = intervals[1:-1]\n",
    "    result = [intervals[0]]\n",
    "    for item in intervals[1:]:\n",
    "        if item[0]<= result[-1][1]:\n",
    "            result[-1]=[result[-1][0], max(item[1], result[-1][1])]\n",
    "        else:\n",
    "            result.append(item)\n",
    "    return result"
   ]
  },
  {
   "cell_type": "markdown",
   "metadata": {
    "ExecuteTime": {
     "end_time": "2019-05-02T05:57:41.910081Z",
     "start_time": "2019-05-02T05:57:41.905096Z"
    }
   },
   "source": [
    "Given a positive integer n, generate a square matrix filled with elements from 1 to n2 in spiral order."
   ]
  },
  {
   "cell_type": "code",
   "execution_count": 55,
   "metadata": {
    "ExecuteTime": {
     "end_time": "2019-05-02T06:55:46.871931Z",
     "start_time": "2019-05-02T06:55:46.864950Z"
    }
   },
   "outputs": [],
   "source": [
    "def generateMatrix(n):\n",
    "    if n == 1:\n",
    "        return [[1]]\n",
    "    if not n:\n",
    "        return []\n",
    "    x = 4 *n -4\n",
    "    list1 = list(range(1, n+1))\n",
    "    list2 = list(range(n+1, 2*n -1))\n",
    "    list3 = list(reversed(range(2*n-1, 3*n -1)))\n",
    "    list4 = list(reversed(range(3*n -1, 4*n -3)))\n",
    "    result = generateMatrix(n-2)\n",
    "    for i, items in enumerate(result):\n",
    "        for j, item in enumerate(items):\n",
    "            result[i][j] += x\n",
    "    print(result)\n",
    "    res = [[i] + item +[j] for i, item, j in zip(list4, result, list2)]\n",
    "    res.insert(0, list1)\n",
    "    res.append(list3)\n",
    "    return res"
   ]
  },
  {
   "cell_type": "code",
   "execution_count": 62,
   "metadata": {
    "ExecuteTime": {
     "end_time": "2019-05-02T07:00:27.282651Z",
     "start_time": "2019-05-02T07:00:27.271684Z"
    }
   },
   "outputs": [
    {
     "data": {
      "text/plain": [
       "[[1, 2, 3, 4], [12, 13, 14, 5], [11, 16, 15, 6], [10, 9, 8, 7]]"
      ]
     },
     "execution_count": 62,
     "metadata": {},
     "output_type": "execute_result"
    }
   ],
   "source": [
    "def gene(n):\n",
    "    res = [[0 for _ in range(n)] for _ in range(n)]\n",
    "    dirs = [(0, 1), (1, 0), (0, -1), (-1, 0)]\n",
    "    cur_dir = 0\n",
    "    x, y = 0, 0\n",
    "    for i in range(n * n):\n",
    "        res[x][y] = i + 1\n",
    "        next_x, next_y = x + dirs[cur_dir][0], y + dirs[cur_dir][1]\n",
    "        if next_x >= n or next_y >= n or res[next_x][next_y]:\n",
    "            cur_dir = (cur_dir + 1) % 4\n",
    "        x, y = x + dir[cur_dir][0], y + dir[cur_dir][1]\n",
    "    return res\n",
    "gene(4)"
   ]
  },
  {
   "cell_type": "code",
   "execution_count": 82,
   "metadata": {
    "ExecuteTime": {
     "end_time": "2019-05-02T07:33:17.832444Z",
     "start_time": "2019-05-02T07:33:17.824466Z"
    }
   },
   "outputs": [
    {
     "data": {
      "text/plain": [
       "48620"
      ]
     },
     "execution_count": 82,
     "metadata": {},
     "output_type": "execute_result"
    }
   ],
   "source": [
    "def uniquePaths(m, n):\n",
    "    res = 1\n",
    "    for i in range(n, m+n-1):\n",
    "        res *= i/(i-n+1)\n",
    "    return round(res)\n",
    "uniquePaths(10,10)"
   ]
  },
  {
   "cell_type": "code",
   "execution_count": 91,
   "metadata": {
    "ExecuteTime": {
     "end_time": "2019-05-02T12:56:41.154238Z",
     "start_time": "2019-05-02T12:56:41.147257Z"
    }
   },
   "outputs": [],
   "source": [
    "# 双栈实现队列\n",
    "class Queue:\n",
    "    def __init__(self):\n",
    "        self.InStack = []\n",
    "        self.OutStack = []\n",
    "    def put(self, items):\n",
    "        if isinstance(items, list):\n",
    "            self.InStack.extend(items)\n",
    "        else:\n",
    "            self.InStack.append(items)\n",
    "    def pop(self):\n",
    "        if self.OutStack:\n",
    "            return self.OutStack.pop(-1)\n",
    "        else:\n",
    "            if self.InStack:\n",
    "                self.OutStack.extend(list(reversed(self.InStack)))\n",
    "                self.InStack = []\n",
    "                return self.OutStack.pop(-1)\n",
    "            else:\n",
    "                return 'empty'\n",
    "queue = Queue()\n",
    "queue.put([1,2,3])"
   ]
  },
  {
   "cell_type": "code",
   "execution_count": 107,
   "metadata": {
    "ExecuteTime": {
     "end_time": "2019-05-02T13:48:55.804513Z",
     "start_time": "2019-05-02T13:48:55.795535Z"
    }
   },
   "outputs": [
    {
     "data": {
      "text/plain": [
       "[4, 1, 3, 2, 4, 7, 6, 8]"
      ]
     },
     "execution_count": 107,
     "metadata": {},
     "output_type": "execute_result"
    }
   ],
   "source": [
    "nums = [4,1,8,2,4,7,6,3]\n",
    "i, j = 1, len(nums)-1\n",
    "flag1, flag2 = 0, 0\n",
    "while i < j:\n",
    "    if nums[i] < nums[0]:\n",
    "        i +=1\n",
    "    else:\n",
    "        flag1 = 1\n",
    "    if nums[j] > nums[0]:\n",
    "        j -= 1\n",
    "    else: \n",
    "        flag2 = 1\n",
    "    if flag1 and flag2:\n",
    "        nums[i], nums[j] = nums[j], nums[i]\n",
    "nums"
   ]
  },
  {
   "cell_type": "markdown",
   "metadata": {},
   "source": [
    "Given a m x n grid filled with non-negative numbers, find a path from top left to bottom right which minimizes the sum of all numbers along its path."
   ]
  },
  {
   "cell_type": "code",
   "execution_count": 5,
   "metadata": {
    "ExecuteTime": {
     "end_time": "2019-05-03T03:40:40.672851Z",
     "start_time": "2019-05-03T03:39:57.510238Z"
    }
   },
   "outputs": [
    {
     "data": {
      "text/plain": [
       "85"
      ]
     },
     "execution_count": 5,
     "metadata": {},
     "output_type": "execute_result"
    }
   ],
   "source": [
    "def minPathSum(grid):  # 如何将之前的计算结果保存，避免重复计算。\n",
    "    if len(grid) == 2:\n",
    "        return sum(sum(grid, []))\n",
    "    if len(grid[0]) == 1:\n",
    "        return sum(sum(grid, []))\n",
    "    return min(minPathSum(grid[:-1]), minPathSum([item[:-1] for item in grid]))+grid[-1][-1]\n",
    "\n",
    "def SumPath(grid): \n",
    "    m = len(grid)\n",
    "    n = len(grid[0])\n",
    "    for i in range(1, n):\n",
    "        grid[0][i] += grid[0][i-1]\n",
    "    for i in range(1, m):\n",
    "        grid[i][0] += grid[i-1][0]\n",
    "    for i in range(1, m):\n",
    "        for j in range(1, n):\n",
    "            grid[i][j] += min(grid[i-1][j], grid[i][j-1])\n",
    "    return grid[-1][-1]\n",
    "def minPathSum(grid):\n",
    "    m, n = len(grid), len(grid[0])\n",
    "    dp = [0] * n\n",
    "    for i in range(m):\n",
    "        dp[0] += grid[i][0]\n",
    "        for j in range(1, n):\n",
    "            dp[j] = (min(dp[j], dp[j-1]) or dp[j-1]) + grid[i][j]\n",
    "        print(dp)\n",
    "    return dp[-1]\n",
    "minPathSum([[1,2,5],[3,2,1]])"
   ]
  },
  {
   "cell_type": "markdown",
   "metadata": {},
   "source": [
    "Given a non-empty array of digits representing a non-negative integer, plus one to the integer.\n",
    "The digits are stored such that the most significant digit is at the head of the list, and each element in the array contain a single digit."
   ]
  },
  {
   "cell_type": "code",
   "execution_count": 12,
   "metadata": {
    "ExecuteTime": {
     "end_time": "2019-05-03T04:12:27.887191Z",
     "start_time": "2019-05-03T04:12:27.878213Z"
    }
   },
   "outputs": [
    {
     "data": {
      "text/plain": [
       "[9, 9]"
      ]
     },
     "execution_count": 12,
     "metadata": {},
     "output_type": "execute_result"
    }
   ],
   "source": [
    "def Plusone(digits):\n",
    "    div, mod= 0, 0\n",
    "    digits[-1] = digits[-1] + 1\n",
    "    for i, item in enumerate(reversed(digits), 1):\n",
    "        div, mod = divmod(item+div, 10)\n",
    "        digits[-i] = mod\n",
    "    if div ==1:\n",
    "        digits.insert(0, 1)"
   ]
  },
  {
   "cell_type": "markdown",
   "metadata": {},
   "source": [
    "Given a m x n matrix, if an element is 0, set its entire row and column to 0. Do it in-place."
   ]
  },
  {
   "cell_type": "code",
   "execution_count": 22,
   "metadata": {
    "ExecuteTime": {
     "end_time": "2019-05-03T04:39:38.561665Z",
     "start_time": "2019-05-03T04:39:38.551690Z"
    }
   },
   "outputs": [
    {
     "data": {
      "text/plain": [
       "[[0, 0, 0, 0], [0, 0, 0, 4], [0, 0, 0, 0], [0, 0, 0, 3], [0, 0, 0, 0]]"
      ]
     },
     "execution_count": 22,
     "metadata": {},
     "output_type": "execute_result"
    }
   ],
   "source": [
    "def setZeros(matrix):\n",
    "    used_j, used_i = set(), set()\n",
    "    for i, items in enumerate(matrix):\n",
    "        for j, item in enumerate(items):\n",
    "            if item ==0:\n",
    "                used_j.add(j)\n",
    "                used_i.add(i)\n",
    "    for i in used_i:\n",
    "        for j in range(len(matrix[0])):\n",
    "            matrix[i][j] = 0 \n",
    "    for j in used_j:\n",
    "        for i in range(len(matrix)):\n",
    "            matrix[i][j]=0\n",
    "    return matrix\n",
    "setZeros([[0,0,0,5],[4,3,1,4],[0,1,1,4],[1,2,1,3],[0,0,1,1]])"
   ]
  },
  {
   "cell_type": "markdown",
   "metadata": {},
   "source": [
    "Write an efficient algorithm that searches for a value in an m x n matrix. This matrix has the following properties:Integers in each row are sorted from left to right.The first integer of each row is greater than the last integer of the previous row."
   ]
  },
  {
   "cell_type": "code",
   "execution_count": 49,
   "metadata": {
    "ExecuteTime": {
     "end_time": "2019-05-03T06:00:00.336084Z",
     "start_time": "2019-05-03T05:59:58.156839Z"
    }
   },
   "outputs": [
    {
     "name": "stdout",
     "output_type": "stream",
     "text": [
      "2.62 µs ± 149 ns per loop (mean ± std. dev. of 7 runs, 100000 loops each)\n"
     ]
    }
   ],
   "source": [
    "def Bisearch(array, key = lambda x:x):\n",
    "    i, j = 0, len(array)-1\n",
    "    while i <=j:\n",
    "        mid = (i+j)//2\n",
    "        if target == key(array[mid]):\n",
    "            return True, mid\n",
    "        elif target > key(array[mid]):\n",
    "            i = mid +1\n",
    "        else:\n",
    "            j = mid -1\n",
    "    return False, j\n",
    "def searchMatrix(matrix, target):\n",
    "    if not matrix:\n",
    "        return False\n",
    "    if not matrix[0]:\n",
    "        return False\n",
    "    bools, j = Bisearch(matrix, key = lambda x:x[0])\n",
    "    if bools:\n",
    "        return bools\n",
    "    if j<0:\n",
    "        return False\n",
    "    bools, _ = Bisearch(matrix[j])\n",
    "    return bools\n",
    "matrix = [[1,3,5,7],[10,11,16,20],[23,30,34,50]]\n",
    "target = 3\n",
    "searchMatrix(matrix, target)        "
   ]
  },
  {
   "cell_type": "markdown",
   "metadata": {},
   "source": [
    "Given an array with n objects colored red, white or blue, sort them in-place so that objects of the same color are adjacent, with the colors in the order red, white and blue.\n",
    "\n",
    "Here, we will use the integers 0, 1, and 2 to represent the color red, white, and blue respectively."
   ]
  },
  {
   "cell_type": "code",
   "execution_count": 36,
   "metadata": {
    "ExecuteTime": {
     "end_time": "2019-05-04T04:14:35.753755Z",
     "start_time": "2019-05-04T04:14:35.748768Z"
    }
   },
   "outputs": [],
   "source": [
    "def sortColor(nums):\n",
    "    index=0\n",
    "    for i, item in enumerate(nums):\n",
    "        if item <2:\n",
    "            if item ==0:\n",
    "                del nums[i]\n",
    "                nums.insert(0, item)\n",
    "            else:\n",
    "                del nums[i]\n",
    "                nums.insert(index, item)\n",
    "            index += 1\n",
    "nums=[2,0,1]\n",
    "sortColor(nums)"
   ]
  },
  {
   "cell_type": "code",
   "execution_count": 37,
   "metadata": {
    "ExecuteTime": {
     "end_time": "2019-05-04T04:14:36.342709Z",
     "start_time": "2019-05-04T04:14:36.335728Z"
    }
   },
   "outputs": [
    {
     "data": {
      "text/plain": [
       "[0, 1, 2]"
      ]
     },
     "execution_count": 37,
     "metadata": {},
     "output_type": "execute_result"
    }
   ],
   "source": [
    "nums"
   ]
  },
  {
   "cell_type": "code",
   "execution_count": null,
   "metadata": {},
   "outputs": [],
   "source": []
  }
 ],
 "metadata": {
  "kernelspec": {
   "display_name": "Python 3",
   "language": "python",
   "name": "python3"
  },
  "language_info": {
   "codemirror_mode": {
    "name": "ipython",
    "version": 3
   },
   "file_extension": ".py",
   "mimetype": "text/x-python",
   "name": "python",
   "nbconvert_exporter": "python",
   "pygments_lexer": "ipython3",
   "version": "3.6.5"
  },
  "toc": {
   "base_numbering": 1,
   "nav_menu": {},
   "number_sections": true,
   "sideBar": true,
   "skip_h1_title": false,
   "title_cell": "Table of Contents",
   "title_sidebar": "Contents",
   "toc_cell": false,
   "toc_position": {},
   "toc_section_display": true,
   "toc_window_display": false
  },
  "varInspector": {
   "cols": {
    "lenName": 16,
    "lenType": 16,
    "lenVar": 40
   },
   "kernels_config": {
    "python": {
     "delete_cmd_postfix": "",
     "delete_cmd_prefix": "del ",
     "library": "var_list.py",
     "varRefreshCmd": "print(var_dic_list())"
    },
    "r": {
     "delete_cmd_postfix": ") ",
     "delete_cmd_prefix": "rm(",
     "library": "var_list.r",
     "varRefreshCmd": "cat(var_dic_list()) "
    }
   },
   "types_to_exclude": [
    "module",
    "function",
    "builtin_function_or_method",
    "instance",
    "_Feature"
   ],
   "window_display": false
  }
 },
 "nbformat": 4,
 "nbformat_minor": 2
}
