{
 "cells": [
  {
   "cell_type": "code",
   "execution_count": 2,
   "metadata": {
    "ExecuteTime": {
     "end_time": "2020-01-16T07:15:53.297178Z",
     "start_time": "2020-01-16T07:15:53.283218Z"
    }
   },
   "outputs": [],
   "source": [
    "class Node:\n",
    "    def __init__(self, data=None):\n",
    "        self.data = data\n",
    "        self.next = None\n",
    "\n",
    "class CircularList:\n",
    "    def __init__(self, data=None):\n",
    "        self.head = None\n",
    "        self.tail = None\n",
    "        self.size = 0\n",
    "\n",
    "    def clear(self):\n",
    "        self.tail = None\n",
    "        self.head = None\n",
    "\n",
    "    def append(self, data):\n",
    "        node = Node(data)\n",
    "        if self.head:\n",
    "            self.head.next = node\n",
    "            self.head = node\n",
    "        else:\n",
    "            self.head = node\n",
    "            self.tail = node\n",
    "        self.head.next = self.tail\n",
    "        self.size += 1\n",
    "\n",
    "    def delete(self, data):\n",
    "        current = self.tail\n",
    "        prev = self.tail\n",
    "        while prev == current or prev != self.head:\n",
    "            if current.data == data:\n",
    "                if current == self.tail:\n",
    "                    self.tail = current.next\n",
    "                    self.head.next = self.tail\n",
    "                else:\n",
    "                    prev.next = current.next\n",
    "                self.size -= 1\n",
    "                return\n",
    "            prev = current\n",
    "            current = current.next\n",
    "\n",
    "    def iter(self):\n",
    "        current = self.tail\n",
    "        while current:\n",
    "            val = current.data\n",
    "            current = current.next\n",
    "            yield val\n",
    "\n",
    "words = CircularList()\n",
    "words.append('eggs')\n",
    "words.append('ham')\n",
    "words.append('spam')"
   ]
  },
  {
   "cell_type": "code",
   "execution_count": null,
   "metadata": {},
   "outputs": [],
   "source": [
    "from random import randint\n",
    "\n",
    "class Node(object):\n",
    "    \"\"\" A Doubly-linked lists' node. \"\"\"\n",
    "    def __init__(self, data=None, next_=None, prev=None):\n",
    "        self.data = data\n",
    "        self.next = next_\n",
    "        self.prev = prev\n",
    "\n",
    "\n",
    "class Queue(object):\n",
    "    \"\"\" A doubly-linked list. \"\"\"\n",
    "    def __init__(self):\n",
    "        self.head = None\n",
    "        self.tail = None\n",
    "        self.count = 0\n",
    "\n",
    "    def enqueue(self, data):\n",
    "        \"\"\" Append an item to the list. \"\"\"\n",
    "\n",
    "        new_node = Node(data, None, None)\n",
    "        if self.head is None:\n",
    "            self.head = new_node\n",
    "            self.tail = self.head\n",
    "        else:\n",
    "            new_node.prev = self.tail\n",
    "            self.tail.next = new_node\n",
    "            self.tail = new_node\n",
    "\n",
    "        self.count += 1\n",
    "\n",
    "    def dequeue(self):\n",
    "        \"\"\" Remove elements from the front of the list\"\"\"\n",
    "        current = self.head\n",
    "        if self.count == 1:\n",
    "            self.count -= 1\n",
    "            self.head = None\n",
    "            self.tail = None\n",
    "        elif self.count > 1:\n",
    "            self.head = self.head.next\n",
    "            self.head.prev = None\n",
    "            self.count -= 1\n",
    "        return current\n",
    "  "
   ]
  },
  {
   "cell_type": "code",
   "execution_count": 3,
   "metadata": {
    "ExecuteTime": {
     "end_time": "2020-01-16T07:37:02.286244Z",
     "start_time": "2020-01-16T07:37:02.277267Z"
    }
   },
   "outputs": [],
   "source": [
    "class Stack:\n",
    "    def __init__(self):\n",
    "        self.elements = []\n",
    "    def push(self, item):\n",
    "        self.elements.append(item)\n",
    "    def pop(self):\n",
    "        return self.elements.pop()\n",
    "class Queue:\n",
    "    '''用栈实现队列'''\n",
    "    def __init__(self):\n",
    "        self.inbound_stack = []\n",
    "        self.outbound_stack = []\n",
    "\n",
    "    def dequeue(self):\n",
    "        if not self.outbound_stack:\n",
    "            while self.inbound_stack:\n",
    "                self.outbound_stack.append(self.inbound_stack.pop())\n",
    "        return self.outbound_stack.pop()\n",
    "\n",
    "    def enqueue(self, data):\n",
    "        self.inbound_stack.append(data)\n",
    "        "
   ]
  },
  {
   "cell_type": "code",
   "execution_count": 16,
   "metadata": {
    "ExecuteTime": {
     "end_time": "2020-01-16T07:48:27.781448Z",
     "start_time": "2020-01-16T07:48:27.768483Z"
    }
   },
   "outputs": [
    {
     "name": "stdout",
     "output_type": "stream",
     "text": [
      "18\n"
     ]
    }
   ],
   "source": [
    "class TreeNode:\n",
    "    def __init__(self, data=None):\n",
    "        self.data = data\n",
    "        self.right = None\n",
    "        self.left = None\n",
    "\n",
    "def calc1(node):\n",
    "    mapping = {'+':operator.add, '-':operator.sub,\n",
    "              '*':operator.mul, '/':operator.truediv}\n",
    "    d = mapping.get(node.data)\n",
    "    if d is None:\n",
    "        return node.data\n",
    "    else:\n",
    "        return d(calc1(node.left), calc1(node.right))\n",
    "\n",
    "expr = \"4 5 + 5 3 - *\".split()\n",
    "stack = Stack()\n",
    "\n",
    "for term in expr:\n",
    "    if term in \"+-*/\":\n",
    "        node = TreeNode(term)\n",
    "        node.right = stack.pop()\n",
    "        node.left = stack.pop()\n",
    "    else:\n",
    "        node = TreeNode(int(term))\n",
    "    stack.push(node)\n",
    "\n",
    "root = stack.pop()\n",
    "result = calc1(root)\n",
    "print(result)"
   ]
  },
  {
   "cell_type": "code",
   "execution_count": 9,
   "metadata": {
    "ExecuteTime": {
     "end_time": "2020-01-16T07:42:27.919102Z",
     "start_time": "2020-01-16T07:42:27.915115Z"
    }
   },
   "outputs": [],
   "source": [
    "import operator"
   ]
  },
  {
   "cell_type": "code",
   "execution_count": 15,
   "metadata": {
    "ExecuteTime": {
     "end_time": "2020-01-16T07:48:21.232808Z",
     "start_time": "2020-01-16T07:48:21.227826Z"
    }
   },
   "outputs": [
    {
     "data": {
      "text/plain": [
       "-2"
      ]
     },
     "execution_count": 15,
     "metadata": {},
     "output_type": "execute_result"
    }
   ],
   "source": [
    "operator.sub(3,5)"
   ]
  },
  {
   "cell_type": "code",
   "execution_count": null,
   "metadata": {},
   "outputs": [],
   "source": []
  }
 ],
 "metadata": {
  "kernelspec": {
   "display_name": "Python 3",
   "language": "python",
   "name": "python3"
  },
  "language_info": {
   "codemirror_mode": {
    "name": "ipython",
    "version": 3
   },
   "file_extension": ".py",
   "mimetype": "text/x-python",
   "name": "python",
   "nbconvert_exporter": "python",
   "pygments_lexer": "ipython3",
   "version": "3.7.4"
  },
  "toc": {
   "base_numbering": 1,
   "nav_menu": {},
   "number_sections": true,
   "sideBar": true,
   "skip_h1_title": false,
   "title_cell": "Table of Contents",
   "title_sidebar": "Contents",
   "toc_cell": false,
   "toc_position": {},
   "toc_section_display": true,
   "toc_window_display": false
  },
  "varInspector": {
   "cols": {
    "lenName": 16,
    "lenType": 16,
    "lenVar": 40
   },
   "kernels_config": {
    "python": {
     "delete_cmd_postfix": "",
     "delete_cmd_prefix": "del ",
     "library": "var_list.py",
     "varRefreshCmd": "print(var_dic_list())"
    },
    "r": {
     "delete_cmd_postfix": ") ",
     "delete_cmd_prefix": "rm(",
     "library": "var_list.r",
     "varRefreshCmd": "cat(var_dic_list()) "
    }
   },
   "types_to_exclude": [
    "module",
    "function",
    "builtin_function_or_method",
    "instance",
    "_Feature"
   ],
   "window_display": false
  }
 },
 "nbformat": 4,
 "nbformat_minor": 2
}
