{
 "cells": [
  {
   "cell_type": "markdown",
   "metadata": {},
   "source": [
    "## 单项链表\n",
    "### 用链表实现栈"
   ]
  },
  {
   "cell_type": "code",
   "execution_count": null,
   "metadata": {},
   "outputs": [],
   "source": [
    "class Empty(Exception):\n",
    "    pass\n",
    "class LinkedStack:\n",
    "    class _Node:\n",
    "        __slots__ = '_element', '_next'\n",
    "        def __init__(self, element, nexts):\n",
    "            self._element = element\n",
    "            self._next = nexts\n",
    "    def __init__(self):\n",
    "        self._head = None\n",
    "        self._size = 0\n",
    "    def __len__(self):\n",
    "        return self._size\n",
    "    def is_empty(self):\n",
    "        return self._size == 0\n",
    "    def push(self, e):\n",
    "        self._head = self._Node(e, self._head)\n",
    "        self._size += 1\n",
    "    def top(self):\n",
    "        if self.is_empty():\n",
    "            raise Empty('Stack is Empty')\n",
    "        return self._head._element\n",
    "    def pop(self):\n",
    "        if self.is_empty():\n",
    "            raise Empty('Stack is Empty')\n",
    "        answer = self._head._element\n",
    "        self._head = self._head._next\n",
    "        self._size -= 1\n",
    "        return answer"
   ]
  },
  {
   "cell_type": "markdown",
   "metadata": {},
   "source": [
    "### 用单链表实现队列"
   ]
  },
  {
   "cell_type": "code",
   "execution_count": null,
   "metadata": {},
   "outputs": [],
   "source": [
    "class LinkQueue:\n",
    "    class _Node:\n",
    "        __slots__ = '_element', '_next'\n",
    "        def __init__(self, element, nexts):\n",
    "            self._element = element\n",
    "            self._next = nexts\n",
    "    def __init__(self):\n",
    "        self._head = None\n",
    "        self._tail = None\n",
    "        self._size = 0\n",
    "    def __len__(self):\n",
    "        return self._size\n",
    "    def is_empty(self):\n",
    "        return self._size += 1\n",
    "    def first(self):\n",
    "        if self.is_empty():\n",
    "            raise Empty('Queue is empty')\n",
    "        return self._head._element\n",
    "    def dequeue(self):\n",
    "        if self.is_empty():\n",
    "            raise Empty('Queue is empty')\n",
    "        answer = self._head._element\n",
    "        self._head = self._head._next\n",
    "        self._size -= 1\n",
    "        if self.is_empty():\n",
    "            self._tail = None\n",
    "        return answer\n",
    "    def enqueue(self, e):\n",
    "        newest = self._Node(e, None)\n",
    "        if self.is_empty():\n",
    "            self._head = newest\n",
    "        else:\n",
    "            self._tail._next = newest\n",
    "        self._tail = newest\n",
    "        self._size += 1"
   ]
  },
  {
   "cell_type": "markdown",
   "metadata": {},
   "source": [
    "## 循环链表\n",
    "### 循环链表实现队列"
   ]
  },
  {
   "cell_type": "code",
   "execution_count": null,
   "metadata": {},
   "outputs": [],
   "source": [
    "class CircularQueue:\n",
    "    class _Node:\n",
    "        __slots__ = '_element', '_next'\n",
    "        def __init__(self, element, nexts):\n",
    "            self._element = element\n",
    "            self._next = nexts\n",
    "    def __init__(self):\n",
    "        self._tail = None\n",
    "        self._size = 0\n",
    "    def __len__(self):\n",
    "        return self._size\n",
    "    def is_empty(self):\n",
    "        return self._size == 0\n",
    "    def first(self):\n",
    "        if self.is_empty():\n",
    "            raise Empty('Queue is empty')\n",
    "        head = self._tail._next\n",
    "        return head._element\n",
    "    def  dequeue(self):\n",
    "        if self.is_empty():\n",
    "            raise Empty('Queue is empty')\n",
    "        oldhead = self._tail._next\n",
    "        if self._size == 1:\n",
    "            self._tail = None\n",
    "        else:\n",
    "            self._tail._next = oldhead._next\n",
    "        self._size -= 1\n",
    "        return oldhead._element\n",
    "    def enqueue(self, e):\n",
    "        newest = self._Node(e, None)\n",
    "        if self.is_empty():\n",
    "            newest._next = newest\n",
    "        else:\n",
    "            newest._next = self._tail._next\n",
    "            self._tail._next = newest\n",
    "        self._tail = newest\n",
    "        self._size += 1\n",
    "    def rotate(self):\n",
    "        if self._size > 0:\n",
    "            self._tail = self._tail._next\n",
    "            "
   ]
  },
  {
   "cell_type": "markdown",
   "metadata": {},
   "source": [
    "## 双向链表\n",
    "### 双向链表基本实现"
   ]
  },
  {
   "cell_type": "code",
   "execution_count": 1,
   "metadata": {
    "ExecuteTime": {
     "end_time": "2018-12-27T11:14:20.839888Z",
     "start_time": "2018-12-27T11:14:20.825925Z"
    }
   },
   "outputs": [],
   "source": [
    "class _DoublyLinkedBase:\n",
    "    class _Node:\n",
    "        __slots__ = '_element', '_prev', '_next'\n",
    "        def __init__(self, element, prev, nexts):\n",
    "            self._element = element\n",
    "            self._prev = prev\n",
    "            self._next = nexts\n",
    "    def __init__(self):\n",
    "        self._header = self._Node(None, None, None)\n",
    "        self._tailer = self._Node(None, None, None)\n",
    "        self._header._next = self._tailer\n",
    "        self._taliler._prev = self._header\n",
    "        self._size = 0\n",
    "    def __len__(self):\n",
    "        return self._size\n",
    "    def is_empty(self):\n",
    "        return self._size == 0\n",
    "    def _insert_between(self, e, predecessor, sucessor):\n",
    "        newest = self._Node(e, predecessor, sucessor)\n",
    "        predecessor._next = newest\n",
    "        sucessor._prev = newest\n",
    "        self._size += 1\n",
    "        return newest\n",
    "    def _delete_node(self, node):\n",
    "        predecessor = node._prev\n",
    "        sucessor = node._next\n",
    "        predecessor._next = sucessor\n",
    "        sucessor._prev = predecessor\n",
    "        self._size -= 1\n",
    "        element = node._element\n",
    "        node._prev = node_next = node_element = None\n",
    "        return element"
   ]
  },
  {
   "cell_type": "markdown",
   "metadata": {},
   "source": [
    "### 双向链表实现双端队列"
   ]
  },
  {
   "cell_type": "code",
   "execution_count": null,
   "metadata": {},
   "outputs": [],
   "source": [
    "class LinkedDeque(_DoublyLinkedBase):\n",
    "    def first(self):\n",
    "        if self.is_empty():\n",
    "            raise Empty('Deque is empty')\n",
    "        return self._header._next._element\n",
    "    def last(self):\n",
    "        if self.is_empty():\n",
    "            raise Empty('Deque is empty')\n",
    "        return self._tailer._prev._element\n",
    "    def insert_first(self, e):\n",
    "        self._insert_between(e, self._header, self._header._next)\n",
    "    def insert_last(self, e):\n",
    "        self.insert_between(e, self._tailer._prev, self._tailer)\n",
    "    def delete_first(self):\n",
    "        if self.is_empty():\n",
    "            raise Empty('Deque is empty')\n",
    "        return self._delete_node(self.header._next)\n",
    "    def delete_last(self):\n",
    "        if self.is_empty():\n",
    "            raise Empty('Deque is empty')\n",
    "        return self._delete_node(self._tailer._prev)"
   ]
  },
  {
   "cell_type": "markdown",
   "metadata": {},
   "source": [
    "## 位置列表的抽象数据类型"
   ]
  },
  {
   "cell_type": "code",
   "execution_count": 3,
   "metadata": {
    "ExecuteTime": {
     "end_time": "2018-12-27T12:40:07.170543Z",
     "start_time": "2018-12-27T12:40:07.148608Z"
    }
   },
   "outputs": [],
   "source": [
    "class PositionalList(_DoublyLinkedBase):\n",
    "    class Position:\n",
    "        def __init__(self, container, node):\n",
    "            self._container = container\n",
    "            self._node = node\n",
    "        def element(self):\n",
    "            return self._node._element\n",
    "        def __eq__(self, other):\n",
    "            return type(other) is type(self) and other._node is self._node\n",
    "        def __ne__(self, other):\n",
    "            return not(self == other)\n",
    "    def _validate(self, p):\n",
    "        if not isinstance(p, self.Position):\n",
    "            raise TypeError('p must be proper Position type')\n",
    "        if p._container is not self:\n",
    "            raise ValueError('p does not belong to this container')\n",
    "        if p._node._next is None:\n",
    "            raise ValueError('p is no longer valid')\n",
    "        return p._node\n",
    "    def _make_position(self, node):\n",
    "        if node is self._header or node is self._tailer:\n",
    "            return None\n",
    "        else:\n",
    "            return self.Position(self, node)\n",
    "    def first(self):\n",
    "        return self._make_position(self._header._next)\n",
    "    def last(self):\n",
    "        return self._make_position(self._tailer._prev)\n",
    "    def before(self, p):\n",
    "        node = self._validate(p)\n",
    "        return self._make_position(node._prev)\n",
    "    def after(self, p):\n",
    "        node = self._validate(p)\n",
    "        return self._make_position(node._next)\n",
    "    def __iter__(self):\n",
    "        cursor = self.first()\n",
    "        while cursor is not None:\n",
    "            yield cursor.element()\n",
    "            cursor = self.after(cursor)\n",
    "    def _insert_between(self, e, predecessor, successor):\n",
    "        node = super()._insert_between(e, predecessor, successor)\n",
    "        return self._make_position(node)\n",
    "    def add_first(self, e):\n",
    "        return self._insert_between(e, self._header, self._header._next)\n",
    "    def add_last(self, e):\n",
    "        return self._insert_between(e, self._tailer._prev, self._tailer)\n",
    "    def add_before(self, p, e):\n",
    "        original = self._validate(p)\n",
    "        return self._insert_between(e, original._prev, original)\n",
    "    def add_after(self, p, e):\n",
    "        original = self._validate(p)\n",
    "        return self._insert_between(e, original, original._next)\n",
    "    def delete(self, p):\n",
    "        original = self._validate(p)\n",
    "        return self._delete_node(original)\n",
    "    def replace(self, p, e):\n",
    "        original = self._validate(p)\n",
    "        old_value = original._element\n",
    "        original._element = e\n",
    "        return old_value\n",
    "    "
   ]
  },
  {
   "cell_type": "markdown",
   "metadata": {},
   "source": [
    "## 位置列表的排序"
   ]
  },
  {
   "cell_type": "code",
   "execution_count": 2,
   "metadata": {
    "ExecuteTime": {
     "end_time": "2018-12-27T12:39:55.511523Z",
     "start_time": "2018-12-27T12:39:55.505524Z"
    }
   },
   "outputs": [],
   "source": [
    "def insertion_sort(L):\n",
    "    if len(L) > 1:\n",
    "        marker = L.first()\n",
    "        while marker != L.last():\n",
    "            pivot = L.after(marker)\n",
    "            value = pivot.element()\n",
    "            if value > marker.element():\n",
    "                marker = pivot\n",
    "            else:\n",
    "                walk = marker\n",
    "                while walk != L.first() and L.before(walk).element() > value:\n",
    "                    walk = L.before(walk)\n",
    "                L.delete(pivot)\n",
    "                L.add_before(walk, value)\n",
    "                "
   ]
  },
  {
   "cell_type": "markdown",
   "metadata": {},
   "source": [
    "## 案例研究: 维护访问频率"
   ]
  },
  {
   "cell_type": "code",
   "execution_count": null,
   "metadata": {},
   "outputs": [],
   "source": [
    "class FavoritesList:\n",
    "    class _Item:\n",
    "        __slots__ = '_value', '_count'\n",
    "        def __init__(self, e):\n",
    "            self._value = e\n",
    "            self._count = 0\n",
    "    def _find_position(self, e):\n",
    "        walk = self._data.first()\n",
    "        while walk is not None and walk.element()._value != e:\n",
    "            walk = self._data.after(walk)\n",
    "        return walk\n",
    "    def _move_up(self, p):\n",
    "        if p != self._data.first():\n",
    "            cnt = p.element()._count\n",
    "            walk = self._data.before(p)\n",
    "            if cnt > walk.element()._count:\n",
    "                while (walk != self._data.first() and \n",
    "                      cnt > self._data.before(walk).element()._count):\n",
    "                    walk = self._data.before(walk)\n",
    "                self._data.add_before(walk, self._data.delete(p))\n",
    "    def __init__(self):\n",
    "        self._data = PositionalList()\n",
    "    def __len__(self):\n",
    "        return len(self._data)\n",
    "    def is_empty(self):\n",
    "        return len(self._data) == 0\n",
    "    def access(self, e):\n",
    "        p = self._find_position(e)\n",
    "        if p is None:\n",
    "            p = self._data.add_last(self._Item(e))\n",
    "        p.element()._count += 1\n",
    "        self._move_up(p)\n",
    "    def remove(self, e):\n",
    "        p = self._find_position(e)\n",
    "        if p is not None:\n",
    "            self._data.delete(p)\n",
    "    def top(self, k):\n",
    "        if not <= k <=len(self):\n",
    "            raise ValueError('Illegal value for k')\n",
    "        walk = self._data.first()\n",
    "        for j in range(k):\n",
    "            item = walk.element()\n",
    "            yield item._value\n",
    "            walk = self._data.after(walk) "
   ]
  },
  {
   "cell_type": "markdown",
   "metadata": {},
   "source": [
    "### 双端队列"
   ]
  },
  {
   "cell_type": "code",
   "execution_count": null,
   "metadata": {},
   "outputs": [],
   "source": [
    "class Empty(Exception):\n",
    "    pass\n",
    "class DoubleDequeue:\n",
    "    DEFAULT_CAPACITY = 10\n",
    "    def __init__(self):\n",
    "        self._data = [None] * DoubleDequeue.DEFAULT_CAPACITY\n",
    "        self._size = 0\n",
    "        self._front = 0\n",
    "    def is_empty(self):\n",
    "        return self._size == 0\n",
    "    def __len__(self):\n",
    "        return self._size\n",
    "    def _resize(self, cap):\n",
    "        old = self._data\n",
    "        walk = self._front\n",
    "        self._data = [None] * cap\n",
    "        for i in range(self._size):\n",
    "            self._data[i] = old[walk]\n",
    "            walk = (walk + 1)% self._size\n",
    "        self._front = 0\n",
    "    def add_first(self, e):\n",
    "        if len(self._data) == self._size:\n",
    "            self._resize(2 * self._size)\n",
    "        self._data[(self._front - 1)%len(self._data)] = e\n",
    "        self._front = (self._front - 1)%len(self._data)\n",
    "        self._size += 1\n",
    "    def add_last(self, e):\n",
    "        if len(self._data) == self._size:\n",
    "            self._resize(2 * self._size)\n",
    "        avail = (self._front + self._size)%len(self._data)\n",
    "        self._data[avail] = e\n",
    "        self._size += 1\n",
    "    def first(self):\n",
    "        if self.is_empty():\n",
    "            raise Empty('This is empty')\n",
    "        return self._data[self._front]\n",
    "    def last(self):\n",
    "        if self.is_empty():\n",
    "            raise Empty('This is empty')\n",
    "        return self._data[(self._front + self._size - 1)%len(self._data)]\n",
    "    def delete_first(self):\n",
    "        if self.is_empty():\n",
    "            raise Empty('This is empty')\n",
    "        result = self._data[self._front]\n",
    "        self._data[self._front] = None\n",
    "        self._front = (self._front + 1)%len(self._data)\n",
    "        self._size -= 1 \n",
    "        return result\n",
    "    def delete_last(self):\n",
    "        if self.is_empty():\n",
    "            raise Empty('This is empty')\n",
    "        index = (self._front + self._size - 1)% len(self._data)\n",
    "        result = self._data[index]\n",
    "        self._data[index] = None\n",
    "        self._size -= 1\n",
    "        return result"
   ]
  }
 ],
 "metadata": {
  "kernelspec": {
   "display_name": "Python 3",
   "language": "python",
   "name": "python3"
  },
  "language_info": {
   "codemirror_mode": {
    "name": "ipython",
    "version": 3
   },
   "file_extension": ".py",
   "mimetype": "text/x-python",
   "name": "python",
   "nbconvert_exporter": "python",
   "pygments_lexer": "ipython3",
   "version": "3.7.4"
  },
  "toc": {
   "base_numbering": 1,
   "nav_menu": {},
   "number_sections": true,
   "sideBar": true,
   "skip_h1_title": false,
   "title_cell": "Table of Contents",
   "title_sidebar": "Contents",
   "toc_cell": false,
   "toc_position": {},
   "toc_section_display": true,
   "toc_window_display": false
  },
  "varInspector": {
   "cols": {
    "lenName": 16,
    "lenType": 16,
    "lenVar": 40
   },
   "kernels_config": {
    "python": {
     "delete_cmd_postfix": "",
     "delete_cmd_prefix": "del ",
     "library": "var_list.py",
     "varRefreshCmd": "print(var_dic_list())"
    },
    "r": {
     "delete_cmd_postfix": ") ",
     "delete_cmd_prefix": "rm(",
     "library": "var_list.r",
     "varRefreshCmd": "cat(var_dic_list()) "
    }
   },
   "types_to_exclude": [
    "module",
    "function",
    "builtin_function_or_method",
    "instance",
    "_Feature"
   ],
   "window_display": false
  }
 },
 "nbformat": 4,
 "nbformat_minor": 2
}
