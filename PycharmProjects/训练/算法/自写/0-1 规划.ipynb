{
 "cells": [
  {
   "cell_type": "markdown",
   "metadata": {},
   "source": [
    "## 0-1 规划\n",
    "### 背包问题"
   ]
  },
  {
   "cell_type": "code",
   "execution_count": 26,
   "metadata": {
    "ExecuteTime": {
     "end_time": "2019-01-02T05:14:07.752075Z",
     "start_time": "2019-01-02T05:14:07.740069Z"
    }
   },
   "outputs": [
    {
     "data": {
      "text/plain": [
       "[0, 0, 0, 1, 1]"
      ]
     },
     "execution_count": 26,
     "metadata": {},
     "output_type": "execute_result"
    }
   ],
   "source": [
    "def optimizer(prices, weights, total):\n",
    "    # 递归的终止条件\n",
    "    if len(prices) == 1:\n",
    "        if weights[0] > total:\n",
    "            return [0]\n",
    "        else:\n",
    "             return [1]\n",
    "    # 判断当前物品是否应该在背包的可能最优解中， 如果物品重量大于要求，则一定不在可行解中\n",
    "    if total >= weights[0]:\n",
    "        opt = optimizer(prices[1:], weights[1:], total - weights[0])\n",
    "        opt.insert(0, 1)\n",
    "        opt2 = optimizer(prices[1:], weights[1:], total)\n",
    "        opt2.insert(0,0)\n",
    "        result = [opt, opt2]\n",
    "    else:\n",
    "        opt2 = optimizer(prices[1:], weights[1:], total)\n",
    "        opt2.insert(0,0)\n",
    "        result = [opt2]\n",
    "    # 寻找最优解\n",
    "    sums = 0\n",
    "    index = None\n",
    "    for ind, item in enumerate(result):\n",
    "        if sum(prices[i] * item[i] for i, obj in enumerate(item)) >= sums:\n",
    "            sums = sum(prices[i] * item[i] for i, obj in enumerate(item))\n",
    "            index = ind\n",
    "    return result[index]\n",
    "\n",
    "result = optimizer([1,2, 3, 4, 5], [1, 2, 4, 5, 5], 10)\n",
    "result"
   ]
  },
  {
   "cell_type": "code",
   "execution_count": null,
   "metadata": {},
   "outputs": [],
   "source": []
  },
  {
   "cell_type": "code",
   "execution_count": null,
   "metadata": {},
   "outputs": [],
   "source": [
    "         "
   ]
  },
  {
   "cell_type": "code",
   "execution_count": 14,
   "metadata": {},
   "outputs": [],
   "source": []
  },
  {
   "cell_type": "code",
   "execution_count": null,
   "metadata": {},
   "outputs": [],
   "source": []
  },
  {
   "cell_type": "code",
   "execution_count": null,
   "metadata": {},
   "outputs": [],
   "source": []
  }
 ],
 "metadata": {
  "kernelspec": {
   "display_name": "Python 3",
   "language": "python",
   "name": "python3"
  },
  "language_info": {
   "codemirror_mode": {
    "name": "ipython",
    "version": 3
   },
   "file_extension": ".py",
   "mimetype": "text/x-python",
   "name": "python",
   "nbconvert_exporter": "python",
   "pygments_lexer": "ipython3",
   "version": "3.6.5"
  },
  "toc": {
   "base_numbering": 1,
   "nav_menu": {},
   "number_sections": true,
   "sideBar": true,
   "skip_h1_title": false,
   "title_cell": "Table of Contents",
   "title_sidebar": "Contents",
   "toc_cell": false,
   "toc_position": {},
   "toc_section_display": true,
   "toc_window_display": false
  },
  "varInspector": {
   "cols": {
    "lenName": 16,
    "lenType": 16,
    "lenVar": 40
   },
   "kernels_config": {
    "python": {
     "delete_cmd_postfix": "",
     "delete_cmd_prefix": "del ",
     "library": "var_list.py",
     "varRefreshCmd": "print(var_dic_list())"
    },
    "r": {
     "delete_cmd_postfix": ") ",
     "delete_cmd_prefix": "rm(",
     "library": "var_list.r",
     "varRefreshCmd": "cat(var_dic_list()) "
    }
   },
   "types_to_exclude": [
    "module",
    "function",
    "builtin_function_or_method",
    "instance",
    "_Feature"
   ],
   "window_display": false
  }
 },
 "nbformat": 4,
 "nbformat_minor": 2
}
