{
 "cells": [
  {
   "cell_type": "markdown",
   "metadata": {},
   "source": [
    "### 最长递增子序列"
   ]
  },
  {
   "cell_type": "code",
   "execution_count": 16,
   "metadata": {},
   "outputs": [
    {
     "data": {
      "text/plain": [
       "[2, 4, 5, 7, 8, 9]"
      ]
     },
     "execution_count": 16,
     "metadata": {},
     "output_type": "execute_result"
    }
   ],
   "source": [
    "def longest(array):\n",
    "    n = len(array)\n",
    "    long = [1]\n",
    "    index = [-1]\n",
    "    for i in range(1,n):\n",
    "        li,ma,ind = 0,0,0\n",
    "        for j in range(i):\n",
    "            if array[i]>array[j]:\n",
    "                li = long[j]+1\n",
    "                if li>ma:\n",
    "                    ma=li\n",
    "                    ind = j\n",
    "        if ma==0:\n",
    "            ma,ind = 1,-1\n",
    "        long.append(ma)\n",
    "        index.append(ind)\n",
    "    return long,index\n",
    "array = [2,4,3,5,1,7,6,8,9]\n",
    "longest(array)\n",
    "def longest_array(array):\n",
    "    long,index = longest(array)\n",
    "    maxi_index = long.index(max(long))# 找到最长的递增序列所对应的下标\n",
    "    arr = [array[maxi_index]]\n",
    "    for i in range(max(long)-1):\n",
    "        next_index = index[maxi_index]# 寻找下一个 数的index\n",
    "        maxi_index = next_index# 赋值个当前的index\n",
    "        arr.append(array[next_index])# 添加数\n",
    "    return arr[::-1]\n",
    "longest_array(array)"
   ]
  },
  {
   "cell_type": "code",
   "execution_count": 9,
   "metadata": {},
   "outputs": [
    {
     "data": {
      "text/plain": [
       "[1, 2, 3, 4, 5, 6, 7, 8, 9]"
      ]
     },
     "execution_count": 9,
     "metadata": {},
     "output_type": "execute_result"
    }
   ],
   "source": [
    "def insert_sort(array):\n",
    "    n = len(array)\n",
    "    for i in range(1,n):\n",
    "        key = array[i]\n",
    "        for j in range(1,i+1):\n",
    "            if key<array[0]:\n",
    "                array.insert(0,key)\n",
    "                break\n",
    "            elif (key>array[j-1]) and (key<=array[j]):\n",
    "                array.insert(j,key)\n",
    "                break\n",
    "            else:\n",
    "                continue\n",
    "        del array[i+1]\n",
    "    return array\n",
    "array = [2,4,3,5,1,7,6,8,9]\n",
    "insert_sort(array)"
   ]
  },
  {
   "cell_type": "code",
   "execution_count": 22,
   "metadata": {},
   "outputs": [
    {
     "name": "stdout",
     "output_type": "stream",
     "text": [
      "-1\n",
      "0\n",
      "-1\n",
      "3\n",
      "-1\n",
      "0\n",
      "-1\n",
      "-1\n"
     ]
    },
    {
     "data": {
      "text/plain": [
       "[9, 8, 7, 6, 5, 4, 3, 2, 1]"
      ]
     },
     "execution_count": 22,
     "metadata": {},
     "output_type": "execute_result"
    }
   ],
   "source": [
    "# 插入排序\n",
    "def insertion_sort(array,ascending = True):\n",
    "    for i in range(1,len(array)):\n",
    "        key = array[i]# 将需要移动的元素另附变量\n",
    "        j=i-1# 在[1,j-1]之间进行插入\n",
    "        if ascending==True:\n",
    "            while (j>=0) and (array[j]>key):\n",
    "                array[j+1]=array[j]\n",
    "                j-=1\n",
    "            array[j+1]=key\n",
    "        else:\n",
    "            while (j>=0) and (array[j]<key):\n",
    "                array[j+1]=array[j]\n",
    "                j-=1\n",
    "            array[j+1]=key\n",
    "\n",
    "    return array\n",
    "\n",
    "'''\n",
    "循环不变式\n",
    "初始化：循环的第一次迭代之前，它为真，如插入排序中，当i=1时，只有一个\n",
    "元素，必定排好序。为真\n",
    "保持：如果循环的某次迭代之前为真，那么下次迭代之前它仍为真\n",
    "插入排序中的while循环就是保证保持的性质成立。\n",
    "终止：在循环终止时，不变式为我们提供了一个有用的性质，可以让我们来\n",
    "确定算法的正确性。如当i>len(array),i = len(array)+1时,由之前可知array[0:len(array)]\n",
    "已经时排好序的。\n",
    "\n",
    "'''\n",
    "array=[2,4,3,5,1,7,6,8,9]\n",
    "insertion_sort(array,ascending =False)"
   ]
  },
  {
   "cell_type": "code",
   "execution_count": null,
   "metadata": {},
   "outputs": [],
   "source": [
    "\n"
   ]
  },
  {
   "cell_type": "code",
   "execution_count": null,
   "metadata": {},
   "outputs": [],
   "source": [
    "    "
   ]
  },
  {
   "cell_type": "code",
   "execution_count": 49,
   "metadata": {},
   "outputs": [
    {
     "data": {
      "text/plain": [
       "[0, 1, 2, 3, 4, 5, 6, 7, 8, 9]"
      ]
     },
     "execution_count": 49,
     "metadata": {},
     "output_type": "execute_result"
    }
   ],
   "source": [
    "def merge(a, b):\n",
    "    c = []\n",
    "    h = j = 0\n",
    "    while j < len(a) and h < len(b):\n",
    "        if a[j] < b[h]:\n",
    "            c.append(a[j])\n",
    "            j += 1\n",
    "        else:\n",
    "            c.append(b[h])\n",
    "            h += 1\n",
    "\n",
    "    if j == len(a):\n",
    "        for i in b[h:]:\n",
    "            c.append(i)\n",
    "    else:\n",
    "        for i in a[j:]:\n",
    "            c.append(i)\n",
    "    return c\n",
    "\n",
    "def merge_sort(lists):\n",
    "    if len(lists) <= 1:\n",
    "        return lists\n",
    "    middle = len(lists)//2\n",
    "    left = merge_sort(lists[:middle])\n",
    "    right = merge_sort(lists[middle:])\n",
    "    return merge(left, right)\n",
    "\n",
    "merge_sort(array)"
   ]
  },
  {
   "cell_type": "code",
   "execution_count": 42,
   "metadata": {},
   "outputs": [
    {
     "data": {
      "text/plain": [
       "[1, 2, 3, 4, 5, 6, 7, 8, 9, 0]"
      ]
     },
     "execution_count": 42,
     "metadata": {},
     "output_type": "execute_result"
    }
   ],
   "source": [
    "def longest_not_repeat(string):\n",
    "    start, maxlen = 0,0 # 记录当前序列的起始点。\n",
    "    used_char = {}\n",
    "    for i, char in enumerate(string):\n",
    "        if char in used_char and start<used_char[char]: # 使用过的字符在当前的序列中\n",
    "            start = used_char[char]+1 # 重新调整序列的起始点，用过字符的下一个字符\n",
    "        else:\n",
    "            maxlen(maxlen,i-start+1) # 记录最长序列的长度\n",
    "        used_char[char]=i\n",
    "    return maxlen"
   ]
  },
  {
   "cell_type": "code",
   "execution_count": 3,
   "metadata": {},
   "outputs": [
    {
     "data": {
      "text/plain": [
       "[3, 6, 9, 4, 8, 5, 2, 7, 1]"
      ]
     },
     "execution_count": 3,
     "metadata": {},
     "output_type": "execute_result"
    }
   ],
   "source": [
    "def circular(array,steps):\n",
    "    steps = steps-1\n",
    "    pop = []\n",
    "    index = 0\n",
    "    length = len(array)\n",
    "    while length>0:\n",
    "        index = (index+steps)%length\n",
    "        pop.append(array.pop(index))\n",
    "        length-=1\n",
    "    return pop\n",
    "circular([1,2,3,4,5,6,7,8,9],3)"
   ]
  },
  {
   "cell_type": "code",
   "execution_count": null,
   "metadata": {},
   "outputs": [],
   "source": [
    "def garage(initial,final):\n",
    "    steps = 0\n",
    "    while initial!=final:\n",
    "        zero = initial.index(0)\n",
    "        if zero!=final.index(0):\n",
    "            car_to_move = final[zero]\n",
    "            pos = initial.index(car_to_move)\n",
    "            initial[zero],initial[pos]=initial[pos],initial[zero]\n",
    "        else:\n",
    "            for i in range(len(initial)):\n",
    "                if initial[i]!=final[i]:\n",
    "                    initial[zero],initial[i]=initial[i],initial[zero]\n",
    "                    break\n",
    "        steps+=1\n",
    "\n",
    "        "
   ]
  }
 ],
 "metadata": {
  "kernelspec": {
   "display_name": "Python 3",
   "language": "python",
   "name": "python3"
  },
  "language_info": {
   "codemirror_mode": {
    "name": "ipython",
    "version": 3
   },
   "file_extension": ".py",
   "mimetype": "text/x-python",
   "name": "python",
   "nbconvert_exporter": "python",
   "pygments_lexer": "ipython3",
   "version": "3.6.5"
  }
 },
 "nbformat": 4,
 "nbformat_minor": 2
}
