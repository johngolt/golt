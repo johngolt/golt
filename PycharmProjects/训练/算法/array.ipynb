{
 "cells": [
  {
   "cell_type": "code",
   "execution_count": 2,
   "metadata": {},
   "outputs": [
    {
     "data": {
      "text/plain": [
       "['3', '6', '9', '4', '8', '5', '2', '7', '1']"
      ]
     },
     "execution_count": 2,
     "metadata": {},
     "output_type": "execute_result"
    }
   ],
   "source": [
    "\"\"\"\n",
    "There are people sitting in a circular fashion,\n",
    "print every third member while removing them,\n",
    "the next counter starts immediately after the member is removed.\n",
    "Print till all the members are exhausted.\n",
    "\n",
    "For example:\n",
    "Input: consider 123456789 members sitting in a circular fashion,\n",
    "Output: 369485271\n",
    "\"\"\"\n",
    "a = ['1','2','3','4','5','6','7','8','9']\n",
    "\n",
    "def josepheus(int_list, skip):\n",
    "    lst = []\n",
    "    skip = skip - 1 #list starts with 0 index\n",
    "    idx = 0\n",
    "    len_list = (len(int_list))\n",
    "    while len_list>0:\n",
    "        idx = (skip+idx)%len_list #hashing to keep changing the index to every 3rd\n",
    "        lst .append(int_list.pop(idx))\n",
    "        len_list -= 1\n",
    "    return lst\n",
    "\n",
    "\n",
    "josepheus(a,3)\n"
   ]
  },
  {
   "cell_type": "code",
   "execution_count": 3,
   "metadata": {},
   "outputs": [
    {
     "data": {
      "text/plain": [
       "[1, 2, 3, 4]"
      ]
     },
     "execution_count": 3,
     "metadata": {},
     "output_type": "execute_result"
    }
   ],
   "source": [
    "a = [1,2,3,4]\n",
    "b = list(a)\n",
    "b[0]=100\n",
    "a"
   ]
  },
  {
   "cell_type": "code",
   "execution_count": 3,
   "metadata": {},
   "outputs": [
    {
     "data": {
      "text/plain": [
       "[2, 1, 3, 4, 5, 6, 7, 8]"
      ]
     },
     "execution_count": 3,
     "metadata": {},
     "output_type": "execute_result"
    }
   ],
   "source": [
    "\"\"\"\n",
    "Implement Flatten Arrays.\n",
    "Given an array that may contain nested arrays,\n",
    "give a single resultant array.\n",
    "\n",
    "Example:\n",
    "Input: var input = [2, 1, [3, [4, 5], 6], 7, [8]];\n",
    "flatten(input);\n",
    "Output: [2, 1, 3, 4, 5, 6, 7, 8]\n",
    "\"\"\"\n",
    "from collections import Iterable\n",
    "def list_flatten(l, a=None):\n",
    "    a = list(a) if isinstance(a,Iterable) else [] # 如果a=None 则创建[],否则复制 a.\n",
    "    for i in l:\n",
    "        if isinstance(i, Iterable):\n",
    "            a = list_flatten(i, a)\n",
    "        else:\n",
    "            a.append(i)\n",
    "    return a\n",
    "nput = [2, 1, [3, [4, 5], 6], 7, [8]]\n",
    "\n",
    "list_flatten(nput)"
   ]
  },
  {
   "cell_type": "code",
   "execution_count": 4,
   "metadata": {},
   "outputs": [
    {
     "name": "stdout",
     "output_type": "stream",
     "text": [
      "initial: [1, 2, 3, 0, 4]\n",
      "final: [0, 3, 2, 1, 4]\n",
      "4\n"
     ]
    }
   ],
   "source": [
    "#There is a parking lot with only one empty spot. Given the initial state\n",
    "# of the parking lot and the final state. Each step we are only allowed to\n",
    "# move a car\n",
    "# out of its place and move it into the empty spot.\n",
    "# The goal is to find out the least movement needed to rearrange\n",
    "# the parking lot from the initial state to the final state.\n",
    "\n",
    "def garage(initial, final):\n",
    "    steps = 0\n",
    "    while initial != final: # 两个不一样\n",
    "        zero = initial.index(0) # 找出initial中0的位置\n",
    "        if zero != final.index(0):\n",
    "            car_to_move = final[zero]  # 找出final中zero对应的位置\n",
    "            pos = initial.index(car_to_move) # 找出initial 中0对应final 中的值对应的initial中的位置\n",
    "            initial[zero], initial[pos] = initial[pos], initial[zero]\n",
    "        else:\n",
    "            for i in range(len(initial)):\n",
    "                if initial[i] != final[i]:\n",
    "                    initial[zero], initial[i] = initial[i], initial[zero]\n",
    "                    break\n",
    "        steps += 1\n",
    "    return steps\n",
    "\n",
    "if __name__ == \"__main__\":\n",
    "    initial = [1, 2, 3, 0, 4]\n",
    "    final = [0, 3, 2, 1, 4]\n",
    "    print(\"initial:\", initial)\n",
    "    print(\"final:\", final)\n",
    "    print(garage(initial, final))\n"
   ]
  },
  {
   "cell_type": "code",
   "execution_count": 4,
   "metadata": {},
   "outputs": [
    {
     "name": "stdout",
     "output_type": "stream",
     "text": [
      "abcabcdefbb\n",
      "(6, {'a': 3, 'b': 10, 'c': 5, 'd': 6, 'e': 7, 'f': 8})\n"
     ]
    }
   ],
   "source": [
    "# Given a string, find the length of the longest substring\n",
    "# without repeating characters.\n",
    "\n",
    "# Examples:\n",
    "\n",
    "# Given \"abcabcbb\", the answer is \"abc\", which the length is 3.\n",
    "\n",
    "# Given \"bbbbb\", the answer is \"b\", with the length of 1.\n",
    "\n",
    "# Given \"pwwkew\", the answer is \"wke\", with the length of 3.\n",
    "# Note that the answer must be a substring,\n",
    "# \"pwke\" is a subsequence and not a substring.\n",
    "\n",
    "def longest_non_repeat(s):\n",
    "    start, maxlen = 0, 0\n",
    "    used_char = {}\n",
    "    for i, char in enumerate(s):\n",
    "        if char in used_char and start <= used_char[char]:# 如果出现的字符在之前出现过，并且起始点不大于使用字符的位置。\n",
    "            start = used_char[char] + 1# 前面条件确定存在重复字符，后面条件确定是否在当前字符串存在重复。\n",
    "        else:\n",
    "            maxlen = max(maxlen, i-start+1)\n",
    "        used_char[char] = i# 更新每个字符出现的最新位置\n",
    "    return maxlen,used_char\n",
    "\n",
    "a = \"abcabcdefbb\"\n",
    "print(a)\n",
    "print(longest_non_repeat(a))"
   ]
  },
  {
   "cell_type": "code",
   "execution_count": 6,
   "metadata": {},
   "outputs": [
    {
     "name": "stdout",
     "output_type": "stream",
     "text": [
      "[1,3][2,6][8,10][15,18]\n",
      "[1,6][8,10][15,18]\n"
     ]
    }
   ],
   "source": [
    "\"\"\"\n",
    "Given a collection of intervals, merge all overlapping intervals.\n",
    "\n",
    "For example,\n",
    "Given [1,3],[2,6],[8,10],[15,18],\n",
    "return [1,6],[8,10],[15,18].\n",
    "\"\"\"\n",
    "\n",
    "# Definition for an interval.\n",
    "class Interval(object):\n",
    "    def __init__(self, s=0, e=0):\n",
    "        self.start = s\n",
    "        self.end = e\n",
    "\n",
    "def merge(intervals):\n",
    "    \"\"\"\n",
    "    :type intervals: List[Interval]\n",
    "    :rtype: List[Interval]\n",
    "    \"\"\"\n",
    "    out = []\n",
    "    for i in sorted(intervals, key=lambda i: i.start):\n",
    "        if out and i.start <= out[-1].end:\n",
    "            out[-1].end = max(out[-1].end, i.end)\n",
    "        else:\n",
    "            out += i,\n",
    "    return out\n",
    "\n",
    "def print_intervals(intervals):\n",
    "    res = []\n",
    "    for i in intervals:\n",
    "        res.append('['+str(i.start)+','+str(i.end)+']')\n",
    "    print(\"\".join(res))\n",
    "\n",
    "if __name__ == \"__main__\":\n",
    "    given = [[1,3],[2,6],[8,10],[15,18]]\n",
    "    intervals = []\n",
    "    for l, r in given:\n",
    "        intervals.append(Interval(l,r))\n",
    "    print_intervals(intervals)\n",
    "    print_intervals(merge(intervals))\n"
   ]
  },
  {
   "cell_type": "code",
   "execution_count": 7,
   "metadata": {},
   "outputs": [
    {
     "name": "stdout",
     "output_type": "stream",
     "text": [
      "original: [3, 5, 10, 11, 12, 15, 19]\n",
      "missing range:  ['0->2', '4', '6->9', '13->14', '16->18', '20']\n"
     ]
    }
   ],
   "source": [
    "## find missing ranges between low and high in the given array.\n",
    "# ex) [3, 5] lo=1 hi=10 => answer: [1->2, 4, 6->10]\n",
    "\n",
    "def missing_ranges(nums, lo, hi):\n",
    "    res = []\n",
    "    start = lo\n",
    "    for num in nums:\n",
    "        if num < start:\n",
    "            continue\n",
    "        if num == start:\n",
    "            start += 1\n",
    "            continue\n",
    "        res.append(get_range(start, num-1))\n",
    "        start = num + 1\n",
    "    if start <= hi:\n",
    "        res.append(get_range(start, hi))\n",
    "    return res\n",
    "\n",
    "def get_range(n1, n2):\n",
    "    if n1 == n2:\n",
    "        return str(n1)\n",
    "    else:\n",
    "        return str(n1) + \"->\" + str(n2)\n",
    "\n",
    "nums = [3, 5, 10, 11, 12, 15, 19]\n",
    "print(\"original:\", nums)\n",
    "print(\"missing range: \", missing_ranges(nums,0,20))\n"
   ]
  },
  {
   "cell_type": "code",
   "execution_count": 15,
   "metadata": {},
   "outputs": [
    {
     "name": "stdout",
     "output_type": "stream",
     "text": [
      "[9, 9, 3, 9, 5, 7]\n",
      "[9, 9, 3, 9, 5, 7]\n"
     ]
    }
   ],
   "source": [
    "# Given a non-negative number represented as an array of digits,\n",
    "# plus one to the number.\n",
    "\n",
    "# The digits are stored such that the most significant\n",
    "# digit is at the head of the list.\n",
    "\n",
    "\n",
    "def plusOne(digits):\n",
    "    \"\"\"\n",
    "    :type digits: List[int]\n",
    "    :rtype: List[int]\n",
    "    \"\"\"\n",
    "    digits[-1] = digits[-1] + 1\n",
    "    res = []\n",
    "    ten = 0\n",
    "    i = len(digits)-1\n",
    "    while i >= 0 or ten == 1:\n",
    "        sum = 0\n",
    "        if i >= 0:\n",
    "            sum += digits[i]\n",
    "        if ten:\n",
    "            sum += 1\n",
    "        res.append(sum % 10)\n",
    "        ten = sum // 10\n",
    "        i -= 1\n",
    "    return res[::-1]\n",
    "print(plusOne([9,9,3,9,5,6]))\n",
    "\n",
    "def plus_one(digits):\n",
    "    n = len(digits)\n",
    "    for i in range(n-1, -1, -1):\n",
    "        if digits[i] < 9:\n",
    "            digits[i] += 1\n",
    "            return digits\n",
    "        digits[i] = 0\n",
    "    digits.insert(0, 1)\n",
    "    return digits\n",
    "print(plus_one([9,9,3,9,5,6]))\n",
    "\n",
    "\n",
    "def plus_1(num_arr):\n",
    "    for idx, digit in reversed(list(enumerate(num_arr))):\n",
    "        num_arr[idx] = (num_arr[idx] + 1) % 10\n",
    "        if num_arr[idx]:\n",
    "            return num_arr\n",
    "    return [1] + num_arr\n"
   ]
  },
  {
   "cell_type": "code",
   "execution_count": 19,
   "metadata": {},
   "outputs": [
    {
     "data": {
      "text/plain": [
       "[4, 3, 2, 1, 5]"
      ]
     },
     "execution_count": 19,
     "metadata": {},
     "output_type": "execute_result"
    }
   ],
   "source": [
    "\"\"\"\n",
    "Rotate an array of n elements to the right by k steps.\n",
    "\n",
    "For example, with n = 7 and k = 3,\n",
    "the array [1,2,3,4,5,6,7] is rotated to [5,6,7,1,2,3,4].\n",
    "\n",
    "Note:\n",
    "Try to come up as many solutions as you can,\n",
    "there are at least 3 different ways to solve this problem.\n",
    "\"\"\"\n",
    "\n",
    "\n",
    "#\n",
    "# Rotate the entire array 'k' times\n",
    "# T(n)- O(nk)\n",
    "#\n",
    "def rotate_one_by_one(nums, k):\n",
    "    \"\"\"\n",
    "    :type nums: List[int]\n",
    "    :type k: int\n",
    "    :rtype: void Do not return anything, modify nums in-place instead.\n",
    "    \"\"\"\n",
    "    n = len(nums)\n",
    "    for i in range(k):\n",
    "        temp = nums[n-1]\n",
    "        for j in range(n-1, 0, -1):\n",
    "            nums[j] = nums[j-1]\n",
    "        nums[0] = temp\n",
    "\n",
    "\n",
    "#\n",
    "# Reverse segments of the array, followed by the entire array\n",
    "# T(n)- O(n)\n",
    "#\n",
    "def rotate(nums, k):\n",
    "    \"\"\"\n",
    "    :type nums: List[int]\n",
    "    :type k: int\n",
    "    :rtype: void Do not return anything, modify nums in-place instead.\n",
    "    \"\"\"\n",
    "    n = len(nums)\n",
    "    k = k % n\n",
    "    reverse(nums, 0, n - k - 1)\n",
    "    reverse(nums, n - k, n - 1)\n",
    "    reverse(nums, 0, n - 1)\n",
    "\n",
    "\n",
    "def reverse(array, a, b):\n",
    "    while a < b:\n",
    "        array[a], array[b] = array[b], array[a]\n",
    "        a += 1\n",
    "        b -= 1\n",
    "a=[1,2,3,4,5]\n",
    "reverse(a,0,3)\n",
    "a"
   ]
  },
  {
   "cell_type": "code",
   "execution_count": 10,
   "metadata": {},
   "outputs": [],
   "source": [
    "\"\"\"\n",
    "Given a sorted integer array without duplicates,\n",
    "return the summary of its ranges.\n",
    "\n",
    "For example, given [0,1,2,4,5,7], return [\"0->2\",\"4->5\",\"7\"].\n",
    "\"\"\"\n",
    "\n",
    "\n",
    "def summary_ranges(nums):\n",
    "    \"\"\"\n",
    "    :type nums: List[int]\n",
    "    :rtype: List[str]\n",
    "    \"\"\"\n",
    "    res = []\n",
    "    if len(nums) == 1:\n",
    "        return [str(nums[0])]\n",
    "    i = 0\n",
    "    while i < len(nums):\n",
    "        num = nums[i]\n",
    "        while i+1 < len(nums) and nums[i+1] - nums[i] == 1:\n",
    "            i += 1\n",
    "        if nums[i] != num:\n",
    "            res.append(str(num) + \"->\" + str(nums[i]))\n",
    "        else:\n",
    "            res.append(str(num))\n",
    "        i += 1\n",
    "    return res\n"
   ]
  },
  {
   "cell_type": "code",
   "execution_count": 11,
   "metadata": {},
   "outputs": [
    {
     "name": "stdout",
     "output_type": "stream",
     "text": [
      "[1, 2]\n"
     ]
    }
   ],
   "source": [
    "\"\"\"\n",
    "Given an array of integers, return indices of the two numbers\n",
    "such that they add up to a specific target.\n",
    "\n",
    "You may assume that each input would have exactly one solution,\n",
    "and you may not use the same element twice.\n",
    "\n",
    "Example:\n",
    "    Given nums = [2, 7, 11, 15], target = 9,\n",
    "\n",
    "    Because nums[0] + nums[1] = 2 + 7 = 9,\n",
    "    return [0, 1].\n",
    "\"\"\"\n",
    "\n",
    "\n",
    "def two_sum(nums:\"List[int]\", target:\"int\")->\"List[int]\":\n",
    "    dic = {}\n",
    "    for i, num in enumerate(nums):\n",
    "        if num in dic:\n",
    "            return [dic[num], i]\n",
    "        else:\n",
    "            dic[target - num] = i\n",
    "\n",
    "\n",
    "if __name__ == \"__main__\":\n",
    "    arr = [3,2,4]\n",
    "    target = 6\n",
    "    res = two_sum(arr, target)\n",
    "    print(res)\n"
   ]
  },
  {
   "cell_type": "code",
   "execution_count": 12,
   "metadata": {},
   "outputs": [
    {
     "name": "stdout",
     "output_type": "stream",
     "text": [
      "[(-1, -1, 2), (-1, 0, 1)]\n"
     ]
    }
   ],
   "source": [
    "\"\"\"\n",
    "Given an array S of n integers, are there elements a, b, c in S\n",
    "such that a + b + c = 0?\n",
    "Find all unique triplets in the array which gives the sum of zero.\n",
    "\n",
    "Note: The solution set must not contain duplicate triplets.\n",
    "\n",
    "For example, given array S = [-1, 0, 1, 2, -1, -4],\n",
    "\n",
    "A solution set is:\n",
    "[\n",
    "  [-1, 0, 1],\n",
    "  [-1, -1, 2]\n",
    "]\n",
    "\"\"\"\n",
    "\n",
    "\n",
    "def three_sum(nums:\"List[int]\")->\"List[int]\":\n",
    "    res = []\n",
    "    nums.sort()\n",
    "    for i in range(len(nums)-2):\n",
    "        if i > 0 and nums[i] == nums[i-1]:\n",
    "            continue\n",
    "        l, r = i+1, len(nums)-1\n",
    "        while l < r:\n",
    "            s = nums[i] + nums[l] + nums[r]\n",
    "            if s > 0:\n",
    "                r -= 1\n",
    "            elif s < 0:\n",
    "                l += 1\n",
    "            else:\n",
    "                # found three sum\n",
    "                res.append((nums[i], nums[l], nums[r]))\n",
    "                # remove duplicates\n",
    "                while l < r and nums[l] == nums[l+1]:\n",
    "                    l+=1\n",
    "                while l < r and nums[r] == nums[r-1]:\n",
    "                    r -= 1\n",
    "                l += 1\n",
    "                r -= 1\n",
    "    return res\n",
    "\n",
    "\n",
    "if __name__ == \"__main__\":\n",
    "    x = [-1,0,1,2,-1,-4]\n",
    "    print(three_sum(x))\n"
   ]
  },
  {
   "cell_type": "code",
   "execution_count": null,
   "metadata": {},
   "outputs": [],
   "source": []
  }
 ],
 "metadata": {
  "kernelspec": {
   "display_name": "Python 3",
   "language": "python",
   "name": "python3"
  },
  "language_info": {
   "codemirror_mode": {
    "name": "ipython",
    "version": 3
   },
   "file_extension": ".py",
   "mimetype": "text/x-python",
   "name": "python",
   "nbconvert_exporter": "python",
   "pygments_lexer": "ipython3",
   "version": "3.6.5"
  }
 },
 "nbformat": 4,
 "nbformat_minor": 2
}
