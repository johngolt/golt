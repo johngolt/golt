{
 "cells": [
  {
   "cell_type": "code",
   "execution_count": null,
   "metadata": {},
   "outputs": [],
   "source": [
    "import collections\n",
    "def delete_n(array,n): # 删除重复次数超过n次的部分。\n",
    "    ans = []\n",
    "    default = collections.defaultdict(int)\n",
    "    for num in array:\n",
    "        if default[num]<n:\n",
    "            ans.append(num)\n",
    "            default[num]+=1\n",
    "    return ans   "
   ]
  },
  {
   "cell_type": "code",
   "execution_count": 11,
   "metadata": {},
   "outputs": [
    {
     "data": {
      "text/plain": [
       "[1, 2, 3, 1, 2, 3]"
      ]
     },
     "execution_count": 11,
     "metadata": {},
     "output_type": "execute_result"
    }
   ],
   "source": [
    "def delete_nth(array,n):\n",
    "    ans = []\n",
    "    for num in array:\n",
    "        if ans.count(num)<n:\n",
    "            ans.append(num)\n",
    "    return ans\n",
    "delete_nth([1,2,3,1,2,1,2,3],2)"
   ]
  },
  {
   "cell_type": "code",
   "execution_count": 10,
   "metadata": {},
   "outputs": [
    {
     "data": {
      "text/plain": [
       "3"
      ]
     },
     "execution_count": 10,
     "metadata": {},
     "output_type": "execute_result"
    }
   ],
   "source": [
    "# 限制数组的中数的大小\n",
    "def limit(array,min_lim = None,max_lim =None):\n",
    "    ans = []\n",
    "    if min_lim ==None and max_lim = None:\n",
    "        return array\n",
    "    if min_lim ==None:\n",
    "        for num in array:\n",
    "            if num<max_lim:\n",
    "                ans.append(num)\n",
    "    elif max_lim==None:\n",
    "        for num in array:\n",
    "            if num>min_lim:\n",
    "                ans.append(num)\n",
    "    else:\n",
    "        for num in array:\n",
    "            if num>min_lim and num<max_lim:\n",
    "                ans.append(num)\n",
    "    return ans\n",
    "                "
   ]
  },
  {
   "cell_type": "code",
   "execution_count": 13,
   "metadata": {},
   "outputs": [
    {
     "data": {
      "text/plain": [
       "[6, 7, 1, 2, 3, 4, 5]"
      ]
     },
     "execution_count": 13,
     "metadata": {},
     "output_type": "execute_result"
    }
   ],
   "source": [
    "def rotate(array,k):\n",
    "    length = len(array)\n",
    "    ans = [0]*length\n",
    "    for i,num in enumerate(array):\n",
    "        ans[(i+k)%length] = num\n",
    "    return ans\n",
    "rotate([1,2,3,4,5,6,7],9)\n",
    "def rotate_v3(array, k):\n",
    "    if array is None:\n",
    "        return None\n",
    "    length = len(array)\n",
    "    k = k % length\n",
    "    return array[length - k:] + array[:length - k]"
   ]
  },
  {
   "cell_type": "code",
   "execution_count": 17,
   "metadata": {},
   "outputs": [
    {
     "data": {
      "text/plain": [
       "[(0, 1), (3, 4)]"
      ]
     },
     "execution_count": 17,
     "metadata": {},
     "output_type": "execute_result"
    }
   ],
   "source": [
    "def two_sum(array,target):\n",
    "    dic = {}\n",
    "    result =[]\n",
    "    for i,num in enumerate(array):\n",
    "        if num in dic.keys():\n",
    "            result.append((dic[num],i))\n",
    "        else:\n",
    "            dic[target-num]=i\n",
    "    return result\n",
    "two_sum([4,5,11,3,6,19],9)"
   ]
  },
  {
   "cell_type": "code",
   "execution_count": 19,
   "metadata": {},
   "outputs": [
    {
     "data": {
      "text/plain": [
       "[1, 2]"
      ]
     },
     "execution_count": 19,
     "metadata": {},
     "output_type": "execute_result"
    }
   ],
   "source": [
    "def top_1(array):\n",
    "    from collections import defaultdict\n",
    "    res = []\n",
    "    default = defaultdict(int)\n",
    "    for num in array:\n",
    "        default[num]+=1\n",
    "    values = max(default.values())\n",
    "    for num,value in default.items():\n",
    "        if value ==values:\n",
    "            res.append(num)\n",
    "    return res\n",
    "top_1([1,2,1,2,3,4])"
   ]
  },
  {
   "cell_type": "code",
   "execution_count": null,
   "metadata": {},
   "outputs": [],
   "source": [
    "#Dijkstra's single source shortest path algorithm\n",
    "\n",
    "class Graph():\n",
    "\n",
    "    def __init__(self, vertices):\n",
    "        self.vertices = vertices\n",
    "        self.graph = [[0 for column in range(vertices)] for row in range(vertices)]\n",
    "\n",
    "    def min_distance(self, dist, min_dist_set):\n",
    "        min_dist = float(\"inf\")\n",
    "        for v in range(self.vertices):\n",
    "            if dist[v] < min_dist and min_dist_set[v] == False:\n",
    "                min_dist = dist[v]\n",
    "                min_index = v\n",
    "        return min_index\n",
    "\n",
    "    def dijkstra(self, src):\n",
    "\n",
    "        dist = [float(\"inf\")] * self.vertices\n",
    "        dist[src] = 0\n",
    "        min_dist_set = [False] * self.vertices\n",
    "\n",
    "        for count in range(self.vertices):\n",
    "\n",
    "            #minimum distance vertex that is not processed\n",
    "            u = self.min_distance(dist, min_dist_set)\n",
    "\n",
    "            #put minimum distance vertex in shortest tree\n",
    "            min_dist_set[u] = True\n",
    "\n",
    "            #Update dist value of the adjacent vertices\n",
    "            for v in range(self.vertices):\n",
    "                if self.graph[u][v] > 0 and min_dist_set[v] == False and dist[v] > dist[u] + self.graph[u][v]:\n",
    "                    dist[v] = dist[u] + self.graph[u][v]\n",
    "\n",
    "        return dist\n"
   ]
  }
 ],
 "metadata": {
  "kernelspec": {
   "display_name": "Python 3",
   "language": "python",
   "name": "python3"
  },
  "language_info": {
   "codemirror_mode": {
    "name": "ipython",
    "version": 3
   },
   "file_extension": ".py",
   "mimetype": "text/x-python",
   "name": "python",
   "nbconvert_exporter": "python",
   "pygments_lexer": "ipython3",
   "version": "3.6.5"
  }
 },
 "nbformat": 4,
 "nbformat_minor": 2
}
