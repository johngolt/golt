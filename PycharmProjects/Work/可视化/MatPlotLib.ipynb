{
 "cells": [
  {
   "cell_type": "markdown",
   "metadata": {},
   "source": [
    "We will use the ``plt.style`` directive to choose appropriate aesthetic styles for our figures.\n",
    "Here we will set the ``classic`` style, which ensures that the plots we create use the classic Matplotlib style\n",
    "\n",
    "In particular, functions to set limits, labels, and titles are slightly modified.\n",
    "For transitioning between MATLAB-style functions and object-oriented methods, make the following changes:\n",
    "\n",
    "- ``plt.xlabel()``  → ``ax.set_xlabel()``\n",
    "- ``plt.ylabel()`` → ``ax.set_ylabel()``\n",
    "- ``plt.xlim()``  → ``ax.set_xlim()``\n",
    "- ``plt.ylim()`` → ``ax.set_ylim()``\n",
    "- ``plt.title()`` → ``ax.set_title()``\n",
    "\n",
    "In the object-oriented interface to plotting, rather than calling these functions individually, it is often more convenient to use the ``ax.set()`` method to set all these properties at once:"
   ]
  },
  {
   "cell_type": "code",
   "execution_count": null,
   "metadata": {},
   "outputs": [],
   "source": [
    "ax.set(xlim=(0, 10), ylim=(-2, 2),\n",
    "       xlabel='x', ylabel='sin(x)',\n",
    "       title='A Simple Plot')\n",
    "plt.plot(x, y, '-p', color='gray',\n",
    "         markersize=15, linewidth=4,\n",
    "         markerfacecolor='white',\n",
    "         markeredgecolor='gray',\n",
    "         markeredgewidth=2)"
   ]
  },
  {
   "cell_type": "code",
   "execution_count": null,
   "metadata": {},
   "outputs": [],
   "source": [
    "import numpy as np\n",
    "import seaborn as sns\n",
    "import pandas as pd\n",
    "# Create some data\n",
    "rng = np.random.RandomState(0)\n",
    "x = np.random.randn(500)\n",
    "y = np.random.randn(500)\n",
    "data = pd.DataFrame({'x':x,'y':y})\n",
    "with sns.axes_style('white'):\n",
    "    sns.jointplot(\"x\", \"y\", data, kind='kde');"
   ]
  },
  {
   "cell_type": "code",
   "execution_count": 5,
   "metadata": {
    "ExecuteTime": {
     "end_time": "2019-12-12T07:24:30.641696Z",
     "start_time": "2019-12-12T07:24:30.437554Z"
    }
   },
   "outputs": [
    {
     "data": {
      "image/png": "[encoded data removed]",
      "text/plain": [
       "<Figure size 432x288 with 1 Axes>"
      ]
     },
     "metadata": {
      "needs_background": "light"
     },
     "output_type": "display_data"
    }
   ],
   "source": [
    "import numpy as np\n",
    "import matplotlib.pyplot as plt\n",
    "\n",
    "t = np.arange(0.0, 2.0, 0.01)\n",
    "s = np.sin(2 * np.pi * t)\n",
    "\n",
    "upper = 0.77\n",
    "lower = -0.77\n",
    "supper = np.ma.masked_where(s < upper, s) # 保留下所有s>upper的值，mask小于的值。\n",
    "slower = np.ma.masked_where(s > lower, s)\n",
    "smiddle = np.ma.masked_where(np.logical_or(s < lower, s > upper), s)\n",
    "fig, ax = plt.subplots()\n",
    "ax.plot(t, smiddle, t, slower, t, supper)\n",
    "plt.show()"
   ]
  },
  {
   "cell_type": "code",
   "execution_count": null,
   "metadata": {
    "ExecuteTime": {
     "end_time": "2019-12-12T07:26:48.889844Z",
     "start_time": "2019-12-12T07:26:48.882899Z"
    }
   },
   "outputs": [],
   "source": []
  },
  {
   "cell_type": "code",
   "execution_count": null,
   "metadata": {},
   "outputs": [],
   "source": [
    "import matplotlib.pyplot as plt\n",
    "fig = plt.figure(figsize=(9,6))\n",
    "fig.suptitle('bold figure suptitle', fontsize=14, fontweight='bold')\n",
    "ax = fig.add_subplot(111)\n",
    "ax.text(3, 8, 'boxed italics $E=mc^2$', style='italic',fontsize=15,\n",
    "        bbox={'facecolor':'red', 'alpha':0.5, 'pad':10})\n",
    "\n",
    "ax.text(0.95, 0.01, 'colored text in axes coords',\n",
    "        verticalalignment='bottom', horizontalalignment='right',\n",
    "        transform=ax.transAxes,\n",
    "        color='green', fontsize=15)\n",
    "ax.plot([2], [1], 'o')\n",
    "ax.annotate('annotate', xy=(2, 1), xytext=(3, 4),\n",
    "            arrowprops=dict(facecolor='black', shrink=0.05))\n",
    "ax.axis([0, 10, 0, 10])\n",
    "plt.show()"
   ]
  },
  {
   "cell_type": "code",
   "execution_count": null,
   "metadata": {
    "ExecuteTime": {
     "end_time": "2019-12-12T03:21:29.367466Z",
     "start_time": "2019-12-12T03:21:29.199255Z"
    }
   },
   "outputs": [],
   "source": []
  },
  {
   "cell_type": "code",
   "execution_count": 4,
   "metadata": {
    "ExecuteTime": {
     "end_time": "2019-12-12T03:23:59.509491Z",
     "start_time": "2019-12-12T03:23:59.391075Z"
    }
   },
   "outputs": [
    {
     "data": {
      "image/png": "[encoded data removed]",
      "text/plain": [
       "<Figure size 432x288 with 1 Axes>"
      ]
     },
     "metadata": {
      "needs_background": "light"
     },
     "output_type": "display_data"
    }
   ],
   "source": [
    "import numpy as np\n",
    "import matplotlib.pyplot as plt\n",
    "plt.axhline(linewidth=8, color='#d62728')\n",
    "plt.axhline(y=1)\n",
    "plt.axvline(x=0, ymin=0.75, linewidth=8, color='#1f77b4')\n",
    "plt.axhline(y=.5, xmin=0.25, xmax=0.75)\n",
    "plt.axhspan(0.25, 0.75, facecolor='0.5', alpha=0.5)\n",
    "plt.axis([-1, 2, -1, 2])\n",
    "plt.show()"
   ]
  },
  {
   "cell_type": "code",
   "execution_count": null,
   "metadata": {},
   "outputs": [],
   "source": [
    "import numpy as np\n",
    "import pandas as pd\n",
    "import seaborn as sns\n",
    "import matplotlib.pyplot as plt\n",
    "\n",
    "def heatmap(corr):\n",
    "    sns.set(style=\"white\")\n",
    "    mask = np.zeros_like(corr, dtype=np.bool)\n",
    "    mask[np.triu_indices_from(mask)] = True\n",
    "    f, ax = plt.subplots(figsize=(11, 9))\n",
    "    cmap = sns.diverging_palette(220, 10, as_cmap=True)\n",
    "    sns.heatmap(corr, mask=mask,cmap=cmap, vmax=.3, center=0,\n",
    "            square=True, linewidths=.5, cbar_kws={\"shrink\": .5})\n",
    "    '''If passed, data will not be shown in cells where ``mask`` is True.\n",
    "    Cells with missing values are automatically masked.'''\n",
    "    plt.show()\n",
    "heatmap(corr)"
   ]
  },
  {
   "cell_type": "code",
   "execution_count": null,
   "metadata": {},
   "outputs": [],
   "source": []
  },
  {
   "cell_type": "code",
   "execution_count": null,
   "metadata": {},
   "outputs": [],
   "source": [
    "import numpy as np\n",
    "import matplotlib.pyplot as plt\n",
    "\n",
    "# 为数据添加文本注释\n",
    "def label(ax, text, y=0):\n",
    "    ax.annotate(text, xy=(0.5, 0.00), xycoords='axes fraction', ha='center',\n",
    "                style='italic',\n",
    "                bbox=dict(boxstyle='round', facecolor='floralwhite',\n",
    "                          ec='#8B7E66'))\n",
    "def sin_data():\n",
    "    x = np.linspace(0, 10, 100)\n",
    "    y = np.sin(x)\n",
    "    y2 = np.cos(x)\n",
    "    return x, y, y2\n",
    "\n",
    "def fill_between_example(ax):\n",
    "    x, y1, y2 = sin_data()\n",
    "    ax.fill_betweenx(x, -y1, where=y1 > 0, color='red', alpha=0.5)\n",
    "    ax.fill_betweenx(x, -y1, where=y1 < 0, color='blue', alpha=0.5)\n",
    "    ax.margins(0.15)\n",
    "    label(ax, 'fill_between/x')"
   ]
  },
  {
   "cell_type": "code",
   "execution_count": null,
   "metadata": {},
   "outputs": [],
   "source": [
    "import numpy as np\n",
    "import matplotlib.pyplot as plt\n",
    "\n",
    "def generate_data():\n",
    "    means = [0, -1, 2.5, 4.3, -3.6]\n",
    "    sigmas = [1.2, 5, 3, 1.5, 2]\n",
    "    nums = [150, 1000, 100, 200, 500]\n",
    "    dists = [np.random.normal(*args) for args in zip(means, sigmas, nums)]\n",
    "    return dists\n",
    "\n",
    "# 箱型图\n",
    "def boxplot(ax, dists, colors):\n",
    "    result = ax.boxplot(dists, patch_artist=True, notch=True, vert=False)\n",
    "    for box, color in zip(result['boxes'], colors):\n",
    "        box.set(facecolor=color, alpha=0.5)\n",
    "    for item in ['whiskers', 'caps', 'medians']:\n",
    "        plt.setp(result[item], color='gray', linewidth=1.5)\n",
    "    plt.setp(result['fliers'], markeredgecolor='gray', markeredgewidth=1.5)\n",
    "    plt.setp(result['medians'], color='black')\n",
    "    ax.margins(0.05)\n",
    "    ax.set(yticks=[], ylim=[0, 6])\n",
    "\n",
    "    label(ax, 'ax.boxplot(dists)')\n",
    "\n",
    "#小提琴图\n",
    "def violinplot(ax, dists, colors):\n",
    "    result = ax.violinplot(dists, vert=False, showmedians=True)\n",
    "    for body, color in zip(result['bodies'], colors):\n",
    "        body.set(facecolor=color, alpha=0.5)\n",
    "    for item in ['cbars', 'cmaxes', 'cmins', 'cmedians']:\n",
    "        plt.setp(result[item], edgecolor='gray', linewidth=1.5)\n",
    "    plt.setp(result['cmedians'], edgecolor='black')\n",
    "    ax.margins(0.05)\n",
    "    ax.set(ylim=[0, 6])\n",
    "    label(ax, 'ax.violinplot(dists)')"
   ]
  },
  {
   "cell_type": "code",
   "execution_count": null,
   "metadata": {},
   "outputs": [],
   "source": []
  }
 ],
 "metadata": {
  "kernelspec": {
   "display_name": "Python 3",
   "language": "python",
   "name": "python3"
  },
  "language_info": {
   "codemirror_mode": {
    "name": "ipython",
    "version": 3
   },
   "file_extension": ".py",
   "mimetype": "text/x-python",
   "name": "python",
   "nbconvert_exporter": "python",
   "pygments_lexer": "ipython3",
   "version": "3.7.4"
  },
  "toc": {
   "base_numbering": 1,
   "nav_menu": {},
   "number_sections": true,
   "sideBar": true,
   "skip_h1_title": false,
   "title_cell": "Table of Contents",
   "title_sidebar": "Contents",
   "toc_cell": false,
   "toc_position": {},
   "toc_section_display": true,
   "toc_window_display": false
  },
  "varInspector": {
   "cols": {
    "lenName": 16,
    "lenType": 16,
    "lenVar": 40
   },
   "kernels_config": {
    "python": {
     "delete_cmd_postfix": "",
     "delete_cmd_prefix": "del ",
     "library": "var_list.py",
     "varRefreshCmd": "print(var_dic_list())"
    },
    "r": {
     "delete_cmd_postfix": ") ",
     "delete_cmd_prefix": "rm(",
     "library": "var_list.r",
     "varRefreshCmd": "cat(var_dic_list()) "
    }
   },
   "types_to_exclude": [
    "module",
    "function",
    "builtin_function_or_method",
    "instance",
    "_Feature"
   ],
   "window_display": false
  }
 },
 "nbformat": 4,
 "nbformat_minor": 2
}
