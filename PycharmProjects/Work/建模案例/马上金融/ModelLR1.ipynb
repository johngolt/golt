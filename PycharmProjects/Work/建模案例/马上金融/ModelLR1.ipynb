{
 "cells": [
  {
   "cell_type": "markdown",
   "metadata": {},
   "source": [
    "说明：  \n",
    "本文件使用的是 Data clean 1 的数据整理结果（除了 target 列外，全部填充完毕，没有缺失值）。训练 LR 模型。"
   ]
  },
  {
   "cell_type": "markdown",
   "metadata": {},
   "source": [
    "<font face=\"微软雅黑\" size=5> Contents： </font>  \n",
    "1. XGBOOST特征重要性  \n",
    "2. Logistic Regression  \n",
    "&ensp;&ensp;&ensp;&ensp;2.1 特征标准化  \n",
    "&ensp;&ensp;&ensp;&ensp;2.2 计算经验相关系数矩阵  \n",
    "&ensp;&ensp;&ensp;&ensp;2.3 基于相关系数矩阵和XGB特征重要性的特征选择  \n",
    "&ensp;&ensp;&ensp;&ensp;&ensp;&ensp;&ensp;&ensp;2.3.1 先del_colinearity1 后 XGB特征重要性  \n",
    "&ensp;&ensp;&ensp;&ensp;&ensp;&ensp;&ensp;&ensp;2.3.2 del_colinearity2 内部融合XGB特征重要性  \n",
    "&ensp;&ensp;&ensp;&ensp;2.4 两种特征选择方式在LR模型上初步尝试  \n",
    "&ensp;&ensp;&ensp;&ensp;2.5 训练LR模型  \n",
    "&ensp;&ensp;&ensp;&ensp;&ensp;&ensp;&ensp;&ensp;2.5.1 准备数据集  \n",
    "&ensp;&ensp;&ensp;&ensp;&ensp;&ensp;&ensp;&ensp;2.5.2 GridSearchCV交叉验证粗取最佳超参数  \n",
    "&ensp;&ensp;&ensp;&ensp;&ensp;&ensp;&ensp;&ensp;2.5.3 对验证集进行预测并求得AUC---法1  \n",
    "&ensp;&ensp;&ensp;&ensp;&ensp;&ensp;&ensp;&ensp;2.5.4 对验证集进行预测并求得AUC---法2  \n",
    "&ensp;&ensp;&ensp;&ensp;&ensp;&ensp;&ensp;&ensp;2.5.5 查看并分析详细信息  \n",
    "&ensp;&ensp;&ensp;&ensp;&ensp;&ensp;&ensp;&ensp;2.5.6 hyperopt求取最佳超参数  \n",
    "&ensp;&ensp;&ensp;&ensp;&ensp;&ensp;&ensp;&ensp;2.5.7 交叉验证  \n",
    "&ensp;&ensp;&ensp;&ensp;&ensp;&ensp;&ensp;&ensp;2.5.8 训练最终LR模型并预测未知样本集  \n",
    "3. 提交结果  \n"
   ]
  },
  {
   "cell_type": "code",
   "execution_count": 1,
   "metadata": {},
   "outputs": [],
   "source": [
    "import numpy as np\n",
    "import pandas as pd\n",
    "import time\n",
    "from scipy import special\n",
    "from sklearn.model_selection import train_test_split\n",
    "from sklearn import metrics\n",
    "from sklearn.preprocessing import StandardScaler\n",
    "from sklearn import covariance\n",
    "from sklearn.linear_model import LogisticRegression\n",
    "from sklearn.model_selection import GridSearchCV\n",
    "from sklearn.model_selection import StratifiedKFold\n",
    "from sklearn.model_selection import cross_val_score\n",
    "from sklearn.pipeline import Pipeline\n",
    "from sklearn.pipeline import make_pipeline\n",
    "from sklearn.metrics import make_scorer\n",
    "from sklearn.metrics import roc_auc_score\n",
    "from hyperopt import fmin, tpe, hp, STATUS_OK, Trials,rand\n",
    "import xgboost\n",
    "from xgboost import XGBClassifier\n",
    "from xgboost import plot_importance\n",
    "import time\n",
    "from sklearn.externals import joblib\n",
    "import pickle\n",
    "import matplotlib.pyplot as plt\n",
    "%matplotlib inline"
   ]
  },
  {
   "cell_type": "markdown",
   "metadata": {},
   "source": [
    "# 1. XGBOOST 特征重要性"
   ]
  },
  {
   "cell_type": "markdown",
   "metadata": {},
   "source": [
    "1. 将训练集二八分划分成训练集和验证集（shuffle+stratify），训练集和验证集同时给到XGB，训练出XGB模型。通过feature_importance得到所有特征的重要性，并用表格法和图示法展示。\n",
    "2. 用此模型小试一下，对验证集进行概率预测（关注排序而非真实的预测概率绝对值）。自定义 ks_statistic函数计算K-S统计量值为0.45， ks_curve函数画K-S图线。"
   ]
  },
  {
   "cell_type": "code",
   "execution_count": 10,
   "metadata": {
    "scrolled": true
   },
   "outputs": [
    {
     "name": "stdout",
     "output_type": "stream",
     "text": [
      "shape of X_tr_train is: (44304, 424)\n",
      "shape of y_tr_train is: (44304,)\n",
      "shape of X_tr_test is: (11077, 424)\n",
      "shape of y_tr_test is: (11077,)\n",
      "negative number/positive number in y_tr_train is: 6.7441006816990035\n",
      "negative number/positive number in y_tr_test is: 6.746153846153846\n"
     ]
    }
   ],
   "source": [
    "X_tr_train, X_tr_test, y_tr_train, y_tr_test = train_test_split(X_tr, y_tr,\n",
    "                    test_size = 0.2, shuffle=True, stratify=y_tr, \n",
    "                            random_state = 0)\n",
    "\n",
    "scale_pos_weight_value=len(y_tr_train[y_tr_train==0])/len(\n",
    "       y_tr_train[y_tr_train==1]) # XGB默认label==0是反类，label==1是正类。\n",
    "scale_pos_weight_value1=len(y_tr_test[y_tr_test==0])/len(\n",
    "           y_tr_test[y_tr_test==1])"
   ]
  },
  {
   "cell_type": "code",
   "execution_count": null,
   "metadata": {
    "scrolled": true
   },
   "outputs": [],
   "source": []
  },
  {
   "cell_type": "code",
   "execution_count": 12,
   "metadata": {},
   "outputs": [
    {
     "name": "stdout",
     "output_type": "stream",
     "text": [
      "[0]\tvalidation_0-logloss:0.669162\tvalidation_0-auc:0.781234\tvalidation_1-logloss:0.670913\tvalidation_1-auc:0.743866\n",
      "Multiple eval metrics have been passed: 'validation_1-auc' will be used for early stopping.\n",
      "\n",
      "Will train until validation_1-auc hasn't improved in 10 rounds.\n",
      "[1]\tvalidation_0-logloss:0.649867\tvalidation_0-auc:0.789589\tvalidation_1-logloss:0.652907\tvalidation_1-auc:0.758868\n",
      "[2]\tvalidation_0-logloss:0.633333\tvalidation_0-auc:0.794852\tvalidation_1-logloss:0.638207\tvalidation_1-auc:0.758414\n",
      "[3]\tvalidation_0-logloss:0.619523\tvalidation_0-auc:0.798146\tvalidation_1-logloss:0.625986\tvalidation_1-auc:0.759382\n",
      "[4]\tvalidation_0-logloss:0.60772\tvalidation_0-auc:0.80188\tvalidation_1-logloss:0.615571\tvalidation_1-auc:0.762851\n",
      "[5]\tvalidation_0-logloss:0.597535\tvalidation_0-auc:0.80507\tvalidation_1-logloss:0.60698\tvalidation_1-auc:0.764637\n",
      "[6]\tvalidation_0-logloss:0.587915\tvalidation_0-auc:0.811228\tvalidation_1-logloss:0.599076\tvalidation_1-auc:0.766086\n",
      "[7]\tvalidation_0-logloss:0.580161\tvalidation_0-auc:0.813316\tvalidation_1-logloss:0.592809\tvalidation_1-auc:0.767237\n",
      "[8]\tvalidation_0-logloss:0.573409\tvalidation_0-auc:0.81609\tvalidation_1-logloss:0.587494\tvalidation_1-auc:0.767653\n",
      "[9]\tvalidation_0-logloss:0.566874\tvalidation_0-auc:0.819765\tvalidation_1-logloss:0.582064\tvalidation_1-auc:0.76971\n",
      "[10]\tvalidation_0-logloss:0.561096\tvalidation_0-auc:0.822337\tvalidation_1-logloss:0.577329\tvalidation_1-auc:0.771635\n",
      "[11]\tvalidation_0-logloss:0.556287\tvalidation_0-auc:0.824414\tvalidation_1-logloss:0.573348\tvalidation_1-auc:0.773466\n",
      "[12]\tvalidation_0-logloss:0.551184\tvalidation_0-auc:0.826663\tvalidation_1-logloss:0.569743\tvalidation_1-auc:0.773429\n",
      "[13]\tvalidation_0-logloss:0.547073\tvalidation_0-auc:0.829426\tvalidation_1-logloss:0.566881\tvalidation_1-auc:0.773882\n",
      "[14]\tvalidation_0-logloss:0.54289\tvalidation_0-auc:0.831326\tvalidation_1-logloss:0.563785\tvalidation_1-auc:0.775168\n",
      "[15]\tvalidation_0-logloss:0.539036\tvalidation_0-auc:0.833821\tvalidation_1-logloss:0.561514\tvalidation_1-auc:0.775418\n",
      "[16]\tvalidation_0-logloss:0.536008\tvalidation_0-auc:0.835559\tvalidation_1-logloss:0.559607\tvalidation_1-auc:0.775374\n",
      "[17]\tvalidation_0-logloss:0.532764\tvalidation_0-auc:0.837229\tvalidation_1-logloss:0.557263\tvalidation_1-auc:0.776563\n",
      "[18]\tvalidation_0-logloss:0.529181\tvalidation_0-auc:0.840749\tvalidation_1-logloss:0.554906\tvalidation_1-auc:0.776573\n",
      "[19]\tvalidation_0-logloss:0.526342\tvalidation_0-auc:0.842759\tvalidation_1-logloss:0.553116\tvalidation_1-auc:0.77643\n",
      "[20]\tvalidation_0-logloss:0.523663\tvalidation_0-auc:0.845116\tvalidation_1-logloss:0.551326\tvalidation_1-auc:0.777144\n",
      "[21]\tvalidation_0-logloss:0.520911\tvalidation_0-auc:0.846918\tvalidation_1-logloss:0.549733\tvalidation_1-auc:0.776592\n",
      "[22]\tvalidation_0-logloss:0.518289\tvalidation_0-auc:0.84898\tvalidation_1-logloss:0.548023\tvalidation_1-auc:0.777101\n",
      "[23]\tvalidation_0-logloss:0.515393\tvalidation_0-auc:0.850969\tvalidation_1-logloss:0.546293\tvalidation_1-auc:0.777149\n",
      "[24]\tvalidation_0-logloss:0.512394\tvalidation_0-auc:0.853773\tvalidation_1-logloss:0.544444\tvalidation_1-auc:0.777748\n",
      "[25]\tvalidation_0-logloss:0.509484\tvalidation_0-auc:0.856118\tvalidation_1-logloss:0.542551\tvalidation_1-auc:0.778009\n",
      "[26]\tvalidation_0-logloss:0.506408\tvalidation_0-auc:0.858245\tvalidation_1-logloss:0.540649\tvalidation_1-auc:0.77866\n",
      "[27]\tvalidation_0-logloss:0.50411\tvalidation_0-auc:0.859586\tvalidation_1-logloss:0.539146\tvalidation_1-auc:0.779113\n",
      "[28]\tvalidation_0-logloss:0.50149\tvalidation_0-auc:0.86182\tvalidation_1-logloss:0.537457\tvalidation_1-auc:0.779905\n",
      "[29]\tvalidation_0-logloss:0.498849\tvalidation_0-auc:0.863197\tvalidation_1-logloss:0.535483\tvalidation_1-auc:0.780873\n",
      "[30]\tvalidation_0-logloss:0.496718\tvalidation_0-auc:0.864749\tvalidation_1-logloss:0.534056\tvalidation_1-auc:0.781193\n",
      "[31]\tvalidation_0-logloss:0.494103\tvalidation_0-auc:0.866873\tvalidation_1-logloss:0.532754\tvalidation_1-auc:0.781177\n",
      "[32]\tvalidation_0-logloss:0.491471\tvalidation_0-auc:0.868221\tvalidation_1-logloss:0.531023\tvalidation_1-auc:0.782396\n",
      "[33]\tvalidation_0-logloss:0.48895\tvalidation_0-auc:0.870008\tvalidation_1-logloss:0.529599\tvalidation_1-auc:0.782965\n",
      "[34]\tvalidation_0-logloss:0.486507\tvalidation_0-auc:0.871232\tvalidation_1-logloss:0.52783\tvalidation_1-auc:0.784185\n",
      "[35]\tvalidation_0-logloss:0.484517\tvalidation_0-auc:0.872779\tvalidation_1-logloss:0.5266\tvalidation_1-auc:0.784379\n",
      "[36]\tvalidation_0-logloss:0.48287\tvalidation_0-auc:0.874049\tvalidation_1-logloss:0.525759\tvalidation_1-auc:0.78413\n",
      "[37]\tvalidation_0-logloss:0.480459\tvalidation_0-auc:0.875838\tvalidation_1-logloss:0.524386\tvalidation_1-auc:0.784533\n",
      "[38]\tvalidation_0-logloss:0.477855\tvalidation_0-auc:0.877578\tvalidation_1-logloss:0.522551\tvalidation_1-auc:0.785111\n",
      "[39]\tvalidation_0-logloss:0.475767\tvalidation_0-auc:0.878849\tvalidation_1-logloss:0.521032\tvalidation_1-auc:0.786396\n",
      "[40]\tvalidation_0-logloss:0.473358\tvalidation_0-auc:0.880773\tvalidation_1-logloss:0.519827\tvalidation_1-auc:0.786236\n",
      "[41]\tvalidation_0-logloss:0.470535\tvalidation_0-auc:0.88331\tvalidation_1-logloss:0.518155\tvalidation_1-auc:0.786291\n",
      "[42]\tvalidation_0-logloss:0.46767\tvalidation_0-auc:0.885561\tvalidation_1-logloss:0.516665\tvalidation_1-auc:0.786528\n",
      "[43]\tvalidation_0-logloss:0.466593\tvalidation_0-auc:0.886254\tvalidation_1-logloss:0.515997\tvalidation_1-auc:0.78652\n",
      "[44]\tvalidation_0-logloss:0.465362\tvalidation_0-auc:0.886995\tvalidation_1-logloss:0.515305\tvalidation_1-auc:0.786517\n",
      "[45]\tvalidation_0-logloss:0.464374\tvalidation_0-auc:0.887776\tvalidation_1-logloss:0.514745\tvalidation_1-auc:0.78656\n",
      "[46]\tvalidation_0-logloss:0.462111\tvalidation_0-auc:0.889556\tvalidation_1-logloss:0.513528\tvalidation_1-auc:0.786979\n",
      "[47]\tvalidation_0-logloss:0.460992\tvalidation_0-auc:0.89019\tvalidation_1-logloss:0.513095\tvalidation_1-auc:0.78679\n",
      "[48]\tvalidation_0-logloss:0.45867\tvalidation_0-auc:0.891821\tvalidation_1-logloss:0.511611\tvalidation_1-auc:0.787102\n",
      "[49]\tvalidation_0-logloss:0.457817\tvalidation_0-auc:0.89242\tvalidation_1-logloss:0.511188\tvalidation_1-auc:0.786932\n",
      "[50]\tvalidation_0-logloss:0.456634\tvalidation_0-auc:0.893248\tvalidation_1-logloss:0.510601\tvalidation_1-auc:0.786786\n",
      "[51]\tvalidation_0-logloss:0.455355\tvalidation_0-auc:0.894107\tvalidation_1-logloss:0.509786\tvalidation_1-auc:0.787053\n",
      "[52]\tvalidation_0-logloss:0.4531\tvalidation_0-auc:0.895972\tvalidation_1-logloss:0.508495\tvalidation_1-auc:0.787196\n",
      "[53]\tvalidation_0-logloss:0.451681\tvalidation_0-auc:0.896891\tvalidation_1-logloss:0.507847\tvalidation_1-auc:0.786845\n",
      "[54]\tvalidation_0-logloss:0.449941\tvalidation_0-auc:0.897811\tvalidation_1-logloss:0.506686\tvalidation_1-auc:0.787289\n",
      "[55]\tvalidation_0-logloss:0.448041\tvalidation_0-auc:0.89932\tvalidation_1-logloss:0.505735\tvalidation_1-auc:0.787288\n",
      "[56]\tvalidation_0-logloss:0.447559\tvalidation_0-auc:0.899598\tvalidation_1-logloss:0.505552\tvalidation_1-auc:0.787174\n",
      "[57]\tvalidation_0-logloss:0.446068\tvalidation_0-auc:0.90053\tvalidation_1-logloss:0.504727\tvalidation_1-auc:0.786936\n",
      "[58]\tvalidation_0-logloss:0.445331\tvalidation_0-auc:0.901011\tvalidation_1-logloss:0.504323\tvalidation_1-auc:0.786778\n",
      "[59]\tvalidation_0-logloss:0.443209\tvalidation_0-auc:0.902464\tvalidation_1-logloss:0.503276\tvalidation_1-auc:0.787004\n",
      "[60]\tvalidation_0-logloss:0.44177\tvalidation_0-auc:0.903345\tvalidation_1-logloss:0.502383\tvalidation_1-auc:0.787388\n",
      "[61]\tvalidation_0-logloss:0.440271\tvalidation_0-auc:0.90444\tvalidation_1-logloss:0.501522\tvalidation_1-auc:0.787387\n",
      "[62]\tvalidation_0-logloss:0.43844\tvalidation_0-auc:0.905732\tvalidation_1-logloss:0.500588\tvalidation_1-auc:0.787411\n",
      "[63]\tvalidation_0-logloss:0.436889\tvalidation_0-auc:0.906754\tvalidation_1-logloss:0.499824\tvalidation_1-auc:0.787272\n",
      "[64]\tvalidation_0-logloss:0.436116\tvalidation_0-auc:0.907339\tvalidation_1-logloss:0.499513\tvalidation_1-auc:0.787201\n",
      "[65]\tvalidation_0-logloss:0.435398\tvalidation_0-auc:0.907792\tvalidation_1-logloss:0.499296\tvalidation_1-auc:0.786901\n",
      "[66]\tvalidation_0-logloss:0.434789\tvalidation_0-auc:0.908163\tvalidation_1-logloss:0.499013\tvalidation_1-auc:0.786816\n",
      "[67]\tvalidation_0-logloss:0.432852\tvalidation_0-auc:0.909514\tvalidation_1-logloss:0.497944\tvalidation_1-auc:0.786867\n",
      "[68]\tvalidation_0-logloss:0.431223\tvalidation_0-auc:0.910645\tvalidation_1-logloss:0.497259\tvalidation_1-auc:0.786504\n",
      "[69]\tvalidation_0-logloss:0.4293\tvalidation_0-auc:0.911788\tvalidation_1-logloss:0.495839\tvalidation_1-auc:0.787118\n"
     ]
    },
    {
     "name": "stdout",
     "output_type": "stream",
     "text": [
      "[70]\tvalidation_0-logloss:0.42749\tvalidation_0-auc:0.91319\tvalidation_1-logloss:0.495111\tvalidation_1-auc:0.787057\n",
      "[71]\tvalidation_0-logloss:0.426462\tvalidation_0-auc:0.913775\tvalidation_1-logloss:0.494496\tvalidation_1-auc:0.787303\n",
      "[72]\tvalidation_0-logloss:0.425339\tvalidation_0-auc:0.914567\tvalidation_1-logloss:0.493858\tvalidation_1-auc:0.787172\n",
      "Stopping. Best iteration:\n",
      "[62]\tvalidation_0-logloss:0.43844\tvalidation_0-auc:0.905732\tvalidation_1-logloss:0.500588\tvalidation_1-auc:0.787411\n",
      "\n",
      "Time: 171.69 seconds\n"
     ]
    }
   ],
   "source": [
    "modelXGB1 = XGBClassifier(\n",
    "    max_depth=6,    \n",
    "    n_estimators=1000,                  \n",
    "    objective='binary:logistic',        \n",
    "    scale_pos_weight = scale_pos_weight_value,  \n",
    "    seed = 1,                           \n",
    "    missing = np.nan)\n",
    "\n",
    "timestart = time.time()\n",
    "modelXGB1.fit(X_tr_train,y_tr_train,\n",
    "        eval_set = [(X_tr_train,y_tr_train),(X_tr_test, y_tr_test)],\n",
    "       eval_metric =[\"logloss\",\"auc\"] ,early_stopping_rounds = 10,\n",
    "              verbose = True)"
   ]
  },
  {
   "cell_type": "markdown",
   "metadata": {},
   "source": []
  },
  {
   "cell_type": "code",
   "execution_count": 15,
   "metadata": {},
   "outputs": [],
   "source": [
    "featurenames = X_tr_train.columns\n",
    "FeatureImportance = pd.DataFrame(data = modelXGB1.feature_importances_, \n",
    "                    index = featurenames, columns = ['feature importance'])\n",
    "FeatureImportance = FeatureImportance.sort_values(\n",
    "    by = ['feature importance'], ascending=False)\n",
    "\n",
    "fig1 = plt.figure(figsize = (8,16))\n",
    "ax1 = fig1.add_subplot(111)\n",
    "plot_importance(modelXGB1, ax1, height=0.8, xlim=None, ylim=None, \n",
    "                        title='Feature importance', xlabel='F score', \n",
    "                       ylabel='Features',importance_type='weight', \n",
    "                grid=True,max_num_features=50)\n",
    "plt.show()"
   ]
  },
  {
   "cell_type": "markdown",
   "metadata": {},
   "source": [
    "&ensp;&ensp;赛题选择的这个K-S统计量，只与被预测样本的排序有关，而与真正的逾期概率值本身的绝对大小无关。get到这点很重要。所以在训练模型的时候，我们关注的就仅仅是预测的排序，而非预测为违约的实际概率值。这种情况，用AUC作为评价函数就比较好，此指标只与排序有关，与预测的概率值的绝对大小无关。而且，这种情况下，若总体样本不平衡，则可以使用 scale_pos_weight或class_weight参数调整类别不平衡。（调整这样的参数会影响到 预测的概率值的绝对大小，但对提高预测排序的准确性有帮助）。"
   ]
  },
  {
   "cell_type": "code",
   "execution_count": 18,
   "metadata": {},
   "outputs": [],
   "source": [
    "def ks_statistic(y_true,y_predicted_proba):\n",
    "    \n",
    "    fpr,tpr,thresholds = metrics.roc_curve(y_true,y_predicted_proba,\n",
    "                                           pos_label=1)\n",
    "    return abs(tpr-fpr).max()\n",
    "\n",
    "\n",
    "def ks_curve(y_true,y_predicted_proba):\n",
    "    fpr,tpr,thresholds = metrics.roc_curve(y_true,y_predicted_proba,\n",
    "                                           pos_label=1)\n",
    "    \n",
    "    font1 = {'family': 'Calibri','weight': 'normal','size': 18} \n",
    "    font2 = {'family': 'Calibri','weight': 'normal','size': 23} \n",
    "    \n",
    "    fig = plt.figure(figsize = (6,8))\n",
    "    ax = fig.add_subplot(111)\n",
    "    ax.plot(thresholds,1.0-tpr,label=\"overdue\",color=\"navy\")\n",
    "    ax_t = ax.twinx()\n",
    "    ax_t.plot(thresholds,1.0-fpr,label=\"normal\",color=\"g\")\n",
    "    ax.plot(thresholds,tpr-fpr,label=\"K-S\",color=\"darkorange\")\n",
    "    ax.legend(loc=2)\n",
    "    ax_t.legend(loc=9)\n",
    "    ax_t.set_xlim(0.0, 1.0)\n",
    "    ax_t.set_ylim(0.0, 1.0)\n",
    "    ax.set_title('K-S curve',fontdict=font2 ) \n",
    "    ax.set_xlabel('threshold',fontdict=font1,labelpad= 2)  \n",
    "    ax.set_ylabel('True Positive Rate',fontdict=font1,labelpad= 6)\n",
    "    ax.set_ylabel('False Positive Rate',fontdict=font1,labelpad= 6)\n",
    "    ax.set_xlim(0.0, 1.0)\n",
    "    ax.set_ylim(0.0, 1.0)\n",
    "       \n",
    "    plt.show()"
   ]
  },
  {
   "cell_type": "code",
   "execution_count": 19,
   "metadata": {},
   "outputs": [
    {
     "name": "stdout",
     "output_type": "stream",
     "text": [
      "ks_value1 is:  0.4478387063335752\n"
     ]
    }
   ],
   "source": [
    "y_predict_proba1 = modelXGB1.predict_proba(X_tr_test, ntree_limit=58)\n",
    "ks_value1 = ks_statistic(np.array(y_tr_test),y_predict_proba1[:,1])\n",
    "print(\"ks_value1 is: \",ks_value1)"
   ]
  },
  {
   "cell_type": "code",
   "execution_count": null,
   "metadata": {},
   "outputs": [],
   "source": []
  },
  {
   "cell_type": "markdown",
   "metadata": {},
   "source": [
    "# 2. Logistic Regression"
   ]
  },
  {
   "cell_type": "markdown",
   "metadata": {},
   "source": [
    "1. 对训练集中的所有特征进行标准化（包括onehot encoder得到的特征 和 连续型数值特征），记录每个特征的均值方差，将其应用到未知样本集，对它们进行标准化。\n",
    "2. 对训练集的所有特征计算相关系数矩阵。\n",
    "3. 找出相关系数>0.7的变量，只保留其中之一，结合XGB的特征重要性，完成特征筛选。"
   ]
  },
  {
   "cell_type": "markdown",
   "metadata": {},
   "source": [
    "## 2.2 计算经验相关系数矩阵"
   ]
  },
  {
   "cell_type": "code",
   "execution_count": 26,
   "metadata": {},
   "outputs": [
    {
     "name": "stdout",
     "output_type": "stream",
     "text": [
      "shape of X_tr_correlation_matrix is: (424, 424)\n"
     ]
    }
   ],
   "source": [
    "X_tr_correlation_matrix = covariance.empirical_covariance(X_tr_standard)\n",
    "print(\"shape of X_tr_correlation_matrix is:\",X_tr_correlation_matrix.shape)"
   ]
  },
  {
   "cell_type": "markdown",
   "metadata": {
    "scrolled": true
   },
   "source": [
    "### 2.3.1 先 del_colinearity1 后 XGB特征重要性    \n",
    "\n",
    "&ensp;&ensp;先删除一部分特征，使得剩下的特征两两之间的相关系数<0.8.然后，再从剩下的特征中删除在XGB特征重要性排序中处于后10% 的特征，最后剩下的特征，是用于训练LR模型的特征。"
   ]
  },
  {
   "cell_type": "code",
   "execution_count": 28,
   "metadata": {},
   "outputs": [],
   "source": [
    "def colinearity(correlation_matrix):\n",
    "    num=correlation_matrix.shape[0] # num是相关矩阵的行数\n",
    "    L=[]\n",
    "    for i in range(num-1):  # 只需要检查不含主对角线的上三角形。\n",
    "        for j in range(i+1,num):\n",
    "            if correlation_matrix[i,j]>0.8:\n",
    "                L.append([i,j]) # 把相关系数大于0.8的特征对添加到 L中。L是二维列表。\n",
    "    \n",
    "    return L"
   ]
  },
  {
   "cell_type": "code",
   "execution_count": 29,
   "metadata": {},
   "outputs": [
    {
     "name": "stdout",
     "output_type": "stream",
     "text": [
      "869\n"
     ]
    }
   ],
   "source": [
    "L = colinearity(X_tr_correlation_matrix)\n",
    "print(len(L))"
   ]
  },
  {
   "cell_type": "code",
   "execution_count": null,
   "metadata": {
    "scrolled": true
   },
   "outputs": [],
   "source": []
  },
  {
   "cell_type": "code",
   "execution_count": 31,
   "metadata": {},
   "outputs": [
    {
     "name": "stdout",
     "output_type": "stream",
     "text": [
      "There's 89676 variancepair.\n"
     ]
    }
   ],
   "source": [
    "# 424 个字段变量，一共有 89676 对。\n",
    "\n",
    "variancepair = special.comb(424,2)  \n",
    "# scipy计算排列组合（从424个字段中挑选两个组成一对，总的方法数为 89676）。\n",
    "print(\"There's %d variancepair.\" % variancepair)"
   ]
  },
  {
   "cell_type": "code",
   "execution_count": 32,
   "metadata": {},
   "outputs": [],
   "source": [
    "colinearity_counts = pd.value_counts(np.array(L).flatten())\n",
    "colinearity_counts = pd.DataFrame(colinearity_counts).reset_index()\n",
    "colinearity_counts.columns = [\"colindex\",\"colinearity_counts\"]  # 改列名"
   ]
  },
  {
   "cell_type": "code",
   "execution_count": null,
   "metadata": {
    "scrolled": true
   },
   "outputs": [],
   "source": []
  },
  {
   "cell_type": "code",
   "execution_count": 34,
   "metadata": {},
   "outputs": [
    {
     "name": "stdout",
     "output_type": "stream",
     "text": [
      "There is 869 pairs of features have correlation coefficient more than 0.8.\n"
     ]
    },
    {
     "data": {
      "text/html": [
       "<div>\n",
       "<style scoped>\n",
       "    .dataframe tbody tr th:only-of-type {\n",
       "        vertical-align: middle;\n",
       "    }\n",
       "\n",
       "    .dataframe tbody tr th {\n",
       "        vertical-align: top;\n",
       "    }\n",
       "\n",
       "    .dataframe thead th {\n",
       "        text-align: right;\n",
       "    }\n",
       "</style>\n",
       "<table border=\"1\" class=\"dataframe\">\n",
       "  <thead>\n",
       "    <tr style=\"text-align: right;\">\n",
       "      <th></th>\n",
       "      <th>col1</th>\n",
       "      <th>col2</th>\n",
       "    </tr>\n",
       "  </thead>\n",
       "  <tbody>\n",
       "    <tr>\n",
       "      <th>0</th>\n",
       "      <td>3</td>\n",
       "      <td>8</td>\n",
       "    </tr>\n",
       "    <tr>\n",
       "      <th>1</th>\n",
       "      <td>3</td>\n",
       "      <td>13</td>\n",
       "    </tr>\n",
       "    <tr>\n",
       "      <th>2</th>\n",
       "      <td>3</td>\n",
       "      <td>19</td>\n",
       "    </tr>\n",
       "    <tr>\n",
       "      <th>3</th>\n",
       "      <td>8</td>\n",
       "      <td>13</td>\n",
       "    </tr>\n",
       "  </tbody>\n",
       "</table>\n",
       "</div>"
      ],
      "text/plain": [
       "   col1  col2\n",
       "0     3     8\n",
       "1     3    13\n",
       "2     3    19\n",
       "3     8    13"
      ]
     },
     "execution_count": 34,
     "metadata": {},
     "output_type": "execute_result"
    }
   ],
   "source": [
    "colinearity_pairs = pd.DataFrame(L,columns=[\"col1\",\"col2\"])"
   ]
  },
  {
   "cell_type": "code",
   "execution_count": 35,
   "metadata": {
    "scrolled": true
   },
   "outputs": [],
   "source": [
    "参数 colinearity_pairs 是一个dataframe，它记录了当前 424 个特征中，\n",
    "所有的 相关系数>0.8的特征对。\n",
    "# 此表有两列，都是特征索引，此dataframe的每一行代表一个特征对，\n",
    "它们之间的相关系数>0.8.此 dataframe里的特征对是无重复的。\n",
    "# 首先，由 colinearity_pairs计算其中每个特征出现的次数，并排序，\n",
    "得到 colinearity_counts这个dataframe，里面有两列，\n",
    "# 左列 colindex 是特征的索引值，右列 colinearity_counts \n",
    "是它在colinearity_pairs里出现的次数，也就是说，\n",
    "# 这个特征与多少个其它特征强相关。并按照这个次数由大到小排序。\n",
    "\n",
    "# 然后，思路是这样的，若有一对特征对强相关，则把其中之一删掉即可，\n",
    "另一个可以保留。而非两个全删。而我现在需要做的就是，把\n",
    "# colinearity_counts里的colindex列里的特征择性删除一部分，\n",
    "使得剩下的变量之间不再强相关，而且这时， colinearity_pairs会变空，\n",
    "# 也就是剩下的变量里不再有强相关的特征对。并用 D 列表记录下了需要删掉的特征的索引。\n",
    "# 所以，我根据 colinearity_counts 的排序，\n",
    "先把排在首位的特征提取出来，把\n",
    "# colinearity_pairs 里 所有含此特征的特征对全部删掉，然后把此特征记录在D里，\n",
    "然后检查 colinearity_pairs 看是否为空，如果\n",
    "# 不是空，则继续选择 colinearity_counts里的特征，\n",
    "把colinearity_pairs 里 所有含此特征的特征对全部删掉，然后把此特征记录在D里，\n",
    "# 然后检查 colinearity_pairs 看是否为空，若为空，则跳出循环，返回 D。\n",
    "# 缺点：本函数还是具有一定盲目性的，因为colinearity_counts排序中，\n",
    "很多变量是相同次数的，但就是依据 colinearity_counts的排序\n",
    "# 取逐个尝试了。其实我觉得如果改进的话，可以看看相同次数的特征，\n",
    "它们和其它特征的相关性，虽然都不到0.8，但是还是可能会有不同，\n",
    "# 尽量删除和其它变量相关性较强的。\n",
    "# 这里我选择的删除顺序是按照 与其它变量存在强相关的次数，按照此次数排序，逐个删除的。\n",
    "我认为还有一种思路，就是使用 XGB得到的特征\n",
    "# 重要性，从最不重要的特征开始尝试，逐个删除，使得留下来的是重要的特征，\n",
    "也就是 del_colinearity2 函数。\n",
    "\n",
    "def del_colinearity1(colinearity_pairs):\n",
    "    \n",
    "    colinearity_counts = pd.value_counts(\n",
    "        np.array(colinearity_pairs).flatten())\n",
    "    colinearity_counts = pd.DataFrame(colinearity_counts).reset_index()\n",
    "    colinearity_counts.columns = [\"colindex\",\"colinearity_counts\"] \n",
    "    \n",
    "    c = colinearity_pairs.columns\n",
    "    D=[]\n",
    "    \n",
    "    for i in colinearity_counts[\"colindex\"]:\n",
    "        print(\"use %d to delete\" % i)\n",
    "        n0 = len(colinearity_pairs)\n",
    "        print(\"before delete,the pair number is:\",n0)\n",
    "        \n",
    "        colinearity_pairs = colinearity_pairs[\n",
    "            (~colinearity_pairs[c[0]].isin([i]))&(\n",
    "                ~colinearity_pairs[c[1]].isin([i]))]\n",
    "        \n",
    "        n1 = len(colinearity_pairs)\n",
    "        print(\"after delete, the pair number is:\",n1)\n",
    "        \n",
    "        if n1<n0:                     \n",
    "            print(\"append %d to D\" % i) \n",
    "            D.append(i)\n",
    "        \n",
    "        if len(colinearity_pairs)==0:\n",
    "            print(\"now colinearity_pairs is null,break\")\n",
    "            break\n",
    "    \n",
    "    return D"
   ]
  },
  {
   "cell_type": "code",
   "execution_count": null,
   "metadata": {
    "scrolled": true
   },
   "outputs": [],
   "source": [
    "del_features1 = del_colinearity1(colinearity_pairs)"
   ]
  },
  {
   "cell_type": "code",
   "execution_count": null,
   "metadata": {
    "scrolled": true
   },
   "outputs": [],
   "source": [
    "C = [i for i in range(len(data_column_names))]\n",
    "choose = list( set(C)-set(del_features1) )\n",
    "tmp1 = pd.DataFrame(data_column_names)\n",
    "data_column_names_delcolinear1 = tmp1.iloc[choose]"
   ]
  },
  {
   "cell_type": "code",
   "execution_count": null,
   "metadata": {
    "scrolled": true
   },
   "outputs": [],
   "source": [
    "featureimportance = pd.DataFrame(modelXGB1.feature_importances_)\n",
    "featureimportance = featureimportance.reset_index() \n",
    "featureimportance.columns=[\"featureindex\",\"featureimportance\"]\n",
    "featureimportance.sort_values(by=\"featureimportance\",ascending=True,inplace=True)"
   ]
  },
  {
   "cell_type": "code",
   "execution_count": 45,
   "metadata": {
    "scrolled": false
   },
   "outputs": [
    {
     "data": {
      "text/html": [
       "<div>\n",
       "<style scoped>\n",
       "    .dataframe tbody tr th:only-of-type {\n",
       "        vertical-align: middle;\n",
       "    }\n",
       "\n",
       "    .dataframe tbody tr th {\n",
       "        vertical-align: top;\n",
       "    }\n",
       "\n",
       "    .dataframe thead th {\n",
       "        text-align: right;\n",
       "    }\n",
       "</style>\n",
       "<table border=\"1\" class=\"dataframe\">\n",
       "  <thead>\n",
       "    <tr style=\"text-align: right;\">\n",
       "      <th></th>\n",
       "      <th>featureindex</th>\n",
       "      <th>featureimportance</th>\n",
       "    </tr>\n",
       "  </thead>\n",
       "  <tbody>\n",
       "    <tr>\n",
       "      <th>421</th>\n",
       "      <td>421</td>\n",
       "      <td>0.0</td>\n",
       "    </tr>\n",
       "    <tr>\n",
       "      <th>45</th>\n",
       "      <td>45</td>\n",
       "      <td>0.0</td>\n",
       "    </tr>\n",
       "    <tr>\n",
       "      <th>162</th>\n",
       "      <td>162</td>\n",
       "      <td>0.0</td>\n",
       "    </tr>\n",
       "    <tr>\n",
       "      <th>25</th>\n",
       "      <td>25</td>\n",
       "      <td>0.0</td>\n",
       "    </tr>\n",
       "    <tr>\n",
       "      <th>27</th>\n",
       "      <td>27</td>\n",
       "      <td>0.0</td>\n",
       "    </tr>\n",
       "  </tbody>\n",
       "</table>\n",
       "</div>"
      ],
      "text/plain": [
       "     featureindex  featureimportance\n",
       "421           421                0.0\n",
       "45             45                0.0\n",
       "162           162                0.0\n",
       "25             25                0.0\n",
       "27             27                0.0"
      ]
     },
     "execution_count": 45,
     "metadata": {},
     "output_type": "execute_result"
    }
   ],
   "source": [
    "featureimportance.head()"
   ]
  },
  {
   "cell_type": "code",
   "execution_count": 46,
   "metadata": {},
   "outputs": [
    {
     "name": "stdout",
     "output_type": "stream",
     "text": [
      "The number of features without colinear&most important is: 154\n"
     ]
    }
   ],
   "source": [
    "tmp3 = np.array(data_column_names_delcolinear1.index) \n",
    "tmp4 = np.array(featureimportance[\n",
    "    \"featureindex\"][0:int(len(featureimportance)*0.1)]) \n",
    "\n",
    "data_column_names_delcolinear1_1 = np.setdiff1d(tmp3,tmp4)\n",
    "tmp5 = pd.DataFrame(data_column_names)\n",
    "data_column_names_delcolinear1_1 = tmp5.iloc[\n",
    "    data_column_names_delcolinear1_1]\n",
    "data_column_names_delcolinear1_1.columns = [\"featurename\"]\n"
   ]
  },
  {
   "cell_type": "code",
   "execution_count": null,
   "metadata": {},
   "outputs": [],
   "source": []
  },
  {
   "cell_type": "markdown",
   "metadata": {},
   "source": [
    "### 2.3.2 del_colinearity2内部融合XGB特征重要性  \n",
    "  \n",
    "&ensp;&ensp;根据XGB得到的特征重要性，由小到大，逐个删除，每次删除后都检查剩下的特征还有无相关系数>0.8的特征对，直到剩下的所有特征两两之间的相关系数都<=0.8，这些特征就是训练LR模型需要的特征。"
   ]
  },
  {
   "cell_type": "code",
   "execution_count": 48,
   "metadata": {},
   "outputs": [],
   "source": [
    "\n",
    "def del_colinearity2(colinearity_pairs,XGB_feature_importance):\n",
    "    \n",
    "    c = colinearity_pairs.columns\n",
    "    D=[]  # 记录需要删除的特征的索引。\n",
    "    \n",
    "    for i in XGB_feature_importance[\"featureindex\"]:\n",
    "        print(\"use %d to delete\" % i)\n",
    "        n0 = len(colinearity_pairs)\n",
    "        print(\"before delete,the pair number is:\",n0)\n",
    "        \n",
    "        colinearity_pairs = colinearity_pairs[\n",
    "            (~colinearity_pairs[c[0]].isin([i]))&(\n",
    "                ~colinearity_pairs[c[1]].isin([i]))]\n",
    "        n1 = len(colinearity_pairs)\n",
    "        print(\"after delete, the pair number is:\",n1)\n",
    "        \n",
    "        if n1<n0:                   \n",
    "            print(\"append %d to D\" % i) \n",
    "            D.append(i)     \n",
    "            \n",
    "        \n",
    "        print(\"-----------------------\")\n",
    "        \n",
    "        if len(colinearity_pairs)==0:\n",
    "            print(\"now colinearity_pairs is null,break\")\n",
    "            break\n",
    "    \n",
    "    return D"
   ]
  },
  {
   "cell_type": "code",
   "execution_count": null,
   "metadata": {},
   "outputs": [],
   "source": [
    "del_features2 = del_colinearity2(colinearity_pairs,featureimportance)"
   ]
  },
  {
   "cell_type": "code",
   "execution_count": 50,
   "metadata": {},
   "outputs": [
    {
     "data": {
      "text/plain": [
       "269"
      ]
     },
     "execution_count": 50,
     "metadata": {},
     "output_type": "execute_result"
    }
   ],
   "source": [
    "C = [i for i in range(len(data_column_names))]\n",
    "choose = list( set(C)-set(del_features2) )\n",
    "tmp2 = pd.DataFrame(data_column_names)\n",
    "data_column_names_delcolinear2 = tmp2.iloc[choose]\n",
    "data_column_names_delcolinear2.columns = [\"featurename\"]"
   ]
  },
  {
   "cell_type": "markdown",
   "metadata": {},
   "source": [
    "## 2.4 两种特征选择方式在 LR模型上初步尝试"
   ]
  },
  {
   "cell_type": "markdown",
   "metadata": {},
   "source": [
    "&ensp;&ensp;XGBOOST算特征重要性时曾将训练集data_tr的字段变量部分X_tr和目标变量部分y_tr，三七分成训练集X_tr_train, y_tr_train,和验证集 X_tr_test, y_tr_test。这里沿用此划分。然后，将训练集X_tr_train标准化得X_tr_train_std，将得到的均值方差用来标准化验证集X_tr_test，得到X_tr_test_std。（注意，不能沿用之前计算相关系数矩阵时得到的标准化数据，因为那个是将整个训练集进行标准化，如果这样再划分训练集验证集的话，两者就是相关的，这样做是不对的。应该把训练集的标准用到验证集上。）然后，分别用 2.3.1 选择得到的特征、2.3.2选择得到的特征 在 训练集上试，在验证集上测试结果。评分以 AUC指标为准。粗略评价2.3.1 、2.3.2哪种特征选择结果更好。"
   ]
  },
  {
   "cell_type": "code",
   "execution_count": null,
   "metadata": {},
   "outputs": [],
   "source": [
    "\n",
    "\n",
    "# 标准化 训练集的字段变量部分 X_tr_train 为 X_tr_train_standard。\n",
    "# 用训练集的均值和方差标准化 验证集的字段变量部分 X_tr_test 为 X_tr_test_standard。\n",
    "\n",
    "scaler2 = StandardScaler()\n",
    "scaler2.fit(X_tr_train)\n",
    "X_tr_train_standard = scaler2.transform(X_tr_train)\n",
    "X_tr_test_standard = scaler2.transform(X_tr_test)\n",
    "print(\"shape of X_tr_train_standard is: \",X_tr_train_standard.shape)\n",
    "print(\"shape of X_tr_test_standard is: \",X_tr_test_standard.shape)\n",
    "\n",
    "\n",
    "# 将标准化的训练集 X_tr_train_standard 转化为 dataframe并命名为 X_tr_train_std 。\n",
    "# 将标准化的验证集 X_tr_test_standard 转化为 dataframe并命名为 X_tr_test_std 。\n",
    "\n",
    "X_tr_train_std = pd.DataFrame(X_tr_train_standard,columns=data_column_names)\n",
    "X_tr_test_std = pd.DataFrame(X_tr_test_standard,columns=data_column_names)\n",
    "print(\"shape of X_tr_train_std is: \",X_tr_train_std.shape)\n",
    "print(\"shape of X_tr_test_std is: \",X_tr_test_std.shape)"
   ]
  },
  {
   "cell_type": "code",
   "execution_count": 57,
   "metadata": {},
   "outputs": [
    {
     "name": "stdout",
     "output_type": "stream",
     "text": [
      "shape of X_tr_train_std_choose1 is: (44304, 154)\n",
      "shape of y_tr_train is: (44304,)\n",
      "shape of X_tr_test_std_choose1 is: (11077, 154)\n",
      "shape of y_tr_test is: (11077,)\n"
     ]
    }
   ],
   "source": [
    "# 这里，对训练集和验证集的X部分使用 2.3.1的特征选择法data_column_names_delcolinear1_1进行特征选择。\n",
    "# 得到 X_tr_train_std_choose1可用于训练，X_tr_test_std_choose1可用于验证。它们都只包含 152 个特征。\n",
    "\n",
    "X_tr_train_std_choose1 = X_tr_train_std.loc[:,\n",
    "                        data_column_names_delcolinear1_1[\"featurename\"]]\n",
    "X_tr_test_std_choose1 = X_tr_test_std.loc[:,\n",
    "                    data_column_names_delcolinear1_1[\"featurename\"]]"
   ]
  },
  {
   "cell_type": "code",
   "execution_count": 58,
   "metadata": {},
   "outputs": [
    {
     "name": "stdout",
     "output_type": "stream",
     "text": [
      "shape of X_tr_train_std_choose2 is: (44304, 155)\n",
      "shape of y_tr_train is: (44304,)\n",
      "shape of X_tr_test_std_choose2 is: (11077, 155)\n",
      "shape of y_tr_test is: (11077,)\n"
     ]
    }
   ],
   "source": [
    "# 这里，对训练集和验证集的X部分使用 2.3.2的特征选择法data_column_names_delcolinear2进行特征选择。\n",
    "# 得到 X_tr_train_std_choose2可用于训练，X_tr_test_std_choose2可用于验证。它们都只包含 159 个特征。\n",
    "\n",
    "X_tr_train_std_choose2 = X_tr_train_std.loc[:,\n",
    "                            data_column_names_delcolinear2[\"featurename\"]]\n",
    "X_tr_test_std_choose2 = X_tr_test_std.loc[:,\n",
    "                            data_column_names_delcolinear2[\"featurename\"]]"
   ]
  },
  {
   "cell_type": "code",
   "execution_count": 59,
   "metadata": {},
   "outputs": [],
   "source": [
    "args ={'C':1}     \n",
    "LR_parameter = {\"penalty\": \"l2\",\"tol\": 1e-4,\"class_weight\": 'balanced', \n",
    "                'solver': 'liblinear','max_iter':1000,'random_state':1}  \n",
    "LR_parameter.update(args)\n",
    "\n",
    "\n",
    "modelLR1 = LogisticRegression(**LR_parameter)\n",
    "modelLR1.fit(X_tr_train_std_choose1, y_tr_train)\n",
    "proba_prediction1 = modelLR1.predict_proba(X_tr_test_std_choose1)\n",
    "\n",
    "\n",
    "modelLR2 = LogisticRegression(**LR_parameter)\n",
    "modelLR2.fit(X_tr_train_std_choose2, y_tr_train)\n",
    "proba_prediction2 = modelLR2.predict_proba(X_tr_test_std_choose2)"
   ]
  },
  {
   "cell_type": "code",
   "execution_count": 60,
   "metadata": {},
   "outputs": [
    {
     "data": {
      "text/plain": [
       "array([0., 1.])"
      ]
     },
     "execution_count": 60,
     "metadata": {},
     "output_type": "execute_result"
    }
   ],
   "source": [
    "tmp6 = pd.DataFrame(y_tr_test,columns=[\"target\"]\n",
    "                   ).reset_index().drop(\"userID\",axis=1)\n",
    "proba_prediction1 = pd.DataFrame(proba_prediction1,\n",
    "                                 columns=[\"class0\",\"class1\"])\n",
    "proba_prediction_1 = pd.concat([proba_prediction1,tmp6],axis=1)\n",
    "proba_prediction2 = pd.DataFrame(proba_prediction2, \n",
    "                                 columns=[\"class0\",\"class1\"])\n",
    "proba_prediction_2 = pd.concat([proba_prediction2,tmp6],axis=1)"
   ]
  },
  {
   "cell_type": "code",
   "execution_count": null,
   "metadata": {},
   "outputs": [],
   "source": []
  },
  {
   "cell_type": "code",
   "execution_count": 65,
   "metadata": {},
   "outputs": [
    {
     "name": "stdout",
     "output_type": "stream",
     "text": [
      "auc1 is  0.6572063781558961\n",
      "auc2 is  0.6587271234000788\n"
     ]
    }
   ],
   "source": [
    "fpr1,tpr1,thresholds1 = metrics.roc_curve(proba_prediction_1[\"target\"], \n",
    "                                          proba_prediction_1[\"class1\"],\n",
    "                                          pos_label=1)\n",
    "fpr2,tpr2,thresholds2 = metrics.roc_curve(proba_prediction_2[\"target\"], \n",
    "                                          proba_prediction_2[\"class1\"],\n",
    "                                          pos_label=1)\n",
    "\n",
    "auc1 = metrics.auc (fpr1,tpr1)\n",
    "auc2 = metrics.auc (fpr2,tpr2)"
   ]
  },
  {
   "cell_type": "code",
   "execution_count": 66,
   "metadata": {
    "scrolled": true
   },
   "outputs": [
    {
     "data": {
      "image/png": "[encoded data removed]",
      "text/plain": [
       "<matplotlib.figure.Figure at 0xecbade3320>"
      ]
     },
     "metadata": {},
     "output_type": "display_data"
    }
   ],
   "source": [
    "font1 = {'family': 'Calibri','weight': 'normal','size': 18} # 轴标签字体\n",
    "font2 = {'family': 'Calibri','weight': 'normal','size': 23} # 图标题字体\n",
    "\n",
    "fig3 = plt.figure(figsize = (16,6))\n",
    "lw = 2\n",
    "ax1 = fig3.add_subplot(121)\n",
    "ax1.plot(fpr1,tpr1,color=\"darkorange\",lw=2, label=\"ROC curve 1\")\n",
    "ax1.plot([0,1],[0,1],color=\"navy\",lw=lw, linestyle=\"--\")\n",
    "ax1.set_xlim(0.0, 1.0)\n",
    "ax1.set_ylim(0.0, 1.0)\n",
    "ax1.set_xlabel('False Positive Rate')\n",
    "ax1.set_ylabel('True Positive Rate')\n",
    "ax1.set_title('ROC curve 1',fontdict=font2)\n",
    "ax1.legend(loc=\"lower right\")\n",
    "\n",
    "ax2 = fig3.add_subplot(122)\n",
    "ax2.plot(fpr2,tpr2,color=\"darkorange\",lw=2, label=\"ROC curve 2\")\n",
    "ax2.plot([0,1],[0,1],color=\"navy\",lw=lw, linestyle=\"--\")\n",
    "ax2.set_xlim(0.0, 1.0)\n",
    "ax2.set_ylim(0.0, 1.0)\n",
    "ax2.set_xlabel('False Positive Rate')\n",
    "ax2.set_ylabel('True Positive Rate')\n",
    "ax2.set_title('ROC curve 2',fontdict=font2)\n",
    "ax2.legend(loc=\"lower right\")\n",
    "\n",
    "plt.subplots_adjust(wspace = 0.5, hspace =0.5)  # 调整每个子图之间的距离    \n",
    "plt.show()"
   ]
  },
  {
   "cell_type": "markdown",
   "metadata": {},
   "source": [
    "结论：   \n",
    "1. 阈值为 0.8时，auc1 = 0.6477, auc2 = 0.6519，提示用2.3.2得到的特征训练LR模型略好于用2.3.1得到的特征。\n",
    "2. 经试验发现，如果以上步骤不变，仅调节 colinearity 中的阈值，也就是相关系数大于多少的特征对要删去其一，会发现，  \n",
    "阈值为 0.6时，auc1 = 0.6324, auc2 = 0.6447  \n",
    "阈值为 0.7时，auc1 = 0.6398, auc2 = 0.6468  \n",
    "阈值为 0.8时，auc1 = 0.6477, auc2 = 0.6519  \n",
    "阈值为 0.9时，auc1 = 0.6556, auc2 = 0.6552  \n",
    "阈值为 1.0时，auc1 = 0.6586, auc2 = 0.6583  \n",
    "这似乎提示，不删除强相关的特征，即保留所有特征会更好？  \n",
    "3. 改变 LR 的超参数C并不会引起 AUC值改变太多。（相关系数阈值0.8）   \n",
    "C为  1 时，auc1 = 0.647744 , acu2 = 0.651925  \n",
    "C为 10 时，auc1 = 0.647729 , acu2 = 0.651930  \n",
    "C为100 时，auc1 = 0.647727 , acu2 = 0.651935   \n",
    "所以并没有特别大的改观。  \n",
    "4. 试过增大LR模型的max_iter，发现基本没有变化。（阈值0.8，C为1）   \n",
    "max_iter为  100 时，auc1 = 0.647744 , acu2 = 0.651925\n",
    "max_iter为 1000 时，auc1 = 0.647744 , acu2 = 0.651925\n"
   ]
  },
  {
   "cell_type": "markdown",
   "metadata": {},
   "source": [
    "## 2.5 训练 LR 模型  \n",
    "\n",
    "1. 沿用计算XGBOOST特征重要性时得到的数据集：将训练集data_tr进行train_test_split二八分（此函数里面有shuffle和stratify选项），得到字段部分和目标变量部分分类得X_tr_train, X_tr_test, y_tr_train, y_tr_test。然后，因为2.4中显示特征选择会降低AUC，所以此处不进行特征选择，而是使用所有特征进行训练。训练集X_tr_train，y_tr_train。验证集X_tr_test，y_tr_test。\n",
    "2. LR模型只有一个超参数C。使用 pipeline，将 “标准化StandardScaler”和“LR模型”组成管道。通过GridSearchCV进行对LR的超参数C进行交叉验证，粗选出最佳C。\n",
    "3. 在最佳C下，LR模型对完整数据集X_tr_train，y_tr_train进行fit，得到最佳模型，然后对验证集X_tr_test，y_tr_test进行预测，并计算auc和ks评分。\n",
    "4. 围绕粗选出的最佳C设置一个小范围，使用 hyperopt 进行精细的选择。得到最佳C。\n",
    "5. 将完整训练集进行五折交叉验证（在最佳C下），得到5个 auc和ks值供参考。\n",
    "6. 在最佳C下，对完整训练集X_tr,y_tr训练LR模型，得到的模型对未知样本集 X_te进行预测，保存预测结果 LRPre. "
   ]
  },
  {
   "cell_type": "markdown",
   "metadata": {},
   "source": [
    "### 2.5.1 准备数据集。\n",
    "&ensp;&ensp;沿用计算XGBOOST特征重要性时得到的数据集：将训练集data_tr进行train_test_split二八分（此函数里面有shuffle和stratify选项），得到字段部分和目标变量部分分类得X_tr_train, X_tr_test, y_tr_train, y_tr_test。然后，因为2.4中显示特征选择会降低AUC，所以此处不进行特征选择，而是使用所有特征进行训练。 训练集X_tr_train，y_tr_train可用于之后的交叉验证求最佳超参数。验证集X_tr_test，y_tr_test可用于得到最佳超参数并训练出最佳模型后，用此模型对验证集进行预测，计算auc。"
   ]
  },
  {
   "cell_type": "code",
   "execution_count": null,
   "metadata": {
    "scrolled": false
   },
   "outputs": [],
   "source": []
  },
  {
   "cell_type": "markdown",
   "metadata": {},
   "source": [
    "### 2.5.2 GridSearchCV 交叉验证粗取最佳超参数"
   ]
  },
  {
   "cell_type": "code",
   "execution_count": 69,
   "metadata": {
    "scrolled": false
   },
   "outputs": [
    {
     "name": "stdout",
     "output_type": "stream",
     "text": [
      "Time: 0.617 hours\n"
     ]
    }
   ],
   "source": [
    "# LR模型只有一个超参数C。使用 pipeline，将 “标准化StandardScaler”和“LR模型”组成管道。\n",
    "# 通过GridSearchCV对训练集X_tr_train，y_tr_train进行5折交叉验证，从而实现对LR的超参数C进行\n",
    "# 交叉验证，选出最佳C。\n",
    "\n",
    "# ks_score = make_scorer(ks_statistic,greater_is_better=True,needs_proba=False)\n",
    "LR_parameter = {\"penalty\": \"l2\",\"tol\": 1e-4,\"class_weight\": 'balanced', \n",
    "                'solver': 'liblinear','max_iter':100,'random_state':3}\n",
    "pipe1 = Pipeline([ (\"standard\", StandardScaler()) ,\n",
    "                  (\"LR\", LogisticRegression(**LR_parameter)) ])\n",
    "\n",
    "# 只对C这一个超参数进行网格搜索。给出C的粗范围。\n",
    "param_grid = dict(LR__C=[0.001,0.01,0.1, 1, 10, 100, 1000]) \n",
    "\n",
    "# scoring指定了多个函数，则交叉验证会算多个score。而应该依据哪个函数的返回值来选择最佳超参数？在refit里指定。\n",
    "timestart = time.time()\n",
    "grid_search = GridSearchCV( pipe1, param_grid=param_grid, cv=5, scoring=\"roc_auc\", refit=\"roc_auc\")  \n",
    "grid_search.fit(X_tr_train,y_tr_train)\n",
    "print(\"Time: {:.3f} hours\".format((time.time() - timestart)/3600))"
   ]
  },
  {
   "cell_type": "code",
   "execution_count": 70,
   "metadata": {},
   "outputs": [
    {
     "data": {
      "text/plain": [
       "{'LR__C': 0.01}"
      ]
     },
     "execution_count": 70,
     "metadata": {},
     "output_type": "execute_result"
    }
   ],
   "source": [
    "# 返回最佳超参数值，可见最佳C是0.01\n",
    "grid_search.best_params_  "
   ]
  },
  {
   "cell_type": "markdown",
   "metadata": {},
   "source": [
    "### 2.5.3 对验证集进行预测并求得AUC---法1"
   ]
  },
  {
   "cell_type": "markdown",
   "metadata": {},
   "source": [
    "进行预测。法1  \n",
    "  \n",
    "说明：  \n",
    "&ensp;&ensp;我是这样理解的，GridSearchCV 去 fit(X_tr_train,y_tr_train)时，首先按照cv=5的要求分成五折（按照GridSearchCV的规定，是分层抽样但不随机shuffle。好在我刚开始已经手动shuffle过了。则这样实现了“shuffle+分层”的抽样方法），然后，把第一种情况（4折训练集，1折验证集）包括它们对应的目标y值传给pipe，pipe里的StandardScaler先接触到 4折训练集+1折验证集，StandardScaler会对4折训练集进行 fit+transform标准化，然后把学到的均值方差应用到1折验证集上，对其也标准化（应该不会对目标变量y进行标准化，因为，查阅StandardScaler的文档，发现它的fit方法的参数里是有y的，但不会对y进行任何处理，我认为是StandardScaler为了兼容其它方法，比如这里的pipeline，还是保留了y参数，从而有一个传递的效果），然后，标准化后的4折训练集+1折验证集，以及不变的y 传递给LR模型，而且此时GridSearchCV 选定尝试超参数C=0.001，LR模型进行训练，得到在C=0.001下的模型，并对验证集进行预测，对比验证集真实结果，用scoring=”roc_auc”即auc标准，算得auc值。 后续过程参见GridSearchCV原理。总之，GridSearchCV会对每个超参数组合进行5次训练，得到5个score取平均，谁的平均score最高，则谁是最佳的超参数C值。  \n",
    "&ensp;&ensp;grid_search.best_params_ 返回这个最佳C。  \n",
    "&ensp;&ensp;另外，因为GridSearchCV设置 refit=true，所以得到最佳C后，会在整个数据集上再尝试，这时，整个数据集X_tr_train,y_tr_train给到了StandardScaler，它直接将X_tr_train标准化，保留y_tr_train不变，并记录了X_tr_train的均值方差标准。然后，把标准化的X_tr_train,y_tr_train给到了LR模型，在最佳C下对整个训练集训练出模型，这个模型存储在grid_search.best_estimator_。另外我认为，对于 GridSearchCV来说，“模型”这个概念指的是pipe，毕竟GridSearchCV的第一个参数我写的是pipe而非LR，所以，我认为这个最佳模型应该是pipe，即包含了StandardScaler和LR，其中，StandardScaler是对标准化的整个训练集进行fit得到的，所以我认为它里面是包含了整个训练集的均值方差。而LR是对整个标准化训练集在C为最佳C下训练得到的。  \n",
    "&ensp;&ensp;然后，grid_search. predict_proba(X_tr_test)会用这个存储在grid_search.best_estimator_里的模型预测测试集X_tr_test，因为StandardScaler已经存储了整个训练集的均值方差，所以可以直接用在X_tr_test上。这样是对的。然后，把标准化后的X_tr_test传递给最佳LR模型，进行预测。  \n",
    "&ensp;&ensp;grid_search. score(X_tr_test,y_tr_test) 同样是用grid_search.best_estimator_里的最佳模型对X_tr_test进行标准化，预测，评分，这里用的是scoring=”roc_auc”定义的auc分值。  "
   ]
  },
  {
   "cell_type": "code",
   "execution_count": 71,
   "metadata": {},
   "outputs": [
    {
     "data": {
      "text/plain": [
       "Pipeline(memory=None,\n",
       "     steps=[('standard', StandardScaler(copy=True, with_mean=True, with_std=True)), ('LR', LogisticRegression(C=0.01, class_weight='balanced', dual=False,\n",
       "          fit_intercept=True, intercept_scaling=1, max_iter=100,\n",
       "          multi_class='ovr', n_jobs=1, penalty='l2', random_state=3,\n",
       "          solver='liblinear', tol=0.0001, verbose=0, warm_start=False))])"
      ]
     },
     "execution_count": 71,
     "metadata": {},
     "output_type": "execute_result"
    }
   ],
   "source": [
    "# 返回最佳模型。是在最佳超参数 C= 下，对整个训练集 X_tr_train，y_tr_train进行学习得到的模型。\n",
    "grid_search.best_estimator_  "
   ]
  },
  {
   "cell_type": "code",
   "execution_count": 72,
   "metadata": {},
   "outputs": [
    {
     "data": {
      "text/plain": [
       "0.6687085665187095"
      ]
     },
     "execution_count": 72,
     "metadata": {},
     "output_type": "execute_result"
    }
   ],
   "source": [
    "# 返回使用最佳超参数值进行五折训练时，得到的 5个score的均值，且是 refit指定的 auc指标的均值。\n",
    "# 可见，最佳C时，五折训练得到的五个模型对各自验证集预测的auc得分的均值为 0.6687 。\n",
    "grid_search.best_score_  "
   ]
  },
  {
   "cell_type": "code",
   "execution_count": 73,
   "metadata": {},
   "outputs": [
    {
     "data": {
      "text/plain": [
       "array([[0.57849826, 0.42150174],\n",
       "       [0.54401289, 0.45598711],\n",
       "       [0.56817054, 0.43182946],\n",
       "       ...,\n",
       "       [0.75230456, 0.24769544],\n",
       "       [0.57148205, 0.42851795],\n",
       "       [0.79973481, 0.20026519]])"
      ]
     },
     "execution_count": 73,
     "metadata": {},
     "output_type": "execute_result"
    }
   ],
   "source": [
    "# 对测试集 X_tr_test 进行属于正类别1的概率预测\n",
    "grid_search.predict_proba(X_tr_test)"
   ]
  },
  {
   "cell_type": "code",
   "execution_count": 74,
   "metadata": {
    "scrolled": true
   },
   "outputs": [
    {
     "data": {
      "text/plain": [
       "0.6736258454927472"
      ]
     },
     "execution_count": 74,
     "metadata": {},
     "output_type": "execute_result"
    }
   ],
   "source": [
    "# 使用best_estimator_里的最佳模型对测试集样本进行预测并计算score。score指标使用 refit指定的auc指标。\n",
    "# 可见，最佳模型对测试集预测的auc是0.67左右。\n",
    "grid_search.score(X_tr_test,y_tr_test)"
   ]
  },
  {
   "cell_type": "code",
   "execution_count": 75,
   "metadata": {},
   "outputs": [
    {
     "name": "stdout",
     "output_type": "stream",
     "text": [
      "ks_value is:  0.2531851273014329\n"
     ]
    }
   ],
   "source": [
    "# 算一下 ks 评分。可见， KS评分还是很低的。\n",
    "ks_value = ks_statistic(np.array(y_tr_test),grid_search.predict_proba(X_tr_test)[:,1])\n",
    "# 注意此处，千万不要把 左侧的变量的名字定义为 ks_statistic，否则算出值后，此变量会指向一个值，而非一个函数。\n",
    "# 下一次再调用 ks_statistic时就会出错。犯过这个错了已经。\n",
    "print(\"ks_value is: \",ks_value)"
   ]
  },
  {
   "cell_type": "markdown",
   "metadata": {},
   "source": [
    "### 2.5.4 对验证集进行预测并求得AUC---法2"
   ]
  },
  {
   "cell_type": "markdown",
   "metadata": {},
   "source": [
    "进行预测。法2  \n",
    "  \n",
    "说明：  \n",
    "&ensp;&ensp;grid_search.best_params_ 得到了最佳C。然后，将之带入到pipe中，这时，pipe里的LR模型的C就固定了，然后，pipe.fit(X_tr_train,y_tr_train)，首先，StandardScaler接触到X_tr_train,y_tr_train，会对X_tr_train进行fit和transform，即进行标准化并记录X_tr_train的均值方差。然后，把标准化后的X_tr_train和未更改的y_tr_train给到LR，则LR会在最佳C下fit此数据，得到最佳模型。    \n",
    "&ensp;&ensp;pipe.predict_proba(X_tr_test)是用次最佳模型对X_tr_test进行预测，首先还是StandardScaler接触到X_tr_test，但它已经存储了X_tr_train的均值方差，所以直接应用到X_tr_test上即可，然后把标准化的X_tr_test给到了LR模型进行预测。  \n",
    "&ensp;&ensp;然后调用 roc函数计算auc。  \n",
    "&ensp;&ensp;我个人认为法1和法2的predict_proba 和 auc 结果应该是相同的。事实却是是相同的。证明法1法2等效。\n"
   ]
  },
  {
   "cell_type": "code",
   "execution_count": 76,
   "metadata": {},
   "outputs": [
    {
     "data": {
      "text/plain": [
       "{'LR__C': 0.01}"
      ]
     },
     "execution_count": 76,
     "metadata": {},
     "output_type": "execute_result"
    }
   ],
   "source": [
    "# 返回最佳超参数值，可见最佳C是0.01\n",
    "grid_search.best_params_  "
   ]
  },
  {
   "cell_type": "code",
   "execution_count": 77,
   "metadata": {},
   "outputs": [
    {
     "data": {
      "text/plain": [
       "array([[0.57849826, 0.42150174],\n",
       "       [0.54401289, 0.45598711],\n",
       "       [0.56817054, 0.43182946],\n",
       "       ...,\n",
       "       [0.75230456, 0.24769544],\n",
       "       [0.57148205, 0.42851795],\n",
       "       [0.79973481, 0.20026519]])"
      ]
     },
     "execution_count": 77,
     "metadata": {},
     "output_type": "execute_result"
    }
   ],
   "source": [
    "# 这里使用了将 C值代入 pipe，得到最终 pipe的方式。用 pipe 对测试集样本进行预测，计算auc。\n",
    "\n",
    "pipe1.set_params(LR__C=0.01)  # 最佳超参数值代入pipe里\n",
    "pipe1.fit(X_tr_train,y_tr_train)  # 整个训练集 X_tr_train，y_tr_train进行学习得到的模型\n",
    "pipe1.predict_proba(X_tr_test) # 可见这个结果和法 1 完全相同。"
   ]
  },
  {
   "cell_type": "code",
   "execution_count": 78,
   "metadata": {},
   "outputs": [
    {
     "data": {
      "text/plain": [
       "0.6736258454927472"
      ]
     },
     "execution_count": 78,
     "metadata": {},
     "output_type": "execute_result"
    }
   ],
   "source": [
    "# 可见这个结果和法 1 完全相同。\n",
    "roc_auc_score(y_tr_test, pipe1.predict_proba(X_tr_test)[:,1])"
   ]
  },
  {
   "cell_type": "code",
   "execution_count": 79,
   "metadata": {},
   "outputs": [
    {
     "name": "stdout",
     "output_type": "stream",
     "text": [
      "ks_statistic value is:  0.2531851273014329\n"
     ]
    }
   ],
   "source": [
    "# 算一下 ks 评分。KS评分与法1相同，还是很低的。\n",
    "\n",
    "ks_value2 = ks_statistic(np.array(y_tr_test),pipe1.predict_proba(X_tr_test)[:,1]) \n",
    "print(\"ks_statistic value is: \",ks_value2)"
   ]
  },
  {
   "cell_type": "markdown",
   "metadata": {},
   "source": [
    "### 2.5.5 查看并分析详细信息"
   ]
  },
  {
   "cell_type": "code",
   "execution_count": null,
   "metadata": {
    "scrolled": false
   },
   "outputs": [],
   "source": []
  },
  {
   "cell_type": "markdown",
   "metadata": {},
   "source": []
  },
  {
   "cell_type": "markdown",
   "metadata": {},
   "source": [
    "### 2.5.6 hyperopt 求取最佳超参数"
   ]
  },
  {
   "cell_type": "markdown",
   "metadata": {},
   "source": [
    "&ensp;&ensp;GridSearchCV只是求出了超参数C的大致范围，即0.001到0.1之间。我们把C的范围限制在这里，通过hyperopt在这个参数范围内寻找最佳C值。首先，使用训练LR时使用的二八分数据：训练集X_tr_train，y_tr_train, 测试集X_tr_test，y_tr_test。按照hyperopt的用法，需要自定义一个函数，给出超参数范围，hyperopt在这个范围内选择值，然后代入这个函数，求得函数值，使函数值最小的那个就是最佳超参数。我们这样定义函数LRfunction：对训练集X_tr_train，y_tr_train进行五折划分，在某C下，分别学得5个模型，用模型对各自的测试集预测并求auc，求得5个auc值的均值的负数，作为函数返回值，可见，此值越小，说明 auc均值越大，说明这个C固定值越佳。"
   ]
  },
  {
   "cell_type": "code",
   "execution_count": 81,
   "metadata": {},
   "outputs": [
    {
     "name": "stdout",
     "output_type": "stream",
     "text": [
      "shape of X_tr_train is: (44304, 424)\n",
      "shape of y_tr_train is: (44304,)\n",
      "shape of X_tr_test is: (11077, 424)\n",
      "shape of y_tr_test is: (11077,)\n"
     ]
    }
   ],
   "source": [
    "# 使用训练LR模型使用的二八分数据：训练集X_tr_train，y_tr_train, 测试集X_tr_test，y_tr_test\n",
    "\n",
    "print(\"shape of X_tr_train is:\",X_tr_train.shape)\n",
    "print(\"shape of y_tr_train is:\",y_tr_train.shape)\n",
    "print(\"shape of X_tr_test is:\",X_tr_test.shape)\n",
    "print(\"shape of y_tr_test is:\",y_tr_test.shape)"
   ]
  },
  {
   "cell_type": "code",
   "execution_count": 82,
   "metadata": {},
   "outputs": [],
   "source": [
    "# 然后，对训练集X_tr_train，y_tr_train进行一次性五折划分。\n",
    "# Xt 存储了 5个二维array，分别是5份训练集。  \n",
    "# Xv 存储了 5个二维array，分别是对应的5份验证集。\n",
    "# Yt 存储了 5个一维array，分别是对应的5份训练集的标签。\n",
    "# Yv 存储了 5个一维array，分别是对应的5份验证集的标签。\n",
    "\n",
    "\n",
    "skf = StratifiedKFold (n_splits=5,shuffle=True,random_state=2)  \n",
    "# 保证了即shuffle又分层。（其实二八分时已经shuffle过了，此处可以不shuffle，也可以再shuffle一次）\n",
    "Xt = []\n",
    "Yt = []\n",
    "Xv = []\n",
    "Yv = []\n",
    "for train_index, validation_index in skf.split(X_tr_train.values,y_tr_train.values):  \n",
    "    Xt.append(X_tr_train.values[train_index])\n",
    "    Yt.append(y_tr_train.values[train_index])\n",
    "    Xv.append(X_tr_train.values[validation_index])\n",
    "    Yv.append(y_tr_train.values[validation_index])"
   ]
  },
  {
   "cell_type": "code",
   "execution_count": 83,
   "metadata": {
    "scrolled": true
   },
   "outputs": [
    {
     "data": {
      "text/plain": [
       "[array([[0.00000000e+00, 1.00000000e+00, 0.00000000e+00, ...,\n",
       "         5.00000000e+00, 6.05015990e+01, 5.93161749e+09],\n",
       "        [0.00000000e+00, 1.00000000e+00, 0.00000000e+00, ...,\n",
       "         4.00000000e+00, 4.14421640e+01, 5.92919829e+09],\n",
       "        [0.00000000e+00, 0.00000000e+00, 1.00000000e+00, ...,\n",
       "         3.00000000e+00, 4.38137420e+01, 5.92911189e+09],\n",
       "        ...,\n",
       "        [0.00000000e+00, 1.00000000e+00, 0.00000000e+00, ...,\n",
       "         8.00000000e+00, 1.54479904e+02, 5.92686549e+09],\n",
       "        [0.00000000e+00, 1.00000000e+00, 0.00000000e+00, ...,\n",
       "         2.00000000e+00, 4.01248630e+01, 5.92755669e+09],\n",
       "        [0.00000000e+00, 1.00000000e+00, 0.00000000e+00, ...,\n",
       "         7.00000000e+00, 1.22143875e+02, 5.92695189e+09]]),\n",
       " array([[0.00000000e+00, 1.00000000e+00, 0.00000000e+00, ...,\n",
       "         2.00000000e+00, 4.26317480e+01, 5.91563349e+09],\n",
       "        [0.00000000e+00, 1.00000000e+00, 0.00000000e+00, ...,\n",
       "         3.00000000e+00, 3.98147080e+01, 5.92824789e+09],\n",
       "        [0.00000000e+00, 1.00000000e+00, 0.00000000e+00, ...,\n",
       "         4.00000000e+00, 4.14421640e+01, 5.92919829e+09],\n",
       "        ...,\n",
       "        [0.00000000e+00, 1.00000000e+00, 0.00000000e+00, ...,\n",
       "         4.00000000e+00, 8.44982210e+01, 5.92781589e+09],\n",
       "        [0.00000000e+00, 1.00000000e+00, 0.00000000e+00, ...,\n",
       "         9.00000000e+00, 1.67882901e+02, 5.92703829e+09],\n",
       "        [0.00000000e+00, 1.00000000e+00, 0.00000000e+00, ...,\n",
       "         2.00000000e+00, 4.01248630e+01, 5.92755669e+09]]),\n",
       " array([[0.00000000e+00, 1.00000000e+00, 0.00000000e+00, ...,\n",
       "         2.00000000e+00, 4.26317480e+01, 5.91563349e+09],\n",
       "        [0.00000000e+00, 1.00000000e+00, 0.00000000e+00, ...,\n",
       "         5.00000000e+00, 6.05015990e+01, 5.93161749e+09],\n",
       "        [0.00000000e+00, 1.00000000e+00, 0.00000000e+00, ...,\n",
       "         3.00000000e+00, 3.98147080e+01, 5.92824789e+09],\n",
       "        ...,\n",
       "        [0.00000000e+00, 1.00000000e+00, 0.00000000e+00, ...,\n",
       "         8.00000000e+00, 1.54479904e+02, 5.92686549e+09],\n",
       "        [0.00000000e+00, 1.00000000e+00, 0.00000000e+00, ...,\n",
       "         2.00000000e+00, 4.01248630e+01, 5.92755669e+09],\n",
       "        [0.00000000e+00, 1.00000000e+00, 0.00000000e+00, ...,\n",
       "         7.00000000e+00, 1.22143875e+02, 5.92695189e+09]]),\n",
       " array([[0.00000000e+00, 1.00000000e+00, 0.00000000e+00, ...,\n",
       "         2.00000000e+00, 4.26317480e+01, 5.91563349e+09],\n",
       "        [0.00000000e+00, 1.00000000e+00, 0.00000000e+00, ...,\n",
       "         5.00000000e+00, 6.05015990e+01, 5.93161749e+09],\n",
       "        [0.00000000e+00, 1.00000000e+00, 0.00000000e+00, ...,\n",
       "         3.00000000e+00, 3.98147080e+01, 5.92824789e+09],\n",
       "        ...,\n",
       "        [0.00000000e+00, 1.00000000e+00, 0.00000000e+00, ...,\n",
       "         9.00000000e+00, 1.67882901e+02, 5.92703829e+09],\n",
       "        [0.00000000e+00, 1.00000000e+00, 0.00000000e+00, ...,\n",
       "         8.00000000e+00, 1.54479904e+02, 5.92686549e+09],\n",
       "        [0.00000000e+00, 1.00000000e+00, 0.00000000e+00, ...,\n",
       "         7.00000000e+00, 1.22143875e+02, 5.92695189e+09]]),\n",
       " array([[0.00000000e+00, 1.00000000e+00, 0.00000000e+00, ...,\n",
       "         2.00000000e+00, 4.26317480e+01, 5.91563349e+09],\n",
       "        [0.00000000e+00, 1.00000000e+00, 0.00000000e+00, ...,\n",
       "         5.00000000e+00, 6.05015990e+01, 5.93161749e+09],\n",
       "        [0.00000000e+00, 1.00000000e+00, 0.00000000e+00, ...,\n",
       "         3.00000000e+00, 3.98147080e+01, 5.92824789e+09],\n",
       "        ...,\n",
       "        [0.00000000e+00, 1.00000000e+00, 0.00000000e+00, ...,\n",
       "         8.00000000e+00, 1.54479904e+02, 5.92686549e+09],\n",
       "        [0.00000000e+00, 1.00000000e+00, 0.00000000e+00, ...,\n",
       "         2.00000000e+00, 4.01248630e+01, 5.92755669e+09],\n",
       "        [0.00000000e+00, 1.00000000e+00, 0.00000000e+00, ...,\n",
       "         7.00000000e+00, 1.22143875e+02, 5.92695189e+09]])]"
      ]
     },
     "execution_count": 83,
     "metadata": {},
     "output_type": "execute_result"
    }
   ],
   "source": [
    "Xt"
   ]
  },
  {
   "cell_type": "code",
   "execution_count": 84,
   "metadata": {
    "scrolled": true
   },
   "outputs": [
    {
     "data": {
      "text/plain": [
       "[array([0., 0., 0., ..., 0., 0., 1.]),\n",
       " array([0., 0., 0., ..., 0., 0., 0.]),\n",
       " array([0., 0., 0., ..., 0., 0., 1.]),\n",
       " array([0., 0., 0., ..., 0., 0., 1.]),\n",
       " array([0., 0., 0., ..., 0., 0., 1.])]"
      ]
     },
     "execution_count": 84,
     "metadata": {},
     "output_type": "execute_result"
    }
   ],
   "source": [
    "Yt"
   ]
  },
  {
   "cell_type": "code",
   "execution_count": 85,
   "metadata": {},
   "outputs": [
    {
     "name": "stdout",
     "output_type": "stream",
     "text": [
      "Time: 0.875 hours\n"
     ]
    }
   ],
   "source": [
    "# 此段代码用 hyperopt 加 交叉验证 选择 LR 模型的最优超参数。\n",
    "#（5折交叉验证）将此训练集一次性随机分成5份，以其中4份作为训练集，1份作为验证集。给模型代入一组固定的超参数值，然后，\n",
    "# 用此模型对这4份训练集进行学习，用学得的模型对那1份验证集进行预测，然后，对比验证集的预测值和真实值（用Score函数，计算AUC值），\n",
    "# 得到score。因为是5折，所以可以学得5个模型，进行5次相应预测，得到5个score值（这5个模型用的都是同一组超参数值），\n",
    "# 求这5个score的平均值的负值，即 -np.mean(score)。将这个过程构成函数 LRfunction，这个-np.mean(score)就是LRfunction的返回值，\n",
    "# 是hyperopt的评价依据。然后，定义超参数空间space，设置搜索算法algo参数，然后，使用fmin方法在超参数空间中选择能使 -np.mean(score)\n",
    "# 值最小的那组超参数值。这样，就得到了最佳超参数值。\n",
    "# 此处，LR 模型 只用 hyperopt 加 交叉验证 选择 \"C\" 这一个超参数的最优值。\n",
    "# 另外，还使用了 trials 捕捉了在每一次尝试中使用的 C值 和 对应得到 的-np.mean(score)值（即loss列）\n",
    "\n",
    "\n",
    "LR_parameter_space ={'C':hp.uniform('C', 0.001, 0.1)}  \n",
    "# \n",
    "# 对 LR 模型来说，只对 C 这一个超参数调参。我本来用的是 hp.loguniform(\"C\", -6.9, -2.3)，\n",
    "# 这个根据粗选结果来设定。exp(-6.9)=0.001, exp(-4.6)=0.01,  exp(-2.3)=0.1 \n",
    "# [exp(-6.9),exp(-2.3)]间的log分布。但我发现这样不太好，因为这个分布对 0.001到0.01之间的数值\n",
    "# 尝试的比较多，而对 0.01到 0.1 之间的尝试的很少。所以我改成了均匀分布。\n",
    "\n",
    "\n",
    "def LRfunction(args):\n",
    "    # args是LR_parameter_space\n",
    "    LR_parameter = {\"penalty\": \"l2\", \"class_weight\": 'balanced', 'solver': 'liblinear',\n",
    "                    'random_state':5,'max_iter':100,'tol':0.005} \n",
    "                    # 这个随机数是因为liblinear使用了随机过程。另外max_iter需要增加么？\n",
    "    LR_parameter.update(args)\n",
    "    clf = LogisticRegression(**LR_parameter)\n",
    "   \n",
    "    score = []\n",
    "    for i in range(len(Xt)):\n",
    "        # 标准化数据集\n",
    "        scaler = StandardScaler()\n",
    "        scaler.fit(Xt[i])\n",
    "        Xti_std = scaler.transform(Xt[i])  # std表示标准化过\n",
    "        Xvi_std = scaler.transform(Xv[i])\n",
    "        # 训练模型\n",
    "        clf.fit(Xti_std,Yt[i])\n",
    "        # 若此时 print('LR_classes:',clf.classes_) ， 结果为：array([0, 1], dtype=int64)，即类别 0 先，类别 1 后。\n",
    "        # 预测验证集\n",
    "        proba_prediction = clf.predict_proba(Xvi_std)\n",
    "        # 所得到的 proba_prediction 是一个 二维 array，第一列是预测每个样属于第 0 类的概率，\n",
    "        # 第二列是每个样属于第1类的概率。(与clf.classes_ 顺序保持一致)\n",
    "        \n",
    "        score.append(roc_auc_score(Yv[i],proba_prediction[:,1]))  \n",
    "        # 所以这里是 proba_prediction[:,1] 取第二列。\n",
    "  \n",
    "    return -np.mean(score)\n",
    "\n",
    "timestart = time.time()\n",
    "LRtrials = Trials()\n",
    "LRbest = fmin(fn = LRfunction, space = LR_parameter_space, algo=tpe.suggest, max_evals=30,trials=LRtrials)  # max_evals表示尝试30个C值，从中找最好的。可以先设为2，尝试一下。\n",
    "print(\"Time: {:.3f} hours\".format((time.time() - timestart)/3600))\n"
   ]
  },
  {
   "cell_type": "code",
   "execution_count": 86,
   "metadata": {
    "scrolled": true
   },
   "outputs": [
    {
     "data": {
      "text/plain": [
       "[{'book_time': datetime.datetime(2019, 5, 5, 14, 28, 31, 871000),\n",
       "  'exp_key': None,\n",
       "  'misc': {'cmd': ('domain_attachment', 'FMinIter_Domain'),\n",
       "   'idxs': {'C': [0]},\n",
       "   'tid': 0,\n",
       "   'vals': {'C': [0.051312253891688836]},\n",
       "   'workdir': None},\n",
       "  'owner': None,\n",
       "  'refresh_time': datetime.datetime(2019, 5, 5, 14, 30, 38, 921000),\n",
       "  'result': {'loss': -0.6647268659759156, 'status': 'ok'},\n",
       "  'spec': None,\n",
       "  'state': 2,\n",
       "  'tid': 0,\n",
       "  'version': 0},\n",
       " {'book_time': datetime.datetime(2019, 5, 5, 14, 30, 38, 926000),\n",
       "  'exp_key': None,\n",
       "  'misc': {'cmd': ('domain_attachment', 'FMinIter_Domain'),\n",
       "   'idxs': {'C': [1]},\n",
       "   'tid': 1,\n",
       "   'vals': {'C': [0.01583310860869715]},\n",
       "   'workdir': None},\n",
       "  'owner': None,\n",
       "  'refresh_time': datetime.datetime(2019, 5, 5, 14, 32, 4, 227000),\n",
       "  'result': {'loss': -0.6660431043411293, 'status': 'ok'},\n",
       "  'spec': None,\n",
       "  'state': 2,\n",
       "  'tid': 1,\n",
       "  'version': 0},\n",
       " {'book_time': datetime.datetime(2019, 5, 5, 14, 32, 4, 235000),\n",
       "  'exp_key': None,\n",
       "  'misc': {'cmd': ('domain_attachment', 'FMinIter_Domain'),\n",
       "   'idxs': {'C': [2]},\n",
       "   'tid': 2,\n",
       "   'vals': {'C': [0.017728129005336178]},\n",
       "   'workdir': None},\n",
       "  'owner': None,\n",
       "  'refresh_time': datetime.datetime(2019, 5, 5, 14, 33, 29, 639000),\n",
       "  'result': {'loss': -0.6659048687503877, 'status': 'ok'},\n",
       "  'spec': None,\n",
       "  'state': 2,\n",
       "  'tid': 2,\n",
       "  'version': 0},\n",
       " {'book_time': datetime.datetime(2019, 5, 5, 14, 33, 29, 655000),\n",
       "  'exp_key': None,\n",
       "  'misc': {'cmd': ('domain_attachment', 'FMinIter_Domain'),\n",
       "   'idxs': {'C': [3]},\n",
       "   'tid': 3,\n",
       "   'vals': {'C': [0.03446401097523321]},\n",
       "   'workdir': None},\n",
       "  'owner': None,\n",
       "  'refresh_time': datetime.datetime(2019, 5, 5, 14, 35, 32, 295000),\n",
       "  'result': {'loss': -0.6651531747929157, 'status': 'ok'},\n",
       "  'spec': None,\n",
       "  'state': 2,\n",
       "  'tid': 3,\n",
       "  'version': 0},\n",
       " {'book_time': datetime.datetime(2019, 5, 5, 14, 35, 32, 297000),\n",
       "  'exp_key': None,\n",
       "  'misc': {'cmd': ('domain_attachment', 'FMinIter_Domain'),\n",
       "   'idxs': {'C': [4]},\n",
       "   'tid': 4,\n",
       "   'vals': {'C': [0.034779028548396713]},\n",
       "   'workdir': None},\n",
       "  'owner': None,\n",
       "  'refresh_time': datetime.datetime(2019, 5, 5, 14, 37, 35, 364000),\n",
       "  'result': {'loss': -0.6651488012910984, 'status': 'ok'},\n",
       "  'spec': None,\n",
       "  'state': 2,\n",
       "  'tid': 4,\n",
       "  'version': 0},\n",
       " {'book_time': datetime.datetime(2019, 5, 5, 14, 37, 35, 366000),\n",
       "  'exp_key': None,\n",
       "  'misc': {'cmd': ('domain_attachment', 'FMinIter_Domain'),\n",
       "   'idxs': {'C': [5]},\n",
       "   'tid': 5,\n",
       "   'vals': {'C': [0.024294284619780462]},\n",
       "   'workdir': None},\n",
       "  'owner': None,\n",
       "  'refresh_time': datetime.datetime(2019, 5, 5, 14, 39, 14, 495000),\n",
       "  'result': {'loss': -0.6655512344049385, 'status': 'ok'},\n",
       "  'spec': None,\n",
       "  'state': 2,\n",
       "  'tid': 5,\n",
       "  'version': 0},\n",
       " {'book_time': datetime.datetime(2019, 5, 5, 14, 39, 14, 498000),\n",
       "  'exp_key': None,\n",
       "  'misc': {'cmd': ('domain_attachment', 'FMinIter_Domain'),\n",
       "   'idxs': {'C': [6]},\n",
       "   'tid': 6,\n",
       "   'vals': {'C': [0.08234522803894641]},\n",
       "   'workdir': None},\n",
       "  'owner': None,\n",
       "  'refresh_time': datetime.datetime(2019, 5, 5, 14, 41, 41, 405000),\n",
       "  'result': {'loss': -0.6642534105303828, 'status': 'ok'},\n",
       "  'spec': None,\n",
       "  'state': 2,\n",
       "  'tid': 6,\n",
       "  'version': 0},\n",
       " {'book_time': datetime.datetime(2019, 5, 5, 14, 41, 41, 407000),\n",
       "  'exp_key': None,\n",
       "  'misc': {'cmd': ('domain_attachment', 'FMinIter_Domain'),\n",
       "   'idxs': {'C': [7]},\n",
       "   'tid': 7,\n",
       "   'vals': {'C': [0.03832471442617086]},\n",
       "   'workdir': None},\n",
       "  'owner': None,\n",
       "  'refresh_time': datetime.datetime(2019, 5, 5, 14, 43, 42, 871000),\n",
       "  'result': {'loss': -0.665045976036176, 'status': 'ok'},\n",
       "  'spec': None,\n",
       "  'state': 2,\n",
       "  'tid': 7,\n",
       "  'version': 0},\n",
       " {'book_time': datetime.datetime(2019, 5, 5, 14, 43, 42, 873000),\n",
       "  'exp_key': None,\n",
       "  'misc': {'cmd': ('domain_attachment', 'FMinIter_Domain'),\n",
       "   'idxs': {'C': [8]},\n",
       "   'tid': 8,\n",
       "   'vals': {'C': [0.027195775868923126]},\n",
       "   'workdir': None},\n",
       "  'owner': None,\n",
       "  'refresh_time': datetime.datetime(2019, 5, 5, 14, 45, 26, 642000),\n",
       "  'result': {'loss': -0.6654222129425611, 'status': 'ok'},\n",
       "  'spec': None,\n",
       "  'state': 2,\n",
       "  'tid': 8,\n",
       "  'version': 0},\n",
       " {'book_time': datetime.datetime(2019, 5, 5, 14, 45, 26, 644000),\n",
       "  'exp_key': None,\n",
       "  'misc': {'cmd': ('domain_attachment', 'FMinIter_Domain'),\n",
       "   'idxs': {'C': [9]},\n",
       "   'tid': 9,\n",
       "   'vals': {'C': [0.007289728021887563]},\n",
       "   'workdir': None},\n",
       "  'owner': None,\n",
       "  'refresh_time': datetime.datetime(2019, 5, 5, 14, 46, 36, 93000),\n",
       "  'result': {'loss': -0.6666950808800338, 'status': 'ok'},\n",
       "  'spec': None,\n",
       "  'state': 2,\n",
       "  'tid': 9,\n",
       "  'version': 0},\n",
       " {'book_time': datetime.datetime(2019, 5, 5, 14, 46, 36, 95000),\n",
       "  'exp_key': None,\n",
       "  'misc': {'cmd': ('domain_attachment', 'FMinIter_Domain'),\n",
       "   'idxs': {'C': [10]},\n",
       "   'tid': 10,\n",
       "   'vals': {'C': [0.03461540459310564]},\n",
       "   'workdir': None},\n",
       "  'owner': None,\n",
       "  'refresh_time': datetime.datetime(2019, 5, 5, 14, 48, 39, 399000),\n",
       "  'result': {'loss': -0.6651505011285825, 'status': 'ok'},\n",
       "  'spec': None,\n",
       "  'state': 2,\n",
       "  'tid': 10,\n",
       "  'version': 0},\n",
       " {'book_time': datetime.datetime(2019, 5, 5, 14, 48, 39, 401000),\n",
       "  'exp_key': None,\n",
       "  'misc': {'cmd': ('domain_attachment', 'FMinIter_Domain'),\n",
       "   'idxs': {'C': [11]},\n",
       "   'tid': 11,\n",
       "   'vals': {'C': [0.06937590282470797]},\n",
       "   'workdir': None},\n",
       "  'owner': None,\n",
       "  'refresh_time': datetime.datetime(2019, 5, 5, 14, 50, 41, 442000),\n",
       "  'result': {'loss': -0.6644099103175451, 'status': 'ok'},\n",
       "  'spec': None,\n",
       "  'state': 2,\n",
       "  'tid': 11,\n",
       "  'version': 0},\n",
       " {'book_time': datetime.datetime(2019, 5, 5, 14, 50, 41, 444000),\n",
       "  'exp_key': None,\n",
       "  'misc': {'cmd': ('domain_attachment', 'FMinIter_Domain'),\n",
       "   'idxs': {'C': [12]},\n",
       "   'tid': 12,\n",
       "   'vals': {'C': [0.0220883343318498]},\n",
       "   'workdir': None},\n",
       "  'owner': None,\n",
       "  'refresh_time': datetime.datetime(2019, 5, 5, 14, 52, 15, 407000),\n",
       "  'result': {'loss': -0.6656660688433936, 'status': 'ok'},\n",
       "  'spec': None,\n",
       "  'state': 2,\n",
       "  'tid': 12,\n",
       "  'version': 0},\n",
       " {'book_time': datetime.datetime(2019, 5, 5, 14, 52, 15, 409000),\n",
       "  'exp_key': None,\n",
       "  'misc': {'cmd': ('domain_attachment', 'FMinIter_Domain'),\n",
       "   'idxs': {'C': [13]},\n",
       "   'tid': 13,\n",
       "   'vals': {'C': [0.09462501005145019]},\n",
       "   'workdir': None},\n",
       "  'owner': None,\n",
       "  'refresh_time': datetime.datetime(2019, 5, 5, 14, 54, 49, 706000),\n",
       "  'result': {'loss': -0.664140182869174, 'status': 'ok'},\n",
       "  'spec': None,\n",
       "  'state': 2,\n",
       "  'tid': 13,\n",
       "  'version': 0},\n",
       " {'book_time': datetime.datetime(2019, 5, 5, 14, 54, 49, 712000),\n",
       "  'exp_key': None,\n",
       "  'misc': {'cmd': ('domain_attachment', 'FMinIter_Domain'),\n",
       "   'idxs': {'C': [14]},\n",
       "   'tid': 14,\n",
       "   'vals': {'C': [0.08456452876699758]},\n",
       "   'workdir': None},\n",
       "  'owner': None,\n",
       "  'refresh_time': datetime.datetime(2019, 5, 5, 14, 57, 22, 664000),\n",
       "  'result': {'loss': -0.664233929155664, 'status': 'ok'},\n",
       "  'spec': None,\n",
       "  'state': 2,\n",
       "  'tid': 14,\n",
       "  'version': 0},\n",
       " {'book_time': datetime.datetime(2019, 5, 5, 14, 57, 22, 669000),\n",
       "  'exp_key': None,\n",
       "  'misc': {'cmd': ('domain_attachment', 'FMinIter_Domain'),\n",
       "   'idxs': {'C': [15]},\n",
       "   'tid': 15,\n",
       "   'vals': {'C': [0.047226240963521196]},\n",
       "   'workdir': None},\n",
       "  'owner': None,\n",
       "  'refresh_time': datetime.datetime(2019, 5, 5, 14, 59, 24, 561000),\n",
       "  'result': {'loss': -0.6648171686495639, 'status': 'ok'},\n",
       "  'spec': None,\n",
       "  'state': 2,\n",
       "  'tid': 15,\n",
       "  'version': 0},\n",
       " {'book_time': datetime.datetime(2019, 5, 5, 14, 59, 24, 563000),\n",
       "  'exp_key': None,\n",
       "  'misc': {'cmd': ('domain_attachment', 'FMinIter_Domain'),\n",
       "   'idxs': {'C': [16]},\n",
       "   'tid': 16,\n",
       "   'vals': {'C': [0.0025687032236708135]},\n",
       "   'workdir': None},\n",
       "  'owner': None,\n",
       "  'refresh_time': datetime.datetime(2019, 5, 5, 15, 0, 15, 699000),\n",
       "  'result': {'loss': -0.666901524574961, 'status': 'ok'},\n",
       "  'spec': None,\n",
       "  'state': 2,\n",
       "  'tid': 16,\n",
       "  'version': 0},\n",
       " {'book_time': datetime.datetime(2019, 5, 5, 15, 0, 15, 701000),\n",
       "  'exp_key': None,\n",
       "  'misc': {'cmd': ('domain_attachment', 'FMinIter_Domain'),\n",
       "   'idxs': {'C': [17]},\n",
       "   'tid': 17,\n",
       "   'vals': {'C': [0.07346306533858081]},\n",
       "   'workdir': None},\n",
       "  'owner': None,\n",
       "  'refresh_time': datetime.datetime(2019, 5, 5, 15, 2, 15, 569000),\n",
       "  'result': {'loss': -0.6643586950404371, 'status': 'ok'},\n",
       "  'spec': None,\n",
       "  'state': 2,\n",
       "  'tid': 17,\n",
       "  'version': 0},\n",
       " {'book_time': datetime.datetime(2019, 5, 5, 15, 2, 15, 571000),\n",
       "  'exp_key': None,\n",
       "  'misc': {'cmd': ('domain_attachment', 'FMinIter_Domain'),\n",
       "   'idxs': {'C': [18]},\n",
       "   'tid': 18,\n",
       "   'vals': {'C': [0.03618361883423608]},\n",
       "   'workdir': None},\n",
       "  'owner': None,\n",
       "  'refresh_time': datetime.datetime(2019, 5, 5, 15, 4, 14, 841000),\n",
       "  'result': {'loss': -0.6651072983638426, 'status': 'ok'},\n",
       "  'spec': None,\n",
       "  'state': 2,\n",
       "  'tid': 18,\n",
       "  'version': 0},\n",
       " {'book_time': datetime.datetime(2019, 5, 5, 15, 4, 14, 844000),\n",
       "  'exp_key': None,\n",
       "  'misc': {'cmd': ('domain_attachment', 'FMinIter_Domain'),\n",
       "   'idxs': {'C': [19]},\n",
       "   'tid': 19,\n",
       "   'vals': {'C': [0.0517412189907326]},\n",
       "   'workdir': None},\n",
       "  'owner': None,\n",
       "  'refresh_time': datetime.datetime(2019, 5, 5, 15, 6, 15, 294000),\n",
       "  'result': {'loss': -0.6647102143884753, 'status': 'ok'},\n",
       "  'spec': None,\n",
       "  'state': 2,\n",
       "  'tid': 19,\n",
       "  'version': 0},\n",
       " {'book_time': datetime.datetime(2019, 5, 5, 15, 6, 15, 323000),\n",
       "  'exp_key': None,\n",
       "  'misc': {'cmd': ('domain_attachment', 'FMinIter_Domain'),\n",
       "   'idxs': {'C': [20]},\n",
       "   'tid': 20,\n",
       "   'vals': {'C': [0.0025380552761901255]},\n",
       "   'workdir': None},\n",
       "  'owner': None,\n",
       "  'refresh_time': datetime.datetime(2019, 5, 5, 15, 7, 3, 558000),\n",
       "  'result': {'loss': -0.666890447910247, 'status': 'ok'},\n",
       "  'spec': None,\n",
       "  'state': 2,\n",
       "  'tid': 20,\n",
       "  'version': 0},\n",
       " {'book_time': datetime.datetime(2019, 5, 5, 15, 7, 3, 565000),\n",
       "  'exp_key': None,\n",
       "  'misc': {'cmd': ('domain_attachment', 'FMinIter_Domain'),\n",
       "   'idxs': {'C': [21]},\n",
       "   'tid': 21,\n",
       "   'vals': {'C': [0.002205087299347916]},\n",
       "   'workdir': None},\n",
       "  'owner': None,\n",
       "  'refresh_time': datetime.datetime(2019, 5, 5, 15, 7, 51, 536000),\n",
       "  'result': {'loss': -0.6668263740678626, 'status': 'ok'},\n",
       "  'spec': None,\n",
       "  'state': 2,\n",
       "  'tid': 21,\n",
       "  'version': 0},\n",
       " {'book_time': datetime.datetime(2019, 5, 5, 15, 7, 51, 546000),\n",
       "  'exp_key': None,\n",
       "  'misc': {'cmd': ('domain_attachment', 'FMinIter_Domain'),\n",
       "   'idxs': {'C': [22]},\n",
       "   'tid': 22,\n",
       "   'vals': {'C': [0.007139469917247696]},\n",
       "   'workdir': None},\n",
       "  'owner': None,\n",
       "  'refresh_time': datetime.datetime(2019, 5, 5, 15, 8, 55, 48000),\n",
       "  'result': {'loss': -0.6667191857579353, 'status': 'ok'},\n",
       "  'spec': None,\n",
       "  'state': 2,\n",
       "  'tid': 22,\n",
       "  'version': 0},\n",
       " {'book_time': datetime.datetime(2019, 5, 5, 15, 8, 55, 58000),\n",
       "  'exp_key': None,\n",
       "  'misc': {'cmd': ('domain_attachment', 'FMinIter_Domain'),\n",
       "   'idxs': {'C': [23]},\n",
       "   'tid': 23,\n",
       "   'vals': {'C': [0.002956614147662452]},\n",
       "   'workdir': None},\n",
       "  'owner': None,\n",
       "  'refresh_time': datetime.datetime(2019, 5, 5, 15, 9, 45, 539000),\n",
       "  'result': {'loss': -0.666941884502366, 'status': 'ok'},\n",
       "  'spec': None,\n",
       "  'state': 2,\n",
       "  'tid': 23,\n",
       "  'version': 0},\n",
       " {'book_time': datetime.datetime(2019, 5, 5, 15, 9, 45, 549000),\n",
       "  'exp_key': None,\n",
       "  'misc': {'cmd': ('domain_attachment', 'FMinIter_Domain'),\n",
       "   'idxs': {'C': [24]},\n",
       "   'tid': 24,\n",
       "   'vals': {'C': [0.01262482269672511]},\n",
       "   'workdir': None},\n",
       "  'owner': None,\n",
       "  'refresh_time': datetime.datetime(2019, 5, 5, 15, 11, 5, 966000),\n",
       "  'result': {'loss': -0.6662714640934977, 'status': 'ok'},\n",
       "  'spec': None,\n",
       "  'state': 2,\n",
       "  'tid': 24,\n",
       "  'version': 0},\n",
       " {'book_time': datetime.datetime(2019, 5, 5, 15, 11, 5, 975000),\n",
       "  'exp_key': None,\n",
       "  'misc': {'cmd': ('domain_attachment', 'FMinIter_Domain'),\n",
       "   'idxs': {'C': [25]},\n",
       "   'tid': 25,\n",
       "   'vals': {'C': [0.010578512854457319]},\n",
       "   'workdir': None},\n",
       "  'owner': None,\n",
       "  'refresh_time': datetime.datetime(2019, 5, 5, 15, 12, 27, 991000),\n",
       "  'result': {'loss': -0.6664307211684525, 'status': 'ok'},\n",
       "  'spec': None,\n",
       "  'state': 2,\n",
       "  'tid': 25,\n",
       "  'version': 0},\n",
       " {'book_time': datetime.datetime(2019, 5, 5, 15, 12, 28, 1000),\n",
       "  'exp_key': None,\n",
       "  'misc': {'cmd': ('domain_attachment', 'FMinIter_Domain'),\n",
       "   'idxs': {'C': [26]},\n",
       "   'tid': 26,\n",
       "   'vals': {'C': [0.05970937721145801]},\n",
       "   'workdir': None},\n",
       "  'owner': None,\n",
       "  'refresh_time': datetime.datetime(2019, 5, 5, 15, 14, 57, 850000),\n",
       "  'result': {'loss': -0.6645608094885601, 'status': 'ok'},\n",
       "  'spec': None,\n",
       "  'state': 2,\n",
       "  'tid': 26,\n",
       "  'version': 0},\n",
       " {'book_time': datetime.datetime(2019, 5, 5, 15, 14, 57, 862000),\n",
       "  'exp_key': None,\n",
       "  'misc': {'cmd': ('domain_attachment', 'FMinIter_Domain'),\n",
       "   'idxs': {'C': [27]},\n",
       "   'tid': 27,\n",
       "   'vals': {'C': [0.00331555696165052]},\n",
       "   'workdir': None},\n",
       "  'owner': None,\n",
       "  'refresh_time': datetime.datetime(2019, 5, 5, 15, 15, 59, 14000),\n",
       "  'result': {'loss': -0.6669598648020906, 'status': 'ok'},\n",
       "  'spec': None,\n",
       "  'state': 2,\n",
       "  'tid': 27,\n",
       "  'version': 0},\n",
       " {'book_time': datetime.datetime(2019, 5, 5, 15, 15, 59, 31000),\n",
       "  'exp_key': None,\n",
       "  'misc': {'cmd': ('domain_attachment', 'FMinIter_Domain'),\n",
       "   'idxs': {'C': [28]},\n",
       "   'tid': 28,\n",
       "   'vals': {'C': [0.026822826061418784]},\n",
       "   'workdir': None},\n",
       "  'owner': None,\n",
       "  'refresh_time': datetime.datetime(2019, 5, 5, 15, 18, 6, 698000),\n",
       "  'result': {'loss': -0.6654348995531414, 'status': 'ok'},\n",
       "  'spec': None,\n",
       "  'state': 2,\n",
       "  'tid': 28,\n",
       "  'version': 0},\n",
       " {'book_time': datetime.datetime(2019, 5, 5, 15, 18, 6, 712000),\n",
       "  'exp_key': None,\n",
       "  'misc': {'cmd': ('domain_attachment', 'FMinIter_Domain'),\n",
       "   'idxs': {'C': [29]},\n",
       "   'tid': 29,\n",
       "   'vals': {'C': [0.04515912679182521]},\n",
       "   'workdir': None},\n",
       "  'owner': None,\n",
       "  'refresh_time': datetime.datetime(2019, 5, 5, 15, 21, 1, 199000),\n",
       "  'result': {'loss': -0.6648630872833035, 'status': 'ok'},\n",
       "  'spec': None,\n",
       "  'state': 2,\n",
       "  'tid': 29,\n",
       "  'version': 0}]"
      ]
     },
     "execution_count": 86,
     "metadata": {},
     "output_type": "execute_result"
    }
   ],
   "source": [
    "# 这里记录了 hyperopt 在循环计算时的详细情况。因为 fmin中max_evals=30，也就是要从给出的C的范围（space参数）里选出30个C值进行试验。\n",
    "# LRtrials.trials 是一个 list，里面有三个字典，即尝试 30 个C值时的详细情况。\n",
    "# 每个字典里，misc是一个复合字典，里面的 vals 记录了尝试的 C值。\n",
    "\n",
    "LRtrials.trials"
   ]
  },
  {
   "cell_type": "code",
   "execution_count": 87,
   "metadata": {},
   "outputs": [
    {
     "data": {
      "text/plain": [
       "[-0.6647268659759156,\n",
       " -0.6660431043411293,\n",
       " -0.6659048687503877,\n",
       " -0.6651531747929157,\n",
       " -0.6651488012910984,\n",
       " -0.6655512344049385,\n",
       " -0.6642534105303828,\n",
       " -0.665045976036176,\n",
       " -0.6654222129425611,\n",
       " -0.6666950808800338,\n",
       " -0.6651505011285825,\n",
       " -0.6644099103175451,\n",
       " -0.6656660688433936,\n",
       " -0.664140182869174,\n",
       " -0.664233929155664,\n",
       " -0.6648171686495639,\n",
       " -0.666901524574961,\n",
       " -0.6643586950404371,\n",
       " -0.6651072983638426,\n",
       " -0.6647102143884753,\n",
       " -0.666890447910247,\n",
       " -0.6668263740678626,\n",
       " -0.6667191857579353,\n",
       " -0.666941884502366,\n",
       " -0.6662714640934977,\n",
       " -0.6664307211684525,\n",
       " -0.6645608094885601,\n",
       " -0.6669598648020906,\n",
       " -0.6654348995531414,\n",
       " -0.6648630872833035]"
      ]
     },
     "execution_count": 87,
     "metadata": {},
     "output_type": "execute_result"
    }
   ],
   "source": [
    "# LRtrials.losses() 为一个 list，里面有30个值，分别是尝试每个C值时，LRfunction 的返回值，即 5折交叉验证求得的5个score的均值的负数。\n",
    "\n",
    "LRtrials.losses()"
   ]
  },
  {
   "cell_type": "code",
   "execution_count": 88,
   "metadata": {},
   "outputs": [],
   "source": [
    "# 将结果组成 dataframe 表 LRop。\n",
    "# 第一列为 尝试的 C值，第二列是 将此C代入 LRfunction 后求出的 平均auc 值。此值越大，说明此 C 越佳。（已按auc_mean从大到小排序）\n",
    "# 使得 平均auc值最大的那个 C，就是 hyperopt 选出的最佳 C。即为首行 C 。\n",
    "\n",
    "LRop = pd.concat([pd.DataFrame([sum(list(LRtrials.trials[j][\"misc\"][\"vals\"].values()), []) for j in range(len(LRtrials))],\n",
    "                                 columns = list(LRtrials.trials[0][\"misc\"][\"vals\"].keys())),\n",
    "           pd.DataFrame({\"auc_mean\":[np.abs(i) for i in LRtrials.losses()]})], axis = 1).sort_values(by=[\"auc_mean\"],ascending=False)"
   ]
  },
  {
   "cell_type": "code",
   "execution_count": 89,
   "metadata": {
    "scrolled": true
   },
   "outputs": [
    {
     "data": {
      "text/html": [
       "<div>\n",
       "<style scoped>\n",
       "    .dataframe tbody tr th:only-of-type {\n",
       "        vertical-align: middle;\n",
       "    }\n",
       "\n",
       "    .dataframe tbody tr th {\n",
       "        vertical-align: top;\n",
       "    }\n",
       "\n",
       "    .dataframe thead th {\n",
       "        text-align: right;\n",
       "    }\n",
       "</style>\n",
       "<table border=\"1\" class=\"dataframe\">\n",
       "  <thead>\n",
       "    <tr style=\"text-align: right;\">\n",
       "      <th></th>\n",
       "      <th>C</th>\n",
       "      <th>auc_mean</th>\n",
       "    </tr>\n",
       "  </thead>\n",
       "  <tbody>\n",
       "    <tr>\n",
       "      <th>27</th>\n",
       "      <td>0.003316</td>\n",
       "      <td>0.666960</td>\n",
       "    </tr>\n",
       "    <tr>\n",
       "      <th>23</th>\n",
       "      <td>0.002957</td>\n",
       "      <td>0.666942</td>\n",
       "    </tr>\n",
       "    <tr>\n",
       "      <th>16</th>\n",
       "      <td>0.002569</td>\n",
       "      <td>0.666902</td>\n",
       "    </tr>\n",
       "    <tr>\n",
       "      <th>20</th>\n",
       "      <td>0.002538</td>\n",
       "      <td>0.666890</td>\n",
       "    </tr>\n",
       "    <tr>\n",
       "      <th>21</th>\n",
       "      <td>0.002205</td>\n",
       "      <td>0.666826</td>\n",
       "    </tr>\n",
       "    <tr>\n",
       "      <th>22</th>\n",
       "      <td>0.007139</td>\n",
       "      <td>0.666719</td>\n",
       "    </tr>\n",
       "    <tr>\n",
       "      <th>9</th>\n",
       "      <td>0.007290</td>\n",
       "      <td>0.666695</td>\n",
       "    </tr>\n",
       "    <tr>\n",
       "      <th>25</th>\n",
       "      <td>0.010579</td>\n",
       "      <td>0.666431</td>\n",
       "    </tr>\n",
       "    <tr>\n",
       "      <th>24</th>\n",
       "      <td>0.012625</td>\n",
       "      <td>0.666271</td>\n",
       "    </tr>\n",
       "    <tr>\n",
       "      <th>1</th>\n",
       "      <td>0.015833</td>\n",
       "      <td>0.666043</td>\n",
       "    </tr>\n",
       "    <tr>\n",
       "      <th>2</th>\n",
       "      <td>0.017728</td>\n",
       "      <td>0.665905</td>\n",
       "    </tr>\n",
       "    <tr>\n",
       "      <th>12</th>\n",
       "      <td>0.022088</td>\n",
       "      <td>0.665666</td>\n",
       "    </tr>\n",
       "    <tr>\n",
       "      <th>5</th>\n",
       "      <td>0.024294</td>\n",
       "      <td>0.665551</td>\n",
       "    </tr>\n",
       "    <tr>\n",
       "      <th>28</th>\n",
       "      <td>0.026823</td>\n",
       "      <td>0.665435</td>\n",
       "    </tr>\n",
       "    <tr>\n",
       "      <th>8</th>\n",
       "      <td>0.027196</td>\n",
       "      <td>0.665422</td>\n",
       "    </tr>\n",
       "    <tr>\n",
       "      <th>3</th>\n",
       "      <td>0.034464</td>\n",
       "      <td>0.665153</td>\n",
       "    </tr>\n",
       "    <tr>\n",
       "      <th>10</th>\n",
       "      <td>0.034615</td>\n",
       "      <td>0.665151</td>\n",
       "    </tr>\n",
       "    <tr>\n",
       "      <th>4</th>\n",
       "      <td>0.034779</td>\n",
       "      <td>0.665149</td>\n",
       "    </tr>\n",
       "    <tr>\n",
       "      <th>18</th>\n",
       "      <td>0.036184</td>\n",
       "      <td>0.665107</td>\n",
       "    </tr>\n",
       "    <tr>\n",
       "      <th>7</th>\n",
       "      <td>0.038325</td>\n",
       "      <td>0.665046</td>\n",
       "    </tr>\n",
       "    <tr>\n",
       "      <th>29</th>\n",
       "      <td>0.045159</td>\n",
       "      <td>0.664863</td>\n",
       "    </tr>\n",
       "    <tr>\n",
       "      <th>15</th>\n",
       "      <td>0.047226</td>\n",
       "      <td>0.664817</td>\n",
       "    </tr>\n",
       "    <tr>\n",
       "      <th>0</th>\n",
       "      <td>0.051312</td>\n",
       "      <td>0.664727</td>\n",
       "    </tr>\n",
       "    <tr>\n",
       "      <th>19</th>\n",
       "      <td>0.051741</td>\n",
       "      <td>0.664710</td>\n",
       "    </tr>\n",
       "    <tr>\n",
       "      <th>26</th>\n",
       "      <td>0.059709</td>\n",
       "      <td>0.664561</td>\n",
       "    </tr>\n",
       "    <tr>\n",
       "      <th>11</th>\n",
       "      <td>0.069376</td>\n",
       "      <td>0.664410</td>\n",
       "    </tr>\n",
       "    <tr>\n",
       "      <th>17</th>\n",
       "      <td>0.073463</td>\n",
       "      <td>0.664359</td>\n",
       "    </tr>\n",
       "    <tr>\n",
       "      <th>6</th>\n",
       "      <td>0.082345</td>\n",
       "      <td>0.664253</td>\n",
       "    </tr>\n",
       "    <tr>\n",
       "      <th>14</th>\n",
       "      <td>0.084565</td>\n",
       "      <td>0.664234</td>\n",
       "    </tr>\n",
       "    <tr>\n",
       "      <th>13</th>\n",
       "      <td>0.094625</td>\n",
       "      <td>0.664140</td>\n",
       "    </tr>\n",
       "  </tbody>\n",
       "</table>\n",
       "</div>"
      ],
      "text/plain": [
       "           C  auc_mean\n",
       "27  0.003316  0.666960\n",
       "23  0.002957  0.666942\n",
       "16  0.002569  0.666902\n",
       "20  0.002538  0.666890\n",
       "21  0.002205  0.666826\n",
       "22  0.007139  0.666719\n",
       "9   0.007290  0.666695\n",
       "25  0.010579  0.666431\n",
       "24  0.012625  0.666271\n",
       "1   0.015833  0.666043\n",
       "2   0.017728  0.665905\n",
       "12  0.022088  0.665666\n",
       "5   0.024294  0.665551\n",
       "28  0.026823  0.665435\n",
       "8   0.027196  0.665422\n",
       "3   0.034464  0.665153\n",
       "10  0.034615  0.665151\n",
       "4   0.034779  0.665149\n",
       "18  0.036184  0.665107\n",
       "7   0.038325  0.665046\n",
       "29  0.045159  0.664863\n",
       "15  0.047226  0.664817\n",
       "0   0.051312  0.664727\n",
       "19  0.051741  0.664710\n",
       "26  0.059709  0.664561\n",
       "11  0.069376  0.664410\n",
       "17  0.073463  0.664359\n",
       "6   0.082345  0.664253\n",
       "14  0.084565  0.664234\n",
       "13  0.094625  0.664140"
      ]
     },
     "execution_count": 89,
     "metadata": {},
     "output_type": "execute_result"
    }
   ],
   "source": [
    "LRop"
   ]
  },
  {
   "cell_type": "code",
   "execution_count": 90,
   "metadata": {},
   "outputs": [
    {
     "data": {
      "text/plain": [
       "0.6742869445263973"
      ]
     },
     "execution_count": 90,
     "metadata": {},
     "output_type": "execute_result"
    }
   ],
   "source": [
    "# 现在我们已经确定出了最佳的C值：0.005。然后在最佳C下对整个训练集X_tr_train, y_tr_train进行学习，学得的模型对X_tr_test, y_tr_test 进行预测。\n",
    "# 可见，对验证集进行预测算auc，值为 0.67，并不高。ks 评分为0.25，也不高。\n",
    "\n",
    "args = {\"C\":0.005}\n",
    "LR_parameter = {\"penalty\": \"l2\", \"class_weight\": 'balanced', 'solver': 'liblinear',\n",
    "                'random_state':5,'max_iter':100,'tol':0.005} \n",
    "LR_parameter.update(args)\n",
    "\n",
    "# 之前 scaler2 已经 对 X_tr_train 和 X_tr_test 进行过了标准化如下，可以拿来直接用。\n",
    "# scaler2 = StandardScaler()\n",
    "# scaler2.fit(X_tr_train)\n",
    "# X_tr_train_standard = scaler2.transform(X_tr_train)\n",
    "# X_tr_test_standard = scaler2.transform(X_tr_test)\n",
    "\n",
    "modelLR3 = LogisticRegression(**LR_parameter)\n",
    "modelLR3.fit(X_tr_train_standard, y_tr_train)\n",
    "proba_prediction3 = modelLR3.predict_proba(X_tr_test_standard)\n",
    "\n",
    "# 计算AUC\n",
    "roc_auc_score(y_tr_test, proba_prediction3[:,1])"
   ]
  },
  {
   "cell_type": "code",
   "execution_count": 91,
   "metadata": {},
   "outputs": [
    {
     "data": {
      "text/plain": [
       "0.25432697291306183"
      ]
     },
     "execution_count": 91,
     "metadata": {},
     "output_type": "execute_result"
    }
   ],
   "source": [
    " # 算一下KS评分。\n",
    "ks_statistic(np.array(y_tr_test), proba_prediction3[:,1]) "
   ]
  },
  {
   "cell_type": "markdown",
   "metadata": {},
   "source": [
    "### 2.5.7 交叉验证  \n",
    "&ensp;&ensp;以上过程是建立在一次性二八分，用八份去通过GridSearchCV+hyperopt得到最佳C，然后在此C下对这八份进行学习得到最佳模型，然后用最佳模型对那三份进行预测并计算AUC和KS。  \n",
    "&ensp;&ensp;一次性二八分会否太单一？我认为可以在此C下使用交叉验证，多算几个验证分数。也就是把整个训练集X_tr, y_tr进行五折划分，在此C下学得5个模型，这5个模型对各自的验证集进行预测，得到5个auc和ks评分。可以看看这5个评分，算一下均分。"
   ]
  },
  {
   "cell_type": "code",
   "execution_count": 92,
   "metadata": {},
   "outputs": [
    {
     "name": "stdout",
     "output_type": "stream",
     "text": [
      "5Fold scores : [0.66117415 0.67825853 0.66142954 0.6396072  0.63259252]\n",
      "5Fold mean score : 0.6546123878170597\n"
     ]
    }
   ],
   "source": [
    "# 使用 cross_val_score 进行交叉验证\n",
    "# 交叉验证显示，在最佳C下，训练的LR模型所得的auc评分也还在 0.65 左右，比较低。\n",
    "\n",
    "pipe2 = make_pipeline(StandardScaler(), LogisticRegression(**LR_parameter))  # LR_parameter 是固定参数+最佳超参数 C\n",
    "scores = cross_val_score(pipe2, X_tr, y_tr,cv = 5, scoring=\"roc_auc\")  # 或试试cv=10\n",
    "print(\"5Fold scores :\", scores)\n",
    "print(\"5Fold mean score :\", np.mean(scores))"
   ]
  },
  {
   "cell_type": "markdown",
   "metadata": {},
   "source": [
    "### 2.5.8 训练最终LR模型并预测未知样本集"
   ]
  },
  {
   "cell_type": "code",
   "execution_count": 93,
   "metadata": {},
   "outputs": [],
   "source": [
    "# 训练最终LR模型并预测未知样本集\n",
    "\n",
    "scaler3=StandardScaler()\n",
    "scaler3.fit(X_tr)\n",
    "X_tr_std = scaler3.transform(X_tr)  # std代表标准化\n",
    "X_te_std = scaler3.transform(X_te)\n",
    "modelLR4 = LogisticRegression(**LR_parameter) # LR_parameter 是固定参数+最佳超参数 C\n",
    "modelLR4.fit(X_tr_std, y_tr)\n",
    "proba_prediction4 = modelLR4.predict_proba(X_te_std)"
   ]
  },
  {
   "cell_type": "code",
   "execution_count": 94,
   "metadata": {},
   "outputs": [],
   "source": [
    "# 将预测结果整合成表\n",
    "\n",
    "LRpre = pd.DataFrame(proba_prediction4[:,1],index=X_te.index,columns=[\"positive_proba\"]).reset_index()\n",
    "LRpre.columns = [\"userid\",\"probability\"]  # 按官网提交示例修改列名"
   ]
  },
  {
   "cell_type": "code",
   "execution_count": null,
   "metadata": {},
   "outputs": [],
   "source": []
  },
  {
   "cell_type": "code",
   "execution_count": 96,
   "metadata": {},
   "outputs": [],
   "source": [
    "# 保存预测结果\n",
    "\n",
    "LRpre.to_csv(r'F:\\RiskPre2\\result\\LRpre.csv',index=False)"
   ]
  },
  {
   "cell_type": "code",
   "execution_count": 97,
   "metadata": {},
   "outputs": [
    {
     "data": {
      "text/plain": [
       "['F:\\\\RiskPre2\\\\result\\\\modelLR4.pkl']"
      ]
     },
     "execution_count": 97,
     "metadata": {},
     "output_type": "execute_result"
    }
   ],
   "source": [
    "# 保存模型\n",
    "\n",
    "joblib.dump(modelLR4, r'F:\\RiskPre2\\result\\modelLR4.pkl')"
   ]
  },
  {
   "cell_type": "code",
   "execution_count": 98,
   "metadata": {},
   "outputs": [],
   "source": [
    "# 保存字段变量部分 X 和目标变量部分 Y 分开的： X_tr, y_tr, X_te, y_te\n",
    "\n",
    "f1 = open(r'F:\\RiskPre2\\result\\data_fill_XY.pkl', \"wb\")\n",
    "pickle.dump(X_tr, f1, protocol=-1)\n",
    "pickle.dump(y_tr, f1, protocol=-1)\n",
    "pickle.dump(X_te, f1, protocol=-1)\n",
    "pickle.dump(y_te, f1, protocol=-1)\n",
    "f1.close()"
   ]
  },
  {
   "cell_type": "code",
   "execution_count": 99,
   "metadata": {},
   "outputs": [],
   "source": [
    "# 保存训练集X_tr, y_tr进行二八划分得到的： X_tr_train, X_tr_test, y_tr_train, y_tr_test\n",
    "\n",
    "f2 = open(r'F:\\RiskPre2\\result\\split2_8.pkl', \"wb\")\n",
    "pickle.dump(X_tr_train, f2, protocol=-1)\n",
    "pickle.dump(y_tr_train, f2, protocol=-1)\n",
    "pickle.dump(X_tr_test, f2, protocol=-1)\n",
    "pickle.dump(y_tr_test, f2, protocol=-1)\n",
    "f2.close()"
   ]
  },
  {
   "cell_type": "markdown",
   "metadata": {},
   "source": []
  }
 ],
 "metadata": {
  "kernelspec": {
   "display_name": "Python 3",
   "language": "python",
   "name": "python3"
  },
  "language_info": {
   "codemirror_mode": {
    "name": "ipython",
    "version": 3
   },
   "file_extension": ".py",
   "mimetype": "text/x-python",
   "name": "python",
   "nbconvert_exporter": "python",
   "pygments_lexer": "ipython3",
   "version": "3.7.4"
  },
  "toc": {
   "base_numbering": 1,
   "nav_menu": {},
   "number_sections": true,
   "sideBar": true,
   "skip_h1_title": false,
   "title_cell": "Table of Contents",
   "title_sidebar": "Contents",
   "toc_cell": false,
   "toc_position": {
    "height": "calc(100% - 180px)",
    "left": "10px",
    "top": "150px",
    "width": "430px"
   },
   "toc_section_display": true,
   "toc_window_display": true
  },
  "varInspector": {
   "cols": {
    "lenName": 16,
    "lenType": 16,
    "lenVar": 40
   },
   "kernels_config": {
    "python": {
     "delete_cmd_postfix": "",
     "delete_cmd_prefix": "del ",
     "library": "var_list.py",
     "varRefreshCmd": "print(var_dic_list())"
    },
    "r": {
     "delete_cmd_postfix": ") ",
     "delete_cmd_prefix": "rm(",
     "library": "var_list.r",
     "varRefreshCmd": "cat(var_dic_list()) "
    }
   },
   "types_to_exclude": [
    "module",
    "function",
    "builtin_function_or_method",
    "instance",
    "_Feature"
   ],
   "window_display": false
  }
 },
 "nbformat": 4,
 "nbformat_minor": 2
}
