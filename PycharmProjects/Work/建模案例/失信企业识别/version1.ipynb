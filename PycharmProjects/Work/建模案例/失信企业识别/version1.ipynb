{
 "cells": [
  {
   "cell_type": "markdown",
   "metadata": {},
   "source": [
    "### 模块载入和数据读入"
   ]
  },
  {
   "cell_type": "code",
   "execution_count": 4,
   "metadata": {},
   "outputs": [],
   "source": [
    "import warnings\n",
    "import pandas as pd\n",
    "import numpy as np\n",
    "import os\n",
    "import matplotlib.pyplot as plt\n",
    "%matplotlib inline\n",
    "os.chdir('D:/工作/data/shibie/')\n",
    "warnings.filterwarnings('ignore')"
   ]
  },
  {
   "cell_type": "markdown",
   "metadata": {},
   "source": [
    "#### 数据集合并"
   ]
  },
  {
   "cell_type": "code",
   "execution_count": null,
   "metadata": {},
   "outputs": [],
   "source": [
    "X = pd .read_csv('train.csv')\n",
    "y = pd.read_csv('train_label.csv')\n",
    "train_data = pd.merge(X,y,left_on='ID', right_on='ID')\n",
    "train_data.to_csv('train_data.csv',index=False)"
   ]
  },
  {
   "cell_type": "code",
   "execution_count": 5,
   "metadata": {},
   "outputs": [],
   "source": [
    "train_data = pd.read_csv('train_data.csv')\n",
    "test =pd.read_csv('test.csv')"
   ]
  },
  {
   "cell_type": "markdown",
   "metadata": {},
   "source": [
    "#### 样本缺失值可视化\n",
    "从下面可以看出样本缺失值存在明显的分层，所以我们通过缺失值将样本分为两个类，一个为缺失值个数大于50，一个为缺失值小于50，查看两个类别的样本失信率的区别。"
   ]
  },
  {
   "cell_type": "code",
   "execution_count": 3,
   "metadata": {},
   "outputs": [
    {
     "data": {
      "image/png": "[encoded data removed]",
      "text/plain": [
       "<Figure size 432x288 with 1 Axes>"
      ]
     },
     "metadata": {
      "needs_background": "light"
     },
     "output_type": "display_data"
    }
   ],
   "source": [
    "def plot_item_miss(data):\n",
    "    ser = (data.isnull().sum(axis=1)).sort_values()\n",
    "    x = range(data.shape[0])\n",
    "    plt.scatter(x,ser.values,c='black')\n",
    "plot_item_miss(train_data)"
   ]
  },
  {
   "cell_type": "code",
   "execution_count": 4,
   "metadata": {},
   "outputs": [
    {
     "data": {
      "image/png": "[encoded data removed]",
      "text/plain": [
       "<Figure size 432x288 with 1 Axes>"
      ]
     },
     "metadata": {
      "needs_background": "light"
     },
     "output_type": "display_data"
    }
   ],
   "source": [
    "plot_item_miss(test)"
   ]
  },
  {
   "cell_type": "code",
   "execution_count": 6,
   "metadata": {},
   "outputs": [
    {
     "data": {
      "text/plain": [
       "Index(['经营期限至', '邮政编码', '核准日期', '注销时间', '经营期限自', '成立日期', '经营范围'], dtype='object')"
      ]
     },
     "execution_count": 6,
     "metadata": {},
     "output_type": "execute_result"
    }
   ],
   "source": [
    "train_data.select_dtypes(include='object').columns"
   ]
  },
  {
   "cell_type": "markdown",
   "metadata": {},
   "source": [
    "### 数据处理\n",
    "#### 类别数据\n",
    "从分析可以知道数据中存在七个`object`类型，所以我们通过处理使得可以转化为数值。\n",
    "- 经营期限至和注销时间中缺失值过多，直接编码。\n",
    "- 经营期限自和成立日期，确定二者取值是否相同\n",
    "- 核准日期主要为两类，其他的值很少，所以将其他的并为一类。\n",
    "- 经营范围为列表，其中数值为编码，所以并不明白什么意识，所以去切分之后去长度，得到经营范围的个数。视为公司参与的领域的多少。\n",
    "- 邮政编码取`[3,4]`两位，这两位代表县市，所以将企业按照县市进行分类。对于非邮政编码的数据，直接归为一类，复制为10，另成一类。"
   ]
  },
  {
   "cell_type": "code",
   "execution_count": 8,
   "metadata": {},
   "outputs": [],
   "source": [
    "def func(x):\n",
    "    item = str(x)[2:4]\n",
    "    if item in ['60','63','61','65','67','62','64','66']:\n",
    "        return int(item)\n",
    "    else:\n",
    "        return 10\n",
    "    \n",
    "def process(data):\n",
    "    trainX = data.copy()\n",
    "    trainX['经营期限至'] = pd.isnull(trainX['经营期限至']).astype(int)\n",
    "    trainX['注销时间'] = pd.isnull(trainX['注销时间']).astype(int)\n",
    "    trainX['equal']=(trainX['经营期限自']==trainX['成立日期']).astype(int)\n",
    "    trainX['核准日期'] = trainX['核准日期'].map(\n",
    "                lambda x: 0 if x=='00:00.0' else 1 if x=='42:06.0' else 2)\n",
    "    trainX['经营范围'] = trainX['经营范围'].str.split(',').map(len)\n",
    "    trainX = trainX.drop(['经营期限自','成立日期'],axis=1)\n",
    "    nullmask = trainX['邮政编码'].isnull()\n",
    "    temp = trainX.loc[~nullmask,'邮政编码']\n",
    "    mask = temp.map(lambda x: all(map(str.isnumeric, \n",
    "                                        str(x).split('.'))))\n",
    "    temp[mask] = temp[mask].map(func)\n",
    "    temp[~mask] = 10\n",
    "    trainX.loc[~nullmask,'邮政编码'] = temp\n",
    "    trainX['邮政编码'] = trainX['邮政编码'].astype(np.float32)\n",
    "    return trainX\n",
    "train_data = process(train_data)\n",
    "test = process(test)"
   ]
  },
  {
   "cell_type": "code",
   "execution_count": 11,
   "metadata": {},
   "outputs": [],
   "source": [
    "from sklearn.model_selection import train_test_split"
   ]
  },
  {
   "cell_type": "code",
   "execution_count": 9,
   "metadata": {},
   "outputs": [
    {
     "data": {
      "text/plain": [
       "(14366, 178)"
      ]
     },
     "execution_count": 9,
     "metadata": {},
     "output_type": "execute_result"
    }
   ],
   "source": [
    "train_data.shape"
   ]
  },
  {
   "cell_type": "code",
   "execution_count": 12,
   "metadata": {},
   "outputs": [],
   "source": [
    "train_data, valid = train_test_split(train_data, test_size=0.1, \n",
    "                      shuffle=True,stratify=train_data['Label'])"
   ]
  },
  {
   "cell_type": "code",
   "execution_count": 13,
   "metadata": {},
   "outputs": [
    {
     "data": {
      "text/plain": [
       "(847, 94)"
      ]
     },
     "execution_count": 13,
     "metadata": {},
     "output_type": "execute_result"
    }
   ],
   "source": [
    "train_data['Label'].sum(),valid['Label'].sum()"
   ]
  },
  {
   "cell_type": "code",
   "execution_count": null,
   "metadata": {},
   "outputs": [],
   "source": []
  },
  {
   "cell_type": "code",
   "execution_count": null,
   "metadata": {},
   "outputs": [],
   "source": []
  },
  {
   "cell_type": "code",
   "execution_count": 14,
   "metadata": {},
   "outputs": [],
   "source": [
    "def drop_null(data):\n",
    "    result = data.copy()\n",
    "    mr = data.isnull().sum()/data.shape[0]\n",
    "    mask = mr[mr==1].index\n",
    "    result = result.drop(mask, axis=1)\n",
    "    return result\n",
    "\n",
    "def split_data(train_data1):\n",
    "    # 按照缺失值数目对样本进行切分\n",
    "    train2 = train_data1.copy()\n",
    "    train2['miss'] = train2.isnull().sum(axis=1)\n",
    "    train2['Cmiss'] = (train2['miss']>50).astype(int)\n",
    "    mask = train2['Cmiss']==1\n",
    "    cmiss1 = train2.loc[mask,:]\n",
    "    cmiss2 = train2.loc[~mask,:]\n",
    "    cmiss1 = cmiss1.drop('Cmiss', axis=1)\n",
    "    cmiss2 = cmiss2.drop('Cmiss', axis=1)\n",
    "    # 去除掉全部为缺失值的特征。\n",
    "    cmiss4 = drop_null(cmiss2)\n",
    "    cmiss3 = drop_null(cmiss1)\n",
    "    ''' ['增值税', '企业所得税', '印花税','教育费', '城建税']存在大量0值，通过统计\n",
    "    每个样本的零值的个数对样本进一步切分，对于不包含0值的归为一类，包含大于等于\n",
    "    一个0值的归于一个类'''\n",
    "    cmiss3['Count']= (cmiss3.iloc[:,-9:-4]==0).sum(axis=1)\n",
    "    # 将0作为一类进行建模，将大于0作为一类进行建模\n",
    "    mask = cmiss3['Count'] == 0\n",
    "    cmiss5, cmiss7 = cmiss3.loc[mask,:], cmiss3.loc[~mask,:]\n",
    "    return cmiss4, cmiss5, cmiss7"
   ]
  },
  {
   "cell_type": "code",
   "execution_count": null,
   "metadata": {},
   "outputs": [],
   "source": [
    "def split_data(train_data1):\n",
    "    # 按照缺失值数目对样本进行切分\n",
    "    train2 = train_data1.copy()\n",
    "    train2['miss'] = train2.isnull().sum(axis=1)\n",
    "    train2['Cmiss'] = (train2['miss']>50).astype(int)\n",
    "    mask = train2['Cmiss']==1\n",
    "    cmiss1 = train2.loc[mask,:]\n",
    "    cmiss2 = train2.loc[~mask,:]\n",
    "    cmiss1 = cmiss1.drop('Cmiss', axis=1)\n",
    "    cmiss2 = cmiss2.drop('Cmiss', axis=1)\n",
    "    # 去除掉全部为缺失值的特征。\n",
    "    cmiss4 = drop_null(cmiss2)\n",
    "    cmiss3 = drop_null(cmiss1)\n",
    "    fet = ['增值税', '企业所得税', '印花税','教育费', '城建税']\n",
    "    cmiss3['Count']= (cmiss3.loc[:,fet]==0).sum(axis=1)\n",
    "    for each in fet:\n",
    "        cmiss3['is_null_'+each] = pd.isnull(cmiss3[each]).astype(int)\n",
    "        cmiss3['bin_'+each] = pd.cut(cmiss3[each],bins=10,labels=range(1,11))\n",
    "        cmiss3['bin_'+each]= cmiss3['bin_'+each].astype(int)\n",
    "        cmiss3['bin_'+each] = cmiss3['bin_'+each].fillna(0)\n",
    "    return cmiss3,cmiss4"
   ]
  },
  {
   "cell_type": "code",
   "execution_count": 15,
   "metadata": {},
   "outputs": [],
   "source": [
    "cmiss1, cmiss2, cmiss3 = split_data(train_data)"
   ]
  },
  {
   "cell_type": "code",
   "execution_count": 16,
   "metadata": {},
   "outputs": [
    {
     "data": {
      "text/plain": [
       "((5441, 179), (5284, 24), (2204, 24))"
      ]
     },
     "execution_count": 16,
     "metadata": {},
     "output_type": "execute_result"
    }
   ],
   "source": [
    "cmiss1.shape,cmiss2.shape,cmiss3.shape"
   ]
  },
  {
   "cell_type": "code",
   "execution_count": 17,
   "metadata": {},
   "outputs": [
    {
     "data": {
      "text/plain": [
       "(0.005697482080499908, 0.023656320968962908, 0.3135208711433757)"
      ]
     },
     "execution_count": 17,
     "metadata": {},
     "output_type": "execute_result"
    }
   ],
   "source": [
    "cmiss1['Label'].mean(), cmiss2['Label'].mean(),cmiss3['Label'].mean()"
   ]
  },
  {
   "cell_type": "code",
   "execution_count": 199,
   "metadata": {},
   "outputs": [],
   "source": [
    "test1, test2, test3 = split_data(test)"
   ]
  },
  {
   "cell_type": "code",
   "execution_count": 19,
   "metadata": {},
   "outputs": [],
   "source": [
    "valid1, valid2, valid3 = split_data(valid)"
   ]
  },
  {
   "cell_type": "code",
   "execution_count": 20,
   "metadata": {},
   "outputs": [
    {
     "data": {
      "text/plain": [
       "(0.001718213058419244, 0.03420195439739414, 0.2987551867219917)"
      ]
     },
     "execution_count": 20,
     "metadata": {},
     "output_type": "execute_result"
    }
   ],
   "source": [
    "valid1['Label'].mean(),valid2['Label'].mean(),valid3['Label'].mean()"
   ]
  },
  {
   "cell_type": "markdown",
   "metadata": {},
   "source": [
    "#### 对cmiss3进行数据处理"
   ]
  },
  {
   "cell_type": "code",
   "execution_count": 41,
   "metadata": {},
   "outputs": [],
   "source": [
    "import lightgbm as lgb\n",
    "import xgboost as xgb\n",
    "\n",
    "paramxg={'base_score': 0.5, 'booster': 'gbtree','colsample_bylevel': 0.5,\n",
    " 'colsample_bynode': 1,'colsample_bytree': 0.055,'gamma': 1.5,\n",
    " 'learning_rate': 0.02,'max_delta_step': 0,'max_depth': 32,'min_child_weight': 57,\n",
    " 'missing': None,'n_estimators': 1000,'n_jobs': -1,'objective': 'binary:logistic',\n",
    " 'random_state': 7,'reg_alpha': 0,'reg_lambda': 0,\n",
    " 'scale_pos_weight': 1,'subsample': 0.7,\n",
    " 'verbosity': 1,'eval_metric': 'auc','early_stopping_rounds': 14}\n",
    "\n",
    "paramlg = {'boosting_type': 'gbdt','class_weight': None,\n",
    " 'colsample_bytree': 1.0,'importance_type': 'split','learning_rate': 0.005,\n",
    " 'max_depth': 13,'min_child_samples': 20,'min_child_weight': 0.001,\n",
    " 'min_split_gain': 0.0,'n_jobs': -1,'num_leaves': 20,'reg_alpha': 0.0,\n",
    "'reg_lambda': 0.0,'subsample': 1.0,'subsample_for_bin': 200000,\n",
    "'subsample_freq': 0,'metric': 'auc','is_training_metric': True,\n",
    " 'max_bin': 55,'bagging_fraction': 0.8,'bagging_freq': 5,\n",
    " 'feature_fraction': 0.9}"
   ]
  },
  {
   "cell_type": "code",
   "execution_count": 57,
   "metadata": {},
   "outputs": [],
   "source": [
    "estimator1 = xgb.XGBClassifier(**paramxg)\n",
    "pred1, pt1, ptrain1 = processTrainTest(cmiss1,valid1,estimator1,\n",
    "                                       fs=True, valid=True)\n",
    "estimator2 = xgb.XGBClassifier(**paramxg)\n",
    "pred2, pt2, ptrain2 = processTrainTest(cmiss2,valid2,estimator2,\n",
    "                                       fs=False, valid=True)\n",
    "estimator3 = xgb.XGBClassifier(**paramxg)\n",
    "pred3, pt3, ptrain3 = processTrainTest(cmiss3,valid3,estimator3,\n",
    "                                       fs=False, valid=True)"
   ]
  },
  {
   "cell_type": "code",
   "execution_count": 60,
   "metadata": {},
   "outputs": [],
   "source": [
    "estimator1 = lgb.LGBMClassifier(**paramlg)\n",
    "pred1, pt1, ptrain1 = processTrainTest(cmiss1,valid1,estimator1,\n",
    "                                       fs=True, valid=True)\n",
    "estimator2 = lgb.LGBMClassifier(**paramlg)\n",
    "pred2, pt2, ptrain2 = processTrainTest(cmiss2,valid2,estimator2,\n",
    "                                       fs=False, valid=True)\n",
    "estimator3 = lgb.LGBMClassifier(**paramlg)\n",
    "pred3, pt3, ptrain3 = processTrainTest(cmiss3,valid3,estimator3,\n",
    "                                       fs=False, valid=True)"
   ]
  },
  {
   "cell_type": "code",
   "execution_count": 61,
   "metadata": {},
   "outputs": [
    {
     "data": {
      "text/plain": [
       "0.9025522409340789"
      ]
     },
     "execution_count": 61,
     "metadata": {},
     "output_type": "execute_result"
    }
   ],
   "source": [
    "pt1['pred'] = pred1\n",
    "ptu1 = pt1[['ID','Label','pred']]\n",
    "\n",
    "pt2['pred'] = pred2\n",
    "ptu2 = pt2[['ID','Label','pred']]\n",
    "\n",
    "pt3['pred'] = pred3\n",
    "ptu3 = pt3[['ID','Label','pred']]\n",
    "\n",
    "sub = pd.concat([ptu1,ptu2,ptu3])\n",
    "roc_auc_score(sub['Label'], sub['pred'])"
   ]
  },
  {
   "cell_type": "code",
   "execution_count": 102,
   "metadata": {},
   "outputs": [
    {
     "data": {
      "text/plain": [
       "0.9025522409340789"
      ]
     },
     "execution_count": 102,
     "metadata": {},
     "output_type": "execute_result"
    }
   ],
   "source": [
    "pt1['pred'] = pred1\n",
    "ptu1 = pt1[['ID','Label','pred']]\n",
    "\n",
    "pt2['pred'] = pred2\n",
    "ptu2 = pt2[['ID','Label','pred']]\n",
    "\n",
    "pt3['pred'] = pred3\n",
    "ptu3 = pt3[['ID','Label','pred']]\n",
    "\n",
    "sub = pd.concat([ptu1,ptu2,ptu3])\n",
    "roc_auc_score(sub['Label'],sub['pred'])"
   ]
  },
  {
   "cell_type": "code",
   "execution_count": 103,
   "metadata": {},
   "outputs": [
    {
     "data": {
      "text/plain": [
       "(0.003451922991105345, 0.014434125257885191, 0.19422949073375687)"
      ]
     },
     "execution_count": 103,
     "metadata": {},
     "output_type": "execute_result"
    }
   ],
   "source": [
    "pred1.min(),pred2.min(), pred3.min()"
   ]
  },
  {
   "cell_type": "code",
   "execution_count": 105,
   "metadata": {},
   "outputs": [
    {
     "data": {
      "text/plain": [
       "0.5679862306368331"
      ]
     },
     "execution_count": 105,
     "metadata": {},
     "output_type": "execute_result"
    }
   ],
   "source": [
    "roc_auc_score(ptu1['Label'],ptu1['pred'])"
   ]
  },
  {
   "cell_type": "code",
   "execution_count": 91,
   "metadata": {},
   "outputs": [
    {
     "data": {
      "text/plain": [
       "(0.0034551163024880973, 0.015277543138671773, 0.30370767720371816)"
      ]
     },
     "execution_count": 91,
     "metadata": {},
     "output_type": "execute_result"
    }
   ],
   "source": [
    "np.median(pred1),np.median(pred2), np.median(pred3)"
   ]
  },
  {
   "cell_type": "code",
   "execution_count": 88,
   "metadata": {},
   "outputs": [
    {
     "data": {
      "text/plain": [
       "(0.2386059366019534, 0.3458620123981136, 0.5672800650789386)"
      ]
     },
     "execution_count": 88,
     "metadata": {},
     "output_type": "execute_result"
    }
   ],
   "source": [
    "pred1.max(),pred2.max(), pred3.max()"
   ]
  },
  {
   "cell_type": "code",
   "execution_count": 87,
   "metadata": {},
   "outputs": [
    {
     "data": {
      "text/plain": [
       "(0.023353139540463183, 0.16818072682743748, 0.5520201698207421)"
      ]
     },
     "execution_count": 87,
     "metadata": {},
     "output_type": "execute_result"
    }
   ],
   "source": [
    "np.percentile(pred1,99),np.percentile(pred2,99),np.percentile(pred3,99)"
   ]
  },
  {
   "cell_type": "code",
   "execution_count": 37,
   "metadata": {},
   "outputs": [],
   "source": [
    "from sklearn.metrics import roc_auc_score\n",
    "import sklearn.ensemble as ensemble"
   ]
  },
  {
   "cell_type": "code",
   "execution_count": 54,
   "metadata": {},
   "outputs": [],
   "source": [
    "xg = xgb.XGBClassifier(**paramxg)\n",
    "lg = lgb.LGBMClassifier(**paramlg)\n",
    "X = train_data.drop(['ID','Label'], axis=1)\n",
    "y = train_data['Label']\n",
    "Xt = valid.drop(['ID','Label'], axis=1)\n",
    "yt = valid['Label']\n",
    "xg.fit(X,y)\n",
    "lg.fit(X.values,y)\n",
    "prelg = lg.predict_proba(Xt.values)[:,1]\n",
    "prexg = xg.predict_proba(Xt)[:,1]\n",
    "pre = (prelg+prexg)/2"
   ]
  },
  {
   "cell_type": "code",
   "execution_count": 106,
   "metadata": {},
   "outputs": [],
   "source": [
    "test_data = test.drop('ID', axis=1)"
   ]
  },
  {
   "cell_type": "code",
   "execution_count": 107,
   "metadata": {},
   "outputs": [],
   "source": [
    "prelg = lg.predict_proba(test_data.values)[:,1]\n",
    "prexg = xg.predict_proba(test_data)[:,1]\n",
    "pre = (prelg+prexg)/2"
   ]
  },
  {
   "cell_type": "code",
   "execution_count": 108,
   "metadata": {},
   "outputs": [],
   "source": [
    "test['Label'] = pre\n",
    "sub = test[['ID','Label']]\n",
    "sub.to_csv('submit.csv',index=False)"
   ]
  },
  {
   "cell_type": "code",
   "execution_count": null,
   "metadata": {},
   "outputs": [],
   "source": []
  },
  {
   "cell_type": "code",
   "execution_count": 23,
   "metadata": {},
   "outputs": [],
   "source": [
    "from sklearn.ensemble import GradientBoostingClassifier\n",
    "from sklearn.model_selection import cross_val_score,KFold\n",
    "from sklearn.model_selection import cross_validate"
   ]
  },
  {
   "cell_type": "code",
   "execution_count": 3,
   "metadata": {},
   "outputs": [],
   "source": [
    "import pandas as pd \n",
    "import numpy as np \n",
    "\n",
    "class TargetEncode:\n",
    "    def __init__(self):\n",
    "        self.map_ = {}\n",
    "        self.mean_ = None\n",
    "        self.none_ = {}\n",
    "        \n",
    "    def fit(self,X,y):\n",
    "        self.mean_ = y.mean()\n",
    "        name = y.name\n",
    "        df = pd.concat([X,y],axis=1)\n",
    "        for each in X:\n",
    "            data = df.groupby(each)[name].mean()\n",
    "            self.map_[each] = data.to_dict()\n",
    "            self.none_[each] = y[pd.isnull(df[each])].mean()\n",
    "        return self\n",
    "    \n",
    "    def transform(self,X):\n",
    "        result = X.copy()\n",
    "        for each in X:\n",
    "            result[each] = X[each].map(\n",
    "                lambda x,column=each: self.func(x,column) + self.mean_)\n",
    "        return result\n",
    "    \n",
    "    def func(self,x,column=None):\n",
    "        if pd.isnull(x):\n",
    "            return self.none_.get(column,0)\n",
    "        else:\n",
    "            return self.map_[column].get(x,0)\n",
    "\n",
    "class ProcessData:\n",
    "    def __init__(self):\n",
    "        self.enc = None\n",
    "        self.cat_fet = ['企业类型',  '登记机关', '企业状态', '邮政编码', '核准日期',\n",
    " '行业代码', '行业门类', '企业类别', '管辖机关','经营范围']\n",
    "        self.num_fet = ['增值税', '企业所得税', '印花税','教育费',\n",
    "           '城建税','注册资本']\n",
    "    \n",
    "    def fit(self, X, y=None):\n",
    "        result = X.copy()\n",
    "        num, cat = result[self.num_fet], result[self.cat_fet]\n",
    "        enc = TargetEncode()\n",
    "        self.enc = enc.fit(cat, result['Label'])\n",
    "        return self \n",
    "\n",
    "    def transform(self, X):\n",
    "        result = X.copy()\n",
    "        num, cat = result[self.num_fet], result[self.cat_fet]\n",
    "        result['mean'] = num.mean(axis=1)\n",
    "        result['std'] = num.std(axis=1)\n",
    "        result['skew'] = num.skew(axis=1)\n",
    "        result['median'] = num.median(axis=1)\n",
    "        result[self.cat_fet] = self.enc.transform(cat)\n",
    "        return result\n",
    "\n",
    "def processTrainTest(cmiss1, test2, estimator1, fs=True, valid=False):\n",
    "    pcmiss1 = ProcessData()\n",
    "    pcmiss1.fit(cmiss1)\n",
    "    presult1 = pcmiss1.transform(cmiss1)\n",
    "    ptest1 = pcmiss1.transform(test2)\n",
    "\n",
    "    presult1 = presult1.fillna(0)\n",
    "    ptest1 = ptest1.fillna(0)\n",
    "\n",
    "    pX1 = presult1.drop(['Label'],axis=1)\n",
    "    py1 = presult1['Label']\n",
    "    pX1 = pX1.drop(['ID','投资总额'],axis=1)\n",
    "    pXt1 = ptest1.drop(['ID','投资总额'],axis=1)\n",
    "    if valid:\n",
    "        pXt1 = pXt1.drop(['Label'], axis=1)\n",
    "\n",
    "    es1 = estimator1.fit(pX1.values,py1)\n",
    "    if fs:\n",
    "        dic ={key:value for key, value in zip(pX1.columns,\n",
    "                            es1.feature_importances_) if value != 0}\n",
    "        columns = list(dic.keys())\n",
    "        es1 = estimator1.fit(pX1[columns].values, py1)\n",
    "        pred1 = es1.predict_proba(pXt1[columns].values)[:,1]\n",
    "    else:\n",
    "        pred1 = es1.predict_proba(pXt1.values)[:,1]\n",
    "    return pred1, ptest1, presult1"
   ]
  },
  {
   "cell_type": "code",
   "execution_count": 116,
   "metadata": {},
   "outputs": [
    {
     "data": {
      "text/plain": [
       "array([[1],\n",
       "       [2],\n",
       "       [3]])"
      ]
     },
     "execution_count": 116,
     "metadata": {},
     "output_type": "execute_result"
    }
   ],
   "source": [
    "np.array([1,2,3])[:,None]"
   ]
  },
  {
   "cell_type": "code",
   "execution_count": 113,
   "metadata": {},
   "outputs": [
    {
     "data": {
      "text/plain": [
       "2"
      ]
     },
     "execution_count": 113,
     "metadata": {},
     "output_type": "execute_result"
    }
   ],
   "source": [
    "np.array([[1,2],[3,4]]).ndim"
   ]
  },
  {
   "cell_type": "code",
   "execution_count": null,
   "metadata": {},
   "outputs": [],
   "source": []
  }
 ],
 "metadata": {
  "kernelspec": {
   "display_name": "Python 3",
   "language": "python",
   "name": "python3"
  },
  "language_info": {
   "codemirror_mode": {
    "name": "ipython",
    "version": 3
   },
   "file_extension": ".py",
   "mimetype": "text/x-python",
   "name": "python",
   "nbconvert_exporter": "python",
   "pygments_lexer": "ipython3",
   "version": "3.7.4"
  }
 },
 "nbformat": 4,
 "nbformat_minor": 2
}
