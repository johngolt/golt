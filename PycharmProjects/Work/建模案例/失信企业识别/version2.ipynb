{
 "cells": [
  {
   "cell_type": "code",
   "execution_count": 111,
   "metadata": {
    "ExecuteTime": {
     "end_time": "2019-12-05T03:17:07.086477Z",
     "start_time": "2019-12-05T03:17:06.601774Z"
    }
   },
   "outputs": [],
   "source": [
    "import warnings\n",
    "import pandas as pd\n",
    "import numpy as np\n",
    "import os\n",
    "import matplotlib.pyplot as plt\n",
    "%matplotlib inline\n",
    "os.chdir('D:/工作/data/shibie/')\n",
    "warnings.filterwarnings('ignore')\n",
    "train_data = pd.read_csv('train_data.csv')\n",
    "test =pd.read_csv('test.csv')\n",
    "train_data = train_data.set_index('ID')\n",
    "test = test.set_index('ID')\n",
    "Idx = train_data.index\n",
    "testIdx = test.index\n",
    "data = pd.concat([train_data,test])"
   ]
  },
  {
   "cell_type": "code",
   "execution_count": 112,
   "metadata": {
    "ExecuteTime": {
     "end_time": "2019-12-05T03:17:11.313897Z",
     "start_time": "2019-12-05T03:17:11.282980Z"
    }
   },
   "outputs": [],
   "source": [
    "#统计每个样本的缺失情况。\n",
    "train_data['null'] = train_data.isnull().sum(axis=1)\n",
    "train_data['null'] = (train_data['null']>50).astype(int)\n",
    "test['null'] = test.isnull().sum(axis=1)\n",
    "test['null'] = (test['null']>50).astype(int)"
   ]
  },
  {
   "cell_type": "code",
   "execution_count": 9,
   "metadata": {
    "ExecuteTime": {
     "end_time": "2019-12-04T03:22:07.894772Z",
     "start_time": "2019-12-04T03:22:07.884106Z"
    }
   },
   "outputs": [
    {
     "data": {
      "text/plain": [
       "0    7434\n",
       "1     909\n",
       "Name: Label, dtype: int64"
      ]
     },
     "execution_count": 9,
     "metadata": {},
     "output_type": "execute_result"
    }
   ],
   "source": [
    "mask_null = train_data['null'] == 1\n",
    "train_data.loc[mask_null,'Label'].value_counts()"
   ]
  },
  {
   "cell_type": "code",
   "execution_count": 10,
   "metadata": {
    "ExecuteTime": {
     "end_time": "2019-12-04T03:22:33.124801Z",
     "start_time": "2019-12-04T03:22:33.113315Z"
    }
   },
   "outputs": [
    {
     "data": {
      "text/plain": [
       "0    5991\n",
       "1      32\n",
       "Name: Label, dtype: int64"
      ]
     },
     "execution_count": 10,
     "metadata": {},
     "output_type": "execute_result"
    }
   ],
   "source": [
    "train_data.loc[~mask_null,'Label'].value_counts()"
   ]
  },
  {
   "cell_type": "markdown",
   "metadata": {},
   "source": [
    "通过上面的分析，对于确实较少的样本，其负样本率非常低， 所以这个可以作为一条规则，确实特征小于某个值可以直接判定为好，我们将对那些确实严重的样本进行建模。"
   ]
  },
  {
   "cell_type": "code",
   "execution_count": 114,
   "metadata": {
    "ExecuteTime": {
     "end_time": "2019-12-05T03:17:36.677438Z",
     "start_time": "2019-12-05T03:17:36.622561Z"
    }
   },
   "outputs": [],
   "source": [
    "# 删除掉缺失率为1的特征。\n",
    "columns = [each for each in data.columns if '年' in each]\n",
    "data1 = data.drop(columns,axis=1)"
   ]
  },
  {
   "cell_type": "code",
   "execution_count": 31,
   "metadata": {
    "ExecuteTime": {
     "end_time": "2019-12-05T01:53:15.213448Z",
     "start_time": "2019-12-05T01:53:15.194674Z"
    }
   },
   "outputs": [],
   "source": [
    "z = pd.qcut(train_data[columns[50]],10,duplicates='drop',retbins=True)"
   ]
  },
  {
   "cell_type": "code",
   "execution_count": 123,
   "metadata": {
    "ExecuteTime": {
     "end_time": "2019-12-05T03:18:22.309010Z",
     "start_time": "2019-12-05T03:18:21.187759Z"
    }
   },
   "outputs": [],
   "source": [
    "for each in columns:\n",
    "    if train_data[each].nunique()==1:\n",
    "        continue\n",
    "    ser,bins = pd.qcut(train_data[each], 10, duplicates='drop', retbins=True)\n",
    "    bins[0],bins[-1] = -np.inf, np.inf\n",
    "    ser.cat.categories = range(len(ser.cat.categories))\n",
    "    train_data[each+'_bin'] = ser.astype(float).fillna(-1)\n",
    "    ser2 = pd.cut(test[each],bins,labels=range(len(bins)-1))\n",
    "    test[each+'_bin'] = ser2.astype(float).fillna(-1)"
   ]
  },
  {
   "cell_type": "code",
   "execution_count": 124,
   "metadata": {
    "ExecuteTime": {
     "end_time": "2019-12-05T03:18:23.372612Z",
     "start_time": "2019-12-05T03:18:23.368586Z"
    }
   },
   "outputs": [],
   "source": [
    "bincolumns = [each for each in train_data.columns if 'bin' in each]"
   ]
  },
  {
   "cell_type": "code",
   "execution_count": 70,
   "metadata": {
    "ExecuteTime": {
     "end_time": "2019-12-05T02:09:58.369093Z",
     "start_time": "2019-12-05T02:09:58.361306Z"
    }
   },
   "outputs": [
    {
     "data": {
      "text/plain": [
       "138"
      ]
     },
     "execution_count": 70,
     "metadata": {},
     "output_type": "execute_result"
    }
   ],
   "source": []
  },
  {
   "cell_type": "code",
   "execution_count": null,
   "metadata": {
    "ExecuteTime": {
     "end_time": "2019-12-05T01:55:49.113629Z",
     "start_time": "2019-12-05T01:55:49.102500Z"
    }
   },
   "outputs": [],
   "source": []
  },
  {
   "cell_type": "code",
   "execution_count": 115,
   "metadata": {
    "ExecuteTime": {
     "end_time": "2019-12-05T03:17:39.634370Z",
     "start_time": "2019-12-05T03:17:39.622403Z"
    }
   },
   "outputs": [],
   "source": [
    "data1 = data1.drop('投资总额',axis=1)"
   ]
  },
  {
   "cell_type": "code",
   "execution_count": 116,
   "metadata": {
    "ExecuteTime": {
     "end_time": "2019-12-05T03:17:42.377419Z",
     "start_time": "2019-12-05T03:17:42.339494Z"
    }
   },
   "outputs": [],
   "source": [
    "def Tax(data):\n",
    "    train_data = data.copy()\n",
    "    tax=['增值税','企业所得税','印花税','教育费','城建税', '注册资本']\n",
    "    traintax = train_data[tax]\n",
    "    traintax.fillna(0)\n",
    "    traintax['zero']=(traintax==0).sum(axis=1)\n",
    "    traintax['taxsum'] = traintax.iloc[:,:5].sum(axis=1)\n",
    "    traintax['taxmean'] = traintax.mean(axis=1)\n",
    "    traintax['median'] = traintax.median(axis=1)\n",
    "    traintax = traintax.drop(tax,axis=1)\n",
    "    return traintax\n",
    "traintax = Tax(data1)"
   ]
  },
  {
   "cell_type": "code",
   "execution_count": 117,
   "metadata": {
    "ExecuteTime": {
     "end_time": "2019-12-05T03:17:43.414300Z",
     "start_time": "2019-12-05T03:17:43.029194Z"
    }
   },
   "outputs": [],
   "source": [
    "time = ['经营期限至','注销时间','经营期限自','成立日期','核准日期']\n",
    "for each in time:\n",
    "    data1[each+'_0'] = data1[each].str.split(\n",
    "        ':').str[0].astype(float)\n",
    "    data1[each+'_1'] = data1[each].str.split(\n",
    "        ':').str[0].astype(float)\n",
    "data1 = data1.drop(time,axis=1)\n",
    "\n",
    "data1['经营范围']=data1['经营范围'].str.split(',').apply(len)\n",
    "\n",
    "data1['邮编1']=data1['邮政编码'].astype(str).str[:2]\n",
    "data1['邮编2']=data1['邮政编码'].astype(str).str[2:4] \n",
    "mask = (data1['邮编1']=='na')|(data1['邮编1']=='26')\n",
    "data1.loc[~mask,'邮编1'] = '10'\n",
    "youbian = data1['邮编2'].value_counts()[:9].index\n",
    "data1.loc[~data1['邮编2'].isin(youbian),'邮编2'] = '10'\n",
    "you2 = pd.get_dummies(data1['邮编2'],prefix='邮编2')\n",
    "you1 = pd.get_dummies(data1['邮编1'],prefix='邮编1')\n",
    "data1 = data1.drop(['邮政编码','邮编1','邮编2'],axis=1)\n",
    "#相关系数证明与类别无关。\n",
    "# data1 = data1.drop(['登记机关','管辖机关'],axis=1)\n",
    "#行业代 \n",
    "temp = data1['行业代码'].fillna(0).astype(int).astype(str).str.ljust(4,'0')\n",
    "temp1 = temp.str[:2]\n",
    "temp2 = temp.str[2]\n",
    "temp3 = temp.str[3]\n",
    "daima1 = pd.get_dummies(temp1,prefix='代码1')\n",
    "daima2 = pd.get_dummies(temp2,prefix='代码2')\n",
    "daima3 = pd.get_dummies(temp3,prefix='代码3')\n",
    "\n",
    "# data2 = data1.drop('行业代码',axis=1)\n",
    "data2 = pd.concat([data1,daima1,daima2,daima3,you1,you2],axis=1)"
   ]
  },
  {
   "cell_type": "code",
   "execution_count": 118,
   "metadata": {
    "ExecuteTime": {
     "end_time": "2019-12-05T03:17:45.366287Z",
     "start_time": "2019-12-05T03:17:45.347336Z"
    }
   },
   "outputs": [],
   "source": [
    "data2 = pd.concat([data2,traintax],axis=1)"
   ]
  },
  {
   "cell_type": "code",
   "execution_count": 125,
   "metadata": {
    "ExecuteTime": {
     "end_time": "2019-12-05T03:18:29.007016Z",
     "start_time": "2019-12-05T03:18:28.900263Z"
    }
   },
   "outputs": [],
   "source": [
    "z = train_data[bincolumns].corrwith(train_data['Label'])"
   ]
  },
  {
   "cell_type": "code",
   "execution_count": 121,
   "metadata": {
    "ExecuteTime": {
     "end_time": "2019-12-05T03:18:00.679633Z",
     "start_time": "2019-12-05T03:18:00.674647Z"
    }
   },
   "outputs": [
    {
     "data": {
      "text/plain": [
       "(23944, 145)"
      ]
     },
     "execution_count": 121,
     "metadata": {},
     "output_type": "execute_result"
    }
   ],
   "source": [
    "data2.shape"
   ]
  },
  {
   "cell_type": "code",
   "execution_count": 126,
   "metadata": {
    "ExecuteTime": {
     "end_time": "2019-12-05T03:18:34.173930Z",
     "start_time": "2019-12-05T03:18:34.084152Z"
    }
   },
   "outputs": [],
   "source": [
    "X = data2.loc[Idx,:]\n",
    "X['null'] = train_data.isnull().sum(axis=1)\n",
    "Xv = data2.loc[testIdx,:]\n",
    "Xv['null'] = test.isnull().sum(axis=1)"
   ]
  },
  {
   "cell_type": "code",
   "execution_count": 127,
   "metadata": {
    "ExecuteTime": {
     "end_time": "2019-12-05T03:18:34.843520Z",
     "start_time": "2019-12-05T03:18:34.794646Z"
    }
   },
   "outputs": [],
   "source": [
    "X_ = pd.concat([X,train_data[bincolumns]],axis=1)\n",
    "Xv_ = pd.concat([Xv,test[bincolumns]],axis=1)"
   ]
  },
  {
   "cell_type": "code",
   "execution_count": 128,
   "metadata": {
    "ExecuteTime": {
     "end_time": "2019-12-05T03:18:36.968203Z",
     "start_time": "2019-12-05T03:18:36.959193Z"
    }
   },
   "outputs": [],
   "source": [
    "Xv = Xv.drop('Label',axis=1)"
   ]
  },
  {
   "cell_type": "code",
   "execution_count": 129,
   "metadata": {
    "ExecuteTime": {
     "end_time": "2019-12-05T03:18:43.018871Z",
     "start_time": "2019-12-05T03:18:37.592630Z"
    }
   },
   "outputs": [],
   "source": [
    "X_.to_csv('X.csv',index=False)\n",
    "Xv_.to_csv('Xv.csv',index=False)"
   ]
  },
  {
   "cell_type": "code",
   "execution_count": 105,
   "metadata": {
    "ExecuteTime": {
     "end_time": "2019-12-05T03:10:40.349422Z",
     "start_time": "2019-12-05T03:10:40.340400Z"
    }
   },
   "outputs": [],
   "source": [
    "sub = pd.read_csv('sub.csv')"
   ]
  },
  {
   "cell_type": "code",
   "execution_count": 106,
   "metadata": {
    "ExecuteTime": {
     "end_time": "2019-12-05T03:10:44.133375Z",
     "start_time": "2019-12-05T03:10:44.127426Z"
    }
   },
   "outputs": [],
   "source": [
    "sub.columns=['ID','Label']"
   ]
  },
  {
   "cell_type": "code",
   "execution_count": 108,
   "metadata": {
    "ExecuteTime": {
     "end_time": "2019-12-05T03:10:49.070507Z",
     "start_time": "2019-12-05T03:10:49.031781Z"
    }
   },
   "outputs": [],
   "source": [
    "sub.to_csv('sub2.csv',index=False)"
   ]
  },
  {
   "cell_type": "code",
   "execution_count": 107,
   "metadata": {
    "ExecuteTime": {
     "end_time": "2019-12-05T03:10:46.483249Z",
     "start_time": "2019-12-05T03:10:46.479227Z"
    }
   },
   "outputs": [],
   "source": [
    "sub['ID'] = test.index"
   ]
  },
  {
   "cell_type": "code",
   "execution_count": 109,
   "metadata": {
    "ExecuteTime": {
     "end_time": "2019-12-05T03:10:59.641856Z",
     "start_time": "2019-12-05T03:10:59.633874Z"
    }
   },
   "outputs": [
    {
     "data": {
      "text/html": [
       "<div>\n",
       "<style scoped>\n",
       "    .dataframe tbody tr th:only-of-type {\n",
       "        vertical-align: middle;\n",
       "    }\n",
       "\n",
       "    .dataframe tbody tr th {\n",
       "        vertical-align: top;\n",
       "    }\n",
       "\n",
       "    .dataframe thead th {\n",
       "        text-align: right;\n",
       "    }\n",
       "</style>\n",
       "<table border=\"1\" class=\"dataframe\">\n",
       "  <thead>\n",
       "    <tr style=\"text-align: right;\">\n",
       "      <th></th>\n",
       "      <th>ID</th>\n",
       "      <th>Label</th>\n",
       "    </tr>\n",
       "  </thead>\n",
       "  <tbody>\n",
       "    <tr>\n",
       "      <td>0</td>\n",
       "      <td>0</td>\n",
       "      <td>0.071114</td>\n",
       "    </tr>\n",
       "    <tr>\n",
       "      <td>1</td>\n",
       "      <td>2</td>\n",
       "      <td>0.133089</td>\n",
       "    </tr>\n",
       "    <tr>\n",
       "      <td>2</td>\n",
       "      <td>4</td>\n",
       "      <td>0.092748</td>\n",
       "    </tr>\n",
       "    <tr>\n",
       "      <td>3</td>\n",
       "      <td>5</td>\n",
       "      <td>0.077130</td>\n",
       "    </tr>\n",
       "    <tr>\n",
       "      <td>4</td>\n",
       "      <td>6</td>\n",
       "      <td>0.077572</td>\n",
       "    </tr>\n",
       "  </tbody>\n",
       "</table>\n",
       "</div>"
      ],
      "text/plain": [
       "   ID     Label\n",
       "0   0  0.071114\n",
       "1   2  0.133089\n",
       "2   4  0.092748\n",
       "3   5  0.077130\n",
       "4   6  0.077572"
      ]
     },
     "execution_count": 109,
     "metadata": {},
     "output_type": "execute_result"
    }
   ],
   "source": [
    "sub.head()"
   ]
  },
  {
   "cell_type": "code",
   "execution_count": 113,
   "metadata": {
    "ExecuteTime": {
     "end_time": "2019-12-04T06:36:53.070523Z",
     "start_time": "2019-12-04T06:36:51.139719Z"
    }
   },
   "outputs": [
    {
     "data": {
      "text/plain": [
       "array([0.91642773, 0.90728337, 0.91169817, 0.9128561 , 0.91469947])"
      ]
     },
     "execution_count": 113,
     "metadata": {},
     "output_type": "execute_result"
    }
   ],
   "source": [
    "import lightgbm as lgb\n",
    "from sklearn.model_selection import cross_val_score, StratifiedKFold\n",
    "model = lgb.LGBMClassifier(**params)\n",
    "cross_val_score(model,X.to_numpy(),y,\n",
    "                scoring='roc_auc',cv=StratifiedKFold(5,shuffle=True))"
   ]
  },
  {
   "cell_type": "code",
   "execution_count": 109,
   "metadata": {
    "ExecuteTime": {
     "end_time": "2019-12-04T06:35:52.893191Z",
     "start_time": "2019-12-04T06:35:52.653865Z"
    }
   },
   "outputs": [
    {
     "data": {
      "text/plain": [
       "LGBMClassifier(boosting_type='gbdt', class_weight=None, colsample_bytree=0.5,\n",
       "               importance_type='split', learning_rate=0.1, max_depth=5,\n",
       "               min_child_samples=20, min_child_weight=0.001, min_split_gain=0.0,\n",
       "               n_estimators=50, n_jobs=-1, num_leaves=10, objective=None,\n",
       "               random_state=None, reg_alpha=0.0, reg_lambda=0.0, silent=True,\n",
       "               subsample=1, subsample_for_bin=200000, subsample_freq=5)"
      ]
     },
     "execution_count": 109,
     "metadata": {},
     "output_type": "execute_result"
    }
   ],
   "source": [
    "model.fit(X.to_numpy(),y)"
   ]
  },
  {
   "cell_type": "code",
   "execution_count": 110,
   "metadata": {
    "ExecuteTime": {
     "end_time": "2019-12-04T06:35:54.225660Z",
     "start_time": "2019-12-04T06:35:54.218648Z"
    }
   },
   "outputs": [
    {
     "data": {
      "text/plain": [
       "array([65,  1,  3, 10, 34, 17, 25, 29,  9, 16,  9,  7, 12,  0,  1,  8,  2,\n",
       "        9,  2,  4, 12,  0,  0,  0,  0,  3,  0,  2,  0,  0,  0,  0,  0,  0,\n",
       "        4,  2,  0,  0,  0,  0,  0,  0,  0,  0,  0,  1,  0,  0,  0,  0,  0,\n",
       "        0,  0,  0,  0,  0,  0,  0,  0,  0,  0,  0,  2,  0,  0,  0,  1,  1,\n",
       "        0,  0,  0,  0,  2,  4,  0,  2,  4,  0,  0,  1,  1,  1,  0,  0,  0,\n",
       "        0,  0,  0,  0,  0,  0,  0,  1,  0,  0,  0,  0,  0,  0,  0,  0,  0,\n",
       "        0,  0,  0,  3,  0,  1,  0,  0,  0,  0,  0,  0,  1,  8,  0,  0,  0,\n",
       "        0,  3,  0,  0,  1,  0,  1,  1,  0,  3,  0,  2,  2,  0,  0,  2,  0,\n",
       "        0, 12, 28, 24, 17, 34])"
      ]
     },
     "execution_count": 110,
     "metadata": {},
     "output_type": "execute_result"
    }
   ],
   "source": [
    "model.feature_importances_"
   ]
  },
  {
   "cell_type": "code",
   "execution_count": null,
   "metadata": {},
   "outputs": [],
   "source": [
    "X2 = X.loc[~mask_null,:]\n",
    "y2 = X2.pop('Label')\n",
    "\n",
    "import lightgbm as lgb\n",
    "from sklearn.model_selection import cross_val_score, StratifiedKFold\n",
    "from sklearn.linear_model import LogisticRegression\n",
    "import xgboost as xgb\n",
    "model2 = lgb.LGBMClassifier(**params)\n",
    "cross_val_score(model2,X2.to_numpy(),y2,\n",
    "                scoring='roc_auc',cv=StratifiedKFold(5,shuffle=True,\n",
    "                                        random_state=10))"
   ]
  },
  {
   "cell_type": "code",
   "execution_count": null,
   "metadata": {
    "ExecuteTime": {
     "end_time": "2019-12-04T06:36:37.676980Z",
     "start_time": "2019-12-04T06:36:37.580242Z"
    }
   },
   "outputs": [],
   "source": []
  },
  {
   "cell_type": "code",
   "execution_count": 59,
   "metadata": {
    "ExecuteTime": {
     "end_time": "2019-12-04T05:46:32.753114Z",
     "start_time": "2019-12-04T05:46:32.609400Z"
    }
   },
   "outputs": [
    {
     "data": {
      "text/plain": [
       "LGBMClassifier(boosting_type='gbdt', class_weight=None, colsample_bytree=0.5,\n",
       "               importance_type='split', learning_rate=0.1, max_depth=5,\n",
       "               min_child_samples=20, min_child_weight=0.001, min_split_gain=0.0,\n",
       "               n_estimators=50, n_jobs=-1, num_leaves=10, objective=None,\n",
       "               random_state=None, reg_alpha=0.0, reg_lambda=0.0, silent=True,\n",
       "               subsample=1, subsample_for_bin=200000, subsample_freq=5)"
      ]
     },
     "execution_count": 59,
     "metadata": {},
     "output_type": "execute_result"
    }
   ],
   "source": [
    "model2.fit(X2.to_numpy(),y2)"
   ]
  },
  {
   "cell_type": "code",
   "execution_count": 111,
   "metadata": {
    "ExecuteTime": {
     "end_time": "2019-12-04T06:36:34.612794Z",
     "start_time": "2019-12-04T06:36:34.604819Z"
    }
   },
   "outputs": [],
   "source": [
    "params = {'boosting_type': 'gbdt',\n",
    " 'class_weight': None,\n",
    " 'colsample_bytree': 0.5,\n",
    " 'importance_type': 'split',\n",
    " 'learning_rate': 0.1,\n",
    " 'max_depth': 5,\n",
    " 'min_child_samples': 20,\n",
    " 'min_child_weight': 0.001,\n",
    " 'min_split_gain': 0.0,\n",
    " 'n_estimators': 100,\n",
    " 'n_jobs': -1,\n",
    " 'num_leaves': 10,\n",
    " 'objective': None,\n",
    " 'random_state': None,\n",
    " 'reg_alpha': 0.0,\n",
    " 'reg_lambda': 0.0,\n",
    " 'silent': True,\n",
    " 'subsample': 1,\n",
    " 'subsample_for_bin': 200000,\n",
    " 'subsample_freq': 5}"
   ]
  },
  {
   "cell_type": "code",
   "execution_count": 60,
   "metadata": {
    "ExecuteTime": {
     "end_time": "2019-12-04T05:47:05.551374Z",
     "start_time": "2019-12-04T05:47:05.526674Z"
    }
   },
   "outputs": [],
   "source": [
    "Test = data2.loc[testIdx,:]\n",
    "Test = Test.drop('Label',axis=1)"
   ]
  },
  {
   "cell_type": "code",
   "execution_count": 54,
   "metadata": {
    "ExecuteTime": {
     "end_time": "2019-12-04T05:44:42.505941Z",
     "start_time": "2019-12-04T05:44:42.499949Z"
    }
   },
   "outputs": [],
   "source": [
    "test_mask_null = test['null'] == 1"
   ]
  },
  {
   "cell_type": "code",
   "execution_count": 66,
   "metadata": {
    "ExecuteTime": {
     "end_time": "2019-12-04T05:49:31.274531Z",
     "start_time": "2019-12-04T05:49:31.263525Z"
    }
   },
   "outputs": [],
   "source": [
    "Test1 = Test.loc[test_mask_null,:]"
   ]
  },
  {
   "cell_type": "code",
   "execution_count": 67,
   "metadata": {
    "ExecuteTime": {
     "end_time": "2019-12-04T05:49:33.045762Z",
     "start_time": "2019-12-04T05:49:33.033876Z"
    }
   },
   "outputs": [],
   "source": [
    "Test2 = Test.loc[~test_mask_null,:]"
   ]
  },
  {
   "cell_type": "code",
   "execution_count": 79,
   "metadata": {
    "ExecuteTime": {
     "end_time": "2019-12-04T06:19:42.708592Z",
     "start_time": "2019-12-04T06:19:42.702643Z"
    }
   },
   "outputs": [],
   "source": [
    "#Test1['Label']= model.predict_proba(Test1.to_numpy())[:,1]\n",
    "Test2['Label'] = 0"
   ]
  },
  {
   "cell_type": "code",
   "execution_count": 80,
   "metadata": {
    "ExecuteTime": {
     "end_time": "2019-12-04T06:19:44.798041Z",
     "start_time": "2019-12-04T06:19:44.695277Z"
    }
   },
   "outputs": [],
   "source": [
    "sub = pd.concat([Test1,Test2])\n",
    "sub['Label'].reset_index().to_csv('sub.csv',index=False)"
   ]
  },
  {
   "cell_type": "code",
   "execution_count": 76,
   "metadata": {
    "ExecuteTime": {
     "end_time": "2019-12-04T06:18:02.935779Z",
     "start_time": "2019-12-04T06:18:02.924801Z"
    }
   },
   "outputs": [
    {
     "data": {
      "text/plain": [
       "(0.002711315428739353, 0.5633296665704199)"
      ]
     },
     "execution_count": 76,
     "metadata": {},
     "output_type": "execute_result"
    }
   ],
   "source": [
    "Test1['Label'].min(),Test1['Label'].max()"
   ]
  },
  {
   "cell_type": "code",
   "execution_count": 75,
   "metadata": {
    "ExecuteTime": {
     "end_time": "2019-12-04T06:17:54.657988Z",
     "start_time": "2019-12-04T06:17:54.648015Z"
    }
   },
   "outputs": [
    {
     "data": {
      "text/plain": [
       "(7.930796402812578e-05, 0.6637875725646716)"
      ]
     },
     "execution_count": 75,
     "metadata": {},
     "output_type": "execute_result"
    }
   ],
   "source": [
    "Test2['Label'].min(),Test2['Label'].max()"
   ]
  },
  {
   "cell_type": "code",
   "execution_count": 77,
   "metadata": {
    "ExecuteTime": {
     "end_time": "2019-12-04T06:18:31.790354Z",
     "start_time": "2019-12-04T06:18:31.779351Z"
    }
   },
   "outputs": [
    {
     "data": {
      "text/plain": [
       "0.0046281099724601125"
      ]
     },
     "execution_count": 77,
     "metadata": {},
     "output_type": "execute_result"
    }
   ],
   "source": [
    "np.percentile(Test2['Label'],90)"
   ]
  },
  {
   "cell_type": "code",
   "execution_count": null,
   "metadata": {},
   "outputs": [],
   "source": [
    "shrunk_cov.flat[::n_features + 1] += shrinkage * mu"
   ]
  }
 ],
 "metadata": {
  "kernelspec": {
   "display_name": "Python 3",
   "language": "python",
   "name": "python3"
  },
  "language_info": {
   "codemirror_mode": {
    "name": "ipython",
    "version": 3
   },
   "file_extension": ".py",
   "mimetype": "text/x-python",
   "name": "python",
   "nbconvert_exporter": "python",
   "pygments_lexer": "ipython3",
   "version": "3.7.4"
  },
  "toc": {
   "base_numbering": 1,
   "nav_menu": {},
   "number_sections": true,
   "sideBar": true,
   "skip_h1_title": false,
   "title_cell": "Table of Contents",
   "title_sidebar": "Contents",
   "toc_cell": false,
   "toc_position": {},
   "toc_section_display": true,
   "toc_window_display": false
  },
  "varInspector": {
   "cols": {
    "lenName": 16,
    "lenType": 16,
    "lenVar": 40
   },
   "kernels_config": {
    "python": {
     "delete_cmd_postfix": "",
     "delete_cmd_prefix": "del ",
     "library": "var_list.py",
     "varRefreshCmd": "print(var_dic_list())"
    },
    "r": {
     "delete_cmd_postfix": ") ",
     "delete_cmd_prefix": "rm(",
     "library": "var_list.r",
     "varRefreshCmd": "cat(var_dic_list()) "
    }
   },
   "types_to_exclude": [
    "module",
    "function",
    "builtin_function_or_method",
    "instance",
    "_Feature"
   ],
   "window_display": false
  }
 },
 "nbformat": 4,
 "nbformat_minor": 2
}
