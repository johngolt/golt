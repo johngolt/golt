{
 "cells": [
  {
   "cell_type": "code",
   "execution_count": 7,
   "metadata": {
    "ExecuteTime": {
     "end_time": "2019-12-04T03:22:00.746535Z",
     "start_time": "2019-12-04T03:21:59.781397Z"
    }
   },
   "outputs": [],
   "source": [
    "import warnings\n",
    "import pandas as pd\n",
    "import numpy as np\n",
    "import os\n",
    "import matplotlib.pyplot as plt\n",
    "%matplotlib inline\n",
    "os.chdir('D:/工作/data/shibie/')\n",
    "warnings.filterwarnings('ignore')\n",
    "train_data = pd.read_csv('train_data.csv')\n",
    "test =pd.read_csv('test.csv')\n",
    "train_data = train_data.set_index('ID')\n",
    "test = test.set_index('ID')\n",
    "Idx = train_data.index\n",
    "testIdx = test.index\n",
    "data = pd.concat([train_data,test])"
   ]
  },
  {
   "cell_type": "code",
   "execution_count": 8,
   "metadata": {
    "ExecuteTime": {
     "end_time": "2019-12-04T03:22:04.090281Z",
     "start_time": "2019-12-04T03:22:04.042212Z"
    }
   },
   "outputs": [],
   "source": [
    "#统计每个样本的缺失情况。\n",
    "train_data['null'] = train_data.isnull().sum(axis=1)\n",
    "train_data['null'] = (train_data['null']>50).astype(int)\n",
    "test['null'] = test.isnull().sum(axis=1)\n",
    "test['null'] = (test['null']>50).astype(int)"
   ]
  },
  {
   "cell_type": "code",
   "execution_count": 9,
   "metadata": {
    "ExecuteTime": {
     "end_time": "2019-12-04T03:22:07.894772Z",
     "start_time": "2019-12-04T03:22:07.884106Z"
    }
   },
   "outputs": [
    {
     "data": {
      "text/plain": [
       "0    7434\n",
       "1     909\n",
       "Name: Label, dtype: int64"
      ]
     },
     "execution_count": 9,
     "metadata": {},
     "output_type": "execute_result"
    }
   ],
   "source": [
    "mask_null = train_data['null'] == 1\n",
    "train_data.loc[mask_null,'Label'].value_counts()"
   ]
  },
  {
   "cell_type": "code",
   "execution_count": 10,
   "metadata": {
    "ExecuteTime": {
     "end_time": "2019-12-04T03:22:33.124801Z",
     "start_time": "2019-12-04T03:22:33.113315Z"
    }
   },
   "outputs": [
    {
     "data": {
      "text/plain": [
       "0    5991\n",
       "1      32\n",
       "Name: Label, dtype: int64"
      ]
     },
     "execution_count": 10,
     "metadata": {},
     "output_type": "execute_result"
    }
   ],
   "source": [
    "train_data.loc[~mask_null,'Label'].value_counts()"
   ]
  },
  {
   "cell_type": "markdown",
   "metadata": {},
   "source": [
    "通过上面的分析，对于确实较少的样本，其负样本率非常低， 所以这个可以作为一条规则，确实特征小于某个值可以直接判定为好，我们将对那些确实严重的样本进行建模。"
   ]
  },
  {
   "cell_type": "code",
   "execution_count": 11,
   "metadata": {
    "ExecuteTime": {
     "end_time": "2019-12-04T03:24:59.656537Z",
     "start_time": "2019-12-04T03:24:59.583725Z"
    }
   },
   "outputs": [],
   "source": [
    "# 删除掉缺失率为1的特征。\n",
    "columns = [each for each in data.columns if '年' in each]\n",
    "data1 = data.drop(columns,axis=1)"
   ]
  },
  {
   "cell_type": "code",
   "execution_count": 13,
   "metadata": {
    "ExecuteTime": {
     "end_time": "2019-12-04T03:26:00.425701Z",
     "start_time": "2019-12-04T03:26:00.410487Z"
    }
   },
   "outputs": [],
   "source": [
    "data1 = data1.drop('投资总额',axis=1)"
   ]
  },
  {
   "cell_type": "code",
   "execution_count": 16,
   "metadata": {
    "ExecuteTime": {
     "end_time": "2019-12-04T03:27:38.733318Z",
     "start_time": "2019-12-04T03:27:38.667069Z"
    }
   },
   "outputs": [],
   "source": [
    "def Tax(data):\n",
    "    train_data = data.copy()\n",
    "    tax=['增值税','企业所得税','印花税','教育费','城建税', '注册资本']\n",
    "    traintax = train_data[tax]\n",
    "    for each in traintax:\n",
    "        traintax['is_'+each] = pd.isnull(traintax[each]).astype(int)\n",
    "    traintax.fillna(0)\n",
    "    traintax['zero']=(traintax==0).sum(axis=1)\n",
    "    traintax['taxsum'] = traintax.iloc[:,:5].sum(axis=1)\n",
    "    traintax['taxmean'] = traintax.mean(axis=1)\n",
    "    traintax['median'] = traintax.median(axis=1)\n",
    "    traintax = traintax.drop(tax,axis=1)\n",
    "    return traintax\n",
    "traintax = Tax(data1)"
   ]
  },
  {
   "cell_type": "code",
   "execution_count": 15,
   "metadata": {
    "ExecuteTime": {
     "end_time": "2019-12-04T03:26:45.648518Z",
     "start_time": "2019-12-04T03:26:44.726828Z"
    }
   },
   "outputs": [],
   "source": [
    "time = ['经营期限至','注销时间','经营期限自','成立日期','核准日期']\n",
    "for each in time:\n",
    "    data1[each+'_0'] = data1[each].str.split(\n",
    "        ':').str[0].astype(float)\n",
    "    data1[each+'_1'] = data1[each].str.split(\n",
    "        ':').str[0].astype(float)\n",
    "data1 = data1.drop(time,axis=1)\n",
    "\n",
    "data1['经营范围']=data1['经营范围'].str.split(',').apply(len)\n",
    "\n",
    "data1['邮编1']=data1['邮政编码'].astype(str).str[:2]\n",
    "data1['邮编2']=data1['邮政编码'].astype(str).str[2:4] \n",
    "mask = (data1['邮编1']=='na')|(data1['邮编1']=='26')\n",
    "data1.loc[~mask,'邮编1'] = '10'\n",
    "youbian = data1['邮编2'].value_counts()[:9].index\n",
    "data1.loc[~data1['邮编2'].isin(youbian),'邮编2'] = '10'\n",
    "you2 = pd.get_dummies(data1['邮编2'],prefix='邮编2')\n",
    "you1 = pd.get_dummies(data1['邮编1'],prefix='邮编1')\n",
    "data1 = data1.drop(['邮政编码','邮编1','邮编2'],axis=1)\n",
    "#相关系数证明与类别无关。\n",
    "data1 = data1.drop(['登记机关','管辖机关'],axis=1)\n",
    "#行业代码\n",
    "temp = data1['行业代码'].fillna(0).astype(int).astype(str).str.ljust(4,'0')\n",
    "temp1 = temp.str[:2]\n",
    "temp2 = temp.str[2]\n",
    "temp3 = temp.str[3]\n",
    "daima1 = pd.get_dummies(temp1,prefix='代码1')\n",
    "daima2 = pd.get_dummies(temp2,prefix='代码2')\n",
    "daima3 = pd.get_dummies(temp3,prefix='代码3')\n",
    "\n",
    "data2 = data1.drop('行业代码',axis=1)\n",
    "data2 = pd.concat([data2,daima1,daima2,daima3,you1,you2],axis=1)"
   ]
  },
  {
   "cell_type": "code",
   "execution_count": 19,
   "metadata": {
    "ExecuteTime": {
     "end_time": "2019-12-04T03:28:41.308035Z",
     "start_time": "2019-12-04T03:28:41.285524Z"
    }
   },
   "outputs": [],
   "source": [
    "data2 = pd.concat([data2,traintax],axis=1)"
   ]
  },
  {
   "cell_type": "code",
   "execution_count": null,
   "metadata": {},
   "outputs": [],
   "source": []
  },
  {
   "cell_type": "code",
   "execution_count": 49,
   "metadata": {
    "ExecuteTime": {
     "end_time": "2019-12-04T05:42:38.766118Z",
     "start_time": "2019-12-04T05:42:37.538782Z"
    }
   },
   "outputs": [
    {
     "data": {
      "text/plain": [
       "array([0.88032361, 0.8925911 , 0.88560935, 0.8849387 , 0.87446183])"
      ]
     },
     "execution_count": 49,
     "metadata": {},
     "output_type": "execute_result"
    }
   ],
   "source": [
    "X = data2.loc[Idx,:]\n",
    "X1 = X.loc[mask_null,:]\n",
    "y1 = X1.pop('Label')\n",
    "\n",
    "import lightgbm as lgb\n",
    "from sklearn.model_selection import cross_val_score, StratifiedKFold\n",
    "model = lgb.LGBMClassifier(**params)\n",
    "cross_val_score(model,X1.to_numpy(),y1,\n",
    "                scoring='roc_auc',cv=StratifiedKFold(5))"
   ]
  },
  {
   "cell_type": "code",
   "execution_count": 57,
   "metadata": {
    "ExecuteTime": {
     "end_time": "2019-12-04T05:46:10.837052Z",
     "start_time": "2019-12-04T05:46:10.633631Z"
    }
   },
   "outputs": [
    {
     "data": {
      "text/plain": [
       "LGBMClassifier(boosting_type='gbdt', class_weight=None, colsample_bytree=0.5,\n",
       "               importance_type='split', learning_rate=0.1, max_depth=5,\n",
       "               min_child_samples=20, min_child_weight=0.001, min_split_gain=0.0,\n",
       "               n_estimators=50, n_jobs=-1, num_leaves=10, objective=None,\n",
       "               random_state=None, reg_alpha=0.0, reg_lambda=0.0, silent=True,\n",
       "               subsample=1, subsample_for_bin=200000, subsample_freq=5)"
      ]
     },
     "execution_count": 57,
     "metadata": {},
     "output_type": "execute_result"
    }
   ],
   "source": [
    "model.fit(X1.to_numpy(),y1)"
   ]
  },
  {
   "cell_type": "code",
   "execution_count": 58,
   "metadata": {
    "ExecuteTime": {
     "end_time": "2019-12-04T05:46:24.652379Z",
     "start_time": "2019-12-04T05:46:23.699927Z"
    }
   },
   "outputs": [
    {
     "data": {
      "text/plain": [
       "array([0.6021089 , 0.74421655, 0.69560378, 0.57317752, 0.85364496])"
      ]
     },
     "execution_count": 58,
     "metadata": {},
     "output_type": "execute_result"
    }
   ],
   "source": [
    "X2 = X.loc[~mask_null,:]\n",
    "y2 = X2.pop('Label')\n",
    "\n",
    "import lightgbm as lgb\n",
    "from sklearn.model_selection import cross_val_score, StratifiedKFold\n",
    "from sklearn.linear_model import LogisticRegression\n",
    "import xgboost as xgb\n",
    "model2 = lgb.LGBMClassifier(**params)\n",
    "cross_val_score(model2,X2.to_numpy(),y2,\n",
    "                scoring='roc_auc',cv=StratifiedKFold(5,shuffle=True,\n",
    "                                        random_state=10))"
   ]
  },
  {
   "cell_type": "code",
   "execution_count": 59,
   "metadata": {
    "ExecuteTime": {
     "end_time": "2019-12-04T05:46:32.753114Z",
     "start_time": "2019-12-04T05:46:32.609400Z"
    }
   },
   "outputs": [
    {
     "data": {
      "text/plain": [
       "LGBMClassifier(boosting_type='gbdt', class_weight=None, colsample_bytree=0.5,\n",
       "               importance_type='split', learning_rate=0.1, max_depth=5,\n",
       "               min_child_samples=20, min_child_weight=0.001, min_split_gain=0.0,\n",
       "               n_estimators=50, n_jobs=-1, num_leaves=10, objective=None,\n",
       "               random_state=None, reg_alpha=0.0, reg_lambda=0.0, silent=True,\n",
       "               subsample=1, subsample_for_bin=200000, subsample_freq=5)"
      ]
     },
     "execution_count": 59,
     "metadata": {},
     "output_type": "execute_result"
    }
   ],
   "source": [
    "model2.fit(X2.to_numpy(),y2)"
   ]
  },
  {
   "cell_type": "code",
   "execution_count": 47,
   "metadata": {
    "ExecuteTime": {
     "end_time": "2019-12-04T05:42:12.669975Z",
     "start_time": "2019-12-04T05:42:12.663780Z"
    }
   },
   "outputs": [],
   "source": [
    "params = {'boosting_type': 'gbdt',\n",
    " 'class_weight': None,\n",
    " 'colsample_bytree': 0.5,\n",
    " 'importance_type': 'split',\n",
    " 'learning_rate': 0.1,\n",
    " 'max_depth': 5,\n",
    " 'min_child_samples': 20,\n",
    " 'min_child_weight': 0.001,\n",
    " 'min_split_gain': 0.0,\n",
    " 'n_estimators': 50,\n",
    " 'n_jobs': -1,\n",
    " 'num_leaves': 10,\n",
    " 'objective': None,\n",
    " 'random_state': None,\n",
    " 'reg_alpha': 0.0,\n",
    " 'reg_lambda': 0.0,\n",
    " 'silent': True,\n",
    " 'subsample': 1,\n",
    " 'subsample_for_bin': 200000,\n",
    " 'subsample_freq': 5}"
   ]
  },
  {
   "cell_type": "code",
   "execution_count": 60,
   "metadata": {
    "ExecuteTime": {
     "end_time": "2019-12-04T05:47:05.551374Z",
     "start_time": "2019-12-04T05:47:05.526674Z"
    }
   },
   "outputs": [],
   "source": [
    "Test = data2.loc[testIdx,:]\n",
    "Test = Test.drop('Label',axis=1)"
   ]
  },
  {
   "cell_type": "code",
   "execution_count": 54,
   "metadata": {
    "ExecuteTime": {
     "end_time": "2019-12-04T05:44:42.505941Z",
     "start_time": "2019-12-04T05:44:42.499949Z"
    }
   },
   "outputs": [],
   "source": [
    "test_mask_null = test['null'] == 1"
   ]
  },
  {
   "cell_type": "code",
   "execution_count": 66,
   "metadata": {
    "ExecuteTime": {
     "end_time": "2019-12-04T05:49:31.274531Z",
     "start_time": "2019-12-04T05:49:31.263525Z"
    }
   },
   "outputs": [],
   "source": [
    "Test1 = Test.loc[test_mask_null,:]"
   ]
  },
  {
   "cell_type": "code",
   "execution_count": 67,
   "metadata": {
    "ExecuteTime": {
     "end_time": "2019-12-04T05:49:33.045762Z",
     "start_time": "2019-12-04T05:49:33.033876Z"
    }
   },
   "outputs": [],
   "source": [
    "Test2 = Test.loc[~test_mask_null,:]"
   ]
  },
  {
   "cell_type": "code",
   "execution_count": 68,
   "metadata": {
    "ExecuteTime": {
     "end_time": "2019-12-04T05:49:34.888926Z",
     "start_time": "2019-12-04T05:49:34.794123Z"
    }
   },
   "outputs": [],
   "source": [
    "Test1['Label']= model.predict_proba(Test1.to_numpy())[:,1]\n",
    "Test2['Label'] = model2.predict_proba(Test2.to_numpy())[:,1]"
   ]
  },
  {
   "cell_type": "code",
   "execution_count": 72,
   "metadata": {
    "ExecuteTime": {
     "end_time": "2019-12-04T05:50:47.030016Z",
     "start_time": "2019-12-04T05:50:46.922173Z"
    }
   },
   "outputs": [],
   "source": [
    "sub = pd.concat([Test1,Test2])\n",
    "sub['Label'].reset_index().to_csv('sub.csv',index=False)"
   ]
  },
  {
   "cell_type": "code",
   "execution_count": null,
   "metadata": {},
   "outputs": [],
   "source": []
  }
 ],
 "metadata": {
  "kernelspec": {
   "display_name": "Python 3",
   "language": "python",
   "name": "python3"
  },
  "language_info": {
   "codemirror_mode": {
    "name": "ipython",
    "version": 3
   },
   "file_extension": ".py",
   "mimetype": "text/x-python",
   "name": "python",
   "nbconvert_exporter": "python",
   "pygments_lexer": "ipython3",
   "version": "3.7.4"
  },
  "toc": {
   "base_numbering": 1,
   "nav_menu": {},
   "number_sections": true,
   "sideBar": true,
   "skip_h1_title": false,
   "title_cell": "Table of Contents",
   "title_sidebar": "Contents",
   "toc_cell": false,
   "toc_position": {},
   "toc_section_display": true,
   "toc_window_display": false
  },
  "varInspector": {
   "cols": {
    "lenName": 16,
    "lenType": 16,
    "lenVar": 40
   },
   "kernels_config": {
    "python": {
     "delete_cmd_postfix": "",
     "delete_cmd_prefix": "del ",
     "library": "var_list.py",
     "varRefreshCmd": "print(var_dic_list())"
    },
    "r": {
     "delete_cmd_postfix": ") ",
     "delete_cmd_prefix": "rm(",
     "library": "var_list.r",
     "varRefreshCmd": "cat(var_dic_list()) "
    }
   },
   "types_to_exclude": [
    "module",
    "function",
    "builtin_function_or_method",
    "instance",
    "_Feature"
   ],
   "window_display": false
  }
 },
 "nbformat": 4,
 "nbformat_minor": 2
}
