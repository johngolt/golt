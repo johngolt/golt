{
 "cells": [
  {
   "cell_type": "code",
   "execution_count": 11,
   "metadata": {},
   "outputs": [],
   "source": [
    "import warnings\n",
    "import pandas as pd\n",
    "import numpy as np\n",
    "import os\n",
    "import matplotlib.pyplot as plt\n",
    "%matplotlib inline\n",
    "os.chdir('D:/工作/data/shibie/')\n",
    "warnings.filterwarnings('ignore')\n",
    "train_data = pd.read_csv('train_data.csv')\n",
    "test =pd.read_csv('test.csv')"
   ]
  },
  {
   "cell_type": "code",
   "execution_count": 12,
   "metadata": {},
   "outputs": [],
   "source": [
    "train_data = train_data.set_index('ID')\n",
    "test = test.set_index('ID')\n",
    "Idx = train_data.index\n",
    "data = pd.concat([train_data,test])"
   ]
  },
  {
   "cell_type": "code",
   "execution_count": 2,
   "metadata": {},
   "outputs": [],
   "source": [
    "cat = train_data.select_dtypes(include='object')"
   ]
  },
  {
   "cell_type": "code",
   "execution_count": 14,
   "metadata": {},
   "outputs": [],
   "source": [
    "time = ['经营期限至','注销时间','经营期限自','成立日期']\n",
    "for each in time:\n",
    "    data[each+'_0'] = data[each].str.split(\n",
    "        ':').str[0].astype(float)\n",
    "    data[each+'_1'] = data[each].str.split(\n",
    "        ':').str[0].astype(float)\n",
    "data = data.drop(time,axis=1)"
   ]
  },
  {
   "cell_type": "code",
   "execution_count": 26,
   "metadata": {},
   "outputs": [],
   "source": [
    "train = data.loc[Idx,:]\n",
    "test = data.drop(Idx)"
   ]
  },
  {
   "cell_type": "code",
   "execution_count": 22,
   "metadata": {},
   "outputs": [],
   "source": [
    "import lightgbm as lgb"
   ]
  },
  {
   "cell_type": "code",
   "execution_count": 23,
   "metadata": {},
   "outputs": [],
   "source": [
    "from sklearn.model_selection import cross_val_score, StratifiedKFold"
   ]
  },
  {
   "cell_type": "code",
   "execution_count": 31,
   "metadata": {},
   "outputs": [
    {
     "data": {
      "text/plain": [
       "array([0.90621521, 0.93068267, 0.91443698, 0.91828123, 0.911402  ])"
      ]
     },
     "execution_count": 31,
     "metadata": {},
     "output_type": "execute_result"
    }
   ],
   "source": [
    "model = lgb.LGBMClassifier()\n",
    "cross_val_score(model,X.to_numpy(),y,scoring='roc_auc',cv=StratifiedKFold(5))"
   ]
  },
  {
   "cell_type": "code",
   "execution_count": 27,
   "metadata": {},
   "outputs": [],
   "source": [
    "y = train.pop('Label')"
   ]
  },
  {
   "cell_type": "code",
   "execution_count": 29,
   "metadata": {},
   "outputs": [],
   "source": [
    "X = train.select_dtypes(exclude='object')"
   ]
  },
  {
   "cell_type": "code",
   "execution_count": 33,
   "metadata": {},
   "outputs": [],
   "source": [
    "X['null'] = X.isnull().sum(axis=1)"
   ]
  },
  {
   "cell_type": "code",
   "execution_count": 34,
   "metadata": {},
   "outputs": [],
   "source": [
    "X1 = X.loc[X['null']>50,:]\n",
    "X2 = X.loc[X['null']<=50,:]"
   ]
  },
  {
   "cell_type": "code",
   "execution_count": 36,
   "metadata": {},
   "outputs": [],
   "source": [
    "temp = X1.isnull().sum()/X1.shape[0]\n",
    "index = temp[temp==1]"
   ]
  },
  {
   "cell_type": "code",
   "execution_count": 39,
   "metadata": {},
   "outputs": [],
   "source": [
    "X1 = X1.drop(index.index,axis=1)"
   ]
  },
  {
   "cell_type": "code",
   "execution_count": 41,
   "metadata": {},
   "outputs": [
    {
     "data": {
      "text/plain": [
       "array([0.8797398 , 0.88565553, 0.87377602, 0.87322546, 0.86811716])"
      ]
     },
     "execution_count": 41,
     "metadata": {},
     "output_type": "execute_result"
    }
   ],
   "source": [
    "model = lgb.LGBMClassifier()\n",
    "cross_val_score(model,X1.to_numpy(),y[X1.index],\n",
    "                scoring='roc_auc',cv=StratifiedKFold(5))"
   ]
  },
  {
   "cell_type": "code",
   "execution_count": 42,
   "metadata": {},
   "outputs": [
    {
     "data": {
      "text/plain": [
       "array([0.78589301, 0.90913427, 0.89663328, 0.79869226, 0.76238175])"
      ]
     },
     "execution_count": 42,
     "metadata": {},
     "output_type": "execute_result"
    }
   ],
   "source": [
    "model = lgb.LGBMClassifier()\n",
    "cross_val_score(model,X2.to_numpy(),y[X2.index],\n",
    "                scoring='roc_auc',cv=StratifiedKFold(5))"
   ]
  },
  {
   "cell_type": "code",
   "execution_count": null,
   "metadata": {},
   "outputs": [],
   "source": []
  },
  {
   "cell_type": "markdown",
   "metadata": {},
   "source": [
    "样本的特征中存在78个特征描述企业在年初的状况，另外78个特征描述企业在年末的状况，对于特征确实的企业的，为描述企业在年初和年末的所有特征全部缺失。"
   ]
  },
  {
   "cell_type": "code",
   "execution_count": 9,
   "metadata": {},
   "outputs": [],
   "source": [
    "a = train_data['经营范围'].str[1:-1]"
   ]
  },
  {
   "cell_type": "code",
   "execution_count": 11,
   "metadata": {},
   "outputs": [
    {
     "data": {
      "text/plain": [
       "26760"
      ]
     },
     "execution_count": 11,
     "metadata": {},
     "output_type": "execute_result"
    }
   ],
   "source": [
    "z = set(map(int, ','.join(a).split(',')))\n",
    "max(z)"
   ]
  },
  {
   "cell_type": "code",
   "execution_count": 13,
   "metadata": {},
   "outputs": [],
   "source": [
    "def fanwei(x):\n",
    "    z = np.zeros(26761,dtype=int)\n",
    "    index = np.fromiter(map(int, x.split(',')), dtype=int)\n",
    "    z[index] = 1\n",
    "    return z\n",
    "res = a.map(fanwei)"
   ]
  },
  {
   "cell_type": "code",
   "execution_count": null,
   "metadata": {},
   "outputs": [],
   "source": []
  },
  {
   "cell_type": "code",
   "execution_count": 2,
   "metadata": {},
   "outputs": [],
   "source": [
    "def FinancialFeature(data):\n",
    "    train_data = data.copy()\n",
    "    begin = [each for each in train_data.columns if '年初' in each]\n",
    "    end = [each for each in train_data.columns if '年末' in each]\n",
    "\n",
    "    begindata = train_data[begin]\n",
    "    begindata.columns = begindata.columns.str.split('_').str[0]\n",
    "    enddata = train_data[end]\n",
    "    enddata.columns = enddata.columns.str.split('_').str[0]\n",
    "\n",
    "    begindata['fsum'] = begindata.sum(axis=1)\n",
    "    enddata['fsum'] = enddata.sum(axis=1)\n",
    "    nofill = enddata-begindata\n",
    "\n",
    "    nofill['null']=begindata.isnull().sum(axis=1)\n",
    "    nofill['null']=nofill['null'].replace(78,1)\n",
    "    return nofill\n",
    "nofill = FinancialFeature(train_data)"
   ]
  },
  {
   "cell_type": "code",
   "execution_count": 3,
   "metadata": {},
   "outputs": [],
   "source": [
    "def code(x):\n",
    "        if x[:2] == '26':\n",
    "            return int(x[2:4]) \n",
    "        elif x[:2]=='na':\n",
    "            return 1\n",
    "        else:\n",
    "            return 3\n",
    "            \n",
    "def Infomation(data,mask=None):\n",
    "    train_data = data.copy()\n",
    "    information = ['企业类型','经营期限至','登记机关','企业状态','邮政编码',\n",
    "               '核准日期','行业代码','注销时间','经营期限自','成立日期','行业门类',\n",
    "                     '企业类别','管辖机关','经营范围']\n",
    "    infocat =  ['企业类型','登记机关','企业状态','邮政编码',\n",
    "                '行业代码','行业门类','企业类别','管辖机关','经营范围']\n",
    "\n",
    "    info = train_data[information]\n",
    "    info['经营期限至'] = pd.isnull(info['经营期限至']).astype(int)\n",
    "    info['注销时间'] = pd.isnull(info['注销时间']).astype(int)\n",
    "\n",
    "    info['核准经营'] = (info['核准日期'] == info['经营期限自']).astype(int)\n",
    "    info['核准成立'] = (info['核准日期'] == info['成立日期']).astype(int)\n",
    "    zero = info[['核准日期','经营期限自','成立日期']].isnull().sum(axis=1)\n",
    "    zero_ = zero.replace([1,2,3],1)\n",
    "    info['核经营成立'] = zero_\n",
    "    info = info.drop(['核准日期','经营期限自','成立日期'],axis=1)\n",
    "\n",
    "    info['邮政编码']=info['邮政编码'].astype(str).map(code)\n",
    "\n",
    "    span = info['经营范围'].str[1:-1].str.split(',').map(len)\n",
    "    span = pd.qcut(span,10,duplicates='drop')\n",
    "    span.cat.rename_categories({\n",
    "        key:value for key, value in zip(span.cat.categories,range(9))})\n",
    "    info['经营范围'] = span.cat.rename_categories({\n",
    "        key:value for key, value in zip(span.cat.categories,range(9))}).astype(int)\n",
    "\n",
    "    encoding = []\n",
    "    for each in infocat:\n",
    "        encoding.append(pd.get_dummies(info[each], prefix=each, \n",
    "                                       dummy_na=True))\n",
    "    encode = pd.concat(encoding,axis=1)\n",
    "    info = info.drop(infocat,axis=1)\n",
    "    if mask is None:\n",
    "        m = lgb.LGBMClassifier()\n",
    "        m.fit(encode.to_numpy(),train_data['Label'])\n",
    "        encode = encode.iloc[:, m.feature_importances_!=0]\n",
    "        mask = encode.columns\n",
    "    else:\n",
    "        encode = encode.loc[:, mask]\n",
    "    return encode, info, mask\n",
    "import lightgbm as lgb\n",
    "encode, info,mask = Infomation(train_data)"
   ]
  },
  {
   "cell_type": "code",
   "execution_count": null,
   "metadata": {},
   "outputs": [],
   "source": []
  },
  {
   "cell_type": "code",
   "execution_count": 4,
   "metadata": {},
   "outputs": [],
   "source": [
    "def Tax(data):\n",
    "    train_data = data.copy()\n",
    "    tax=['增值税','企业所得税','印花税','教育费','城建税', '注册资本']\n",
    "    traintax = train_data[tax]\n",
    "    for each in traintax:\n",
    "        traintax['is_'+each] = pd.isnull(traintax[each]).astype(int)\n",
    "    traintax.fillna(0)\n",
    "    traintax['zero']=(traintax==0).sum(axis=1)\n",
    "    traintax['taxsum'] = traintax.iloc[:,:5].sum(axis=1)\n",
    "    traintax['taxmean'] = traintax.mean(axis=1)\n",
    "    traintax['median'] = traintax.median(axis=1)\n",
    "    return traintax\n",
    "traintax = Tax(train_data)"
   ]
  },
  {
   "cell_type": "code",
   "execution_count": 6,
   "metadata": {},
   "outputs": [],
   "source": [
    "nofill_ = nofill.fillna(-1)"
   ]
  },
  {
   "cell_type": "code",
   "execution_count": 8,
   "metadata": {},
   "outputs": [],
   "source": [
    "traintax_ = traintax.fillna(-1)"
   ]
  },
  {
   "cell_type": "code",
   "execution_count": null,
   "metadata": {},
   "outputs": [],
   "source": []
  },
  {
   "cell_type": "code",
   "execution_count": 17,
   "metadata": {},
   "outputs": [],
   "source": [
    "from sklearn.model_selection import cross_val_score,StratifiedKFold"
   ]
  },
  {
   "cell_type": "code",
   "execution_count": 19,
   "metadata": {},
   "outputs": [],
   "source": [
    "cv = StratifiedKFold(5,shuffle=True,random_state=10)\n",
    "result = []\n",
    "for tid, vid in cv.split(train_data,train_data['Label']):\n",
    "    data = pd.DataFrame(index=vid)\n",
    "    test2 = pd.DataFrame(index=test['ID'])\n",
    "    nofillt, nofillv = nofill_.loc[tid,:], nofill_.loc[vid,:]\n",
    "    traintaxt, traintaxv = traintax_.loc[tid,:], traintax_.loc[vid,:]\n",
    "    infot, infov = info.loc[tid,:], info.loc[vid,:]\n",
    "    encodet, encodev = encode.loc[tid,:], encode.loc[vid,:]\n",
    "    yt, yv = train_data.loc[tid,'Label'], train_data.loc[vid,'Label']\n",
    "    data['ynofill'],test2['ynofill'] = models(nofillt, yt, nofillv,testfill_)\n",
    "    data['ytax'],test2['ytax'] =models(traintaxt, yt, traintaxv, testtax_)\n",
    "    data['yinfo'],test2['yinfo'] = models(infot, yt, infov,testinfo)\n",
    "    data['yencode'],test2['yencode'] = models(encodet, yt, encodev,testencode)\n",
    "    model = LogisticRegression()\n",
    "    model.fit(data.to_numpy(), yv)\n",
    "    result.append(model.predict_proba(test2.to_numpy())[:,1])"
   ]
  },
  {
   "cell_type": "code",
   "execution_count": 20,
   "metadata": {},
   "outputs": [],
   "source": [
    "pred = np.concatenate(result).reshape(5,-1).mean(axis=0)\n",
    "test['Label'] = pred"
   ]
  },
  {
   "cell_type": "code",
   "execution_count": 18,
   "metadata": {},
   "outputs": [],
   "source": [
    "from sklearn.linear_model import LogisticRegression"
   ]
  },
  {
   "cell_type": "code",
   "execution_count": 21,
   "metadata": {},
   "outputs": [],
   "source": [
    "sub = test[['ID','Label']]"
   ]
  },
  {
   "cell_type": "code",
   "execution_count": 22,
   "metadata": {},
   "outputs": [],
   "source": [
    "sub.to_csv('subm.csv',index=False)"
   ]
  },
  {
   "cell_type": "code",
   "execution_count": 10,
   "metadata": {},
   "outputs": [],
   "source": [
    "testfill = FinancialFeature(test)\n",
    "testtax = Tax(test)\n",
    "testencode, testinfo,mask = Infomation(test,mask)"
   ]
  },
  {
   "cell_type": "code",
   "execution_count": 12,
   "metadata": {},
   "outputs": [],
   "source": [
    "testfill_ = testfill.fillna(-1)\n",
    "testtax_  = testtax.fillna(-1)"
   ]
  },
  {
   "cell_type": "code",
   "execution_count": 14,
   "metadata": {},
   "outputs": [],
   "source": [
    "from sklearn.model_selection import StratifiedKFold\n",
    "import lightgbm as lgb"
   ]
  },
  {
   "cell_type": "code",
   "execution_count": 11,
   "metadata": {},
   "outputs": [],
   "source": [
    "def models(X, y, Xv,test):\n",
    "    model = lgb.LGBMClassifier()\n",
    "    params = model.get_params()\n",
    "    params['metric'] = 'auc'\n",
    "    trainset = lgb.Dataset(X.to_numpy(), label=y)\n",
    "    z = lgb.cv(params, trainset,num_boost_round=200, \n",
    "               nfold=5, stratified=True)\n",
    "    n_estimators = np.array(z['auc-mean']).argmax()\n",
    "    model.set_params(n_estimators=max(n_estimators,3))\n",
    "    model.fit(X.to_numpy(), y)\n",
    "    ypred = model.predict_proba(Xv.to_numpy())[:,1]\n",
    "    ytest = model.predict_proba(test.to_numpy())[:,1]\n",
    "    return ypred, ytest"
   ]
  },
  {
   "cell_type": "code",
   "execution_count": null,
   "metadata": {},
   "outputs": [],
   "source": [
    "def submission(path):\n",
    "    sub = pd.read_csv('submission1.csv')\n",
    "    sub.columns=['ID','Label']\n",
    "    sub['ID'] = test['ID']\n",
    "    sub.to_csv('sub.csv',index=False)"
   ]
  }
 ],
 "metadata": {
  "kernelspec": {
   "display_name": "Python 3",
   "language": "python",
   "name": "python3"
  },
  "language_info": {
   "codemirror_mode": {
    "name": "ipython",
    "version": 3
   },
   "file_extension": ".py",
   "mimetype": "text/x-python",
   "name": "python",
   "nbconvert_exporter": "python",
   "pygments_lexer": "ipython3",
   "version": "3.7.4"
  }
 },
 "nbformat": 4,
 "nbformat_minor": 2
}
