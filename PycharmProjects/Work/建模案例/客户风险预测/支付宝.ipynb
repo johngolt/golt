{
 "cells": [
  {
   "cell_type": "code",
   "execution_count": 1,
   "metadata": {
    "ExecuteTime": {
     "end_time": "2020-05-22T02:34:23.987274Z",
     "start_time": "2020-05-22T02:34:18.566691Z"
    }
   },
   "outputs": [],
   "source": [
    "import pandas as pd\n",
    "import numpy as np\n",
    "import matplotlib.pyplot as plt\n",
    "%matplotlib inline\n",
    "\n",
    "import os\n",
    "os.chdir('C:/test/PRD')\n",
    "#os.listdir()\n",
    "\n",
    "df = pd.read_csv('user_balance_table.csv',chunksize=2000)\n",
    "df1 = df.get_chunk()"
   ]
  },
  {
   "cell_type": "code",
   "execution_count": 2,
   "metadata": {
    "ExecuteTime": {
     "end_time": "2020-05-22T02:34:31.478445Z",
     "start_time": "2020-05-22T02:34:31.434164Z"
    }
   },
   "outputs": [
    {
     "data": {
      "text/plain": [
       "True"
      ]
     },
     "execution_count": 2,
     "metadata": {},
     "output_type": "execute_result"
    }
   ],
   "source": [
    "(df1['tBalance']==(df1['yBalance']+df1[\n",
    "    'total_purchase_amt']-df1['total_redeem_amt'])).all()"
   ]
  },
  {
   "cell_type": "code",
   "execution_count": 3,
   "metadata": {
    "ExecuteTime": {
     "end_time": "2020-05-22T02:34:39.760933Z",
     "start_time": "2020-05-22T02:34:39.748936Z"
    }
   },
   "outputs": [
    {
     "data": {
      "text/plain": [
       "True"
      ]
     },
     "execution_count": 3,
     "metadata": {},
     "output_type": "execute_result"
    }
   ],
   "source": [
    "(df1['total_redeem_amt']==df1['consume_amt']+df1['transfer_amt']).all()"
   ]
  },
  {
   "cell_type": "code",
   "execution_count": 4,
   "metadata": {
    "ExecuteTime": {
     "end_time": "2020-05-22T02:34:53.792196Z",
     "start_time": "2020-05-22T02:34:53.780204Z"
    }
   },
   "outputs": [
    {
     "data": {
      "text/plain": [
       "True"
      ]
     },
     "execution_count": 4,
     "metadata": {},
     "output_type": "execute_result"
    }
   ],
   "source": [
    "(df1['total_purchase_amt']==df1[\n",
    "    'direct_purchase_amt']+df1['share_amt']).all()"
   ]
  },
  {
   "cell_type": "code",
   "execution_count": 5,
   "metadata": {
    "ExecuteTime": {
     "end_time": "2020-05-22T02:35:03.032999Z",
     "start_time": "2020-05-22T02:35:03.014964Z"
    }
   },
   "outputs": [
    {
     "data": {
      "text/plain": [
       "True"
      ]
     },
     "execution_count": 5,
     "metadata": {},
     "output_type": "execute_result"
    }
   ],
   "source": [
    "(df1['direct_purchase_amt']==df1[\n",
    "    'purchase_bal_amt']+df1['purchase_bank_amt']).all()"
   ]
  },
  {
   "cell_type": "code",
   "execution_count": 6,
   "metadata": {
    "ExecuteTime": {
     "end_time": "2020-05-22T02:36:33.227095Z",
     "start_time": "2020-05-22T02:36:33.213057Z"
    }
   },
   "outputs": [
    {
     "data": {
      "text/plain": [
       "True"
      ]
     },
     "execution_count": 6,
     "metadata": {},
     "output_type": "execute_result"
    }
   ],
   "source": [
    "(df1['transfer_amt']==df1[\n",
    "    'tftobal_amt']+df1['tftocard_amt']).all()"
   ]
  },
  {
   "cell_type": "code",
   "execution_count": 7,
   "metadata": {
    "ExecuteTime": {
     "end_time": "2020-05-22T02:37:23.233659Z",
     "start_time": "2020-05-22T02:37:23.083059Z"
    }
   },
   "outputs": [],
   "source": [
    "df2= df1.loc[df1['consume_amt']!=0,:]"
   ]
  },
  {
   "cell_type": "code",
   "execution_count": 13,
   "metadata": {
    "ExecuteTime": {
     "end_time": "2020-05-22T02:40:22.815680Z",
     "start_time": "2020-05-22T02:40:22.789634Z"
    }
   },
   "outputs": [
    {
     "data": {
      "text/plain": [
       "True"
      ]
     },
     "execution_count": 13,
     "metadata": {},
     "output_type": "execute_result"
    }
   ],
   "source": [
    "(df2['consume_amt']==df2[\n",
    "    'category1']+df2['category2']+df2['category3']+df2['category4']).all()"
   ]
  },
  {
   "cell_type": "code",
   "execution_count": 17,
   "metadata": {
    "ExecuteTime": {
     "end_time": "2020-05-22T07:09:32.318192Z",
     "start_time": "2020-05-22T07:09:32.232831Z"
    }
   },
   "outputs": [
    {
     "data": {
      "text/plain": [
       "user_id                   0\n",
       "report_date               0\n",
       "tBalance                  0\n",
       "yBalance                  0\n",
       "total_purchase_amt        0\n",
       "direct_purchase_amt       0\n",
       "purchase_bal_amt          0\n",
       "purchase_bank_amt         0\n",
       "total_redeem_amt          0\n",
       "consume_amt               0\n",
       "transfer_amt              0\n",
       "tftobal_amt               0\n",
       "tftocard_amt              0\n",
       "share_amt                 0\n",
       "category1              1905\n",
       "category2              1905\n",
       "category3              1905\n",
       "category4              1905\n",
       "dtype: int64"
      ]
     },
     "execution_count": 17,
     "metadata": {},
     "output_type": "execute_result"
    }
   ],
   "source": [
    "df1.isnull().sum(axis=0)"
   ]
  },
  {
   "cell_type": "code",
   "execution_count": null,
   "metadata": {},
   "outputs": [],
   "source": [
    "df."
   ]
  }
 ],
 "metadata": {
  "kernelspec": {
   "display_name": "Python 3",
   "language": "python",
   "name": "python3"
  },
  "language_info": {
   "codemirror_mode": {
    "name": "ipython",
    "version": 3
   },
   "file_extension": ".py",
   "mimetype": "text/x-python",
   "name": "python",
   "nbconvert_exporter": "python",
   "pygments_lexer": "ipython3",
   "version": "3.6.5"
  },
  "toc": {
   "base_numbering": 1,
   "nav_menu": {},
   "number_sections": true,
   "sideBar": true,
   "skip_h1_title": false,
   "title_cell": "Table of Contents",
   "title_sidebar": "Contents",
   "toc_cell": false,
   "toc_position": {},
   "toc_section_display": true,
   "toc_window_display": false
  },
  "varInspector": {
   "cols": {
    "lenName": 16,
    "lenType": 16,
    "lenVar": 40
   },
   "kernels_config": {
    "python": {
     "delete_cmd_postfix": "",
     "delete_cmd_prefix": "del ",
     "library": "var_list.py",
     "varRefreshCmd": "print(var_dic_list())"
    },
    "r": {
     "delete_cmd_postfix": ") ",
     "delete_cmd_prefix": "rm(",
     "library": "var_list.r",
     "varRefreshCmd": "cat(var_dic_list()) "
    }
   },
   "types_to_exclude": [
    "module",
    "function",
    "builtin_function_or_method",
    "instance",
    "_Feature"
   ],
   "window_display": false
  }
 },
 "nbformat": 4,
 "nbformat_minor": 2
}
