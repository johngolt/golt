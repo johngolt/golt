{
 "cells": [
  {
   "cell_type": "code",
   "execution_count": 1,
   "metadata": {
    "ExecuteTime": {
     "end_time": "2020-06-29T01:13:18.754956Z",
     "start_time": "2020-06-29T01:13:18.087743Z"
    }
   },
   "outputs": [],
   "source": [
    "import pandas as pd\n",
    "import numpy as np"
   ]
  },
  {
   "cell_type": "code",
   "execution_count": 2,
   "metadata": {
    "ExecuteTime": {
     "end_time": "2020-06-29T01:13:34.252622Z",
     "start_time": "2020-06-29T01:13:34.248632Z"
    }
   },
   "outputs": [],
   "source": [
    "import os\n",
    "os.chdir('D:/Dataset/yuqi')"
   ]
  },
  {
   "cell_type": "markdown",
   "metadata": {},
   "source": [
    "对GENDER进行处理；去除单一值特征。"
   ]
  },
  {
   "cell_type": "code",
   "execution_count": 16,
   "metadata": {
    "ExecuteTime": {
     "end_time": "2020-06-29T01:29:32.128535Z",
     "start_time": "2020-06-29T01:29:12.637445Z"
    }
   },
   "outputs": [],
   "source": [
    "train = pd.read_csv('train.csv')"
   ]
  },
  {
   "cell_type": "code",
   "execution_count": 28,
   "metadata": {
    "ExecuteTime": {
     "end_time": "2020-06-29T01:33:33.528531Z",
     "start_time": "2020-06-29T01:33:33.508586Z"
    }
   },
   "outputs": [
    {
     "data": {
      "text/plain": [
       "DR_AMT\n",
       "False    0.018614\n",
       "True     0.016854\n",
       "Name: bad_good, dtype: float64"
      ]
     },
     "execution_count": 28,
     "metadata": {},
     "output_type": "execute_result"
    }
   ],
   "source": [
    "train.groupby(train['DR_AMT']==0)['bad_good'].mean()"
   ]
  },
  {
   "cell_type": "code",
   "execution_count": 37,
   "metadata": {
    "ExecuteTime": {
     "end_time": "2020-06-29T01:41:52.678982Z",
     "start_time": "2020-06-29T01:41:52.672962Z"
    }
   },
   "outputs": [],
   "source": [
    "mask = train.columns.str.contains('L3_CHANNEL_TXN')"
   ]
  },
  {
   "cell_type": "code",
   "execution_count": 38,
   "metadata": {
    "ExecuteTime": {
     "end_time": "2020-06-29T01:42:11.943309Z",
     "start_time": "2020-06-29T01:42:11.928311Z"
    }
   },
   "outputs": [],
   "source": [
    "L3_channel_txn = train.loc[:,mask]"
   ]
  },
  {
   "cell_type": "code",
   "execution_count": 44,
   "metadata": {
    "ExecuteTime": {
     "end_time": "2020-06-29T01:45:30.720964Z",
     "start_time": "2020-06-29T01:44:34.423778Z"
    }
   },
   "outputs": [],
   "source": [
    "train1 =train.loc[:,~(train.nunique()==1)]"
   ]
  },
  {
   "cell_type": "code",
   "execution_count": 52,
   "metadata": {
    "ExecuteTime": {
     "end_time": "2020-06-29T01:49:30.759297Z",
     "start_time": "2020-06-29T01:49:29.163857Z"
    }
   },
   "outputs": [],
   "source": [
    "temp = train1.sample(10000)"
   ]
  },
  {
   "cell_type": "code",
   "execution_count": 56,
   "metadata": {
    "ExecuteTime": {
     "end_time": "2020-06-29T01:50:57.916425Z",
     "start_time": "2020-06-29T01:50:57.480595Z"
    }
   },
   "outputs": [],
   "source": [
    "mode = temp.iloc[:,1:].mode()"
   ]
  },
  {
   "cell_type": "code",
   "execution_count": 57,
   "metadata": {
    "ExecuteTime": {
     "end_time": "2020-06-29T01:51:08.845004Z",
     "start_time": "2020-06-29T01:51:08.810099Z"
    }
   },
   "outputs": [],
   "source": [
    "temp = temp.iloc[:,1:]"
   ]
  },
  {
   "cell_type": "code",
   "execution_count": 81,
   "metadata": {
    "ExecuteTime": {
     "end_time": "2020-06-29T01:58:42.577356Z",
     "start_time": "2020-06-29T01:58:42.399578Z"
    }
   },
   "outputs": [],
   "source": [
    "isequal = temp.eq(mode.to_numpy(),axis=1)"
   ]
  },
  {
   "cell_type": "code",
   "execution_count": 83,
   "metadata": {
    "ExecuteTime": {
     "end_time": "2020-06-29T01:59:06.128505Z",
     "start_time": "2020-06-29T01:59:06.111519Z"
    }
   },
   "outputs": [],
   "source": [
    "value = isequal.sum()/isequal.shape[0]"
   ]
  },
  {
   "cell_type": "code",
   "execution_count": 89,
   "metadata": {
    "ExecuteTime": {
     "end_time": "2020-06-29T02:00:52.372423Z",
     "start_time": "2020-06-29T02:00:52.363449Z"
    }
   },
   "outputs": [
    {
     "data": {
      "text/plain": [
       "IDF_TYP_CD                     0.9828\n",
       "bad_good                       0.9841\n",
       "G_OS_PRCP_SUM                  0.9733\n",
       "OS_PRCP_SUM_THREE              0.9733\n",
       "OS_PRCP_SUM_SIX                0.9733\n",
       "                                ...  \n",
       "CHANNEL_MOB_DTAIN_CNT          0.9737\n",
       "L3_CHANNEL_MOB_STAIN_AVGAMT    0.9832\n",
       "L3_CHANNEL_MOB_STAIN_AVGCNT    0.9832\n",
       "L6_CHANNEL_MOB_STAIN_AVGAMT    0.9817\n",
       "L6_CHANNEL_MOB_STAIN_AVGCNT    0.9817\n",
       "Length: 249, dtype: float64"
      ]
     },
     "execution_count": 89,
     "metadata": {},
     "output_type": "execute_result"
    }
   ],
   "source": [
    "value[value>0.95]"
   ]
  },
  {
   "cell_type": "code",
   "execution_count": 90,
   "metadata": {
    "ExecuteTime": {
     "end_time": "2020-06-29T02:01:39.743999Z",
     "start_time": "2020-06-29T02:01:39.711085Z"
    }
   },
   "outputs": [
    {
     "data": {
      "text/plain": [
       "G_OS_PRCP_SUM\n",
       "False    1.000000\n",
       "True     0.983664\n",
       "Name: bad_good, dtype: float64"
      ]
     },
     "execution_count": 90,
     "metadata": {},
     "output_type": "execute_result"
    }
   ],
   "source": [
    "isequal.groupby('G_OS_PRCP_SUM')['bad_good'].mean()"
   ]
  },
  {
   "cell_type": "code",
   "execution_count": 94,
   "metadata": {
    "ExecuteTime": {
     "end_time": "2020-06-29T02:05:48.326855Z",
     "start_time": "2020-06-29T02:05:48.308901Z"
    }
   },
   "outputs": [
    {
     "data": {
      "text/plain": [
       "OS_PRCP_SUM_THREE\n",
       "False    0.001708\n",
       "True     0.017609\n",
       "Name: bad_good, dtype: float64"
      ]
     },
     "execution_count": 94,
     "metadata": {},
     "output_type": "execute_result"
    }
   ],
   "source": [
    "train1.groupby(train1['OS_PRCP_SUM_THREE']==0)['bad_good'].mean()"
   ]
  },
  {
   "cell_type": "code",
   "execution_count": 93,
   "metadata": {
    "ExecuteTime": {
     "end_time": "2020-06-29T02:05:37.896689Z",
     "start_time": "2020-06-29T02:05:37.871722Z"
    }
   },
   "outputs": [
    {
     "data": {
      "text/plain": [
       "0.00000          276503\n",
       "300000.00000         35\n",
       "500000.00000         29\n",
       "1000000.00000        25\n",
       "200000.00000         13\n",
       "                  ...  \n",
       "264508.55667          1\n",
       "205039.77000          1\n",
       "935095.16000          1\n",
       "132719.18333          1\n",
       "129980.28000          1\n",
       "Name: OS_PRCP_SUM_THREE, Length: 8352, dtype: int64"
      ]
     },
     "execution_count": 93,
     "metadata": {},
     "output_type": "execute_result"
    }
   ],
   "source": [
    "train['OS_PRCP_SUM_THREE'].value_counts()"
   ]
  },
  {
   "cell_type": "code",
   "execution_count": 95,
   "metadata": {
    "ExecuteTime": {
     "end_time": "2020-06-29T02:15:39.536836Z",
     "start_time": "2020-06-29T02:13:41.337576Z"
    }
   },
   "outputs": [],
   "source": [
    "train1.to_csv('train.csv',index=False)"
   ]
  },
  {
   "cell_type": "code",
   "execution_count": null,
   "metadata": {},
   "outputs": [],
   "source": []
  }
 ],
 "metadata": {
  "kernelspec": {
   "display_name": "Python 3",
   "language": "python",
   "name": "python3"
  },
  "language_info": {
   "codemirror_mode": {
    "name": "ipython",
    "version": 3
   },
   "file_extension": ".py",
   "mimetype": "text/x-python",
   "name": "python",
   "nbconvert_exporter": "python",
   "pygments_lexer": "ipython3",
   "version": "3.7.5"
  },
  "toc": {
   "base_numbering": 1,
   "nav_menu": {},
   "number_sections": true,
   "sideBar": true,
   "skip_h1_title": false,
   "title_cell": "Table of Contents",
   "title_sidebar": "Contents",
   "toc_cell": false,
   "toc_position": {},
   "toc_section_display": true,
   "toc_window_display": false
  },
  "varInspector": {
   "cols": {
    "lenName": 16,
    "lenType": 16,
    "lenVar": 40
   },
   "kernels_config": {
    "python": {
     "delete_cmd_postfix": "",
     "delete_cmd_prefix": "del ",
     "library": "var_list.py",
     "varRefreshCmd": "print(var_dic_list())"
    },
    "r": {
     "delete_cmd_postfix": ") ",
     "delete_cmd_prefix": "rm(",
     "library": "var_list.r",
     "varRefreshCmd": "cat(var_dic_list()) "
    }
   },
   "types_to_exclude": [
    "module",
    "function",
    "builtin_function_or_method",
    "instance",
    "_Feature"
   ],
   "window_display": false
  }
 },
 "nbformat": 4,
 "nbformat_minor": 2
}
