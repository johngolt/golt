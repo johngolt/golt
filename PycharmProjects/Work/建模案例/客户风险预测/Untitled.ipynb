{
 "cells": [
  {
   "cell_type": "code",
   "execution_count": 1,
   "metadata": {
    "ExecuteTime": {
     "end_time": "2020-05-22T01:40:47.612063Z",
     "start_time": "2020-05-22T01:40:35.680277Z"
    }
   },
   "outputs": [],
   "source": [
    "import pandas as pd\n",
    "import numpy as np\n",
    "import matplotlib.pyplot as plt\n",
    "%matplotlib inline\n",
    "\n",
    "import os\n",
    "os.chdir('C:/test/PRD')\n",
    "\n",
    "os.listdir()\n",
    "\n",
    "df = pd.read_csv('user_balance_table.csv',chunksize=2000)\n",
    "\n",
    "df1 = df.get_chunk()"
   ]
  },
  {
   "cell_type": "code",
   "execution_count": 12,
   "metadata": {
    "ExecuteTime": {
     "end_time": "2020-05-22T01:44:10.256894Z",
     "start_time": "2020-05-22T01:44:10.224892Z"
    }
   },
   "outputs": [
    {
     "data": {
      "text/html": [
       "<div>\n",
       "<style scoped>\n",
       "    .dataframe tbody tr th:only-of-type {\n",
       "        vertical-align: middle;\n",
       "    }\n",
       "\n",
       "    .dataframe tbody tr th {\n",
       "        vertical-align: top;\n",
       "    }\n",
       "\n",
       "    .dataframe thead th {\n",
       "        text-align: right;\n",
       "    }\n",
       "</style>\n",
       "<table border=\"1\" class=\"dataframe\">\n",
       "  <thead>\n",
       "    <tr style=\"text-align: right;\">\n",
       "      <th></th>\n",
       "      <th>user_id</th>\n",
       "      <th>report_date</th>\n",
       "      <th>tBalance</th>\n",
       "      <th>yBalance</th>\n",
       "      <th>total_purchase_amt</th>\n",
       "      <th>direct_purchase_amt</th>\n",
       "      <th>purchase_bal_amt</th>\n",
       "      <th>purchase_bank_amt</th>\n",
       "      <th>total_redeem_amt</th>\n",
       "      <th>consume_amt</th>\n",
       "      <th>transfer_amt</th>\n",
       "      <th>tftobal_amt</th>\n",
       "      <th>tftocard_amt</th>\n",
       "      <th>share_amt</th>\n",
       "      <th>category1</th>\n",
       "      <th>category2</th>\n",
       "      <th>category3</th>\n",
       "      <th>category4</th>\n",
       "    </tr>\n",
       "  </thead>\n",
       "  <tbody>\n",
       "    <tr>\n",
       "      <th>2000</th>\n",
       "      <td>70</td>\n",
       "      <td>20140509</td>\n",
       "      <td>0</td>\n",
       "      <td>0</td>\n",
       "      <td>0</td>\n",
       "      <td>0</td>\n",
       "      <td>0</td>\n",
       "      <td>0</td>\n",
       "      <td>0</td>\n",
       "      <td>0</td>\n",
       "      <td>0</td>\n",
       "      <td>0</td>\n",
       "      <td>0</td>\n",
       "      <td>0</td>\n",
       "      <td>NaN</td>\n",
       "      <td>NaN</td>\n",
       "      <td>NaN</td>\n",
       "      <td>NaN</td>\n",
       "    </tr>\n",
       "    <tr>\n",
       "      <th>2001</th>\n",
       "      <td>72</td>\n",
       "      <td>20140405</td>\n",
       "      <td>0</td>\n",
       "      <td>0</td>\n",
       "      <td>0</td>\n",
       "      <td>0</td>\n",
       "      <td>0</td>\n",
       "      <td>0</td>\n",
       "      <td>0</td>\n",
       "      <td>0</td>\n",
       "      <td>0</td>\n",
       "      <td>0</td>\n",
       "      <td>0</td>\n",
       "      <td>0</td>\n",
       "      <td>NaN</td>\n",
       "      <td>NaN</td>\n",
       "      <td>NaN</td>\n",
       "      <td>NaN</td>\n",
       "    </tr>\n",
       "    <tr>\n",
       "      <th>2002</th>\n",
       "      <td>73</td>\n",
       "      <td>20140219</td>\n",
       "      <td>0</td>\n",
       "      <td>0</td>\n",
       "      <td>0</td>\n",
       "      <td>0</td>\n",
       "      <td>0</td>\n",
       "      <td>0</td>\n",
       "      <td>0</td>\n",
       "      <td>0</td>\n",
       "      <td>0</td>\n",
       "      <td>0</td>\n",
       "      <td>0</td>\n",
       "      <td>0</td>\n",
       "      <td>NaN</td>\n",
       "      <td>NaN</td>\n",
       "      <td>NaN</td>\n",
       "      <td>NaN</td>\n",
       "    </tr>\n",
       "    <tr>\n",
       "      <th>2003</th>\n",
       "      <td>77</td>\n",
       "      <td>20140603</td>\n",
       "      <td>1314</td>\n",
       "      <td>1314</td>\n",
       "      <td>0</td>\n",
       "      <td>0</td>\n",
       "      <td>0</td>\n",
       "      <td>0</td>\n",
       "      <td>0</td>\n",
       "      <td>0</td>\n",
       "      <td>0</td>\n",
       "      <td>0</td>\n",
       "      <td>0</td>\n",
       "      <td>0</td>\n",
       "      <td>NaN</td>\n",
       "      <td>NaN</td>\n",
       "      <td>NaN</td>\n",
       "      <td>NaN</td>\n",
       "    </tr>\n",
       "    <tr>\n",
       "      <th>2004</th>\n",
       "      <td>77</td>\n",
       "      <td>20140606</td>\n",
       "      <td>1314</td>\n",
       "      <td>1314</td>\n",
       "      <td>0</td>\n",
       "      <td>0</td>\n",
       "      <td>0</td>\n",
       "      <td>0</td>\n",
       "      <td>0</td>\n",
       "      <td>0</td>\n",
       "      <td>0</td>\n",
       "      <td>0</td>\n",
       "      <td>0</td>\n",
       "      <td>0</td>\n",
       "      <td>NaN</td>\n",
       "      <td>NaN</td>\n",
       "      <td>NaN</td>\n",
       "      <td>NaN</td>\n",
       "    </tr>\n",
       "  </tbody>\n",
       "</table>\n",
       "</div>"
      ],
      "text/plain": [
       "      user_id  report_date  tBalance  yBalance  total_purchase_amt  \\\n",
       "2000       70     20140509         0         0                   0   \n",
       "2001       72     20140405         0         0                   0   \n",
       "2002       73     20140219         0         0                   0   \n",
       "2003       77     20140603      1314      1314                   0   \n",
       "2004       77     20140606      1314      1314                   0   \n",
       "\n",
       "      direct_purchase_amt  purchase_bal_amt  purchase_bank_amt  \\\n",
       "2000                    0                 0                  0   \n",
       "2001                    0                 0                  0   \n",
       "2002                    0                 0                  0   \n",
       "2003                    0                 0                  0   \n",
       "2004                    0                 0                  0   \n",
       "\n",
       "      total_redeem_amt  consume_amt  transfer_amt  tftobal_amt  tftocard_amt  \\\n",
       "2000                 0            0             0            0             0   \n",
       "2001                 0            0             0            0             0   \n",
       "2002                 0            0             0            0             0   \n",
       "2003                 0            0             0            0             0   \n",
       "2004                 0            0             0            0             0   \n",
       "\n",
       "      share_amt  category1  category2  category3  category4  \n",
       "2000          0        NaN        NaN        NaN        NaN  \n",
       "2001          0        NaN        NaN        NaN        NaN  \n",
       "2002          0        NaN        NaN        NaN        NaN  \n",
       "2003          0        NaN        NaN        NaN        NaN  \n",
       "2004          0        NaN        NaN        NaN        NaN  "
      ]
     },
     "execution_count": 12,
     "metadata": {},
     "output_type": "execute_result"
    }
   ],
   "source": [
    "df1.head()"
   ]
  },
  {
   "cell_type": "code",
   "execution_count": 16,
   "metadata": {
    "ExecuteTime": {
     "end_time": "2020-05-22T01:50:52.923043Z",
     "start_time": "2020-05-22T01:50:52.911033Z"
    }
   },
   "outputs": [
    {
     "data": {
      "text/plain": [
       "True"
      ]
     },
     "execution_count": 16,
     "metadata": {},
     "output_type": "execute_result"
    }
   ],
   "source": [
    "(df1['tBalance']==(df1['yBalance']+df1[\n",
    "    'total_purchase_amt']-df1['total_redeem_amt'])).all()"
   ]
  },
  {
   "cell_type": "code",
   "execution_count": 20,
   "metadata": {
    "ExecuteTime": {
     "end_time": "2020-05-22T01:56:29.821077Z",
     "start_time": "2020-05-22T01:56:29.810077Z"
    }
   },
   "outputs": [
    {
     "data": {
      "text/plain": [
       "True"
      ]
     },
     "execution_count": 20,
     "metadata": {},
     "output_type": "execute_result"
    }
   ],
   "source": [
    "(df1['total_redeem_amt']==df1['consume_amt']+df1['transfer_amt']).all()"
   ]
  },
  {
   "cell_type": "code",
   "execution_count": 21,
   "metadata": {
    "ExecuteTime": {
     "end_time": "2020-05-22T01:57:43.931049Z",
     "start_time": "2020-05-22T01:57:43.919058Z"
    }
   },
   "outputs": [
    {
     "data": {
      "text/plain": [
       "False"
      ]
     },
     "execution_count": 21,
     "metadata": {},
     "output_type": "execute_result"
    }
   ],
   "source": [
    "(df1['consume_amt']==df1[\n",
    "    'category1']+df1['category2']+df1['category3']+df1['category4']).all()"
   ]
  },
  {
   "cell_type": "code",
   "execution_count": 28,
   "metadata": {
    "ExecuteTime": {
     "end_time": "2020-05-22T02:10:22.138307Z",
     "start_time": "2020-05-22T02:10:22.127349Z"
    }
   },
   "outputs": [
    {
     "data": {
      "text/plain": [
       "1886"
      ]
     },
     "execution_count": 28,
     "metadata": {},
     "output_type": "execute_result"
    }
   ],
   "source": [
    "(df1['consume_amt']==0).sum()"
   ]
  },
  {
   "cell_type": "code",
   "execution_count": 18,
   "metadata": {
    "ExecuteTime": {
     "end_time": "2020-05-22T01:51:57.036766Z",
     "start_time": "2020-05-22T01:51:57.017729Z"
    }
   },
   "outputs": [
    {
     "data": {
      "text/plain": [
       "True"
      ]
     },
     "execution_count": 18,
     "metadata": {},
     "output_type": "execute_result"
    }
   ],
   "source": [
    "(df1['total_purchase_amt']==df1[\n",
    "    'direct_purchase_amt']+df1['share_amt']).all()"
   ]
  },
  {
   "cell_type": "code",
   "execution_count": 19,
   "metadata": {
    "ExecuteTime": {
     "end_time": "2020-05-22T01:55:19.875419Z",
     "start_time": "2020-05-22T01:55:19.848360Z"
    }
   },
   "outputs": [
    {
     "data": {
      "text/plain": [
       "True"
      ]
     },
     "execution_count": 19,
     "metadata": {},
     "output_type": "execute_result"
    }
   ],
   "source": [
    "(df1['direct_purchase_amt']==df1[\n",
    "    'purchase_bal_amt']+df1['purchase_bank_amt']).all()"
   ]
  },
  {
   "cell_type": "code",
   "execution_count": null,
   "metadata": {
    "ExecuteTime": {
     "end_time": "2020-05-22T01:58:23.002955Z",
     "start_time": "2020-05-22T01:58:22.975963Z"
    }
   },
   "outputs": [],
   "source": []
  },
  {
   "cell_type": "code",
   "execution_count": null,
   "metadata": {
    "ExecuteTime": {
     "end_time": "2020-05-20T09:02:37.243942Z",
     "start_time": "2020-05-20T09:02:29.589658Z"
    }
   },
   "outputs": [],
   "source": [
    "columns=['x0', 'x1', 'x2', 'x3', 'x4', 'x5', 'x6', 'x7', 'x8', 'x9',\n",
    "       'x10', 'x11', 'x12', 'x13', 'x14', 'x15', 'x16', 'x17', 'x18', 'x19']"
   ]
  },
  {
   "cell_type": "code",
   "execution_count": 56,
   "metadata": {
    "ExecuteTime": {
     "end_time": "2020-05-20T09:08:44.469309Z",
     "start_time": "2020-05-20T09:08:44.246724Z"
    }
   },
   "outputs": [
    {
     "data": {
      "text/plain": [
       "<matplotlib.axes._subplots.AxesSubplot at 0x162ad2a5e48>"
      ]
     },
     "execution_count": 56,
     "metadata": {},
     "output_type": "execute_result"
    },
    {
     "data": {
      "image/png": "[encoded data removed]",
      "text/plain": [
       "<Figure size 432x288 with 1 Axes>"
      ]
     },
     "metadata": {},
     "output_type": "display_data"
    }
   ],
   "source": [
    "np.log1p(df.loc[df['x2']!=-1, 'x2']).plot.box()"
   ]
  },
  {
   "cell_type": "code",
   "execution_count": 51,
   "metadata": {
    "ExecuteTime": {
     "end_time": "2020-05-20T09:05:49.266600Z",
     "start_time": "2020-05-20T09:05:49.239604Z"
    }
   },
   "outputs": [
    {
     "data": {
      "text/plain": [
       "-1.00000      2277\n",
       " 113.26762     191\n",
       " 116.38791     162\n",
       " 121.47262     155\n",
       " 104.07555     146\n",
       " 114.05388     135\n",
       " 114.27912     123\n",
       " 118.58282     118\n",
       " 113.41933     113\n",
       " 120.08366     111\n",
       "Name: x2, dtype: int64"
      ]
     },
     "execution_count": 51,
     "metadata": {},
     "output_type": "execute_result"
    }
   ],
   "source": [
    "df['x2'].value_counts().iloc[:10]"
   ]
  },
  {
   "cell_type": "code",
   "execution_count": 14,
   "metadata": {
    "ExecuteTime": {
     "end_time": "2020-05-20T08:42:19.474209Z",
     "start_time": "2020-05-20T08:42:19.432241Z"
    }
   },
   "outputs": [
    {
     "data": {
      "text/plain": [
       "uid    8000\n",
       "x0      231\n",
       "x1      404\n",
       "x2     1649\n",
       "x3      182\n",
       "x4     6806\n",
       "x5     5541\n",
       "x6      173\n",
       "x7     5096\n",
       "x8      149\n",
       "x9      224\n",
       "x10     273\n",
       "x11     202\n",
       "x12     162\n",
       "x13     135\n",
       "x14     215\n",
       "x15     133\n",
       "x16    5113\n",
       "x17     426\n",
       "x18     126\n",
       "x19    2174\n",
       "y         2\n",
       "dtype: int64"
      ]
     },
     "execution_count": 14,
     "metadata": {},
     "output_type": "execute_result"
    }
   ],
   "source": [
    "df.nunique()"
   ]
  },
  {
   "cell_type": "code",
   "execution_count": 37,
   "metadata": {
    "ExecuteTime": {
     "end_time": "2020-05-20T08:55:33.511327Z",
     "start_time": "2020-05-20T08:55:33.494332Z"
    }
   },
   "outputs": [],
   "source": [
    "def get_counts(df, name):\n",
    "    most_value = df[name].value_counts().idxmax()\n",
    "    res = df.loc[df[name]!=most_value,'y'].value_counts()\n",
    "    return res, most_value"
   ]
  },
  {
   "cell_type": "code",
   "execution_count": 32,
   "metadata": {
    "ExecuteTime": {
     "end_time": "2020-05-20T08:49:23.053826Z",
     "start_time": "2020-05-20T08:49:23.043829Z"
    }
   },
   "outputs": [
    {
     "data": {
      "text/plain": [
       "Index(['uid', 'x0', 'x1', 'x2', 'x3', 'x4', 'x5', 'x6', 'x7', 'x8', 'x9',\n",
       "       'x10', 'x11', 'x12', 'x13', 'x14', 'x15', 'x16', 'x17', 'x18', 'x19',\n",
       "       'y'],\n",
       "      dtype='object')"
      ]
     },
     "execution_count": 32,
     "metadata": {},
     "output_type": "execute_result"
    }
   ],
   "source": [
    "df.columns"
   ]
  },
  {
   "cell_type": "code",
   "execution_count": 38,
   "metadata": {
    "ExecuteTime": {
     "end_time": "2020-05-20T08:55:42.129592Z",
     "start_time": "2020-05-20T08:55:42.032530Z"
    }
   },
   "outputs": [
    {
     "name": "stdout",
     "output_type": "stream",
     "text": [
      "1    2633\n",
      "0     640\n",
      "Name: y, dtype: int64\n",
      "1    5218\n",
      "0    1957\n",
      "Name: y, dtype: int64\n",
      "1    592\n",
      "0    138\n",
      "Name: y, dtype: int64\n",
      "1    646\n",
      "0    144\n",
      "Name: y, dtype: int64\n",
      "1    161\n",
      "0     27\n",
      "Name: y, dtype: int64\n",
      "1    5136\n",
      "0    2051\n",
      "Name: y, dtype: int64\n",
      "1    5062\n",
      "0    1913\n",
      "Name: y, dtype: int64\n",
      "1    3631\n",
      "0    1494\n",
      "Name: y, dtype: int64\n"
     ]
    }
   ],
   "source": [
    "columns = ['x8', 'x9','x10', 'x11', 'x12', 'x13', 'x14', 'x15']\n",
    "for each in columns:\n",
    "    print(get_counts(df, each)[0])"
   ]
  },
  {
   "cell_type": "code",
   "execution_count": 36,
   "metadata": {
    "ExecuteTime": {
     "end_time": "2020-05-20T08:54:08.654344Z",
     "start_time": "2020-05-20T08:54:08.640347Z"
    }
   },
   "outputs": [
    {
     "data": {
      "text/plain": [
       "(8000, 22)"
      ]
     },
     "execution_count": 36,
     "metadata": {},
     "output_type": "execute_result"
    }
   ],
   "source": []
  },
  {
   "cell_type": "code",
   "execution_count": null,
   "metadata": {},
   "outputs": [],
   "source": []
  }
 ],
 "metadata": {
  "kernelspec": {
   "display_name": "Python 3",
   "language": "python",
   "name": "python3"
  },
  "language_info": {
   "codemirror_mode": {
    "name": "ipython",
    "version": 3
   },
   "file_extension": ".py",
   "mimetype": "text/x-python",
   "name": "python",
   "nbconvert_exporter": "python",
   "pygments_lexer": "ipython3",
   "version": "3.6.5"
  },
  "toc": {
   "base_numbering": 1,
   "nav_menu": {},
   "number_sections": true,
   "sideBar": true,
   "skip_h1_title": false,
   "title_cell": "Table of Contents",
   "title_sidebar": "Contents",
   "toc_cell": false,
   "toc_position": {},
   "toc_section_display": true,
   "toc_window_display": false
  },
  "varInspector": {
   "cols": {
    "lenName": 16,
    "lenType": 16,
    "lenVar": 40
   },
   "kernels_config": {
    "python": {
     "delete_cmd_postfix": "",
     "delete_cmd_prefix": "del ",
     "library": "var_list.py",
     "varRefreshCmd": "print(var_dic_list())"
    },
    "r": {
     "delete_cmd_postfix": ") ",
     "delete_cmd_prefix": "rm(",
     "library": "var_list.r",
     "varRefreshCmd": "cat(var_dic_list()) "
    }
   },
   "types_to_exclude": [
    "module",
    "function",
    "builtin_function_or_method",
    "instance",
    "_Feature"
   ],
   "window_display": false
  }
 },
 "nbformat": 4,
 "nbformat_minor": 2
}
