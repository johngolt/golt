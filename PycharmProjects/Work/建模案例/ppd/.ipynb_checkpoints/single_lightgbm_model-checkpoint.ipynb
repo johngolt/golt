{
 "cells": [
  {
   "cell_type": "code",
   "execution_count": 1,
   "metadata": {
    "ExecuteTime": {
     "end_time": "2019-02-17T02:57:42.938856Z",
     "start_time": "2019-02-17T02:57:18.450164Z"
    }
   },
   "outputs": [
    {
     "name": "stderr",
     "output_type": "stream",
     "text": [
      "C:\\Users\\Administrator\\Anaconda3\\envs\\py3\\lib\\site-packages\\sklearn\\utils\\__init__.py:4: DeprecationWarning: Using or importing the ABCs from 'collections' instead of from 'collections.abc' is deprecated, and in 3.8 it will stop working\n",
      "  from collections import Sequence\n",
      "C:\\Users\\Administrator\\Anaconda3\\envs\\py3\\lib\\site-packages\\sklearn\\ensemble\\weight_boosting.py:29: DeprecationWarning: numpy.core.umath_tests is an internal NumPy module and should not be imported. It will be removed in a future NumPy release.\n",
      "  from numpy.core.umath_tests import inner1d\n"
     ]
    }
   ],
   "source": [
    "import numpy as np \n",
    "import pandas as pd \n",
    "import matplotlib.pyplot as plt \n",
    "%matplotlib inline \n",
    "plt.style.use('ggplot')\n",
    "import seaborn as sns \n",
    "import os \n",
    "os.chdir('C:/Users/Administrator/Desktop/魔镜杯数据')\n",
    "import warnings \n",
    "warnings.filterwarnings('ignore')\n",
    "\n",
    "import lightgbm as lgb \n",
    "from lightgbm import plot_importance \n",
    "from sklearn.model_selection import GridSearchCV\n",
    "from sklearn.model_selection import train_test_split \n",
    "from sklearn import metrics\n",
    "from sklearn.model_selection import cross_val_score\n",
    "from sklearn.model_selection import StratifiedKFold\n",
    "\n",
    "import score_card as sc"
   ]
  },
  {
   "cell_type": "code",
   "execution_count": 2,
   "metadata": {
    "ExecuteTime": {
     "end_time": "2019-02-17T02:57:51.284077Z",
     "start_time": "2019-02-17T02:57:42.938856Z"
    }
   },
   "outputs": [
    {
     "data": {
      "text/html": [
       "<div>\n",
       "<style scoped>\n",
       "    .dataframe tbody tr th:only-of-type {\n",
       "        vertical-align: middle;\n",
       "    }\n",
       "\n",
       "    .dataframe tbody tr th {\n",
       "        vertical-align: top;\n",
       "    }\n",
       "\n",
       "    .dataframe thead th {\n",
       "        text-align: right;\n",
       "    }\n",
       "</style>\n",
       "<table border=\"1\" class=\"dataframe\">\n",
       "  <thead>\n",
       "    <tr style=\"text-align: right;\">\n",
       "      <th></th>\n",
       "      <th>UserInfo_1</th>\n",
       "      <th>UserInfo_3</th>\n",
       "      <th>WeblogInfo_2</th>\n",
       "      <th>WeblogInfo_4</th>\n",
       "      <th>WeblogInfo_5</th>\n",
       "      <th>WeblogInfo_6</th>\n",
       "      <th>WeblogInfo_7</th>\n",
       "      <th>WeblogInfo_8</th>\n",
       "      <th>WeblogInfo_15</th>\n",
       "      <th>WeblogInfo_16</th>\n",
       "      <th>...</th>\n",
       "      <th>_mobilephone</th>\n",
       "      <th>_qq</th>\n",
       "      <th>_realname</th>\n",
       "      <th>_turnover</th>\n",
       "      <th>update_time_cnt</th>\n",
       "      <th>update_all_cnt</th>\n",
       "      <th>log_cnt</th>\n",
       "      <th>log_timespan</th>\n",
       "      <th>avg_log_timespan</th>\n",
       "      <th>Idx</th>\n",
       "    </tr>\n",
       "  </thead>\n",
       "  <tbody>\n",
       "    <tr>\n",
       "      <th>0</th>\n",
       "      <td>1.000</td>\n",
       "      <td>4.000</td>\n",
       "      <td>1.000</td>\n",
       "      <td>1.000</td>\n",
       "      <td>1.000</td>\n",
       "      <td>1.000</td>\n",
       "      <td>14.000</td>\n",
       "      <td>0.000</td>\n",
       "      <td>6.000</td>\n",
       "      <td>0.000</td>\n",
       "      <td>...</td>\n",
       "      <td>1.000</td>\n",
       "      <td>1.000</td>\n",
       "      <td>0.000</td>\n",
       "      <td>0.000</td>\n",
       "      <td>1.000</td>\n",
       "      <td>11.000</td>\n",
       "      <td>19.000</td>\n",
       "      <td>1.000</td>\n",
       "      <td>0.632</td>\n",
       "      <td>10001.000</td>\n",
       "    </tr>\n",
       "    <tr>\n",
       "      <th>1</th>\n",
       "      <td>1.000</td>\n",
       "      <td>4.000</td>\n",
       "      <td>0.000</td>\n",
       "      <td>1.000</td>\n",
       "      <td>1.000</td>\n",
       "      <td>1.000</td>\n",
       "      <td>14.000</td>\n",
       "      <td>0.000</td>\n",
       "      <td>0.000</td>\n",
       "      <td>7.000</td>\n",
       "      <td>...</td>\n",
       "      <td>2.000</td>\n",
       "      <td>1.000</td>\n",
       "      <td>1.000</td>\n",
       "      <td>0.000</td>\n",
       "      <td>3.000</td>\n",
       "      <td>21.000</td>\n",
       "      <td>24.000</td>\n",
       "      <td>1.000</td>\n",
       "      <td>10.375</td>\n",
       "      <td>10002.000</td>\n",
       "    </tr>\n",
       "    <tr>\n",
       "      <th>2</th>\n",
       "      <td>1.000</td>\n",
       "      <td>3.000</td>\n",
       "      <td>0.000</td>\n",
       "      <td>2.000</td>\n",
       "      <td>2.000</td>\n",
       "      <td>2.000</td>\n",
       "      <td>9.000</td>\n",
       "      <td>3.000</td>\n",
       "      <td>0.000</td>\n",
       "      <td>3.000</td>\n",
       "      <td>...</td>\n",
       "      <td>1.000</td>\n",
       "      <td>1.000</td>\n",
       "      <td>0.000</td>\n",
       "      <td>0.000</td>\n",
       "      <td>1.000</td>\n",
       "      <td>10.000</td>\n",
       "      <td>14.000</td>\n",
       "      <td>1.000</td>\n",
       "      <td>0.500</td>\n",
       "      <td>10003.000</td>\n",
       "    </tr>\n",
       "    <tr>\n",
       "      <th>3</th>\n",
       "      <td>4.000</td>\n",
       "      <td>1.000</td>\n",
       "      <td>nan</td>\n",
       "      <td>nan</td>\n",
       "      <td>nan</td>\n",
       "      <td>nan</td>\n",
       "      <td>2.000</td>\n",
       "      <td>0.000</td>\n",
       "      <td>0.000</td>\n",
       "      <td>0.000</td>\n",
       "      <td>...</td>\n",
       "      <td>1.000</td>\n",
       "      <td>1.000</td>\n",
       "      <td>0.000</td>\n",
       "      <td>0.000</td>\n",
       "      <td>1.000</td>\n",
       "      <td>10.000</td>\n",
       "      <td>7.000</td>\n",
       "      <td>5.000</td>\n",
       "      <td>0.000</td>\n",
       "      <td>10006.000</td>\n",
       "    </tr>\n",
       "    <tr>\n",
       "      <th>4</th>\n",
       "      <td>5.000</td>\n",
       "      <td>1.000</td>\n",
       "      <td>0.000</td>\n",
       "      <td>1.000</td>\n",
       "      <td>1.000</td>\n",
       "      <td>1.000</td>\n",
       "      <td>3.000</td>\n",
       "      <td>0.000</td>\n",
       "      <td>0.000</td>\n",
       "      <td>0.000</td>\n",
       "      <td>...</td>\n",
       "      <td>1.000</td>\n",
       "      <td>1.000</td>\n",
       "      <td>0.000</td>\n",
       "      <td>0.000</td>\n",
       "      <td>2.000</td>\n",
       "      <td>10.000</td>\n",
       "      <td>5.000</td>\n",
       "      <td>0.000</td>\n",
       "      <td>1.400</td>\n",
       "      <td>10007.000</td>\n",
       "    </tr>\n",
       "  </tbody>\n",
       "</table>\n",
       "<p>5 rows × 161 columns</p>\n",
       "</div>"
      ],
      "text/plain": [
       "   UserInfo_1  UserInfo_3  WeblogInfo_2  WeblogInfo_4  WeblogInfo_5  \\\n",
       "0       1.000       4.000         1.000         1.000         1.000   \n",
       "1       1.000       4.000         0.000         1.000         1.000   \n",
       "2       1.000       3.000         0.000         2.000         2.000   \n",
       "3       4.000       1.000           nan           nan           nan   \n",
       "4       5.000       1.000         0.000         1.000         1.000   \n",
       "\n",
       "   WeblogInfo_6  WeblogInfo_7  WeblogInfo_8  WeblogInfo_15  WeblogInfo_16  \\\n",
       "0         1.000        14.000         0.000          6.000          0.000   \n",
       "1         1.000        14.000         0.000          0.000          7.000   \n",
       "2         2.000         9.000         3.000          0.000          3.000   \n",
       "3           nan         2.000         0.000          0.000          0.000   \n",
       "4         1.000         3.000         0.000          0.000          0.000   \n",
       "\n",
       "     ...     _mobilephone   _qq  _realname  _turnover  update_time_cnt  \\\n",
       "0    ...            1.000 1.000      0.000      0.000            1.000   \n",
       "1    ...            2.000 1.000      1.000      0.000            3.000   \n",
       "2    ...            1.000 1.000      0.000      0.000            1.000   \n",
       "3    ...            1.000 1.000      0.000      0.000            1.000   \n",
       "4    ...            1.000 1.000      0.000      0.000            2.000   \n",
       "\n",
       "   update_all_cnt  log_cnt  log_timespan  avg_log_timespan       Idx  \n",
       "0          11.000   19.000         1.000             0.632 10001.000  \n",
       "1          21.000   24.000         1.000            10.375 10002.000  \n",
       "2          10.000   14.000         1.000             0.500 10003.000  \n",
       "3          10.000    7.000         5.000             0.000 10006.000  \n",
       "4          10.000    5.000         0.000             1.400 10007.000  \n",
       "\n",
       "[5 rows x 161 columns]"
      ]
     },
     "execution_count": 2,
     "metadata": {},
     "output_type": "execute_result"
    }
   ],
   "source": [
    "df  = pd.read_csv('feature_select_data1.csv',encoding='gb18030')\n",
    "df.head()"
   ]
  },
  {
   "cell_type": "markdown",
   "metadata": {},
   "source": [
    "# 两种版本的lgb默认参数模型"
   ]
  },
  {
   "cell_type": "markdown",
   "metadata": {},
   "source": [
    "## sklearn版本"
   ]
  },
  {
   "cell_type": "code",
   "execution_count": 3,
   "metadata": {
    "ExecuteTime": {
     "end_time": "2019-02-17T02:57:51.599095Z",
     "start_time": "2019-02-17T02:57:51.295077Z"
    }
   },
   "outputs": [],
   "source": [
    "# 默认参数模型\n",
    "x_train = df[df.sample_status=='train'].drop(['Idx','sample_status','target'],axis=1)\n",
    "x_test = df[df.sample_status=='test'].drop(['Idx','sample_status','target'],axis=1)\n",
    "y_train = df[df.sample_status=='train']['target']\n",
    "y_test = df[df.sample_status=='test']['target']"
   ]
  },
  {
   "cell_type": "code",
   "execution_count": 4,
   "metadata": {},
   "outputs": [
    {
     "name": "stdout",
     "output_type": "stream",
     "text": [
      "运行时间为6.0秒\n"
     ]
    }
   ],
   "source": [
    "import time\n",
    "start = time.time()\n",
    "lgb_sklearn = lgb.LGBMClassifier(random_state=0).fit(x_train,y_train)\n",
    "end = time.time()\n",
    "print('运行时间为{}秒'.format(round(end-start,0)))"
   ]
  },
  {
   "cell_type": "code",
   "execution_count": 5,
   "metadata": {},
   "outputs": [
    {
     "data": {
      "image/png": "[encoded data removed]",
      "text/plain": [
       "<Figure size 432x288 with 1 Axes>"
      ]
     },
     "metadata": {
      "needs_background": "light"
     },
     "output_type": "display_data"
    }
   ],
   "source": [
    "# 默认参数模型的AUC\n",
    "lgb_sklearn_pre = lgb_sklearn.predict_proba(x_test)[:,1]\n",
    "sc.plot_roc(y_test,lgb_sklearn_pre)"
   ]
  },
  {
   "cell_type": "code",
   "execution_count": 6,
   "metadata": {},
   "outputs": [
    {
     "data": {
      "text/plain": [
       "{'boosting_type': 'gbdt',\n",
       " 'class_weight': None,\n",
       " 'colsample_bytree': 1.0,\n",
       " 'importance_type': 'split',\n",
       " 'learning_rate': 0.1,\n",
       " 'max_depth': -1,\n",
       " 'min_child_samples': 20,\n",
       " 'min_child_weight': 0.001,\n",
       " 'min_split_gain': 0.0,\n",
       " 'n_estimators': 100,\n",
       " 'n_jobs': -1,\n",
       " 'num_leaves': 31,\n",
       " 'objective': None,\n",
       " 'random_state': 0,\n",
       " 'reg_alpha': 0.0,\n",
       " 'reg_lambda': 0.0,\n",
       " 'silent': True,\n",
       " 'subsample': 1.0,\n",
       " 'subsample_for_bin': 200000,\n",
       " 'subsample_freq': 0}"
      ]
     },
     "execution_count": 6,
     "metadata": {},
     "output_type": "execute_result"
    }
   ],
   "source": [
    "lgb_sklearn.get_params()"
   ]
  },
  {
   "cell_type": "markdown",
   "metadata": {},
   "source": [
    "## 原生版本 "
   ]
  },
  {
   "cell_type": "code",
   "execution_count": 14,
   "metadata": {
    "scrolled": true
   },
   "outputs": [
    {
     "name": "stdout",
     "output_type": "stream",
     "text": [
      "[1]\tvalid_0's auc: 0.675718\n",
      "Training until validation scores don't improve for 10 rounds.\n",
      "[2]\tvalid_0's auc: 0.683763\n",
      "[3]\tvalid_0's auc: 0.689045\n",
      "[4]\tvalid_0's auc: 0.688154\n",
      "[5]\tvalid_0's auc: 0.692355\n",
      "[6]\tvalid_0's auc: 0.692386\n",
      "[7]\tvalid_0's auc: 0.697619\n",
      "[8]\tvalid_0's auc: 0.699751\n",
      "[9]\tvalid_0's auc: 0.70051\n",
      "[10]\tvalid_0's auc: 0.702275\n",
      "[11]\tvalid_0's auc: 0.706518\n",
      "[12]\tvalid_0's auc: 0.70864\n",
      "[13]\tvalid_0's auc: 0.713132\n",
      "[14]\tvalid_0's auc: 0.715673\n",
      "[15]\tvalid_0's auc: 0.717739\n",
      "[16]\tvalid_0's auc: 0.719119\n",
      "[17]\tvalid_0's auc: 0.72115\n",
      "[18]\tvalid_0's auc: 0.723824\n",
      "[19]\tvalid_0's auc: 0.724232\n",
      "[20]\tvalid_0's auc: 0.726006\n",
      "[21]\tvalid_0's auc: 0.726508\n",
      "[22]\tvalid_0's auc: 0.726892\n",
      "[23]\tvalid_0's auc: 0.727921\n",
      "[24]\tvalid_0's auc: 0.729418\n",
      "[25]\tvalid_0's auc: 0.73087\n",
      "[26]\tvalid_0's auc: 0.732294\n",
      "[27]\tvalid_0's auc: 0.7336\n",
      "[28]\tvalid_0's auc: 0.734957\n",
      "[29]\tvalid_0's auc: 0.736162\n",
      "[30]\tvalid_0's auc: 0.737107\n",
      "[31]\tvalid_0's auc: 0.736938\n",
      "[32]\tvalid_0's auc: 0.73804\n",
      "[33]\tvalid_0's auc: 0.737969\n",
      "[34]\tvalid_0's auc: 0.738373\n",
      "[35]\tvalid_0's auc: 0.738153\n",
      "[36]\tvalid_0's auc: 0.739998\n",
      "[37]\tvalid_0's auc: 0.739689\n",
      "[38]\tvalid_0's auc: 0.740843\n",
      "[39]\tvalid_0's auc: 0.741177\n",
      "[40]\tvalid_0's auc: 0.741063\n",
      "[41]\tvalid_0's auc: 0.740791\n",
      "[42]\tvalid_0's auc: 0.741013\n",
      "[43]\tvalid_0's auc: 0.741408\n",
      "[44]\tvalid_0's auc: 0.741923\n",
      "[45]\tvalid_0's auc: 0.741994\n",
      "[46]\tvalid_0's auc: 0.74203\n",
      "[47]\tvalid_0's auc: 0.741826\n",
      "[48]\tvalid_0's auc: 0.741808\n",
      "[49]\tvalid_0's auc: 0.741153\n",
      "[50]\tvalid_0's auc: 0.740779\n",
      "[51]\tvalid_0's auc: 0.741177\n",
      "[52]\tvalid_0's auc: 0.741106\n",
      "[53]\tvalid_0's auc: 0.741315\n",
      "[54]\tvalid_0's auc: 0.740231\n",
      "[55]\tvalid_0's auc: 0.739891\n",
      "[56]\tvalid_0's auc: 0.740211\n",
      "Early stopping, best iteration is:\n",
      "[46]\tvalid_0's auc: 0.74203\n",
      "运行时间为6.0秒\n"
     ]
    }
   ],
   "source": [
    "# 原生的lightgbm\n",
    "lgb_train = lgb.Dataset(x_train,y_train)\n",
    "lgb_test = lgb.Dataset(x_test,y_test,reference=lgb_train)\n",
    "lgb_origi_params = {'boosting_type':'gbdt',\n",
    "              'max_depth':-1,\n",
    "              'num_leaves':31,\n",
    "              'bagging_fraction':1.0,\n",
    "              'feature_fraction':1.0,\n",
    "              'learning_rate':0.1,\n",
    "              'metric': 'auc'}\n",
    "start = time.time()\n",
    "lgb_origi = lgb.train(train_set=lgb_train,\n",
    "                      early_stopping_rounds=10,\n",
    "                      num_boost_round=400,\n",
    "                      params=lgb_origi_params,\n",
    "                      valid_sets=lgb_test)\n",
    "end = time.time()\n",
    "print('运行时间为{}秒'.format(round(end-start,0)))"
   ]
  },
  {
   "cell_type": "code",
   "execution_count": 13,
   "metadata": {
    "scrolled": false
   },
   "outputs": [
    {
     "data": {
      "image/png": "[encoded data removed]",
      "text/plain": [
       "<Figure size 432x288 with 1 Axes>"
      ]
     },
     "metadata": {
      "needs_background": "light"
     },
     "output_type": "display_data"
    }
   ],
   "source": [
    "# 原生的lightgbm的AUC\n",
    "lgb_origi_pre = lgb_origi.predict(x_test)\n",
    "sc.plot_roc(y_test,lgb_origi_pre)"
   ]
  },
  {
   "cell_type": "markdown",
   "metadata": {},
   "source": [
    "# 调参"
   ]
  },
  {
   "cell_type": "code",
   "execution_count": 18,
   "metadata": {},
   "outputs": [],
   "source": [
    "# 确定最大迭代次数，学习率设为0.1 \n",
    "base_parmas={'boosting_type':'gbdt',\n",
    "             'learning_rate':0.1,\n",
    "             'num_leaves':40,\n",
    "             'max_depth':-1,\n",
    "             'bagging_fraction':0.8,\n",
    "             'feature_fraction':0.8,\n",
    "             'lambda_l1':0,\n",
    "             'lambda_l2':0,\n",
    "             'min_data_in_leaf':20,\n",
    "             'min_sum_hessian_inleaf':0.001,\n",
    "             'metric':'auc'}\n",
    "cv_result = lgb.cv(train_set=lgb_train,\n",
    "                   num_boost_round=200,\n",
    "                   early_stopping_rounds=5,\n",
    "                   nfold=5,\n",
    "                   stratified=True,\n",
    "                   shuffle=True,\n",
    "                   params=base_parmas,\n",
    "                   metrics='auc',\n",
    "                   seed=0)"
   ]
  },
  {
   "cell_type": "code",
   "execution_count": 20,
   "metadata": {},
   "outputs": [
    {
     "name": "stdout",
     "output_type": "stream",
     "text": [
      "最大的迭代次数: 51\n",
      "交叉验证的AUC: 0.7271732572229754\n"
     ]
    }
   ],
   "source": [
    "print('最大的迭代次数: {}'.format(len(cv_result['auc-mean'])))\n",
    "print('交叉验证的AUC: {}'.format(max(cv_result['auc-mean'])))"
   ]
  },
  {
   "cell_type": "code",
   "execution_count": 24,
   "metadata": {},
   "outputs": [
    {
     "name": "stdout",
     "output_type": "stream",
     "text": [
      "运行时间为:109.0\n"
     ]
    }
   ],
   "source": [
    "# num_leaves ，步长设为5\n",
    "param_find1 = {'num_leaves':range(30,60,5)}\n",
    "cv_fold = StratifiedKFold(n_splits=5,random_state=0,shuffle=True)\n",
    "start = time.time()\n",
    "grid_search1 = GridSearchCV(estimator=lgb.LGBMClassifier(learning_rate=0.1,\n",
    "                                                         n_estimators = 51,\n",
    "                                                         max_depth=-1,\n",
    "                                                         min_child_weight=0.001,\n",
    "                                                         min_child_samples=20,\n",
    "                                                         subsample=0.8,\n",
    "                                                         colsample_bytree=0.8,\n",
    "                                                         reg_lambda=0,\n",
    "                                                         reg_alpha=0),\n",
    "                             cv = cv_fold,\n",
    "                             n_jobs=-1,\n",
    "                             param_grid = param_find1,\n",
    "                             scoring='roc_auc')\n",
    "grid_search1.fit(x_train,y_train)\n",
    "end = time.time()\n",
    "print('运行时间为:{}'.format(round(end-start,0)))"
   ]
  },
  {
   "cell_type": "code",
   "execution_count": 29,
   "metadata": {},
   "outputs": [
    {
     "name": "stdout",
     "output_type": "stream",
     "text": [
      "[mean: 0.73008, std: 0.01408, params: {'num_leaves': 30}, mean: 0.72994, std: 0.01638, params: {'num_leaves': 35}, mean: 0.72868, std: 0.01652, params: {'num_leaves': 40}, mean: 0.72776, std: 0.01038, params: {'num_leaves': 45}, mean: 0.72917, std: 0.01601, params: {'num_leaves': 50}, mean: 0.72519, std: 0.01338, params: {'num_leaves': 55}]\n",
      "\t\n",
      "{'num_leaves': 30}\n",
      "\t\n",
      "0.7300782078536177\n"
     ]
    }
   ],
   "source": [
    "print(grid_search1.grid_scores_)\n",
    "print('\\t')\n",
    "print(grid_search1.best_params_)\n",
    "print('\\t')\n",
    "print(grid_search1.best_score_)"
   ]
  },
  {
   "cell_type": "code",
   "execution_count": 30,
   "metadata": {},
   "outputs": [
    {
     "name": "stdout",
     "output_type": "stream",
     "text": [
      "[mean: 0.73327, std: 0.01248, params: {'num_leaves': 26}, mean: 0.73188, std: 0.01426, params: {'num_leaves': 28}, mean: 0.73355, std: 0.01589, params: {'num_leaves': 30}, mean: 0.73318, std: 0.01272, params: {'num_leaves': 32}]\n",
      "\t\n",
      "{'num_leaves': 30}\n",
      "\t\n",
      "0.733552244998121\n"
     ]
    }
   ],
   "source": [
    "# num_leaves,步长设为2 \n",
    "param_find2 = {'num_leaves':range(26,34,2)}\n",
    "grid_search2 = GridSearchCV(estimator=lgb.LGBMClassifier(estimator=51,\n",
    "                                                         learning_rate=0.1,\n",
    "                                                         min_child_weight=0.001,\n",
    "                                                         min_child_samples=20,\n",
    "                                                         subsample=0.8,\n",
    "                                                         colsample_bytree=0.8,\n",
    "                                                         reg_lambda=0,\n",
    "                                                         reg_alpha=0\n",
    "                                                         ),\n",
    "                            cv=cv_fold,\n",
    "                            n_jobs=-1,\n",
    "                            scoring='roc_auc',\n",
    "                            param_grid = param_find2)\n",
    "grid_search2.fit(x_train,y_train)\n",
    "print(grid_search2.grid_scores_)\n",
    "print('\\t')\n",
    "print(grid_search2.best_params_)\n",
    "print('\\t')\n",
    "print(grid_search2.best_score_)"
   ]
  },
  {
   "cell_type": "code",
   "execution_count": 36,
   "metadata": {},
   "outputs": [
    {
     "name": "stdout",
     "output_type": "stream",
     "text": [
      "运行时间:312.0 秒\n",
      "[mean: 0.73155, std: 0.01112, params: {'min_child_samples': 15, 'min_child_weight': 0.001}, mean: 0.73155, std: 0.01112, params: {'min_child_samples': 15, 'min_child_weight': 0.002}, mean: 0.73155, std: 0.01112, params: {'min_child_samples': 15, 'min_child_weight': 0.003}, mean: 0.73355, std: 0.01589, params: {'min_child_samples': 20, 'min_child_weight': 0.001}, mean: 0.73355, std: 0.01589, params: {'min_child_samples': 20, 'min_child_weight': 0.002}, mean: 0.73355, std: 0.01589, params: {'min_child_samples': 20, 'min_child_weight': 0.003}, mean: 0.73206, std: 0.01434, params: {'min_child_samples': 25, 'min_child_weight': 0.001}, mean: 0.73206, std: 0.01434, params: {'min_child_samples': 25, 'min_child_weight': 0.002}, mean: 0.73206, std: 0.01434, params: {'min_child_samples': 25, 'min_child_weight': 0.003}, mean: 0.73210, std: 0.01145, params: {'min_child_samples': 30, 'min_child_weight': 0.001}, mean: 0.73210, std: 0.01145, params: {'min_child_samples': 30, 'min_child_weight': 0.002}, mean: 0.73210, std: 0.01145, params: {'min_child_samples': 30, 'min_child_weight': 0.003}]\n",
      "\t\n",
      "{'min_child_samples': 20, 'min_child_weight': 0.001}\n",
      "\t\n",
      "0.733552244998121\n"
     ]
    }
   ],
   "source": [
    "# 确定num_leaves 为30 ，下面进行min_child_samples 和 min_child_weight的调参，设定步长为5\n",
    "param_find3 = {'min_child_samples':range(15,35,5),\n",
    "               'min_child_weight':[x/1000 for x in range(1,4,1)]}\n",
    "grid_search3 = GridSearchCV(estimator=lgb.LGBMClassifier(estimator=51,\n",
    "                                                         learning_rate=0.1,\n",
    "                                                         num_leaves=30,\n",
    "                                                         subsample=0.8,\n",
    "                                                         colsample_bytree=0.8,\n",
    "                                                         reg_lambda=0,\n",
    "                                                         reg_alpha=0\n",
    "                                                         ),\n",
    "                            cv=cv_fold,\n",
    "                            scoring='roc_auc',\n",
    "                            param_grid = param_find3,\n",
    "                            n_jobs=-1)\n",
    "start = time.time()\n",
    "grid_search3.fit(x_train,y_train)\n",
    "end = time.time()\n",
    "print('运行时间:{} 秒'.format(round(end-start,0)))\n",
    "print(grid_search3.grid_scores_)\n",
    "print('\\t')\n",
    "print(grid_search3.best_params_)\n",
    "print('\\t')\n",
    "print(grid_search3.best_score_)"
   ]
  },
  {
   "cell_type": "code",
   "execution_count": 37,
   "metadata": {},
   "outputs": [
    {
     "name": "stdout",
     "output_type": "stream",
     "text": [
      "运行时间:826.0 秒\n",
      "[mean: 0.73467, std: 0.01475, params: {'colsample_bytree': 0.5, 'subsample': 0.5}, mean: 0.73467, std: 0.01475, params: {'colsample_bytree': 0.5, 'subsample': 0.6}, mean: 0.73467, std: 0.01475, params: {'colsample_bytree': 0.5, 'subsample': 0.7}, mean: 0.73467, std: 0.01475, params: {'colsample_bytree': 0.5, 'subsample': 0.8}, mean: 0.73467, std: 0.01475, params: {'colsample_bytree': 0.5, 'subsample': 0.9}, mean: 0.73467, std: 0.01475, params: {'colsample_bytree': 0.5, 'subsample': 1.0}, mean: 0.73500, std: 0.01559, params: {'colsample_bytree': 0.6, 'subsample': 0.5}, mean: 0.73500, std: 0.01559, params: {'colsample_bytree': 0.6, 'subsample': 0.6}, mean: 0.73500, std: 0.01559, params: {'colsample_bytree': 0.6, 'subsample': 0.7}, mean: 0.73500, std: 0.01559, params: {'colsample_bytree': 0.6, 'subsample': 0.8}, mean: 0.73500, std: 0.01559, params: {'colsample_bytree': 0.6, 'subsample': 0.9}, mean: 0.73500, std: 0.01559, params: {'colsample_bytree': 0.6, 'subsample': 1.0}, mean: 0.73053, std: 0.01389, params: {'colsample_bytree': 0.7, 'subsample': 0.5}, mean: 0.73053, std: 0.01389, params: {'colsample_bytree': 0.7, 'subsample': 0.6}, mean: 0.73053, std: 0.01389, params: {'colsample_bytree': 0.7, 'subsample': 0.7}, mean: 0.73053, std: 0.01389, params: {'colsample_bytree': 0.7, 'subsample': 0.8}, mean: 0.73053, std: 0.01389, params: {'colsample_bytree': 0.7, 'subsample': 0.9}, mean: 0.73053, std: 0.01389, params: {'colsample_bytree': 0.7, 'subsample': 1.0}, mean: 0.73355, std: 0.01589, params: {'colsample_bytree': 0.8, 'subsample': 0.5}, mean: 0.73355, std: 0.01589, params: {'colsample_bytree': 0.8, 'subsample': 0.6}, mean: 0.73355, std: 0.01589, params: {'colsample_bytree': 0.8, 'subsample': 0.7}, mean: 0.73355, std: 0.01589, params: {'colsample_bytree': 0.8, 'subsample': 0.8}, mean: 0.73355, std: 0.01589, params: {'colsample_bytree': 0.8, 'subsample': 0.9}, mean: 0.73355, std: 0.01589, params: {'colsample_bytree': 0.8, 'subsample': 1.0}, mean: 0.73304, std: 0.01103, params: {'colsample_bytree': 0.9, 'subsample': 0.5}, mean: 0.73304, std: 0.01103, params: {'colsample_bytree': 0.9, 'subsample': 0.6}, mean: 0.73304, std: 0.01103, params: {'colsample_bytree': 0.9, 'subsample': 0.7}, mean: 0.73304, std: 0.01103, params: {'colsample_bytree': 0.9, 'subsample': 0.8}, mean: 0.73304, std: 0.01103, params: {'colsample_bytree': 0.9, 'subsample': 0.9}, mean: 0.73304, std: 0.01103, params: {'colsample_bytree': 0.9, 'subsample': 1.0}, mean: 0.73427, std: 0.01462, params: {'colsample_bytree': 1.0, 'subsample': 0.5}, mean: 0.73427, std: 0.01462, params: {'colsample_bytree': 1.0, 'subsample': 0.6}, mean: 0.73427, std: 0.01462, params: {'colsample_bytree': 1.0, 'subsample': 0.7}, mean: 0.73427, std: 0.01462, params: {'colsample_bytree': 1.0, 'subsample': 0.8}, mean: 0.73427, std: 0.01462, params: {'colsample_bytree': 1.0, 'subsample': 0.9}, mean: 0.73427, std: 0.01462, params: {'colsample_bytree': 1.0, 'subsample': 1.0}]\n",
      "\t\n",
      "{'colsample_bytree': 0.6, 'subsample': 0.5}\n",
      "\t\n",
      "0.7349957573843382\n"
     ]
    }
   ],
   "source": [
    "# 确定min_child_weight为0.001，min_child_samples为20,下面对subsample和colsample_bytree进行调参\n",
    "param_find4 = {'subsample':[x/10 for x in range(5,11,1)],\n",
    "               'colsample_bytree':[x/10 for x in range(5,11,1)]}\n",
    "grid_search4 = GridSearchCV(estimator=lgb.LGBMClassifier(estimator=51,\n",
    "                                                         learning_rate=0.1,\n",
    "                                                         min_child_samples=20,\n",
    "                                                         min_child_weight=0.001,\n",
    "                                                         num_leaves=30,\n",
    "                                                         subsample=0.8,\n",
    "                                                         colsample_bytree=0.8,\n",
    "                                                         reg_lambda=0,\n",
    "                                                         reg_alpha=0\n",
    "                                                         ),\n",
    "                            cv=cv_fold,\n",
    "                            scoring='roc_auc',\n",
    "                            param_grid = param_find4,\n",
    "                            n_jobs=-1)\n",
    "start = time.time()\n",
    "grid_search4.fit(x_train,y_train)\n",
    "end = time.time()\n",
    "print('运行时间:{} 秒'.format(round(end-start,0)))\n",
    "print(grid_search4.grid_scores_)\n",
    "print('\\t')\n",
    "print(grid_search4.best_params_)\n",
    "print('\\t')\n",
    "print(grid_search4.best_score_)"
   ]
  },
  {
   "cell_type": "code",
   "execution_count": 39,
   "metadata": {},
   "outputs": [
    {
     "name": "stdout",
     "output_type": "stream",
     "text": [
      "运行时间:692.0 秒\n",
      "[mean: 0.73386, std: 0.01566, params: {'reg_alpha': 0.001, 'reg_lambda': 0.001}, mean: 0.73284, std: 0.01099, params: {'reg_alpha': 0.001, 'reg_lambda': 0.01}, mean: 0.73024, std: 0.01294, params: {'reg_alpha': 0.001, 'reg_lambda': 0.03}, mean: 0.73565, std: 0.01237, params: {'reg_alpha': 0.001, 'reg_lambda': 0.08}, mean: 0.73300, std: 0.01580, params: {'reg_alpha': 0.001, 'reg_lambda': 0.1}, mean: 0.73713, std: 0.01489, params: {'reg_alpha': 0.001, 'reg_lambda': 0.3}, mean: 0.73173, std: 0.01727, params: {'reg_alpha': 0.01, 'reg_lambda': 0.001}, mean: 0.73586, std: 0.01282, params: {'reg_alpha': 0.01, 'reg_lambda': 0.01}, mean: 0.73424, std: 0.01136, params: {'reg_alpha': 0.01, 'reg_lambda': 0.03}, mean: 0.73601, std: 0.01579, params: {'reg_alpha': 0.01, 'reg_lambda': 0.08}, mean: 0.73688, std: 0.01218, params: {'reg_alpha': 0.01, 'reg_lambda': 0.1}, mean: 0.73459, std: 0.01598, params: {'reg_alpha': 0.01, 'reg_lambda': 0.3}, mean: 0.73395, std: 0.01492, params: {'reg_alpha': 0.03, 'reg_lambda': 0.001}, mean: 0.73688, std: 0.01137, params: {'reg_alpha': 0.03, 'reg_lambda': 0.01}, mean: 0.73430, std: 0.01592, params: {'reg_alpha': 0.03, 'reg_lambda': 0.03}, mean: 0.73501, std: 0.01268, params: {'reg_alpha': 0.03, 'reg_lambda': 0.08}, mean: 0.73462, std: 0.01437, params: {'reg_alpha': 0.03, 'reg_lambda': 0.1}, mean: 0.73890, std: 0.01465, params: {'reg_alpha': 0.03, 'reg_lambda': 0.3}, mean: 0.73408, std: 0.01293, params: {'reg_alpha': 0.08, 'reg_lambda': 0.001}, mean: 0.73217, std: 0.01456, params: {'reg_alpha': 0.08, 'reg_lambda': 0.01}, mean: 0.73468, std: 0.01092, params: {'reg_alpha': 0.08, 'reg_lambda': 0.03}, mean: 0.73542, std: 0.01050, params: {'reg_alpha': 0.08, 'reg_lambda': 0.08}, mean: 0.73603, std: 0.01564, params: {'reg_alpha': 0.08, 'reg_lambda': 0.1}, mean: 0.73706, std: 0.01759, params: {'reg_alpha': 0.08, 'reg_lambda': 0.3}, mean: 0.72988, std: 0.01310, params: {'reg_alpha': 0.1, 'reg_lambda': 0.001}, mean: 0.73350, std: 0.01248, params: {'reg_alpha': 0.1, 'reg_lambda': 0.01}, mean: 0.73526, std: 0.01280, params: {'reg_alpha': 0.1, 'reg_lambda': 0.03}, mean: 0.73386, std: 0.01461, params: {'reg_alpha': 0.1, 'reg_lambda': 0.08}, mean: 0.73635, std: 0.01596, params: {'reg_alpha': 0.1, 'reg_lambda': 0.1}, mean: 0.73542, std: 0.01512, params: {'reg_alpha': 0.1, 'reg_lambda': 0.3}, mean: 0.73620, std: 0.00951, params: {'reg_alpha': 0.3, 'reg_lambda': 0.001}, mean: 0.73713, std: 0.01541, params: {'reg_alpha': 0.3, 'reg_lambda': 0.01}, mean: 0.73943, std: 0.01238, params: {'reg_alpha': 0.3, 'reg_lambda': 0.03}, mean: 0.73593, std: 0.01351, params: {'reg_alpha': 0.3, 'reg_lambda': 0.08}, mean: 0.73402, std: 0.01277, params: {'reg_alpha': 0.3, 'reg_lambda': 0.1}, mean: 0.73655, std: 0.00920, params: {'reg_alpha': 0.3, 'reg_lambda': 0.3}]\n",
      "\t\n",
      "{'reg_alpha': 0.3, 'reg_lambda': 0.03}\n",
      "\t\n",
      "0.739431056578461\n"
     ]
    }
   ],
   "source": [
    "param_find5 = {'reg_lambda':[0.001,0.01,0.03,0.08,0.1,0.3],\n",
    "               'reg_alpha':[0.001,0.01,0.03,0.08,0.1,0.3]}\n",
    "grid_search5 = GridSearchCV(estimator=lgb.LGBMClassifier(estimator=51,\n",
    "                                                         learning_rate=0.1,\n",
    "                                                         min_child_samples=20,\n",
    "                                                         min_child_weight=0.001,\n",
    "                                                         num_leaves=30,\n",
    "                                                         subsample=0.5,\n",
    "                                                         colsample_bytree=0.6,\n",
    "                                                         ),\n",
    "                            cv=cv_fold,\n",
    "                            scoring='roc_auc',\n",
    "                            param_grid = param_find5,\n",
    "                            n_jobs=-1)\n",
    "start = time.time()\n",
    "grid_search5.fit(x_train,y_train)\n",
    "end = time.time()\n",
    "print('运行时间:{} 秒'.format(round(end-start,0)))\n",
    "print(grid_search5.grid_scores_)\n",
    "print('\\t')\n",
    "print(grid_search5.best_params_)\n",
    "print('\\t')\n",
    "print(grid_search5.best_score_)"
   ]
  },
  {
   "cell_type": "code",
   "execution_count": 44,
   "metadata": {},
   "outputs": [],
   "source": [
    "# 将最佳参数再次带入cv函数，设定学习率为0.005\n",
    "best_params = {\n",
    "    'boosting_type':'gbdt',\n",
    "    'learning_rate':0.005,\n",
    "    'num_leaves':30,\n",
    "    'max_depth':-1,\n",
    "    'bagging_fraction':0.5,\n",
    "    'feature_fraction':0.6,\n",
    "    'min_data_in_leaf':20,\n",
    "    'min_sum_hessian_in_leaf':0.001,\n",
    "    'lambda_l1':0.3,\n",
    "    'lambda_l2':0.03,\n",
    "    'metric':'auc'\n",
    "}\n",
    "\n",
    "best_cv = lgb.cv(train_set=lgb_train,\n",
    "                 early_stopping_rounds=5,\n",
    "                 num_boost_round=2000,\n",
    "                 nfold=5,\n",
    "                 params=best_params,\n",
    "                 metrics='auc',\n",
    "                 stratified=True,\n",
    "                 shuffle=True,\n",
    "                 seed=0)"
   ]
  },
  {
   "cell_type": "code",
   "execution_count": 50,
   "metadata": {
    "scrolled": true
   },
   "outputs": [
    {
     "name": "stdout",
     "output_type": "stream",
     "text": [
      "最佳参数的迭代次数: 889\n",
      "交叉验证的AUC: 0.7357671213094057\n"
     ]
    }
   ],
   "source": [
    "print('最佳参数的迭代次数: {}'.format(len(best_cv['auc-mean'])))\n",
    "print('交叉验证的AUC: {}'.format(max(best_cv['auc-mean'])))"
   ]
  },
  {
   "cell_type": "code",
   "execution_count": 61,
   "metadata": {},
   "outputs": [
    {
     "data": {
      "text/plain": [
       "LGBMClassifier(boosting_type='gbdt', class_weight=None, colsample_bytree=0.6,\n",
       "        importance_type='split', learning_rate=0.005, max_depth=-1,\n",
       "        min_child_samples=20, min_child_weight=0.001, min_split_gain=0.0,\n",
       "        n_estimators=900, n_jobs=-1, num_leaves=30, objective=None,\n",
       "        random_state=0, reg_alpha=0.3, reg_lambda=0.03, silent=True,\n",
       "        subsample=0.5, subsample_for_bin=200000, subsample_freq=0)"
      ]
     },
     "execution_count": 61,
     "metadata": {},
     "output_type": "execute_result"
    }
   ],
   "source": [
    "lgb_single_model = lgb.LGBMClassifier(n_estimators=900,\n",
    "                                learning_rate=0.005,\n",
    "                                min_child_weight=0.001,\n",
    "                                min_child_samples = 20,\n",
    "                                subsample=0.5,\n",
    "                                colsample_bytree=0.6,\n",
    "                                num_leaves=30,\n",
    "                                max_depth=-1,\n",
    "                                reg_lambda=0.03,\n",
    "                                reg_alpha=0.3,\n",
    "                                random_state=0)\n",
    "lgb_single_model.fit(x_train,y_train)"
   ]
  },
  {
   "cell_type": "code",
   "execution_count": 64,
   "metadata": {},
   "outputs": [
    {
     "name": "stdout",
     "output_type": "stream",
     "text": [
      "lightgbm单模型的AUC：0.7535371506640257\n"
     ]
    },
    {
     "data": {
      "image/png": "[encoded data removed]",
      "text/plain": [
       "<Figure size 432x288 with 1 Axes>"
      ]
     },
     "metadata": {},
     "output_type": "display_data"
    }
   ],
   "source": [
    "pre = lgb_single_model.predict_proba(x_test)[:,1]\n",
    "print('lightgbm单模型的AUC：{}'.format(metrics.roc_auc_score(y_test,pre)))\n",
    "sc.plot_roc(y_test,pre)"
   ]
  }
 ],
 "metadata": {
  "kernelspec": {
   "display_name": "Python 3",
   "language": "python",
   "name": "python3"
  },
  "language_info": {
   "codemirror_mode": {
    "name": "ipython",
    "version": 3
   },
   "file_extension": ".py",
   "mimetype": "text/x-python",
   "name": "python",
   "nbconvert_exporter": "python",
   "pygments_lexer": "ipython3",
   "version": "3.7.0"
  },
  "toc": {
   "base_numbering": 1,
   "nav_menu": {},
   "number_sections": true,
   "sideBar": true,
   "skip_h1_title": false,
   "title_cell": "Table of Contents",
   "title_sidebar": "Contents",
   "toc_cell": false,
   "toc_position": {},
   "toc_section_display": true,
   "toc_window_display": false
  }
 },
 "nbformat": 4,
 "nbformat_minor": 2
}
