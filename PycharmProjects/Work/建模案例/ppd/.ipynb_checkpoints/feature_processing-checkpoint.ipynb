{
 "cells": [
  {
   "cell_type": "code",
   "execution_count": 1,
   "metadata": {},
   "outputs": [
    {
     "name": "stderr",
     "output_type": "stream",
     "text": [
      "C:\\Users\\Administrator\\Anaconda3\\envs\\py3\\lib\\site-packages\\sklearn\\utils\\__init__.py:4: DeprecationWarning: Using or importing the ABCs from 'collections' instead of from 'collections.abc' is deprecated, and in 3.8 it will stop working\n",
      "  from collections import Sequence\n"
     ]
    }
   ],
   "source": [
    "import numpy as np\n",
    "import pandas as pd \n",
    "from xgboost.sklearn import XGBClassifier\n",
    "from xgboost import plot_importance\n",
    "import matplotlib.pyplot as plt \n",
    "plt.style.use('ggplot')\n",
    "%matplotlib inline\n",
    "import warnings\n",
    "warnings.filterwarnings('ignore')\n",
    "import os \n",
    "os.chdir('C:/Users/Administrator/Desktop/魔镜杯数据')"
   ]
  },
  {
   "cell_type": "markdown",
   "metadata": {},
   "source": [
    "# 用户数据表"
   ]
  },
  {
   "cell_type": "code",
   "execution_count": 2,
   "metadata": {},
   "outputs": [],
   "source": [
    "# 导入data_EDA_clean处理过的数据\n",
    "data1 = pd.read_csv('data1_clean.csv',encoding='gbk')"
   ]
  },
  {
   "cell_type": "code",
   "execution_count": 3,
   "metadata": {},
   "outputs": [],
   "source": [
    "# 导入变量明细表\n",
    "var_info = pd.read_csv('var_info.csv',encoding='gbk')"
   ]
  },
  {
   "cell_type": "code",
   "execution_count": 4,
   "metadata": {},
   "outputs": [
    {
     "data": {
      "text/plain": [
       "Numerical      125\n",
       "Categorical     20\n",
       "Index            1\n",
       "Name: 变量类型, dtype: int64"
      ]
     },
     "execution_count": 4,
     "metadata": {},
     "output_type": "execute_result"
    }
   ],
   "source": [
    "base_col = list(data1.columns)\n",
    "var_info2 = var_info[var_info.变量名称.isin(base_col)].reset_index(drop=True)\n",
    "var_info2.变量类型.value_counts() "
   ]
  },
  {
   "cell_type": "markdown",
   "metadata": {},
   "source": [
    "## 类别型变量 "
   ]
  },
  {
   "cell_type": "code",
   "execution_count": 5,
   "metadata": {},
   "outputs": [
    {
     "data": {
      "text/html": [
       "<div>\n",
       "<style scoped>\n",
       "    .dataframe tbody tr th:only-of-type {\n",
       "        vertical-align: middle;\n",
       "    }\n",
       "\n",
       "    .dataframe tbody tr th {\n",
       "        vertical-align: top;\n",
       "    }\n",
       "\n",
       "    .dataframe thead th {\n",
       "        text-align: right;\n",
       "    }\n",
       "</style>\n",
       "<table border=\"1\" class=\"dataframe\">\n",
       "  <thead>\n",
       "    <tr style=\"text-align: right;\">\n",
       "      <th></th>\n",
       "      <th>count</th>\n",
       "      <th>mean</th>\n",
       "      <th>std</th>\n",
       "      <th>min</th>\n",
       "      <th>25%</th>\n",
       "      <th>50%</th>\n",
       "      <th>75%</th>\n",
       "      <th>max</th>\n",
       "      <th>nuniq</th>\n",
       "      <th>missing_pct</th>\n",
       "    </tr>\n",
       "  </thead>\n",
       "  <tbody>\n",
       "    <tr>\n",
       "      <th>UserInfo_1</th>\n",
       "      <td>49697.0</td>\n",
       "      <td>3.218021</td>\n",
       "      <td>1.833218</td>\n",
       "      <td>1.0</td>\n",
       "      <td>1.0</td>\n",
       "      <td>3.0</td>\n",
       "      <td>5.0</td>\n",
       "      <td>7.0</td>\n",
       "      <td>7</td>\n",
       "      <td>0.000080</td>\n",
       "    </tr>\n",
       "    <tr>\n",
       "      <th>UserInfo_3</th>\n",
       "      <td>49697.0</td>\n",
       "      <td>4.694287</td>\n",
       "      <td>1.320488</td>\n",
       "      <td>0.0</td>\n",
       "      <td>4.0</td>\n",
       "      <td>5.0</td>\n",
       "      <td>5.0</td>\n",
       "      <td>7.0</td>\n",
       "      <td>8</td>\n",
       "      <td>0.000080</td>\n",
       "    </tr>\n",
       "    <tr>\n",
       "      <th>UserInfo_5</th>\n",
       "      <td>49701.0</td>\n",
       "      <td>1.650530</td>\n",
       "      <td>0.583010</td>\n",
       "      <td>1.0</td>\n",
       "      <td>1.0</td>\n",
       "      <td>2.0</td>\n",
       "      <td>2.0</td>\n",
       "      <td>3.0</td>\n",
       "      <td>3</td>\n",
       "      <td>0.000000</td>\n",
       "    </tr>\n",
       "    <tr>\n",
       "      <th>UserInfo_6</th>\n",
       "      <td>49701.0</td>\n",
       "      <td>1.650550</td>\n",
       "      <td>0.581692</td>\n",
       "      <td>1.0</td>\n",
       "      <td>1.0</td>\n",
       "      <td>2.0</td>\n",
       "      <td>2.0</td>\n",
       "      <td>3.0</td>\n",
       "      <td>3</td>\n",
       "      <td>0.000000</td>\n",
       "    </tr>\n",
       "    <tr>\n",
       "      <th>UserInfo_12</th>\n",
       "      <td>18317.0</td>\n",
       "      <td>0.356609</td>\n",
       "      <td>0.479011</td>\n",
       "      <td>0.0</td>\n",
       "      <td>0.0</td>\n",
       "      <td>0.0</td>\n",
       "      <td>1.0</td>\n",
       "      <td>1.0</td>\n",
       "      <td>2</td>\n",
       "      <td>0.631456</td>\n",
       "    </tr>\n",
       "    <tr>\n",
       "      <th>UserInfo_13</th>\n",
       "      <td>18317.0</td>\n",
       "      <td>0.641426</td>\n",
       "      <td>0.479595</td>\n",
       "      <td>0.0</td>\n",
       "      <td>0.0</td>\n",
       "      <td>1.0</td>\n",
       "      <td>1.0</td>\n",
       "      <td>1.0</td>\n",
       "      <td>2</td>\n",
       "      <td>0.631456</td>\n",
       "    </tr>\n",
       "    <tr>\n",
       "      <th>UserInfo_14</th>\n",
       "      <td>49701.0</td>\n",
       "      <td>3.415605</td>\n",
       "      <td>1.169406</td>\n",
       "      <td>0.0</td>\n",
       "      <td>3.0</td>\n",
       "      <td>3.0</td>\n",
       "      <td>4.0</td>\n",
       "      <td>6.0</td>\n",
       "      <td>7</td>\n",
       "      <td>0.000000</td>\n",
       "    </tr>\n",
       "    <tr>\n",
       "      <th>UserInfo_15</th>\n",
       "      <td>49701.0</td>\n",
       "      <td>3.419086</td>\n",
       "      <td>1.166482</td>\n",
       "      <td>0.0</td>\n",
       "      <td>3.0</td>\n",
       "      <td>3.0</td>\n",
       "      <td>4.0</td>\n",
       "      <td>6.0</td>\n",
       "      <td>7</td>\n",
       "      <td>0.000000</td>\n",
       "    </tr>\n",
       "    <tr>\n",
       "      <th>UserInfo_16</th>\n",
       "      <td>49701.0</td>\n",
       "      <td>1.607030</td>\n",
       "      <td>1.055196</td>\n",
       "      <td>0.0</td>\n",
       "      <td>1.0</td>\n",
       "      <td>1.0</td>\n",
       "      <td>2.0</td>\n",
       "      <td>6.0</td>\n",
       "      <td>6</td>\n",
       "      <td>0.000000</td>\n",
       "    </tr>\n",
       "    <tr>\n",
       "      <th>UserInfo_17</th>\n",
       "      <td>49701.0</td>\n",
       "      <td>1.126114</td>\n",
       "      <td>0.331981</td>\n",
       "      <td>1.0</td>\n",
       "      <td>1.0</td>\n",
       "      <td>1.0</td>\n",
       "      <td>1.0</td>\n",
       "      <td>2.0</td>\n",
       "      <td>2</td>\n",
       "      <td>0.000000</td>\n",
       "    </tr>\n",
       "  </tbody>\n",
       "</table>\n",
       "</div>"
      ],
      "text/plain": [
       "               count      mean       std  min  25%  50%  75%  max  nuniq  \\\n",
       "UserInfo_1   49697.0  3.218021  1.833218  1.0  1.0  3.0  5.0  7.0      7   \n",
       "UserInfo_3   49697.0  4.694287  1.320488  0.0  4.0  5.0  5.0  7.0      8   \n",
       "UserInfo_5   49701.0  1.650530  0.583010  1.0  1.0  2.0  2.0  3.0      3   \n",
       "UserInfo_6   49701.0  1.650550  0.581692  1.0  1.0  2.0  2.0  3.0      3   \n",
       "UserInfo_12  18317.0  0.356609  0.479011  0.0  0.0  0.0  1.0  1.0      2   \n",
       "UserInfo_13  18317.0  0.641426  0.479595  0.0  0.0  1.0  1.0  1.0      2   \n",
       "UserInfo_14  49701.0  3.415605  1.169406  0.0  3.0  3.0  4.0  6.0      7   \n",
       "UserInfo_15  49701.0  3.419086  1.166482  0.0  3.0  3.0  4.0  6.0      7   \n",
       "UserInfo_16  49701.0  1.607030  1.055196  0.0  1.0  1.0  2.0  6.0      6   \n",
       "UserInfo_17  49701.0  1.126114  0.331981  1.0  1.0  1.0  1.0  2.0      2   \n",
       "\n",
       "             missing_pct  \n",
       "UserInfo_1      0.000080  \n",
       "UserInfo_3      0.000080  \n",
       "UserInfo_5      0.000000  \n",
       "UserInfo_6      0.000000  \n",
       "UserInfo_12     0.631456  \n",
       "UserInfo_13     0.631456  \n",
       "UserInfo_14     0.000000  \n",
       "UserInfo_15     0.000000  \n",
       "UserInfo_16     0.000000  \n",
       "UserInfo_17     0.000000  "
      ]
     },
     "execution_count": 5,
     "metadata": {},
     "output_type": "execute_result"
    }
   ],
   "source": [
    "# 类别型变量的描述性分析\n",
    "cate_col = list(var_info2[var_info2.变量类型=='Categorical'].变量名称)\n",
    "# 数值型类别变量的desc\n",
    "data1.loc[:,cate_col].describe().T.assign(nuniq = data1.loc[:,cate_col].apply(lambda x:x.nunique()),\n",
    "                                          missing_pct = data1.loc[:,cate_col].apply(lambda x:(len(x)-x.count())/len(x)))"
   ]
  },
  {
   "cell_type": "raw",
   "metadata": {},
   "source": [
    "UserInfo_2,UserInfo_4,UserInfo_8，UserInfo_20: 城市信息, 需要做降基处理\n",
    "UserInfo_7，UserInfo_19：省份信息\n",
    "UserInfo_9：运营商类型,需要做清洗\n",
    "WeblogInfo_20：微博信息，需要做降基处理"
   ]
  },
  {
   "cell_type": "code",
   "execution_count": 6,
   "metadata": {},
   "outputs": [],
   "source": [
    "# 先对所有字符型变量作去空格处理\n",
    "for col in data1.select_dtypes(include='O').columns:\n",
    "    data1[col] = data1[col].map(lambda x:str(x).strip())"
   ]
  },
  {
   "cell_type": "markdown",
   "metadata": {},
   "source": [
    "### 省份"
   ]
  },
  {
   "cell_type": "raw",
   "metadata": {},
   "source": [
    "原数据有两个省份字段，推测一个为用户的户籍地址，另一个为用户居住地址所在省份，由此可衍生的字段为：\n",
    "1.省份二值化，通过违约率将单个省份衍生为二值化特征，分为户籍省份和居住地省份\n",
    "2.户籍省份和居住地省份是否一致，推测不一致的用户大部分为外来打工群体，相对违约率会高一点\n",
    "ps: 计算违约率时要考虑该省份的借款人数，如果人数太少，参考价值不大"
   ]
  },
  {
   "cell_type": "code",
   "execution_count": 7,
   "metadata": {},
   "outputs": [],
   "source": [
    "# 计算各省份违约率\n",
    "def plot_pro_badrate(df,col):\n",
    "    group = df.groupby(col)\n",
    "    df = pd.DataFrame()\n",
    "    df['total'] = group.target.count()\n",
    "    df['bad'] = group.target.sum()\n",
    "    df['badrate'] = df['bad']/df['total']\n",
    "    # 筛选出违约率排名前5的省份\n",
    "    print(df.sort_values('badrate',ascending=False).iloc[:5,:])"
   ]
  },
  {
   "cell_type": "code",
   "execution_count": 8,
   "metadata": {},
   "outputs": [
    {
     "name": "stdout",
     "output_type": "stream",
     "text": [
      "             total    bad   badrate\n",
      "UserInfo_19                        \n",
      "西藏自治区            5    1.0  0.200000\n",
      "天津市            222   24.0  0.108108\n",
      "山东省           3955  425.0  0.107459\n",
      "吉林省            851   81.0  0.095182\n",
      "四川省           3135  291.0  0.092823\n"
     ]
    }
   ],
   "source": [
    "# 户籍地址\n",
    "plot_pro_badrate(data1,'UserInfo_19')"
   ]
  },
  {
   "cell_type": "code",
   "execution_count": 9,
   "metadata": {},
   "outputs": [
    {
     "name": "stdout",
     "output_type": "stream",
     "text": [
      "             total    bad   badrate\n",
      "UserInfo_19                        \n",
      "天津市            222   24.0  0.108108\n",
      "山东省           3955  425.0  0.107459\n",
      "吉林省            851   81.0  0.095182\n",
      "四川省           3135  291.0  0.092823\n",
      "黑龙江省          1341  119.0  0.088740\n"
     ]
    }
   ],
   "source": [
    "# 西藏自治区的人数太少，不具有参考价值，剔除后再计算\n",
    "plot_pro_badrate(data1[~(data1.UserInfo_19=='西藏自治区')],'UserInfo_19')"
   ]
  },
  {
   "cell_type": "code",
   "execution_count": 10,
   "metadata": {},
   "outputs": [
    {
     "name": "stdout",
     "output_type": "stream",
     "text": [
      "            total    bad   badrate\n",
      "UserInfo_7                        \n",
      "山东           3447  377.0  0.109370\n",
      "四川           1922  205.0  0.106660\n",
      "天津            311   32.0  0.102894\n",
      "湖南           1805  178.0  0.098615\n",
      "吉林            510   49.0  0.096078\n"
     ]
    }
   ],
   "source": [
    "# 居住地址\n",
    "plot_pro_badrate(data1,'UserInfo_7')"
   ]
  },
  {
   "cell_type": "code",
   "execution_count": 11,
   "metadata": {},
   "outputs": [],
   "source": [
    "# 户籍省份的二值化衍生\n",
    "data1['is_tianjin_userinfo19'] = data1.apply(lambda x:1 if x.UserInfo_19=='天津市' else 0,axis=1)\n",
    "data1['is_shandong_userinfo19'] = data1.apply(lambda x:1 if x.UserInfo_19=='山东省' else 0,axis=1)\n",
    "data1['is_jilin_userinfo19'] = data1.apply(lambda x:1 if x.UserInfo_19=='吉林省' else 0,axis=1)\n",
    "data1['is_sichuan_userinfo19'] = data1.apply(lambda x:1 if x.UserInfo_19=='四川省' else 0,axis=1)\n",
    "data1['is_heilongj_userinfo19'] = data1.apply(lambda x:1 if x.UserInfo_19=='黑龙江省' else 0,axis=1)\n",
    "\n",
    "# 居住地址省份的二值化衍生\n",
    "data1['is_tianjin_userinfo7'] = data1.apply(lambda x:1 if x.UserInfo_7=='天津' else 0,axis=1)\n",
    "data1['is_shandong_userinfo7'] = data1.apply(lambda x:1 if x.UserInfo_7=='山东' else 0,axis=1)\n",
    "data1['is_sichuan_userinfo7'] = data1.apply(lambda x:1 if x.UserInfo_7=='四川' else 0,axis=1)\n",
    "data1['is_hunan_userinfo7'] = data1.apply(lambda x:1 if x.UserInfo_7=='湖南' else 0,axis=1)\n",
    "data1['is_jilin_userinfo7'] = data1.apply(lambda x:1 if x.UserInfo_7=='吉林' else 0,axis=1)"
   ]
  },
  {
   "cell_type": "code",
   "execution_count": 12,
   "metadata": {},
   "outputs": [
    {
     "data": {
      "text/plain": [
       "array(['四川省', '福建省', '湖北省', '江西省', '辽宁省', '山东省', '内蒙古自治区', '湖南省', '黑龙江省',\n",
       "       '山西省', '江苏省', '云南省', '浙江省', '广东省', '天津市', '广西壮族自治区', '甘肃省', '贵州省',\n",
       "       '陕西省', '重庆市', '河北省', '青海省', '安徽省', '上海市', '吉林省', '北京市', '河南省',\n",
       "       '宁夏回族自治区', '新疆维吾尔自治区', '海南省', '西藏自治区'], dtype=object)"
      ]
     },
     "execution_count": 12,
     "metadata": {},
     "output_type": "execute_result"
    }
   ],
   "source": [
    "# 户籍省份和居住地省份不一致衍生\n",
    "data1.UserInfo_19.unique()"
   ]
  },
  {
   "cell_type": "code",
   "execution_count": 13,
   "metadata": {},
   "outputs": [
    {
     "data": {
      "text/plain": [
       "array(['广东', '浙江', '湖北', '福建', '辽宁', '不详', '内蒙古', '湖南', '黑龙江', '山西', '北京',\n",
       "       '山东', '江苏', '云南', '天津', '广西', '重庆', '江西', '四川', '陕西', '贵州', '河北',\n",
       "       '青海', '甘肃', '安徽', '吉林', '新疆', '海南', '河南', '宁夏', '上海', '西藏'],\n",
       "      dtype=object)"
      ]
     },
     "execution_count": 13,
     "metadata": {},
     "output_type": "execute_result"
    }
   ],
   "source": [
    "data1.UserInfo_7.unique()"
   ]
  },
  {
   "cell_type": "code",
   "execution_count": 14,
   "metadata": {},
   "outputs": [],
   "source": [
    "# 将UserInfo_19改成和居住地址省份相同的格式\n",
    "UserInfo_19_change = []\n",
    "for i in data1.UserInfo_19:\n",
    "    if i=='内蒙古自治区' or i=='黑龙江省':\n",
    "        j = i[:3]\n",
    "    else:\n",
    "        j=i[:2]\n",
    "    UserInfo_19_change.append(j)"
   ]
  },
  {
   "cell_type": "code",
   "execution_count": 15,
   "metadata": {},
   "outputs": [
    {
     "data": {
      "text/plain": [
       "(49701, 156)"
      ]
     },
     "execution_count": 15,
     "metadata": {},
     "output_type": "execute_result"
    }
   ],
   "source": [
    "is_same_province=[]\n",
    "# 判断UserInfo_7和UserInfo_19是否一致\n",
    "for i,j in zip(data1.UserInfo_7,UserInfo_19_change):\n",
    "    if i==j:\n",
    "        a = 1\n",
    "    else:\n",
    "        a = 0\n",
    "    is_same_province.append(a)\n",
    "    \n",
    "data1['is_same_province'] = is_same_province\n",
    "\n",
    "# 删除原有的变量\n",
    "data1 = data1.drop(['UserInfo_19','UserInfo_7'],axis=1)\n",
    "data1.shape"
   ]
  },
  {
   "cell_type": "markdown",
   "metadata": {},
   "source": [
    "### 运营商"
   ]
  },
  {
   "cell_type": "code",
   "execution_count": 16,
   "metadata": {},
   "outputs": [
    {
     "data": {
      "text/plain": [
       "(49701, 159)"
      ]
     },
     "execution_count": 16,
     "metadata": {},
     "output_type": "execute_result"
    }
   ],
   "source": [
    "# 将运营商信息转换为哑变量\n",
    "data1 = data1.replace({'UserInfo_9':{'中国移动':'china_mobile',\n",
    "                                     '中国电信':'china_telecom',\n",
    "                                     '中国联通':'china_unicom',\n",
    "                                     '不详':'operator_unknown'}})\n",
    "oper_dummy = pd.get_dummies(data1.UserInfo_9)\n",
    "data1 = pd.concat([data1,oper_dummy],axis=1)\n",
    "# 删除原变量\n",
    "data1 = data1.drop(['UserInfo_9'],axis=1)\n",
    "data1.shape"
   ]
  },
  {
   "cell_type": "markdown",
   "metadata": {},
   "source": [
    "###  城市"
   ]
  },
  {
   "cell_type": "raw",
   "metadata": {},
   "source": [
    "原数据中有4个城市信息，推测为用户登录的IP地址城市，衍生的逻辑为：\n",
    "1. 通过xgboost挑选比较重要的城市变量，进行二值化衍生\n",
    "2. 由4个城市特征的非重复项计数可衍生成 登录IP地址的变更次数\n",
    "3. 根据城市的一线/二线/三线进行降基处理，再转化为二值化特征"
   ]
  },
  {
   "cell_type": "code",
   "execution_count": 17,
   "metadata": {},
   "outputs": [
    {
     "name": "stdout",
     "output_type": "stream",
     "text": [
      "UserInfo_2:330\n",
      "\t\n",
      "UserInfo_4:333\n",
      "\t\n",
      "UserInfo_8:664\n",
      "\t\n",
      "UserInfo_20:307\n",
      "\t\n"
     ]
    }
   ],
   "source": [
    "# 计算4个城市特征的非重复项计数，观察是否有数据异常\n",
    "for col in ['UserInfo_2','UserInfo_4','UserInfo_8','UserInfo_20']:\n",
    "    print('{}:{}'.format(col,data1[col].nunique()))\n",
    "    print('\\t')"
   ]
  },
  {
   "cell_type": "code",
   "execution_count": 18,
   "metadata": {
    "scrolled": true
   },
   "outputs": [
    {
     "name": "stdout",
     "output_type": "stream",
     "text": [
      "['深圳' '温州' '宜昌' '南平' '辽阳' '不详' '包头' '赤峰' '鄂州' '武汉' '长沙' '漳州' '牡丹江' '太原市'\n",
      " '北京' '忻州' '三明' '临沂' '福州' '泰州市' '大同' '红河' '郴州' '常州' '湖州' '佛山' '天津' '南宁'\n",
      " '聊城' '柳州' '广州市' '太原' '重庆' '杭州' '景德镇' '上饶' '鸡西' '资阳' '成都' '济宁' '滨州' '渭南'\n",
      " '广州' '都匀' '廊坊' '西宁市' '金华' '龙岩' '清远' '兰州']\n"
     ]
    }
   ],
   "source": [
    "# UserInfo_8相对其他特征nunique较大，发现有些城市有\"市\"，有些没有，需要做一下清洗\n",
    "print(data1.UserInfo_8.unique()[:50])"
   ]
  },
  {
   "cell_type": "code",
   "execution_count": 19,
   "metadata": {},
   "outputs": [
    {
     "data": {
      "text/plain": [
       "400"
      ]
     },
     "execution_count": 19,
     "metadata": {},
     "output_type": "execute_result"
    }
   ],
   "source": [
    "# UserInfo_8清洗处理，处理后非重复项计数减小到400\n",
    "data1['UserInfo_8']=[s[:-1] if s.find('市')>0 else s[:] for s in data1.UserInfo_8] \n",
    "data1.UserInfo_8.nunique()"
   ]
  },
  {
   "cell_type": "code",
   "execution_count": 20,
   "metadata": {},
   "outputs": [],
   "source": [
    "# 根据xgboost变量重要性的输出吧对城市作二值化衍生\n",
    "data1_temp1 = data1[['UserInfo_2','UserInfo_4','UserInfo_8','UserInfo_20','target']]\n",
    "area_list=[]\n",
    "# 将四个城市变量都做亚编码处理\n",
    "for col in data1_temp1:\n",
    "    dummy_df = pd.get_dummies(data1_temp1[col])\n",
    "    dummy_df = pd.concat([dummy_df,data1_temp1['target']],axis=1)\n",
    "    area_list.append(dummy_df)\n",
    "\n",
    "df_area1 = area_list[0]\n",
    "df_area2 = area_list[1]\n",
    "df_area3 = area_list[2]\n",
    "df_area4 = area_list[3]"
   ]
  },
  {
   "cell_type": "code",
   "execution_count": 21,
   "metadata": {},
   "outputs": [],
   "source": [
    "# 用xgboost建模\n",
    "from xgboost.sklearn import XGBClassifier\n",
    "x_area1 = df_area1.drop(['target'],axis=1)\n",
    "y_area1 = df_area1['target']\n",
    "x_area2 = df_area2.drop(['target'],axis=1)\n",
    "y_area2 = df_area2['target']\n",
    "x_area3 = df_area3.drop(['target'],axis=1)\n",
    "y_area3 = df_area3['target']\n",
    "x_area4 = df_area4.drop(['target'],axis=1)\n",
    "y_area4 = df_area4['target']\n",
    "xg_area1 = XGBClassifier(random_state=0).fit(x_area1,y_area1)\n",
    "xg_area2 = XGBClassifier(random_state=0).fit(x_area2,y_area2)\n",
    "xg_area3 = XGBClassifier(random_state=0).fit(x_area3,y_area3)\n",
    "xg_area4 = XGBClassifier(random_state=0).fit(x_area4,y_area4)"
   ]
  },
  {
   "cell_type": "code",
   "execution_count": 22,
   "metadata": {},
   "outputs": [
    {
     "data": {
      "text/plain": [
       "<matplotlib.axes._subplots.AxesSubplot at 0x9503ac8>"
      ]
     },
     "execution_count": 22,
     "metadata": {},
     "output_type": "execute_result"
    },
    {
     "data": {
      "image/png": "[encoded data removed]",
      "text/plain": [
       "<Figure size 1440x576 with 4 Axes>"
      ]
     },
     "metadata": {
      "needs_background": "light"
     },
     "output_type": "display_data"
    }
   ],
   "source": [
    "# 输出变量的重要性\n",
    "from xgboost import plot_importance\n",
    "plt.rcParams['font.sans-serif'] = ['Microsoft YaHei']\n",
    "fig = plt.figure(figsize=(20,8))\n",
    "ax1 = fig.add_subplot(2,2,1)\n",
    "ax2 = fig.add_subplot(2,2,2)\n",
    "ax3 = fig.add_subplot(2,2,3)\n",
    "ax4 = fig.add_subplot(2,2,4)\n",
    "plot_importance(xg_area1,ax=ax1,max_num_features=10,height=0.4)\n",
    "plot_importance(xg_area2,ax=ax2,max_num_features=10,height=0.4)\n",
    "plot_importance(xg_area3,ax=ax3,max_num_features=10,height=0.4)\n",
    "plot_importance(xg_area4,ax=ax4,max_num_features=10,height=0.4)"
   ]
  },
  {
   "cell_type": "code",
   "execution_count": 23,
   "metadata": {},
   "outputs": [],
   "source": [
    "# 城市变量的二值化\n",
    "data1['is_zibo_UserInfo2'] = data1.apply(lambda x:1 if x.UserInfo_2=='淄博' else 0,axis=1)\n",
    "data1['is_chengdu_UserInfo2'] = data1.apply(lambda x:1 if x.UserInfo_2=='成都' else 0,axis=1)\n",
    "data1['is_yantai_UserInfo2'] = data1.apply(lambda x:1 if x.UserInfo_2=='烟台' else 0,axis=1)\n",
    "\n",
    "data1['is_zibo_UserInfo4'] = data1.apply(lambda x:1 if x.UserInfo_4=='淄博' else 0,axis=1)\n",
    "data1['is_chengdu_UserInfo4'] = data1.apply(lambda x:1 if x.UserInfo_4=='成都' else 0,axis=1)\n",
    "data1['is_weifang_UserInfo4'] = data1.apply(lambda x:1 if x.UserInfo_4=='潍坊' else 0,axis=1)\n",
    "\n",
    "data1['is_zibo_UserInfo8'] = data1.apply(lambda x:1 if x.UserInfo_8=='淄博' else 0,axis=1)\n",
    "data1['is_chengdu_UserInfo8'] = data1.apply(lambda x:1 if x.UserInfo_8=='成都' else 0,axis=1)\n",
    "data1['is_shantou_UserInfo8'] = data1.apply(lambda x:1 if x.UserInfo_8=='汕头' else 0,axis=1)\n",
    "\n",
    "data1['is_zibo_UserInfo20'] = data1.apply(lambda x:1 if x.UserInfo_20=='淄博市' else 0,axis=1)\n",
    "data1['is_chengdu_UserInfo20'] = data1.apply(lambda x:1 if x.UserInfo_20=='成都市' else 0,axis=1)\n",
    "data1['is_weifang_UserInfo20'] = data1.apply(lambda x:1 if x.UserInfo_20=='潍坊市' else 0,axis=1)"
   ]
  },
  {
   "cell_type": "code",
   "execution_count": 24,
   "metadata": {},
   "outputs": [
    {
     "data": {
      "text/plain": [
       "(49701, 168)"
      ]
     },
     "execution_count": 24,
     "metadata": {},
     "output_type": "execute_result"
    }
   ],
   "source": [
    "# 将四个城市变量改成同一的格式\n",
    "data1['UserInfo_20'] = [i[:-1] if i.find('市')>0 else i[:] for i in data1.UserInfo_20]\n",
    "# 城市变更次数变量衍生\n",
    "city_df = data1[['UserInfo_2','UserInfo_4','UserInfo_8','UserInfo_20']]\n",
    "city_change_cnt =[]\n",
    "for i in range(city_df.shape[0]):\n",
    "    a = list(city_df.iloc[i])\n",
    "    city_count = len(set(a))\n",
    "    city_change_cnt.append(city_count)\n",
    "data1['city_change_cnt'] = city_change_cnt\n",
    "# 删除原变量\n",
    "data1 = data1.drop(['UserInfo_2','UserInfo_4','UserInfo_8','UserInfo_20'],axis=1)\n",
    "data1.shape"
   ]
  },
  {
   "cell_type": "markdown",
   "metadata": {},
   "source": [
    "### 微博"
   ]
  },
  {
   "cell_type": "code",
   "execution_count": 25,
   "metadata": {},
   "outputs": [],
   "source": [
    "# 将字符型的nan转为众数\n",
    "for col in ['WeblogInfo_19','WeblogInfo_20','WeblogInfo_21']:\n",
    "    data1 = data1.replace({col:{'nan':np.nan}})\n",
    "# 将缺失填充为众数\n",
    "for col in ['WeblogInfo_19','WeblogInfo_20','WeblogInfo_21']:\n",
    "    data1[col] = data1[col].fillna(data1[col].mode()[0])"
   ]
  },
  {
   "cell_type": "code",
   "execution_count": 26,
   "metadata": {},
   "outputs": [],
   "source": [
    "# 微博变量的哑变量处理\n",
    "data1['WeblogInfo_19'] = ['WeblogInfo_19_'+s for s in data1.WeblogInfo_19]\n",
    "data1['WeblogInfo_21'] = ['WeblogInfo_21_'+s for s in data1.WeblogInfo_21]"
   ]
  },
  {
   "cell_type": "code",
   "execution_count": 27,
   "metadata": {},
   "outputs": [
    {
     "data": {
      "text/plain": [
       "(49701, 176)"
      ]
     },
     "execution_count": 27,
     "metadata": {},
     "output_type": "execute_result"
    }
   ],
   "source": [
    "for col in ['WeblogInfo_19','WeblogInfo_21']:\n",
    "    dummy_df = pd.get_dummies(data1[col])\n",
    "    data1 = pd.concat([data1,dummy_df],axis=1)\n",
    "# 删除原变量\n",
    "data1 = data1.drop(['WeblogInfo_19','WeblogInfo_21','WeblogInfo_20'],axis=1)\n",
    "data1.shape"
   ]
  },
  {
   "cell_type": "markdown",
   "metadata": {},
   "source": [
    "## 数值型变量 "
   ]
  },
  {
   "cell_type": "code",
   "execution_count": 28,
   "metadata": {},
   "outputs": [
    {
     "data": {
      "text/plain": [
       "<matplotlib.axes._subplots.AxesSubplot at 0x4f61c50>"
      ]
     },
     "execution_count": 28,
     "metadata": {},
     "output_type": "execute_result"
    },
    {
     "data": {
      "image/png": "[encoded data removed]",
      "text/plain": [
       "<Figure size 1728x720 with 2 Axes>"
      ]
     },
     "metadata": {
      "needs_background": "light"
     },
     "output_type": "display_data"
    }
   ],
   "source": [
    "# 数值型变量的缺失率分布\n",
    "import missingno\n",
    "num_col = list(var_info2[var_info2.变量类型=='Numerical'].变量名称)\n",
    "missingno.bar(data1.loc[:,num_col])"
   ]
  },
  {
   "cell_type": "code",
   "execution_count": 29,
   "metadata": {},
   "outputs": [
    {
     "data": {
      "text/html": [
       "<div>\n",
       "<style scoped>\n",
       "    .dataframe tbody tr th:only-of-type {\n",
       "        vertical-align: middle;\n",
       "    }\n",
       "\n",
       "    .dataframe tbody tr th {\n",
       "        vertical-align: top;\n",
       "    }\n",
       "\n",
       "    .dataframe thead th {\n",
       "        text-align: right;\n",
       "    }\n",
       "</style>\n",
       "<table border=\"1\" class=\"dataframe\">\n",
       "  <thead>\n",
       "    <tr style=\"text-align: right;\">\n",
       "      <th></th>\n",
       "      <th>count</th>\n",
       "      <th>mean</th>\n",
       "      <th>std</th>\n",
       "      <th>min</th>\n",
       "      <th>25%</th>\n",
       "      <th>50%</th>\n",
       "      <th>75%</th>\n",
       "      <th>max</th>\n",
       "      <th>nuniq</th>\n",
       "      <th>misssing_pct</th>\n",
       "    </tr>\n",
       "  </thead>\n",
       "  <tbody>\n",
       "    <tr>\n",
       "      <th>target</th>\n",
       "      <td>49701.0</td>\n",
       "      <td>0.074244</td>\n",
       "      <td>0.262170</td>\n",
       "      <td>0.0</td>\n",
       "      <td>0.0</td>\n",
       "      <td>0.0</td>\n",
       "      <td>0.0</td>\n",
       "      <td>1.0</td>\n",
       "      <td>2</td>\n",
       "      <td>0.000000</td>\n",
       "    </tr>\n",
       "    <tr>\n",
       "      <th>UserInfo_10</th>\n",
       "      <td>49701.0</td>\n",
       "      <td>0.310778</td>\n",
       "      <td>0.603639</td>\n",
       "      <td>0.0</td>\n",
       "      <td>0.0</td>\n",
       "      <td>0.0</td>\n",
       "      <td>0.0</td>\n",
       "      <td>2.0</td>\n",
       "      <td>3</td>\n",
       "      <td>0.000000</td>\n",
       "    </tr>\n",
       "    <tr>\n",
       "      <th>SocialNetwork_17</th>\n",
       "      <td>49701.0</td>\n",
       "      <td>0.253415</td>\n",
       "      <td>0.437140</td>\n",
       "      <td>0.0</td>\n",
       "      <td>0.0</td>\n",
       "      <td>0.0</td>\n",
       "      <td>1.0</td>\n",
       "      <td>3.0</td>\n",
       "      <td>4</td>\n",
       "      <td>0.000000</td>\n",
       "    </tr>\n",
       "    <tr>\n",
       "      <th>SocialNetwork_13</th>\n",
       "      <td>49701.0</td>\n",
       "      <td>0.219915</td>\n",
       "      <td>0.420269</td>\n",
       "      <td>0.0</td>\n",
       "      <td>0.0</td>\n",
       "      <td>0.0</td>\n",
       "      <td>0.0</td>\n",
       "      <td>4.0</td>\n",
       "      <td>5</td>\n",
       "      <td>0.000000</td>\n",
       "    </tr>\n",
       "    <tr>\n",
       "      <th>WeblogInfo_2</th>\n",
       "      <td>46915.0</td>\n",
       "      <td>0.132687</td>\n",
       "      <td>0.359614</td>\n",
       "      <td>0.0</td>\n",
       "      <td>0.0</td>\n",
       "      <td>0.0</td>\n",
       "      <td>0.0</td>\n",
       "      <td>4.0</td>\n",
       "      <td>5</td>\n",
       "      <td>0.056055</td>\n",
       "    </tr>\n",
       "    <tr>\n",
       "      <th>WeblogInfo_30</th>\n",
       "      <td>49276.0</td>\n",
       "      <td>0.140088</td>\n",
       "      <td>0.471619</td>\n",
       "      <td>0.0</td>\n",
       "      <td>0.0</td>\n",
       "      <td>0.0</td>\n",
       "      <td>0.0</td>\n",
       "      <td>16.0</td>\n",
       "      <td>12</td>\n",
       "      <td>0.008551</td>\n",
       "    </tr>\n",
       "    <tr>\n",
       "      <th>ThirdParty_Info_Period5_10</th>\n",
       "      <td>45108.0</td>\n",
       "      <td>0.734681</td>\n",
       "      <td>1.381051</td>\n",
       "      <td>0.0</td>\n",
       "      <td>0.0</td>\n",
       "      <td>0.0</td>\n",
       "      <td>1.0</td>\n",
       "      <td>16.0</td>\n",
       "      <td>17</td>\n",
       "      <td>0.092413</td>\n",
       "    </tr>\n",
       "    <tr>\n",
       "      <th>ThirdParty_Info_Period6_10</th>\n",
       "      <td>36065.0</td>\n",
       "      <td>0.702177</td>\n",
       "      <td>1.344767</td>\n",
       "      <td>0.0</td>\n",
       "      <td>0.0</td>\n",
       "      <td>0.0</td>\n",
       "      <td>1.0</td>\n",
       "      <td>25.0</td>\n",
       "      <td>17</td>\n",
       "      <td>0.274361</td>\n",
       "    </tr>\n",
       "    <tr>\n",
       "      <th>WeblogInfo_36</th>\n",
       "      <td>49276.0</td>\n",
       "      <td>0.195207</td>\n",
       "      <td>0.773867</td>\n",
       "      <td>0.0</td>\n",
       "      <td>0.0</td>\n",
       "      <td>0.0</td>\n",
       "      <td>0.0</td>\n",
       "      <td>28.0</td>\n",
       "      <td>18</td>\n",
       "      <td>0.008551</td>\n",
       "    </tr>\n",
       "    <tr>\n",
       "      <th>ThirdParty_Info_Period3_10</th>\n",
       "      <td>49014.0</td>\n",
       "      <td>0.850063</td>\n",
       "      <td>1.480641</td>\n",
       "      <td>0.0</td>\n",
       "      <td>0.0</td>\n",
       "      <td>0.0</td>\n",
       "      <td>1.0</td>\n",
       "      <td>19.0</td>\n",
       "      <td>19</td>\n",
       "      <td>0.013823</td>\n",
       "    </tr>\n",
       "  </tbody>\n",
       "</table>\n",
       "</div>"
      ],
      "text/plain": [
       "                              count      mean       std  min  25%  50%  75%  \\\n",
       "target                      49701.0  0.074244  0.262170  0.0  0.0  0.0  0.0   \n",
       "UserInfo_10                 49701.0  0.310778  0.603639  0.0  0.0  0.0  0.0   \n",
       "SocialNetwork_17            49701.0  0.253415  0.437140  0.0  0.0  0.0  1.0   \n",
       "SocialNetwork_13            49701.0  0.219915  0.420269  0.0  0.0  0.0  0.0   \n",
       "WeblogInfo_2                46915.0  0.132687  0.359614  0.0  0.0  0.0  0.0   \n",
       "WeblogInfo_30               49276.0  0.140088  0.471619  0.0  0.0  0.0  0.0   \n",
       "ThirdParty_Info_Period5_10  45108.0  0.734681  1.381051  0.0  0.0  0.0  1.0   \n",
       "ThirdParty_Info_Period6_10  36065.0  0.702177  1.344767  0.0  0.0  0.0  1.0   \n",
       "WeblogInfo_36               49276.0  0.195207  0.773867  0.0  0.0  0.0  0.0   \n",
       "ThirdParty_Info_Period3_10  49014.0  0.850063  1.480641  0.0  0.0  0.0  1.0   \n",
       "\n",
       "                             max  nuniq  misssing_pct  \n",
       "target                       1.0      2      0.000000  \n",
       "UserInfo_10                  2.0      3      0.000000  \n",
       "SocialNetwork_17             3.0      4      0.000000  \n",
       "SocialNetwork_13             4.0      5      0.000000  \n",
       "WeblogInfo_2                 4.0      5      0.056055  \n",
       "WeblogInfo_30               16.0     12      0.008551  \n",
       "ThirdParty_Info_Period5_10  16.0     17      0.092413  \n",
       "ThirdParty_Info_Period6_10  25.0     17      0.274361  \n",
       "WeblogInfo_36               28.0     18      0.008551  \n",
       "ThirdParty_Info_Period3_10  19.0     19      0.013823  "
      ]
     },
     "execution_count": 29,
     "metadata": {},
     "output_type": "execute_result"
    }
   ],
   "source": [
    "# 数值型变量的描述性分析\n",
    "num_desc = data1.loc[:,num_col].describe().T.assign(nuniq = data1.loc[:,num_col].apply(lambda x:x.nunique()),\\\n",
    "                                         misssing_pct  =data1.loc[:,num_col].apply(lambda x:(len(x)-x.count())/len(x)))\\\n",
    "                              .sort_values('nuniq')\n",
    "num_desc.head(10)"
   ]
  },
  {
   "cell_type": "markdown",
   "metadata": {},
   "source": [
    "### 排序特征衍生 "
   ]
  },
  {
   "cell_type": "code",
   "execution_count": 30,
   "metadata": {},
   "outputs": [],
   "source": [
    "num_col2 = [col for col in num_col if col!='target']\n",
    "# 筛选出只有数值型变量的数据集\n",
    "num_data = data1.loc[:,num_col2]\n",
    "\n",
    "# 排序特征衍生\n",
    "for col in num_col2:\n",
    "    num_data['rank'+col] = num_data[col].rank(method='max')/num_data.shape[0]\n",
    "\n",
    "# 将排序特征转为单独的数据集\n",
    "rank_col = [col for col in num_data.columns if col not in num_col2]\n",
    "rank_df = num_data.loc[:,rank_col]"
   ]
  },
  {
   "cell_type": "markdown",
   "metadata": {},
   "source": [
    "### periods变量衍生 "
   ]
  },
  {
   "cell_type": "code",
   "execution_count": 31,
   "metadata": {},
   "outputs": [],
   "source": [
    "# 生成只包含periods的临时表\n",
    "periods_col = [i for i in num_col2 if i.find('Period')>0]\n",
    "periods_col2 = periods_col+['target']\n",
    "periods_data = data1.loc[:,periods_col2]"
   ]
  },
  {
   "cell_type": "code",
   "execution_count": 32,
   "metadata": {},
   "outputs": [
    {
     "data": {
      "text/html": [
       "<div>\n",
       "<style scoped>\n",
       "    .dataframe tbody tr th:only-of-type {\n",
       "        vertical-align: middle;\n",
       "    }\n",
       "\n",
       "    .dataframe tbody tr th {\n",
       "        vertical-align: top;\n",
       "    }\n",
       "\n",
       "    .dataframe thead th {\n",
       "        text-align: right;\n",
       "    }\n",
       "</style>\n",
       "<table border=\"1\" class=\"dataframe\">\n",
       "  <thead>\n",
       "    <tr style=\"text-align: right;\">\n",
       "      <th></th>\n",
       "      <th>ThirdParty_Info_Period1_1</th>\n",
       "      <th>ThirdParty_Info_Period1_2</th>\n",
       "      <th>ThirdParty_Info_Period1_3</th>\n",
       "      <th>ThirdParty_Info_Period1_4</th>\n",
       "      <th>ThirdParty_Info_Period1_5</th>\n",
       "      <th>ThirdParty_Info_Period1_6</th>\n",
       "      <th>ThirdParty_Info_Period1_7</th>\n",
       "      <th>ThirdParty_Info_Period1_8</th>\n",
       "      <th>ThirdParty_Info_Period1_9</th>\n",
       "      <th>ThirdParty_Info_Period1_10</th>\n",
       "      <th>ThirdParty_Info_Period1_11</th>\n",
       "      <th>ThirdParty_Info_Period1_12</th>\n",
       "      <th>ThirdParty_Info_Period1_13</th>\n",
       "      <th>ThirdParty_Info_Period1_14</th>\n",
       "      <th>ThirdParty_Info_Period1_15</th>\n",
       "      <th>ThirdParty_Info_Period1_16</th>\n",
       "      <th>ThirdParty_Info_Period1_17</th>\n",
       "    </tr>\n",
       "  </thead>\n",
       "  <tbody>\n",
       "    <tr>\n",
       "      <th>0</th>\n",
       "      <td>10.0</td>\n",
       "      <td>47.0</td>\n",
       "      <td>167.0</td>\n",
       "      <td>0.0</td>\n",
       "      <td>25.0</td>\n",
       "      <td>65.0</td>\n",
       "      <td>68.0</td>\n",
       "      <td>34.0</td>\n",
       "      <td>2.0</td>\n",
       "      <td>1.0</td>\n",
       "      <td>10.0</td>\n",
       "      <td>63.0</td>\n",
       "      <td>27489.0</td>\n",
       "      <td>0.0</td>\n",
       "      <td>18900.0</td>\n",
       "      <td>6083.0</td>\n",
       "      <td>2506.0</td>\n",
       "    </tr>\n",
       "    <tr>\n",
       "      <th>1</th>\n",
       "      <td>0.0</td>\n",
       "      <td>0.0</td>\n",
       "      <td>68.0</td>\n",
       "      <td>105.0</td>\n",
       "      <td>40.0</td>\n",
       "      <td>2.0</td>\n",
       "      <td>132.0</td>\n",
       "      <td>39.0</td>\n",
       "      <td>2.0</td>\n",
       "      <td>1.0</td>\n",
       "      <td>8.0</td>\n",
       "      <td>0.0</td>\n",
       "      <td>3839.0</td>\n",
       "      <td>9558.0</td>\n",
       "      <td>49.0</td>\n",
       "      <td>9571.0</td>\n",
       "      <td>3777.0</td>\n",
       "    </tr>\n",
       "    <tr>\n",
       "      <th>2</th>\n",
       "      <td>1.0</td>\n",
       "      <td>2.0</td>\n",
       "      <td>50.0</td>\n",
       "      <td>50.0</td>\n",
       "      <td>49.0</td>\n",
       "      <td>0.0</td>\n",
       "      <td>78.0</td>\n",
       "      <td>22.0</td>\n",
       "      <td>0.0</td>\n",
       "      <td>0.0</td>\n",
       "      <td>7.0</td>\n",
       "      <td>0.0</td>\n",
       "      <td>3578.0</td>\n",
       "      <td>5360.0</td>\n",
       "      <td>0.0</td>\n",
       "      <td>4646.0</td>\n",
       "      <td>4292.0</td>\n",
       "    </tr>\n",
       "    <tr>\n",
       "      <th>3</th>\n",
       "      <td>9.0</td>\n",
       "      <td>54.0</td>\n",
       "      <td>56.0</td>\n",
       "      <td>125.0</td>\n",
       "      <td>38.0</td>\n",
       "      <td>0.0</td>\n",
       "      <td>136.0</td>\n",
       "      <td>45.0</td>\n",
       "      <td>2.0</td>\n",
       "      <td>1.0</td>\n",
       "      <td>9.0</td>\n",
       "      <td>0.0</td>\n",
       "      <td>3805.0</td>\n",
       "      <td>9765.0</td>\n",
       "      <td>0.0</td>\n",
       "      <td>10461.0</td>\n",
       "      <td>3109.0</td>\n",
       "    </tr>\n",
       "    <tr>\n",
       "      <th>4</th>\n",
       "      <td>1.0</td>\n",
       "      <td>5.0</td>\n",
       "      <td>39.0</td>\n",
       "      <td>34.0</td>\n",
       "      <td>36.0</td>\n",
       "      <td>73.0</td>\n",
       "      <td>0.0</td>\n",
       "      <td>0.0</td>\n",
       "      <td>1.0</td>\n",
       "      <td>1.0</td>\n",
       "      <td>5.0</td>\n",
       "      <td>0.0</td>\n",
       "      <td>561.0</td>\n",
       "      <td>792.0</td>\n",
       "      <td>1353.0</td>\n",
       "      <td>0.0</td>\n",
       "      <td>0.0</td>\n",
       "    </tr>\n",
       "  </tbody>\n",
       "</table>\n",
       "</div>"
      ],
      "text/plain": [
       "   ThirdParty_Info_Period1_1  ThirdParty_Info_Period1_2  \\\n",
       "0                       10.0                       47.0   \n",
       "1                        0.0                        0.0   \n",
       "2                        1.0                        2.0   \n",
       "3                        9.0                       54.0   \n",
       "4                        1.0                        5.0   \n",
       "\n",
       "   ThirdParty_Info_Period1_3  ThirdParty_Info_Period1_4  \\\n",
       "0                      167.0                        0.0   \n",
       "1                       68.0                      105.0   \n",
       "2                       50.0                       50.0   \n",
       "3                       56.0                      125.0   \n",
       "4                       39.0                       34.0   \n",
       "\n",
       "   ThirdParty_Info_Period1_5  ThirdParty_Info_Period1_6  \\\n",
       "0                       25.0                       65.0   \n",
       "1                       40.0                        2.0   \n",
       "2                       49.0                        0.0   \n",
       "3                       38.0                        0.0   \n",
       "4                       36.0                       73.0   \n",
       "\n",
       "   ThirdParty_Info_Period1_7  ThirdParty_Info_Period1_8  \\\n",
       "0                       68.0                       34.0   \n",
       "1                      132.0                       39.0   \n",
       "2                       78.0                       22.0   \n",
       "3                      136.0                       45.0   \n",
       "4                        0.0                        0.0   \n",
       "\n",
       "   ThirdParty_Info_Period1_9  ThirdParty_Info_Period1_10  \\\n",
       "0                        2.0                         1.0   \n",
       "1                        2.0                         1.0   \n",
       "2                        0.0                         0.0   \n",
       "3                        2.0                         1.0   \n",
       "4                        1.0                         1.0   \n",
       "\n",
       "   ThirdParty_Info_Period1_11  ThirdParty_Info_Period1_12  \\\n",
       "0                        10.0                        63.0   \n",
       "1                         8.0                         0.0   \n",
       "2                         7.0                         0.0   \n",
       "3                         9.0                         0.0   \n",
       "4                         5.0                         0.0   \n",
       "\n",
       "   ThirdParty_Info_Period1_13  ThirdParty_Info_Period1_14  \\\n",
       "0                     27489.0                         0.0   \n",
       "1                      3839.0                      9558.0   \n",
       "2                      3578.0                      5360.0   \n",
       "3                      3805.0                      9765.0   \n",
       "4                       561.0                       792.0   \n",
       "\n",
       "   ThirdParty_Info_Period1_15  ThirdParty_Info_Period1_16  \\\n",
       "0                     18900.0                      6083.0   \n",
       "1                        49.0                      9571.0   \n",
       "2                         0.0                      4646.0   \n",
       "3                         0.0                     10461.0   \n",
       "4                      1353.0                         0.0   \n",
       "\n",
       "   ThirdParty_Info_Period1_17  \n",
       "0                      2506.0  \n",
       "1                      3777.0  \n",
       "2                      4292.0  \n",
       "3                      3109.0  \n",
       "4                         0.0  "
      ]
     },
     "execution_count": 32,
     "metadata": {},
     "output_type": "execute_result"
    }
   ],
   "source": [
    "# 观察包含period1所有字段的数据，发现字段之间量级差异比较大，可能代表不同的含义，不适合做衍生\n",
    "periods1_col = [col for col in periods_col if col.find('Period1')>0]\n",
    "periods_data.loc[:,periods1_col].head()"
   ]
  },
  {
   "cell_type": "code",
   "execution_count": 33,
   "metadata": {},
   "outputs": [
    {
     "data": {
      "text/html": [
       "<div>\n",
       "<style scoped>\n",
       "    .dataframe tbody tr th:only-of-type {\n",
       "        vertical-align: middle;\n",
       "    }\n",
       "\n",
       "    .dataframe tbody tr th {\n",
       "        vertical-align: top;\n",
       "    }\n",
       "\n",
       "    .dataframe thead th {\n",
       "        text-align: right;\n",
       "    }\n",
       "</style>\n",
       "<table border=\"1\" class=\"dataframe\">\n",
       "  <thead>\n",
       "    <tr style=\"text-align: right;\">\n",
       "      <th></th>\n",
       "      <th>ThirdParty_Info_Period1_1</th>\n",
       "      <th>ThirdParty_Info_Period2_1</th>\n",
       "      <th>ThirdParty_Info_Period3_1</th>\n",
       "      <th>ThirdParty_Info_Period4_1</th>\n",
       "      <th>ThirdParty_Info_Period5_1</th>\n",
       "      <th>ThirdParty_Info_Period6_1</th>\n",
       "    </tr>\n",
       "  </thead>\n",
       "  <tbody>\n",
       "    <tr>\n",
       "      <th>0</th>\n",
       "      <td>10.0</td>\n",
       "      <td>25.0</td>\n",
       "      <td>36.0</td>\n",
       "      <td>4.0</td>\n",
       "      <td>0.0</td>\n",
       "      <td>0.0</td>\n",
       "    </tr>\n",
       "    <tr>\n",
       "      <th>1</th>\n",
       "      <td>0.0</td>\n",
       "      <td>7.0</td>\n",
       "      <td>1.0</td>\n",
       "      <td>0.0</td>\n",
       "      <td>0.0</td>\n",
       "      <td>NaN</td>\n",
       "    </tr>\n",
       "    <tr>\n",
       "      <th>2</th>\n",
       "      <td>1.0</td>\n",
       "      <td>0.0</td>\n",
       "      <td>1.0</td>\n",
       "      <td>14.0</td>\n",
       "      <td>1.0</td>\n",
       "      <td>0.0</td>\n",
       "    </tr>\n",
       "    <tr>\n",
       "      <th>3</th>\n",
       "      <td>9.0</td>\n",
       "      <td>6.0</td>\n",
       "      <td>2.0</td>\n",
       "      <td>25.0</td>\n",
       "      <td>9.0</td>\n",
       "      <td>11.0</td>\n",
       "    </tr>\n",
       "    <tr>\n",
       "      <th>4</th>\n",
       "      <td>1.0</td>\n",
       "      <td>8.0</td>\n",
       "      <td>3.0</td>\n",
       "      <td>0.0</td>\n",
       "      <td>0.0</td>\n",
       "      <td>NaN</td>\n",
       "    </tr>\n",
       "  </tbody>\n",
       "</table>\n",
       "</div>"
      ],
      "text/plain": [
       "   ThirdParty_Info_Period1_1  ThirdParty_Info_Period2_1  \\\n",
       "0                       10.0                       25.0   \n",
       "1                        0.0                        7.0   \n",
       "2                        1.0                        0.0   \n",
       "3                        9.0                        6.0   \n",
       "4                        1.0                        8.0   \n",
       "\n",
       "   ThirdParty_Info_Period3_1  ThirdParty_Info_Period4_1  \\\n",
       "0                       36.0                        4.0   \n",
       "1                        1.0                        0.0   \n",
       "2                        1.0                       14.0   \n",
       "3                        2.0                       25.0   \n",
       "4                        3.0                        0.0   \n",
       "\n",
       "   ThirdParty_Info_Period5_1  ThirdParty_Info_Period6_1  \n",
       "0                        0.0                        0.0  \n",
       "1                        0.0                        NaN  \n",
       "2                        1.0                        0.0  \n",
       "3                        9.0                       11.0  \n",
       "4                        0.0                        NaN  "
      ]
     },
     "execution_count": 33,
     "metadata": {},
     "output_type": "execute_result"
    }
   ],
   "source": [
    "# 观察后缀都为1的字段，发现字段数据的量级基本一致，可以对其做min,max,avg等统计值的衍生\n",
    "period_1_col=[]\n",
    "for i in range(0,102,17):\n",
    "    col = periods_col[i]\n",
    "    period_1_col.append(col)\n",
    "periods_data.loc[:,period_1_col].head()"
   ]
  },
  {
   "cell_type": "code",
   "execution_count": 34,
   "metadata": {},
   "outputs": [],
   "source": [
    "p_num_col=[]\n",
    "# 将Period变量按照后缀数字存储成嵌套列表\n",
    "for i in range(0,17,1):\n",
    "    p_col=[]\n",
    "    for j in range(i,102,17):\n",
    "        col = periods_col[j]\n",
    "        p_col.append(col)\n",
    "    p_num_col.append(p_col)"
   ]
  },
  {
   "cell_type": "code",
   "execution_count": 35,
   "metadata": {},
   "outputs": [],
   "source": [
    "# min,max,avg等统计值的衍生，并将衍生后的特征存成单独的数据集\n",
    "periods_data = periods_data.fillna(0)\n",
    "periods_fea_data=pd.DataFrame()\n",
    "for j,p_list in zip(range(1,18,1),p_num_col):\n",
    "    p_data = periods_data.loc[:,p_list]\n",
    "    period_min=[]\n",
    "    period_max=[]\n",
    "    period_avg=[]\n",
    "    for i in range(periods_data.shape[0]):\n",
    "        a = p_data.iloc[i]\n",
    "        period_min.append(np.min(a))\n",
    "        period_max.append(np.max(a))\n",
    "        period_avg.append(np.average(a))\n",
    "    periods_fea_data['periods_'+str(j)+'_min'] = period_min\n",
    "    periods_fea_data['periods_'+str(j)+'_max'] = period_max\n",
    "    periods_fea_data['periods_'+str(j)+'_avg'] = period_avg"
   ]
  },
  {
   "cell_type": "markdown",
   "metadata": {},
   "source": [
    "------"
   ]
  },
  {
   "cell_type": "code",
   "execution_count": 46,
   "metadata": {},
   "outputs": [],
   "source": [
    "# 保存特征衍生后的数据集至本地\n",
    "data1.to_csv('../魔镜杯数据/data1_process.csv',encoding='gb18030',index=False)\n",
    "rank_df.to_csv('../魔镜杯数据/rank_feature.csv',encoding='gbk',index=False)\n",
    "periods_fea_data.to_csv('../魔镜杯数据/periods_feature.csv',encoding='gbk',index=False)"
   ]
  },
  {
   "cell_type": "markdown",
   "metadata": {},
   "source": [
    "# 修改信息表"
   ]
  },
  {
   "cell_type": "raw",
   "metadata": {},
   "source": [
    "衍生的变量\n",
    "1.最近的修改时间距离成交时间差\n",
    "2.修改信息的总次数\n",
    "3.每种信息修改的次数\n",
    "4.按照日期修改的次数"
   ]
  },
  {
   "cell_type": "code",
   "execution_count": 111,
   "metadata": {},
   "outputs": [],
   "source": [
    "df2 = pd.read_csv('data_input2.csv',encoding='gbk')"
   ]
  },
  {
   "cell_type": "code",
   "execution_count": 112,
   "metadata": {},
   "outputs": [],
   "source": [
    "# 最近的修改时间距离成交时间差\n",
    "# 时间格式的转换\n",
    "df2['ListingInfo1'] = pd.to_datetime(df2['ListingInfo1'])\n",
    "df2['UserupdateInfo2'] = pd.to_datetime(df2['UserupdateInfo2'])"
   ]
  },
  {
   "cell_type": "code",
   "execution_count": 113,
   "metadata": {},
   "outputs": [],
   "source": [
    "# 计算时间差\n",
    "time_span = df2.groupby('Idx',as_index=False).agg({'UserupdateInfo2':np.max,'ListingInfo1':np.max})\n",
    "time_span['update_timespan'] = time_span['ListingInfo1']-time_span['UserupdateInfo2']\n",
    "time_span['update_timespan'] = time_span['update_timespan'].map(lambda x:str(x))\n",
    "time_span['update_timespan'] = time_span['update_timespan'].map(lambda x:int(x[:x.find('d')]))\n",
    "time_span = time_span[['Idx','update_timespan']]"
   ]
  },
  {
   "cell_type": "code",
   "execution_count": 116,
   "metadata": {},
   "outputs": [],
   "source": [
    "# 将UserupdateInfo1里的字符改为小写形式\n",
    "df2['UserupdateInfo1'] = df2.UserupdateInfo1.map(lambda x:x.lower())\n",
    "# 根据Idx计算UserupdateInfo2的非重复计数\n",
    "group = df2.groupby(['Idx','UserupdateInfo1'],as_index=False).agg({'UserupdateInfo2':pd.Series.nunique})"
   ]
  },
  {
   "cell_type": "code",
   "execution_count": 119,
   "metadata": {},
   "outputs": [
    {
     "data": {
      "text/html": [
       "<div>\n",
       "<style scoped>\n",
       "    .dataframe tbody tr th:only-of-type {\n",
       "        vertical-align: middle;\n",
       "    }\n",
       "\n",
       "    .dataframe tbody tr th {\n",
       "        vertical-align: top;\n",
       "    }\n",
       "\n",
       "    .dataframe thead th {\n",
       "        text-align: right;\n",
       "    }\n",
       "</style>\n",
       "<table border=\"1\" class=\"dataframe\">\n",
       "  <thead>\n",
       "    <tr style=\"text-align: right;\">\n",
       "      <th></th>\n",
       "      <th>Idx</th>\n",
       "      <th>_age</th>\n",
       "      <th>_bussinessaddress</th>\n",
       "      <th>_byuserid</th>\n",
       "      <th>_cityid</th>\n",
       "      <th>_companyaddress</th>\n",
       "      <th>_companyname</th>\n",
       "      <th>_companyphone</th>\n",
       "      <th>_companysizeid</th>\n",
       "      <th>_companytypeid</th>\n",
       "      <th>...</th>\n",
       "      <th>_residencetypeid</th>\n",
       "      <th>_residenceyears</th>\n",
       "      <th>_schoolname</th>\n",
       "      <th>_secondemail</th>\n",
       "      <th>_secondmobile</th>\n",
       "      <th>_turnover</th>\n",
       "      <th>_userid</th>\n",
       "      <th>_webshoptypeid</th>\n",
       "      <th>_webshopurl</th>\n",
       "      <th>_workyears</th>\n",
       "    </tr>\n",
       "  </thead>\n",
       "  <tbody>\n",
       "    <tr>\n",
       "      <th>0</th>\n",
       "      <td>3</td>\n",
       "      <td>NaN</td>\n",
       "      <td>NaN</td>\n",
       "      <td>NaN</td>\n",
       "      <td>NaN</td>\n",
       "      <td>NaN</td>\n",
       "      <td>NaN</td>\n",
       "      <td>NaN</td>\n",
       "      <td>NaN</td>\n",
       "      <td>NaN</td>\n",
       "      <td>...</td>\n",
       "      <td>1.0</td>\n",
       "      <td>1.0</td>\n",
       "      <td>NaN</td>\n",
       "      <td>NaN</td>\n",
       "      <td>NaN</td>\n",
       "      <td>NaN</td>\n",
       "      <td>NaN</td>\n",
       "      <td>NaN</td>\n",
       "      <td>NaN</td>\n",
       "      <td>NaN</td>\n",
       "    </tr>\n",
       "    <tr>\n",
       "      <th>0</th>\n",
       "      <td>4</td>\n",
       "      <td>NaN</td>\n",
       "      <td>NaN</td>\n",
       "      <td>NaN</td>\n",
       "      <td>NaN</td>\n",
       "      <td>NaN</td>\n",
       "      <td>NaN</td>\n",
       "      <td>NaN</td>\n",
       "      <td>NaN</td>\n",
       "      <td>NaN</td>\n",
       "      <td>...</td>\n",
       "      <td>1.0</td>\n",
       "      <td>1.0</td>\n",
       "      <td>NaN</td>\n",
       "      <td>NaN</td>\n",
       "      <td>NaN</td>\n",
       "      <td>NaN</td>\n",
       "      <td>NaN</td>\n",
       "      <td>NaN</td>\n",
       "      <td>NaN</td>\n",
       "      <td>NaN</td>\n",
       "    </tr>\n",
       "    <tr>\n",
       "      <th>0</th>\n",
       "      <td>5</td>\n",
       "      <td>NaN</td>\n",
       "      <td>NaN</td>\n",
       "      <td>NaN</td>\n",
       "      <td>NaN</td>\n",
       "      <td>NaN</td>\n",
       "      <td>NaN</td>\n",
       "      <td>NaN</td>\n",
       "      <td>NaN</td>\n",
       "      <td>NaN</td>\n",
       "      <td>...</td>\n",
       "      <td>1.0</td>\n",
       "      <td>1.0</td>\n",
       "      <td>NaN</td>\n",
       "      <td>NaN</td>\n",
       "      <td>NaN</td>\n",
       "      <td>NaN</td>\n",
       "      <td>NaN</td>\n",
       "      <td>NaN</td>\n",
       "      <td>NaN</td>\n",
       "      <td>NaN</td>\n",
       "    </tr>\n",
       "    <tr>\n",
       "      <th>0</th>\n",
       "      <td>8</td>\n",
       "      <td>NaN</td>\n",
       "      <td>NaN</td>\n",
       "      <td>NaN</td>\n",
       "      <td>NaN</td>\n",
       "      <td>NaN</td>\n",
       "      <td>NaN</td>\n",
       "      <td>NaN</td>\n",
       "      <td>NaN</td>\n",
       "      <td>NaN</td>\n",
       "      <td>...</td>\n",
       "      <td>1.0</td>\n",
       "      <td>1.0</td>\n",
       "      <td>NaN</td>\n",
       "      <td>NaN</td>\n",
       "      <td>NaN</td>\n",
       "      <td>NaN</td>\n",
       "      <td>NaN</td>\n",
       "      <td>NaN</td>\n",
       "      <td>NaN</td>\n",
       "      <td>NaN</td>\n",
       "    </tr>\n",
       "    <tr>\n",
       "      <th>0</th>\n",
       "      <td>11</td>\n",
       "      <td>NaN</td>\n",
       "      <td>NaN</td>\n",
       "      <td>NaN</td>\n",
       "      <td>NaN</td>\n",
       "      <td>NaN</td>\n",
       "      <td>NaN</td>\n",
       "      <td>NaN</td>\n",
       "      <td>NaN</td>\n",
       "      <td>NaN</td>\n",
       "      <td>...</td>\n",
       "      <td>1.0</td>\n",
       "      <td>1.0</td>\n",
       "      <td>NaN</td>\n",
       "      <td>NaN</td>\n",
       "      <td>NaN</td>\n",
       "      <td>NaN</td>\n",
       "      <td>NaN</td>\n",
       "      <td>NaN</td>\n",
       "      <td>NaN</td>\n",
       "      <td>NaN</td>\n",
       "    </tr>\n",
       "  </tbody>\n",
       "</table>\n",
       "<p>5 rows × 56 columns</p>\n",
       "</div>"
      ],
      "text/plain": [
       "   Idx  _age  _bussinessaddress  _byuserid  _cityid  _companyaddress  \\\n",
       "0    3   NaN                NaN        NaN      NaN              NaN   \n",
       "0    4   NaN                NaN        NaN      NaN              NaN   \n",
       "0    5   NaN                NaN        NaN      NaN              NaN   \n",
       "0    8   NaN                NaN        NaN      NaN              NaN   \n",
       "0   11   NaN                NaN        NaN      NaN              NaN   \n",
       "\n",
       "   _companyname  _companyphone  _companysizeid  _companytypeid     ...      \\\n",
       "0           NaN            NaN             NaN             NaN     ...       \n",
       "0           NaN            NaN             NaN             NaN     ...       \n",
       "0           NaN            NaN             NaN             NaN     ...       \n",
       "0           NaN            NaN             NaN             NaN     ...       \n",
       "0           NaN            NaN             NaN             NaN     ...       \n",
       "\n",
       "   _residencetypeid  _residenceyears  _schoolname  _secondemail  \\\n",
       "0               1.0              1.0          NaN           NaN   \n",
       "0               1.0              1.0          NaN           NaN   \n",
       "0               1.0              1.0          NaN           NaN   \n",
       "0               1.0              1.0          NaN           NaN   \n",
       "0               1.0              1.0          NaN           NaN   \n",
       "\n",
       "   _secondmobile  _turnover  _userid  _webshoptypeid  _webshopurl  _workyears  \n",
       "0            NaN        NaN      NaN             NaN          NaN         NaN  \n",
       "0            NaN        NaN      NaN             NaN          NaN         NaN  \n",
       "0            NaN        NaN      NaN             NaN          NaN         NaN  \n",
       "0            NaN        NaN      NaN             NaN          NaN         NaN  \n",
       "0            NaN        NaN      NaN             NaN          NaN         NaN  \n",
       "\n",
       "[5 rows x 56 columns]"
      ]
     },
     "execution_count": 119,
     "metadata": {},
     "output_type": "execute_result"
    }
   ],
   "source": [
    "# 每种信息修改的次数的衍生\n",
    "user_df_list=[]\n",
    "for idx in group.Idx.unique():\n",
    "    user_df  = group[group.Idx==idx]\n",
    "    change_cate = list(user_df.UserupdateInfo1)\n",
    "    change_cnt = list(user_df.UserupdateInfo2)\n",
    "    user_col  = ['Idx']+change_cate\n",
    "    user_value = [user_df.iloc[0]['Idx']]+change_cnt\n",
    "    user_df2 = pd.DataFrame(np.array(user_value).reshape(1,len(user_value)),columns=user_col)\n",
    "    user_df_list.append(user_df2)\n",
    "cate_change_df = pd.concat(user_df_list,axis=0)\n",
    "cate_change_df.head()"
   ]
  },
  {
   "cell_type": "code",
   "execution_count": 120,
   "metadata": {},
   "outputs": [
    {
     "data": {
      "text/plain": [
       "(49993, 56)"
      ]
     },
     "execution_count": 120,
     "metadata": {},
     "output_type": "execute_result"
    }
   ],
   "source": [
    "# 将cate_change_df里的空值填为0\n",
    "cate_change_df = cate_change_df.fillna(0)\n",
    "cate_change_df.shape"
   ]
  },
  {
   "cell_type": "code",
   "execution_count": 121,
   "metadata": {},
   "outputs": [
    {
     "data": {
      "text/html": [
       "<div>\n",
       "<style scoped>\n",
       "    .dataframe tbody tr th:only-of-type {\n",
       "        vertical-align: middle;\n",
       "    }\n",
       "\n",
       "    .dataframe tbody tr th {\n",
       "        vertical-align: top;\n",
       "    }\n",
       "\n",
       "    .dataframe thead th {\n",
       "        text-align: right;\n",
       "    }\n",
       "</style>\n",
       "<table border=\"1\" class=\"dataframe\">\n",
       "  <thead>\n",
       "    <tr style=\"text-align: right;\">\n",
       "      <th></th>\n",
       "      <th>Idx</th>\n",
       "      <th>update_time_cnt</th>\n",
       "      <th>update_all_cnt</th>\n",
       "    </tr>\n",
       "  </thead>\n",
       "  <tbody>\n",
       "    <tr>\n",
       "      <th>0</th>\n",
       "      <td>3</td>\n",
       "      <td>1</td>\n",
       "      <td>13</td>\n",
       "    </tr>\n",
       "    <tr>\n",
       "      <th>1</th>\n",
       "      <td>4</td>\n",
       "      <td>3</td>\n",
       "      <td>17</td>\n",
       "    </tr>\n",
       "    <tr>\n",
       "      <th>2</th>\n",
       "      <td>5</td>\n",
       "      <td>1</td>\n",
       "      <td>13</td>\n",
       "    </tr>\n",
       "    <tr>\n",
       "      <th>3</th>\n",
       "      <td>8</td>\n",
       "      <td>2</td>\n",
       "      <td>14</td>\n",
       "    </tr>\n",
       "    <tr>\n",
       "      <th>4</th>\n",
       "      <td>11</td>\n",
       "      <td>4</td>\n",
       "      <td>17</td>\n",
       "    </tr>\n",
       "  </tbody>\n",
       "</table>\n",
       "</div>"
      ],
      "text/plain": [
       "   Idx  update_time_cnt  update_all_cnt\n",
       "0    3                1              13\n",
       "1    4                3              17\n",
       "2    5                1              13\n",
       "3    8                2              14\n",
       "4   11                4              17"
      ]
     },
     "execution_count": 121,
     "metadata": {},
     "output_type": "execute_result"
    }
   ],
   "source": [
    "# 修改信息的总次数，按照日期修改的次数的衍生\n",
    "update_cnt = df2.groupby('Idx',as_index=False).agg({'UserupdateInfo2':pd.Series.nunique,\n",
    "                                                         'ListingInfo1':pd.Series.count}).\\\n",
    "                      rename(columns={'UserupdateInfo2':'update_time_cnt',\n",
    "                                      'ListingInfo1':'update_all_cnt'})\n",
    "update_cnt.head()"
   ]
  },
  {
   "cell_type": "code",
   "execution_count": 123,
   "metadata": {},
   "outputs": [
    {
     "data": {
      "text/html": [
       "<div>\n",
       "<style scoped>\n",
       "    .dataframe tbody tr th:only-of-type {\n",
       "        vertical-align: middle;\n",
       "    }\n",
       "\n",
       "    .dataframe tbody tr th {\n",
       "        vertical-align: top;\n",
       "    }\n",
       "\n",
       "    .dataframe thead th {\n",
       "        text-align: right;\n",
       "    }\n",
       "</style>\n",
       "<table border=\"1\" class=\"dataframe\">\n",
       "  <thead>\n",
       "    <tr style=\"text-align: right;\">\n",
       "      <th></th>\n",
       "      <th>Idx</th>\n",
       "      <th>update_timespan</th>\n",
       "      <th>_age</th>\n",
       "      <th>_bussinessaddress</th>\n",
       "      <th>_byuserid</th>\n",
       "      <th>_cityid</th>\n",
       "      <th>_companyaddress</th>\n",
       "      <th>_companyname</th>\n",
       "      <th>_companyphone</th>\n",
       "      <th>_companysizeid</th>\n",
       "      <th>...</th>\n",
       "      <th>_schoolname</th>\n",
       "      <th>_secondemail</th>\n",
       "      <th>_secondmobile</th>\n",
       "      <th>_turnover</th>\n",
       "      <th>_userid</th>\n",
       "      <th>_webshoptypeid</th>\n",
       "      <th>_webshopurl</th>\n",
       "      <th>_workyears</th>\n",
       "      <th>update_time_cnt</th>\n",
       "      <th>update_all_cnt</th>\n",
       "    </tr>\n",
       "  </thead>\n",
       "  <tbody>\n",
       "    <tr>\n",
       "      <th>0</th>\n",
       "      <td>3</td>\n",
       "      <td>67</td>\n",
       "      <td>0.0</td>\n",
       "      <td>0.0</td>\n",
       "      <td>0.0</td>\n",
       "      <td>0.0</td>\n",
       "      <td>0.0</td>\n",
       "      <td>0.0</td>\n",
       "      <td>0.0</td>\n",
       "      <td>0.0</td>\n",
       "      <td>...</td>\n",
       "      <td>0.0</td>\n",
       "      <td>0.0</td>\n",
       "      <td>0.0</td>\n",
       "      <td>0.0</td>\n",
       "      <td>0.0</td>\n",
       "      <td>0.0</td>\n",
       "      <td>0.0</td>\n",
       "      <td>0.0</td>\n",
       "      <td>1</td>\n",
       "      <td>13</td>\n",
       "    </tr>\n",
       "    <tr>\n",
       "      <th>1</th>\n",
       "      <td>4</td>\n",
       "      <td>0</td>\n",
       "      <td>0.0</td>\n",
       "      <td>0.0</td>\n",
       "      <td>0.0</td>\n",
       "      <td>0.0</td>\n",
       "      <td>0.0</td>\n",
       "      <td>0.0</td>\n",
       "      <td>0.0</td>\n",
       "      <td>0.0</td>\n",
       "      <td>...</td>\n",
       "      <td>0.0</td>\n",
       "      <td>0.0</td>\n",
       "      <td>0.0</td>\n",
       "      <td>0.0</td>\n",
       "      <td>0.0</td>\n",
       "      <td>0.0</td>\n",
       "      <td>0.0</td>\n",
       "      <td>0.0</td>\n",
       "      <td>3</td>\n",
       "      <td>17</td>\n",
       "    </tr>\n",
       "    <tr>\n",
       "      <th>2</th>\n",
       "      <td>5</td>\n",
       "      <td>14</td>\n",
       "      <td>0.0</td>\n",
       "      <td>0.0</td>\n",
       "      <td>0.0</td>\n",
       "      <td>0.0</td>\n",
       "      <td>0.0</td>\n",
       "      <td>0.0</td>\n",
       "      <td>0.0</td>\n",
       "      <td>0.0</td>\n",
       "      <td>...</td>\n",
       "      <td>0.0</td>\n",
       "      <td>0.0</td>\n",
       "      <td>0.0</td>\n",
       "      <td>0.0</td>\n",
       "      <td>0.0</td>\n",
       "      <td>0.0</td>\n",
       "      <td>0.0</td>\n",
       "      <td>0.0</td>\n",
       "      <td>1</td>\n",
       "      <td>13</td>\n",
       "    </tr>\n",
       "    <tr>\n",
       "      <th>3</th>\n",
       "      <td>8</td>\n",
       "      <td>2</td>\n",
       "      <td>0.0</td>\n",
       "      <td>0.0</td>\n",
       "      <td>0.0</td>\n",
       "      <td>0.0</td>\n",
       "      <td>0.0</td>\n",
       "      <td>0.0</td>\n",
       "      <td>0.0</td>\n",
       "      <td>0.0</td>\n",
       "      <td>...</td>\n",
       "      <td>0.0</td>\n",
       "      <td>0.0</td>\n",
       "      <td>0.0</td>\n",
       "      <td>0.0</td>\n",
       "      <td>0.0</td>\n",
       "      <td>0.0</td>\n",
       "      <td>0.0</td>\n",
       "      <td>0.0</td>\n",
       "      <td>2</td>\n",
       "      <td>14</td>\n",
       "    </tr>\n",
       "    <tr>\n",
       "      <th>4</th>\n",
       "      <td>11</td>\n",
       "      <td>0</td>\n",
       "      <td>0.0</td>\n",
       "      <td>0.0</td>\n",
       "      <td>0.0</td>\n",
       "      <td>0.0</td>\n",
       "      <td>0.0</td>\n",
       "      <td>0.0</td>\n",
       "      <td>0.0</td>\n",
       "      <td>0.0</td>\n",
       "      <td>...</td>\n",
       "      <td>0.0</td>\n",
       "      <td>0.0</td>\n",
       "      <td>0.0</td>\n",
       "      <td>0.0</td>\n",
       "      <td>0.0</td>\n",
       "      <td>0.0</td>\n",
       "      <td>0.0</td>\n",
       "      <td>0.0</td>\n",
       "      <td>4</td>\n",
       "      <td>17</td>\n",
       "    </tr>\n",
       "  </tbody>\n",
       "</table>\n",
       "<p>5 rows × 59 columns</p>\n",
       "</div>"
      ],
      "text/plain": [
       "   Idx  update_timespan  _age  _bussinessaddress  _byuserid  _cityid  \\\n",
       "0    3               67   0.0                0.0        0.0      0.0   \n",
       "1    4                0   0.0                0.0        0.0      0.0   \n",
       "2    5               14   0.0                0.0        0.0      0.0   \n",
       "3    8                2   0.0                0.0        0.0      0.0   \n",
       "4   11                0   0.0                0.0        0.0      0.0   \n",
       "\n",
       "   _companyaddress  _companyname  _companyphone  _companysizeid  \\\n",
       "0              0.0           0.0            0.0             0.0   \n",
       "1              0.0           0.0            0.0             0.0   \n",
       "2              0.0           0.0            0.0             0.0   \n",
       "3              0.0           0.0            0.0             0.0   \n",
       "4              0.0           0.0            0.0             0.0   \n",
       "\n",
       "        ...        _schoolname  _secondemail  _secondmobile  _turnover  \\\n",
       "0       ...                0.0           0.0            0.0        0.0   \n",
       "1       ...                0.0           0.0            0.0        0.0   \n",
       "2       ...                0.0           0.0            0.0        0.0   \n",
       "3       ...                0.0           0.0            0.0        0.0   \n",
       "4       ...                0.0           0.0            0.0        0.0   \n",
       "\n",
       "   _userid  _webshoptypeid  _webshopurl  _workyears  update_time_cnt  \\\n",
       "0      0.0             0.0          0.0         0.0                1   \n",
       "1      0.0             0.0          0.0         0.0                3   \n",
       "2      0.0             0.0          0.0         0.0                1   \n",
       "3      0.0             0.0          0.0         0.0                2   \n",
       "4      0.0             0.0          0.0         0.0                4   \n",
       "\n",
       "   update_all_cnt  \n",
       "0              13  \n",
       "1              17  \n",
       "2              13  \n",
       "3              14  \n",
       "4              17  \n",
       "\n",
       "[5 rows x 59 columns]"
      ]
     },
     "execution_count": 123,
     "metadata": {},
     "output_type": "execute_result"
    }
   ],
   "source": [
    "# 将三个衍生特征的临时表进行关联\n",
    "update_info = pd.merge(time_span,cate_change_df,on='Idx',how='left')\n",
    "update_info = pd.merge(update_info,update_cnt,on='Idx',how='left')\n",
    "update_info.head()"
   ]
  },
  {
   "cell_type": "code",
   "execution_count": 125,
   "metadata": {},
   "outputs": [],
   "source": [
    "# 保存数据至本地\n",
    "update_info.to_csv('../魔镜杯数据/update_feature.csv',encoding='gbk',index=False)"
   ]
  },
  {
   "cell_type": "markdown",
   "metadata": {},
   "source": [
    "#  登录信息表"
   ]
  },
  {
   "cell_type": "raw",
   "metadata": {},
   "source": [
    "衍生的变量\n",
    "1.累计登录次数\n",
    "2.登录时间的平均间隔\n",
    "3.最近一次的登录时间距离成交时间差"
   ]
  },
  {
   "cell_type": "code",
   "execution_count": 101,
   "metadata": {},
   "outputs": [],
   "source": [
    "df3 = pd.read_csv('data_input3.csv',encoding='gb18030')"
   ]
  },
  {
   "cell_type": "code",
   "execution_count": 102,
   "metadata": {},
   "outputs": [
    {
     "data": {
      "text/html": [
       "<div>\n",
       "<style scoped>\n",
       "    .dataframe tbody tr th:only-of-type {\n",
       "        vertical-align: middle;\n",
       "    }\n",
       "\n",
       "    .dataframe tbody tr th {\n",
       "        vertical-align: top;\n",
       "    }\n",
       "\n",
       "    .dataframe thead th {\n",
       "        text-align: right;\n",
       "    }\n",
       "</style>\n",
       "<table border=\"1\" class=\"dataframe\">\n",
       "  <thead>\n",
       "    <tr style=\"text-align: right;\">\n",
       "      <th></th>\n",
       "      <th>Idx</th>\n",
       "      <th>log_cnt</th>\n",
       "    </tr>\n",
       "  </thead>\n",
       "  <tbody>\n",
       "    <tr>\n",
       "      <th>0</th>\n",
       "      <td>3</td>\n",
       "      <td>26</td>\n",
       "    </tr>\n",
       "    <tr>\n",
       "      <th>1</th>\n",
       "      <td>4</td>\n",
       "      <td>11</td>\n",
       "    </tr>\n",
       "    <tr>\n",
       "      <th>2</th>\n",
       "      <td>5</td>\n",
       "      <td>11</td>\n",
       "    </tr>\n",
       "    <tr>\n",
       "      <th>3</th>\n",
       "      <td>8</td>\n",
       "      <td>125</td>\n",
       "    </tr>\n",
       "    <tr>\n",
       "      <th>4</th>\n",
       "      <td>11</td>\n",
       "      <td>30</td>\n",
       "    </tr>\n",
       "  </tbody>\n",
       "</table>\n",
       "</div>"
      ],
      "text/plain": [
       "   Idx  log_cnt\n",
       "0    3       26\n",
       "1    4       11\n",
       "2    5       11\n",
       "3    8      125\n",
       "4   11       30"
      ]
     },
     "execution_count": 102,
     "metadata": {},
     "output_type": "execute_result"
    }
   ],
   "source": [
    "# 累计登录次数\n",
    "log_cnt = df3.groupby('Idx',as_index=False).LogInfo3.count().rename(columns={'LogInfo3':'log_cnt'})\n",
    "log_cnt.head()"
   ]
  },
  {
   "cell_type": "code",
   "execution_count": 103,
   "metadata": {},
   "outputs": [
    {
     "data": {
      "text/html": [
       "<div>\n",
       "<style scoped>\n",
       "    .dataframe tbody tr th:only-of-type {\n",
       "        vertical-align: middle;\n",
       "    }\n",
       "\n",
       "    .dataframe tbody tr th {\n",
       "        vertical-align: top;\n",
       "    }\n",
       "\n",
       "    .dataframe thead th {\n",
       "        text-align: right;\n",
       "    }\n",
       "</style>\n",
       "<table border=\"1\" class=\"dataframe\">\n",
       "  <thead>\n",
       "    <tr style=\"text-align: right;\">\n",
       "      <th></th>\n",
       "      <th>Idx</th>\n",
       "      <th>log_timespan</th>\n",
       "    </tr>\n",
       "  </thead>\n",
       "  <tbody>\n",
       "    <tr>\n",
       "      <th>0</th>\n",
       "      <td>3</td>\n",
       "      <td>4</td>\n",
       "    </tr>\n",
       "    <tr>\n",
       "      <th>1</th>\n",
       "      <td>4</td>\n",
       "      <td>2</td>\n",
       "    </tr>\n",
       "    <tr>\n",
       "      <th>2</th>\n",
       "      <td>5</td>\n",
       "      <td>1</td>\n",
       "    </tr>\n",
       "    <tr>\n",
       "      <th>3</th>\n",
       "      <td>8</td>\n",
       "      <td>0</td>\n",
       "    </tr>\n",
       "    <tr>\n",
       "      <th>4</th>\n",
       "      <td>11</td>\n",
       "      <td>0</td>\n",
       "    </tr>\n",
       "  </tbody>\n",
       "</table>\n",
       "</div>"
      ],
      "text/plain": [
       "   Idx  log_timespan\n",
       "0    3             4\n",
       "1    4             2\n",
       "2    5             1\n",
       "3    8             0\n",
       "4   11             0"
      ]
     },
     "execution_count": 103,
     "metadata": {},
     "output_type": "execute_result"
    }
   ],
   "source": [
    "# 最近一次的登录时间距离当前时间差\n",
    "df3['Listinginfo1']=pd.to_datetime(df3.Listinginfo1)\n",
    "df3['LogInfo3'] = pd.to_datetime(df3.LogInfo3)\n",
    "time_log_span = df3.groupby('Idx',as_index=False).agg({'Listinginfo1':np.max,\n",
    "                                                       'LogInfo3':np.max})\n",
    "time_log_span['log_timespan'] = time_log_span['Listinginfo1']-time_log_span['LogInfo3']\n",
    "time_log_span['log_timespan'] = time_log_span['log_timespan'].map(lambda x:str(x))\n",
    "time_log_span['log_timespan'] = time_log_span['log_timespan'].map(lambda x:int(x[:x.find('d')]))\n",
    "time_log_span= time_log_span[['Idx','log_timespan']]\n",
    "time_log_span.head()"
   ]
  },
  {
   "cell_type": "code",
   "execution_count": 104,
   "metadata": {},
   "outputs": [],
   "source": [
    "# 登录时间的平均时间间隔\n",
    "df4  = df3.sort_values(by=['Idx','LogInfo3'],ascending=['True','True'])"
   ]
  },
  {
   "cell_type": "code",
   "execution_count": 105,
   "metadata": {},
   "outputs": [],
   "source": [
    "df4['LogInfo4'] = df4.groupby('Idx')['LogInfo3'].apply(lambda x:x.shift(1))"
   ]
  },
  {
   "cell_type": "code",
   "execution_count": 106,
   "metadata": {},
   "outputs": [],
   "source": [
    "df4['time_span'] = df4['LogInfo3']-df4['LogInfo4']\n",
    "df4['time_span'] = df4['time_span'].map(lambda x:str(x))\n",
    "df4 = df4.replace({'time_span':{'NaT':'0 days 00:00:00'}})\n",
    "df4['time_span'] = df4['time_span'].map(lambda x:int(x[:x.find('d')]))"
   ]
  },
  {
   "cell_type": "code",
   "execution_count": 107,
   "metadata": {},
   "outputs": [
    {
     "data": {
      "text/html": [
       "<div>\n",
       "<style scoped>\n",
       "    .dataframe tbody tr th:only-of-type {\n",
       "        vertical-align: middle;\n",
       "    }\n",
       "\n",
       "    .dataframe tbody tr th {\n",
       "        vertical-align: top;\n",
       "    }\n",
       "\n",
       "    .dataframe thead th {\n",
       "        text-align: right;\n",
       "    }\n",
       "</style>\n",
       "<table border=\"1\" class=\"dataframe\">\n",
       "  <thead>\n",
       "    <tr style=\"text-align: right;\">\n",
       "      <th></th>\n",
       "      <th>Idx</th>\n",
       "      <th>avg_log_timespan</th>\n",
       "    </tr>\n",
       "  </thead>\n",
       "  <tbody>\n",
       "    <tr>\n",
       "      <th>0</th>\n",
       "      <td>3</td>\n",
       "      <td>2.423077</td>\n",
       "    </tr>\n",
       "    <tr>\n",
       "      <th>1</th>\n",
       "      <td>4</td>\n",
       "      <td>0.636364</td>\n",
       "    </tr>\n",
       "    <tr>\n",
       "      <th>2</th>\n",
       "      <td>5</td>\n",
       "      <td>1.181818</td>\n",
       "    </tr>\n",
       "    <tr>\n",
       "      <th>3</th>\n",
       "      <td>8</td>\n",
       "      <td>0.096000</td>\n",
       "    </tr>\n",
       "    <tr>\n",
       "      <th>4</th>\n",
       "      <td>11</td>\n",
       "      <td>0.266667</td>\n",
       "    </tr>\n",
       "  </tbody>\n",
       "</table>\n",
       "</div>"
      ],
      "text/plain": [
       "   Idx  avg_log_timespan\n",
       "0    3          2.423077\n",
       "1    4          0.636364\n",
       "2    5          1.181818\n",
       "3    8          0.096000\n",
       "4   11          0.266667"
      ]
     },
     "execution_count": 107,
     "metadata": {},
     "output_type": "execute_result"
    }
   ],
   "source": [
    "avg_log_timespan = df4.groupby('Idx',as_index=False).time_span.mean().rename(columns={'time_span':'avg_log_timespan'})\n",
    "avg_log_timespan.head()"
   ]
  },
  {
   "cell_type": "code",
   "execution_count": 108,
   "metadata": {},
   "outputs": [
    {
     "data": {
      "text/html": [
       "<div>\n",
       "<style scoped>\n",
       "    .dataframe tbody tr th:only-of-type {\n",
       "        vertical-align: middle;\n",
       "    }\n",
       "\n",
       "    .dataframe tbody tr th {\n",
       "        vertical-align: top;\n",
       "    }\n",
       "\n",
       "    .dataframe thead th {\n",
       "        text-align: right;\n",
       "    }\n",
       "</style>\n",
       "<table border=\"1\" class=\"dataframe\">\n",
       "  <thead>\n",
       "    <tr style=\"text-align: right;\">\n",
       "      <th></th>\n",
       "      <th>Idx</th>\n",
       "      <th>log_cnt</th>\n",
       "      <th>log_timespan</th>\n",
       "      <th>avg_log_timespan</th>\n",
       "    </tr>\n",
       "  </thead>\n",
       "  <tbody>\n",
       "    <tr>\n",
       "      <th>0</th>\n",
       "      <td>3</td>\n",
       "      <td>26</td>\n",
       "      <td>4</td>\n",
       "      <td>2.423077</td>\n",
       "    </tr>\n",
       "    <tr>\n",
       "      <th>1</th>\n",
       "      <td>4</td>\n",
       "      <td>11</td>\n",
       "      <td>2</td>\n",
       "      <td>0.636364</td>\n",
       "    </tr>\n",
       "    <tr>\n",
       "      <th>2</th>\n",
       "      <td>5</td>\n",
       "      <td>11</td>\n",
       "      <td>1</td>\n",
       "      <td>1.181818</td>\n",
       "    </tr>\n",
       "    <tr>\n",
       "      <th>3</th>\n",
       "      <td>8</td>\n",
       "      <td>125</td>\n",
       "      <td>0</td>\n",
       "      <td>0.096000</td>\n",
       "    </tr>\n",
       "    <tr>\n",
       "      <th>4</th>\n",
       "      <td>11</td>\n",
       "      <td>30</td>\n",
       "      <td>0</td>\n",
       "      <td>0.266667</td>\n",
       "    </tr>\n",
       "  </tbody>\n",
       "</table>\n",
       "</div>"
      ],
      "text/plain": [
       "   Idx  log_cnt  log_timespan  avg_log_timespan\n",
       "0    3       26             4          2.423077\n",
       "1    4       11             2          0.636364\n",
       "2    5       11             1          1.181818\n",
       "3    8      125             0          0.096000\n",
       "4   11       30             0          0.266667"
      ]
     },
     "execution_count": 108,
     "metadata": {},
     "output_type": "execute_result"
    }
   ],
   "source": [
    "log_info = pd.merge(log_cnt,time_log_span,how='left',on='Idx')\n",
    "log_info = pd.merge(log_info,avg_log_timespan,how='left',on='Idx')\n",
    "log_info.head()"
   ]
  },
  {
   "cell_type": "code",
   "execution_count": 109,
   "metadata": {},
   "outputs": [],
   "source": [
    "log_info.to_csv('../魔蝎杯数据/log_info_feature.csv',encoding='gbk',index=False)"
   ]
  }
 ],
 "metadata": {
  "kernelspec": {
   "display_name": "Python 3",
   "language": "python",
   "name": "python3"
  },
  "language_info": {
   "codemirror_mode": {
    "name": "ipython",
    "version": 3
   },
   "file_extension": ".py",
   "mimetype": "text/x-python",
   "name": "python",
   "nbconvert_exporter": "python",
   "pygments_lexer": "ipython3",
   "version": "3.7.0"
  },
  "toc": {
   "base_numbering": 1,
   "nav_menu": {},
   "number_sections": true,
   "sideBar": true,
   "skip_h1_title": false,
   "title_cell": "Table of Contents",
   "title_sidebar": "Contents",
   "toc_cell": false,
   "toc_position": {
    "height": "calc(100% - 180px)",
    "left": "10px",
    "top": "150px",
    "width": "205.355px"
   },
   "toc_section_display": true,
   "toc_window_display": true
  }
 },
 "nbformat": 4,
 "nbformat_minor": 2
}
