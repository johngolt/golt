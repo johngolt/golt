{
 "cells": [
  {
   "cell_type": "code",
   "execution_count": 1,
   "metadata": {
    "ExecuteTime": {
     "end_time": "2019-09-05T08:32:46.989353Z",
     "start_time": "2019-09-05T08:32:45.025320Z"
    }
   },
   "outputs": [],
   "source": [
    "import numpy as np \n",
    "import math \n",
    "import pandas as pd \n",
    "pd.set_option('display.float_format',lambda x:'%.3f' % x)\n",
    "import matplotlib.pyplot as plt \n",
    "plt.style.use('ggplot')\n",
    "%matplotlib inline\n",
    "import seaborn as sns \n",
    "sns.set_palette('muted')\n",
    "sns.set_style('darkgrid')\n",
    "sns.set(font='SimHei')\n",
    "import warnings\n",
    "warnings.filterwarnings('ignore')\n",
    "path = 'C:/test/work/ppd/data'\n",
    "import lightgbm as lgb \n",
    "from lightgbm import plot_importance"
   ]
  },
  {
   "cell_type": "code",
   "execution_count": 2,
   "metadata": {
    "ExecuteTime": {
     "end_time": "2019-09-05T08:32:52.812456Z",
     "start_time": "2019-09-05T08:32:47.883642Z"
    }
   },
   "outputs": [],
   "source": [
    "# 导入feature_processing处理过后的数据\n",
    "data = pd.read_csv(path+'/data1_process.csv',encoding='gb18030')\n",
    "periods_df = pd.read_csv(path+'/periods_feature.csv',encoding='gbk')\n",
    "rank_df = pd.read_csv(path+'/rank_feature.csv',encoding='gbk')\n",
    "update_info = pd.read_csv(path+'/update_feature.csv',encoding='gbk')\n",
    "log_df = pd.read_csv(path+'/log_info_feature.csv',encoding='gbk')"
   ]
  },
  {
   "cell_type": "code",
   "execution_count": 3,
   "metadata": {
    "ExecuteTime": {
     "end_time": "2019-09-05T08:32:54.870132Z",
     "start_time": "2019-09-05T08:32:54.159033Z"
    }
   },
   "outputs": [
    {
     "data": {
      "text/plain": [
       "(49101, 242)"
      ]
     },
     "execution_count": 3,
     "metadata": {},
     "output_type": "execute_result"
    }
   ],
   "source": [
    "# 合并衍生后的变量，data1不包含排序特征和periods衍生特征\n",
    "data1 = pd.merge(data,update_info,on='Idx',how='left')\n",
    "data1 = pd.merge(data1,log_df,on='Idx',how='left')\n",
    "data1.shape"
   ]
  },
  {
   "cell_type": "code",
   "execution_count": 4,
   "metadata": {
    "ExecuteTime": {
     "end_time": "2019-09-05T08:32:55.888296Z",
     "start_time": "2019-09-05T08:32:55.554190Z"
    },
    "scrolled": true
   },
   "outputs": [
    {
     "data": {
      "text/plain": [
       "(49101, 430)"
      ]
     },
     "execution_count": 4,
     "metadata": {},
     "output_type": "execute_result"
    }
   ],
   "source": [
    "# data2包含排序特征和periods衍生特征\n",
    "data2 = pd.concat([data1,rank_df,periods_df],axis=1)\n",
    "data2.shape"
   ]
  },
  {
   "cell_type": "code",
   "execution_count": 5,
   "metadata": {
    "ExecuteTime": {
     "end_time": "2019-09-05T08:34:48.768844Z",
     "start_time": "2019-09-05T08:33:03.471284Z"
    }
   },
   "outputs": [
    {
     "name": "stdout",
     "output_type": "stream",
     "text": [
      "Training until validation scores don't improve for 100 rounds.\n",
      "Early stopping, best iteration is:\n",
      "[164]\tvalid_0's binary_logloss: 0.239803\tvalid_0's auc: 0.746439\n",
      "Training until validation scores don't improve for 100 rounds.\n",
      "Early stopping, best iteration is:\n",
      "[164]\tvalid_0's binary_logloss: 0.239803\tvalid_0's auc: 0.746439\n",
      "Training until validation scores don't improve for 100 rounds.\n",
      "Early stopping, best iteration is:\n",
      "[164]\tvalid_0's binary_logloss: 0.239803\tvalid_0's auc: 0.746439\n",
      "Training until validation scores don't improve for 100 rounds.\n",
      "Early stopping, best iteration is:\n",
      "[164]\tvalid_0's binary_logloss: 0.239803\tvalid_0's auc: 0.746439\n",
      "Training until validation scores don't improve for 100 rounds.\n",
      "Early stopping, best iteration is:\n",
      "[164]\tvalid_0's binary_logloss: 0.239803\tvalid_0's auc: 0.746439\n",
      "Training until validation scores don't improve for 100 rounds.\n",
      "Early stopping, best iteration is:\n",
      "[164]\tvalid_0's binary_logloss: 0.239803\tvalid_0's auc: 0.746439\n",
      "Training until validation scores don't improve for 100 rounds.\n",
      "Early stopping, best iteration is:\n",
      "[164]\tvalid_0's binary_logloss: 0.239803\tvalid_0's auc: 0.746439\n",
      "Training until validation scores don't improve for 100 rounds.\n",
      "Early stopping, best iteration is:\n",
      "[164]\tvalid_0's binary_logloss: 0.239803\tvalid_0's auc: 0.746439\n",
      "Training until validation scores don't improve for 100 rounds.\n",
      "Early stopping, best iteration is:\n",
      "[164]\tvalid_0's binary_logloss: 0.239803\tvalid_0's auc: 0.746439\n",
      "Training until validation scores don't improve for 100 rounds.\n",
      "Early stopping, best iteration is:\n",
      "[164]\tvalid_0's binary_logloss: 0.239803\tvalid_0's auc: 0.746439\n"
     ]
    },
    {
     "data": {
      "text/html": [
       "<div>\n",
       "<style scoped>\n",
       "    .dataframe tbody tr th:only-of-type {\n",
       "        vertical-align: middle;\n",
       "    }\n",
       "\n",
       "    .dataframe tbody tr th {\n",
       "        vertical-align: top;\n",
       "    }\n",
       "\n",
       "    .dataframe thead th {\n",
       "        text-align: right;\n",
       "    }\n",
       "</style>\n",
       "<table border=\"1\" class=\"dataframe\">\n",
       "  <thead>\n",
       "    <tr style=\"text-align: right;\">\n",
       "      <th></th>\n",
       "      <th>feature</th>\n",
       "      <th>fea_importance</th>\n",
       "      <th>norm_importance</th>\n",
       "      <th>cum_importance</th>\n",
       "    </tr>\n",
       "  </thead>\n",
       "  <tbody>\n",
       "    <tr>\n",
       "      <th>0</th>\n",
       "      <td>UserInfo_18</td>\n",
       "      <td>95.000</td>\n",
       "      <td>0.019</td>\n",
       "      <td>0.019</td>\n",
       "    </tr>\n",
       "    <tr>\n",
       "      <th>1</th>\n",
       "      <td>avg_log_timespan</td>\n",
       "      <td>83.000</td>\n",
       "      <td>0.017</td>\n",
       "      <td>0.036</td>\n",
       "    </tr>\n",
       "    <tr>\n",
       "      <th>2</th>\n",
       "      <td>ThirdParty_Info_Period2_5</td>\n",
       "      <td>75.000</td>\n",
       "      <td>0.015</td>\n",
       "      <td>0.051</td>\n",
       "    </tr>\n",
       "    <tr>\n",
       "      <th>3</th>\n",
       "      <td>ThirdParty_Info_Period3_5</td>\n",
       "      <td>73.000</td>\n",
       "      <td>0.015</td>\n",
       "      <td>0.066</td>\n",
       "    </tr>\n",
       "    <tr>\n",
       "      <th>4</th>\n",
       "      <td>WeblogInfo_6</td>\n",
       "      <td>72.000</td>\n",
       "      <td>0.015</td>\n",
       "      <td>0.081</td>\n",
       "    </tr>\n",
       "  </tbody>\n",
       "</table>\n",
       "</div>"
      ],
      "text/plain": [
       "                     feature  fea_importance  norm_importance  cum_importance\n",
       "0                UserInfo_18          95.000            0.019           0.019\n",
       "1           avg_log_timespan          83.000            0.017           0.036\n",
       "2  ThirdParty_Info_Period2_5          75.000            0.015           0.051\n",
       "3  ThirdParty_Info_Period3_5          73.000            0.015           0.066\n",
       "4               WeblogInfo_6          72.000            0.015           0.081"
      ]
     },
     "execution_count": 5,
     "metadata": {},
     "output_type": "execute_result"
    }
   ],
   "source": [
    "data_idx = data.Idx\n",
    "df1  =data1.drop(['Idx'],axis=1)# 删除Idx\n",
    "# 测试集训练集的划分\n",
    "train_fea = np.array(df1[df1.sample_status=='train'].drop(['sample_status','target'],axis=1))\n",
    "test_fea = np.array(df1[df1.sample_status=='test'].drop(['sample_status','target'],axis=1))\n",
    "train_label = np.array(df1[df1.sample_status=='train']['target']).reshape(-1,1)\n",
    "test_label = np.array(df1[df1.sample_status=='test']['target']).reshape(-1,1)\n",
    "\n",
    "\n",
    "fea_names = list(df1.drop(['sample_status','target'],axis=1).columns)# 特征名字存成列表\n",
    "feature_importance_values = np.zeros(len(fea_names)) # \n",
    "\n",
    "# 训练10个lightgbm，并对10个模型输出的feature_importances_取平均\n",
    "for _ in range(10):\n",
    "    model = lgb.LGBMClassifier(n_estimators=1000,learning_rate=0.05,n_jobs=-1,verbose = -1)\n",
    "    model.fit(train_fea,train_label,eval_metric='auc',\n",
    "             eval_set = [(test_fea, test_label)],\n",
    "             early_stopping_rounds=100,verbose = -1)\n",
    "    feature_importance_values += model.feature_importances_/10\n",
    "\n",
    "# 将feature_importance_values存成临时表\n",
    "fea_imp_df1 = pd.DataFrame({'feature':fea_names,\n",
    "                           'fea_importance':feature_importance_values})\n",
    "fea_imp_df1 = fea_imp_df1.sort_values('fea_importance',ascending=False).reset_index(drop=True)\n",
    "fea_imp_df1['norm_importance'] = fea_imp_df1['fea_importance']/fea_imp_df1['fea_importance'].sum() # 特征重要性value的归一化\n",
    "fea_imp_df1['cum_importance'] = np.cumsum(fea_imp_df1['norm_importance'])# 特征重要性value的累加值\n",
    "fea_imp_df1.head()"
   ]
  },
  {
   "cell_type": "code",
   "execution_count": 7,
   "metadata": {
    "ExecuteTime": {
     "end_time": "2019-09-05T08:35:20.271849Z",
     "start_time": "2019-09-05T08:35:19.742267Z"
    }
   },
   "outputs": [
    {
     "data": {
      "image/png": "[encoded data removed]",
      "text/plain": [
       "<Figure size 1152x360 with 2 Axes>"
      ]
     },
     "metadata": {},
     "output_type": "display_data"
    }
   ],
   "source": [
    "# 特征重要性可视化\n",
    "plt.figure(figsize=(16,5))\n",
    "plt.rcParams['font.sans-serif']=['SimHei']\n",
    "plt.style.use('ggplot')\n",
    "plt.subplot(1,2,1)\n",
    "plt.title('特征重要性')\n",
    "sns.barplot(data=fea_imp_df1.iloc[:10,:],x='norm_importance',y='feature')\n",
    "plt.subplot(1,2,2)\n",
    "plt.title('特征重要性累加图')\n",
    "plt.xlabel('特征个数')\n",
    "plt.ylabel('cum_importance')\n",
    "plt.plot(list(range(1, len(fea_names)+1)),fea_imp_df1['cum_importance'], 'r-')\n",
    "plt.show()"
   ]
  },
  {
   "cell_type": "code",
   "execution_count": 8,
   "metadata": {
    "ExecuteTime": {
     "end_time": "2019-09-05T08:35:32.167244Z",
     "start_time": "2019-09-05T08:35:32.107586Z"
    }
   },
   "outputs": [
    {
     "name": "stdout",
     "output_type": "stream",
     "text": [
      "特征重要性为0的变量个数为 ：50\n",
      "['_position', 'SocialNetwork_17', '_nickname', '_orderid', '_otherwebshoptype', '_phone', '_phonetype', '_secondemail', '_ppdaiaccount', '_provinceid', '_schoolname', 'SocialNetwork_12', '_relationshipid', '_webshopurl', '_residencetypeid', '_webshoptypeid', '_userid', '_secondmobile', 'is_jilin_userinfo7', 'is_zibo_UserInfo8', 'china_mobile', '_idaddress', 'is_zibo_UserInfo20', 'WeblogInfo_19_E', 'WeblogInfo_19_G', 'WeblogInfo_19_H', 'WeblogInfo_19_J', 'WeblogInfo_21_B', 'WeblogInfo_21_C', 'WeblogInfo_21_D', '_age', '_bussinessaddress', '_byuserid', '_cityid', '_companysizeid', '_companytypeid', '_contactid', '_creationdate', '_department', '_dormitoryphone', 'china_telecom', '_flag_uctobcp', '_flag_uctopvr', '_gender', '_graduatedate', '_graduateschool', '_hasbuycar', '_hasppdaiaccount', '_hassborgjj', '_hasbusinesslicense']\n"
     ]
    }
   ],
   "source": [
    "# 剔除特征重要性为0的变量\n",
    "zero_imp_col = list(fea_imp_df1[fea_imp_df1.fea_importance==0].feature)\n",
    "fea_imp_df11 = fea_imp_df1[~(fea_imp_df1.feature.isin(zero_imp_col))]\n",
    "print('特征重要性为0的变量个数为 ：{}'.format(len(zero_imp_col)))\n",
    "print(zero_imp_col)"
   ]
  },
  {
   "cell_type": "code",
   "execution_count": 9,
   "metadata": {
    "ExecuteTime": {
     "end_time": "2019-09-05T08:35:33.907963Z",
     "start_time": "2019-09-05T08:35:33.899984Z"
    }
   },
   "outputs": [
    {
     "name": "stdout",
     "output_type": "stream",
     "text": [
      "特征重要性比较弱的变量个数为：30\n",
      "['WeblogInfo_33', '中国电信 ', 'is_zibo_UserInfo4', 'WeblogInfo_27', '_companyname', '_companyaddress', 'china_unicom', '_residenceaddress', '_districtid', 'is_jilin_userinfo19', 'is_sichuan_userinfo7', 'UserInfo_13', '_idnumber', 'is_chengdu_UserInfo20', '_incomefrom', '_marriagestatusid', 'is_hunan_userinfo7', '_regstepid', '_residencephone', '_residenceyears', '_iscash', 'WeblogInfo_36', 'is_yantai_UserInfo2', 'is_chengdu_UserInfo4', 'is_sichuan_userinfo19', 'is_weifang_UserInfo20', 'WeblogInfo_21_A', '_workyears', '中国联通 ', 'WeblogInfo_19_D']\n"
     ]
    }
   ],
   "source": [
    "# 剔除特征重要性比较弱的变量\n",
    "low_imp_col = list(fea_imp_df11[fea_imp_df11.cum_importance>=0.99].feature)\n",
    "print('特征重要性比较弱的变量个数为：{}'.format(len(low_imp_col)))\n",
    "print(low_imp_col)"
   ]
  },
  {
   "cell_type": "code",
   "execution_count": 10,
   "metadata": {
    "ExecuteTime": {
     "end_time": "2019-09-05T08:35:36.176193Z",
     "start_time": "2019-09-05T08:35:36.111366Z"
    }
   },
   "outputs": [
    {
     "data": {
      "text/plain": [
       "(49101, 161)"
      ]
     },
     "execution_count": 10,
     "metadata": {},
     "output_type": "execute_result"
    }
   ],
   "source": [
    "# 删除特征重要性为0和比较弱的特征\n",
    "drop_imp_col = zero_imp_col+low_imp_col\n",
    "mydf1 = df1.drop(drop_imp_col,axis=1)\n",
    "mydf1.shape"
   ]
  },
  {
   "cell_type": "code",
   "execution_count": 11,
   "metadata": {
    "ExecuteTime": {
     "end_time": "2019-09-05T08:35:48.682236Z",
     "start_time": "2019-09-05T08:35:37.924048Z"
    }
   },
   "outputs": [],
   "source": [
    "# 加上训练集测试集状态，保存数据\n",
    "sample_status = list(df1.sample_status)\n",
    "mydf1['sample_status'] = sample_status\n",
    "mydf1['Idx'] = data_idx\n",
    "mydf1.to_csv(path+'/feature_select_data1.csv',encoding='gb18030',index=False)"
   ]
  },
  {
   "cell_type": "code",
   "execution_count": null,
   "metadata": {},
   "outputs": [],
   "source": []
  }
 ],
 "metadata": {
  "kernelspec": {
   "display_name": "Python 3",
   "language": "python",
   "name": "python3"
  },
  "language_info": {
   "codemirror_mode": {
    "name": "ipython",
    "version": 3
   },
   "file_extension": ".py",
   "mimetype": "text/x-python",
   "name": "python",
   "nbconvert_exporter": "python",
   "pygments_lexer": "ipython3",
   "version": "3.6.5"
  },
  "toc": {
   "base_numbering": 1,
   "nav_menu": {},
   "number_sections": true,
   "sideBar": true,
   "skip_h1_title": false,
   "title_cell": "Table of Contents",
   "title_sidebar": "Contents",
   "toc_cell": false,
   "toc_position": {},
   "toc_section_display": true,
   "toc_window_display": false
  },
  "varInspector": {
   "cols": {
    "lenName": 16,
    "lenType": 16,
    "lenVar": 40
   },
   "kernels_config": {
    "python": {
     "delete_cmd_postfix": "",
     "delete_cmd_prefix": "del ",
     "library": "var_list.py",
     "varRefreshCmd": "print(var_dic_list())"
    },
    "r": {
     "delete_cmd_postfix": ") ",
     "delete_cmd_prefix": "rm(",
     "library": "var_list.r",
     "varRefreshCmd": "cat(var_dic_list()) "
    }
   },
   "types_to_exclude": [
    "module",
    "function",
    "builtin_function_or_method",
    "instance",
    "_Feature"
   ],
   "window_display": false
  }
 },
 "nbformat": 4,
 "nbformat_minor": 2
}
