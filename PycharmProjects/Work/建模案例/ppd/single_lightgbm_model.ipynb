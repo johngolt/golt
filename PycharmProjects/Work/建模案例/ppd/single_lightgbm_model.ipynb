{
 "cells": [
  {
   "cell_type": "code",
   "execution_count": 10,
   "metadata": {
    "ExecuteTime": {
     "end_time": "2019-09-05T08:44:13.647333Z",
     "start_time": "2019-09-05T08:44:13.633334Z"
    }
   },
   "outputs": [],
   "source": [
    "import numpy as np \n",
    "import pandas as pd \n",
    "import matplotlib.pyplot as plt \n",
    "%matplotlib inline \n",
    "plt.style.use('ggplot')\n",
    "import seaborn as sns \n",
    "sns.set_style('darkgrid')\n",
    "sns.set(font='SimHei')\n",
    "path = 'C:/test/work/ppd/data'\n",
    "import warnings \n",
    "warnings.filterwarnings('ignore')\n",
    "\n",
    "import lightgbm as lgb \n",
    "from lightgbm import plot_importance \n",
    "from sklearn.model_selection import GridSearchCV\n",
    "from sklearn.model_selection import train_test_split \n",
    "from sklearn import metrics\n",
    "from sklearn.model_selection import cross_val_score\n",
    "from sklearn.model_selection import StratifiedKFold\n",
    "from sklearn.metrics import roc_curve, roc_auc_score"
   ]
  },
  {
   "cell_type": "code",
   "execution_count": 3,
   "metadata": {
    "ExecuteTime": {
     "end_time": "2019-09-05T08:37:04.931743Z",
     "start_time": "2019-09-05T08:37:03.835639Z"
    }
   },
   "outputs": [],
   "source": [
    "df  = pd.read_csv(path+'/feature_select_data1.csv',encoding='gb18030')\n",
    "#df.head()"
   ]
  },
  {
   "cell_type": "markdown",
   "metadata": {},
   "source": [
    "# 两种版本的lgb默认参数模型"
   ]
  },
  {
   "cell_type": "markdown",
   "metadata": {},
   "source": [
    "## sklearn版本"
   ]
  },
  {
   "cell_type": "code",
   "execution_count": 4,
   "metadata": {
    "ExecuteTime": {
     "end_time": "2019-09-05T08:37:08.010835Z",
     "start_time": "2019-09-05T08:37:07.824336Z"
    }
   },
   "outputs": [],
   "source": [
    "# 默认参数模型\n",
    "x_train = df[df.sample_status=='train'].drop(['Idx','sample_status','target'],axis=1)\n",
    "x_test = df[df.sample_status=='test'].drop(['Idx','sample_status','target'],axis=1)\n",
    "y_train = df[df.sample_status=='train']['target']\n",
    "y_test = df[df.sample_status=='test']['target']"
   ]
  },
  {
   "cell_type": "code",
   "execution_count": 5,
   "metadata": {
    "ExecuteTime": {
     "end_time": "2019-09-05T08:37:15.385364Z",
     "start_time": "2019-09-05T08:37:10.909337Z"
    }
   },
   "outputs": [
    {
     "name": "stdout",
     "output_type": "stream",
     "text": [
      "运行时间为4.0秒\n"
     ]
    }
   ],
   "source": [
    "import time\n",
    "start = time.time()\n",
    "lgb_sklearn = lgb.LGBMClassifier(random_state=0).fit(x_train,y_train)\n",
    "end = time.time()\n",
    "print('运行时间为{}秒'.format(round(end-start,0)))"
   ]
  },
  {
   "cell_type": "code",
   "execution_count": 12,
   "metadata": {
    "ExecuteTime": {
     "end_time": "2019-09-05T08:45:16.251247Z",
     "start_time": "2019-09-05T08:45:15.808431Z"
    }
   },
   "outputs": [
    {
     "name": "stdout",
     "output_type": "stream",
     "text": [
      "0.7415122017542375\n"
     ]
    },
    {
     "data": {
      "text/plain": [
       "[<matplotlib.lines.Line2D at 0x15f4c819320>]"
      ]
     },
     "execution_count": 12,
     "metadata": {},
     "output_type": "execute_result"
    },
    {
     "data": {
      "image/png": "[encoded data removed]",
      "text/plain": [
       "<Figure size 432x288 with 1 Axes>"
      ]
     },
     "metadata": {},
     "output_type": "display_data"
    }
   ],
   "source": [
    "# 默认参数模型的AUC\n",
    "lgb_sklearn_pre = lgb_sklearn.predict_proba(x_test)[:,1]\n",
    "print(roc_auc_score(y_test, lgb_sklearn_pre))\n",
    "fpr,tpr,_=roc_curve(y_test,lgb_sklearn_pre)\n",
    "plt.plot(fpr, tpr, color = 'c')\n",
    "plt.plot([0,1],[0,1], color = 'r', linestyle='--')"
   ]
  },
  {
   "cell_type": "code",
   "execution_count": null,
   "metadata": {},
   "outputs": [],
   "source": []
  },
  {
   "cell_type": "markdown",
   "metadata": {},
   "source": [
    "## 原生版本 "
   ]
  },
  {
   "cell_type": "code",
   "execution_count": 13,
   "metadata": {
    "ExecuteTime": {
     "end_time": "2019-09-05T08:45:40.865213Z",
     "start_time": "2019-09-05T08:45:37.671754Z"
    },
    "scrolled": true
   },
   "outputs": [
    {
     "name": "stdout",
     "output_type": "stream",
     "text": [
      "[1]\tvalid_0's auc: 0.648788\n",
      "Training until validation scores don't improve for 10 rounds.\n",
      "[2]\tvalid_0's auc: 0.669304\n",
      "[3]\tvalid_0's auc: 0.682628\n",
      "[4]\tvalid_0's auc: 0.686994\n",
      "[5]\tvalid_0's auc: 0.691935\n",
      "[6]\tvalid_0's auc: 0.695382\n",
      "[7]\tvalid_0's auc: 0.695489\n",
      "[8]\tvalid_0's auc: 0.698546\n",
      "[9]\tvalid_0's auc: 0.701733\n",
      "[10]\tvalid_0's auc: 0.70455\n",
      "[11]\tvalid_0's auc: 0.70806\n",
      "[12]\tvalid_0's auc: 0.712569\n",
      "[13]\tvalid_0's auc: 0.714239\n",
      "[14]\tvalid_0's auc: 0.716405\n",
      "[15]\tvalid_0's auc: 0.716735\n",
      "[16]\tvalid_0's auc: 0.719263\n",
      "[17]\tvalid_0's auc: 0.72103\n",
      "[18]\tvalid_0's auc: 0.723517\n",
      "[19]\tvalid_0's auc: 0.725592\n",
      "[20]\tvalid_0's auc: 0.727763\n",
      "[21]\tvalid_0's auc: 0.727528\n",
      "[22]\tvalid_0's auc: 0.728322\n",
      "[23]\tvalid_0's auc: 0.730293\n",
      "[24]\tvalid_0's auc: 0.730048\n",
      "[25]\tvalid_0's auc: 0.730812\n",
      "[26]\tvalid_0's auc: 0.730772\n",
      "[27]\tvalid_0's auc: 0.731304\n",
      "[28]\tvalid_0's auc: 0.731212\n",
      "[29]\tvalid_0's auc: 0.73119\n",
      "[30]\tvalid_0's auc: 0.732287\n",
      "[31]\tvalid_0's auc: 0.732734\n",
      "[32]\tvalid_0's auc: 0.7329\n",
      "[33]\tvalid_0's auc: 0.733218\n",
      "[34]\tvalid_0's auc: 0.733419\n",
      "[35]\tvalid_0's auc: 0.734344\n",
      "[36]\tvalid_0's auc: 0.733976\n",
      "[37]\tvalid_0's auc: 0.734903\n",
      "[38]\tvalid_0's auc: 0.735742\n",
      "[39]\tvalid_0's auc: 0.735914\n",
      "[40]\tvalid_0's auc: 0.736158\n",
      "[41]\tvalid_0's auc: 0.736237\n",
      "[42]\tvalid_0's auc: 0.736171\n",
      "[43]\tvalid_0's auc: 0.736652\n",
      "[44]\tvalid_0's auc: 0.737127\n",
      "[45]\tvalid_0's auc: 0.737104\n",
      "[46]\tvalid_0's auc: 0.737233\n",
      "[47]\tvalid_0's auc: 0.737226\n",
      "[48]\tvalid_0's auc: 0.737388\n",
      "[49]\tvalid_0's auc: 0.736667\n",
      "[50]\tvalid_0's auc: 0.737772\n",
      "[51]\tvalid_0's auc: 0.738069\n",
      "[52]\tvalid_0's auc: 0.73784\n",
      "[53]\tvalid_0's auc: 0.737853\n",
      "[54]\tvalid_0's auc: 0.737532\n",
      "[55]\tvalid_0's auc: 0.737561\n",
      "[56]\tvalid_0's auc: 0.738155\n",
      "[57]\tvalid_0's auc: 0.737931\n",
      "[58]\tvalid_0's auc: 0.737408\n",
      "[59]\tvalid_0's auc: 0.737481\n",
      "[60]\tvalid_0's auc: 0.736868\n",
      "[61]\tvalid_0's auc: 0.737676\n",
      "[62]\tvalid_0's auc: 0.738119\n",
      "[63]\tvalid_0's auc: 0.737744\n",
      "[64]\tvalid_0's auc: 0.737264\n",
      "[65]\tvalid_0's auc: 0.737585\n",
      "[66]\tvalid_0's auc: 0.737591\n",
      "Early stopping, best iteration is:\n",
      "[56]\tvalid_0's auc: 0.738155\n",
      "运行时间为3.0秒\n"
     ]
    }
   ],
   "source": [
    "# 原生的lightgbm\n",
    "lgb_train = lgb.Dataset(x_train,y_train)\n",
    "lgb_test = lgb.Dataset(x_test,y_test,reference=lgb_train)\n",
    "lgb_origi_params = {'boosting_type':'gbdt',\n",
    "              'max_depth':-1,\n",
    "              'num_leaves':31,\n",
    "              'bagging_fraction':1.0,\n",
    "              'feature_fraction':1.0,\n",
    "              'learning_rate':0.1,\n",
    "              'metric': 'auc'}\n",
    "start = time.time()\n",
    "lgb_origi = lgb.train(train_set=lgb_train,\n",
    "                      early_stopping_rounds=10,\n",
    "                      num_boost_round=400,\n",
    "                      params=lgb_origi_params,\n",
    "                      valid_sets=lgb_test)\n",
    "end = time.time()\n",
    "print('运行时间为{}秒'.format(round(end-start,0)))"
   ]
  },
  {
   "cell_type": "code",
   "execution_count": 14,
   "metadata": {
    "ExecuteTime": {
     "end_time": "2019-09-05T08:46:23.365591Z",
     "start_time": "2019-09-05T08:46:22.944718Z"
    },
    "scrolled": false
   },
   "outputs": [
    {
     "name": "stdout",
     "output_type": "stream",
     "text": [
      "0.7381553168735197\n"
     ]
    },
    {
     "data": {
      "text/plain": [
       "[<matplotlib.lines.Line2D at 0x15f4c781080>]"
      ]
     },
     "execution_count": 14,
     "metadata": {},
     "output_type": "execute_result"
    },
    {
     "data": {
      "image/png": "[encoded data removed]",
      "text/plain": [
       "<Figure size 432x288 with 1 Axes>"
      ]
     },
     "metadata": {},
     "output_type": "display_data"
    }
   ],
   "source": [
    "# 原生的lightgbm的AUC\n",
    "lgb_origi_pre = lgb_origi.predict(x_test)\n",
    "print(roc_auc_score(y_test, lgb_origi_pre))\n",
    "fpr,tpr,_=roc_curve(y_test,lgb_origi_pre)\n",
    "plt.plot(fpr, tpr, color = 'c')\n",
    "plt.plot([0,1],[0,1], color = 'r', linestyle='--')"
   ]
  },
  {
   "cell_type": "markdown",
   "metadata": {},
   "source": [
    "# 调参"
   ]
  },
  {
   "cell_type": "code",
   "execution_count": 15,
   "metadata": {
    "ExecuteTime": {
     "end_time": "2019-09-05T08:46:43.318105Z",
     "start_time": "2019-09-05T08:46:33.805321Z"
    }
   },
   "outputs": [],
   "source": [
    "# 确定最大迭代次数，学习率设为0.1 \n",
    "base_parmas={'boosting_type':'gbdt', 'learning_rate':0.1, 'num_leaves':40,'max_depth':-1,\n",
    "             'bagging_fraction':0.8, 'feature_fraction':0.8, 'lambda_l1':0,'lambda_l2':0,\n",
    "             'min_data_in_leaf':20,'min_sum_hessian_inleaf':0.001,'metric':'auc'}\n",
    "cv_result = lgb.cv(train_set=lgb_train, num_boost_round=200,early_stopping_rounds=5,\n",
    "                nfold=5,stratified=True,shuffle=True,params=base_parmas,metrics='auc',seed=0)"
   ]
  },
  {
   "cell_type": "code",
   "execution_count": 16,
   "metadata": {
    "ExecuteTime": {
     "end_time": "2019-09-05T08:46:45.081140Z",
     "start_time": "2019-09-05T08:46:45.075155Z"
    }
   },
   "outputs": [
    {
     "name": "stdout",
     "output_type": "stream",
     "text": [
      "最大的迭代次数: 56\n",
      "交叉验证的AUC: 0.7212960286019683\n"
     ]
    }
   ],
   "source": [
    "print('最大的迭代次数: {}'.format(len(cv_result['auc-mean'])))\n",
    "print('交叉验证的AUC: {}'.format(max(cv_result['auc-mean'])))"
   ]
  },
  {
   "cell_type": "code",
   "execution_count": 17,
   "metadata": {
    "ExecuteTime": {
     "end_time": "2019-09-05T08:47:53.618263Z",
     "start_time": "2019-09-05T08:46:52.592777Z"
    }
   },
   "outputs": [
    {
     "name": "stdout",
     "output_type": "stream",
     "text": [
      "运行时间为:61.0\n"
     ]
    }
   ],
   "source": [
    "# num_leaves ，步长设为5\n",
    "param_find1 = {'num_leaves':range(30,60,5)}\n",
    "cv_fold = StratifiedKFold(n_splits=5,random_state=0,shuffle=True)\n",
    "start = time.time()\n",
    "grid_search1 = GridSearchCV(estimator=lgb.LGBMClassifier(learning_rate=0.1,n_estimators = 56,\n",
    "                    max_depth=-1,min_child_weight=0.001,min_child_samples=20,subsample=0.8,\n",
    "                    colsample_bytree=0.8,reg_lambda=0, reg_alpha=0),cv = cv_fold,\n",
    "                             n_jobs=-1,param_grid = param_find1,scoring='roc_auc')\n",
    "grid_search1.fit(x_train,y_train)\n",
    "end = time.time()\n",
    "print('运行时间为:{}'.format(round(end-start,0)))"
   ]
  },
  {
   "cell_type": "code",
   "execution_count": 19,
   "metadata": {
    "ExecuteTime": {
     "end_time": "2019-09-05T08:48:30.984662Z",
     "start_time": "2019-09-05T08:48:30.979678Z"
    }
   },
   "outputs": [
    {
     "name": "stdout",
     "output_type": "stream",
     "text": [
      "{'num_leaves': 30}\n",
      "\t\n",
      "0.7300330243340516\n"
     ]
    }
   ],
   "source": [
    "print(grid_search1.best_params_)\n",
    "print('\\t')\n",
    "print(grid_search1.best_score_)"
   ]
  },
  {
   "cell_type": "code",
   "execution_count": 20,
   "metadata": {
    "ExecuteTime": {
     "end_time": "2019-09-05T08:49:31.382804Z",
     "start_time": "2019-09-05T08:48:42.903994Z"
    }
   },
   "outputs": [
    {
     "name": "stdout",
     "output_type": "stream",
     "text": [
      "{'num_leaves': 30}\n",
      "\t\n",
      "0.7323918882243231\n"
     ]
    }
   ],
   "source": [
    "# num_leaves,步长设为2 \n",
    "param_find2 = {'num_leaves':range(26,34,2)}\n",
    "grid_search2 = GridSearchCV(estimator=lgb.LGBMClassifier(estimator=56,\n",
    "                                                         learning_rate=0.1,\n",
    "                                                         min_child_weight=0.001,\n",
    "                                                         min_child_samples=20,\n",
    "                                                         subsample=0.8,\n",
    "                                                         colsample_bytree=0.8,\n",
    "                                                         reg_lambda=0,\n",
    "                                                         reg_alpha=0),\n",
    "                            cv=cv_fold,\n",
    "                            n_jobs=-1,\n",
    "                            scoring='roc_auc',\n",
    "                            param_grid = param_find2)\n",
    "grid_search2.fit(x_train,y_train)\n",
    "print(grid_search2.best_params_)\n",
    "print('\\t')\n",
    "print(grid_search2.best_score_)"
   ]
  },
  {
   "cell_type": "code",
   "execution_count": 21,
   "metadata": {
    "ExecuteTime": {
     "end_time": "2019-09-05T08:54:32.873829Z",
     "start_time": "2019-09-05T08:52:09.403022Z"
    }
   },
   "outputs": [
    {
     "name": "stdout",
     "output_type": "stream",
     "text": [
      "运行时间:143.0 秒\n",
      "{'min_child_samples': 30, 'min_child_weight': 0.001}\n",
      "\t\n",
      "0.7356868012059826\n"
     ]
    }
   ],
   "source": [
    "# 确定num_leaves 为30 ，下面进行min_child_samples 和 min_child_weight的调参，设定步长为5\n",
    "param_find3 = {'min_child_samples':range(15,35,5),\n",
    "               'min_child_weight':[x/1000 for x in range(1,4,1)]}\n",
    "grid_search3 = GridSearchCV(estimator=lgb.LGBMClassifier(estimator=56,\n",
    "                                                         learning_rate=0.1,\n",
    "                                                         num_leaves=30,\n",
    "                                                         subsample=0.8,\n",
    "                                                         colsample_bytree=0.8,\n",
    "                                                         reg_lambda=0,\n",
    "                                                         reg_alpha=0),\n",
    "                            cv=cv_fold,\n",
    "                            scoring='roc_auc',\n",
    "                            param_grid = param_find3,\n",
    "                            n_jobs=-1)\n",
    "start = time.time()\n",
    "grid_search3.fit(x_train,y_train)\n",
    "end = time.time()\n",
    "print('运行时间:{} 秒'.format(round(end-start,0)))\n",
    "print(grid_search3.best_params_)\n",
    "print('\\t')\n",
    "print(grid_search3.best_score_)"
   ]
  },
  {
   "cell_type": "code",
   "execution_count": 22,
   "metadata": {
    "ExecuteTime": {
     "end_time": "2019-09-05T09:00:03.225496Z",
     "start_time": "2019-09-05T08:55:32.797048Z"
    }
   },
   "outputs": [
    {
     "name": "stdout",
     "output_type": "stream",
     "text": [
      "运行时间:270.0 秒\n",
      "{'colsample_bytree': 0.9, 'subsample': 0.5}\n",
      "\t\n",
      "0.7371037061045744\n"
     ]
    }
   ],
   "source": [
    "# 确定min_child_weight为0.001，min_child_samples为20,下面对subsample和colsample_bytree进行调参\n",
    "param_find4 = {'subsample':[x/10 for x in range(5,10,1)],\n",
    "               'colsample_bytree':[x/10 for x in range(5,10,1)]}\n",
    "grid_search4 = GridSearchCV(estimator=lgb.LGBMClassifier(estimator=56, learning_rate=0.1,\n",
    "                            min_child_samples=30,min_child_weight=0.001,num_leaves=30,subsample=0.8,\n",
    "                            colsample_bytree=0.8, reg_lambda=0,reg_alpha=0),cv=cv_fold,\n",
    "                            scoring='roc_auc',param_grid = param_find4, n_jobs=-1)\n",
    "start = time.time()\n",
    "grid_search4.fit(x_train,y_train)\n",
    "end = time.time()\n",
    "print('运行时间:{} 秒'.format(round(end-start,0)))\n",
    "print(grid_search4.best_params_)\n",
    "print('\\t')\n",
    "print(grid_search4.best_score_)"
   ]
  },
  {
   "cell_type": "code",
   "execution_count": 23,
   "metadata": {
    "ExecuteTime": {
     "end_time": "2019-09-05T09:08:14.235882Z",
     "start_time": "2019-09-05T09:01:31.536016Z"
    }
   },
   "outputs": [
    {
     "name": "stdout",
     "output_type": "stream",
     "text": [
      "运行时间:403.0 秒\n",
      "{'reg_alpha': 0.03, 'reg_lambda': 0.001}\n",
      "\t\n",
      "0.7408715839786831\n"
     ]
    }
   ],
   "source": [
    "param_find5 = {'reg_lambda':[0.001,0.01,0.03,0.08,0.1,0.3],\n",
    "               'reg_alpha':[0.001,0.01,0.03,0.08,0.1,0.3]}\n",
    "grid_search5 = GridSearchCV(estimator=lgb.LGBMClassifier(estimator=56,learning_rate=0.1,\n",
    "                        min_child_samples=30,min_child_weight=0.001,num_leaves=30,subsample=0.5,\n",
    "                        colsample_bytree=0.9,), cv=cv_fold, scoring='roc_auc',\n",
    "                            param_grid = param_find5, n_jobs=-1)\n",
    "start = time.time()\n",
    "grid_search5.fit(x_train,y_train)\n",
    "end = time.time()\n",
    "print('运行时间:{} 秒'.format(round(end-start,0)))\n",
    "print(grid_search5.best_params_)\n",
    "print('\\t')\n",
    "print(grid_search5.best_score_)"
   ]
  },
  {
   "cell_type": "code",
   "execution_count": 24,
   "metadata": {
    "ExecuteTime": {
     "end_time": "2019-09-05T09:21:02.826433Z",
     "start_time": "2019-09-05T09:19:06.722972Z"
    }
   },
   "outputs": [],
   "source": [
    "# 将最佳参数再次带入cv函数，设定学习率为0.005\n",
    "best_params = { 'boosting_type':'gbdt','learning_rate':0.005,'num_leaves':30,'max_depth':-1,\n",
    "    'bagging_fraction':0.5,'feature_fraction':0.9,'min_data_in_leaf':30, 'min_sum_hessian_in_leaf':0.001,\n",
    "    'lambda_l1':0.03,'lambda_l2':0.001,'metric':'auc'}\n",
    "\n",
    "best_cv = lgb.cv(train_set=lgb_train,early_stopping_rounds=5, num_boost_round=2000,nfold=5,\n",
    "                 params=best_params,metrics='auc', stratified=True, shuffle=True,seed=0)"
   ]
  },
  {
   "cell_type": "code",
   "execution_count": 25,
   "metadata": {
    "ExecuteTime": {
     "end_time": "2019-09-05T09:21:19.999754Z",
     "start_time": "2019-09-05T09:21:19.993768Z"
    },
    "scrolled": true
   },
   "outputs": [
    {
     "name": "stdout",
     "output_type": "stream",
     "text": [
      "最佳参数的迭代次数: 952\n",
      "交叉验证的AUC: 0.7374010697216228\n"
     ]
    }
   ],
   "source": [
    "print('最佳参数的迭代次数: {}'.format(len(best_cv['auc-mean'])))\n",
    "print('交叉验证的AUC: {}'.format(max(best_cv['auc-mean'])))"
   ]
  },
  {
   "cell_type": "code",
   "execution_count": 26,
   "metadata": {
    "ExecuteTime": {
     "end_time": "2019-09-05T09:22:47.130055Z",
     "start_time": "2019-09-05T09:22:16.360389Z"
    }
   },
   "outputs": [
    {
     "data": {
      "text/plain": [
       "LGBMClassifier(boosting_type='gbdt', class_weight=None, colsample_bytree=0.9,\n",
       "               importance_type='split', learning_rate=0.005, max_depth=-1,\n",
       "               min_child_samples=30, min_child_weight=0.001, min_split_gain=0.0,\n",
       "               n_estimators=952, n_jobs=-1, num_leaves=30, objective=None,\n",
       "               random_state=0, reg_alpha=0.03, reg_lambda=0.001, silent=True,\n",
       "               subsample=0.5, subsample_for_bin=200000, subsample_freq=0)"
      ]
     },
     "execution_count": 26,
     "metadata": {},
     "output_type": "execute_result"
    }
   ],
   "source": [
    "lgb_single_model = lgb.LGBMClassifier(n_estimators=952, learning_rate=0.005, min_child_weight=0.001,\n",
    "                                min_child_samples = 30,subsample=0.5,colsample_bytree=0.9,\n",
    "                        num_leaves=30,max_depth=-1,reg_lambda=0.001,reg_alpha=0.03,random_state=0)\n",
    "lgb_single_model.fit(x_train,y_train)"
   ]
  },
  {
   "cell_type": "code",
   "execution_count": 27,
   "metadata": {
    "ExecuteTime": {
     "end_time": "2019-09-05T09:22:52.763859Z",
     "start_time": "2019-09-05T09:22:51.299776Z"
    }
   },
   "outputs": [
    {
     "name": "stdout",
     "output_type": "stream",
     "text": [
      "lightgbm单模型的AUC：0.7523800823152327\n"
     ]
    },
    {
     "data": {
      "text/plain": [
       "[<matplotlib.lines.Line2D at 0x15f4d3bc320>]"
      ]
     },
     "execution_count": 27,
     "metadata": {},
     "output_type": "execute_result"
    },
    {
     "data": {
      "image/png": "[encoded data removed]",
      "text/plain": [
       "<Figure size 432x288 with 1 Axes>"
      ]
     },
     "metadata": {},
     "output_type": "display_data"
    }
   ],
   "source": [
    "pre = lgb_single_model.predict_proba(x_test)[:,1]\n",
    "print('lightgbm单模型的AUC：{}'.format(metrics.roc_auc_score(y_test,pre)))\n",
    "fpr,tpr,_=roc_curve(y_test,pre)\n",
    "plt.plot(fpr, tpr, color = 'c')\n",
    "plt.plot([0,1],[0,1], color = 'r', linestyle='--')"
   ]
  },
  {
   "cell_type": "code",
   "execution_count": null,
   "metadata": {},
   "outputs": [],
   "source": []
  }
 ],
 "metadata": {
  "kernelspec": {
   "display_name": "Python 3",
   "language": "python",
   "name": "python3"
  },
  "language_info": {
   "codemirror_mode": {
    "name": "ipython",
    "version": 3
   },
   "file_extension": ".py",
   "mimetype": "text/x-python",
   "name": "python",
   "nbconvert_exporter": "python",
   "pygments_lexer": "ipython3",
   "version": "3.7.4"
  },
  "toc": {
   "base_numbering": 1,
   "nav_menu": {},
   "number_sections": true,
   "sideBar": true,
   "skip_h1_title": false,
   "title_cell": "Table of Contents",
   "title_sidebar": "Contents",
   "toc_cell": false,
   "toc_position": {},
   "toc_section_display": true,
   "toc_window_display": false
  },
  "varInspector": {
   "cols": {
    "lenName": 16,
    "lenType": 16,
    "lenVar": 40
   },
   "kernels_config": {
    "python": {
     "delete_cmd_postfix": "",
     "delete_cmd_prefix": "del ",
     "library": "var_list.py",
     "varRefreshCmd": "print(var_dic_list())"
    },
    "r": {
     "delete_cmd_postfix": ") ",
     "delete_cmd_prefix": "rm(",
     "library": "var_list.r",
     "varRefreshCmd": "cat(var_dic_list()) "
    }
   },
   "types_to_exclude": [
    "module",
    "function",
    "builtin_function_or_method",
    "instance",
    "_Feature"
   ],
   "window_display": false
  }
 },
 "nbformat": 4,
 "nbformat_minor": 2
}
