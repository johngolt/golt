{
 "cells": [
  {
   "cell_type": "code",
   "execution_count": 2,
   "metadata": {
    "ExecuteTime": {
     "end_time": "2019-09-05T08:31:39.427485Z",
     "start_time": "2019-09-05T08:31:24.068816Z"
    }
   },
   "outputs": [],
   "source": [
    "import numpy as np\n",
    "import pandas as pd \n",
    "from xgboost.sklearn import XGBClassifier\n",
    "from xgboost import plot_importance\n",
    "import matplotlib.pyplot as plt \n",
    "plt.rcParams['font.sans-serif']=['SimHei']\n",
    "import seaborn as sns\n",
    "sns.set(font='SimHei')\n",
    "sns.set_palette('muted')\n",
    "sns.set_style('dark')\n",
    "%matplotlib inline\n",
    "import warnings\n",
    "warnings.filterwarnings('ignore')\n",
    "path = 'C:/test/work/ppd/data'"
   ]
  },
  {
   "cell_type": "markdown",
   "metadata": {},
   "source": [
    "# 用户数据表"
   ]
  },
  {
   "cell_type": "code",
   "execution_count": 15,
   "metadata": {
    "ExecuteTime": {
     "end_time": "2019-09-05T07:06:42.622411Z",
     "start_time": "2019-09-05T07:06:41.513380Z"
    }
   },
   "outputs": [],
   "source": [
    "# 导入data_EDA_clean处理过的数据\n",
    "data1 = pd.read_csv(path+'/data1_clean.csv',encoding='gbk')"
   ]
  },
  {
   "cell_type": "code",
   "execution_count": 16,
   "metadata": {
    "ExecuteTime": {
     "end_time": "2019-09-05T07:06:42.906650Z",
     "start_time": "2019-09-05T07:06:42.773009Z"
    }
   },
   "outputs": [],
   "source": [
    "cat = data1.select_dtypes(include='O').columns\n",
    "num = data1.select_dtypes(exclude='O').columns"
   ]
  },
  {
   "cell_type": "code",
   "execution_count": null,
   "metadata": {
    "ExecuteTime": {
     "end_time": "2019-09-05T07:08:19.282783Z",
     "start_time": "2019-09-05T07:08:19.272812Z"
    }
   },
   "outputs": [],
   "source": []
  },
  {
   "cell_type": "code",
   "execution_count": 3,
   "metadata": {},
   "outputs": [],
   "source": [
    "# 导入变量明细表\n",
    "var_info = pd.read_csv('var_info.csv',encoding='gbk')"
   ]
  },
  {
   "cell_type": "code",
   "execution_count": 4,
   "metadata": {},
   "outputs": [
    {
     "data": {
      "text/plain": [
       "Numerical      125\n",
       "Categorical     20\n",
       "Index            1\n",
       "Name: 变量类型, dtype: int64"
      ]
     },
     "execution_count": 4,
     "metadata": {},
     "output_type": "execute_result"
    }
   ],
   "source": [
    "base_col = list(data1.columns)\n",
    "var_info2 = var_info[var_info.变量名称.isin(base_col)].reset_index(drop=True)\n",
    "var_info2.变量类型.value_counts() "
   ]
  },
  {
   "cell_type": "markdown",
   "metadata": {},
   "source": [
    "## 类别型变量 "
   ]
  },
  {
   "cell_type": "code",
   "execution_count": 8,
   "metadata": {
    "ExecuteTime": {
     "end_time": "2019-09-05T07:00:21.088676Z",
     "start_time": "2019-09-05T07:00:20.797855Z"
    }
   },
   "outputs": [
    {
     "data": {
      "text/html": [
       "<div>\n",
       "<style scoped>\n",
       "    .dataframe tbody tr th:only-of-type {\n",
       "        vertical-align: middle;\n",
       "    }\n",
       "\n",
       "    .dataframe tbody tr th {\n",
       "        vertical-align: top;\n",
       "    }\n",
       "\n",
       "    .dataframe thead th {\n",
       "        text-align: right;\n",
       "    }\n",
       "</style>\n",
       "<table border=\"1\" class=\"dataframe\">\n",
       "  <thead>\n",
       "    <tr style=\"text-align: right;\">\n",
       "      <th></th>\n",
       "      <th>count</th>\n",
       "      <th>unique</th>\n",
       "      <th>top</th>\n",
       "      <th>freq</th>\n",
       "      <th>nuniq</th>\n",
       "      <th>missing_pct</th>\n",
       "    </tr>\n",
       "  </thead>\n",
       "  <tbody>\n",
       "    <tr>\n",
       "      <th>UserInfo_19</th>\n",
       "      <td>49101</td>\n",
       "      <td>31</td>\n",
       "      <td>山东省</td>\n",
       "      <td>3928</td>\n",
       "      <td>31</td>\n",
       "      <td>0.000000</td>\n",
       "    </tr>\n",
       "    <tr>\n",
       "      <th>UserInfo_2</th>\n",
       "      <td>48654</td>\n",
       "      <td>329</td>\n",
       "      <td>深圳</td>\n",
       "      <td>1226</td>\n",
       "      <td>329</td>\n",
       "      <td>0.009104</td>\n",
       "    </tr>\n",
       "    <tr>\n",
       "      <th>UserInfo_20</th>\n",
       "      <td>49101</td>\n",
       "      <td>308</td>\n",
       "      <td>不详</td>\n",
       "      <td>11718</td>\n",
       "      <td>308</td>\n",
       "      <td>0.000000</td>\n",
       "    </tr>\n",
       "    <tr>\n",
       "      <th>UserInfo_4</th>\n",
       "      <td>48708</td>\n",
       "      <td>332</td>\n",
       "      <td>深圳</td>\n",
       "      <td>1382</td>\n",
       "      <td>332</td>\n",
       "      <td>0.008004</td>\n",
       "    </tr>\n",
       "    <tr>\n",
       "      <th>UserInfo_7</th>\n",
       "      <td>49101</td>\n",
       "      <td>32</td>\n",
       "      <td>不详</td>\n",
       "      <td>6893</td>\n",
       "      <td>32</td>\n",
       "      <td>0.000000</td>\n",
       "    </tr>\n",
       "    <tr>\n",
       "      <th>UserInfo_8</th>\n",
       "      <td>49101</td>\n",
       "      <td>664</td>\n",
       "      <td>不详</td>\n",
       "      <td>6893</td>\n",
       "      <td>664</td>\n",
       "      <td>0.000000</td>\n",
       "    </tr>\n",
       "    <tr>\n",
       "      <th>UserInfo_9</th>\n",
       "      <td>49101</td>\n",
       "      <td>7</td>\n",
       "      <td>中国移动</td>\n",
       "      <td>25381</td>\n",
       "      <td>7</td>\n",
       "      <td>0.000000</td>\n",
       "    </tr>\n",
       "    <tr>\n",
       "      <th>WeblogInfo_19</th>\n",
       "      <td>44682</td>\n",
       "      <td>7</td>\n",
       "      <td>I</td>\n",
       "      <td>36209</td>\n",
       "      <td>7</td>\n",
       "      <td>0.089998</td>\n",
       "    </tr>\n",
       "    <tr>\n",
       "      <th>WeblogInfo_20</th>\n",
       "      <td>36311</td>\n",
       "      <td>38</td>\n",
       "      <td>I5</td>\n",
       "      <td>18422</td>\n",
       "      <td>38</td>\n",
       "      <td>0.260483</td>\n",
       "    </tr>\n",
       "    <tr>\n",
       "      <th>WeblogInfo_21</th>\n",
       "      <td>44528</td>\n",
       "      <td>4</td>\n",
       "      <td>D</td>\n",
       "      <td>35733</td>\n",
       "      <td>4</td>\n",
       "      <td>0.093135</td>\n",
       "    </tr>\n",
       "    <tr>\n",
       "      <th>sample_status</th>\n",
       "      <td>49101</td>\n",
       "      <td>2</td>\n",
       "      <td>train</td>\n",
       "      <td>29469</td>\n",
       "      <td>2</td>\n",
       "      <td>0.000000</td>\n",
       "    </tr>\n",
       "  </tbody>\n",
       "</table>\n",
       "</div>"
      ],
      "text/plain": [
       "               count unique    top   freq  nuniq  missing_pct\n",
       "UserInfo_19    49101     31    山东省   3928     31     0.000000\n",
       "UserInfo_2     48654    329     深圳   1226    329     0.009104\n",
       "UserInfo_20    49101    308     不详  11718    308     0.000000\n",
       "UserInfo_4     48708    332     深圳   1382    332     0.008004\n",
       "UserInfo_7     49101     32     不详   6893     32     0.000000\n",
       "UserInfo_8     49101    664     不详   6893    664     0.000000\n",
       "UserInfo_9     49101      7  中国移动   25381      7     0.000000\n",
       "WeblogInfo_19  44682      7      I  36209      7     0.089998\n",
       "WeblogInfo_20  36311     38     I5  18422     38     0.260483\n",
       "WeblogInfo_21  44528      4      D  35733      4     0.093135\n",
       "sample_status  49101      2  train  29469      2     0.000000"
      ]
     },
     "execution_count": 8,
     "metadata": {},
     "output_type": "execute_result"
    }
   ],
   "source": [
    "# 数值型类别变量的desc\n",
    "data1.loc[:,cat].describe().T.assign(\n",
    "    nuniq = data1.loc[:,cat].apply(\n",
    "    lambda x:x.nunique()),\n",
    "    missing_pct = data1.loc[:,cate].apply(lambda x:(len(x)-x.count())/len(x)))"
   ]
  },
  {
   "cell_type": "raw",
   "metadata": {},
   "source": [
    "UserInfo_2,UserInfo_4,UserInfo_8，UserInfo_20: 城市信息, 需要做降基处理\n",
    "UserInfo_7，UserInfo_19：省份信息\n",
    "UserInfo_9：运营商类型,需要做清洗\n",
    "WeblogInfo_20：微博信息，需要做降基处理"
   ]
  },
  {
   "cell_type": "code",
   "execution_count": 9,
   "metadata": {
    "ExecuteTime": {
     "end_time": "2019-09-05T07:01:51.615287Z",
     "start_time": "2019-09-05T07:01:51.281169Z"
    }
   },
   "outputs": [],
   "source": [
    "# 先对所有字符型变量作去空格处理\n",
    "for col in cat:\n",
    "    data1[col] = data1[col].map(lambda x:str(x).strip())"
   ]
  },
  {
   "cell_type": "markdown",
   "metadata": {},
   "source": [
    "### 省份"
   ]
  },
  {
   "cell_type": "raw",
   "metadata": {},
   "source": [
    "原数据有两个省份字段，推测一个为用户的户籍地址，另一个为用户居住地址所在省份，由此可衍生的字段为：\n",
    "1.省份二值化，通过违约率将单个省份衍生为二值化特征，分为户籍省份和居住地省份\n",
    "2.户籍省份和居住地省份是否一致，推测不一致的用户大部分为外来打工群体，相对违约率会高一点\n",
    "ps: 计算违约率时要考虑该省份的借款人数，如果人数太少，参考价值不大"
   ]
  },
  {
   "cell_type": "code",
   "execution_count": 19,
   "metadata": {
    "ExecuteTime": {
     "end_time": "2019-09-05T07:08:31.248781Z",
     "start_time": "2019-09-05T07:08:31.243794Z"
    }
   },
   "outputs": [],
   "source": [
    "# 计算各省份违约率\n",
    "def plot_pro_badrate(df,col):\n",
    "    group = df.groupby(col)\n",
    "    df = pd.DataFrame()\n",
    "    df['total'] = group['target'].count()\n",
    "    df['bad'] = group['target'].sum()\n",
    "    df['badrate'] = df['bad']/df['total']\n",
    "    # 筛选出违约率排名前5的省份\n",
    "    print(df.sort_values('badrate',ascending=False).iloc[:5,:])"
   ]
  },
  {
   "cell_type": "code",
   "execution_count": 20,
   "metadata": {
    "ExecuteTime": {
     "end_time": "2019-09-05T07:08:32.272168Z",
     "start_time": "2019-09-05T07:08:32.036229Z"
    }
   },
   "outputs": [
    {
     "name": "stdout",
     "output_type": "stream",
     "text": [
      "             total    bad   badrate\n",
      "UserInfo_19                        \n",
      "西藏自治区            5    1.0  0.200000\n",
      "天津市            215   24.0  0.111628\n",
      "山东省           3928  421.0  0.107179\n",
      "四川省           3105  292.0  0.094042\n",
      "吉林省            842   78.0  0.092637\n"
     ]
    }
   ],
   "source": [
    "# 户籍地址\n",
    "plot_pro_badrate(data1,'UserInfo_19')"
   ]
  },
  {
   "cell_type": "code",
   "execution_count": 21,
   "metadata": {
    "ExecuteTime": {
     "end_time": "2019-09-05T07:08:38.261847Z",
     "start_time": "2019-09-05T07:08:38.134189Z"
    }
   },
   "outputs": [
    {
     "name": "stdout",
     "output_type": "stream",
     "text": [
      "             total    bad   badrate\n",
      "UserInfo_19                        \n",
      "天津市            215   24.0  0.111628\n",
      "山东省           3928  421.0  0.107179\n",
      "四川省           3105  292.0  0.094042\n",
      "吉林省            842   78.0  0.092637\n",
      "黑龙江省          1326  119.0  0.089744\n"
     ]
    }
   ],
   "source": [
    "# 西藏自治区的人数太少，不具有参考价值，剔除后再计算\n",
    "plot_pro_badrate(data1[~(data1.UserInfo_19=='西藏自治区')],'UserInfo_19')"
   ]
  },
  {
   "cell_type": "code",
   "execution_count": 22,
   "metadata": {
    "ExecuteTime": {
     "end_time": "2019-09-05T07:08:46.267081Z",
     "start_time": "2019-09-05T07:08:46.251087Z"
    }
   },
   "outputs": [
    {
     "name": "stdout",
     "output_type": "stream",
     "text": [
      "            total    bad   badrate\n",
      "UserInfo_7                        \n",
      "山东           3413  374.0  0.109581\n",
      "四川           1902  206.0  0.108307\n",
      "天津            306   31.0  0.101307\n",
      "湖南           1779  176.0  0.098932\n",
      "吉林            507   49.0  0.096647\n"
     ]
    }
   ],
   "source": [
    "# 居住地址\n",
    "plot_pro_badrate(data1,'UserInfo_7')"
   ]
  },
  {
   "cell_type": "code",
   "execution_count": 23,
   "metadata": {
    "ExecuteTime": {
     "end_time": "2019-09-05T07:09:18.592917Z",
     "start_time": "2019-09-05T07:09:01.827397Z"
    }
   },
   "outputs": [],
   "source": [
    "# 户籍省份的二值化衍生\n",
    "data1['is_tianjin_userinfo19'] = data1.apply(lambda x:1 if x.UserInfo_19=='天津市' else 0,axis=1)\n",
    "data1['is_shandong_userinfo19'] = data1.apply(lambda x:1 if x.UserInfo_19=='山东省' else 0,axis=1)\n",
    "data1['is_jilin_userinfo19'] = data1.apply(lambda x:1 if x.UserInfo_19=='吉林省' else 0,axis=1)\n",
    "data1['is_sichuan_userinfo19'] = data1.apply(lambda x:1 if x.UserInfo_19=='四川省' else 0,axis=1)\n",
    "data1['is_heilongj_userinfo19'] = data1.apply(lambda x:1 if x.UserInfo_19=='黑龙江省' else 0,axis=1)\n",
    "\n",
    "# 居住地址省份的二值化衍生\n",
    "data1['is_tianjin_userinfo7'] = data1.apply(lambda x:1 if x.UserInfo_7=='天津' else 0,axis=1)\n",
    "data1['is_shandong_userinfo7'] = data1.apply(lambda x:1 if x.UserInfo_7=='山东' else 0,axis=1)\n",
    "data1['is_sichuan_userinfo7'] = data1.apply(lambda x:1 if x.UserInfo_7=='四川' else 0,axis=1)\n",
    "data1['is_hunan_userinfo7'] = data1.apply(lambda x:1 if x.UserInfo_7=='湖南' else 0,axis=1)\n",
    "data1['is_jilin_userinfo7'] = data1.apply(lambda x:1 if x.UserInfo_7=='吉林' else 0,axis=1)"
   ]
  },
  {
   "cell_type": "code",
   "execution_count": 24,
   "metadata": {
    "ExecuteTime": {
     "end_time": "2019-09-05T07:11:17.725530Z",
     "start_time": "2019-09-05T07:11:17.713561Z"
    }
   },
   "outputs": [
    {
     "data": {
      "text/plain": [
       "array(['四川省', '福建省', '湖北省', '江西省', '辽宁省', '山东省', '内蒙古自治区', '湖南省', '黑龙江省',\n",
       "       '山西省', '江苏省', '云南省', '浙江省', '广东省', '天津市', '广西壮族自治区', '甘肃省', '贵州省',\n",
       "       '陕西省', '重庆市', '河北省', '青海省', '安徽省', '上海市', '吉林省', '北京市', '河南省',\n",
       "       '宁夏回族自治区', '新疆维吾尔自治区', '海南省', '西藏自治区'], dtype=object)"
      ]
     },
     "execution_count": 24,
     "metadata": {},
     "output_type": "execute_result"
    }
   ],
   "source": [
    "# 户籍省份和居住地省份不一致衍生\n",
    "data1.UserInfo_19.unique()"
   ]
  },
  {
   "cell_type": "code",
   "execution_count": 25,
   "metadata": {
    "ExecuteTime": {
     "end_time": "2019-09-05T07:11:19.138300Z",
     "start_time": "2019-09-05T07:11:19.128321Z"
    }
   },
   "outputs": [
    {
     "data": {
      "text/plain": [
       "array(['广东', '浙江', '湖北', '福建', '辽宁', '不详', '内蒙古', '湖南', '黑龙江', '山西', '北京',\n",
       "       '山东', '江苏', '云南', '天津', '广西', '重庆', '江西', '四川', '陕西', '贵州', '河北',\n",
       "       '青海', '甘肃', '安徽', '吉林', '新疆', '海南', '河南', '宁夏', '上海', '西藏'],\n",
       "      dtype=object)"
      ]
     },
     "execution_count": 25,
     "metadata": {},
     "output_type": "execute_result"
    }
   ],
   "source": [
    "data1.UserInfo_7.unique()"
   ]
  },
  {
   "cell_type": "code",
   "execution_count": 27,
   "metadata": {
    "ExecuteTime": {
     "end_time": "2019-09-05T07:11:39.081511Z",
     "start_time": "2019-09-05T07:11:39.043618Z"
    }
   },
   "outputs": [],
   "source": [
    "# 将UserInfo_19改成和居住地址省份相同的格式\n",
    "UserInfo_19_change = []\n",
    "for i in data1.UserInfo_19:\n",
    "    if i=='内蒙古自治区' or i=='黑龙江省':\n",
    "        j = i[:3]\n",
    "    else:\n",
    "        j=i[:2]\n",
    "    UserInfo_19_change.append(j)"
   ]
  },
  {
   "cell_type": "code",
   "execution_count": 28,
   "metadata": {
    "ExecuteTime": {
     "end_time": "2019-09-05T07:11:39.913825Z",
     "start_time": "2019-09-05T07:11:39.694413Z"
    }
   },
   "outputs": [
    {
     "data": {
      "text/plain": [
       "(49101, 158)"
      ]
     },
     "execution_count": 28,
     "metadata": {},
     "output_type": "execute_result"
    }
   ],
   "source": [
    "is_same_province=[]\n",
    "# 判断UserInfo_7和UserInfo_19是否一致\n",
    "for i,j in zip(data1.UserInfo_7,UserInfo_19_change):\n",
    "    if i==j:\n",
    "        a = 1\n",
    "    else:\n",
    "        a = 0\n",
    "    is_same_province.append(a)\n",
    "    \n",
    "data1['is_same_province'] = is_same_province\n",
    "\n",
    "# 删除原有的变量\n",
    "data1 = data1.drop(['UserInfo_19','UserInfo_7'],axis=1)\n",
    "data1.shape"
   ]
  },
  {
   "cell_type": "markdown",
   "metadata": {},
   "source": [
    "### 运营商"
   ]
  },
  {
   "cell_type": "code",
   "execution_count": 29,
   "metadata": {
    "ExecuteTime": {
     "end_time": "2019-09-05T07:11:52.770282Z",
     "start_time": "2019-09-05T07:11:52.443154Z"
    }
   },
   "outputs": [
    {
     "data": {
      "text/plain": [
       "(49101, 164)"
      ]
     },
     "execution_count": 29,
     "metadata": {},
     "output_type": "execute_result"
    }
   ],
   "source": [
    "# 将运营商信息转换为哑变量\n",
    "data1 = data1.replace({'UserInfo_9':{'中国移动':'china_mobile',\n",
    "                                     '中国电信':'china_telecom',\n",
    "                                     '中国联通':'china_unicom',\n",
    "                                     '不详':'operator_unknown'}})\n",
    "oper_dummy = pd.get_dummies(data1.UserInfo_9)\n",
    "data1 = pd.concat([data1,oper_dummy],axis=1)\n",
    "# 删除原变量\n",
    "data1 = data1.drop(['UserInfo_9'],axis=1)\n",
    "data1.shape"
   ]
  },
  {
   "cell_type": "markdown",
   "metadata": {},
   "source": [
    "###  城市"
   ]
  },
  {
   "cell_type": "raw",
   "metadata": {},
   "source": [
    "原数据中有4个城市信息，推测为用户登录的IP地址城市，衍生的逻辑为：\n",
    "1. 通过xgboost挑选比较重要的城市变量，进行二值化衍生\n",
    "2. 由4个城市特征的非重复项计数可衍生成 登录IP地址的变更次数\n",
    "3. 根据城市的一线/二线/三线进行降基处理，再转化为二值化特征"
   ]
  },
  {
   "cell_type": "code",
   "execution_count": 30,
   "metadata": {
    "ExecuteTime": {
     "end_time": "2019-09-05T07:12:01.778118Z",
     "start_time": "2019-09-05T07:12:01.744208Z"
    }
   },
   "outputs": [
    {
     "name": "stdout",
     "output_type": "stream",
     "text": [
      "UserInfo_2:329\n",
      "\t\n",
      "UserInfo_4:332\n",
      "\t\n",
      "UserInfo_8:664\n",
      "\t\n",
      "UserInfo_20:308\n",
      "\t\n"
     ]
    }
   ],
   "source": [
    "# 计算4个城市特征的非重复项计数，观察是否有数据异常\n",
    "for col in ['UserInfo_2','UserInfo_4','UserInfo_8','UserInfo_20']:\n",
    "    print('{}:{}'.format(col,data1[col].nunique()))\n",
    "    print('\\t')"
   ]
  },
  {
   "cell_type": "code",
   "execution_count": 31,
   "metadata": {
    "ExecuteTime": {
     "end_time": "2019-09-05T07:12:09.979188Z",
     "start_time": "2019-09-05T07:12:09.967156Z"
    },
    "scrolled": true
   },
   "outputs": [
    {
     "name": "stdout",
     "output_type": "stream",
     "text": [
      "['深圳' '温州' '宜昌' '南平' '辽阳' '不详' '包头' '广州' '赤峰' '鄂州' '武汉' '长沙' '漳州' '牡丹江'\n",
      " '太原市' '北京' '忻州' '三明' '临沂' '福州' '泰州市' '大同' '红河' '郴州' '常州' '湖州' '佛山' '天津'\n",
      " '南宁' '聊城' '柳州' '广州市' '太原' '重庆' '杭州' '景德镇' '上饶' '鸡西' '资阳' '成都' '济宁' '滨州'\n",
      " '渭南' '都匀' '廊坊' '西宁市' '金华' '龙岩' '清远' '兰州']\n"
     ]
    }
   ],
   "source": [
    "# UserInfo_8相对其他特征nunique较大，发现有些城市有\"市\"，有些没有，需要做一下清洗\n",
    "print(data1.UserInfo_8.unique()[:50])"
   ]
  },
  {
   "cell_type": "code",
   "execution_count": 32,
   "metadata": {
    "ExecuteTime": {
     "end_time": "2019-09-05T07:12:10.774765Z",
     "start_time": "2019-09-05T07:12:10.736871Z"
    }
   },
   "outputs": [
    {
     "data": {
      "text/plain": [
       "400"
      ]
     },
     "execution_count": 32,
     "metadata": {},
     "output_type": "execute_result"
    }
   ],
   "source": [
    "# UserInfo_8清洗处理，处理后非重复项计数减小到400\n",
    "data1['UserInfo_8']=[s[:-1] if s.find('市')>0 else s[:] for s in data1.UserInfo_8] \n",
    "data1.UserInfo_8.nunique()"
   ]
  },
  {
   "cell_type": "code",
   "execution_count": 33,
   "metadata": {
    "ExecuteTime": {
     "end_time": "2019-09-05T07:12:15.216679Z",
     "start_time": "2019-09-05T07:12:14.151089Z"
    }
   },
   "outputs": [],
   "source": [
    "# 根据xgboost变量重要性的输出吧对城市作二值化衍生\n",
    "data1_temp1 = data1[['UserInfo_2','UserInfo_4','UserInfo_8','UserInfo_20','target']]\n",
    "area_list=[]\n",
    "# 将四个城市变量都做亚编码处理\n",
    "for col in data1_temp1:\n",
    "    dummy_df = pd.get_dummies(data1_temp1[col])\n",
    "    dummy_df = pd.concat([dummy_df,data1_temp1['target']],axis=1)\n",
    "    area_list.append(dummy_df)\n",
    "\n",
    "df_area1 = area_list[0]\n",
    "df_area2 = area_list[1]\n",
    "df_area3 = area_list[2]\n",
    "df_area4 = area_list[3]"
   ]
  },
  {
   "cell_type": "code",
   "execution_count": 34,
   "metadata": {
    "ExecuteTime": {
     "end_time": "2019-09-05T07:15:44.084074Z",
     "start_time": "2019-09-05T07:12:18.879150Z"
    }
   },
   "outputs": [],
   "source": [
    "# 用xgboost建模\n",
    "from xgboost.sklearn import XGBClassifier\n",
    "x_area1 = df_area1.drop(['target'],axis=1)\n",
    "y_area1 = df_area1['target']\n",
    "x_area2 = df_area2.drop(['target'],axis=1)\n",
    "y_area2 = df_area2['target']\n",
    "x_area3 = df_area3.drop(['target'],axis=1)\n",
    "y_area3 = df_area3['target']\n",
    "x_area4 = df_area4.drop(['target'],axis=1)\n",
    "y_area4 = df_area4['target']\n",
    "xg_area1 = XGBClassifier(random_state=0).fit(x_area1,y_area1)\n",
    "xg_area2 = XGBClassifier(random_state=0).fit(x_area2,y_area2)\n",
    "xg_area3 = XGBClassifier(random_state=0).fit(x_area3,y_area3)\n",
    "xg_area4 = XGBClassifier(random_state=0).fit(x_area4,y_area4)"
   ]
  },
  {
   "cell_type": "code",
   "execution_count": 37,
   "metadata": {
    "ExecuteTime": {
     "end_time": "2019-09-05T07:19:10.154506Z",
     "start_time": "2019-09-05T07:19:08.820826Z"
    }
   },
   "outputs": [
    {
     "data": {
      "text/plain": [
       "<matplotlib.axes._subplots.AxesSubplot at 0x174a909b748>"
      ]
     },
     "execution_count": 37,
     "metadata": {},
     "output_type": "execute_result"
    },
    {
     "data": {
      "image/png": "[encoded data removed]",
      "text/plain": [
       "<Figure size 1440x576 with 4 Axes>"
      ]
     },
     "metadata": {},
     "output_type": "display_data"
    }
   ],
   "source": [
    "# 输出变量的重要性\n",
    "from xgboost import plot_importance\n",
    "plt.style.use('ggplot')\n",
    "plt.rcParams['font.sans-serif'] = ['SimHei']\n",
    "fig = plt.figure(figsize=(20,8))\n",
    "ax1 = fig.add_subplot(2,2,1)\n",
    "ax2 = fig.add_subplot(2,2,2)\n",
    "ax3 = fig.add_subplot(2,2,3)\n",
    "ax4 = fig.add_subplot(2,2,4)\n",
    "plot_importance(xg_area1,ax=ax1,max_num_features=10,height=0.4)\n",
    "plot_importance(xg_area2,ax=ax2,max_num_features=10,height=0.4)\n",
    "plot_importance(xg_area3,ax=ax3,max_num_features=10,height=0.4)\n",
    "plot_importance(xg_area4,ax=ax4,max_num_features=10,height=0.4)"
   ]
  },
  {
   "cell_type": "code",
   "execution_count": 38,
   "metadata": {
    "ExecuteTime": {
     "end_time": "2019-09-05T07:20:48.539536Z",
     "start_time": "2019-09-05T07:20:28.343554Z"
    }
   },
   "outputs": [],
   "source": [
    "# 城市变量的二值化\n",
    "data1['is_zibo_UserInfo2'] = data1.apply(lambda x:1 if x.UserInfo_2=='淄博' else 0,axis=1)\n",
    "data1['is_chengdu_UserInfo2'] = data1.apply(lambda x:1 if x.UserInfo_2=='成都' else 0,axis=1)\n",
    "data1['is_yantai_UserInfo2'] = data1.apply(lambda x:1 if x.UserInfo_2=='烟台' else 0,axis=1)\n",
    "\n",
    "data1['is_zibo_UserInfo4'] = data1.apply(lambda x:1 if x.UserInfo_4=='淄博' else 0,axis=1)\n",
    "data1['is_chengdu_UserInfo4'] = data1.apply(lambda x:1 if x.UserInfo_4=='成都' else 0,axis=1)\n",
    "data1['is_weifang_UserInfo4'] = data1.apply(lambda x:1 if x.UserInfo_4=='丹东' else 0,axis=1)\n",
    "\n",
    "data1['is_zibo_UserInfo8'] = data1.apply(lambda x:1 if x.UserInfo_8=='淄博' else 0,axis=1)\n",
    "data1['is_chengdu_UserInfo8'] = data1.apply(lambda x:1 if x.UserInfo_8=='成都' else 0,axis=1)\n",
    "data1['is_shantou_UserInfo8'] = data1.apply(lambda x:1 if x.UserInfo_8=='汕头' else 0,axis=1)\n",
    "\n",
    "data1['is_zibo_UserInfo20'] = data1.apply(lambda x:1 if x.UserInfo_20=='淄博市' else 0,axis=1)\n",
    "data1['is_chengdu_UserInfo20'] = data1.apply(lambda x:1 if x.UserInfo_20=='成都市' else 0,axis=1)\n",
    "data1['is_weifang_UserInfo20'] = data1.apply(lambda x:1 if x.UserInfo_20=='潍坊市' else 0,axis=1)"
   ]
  },
  {
   "cell_type": "code",
   "execution_count": 39,
   "metadata": {
    "ExecuteTime": {
     "end_time": "2019-09-05T07:21:43.086793Z",
     "start_time": "2019-09-05T07:21:34.211533Z"
    }
   },
   "outputs": [
    {
     "data": {
      "text/plain": [
       "(49101, 173)"
      ]
     },
     "execution_count": 39,
     "metadata": {},
     "output_type": "execute_result"
    }
   ],
   "source": [
    "# 将四个城市变量改成同一的格式\n",
    "data1['UserInfo_20'] = [i[:-1] if i.find('市')>0 else i[:] for i in data1.UserInfo_20]\n",
    "# 城市变更次数变量衍生\n",
    "city_df = data1[['UserInfo_2','UserInfo_4','UserInfo_8','UserInfo_20']]\n",
    "city_change_cnt =[]\n",
    "for i in range(city_df.shape[0]):\n",
    "    a = list(city_df.iloc[i])\n",
    "    city_count = len(set(a))\n",
    "    city_change_cnt.append(city_count)\n",
    "data1['city_change_cnt'] = city_change_cnt\n",
    "# 删除原变量\n",
    "data1 = data1.drop(['UserInfo_2','UserInfo_4','UserInfo_8','UserInfo_20'],axis=1)\n",
    "data1.shape"
   ]
  },
  {
   "cell_type": "markdown",
   "metadata": {},
   "source": [
    "### 微博"
   ]
  },
  {
   "cell_type": "code",
   "execution_count": 42,
   "metadata": {
    "ExecuteTime": {
     "end_time": "2019-09-05T07:24:08.423325Z",
     "start_time": "2019-09-05T07:24:08.183961Z"
    }
   },
   "outputs": [],
   "source": [
    "# 将字符型的nan转为众数\n",
    "for col in ['WeblogInfo_19','WeblogInfo_20','WeblogInfo_21']:\n",
    "    data1 = data1.replace({col:{'nan':np.nan}})\n",
    "# 将缺失填充为众数\n",
    "for col in ['WeblogInfo_19','WeblogInfo_20','WeblogInfo_21']:\n",
    "    data1[col] = data1[col].fillna(data1[col].mode()[0])"
   ]
  },
  {
   "cell_type": "code",
   "execution_count": null,
   "metadata": {},
   "outputs": [],
   "source": []
  },
  {
   "cell_type": "code",
   "execution_count": null,
   "metadata": {},
   "outputs": [],
   "source": []
  },
  {
   "cell_type": "code",
   "execution_count": 43,
   "metadata": {
    "ExecuteTime": {
     "end_time": "2019-09-05T07:24:15.714539Z",
     "start_time": "2019-09-05T07:24:15.668663Z"
    }
   },
   "outputs": [],
   "source": [
    "# 微博变量的哑变量处理\n",
    "data1['WeblogInfo_19'] = ['WeblogInfo_19_'+s for s in data1.WeblogInfo_19]\n",
    "data1['WeblogInfo_21'] = ['WeblogInfo_21_'+s for s in data1.WeblogInfo_21]"
   ]
  },
  {
   "cell_type": "code",
   "execution_count": 44,
   "metadata": {
    "ExecuteTime": {
     "end_time": "2019-09-05T07:24:19.701847Z",
     "start_time": "2019-09-05T07:24:19.142339Z"
    }
   },
   "outputs": [
    {
     "data": {
      "text/plain": [
       "(49101, 181)"
      ]
     },
     "execution_count": 44,
     "metadata": {},
     "output_type": "execute_result"
    }
   ],
   "source": [
    "for col in ['WeblogInfo_19','WeblogInfo_21']:\n",
    "    dummy_df = pd.get_dummies(data1[col])\n",
    "    data1 = pd.concat([data1,dummy_df],axis=1)\n",
    "# 删除原变量\n",
    "data1 = data1.drop(['WeblogInfo_19','WeblogInfo_21','WeblogInfo_20'],axis=1)\n",
    "data1.shape"
   ]
  },
  {
   "cell_type": "markdown",
   "metadata": {},
   "source": [
    "## 数值型变量 "
   ]
  },
  {
   "cell_type": "code",
   "execution_count": 46,
   "metadata": {
    "ExecuteTime": {
     "end_time": "2019-09-05T07:24:50.339643Z",
     "start_time": "2019-09-05T07:24:50.333657Z"
    }
   },
   "outputs": [
    {
     "data": {
      "text/plain": [
       "138"
      ]
     },
     "execution_count": 46,
     "metadata": {},
     "output_type": "execute_result"
    }
   ],
   "source": [
    "# 数值型变量的缺失率分布\n",
    "len(num)"
   ]
  },
  {
   "cell_type": "code",
   "execution_count": 48,
   "metadata": {
    "ExecuteTime": {
     "end_time": "2019-09-05T07:25:15.103056Z",
     "start_time": "2019-09-05T07:25:13.632987Z"
    }
   },
   "outputs": [
    {
     "data": {
      "text/html": [
       "<div>\n",
       "<style scoped>\n",
       "    .dataframe tbody tr th:only-of-type {\n",
       "        vertical-align: middle;\n",
       "    }\n",
       "\n",
       "    .dataframe tbody tr th {\n",
       "        vertical-align: top;\n",
       "    }\n",
       "\n",
       "    .dataframe thead th {\n",
       "        text-align: right;\n",
       "    }\n",
       "</style>\n",
       "<table border=\"1\" class=\"dataframe\">\n",
       "  <thead>\n",
       "    <tr style=\"text-align: right;\">\n",
       "      <th></th>\n",
       "      <th>count</th>\n",
       "      <th>mean</th>\n",
       "      <th>std</th>\n",
       "      <th>min</th>\n",
       "      <th>25%</th>\n",
       "      <th>50%</th>\n",
       "      <th>75%</th>\n",
       "      <th>max</th>\n",
       "      <th>nuniq</th>\n",
       "      <th>misssing_pct</th>\n",
       "    </tr>\n",
       "  </thead>\n",
       "  <tbody>\n",
       "    <tr>\n",
       "      <th>target</th>\n",
       "      <td>49101.0</td>\n",
       "      <td>0.074418</td>\n",
       "      <td>0.262453</td>\n",
       "      <td>0.0</td>\n",
       "      <td>0.0</td>\n",
       "      <td>0.0</td>\n",
       "      <td>0.0</td>\n",
       "      <td>1.0</td>\n",
       "      <td>2</td>\n",
       "      <td>0.000000</td>\n",
       "    </tr>\n",
       "    <tr>\n",
       "      <th>UserInfo_17</th>\n",
       "      <td>49101.0</td>\n",
       "      <td>1.126087</td>\n",
       "      <td>0.331951</td>\n",
       "      <td>1.0</td>\n",
       "      <td>1.0</td>\n",
       "      <td>1.0</td>\n",
       "      <td>1.0</td>\n",
       "      <td>2.0</td>\n",
       "      <td>2</td>\n",
       "      <td>0.000000</td>\n",
       "    </tr>\n",
       "    <tr>\n",
       "      <th>UserInfo_13</th>\n",
       "      <td>18204.0</td>\n",
       "      <td>0.641233</td>\n",
       "      <td>0.479652</td>\n",
       "      <td>0.0</td>\n",
       "      <td>0.0</td>\n",
       "      <td>1.0</td>\n",
       "      <td>1.0</td>\n",
       "      <td>1.0</td>\n",
       "      <td>2</td>\n",
       "      <td>0.629254</td>\n",
       "    </tr>\n",
       "    <tr>\n",
       "      <th>UserInfo_12</th>\n",
       "      <td>18204.0</td>\n",
       "      <td>0.357119</td>\n",
       "      <td>0.479164</td>\n",
       "      <td>0.0</td>\n",
       "      <td>0.0</td>\n",
       "      <td>0.0</td>\n",
       "      <td>1.0</td>\n",
       "      <td>1.0</td>\n",
       "      <td>2</td>\n",
       "      <td>0.629254</td>\n",
       "    </tr>\n",
       "    <tr>\n",
       "      <th>UserInfo_11</th>\n",
       "      <td>18204.0</td>\n",
       "      <td>0.085586</td>\n",
       "      <td>0.279759</td>\n",
       "      <td>0.0</td>\n",
       "      <td>0.0</td>\n",
       "      <td>0.0</td>\n",
       "      <td>0.0</td>\n",
       "      <td>1.0</td>\n",
       "      <td>2</td>\n",
       "      <td>0.629254</td>\n",
       "    </tr>\n",
       "    <tr>\n",
       "      <th>UserInfo_10</th>\n",
       "      <td>49101.0</td>\n",
       "      <td>0.311379</td>\n",
       "      <td>0.604031</td>\n",
       "      <td>0.0</td>\n",
       "      <td>0.0</td>\n",
       "      <td>0.0</td>\n",
       "      <td>0.0</td>\n",
       "      <td>2.0</td>\n",
       "      <td>3</td>\n",
       "      <td>0.000000</td>\n",
       "    </tr>\n",
       "    <tr>\n",
       "      <th>UserInfo_5</th>\n",
       "      <td>49101.0</td>\n",
       "      <td>1.649824</td>\n",
       "      <td>0.583149</td>\n",
       "      <td>1.0</td>\n",
       "      <td>1.0</td>\n",
       "      <td>2.0</td>\n",
       "      <td>2.0</td>\n",
       "      <td>3.0</td>\n",
       "      <td>3</td>\n",
       "      <td>0.000000</td>\n",
       "    </tr>\n",
       "    <tr>\n",
       "      <th>UserInfo_6</th>\n",
       "      <td>49101.0</td>\n",
       "      <td>1.649926</td>\n",
       "      <td>0.581899</td>\n",
       "      <td>1.0</td>\n",
       "      <td>1.0</td>\n",
       "      <td>2.0</td>\n",
       "      <td>2.0</td>\n",
       "      <td>3.0</td>\n",
       "      <td>3</td>\n",
       "      <td>0.000000</td>\n",
       "    </tr>\n",
       "    <tr>\n",
       "      <th>SocialNetwork_12</th>\n",
       "      <td>49101.0</td>\n",
       "      <td>-0.744995</td>\n",
       "      <td>0.441163</td>\n",
       "      <td>-1.0</td>\n",
       "      <td>-1.0</td>\n",
       "      <td>-1.0</td>\n",
       "      <td>0.0</td>\n",
       "      <td>1.0</td>\n",
       "      <td>3</td>\n",
       "      <td>0.000000</td>\n",
       "    </tr>\n",
       "    <tr>\n",
       "      <th>SocialNetwork_17</th>\n",
       "      <td>49101.0</td>\n",
       "      <td>0.253620</td>\n",
       "      <td>0.437282</td>\n",
       "      <td>0.0</td>\n",
       "      <td>0.0</td>\n",
       "      <td>0.0</td>\n",
       "      <td>1.0</td>\n",
       "      <td>3.0</td>\n",
       "      <td>4</td>\n",
       "      <td>0.000000</td>\n",
       "    </tr>\n",
       "  </tbody>\n",
       "</table>\n",
       "</div>"
      ],
      "text/plain": [
       "                    count      mean       std  min  25%  50%  75%  max  nuniq  \\\n",
       "target            49101.0  0.074418  0.262453  0.0  0.0  0.0  0.0  1.0      2   \n",
       "UserInfo_17       49101.0  1.126087  0.331951  1.0  1.0  1.0  1.0  2.0      2   \n",
       "UserInfo_13       18204.0  0.641233  0.479652  0.0  0.0  1.0  1.0  1.0      2   \n",
       "UserInfo_12       18204.0  0.357119  0.479164  0.0  0.0  0.0  1.0  1.0      2   \n",
       "UserInfo_11       18204.0  0.085586  0.279759  0.0  0.0  0.0  0.0  1.0      2   \n",
       "UserInfo_10       49101.0  0.311379  0.604031  0.0  0.0  0.0  0.0  2.0      3   \n",
       "UserInfo_5        49101.0  1.649824  0.583149  1.0  1.0  2.0  2.0  3.0      3   \n",
       "UserInfo_6        49101.0  1.649926  0.581899  1.0  1.0  2.0  2.0  3.0      3   \n",
       "SocialNetwork_12  49101.0 -0.744995  0.441163 -1.0 -1.0 -1.0  0.0  1.0      3   \n",
       "SocialNetwork_17  49101.0  0.253620  0.437282  0.0  0.0  0.0  1.0  3.0      4   \n",
       "\n",
       "                  misssing_pct  \n",
       "target                0.000000  \n",
       "UserInfo_17           0.000000  \n",
       "UserInfo_13           0.629254  \n",
       "UserInfo_12           0.629254  \n",
       "UserInfo_11           0.629254  \n",
       "UserInfo_10           0.000000  \n",
       "UserInfo_5            0.000000  \n",
       "UserInfo_6            0.000000  \n",
       "SocialNetwork_12      0.000000  \n",
       "SocialNetwork_17      0.000000  "
      ]
     },
     "execution_count": 48,
     "metadata": {},
     "output_type": "execute_result"
    }
   ],
   "source": [
    "# 数值型变量的描述性分析\n",
    "num_desc = data1.loc[:,num].describe().T.assign(nuniq = data1.loc[:,num].apply(lambda x:x.nunique()),\\\n",
    "                                         misssing_pct  =data1.loc[:,num].apply(lambda x:(len(x)-x.count())/len(x)))\\\n",
    "                              .sort_values('nuniq')\n",
    "num_desc.head(10)"
   ]
  },
  {
   "cell_type": "markdown",
   "metadata": {},
   "source": [
    "### 排序特征衍生 "
   ]
  },
  {
   "cell_type": "code",
   "execution_count": 50,
   "metadata": {
    "ExecuteTime": {
     "end_time": "2019-09-05T07:26:47.177702Z",
     "start_time": "2019-09-05T07:26:45.867916Z"
    }
   },
   "outputs": [],
   "source": [
    "num_col2 = [col for col in num if col!='target']\n",
    "# 筛选出只有数值型变量的数据集\n",
    "num_data = data1.loc[:,num_col2]\n",
    "\n",
    "# 排序特征衍生\n",
    "for col in num_col2:\n",
    "    num_data['rank'+col] = num_data[col].rank(method='max')/num_data.shape[0]\n",
    "\n",
    "# 将排序特征转为单独的数据集\n",
    "rank_col = [col for col in num_data.columns if col not in num_col2]\n",
    "rank_df = num_data.loc[:,rank_col]"
   ]
  },
  {
   "cell_type": "markdown",
   "metadata": {},
   "source": [
    "### periods变量衍生 "
   ]
  },
  {
   "cell_type": "code",
   "execution_count": 51,
   "metadata": {
    "ExecuteTime": {
     "end_time": "2019-09-05T07:26:52.389426Z",
     "start_time": "2019-09-05T07:26:52.352525Z"
    }
   },
   "outputs": [],
   "source": [
    "# 生成只包含periods的临时表\n",
    "periods_col = [i for i in num_col2 if i.find('Period')>0]\n",
    "periods_col2 = periods_col+['target']\n",
    "periods_data = data1.loc[:,periods_col2]"
   ]
  },
  {
   "cell_type": "code",
   "execution_count": 52,
   "metadata": {
    "ExecuteTime": {
     "end_time": "2019-09-05T07:26:54.838985Z",
     "start_time": "2019-09-05T07:26:54.807070Z"
    }
   },
   "outputs": [
    {
     "data": {
      "text/html": [
       "<div>\n",
       "<style scoped>\n",
       "    .dataframe tbody tr th:only-of-type {\n",
       "        vertical-align: middle;\n",
       "    }\n",
       "\n",
       "    .dataframe tbody tr th {\n",
       "        vertical-align: top;\n",
       "    }\n",
       "\n",
       "    .dataframe thead th {\n",
       "        text-align: right;\n",
       "    }\n",
       "</style>\n",
       "<table border=\"1\" class=\"dataframe\">\n",
       "  <thead>\n",
       "    <tr style=\"text-align: right;\">\n",
       "      <th></th>\n",
       "      <th>ThirdParty_Info_Period1_1</th>\n",
       "      <th>ThirdParty_Info_Period1_10</th>\n",
       "      <th>ThirdParty_Info_Period1_11</th>\n",
       "      <th>ThirdParty_Info_Period1_12</th>\n",
       "      <th>ThirdParty_Info_Period1_13</th>\n",
       "      <th>ThirdParty_Info_Period1_14</th>\n",
       "      <th>ThirdParty_Info_Period1_15</th>\n",
       "      <th>ThirdParty_Info_Period1_16</th>\n",
       "      <th>ThirdParty_Info_Period1_17</th>\n",
       "      <th>ThirdParty_Info_Period1_2</th>\n",
       "      <th>ThirdParty_Info_Period1_3</th>\n",
       "      <th>ThirdParty_Info_Period1_4</th>\n",
       "      <th>ThirdParty_Info_Period1_5</th>\n",
       "      <th>ThirdParty_Info_Period1_6</th>\n",
       "      <th>ThirdParty_Info_Period1_7</th>\n",
       "      <th>ThirdParty_Info_Period1_8</th>\n",
       "      <th>ThirdParty_Info_Period1_9</th>\n",
       "    </tr>\n",
       "  </thead>\n",
       "  <tbody>\n",
       "    <tr>\n",
       "      <th>0</th>\n",
       "      <td>10</td>\n",
       "      <td>1</td>\n",
       "      <td>10</td>\n",
       "      <td>63</td>\n",
       "      <td>27489</td>\n",
       "      <td>0</td>\n",
       "      <td>18900</td>\n",
       "      <td>6083</td>\n",
       "      <td>2506</td>\n",
       "      <td>47</td>\n",
       "      <td>167</td>\n",
       "      <td>0</td>\n",
       "      <td>25</td>\n",
       "      <td>65</td>\n",
       "      <td>68</td>\n",
       "      <td>34</td>\n",
       "      <td>2</td>\n",
       "    </tr>\n",
       "    <tr>\n",
       "      <th>1</th>\n",
       "      <td>0</td>\n",
       "      <td>1</td>\n",
       "      <td>8</td>\n",
       "      <td>0</td>\n",
       "      <td>3839</td>\n",
       "      <td>9558</td>\n",
       "      <td>49</td>\n",
       "      <td>9571</td>\n",
       "      <td>3777</td>\n",
       "      <td>0</td>\n",
       "      <td>68</td>\n",
       "      <td>105</td>\n",
       "      <td>40</td>\n",
       "      <td>2</td>\n",
       "      <td>132</td>\n",
       "      <td>39</td>\n",
       "      <td>2</td>\n",
       "    </tr>\n",
       "    <tr>\n",
       "      <th>2</th>\n",
       "      <td>1</td>\n",
       "      <td>0</td>\n",
       "      <td>7</td>\n",
       "      <td>0</td>\n",
       "      <td>3578</td>\n",
       "      <td>5360</td>\n",
       "      <td>0</td>\n",
       "      <td>4646</td>\n",
       "      <td>4292</td>\n",
       "      <td>2</td>\n",
       "      <td>50</td>\n",
       "      <td>50</td>\n",
       "      <td>49</td>\n",
       "      <td>0</td>\n",
       "      <td>78</td>\n",
       "      <td>22</td>\n",
       "      <td>0</td>\n",
       "    </tr>\n",
       "    <tr>\n",
       "      <th>3</th>\n",
       "      <td>9</td>\n",
       "      <td>1</td>\n",
       "      <td>9</td>\n",
       "      <td>0</td>\n",
       "      <td>3805</td>\n",
       "      <td>9765</td>\n",
       "      <td>0</td>\n",
       "      <td>10461</td>\n",
       "      <td>3109</td>\n",
       "      <td>54</td>\n",
       "      <td>56</td>\n",
       "      <td>125</td>\n",
       "      <td>38</td>\n",
       "      <td>0</td>\n",
       "      <td>136</td>\n",
       "      <td>45</td>\n",
       "      <td>2</td>\n",
       "    </tr>\n",
       "    <tr>\n",
       "      <th>4</th>\n",
       "      <td>1</td>\n",
       "      <td>1</td>\n",
       "      <td>5</td>\n",
       "      <td>0</td>\n",
       "      <td>561</td>\n",
       "      <td>792</td>\n",
       "      <td>1353</td>\n",
       "      <td>0</td>\n",
       "      <td>0</td>\n",
       "      <td>5</td>\n",
       "      <td>39</td>\n",
       "      <td>34</td>\n",
       "      <td>36</td>\n",
       "      <td>73</td>\n",
       "      <td>0</td>\n",
       "      <td>0</td>\n",
       "      <td>1</td>\n",
       "    </tr>\n",
       "  </tbody>\n",
       "</table>\n",
       "</div>"
      ],
      "text/plain": [
       "   ThirdParty_Info_Period1_1  ThirdParty_Info_Period1_10  \\\n",
       "0                         10                           1   \n",
       "1                          0                           1   \n",
       "2                          1                           0   \n",
       "3                          9                           1   \n",
       "4                          1                           1   \n",
       "\n",
       "   ThirdParty_Info_Period1_11  ThirdParty_Info_Period1_12  \\\n",
       "0                          10                          63   \n",
       "1                           8                           0   \n",
       "2                           7                           0   \n",
       "3                           9                           0   \n",
       "4                           5                           0   \n",
       "\n",
       "   ThirdParty_Info_Period1_13  ThirdParty_Info_Period1_14  \\\n",
       "0                       27489                           0   \n",
       "1                        3839                        9558   \n",
       "2                        3578                        5360   \n",
       "3                        3805                        9765   \n",
       "4                         561                         792   \n",
       "\n",
       "   ThirdParty_Info_Period1_15  ThirdParty_Info_Period1_16  \\\n",
       "0                       18900                        6083   \n",
       "1                          49                        9571   \n",
       "2                           0                        4646   \n",
       "3                           0                       10461   \n",
       "4                        1353                           0   \n",
       "\n",
       "   ThirdParty_Info_Period1_17  ThirdParty_Info_Period1_2  \\\n",
       "0                        2506                         47   \n",
       "1                        3777                          0   \n",
       "2                        4292                          2   \n",
       "3                        3109                         54   \n",
       "4                           0                          5   \n",
       "\n",
       "   ThirdParty_Info_Period1_3  ThirdParty_Info_Period1_4  \\\n",
       "0                        167                          0   \n",
       "1                         68                        105   \n",
       "2                         50                         50   \n",
       "3                         56                        125   \n",
       "4                         39                         34   \n",
       "\n",
       "   ThirdParty_Info_Period1_5  ThirdParty_Info_Period1_6  \\\n",
       "0                         25                         65   \n",
       "1                         40                          2   \n",
       "2                         49                          0   \n",
       "3                         38                          0   \n",
       "4                         36                         73   \n",
       "\n",
       "   ThirdParty_Info_Period1_7  ThirdParty_Info_Period1_8  \\\n",
       "0                         68                         34   \n",
       "1                        132                         39   \n",
       "2                         78                         22   \n",
       "3                        136                         45   \n",
       "4                          0                          0   \n",
       "\n",
       "   ThirdParty_Info_Period1_9  \n",
       "0                          2  \n",
       "1                          2  \n",
       "2                          0  \n",
       "3                          2  \n",
       "4                          1  "
      ]
     },
     "execution_count": 52,
     "metadata": {},
     "output_type": "execute_result"
    }
   ],
   "source": [
    "# 观察包含period1所有字段的数据，发现字段之间量级差异比较大，可能代表不同的含义，不适合做衍生\n",
    "periods1_col = [col for col in periods_col if col.find('Period1')>0]\n",
    "periods_data.loc[:,periods1_col].head()"
   ]
  },
  {
   "cell_type": "code",
   "execution_count": 53,
   "metadata": {
    "ExecuteTime": {
     "end_time": "2019-09-05T07:26:59.218836Z",
     "start_time": "2019-09-05T07:26:59.204866Z"
    }
   },
   "outputs": [
    {
     "data": {
      "text/html": [
       "<div>\n",
       "<style scoped>\n",
       "    .dataframe tbody tr th:only-of-type {\n",
       "        vertical-align: middle;\n",
       "    }\n",
       "\n",
       "    .dataframe tbody tr th {\n",
       "        vertical-align: top;\n",
       "    }\n",
       "\n",
       "    .dataframe thead th {\n",
       "        text-align: right;\n",
       "    }\n",
       "</style>\n",
       "<table border=\"1\" class=\"dataframe\">\n",
       "  <thead>\n",
       "    <tr style=\"text-align: right;\">\n",
       "      <th></th>\n",
       "      <th>ThirdParty_Info_Period1_1</th>\n",
       "      <th>ThirdParty_Info_Period2_1</th>\n",
       "      <th>ThirdParty_Info_Period3_1</th>\n",
       "      <th>ThirdParty_Info_Period4_1</th>\n",
       "      <th>ThirdParty_Info_Period5_1</th>\n",
       "      <th>ThirdParty_Info_Period6_1</th>\n",
       "    </tr>\n",
       "  </thead>\n",
       "  <tbody>\n",
       "    <tr>\n",
       "      <th>0</th>\n",
       "      <td>10</td>\n",
       "      <td>25</td>\n",
       "      <td>36</td>\n",
       "      <td>4</td>\n",
       "      <td>0</td>\n",
       "      <td>0</td>\n",
       "    </tr>\n",
       "    <tr>\n",
       "      <th>1</th>\n",
       "      <td>0</td>\n",
       "      <td>7</td>\n",
       "      <td>1</td>\n",
       "      <td>0</td>\n",
       "      <td>0</td>\n",
       "      <td>-1</td>\n",
       "    </tr>\n",
       "    <tr>\n",
       "      <th>2</th>\n",
       "      <td>1</td>\n",
       "      <td>0</td>\n",
       "      <td>1</td>\n",
       "      <td>14</td>\n",
       "      <td>1</td>\n",
       "      <td>0</td>\n",
       "    </tr>\n",
       "    <tr>\n",
       "      <th>3</th>\n",
       "      <td>9</td>\n",
       "      <td>6</td>\n",
       "      <td>2</td>\n",
       "      <td>25</td>\n",
       "      <td>9</td>\n",
       "      <td>11</td>\n",
       "    </tr>\n",
       "    <tr>\n",
       "      <th>4</th>\n",
       "      <td>1</td>\n",
       "      <td>8</td>\n",
       "      <td>3</td>\n",
       "      <td>0</td>\n",
       "      <td>0</td>\n",
       "      <td>-1</td>\n",
       "    </tr>\n",
       "  </tbody>\n",
       "</table>\n",
       "</div>"
      ],
      "text/plain": [
       "   ThirdParty_Info_Period1_1  ThirdParty_Info_Period2_1  \\\n",
       "0                         10                         25   \n",
       "1                          0                          7   \n",
       "2                          1                          0   \n",
       "3                          9                          6   \n",
       "4                          1                          8   \n",
       "\n",
       "   ThirdParty_Info_Period3_1  ThirdParty_Info_Period4_1  \\\n",
       "0                         36                          4   \n",
       "1                          1                          0   \n",
       "2                          1                         14   \n",
       "3                          2                         25   \n",
       "4                          3                          0   \n",
       "\n",
       "   ThirdParty_Info_Period5_1  ThirdParty_Info_Period6_1  \n",
       "0                          0                          0  \n",
       "1                          0                         -1  \n",
       "2                          1                          0  \n",
       "3                          9                         11  \n",
       "4                          0                         -1  "
      ]
     },
     "execution_count": 53,
     "metadata": {},
     "output_type": "execute_result"
    }
   ],
   "source": [
    "# 观察后缀都为1的字段，发现字段数据的量级基本一致，可以对其做min,max,avg等统计值的衍生\n",
    "period_1_col=[]\n",
    "for i in range(0,102,17):\n",
    "    col = periods_col[i]\n",
    "    period_1_col.append(col)\n",
    "periods_data.loc[:,period_1_col].head()"
   ]
  },
  {
   "cell_type": "code",
   "execution_count": 54,
   "metadata": {
    "ExecuteTime": {
     "end_time": "2019-09-05T07:27:02.193531Z",
     "start_time": "2019-09-05T07:27:02.188544Z"
    }
   },
   "outputs": [],
   "source": [
    "p_num_col=[]\n",
    "# 将Period变量按照后缀数字存储成嵌套列表\n",
    "for i in range(0,17,1):\n",
    "    p_col=[]\n",
    "    for j in range(i,102,17):\n",
    "        col = periods_col[j]\n",
    "        p_col.append(col)\n",
    "    p_num_col.append(p_col)"
   ]
  },
  {
   "cell_type": "code",
   "execution_count": 55,
   "metadata": {
    "ExecuteTime": {
     "end_time": "2019-09-05T07:34:59.124634Z",
     "start_time": "2019-09-05T07:27:03.519710Z"
    }
   },
   "outputs": [],
   "source": [
    "# min,max,avg等统计值的衍生，并将衍生后的特征存成单独的数据集\n",
    "periods_data = periods_data.fillna(0)\n",
    "periods_fea_data=pd.DataFrame()\n",
    "for j,p_list in zip(range(1,18,1),p_num_col):\n",
    "    p_data = periods_data.loc[:,p_list]\n",
    "    period_min=[]\n",
    "    period_max=[]\n",
    "    period_avg=[]\n",
    "    for i in range(periods_data.shape[0]):\n",
    "        a = p_data.iloc[i]\n",
    "        period_min.append(np.min(a))\n",
    "        period_max.append(np.max(a))\n",
    "        period_avg.append(np.average(a))\n",
    "    periods_fea_data['periods_'+str(j)+'_min'] = period_min\n",
    "    periods_fea_data['periods_'+str(j)+'_max'] = period_max\n",
    "    periods_fea_data['periods_'+str(j)+'_avg'] = period_avg"
   ]
  },
  {
   "cell_type": "markdown",
   "metadata": {},
   "source": [
    "------"
   ]
  },
  {
   "cell_type": "code",
   "execution_count": 56,
   "metadata": {
    "ExecuteTime": {
     "end_time": "2019-09-05T07:37:51.477527Z",
     "start_time": "2019-09-05T07:37:19.549525Z"
    }
   },
   "outputs": [],
   "source": [
    "# 保存特征衍生后的数据集至本地\n",
    "data1.to_csv(path+'/data1_process.csv',encoding='gb18030',index=False)\n",
    "rank_df.to_csv(path + '/rank_feature.csv',encoding='gbk',index=False)\n",
    "periods_fea_data.to_csv(path+'/periods_feature.csv',encoding='gbk',index=False)"
   ]
  },
  {
   "cell_type": "markdown",
   "metadata": {},
   "source": [
    "# 修改信息表"
   ]
  },
  {
   "cell_type": "raw",
   "metadata": {},
   "source": [
    "衍生的变量\n",
    "1.最近的修改时间距离成交时间差\n",
    "2.修改信息的总次数\n",
    "3.每种信息修改的次数\n",
    "4.按照日期修改的次数"
   ]
  },
  {
   "cell_type": "code",
   "execution_count": 57,
   "metadata": {
    "ExecuteTime": {
     "end_time": "2019-09-05T07:37:56.386455Z",
     "start_time": "2019-09-05T07:37:55.289669Z"
    }
   },
   "outputs": [],
   "source": [
    "df2 = pd.read_csv(path+'/data_input2.csv',encoding='gbk')"
   ]
  },
  {
   "cell_type": "code",
   "execution_count": 58,
   "metadata": {
    "ExecuteTime": {
     "end_time": "2019-09-05T07:37:58.264321Z",
     "start_time": "2019-09-05T07:37:57.936198Z"
    }
   },
   "outputs": [],
   "source": [
    "# 最近的修改时间距离成交时间差\n",
    "# 时间格式的转换\n",
    "df2['ListingInfo1'] = pd.to_datetime(df2['ListingInfo1'])\n",
    "df2['UserupdateInfo2'] = pd.to_datetime(df2['UserupdateInfo2'])"
   ]
  },
  {
   "cell_type": "code",
   "execution_count": 59,
   "metadata": {
    "ExecuteTime": {
     "end_time": "2019-09-05T07:38:01.343732Z",
     "start_time": "2019-09-05T07:37:59.823680Z"
    }
   },
   "outputs": [],
   "source": [
    "# 计算时间差\n",
    "time_span = df2.groupby('Idx',as_index=False).agg({'UserupdateInfo2':np.max,\n",
    "                                                   'ListingInfo1':np.max})\n",
    "time_span['update_timespan'] = time_span['ListingInfo1']-time_span['UserupdateInfo2']\n",
    "time_span['update_timespan'] = time_span['update_timespan'].map(lambda x:str(x))\n",
    "time_span['update_timespan'] = time_span['update_timespan'].map(lambda x:int(x[:x.find('d')]))\n",
    "time_span = time_span[['Idx','update_timespan']]"
   ]
  },
  {
   "cell_type": "code",
   "execution_count": 60,
   "metadata": {
    "ExecuteTime": {
     "end_time": "2019-09-05T07:40:00.523141Z",
     "start_time": "2019-09-05T07:38:03.079346Z"
    }
   },
   "outputs": [],
   "source": [
    "# 将UserupdateInfo1里的字符改为小写形式\n",
    "df2['UserupdateInfo1'] = df2.UserupdateInfo1.map(lambda x:x.lower())\n",
    "# 根据Idx计算UserupdateInfo2的非重复计数\n",
    "group = df2.groupby(['Idx','UserupdateInfo1'],as_index=False).agg({'UserupdateInfo2':pd.Series.nunique})"
   ]
  },
  {
   "cell_type": "code",
   "execution_count": 61,
   "metadata": {
    "ExecuteTime": {
     "end_time": "2019-09-05T07:45:43.197991Z",
     "start_time": "2019-09-05T07:40:18.073593Z"
    }
   },
   "outputs": [
    {
     "data": {
      "text/html": [
       "<div>\n",
       "<style scoped>\n",
       "    .dataframe tbody tr th:only-of-type {\n",
       "        vertical-align: middle;\n",
       "    }\n",
       "\n",
       "    .dataframe tbody tr th {\n",
       "        vertical-align: top;\n",
       "    }\n",
       "\n",
       "    .dataframe thead th {\n",
       "        text-align: right;\n",
       "    }\n",
       "</style>\n",
       "<table border=\"1\" class=\"dataframe\">\n",
       "  <thead>\n",
       "    <tr style=\"text-align: right;\">\n",
       "      <th></th>\n",
       "      <th>Idx</th>\n",
       "      <th>_age</th>\n",
       "      <th>_bussinessaddress</th>\n",
       "      <th>_byuserid</th>\n",
       "      <th>_cityid</th>\n",
       "      <th>_companyaddress</th>\n",
       "      <th>_companyname</th>\n",
       "      <th>_companyphone</th>\n",
       "      <th>_companysizeid</th>\n",
       "      <th>_companytypeid</th>\n",
       "      <th>...</th>\n",
       "      <th>_residencetypeid</th>\n",
       "      <th>_residenceyears</th>\n",
       "      <th>_schoolname</th>\n",
       "      <th>_secondemail</th>\n",
       "      <th>_secondmobile</th>\n",
       "      <th>_turnover</th>\n",
       "      <th>_userid</th>\n",
       "      <th>_webshoptypeid</th>\n",
       "      <th>_webshopurl</th>\n",
       "      <th>_workyears</th>\n",
       "    </tr>\n",
       "  </thead>\n",
       "  <tbody>\n",
       "    <tr>\n",
       "      <th>0</th>\n",
       "      <td>3</td>\n",
       "      <td>NaN</td>\n",
       "      <td>NaN</td>\n",
       "      <td>NaN</td>\n",
       "      <td>NaN</td>\n",
       "      <td>NaN</td>\n",
       "      <td>NaN</td>\n",
       "      <td>NaN</td>\n",
       "      <td>NaN</td>\n",
       "      <td>NaN</td>\n",
       "      <td>...</td>\n",
       "      <td>1.0</td>\n",
       "      <td>1.0</td>\n",
       "      <td>NaN</td>\n",
       "      <td>NaN</td>\n",
       "      <td>NaN</td>\n",
       "      <td>NaN</td>\n",
       "      <td>NaN</td>\n",
       "      <td>NaN</td>\n",
       "      <td>NaN</td>\n",
       "      <td>NaN</td>\n",
       "    </tr>\n",
       "    <tr>\n",
       "      <th>0</th>\n",
       "      <td>4</td>\n",
       "      <td>NaN</td>\n",
       "      <td>NaN</td>\n",
       "      <td>NaN</td>\n",
       "      <td>NaN</td>\n",
       "      <td>NaN</td>\n",
       "      <td>NaN</td>\n",
       "      <td>NaN</td>\n",
       "      <td>NaN</td>\n",
       "      <td>NaN</td>\n",
       "      <td>...</td>\n",
       "      <td>1.0</td>\n",
       "      <td>1.0</td>\n",
       "      <td>NaN</td>\n",
       "      <td>NaN</td>\n",
       "      <td>NaN</td>\n",
       "      <td>NaN</td>\n",
       "      <td>NaN</td>\n",
       "      <td>NaN</td>\n",
       "      <td>NaN</td>\n",
       "      <td>NaN</td>\n",
       "    </tr>\n",
       "    <tr>\n",
       "      <th>0</th>\n",
       "      <td>5</td>\n",
       "      <td>NaN</td>\n",
       "      <td>NaN</td>\n",
       "      <td>NaN</td>\n",
       "      <td>NaN</td>\n",
       "      <td>NaN</td>\n",
       "      <td>NaN</td>\n",
       "      <td>NaN</td>\n",
       "      <td>NaN</td>\n",
       "      <td>NaN</td>\n",
       "      <td>...</td>\n",
       "      <td>1.0</td>\n",
       "      <td>1.0</td>\n",
       "      <td>NaN</td>\n",
       "      <td>NaN</td>\n",
       "      <td>NaN</td>\n",
       "      <td>NaN</td>\n",
       "      <td>NaN</td>\n",
       "      <td>NaN</td>\n",
       "      <td>NaN</td>\n",
       "      <td>NaN</td>\n",
       "    </tr>\n",
       "    <tr>\n",
       "      <th>0</th>\n",
       "      <td>8</td>\n",
       "      <td>NaN</td>\n",
       "      <td>NaN</td>\n",
       "      <td>NaN</td>\n",
       "      <td>NaN</td>\n",
       "      <td>NaN</td>\n",
       "      <td>NaN</td>\n",
       "      <td>NaN</td>\n",
       "      <td>NaN</td>\n",
       "      <td>NaN</td>\n",
       "      <td>...</td>\n",
       "      <td>1.0</td>\n",
       "      <td>1.0</td>\n",
       "      <td>NaN</td>\n",
       "      <td>NaN</td>\n",
       "      <td>NaN</td>\n",
       "      <td>NaN</td>\n",
       "      <td>NaN</td>\n",
       "      <td>NaN</td>\n",
       "      <td>NaN</td>\n",
       "      <td>NaN</td>\n",
       "    </tr>\n",
       "    <tr>\n",
       "      <th>0</th>\n",
       "      <td>11</td>\n",
       "      <td>NaN</td>\n",
       "      <td>NaN</td>\n",
       "      <td>NaN</td>\n",
       "      <td>NaN</td>\n",
       "      <td>NaN</td>\n",
       "      <td>NaN</td>\n",
       "      <td>NaN</td>\n",
       "      <td>NaN</td>\n",
       "      <td>NaN</td>\n",
       "      <td>...</td>\n",
       "      <td>1.0</td>\n",
       "      <td>1.0</td>\n",
       "      <td>NaN</td>\n",
       "      <td>NaN</td>\n",
       "      <td>NaN</td>\n",
       "      <td>NaN</td>\n",
       "      <td>NaN</td>\n",
       "      <td>NaN</td>\n",
       "      <td>NaN</td>\n",
       "      <td>NaN</td>\n",
       "    </tr>\n",
       "  </tbody>\n",
       "</table>\n",
       "<p>5 rows × 56 columns</p>\n",
       "</div>"
      ],
      "text/plain": [
       "   Idx  _age  _bussinessaddress  _byuserid  _cityid  _companyaddress  \\\n",
       "0    3   NaN                NaN        NaN      NaN              NaN   \n",
       "0    4   NaN                NaN        NaN      NaN              NaN   \n",
       "0    5   NaN                NaN        NaN      NaN              NaN   \n",
       "0    8   NaN                NaN        NaN      NaN              NaN   \n",
       "0   11   NaN                NaN        NaN      NaN              NaN   \n",
       "\n",
       "   _companyname  _companyphone  _companysizeid  _companytypeid  ...  \\\n",
       "0           NaN            NaN             NaN             NaN  ...   \n",
       "0           NaN            NaN             NaN             NaN  ...   \n",
       "0           NaN            NaN             NaN             NaN  ...   \n",
       "0           NaN            NaN             NaN             NaN  ...   \n",
       "0           NaN            NaN             NaN             NaN  ...   \n",
       "\n",
       "   _residencetypeid  _residenceyears  _schoolname  _secondemail  \\\n",
       "0               1.0              1.0          NaN           NaN   \n",
       "0               1.0              1.0          NaN           NaN   \n",
       "0               1.0              1.0          NaN           NaN   \n",
       "0               1.0              1.0          NaN           NaN   \n",
       "0               1.0              1.0          NaN           NaN   \n",
       "\n",
       "   _secondmobile  _turnover  _userid  _webshoptypeid  _webshopurl  _workyears  \n",
       "0            NaN        NaN      NaN             NaN          NaN         NaN  \n",
       "0            NaN        NaN      NaN             NaN          NaN         NaN  \n",
       "0            NaN        NaN      NaN             NaN          NaN         NaN  \n",
       "0            NaN        NaN      NaN             NaN          NaN         NaN  \n",
       "0            NaN        NaN      NaN             NaN          NaN         NaN  \n",
       "\n",
       "[5 rows x 56 columns]"
      ]
     },
     "execution_count": 61,
     "metadata": {},
     "output_type": "execute_result"
    }
   ],
   "source": [
    "# 每种信息修改的次数的衍生\n",
    "user_df_list=[]\n",
    "for idx in group.Idx.unique():\n",
    "    user_df  = group[group.Idx==idx]\n",
    "    change_cate = list(user_df.UserupdateInfo1)\n",
    "    change_cnt = list(user_df.UserupdateInfo2)\n",
    "    user_col  = ['Idx']+change_cate\n",
    "    user_value = [user_df.iloc[0]['Idx']]+change_cnt\n",
    "    user_df2 = pd.DataFrame(np.array(user_value).reshape(1,len(user_value)),columns=user_col)\n",
    "    user_df_list.append(user_df2)\n",
    "cate_change_df = pd.concat(user_df_list,axis=0)\n",
    "cate_change_df.head()"
   ]
  },
  {
   "cell_type": "code",
   "execution_count": 62,
   "metadata": {
    "ExecuteTime": {
     "end_time": "2019-09-05T07:51:47.816151Z",
     "start_time": "2019-09-05T07:51:47.725392Z"
    }
   },
   "outputs": [
    {
     "data": {
      "text/plain": [
       "(49993, 56)"
      ]
     },
     "execution_count": 62,
     "metadata": {},
     "output_type": "execute_result"
    }
   ],
   "source": [
    "# 将cate_change_df里的空值填为0\n",
    "cate_change_df = cate_change_df.fillna(0)\n",
    "cate_change_df.shape"
   ]
  },
  {
   "cell_type": "code",
   "execution_count": 63,
   "metadata": {
    "ExecuteTime": {
     "end_time": "2019-09-05T07:57:45.651897Z",
     "start_time": "2019-09-05T07:57:34.287296Z"
    }
   },
   "outputs": [],
   "source": [
    "# 修改信息的总次数，按照日期修改的次数的衍生\n",
    "update_cnt = df2.groupby('Idx',as_index=False).agg({'UserupdateInfo2':pd.Series.nunique,\n",
    "                                                         'ListingInfo1':pd.Series.count}).\\\n",
    "                      rename(columns={'UserupdateInfo2':'update_time_cnt',\n",
    "                                      'ListingInfo1':'update_all_cnt'})\n",
    "#update_cnt.head()"
   ]
  },
  {
   "cell_type": "code",
   "execution_count": 64,
   "metadata": {
    "ExecuteTime": {
     "end_time": "2019-09-05T08:03:54.209612Z",
     "start_time": "2019-09-05T08:03:54.004909Z"
    }
   },
   "outputs": [],
   "source": [
    "# 将三个衍生特征的临时表进行关联\n",
    "update_info = pd.merge(time_span,cate_change_df,on='Idx',how='left')\n",
    "update_info = pd.merge(update_info,update_cnt,on='Idx',how='left')\n",
    "#update_info.head()"
   ]
  },
  {
   "cell_type": "code",
   "execution_count": 65,
   "metadata": {
    "ExecuteTime": {
     "end_time": "2019-09-05T08:09:57.199073Z",
     "start_time": "2019-09-05T08:09:54.398036Z"
    }
   },
   "outputs": [],
   "source": [
    "# 保存数据至本地\n",
    "update_info.to_csv(path + '/update_feature.csv',encoding='gbk',index=False)"
   ]
  },
  {
   "cell_type": "markdown",
   "metadata": {},
   "source": [
    "#  登录信息表"
   ]
  },
  {
   "cell_type": "raw",
   "metadata": {},
   "source": [
    "衍生的变量\n",
    "1.累计登录次数\n",
    "2.登录时间的平均间隔\n",
    "3.最近一次的登录时间距离成交时间差"
   ]
  },
  {
   "cell_type": "code",
   "execution_count": 3,
   "metadata": {
    "ExecuteTime": {
     "end_time": "2019-09-05T08:31:40.131627Z",
     "start_time": "2019-09-05T08:31:39.463378Z"
    }
   },
   "outputs": [],
   "source": [
    "df3 = pd.read_csv(path+'/data_input3.csv',encoding='gb18030')"
   ]
  },
  {
   "cell_type": "code",
   "execution_count": 4,
   "metadata": {
    "ExecuteTime": {
     "end_time": "2019-09-05T08:31:43.121801Z",
     "start_time": "2019-09-05T08:31:42.956180Z"
    }
   },
   "outputs": [],
   "source": [
    "# 累计登录次数\n",
    "log_cnt = df3.groupby('Idx',as_index=False).LogInfo3.count().rename(\n",
    "    columns={'LogInfo3':'log_cnt'})\n",
    "#log_cnt.head()"
   ]
  },
  {
   "cell_type": "code",
   "execution_count": 5,
   "metadata": {
    "ExecuteTime": {
     "end_time": "2019-09-05T08:31:54.079765Z",
     "start_time": "2019-09-05T08:31:52.557776Z"
    }
   },
   "outputs": [],
   "source": [
    "# 最近一次的登录时间距离当前时间差\n",
    "df3['Listinginfo1']=pd.to_datetime(df3.Listinginfo1)\n",
    "df3['LogInfo3'] = pd.to_datetime(df3.LogInfo3)\n",
    "time_log_span = df3.groupby('Idx',as_index=False).agg({'Listinginfo1':np.max,\n",
    "                                                       'LogInfo3':np.max})\n",
    "time_log_span['log_timespan'] = time_log_span['Listinginfo1']-time_log_span['LogInfo3']\n",
    "time_log_span['log_timespan'] = time_log_span['log_timespan'].map(lambda x:str(x))\n",
    "time_log_span['log_timespan'] = time_log_span['log_timespan'].map(lambda x:int(x[:x.find('d')]))\n",
    "time_log_span= time_log_span[['Idx','log_timespan']]\n",
    "#time_log_span.head()"
   ]
  },
  {
   "cell_type": "code",
   "execution_count": 6,
   "metadata": {
    "ExecuteTime": {
     "end_time": "2019-09-05T08:31:57.303860Z",
     "start_time": "2019-09-05T08:31:56.988705Z"
    }
   },
   "outputs": [],
   "source": [
    "# 登录时间的平均时间间隔\n",
    "df4  = df3.sort_values(by=['Idx','LogInfo3'],ascending=['True','True'])"
   ]
  },
  {
   "cell_type": "code",
   "execution_count": 7,
   "metadata": {
    "ExecuteTime": {
     "end_time": "2019-09-05T08:32:13.663145Z",
     "start_time": "2019-09-05T08:31:57.539234Z"
    }
   },
   "outputs": [],
   "source": [
    "df4['LogInfo4'] = df4.groupby('Idx')['LogInfo3'].apply(lambda x:x.shift(1))"
   ]
  },
  {
   "cell_type": "code",
   "execution_count": 8,
   "metadata": {
    "ExecuteTime": {
     "end_time": "2019-09-05T08:32:30.975817Z",
     "start_time": "2019-09-05T08:32:13.781789Z"
    }
   },
   "outputs": [],
   "source": [
    "df4['time_span'] = df4['LogInfo3']-df4['LogInfo4']\n",
    "df4['time_span'] = df4['time_span'].map(lambda x:str(x))\n",
    "df4 = df4.replace({'time_span':{'NaT':'0 days 00:00:00'}})\n",
    "df4['time_span'] = df4['time_span'].map(lambda x:int(x[:x.find('d')]))"
   ]
  },
  {
   "cell_type": "code",
   "execution_count": 9,
   "metadata": {
    "ExecuteTime": {
     "end_time": "2019-09-05T08:32:31.220149Z",
     "start_time": "2019-09-05T08:32:31.081519Z"
    }
   },
   "outputs": [],
   "source": [
    "avg_log_timespan = df4.groupby('Idx',as_index=False).time_span.mean().rename(columns={'time_span':'avg_log_timespan'})\n",
    "#avg_log_timespan.head()"
   ]
  },
  {
   "cell_type": "code",
   "execution_count": 10,
   "metadata": {
    "ExecuteTime": {
     "end_time": "2019-09-05T08:32:32.315268Z",
     "start_time": "2019-09-05T08:32:32.263371Z"
    }
   },
   "outputs": [],
   "source": [
    "log_info = pd.merge(log_cnt,time_log_span,how='left',on='Idx')\n",
    "log_info = pd.merge(log_info,avg_log_timespan,how='left',on='Idx')\n",
    "#log_info.head()"
   ]
  },
  {
   "cell_type": "code",
   "execution_count": 11,
   "metadata": {
    "ExecuteTime": {
     "end_time": "2019-09-05T08:32:33.193405Z",
     "start_time": "2019-09-05T08:32:32.721147Z"
    }
   },
   "outputs": [],
   "source": [
    "log_info.to_csv(path + '/log_info_feature.csv',encoding='gbk',index=False)"
   ]
  },
  {
   "cell_type": "code",
   "execution_count": null,
   "metadata": {},
   "outputs": [],
   "source": []
  }
 ],
 "metadata": {
  "kernelspec": {
   "display_name": "Python 3",
   "language": "python",
   "name": "python3"
  },
  "language_info": {
   "codemirror_mode": {
    "name": "ipython",
    "version": 3
   },
   "file_extension": ".py",
   "mimetype": "text/x-python",
   "name": "python",
   "nbconvert_exporter": "python",
   "pygments_lexer": "ipython3",
   "version": "3.7.4"
  },
  "toc": {
   "base_numbering": 1,
   "nav_menu": {},
   "number_sections": true,
   "sideBar": true,
   "skip_h1_title": false,
   "title_cell": "Table of Contents",
   "title_sidebar": "Contents",
   "toc_cell": false,
   "toc_position": {
    "height": "calc(100% - 180px)",
    "left": "10px",
    "top": "150px",
    "width": "205.355px"
   },
   "toc_section_display": true,
   "toc_window_display": true
  },
  "varInspector": {
   "cols": {
    "lenName": 16,
    "lenType": 16,
    "lenVar": 40
   },
   "kernels_config": {
    "python": {
     "delete_cmd_postfix": "",
     "delete_cmd_prefix": "del ",
     "library": "var_list.py",
     "varRefreshCmd": "print(var_dic_list())"
    },
    "r": {
     "delete_cmd_postfix": ") ",
     "delete_cmd_prefix": "rm(",
     "library": "var_list.r",
     "varRefreshCmd": "cat(var_dic_list()) "
    }
   },
   "types_to_exclude": [
    "module",
    "function",
    "builtin_function_or_method",
    "instance",
    "_Feature"
   ],
   "window_display": false
  }
 },
 "nbformat": 4,
 "nbformat_minor": 2
}
