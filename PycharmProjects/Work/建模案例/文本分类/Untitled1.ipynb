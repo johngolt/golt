{
 "cells": [
  {
   "cell_type": "code",
   "execution_count": 13,
   "metadata": {
    "ExecuteTime": {
     "end_time": "2020-08-19T07:26:06.591198Z",
     "start_time": "2020-08-19T07:26:06.451564Z"
    }
   },
   "outputs": [
    {
     "name": "stderr",
     "output_type": "stream",
     "text": [
      "d:\\softwares\\python\\lib\\site-packages\\sklearn\\linear_model\\logistic.py:432: FutureWarning: Default solver will be changed to 'lbfgs' in 0.22. Specify a solver to silence this warning.\n",
      "  FutureWarning)\n"
     ]
    },
    {
     "data": {
      "image/png": "[encoded data removed]",
      "text/plain": [
       "<Figure size 432x288 with 1 Axes>"
      ]
     },
     "metadata": {
      "needs_background": "light"
     },
     "output_type": "display_data"
    }
   ],
   "source": [
    "import matplotlib.pyplot as plt\n",
    "from sklearn.linear_model import LogisticRegression\n",
    "from sklearn.calibration import calibration_curve\n",
    "from sklearn import datasets\n",
    "X, y = datasets.make_classification(n_samples=10000, n_features=20,\n",
    "                                    n_informative=2, n_redundant=2)\n",
    "\n",
    "train_samples = 5000  # Samples used for training the models\n",
    "\n",
    "X_train = X[:train_samples]\n",
    "X_test = X[train_samples:]\n",
    "y_train = y[:train_samples]\n",
    "y_test = y[train_samples:]\n",
    "\n",
    "# Create classifiers\n",
    "lr = LogisticRegression()\n",
    "lr.fit(X_train, y_train)\n",
    "prob_pos = lr.predict_proba(X_test)[:, 1]\n",
    "fraction_of_positives, mean_predicted_value=calibration_curve(\n",
    "    y_test, prob_pos, n_bins=10)\n",
    "plt.plot(mean_predicted_value, fraction_of_positives)\n",
    "plt.show()"
   ]
  },
  {
   "cell_type": "code",
   "execution_count": 12,
   "metadata": {
    "ExecuteTime": {
     "end_time": "2020-08-19T07:25:25.640632Z",
     "start_time": "2020-08-19T07:25:25.630667Z"
    }
   },
   "outputs": [
    {
     "data": {
      "text/plain": [
       "0.09814206775046048"
      ]
     },
     "execution_count": 12,
     "metadata": {},
     "output_type": "execute_result"
    }
   ],
   "source": [
    "y_test[prob_pos<0.24788141].sum()/y_test.sum()"
   ]
  },
  {
   "cell_type": "code",
   "execution_count": 7,
   "metadata": {
    "ExecuteTime": {
     "end_time": "2020-08-19T07:22:58.360410Z",
     "start_time": "2020-08-19T07:22:58.353418Z"
    }
   },
   "outputs": [
    {
     "data": {
      "text/plain": [
       "(array([0.09386884, 0.22445222, 0.26935933, 0.36762689, 0.41719155,\n",
       "        0.49733232, 0.56784239, 0.65205547, 0.75719235, 0.91259024]),\n",
       " array([0.02012645, 0.14528499, 0.24788141, 0.34932906, 0.44953082,\n",
       "        0.55075993, 0.65146151, 0.75239589, 0.85536278, 0.97515688]))"
      ]
     },
     "execution_count": 7,
     "metadata": {},
     "output_type": "execute_result"
    }
   ],
   "source": [
    "fraction_of_positives, mean_predicted_value"
   ]
  },
  {
   "cell_type": "code",
   "execution_count": null,
   "metadata": {
    "ExecuteTime": {
     "end_time": "2020-08-19T07:26:14.404341Z",
     "start_time": "2020-08-19T07:26:14.397358Z"
    }
   },
   "outputs": [],
   "source": [
    "y_true = label_binarize(y_true, labels)[:, 0]"
   ]
  },
  {
   "cell_type": "code",
   "execution_count": 14,
   "metadata": {
    "ExecuteTime": {
     "end_time": "2020-08-19T07:26:14.404341Z",
     "start_time": "2020-08-19T07:26:14.397358Z"
    }
   },
   "outputs": [
    {
     "data": {
      "text/plain": [
       "array([0.01896961, 0.01040195, 0.93400491, ..., 0.98905352, 0.46103272,\n",
       "       0.00314331])"
      ]
     },
     "execution_count": 14,
     "metadata": {},
     "output_type": "execute_result"
    }
   ],
   "source": [
    "    if strategy == 'quantile':  # Determine bin edges by distribution of data\n",
    "        quantiles = np.linspace(0, 1, n_bins + 1)\n",
    "        bins = np.percentile(y_prob, quantiles * 100)\n",
    "        bins[-1] = bins[-1] + 1e-8\n",
    "    elif strategy == 'uniform':\n",
    "        bins = np.linspace(0., 1. + 1e-8, n_bins + 1)\n",
    "    else:\n",
    "        raise ValueError(\"Invalid entry to 'strategy' input. Strategy \"\n",
    "                         \"must be either 'quantile' or 'uniform'.\")\n",
    "\n",
    "    binids = np.digitize(y_prob, bins) - 1\n",
    "\n",
    "    bin_sums = np.bincount(binids, weights=y_prob, minlength=len(bins))\n",
    "    bin_true = np.bincount(binids, weights=y_true, minlength=len(bins))\n",
    "    bin_total = np.bincount(binids, minlength=len(bins))\n",
    "\n",
    "    nonzero = bin_total != 0\n",
    "    prob_true = (bin_true[nonzero] / bin_total[nonzero])\n",
    "    prob_pred = (bin_sums[nonzero] / bin_total[nonzero])\n",
    "\n",
    "    return prob_true, prob_pred"
   ]
  },
  {
   "cell_type": "code",
   "execution_count": 31,
   "metadata": {
    "ExecuteTime": {
     "end_time": "2020-08-19T07:39:13.755276Z",
     "start_time": "2020-08-19T07:39:13.750322Z"
    }
   },
   "outputs": [],
   "source": [
    "bins = np.linspace(0., 1. + 1e-8, 6)\n",
    "binids = np.digitize(prob_pos, bins) - 1"
   ]
  },
  {
   "cell_type": "code",
   "execution_count": 33,
   "metadata": {
    "ExecuteTime": {
     "end_time": "2020-08-19T07:39:26.414670Z",
     "start_time": "2020-08-19T07:39:26.410680Z"
    }
   },
   "outputs": [],
   "source": [
    "bin_sums = np.bincount(binids, weights=prob_pos, minlength=len(bins))"
   ]
  },
  {
   "cell_type": "code",
   "execution_count": 36,
   "metadata": {
    "ExecuteTime": {
     "end_time": "2020-08-19T07:40:47.378075Z",
     "start_time": "2020-08-19T07:40:47.374101Z"
    }
   },
   "outputs": [],
   "source": [
    "bin_true = np.bincount(binids, weights=y_test, minlength=len(bins))\n",
    "bin_total = np.bincount(binids, minlength=len(bins))"
   ]
  },
  {
   "cell_type": "code",
   "execution_count": 45,
   "metadata": {
    "ExecuteTime": {
     "end_time": "2020-08-19T07:43:01.247107Z",
     "start_time": "2020-08-19T07:43:01.243121Z"
    }
   },
   "outputs": [],
   "source": [
    "nonzero = bin_total != 0\n",
    "prob_true = (bin_true[nonzero] / bin_total[nonzero])"
   ]
  },
  {
   "cell_type": "code",
   "execution_count": 46,
   "metadata": {
    "ExecuteTime": {
     "end_time": "2020-08-19T07:43:10.152829Z",
     "start_time": "2020-08-19T07:43:10.148843Z"
    }
   },
   "outputs": [
    {
     "data": {
      "text/plain": [
       "array([0.05056818, 0.32581967, 0.54976303, 0.74523397, 0.92413006])"
      ]
     },
     "execution_count": 46,
     "metadata": {},
     "output_type": "execute_result"
    }
   ],
   "source": [
    "prob_true"
   ]
  },
  {
   "cell_type": "code",
   "execution_count": 44,
   "metadata": {
    "ExecuteTime": {
     "end_time": "2020-08-19T07:42:18.846105Z",
     "start_time": "2020-08-19T07:42:18.841120Z"
    }
   },
   "outputs": [
    {
     "data": {
      "text/plain": [
       "array([1760,  488,  422,  577, 1753,    0], dtype=int64)"
      ]
     },
     "execution_count": 44,
     "metadata": {},
     "output_type": "execute_result"
    }
   ],
   "source": [
    "bin_total\n",
    "#Count number of occurrences of each value in array of non-negative ints."
   ]
  },
  {
   "cell_type": "code",
   "execution_count": 48,
   "metadata": {
    "ExecuteTime": {
     "end_time": "2020-08-19T07:43:32.989355Z",
     "start_time": "2020-08-19T07:43:32.983344Z"
    }
   },
   "outputs": [
    {
     "data": {
      "text/plain": [
       "2530.0"
      ]
     },
     "execution_count": 48,
     "metadata": {},
     "output_type": "execute_result"
    }
   ],
   "source": [
    "bin_true.sum()"
   ]
  },
  {
   "cell_type": "code",
   "execution_count": null,
   "metadata": {
    "ExecuteTime": {
     "end_time": "2020-08-19T07:43:45.997874Z",
     "start_time": "2020-08-19T07:43:45.990891Z"
    }
   },
   "outputs": [],
   "source": []
  },
  {
   "cell_type": "code",
   "execution_count": null,
   "metadata": {},
   "outputs": [],
   "source": [
    "Return the indices of the bins to which each value in input array belongs."
   ]
  }
 ],
 "metadata": {
  "kernelspec": {
   "display_name": "Python 3",
   "language": "python",
   "name": "python3"
  },
  "language_info": {
   "codemirror_mode": {
    "name": "ipython",
    "version": 3
   },
   "file_extension": ".py",
   "mimetype": "text/x-python",
   "name": "python",
   "nbconvert_exporter": "python",
   "pygments_lexer": "ipython3",
   "version": "3.7.5"
  },
  "toc": {
   "base_numbering": 1,
   "nav_menu": {},
   "number_sections": true,
   "sideBar": true,
   "skip_h1_title": false,
   "title_cell": "Table of Contents",
   "title_sidebar": "Contents",
   "toc_cell": false,
   "toc_position": {},
   "toc_section_display": true,
   "toc_window_display": false
  },
  "varInspector": {
   "cols": {
    "lenName": 16,
    "lenType": 16,
    "lenVar": 40
   },
   "kernels_config": {
    "python": {
     "delete_cmd_postfix": "",
     "delete_cmd_prefix": "del ",
     "library": "var_list.py",
     "varRefreshCmd": "print(var_dic_list())"
    },
    "r": {
     "delete_cmd_postfix": ") ",
     "delete_cmd_prefix": "rm(",
     "library": "var_list.r",
     "varRefreshCmd": "cat(var_dic_list()) "
    }
   },
   "types_to_exclude": [
    "module",
    "function",
    "builtin_function_or_method",
    "instance",
    "_Feature"
   ],
   "window_display": false
  }
 },
 "nbformat": 4,
 "nbformat_minor": 2
}
