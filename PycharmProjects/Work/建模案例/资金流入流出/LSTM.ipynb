{
 "cells": [
  {
   "cell_type": "code",
   "execution_count": 1,
   "metadata": {
    "ExecuteTime": {
     "end_time": "2020-07-15T04:22:38.927673Z",
     "start_time": "2020-07-15T04:22:38.476878Z"
    }
   },
   "outputs": [],
   "source": [
    "import pandas as pd\n",
    "import numpy as np\n",
    "import os\n",
    "os.chdir('D:/DataSet/PRD')\n",
    "import sys\n",
    "sys.path.append('D:/gitln/WorkCode/BaseFunc/')\n",
    "df = pd.read_csv('total_amt.csv',encoding='gbk',usecols=[1])\n",
    "#df['report_date'] = pd.to_datetime(df['report_date'],format='%Y/%m/%d')\n",
    "#df.set_index('report_date', inplace=True)"
   ]
  },
  {
   "cell_type": "code",
   "execution_count": 2,
   "metadata": {
    "ExecuteTime": {
     "end_time": "2020-07-15T04:22:41.925048Z",
     "start_time": "2020-07-15T04:22:39.361514Z"
    }
   },
   "outputs": [],
   "source": [
    "import purchase.LSTMpredict as lp"
   ]
  },
  {
   "cell_type": "code",
   "execution_count": null,
   "metadata": {
    "ExecuteTime": {
     "end_time": "2020-07-15T06:02:22.080180Z",
     "start_time": "2020-07-15T06:01:51.226787Z"
    }
   },
   "outputs": [],
   "source": [
    "np.random.seed(2019)\n",
    "initiation = lp.RNNModel(look_back=40, epochs_purchase=150, \n",
    "                         epochs_redeem=230, \n",
    "    batch_size=16, verbose=10, patience=50, store_result=True)\n",
    "initiation.run()"
   ]
  },
  {
   "cell_type": "code",
   "execution_count": null,
   "metadata": {
    "ExecuteTime": {
     "end_time": "2020-07-15T05:39:10.685956Z",
     "start_time": "2020-07-15T05:39:10.669003Z"
    }
   },
   "outputs": [],
   "source": []
  },
  {
   "cell_type": "code",
   "execution_count": 40,
   "metadata": {
    "ExecuteTime": {
     "end_time": "2020-07-15T06:14:04.436666Z",
     "start_time": "2020-07-15T06:14:04.429618Z"
    }
   },
   "outputs": [],
   "source": [
    "sub = pd.read_csv('total_amt.csv')"
   ]
  },
  {
   "cell_type": "code",
   "execution_count": 38,
   "metadata": {
    "ExecuteTime": {
     "end_time": "2020-07-15T06:02:38.180699Z",
     "start_time": "2020-07-15T06:02:38.176678Z"
    }
   },
   "outputs": [],
   "source": [
    "sub.columns=['report_date','purchase','redeem']\n",
    "sub = sub.set_index('report_date')"
   ]
  },
  {
   "cell_type": "code",
   "execution_count": 39,
   "metadata": {
    "ExecuteTime": {
     "end_time": "2020-07-15T06:02:39.312664Z",
     "start_time": "2020-07-15T06:02:39.304651Z"
    }
   },
   "outputs": [],
   "source": [
    "sub.to_csv('sub_lstm.csv')"
   ]
  },
  {
   "cell_type": "code",
   "execution_count": 29,
   "metadata": {
    "ExecuteTime": {
     "end_time": "2020-07-15T05:55:19.786134Z",
     "start_time": "2020-07-15T05:55:19.770210Z"
    }
   },
   "outputs": [],
   "source": [
    "sub = pd.read_clipboard()"
   ]
  },
  {
   "cell_type": "code",
   "execution_count": null,
   "metadata": {
    "ExecuteTime": {
     "end_time": "2020-07-15T06:14:06.638720Z",
     "start_time": "2020-07-15T06:14:06.630742Z"
    }
   },
   "outputs": [],
   "source": []
  },
  {
   "cell_type": "code",
   "execution_count": null,
   "metadata": {},
   "outputs": [],
   "source": []
  }
 ],
 "metadata": {
  "kernelspec": {
   "display_name": "Python 3",
   "language": "python",
   "name": "python3"
  },
  "language_info": {
   "codemirror_mode": {
    "name": "ipython",
    "version": 3
   },
   "file_extension": ".py",
   "mimetype": "text/x-python",
   "name": "python",
   "nbconvert_exporter": "python",
   "pygments_lexer": "ipython3",
   "version": "3.7.5"
  },
  "toc": {
   "base_numbering": 1,
   "nav_menu": {},
   "number_sections": true,
   "sideBar": true,
   "skip_h1_title": false,
   "title_cell": "Table of Contents",
   "title_sidebar": "Contents",
   "toc_cell": false,
   "toc_position": {},
   "toc_section_display": true,
   "toc_window_display": false
  },
  "varInspector": {
   "cols": {
    "lenName": 16,
    "lenType": 16,
    "lenVar": 40
   },
   "kernels_config": {
    "python": {
     "delete_cmd_postfix": "",
     "delete_cmd_prefix": "del ",
     "library": "var_list.py",
     "varRefreshCmd": "print(var_dic_list())"
    },
    "r": {
     "delete_cmd_postfix": ") ",
     "delete_cmd_prefix": "rm(",
     "library": "var_list.r",
     "varRefreshCmd": "cat(var_dic_list()) "
    }
   },
   "types_to_exclude": [
    "module",
    "function",
    "builtin_function_or_method",
    "instance",
    "_Feature"
   ],
   "window_display": false
  }
 },
 "nbformat": 4,
 "nbformat_minor": 2
}
