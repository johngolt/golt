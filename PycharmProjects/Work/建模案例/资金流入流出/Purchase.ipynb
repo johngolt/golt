{
 "cells": [
  {
   "cell_type": "code",
   "execution_count": 2,
   "metadata": {
    "ExecuteTime": {
     "end_time": "2020-06-23T08:14:11.002844Z",
     "start_time": "2020-06-23T08:14:10.988844Z"
    }
   },
   "outputs": [],
   "source": [
    "import pandas as pd\n",
    "import sklearn as skr\n",
    "import numpy as np\n",
    "import datetime\n",
    "import matplotlib.pyplot as plt\n",
    "import seaborn as sns\n",
    "from dateutil.relativedelta import relativedelta\n",
    "import os\n",
    "os.chdir('D:/Dataset/PRD')\n",
    "import sys\n",
    "sys.path.append('D:/gitln/WorkCode/BaseFunc/')\n",
    "import purchase.PurchaseBase as pbase\n",
    "total_balance = pd.read_csv('base.csv')\n",
    "total_balance = pbase.add_timestamp(total_balance,time_index='date')\n",
    "import purchase.PurchaseFeatures as pfeature"
   ]
  },
  {
   "cell_type": "code",
   "execution_count": 4,
   "metadata": {
    "ExecuteTime": {
     "end_time": "2020-06-23T08:29:20.605617Z",
     "start_time": "2020-06-23T08:29:20.265191Z"
    }
   },
   "outputs": [
    {
     "name": "stderr",
     "output_type": "stream",
     "text": [
      "d:\\softwares\\python\\lib\\site-packages\\sklearn\\preprocessing\\_encoders.py:415: FutureWarning: The handling of integer data will change in version 0.22. Currently, the categories are determined based on the range [0, max(values)], while in the future they will be determined based on the unique values.\n",
      "If you want the future behaviour and silence this warning, you can specify \"categories='auto'\".\n",
      "In case you used a LabelEncoder before this OneHotEncoder to convert the categories to integers, then you can now use the OneHotEncoder directly.\n",
      "  warnings.warn(msg, FutureWarning)\n"
     ]
    }
   ],
   "source": [
    "total_balance = pfeature.extract_is_feature(total_balance)\n",
    "labels = ['total_purchase_amt','total_redeem_amt']\n",
    "date_indexs = ['week','year','month','weekday','day']\n",
    "total_balance = pfeature.encode_data(total_balance)\n",
    "feature = total_balance[\n",
    "    [x for x in total_balance.columns if x not in date_indexs]]\n",
    "purchase_feature_seems_useless = [\n",
    "      #样本量太少，建模时无效；但若确定这是一个有用规则，可以对结果做修正\n",
    "      'is_work_on_sunday',\n",
    "      #中位数差异不明显\n",
    "      'is_first_week']\n",
    "temp = np.abs(feature[[x for x in feature.columns \n",
    "                       if x not in ['total_redeem_amt', 'date'] ]\n",
    "                     ].corr('spearman')['total_purchase_amt'])\n",
    "purchase_feature_low_correlation = list(set(temp[temp < 0.1].index))"
   ]
  },
  {
   "cell_type": "code",
   "execution_count": 5,
   "metadata": {
    "ExecuteTime": {
     "end_time": "2020-06-23T08:29:30.692394Z",
     "start_time": "2020-06-23T08:29:29.984624Z"
    }
   },
   "outputs": [],
   "source": [
    "total_balance = pfeature.extract_distance_feature(total_balance)\n",
    "purchase_feature_seems_useless += [\n",
    "                                  'dis_to_holiday',\n",
    "                                  'dis_from_startofmonth',\n",
    "                                  'dis_from_middleofmonth']\n",
    "feature = total_balance[\n",
    "    [x for x in total_balance.columns if x not in date_indexs]]\n",
    "dis_feature_indexs = [\n",
    "    x for x in feature.columns if (\n",
    "        x not in date_indexs + labels + ['date']) & ('dis' in x)]\n",
    "def dis_change(x):\n",
    "    if x > 5:\n",
    "        x = 10\n",
    "    return x\n",
    "dis_holiday_feature = [\n",
    "    x for x in total_balance.columns if 'dis' in x and 'holi' in x]\n",
    "dis_month_feature = [\n",
    "    x for x in total_balance.columns if 'dis' in x and 'month' in x]\n",
    "total_balance[dis_holiday_feature] = total_balance[\n",
    "    dis_holiday_feature].applymap(dis_change)\n",
    "total_balance[dis_month_feature] = total_balance[\n",
    "    dis_month_feature].applymap(dis_change)\n",
    "temp = np.abs(feature[[x for x in feature.columns \n",
    "                       if ('dis' in x) | (x in ['total_purchase_amt']) \n",
    "                      ]].corr()['total_purchase_amt'])\n",
    "purchase_feature_low_correlation += list(set(temp[temp < 0.1].index) )"
   ]
  },
  {
   "cell_type": "code",
   "execution_count": 6,
   "metadata": {
    "ExecuteTime": {
     "end_time": "2020-06-23T08:30:41.613009Z",
     "start_time": "2020-06-23T08:30:41.600042Z"
    }
   },
   "outputs": [
    {
     "data": {
      "text/plain": [
       "total_purchase_amt          1.000000\n",
       "dis_from_purchase_peak      0.007173\n",
       "dis_from_purchase_valley    0.006313\n",
       "Name: total_purchase_amt, dtype: float64"
      ]
     },
     "execution_count": 6,
     "metadata": {},
     "output_type": "execute_result"
    }
   ],
   "source": [
    "total_balance = pfeature.extract_peak_feature(total_balance)\n",
    "feature = total_balance[\n",
    "    [x for x in total_balance.columns if x not in date_indexs]]\n",
    "temp = np.abs(feature[\n",
    "    [x for x in feature.columns if ('peak' in x) or (\n",
    "        'valley' in x) or (x in ['total_purchase_amt']) ]\n",
    "].corr()['total_purchase_amt'])\n",
    "temp"
   ]
  },
  {
   "cell_type": "code",
   "execution_count": 7,
   "metadata": {
    "ExecuteTime": {
     "end_time": "2020-06-23T08:31:00.208194Z",
     "start_time": "2020-06-23T08:30:59.896011Z"
    }
   },
   "outputs": [
    {
     "name": "stderr",
     "output_type": "stream",
     "text": [
      "D:/gitln/WorkCode/BaseFunc\\purchase\\PurchaseFeatures.py:281: FutureWarning: Comparing Series of datetimes with 'datetime.date'.  Currently, the\n",
      "'datetime.date' is coerced to a datetime. In the future pandas will\n",
      "not coerce, and a TypeError will be raised. To retain the current\n",
      "behavior, convert the 'datetime.date' to a datetime with\n",
      "'pd.Timestamp'.\n",
      "  (pure_balance['date'] >= datetime.date(2014,3,1)\n",
      "D:/gitln/WorkCode/BaseFunc\\purchase\\PurchaseFeatures.py:282: FutureWarning: Comparing Series of datetimes with 'datetime.date'.  Currently, the\n",
      "'datetime.date' is coerced to a datetime. In the future pandas will\n",
      "not coerce, and a TypeError will be raised. To retain the current\n",
      "behavior, convert the 'datetime.date' to a datetime with\n",
      "'pd.Timestamp'.\n",
      "  ) & (pure_balance['date'] < datetime.date(2014, month_index, 1))]\n"
     ]
    }
   ],
   "source": [
    "# 生成周期因子并合并到数据集\n",
    "\n",
    "weekday_rate_list = []\n",
    "day_rate_list = []\n",
    "for i in range(3, 10):\n",
    "    weekday_rate, day_rate = pfeature.generate_rate(total_balance, i,labels)\n",
    "    weekday_rate_list.append(weekday_rate.reset_index(drop=True))\n",
    "    day_rate_list.append(day_rate.reset_index(drop=True))\n",
    "\n",
    "weekday_rate_list = pd.concat(weekday_rate_list).reset_index(drop=True)\n",
    "day_rate_list = pd.concat(day_rate_list).reset_index(drop=True)\n",
    "total_balance = pd.merge(total_balance, weekday_rate_list,\n",
    "                         on=['weekday','month'], how='left')\n",
    "total_balance = pd.merge(total_balance, day_rate_list, \n",
    "                         on=['day','month'], how='left')\n",
    "\n",
    "# 对周期因子进行特殊处理\n",
    "\n",
    "for i in [x for x in total_balance.columns \n",
    "          if 'rate' in x and x not in labels + date_indexs]:\n",
    "    total_balance[i] = total_balance[i].fillna(\n",
    "        np.nanmedian(total_balance[i]))\n",
    "    \n",
    "# 剔除相关性低的特征\n",
    "\n",
    "feature = total_balance.drop(date_indexs, axis=1)"
   ]
  },
  {
   "cell_type": "code",
   "execution_count": 10,
   "metadata": {
    "ExecuteTime": {
     "end_time": "2020-06-23T08:32:05.065919Z",
     "start_time": "2020-06-23T08:32:04.118072Z"
    }
   },
   "outputs": [
    {
     "name": "stderr",
     "output_type": "stream",
     "text": [
      "D:/gitln/WorkCode/BaseFunc\\purchase\\PurchaseFeatures.py:322: FutureWarning: Comparing Series of datetimes with 'datetime.date'.  Currently, the\n",
      "'datetime.date' is coerced to a datetime. In the future pandas will\n",
      "not coerce, and a TypeError will be raised. To retain the current\n",
      "behavior, convert the 'datetime.date' to a datetime with\n",
      "'pd.Timestamp'.\n",
      "  df_tmp_ = df_tmp_[(df_tmp_['date']>=datetime.date(2014,3,3))]\n",
      "d:\\softwares\\python\\lib\\site-packages\\numpy\\lib\\nanfunctions.py:1112: RuntimeWarning: Mean of empty slice\n",
      "  return np.nanmean(a, axis, out=out, keepdims=keepdims)\n"
     ]
    }
   ],
   "source": [
    "total_balance = pfeature.get_amtfeature_with_time(total_balance, \n",
    "                                                  labels, date_indexs)\n",
    "# 对动态特征做特殊处理\n",
    "\n",
    "for i in [x for x in total_balance.columns \n",
    "          if '_weekday_' in x and x not in labels + date_indexs]:\n",
    "    total_balance[i] = total_balance[i].fillna(np.nanmedian(total_balance[i]))"
   ]
  },
  {
   "cell_type": "code",
   "execution_count": 11,
   "metadata": {
    "ExecuteTime": {
     "end_time": "2020-06-23T08:32:12.915663Z",
     "start_time": "2020-06-23T08:32:12.911754Z"
    }
   },
   "outputs": [],
   "source": [
    "# 剔除对数据集划分不明显的特征\n",
    "\n",
    "purchase_feature_seems_useless += ['is_gonna_work_tomorrow',\n",
    "                                   'is_fourth_week',\n",
    "                                   'weekday_onehot_4']"
   ]
  },
  {
   "cell_type": "code",
   "execution_count": 12,
   "metadata": {
    "ExecuteTime": {
     "end_time": "2020-06-23T08:32:52.305611Z",
     "start_time": "2020-06-23T08:32:52.292587Z"
    }
   },
   "outputs": [],
   "source": [
    "import purchase.PurchaseHelper as phelper"
   ]
  },
  {
   "cell_type": "code",
   "execution_count": 14,
   "metadata": {
    "ExecuteTime": {
     "end_time": "2020-06-23T08:33:12.116305Z",
     "start_time": "2020-06-23T08:33:11.898799Z"
    }
   },
   "outputs": [
    {
     "name": "stderr",
     "output_type": "stream",
     "text": [
      "D:/gitln/WorkCode/BaseFunc\\purchase\\PurchaseHelper.py:24: RuntimeWarning: invalid value encountered in less_equal\n",
      "  return len(x[(x <= s) & (y == t)]) / len(y[y == t])\n",
      "D:/gitln/WorkCode/BaseFunc\\purchase\\PurchaseHelper.py:21: RuntimeWarning: invalid value encountered in less_equal\n",
      "  return len(x[x <= s]) / self._n\n",
      "d:\\softwares\\python\\lib\\site-packages\\ipykernel_launcher.py:13: UserWarning: Boolean Series key will be reindexed to match DataFrame index.\n",
      "  del sys.path[0]\n"
     ]
    }
   ],
   "source": [
    "l = phelper.mvtest()\n",
    "\n",
    "name_list = []\n",
    "Tn_list = []\n",
    "p_list = []\n",
    "for i in [i for i in purchase_feature_low_correlation\n",
    "          if 'is' in i or 'discret' in i]:\n",
    "    pair = l.test(feature['total_purchase_amt'], feature[i])\n",
    "    name_list.append(str(i))\n",
    "    Tn_list.append(pair['Tn'])\n",
    "    p_list.append(pair['p-value'][0])\n",
    "temp = pd.DataFrame([name_list,Tn_list]).T.sort_values(1)\n",
    "temp[1] = np.abs(temp[1])\n",
    "feature_saved_from_mv_purchase = list(temp.sort_values(1, ascending=False)[temp[1] > 0.5984][0])\n"
   ]
  },
  {
   "cell_type": "code",
   "execution_count": 16,
   "metadata": {
    "ExecuteTime": {
     "end_time": "2020-06-23T08:34:13.691007Z",
     "start_time": "2020-06-23T08:34:13.681034Z"
    }
   },
   "outputs": [],
   "source": [
    "feature = feature[[x for x in feature.columns \n",
    "                   if (\n",
    "    x not in purchase_feature_low_correlation + purchase_feature_seems_useless) or\\\n",
    "                   (x in feature_saved_from_mv_purchase )]]\n",
    "\n",
    "purchase_cors = feature.corr()\n",
    "purchase_cors['total_purchase_amt'] = np.abs(\n",
    "    purchase_cors['total_purchase_amt'])\n",
    "feature_lists = list(purchase_cors.sort_values(by='total_purchase_amt',\n",
    "                                               ascending=False).index)[2:]\n",
    "feature_temp = feature.dropna()"
   ]
  },
  {
   "cell_type": "code",
   "execution_count": 17,
   "metadata": {
    "ExecuteTime": {
     "end_time": "2020-06-23T08:34:16.533075Z",
     "start_time": "2020-06-23T08:34:16.470211Z"
    }
   },
   "outputs": [
    {
     "name": "stderr",
     "output_type": "stream",
     "text": [
      "d:\\softwares\\python\\lib\\site-packages\\numpy\\lib\\function_base.py:2534: RuntimeWarning: invalid value encountered in true_divide\n",
      "  c /= stddev[:, None]\n",
      "d:\\softwares\\python\\lib\\site-packages\\numpy\\lib\\function_base.py:2535: RuntimeWarning: invalid value encountered in true_divide\n",
      "  c /= stddev[None, :]\n",
      "d:\\softwares\\python\\lib\\site-packages\\ipykernel_launcher.py:12: SettingWithCopyWarning: \n",
      "A value is trying to be set on a copy of a slice from a DataFrame.\n",
      "Try using .loc[row_indexer,col_indexer] = value instead\n",
      "\n",
      "See the caveats in the documentation: http://pandas.pydata.org/pandas-docs/stable/user_guide/indexing.html#returning-a-view-versus-a-copy\n",
      "  if sys.path[0] == '':\n"
     ]
    }
   ],
   "source": [
    "# 这里要注意 保留的时候按照相关性降序排序 剔除按照相关性升序排序的顺序\n",
    "thershold = 0.8\n",
    "for i in range(len(feature_lists)):\n",
    "    for k in range(len(feature_lists)-1, -1, -1):\n",
    "        if i >= len(feature_lists) or k >= len(feature_lists) or i == k:\n",
    "            break\n",
    "        if np.abs(np.corrcoef(feature_temp[feature_lists[i]], feature_temp[feature_lists[k]])[0][1]) > thershold:\n",
    "            higher_feature_temp = feature_temp[feature_lists[i]] * feature_temp[feature_lists[k]]\n",
    "            if np.abs(np.corrcoef(feature_temp[feature_lists[i]], higher_feature_temp)[0][1]) <= thershold:\n",
    "                name = str(feature_lists[i]) + '%%%%' + str(feature_lists[k])\n",
    "                feature_temp[name] = higher_feature_temp\n",
    "                feature[name] = feature[feature_lists[i]] * feature[feature_lists[k]]\n",
    "                feature_lists.append(name)\n",
    "            feature_temp = feature_temp.drop(feature_lists[k], axis=1)\n",
    "            feature_lists.remove(feature_lists[k])"
   ]
  },
  {
   "cell_type": "code",
   "execution_count": 18,
   "metadata": {
    "ExecuteTime": {
     "end_time": "2020-06-23T08:34:21.429425Z",
     "start_time": "2020-06-23T08:34:21.424402Z"
    }
   },
   "outputs": [],
   "source": [
    "feature = feature[[\n",
    "    x for x in feature_lists if x not in labels] + labels + ['date']]"
   ]
  },
  {
   "cell_type": "code",
   "execution_count": null,
   "metadata": {},
   "outputs": [],
   "source": [
    "feature.to_csv('purchase_feature_droped_0614.csv',index=False)"
   ]
  },
  {
   "cell_type": "code",
   "execution_count": 20,
   "metadata": {
    "ExecuteTime": {
     "end_time": "2020-06-23T08:42:34.279036Z",
     "start_time": "2020-06-23T08:42:34.274049Z"
    }
   },
   "outputs": [
    {
     "data": {
      "text/plain": [
       "['total_purchase_predicted_by_cycle',\n",
       " 'dis_to_holiendday',\n",
       " 'dis_from_holiday',\n",
       " 'is_firstday_of_holiday',\n",
       " 'dis_to_work',\n",
       " 'total_redeem_amt',\n",
       " 'is_lastday_of_holiday',\n",
       " 'redeem_dayrate',\n",
       " 'dis_from_work',\n",
       " 'is_tailmonth',\n",
       " 'dis_from_nowork',\n",
       " 'redeem_weekdayrate',\n",
       " 'is_premonth',\n",
       " 'dis_to_nowork',\n",
       " 'dis_from_holiendday',\n",
       " 'weekday_onehot_5',\n",
       " 'weekday_onehot_1',\n",
       " 'purchase_weekdayrate',\n",
       " 'dis_to_nowork%%%%dis_from_purchase_peak']"
      ]
     },
     "execution_count": 20,
     "metadata": {},
     "output_type": "execute_result"
    }
   ],
   "source": []
  },
  {
   "cell_type": "code",
   "execution_count": null,
   "metadata": {},
   "outputs": [],
   "source": [
    "['dis_from_holiday',\n",
    " 'is_holiday',\n",
    " 'dis_to_work',\n",
    " 'dis_from_work',\n",
    " 'dis_from_holiendday',\n",
    " 'dis_from_nowork',\n",
    " 'is_firstday_of_holiday',\n",
    " 'is_tailmonth',\n",
    " 'is_premonth',\n",
    " 'is_lastday_of_holiday',\n",
    " 'is_third_week',\n",
    " 'is_work',\n",
    " 'dis_to_nowork',\n",
    " 'redeem_weekdayrate',\n",
    " 'redeem_dayrate',\n",
    " 'dis_from_purchase_peak',\n",
    " 'purchase_dayrate',\n",
    " 'purchase_weekdayrate',\n",
    " 'is_holiday%%%%dis_to_holiendday']"
   ]
  }
 ],
 "metadata": {
  "kernelspec": {
   "display_name": "Python 3",
   "language": "python",
   "name": "python3"
  },
  "language_info": {
   "codemirror_mode": {
    "name": "ipython",
    "version": 3
   },
   "file_extension": ".py",
   "mimetype": "text/x-python",
   "name": "python",
   "nbconvert_exporter": "python",
   "pygments_lexer": "ipython3",
   "version": "3.7.5"
  },
  "toc": {
   "base_numbering": 1,
   "nav_menu": {},
   "number_sections": true,
   "sideBar": true,
   "skip_h1_title": false,
   "title_cell": "Table of Contents",
   "title_sidebar": "Contents",
   "toc_cell": false,
   "toc_position": {},
   "toc_section_display": true,
   "toc_window_display": false
  },
  "varInspector": {
   "cols": {
    "lenName": 16,
    "lenType": 16,
    "lenVar": 40
   },
   "kernels_config": {
    "python": {
     "delete_cmd_postfix": "",
     "delete_cmd_prefix": "del ",
     "library": "var_list.py",
     "varRefreshCmd": "print(var_dic_list())"
    },
    "r": {
     "delete_cmd_postfix": ") ",
     "delete_cmd_prefix": "rm(",
     "library": "var_list.r",
     "varRefreshCmd": "cat(var_dic_list()) "
    }
   },
   "types_to_exclude": [
    "module",
    "function",
    "builtin_function_or_method",
    "instance",
    "_Feature"
   ],
   "window_display": false
  }
 },
 "nbformat": 4,
 "nbformat_minor": 2
}
