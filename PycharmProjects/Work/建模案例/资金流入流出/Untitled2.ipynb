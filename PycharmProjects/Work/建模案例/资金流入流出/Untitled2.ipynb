{
 "cells": [
  {
   "cell_type": "code",
   "execution_count": 4,
   "metadata": {
    "ExecuteTime": {
     "end_time": "2020-07-21T01:23:14.085716Z",
     "start_time": "2020-07-21T01:23:10.313720Z"
    }
   },
   "outputs": [],
   "source": [
    "import pandas as pd\n",
    "import numpy as np\n",
    "import os\n",
    "os.chdir('D:/DataSet/PRD')\n",
    "import sys\n",
    "sys.path.append('D:/gitln/WorkCode/BaseFunc/')\n",
    "#df = pd.read_csv('total_amt.csv',encoding='gbk')\n",
    "#df['report_date'] = pd.to_datetime(df['report_date'],format='%Y/%m/%d')\n",
    "#df.set_index('report_date', inplace=True)\n",
    "balance = pd.read_csv('user_balance_table.csv')\n",
    "balance['report_date'] = pd.to_datetime(balance['report_date'],\n",
    "                                        format='%Y%m%d')\n",
    "balance = balance.set_index('report_date')"
   ]
  },
  {
   "cell_type": "code",
   "execution_count": 5,
   "metadata": {
    "ExecuteTime": {
     "end_time": "2020-07-21T01:23:14.319066Z",
     "start_time": "2020-07-21T01:23:14.109664Z"
    }
   },
   "outputs": [],
   "source": [
    "balance = balance.drop(['category1','category2', 'category3', \n",
    "                       'category4'],axis=1)"
   ]
  },
  {
   "cell_type": "code",
   "execution_count": 6,
   "metadata": {
    "ExecuteTime": {
     "end_time": "2020-07-21T01:23:14.357962Z",
     "start_time": "2020-07-21T01:23:14.338017Z"
    }
   },
   "outputs": [
    {
     "data": {
      "text/html": [
       "<div>\n",
       "<style scoped>\n",
       "    .dataframe tbody tr th:only-of-type {\n",
       "        vertical-align: middle;\n",
       "    }\n",
       "\n",
       "    .dataframe tbody tr th {\n",
       "        vertical-align: top;\n",
       "    }\n",
       "\n",
       "    .dataframe thead th {\n",
       "        text-align: right;\n",
       "    }\n",
       "</style>\n",
       "<table border=\"1\" class=\"dataframe\">\n",
       "  <thead>\n",
       "    <tr style=\"text-align: right;\">\n",
       "      <th></th>\n",
       "      <th>user_id</th>\n",
       "      <th>tBalance</th>\n",
       "      <th>yBalance</th>\n",
       "      <th>total_purchase_amt</th>\n",
       "      <th>direct_purchase_amt</th>\n",
       "      <th>purchase_bal_amt</th>\n",
       "      <th>purchase_bank_amt</th>\n",
       "      <th>total_redeem_amt</th>\n",
       "      <th>consume_amt</th>\n",
       "      <th>transfer_amt</th>\n",
       "      <th>tftobal_amt</th>\n",
       "      <th>tftocard_amt</th>\n",
       "      <th>share_amt</th>\n",
       "    </tr>\n",
       "    <tr>\n",
       "      <th>report_date</th>\n",
       "      <th></th>\n",
       "      <th></th>\n",
       "      <th></th>\n",
       "      <th></th>\n",
       "      <th></th>\n",
       "      <th></th>\n",
       "      <th></th>\n",
       "      <th></th>\n",
       "      <th></th>\n",
       "      <th></th>\n",
       "      <th></th>\n",
       "      <th></th>\n",
       "      <th></th>\n",
       "    </tr>\n",
       "  </thead>\n",
       "  <tbody>\n",
       "    <tr>\n",
       "      <th>2014-08-05</th>\n",
       "      <td>1</td>\n",
       "      <td>20385</td>\n",
       "      <td>20383</td>\n",
       "      <td>2</td>\n",
       "      <td>0</td>\n",
       "      <td>0</td>\n",
       "      <td>0</td>\n",
       "      <td>0</td>\n",
       "      <td>0</td>\n",
       "      <td>0</td>\n",
       "      <td>0</td>\n",
       "      <td>0</td>\n",
       "      <td>2</td>\n",
       "    </tr>\n",
       "    <tr>\n",
       "      <th>2014-08-08</th>\n",
       "      <td>1</td>\n",
       "      <td>20391</td>\n",
       "      <td>20389</td>\n",
       "      <td>2</td>\n",
       "      <td>0</td>\n",
       "      <td>0</td>\n",
       "      <td>0</td>\n",
       "      <td>0</td>\n",
       "      <td>0</td>\n",
       "      <td>0</td>\n",
       "      <td>0</td>\n",
       "      <td>0</td>\n",
       "      <td>2</td>\n",
       "    </tr>\n",
       "    <tr>\n",
       "      <th>2014-08-11</th>\n",
       "      <td>1</td>\n",
       "      <td>20397</td>\n",
       "      <td>20395</td>\n",
       "      <td>2</td>\n",
       "      <td>0</td>\n",
       "      <td>0</td>\n",
       "      <td>0</td>\n",
       "      <td>0</td>\n",
       "      <td>0</td>\n",
       "      <td>0</td>\n",
       "      <td>0</td>\n",
       "      <td>0</td>\n",
       "      <td>2</td>\n",
       "    </tr>\n",
       "    <tr>\n",
       "      <th>2014-08-14</th>\n",
       "      <td>1</td>\n",
       "      <td>20403</td>\n",
       "      <td>20401</td>\n",
       "      <td>2</td>\n",
       "      <td>0</td>\n",
       "      <td>0</td>\n",
       "      <td>0</td>\n",
       "      <td>0</td>\n",
       "      <td>0</td>\n",
       "      <td>0</td>\n",
       "      <td>0</td>\n",
       "      <td>0</td>\n",
       "      <td>2</td>\n",
       "    </tr>\n",
       "    <tr>\n",
       "      <th>2014-08-17</th>\n",
       "      <td>1</td>\n",
       "      <td>20409</td>\n",
       "      <td>20407</td>\n",
       "      <td>2</td>\n",
       "      <td>0</td>\n",
       "      <td>0</td>\n",
       "      <td>0</td>\n",
       "      <td>0</td>\n",
       "      <td>0</td>\n",
       "      <td>0</td>\n",
       "      <td>0</td>\n",
       "      <td>0</td>\n",
       "      <td>2</td>\n",
       "    </tr>\n",
       "  </tbody>\n",
       "</table>\n",
       "</div>"
      ],
      "text/plain": [
       "             user_id  tBalance  yBalance  total_purchase_amt  \\\n",
       "report_date                                                    \n",
       "2014-08-05         1     20385     20383                   2   \n",
       "2014-08-08         1     20391     20389                   2   \n",
       "2014-08-11         1     20397     20395                   2   \n",
       "2014-08-14         1     20403     20401                   2   \n",
       "2014-08-17         1     20409     20407                   2   \n",
       "\n",
       "             direct_purchase_amt  purchase_bal_amt  purchase_bank_amt  \\\n",
       "report_date                                                             \n",
       "2014-08-05                     0                 0                  0   \n",
       "2014-08-08                     0                 0                  0   \n",
       "2014-08-11                     0                 0                  0   \n",
       "2014-08-14                     0                 0                  0   \n",
       "2014-08-17                     0                 0                  0   \n",
       "\n",
       "             total_redeem_amt  consume_amt  transfer_amt  tftobal_amt  \\\n",
       "report_date                                                             \n",
       "2014-08-05                  0            0             0            0   \n",
       "2014-08-08                  0            0             0            0   \n",
       "2014-08-11                  0            0             0            0   \n",
       "2014-08-14                  0            0             0            0   \n",
       "2014-08-17                  0            0             0            0   \n",
       "\n",
       "             tftocard_amt  share_amt  \n",
       "report_date                           \n",
       "2014-08-05              0          2  \n",
       "2014-08-08              0          2  \n",
       "2014-08-11              0          2  \n",
       "2014-08-14              0          2  \n",
       "2014-08-17              0          2  "
      ]
     },
     "execution_count": 6,
     "metadata": {},
     "output_type": "execute_result"
    }
   ],
   "source": [
    "balance.head()"
   ]
  },
  {
   "cell_type": "code",
   "execution_count": 7,
   "metadata": {
    "ExecuteTime": {
     "end_time": "2020-07-21T01:23:14.862809Z",
     "start_time": "2020-07-21T01:23:14.701216Z"
    }
   },
   "outputs": [],
   "source": [
    "mask = (balance.loc[:,'tBalance':]==0).all(axis=1)"
   ]
  },
  {
   "cell_type": "code",
   "execution_count": 8,
   "metadata": {
    "ExecuteTime": {
     "end_time": "2020-07-21T01:23:15.769741Z",
     "start_time": "2020-07-21T01:23:15.541323Z"
    }
   },
   "outputs": [],
   "source": [
    "balance = balance.loc[~mask,:]"
   ]
  },
  {
   "cell_type": "code",
   "execution_count": 9,
   "metadata": {
    "ExecuteTime": {
     "end_time": "2020-07-21T01:23:17.236590Z",
     "start_time": "2020-07-21T01:23:16.696810Z"
    }
   },
   "outputs": [],
   "source": [
    "total_purchase = balance.groupby(balance.index)['total_purchase_amt'].sum()\n",
    "total_consume = balance.groupby(balance.index)['consume_amt'].sum()\n",
    "total_transfer = balance.groupby(balance.index)['transfer_amt'].sum()\n"
   ]
  },
  {
   "cell_type": "code",
   "execution_count": 10,
   "metadata": {
    "ExecuteTime": {
     "end_time": "2020-07-21T01:23:19.055878Z",
     "start_time": "2020-07-21T01:23:18.624056Z"
    }
   },
   "outputs": [],
   "source": [
    "total_num = balance.groupby(balance.index)['user_id'].nunique()"
   ]
  },
  {
   "cell_type": "code",
   "execution_count": 21,
   "metadata": {
    "ExecuteTime": {
     "end_time": "2020-07-21T02:45:23.222873Z",
     "start_time": "2020-07-21T02:45:23.207915Z"
    }
   },
   "outputs": [],
   "source": [
    "df = pd.DataFrame({'purchase':total_purchase,'consume':total_consume,\n",
    "              'transfer':total_transfer,'num':total_num})\n",
    "df.to_csv('total_721.csv')"
   ]
  },
  {
   "cell_type": "code",
   "execution_count": 24,
   "metadata": {
    "ExecuteTime": {
     "end_time": "2020-07-21T02:45:38.962744Z",
     "start_time": "2020-07-21T02:45:38.500547Z"
    }
   },
   "outputs": [
    {
     "data": {
      "text/plain": [
       "<matplotlib.axes._subplots.AxesSubplot at 0x15b08a21608>"
      ]
     },
     "execution_count": 24,
     "metadata": {},
     "output_type": "execute_result"
    },
    {
     "data": {
      "image/png": "[encoded data removed]",
      "text/plain": [
       "<Figure size 432x288 with 1 Axes>"
      ]
     },
     "metadata": {
      "needs_background": "light"
     },
     "output_type": "display_data"
    }
   ],
   "source": [
    "(df['purchase']/df['num']).plot()"
   ]
  },
  {
   "cell_type": "code",
   "execution_count": 55,
   "metadata": {
    "ExecuteTime": {
     "end_time": "2020-07-21T07:45:08.934102Z",
     "start_time": "2020-07-21T07:45:08.924095Z"
    }
   },
   "outputs": [],
   "source": [
    "year2013 = df.loc['2013-09',:]"
   ]
  },
  {
   "cell_type": "code",
   "execution_count": 62,
   "metadata": {
    "ExecuteTime": {
     "end_time": "2020-07-21T07:49:47.281733Z",
     "start_time": "2020-07-21T07:49:47.272758Z"
    }
   },
   "outputs": [
    {
     "data": {
      "text/plain": [
       "report_date\n",
       "2013-09-16    161656210\n",
       "2013-09-02    140844739\n",
       "2013-09-11     98944459\n",
       "2013-09-10     94684143\n",
       "2013-09-03     80507880\n",
       "Name: purchase, dtype: int64"
      ]
     },
     "execution_count": 62,
     "metadata": {},
     "output_type": "execute_result"
    }
   ],
   "source": [
    "year2013['purchase'].nlargest()"
   ]
  },
  {
   "cell_type": "code",
   "execution_count": 31,
   "metadata": {
    "ExecuteTime": {
     "end_time": "2020-07-21T02:54:25.615429Z",
     "start_time": "2020-07-21T02:54:23.719647Z"
    }
   },
   "outputs": [],
   "source": [
    "import statsmodels.api as sm"
   ]
  },
  {
   "cell_type": "code",
   "execution_count": 50,
   "metadata": {
    "ExecuteTime": {
     "end_time": "2020-07-21T02:58:51.850121Z",
     "start_time": "2020-07-21T02:58:51.800253Z"
    }
   },
   "outputs": [],
   "source": [
    "model = sm.tsa.STL(df['purchase']/df['num'],robust=True).fit()"
   ]
  },
  {
   "cell_type": "code",
   "execution_count": 51,
   "metadata": {
    "ExecuteTime": {
     "end_time": "2020-07-21T02:58:52.763846Z",
     "start_time": "2020-07-21T02:58:52.577001Z"
    }
   },
   "outputs": [
    {
     "data": {
      "text/plain": [
       "<matplotlib.axes._subplots.AxesSubplot at 0x15b339d1808>"
      ]
     },
     "execution_count": 51,
     "metadata": {},
     "output_type": "execute_result"
    },
    {
     "data": {
      "image/png": "[encoded data removed]",
      "text/plain": [
       "<Figure size 432x288 with 1 Axes>"
      ]
     },
     "metadata": {
      "needs_background": "light"
     },
     "output_type": "display_data"
    }
   ],
   "source": [
    "pd.Series(model.seasonal).plot()"
   ]
  },
  {
   "cell_type": "code",
   "execution_count": 64,
   "metadata": {
    "ExecuteTime": {
     "end_time": "2020-07-21T08:07:55.438438Z",
     "start_time": "2020-07-21T08:07:55.431425Z"
    }
   },
   "outputs": [],
   "source": [
    "holiday = ['2014-04-05','2014-04-06','2014-04-07','2014-05-01',\n",
    "          '2014-05-02','2014-05-03','2014-05-31','2014-06-01',\n",
    "          '2014-06-02']\n",
    "workday = ['2014-05-04']"
   ]
  },
  {
   "cell_type": "code",
   "execution_count": 65,
   "metadata": {
    "ExecuteTime": {
     "end_time": "2020-07-21T08:07:55.877258Z",
     "start_time": "2020-07-21T08:07:55.858284Z"
    }
   },
   "outputs": [
    {
     "data": {
      "text/html": [
       "<div>\n",
       "<style scoped>\n",
       "    .dataframe tbody tr th:only-of-type {\n",
       "        vertical-align: middle;\n",
       "    }\n",
       "\n",
       "    .dataframe tbody tr th {\n",
       "        vertical-align: top;\n",
       "    }\n",
       "\n",
       "    .dataframe thead th {\n",
       "        text-align: right;\n",
       "    }\n",
       "</style>\n",
       "<table border=\"1\" class=\"dataframe\">\n",
       "  <thead>\n",
       "    <tr style=\"text-align: right;\">\n",
       "      <th></th>\n",
       "      <th>purchase</th>\n",
       "      <th>consume</th>\n",
       "      <th>transfer</th>\n",
       "      <th>num</th>\n",
       "    </tr>\n",
       "    <tr>\n",
       "      <th>report_date</th>\n",
       "      <th></th>\n",
       "      <th></th>\n",
       "      <th></th>\n",
       "      <th></th>\n",
       "    </tr>\n",
       "  </thead>\n",
       "  <tbody>\n",
       "    <tr>\n",
       "      <th>2013-07-01</th>\n",
       "      <td>32488348</td>\n",
       "      <td>382160</td>\n",
       "      <td>5142862</td>\n",
       "      <td>409</td>\n",
       "    </tr>\n",
       "    <tr>\n",
       "      <th>2013-07-02</th>\n",
       "      <td>29037390</td>\n",
       "      <td>350066</td>\n",
       "      <td>2204482</td>\n",
       "      <td>438</td>\n",
       "    </tr>\n",
       "    <tr>\n",
       "      <th>2013-07-03</th>\n",
       "      <td>27270770</td>\n",
       "      <td>454406</td>\n",
       "      <td>5499461</td>\n",
       "      <td>468</td>\n",
       "    </tr>\n",
       "    <tr>\n",
       "      <th>2013-07-04</th>\n",
       "      <td>18321185</td>\n",
       "      <td>535391</td>\n",
       "      <td>5875338</td>\n",
       "      <td>491</td>\n",
       "    </tr>\n",
       "    <tr>\n",
       "      <th>2013-07-05</th>\n",
       "      <td>11648749</td>\n",
       "      <td>697926</td>\n",
       "      <td>2065661</td>\n",
       "      <td>515</td>\n",
       "    </tr>\n",
       "    <tr>\n",
       "      <th>...</th>\n",
       "      <td>...</td>\n",
       "      <td>...</td>\n",
       "      <td>...</td>\n",
       "      <td>...</td>\n",
       "    </tr>\n",
       "    <tr>\n",
       "      <th>2014-08-27</th>\n",
       "      <td>302194801</td>\n",
       "      <td>107408171</td>\n",
       "      <td>360755976</td>\n",
       "      <td>12370</td>\n",
       "    </tr>\n",
       "    <tr>\n",
       "      <th>2014-08-28</th>\n",
       "      <td>245082751</td>\n",
       "      <td>98896299</td>\n",
       "      <td>198997562</td>\n",
       "      <td>12400</td>\n",
       "    </tr>\n",
       "    <tr>\n",
       "      <th>2014-08-29</th>\n",
       "      <td>267554713</td>\n",
       "      <td>103967802</td>\n",
       "      <td>169788578</td>\n",
       "      <td>12417</td>\n",
       "    </tr>\n",
       "    <tr>\n",
       "      <th>2014-08-30</th>\n",
       "      <td>199708772</td>\n",
       "      <td>70813897</td>\n",
       "      <td>125560237</td>\n",
       "      <td>12433</td>\n",
       "    </tr>\n",
       "    <tr>\n",
       "      <th>2014-08-31</th>\n",
       "      <td>275090213</td>\n",
       "      <td>106464912</td>\n",
       "      <td>186478121</td>\n",
       "      <td>12444</td>\n",
       "    </tr>\n",
       "  </tbody>\n",
       "</table>\n",
       "<p>418 rows × 4 columns</p>\n",
       "</div>"
      ],
      "text/plain": [
       "              purchase    consume   transfer    num\n",
       "report_date                                        \n",
       "2013-07-01    32488348     382160    5142862    409\n",
       "2013-07-02    29037390     350066    2204482    438\n",
       "2013-07-03    27270770     454406    5499461    468\n",
       "2013-07-04    18321185     535391    5875338    491\n",
       "2013-07-05    11648749     697926    2065661    515\n",
       "...                ...        ...        ...    ...\n",
       "2014-08-27   302194801  107408171  360755976  12370\n",
       "2014-08-28   245082751   98896299  198997562  12400\n",
       "2014-08-29   267554713  103967802  169788578  12417\n",
       "2014-08-30   199708772   70813897  125560237  12433\n",
       "2014-08-31   275090213  106464912  186478121  12444\n",
       "\n",
       "[418 rows x 4 columns]"
      ]
     },
     "execution_count": 65,
     "metadata": {},
     "output_type": "execute_result"
    }
   ],
   "source": [
    "\n",
    "df.loc[~df.index.isin(holiday),:]"
   ]
  },
  {
   "cell_type": "code",
   "execution_count": 87,
   "metadata": {
    "ExecuteTime": {
     "end_time": "2020-07-21T08:24:07.836451Z",
     "start_time": "2020-07-21T08:24:07.830467Z"
    }
   },
   "outputs": [],
   "source": [
    "traindata1 = df.loc['2014-03':,:].copy()\n",
    "traindata = traindata1.loc[~traindata1.index.isin(holiday),:].copy()"
   ]
  },
  {
   "cell_type": "code",
   "execution_count": null,
   "metadata": {
    "ExecuteTime": {
     "end_time": "2020-07-21T08:22:56.127659Z",
     "start_time": "2020-07-21T08:22:55.943118Z"
    }
   },
   "outputs": [],
   "source": []
  },
  {
   "cell_type": "code",
   "execution_count": 88,
   "metadata": {
    "ExecuteTime": {
     "end_time": "2020-07-21T08:24:08.942799Z",
     "start_time": "2020-07-21T08:24:08.934785Z"
    }
   },
   "outputs": [],
   "source": [
    "traindata['month'] = traindata.index.month\n",
    "traindata['weekday'] = traindata.index.weekday\n",
    "traindata['day'] = traindata.index.day"
   ]
  },
  {
   "cell_type": "code",
   "execution_count": 89,
   "metadata": {
    "ExecuteTime": {
     "end_time": "2020-07-21T08:24:09.953061Z",
     "start_time": "2020-07-21T08:24:09.944085Z"
    }
   },
   "outputs": [],
   "source": [
    "temp = traindata.groupby('month')['purchase'].mean()\n",
    "temp.name='pur_mean'\n",
    "traindata = pd.merge(traindata,temp,left_on='month',right_index=True)"
   ]
  },
  {
   "cell_type": "code",
   "execution_count": 90,
   "metadata": {
    "ExecuteTime": {
     "end_time": "2020-07-21T08:24:10.706122Z",
     "start_time": "2020-07-21T08:24:10.703091Z"
    }
   },
   "outputs": [],
   "source": [
    "traindata['purchase'] = traindata['purchase']/traindata['pur_mean']"
   ]
  },
  {
   "cell_type": "code",
   "execution_count": 92,
   "metadata": {
    "ExecuteTime": {
     "end_time": "2020-07-21T08:26:22.065248Z",
     "start_time": "2020-07-21T08:26:22.055239Z"
    }
   },
   "outputs": [],
   "source": [
    "temp1 = traindata.groupby('weekday')['purchase'].mean()\n",
    "temp1.name = 'pur_week'\n",
    "traindata = pd.merge(traindata,temp1,left_on='weekday',right_index=True)"
   ]
  },
  {
   "cell_type": "code",
   "execution_count": 94,
   "metadata": {
    "ExecuteTime": {
     "end_time": "2020-07-21T08:27:46.589917Z",
     "start_time": "2020-07-21T08:27:46.584895Z"
    }
   },
   "outputs": [],
   "source": [
    "traindata['purchase'] = traindata['purchase']/traindata['pur_week']"
   ]
  },
  {
   "cell_type": "code",
   "execution_count": 95,
   "metadata": {
    "ExecuteTime": {
     "end_time": "2020-07-21T08:27:57.362626Z",
     "start_time": "2020-07-21T08:27:57.195039Z"
    }
   },
   "outputs": [
    {
     "data": {
      "text/plain": [
       "<matplotlib.axes._subplots.AxesSubplot at 0x15b35dc4a48>"
      ]
     },
     "execution_count": 95,
     "metadata": {},
     "output_type": "execute_result"
    },
    {
     "data": {
      "image/png": "[encoded data removed]",
      "text/plain": [
       "<Figure size 432x288 with 1 Axes>"
      ]
     },
     "metadata": {
      "needs_background": "light"
     },
     "output_type": "display_data"
    }
   ],
   "source": [
    "traindata['purchase'].plot()"
   ]
  },
  {
   "cell_type": "code",
   "execution_count": 96,
   "metadata": {
    "ExecuteTime": {
     "end_time": "2020-07-21T08:28:52.416298Z",
     "start_time": "2020-07-21T08:28:52.408322Z"
    }
   },
   "outputs": [
    {
     "data": {
      "text/plain": [
       "day\n",
       "1     1.439908\n",
       "2     1.152639\n",
       "3     1.040442\n",
       "4     1.108530\n",
       "5     1.157145\n",
       "6     1.153324\n",
       "7     1.056621\n",
       "8     1.101686\n",
       "9     1.040395\n",
       "10    1.227195\n",
       "11    0.988721\n",
       "12    0.957802\n",
       "13    0.918265\n",
       "14    0.924067\n",
       "15    1.078670\n",
       "16    1.158357\n",
       "17    0.887498\n",
       "18    0.963370\n",
       "19    1.030125\n",
       "20    1.048189\n",
       "21    0.959702\n",
       "22    0.891398\n",
       "23    0.837548\n",
       "24    0.832112\n",
       "25    0.850753\n",
       "26    0.861823\n",
       "27    0.875113\n",
       "28    0.900135\n",
       "29    0.895155\n",
       "30    0.897772\n",
       "31    1.061954\n",
       "Name: purchase, dtype: float64"
      ]
     },
     "execution_count": 96,
     "metadata": {},
     "output_type": "execute_result"
    }
   ],
   "source": [
    "traindata.groupby('day')['purchase'].mean()"
   ]
  },
  {
   "cell_type": "code",
   "execution_count": null,
   "metadata": {},
   "outputs": [],
   "source": []
  }
 ],
 "metadata": {
  "kernelspec": {
   "display_name": "Python 3",
   "language": "python",
   "name": "python3"
  },
  "language_info": {
   "codemirror_mode": {
    "name": "ipython",
    "version": 3
   },
   "file_extension": ".py",
   "mimetype": "text/x-python",
   "name": "python",
   "nbconvert_exporter": "python",
   "pygments_lexer": "ipython3",
   "version": "3.7.5"
  },
  "toc": {
   "base_numbering": 1,
   "nav_menu": {},
   "number_sections": true,
   "sideBar": true,
   "skip_h1_title": false,
   "title_cell": "Table of Contents",
   "title_sidebar": "Contents",
   "toc_cell": false,
   "toc_position": {},
   "toc_section_display": true,
   "toc_window_display": false
  },
  "varInspector": {
   "cols": {
    "lenName": 16,
    "lenType": 16,
    "lenVar": 40
   },
   "kernels_config": {
    "python": {
     "delete_cmd_postfix": "",
     "delete_cmd_prefix": "del ",
     "library": "var_list.py",
     "varRefreshCmd": "print(var_dic_list())"
    },
    "r": {
     "delete_cmd_postfix": ") ",
     "delete_cmd_prefix": "rm(",
     "library": "var_list.r",
     "varRefreshCmd": "cat(var_dic_list()) "
    }
   },
   "types_to_exclude": [
    "module",
    "function",
    "builtin_function_or_method",
    "instance",
    "_Feature"
   ],
   "window_display": false
  }
 },
 "nbformat": 4,
 "nbformat_minor": 2
}
