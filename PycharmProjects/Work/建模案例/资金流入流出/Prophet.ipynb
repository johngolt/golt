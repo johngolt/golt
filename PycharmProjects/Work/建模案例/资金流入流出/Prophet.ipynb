{
 "cells": [
  {
   "cell_type": "code",
   "execution_count": 90,
   "metadata": {
    "ExecuteTime": {
     "end_time": "2020-06-10T06:42:19.353879Z",
     "start_time": "2020-06-10T06:42:19.336924Z"
    }
   },
   "outputs": [],
   "source": [
    "import pandas as pd\n",
    "import numpy as np\n",
    "import os\n",
    "import matplotlib.pyplot as plt\n",
    "%matplotlib inline\n",
    "import matplotlib as mpl\n",
    "plt.rcParams['font.sans-serif']=['SimHei']\n",
    "plt.rcParams['axes.unicode_minus']=False\n",
    "import seaborn as sns\n",
    "os.chdir('D:/DataSet/PRD')\n",
    "df = pd.read_csv('total_amt_money.csv')"
   ]
  },
  {
   "cell_type": "code",
   "execution_count": 91,
   "metadata": {
    "ExecuteTime": {
     "end_time": "2020-06-10T06:42:19.856694Z",
     "start_time": "2020-06-10T06:42:19.835751Z"
    }
   },
   "outputs": [],
   "source": [
    "df['report_date'] = pd.to_datetime(df['report_date'],format='%Y-%m-%d')\n",
    "df['report_date'].freq = 'D'\n",
    "df= df.loc[df['report_date']>'2014-04',:]\n",
    "total_purchase = df.loc[:,['report_date','total_purchase_amt']]\n",
    "consume = df.loc[:,['report_date','consume_amt']]\n",
    "transfer = df.loc[:,['report_date','transfer_amt']]"
   ]
  },
  {
   "cell_type": "code",
   "execution_count": 67,
   "metadata": {
    "ExecuteTime": {
     "end_time": "2020-06-10T05:54:00.443726Z",
     "start_time": "2020-06-10T05:54:00.419791Z"
    }
   },
   "outputs": [],
   "source": [
    "pur_df = total_purchase.rename(columns={'report_date':'ds','total_purchase_amt':'y'})\n",
    "consume_df = consume.rename(columns={'report_date':'ds','consume_amt':'y'})\n",
    "transfer_df = transfer.rename(columns={'report_date':'ds','transfer_amt':'y'})"
   ]
  },
  {
   "cell_type": "code",
   "execution_count": null,
   "metadata": {
    "ExecuteTime": {
     "end_time": "2020-06-10T05:54:04.822926Z",
     "start_time": "2020-06-10T05:54:04.581941Z"
    }
   },
   "outputs": [],
   "source": [
    "'''可选列lower_window和upper_window来指定该日期\n",
    "的lower_window或者upper_window范围内都被列为假期。\n",
    "lower_window=-2将包括前2天的日期作为假期，'''\n",
    "\n",
    "qingming = pd.DataFrame({\n",
    "  'holiday': 'christmas',\n",
    "  'ds': pd.to_datetime(['2014-4-5']),\n",
    "  'lower_window': -1,\n",
    "  'upper_window': 3,\n",
    "})\n",
    "laodong = pd.DataFrame({\n",
    "  'holiday': 'thanksgiving',\n",
    "  'ds': pd.to_datetime(['2014-5-1']),\n",
    "  'lower_window': -1,\n",
    "  'upper_window': 3,\n",
    "})\n",
    "duanwu = pd.DataFrame({\n",
    "  'holiday': 'christmas',\n",
    "  'ds': pd.to_datetime(['2014-5-31']),\n",
    "  'lower_window': -1,\n",
    "  'upper_window': 3,\n",
    "})\n",
    "zhongqiu = pd.DataFrame({\n",
    "  'holiday': 'christmas',\n",
    "  'ds': pd.to_datetime(['2014-9-6']),\n",
    "  'lower_window': -1,\n",
    "  'upper_window': 3,\n",
    "})\n",
    "guoqing = pd.DataFrame({\n",
    "  'holiday': 'christmas',\n",
    "  'ds': pd.to_datetime(['2014-10-1']),\n",
    "  'lower_window': -3,\n",
    "  'upper_window': 4,\n",
    "})"
   ]
  },
  {
   "cell_type": "code",
   "execution_count": null,
   "metadata": {
    "ExecuteTime": {
     "end_time": "2020-06-10T02:27:14.026045Z",
     "start_time": "2020-06-10T02:27:14.009090Z"
    }
   },
   "outputs": [],
   "source": [
    "pur_holidays = pd.concat((qingming, laodong, duanwu, zhongqiu))\n",
    "red_holidays = pd.concat((qingming, laodong, duanwu, zhongqiu))\n",
    "\n",
    "# 创建预测\n",
    "pur_model = Prophet(changepoint_prior_scale=0.3, holidays_prior_scale=0.95, interval_width=0.95, holidays=pur_holidays)\n",
    "pur_model.add_seasonality(name='weekly', period=7, fourier_order=3, prior_scale=0.1)\n",
    "pur_model.fit(pur_df)\n",
    "pur_future = pur_model.make_future_dataframe(periods=30)\n",
    "\n",
    "consume_model = Prophet(changepoint_prior_scale=0.5, holidays_prior_scale=0.95, interval_width=0.95,\n",
    "                        holidays=red_holidays)\n",
    "consume_model.add_seasonality(name='weekly', period=7, fourier_order=3, prior_scale=0.1)\n",
    "consume_model.fit(consume_df)\n",
    "consume_future = consume_model.make_future_dataframe(periods=30)\n",
    "\n",
    "transfer_model = Prophet(changepoint_prior_scale=0.5, holidays_prior_scale=0.95, interval_width=0.95,\n",
    "                         holidays=red_holidays)\n",
    "transfer_model.add_seasonality(name='weekly', period=7, fourier_order=3, prior_scale=0.1)\n",
    "transfer_model.fit(transfer_df)\n",
    "transfer_future = transfer_model.make_future_dataframe(periods=30)\n",
    "\n",
    "# 预测数据集\n",
    "pur_forecast = pur_model.predict(pur_future)\n",
    "consume_forecast = consume_model.predict(consume_future)\n",
    "transfer_forecast = transfer_model.predict(transfer_future)"
   ]
  },
  {
   "cell_type": "code",
   "execution_count": null,
   "metadata": {
    "ExecuteTime": {
     "end_time": "2020-06-10T02:27:44.495356Z",
     "start_time": "2020-06-10T02:27:44.484384Z"
    }
   },
   "outputs": [],
   "source": [
    "data = {}\n",
    "date = []\n",
    "pur = []\n",
    "red = []\n",
    "for i in range(30):\n",
    "    date.append(20140901+i)\n",
    "    pur.append(int(pur_forecast.loc[\n",
    "        152+i, 'yhat']+pur_forecast.loc[152+i, 'yhat_upper']))\n",
    "    red.append(int(consume_forecast.loc[\n",
    "        152+i, 'yhat'] + transfer_forecast.loc[152+i, 'yhat']))"
   ]
  },
  {
   "cell_type": "code",
   "execution_count": null,
   "metadata": {
    "ExecuteTime": {
     "end_time": "2020-06-10T02:27:57.425375Z",
     "start_time": "2020-06-10T02:27:57.416398Z"
    }
   },
   "outputs": [],
   "source": [
    "data['report_date'] = date\n",
    "data['purchase'] = pur\n",
    "data['redeem'] = red\n",
    "final_data_pd = pd.DataFrame(data=data,\n",
    "                             columns=('report_date', 'purchase', 'redeem'))"
   ]
  },
  {
   "cell_type": "code",
   "execution_count": null,
   "metadata": {
    "ExecuteTime": {
     "end_time": "2020-06-10T02:28:12.535688Z",
     "start_time": "2020-06-10T02:28:12.523749Z"
    }
   },
   "outputs": [],
   "source": [
    "final_data_pd = final_data_pd.set_index(['report_date'])\n",
    "\n",
    "final_data_pd.to_csv(\"./tc_comp_predict_table1.csv\")\n",
    "\n",
    "final_data_pd.plot()"
   ]
  },
  {
   "cell_type": "code",
   "execution_count": null,
   "metadata": {
    "ExecuteTime": {
     "end_time": "2020-06-10T03:28:42.580178Z",
     "start_time": "2020-06-10T03:28:42.574195Z"
    }
   },
   "outputs": [],
   "source": []
  },
  {
   "cell_type": "code",
   "execution_count": null,
   "metadata": {},
   "outputs": [],
   "source": [
    "import pandas as pd  # dataframe Series等的操作\n",
    "import numpy as np  # 一些函数，如log等\n",
    "from fbprophet import Prophet  # facebook prophet 框架对象\n",
    "# from sklearn.metrics import mean_squared_error  # 均值方差错误检测函数 sklearn包中有很多其他函数\n",
    "# from fbprophet.diagnostics import cross_validation  # 交叉验证函数\n",
    "import matplotlib.pyplot as plt  # Python 的 2D绘图库\n",
    "# import math  # math函数\n",
    "\n",
    "# 读取数据\n",
    "f = open('data/new_user_balance.csv')\n",
    "reader = pd.read_csv(f, sep=',', iterator=True)\n",
    "loop = True\n",
    "chunkSize = 100000\n",
    "chunks = []\n",
    "while loop:\n",
    "    try:\n",
    "        chunk = reader.get_chunk(chunkSize)\n",
    "        chunks.append(chunk)\n",
    "    except StopIteration:\n",
    "        loop = False\n",
    "        print(\"Iteration is stopped.\")\n",
    "df = pd.concat(chunks, ignore_index=True)\n",
    "\n",
    "# 总购买量（按时间排序）\n",
    "total_purchase = df.groupby(['report_date'], as_index=False)['total_purchase_amt'].sum()\n",
    "# 今日消费总量\n",
    "consume = df.groupby(['report_date'], as_index=False)['consume_amt'].sum()\n",
    "# 今日转出总量\n",
    "transfer = df.groupby(['report_date'], as_index=False)['transfer_amt'].sum()\n",
    "\n",
    "# print(total_purchase)\n",
    "\n",
    "# 将第一个时间列进行改造成 2013-07-01这样的格式\n",
    "total_purchase['report_date'] = pd.to_datetime(total_purchase['report_date'],\n",
    "                                               format='%Y%m%d')\n",
    "consume['report_date'] = pd.to_datetime(consume['report_date'], format='%Y%m%d')\n",
    "transfer['report_date'] = pd.to_datetime(transfer['report_date'], format='%Y%m%d')\n",
    "\n",
    "# 构造为dataframe，列名必须为ds和y 时间和时间值\n",
    "pur_data = {'ds': total_purchase['report_date'], \n",
    "            'y': total_purchase['total_purchase_amt'].values}\n",
    "pur_df = pd.DataFrame(data=pur_data, columns=['ds', 'y'])\n",
    "# pur_trian = pur_df[:396]\n",
    "# pur_test = pur_df[396:]\n",
    "consume_data = {'ds': consume['report_date'], \n",
    "                'y': consume['consume_amt'].values}\n",
    "consume_df = pd.DataFrame(data=consume_data, columns=['ds', 'y'])\n",
    "\n",
    "transfer_data = {'ds': transfer['report_date'], 'y': transfer['transfer_amt'].values}\n",
    "transfer_df = pd.DataFrame(data=transfer_data, columns=['ds', 'y'])\n",
    "\n",
    "# print(pur_trian)\n",
    "\n",
    "# plt.hist(pur_df.y, bins=427, density=True)\n",
    "# plt.show()\n",
    "\n",
    "qingming = pd.DataFrame({\n",
    "  'holiday': 'christmas',\n",
    "  'ds': pd.to_datetime(['2014-4-5']),\n",
    "  'lower_window': 0,\n",
    "  'upper_window': 3,\n",
    "})\n",
    "laodong = pd.DataFrame({\n",
    "  'holiday': 'thanksgiving',\n",
    "  'ds': pd.to_datetime(['2014-5-1']),\n",
    "  'lower_window': -1,\n",
    "  'upper_window': 3,\n",
    "})\n",
    "duanwu = pd.DataFrame({\n",
    "  'holiday': 'christmas',\n",
    "  'ds': pd.to_datetime(['2014-5-31']),\n",
    "  'lower_window': -1,\n",
    "  'upper_window': 3,\n",
    "})\n",
    "zhongqiu = pd.DataFrame({\n",
    "  'holiday': 'christmas',\n",
    "  'ds': pd.to_datetime(['2013-9-19', '2014-9-6']),\n",
    "  'lower_window': -1,\n",
    "  'upper_window': 3,\n",
    "})\n",
    "guoqing = pd.DataFrame({\n",
    "  'holiday': 'christmas',\n",
    "  'ds': pd.to_datetime(['2013-10-1', '2014-10-1']),\n",
    "  'lower_window': -3,\n",
    "  'upper_window': 4,\n",
    "})\n",
    "chunjie = pd.DataFrame({\n",
    "  'holiday': 'christmas',\n",
    "  'ds': pd.to_datetime(['2014-1-31']),\n",
    "  'lower_window': -4,\n",
    "  'upper_window': 8,\n",
    "})\n",
    "shuangshiyi = pd.DataFrame({\n",
    "  'holiday': 'christmas',\n",
    "  'ds': pd.to_datetime(['2013-11-11']),\n",
    "  'lower_window': -3,\n",
    "  'upper_window': 3,\n",
    "})\n",
    "\n",
    "pur_holidays = pd.concat((qingming, laodong, duanwu, zhongqiu, chunjie))\n",
    "red_holidays = pd.concat((qingming, laodong, duanwu, zhongqiu, chunjie, shuangshiyi))\n",
    "\n",
    "# 创建预测\n",
    "pur_model = Prophet(changepoint_prior_scale=0.3, holidays_prior_scale=0.95, interval_width=0.95, holidays=pur_holidays)\n",
    "pur_model.add_seasonality(name='weekly', period=7, fourier_order=3, prior_scale=0.1)\n",
    "pur_model.fit(pur_df)\n",
    "pur_future = pur_model.make_future_dataframe(periods=30)\n",
    "\n",
    "consume_model = Prophet(changepoint_prior_scale=0.5, holidays_prior_scale=0.95, interval_width=0.95,\n",
    "                        holidays=red_holidays)\n",
    "consume_model.add_seasonality(name='weekly', period=7, fourier_order=3, prior_scale=0.1)\n",
    "consume_model.fit(consume_df)\n",
    "consume_future = consume_model.make_future_dataframe(periods=30)\n",
    "\n",
    "transfer_model = Prophet(changepoint_prior_scale=0.5, holidays_prior_scale=0.95, interval_width=0.95,\n",
    "                         holidays=red_holidays)\n",
    "transfer_model.add_seasonality(name='weekly', period=7, fourier_order=3, prior_scale=0.1)\n",
    "transfer_model.fit(transfer_df)\n",
    "transfer_future = transfer_model.make_future_dataframe(periods=30)\n",
    "\n",
    "# 预测数据集\n",
    "pur_forecast = pur_model.predict(pur_future)\n",
    "consume_forecast = consume_model.predict(consume_future)\n",
    "transfer_forecast = transfer_model.predict(transfer_future)\n",
    "\n",
    "# 输出结果是DataFrame\n",
    "\n",
    "# print(pur_forecast[['ds', 'yhat', 'yhat_lower', 'yhat_upper']])\n",
    "\n",
    "# 展示预测结果\n",
    "# model.plot(forecast)\n",
    "# fig, ax = plt.subplots(figsize=(12, 8))\n",
    "# ax = pur_test.plot(ax=ax)\n",
    "# pur_pic = pur_model.plot(pur_forecast)\n",
    "# consume_pic = consume_model.plot(consume_forecast)\n",
    "# transfer_pic = transfer_model.plot(transfer_forecast)\n",
    "# fig2 = model.plot_components(forecast)\n",
    "# plt.show()\n",
    "\n",
    "# 存入csv文件\n",
    "\n",
    "# print(type(pur_forecast))\n",
    "\n",
    "data = {}\n",
    "date = []\n",
    "pur = []\n",
    "red = []\n",
    "# print(pur_forecast.ix[427])\n",
    "\n",
    "for i in range(30):\n",
    "    date.append(20140901+i)\n",
    "    pur.append(int(pur_forecast.ix[427+i, 'yhat']))\n",
    "    red.append(int(consume_forecast.ix[427+i, 'yhat'] + transfer_forecast.ix[427+i, 'yhat']))\n",
    "\n",
    "data['report_date'] = date\n",
    "data['purchase'] = pur\n",
    "data['redeem'] = red\n",
    "final_data_pd = pd.DataFrame(data=data, columns=('report_date', 'purchase', 'redeem'))\n",
    "# print(final_data_pd)"
   ]
  },
  {
   "cell_type": "code",
   "execution_count": 92,
   "metadata": {
    "ExecuteTime": {
     "end_time": "2020-06-10T06:49:44.636731Z",
     "start_time": "2020-06-10T06:49:44.628728Z"
    }
   },
   "outputs": [],
   "source": [
    "final_data_pd = pd.read_clipboard()"
   ]
  },
  {
   "cell_type": "code",
   "execution_count": 93,
   "metadata": {
    "ExecuteTime": {
     "end_time": "2020-06-10T06:50:05.557623Z",
     "start_time": "2020-06-10T06:50:05.362146Z"
    }
   },
   "outputs": [
    {
     "data": {
      "text/plain": [
       "<matplotlib.axes._subplots.AxesSubplot at 0x27b8b745f08>"
      ]
     },
     "execution_count": 93,
     "metadata": {},
     "output_type": "execute_result"
    },
    {
     "data": {
      "image/png": "[encoded data removed]",
      "text/plain": [
       "<Figure size 432x288 with 1 Axes>"
      ]
     },
     "metadata": {
      "needs_background": "light"
     },
     "output_type": "display_data"
    }
   ],
   "source": [
    "final_data_pd = final_data_pd.set_index(['report_date'])\n",
    "\n",
    "#final_data_pd.to_csv(\"./tc_comp_predict_table1.csv\")\n",
    "\n",
    "final_data_pd.plot()"
   ]
  },
  {
   "cell_type": "code",
   "execution_count": 94,
   "metadata": {
    "ExecuteTime": {
     "end_time": "2020-06-10T06:51:28.933357Z",
     "start_time": "2020-06-10T06:51:28.927311Z"
    }
   },
   "outputs": [],
   "source": [
    "final_data_pd.to_csv(\"./tc_comp_predict_table1.csv\")"
   ]
  },
  {
   "cell_type": "code",
   "execution_count": null,
   "metadata": {},
   "outputs": [],
   "source": []
  }
 ],
 "metadata": {
  "kernelspec": {
   "display_name": "Python 3",
   "language": "python",
   "name": "python3"
  },
  "language_info": {
   "codemirror_mode": {
    "name": "ipython",
    "version": 3
   },
   "file_extension": ".py",
   "mimetype": "text/x-python",
   "name": "python",
   "nbconvert_exporter": "python",
   "pygments_lexer": "ipython3",
   "version": "3.7.5"
  },
  "toc": {
   "base_numbering": 1,
   "nav_menu": {},
   "number_sections": true,
   "sideBar": true,
   "skip_h1_title": false,
   "title_cell": "Table of Contents",
   "title_sidebar": "Contents",
   "toc_cell": false,
   "toc_position": {},
   "toc_section_display": true,
   "toc_window_display": false
  },
  "varInspector": {
   "cols": {
    "lenName": 16,
    "lenType": 16,
    "lenVar": 40
   },
   "kernels_config": {
    "python": {
     "delete_cmd_postfix": "",
     "delete_cmd_prefix": "del ",
     "library": "var_list.py",
     "varRefreshCmd": "print(var_dic_list())"
    },
    "r": {
     "delete_cmd_postfix": ") ",
     "delete_cmd_prefix": "rm(",
     "library": "var_list.r",
     "varRefreshCmd": "cat(var_dic_list()) "
    }
   },
   "types_to_exclude": [
    "module",
    "function",
    "builtin_function_or_method",
    "instance",
    "_Feature"
   ],
   "window_display": false
  }
 },
 "nbformat": 4,
 "nbformat_minor": 2
}
