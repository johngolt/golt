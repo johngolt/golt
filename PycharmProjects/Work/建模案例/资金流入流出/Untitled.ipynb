{
 "cells": [
  {
   "cell_type": "code",
   "execution_count": 13,
   "metadata": {
    "ExecuteTime": {
     "end_time": "2020-07-06T01:39:48.321389Z",
     "start_time": "2020-07-06T01:39:48.317400Z"
    }
   },
   "outputs": [],
   "source": [
    "import pandas as pd\n",
    "import numpy as np\n",
    "import os\n",
    "os.chdir('D:/DataSet')"
   ]
  },
  {
   "cell_type": "markdown",
   "metadata": {},
   "source": [
    "#### 数据读入"
   ]
  },
  {
   "cell_type": "code",
   "execution_count": 14,
   "metadata": {
    "ExecuteTime": {
     "end_time": "2020-07-06T01:39:49.434704Z",
     "start_time": "2020-07-06T01:39:49.423736Z"
    }
   },
   "outputs": [],
   "source": [
    "df = pd.read_csv('total_amt.csv',encoding='gbk')\n",
    "df['report_date'] = pd.to_datetime(df['report_date'],format='%Y/%m/%d')\n",
    "df.set_index('report_date', inplace=True)"
   ]
  },
  {
   "cell_type": "code",
   "execution_count": 15,
   "metadata": {
    "ExecuteTime": {
     "end_time": "2020-07-06T01:39:49.945532Z",
     "start_time": "2020-07-06T01:39:49.929550Z"
    }
   },
   "outputs": [],
   "source": [
    "base = pd.read_csv('./PRD/base.csv')\n",
    "base['date'] = pd.to_datetime(base['date'], format='%Y%m%d')\n",
    "base.set_index('date', inplace=True)\n",
    "\n",
    "purchase_ratio = base.loc['2014-04':'2014-08-30', 'total_purchase_amt']\n",
    "redeem_ratio = base.loc['2014-04':'2014-08-30', 'total_redeem_amt']\n",
    "\n",
    "purchase_base = base.loc['2014-09-01':'2014-09-30',\n",
    "                         'total_purchase_predicted_by_cycle']\n",
    "redeem_base = base.loc['2014-09-01':'2014-09-30',\n",
    "                         'total_redeem_predicted_by_cycle']"
   ]
  },
  {
   "cell_type": "code",
   "execution_count": 20,
   "metadata": {
    "ExecuteTime": {
     "end_time": "2020-07-06T01:40:33.055266Z",
     "start_time": "2020-07-06T01:40:33.045290Z"
    }
   },
   "outputs": [],
   "source": [
    "train = df.loc[:'2014-08-30',:].copy()\n",
    "test = df.loc['2014-09-01':,:].copy()\n",
    "purchase = train.pop('total_purchase_amt')\n",
    "redeem = train.pop('total_redeem_amt')\n",
    "test = test.drop(['total_purchase_amt', 'total_redeem_amt'], axis=1)"
   ]
  },
  {
   "cell_type": "code",
   "execution_count": 21,
   "metadata": {
    "ExecuteTime": {
     "end_time": "2020-07-06T01:40:33.672468Z",
     "start_time": "2020-07-06T01:40:33.655513Z"
    }
   },
   "outputs": [
    {
     "data": {
      "text/plain": [
       "weekday                     -0.654226\n",
       "一周正常第1/5天上班                  0.390184\n",
       "周末第几天                       -0.604825\n",
       "休假第1/3天                     -0.660504\n",
       "休假前正常上班的一天                  -0.097087\n",
       "休假后正常上班的一天                   0.274026\n",
       "上班前一天休假                      0.274026\n",
       "工作日                          0.716887\n",
       "休假                          -0.716887\n",
       "是否月初                         0.158812\n",
       "是否月中                         0.013399\n",
       "每月第一天                        0.127810\n",
       "申购上一个波峰是几天前                  0.178945\n",
       "申购上一个波谷是几天前                 -0.430076\n",
       "赎回上一个波峰是几天前                 -0.129879\n",
       "赎回上一个波谷是几天前                 -0.181845\n",
       "上班最后天后要放2天假（2-3,7 3个01特征）    0.019134\n",
       "上班最后天后要放3天假（2-3,7 3个01特征）   -0.019134\n",
       "上班第一天前放了2天假（2-3 2个01特征）     -0.177181\n",
       "两天的假                        -0.597426\n",
       "三天的假                        -0.309095\n",
       "周日补班                              NaN\n",
       "新股发售                         0.129749\n",
       "dtype: float64"
      ]
     },
     "execution_count": 21,
     "metadata": {},
     "output_type": "execute_result"
    }
   ],
   "source": [
    "train.fillna(0).corrwith(purchase)"
   ]
  },
  {
   "cell_type": "code",
   "execution_count": null,
   "metadata": {
    "ExecuteTime": {
     "end_time": "2020-07-06T01:40:34.669855Z",
     "start_time": "2020-07-06T01:40:34.663871Z"
    }
   },
   "outputs": [],
   "source": [
    "delete=['休假前正常上班的一天','是否月中','上班最后天后要放2天假（2-3,7 3个01特征）',\n",
    " '上班最后天后要放3天假（2-3,7 3个01特征）','周日补班']\n",
    "train.drop(delete, axis=1, inplace=True)"
   ]
  },
  {
   "cell_type": "code",
   "execution_count": 31,
   "metadata": {
    "ExecuteTime": {
     "end_time": "2020-07-06T01:53:05.435562Z",
     "start_time": "2020-07-06T01:53:05.426555Z"
    }
   },
   "outputs": [],
   "source": [
    "test.drop(delete, axis=1, inplace=True)"
   ]
  },
  {
   "cell_type": "code",
   "execution_count": 25,
   "metadata": {
    "ExecuteTime": {
     "end_time": "2020-07-06T01:47:16.758517Z",
     "start_time": "2020-07-06T01:47:16.638805Z"
    }
   },
   "outputs": [
    {
     "data": {
      "text/plain": [
       "<matplotlib.axes._subplots.AxesSubplot at 0x2e654b38a48>"
      ]
     },
     "execution_count": 25,
     "metadata": {},
     "output_type": "execute_result"
    },
    {
     "data": {
      "image/png": "[encoded data removed]",
      "text/plain": [
       "<Figure size 432x288 with 2 Axes>"
      ]
     },
     "metadata": {
      "needs_background": "light"
     },
     "output_type": "display_data"
    }
   ],
   "source": [
    "import seaborn as sns\n",
    "%matplotlib inline\n",
    "sns.heatmap(train.corr(),xticklabels=False,yticklabels=False)"
   ]
  },
  {
   "cell_type": "code",
   "execution_count": 27,
   "metadata": {
    "ExecuteTime": {
     "end_time": "2020-07-06T01:51:19.145503Z",
     "start_time": "2020-07-06T01:51:19.139484Z"
    }
   },
   "outputs": [],
   "source": [
    "train.drop(['工作日'],axis=1, inplace=True)\n",
    "test.drop(['工作日'],axis=1, inplace=True)"
   ]
  },
  {
   "cell_type": "markdown",
   "metadata": {},
   "source": [
    "#### 建立模型"
   ]
  },
  {
   "cell_type": "code",
   "execution_count": 32,
   "metadata": {
    "ExecuteTime": {
     "end_time": "2020-07-06T01:53:09.245607Z",
     "start_time": "2020-07-06T01:53:09.228652Z"
    }
   },
   "outputs": [],
   "source": [
    "from sklearn import linear_model as lm\n",
    "model = lm.LinearRegression()\n",
    "model = model.fit(train.fillna(0), purchase)\n",
    "pur = model.predict(test.fillna(0))\n",
    "model1 = lm.LinearRegression()\n",
    "model1 = model1.fit(train.fillna(0), redeem)\n",
    "red = model1.predict(test.fillna(0))"
   ]
  },
  {
   "cell_type": "code",
   "execution_count": 106,
   "metadata": {
    "ExecuteTime": {
     "end_time": "2020-07-03T08:35:51.356489Z",
     "start_time": "2020-07-03T08:35:51.347474Z"
    }
   },
   "outputs": [],
   "source": [
    "from lightgbm import LGBMRegressor\n",
    "\n",
    "model = LGBMRegressor(num_leaves=10,\n",
    "    max_depth=2,\n",
    "    learning_rate=0.01,\n",
    "    n_estimators=500,)\n",
    "res = model.fit(train.to_numpy(), purchase)\n",
    "\n",
    "predpur = res.predict(test.to_numpy())\n",
    "\n",
    "model1 = LGBMRegressor(num_leaves=10,\n",
    "    max_depth=2,\n",
    "    learning_rate=0.01,\n",
    "    n_estimators=500,)\n",
    "res1 = model1.fit(train.to_numpy(), redeem)\n",
    "predred = res.predict(test.to_numpy())"
   ]
  },
  {
   "cell_type": "code",
   "execution_count": 33,
   "metadata": {
    "ExecuteTime": {
     "end_time": "2020-07-06T01:53:13.803255Z",
     "start_time": "2020-07-06T01:53:13.771098Z"
    }
   },
   "outputs": [],
   "source": [
    "def to_result(purchase, redeem):\n",
    "    report_date=list(range(20140901,20140931))\n",
    "    sub=pd.DataFrame()\n",
    "    sub['purchase']=purchase\n",
    "    sub['redeem']=redeem\n",
    "    sub=sub.reset_index()\n",
    "    sub['index']=report_date\n",
    "    sub=sub.rename(columns={'index':'report_date'})\n",
    "    sub[['purchase','redeem']]=sub[['purchase','redeem']].astype(np.int64)\n",
    "    sub=sub.set_index(['report_date'])\n",
    "    sub.to_csv('tc_comp_predict_table5.csv',sep=',')\n",
    "    \n",
    "to_result(pur, red)"
   ]
  },
  {
   "cell_type": "code",
   "execution_count": 34,
   "metadata": {
    "ExecuteTime": {
     "end_time": "2020-07-06T01:53:31.142106Z",
     "start_time": "2020-07-06T01:53:31.000449Z"
    }
   },
   "outputs": [
    {
     "data": {
      "text/plain": [
       "<matplotlib.axes._subplots.AxesSubplot at 0x2e65624bf88>"
      ]
     },
     "execution_count": 34,
     "metadata": {},
     "output_type": "execute_result"
    },
    {
     "data": {
      "image/png": "[encoded data removed]",
      "text/plain": [
       "<Figure size 432x288 with 1 Axes>"
      ]
     },
     "metadata": {
      "needs_background": "light"
     },
     "output_type": "display_data"
    }
   ],
   "source": [
    "pd.Series(pur).plot()"
   ]
  },
  {
   "cell_type": "code",
   "execution_count": null,
   "metadata": {
    "ExecuteTime": {
     "end_time": "2020-07-06T01:35:42.097398Z",
     "start_time": "2020-07-06T01:35:42.088428Z"
    }
   },
   "outputs": [],
   "source": [
    "import json\n",
    "import os\n",
    "\n",
    "from sklearn.metrics import (accuracy_score, classification_report,\n",
    "                             confusion_matrix, f1_score, fbeta_score)\n",
    "\n",
    "def get_metrics(y, y_pred, beta=2, average_method='macro', y_encoder=None):\n",
    "    if y_encoder:\n",
    "        y = y_encoder.inverse_transform(y)\n",
    "        y_pred = y_encoder.inverse_transform(y_pred)\n",
    "    return {\n",
    "        'accuracy': round(accuracy_score(y, y_pred), 4),\n",
    "        'f1_score_macro': round(f1_score(y, y_pred, average=average_method), 4),\n",
    "        'fbeta_score_macro': round(fbeta_score(y, y_pred, beta, average=average_method), 4),\n",
    "        'report': classification_report(y, y_pred, output_dict=True),\n",
    "        'report_csv': classification_report(y, y_pred, output_dict=False).replace('\\n','\\r\\n')\n",
    "    }\n",
    "\n",
    "\n",
    "def save_metrics(metrics: dict, model_directory, file_name):\n",
    "    path = os.path.join(model_directory, file_name + '_report.txt')\n",
    "    classification_report_to_csv(metrics['report_csv'], path)\n",
    "    metrics.pop('report_csv')\n",
    "    path = os.path.join(model_directory, file_name + '_metrics.json')\n",
    "    json.dump(metrics, open(path, 'w'), indent=4)"
   ]
  },
  {
   "cell_type": "code",
   "execution_count": null,
   "metadata": {},
   "outputs": [],
   "source": []
  }
 ],
 "metadata": {
  "kernelspec": {
   "display_name": "Python 3",
   "language": "python",
   "name": "python3"
  },
  "language_info": {
   "codemirror_mode": {
    "name": "ipython",
    "version": 3
   },
   "file_extension": ".py",
   "mimetype": "text/x-python",
   "name": "python",
   "nbconvert_exporter": "python",
   "pygments_lexer": "ipython3",
   "version": "3.7.5"
  },
  "toc": {
   "base_numbering": 1,
   "nav_menu": {},
   "number_sections": true,
   "sideBar": true,
   "skip_h1_title": false,
   "title_cell": "Table of Contents",
   "title_sidebar": "Contents",
   "toc_cell": false,
   "toc_position": {},
   "toc_section_display": true,
   "toc_window_display": false
  },
  "varInspector": {
   "cols": {
    "lenName": 16,
    "lenType": 16,
    "lenVar": 40
   },
   "kernels_config": {
    "python": {
     "delete_cmd_postfix": "",
     "delete_cmd_prefix": "del ",
     "library": "var_list.py",
     "varRefreshCmd": "print(var_dic_list())"
    },
    "r": {
     "delete_cmd_postfix": ") ",
     "delete_cmd_prefix": "rm(",
     "library": "var_list.r",
     "varRefreshCmd": "cat(var_dic_list()) "
    }
   },
   "types_to_exclude": [
    "module",
    "function",
    "builtin_function_or_method",
    "instance",
    "_Feature"
   ],
   "window_display": false
  }
 },
 "nbformat": 4,
 "nbformat_minor": 2
}
