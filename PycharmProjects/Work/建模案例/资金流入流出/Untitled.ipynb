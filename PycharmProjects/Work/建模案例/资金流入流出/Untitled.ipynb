{
 "cells": [
  {
   "cell_type": "code",
   "execution_count": 1,
   "metadata": {
    "ExecuteTime": {
     "end_time": "2020-07-03T01:01:15.270263Z",
     "start_time": "2020-07-03T01:01:14.453723Z"
    }
   },
   "outputs": [],
   "source": [
    "import pandas as pd\n",
    "import numpy as np\n",
    "import os\n",
    "os.chdir('D:/DataSet')"
   ]
  },
  {
   "cell_type": "code",
   "execution_count": 104,
   "metadata": {
    "ExecuteTime": {
     "end_time": "2020-07-03T08:35:28.064549Z",
     "start_time": "2020-07-03T08:35:28.052582Z"
    }
   },
   "outputs": [],
   "source": [
    "df = pd.read_csv('total_amt.csv',encoding='gbk')"
   ]
  },
  {
   "cell_type": "code",
   "execution_count": null,
   "metadata": {
    "ExecuteTime": {
     "end_time": "2020-07-03T08:35:37.007441Z",
     "start_time": "2020-07-03T08:35:36.996507Z"
    }
   },
   "outputs": [],
   "source": []
  },
  {
   "cell_type": "code",
   "execution_count": 33,
   "metadata": {
    "ExecuteTime": {
     "end_time": "2020-07-03T01:23:11.379191Z",
     "start_time": "2020-07-03T01:23:11.372212Z"
    }
   },
   "outputs": [],
   "source": [
    "base = pd.read_csv('./PRD/base.csv')"
   ]
  },
  {
   "cell_type": "code",
   "execution_count": 89,
   "metadata": {
    "ExecuteTime": {
     "end_time": "2020-07-03T08:14:47.261961Z",
     "start_time": "2020-07-03T08:14:47.256410Z"
    }
   },
   "outputs": [],
   "source": [
    "df = df.fillna(0)"
   ]
  },
  {
   "cell_type": "code",
   "execution_count": 106,
   "metadata": {
    "ExecuteTime": {
     "end_time": "2020-07-03T08:35:51.356489Z",
     "start_time": "2020-07-03T08:35:51.347474Z"
    }
   },
   "outputs": [],
   "source": [
    "df['report_date'] = pd.to_datetime(df['report_date'],format='%Y/%m/%d')\n",
    "df.set_index('report_date', inplace=True)"
   ]
  },
  {
   "cell_type": "code",
   "execution_count": 107,
   "metadata": {
    "ExecuteTime": {
     "end_time": "2020-07-03T08:35:51.866249Z",
     "start_time": "2020-07-03T08:35:51.858272Z"
    }
   },
   "outputs": [],
   "source": [
    "train = df.loc[:'2014-08-30',:]\n",
    "test = df.loc['2014-09-01':,:]"
   ]
  },
  {
   "cell_type": "code",
   "execution_count": null,
   "metadata": {
    "ExecuteTime": {
     "end_time": "2020-07-03T07:21:42.255909Z",
     "start_time": "2020-07-03T07:21:42.239952Z"
    }
   },
   "outputs": [],
   "source": []
  },
  {
   "cell_type": "code",
   "execution_count": 108,
   "metadata": {
    "ExecuteTime": {
     "end_time": "2020-07-03T08:35:54.214929Z",
     "start_time": "2020-07-03T08:35:54.209105Z"
    }
   },
   "outputs": [],
   "source": [
    "purchase = train.pop('total_purchase_amt')\n",
    "redeem = train.pop('total_redeem_amt')"
   ]
  },
  {
   "cell_type": "code",
   "execution_count": 109,
   "metadata": {
    "ExecuteTime": {
     "end_time": "2020-07-03T08:35:54.800364Z",
     "start_time": "2020-07-03T08:35:54.794382Z"
    }
   },
   "outputs": [],
   "source": [
    "test = test.drop(['total_purchase_amt', 'total_redeem_amt'], axis=1)"
   ]
  },
  {
   "cell_type": "code",
   "execution_count": 94,
   "metadata": {
    "ExecuteTime": {
     "end_time": "2020-07-03T08:14:53.870750Z",
     "start_time": "2020-07-03T08:14:53.865764Z"
    }
   },
   "outputs": [],
   "source": [
    "from sklearn import linear_model as lm"
   ]
  },
  {
   "cell_type": "code",
   "execution_count": 95,
   "metadata": {
    "ExecuteTime": {
     "end_time": "2020-07-03T08:14:54.489094Z",
     "start_time": "2020-07-03T08:14:54.480233Z"
    }
   },
   "outputs": [],
   "source": [
    "model = lm.LinearRegression()\n",
    "model = model.fit(train, purchase)"
   ]
  },
  {
   "cell_type": "code",
   "execution_count": 96,
   "metadata": {
    "ExecuteTime": {
     "end_time": "2020-07-03T08:14:55.387475Z",
     "start_time": "2020-07-03T08:14:55.380493Z"
    }
   },
   "outputs": [],
   "source": [
    "pur = model.predict(test)"
   ]
  },
  {
   "cell_type": "code",
   "execution_count": null,
   "metadata": {
    "ExecuteTime": {
     "end_time": "2020-07-03T01:28:51.578321Z",
     "start_time": "2020-07-03T01:28:51.571373Z"
    }
   },
   "outputs": [],
   "source": []
  },
  {
   "cell_type": "code",
   "execution_count": 97,
   "metadata": {
    "ExecuteTime": {
     "end_time": "2020-07-03T08:14:56.643651Z",
     "start_time": "2020-07-03T08:14:56.633714Z"
    }
   },
   "outputs": [],
   "source": [
    "model1 = lm.LinearRegression()\n",
    "model1 = model.fit(train, redeem)\n",
    "red = model1.predict(test)"
   ]
  },
  {
   "cell_type": "code",
   "execution_count": 98,
   "metadata": {
    "ExecuteTime": {
     "end_time": "2020-07-03T08:14:58.875359Z",
     "start_time": "2020-07-03T08:14:58.611713Z"
    }
   },
   "outputs": [
    {
     "data": {
      "text/plain": [
       "<matplotlib.axes._subplots.AxesSubplot at 0x235947f7dc8>"
      ]
     },
     "execution_count": 98,
     "metadata": {},
     "output_type": "execute_result"
    },
    {
     "data": {
      "image/png": "[encoded data removed]",
      "text/plain": [
       "<Figure size 432x288 with 1 Axes>"
      ]
     },
     "metadata": {
      "needs_background": "light"
     },
     "output_type": "display_data"
    }
   ],
   "source": [
    "pd.Series(pur).plot()"
   ]
  },
  {
   "cell_type": "code",
   "execution_count": 99,
   "metadata": {
    "ExecuteTime": {
     "end_time": "2020-07-03T08:15:01.752904Z",
     "start_time": "2020-07-03T08:15:01.729984Z"
    }
   },
   "outputs": [],
   "source": [
    "def to_result(purchase, redeem):\n",
    "    report_date=list(range(20140901,20140931))\n",
    "    sub=pd.DataFrame()\n",
    "    sub['purchase']=purchase\n",
    "    sub['redeem']=redeem\n",
    "    sub=sub.reset_index()\n",
    "    sub['index']=report_date\n",
    "    sub=sub.rename(columns={'index':'report_date'})\n",
    "    sub[['purchase','redeem']]=sub[['purchase','redeem']].astype(np.int64)\n",
    "    sub=sub.set_index(['report_date'])\n",
    "    sub.to_csv('tc_comp_predict_table5.csv',sep=',')\n",
    "    \n",
    "to_result(pur, red)"
   ]
  },
  {
   "cell_type": "code",
   "execution_count": 100,
   "metadata": {
    "ExecuteTime": {
     "end_time": "2020-07-03T08:33:03.109253Z",
     "start_time": "2020-07-03T08:33:03.105264Z"
    }
   },
   "outputs": [],
   "source": [
    "from lightgbm import LGBMRegressor"
   ]
  },
  {
   "cell_type": "code",
   "execution_count": 119,
   "metadata": {
    "ExecuteTime": {
     "end_time": "2020-07-03T08:38:20.713854Z",
     "start_time": "2020-07-03T08:38:20.582244Z"
    }
   },
   "outputs": [],
   "source": [
    "model = LGBMRegressor(num_leaves=10,\n",
    "    max_depth=2,\n",
    "    learning_rate=0.01,\n",
    "    n_estimators=500,)\n",
    "res = model.fit(train.to_numpy(), purchase)"
   ]
  },
  {
   "cell_type": "code",
   "execution_count": 120,
   "metadata": {
    "ExecuteTime": {
     "end_time": "2020-07-03T08:38:21.472824Z",
     "start_time": "2020-07-03T08:38:21.465843Z"
    }
   },
   "outputs": [],
   "source": [
    "predpur = res.predict(test.to_numpy())"
   ]
  },
  {
   "cell_type": "code",
   "execution_count": 116,
   "metadata": {
    "ExecuteTime": {
     "end_time": "2020-07-03T08:38:08.624813Z",
     "start_time": "2020-07-03T08:38:08.492163Z"
    }
   },
   "outputs": [],
   "source": [
    "model1 = LGBMRegressor(num_leaves=10,\n",
    "    max_depth=2,\n",
    "    learning_rate=0.01,\n",
    "    n_estimators=500,)\n",
    "res1 = model1.fit(train.to_numpy(), redeem)\n",
    "predred = res.predict(test.to_numpy())"
   ]
  },
  {
   "cell_type": "code",
   "execution_count": 121,
   "metadata": {
    "ExecuteTime": {
     "end_time": "2020-07-03T08:38:26.245056Z",
     "start_time": "2020-07-03T08:38:26.227105Z"
    }
   },
   "outputs": [],
   "source": [
    "to_result(predpur, predred)"
   ]
  },
  {
   "cell_type": "code",
   "execution_count": 122,
   "metadata": {
    "ExecuteTime": {
     "end_time": "2020-07-03T08:38:27.365099Z",
     "start_time": "2020-07-03T08:38:27.091792Z"
    }
   },
   "outputs": [
    {
     "data": {
      "text/plain": [
       "<matplotlib.axes._subplots.AxesSubplot at 0x23595d25a48>"
      ]
     },
     "execution_count": 122,
     "metadata": {},
     "output_type": "execute_result"
    },
    {
     "data": {
      "image/png": "[encoded data removed]",
      "text/plain": [
       "<Figure size 432x288 with 1 Axes>"
      ]
     },
     "metadata": {
      "needs_background": "light"
     },
     "output_type": "display_data"
    }
   ],
   "source": [
    "pd.Series(predpur).plot()"
   ]
  },
  {
   "cell_type": "code",
   "execution_count": 36,
   "metadata": {
    "ExecuteTime": {
     "end_time": "2020-07-03T01:25:03.345657Z",
     "start_time": "2020-07-03T01:25:03.336654Z"
    }
   },
   "outputs": [],
   "source": [
    "base['date'] = pd.to_datetime(base['date'], format='%Y%m%d')\n",
    "base.set_index('date', inplace=True)"
   ]
  },
  {
   "cell_type": "code",
   "execution_count": 38,
   "metadata": {
    "ExecuteTime": {
     "end_time": "2020-07-03T01:26:58.333436Z",
     "start_time": "2020-07-03T01:26:58.327452Z"
    }
   },
   "outputs": [],
   "source": [
    "purchase = base.loc['2014-04':'2014-08-30', 'total_purchase_amt']\n",
    "redeem = base.loc['2014-04':'2014-08-30', 'total_redeem_amt']"
   ]
  },
  {
   "cell_type": "code",
   "execution_count": 41,
   "metadata": {
    "ExecuteTime": {
     "end_time": "2020-07-03T01:28:24.247445Z",
     "start_time": "2020-07-03T01:28:24.241460Z"
    }
   },
   "outputs": [],
   "source": [
    "purchase_base = base.loc['2014-09-01':'2014-09-30',\n",
    "                         'total_purchase_predicted_by_cycle']\n",
    "redeem_base = base.loc['2014-09-01':'2014-09-30',\n",
    "                         'total_redeem_predicted_by_cycle']"
   ]
  },
  {
   "cell_type": "code",
   "execution_count": 50,
   "metadata": {
    "ExecuteTime": {
     "end_time": "2020-07-03T01:32:45.794892Z",
     "start_time": "2020-07-03T01:32:45.592469Z"
    }
   },
   "outputs": [
    {
     "data": {
      "text/plain": [
       "<matplotlib.axes._subplots.AxesSubplot at 0x23593bcbfc8>"
      ]
     },
     "execution_count": 50,
     "metadata": {},
     "output_type": "execute_result"
    },
    {
     "data": {
      "image/png": "[encoded data removed]",
      "text/plain": [
       "<Figure size 432x288 with 1 Axes>"
      ]
     },
     "metadata": {
      "needs_background": "light"
     },
     "output_type": "display_data"
    }
   ],
   "source": [
    "redeem_base.plot()"
   ]
  },
  {
   "cell_type": "code",
   "execution_count": null,
   "metadata": {},
   "outputs": [],
   "source": []
  }
 ],
 "metadata": {
  "kernelspec": {
   "display_name": "Python 3",
   "language": "python",
   "name": "python3"
  },
  "language_info": {
   "codemirror_mode": {
    "name": "ipython",
    "version": 3
   },
   "file_extension": ".py",
   "mimetype": "text/x-python",
   "name": "python",
   "nbconvert_exporter": "python",
   "pygments_lexer": "ipython3",
   "version": "3.7.5"
  },
  "toc": {
   "base_numbering": 1,
   "nav_menu": {},
   "number_sections": true,
   "sideBar": true,
   "skip_h1_title": false,
   "title_cell": "Table of Contents",
   "title_sidebar": "Contents",
   "toc_cell": false,
   "toc_position": {},
   "toc_section_display": true,
   "toc_window_display": false
  },
  "varInspector": {
   "cols": {
    "lenName": 16,
    "lenType": 16,
    "lenVar": 40
   },
   "kernels_config": {
    "python": {
     "delete_cmd_postfix": "",
     "delete_cmd_prefix": "del ",
     "library": "var_list.py",
     "varRefreshCmd": "print(var_dic_list())"
    },
    "r": {
     "delete_cmd_postfix": ") ",
     "delete_cmd_prefix": "rm(",
     "library": "var_list.r",
     "varRefreshCmd": "cat(var_dic_list()) "
    }
   },
   "types_to_exclude": [
    "module",
    "function",
    "builtin_function_or_method",
    "instance",
    "_Feature"
   ],
   "window_display": false
  }
 },
 "nbformat": 4,
 "nbformat_minor": 2
}
