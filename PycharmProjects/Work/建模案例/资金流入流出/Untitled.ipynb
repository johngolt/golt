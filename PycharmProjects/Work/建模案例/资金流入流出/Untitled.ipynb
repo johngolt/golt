{
 "cells": [
  {
   "cell_type": "code",
   "execution_count": 2,
   "metadata": {
    "ExecuteTime": {
     "end_time": "2020-07-13T05:47:53.302414Z",
     "start_time": "2020-07-13T05:47:52.665049Z"
    }
   },
   "outputs": [],
   "source": [
    "import pandas as pd\n",
    "import numpy as np\n",
    "import os\n",
    "os.chdir('D:/DataSet')\n",
    "import sys\n",
    "sys.path.append('D:/gitln/WorkCode/BaseFunc/')"
   ]
  },
  {
   "cell_type": "markdown",
   "metadata": {},
   "source": [
    "#### 数据读入"
   ]
  },
  {
   "cell_type": "code",
   "execution_count": 16,
   "metadata": {
    "ExecuteTime": {
     "end_time": "2020-07-13T06:56:01.626323Z",
     "start_time": "2020-07-13T06:56:01.546058Z"
    }
   },
   "outputs": [],
   "source": [
    "df = pd.read_csv('total_amt_3.csv',encoding='gbk')\n",
    "df['report_date'] = pd.to_datetime(df['report_date'],format='%Y/%m/%d')\n",
    "df.set_index('report_date', inplace=True)"
   ]
  },
  {
   "cell_type": "code",
   "execution_count": 17,
   "metadata": {
    "ExecuteTime": {
     "end_time": "2020-07-13T06:56:02.207434Z",
     "start_time": "2020-07-13T06:56:02.185493Z"
    }
   },
   "outputs": [],
   "source": [
    "base = pd.read_csv('./PRD/base.csv')\n",
    "base['date'] = pd.to_datetime(base['date'], format='%Y%m%d')\n",
    "base.set_index('date',inplace=True)"
   ]
  },
  {
   "cell_type": "code",
   "execution_count": 18,
   "metadata": {
    "ExecuteTime": {
     "end_time": "2020-07-13T06:56:04.050389Z",
     "start_time": "2020-07-13T06:56:04.038422Z"
    }
   },
   "outputs": [],
   "source": [
    "purchase_ratio = base.loc['2014-04':'2014-08-30', 'total_purchase_amt']\n",
    "redeem_ratio = base.loc['2014-04':'2014-08-30', 'total_redeem_amt']"
   ]
  },
  {
   "cell_type": "code",
   "execution_count": null,
   "metadata": {
    "ExecuteTime": {
     "end_time": "2020-07-13T06:56:05.212936Z",
     "start_time": "2020-07-13T06:56:04.994476Z"
    }
   },
   "outputs": [],
   "source": []
  },
  {
   "cell_type": "code",
   "execution_count": 7,
   "metadata": {
    "ExecuteTime": {
     "end_time": "2020-07-13T05:49:41.811815Z",
     "start_time": "2020-07-13T05:49:41.803802Z"
    }
   },
   "outputs": [],
   "source": [
    "purchase_base = base.loc['2014-09-01':'2014-09-30',\n",
    "                         'total_purchase_predicted_by_cycle']\n",
    "redeem_base = base.loc['2014-09-01':'2014-09-30',\n",
    "                         'total_redeem_predicted_by_cycle']"
   ]
  },
  {
   "cell_type": "code",
   "execution_count": 20,
   "metadata": {
    "ExecuteTime": {
     "end_time": "2020-07-13T06:56:12.437564Z",
     "start_time": "2020-07-13T06:56:12.425597Z"
    }
   },
   "outputs": [],
   "source": [
    "train = df.loc[:'2014-08-30',:].copy()\n",
    "test = df.loc['2014-09-01':,:].copy()\n",
    "purchase = train.pop('total_purchase_amt')\n",
    "redeem = train.pop('total_redeem_amt')\n",
    "test = test.drop(['total_purchase_amt', 'total_redeem_amt'], axis=1)"
   ]
  },
  {
   "cell_type": "code",
   "execution_count": 21,
   "metadata": {
    "ExecuteTime": {
     "end_time": "2020-07-13T06:56:13.378048Z",
     "start_time": "2020-07-13T06:56:13.370070Z"
    }
   },
   "outputs": [],
   "source": [
    "train = train.drop(['赎回是否在1浪','赎回是否在3浪', \n",
    "                    '赎回是否在5浪'],axis=1)\n",
    "test = test.drop(['赎回是否在1浪','赎回是否在3浪',\n",
    "                  '赎回是否在5浪'],axis=1)"
   ]
  },
  {
   "cell_type": "code",
   "execution_count": 56,
   "metadata": {
    "ExecuteTime": {
     "end_time": "2020-07-10T09:23:15.074096Z",
     "start_time": "2020-07-10T09:23:15.068077Z"
    }
   },
   "outputs": [],
   "source": [
    "delete=['休假前正常上班的一天','是否月中','上班最后天后要放2天假（2-3,7 3个01特征）',\n",
    " '上班最后天后要放3天假（2-3,7 3个01特征）','周日补班']\n",
    "train.drop(delete, axis=1, inplace=True)\n",
    "test.drop(delete, axis=1, inplace=True)"
   ]
  },
  {
   "cell_type": "code",
   "execution_count": 66,
   "metadata": {
    "ExecuteTime": {
     "end_time": "2020-07-10T09:32:24.237739Z",
     "start_time": "2020-07-10T09:32:24.226729Z"
    }
   },
   "outputs": [
    {
     "data": {
      "text/plain": [
       "新股发售       0.192039\n",
       "申购是否在1浪    0.073228\n",
       "申购是否在3浪   -0.014900\n",
       "申购是否在5浪    0.050410\n",
       "赎回是否在1浪   -0.032803\n",
       "赎回是否在3浪   -0.121970\n",
       "赎回是否在5浪    0.056543\n",
       "dtype: float64"
      ]
     },
     "execution_count": 66,
     "metadata": {},
     "output_type": "execute_result"
    }
   ],
   "source": [
    "df.loc[:,'新股发售':].fillna(0).corrwith(df['total_redeem_amt'])"
   ]
  },
  {
   "cell_type": "code",
   "execution_count": 5,
   "metadata": {
    "ExecuteTime": {
     "end_time": "2020-07-13T05:49:21.195731Z",
     "start_time": "2020-07-13T05:49:21.186718Z"
    }
   },
   "outputs": [
    {
     "data": {
      "text/plain": [
       "Series([], Name: total_purchase_amt, dtype: float64)"
      ]
     },
     "execution_count": 5,
     "metadata": {},
     "output_type": "execute_result"
    }
   ],
   "source": [
    "purchase_ratio"
   ]
  },
  {
   "cell_type": "code",
   "execution_count": 57,
   "metadata": {
    "ExecuteTime": {
     "end_time": "2020-07-10T09:23:18.480521Z",
     "start_time": "2020-07-10T09:23:18.474504Z"
    }
   },
   "outputs": [],
   "source": [
    "train.drop(['工作日'],axis=1, inplace=True)\n",
    "test.drop(['工作日'],axis=1, inplace=True)"
   ]
  },
  {
   "cell_type": "code",
   "execution_count": 8,
   "metadata": {
    "ExecuteTime": {
     "end_time": "2020-07-10T07:18:45.903005Z",
     "start_time": "2020-07-10T07:18:45.271657Z"
    }
   },
   "outputs": [],
   "source": [
    "import purchase.PurchaseFeatures as pfeature\n",
    "import purchase.PurchaseBase as pbase\n",
    "total_balance = pbase.add_timestamp(base,time_index='date')\n",
    "total_balance = pfeature.extract_is_feature(total_balance)"
   ]
  },
  {
   "cell_type": "code",
   "execution_count": 22,
   "metadata": {
    "ExecuteTime": {
     "end_time": "2020-07-10T07:21:43.440235Z",
     "start_time": "2020-07-10T07:21:43.434255Z"
    }
   },
   "outputs": [],
   "source": [
    "features = total_balance.loc['2014-04':,'day':]"
   ]
  },
  {
   "cell_type": "code",
   "execution_count": 32,
   "metadata": {
    "ExecuteTime": {
     "end_time": "2020-07-10T07:24:46.550062Z",
     "start_time": "2020-07-10T07:24:46.540088Z"
    }
   },
   "outputs": [],
   "source": [
    "train1 = train.join(features,lsuffix='_a',rsuffix='_b')\n",
    "test1 = test.join(features, lsuffix='_a',rsuffix='_b')"
   ]
  },
  {
   "cell_type": "code",
   "execution_count": null,
   "metadata": {
    "ExecuteTime": {
     "end_time": "2020-07-10T07:25:10.273957Z",
     "start_time": "2020-07-10T07:25:10.240052Z"
    }
   },
   "outputs": [],
   "source": []
  },
  {
   "cell_type": "code",
   "execution_count": null,
   "metadata": {},
   "outputs": [],
   "source": []
  },
  {
   "cell_type": "code",
   "execution_count": null,
   "metadata": {},
   "outputs": [],
   "source": []
  },
  {
   "cell_type": "markdown",
   "metadata": {},
   "source": [
    "#### 建立模型"
   ]
  },
  {
   "cell_type": "code",
   "execution_count": 58,
   "metadata": {
    "ExecuteTime": {
     "end_time": "2020-07-10T09:23:24.903654Z",
     "start_time": "2020-07-10T09:23:24.885707Z"
    }
   },
   "outputs": [],
   "source": [
    "from sklearn import linear_model as lm\n",
    "model = lm.LinearRegression()\n",
    "model = model.fit(train.fillna(0), purchase)\n",
    "pur = model.predict(test.fillna(0))\n",
    "model1 = lm.LinearRegression()\n",
    "model1 = model1.fit(train.fillna(0), redeem)\n",
    "red = model1.predict(test.fillna(0))"
   ]
  },
  {
   "cell_type": "code",
   "execution_count": 38,
   "metadata": {
    "ExecuteTime": {
     "end_time": "2020-07-10T07:27:23.745172Z",
     "start_time": "2020-07-10T07:27:23.379152Z"
    }
   },
   "outputs": [],
   "source": [
    "from lightgbm import LGBMRegressor\n",
    "\n",
    "model = LGBMRegressor(num_leaves=10,\n",
    "    max_depth=2,\n",
    "    learning_rate=0.01,\n",
    "    n_estimators=500,)\n",
    "res = model.fit(train.to_numpy(), purchase)\n",
    "\n",
    "predpur = res.predict(test.to_numpy())\n",
    "\n",
    "model1 = LGBMRegressor(num_leaves=10,\n",
    "    max_depth=2,\n",
    "    learning_rate=0.01,\n",
    "    n_estimators=500,)\n",
    "res1 = model1.fit(train.to_numpy(), redeem)\n",
    "predred = res.predict(test.to_numpy())"
   ]
  },
  {
   "cell_type": "code",
   "execution_count": 60,
   "metadata": {
    "ExecuteTime": {
     "end_time": "2020-07-10T09:23:32.664481Z",
     "start_time": "2020-07-10T09:23:32.648524Z"
    }
   },
   "outputs": [],
   "source": [
    "def to_result(purchase, redeem):\n",
    "    report_date=list(range(20140901,20140931))\n",
    "    sub=pd.DataFrame()\n",
    "    sub['purchase']=purchase\n",
    "    sub['redeem']=redeem\n",
    "    sub=sub.reset_index()\n",
    "    sub['index']=report_date\n",
    "    sub=sub.rename(columns={'index':'report_date'})\n",
    "    sub[['purchase','redeem']]=sub[['purchase','redeem']].astype(np.int64)\n",
    "    sub=sub.set_index(['report_date'])\n",
    "    sub.to_csv('tc_comp_predict_table5.csv',sep=',')\n",
    "    \n",
    "to_result(pur, red)"
   ]
  },
  {
   "cell_type": "code",
   "execution_count": 40,
   "metadata": {
    "ExecuteTime": {
     "end_time": "2020-07-10T07:28:36.561669Z",
     "start_time": "2020-07-10T07:28:36.543622Z"
    }
   },
   "outputs": [],
   "source": [
    "to_result(predpur, predred)"
   ]
  },
  {
   "cell_type": "code",
   "execution_count": 1,
   "metadata": {
    "ExecuteTime": {
     "end_time": "2020-07-13T02:46:51.499732Z",
     "start_time": "2020-07-13T02:46:51.426962Z"
    }
   },
   "outputs": [
    {
     "ename": "NameError",
     "evalue": "name 'pd' is not defined",
     "output_type": "error",
     "traceback": [
      "\u001b[1;31m---------------------------------------------------------------------------\u001b[0m",
      "\u001b[1;31mNameError\u001b[0m                                 Traceback (most recent call last)",
      "\u001b[1;32m<ipython-input-1-4ca26b897106>\u001b[0m in \u001b[0;36m<module>\u001b[1;34m\u001b[0m\n\u001b[1;32m----> 1\u001b[1;33m \u001b[0mpd\u001b[0m\u001b[1;33m.\u001b[0m\u001b[0mSeries\u001b[0m\u001b[1;33m(\u001b[0m\u001b[0mred\u001b[0m\u001b[1;33m)\u001b[0m\u001b[1;33m.\u001b[0m\u001b[0mplot\u001b[0m\u001b[1;33m(\u001b[0m\u001b[1;33m)\u001b[0m\u001b[1;33m\u001b[0m\u001b[1;33m\u001b[0m\u001b[0m\n\u001b[0m",
      "\u001b[1;31mNameError\u001b[0m: name 'pd' is not defined"
     ]
    }
   ],
   "source": [
    "pd.Series(red).plot()"
   ]
  },
  {
   "cell_type": "code",
   "execution_count": null,
   "metadata": {
    "ExecuteTime": {
     "end_time": "2020-07-06T01:35:42.097398Z",
     "start_time": "2020-07-06T01:35:42.088428Z"
    }
   },
   "outputs": [],
   "source": [
    "import json\n",
    "import os\n",
    "\n",
    "from sklearn.metrics import (accuracy_score, classification_report,\n",
    "                             confusion_matrix, f1_score, fbeta_score)\n",
    "\n",
    "def get_metrics(y, y_pred, beta=2, average_method='macro', y_encoder=None):\n",
    "    if y_encoder:\n",
    "        y = y_encoder.inverse_transform(y)\n",
    "        y_pred = y_encoder.inverse_transform(y_pred)\n",
    "    return {\n",
    "        'accuracy': round(accuracy_score(y, y_pred), 4),\n",
    "        'f1_score_macro': round(f1_score(y, y_pred, average=average_method), 4),\n",
    "        'fbeta_score_macro': round(fbeta_score(y, y_pred, beta, average=average_method), 4),\n",
    "        'report': classification_report(y, y_pred, output_dict=True),\n",
    "        'report_csv': classification_report(y, y_pred, output_dict=False).replace('\\n','\\r\\n')\n",
    "    }\n",
    "\n",
    "\n",
    "def save_metrics(metrics: dict, model_directory, file_name):\n",
    "    path = os.path.join(model_directory, file_name + '_report.txt')\n",
    "    classification_report_to_csv(metrics['report_csv'], path)\n",
    "    metrics.pop('report_csv')\n",
    "    path = os.path.join(model_directory, file_name + '_metrics.json')\n",
    "    json.dump(metrics, open(path, 'w'), indent=4)"
   ]
  },
  {
   "cell_type": "code",
   "execution_count": null,
   "metadata": {},
   "outputs": [],
   "source": []
  }
 ],
 "metadata": {
  "kernelspec": {
   "display_name": "Python 3",
   "language": "python",
   "name": "python3"
  },
  "language_info": {
   "codemirror_mode": {
    "name": "ipython",
    "version": 3
   },
   "file_extension": ".py",
   "mimetype": "text/x-python",
   "name": "python",
   "nbconvert_exporter": "python",
   "pygments_lexer": "ipython3",
   "version": "3.7.5"
  },
  "toc": {
   "base_numbering": 1,
   "nav_menu": {},
   "number_sections": true,
   "sideBar": true,
   "skip_h1_title": false,
   "title_cell": "Table of Contents",
   "title_sidebar": "Contents",
   "toc_cell": false,
   "toc_position": {},
   "toc_section_display": true,
   "toc_window_display": false
  },
  "varInspector": {
   "cols": {
    "lenName": 16,
    "lenType": 16,
    "lenVar": 40
   },
   "kernels_config": {
    "python": {
     "delete_cmd_postfix": "",
     "delete_cmd_prefix": "del ",
     "library": "var_list.py",
     "varRefreshCmd": "print(var_dic_list())"
    },
    "r": {
     "delete_cmd_postfix": ") ",
     "delete_cmd_prefix": "rm(",
     "library": "var_list.r",
     "varRefreshCmd": "cat(var_dic_list()) "
    }
   },
   "types_to_exclude": [
    "module",
    "function",
    "builtin_function_or_method",
    "instance",
    "_Feature"
   ],
   "window_display": false
  }
 },
 "nbformat": 4,
 "nbformat_minor": 2
}
