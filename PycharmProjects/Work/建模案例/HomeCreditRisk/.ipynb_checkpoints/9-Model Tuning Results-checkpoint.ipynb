{
 "cells": [
  {
   "cell_type": "markdown",
   "metadata": {
    "_uuid": "161c24d348cd5dd09d0e167dc2e9556cc3d19f48"
   },
   "source": [
    "# Introduction: Random vs Bayesian Optimization Model Tuning\n",
    "\n",
    "In this notebook, we will compare random search and Bayesian optimization hyperparameter tuning methods implemented in two previous notebooks.\n",
    "\n",
    "* [Intro to Model Tuning: Grid and Random Search](https://www.kaggle.com/willkoehrsen/intro-to-model-tuning-grid-and-random-search)\n",
    "* [Automated Model Tuning](https://www.kaggle.com/willkoehrsen/automated-model-tuning)\n",
    "\n",
    "In those notebooks we saw results of the methods applied to a limited dataset (10000 observations) but here we will explore results on a complete dataset with 700 + features.  The results in this notebook are from 500 iterations of random search and 400 iterations of Bayesian Optimization (these took about 5 days to run each). We will thoroughly explore the results both visually and statistically, and then implement the best hyperparameter values on a full set of features. After all the hard work in the random search and Bayesian optimization notebooks, now we get to have some fun! \n",
    "\n",
    "# Roadmap\n",
    "\n",
    "Our plan of action is as follows:\n",
    "\n",
    "1. High Level Overview\n",
    "    * Which method did best? \n",
    "2. Examine distribution of scores\n",
    "    * Are there trends over the course of the search?\n",
    "3. Explore hyperparameter values\n",
    "    * Look at values over the course of the search\n",
    "    * Identify correlations between hyperparameters and the score\n",
    "4. Perform \"meta\" machine learning using these results\n",
    "    * Fit a linear regression to results and look at coefficients\n",
    "5. Train a model on the full set of features using the best performing values\n",
    "    * Try best results from both random search and bayesian optimization\n",
    "6.  Lay out next steps\n",
    "    * How can we use these results for this _and other_ problems? \n",
    "    * Are there better methods for hyperparameter optimization\n",
    "    \n",
    "At each step, we will use plenty of figures and statistics to explore the data. This will be a fun notebook (even though it may not land you at the top of the leaderboard)! \n",
    "\n",
    "## Recap \n",
    "\n",
    "In the respective notebooks, we examined we performed 1000 iterations of random search and Bayesian optimization on a reduced sample of the dataset (10000 rows). We compared the cross-validation ROC AUC on the training data, the score on a \"testing set\" (6000 observations) and the score on the real test set when submitted to the competition leaderboard. Results are below:\n",
    "\n",
    "| Method                               | Cross Validation Score | Test Score (on 6000 Rows) | Submission to Leaderboard | Iterations to best score |\n",
    "|--------------------------------------|------------------------|---------------------------|---------------------------|--------------------------|\n",
    "| Random Search                        | 0.73110                | 0.73274                   | 0.782                     | 996                      |\n",
    "| Bayesian Hyperparameter Optimization | 0.73448                | 0.73069                   | 0.792                     | 596                      "
   ]
  },
  {
   "cell_type": "markdown",
   "metadata": {
    "_uuid": "5097567a14b59d0ad66fba8ae296ec745adacf9c"
   },
   "source": [
    "__Take these with some skepticism because they were performed on a very small subset of the data!__ \n",
    "\n",
    "For more rigorous results, we will turn to the evaluation metrics from running __500 iterations (with random search)__ and __400+ iterations (with Bayesian Optimization)__ on a full training dataset with about 700 features (the features are from [this notebook](https://www.kaggle.com/jsaguiar/updated-0-792-lb-lightgbm-with-simple-features) by [Aguiar](https://www.kaggle.com/jsaguiar)). These iterations took around 6 days on a machine with 128 GB of RAM so they will not run in a kernel! The Bayesian Optimization method is still running and I will update the results as they finish.\n",
    "\n",
    "__In this notebook  we will focus only on the results and building the best model, so for the explanations of the methods, refer to the previous notebooks! __\n",
    "\n",
    "# Overall Results\n",
    "\n",
    "First, let's start with the most basic question: which model produced the highest cross validation ROC AUC score (using 5 folds) on the training dataset?"
   ]
  },
  {
   "cell_type": "code",
   "execution_count": null,
   "metadata": {
    "_cell_guid": "79c7e3d0-c299-4dcb-8224-4455121ee9b0",
    "_uuid": "d629ff2d2480ee46fbb7e2d37f6b5fab8052498a",
    "collapsed": true
   },
   "outputs": [],
   "source": [
    "# pandas and numpy for data manipulation\n",
    "import pandas as pd\n",
    "import numpy as np\n",
    "\n",
    "# Visualizations!\n",
    "import matplotlib.pyplot as plt\n",
    "import seaborn as sns\n",
    "\n",
    "# Plot formatting and default style\n",
    "plt.rcParams['font.size'] = 18\n",
    "plt.style.use('fivethirtyeight')\n",
    "%matplotlib inline"
   ]
  },
  {
   "cell_type": "code",
   "execution_count": null,
   "metadata": {
    "_uuid": "798b51cb140035d4c50bc2fd495170038b387ff9",
    "collapsed": true
   },
   "outputs": [],
   "source": [
    "# Read in data and sort\n",
    "random = pd.read_csv('../input/home-credit-model-tuning/random_search_simple.csv').sort_values('score', ascending = False).reset_index()\n",
    "opt = pd.read_csv('../input/home-credit-model-tuning/bayesian_trials_simple.csv').sort_values('score', ascending = False).reset_index()\n",
    "\n",
    "print('Best score from random search:         {:.5f} found on iteration: {}.'.format(random.loc[0, 'score'], random.loc[0, 'iteration']))\n",
    "print('Best score from bayesian optimization: {:.5f} found on iteration: {}.'.format(opt.loc[0, 'score'], opt.loc[0, 'iteration']))"
   ]
  },
  {
   "cell_type": "markdown",
   "metadata": {
    "_uuid": "0732654f59fb13a2758f1239731d41bed6164431"
   },
   "source": [
    "Well, there you go! __Random search slightly outperformed  Bayesian optimization and found a higher cross validation model in far fewer iterations.__ However, as we will shortly see, this does not mean random search is the better hyperparameter optimization method. \n",
    "\n",
    "When submitted to the competition (at the end of this notebook):\n",
    "\n",
    "* __Random search results scored 0.790__\n",
    "* __Bayesian optimization results scored 0.791__\n",
    "\n",
    "What were the best model hyperparameters from both methods?\n",
    "\n",
    "####  Random Search best Hyperparameters"
   ]
  },
  {
   "cell_type": "code",
   "execution_count": null,
   "metadata": {
    "_uuid": "abcb52505ebc8f39bf6146638522ed449fd31a7a",
    "collapsed": true
   },
   "outputs": [],
   "source": [
    "import pprint\n",
    "import ast\n",
    "\n",
    "keys = []\n",
    "for key, value in ast.literal_eval(random.loc[0, 'hyperparameters']).items():\n",
    "    print(f'{key}: {value}')\n",
    "    keys.append(key)"
   ]
  },
  {
   "cell_type": "markdown",
   "metadata": {
    "_uuid": "12623d707351397c5ab8c8bb2f30de38cdb51cae"
   },
   "source": [
    "#### Bayesian Optimization best Hyperparameters"
   ]
  },
  {
   "cell_type": "code",
   "execution_count": null,
   "metadata": {
    "_uuid": "45ceecd61167f73441416fc45377809205045280",
    "collapsed": true
   },
   "outputs": [],
   "source": [
    "for key in keys:\n",
    "    print('{}: {}'.format(key, ast.literal_eval(opt.loc[0, 'hyperparameters'])[key]))"
   ]
  },
  {
   "cell_type": "markdown",
   "metadata": {
    "_uuid": "9cbbb27abf4d4bb24f019d64c35552654e6bf14d"
   },
   "source": [
    "If we compare the individual values, we actually see that they are fairly close together when we consider the entire search grid! \n",
    "\n",
    "## Distribution of Scores\n",
    "\n",
    "Let's plot the distribution of scores for both models in a kernel density estimate plot."
   ]
  },
  {
   "cell_type": "code",
   "execution_count": null,
   "metadata": {
    "_uuid": "98bf4c88b17cf45276b37de2af8fd8e95901b78e",
    "collapsed": true
   },
   "outputs": [],
   "source": [
    "# Kdeplot of model scores\n",
    "plt.figure(figsize = (10, 6))\n",
    "sns.kdeplot(opt['score'], label = 'Bayesian Opt')\n",
    "sns.kdeplot(random['score'], label = 'Random Search')\n",
    "plt.xlabel('Score (5 Fold Validation ROC AUC)'); plt.ylabel('Density');\n",
    "plt.title('Random Search and Bayesian Optimization Results');"
   ]
  },
  {
   "cell_type": "markdown",
   "metadata": {
    "_uuid": "1a77f23ff6ea175a829d6bbf28cd04c6f9620c1a"
   },
   "source": [
    "Bayesian optimization did not produce the highest individual score, but it did tend to spend more time evaluating \"better\" values of hyperparameters. __Random search got lucky and found the best values but Bayesian optimization tended to \"concentrate\" on better-scoring values__. That's pretty much what we expect: random search does a good job of exploring the search space which means it will probably happen upon a high-scoring set of values (if the space is not extremely high-dimensional) while Bayesian optimization will tend to focus on a set of values that yield higher scores. __If all you wanted was the conclusion, then you're probably good to go. If you really enjoy making plots and doing exploratory data analysis and want to gain a better understanding of how these methods work, then read on!__ In the next few sections, we will thoroughly explore these results.\n",
    "\n",
    "Our plan for going through the results is as follows:\n",
    "\n",
    "* Distribution of scores\n",
    "    * Overall distribution\n",
    "    * Score versus the iteration (did scores improve as search progressed)\n",
    "* Distribution of hyperparameters\n",
    "    * Overall distribution including the hyperparameter grid for a reference\n",
    "    * Hyperparameters versus iteration to look at _evolution_ of values\n",
    "* Hyperparameter values versus the score\n",
    "    * Do scores improve with certain values of hyperparameters (correlations)\n",
    "    * 3D plots looking at effects of 2 hyperparameters at a time on the score\n",
    "* Additional Plots\n",
    "    * Time to run each evaluation for Bayesian optimization\n",
    "    * Correlation heatmaps of hyperparameters with score\n",
    "    \n",
    "There will be all sorts of plots: heatmaps, 3D scatterplots, density plots, bar charts (hey even bar charts can be helpful!)\n",
    "\n",
    "After going through the results, we will do a little meta-machine learning, and implement the best model on the full set of features."
   ]
  },
  {
   "cell_type": "markdown",
   "metadata": {
    "_uuid": "2b19032c08a6ba173184a697d940c2264b70a759"
   },
   "source": [
    "# Distribution of Scores\n",
    "\n",
    "We already saw the kernel density estimate plot, so let's go on to a bar plot. First we'll get the data in a long format."
   ]
  },
  {
   "cell_type": "code",
   "execution_count": null,
   "metadata": {
    "_uuid": "3c2dbe0c8d4d484d0ed784d21184f76103d919cb",
    "collapsed": true
   },
   "outputs": [],
   "source": [
    "random['set'] = 'random'\n",
    "scores = random[['score', 'iteration', 'set']]\n",
    "\n",
    "opt['set'] = 'opt'\n",
    "scores = scores.append(opt[['set', 'iteration', 'score']], sort = True)\n",
    "scores.head()"
   ]
  },
  {
   "cell_type": "code",
   "execution_count": null,
   "metadata": {
    "_uuid": "f13dcc0a6ffc73b7b5cf10ad7162c5115c051d1e",
    "collapsed": true
   },
   "outputs": [],
   "source": [
    "plt.figure(figsize = (12, 6))\n",
    "\n",
    "plt.subplot(121)\n",
    "plt.hist(random['score'], bins = 20, color = 'blue', edgecolor = 'k')\n",
    "plt.xlim((0.72, 0.80))\n",
    "plt.xlabel('Score'); plt.ylabel(\"Count\"); plt.title('Random Search Distribution of Scores');\n",
    "\n",
    "plt.subplot(122)\n",
    "plt.hist(opt['score'], bins = 20, color = 'blue', edgecolor = 'k')\n",
    "plt.xlim((0.72, 0.80))\n",
    "plt.xlabel('Score'); plt.ylabel(\"Count\"); plt.title('Bayes Opt Search Distribution of Scores');"
   ]
  },
  {
   "cell_type": "markdown",
   "metadata": {
    "_uuid": "151ea620ad448fe2a8e967ce43ae9bc577724b50"
   },
   "source": [
    "Keep in mind that random search ran for more iterations (as of now). Even so, we can see that Bayesian Optimization tended to produce much more higher cross validation scores. Let's look at the statistical averages:"
   ]
  },
  {
   "cell_type": "code",
   "execution_count": null,
   "metadata": {
    "_uuid": "56070462303fb4721a316b60a0e9190581633cc3",
    "collapsed": true
   },
   "outputs": [],
   "source": [
    "scores.groupby('set')['score'].agg(['mean', 'max', 'min', 'std', 'count'])"
   ]
  },
  {
   "cell_type": "markdown",
   "metadata": {
    "_uuid": "4d36dfe8a3aacfa6974474c58fcb1a0006efcabe"
   },
   "source": [
    "If we are going by mean, then Bayesian optimization is the clear winner. If we go by high score, then random search just wins out. "
   ]
  },
  {
   "cell_type": "markdown",
   "metadata": {
    "_uuid": "94800db4ff1b6dd9ec7d01ef3e0dd3f005fca563"
   },
   "source": [
    "## Score versus Iteration\n",
    "\n",
    "Now, to see if either method improves over the course of the search, we need to plot the score as a function of the iteration. "
   ]
  },
  {
   "cell_type": "code",
   "execution_count": null,
   "metadata": {
    "_uuid": "6ff9748012ae5d369bd871378a20f8c00ddc4f61",
    "collapsed": true
   },
   "outputs": [],
   "source": [
    "plt.rcParams['font.size'] = 16\n",
    "\n",
    "best_random_score = random.loc[0, 'score']\n",
    "best_random_iteration = random.loc[0, 'iteration']\n",
    "\n",
    "best_opt_score = opt.loc[0, 'score']\n",
    "best_opt_iteration = opt.loc[0, 'iteration']\n",
    "\n",
    "sns.lmplot('iteration', 'score', hue = 'set', data = scores, size = 8)\n",
    "plt.scatter(best_random_iteration, best_random_score, marker = '*', s = 400, c = 'blue', edgecolor = 'k')\n",
    "plt.scatter(best_opt_iteration, best_opt_score, marker = '*', s = 400, c = 'red', edgecolor = 'k')\n",
    "plt.xlabel('Iteration'); plt.ylabel('ROC AUC'); plt.title(\"Validation ROC AUC versus Iteration\");"
   ]
  },
  {
   "cell_type": "markdown",
   "metadata": {
    "_uuid": "9dfea51f43467d6a7a3a2453affbfab2ba3b6249"
   },
   "source": [
    "Again keeping in mind that Bayesian optimization has not yet finished, we can see a clear upward trend for this method and no trend whatsoever for random search. \n",
    "\n",
    "### Linear Regression of Scores versus Iteration\n",
    "\n",
    "To show that Bayesian optimization improves over time, we can regress the score by the iteration. Then, we can use this to extrapolate into the future, __a wildly inappropriate technique in this case, but fun nonetheless!__\n",
    "\n",
    "Here we use `np.polyfit` with a degree of 1 for the linear regression (you can compare the results with `LinearRegression`  from `sklearn.linear_model`."
   ]
  },
  {
   "cell_type": "code",
   "execution_count": null,
   "metadata": {
    "_uuid": "af0fda2b2541b5603ab01959e544a67bcfb8d624",
    "collapsed": true
   },
   "outputs": [],
   "source": [
    "random_fit = np.polyfit(random['iteration'], random['score'], 1)\n",
    "print('Random search slope: {:.8f}'.format(random_fit[0]))"
   ]
  },
  {
   "cell_type": "markdown",
   "metadata": {
    "_uuid": "2c5521dbd6f368d1c35d001249e1694b04fd4255"
   },
   "source": [
    "The random search slope is basically zero. "
   ]
  },
  {
   "cell_type": "code",
   "execution_count": null,
   "metadata": {
    "_uuid": "3310769a5b5eaf8c7db93236e57708b0e9a7046f",
    "collapsed": true
   },
   "outputs": [],
   "source": [
    "opt_fit = np.polyfit(opt['iteration'], opt['score'], 1)\n",
    "print('opt search slope: {:.8f}'.format(opt_fit[0]))"
   ]
  },
  {
   "cell_type": "code",
   "execution_count": null,
   "metadata": {
    "_uuid": "a0ace841ad141a0638d397bdf27d001b304b4fa8",
    "collapsed": true
   },
   "outputs": [],
   "source": [
    "opt_fit[0] / random_fit[0]"
   ]
  },
  {
   "cell_type": "markdown",
   "metadata": {
    "_uuid": "b72725271355f398eefcac19c0de09ec138a15e6"
   },
   "source": [
    "The Bayesian slope is about 15 times greater than that of random search! What happens if we say run these methods for 10,000 iterations?"
   ]
  },
  {
   "cell_type": "code",
   "execution_count": null,
   "metadata": {
    "_uuid": "774b795f975bdbfe5225a18454964b40f781b41b",
    "collapsed": true
   },
   "outputs": [],
   "source": [
    "print('After 10,000 iterations, the random score is: {:.5f}.'.format(\n",
    "random_fit[0] * 1e5 + random_fit[1]))"
   ]
  },
  {
   "cell_type": "code",
   "execution_count": null,
   "metadata": {
    "_uuid": "50d2817a0e5d68149403f74984676a414ea672e6",
    "collapsed": true
   },
   "outputs": [],
   "source": [
    "print('After 10,000 iterations, the bayesian score is: {:.5f}.'.format(\n",
    "opt_fit[0] * 1e5 + opt_fit[1]))"
   ]
  },
  {
   "cell_type": "markdown",
   "metadata": {
    "_uuid": "a1b62433aaf15925393401b5329e13cc7186553e"
   },
   "source": [
    "Incredible! I told you this was wildly inappropriate. Nonetheless, the slope does indicate that Bayesian optimization \"learns\" the hyperparameter values that do better over time. It then concentrates on evaluating these rather than spending time exploring other values as does random search. This means it can get stuck in a local optimum and can tend to __exploit__ values rather than continue to __explore__.\n",
    "\n",
    "Now we will move on to the actual values of the hyperparameters."
   ]
  },
  {
   "cell_type": "markdown",
   "metadata": {
    "_uuid": "a91519f103b710940e9dd7f0804667933ba079db"
   },
   "source": [
    "# Hyperparameter Values\n",
    "\n",
    "For each hyperparameter, we will plot the values tried by both searches as well as the reference distribution (which was the same in both cases, just a grid for random and distributions for Bayesian). We would expect the random search to almost exactly match the reference - it will converge on the reference given enough iterations.\n",
    "\n",
    "First, we will process the results into a dataframe where each column is one hyperparameter. Saving the file converted the dictionary into a string, so we use `ast.literal_eval` to convert back to a dictionary before adding as a row in the dataframe."
   ]
  },
  {
   "cell_type": "code",
   "execution_count": null,
   "metadata": {
    "_uuid": "ac4239fb8b29fb0bbcfedc9e323cce217c09effa",
    "collapsed": true
   },
   "outputs": [],
   "source": [
    "import ast\n",
    "def process(results):\n",
    "    \"\"\"Process results into a dataframe with one column per hyperparameter\"\"\"\n",
    "    \n",
    "    results = results.copy()\n",
    "    results['hyperparameters'] = results['hyperparameters'].map(ast.literal_eval)\n",
    "    \n",
    "    # Sort with best values on top\n",
    "    results = results.sort_values('score', ascending = False).reset_index(drop = True)\n",
    "    \n",
    "     # Create dataframe of hyperparameters\n",
    "    hyp_df = pd.DataFrame(columns = list(results.loc[0, 'hyperparameters'].keys()))\n",
    "\n",
    "    # Iterate through each set of hyperparameters that were evaluated\n",
    "    for i, hyp in enumerate(results['hyperparameters']):\n",
    "        hyp_df = hyp_df.append(pd.DataFrame(hyp, index = [0]), \n",
    "                               ignore_index = True, sort= True)\n",
    "        \n",
    "    # Put the iteration and score in the hyperparameter dataframe\n",
    "    hyp_df['iteration'] = results['iteration']\n",
    "    hyp_df['score'] = results['score']\n",
    "    \n",
    "    return hyp_df"
   ]
  },
  {
   "cell_type": "code",
   "execution_count": null,
   "metadata": {
    "_uuid": "281da466846f8b066c5417f53aa70a741e391350",
    "collapsed": true
   },
   "outputs": [],
   "source": [
    "random_hyp = process(random)\n",
    "opt_hyp = process(opt)\n",
    "\n",
    "random_hyp.head()"
   ]
  },
  {
   "cell_type": "markdown",
   "metadata": {
    "_uuid": "9c6a5b896f5480ef9cf1baead227fce4e0ddcb9c"
   },
   "source": [
    "Next we define the hyperparameter grid that was used (the same ranges applied in both searches)."
   ]
  },
  {
   "cell_type": "code",
   "execution_count": null,
   "metadata": {
    "_uuid": "87873674e972da4446226582b45f40ec7219dca1",
    "collapsed": true
   },
   "outputs": [],
   "source": [
    "# Hyperparameter grid\n",
    "param_grid = {\n",
    "    'is_unbalance': [True, False],\n",
    "    'boosting_type': ['gbdt', 'goss', 'dart'],\n",
    "    'num_leaves': list(range(20, 150)),\n",
    "    'learning_rate': list(np.logspace(np.log10(0.005), np.log10(0.5), base = 10, num = 1000)),\n",
    "    'subsample_for_bin': list(range(20000, 300000, 20000)),\n",
    "    'min_child_samples': list(range(20, 500, 5)),\n",
    "    'reg_alpha': list(np.linspace(0, 1)),\n",
    "    'reg_lambda': list(np.linspace(0, 1)),\n",
    "    'colsample_bytree': list(np.linspace(0.6, 1, 10)),\n",
    "    'subsample': list(np.linspace(0.5, 1, 100))\n",
    "}"
   ]
  },
  {
   "cell_type": "markdown",
   "metadata": {
    "_uuid": "6dd5dc8695e4d156d25a56efded57899b4a8b7b7"
   },
   "source": [
    "# Distributions of Search Values\n",
    "\n",
    "Below are the kernel density estimate plots for each hyperparameter. The dashed vertical lines indicate the \"optimal\" value found in the respective searches. \n",
    "\n",
    "We start with the learning rate:"
   ]
  },
  {
   "cell_type": "code",
   "execution_count": null,
   "metadata": {
    "_uuid": "d12bb09a51ad930d3336b4c9ba9ecf14048a48da",
    "collapsed": true
   },
   "outputs": [],
   "source": [
    "best_random_hyp = random_hyp.loc[0, :]\n",
    "best_opt_hyp = opt_hyp.loc[0, :]"
   ]
  },
  {
   "cell_type": "code",
   "execution_count": null,
   "metadata": {
    "_uuid": "1804fdc4106fbcd2c69793a65432b1505d60e4ed",
    "collapsed": true
   },
   "outputs": [],
   "source": [
    "plt.figure(figsize = (20, 8))\n",
    "plt.rcParams['font.size'] = 18\n",
    "\n",
    "# Density plots of the learning rate distributions \n",
    "sns.kdeplot(param_grid['learning_rate'], label = 'Sampling Distribution', linewidth = 4, color = 'k')\n",
    "sns.kdeplot(random_hyp['learning_rate'], label = 'Random Search', linewidth = 4, color = 'blue')\n",
    "sns.kdeplot(opt_hyp['learning_rate'], label = 'Bayesian', linewidth = 4, color = 'green')\n",
    "plt.vlines([best_random_hyp['learning_rate']],\n",
    "           ymin = 0.0, ymax = 50.0, linestyles = '--', linewidth = 4, colors = ['blue'])\n",
    "plt.vlines([best_opt_hyp['learning_rate']],\n",
    "           ymin = 0.0, ymax = 50.0, linestyles = '--', linewidth = 4, colors = ['green'])\n",
    "plt.legend()\n",
    "plt.xlabel('Learning Rate'); plt.ylabel('Density'); plt.title('Learning Rate Distribution');\n",
    "\n",
    "print('Best value from random search: {:.5f}.'.format(best_random_hyp['learning_rate']))\n",
    "print('Best value from Bayesian: {:.5f}.'.format(best_opt_hyp['learning_rate']))"
   ]
  },
  {
   "cell_type": "markdown",
   "metadata": {
    "_uuid": "d26f64121fbd6c56ccb7b3dc75535b67a7238ef9"
   },
   "source": [
    "Even though the search domain extended from 0.005 to 0.2, both optimal values clustered around a lower value. Perhaps this tells us we should concentrate further searches in this area below 0.02?\n",
    "\n",
    "That code was a little tedious, so let's write a function that makes the same code for any hyperparameter (feel free to pick your own colors!)."
   ]
  },
  {
   "cell_type": "code",
   "execution_count": null,
   "metadata": {
    "_uuid": "cd9c43f30ea7a359ecf8a8e0008525ec49f8aa39",
    "collapsed": true
   },
   "outputs": [],
   "source": [
    "def plot_hyp_dist(hyp):\n",
    "    \"\"\"Plots distribution of hyp along with best values of hyp as vertical line\"\"\"\n",
    "    plt.figure(figsize = (16, 6))\n",
    "    plt.rcParams['font.size'] = 18\n",
    "\n",
    "    # Density plots of the learning rate distributions \n",
    "    sns.kdeplot(param_grid[hyp], label = 'Sampling Distribution', linewidth = 4, color = 'k')\n",
    "    sns.kdeplot(random_hyp[hyp], label = 'Random Search', linewidth = 4, color = 'blue')\n",
    "    sns.kdeplot(opt_hyp[hyp], label = 'Bayesian', linewidth = 4, color = 'green')\n",
    "    plt.vlines([best_random_hyp[hyp]],\n",
    "               ymin = 0.0, ymax = 50.0, linestyles = '--', linewidth = 4, colors = ['blue'])\n",
    "    plt.vlines([best_opt_hyp[hyp]],\n",
    "               ymin = 0.0, ymax = 50.0, linestyles = '--', linewidth = 4, colors = ['green'])\n",
    "    plt.legend()\n",
    "    plt.xlabel(hyp); plt.ylabel('Density'); plt.title('{} Distribution'.format(hyp));\n",
    "\n",
    "    print('Best value from random search: {:.5f}.'.format(best_random_hyp[hyp]))\n",
    "    print('Best value from Bayesian: {:.5f}.'.format(best_opt_hyp[hyp]))\n",
    "    plt.show()"
   ]
  },
  {
   "cell_type": "code",
   "execution_count": null,
   "metadata": {
    "_uuid": "27556437161e5008a4c16c24468c49d660e0f173",
    "collapsed": true
   },
   "outputs": [],
   "source": [
    "plot_hyp_dist('min_child_samples')"
   ]
  },
  {
   "cell_type": "markdown",
   "metadata": {
    "_uuid": "937406dda22966d4ef29f529c4f0e8c96ab0fb6d"
   },
   "source": [
    "We can do this for all of the hyperparameters. These results can be used to inform further searches. They can even be used to define a grid search over a concentrated region. The problem with grid search is the insane compuational and time costs involved, and a smaller hyperparameter grid will help immensely! "
   ]
  },
  {
   "cell_type": "code",
   "execution_count": null,
   "metadata": {
    "_uuid": "c8280d407842cef03524c32e80c88775b7bc0ac5",
    "collapsed": true
   },
   "outputs": [],
   "source": [
    "plot_hyp_dist('num_leaves')"
   ]
  },
  {
   "cell_type": "code",
   "execution_count": null,
   "metadata": {
    "_uuid": "d4aafe9f710e64fd46389a0c1779759feb99d5e1",
    "collapsed": true
   },
   "outputs": [],
   "source": [
    "plot_hyp_dist('reg_alpha')"
   ]
  },
  {
   "cell_type": "code",
   "execution_count": null,
   "metadata": {
    "_uuid": "f1c48d3adde72a5a69a07624a84b902017ec5adc",
    "collapsed": true
   },
   "outputs": [],
   "source": [
    "plot_hyp_dist('reg_lambda')"
   ]
  },
  {
   "cell_type": "markdown",
   "metadata": {
    "_uuid": "9b323a9d6dbb36421f23dda266a12414f78f80d6"
   },
   "source": [
    "The `reg_alpha` and `reg_lambda` best scores seem to complement one another for Bayesian optimization. In other words, if either `reg_lambda` or `reg_alpha` is high (say greater than 0.5), then the other should be low (below 0.5). These hyperparameters control a penalty placed on the weights of the trees and thus are meant to control overfitting. It might make sense if only one needs to be high then."
   ]
  },
  {
   "cell_type": "code",
   "execution_count": null,
   "metadata": {
    "_uuid": "c8616afc10be258c99e2957eafc157c616205bea",
    "collapsed": true
   },
   "outputs": [],
   "source": [
    "plot_hyp_dist('subsample_for_bin')"
   ]
  },
  {
   "cell_type": "code",
   "execution_count": null,
   "metadata": {
    "_uuid": "337e1a9b60159634ee5861bb0a4cc7a1aefacd58",
    "collapsed": true
   },
   "outputs": [],
   "source": [
    "plot_hyp_dist('colsample_bytree')"
   ]
  },
  {
   "cell_type": "markdown",
   "metadata": {
    "_uuid": "7a08f96885b4ddd6b4ddf88478d2480e229c4705"
   },
   "source": [
    "### Boosting Type\n",
    "\n",
    "The boosting type deserves its own section because it is a categorical variable, and because as we will see, it has an outsized effect on model performance. First, let's calculate statistics grouped by boosting type for each search method."
   ]
  },
  {
   "cell_type": "code",
   "execution_count": null,
   "metadata": {
    "_uuid": "28218c057c1a0023e95fe407d771c5c581de2564",
    "collapsed": true
   },
   "outputs": [],
   "source": [
    "random_hyp.groupby('boosting_type')['score'].agg(['mean', 'max', 'min', 'std', 'count'])"
   ]
  },
  {
   "cell_type": "code",
   "execution_count": null,
   "metadata": {
    "_uuid": "727254d587e4283d079b6f290e22f251d3a9fa03",
    "collapsed": true
   },
   "outputs": [],
   "source": [
    "opt_hyp.groupby('boosting_type')['score'].agg(['mean', 'max', 'min', 'std', 'count'])"
   ]
  },
  {
   "cell_type": "markdown",
   "metadata": {
    "_uuid": "38c973d1b6fb3d10d181e8ac6f16cb1c8d71a26c"
   },
   "source": [
    "In both search methods, the `gbdt` (gradient boosted decision tree) and `dart` (dropout meets additive regression tree) do much better than `goss` (gradient based one-sided sampling). `gbdt` does the best on average (and for the max), so it might make sense to use that method in the future! Let's view the results as a barchart:"
   ]
  },
  {
   "cell_type": "code",
   "execution_count": null,
   "metadata": {
    "_uuid": "141f19e01e0c8fd14c9a1e4616ae62190a7408ca",
    "collapsed": true
   },
   "outputs": [],
   "source": [
    "plt.figure(figsize = (16, 6))\n",
    "\n",
    "plt.subplot(121)\n",
    "random_hyp.groupby('boosting_type')['score'].agg(['mean', 'max', 'min', 'std'])['mean'].plot.bar(color = 'b')\n",
    "plt.ylabel('Score'); plt.title('Random Search Boosting Type Scores', size = 14);\n",
    "\n",
    "plt.subplot(122)\n",
    "opt_hyp.groupby('boosting_type')['score'].agg(['mean', 'max', 'min', 'std'])['mean'].plot.bar(color = 'b')\n",
    "plt.ylabel('Score'); plt.title('Bayesian Boosting Type Scores', size = 14);"
   ]
  },
  {
   "cell_type": "markdown",
   "metadata": {
    "_uuid": "a02048627b7c121bfbe80e5b4440983deb95e474"
   },
   "source": [
    "__`gbdt` (or `dart`) it should be! Notice that random search tried `gbdt` about the same number of times as the other two (since it selected with no reasoning) while Bayesian optimization tried `gbdt` much more often. __\n",
    "\n",
    "Since `gbdt` supports `subsample` (using on a sample of the observations to train on in every tree) we can plot the distribution of `subsample` where `boosting_type=='gbdt'`. We also show the reference distribution."
   ]
  },
  {
   "cell_type": "code",
   "execution_count": null,
   "metadata": {
    "_uuid": "09462e9606b0c6d238c85a00efac8d49212dfab2",
    "collapsed": true
   },
   "outputs": [],
   "source": [
    "plt.figure(figsize = (20, 8))\n",
    "plt.rcParams['font.size'] = 18\n",
    "\n",
    "# Density plots of the learning rate distributions \n",
    "sns.kdeplot(param_grid['subsample'], label = 'Sampling Distribution', linewidth = 4, color = 'k')\n",
    "sns.kdeplot(random_hyp[random_hyp['boosting_type'] == 'gbdt']['subsample'], label = 'Random Search', linewidth = 4, color = 'blue')\n",
    "sns.kdeplot(opt_hyp[opt_hyp['boosting_type'] == 'gbdt']['subsample'], label = 'Bayesian', linewidth = 4, color = 'green')\n",
    "plt.vlines([best_random_hyp['subsample']],\n",
    "           ymin = 0.0, ymax = 50.0, linestyles = '--', linewidth = 4, colors = ['blue'])\n",
    "plt.vlines([best_opt_hyp['subsample']],\n",
    "           ymin = 0.0, ymax = 50.0, linestyles = '--', linewidth = 4, colors = ['green'])\n",
    "plt.legend()\n",
    "plt.xlabel('Subsample'); plt.ylabel('Density'); plt.title('Subsample Distribution');\n",
    "\n",
    "print('Best value from random search: {:.5f}.'.format(best_random_hyp['subsample']))\n",
    "print('Best value from Bayesian: {:.5f}.'.format(best_opt_hyp['subsample']))"
   ]
  },
  {
   "cell_type": "markdown",
   "metadata": {
    "_uuid": "3bd37491b316c1905b635e3ca031b395d17ff79e"
   },
   "source": [
    "There is a significant disagreement between the two methods on the optimal value for `subsample`. Perhaps we would want to leave this as a wide distribution in any further searches (although some subsampling does look to be beneficial)."
   ]
  },
  {
   "cell_type": "markdown",
   "metadata": {
    "_uuid": "a9442a181dc12319ad9dd1eca94fb9cc5556a6da"
   },
   "source": [
    "Finally, we can look at the instance of `is_unbalance`, a hyperparameter that tells LightGBM whether or not to treat the problem as unbalance classification."
   ]
  },
  {
   "cell_type": "code",
   "execution_count": null,
   "metadata": {
    "_uuid": "26849d5f6fd4caf78fe76f9944e4a366d8815dad",
    "collapsed": true
   },
   "outputs": [],
   "source": [
    "random_hyp.groupby('is_unbalance')['score'].agg(['mean', 'max', 'min', 'std', 'count'])"
   ]
  },
  {
   "cell_type": "code",
   "execution_count": null,
   "metadata": {
    "_uuid": "c617f4aed4e349b7c79ef21eec8af1f490bd9de8",
    "collapsed": true
   },
   "outputs": [],
   "source": [
    "opt_hyp.groupby('is_unbalance')['score'].agg(['mean', 'max', 'min', 'std', 'count'])"
   ]
  },
  {
   "cell_type": "markdown",
   "metadata": {
    "_uuid": "08e5ca88e41d4dc2dea3b66af4e4cd0d3159f088"
   },
   "source": [
    "__According to the average score, it pretty much does not matter if this hyperparameter is `True` or `False`.__ To be honest, I'm not sure what difference this is supposed to make, so anyone who wants can fill me in!"
   ]
  },
  {
   "cell_type": "markdown",
   "metadata": {
    "_uuid": "676c2b89683cc8e20f9eaa9df9d51e641c5cf20e"
   },
   "source": [
    "# Hyperparameters versus Iteration\n",
    "\n",
    "Next we will take a look at the __evolution__ of the Bayesian search (random search shows no pattern as expected) by graphing the values versus the iteration. This can inform us the direction in which the search was heading in terms of where the values tended to cluster. Given these graphs, we might then be able to extrapolate values that lead to even higher scores (or maybe not, _extrapolation is dangerous_!)\n",
    "\n",
    "The black star in the plots below signifies the best scoring value."
   ]
  },
  {
   "cell_type": "code",
   "execution_count": null,
   "metadata": {
    "_uuid": "a06e8e89a53f686b7458edb5ca989c61be3a8fa6",
    "collapsed": true
   },
   "outputs": [],
   "source": [
    "fig, axs = plt.subplots(1, 4, figsize = (24, 6))\n",
    "i = 0\n",
    "\n",
    "# Plot of four hyperparameters\n",
    "for i, hyper in enumerate(['colsample_bytree', 'learning_rate', 'min_child_samples', 'num_leaves']):\n",
    "        opt_hyp[hyper] = opt_hyp[hyper].astype(float)\n",
    "        # Scatterplot\n",
    "        sns.regplot('iteration', hyper, data = opt_hyp, ax = axs[i])\n",
    "        axs[i].scatter(best_opt_hyp['iteration'], best_opt_hyp[hyper], marker = '*', s = 200, c = 'k')\n",
    "        axs[i].set(xlabel = 'Iteration', ylabel = '{}'.format(hyper), title = '{} over Search'.format(hyper));\n",
    "\n",
    "plt.tight_layout()"
   ]
  },
  {
   "cell_type": "code",
   "execution_count": null,
   "metadata": {
    "_uuid": "926025c4e2bebb8e51159033f7d59caf63904fc4",
    "collapsed": true
   },
   "outputs": [],
   "source": [
    "fig, axs = plt.subplots(1, 3, figsize = (18, 6))\n",
    "i = 0\n",
    "\n",
    "# Plot of four hyperparameters\n",
    "for i, hyper in enumerate(['reg_alpha', 'reg_lambda', 'subsample_for_bin']):\n",
    "        opt_hyp[hyper] = opt_hyp[hyper].astype(float)\n",
    "        # Scatterplot\n",
    "        sns.regplot('iteration', hyper, data = opt_hyp, ax = axs[i])\n",
    "        axs[i].scatter(best_opt_hyp['iteration'], best_opt_hyp[hyper], marker = '*', s = 200, c = 'k')\n",
    "        axs[i].set(xlabel = 'Iteration', ylabel = '{}'.format(hyper), title = '{} over Search'.format(hyper));\n",
    "\n",
    "plt.tight_layout()"
   ]
  },
  {
   "cell_type": "markdown",
   "metadata": {
    "_uuid": "b17e76aec0473723cd5490fb13ad8ef88041e4f7"
   },
   "source": [
    "We want to be careful about placing too much value in these results, because remember, the Bayesian optimization could have found a local minimum of the cross validation loss that it is exploting. Moreover, the trends here are generally pretty small. It is encouraging that the best value was found close to the end of the search indicating cross validation scores were continuing to improve. \n",
    "\n",
    "Next, we can look at the values of the score as a function of the hyperparameter values. This is again a dangerous area! "
   ]
  },
  {
   "cell_type": "markdown",
   "metadata": {
    "_uuid": "859b7f85c811666fdaf3f594cc21a22ad9743ef4"
   },
   "source": [
    "# Plots of Hyperparameters vs Score\n",
    "\n",
    "![](http://)These next plots show the value of a single hyperparameter versus the score. We want to avoid placing too much emphasis on these graphs, because we are not changing one hyperparameter at a time. Therefore, if there are trends, it might not be solely due to the single hyperparameter we show. A truly accurate grid would be 10-dimensional and show the values of __all__ hyperparameters and the resulting score. If we could understand a __10-dimensional__ graph, then we might be able to figure out the optimal combination of hyperparameters! "
   ]
  },
  {
   "cell_type": "code",
   "execution_count": null,
   "metadata": {
    "_uuid": "5de33747355573033dad8153c7039a5d86ff9923",
    "collapsed": true
   },
   "outputs": [],
   "source": [
    "random_hyp['set'] = 'Random Search'\n",
    "opt_hyp['set'] = 'Bayesian'\n",
    "\n",
    "# Append the two dataframes together\n",
    "hyp = random_hyp.append(opt_hyp, ignore_index = True, sort = True)\n",
    "hyp.head()"
   ]
  },
  {
   "cell_type": "code",
   "execution_count": null,
   "metadata": {
    "_uuid": "1c7633051d342d087049a748b430a0027cbcb5f3",
    "collapsed": true
   },
   "outputs": [],
   "source": [
    "fig, axs = plt.subplots(1, 4, figsize = (24, 6))\n",
    "i = 0\n",
    "\n",
    "# Plot of four hyperparameters\n",
    "for i, hyper in enumerate(['colsample_bytree', 'learning_rate', 'min_child_samples', 'num_leaves']):\n",
    "        random_hyp[hyper] = random_hyp[hyper].astype(float)\n",
    "        # Scatterplot\n",
    "        sns.regplot(hyper, 'score', data = random_hyp, ax = axs[i], color = 'b', scatter_kws={'alpha':0.6})\n",
    "        axs[i].scatter(best_random_hyp[hyper], best_random_hyp['score'], marker = '*', s = 200, c = 'b', edgecolor = 'k')\n",
    "        axs[i].set(xlabel = '{}'.format(hyper), ylabel = 'Score', title = 'Score vs {}'.format(hyper));\n",
    "        \n",
    "        opt_hyp[hyper] = opt_hyp[hyper].astype(float)\n",
    "        # Scatterplot\n",
    "        sns.regplot(hyper, 'score', data = opt_hyp, ax = axs[i], color = 'g', scatter_kws={'alpha':0.6})\n",
    "        axs[i].scatter(best_opt_hyp[hyper], best_opt_hyp['score'], marker = '*', s = 200, c = 'g', edgecolor = 'k')\n",
    "\n",
    "plt.legend()\n",
    "plt.tight_layout()\n",
    "\n"
   ]
  },
  {
   "cell_type": "markdown",
   "metadata": {
    "_uuid": "8f5a4196b7b2fcde211944ea16f0006e950466a5"
   },
   "source": [
    "__The only clear distinction is that the score decreases as the learning rate increases.__ Of course, we cannot say whether that is due to the learning rate itself, or some other factor (we will look at the interplay between the learning rate and the number of esimators shortly). The learning rate domain was on a logarithmic scale, so it's most accurate for the plot to be as well (unfortunately I cannot get this to work yet)."
   ]
  },
  {
   "cell_type": "code",
   "execution_count": null,
   "metadata": {
    "_uuid": "0c139d823e3d10d8d6e2d5e30da124055c2e7101",
    "collapsed": true
   },
   "outputs": [],
   "source": [
    "# hyper = 'learning_rate'\n",
    "\n",
    "# fig, ax = plt.subplots(1, 1, figsize = (6, 6))\n",
    "\n",
    "# random_hyp[hyper] = random_hyp[hyper].astype(float)\n",
    "# # Scatterplot\n",
    "# sns.regplot(hyper, 'score', data = random_hyp, ax = ax, color = 'b', scatter_kws={'alpha':0.6})\n",
    "# ax.scatter(best_random_hyp[hyper], best_random_hyp['score'], marker = '*', s = 200, c = 'b', edgecolor = 'k')\n",
    "\n",
    "# opt_hyp[hyper] = opt_hyp[hyper].astype(float)\n",
    "# # Scatterplot\n",
    "# sns.regplot(hyper, 'score', data = opt_hyp, ax = ax, color = 'g', scatter_kws={'alpha':0.6})\n",
    "# ax.scatter(best_opt_hyp[hyper], best_opt_hyp['score'], marker = '*', s = 200, c = 'g', edgecolor = 'k')\n",
    "\n",
    "# ax.set(xlabel = '{}'.format(hyper), ylabel = 'Score', title = 'Score vs {}'.format(hyper))\n",
    "# ax.set(xscale = 'log');"
   ]
  },
  {
   "cell_type": "markdown",
   "metadata": {
    "_uuid": "13d6f4291a71c140cf4cf084c561535a8102fe9e"
   },
   "source": [
    "Now for the next four hyperparameters versus the score."
   ]
  },
  {
   "cell_type": "code",
   "execution_count": null,
   "metadata": {
    "_uuid": "df0eb06a34f24c80289a0653c2be2948083023fc",
    "collapsed": true
   },
   "outputs": [],
   "source": [
    "fig, axs = plt.subplots(1, 4, figsize = (24, 6))\n",
    "i = 0\n",
    "\n",
    "# Plot of four hyperparameters\n",
    "for i, hyper in enumerate(['reg_alpha', 'reg_lambda', 'subsample_for_bin', 'subsample']):\n",
    "        random_hyp[hyper] = random_hyp[hyper].astype(float)\n",
    "        # Scatterplot\n",
    "        sns.regplot(hyper, 'score', data = random_hyp, ax = axs[i], color = 'b', scatter_kws={'alpha':0.6})\n",
    "        axs[i].scatter(best_random_hyp[hyper], best_random_hyp['score'], marker = '*', s = 200, c = 'b', edgecolor = 'k')\n",
    "        axs[i].set(xlabel = '{}'.format(hyper), ylabel = 'Score', title = 'Score vs {}'.format(hyper));\n",
    "        \n",
    "        opt_hyp[hyper] = opt_hyp[hyper].astype(float)\n",
    "        # Scatterplot\n",
    "        sns.regplot(hyper, 'score', data = opt_hyp, ax = axs[i], color = 'g', scatter_kws={'alpha':0.6})\n",
    "        axs[i].scatter(best_opt_hyp[hyper], best_opt_hyp['score'], marker = '*', s = 200, c = 'g', edgecolor = 'k')\n",
    "\n",
    "plt.legend()\n",
    "plt.tight_layout()\n",
    "\n"
   ]
  },
  {
   "cell_type": "markdown",
   "metadata": {
    "_uuid": "286d4188880e005789dfe4263a478e435b25c521"
   },
   "source": [
    "There are not any strong trends here. Next we will try to look at two hyperparameters simultaneously versus the score in a 3-dimensional plot. This makes sense for hyperparameters that work in concert, such as the learning rate and the number of esimators or the two regularization values."
   ]
  },
  {
   "cell_type": "markdown",
   "metadata": {
    "_uuid": "6e8ce0cfa429da99713a647097cf75a9b8220516"
   },
   "source": [
    "## 3D Plots \n",
    "\n",
    "To try and examine the simultaneous effects of hyperparameters, we can make 3D plots with 2 hyperparameters and the score. A truly accurate plot would be 10-D (one for each hyperparameter) but in this case we will stick to 3 dimensions. 3D plots can be made in matplotlib by import `Axes3D` and specifying the `3d` projection in a call to `.add_subplot`"
   ]
  },
  {
   "cell_type": "code",
   "execution_count": null,
   "metadata": {
    "_uuid": "59c454dfd02a136d538aa5a6b642ee9e14474326",
    "collapsed": true
   },
   "outputs": [],
   "source": [
    "from mpl_toolkits.mplot3d import Axes3D\n",
    "plt.rcParams['axes.labelpad'] = 12"
   ]
  },
  {
   "cell_type": "markdown",
   "metadata": {
    "_uuid": "7620aa96435ed931d90f67084ff512a70947530e"
   },
   "source": [
    "First up is `reg_alpha` and `reg_lambda`. These control the amount of regularization on each decision tree and help to prevent overfitting to the training data."
   ]
  },
  {
   "cell_type": "code",
   "execution_count": null,
   "metadata": {
    "_uuid": "f0b2bcb7868bac645b4f027107860fdea985c0bb",
    "collapsed": true
   },
   "outputs": [],
   "source": [
    "fig = plt.figure(figsize = (10, 10))\n",
    "ax = fig.add_subplot(111, projection='3d')\n",
    "\n",
    "ax.scatter(random_hyp['reg_alpha'], random_hyp['reg_lambda'],\n",
    "           random_hyp['score'], c = random_hyp['score'], \n",
    "           cmap = plt.cm.seismic_r, s = 40)\n",
    "\n",
    "ax.set_xlabel('Reg Alpha')\n",
    "ax.set_ylabel('Reg Lambda')\n",
    "ax.set_zlabel('Score')\n",
    "\n",
    "plt.title('Score as Function of Reg Lambda and Alpha');"
   ]
  },
  {
   "cell_type": "code",
   "execution_count": null,
   "metadata": {
    "_uuid": "b09637f27027ca63c36cfcb1a90855a089a1bf58",
    "collapsed": true
   },
   "outputs": [],
   "source": [
    "best_random_hyp"
   ]
  },
  {
   "cell_type": "markdown",
   "metadata": {
    "_uuid": "1a9fc2d04b1d9a837b951eb75cebfa16d6d65e55"
   },
   "source": [
    "It's a little difficult to tell much from this plot. If we look at the best values and then look at the plot, we can see that scores do tend to be higher around 0.9 for `reg_alpha`and 0.2 for `reg_lambda`.  Later, we'll make the same plot for the Bayesian Optimization for comparison."
   ]
  },
  {
   "cell_type": "markdown",
   "metadata": {
    "_uuid": "77c7551c8321cc5fba6efcb13cd4ccd04529c1cd",
    "collapsed": true
   },
   "source": [
    "The next plot is learning rate and number of estimators versus the score. __Remember that the number of estimators was selected using early stopping for 100 rounds with 5-fold cross validation__. The number of estimators __was not__ a hyperparameter in the grid that we searched over. Early stopping is a more efficient method of finding the best number of estimators than including it in a search (based on my limited experience)!"
   ]
  },
  {
   "cell_type": "code",
   "execution_count": null,
   "metadata": {
    "_uuid": "19489dc33c3611c4226e397b97d0808521bc4ea1",
    "collapsed": true
   },
   "outputs": [],
   "source": [
    "fig = plt.figure(figsize = (10, 10))\n",
    "ax = fig.add_subplot(111, projection='3d')\n",
    "ax.scatter(random_hyp['learning_rate'], random_hyp['n_estimators'],\n",
    "           random_hyp['score'], c = random_hyp['score'], \n",
    "           cmap = plt.cm.seismic_r, s = 40)\n",
    "\n",
    "ax.set_xlabel('Learning Rate')\n",
    "ax.set_ylabel('Number of Estimators')\n",
    "ax.set_zlabel('Score')\n",
    "\n",
    "plt.title('Score as Function of Learning Rate and Estimators', size = 16);"
   ]
  },
  {
   "cell_type": "markdown",
   "metadata": {
    "_uuid": "6ee1564e53ee41198544791f32fe17e14986b0fa"
   },
   "source": [
    "Here there appears to be a clear trend: a lower learning rate leads to higher values! What does the plot of just learning rate versus number of estimators look like?"
   ]
  },
  {
   "cell_type": "code",
   "execution_count": null,
   "metadata": {
    "_uuid": "8d6432d0d7306dd5901448d6e5bb515cd6b9f20f",
    "collapsed": true
   },
   "outputs": [],
   "source": [
    "plt.figure(figsize = (8, 7))\n",
    "plt.plot(random_hyp['learning_rate'], random_hyp['n_estimators'], 'ro')\n",
    "plt.xlabel('Learning Rate'); plt.ylabel('N Estimators'); plt.title('Number of Estimators vs Learning Rate');"
   ]
  },
  {
   "cell_type": "markdown",
   "metadata": {
    "_uuid": "025e77b667eddace8dec21bb1dc01eb7ccc22d0c"
   },
   "source": [
    "This plot is very easy to interpret: the lower the learning rate, the more estimators that will be trained. From our knowledge of the model, this makes sense: each individual decision trees contribution is lessened as the learning rate is decreased leading to a need for more decision trees in the ensemble. Moreover, from the previous graphs, it appears that decreasing the learning rate increases the model score."
   ]
  },
  {
   "cell_type": "markdown",
   "metadata": {
    "_uuid": "eed300ada80f19a10b3e8b0d3bc4c14109729aba"
   },
   "source": [
    "### Function for 3D plotting\n",
    "\n",
    "Any time you write code more than twice, it should be encoded into a function! That's what the next code block is for: putting this code into a function that we can use many times! This function can be used for __any__ 3d plotting needs."
   ]
  },
  {
   "cell_type": "code",
   "execution_count": null,
   "metadata": {
    "_uuid": "d43ce14c20895594eaf82c7093b8341d8f0c1702",
    "collapsed": true
   },
   "outputs": [],
   "source": [
    "from mpl_toolkits.mplot3d import Axes3D\n",
    "import matplotlib.pyplot as plt\n",
    "\n",
    "def plot_3d(x, y, z, df, cmap = plt.cm.seismic_r):\n",
    "    \"\"\"3D scatterplot of data in df\"\"\"\n",
    "\n",
    "    fig = plt.figure(figsize = (10, 10))\n",
    "    \n",
    "    ax = fig.add_subplot(111, projection='3d')\n",
    "    \n",
    "    # 3d scatterplot\n",
    "    ax.scatter(df[x], df[y],\n",
    "               df[z], c = df[z], \n",
    "               cmap = cmap, s = 40)\n",
    "\n",
    "    # Plot labeling\n",
    "    ax.set_xlabel(x)\n",
    "    ax.set_ylabel(y)\n",
    "    ax.set_zlabel(z)\n",
    "\n",
    "    plt.title('{} as function of {} and {}'.format(\n",
    "               z, x, y), size = 18);\n",
    "    \n",
    "plot_3d('learning_rate', 'n_estimators', 'score', opt_hyp)"
   ]
  },
  {
   "cell_type": "markdown",
   "metadata": {
    "_uuid": "7e56cc4be529e8de0279126380de7d16044f8ae3"
   },
   "source": [
    "The bayesian optimization results are close in trend to those from random search: lower learning rate leads to higher cross validation scores."
   ]
  },
  {
   "cell_type": "code",
   "execution_count": null,
   "metadata": {
    "_uuid": "03c0143ce7e73407258279328880b9f7cf1a515e",
    "collapsed": true
   },
   "outputs": [],
   "source": [
    "plt.figure(figsize = (8, 7))\n",
    "plt.plot(opt_hyp['learning_rate'], opt_hyp['n_estimators'], 'ro')\n",
    "plt.xlabel('Learning Rate'); plt.ylabel('N Estimators'); plt.title('Number of Estimators vs Learning Rate');"
   ]
  },
  {
   "cell_type": "code",
   "execution_count": null,
   "metadata": {
    "_uuid": "6e82491d490638751ff083fc70feff05c8d15543",
    "collapsed": true
   },
   "outputs": [],
   "source": [
    "plot_3d('reg_alpha', 'reg_lambda', 'score', opt_hyp)"
   ]
  },
  {
   "cell_type": "code",
   "execution_count": null,
   "metadata": {
    "_uuid": "8e48a0fb5e5abd8415587bccc548cd9fb823a91f",
    "collapsed": true
   },
   "outputs": [],
   "source": [
    "best_opt_hyp"
   ]
  },
  {
   "cell_type": "markdown",
   "metadata": {
    "_uuid": "13040583761b4119fafbfeec2d3d14800fe53070"
   },
   "source": [
    "Again, we probably want one of the regularization values to be high and the other to be low. This must help to \"balance\" the model between bias and variance. "
   ]
  },
  {
   "cell_type": "markdown",
   "metadata": {
    "_uuid": "bb9dc87e7227660c56b869ede2d79b1d1483bfa1"
   },
   "source": [
    "# Correlations between Hyperparameters and Score\n",
    "\n",
    "Time for another dangerous act: finding correlations between the hyperparameters and the score. These are not going to be accurate because again, we are not varying one value at a time! Nonetheless, we may discover useful insight about the Gradient Boosting Machine model."
   ]
  },
  {
   "cell_type": "markdown",
   "metadata": {
    "_uuid": "bbd68b07283d264ba6e1538db4ed8e7da22e5a18"
   },
   "source": [
    "### Correlations for Random Search"
   ]
  },
  {
   "cell_type": "code",
   "execution_count": null,
   "metadata": {
    "_uuid": "eacdf0afb7638517a58082cc5c0d53df5637a9e3",
    "collapsed": true
   },
   "outputs": [],
   "source": [
    "random_hyp['n_estimators'] = random_hyp['n_estimators'].astype(np.int32)\n",
    "random_hyp.corr()['score']"
   ]
  },
  {
   "cell_type": "markdown",
   "metadata": {
    "_uuid": "0aad1997fc8fcf571448cba7c43a9f9feb2365c7"
   },
   "source": [
    "As expected, the `learning_rate` has one of the greatest correlations with the score. The `subsample` rate might be affected by the fact that 1/3 of the time this was set to 1.0."
   ]
  },
  {
   "cell_type": "code",
   "execution_count": null,
   "metadata": {
    "_uuid": "67a0144145f3d5a944d05a7ef2949374b3642267",
    "collapsed": true
   },
   "outputs": [],
   "source": [
    "random_hyp[random_hyp['boosting_type'] == 'gbdt'].corr()['score']['subsample']"
   ]
  },
  {
   "cell_type": "markdown",
   "metadata": {
    "_uuid": "d963502a23d6020a6e189cc4e82d4e27909eb57f"
   },
   "source": [
    "### Correlations for Bayesian Optimization"
   ]
  },
  {
   "cell_type": "code",
   "execution_count": null,
   "metadata": {
    "_uuid": "255d403aa89ff376c4c25a20a4e6d0f848ce3ad1",
    "collapsed": true
   },
   "outputs": [],
   "source": [
    "opt_hyp['n_estimators'] = opt_hyp['n_estimators'].astype(np.int32)\n",
    "opt_hyp.corr()['score']"
   ]
  },
  {
   "cell_type": "markdown",
   "metadata": {
    "_uuid": "af94c7a656fd22f2b4fd63b4ea36a7977aaf4151"
   },
   "source": [
    "The `learning_rate` again appears to be moderately correlated with the score. This should tell us again that a lower learning rate tends to co-occur with a higher cross-validation score, but not that this is nexessarily the cause of the higher score. "
   ]
  },
  {
   "cell_type": "code",
   "execution_count": null,
   "metadata": {
    "_uuid": "f1b9ab28a38b754e4b1c8baa8f8691edc9414c09",
    "collapsed": true
   },
   "outputs": [],
   "source": [
    "opt_hyp[opt_hyp['boosting_type'] == 'gbdt'].corr()['score']['subsample']"
   ]
  },
  {
   "cell_type": "markdown",
   "metadata": {
    "_uuid": "44471af60e09642560e753f2c334138f8b3b1fb9"
   },
   "source": [
    "## Correlation Heatmap\n",
    "\n",
    "Now we can make a heatmap of the correlations. I enjoy heatmaps and thankfully, they are not very difficult to make in `seaborn`."
   ]
  },
  {
   "cell_type": "code",
   "execution_count": null,
   "metadata": {
    "_uuid": "aa94816fd1492c7b9075792567b2868f1845b360",
    "collapsed": true
   },
   "outputs": [],
   "source": [
    "plt.figure(figsize = (12, 12))\n",
    "\n",
    "# Heatmap of correlations\n",
    "sns.heatmap(random_hyp.corr().round(2), cmap = plt.cm.gist_heat_r, vmin = -1.0, annot = True, vmax = 1.0)\n",
    "plt.title('Correlation Heatmap');"
   ]
  },
  {
   "cell_type": "markdown",
   "metadata": {
    "_uuid": "9b3c26dcc683bc614fe40bbd9f03211f342d6c1a"
   },
   "source": [
    "That's a lot of plot for not very much code! We can see that the number of estimators and the learning rate have the greatest magnitude correlation (ignoring subsample which is influenced by the boosting type)."
   ]
  },
  {
   "cell_type": "code",
   "execution_count": null,
   "metadata": {
    "_uuid": "13c5c0e2bbf55ab46857f58b2321d9138ec83af4",
    "collapsed": true
   },
   "outputs": [],
   "source": [
    "plt.figure(figsize = (12, 12))\n",
    "\n",
    "# Heatmap of correlations\n",
    "sns.heatmap(opt_hyp.corr().round(2), cmap = plt.cm.gist_heat_r, vmin = -1.0, annot = True, vmax = 1.0)\n",
    "plt.title('Correlation Heatmap');"
   ]
  },
  {
   "cell_type": "markdown",
   "metadata": {
    "_uuid": "2ebdf83e3022f10f3d1a9e2c460e3ef6a69366fa"
   },
   "source": [
    "Feel free to use this code for your own heatmaps! (Also send me color recommendations because I am not great at picking out a palette)."
   ]
  },
  {
   "cell_type": "markdown",
   "metadata": {
    "_uuid": "5dcc4d8cddb8fbdb84f541b3dc2251227c94634d"
   },
   "source": [
    "# Meta-Machine Learning\n",
    "\n",
    "So we have a labeled set of data: the hyperparameter values and the resulting score. Clearly, the next step is to use these for machine learning? Yes, here we will perform _meta-machine learning_ by fitting an estimator on top of the hyperparameter values and the scores. This is a supervised regression problem, and although we can use any method for learning the data, here we will stick to a linear regression. This will let us examine the coefficients on each hyperparameter and will help reduce overfitting. "
   ]
  },
  {
   "cell_type": "code",
   "execution_count": null,
   "metadata": {
    "_uuid": "c8e3f1f2167e6b77591293e7bfe1cbd18ff47a11",
    "collapsed": true
   },
   "outputs": [],
   "source": [
    "# Create training data and labels\n",
    "hyp = hyp.drop(columns = ['metric', 'set', 'verbose'])\n",
    "hyp['n_estimators'] = hyp['n_estimators'].astype(np.int32)\n",
    "hyp['min_child_samples'] = hyp['min_child_samples'].astype(np.int32)\n",
    "hyp['num_leaves'] = hyp['num_leaves'].astype(np.int32)\n",
    "hyp['subsample_for_bin'] = hyp['subsample_for_bin'].astype(np.int32)\n",
    "hyp = pd.get_dummies(hyp)\n",
    "\n",
    "train_labels = hyp.pop('score')\n",
    "train = np.array(hyp.copy())"
   ]
  },
  {
   "cell_type": "code",
   "execution_count": null,
   "metadata": {
    "_uuid": "12a6b441520ff6f50616bcde63d9da8bbe923e67",
    "collapsed": true
   },
   "outputs": [],
   "source": [
    "from sklearn.linear_model import LinearRegression\n",
    "\n",
    "# Create the lasso regression with cv\n",
    "lr = LinearRegression()\n",
    "\n",
    "# Train on the data\n",
    "lr.fit(train, train_labels)"
   ]
  },
  {
   "cell_type": "code",
   "execution_count": null,
   "metadata": {
    "_uuid": "7e64a7dce929c6fb4c339717565a5d0ccc62093c",
    "collapsed": true
   },
   "outputs": [],
   "source": [
    "x = list(hyp.columns)\n",
    "x_values = lr.coef_\n",
    "\n",
    "coefs = {variable: coef for variable, coef in zip(x, x_values)}\n",
    "coefs"
   ]
  },
  {
   "cell_type": "markdown",
   "metadata": {
    "_uuid": "ea481ee2a845949c1320fec6c09c06839ebf68d4"
   },
   "source": [
    "If we wanted, we could treat this as _another optimization problem_ and try to maximize the linear regression in terms of the score! However, for now I think we have done enough optimization. \n",
    "\n",
    "It's time to move on to implementing the best hyperparameter values from random and Bayesian optimization on the full dataset."
   ]
  },
  {
   "cell_type": "markdown",
   "metadata": {
    "_uuid": "275e07e21d36b6f2078e7d0e55bf3d5adbfe640f"
   },
   "source": [
    "# Implementation\n",
    "\n",
    "The full set of features on which these results come are from [this notebook](https://www.kaggle.com/jsaguiar/updated-0-792-lb-lightgbm-with-simple-features) by [Aguiar](https://www.kaggle.com/jsaguiar)). Here, we will load in the same features, train on the full training features and make predictions on the testing data. These can then be uploaded to the competition."
   ]
  },
  {
   "cell_type": "code",
   "execution_count": null,
   "metadata": {
    "_uuid": "4a1d554224b47ea44d32fc486eb53fdc390e4627",
    "collapsed": true
   },
   "outputs": [],
   "source": [
    "import lightgbm as lgb"
   ]
  },
  {
   "cell_type": "code",
   "execution_count": null,
   "metadata": {
    "_uuid": "79f34b653648d227497c7e28ed3a07c965860351",
    "collapsed": true
   },
   "outputs": [],
   "source": [
    "train = pd.read_csv('../input/home-credit-simple-featuers/simple_features_train.csv')\n",
    "print('Full Training Features Shape: ', train.shape)\n",
    "test = pd.read_csv('../input/home-credit-simple-featuers/simple_features_test.csv')\n",
    "print('Full Testing Features Shape: ', test.shape)"
   ]
  },
  {
   "cell_type": "markdown",
   "metadata": {
    "_uuid": "e7f9904fa99c985b071d5c9a0ac64cb829b0aa2d"
   },
   "source": [
    "First we need to format the data and extract the labels."
   ]
  },
  {
   "cell_type": "code",
   "execution_count": null,
   "metadata": {
    "_uuid": "0b90ba2369fe61d675c4142e96a76312955423a6",
    "collapsed": true
   },
   "outputs": [],
   "source": [
    "train_labels = np.array(train['TARGET'].astype(np.int32)).reshape((-1, ))\n",
    "train = train.drop(columns = ['SK_ID_CURR', 'TARGET'])\n",
    "\n",
    "test_ids = list(test['SK_ID_CURR'])\n",
    "test = test.drop(columns = ['SK_ID_CURR'])"
   ]
  },
  {
   "cell_type": "markdown",
   "metadata": {
    "_uuid": "3f990800163308f6aa40765715a627b3b3644618"
   },
   "source": [
    "We can also save the features to later use for plotting feature importances."
   ]
  },
  {
   "cell_type": "code",
   "execution_count": null,
   "metadata": {
    "_uuid": "42183059900944df939b94e68953a19dbce04de5",
    "collapsed": true
   },
   "outputs": [],
   "source": [
    "features = list(train.columns)"
   ]
  },
  {
   "cell_type": "markdown",
   "metadata": {
    "_uuid": "f6486a61df2a513d356e91d17aeced7eaab4ce5b"
   },
   "source": [
    "### Random Search"
   ]
  },
  {
   "cell_type": "code",
   "execution_count": null,
   "metadata": {
    "_uuid": "32e85525ff9fcc40c530e3d4f1ff0cce37da2ad6",
    "collapsed": true
   },
   "outputs": [],
   "source": [
    "random_best = ast.literal_eval(random.loc[0, 'hyperparameters'])\n",
    "\n",
    "rmodel = lgb.LGBMClassifier(**random_best)\n",
    "rmodel.fit(train, train_labels)"
   ]
  },
  {
   "cell_type": "code",
   "execution_count": null,
   "metadata": {
    "_uuid": "bdc4346da5ba566b520871db9c249e1f062ddf96",
    "collapsed": true
   },
   "outputs": [],
   "source": [
    "rpreds = rmodel.predict_proba(test)[:, 1]\n",
    "rsub = pd.DataFrame({'SK_ID_CURR': test_ids, 'TARGET': rpreds})\n",
    "rsub.to_csv('submission_random_search.csv', index = False)"
   ]
  },
  {
   "cell_type": "markdown",
   "metadata": {
    "_uuid": "9c94d56b21fc41e7a0e826b11117108734c1d5f0"
   },
   "source": [
    "### Bayesian Optimization"
   ]
  },
  {
   "cell_type": "code",
   "execution_count": null,
   "metadata": {
    "_uuid": "86282e6df412c63296f5eea47b7f407a1c968ba2",
    "collapsed": true
   },
   "outputs": [],
   "source": [
    "bayes_best = ast.literal_eval(opt.loc[0, 'hyperparameters'])\n",
    "\n",
    "bmodel = lgb.LGBMClassifier(**bayes_best)\n",
    "bmodel.fit(train, train_labels)"
   ]
  },
  {
   "cell_type": "code",
   "execution_count": null,
   "metadata": {
    "_uuid": "f27a36c7cc3aaafc64273149c7becc8750b44899",
    "collapsed": true
   },
   "outputs": [],
   "source": [
    "bpreds = bmodel.predict_proba(test)[:, 1]\n",
    "bsub = pd.DataFrame({'SK_ID_CURR': test_ids, 'TARGET': bpreds})\n",
    "bsub.to_csv('submission_bayesian_optimization.csv', index = False)"
   ]
  },
  {
   "cell_type": "markdown",
   "metadata": {
    "_uuid": "cb6fa1ebb4b28485dacefb5e94123e341d5618ea"
   },
   "source": [
    "### Competition Results\n",
    "\n",
    "* __Random search results scored 0.790__\n",
    "* __Bayesian optimization results scored 0.791__\n",
    "\n",
    "If we go by best score on the public leaderboard, Bayesian Optimization wins! However, the public leaderboard is based only on 10% of the test data, so it's possible this is a result of overfitting to this particular subset of the testing data. Overall, I would say the complete results suggest that both methods produce similar outcomes especially when run for enough iterations. Either method is better than hand-tuning! "
   ]
  },
  {
   "cell_type": "markdown",
   "metadata": {
    "_uuid": "43fa7d2829c4013fcf46ae8191d0ad1c877eabb6"
   },
   "source": [
    "#### Feature Importances\n",
    "\n",
    "As a final step, we can compare the feature importances between the models from the best hyperparameters. It would be interesting to see if the hyperparameter values has an effect on the feature importances."
   ]
  },
  {
   "cell_type": "code",
   "execution_count": null,
   "metadata": {
    "_uuid": "cdc80c926e3b2ba622fb935b4b5a8d3508abd228",
    "collapsed": true
   },
   "outputs": [],
   "source": [
    "random_fi = pd.DataFrame({'feature': features, 'importance': rmodel.feature_importances_})\n",
    "bayes_fi = pd.DataFrame({'feature': features, 'importance': bmodel.feature_importances_})"
   ]
  },
  {
   "cell_type": "code",
   "execution_count": null,
   "metadata": {
    "_uuid": "ffd07869dc36b4c126f3dd26a79589a618e7add1",
    "collapsed": true
   },
   "outputs": [],
   "source": [
    "def plot_feature_importances(df):\n",
    "    \"\"\"\n",
    "    Plots 15 most important features and returns a sorted feature importance dataframe.\n",
    "    \n",
    "    Parameters\n",
    "    --------\n",
    "    df : dataframe\n",
    "        Dataframe of feature importances. Columns must be feature and importance\n",
    "\n",
    "        \n",
    "    Return\n",
    "    --------\n",
    "    df : dataframe\n",
    "        Dataframe ordered by feature importances with a normalized column (sums to 1)\n",
    "        and a cumulative importance column\n",
    "    \n",
    "    \"\"\"\n",
    "    \n",
    "    plt.rcParams['font.size'] = 18\n",
    "    \n",
    "    # Sort features according to importance\n",
    "    df = df.sort_values('importance', ascending = False).reset_index()\n",
    "    \n",
    "    # Normalize the feature importances to add up to one\n",
    "    df['importance_normalized'] = df['importance'] / df['importance'].sum()\n",
    "    df['cumulative_importance'] = np.cumsum(df['importance_normalized'])\n",
    "\n",
    "    # Make a horizontal bar chart of feature importances\n",
    "    plt.figure(figsize = (10, 6))\n",
    "    ax = plt.subplot()\n",
    "    \n",
    "    # Need to reverse the index to plot most important on top\n",
    "    ax.barh(list(reversed(list(df.index[:15]))), \n",
    "            df['importance_normalized'].head(15), \n",
    "            align = 'center', edgecolor = 'k')\n",
    "    \n",
    "    # Set the yticks and labels\n",
    "    ax.set_yticks(list(reversed(list(df.index[:15]))))\n",
    "    ax.set_yticklabels(df['feature'].head(15))\n",
    "    \n",
    "    # Plot labeling\n",
    "    plt.xlabel('Normalized Importance'); plt.title('Feature Importances')\n",
    "    plt.show()\n",
    "\n",
    "    \n",
    "    return df"
   ]
  },
  {
   "cell_type": "code",
   "execution_count": null,
   "metadata": {
    "_uuid": "a0823ccf9c899389fe4931f91bbfe67b888ea0f9",
    "collapsed": true
   },
   "outputs": [],
   "source": [
    "norm_randomfi = plot_feature_importances(random_fi)\n",
    "norm_randomfi.head(10)"
   ]
  },
  {
   "cell_type": "code",
   "execution_count": null,
   "metadata": {
    "_uuid": "fbe051f361989fd3c33b00247b9d6636823efd4b",
    "collapsed": true
   },
   "outputs": [],
   "source": [
    "norm_bayesfi = plot_feature_importances(bayes_fi)\n",
    "norm_bayesfi.head(10)"
   ]
  },
  {
   "cell_type": "markdown",
   "metadata": {
    "_uuid": "6073e63e72b2d72bcaa7ab88feb462f9e036553a"
   },
   "source": [
    "The feature importances look to be relatively stable across hyperparameter values. This is what I expected, but at the same time, we can see that the _absolute magnitude_ of the importances differs significantly but not the _relative ordering_."
   ]
  },
  {
   "cell_type": "code",
   "execution_count": null,
   "metadata": {
    "_uuid": "a5493c9c73779b31214fc592ce056e39c7ddb969",
    "collapsed": true
   },
   "outputs": [],
   "source": [
    "random.loc[0, 'hyperparameters']"
   ]
  },
  {
   "cell_type": "markdown",
   "metadata": {
    "_uuid": "24aa1207a27cb022b9d41313834ae72602d559e5"
   },
   "source": [
    "# Conclusions\n",
    "\n",
    "Random search narrowly beat out Bayesian optimization in terms of finding the hyperparameter values that resulted in the highest cross validation ROC AUC. That single number does not tell the whole story though as the Bayesian method average ROC AUC was much higher than that of random search. We expect this to be the case because Bayesian optimization should focus on higher scoring values based on the surrogate model of the objective function it constructs. Morevoer, this tells us Bayesian optimization is a valuable technique, but random search can still happen upon better values in fewer search iterations if we are lucky. \n",
    "\n",
    "* Random search slightly outperformed Bayesian optimization in terms of cv ROC AUC \n",
    "* Bayesian optimization average scores were much higher than random search indicating it spends more time evaluating \"better\" hyperparameters\n",
    "* Bayesian scored 0.791 when submitted and random search scored 0.790 indicating that with enough iterations, the methods deliver similar results\n",
    "* Boosting type \"gdbt\" did much better than \"goss\" with \"dart\" nearly as good\n",
    "* A lower learning rate resulted in higher model scores: lower than 0.02 looks to be optimal\n",
    "* `reg_alpha` and `reg_lambda` should complement one another: if one is high (above 0.5), than the other should be lower (below 0.5)\n",
    "* Some subsampling appears to increase the model scores\n",
    "* The other hyperparameters either did not have a significant effect, or their effects are intertwined and hence could not be disentangled in this study\n",
    "\n",
    "Feel free to build upon these results! I'm curious if the best hyperparameters for this dataset will translate to other datasets, either for this problem, or for vastly different data science problems. The best way to find out is to try them! \n",
    "\n",
    "If you're looking for more work on this problem, I have a series of notebooks documenting my work:\n",
    "\n",
    "__Additional Notebooks__ \n",
    "\n",
    "* [A Gentle Introduction](https://www.kaggle.com/willkoehrsen/start-here-a-gentle-introduction)\n",
    "* [Manual Feature Engineering Part One](https://www.kaggle.com/willkoehrsen/introduction-to-manual-feature-engineering)\n",
    "* [Manual Feature Engineering Part Two](https://www.kaggle.com/willkoehrsen/introduction-to-manual-feature-engineering-p2)\n",
    "* [Introduction to Automated Feature Engineering](https://www.kaggle.com/willkoehrsen/automated-feature-engineering-basics)\n",
    "* [Advanced Automated Feature Engineering](https://www.kaggle.com/willkoehrsen/tuning-automated-feature-engineering-exploratory)\n",
    "* [Feature Selection](https://www.kaggle.com/willkoehrsen/introduction-to-feature-selection)\n",
    "* [Intro to Model Tuning: Grid and Random Search](https://www.kaggle.com/willkoehrsen/intro-to-model-tuning-grid-and-random-search)\n",
    "* [Automated Model Tuning](https://www.kaggle.com/willkoehrsen/automated-model-tuning)\n",
    "\n",
    "Thanks for reading and feel free to share any constructive criticism or feedback. \n",
    "\n",
    "Best,\n",
    "\n",
    "Will"
   ]
  },
  {
   "cell_type": "code",
   "execution_count": null,
   "metadata": {
    "_uuid": "29fe0993321bf8ae436d461ce25a25db8bd9fe6d",
    "collapsed": true
   },
   "outputs": [],
   "source": []
  }
 ],
 "metadata": {
  "kernelspec": {
   "display_name": "Python 3",
   "language": "python",
   "name": "python3"
  },
  "language_info": {
   "codemirror_mode": {
    "name": "ipython",
    "version": 3
   },
   "file_extension": ".py",
   "mimetype": "text/x-python",
   "name": "python",
   "nbconvert_exporter": "python",
   "pygments_lexer": "ipython3",
   "version": "3.6.6"
  }
 },
 "nbformat": 4,
 "nbformat_minor": 1
}
