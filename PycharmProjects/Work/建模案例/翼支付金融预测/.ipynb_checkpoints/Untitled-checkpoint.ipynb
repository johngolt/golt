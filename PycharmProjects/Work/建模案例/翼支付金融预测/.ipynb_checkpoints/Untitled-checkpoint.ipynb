{
 "cells": [
  {
   "cell_type": "code",
   "execution_count": 3,
   "metadata": {
    "ExecuteTime": {
     "end_time": "2020-07-27T07:18:37.262872Z",
     "start_time": "2020-07-27T07:18:36.104887Z"
    }
   },
   "outputs": [],
   "source": [
    "import pandas as pd\n",
    "import numpy as np\n",
    "import os\n",
    "os.chdir('D:/DataSet/yizhifu')"
   ]
  },
  {
   "cell_type": "code",
   "execution_count": 5,
   "metadata": {
    "ExecuteTime": {
     "end_time": "2020-07-27T07:19:13.091107Z",
     "start_time": "2020-07-27T07:19:12.782650Z"
    }
   },
   "outputs": [],
   "source": [
    "df = pd.read_csv('./train/train_base.csv')"
   ]
  },
  {
   "cell_type": "code",
   "execution_count": 8,
   "metadata": {
    "ExecuteTime": {
     "end_time": "2020-07-27T07:20:17.147569Z",
     "start_time": "2020-07-27T07:20:17.111605Z"
    }
   },
   "outputs": [],
   "source": [
    "label = pd.read_csv('./train/train_label.csv')"
   ]
  },
  {
   "cell_type": "code",
   "execution_count": 11,
   "metadata": {
    "ExecuteTime": {
     "end_time": "2020-07-27T07:20:57.907888Z",
     "start_time": "2020-07-27T07:20:57.741084Z"
    }
   },
   "outputs": [],
   "source": [
    "data = pd.merge(df, label, left_on='user', right_on='user')"
   ]
  },
  {
   "cell_type": "code",
   "execution_count": 17,
   "metadata": {
    "ExecuteTime": {
     "end_time": "2020-07-27T07:21:42.354746Z",
     "start_time": "2020-07-27T07:21:42.345768Z"
    }
   },
   "outputs": [
    {
     "data": {
      "text/plain": [
       "0    36002\n",
       "1    11780\n",
       "Name: label, dtype: int64"
      ]
     },
     "execution_count": 17,
     "metadata": {},
     "output_type": "execute_result"
    }
   ],
   "source": [
    "label['label'].value_counts()"
   ]
  },
  {
   "cell_type": "code",
   "execution_count": 20,
   "metadata": {
    "ExecuteTime": {
     "end_time": "2020-07-27T07:24:52.936900Z",
     "start_time": "2020-07-27T07:24:52.737434Z"
    }
   },
   "outputs": [
    {
     "data": {
      "text/plain": [
       "user                 47782\n",
       "sex                      2\n",
       "age                     48\n",
       "provider                 3\n",
       "level                    3\n",
       "verified                 2\n",
       "using_time              54\n",
       "regist_type              8\n",
       "card_a_cnt              18\n",
       "card_b_cnt              11\n",
       "card_c_cnt              15\n",
       "agreement1               2\n",
       "op1_cnt                 31\n",
       "op2_cnt                 17\n",
       "card_d_cnt               4\n",
       "agreement_total         21\n",
       "service1_cnt             7\n",
       "service1_amt            58\n",
       "service2_cnt             6\n",
       "agreement2               2\n",
       "agreement3               2\n",
       "agreement4               2\n",
       "acc_count               66\n",
       "login_cnt_period1     2692\n",
       "login_cnt_period2     1566\n",
       "ip_cnt                 193\n",
       "login_cnt_avg           76\n",
       "login_days_cnt          91\n",
       "province                31\n",
       "city                   361\n",
       "balance                 20\n",
       "balance_avg             21\n",
       "balance1                21\n",
       "balance1_avg            21\n",
       "balance2                20\n",
       "balance2_avg             5\n",
       "service3                 2\n",
       "service3_level           4\n",
       "product1_amount          7\n",
       "product2_amount         21\n",
       "product3_amount          3\n",
       "product4_amount          2\n",
       "product5_amount          2\n",
       "product6_amount         21\n",
       "product7_cnt            18\n",
       "product7_fail_cnt       17\n",
       "dtype: int64"
      ]
     },
     "execution_count": 20,
     "metadata": {},
     "output_type": "execute_result"
    }
   ],
   "source": [
    "df.nunique()"
   ]
  },
  {
   "cell_type": "code",
   "execution_count": 61,
   "metadata": {
    "ExecuteTime": {
     "end_time": "2020-07-27T07:54:43.259441Z",
     "start_time": "2020-07-27T07:54:43.228523Z"
    }
   },
   "outputs": [
    {
     "data": {
      "text/html": [
       "<div>\n",
       "<style scoped>\n",
       "    .dataframe tbody tr th:only-of-type {\n",
       "        vertical-align: middle;\n",
       "    }\n",
       "\n",
       "    .dataframe tbody tr th {\n",
       "        vertical-align: top;\n",
       "    }\n",
       "\n",
       "    .dataframe thead th {\n",
       "        text-align: right;\n",
       "    }\n",
       "</style>\n",
       "<table border=\"1\" class=\"dataframe\">\n",
       "  <thead>\n",
       "    <tr style=\"text-align: right;\">\n",
       "      <th>label</th>\n",
       "      <th>0</th>\n",
       "      <th>1</th>\n",
       "    </tr>\n",
       "    <tr>\n",
       "      <th>product4_amount</th>\n",
       "      <th></th>\n",
       "      <th></th>\n",
       "    </tr>\n",
       "  </thead>\n",
       "  <tbody>\n",
       "    <tr>\n",
       "      <th>level 0</th>\n",
       "      <td>0.750741</td>\n",
       "      <td>0.249259</td>\n",
       "    </tr>\n",
       "    <tr>\n",
       "      <th>level 1</th>\n",
       "      <td>0.998099</td>\n",
       "      <td>0.001901</td>\n",
       "    </tr>\n",
       "  </tbody>\n",
       "</table>\n",
       "</div>"
      ],
      "text/plain": [
       "label                   0         1\n",
       "product4_amount                    \n",
       "level 0          0.750741  0.249259\n",
       "level 1          0.998099  0.001901"
      ]
     },
     "execution_count": 61,
     "metadata": {},
     "output_type": "execute_result"
    }
   ],
   "source": [
    "pd.crosstab(data['product4_amount'],data['label'],normalize='index')"
   ]
  },
  {
   "cell_type": "code",
   "execution_count": 31,
   "metadata": {
    "ExecuteTime": {
     "end_time": "2020-07-27T07:35:08.821277Z",
     "start_time": "2020-07-27T07:35:08.813263Z"
    }
   },
   "outputs": [
    {
     "data": {
      "text/plain": [
       "0    0.753464\n",
       "1    0.246536\n",
       "Name: label, dtype: float64"
      ]
     },
     "execution_count": 31,
     "metadata": {},
     "output_type": "execute_result"
    }
   ],
   "source": [
    "data['label'].value_counts(normalize=True)"
   ]
  },
  {
   "cell_type": "code",
   "execution_count": 32,
   "metadata": {
    "ExecuteTime": {
     "end_time": "2020-07-27T07:35:28.314063Z",
     "start_time": "2020-07-27T07:35:28.297112Z"
    }
   },
   "outputs": [
    {
     "data": {
      "text/plain": [
       "category 0    46218\n",
       "category 1     1564\n",
       "Name: verified, dtype: int64"
      ]
     },
     "execution_count": 32,
     "metadata": {},
     "output_type": "execute_result"
    }
   ],
   "source": [
    "data['verified'].value_counts()"
   ]
  },
  {
   "cell_type": "code",
   "execution_count": 33,
   "metadata": {
    "ExecuteTime": {
     "end_time": "2020-07-27T07:37:12.263789Z",
     "start_time": "2020-07-27T07:37:12.207725Z"
    }
   },
   "outputs": [],
   "source": [
    "cate = data.select_dtypes(include='object')"
   ]
  },
  {
   "cell_type": "code",
   "execution_count": 34,
   "metadata": {
    "ExecuteTime": {
     "end_time": "2020-07-27T07:37:15.150105Z",
     "start_time": "2020-07-27T07:37:15.144121Z"
    }
   },
   "outputs": [
    {
     "data": {
      "text/plain": [
       "(47782, 26)"
      ]
     },
     "execution_count": 34,
     "metadata": {},
     "output_type": "execute_result"
    }
   ],
   "source": [
    "cate.shape"
   ]
  },
  {
   "cell_type": "code",
   "execution_count": 39,
   "metadata": {
    "ExecuteTime": {
     "end_time": "2020-07-27T07:40:34.208895Z",
     "start_time": "2020-07-27T07:40:34.198958Z"
    }
   },
   "outputs": [],
   "source": [
    "city = cate['city'].value_counts()"
   ]
  },
  {
   "cell_type": "code",
   "execution_count": 65,
   "metadata": {
    "ExecuteTime": {
     "end_time": "2020-07-27T07:57:02.791496Z",
     "start_time": "2020-07-27T07:56:59.470106Z"
    }
   },
   "outputs": [],
   "source": [
    "cate1 = cate.copy()\n",
    "for column in cate.columns:\n",
    "    cate1[column] = cate[column].str.split(' ').str[1]"
   ]
  },
  {
   "cell_type": "code",
   "execution_count": 44,
   "metadata": {
    "ExecuteTime": {
     "end_time": "2020-07-27T07:42:11.840102Z",
     "start_time": "2020-07-27T07:42:11.824108Z"
    }
   },
   "outputs": [],
   "source": [
    "num = data.select_dtypes(exclude='object')"
   ]
  },
  {
   "cell_type": "code",
   "execution_count": 71,
   "metadata": {
    "ExecuteTime": {
     "end_time": "2020-07-27T07:58:42.238779Z",
     "start_time": "2020-07-27T07:58:42.232795Z"
    }
   },
   "outputs": [
    {
     "data": {
      "text/plain": [
       "Index(['user', 'sex', 'provider', 'level', 'verified', 'regist_type',\n",
       "       'agreement1', 'agreement2', 'agreement3', 'agreement4', 'province',\n",
       "       'city', 'balance', 'balance_avg', 'balance1', 'balance1_avg',\n",
       "       'balance2', 'balance2_avg', 'service3', 'service3_level',\n",
       "       'product1_amount', 'product2_amount', 'product3_amount',\n",
       "       'product4_amount', 'product5_amount', 'product6_amount'],\n",
       "      dtype='object')"
      ]
     },
     "execution_count": 71,
     "metadata": {},
     "output_type": "execute_result"
    }
   ],
   "source": [
    "cate1.columns\n",
    "NO_USE_COLUMNS = ['user', 'province', 'city', ]"
   ]
  },
  {
   "cell_type": "code",
   "execution_count": 72,
   "metadata": {
    "ExecuteTime": {
     "end_time": "2020-07-27T07:59:31.245877Z",
     "start_time": "2020-07-27T07:59:31.231914Z"
    }
   },
   "outputs": [
    {
     "data": {
      "text/html": [
       "<div>\n",
       "<style scoped>\n",
       "    .dataframe tbody tr th:only-of-type {\n",
       "        vertical-align: middle;\n",
       "    }\n",
       "\n",
       "    .dataframe tbody tr th {\n",
       "        vertical-align: top;\n",
       "    }\n",
       "\n",
       "    .dataframe thead th {\n",
       "        text-align: right;\n",
       "    }\n",
       "</style>\n",
       "<table border=\"1\" class=\"dataframe\">\n",
       "  <thead>\n",
       "    <tr style=\"text-align: right;\">\n",
       "      <th></th>\n",
       "      <th>province</th>\n",
       "      <th>city</th>\n",
       "      <th>balance</th>\n",
       "      <th>balance_avg</th>\n",
       "      <th>balance1</th>\n",
       "      <th>balance1_avg</th>\n",
       "      <th>balance2</th>\n",
       "      <th>balance2_avg</th>\n",
       "      <th>service3</th>\n",
       "      <th>service3_level</th>\n",
       "    </tr>\n",
       "  </thead>\n",
       "  <tbody>\n",
       "    <tr>\n",
       "      <th>0</th>\n",
       "      <td>f44d49ef80e942ff</td>\n",
       "      <td>8f1271ab75b3e2d8</td>\n",
       "      <td>level 1</td>\n",
       "      <td>level 1</td>\n",
       "      <td>level 1</td>\n",
       "      <td>level 1</td>\n",
       "      <td>level 1</td>\n",
       "      <td>level 1</td>\n",
       "      <td>category 0</td>\n",
       "      <td>NaN</td>\n",
       "    </tr>\n",
       "    <tr>\n",
       "      <th>1</th>\n",
       "      <td>c333319f1964450d</td>\n",
       "      <td>ca5d57322c1e6545</td>\n",
       "      <td>level 19</td>\n",
       "      <td>level 19</td>\n",
       "      <td>level 1</td>\n",
       "      <td>level 1</td>\n",
       "      <td>level 20</td>\n",
       "      <td>level 5</td>\n",
       "      <td>category 0</td>\n",
       "      <td>NaN</td>\n",
       "    </tr>\n",
       "    <tr>\n",
       "      <th>2</th>\n",
       "      <td>21c43413032d5522</td>\n",
       "      <td>fdb6d47398f44c67</td>\n",
       "      <td>level 7</td>\n",
       "      <td>level 5</td>\n",
       "      <td>level 14</td>\n",
       "      <td>level 11</td>\n",
       "      <td>level 1</td>\n",
       "      <td>level 5</td>\n",
       "      <td>category 0</td>\n",
       "      <td>NaN</td>\n",
       "    </tr>\n",
       "    <tr>\n",
       "      <th>3</th>\n",
       "      <td>7fb40ca1dc4972a0</td>\n",
       "      <td>f3aa133c653a4cf9</td>\n",
       "      <td>level 11</td>\n",
       "      <td>level 7</td>\n",
       "      <td>level 1</td>\n",
       "      <td>level 1</td>\n",
       "      <td>level 12</td>\n",
       "      <td>level 4</td>\n",
       "      <td>category 0</td>\n",
       "      <td>NaN</td>\n",
       "    </tr>\n",
       "    <tr>\n",
       "      <th>4</th>\n",
       "      <td>71c3649e6dfc18fe</td>\n",
       "      <td>c65608b2298e1ead</td>\n",
       "      <td>level 8</td>\n",
       "      <td>level 9</td>\n",
       "      <td>level 1</td>\n",
       "      <td>level 1</td>\n",
       "      <td>level 9</td>\n",
       "      <td>level 5</td>\n",
       "      <td>category 0</td>\n",
       "      <td>NaN</td>\n",
       "    </tr>\n",
       "    <tr>\n",
       "      <th>5</th>\n",
       "      <td>6dd7071b6edc22d2</td>\n",
       "      <td>0dee749b6cd70448</td>\n",
       "      <td>level 1</td>\n",
       "      <td>level 1</td>\n",
       "      <td>level 1</td>\n",
       "      <td>level 1</td>\n",
       "      <td>level 1</td>\n",
       "      <td>level 1</td>\n",
       "      <td>category 0</td>\n",
       "      <td>NaN</td>\n",
       "    </tr>\n",
       "    <tr>\n",
       "      <th>6</th>\n",
       "      <td>4537ea65a48e5fc2</td>\n",
       "      <td>65d88eabca6a6cc6</td>\n",
       "      <td>level 9</td>\n",
       "      <td>level 5</td>\n",
       "      <td>level 1</td>\n",
       "      <td>level 1</td>\n",
       "      <td>level 10</td>\n",
       "      <td>level 3</td>\n",
       "      <td>category 0</td>\n",
       "      <td>NaN</td>\n",
       "    </tr>\n",
       "    <tr>\n",
       "      <th>7</th>\n",
       "      <td>c3e48f852a0da7b6</td>\n",
       "      <td>1b25064aa7fe4945</td>\n",
       "      <td>level 11</td>\n",
       "      <td>level 8</td>\n",
       "      <td>level 4</td>\n",
       "      <td>level 4</td>\n",
       "      <td>level 10</td>\n",
       "      <td>level 4</td>\n",
       "      <td>category 0</td>\n",
       "      <td>NaN</td>\n",
       "    </tr>\n",
       "    <tr>\n",
       "      <th>8</th>\n",
       "      <td>c3e48f852a0da7b6</td>\n",
       "      <td>44d4af9f29714503</td>\n",
       "      <td>level 14</td>\n",
       "      <td>level 14</td>\n",
       "      <td>level 1</td>\n",
       "      <td>level 1</td>\n",
       "      <td>level 16</td>\n",
       "      <td>level 5</td>\n",
       "      <td>category 0</td>\n",
       "      <td>NaN</td>\n",
       "    </tr>\n",
       "    <tr>\n",
       "      <th>9</th>\n",
       "      <td>6dd7071b6edc22d2</td>\n",
       "      <td>998bea7dacc1ac2e</td>\n",
       "      <td>level 1</td>\n",
       "      <td>level 1</td>\n",
       "      <td>level 1</td>\n",
       "      <td>level 1</td>\n",
       "      <td>level 1</td>\n",
       "      <td>level 1</td>\n",
       "      <td>category 0</td>\n",
       "      <td>NaN</td>\n",
       "    </tr>\n",
       "  </tbody>\n",
       "</table>\n",
       "</div>"
      ],
      "text/plain": [
       "           province              city   balance balance_avg  balance1  \\\n",
       "0  f44d49ef80e942ff  8f1271ab75b3e2d8   level 1     level 1   level 1   \n",
       "1  c333319f1964450d  ca5d57322c1e6545  level 19    level 19   level 1   \n",
       "2  21c43413032d5522  fdb6d47398f44c67   level 7     level 5  level 14   \n",
       "3  7fb40ca1dc4972a0  f3aa133c653a4cf9  level 11     level 7   level 1   \n",
       "4  71c3649e6dfc18fe  c65608b2298e1ead   level 8     level 9   level 1   \n",
       "5  6dd7071b6edc22d2  0dee749b6cd70448   level 1     level 1   level 1   \n",
       "6  4537ea65a48e5fc2  65d88eabca6a6cc6   level 9     level 5   level 1   \n",
       "7  c3e48f852a0da7b6  1b25064aa7fe4945  level 11     level 8   level 4   \n",
       "8  c3e48f852a0da7b6  44d4af9f29714503  level 14    level 14   level 1   \n",
       "9  6dd7071b6edc22d2  998bea7dacc1ac2e   level 1     level 1   level 1   \n",
       "\n",
       "  balance1_avg  balance2 balance2_avg    service3 service3_level  \n",
       "0      level 1   level 1      level 1  category 0            NaN  \n",
       "1      level 1  level 20      level 5  category 0            NaN  \n",
       "2     level 11   level 1      level 5  category 0            NaN  \n",
       "3      level 1  level 12      level 4  category 0            NaN  \n",
       "4      level 1   level 9      level 5  category 0            NaN  \n",
       "5      level 1   level 1      level 1  category 0            NaN  \n",
       "6      level 1  level 10      level 3  category 0            NaN  \n",
       "7      level 4  level 10      level 4  category 0            NaN  \n",
       "8      level 1  level 16      level 5  category 0            NaN  \n",
       "9      level 1   level 1      level 1  category 0            NaN  "
      ]
     },
     "execution_count": 72,
     "metadata": {},
     "output_type": "execute_result"
    }
   ],
   "source": [
    "cate.iloc[:10,10:20]"
   ]
  },
  {
   "cell_type": "code",
   "execution_count": 52,
   "metadata": {
    "ExecuteTime": {
     "end_time": "2020-07-27T07:44:26.621459Z",
     "start_time": "2020-07-27T07:44:26.598559Z"
    }
   },
   "outputs": [
    {
     "data": {
      "text/plain": [
       "age                    48\n",
       "using_time             54\n",
       "card_a_cnt             18\n",
       "card_b_cnt             11\n",
       "card_c_cnt             15\n",
       "op1_cnt                31\n",
       "op2_cnt                17\n",
       "card_d_cnt              4\n",
       "agreement_total        21\n",
       "service1_cnt            7\n",
       "service1_amt           58\n",
       "service2_cnt            6\n",
       "acc_count              66\n",
       "login_cnt_period1    2692\n",
       "login_cnt_period2    1566\n",
       "ip_cnt                193\n",
       "login_cnt_avg          76\n",
       "login_days_cnt         91\n",
       "product7_cnt           18\n",
       "product7_fail_cnt      17\n",
       "label                   2\n",
       "dtype: int64"
      ]
     },
     "execution_count": 52,
     "metadata": {},
     "output_type": "execute_result"
    }
   ],
   "source": [
    "num.nunique()"
   ]
  },
  {
   "cell_type": "code",
   "execution_count": null,
   "metadata": {},
   "outputs": [],
   "source": []
  }
 ],
 "metadata": {
  "kernelspec": {
   "display_name": "Python 3",
   "language": "python",
   "name": "python3"
  },
  "language_info": {
   "codemirror_mode": {
    "name": "ipython",
    "version": 3
   },
   "file_extension": ".py",
   "mimetype": "text/x-python",
   "name": "python",
   "nbconvert_exporter": "python",
   "pygments_lexer": "ipython3",
   "version": "3.7.5"
  },
  "toc": {
   "base_numbering": 1,
   "nav_menu": {},
   "number_sections": true,
   "sideBar": true,
   "skip_h1_title": false,
   "title_cell": "Table of Contents",
   "title_sidebar": "Contents",
   "toc_cell": false,
   "toc_position": {},
   "toc_section_display": true,
   "toc_window_display": false
  },
  "varInspector": {
   "cols": {
    "lenName": 16,
    "lenType": 16,
    "lenVar": 40
   },
   "kernels_config": {
    "python": {
     "delete_cmd_postfix": "",
     "delete_cmd_prefix": "del ",
     "library": "var_list.py",
     "varRefreshCmd": "print(var_dic_list())"
    },
    "r": {
     "delete_cmd_postfix": ") ",
     "delete_cmd_prefix": "rm(",
     "library": "var_list.r",
     "varRefreshCmd": "cat(var_dic_list()) "
    }
   },
   "types_to_exclude": [
    "module",
    "function",
    "builtin_function_or_method",
    "instance",
    "_Feature"
   ],
   "window_display": false
  }
 },
 "nbformat": 4,
 "nbformat_minor": 2
}
