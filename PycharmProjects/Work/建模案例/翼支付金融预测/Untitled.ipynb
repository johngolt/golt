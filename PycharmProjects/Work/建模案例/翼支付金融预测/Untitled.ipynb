{
 "cells": [
  {
   "cell_type": "code",
   "execution_count": 1,
   "metadata": {
    "ExecuteTime": {
     "end_time": "2020-08-03T06:41:05.977296Z",
     "start_time": "2020-08-03T06:41:05.577091Z"
    }
   },
   "outputs": [],
   "source": [
    "import pandas as pd\n",
    "import numpy as np\n",
    "import os\n",
    "os.chdir('D:/DataSet/翼支付')"
   ]
  },
  {
   "cell_type": "markdown",
   "metadata": {},
   "source": [
    "- sex 需要填补缺失值\n",
    "- age 暂不处理\n",
    "- provider one-hot编码\n",
    "- level 暂不处理\n",
    "- verified 不处理\n",
    "- using_time 不处理\n",
    "- regist_type one-hot\n",
    "- card_a/b/c/d_cnt 暂不处理\n",
    "- op1/2_cnt 暂不处理\n",
    "- service1/2_cnt 暂不处理\n",
    "- service2_amt 暂不处理\n",
    "- agreement_total 暂不处理\n",
    "- agreement1/2/3/4 不处理\n",
    "- acc_count 暂不处理\n",
    "- login_cnt_period1/2 暂不处理\n",
    "- ip_cnt 暂不处理\n",
    "- login_cnt_avg 暂不处理\n",
    "- login_days_cnt 暂不处理\n",
    "- province 编码\n",
    "- city 暂时删除\n",
    "- balance/1/2/balance/1/2_avg 暂不处理\n",
    "- service3  是否服务3用户\n",
    "- service3_level  服务3等级, 没有开通服务3的没有service3_level数据\n",
    "- product1/2/3/4/5/6_amount 不处理\n",
    "- product7_cnt 不处理\n",
    "- product7_fail_cnt 不处理"
   ]
  },
  {
   "cell_type": "code",
   "execution_count": 22,
   "metadata": {
    "ExecuteTime": {
     "end_time": "2020-08-03T07:12:49.465813Z",
     "start_time": "2020-08-03T07:12:49.455876Z"
    }
   },
   "outputs": [
    {
     "data": {
      "text/plain": [
       "array([2., 1., 0.])"
      ]
     },
     "execution_count": 22,
     "metadata": {},
     "output_type": "execute_result"
    }
   ],
   "source": [
    "data['level'].unique()"
   ]
  },
  {
   "cell_type": "code",
   "execution_count": 27,
   "metadata": {
    "ExecuteTime": {
     "end_time": "2020-08-03T07:24:07.172074Z",
     "start_time": "2020-08-03T07:24:07.160066Z"
    }
   },
   "outputs": [
    {
     "data": {
      "text/plain": [
       "service3_level\n",
       "False    0.040173\n",
       "True     0.265046\n",
       "Name: label, dtype: float64"
      ]
     },
     "execution_count": 27,
     "metadata": {},
     "output_type": "execute_result"
    }
   ],
   "source": [
    "data.groupby(data['service3_level'].isnull())['label'].mean()"
   ]
  },
  {
   "cell_type": "code",
   "execution_count": 28,
   "metadata": {
    "ExecuteTime": {
     "end_time": "2020-08-03T07:24:35.277937Z",
     "start_time": "2020-08-03T07:24:35.264971Z"
    }
   },
   "outputs": [
    {
     "data": {
      "text/plain": [
       "True     43849\n",
       "False     3933\n",
       "Name: service3_level, dtype: int64"
      ]
     },
     "execution_count": 28,
     "metadata": {},
     "output_type": "execute_result"
    }
   ],
   "source": [
    "data['service3_level'].isnull().value_counts()"
   ]
  },
  {
   "cell_type": "code",
   "execution_count": 29,
   "metadata": {
    "ExecuteTime": {
     "end_time": "2020-08-03T07:25:21.426825Z",
     "start_time": "2020-08-03T07:25:21.415889Z"
    }
   },
   "outputs": [
    {
     "data": {
      "text/plain": [
       "True     23080\n",
       "False     1235\n",
       "Name: service3_level, dtype: int64"
      ]
     },
     "execution_count": 29,
     "metadata": {},
     "output_type": "execute_result"
    }
   ],
   "source": [
    "testdata['service3_level'].isnull().value_counts()"
   ]
  },
  {
   "cell_type": "code",
   "execution_count": 32,
   "metadata": {
    "ExecuteTime": {
     "end_time": "2020-08-03T07:26:55.125692Z",
     "start_time": "2020-08-03T07:26:55.118675Z"
    }
   },
   "outputs": [
    {
     "data": {
      "text/plain": [
       "0.0    43849\n",
       "1.0     3933\n",
       "Name: service3, dtype: int64"
      ]
     },
     "execution_count": 32,
     "metadata": {},
     "output_type": "execute_result"
    }
   ],
   "source": [
    "data['service3'].value_counts()"
   ]
  },
  {
   "cell_type": "code",
   "execution_count": 33,
   "metadata": {
    "ExecuteTime": {
     "end_time": "2020-08-03T07:27:25.419497Z",
     "start_time": "2020-08-03T07:27:25.408527Z"
    }
   },
   "outputs": [
    {
     "data": {
      "text/plain": [
       "array([nan, 'category 0', 'category 3', 'category 1', 'category 2'],\n",
       "      dtype=object)"
      ]
     },
     "execution_count": 33,
     "metadata": {},
     "output_type": "execute_result"
    }
   ],
   "source": [
    "data['service3_level'].unique()"
   ]
  },
  {
   "cell_type": "code",
   "execution_count": 2,
   "metadata": {
    "ExecuteTime": {
     "end_time": "2020-08-03T06:41:07.207928Z",
     "start_time": "2020-08-03T06:41:06.886533Z"
    }
   },
   "outputs": [],
   "source": [
    "df = pd.read_csv('./train/train_base.csv')"
   ]
  },
  {
   "cell_type": "code",
   "execution_count": 6,
   "metadata": {
    "ExecuteTime": {
     "end_time": "2020-08-03T06:44:07.765286Z",
     "start_time": "2020-08-03T06:44:07.722028Z"
    }
   },
   "outputs": [],
   "source": [
    "label = pd.read_csv('./train/train_label.csv')"
   ]
  },
  {
   "cell_type": "code",
   "execution_count": 7,
   "metadata": {
    "ExecuteTime": {
     "end_time": "2020-08-03T06:44:08.513798Z",
     "start_time": "2020-08-03T06:44:08.334040Z"
    }
   },
   "outputs": [],
   "source": [
    "data = pd.merge(df, label, left_on='user', right_on='user')"
   ]
  },
  {
   "cell_type": "code",
   "execution_count": 8,
   "metadata": {
    "ExecuteTime": {
     "end_time": "2020-08-03T06:44:10.113836Z",
     "start_time": "2020-08-03T06:44:10.103863Z"
    }
   },
   "outputs": [
    {
     "data": {
      "text/plain": [
       "0    36002\n",
       "1    11780\n",
       "Name: label, dtype: int64"
      ]
     },
     "execution_count": 8,
     "metadata": {},
     "output_type": "execute_result"
    }
   ],
   "source": [
    "label['label'].value_counts()"
   ]
  },
  {
   "cell_type": "code",
   "execution_count": null,
   "metadata": {
    "ExecuteTime": {
     "end_time": "2020-08-03T06:42:34.392935Z",
     "start_time": "2020-08-03T06:42:34.357065Z"
    }
   },
   "outputs": [],
   "source": []
  },
  {
   "cell_type": "code",
   "execution_count": 9,
   "metadata": {
    "ExecuteTime": {
     "end_time": "2020-08-03T06:44:24.271636Z",
     "start_time": "2020-08-03T06:44:24.210508Z"
    }
   },
   "outputs": [],
   "source": [
    "cate = data.select_dtypes(include='object')"
   ]
  },
  {
   "cell_type": "code",
   "execution_count": 14,
   "metadata": {
    "ExecuteTime": {
     "end_time": "2020-08-03T06:49:55.855717Z",
     "start_time": "2020-08-03T06:49:53.135635Z"
    }
   },
   "outputs": [],
   "source": [
    "NO_USE_COLUMNS = ['user', 'province', 'city', 'service3_level']\n",
    "columns = cate.columns.difference(set(NO_USE_COLUMNS))\n",
    "for column in columns:\n",
    "    data[column] = cate[column].str.split(' ').str[1]\n",
    "    data[column] = data[column].astype(float)\n",
    "    \n",
    "testdata = pd.read_csv('./test/test_a_base.csv')\n",
    "for column in columns:\n",
    "    testdata[column] = testdata[column].str.split(' ').str[1]\n",
    "    testdata[column] = testdata[column].astype(float)"
   ]
  },
  {
   "cell_type": "code",
   "execution_count": 16,
   "metadata": {
    "ExecuteTime": {
     "end_time": "2020-08-03T07:07:21.317898Z",
     "start_time": "2020-08-03T07:07:21.272766Z"
    }
   },
   "outputs": [],
   "source": [
    "num = data.select_dtypes(exclude='object')"
   ]
  },
  {
   "cell_type": "code",
   "execution_count": 18,
   "metadata": {
    "ExecuteTime": {
     "end_time": "2020-08-03T07:07:56.352244Z",
     "start_time": "2020-08-03T07:07:56.299349Z"
    }
   },
   "outputs": [
    {
     "data": {
      "text/plain": [
       "sex                     2\n",
       "age                    48\n",
       "provider                3\n",
       "level                   3\n",
       "verified                2\n",
       "using_time             54\n",
       "regist_type             8\n",
       "card_a_cnt             18\n",
       "card_b_cnt             11\n",
       "card_c_cnt             15\n",
       "agreement1              2\n",
       "op1_cnt                31\n",
       "op2_cnt                17\n",
       "card_d_cnt              4\n",
       "agreement_total        21\n",
       "service1_cnt            7\n",
       "service1_amt           58\n",
       "service2_cnt            6\n",
       "agreement2              2\n",
       "agreement3              2\n",
       "agreement4              2\n",
       "acc_count              66\n",
       "login_cnt_period1    2692\n",
       "login_cnt_period2    1566\n",
       "ip_cnt                193\n",
       "login_cnt_avg          76\n",
       "login_days_cnt         91\n",
       "balance                20\n",
       "balance_avg            21\n",
       "balance1               21\n",
       "balance1_avg           21\n",
       "balance2               20\n",
       "balance2_avg            5\n",
       "service3                2\n",
       "product1_amount         7\n",
       "product2_amount        21\n",
       "product3_amount         3\n",
       "product4_amount         2\n",
       "product5_amount         2\n",
       "product6_amount        21\n",
       "product7_cnt           18\n",
       "product7_fail_cnt      17\n",
       "label                   2\n",
       "dtype: int64"
      ]
     },
     "execution_count": 18,
     "metadata": {},
     "output_type": "execute_result"
    }
   ],
   "source": [
    "num.nunique()"
   ]
  },
  {
   "cell_type": "code",
   "execution_count": 21,
   "metadata": {
    "ExecuteTime": {
     "end_time": "2020-08-03T07:11:32.816924Z",
     "start_time": "2020-08-03T07:11:32.810974Z"
    }
   },
   "outputs": [
    {
     "data": {
      "text/plain": [
       "array([ 1.,  0., nan])"
      ]
     },
     "execution_count": 21,
     "metadata": {},
     "output_type": "execute_result"
    }
   ],
   "source": [
    "data['sex'].unique()"
   ]
  },
  {
   "cell_type": "code",
   "execution_count": 34,
   "metadata": {
    "ExecuteTime": {
     "end_time": "2020-08-03T07:34:59.780640Z",
     "start_time": "2020-08-03T07:34:59.755683Z"
    }
   },
   "outputs": [],
   "source": [
    "mask = data['service3_level'].isnull()\n",
    "data1 = data.loc[~mask,:]\n",
    "data2 = data.loc[mask,:]"
   ]
  },
  {
   "cell_type": "code",
   "execution_count": 36,
   "metadata": {
    "ExecuteTime": {
     "end_time": "2020-08-03T07:35:22.937769Z",
     "start_time": "2020-08-03T07:35:22.927830Z"
    }
   },
   "outputs": [
    {
     "data": {
      "text/plain": [
       "0    3775\n",
       "1     158\n",
       "Name: label, dtype: int64"
      ]
     },
     "execution_count": 36,
     "metadata": {},
     "output_type": "execute_result"
    }
   ],
   "source": [
    "data1['label'].value_counts()"
   ]
  },
  {
   "cell_type": "code",
   "execution_count": 40,
   "metadata": {
    "ExecuteTime": {
     "end_time": "2020-08-03T07:37:14.714313Z",
     "start_time": "2020-08-03T07:37:14.702345Z"
    }
   },
   "outputs": [
    {
     "data": {
      "text/plain": [
       "service3_level\n",
       "category 0    0.078209\n",
       "category 1    0.012486\n",
       "category 2    0.002381\n",
       "category 3    0.000000\n",
       "Name: label, dtype: float64"
      ]
     },
     "execution_count": 40,
     "metadata": {},
     "output_type": "execute_result"
    }
   ],
   "source": [
    "data1.groupby('service3_level')['label'].mean()"
   ]
  },
  {
   "cell_type": "code",
   "execution_count": 41,
   "metadata": {
    "ExecuteTime": {
     "end_time": "2020-08-03T07:37:35.822207Z",
     "start_time": "2020-08-03T07:37:35.815225Z"
    }
   },
   "outputs": [
    {
     "data": {
      "text/plain": [
       "category 0    1854\n",
       "category 1     881\n",
       "category 2     840\n",
       "category 3     358\n",
       "Name: service3_level, dtype: int64"
      ]
     },
     "execution_count": 41,
     "metadata": {},
     "output_type": "execute_result"
    }
   ],
   "source": [
    "data1['service3_level'].value_counts()"
   ]
  },
  {
   "cell_type": "code",
   "execution_count": 84,
   "metadata": {
    "ExecuteTime": {
     "end_time": "2020-08-05T02:02:12.258109Z",
     "start_time": "2020-08-05T02:02:12.234208Z"
    }
   },
   "outputs": [
    {
     "data": {
      "text/plain": [
       "0.0    43849\n",
       "Name: service3, dtype: int64"
      ]
     },
     "execution_count": 84,
     "metadata": {},
     "output_type": "execute_result"
    }
   ],
   "source": [
    "data2['service3'].value_counts()"
   ]
  },
  {
   "cell_type": "code",
   "execution_count": 85,
   "metadata": {
    "ExecuteTime": {
     "end_time": "2020-08-05T02:04:38.545472Z",
     "start_time": "2020-08-05T02:04:38.496637Z"
    }
   },
   "outputs": [
    {
     "data": {
      "text/plain": [
       "province\n",
       "05b65ab01d19bc64    0.272059\n",
       "07195ac14eb7c124    0.222222\n",
       "1c78bbcfd5d34a7a    0.265161\n",
       "21c43413032d5522    0.238254\n",
       "322eedef621f1b51    0.294979\n",
       "4537ea65a48e5fc2    0.231707\n",
       "4939d22f7c80736c    0.256569\n",
       "494915bbe9c3782f    0.219067\n",
       "58ce8e1e1ae2da04    0.287190\n",
       "5f5c1abc4530f9d9    0.191268\n",
       "648024953e363510    0.242773\n",
       "6b3c8e3d6666ebef    0.254603\n",
       "6c35e7246f6d4e1c    0.298093\n",
       "6d3d7a5255b706f1    0.293669\n",
       "6dd7071b6edc22d2    0.280848\n",
       "6fe245ff773f634d    0.235621\n",
       "71c3649e6dfc18fe    0.322455\n",
       "74c577b6f0e1332c    0.227451\n",
       "7fb40ca1dc4972a0    0.230225\n",
       "89ec545a3e1e73a8    0.204082\n",
       "8f730d6bf0fd60a3    0.327189\n",
       "90c35f1c2384a466    0.396748\n",
       "9441fd3d54d5fb9c    0.244074\n",
       "993a795b56eef075    0.268188\n",
       "a67a84d872135c3c    0.242481\n",
       "c333319f1964450d    0.213220\n",
       "c3e48f852a0da7b6    0.364700\n",
       "e0355ab057d491d9    0.197452\n",
       "e6c2bd43d3384f1d    0.302128\n",
       "f44d49ef80e942ff    0.242271\n",
       "ff6271b886557ee9    0.363636\n",
       "Name: label, dtype: float64"
      ]
     },
     "execution_count": 85,
     "metadata": {},
     "output_type": "execute_result"
    }
   ],
   "source": [
    "data2.groupby('province')['label'].mean()"
   ]
  },
  {
   "cell_type": "code",
   "execution_count": null,
   "metadata": {
    "ExecuteTime": {
     "end_time": "2020-08-05T02:05:08.109847Z",
     "start_time": "2020-08-05T02:05:08.091933Z"
    }
   },
   "outputs": [],
   "source": []
  },
  {
   "cell_type": "code",
   "execution_count": 91,
   "metadata": {
    "ExecuteTime": {
     "end_time": "2020-08-05T02:07:49.256320Z",
     "start_time": "2020-08-05T02:07:49.242853Z"
    }
   },
   "outputs": [],
   "source": [
    "index = data2['city'].value_counts()[:50].index"
   ]
  },
  {
   "cell_type": "code",
   "execution_count": 92,
   "metadata": {
    "ExecuteTime": {
     "end_time": "2020-08-05T02:09:26.915766Z",
     "start_time": "2020-08-05T02:09:26.881824Z"
    }
   },
   "outputs": [],
   "source": [
    "city = data2.loc[data2['city'].isin(index),:]"
   ]
  },
  {
   "cell_type": "code",
   "execution_count": 113,
   "metadata": {
    "ExecuteTime": {
     "end_time": "2020-08-05T02:46:02.165943Z",
     "start_time": "2020-08-05T02:46:02.144036Z"
    }
   },
   "outputs": [
    {
     "data": {
      "text/plain": [
       "agreement2  agreement3  agreement4\n",
       "0.0         0.0         0.0           0.335204\n",
       "                        1.0           0.316652\n",
       "            1.0         0.0           0.208180\n",
       "                        1.0           0.178846\n",
       "1.0         0.0         0.0           0.275070\n",
       "                        1.0           0.199284\n",
       "            1.0         0.0           0.184428\n",
       "                        1.0           0.115037\n",
       "Name: label, dtype: float64"
      ]
     },
     "execution_count": 113,
     "metadata": {},
     "output_type": "execute_result"
    }
   ],
   "source": [
    "data2.groupby(['agreement2','agreement3','agreement4'])['label'].mean()"
   ]
  },
  {
   "cell_type": "code",
   "execution_count": 116,
   "metadata": {
    "ExecuteTime": {
     "end_time": "2020-08-05T02:48:45.008615Z",
     "start_time": "2020-08-05T02:48:44.989700Z"
    }
   },
   "outputs": [
    {
     "data": {
      "text/plain": [
       "6       185\n",
       "12      955\n",
       "19     1046\n",
       "25     3462\n",
       "31     6058\n",
       "37     6939\n",
       "43     6932\n",
       "49     6000\n",
       "55     4604\n",
       "61     3240\n",
       "67     2100\n",
       "74     1177\n",
       "80      632\n",
       "85      307\n",
       "91      137\n",
       "98       43\n",
       "104      25\n",
       "110       5\n",
       "116       1\n",
       "129       1\n",
       "Name: agreement_total, dtype: int64"
      ]
     },
     "execution_count": 116,
     "metadata": {},
     "output_type": "execute_result"
    }
   ],
   "source": [
    "(data2['agreement_total']-24700).value_counts().sort_index()"
   ]
  },
  {
   "cell_type": "code",
   "execution_count": 151,
   "metadata": {
    "ExecuteTime": {
     "end_time": "2020-08-05T03:07:49.044833Z",
     "start_time": "2020-08-05T03:07:49.034157Z"
    }
   },
   "outputs": [
    {
     "data": {
      "text/plain": [
       "0.0    42286\n",
       "1.0     1563\n",
       "Name: verified, dtype: int64"
      ]
     },
     "execution_count": 151,
     "metadata": {},
     "output_type": "execute_result"
    }
   ],
   "source": [
    "data2['verified'].value_counts()\n"
   ]
  },
  {
   "cell_type": "code",
   "execution_count": null,
   "metadata": {},
   "outputs": [],
   "source": [
    "# 剔除product4_amount, product5_amount\n",
    "# producct1/2/3/5_amount分为level1和其他"
   ]
  },
  {
   "cell_type": "code",
   "execution_count": 149,
   "metadata": {
    "ExecuteTime": {
     "end_time": "2020-08-05T03:07:04.221333Z",
     "start_time": "2020-08-05T03:07:04.212576Z"
    }
   },
   "outputs": [
    {
     "data": {
      "text/plain": [
       "0.0    3768\n",
       "1.0     165\n",
       "Name: product5_amount, dtype: int64"
      ]
     },
     "execution_count": 149,
     "metadata": {},
     "output_type": "execute_result"
    }
   ],
   "source": [
    "data1['product5_amount'].value_counts()"
   ]
  },
  {
   "cell_type": "code",
   "execution_count": null,
   "metadata": {
    "ExecuteTime": {
     "end_time": "2020-08-05T02:59:44.002341Z",
     "start_time": "2020-08-05T02:59:43.990860Z"
    }
   },
   "outputs": [],
   "source": [
    "# data1剔除verified"
   ]
  },
  {
   "cell_type": "code",
   "execution_count": null,
   "metadata": {},
   "outputs": [],
   "source": []
  }
 ],
 "metadata": {
  "kernelspec": {
   "display_name": "Python 3",
   "language": "python",
   "name": "python3"
  },
  "language_info": {
   "codemirror_mode": {
    "name": "ipython",
    "version": 3
   },
   "file_extension": ".py",
   "mimetype": "text/x-python",
   "name": "python",
   "nbconvert_exporter": "python",
   "pygments_lexer": "ipython3",
   "version": "3.7.5"
  },
  "toc": {
   "base_numbering": 1,
   "nav_menu": {},
   "number_sections": true,
   "sideBar": true,
   "skip_h1_title": false,
   "title_cell": "Table of Contents",
   "title_sidebar": "Contents",
   "toc_cell": false,
   "toc_position": {},
   "toc_section_display": true,
   "toc_window_display": false
  },
  "varInspector": {
   "cols": {
    "lenName": 16,
    "lenType": 16,
    "lenVar": 40
   },
   "kernels_config": {
    "python": {
     "delete_cmd_postfix": "",
     "delete_cmd_prefix": "del ",
     "library": "var_list.py",
     "varRefreshCmd": "print(var_dic_list())"
    },
    "r": {
     "delete_cmd_postfix": ") ",
     "delete_cmd_prefix": "rm(",
     "library": "var_list.r",
     "varRefreshCmd": "cat(var_dic_list()) "
    }
   },
   "types_to_exclude": [
    "module",
    "function",
    "builtin_function_or_method",
    "instance",
    "_Feature"
   ],
   "window_display": false
  }
 },
 "nbformat": 4,
 "nbformat_minor": 2
}
