{
 "cells": [
  {
   "cell_type": "code",
   "execution_count": 18,
   "metadata": {
    "ExecuteTime": {
     "end_time": "2020-08-24T07:58:58.143799Z",
     "start_time": "2020-08-24T07:58:58.124880Z"
    }
   },
   "outputs": [
    {
     "data": {
      "text/plain": [
       "['AirPassengers.csv',\n",
       " 'ark_events_vd.csv',\n",
       " 'ark_profiles_vd.CSV',\n",
       " 'churn.csv',\n",
       " 'creditcard.csv',\n",
       " 'Data.zip',\n",
       " 'diabetes.csv',\n",
       " 'LoanStats_2016Q2.csv',\n",
       " 'Telco-Customer-Churn.csv',\n",
       " 'ucicredit.csv']"
      ]
     },
     "execution_count": 18,
     "metadata": {},
     "output_type": "execute_result"
    }
   ],
   "source": [
    "import pandas as pd\n",
    "import numpy as np\n",
    "import os\n",
    "os.chdir('D:/DataSet/data')\n",
    "os.listdir()"
   ]
  },
  {
   "cell_type": "code",
   "execution_count": 2,
   "metadata": {
    "ExecuteTime": {
     "end_time": "2020-08-24T01:39:39.703551Z",
     "start_time": "2020-08-24T01:39:39.625525Z"
    }
   },
   "outputs": [],
   "source": [
    "train1 = pd.read_csv('21569_100_20200824091527.csv')\n",
    "train2 = pd.read_csv('21569_100_20200824092210.csv')\n",
    "label = pd.read_csv('./train/train_label.csv')\n",
    "\n",
    "train3 = pd.read_csv('21571_139_20200824092305.csv')\n",
    "train4 = pd.read_csv('21571_139_20200824092422.csv')"
   ]
  },
  {
   "cell_type": "code",
   "execution_count": 3,
   "metadata": {
    "ExecuteTime": {
     "end_time": "2020-08-24T01:39:44.682905Z",
     "start_time": "2020-08-24T01:39:44.666949Z"
    }
   },
   "outputs": [
    {
     "data": {
      "text/html": [
       "<div>\n",
       "<style scoped>\n",
       "    .dataframe tbody tr th:only-of-type {\n",
       "        vertical-align: middle;\n",
       "    }\n",
       "\n",
       "    .dataframe tbody tr th {\n",
       "        vertical-align: top;\n",
       "    }\n",
       "\n",
       "    .dataframe thead th {\n",
       "        text-align: right;\n",
       "    }\n",
       "</style>\n",
       "<table border=\"1\" class=\"dataframe\">\n",
       "  <thead>\n",
       "    <tr style=\"text-align: right;\">\n",
       "      <th></th>\n",
       "      <th>client_id</th>\n",
       "      <th>scores</th>\n",
       "    </tr>\n",
       "  </thead>\n",
       "  <tbody>\n",
       "    <tr>\n",
       "      <th>0</th>\n",
       "      <td>Train_38943</td>\n",
       "      <td>0.939167</td>\n",
       "    </tr>\n",
       "    <tr>\n",
       "      <th>1</th>\n",
       "      <td>Train_38036</td>\n",
       "      <td>0.991600</td>\n",
       "    </tr>\n",
       "    <tr>\n",
       "      <th>2</th>\n",
       "      <td>Train_36828</td>\n",
       "      <td>0.955507</td>\n",
       "    </tr>\n",
       "    <tr>\n",
       "      <th>3</th>\n",
       "      <td>Train_31236</td>\n",
       "      <td>0.968225</td>\n",
       "    </tr>\n",
       "    <tr>\n",
       "      <th>4</th>\n",
       "      <td>Train_10061</td>\n",
       "      <td>0.985373</td>\n",
       "    </tr>\n",
       "  </tbody>\n",
       "</table>\n",
       "</div>"
      ],
      "text/plain": [
       "     client_id    scores\n",
       "0  Train_38943  0.939167\n",
       "1  Train_38036  0.991600\n",
       "2  Train_36828  0.955507\n",
       "3  Train_31236  0.968225\n",
       "4  Train_10061  0.985373"
      ]
     },
     "execution_count": 3,
     "metadata": {},
     "output_type": "execute_result"
    }
   ],
   "source": [
    "train1.head()"
   ]
  },
  {
   "cell_type": "code",
   "execution_count": 7,
   "metadata": {
    "ExecuteTime": {
     "end_time": "2020-08-24T01:40:55.977529Z",
     "start_time": "2020-08-24T01:40:55.969519Z"
    }
   },
   "outputs": [],
   "source": [
    "train = train1.append(train3)\n",
    "test = train2.append(train4)"
   ]
  },
  {
   "cell_type": "code",
   "execution_count": 11,
   "metadata": {
    "ExecuteTime": {
     "end_time": "2020-08-24T01:42:06.328797Z",
     "start_time": "2020-08-24T01:42:06.288908Z"
    }
   },
   "outputs": [],
   "source": [
    "data = pd.merge(train,label,left_on='client_id',right_on='user')"
   ]
  },
  {
   "cell_type": "code",
   "execution_count": 13,
   "metadata": {
    "ExecuteTime": {
     "end_time": "2020-08-24T01:42:46.393910Z",
     "start_time": "2020-08-24T01:42:46.163284Z"
    }
   },
   "outputs": [],
   "source": [
    "data.to_csv('stack.csv',index=False)\n",
    "test.to_csv('stack1.csv',index=False)"
   ]
  },
  {
   "cell_type": "code",
   "execution_count": 15,
   "metadata": {
    "ExecuteTime": {
     "end_time": "2020-08-24T02:04:51.471826Z",
     "start_time": "2020-08-24T02:04:51.449846Z"
    }
   },
   "outputs": [],
   "source": [
    "pred = pd.read_csv('21572_100_20200824100359.csv')"
   ]
  },
  {
   "cell_type": "code",
   "execution_count": 17,
   "metadata": {
    "ExecuteTime": {
     "end_time": "2020-08-24T02:06:28.073281Z",
     "start_time": "2020-08-24T02:06:28.008216Z"
    }
   },
   "outputs": [],
   "source": [
    "pred.columns=['user','prob']\n",
    "pred.to_csv('submit1.csv',index=False)"
   ]
  },
  {
   "cell_type": "code",
   "execution_count": 19,
   "metadata": {
    "ExecuteTime": {
     "end_time": "2020-08-24T07:59:20.560402Z",
     "start_time": "2020-08-24T07:59:16.878978Z"
    }
   },
   "outputs": [
    {
     "name": "stderr",
     "output_type": "stream",
     "text": [
      "d:\\softwares\\python\\lib\\site-packages\\IPython\\core\\interactiveshell.py:3058: DtypeWarning: Columns (0,1,2,3,4,7,13,18,19,24,25,27,28,29,30,31,32,34,36,37,38,39,40,41,42,43,44,46,49,50,51,53,54,56,57,58,59,60,61,62,63,64,65,66,67,68,69,70,71,72,73,74,75,76,77,78,79,80,81,82,83,84,85,86,87,88,89,90,91,92,93,94,95,96,97,98,99,100,101,102,103,104,105,106,107,108,109,110,111,112,113,114,115,116,117,118,119,120,121,126,127,131,132,134,135,136,142,143,144) have mixed types. Specify dtype option on import or set low_memory=False.\n",
      "  interactivity=interactivity, compiler=compiler, result=result)\n"
     ]
    }
   ],
   "source": [
    "loan = pd.read_csv('LoanStats_2016Q2.csv')"
   ]
  },
  {
   "cell_type": "code",
   "execution_count": 23,
   "metadata": {
    "ExecuteTime": {
     "end_time": "2020-08-24T08:00:39.362250Z",
     "start_time": "2020-08-24T08:00:39.357234Z"
    }
   },
   "outputs": [],
   "source": [
    "import csv"
   ]
  },
  {
   "cell_type": "code",
   "execution_count": 30,
   "metadata": {
    "ExecuteTime": {
     "end_time": "2020-08-24T08:03:50.027884Z",
     "start_time": "2020-08-24T08:03:48.850998Z"
    }
   },
   "outputs": [
    {
     "name": "stderr",
     "output_type": "stream",
     "text": [
      "d:\\softwares\\python\\lib\\site-packages\\IPython\\core\\interactiveshell.py:3058: DtypeWarning: Columns (0,19) have mixed types. Specify dtype option on import or set low_memory=False.\n",
      "  interactivity=interactivity, compiler=compiler, result=result)\n"
     ]
    }
   ],
   "source": [
    "loan = pd.read_csv('LoanStats_2016Q2.csv',skiprows=1)"
   ]
  },
  {
   "cell_type": "code",
   "execution_count": 31,
   "metadata": {
    "ExecuteTime": {
     "end_time": "2020-08-24T08:03:58.529433Z",
     "start_time": "2020-08-24T08:03:58.524444Z"
    }
   },
   "outputs": [
    {
     "data": {
      "text/plain": [
       "(97856, 145)"
      ]
     },
     "execution_count": 31,
     "metadata": {},
     "output_type": "execute_result"
    }
   ],
   "source": [
    "loan.shape"
   ]
  },
  {
   "cell_type": "code",
   "execution_count": 33,
   "metadata": {
    "ExecuteTime": {
     "end_time": "2020-08-24T08:06:20.584511Z",
     "start_time": "2020-08-24T08:06:20.572530Z"
    }
   },
   "outputs": [
    {
     "data": {
      "text/plain": [
       "array([nan, 'Total amount funded in policy code 1: 1443412975',\n",
       "       'Total amount funded in policy code 2: 511988838'], dtype=object)"
      ]
     },
     "execution_count": 33,
     "metadata": {},
     "output_type": "execute_result"
    }
   ],
   "source": [
    "loan['id'].unique()"
   ]
  },
  {
   "cell_type": "code",
   "execution_count": 37,
   "metadata": {
    "ExecuteTime": {
     "end_time": "2020-08-24T08:08:57.196281Z",
     "start_time": "2020-08-24T08:08:57.110223Z"
    }
   },
   "outputs": [],
   "source": [
    "loan.drop(['id','member_id'],axis=1,inplace=True)"
   ]
  },
  {
   "cell_type": "code",
   "execution_count": null,
   "metadata": {
    "ExecuteTime": {
     "end_time": "2020-08-24T08:09:32.596215Z",
     "start_time": "2020-08-24T08:09:32.585249Z"
    }
   },
   "outputs": [],
   "source": []
  },
  {
   "cell_type": "code",
   "execution_count": 40,
   "metadata": {
    "ExecuteTime": {
     "end_time": "2020-08-24T08:10:13.444169Z",
     "start_time": "2020-08-24T08:10:13.436161Z"
    }
   },
   "outputs": [
    {
     "data": {
      "text/plain": [
       "97851    NaN\n",
       "97852    NaN\n",
       "97853    NaN\n",
       "97854    NaN\n",
       "97855    NaN\n",
       "Name: desc, dtype: object"
      ]
     },
     "execution_count": 40,
     "metadata": {},
     "output_type": "execute_result"
    }
   ],
   "source": [
    "loan.iloc[:,17].tail()"
   ]
  },
  {
   "cell_type": "code",
   "execution_count": 64,
   "metadata": {
    "ExecuteTime": {
     "end_time": "2020-08-24T08:44:45.100594Z",
     "start_time": "2020-08-24T08:44:44.839042Z"
    }
   },
   "outputs": [],
   "source": [
    "temp = (loan.isnull().sum()/loan.shape[0])"
   ]
  },
  {
   "cell_type": "code",
   "execution_count": 63,
   "metadata": {
    "ExecuteTime": {
     "end_time": "2020-08-24T08:43:40.095170Z",
     "start_time": "2020-08-24T08:43:40.089184Z"
    }
   },
   "outputs": [],
   "source": [
    "with open('one.txt','w') as file:\n",
    "    file.write('、'.join(loan.columns.to_list()))"
   ]
  },
  {
   "cell_type": "code",
   "execution_count": 61,
   "metadata": {
    "ExecuteTime": {
     "end_time": "2020-08-24T08:42:04.459493Z",
     "start_time": "2020-08-24T08:42:04.454507Z"
    },
    "scrolled": true
   },
   "outputs": [
    {
     "data": {
      "text/plain": [
       "143"
      ]
     },
     "execution_count": 61,
     "metadata": {},
     "output_type": "execute_result"
    }
   ],
   "source": [
    "len('、'.join(loan.columns.to_list()).split('、'))"
   ]
  },
  {
   "cell_type": "code",
   "execution_count": 70,
   "metadata": {
    "ExecuteTime": {
     "end_time": "2020-08-24T09:02:33.286006Z",
     "start_time": "2020-08-24T09:02:33.212202Z"
    }
   },
   "outputs": [],
   "source": [
    "head = loan.loc[:,loan.dtypes==object].sample(20)"
   ]
  },
  {
   "cell_type": "code",
   "execution_count": 71,
   "metadata": {
    "ExecuteTime": {
     "end_time": "2020-08-24T09:02:49.025121Z",
     "start_time": "2020-08-24T09:02:49.017111Z"
    }
   },
   "outputs": [],
   "source": [
    "head.to_csv('test.csv',index=False)"
   ]
  },
  {
   "cell_type": "code",
   "execution_count": 75,
   "metadata": {
    "ExecuteTime": {
     "end_time": "2020-08-24T09:10:59.108212Z",
     "start_time": "2020-08-24T09:10:59.105187Z"
    }
   },
   "outputs": [],
   "source": [
    "import datetime"
   ]
  },
  {
   "cell_type": "code",
   "execution_count": 76,
   "metadata": {
    "ExecuteTime": {
     "end_time": "2020-08-24T09:10:59.637186Z",
     "start_time": "2020-08-24T09:10:59.625217Z"
    }
   },
   "outputs": [
    {
     "ename": "AttributeError",
     "evalue": "module 'datetime' has no attribute '__version__'",
     "output_type": "error",
     "traceback": [
      "\u001b[1;31m---------------------------------------------------------------------------\u001b[0m",
      "\u001b[1;31mAttributeError\u001b[0m                            Traceback (most recent call last)",
      "\u001b[1;32m<ipython-input-76-879e173c87f8>\u001b[0m in \u001b[0;36m<module>\u001b[1;34m\u001b[0m\n\u001b[1;32m----> 1\u001b[1;33m \u001b[0mdatetime\u001b[0m\u001b[1;33m.\u001b[0m\u001b[0m__version__\u001b[0m\u001b[1;33m\u001b[0m\u001b[1;33m\u001b[0m\u001b[0m\n\u001b[0m",
      "\u001b[1;31mAttributeError\u001b[0m: module 'datetime' has no attribute '__version__'"
     ]
    }
   ],
   "source": [
    "datetime.__version__"
   ]
  },
  {
   "cell_type": "code",
   "execution_count": null,
   "metadata": {},
   "outputs": [],
   "source": [
    "datetime."
   ]
  }
 ],
 "metadata": {
  "kernelspec": {
   "display_name": "Python 3",
   "language": "python",
   "name": "python3"
  },
  "language_info": {
   "codemirror_mode": {
    "name": "ipython",
    "version": 3
   },
   "file_extension": ".py",
   "mimetype": "text/x-python",
   "name": "python",
   "nbconvert_exporter": "python",
   "pygments_lexer": "ipython3",
   "version": "3.7.5"
  },
  "toc": {
   "base_numbering": 1,
   "nav_menu": {},
   "number_sections": true,
   "sideBar": true,
   "skip_h1_title": false,
   "title_cell": "Table of Contents",
   "title_sidebar": "Contents",
   "toc_cell": false,
   "toc_position": {},
   "toc_section_display": true,
   "toc_window_display": false
  },
  "varInspector": {
   "cols": {
    "lenName": 16,
    "lenType": 16,
    "lenVar": 40
   },
   "kernels_config": {
    "python": {
     "delete_cmd_postfix": "",
     "delete_cmd_prefix": "del ",
     "library": "var_list.py",
     "varRefreshCmd": "print(var_dic_list())"
    },
    "r": {
     "delete_cmd_postfix": ") ",
     "delete_cmd_prefix": "rm(",
     "library": "var_list.r",
     "varRefreshCmd": "cat(var_dic_list()) "
    }
   },
   "types_to_exclude": [
    "module",
    "function",
    "builtin_function_or_method",
    "instance",
    "_Feature"
   ],
   "window_display": false
  }
 },
 "nbformat": 4,
 "nbformat_minor": 2
}
