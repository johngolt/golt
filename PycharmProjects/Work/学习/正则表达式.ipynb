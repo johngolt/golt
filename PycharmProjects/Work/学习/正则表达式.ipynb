{
 "cells": [
  {
   "cell_type": "markdown",
   "metadata": {},
   "source": [
    "- `.` 匹配任意字符  \n",
    "- `^` 匹配字符串始位置 \n",
    "- `$` 匹配字符串中结束的位置 \n",
    "- `*` 前面的原子重复0次1次多次 \n",
    "- `?` 前面的原子重复一次或者0次 \n",
    "- `+` 前面的原子重复一次或多次\n",
    "- `{n}` 前面的原子出现了 n 次\n",
    "- `{n,}` 前面的原子至少出现 n 次\n",
    "- `{n,m}` 前面的原子出现次数介于 n-m 之间\n",
    "- `( )` 分组,需要输出的部分\n",
    "- `\\s`  匹配空白字符 \n",
    "- `\\w`  匹配任意字母/数字/下划线 \n",
    "- `\\W`  和小写 w 相反，匹配任意字母/数字/下划线以外的字符\n",
    "- `\\d`  匹配十进制数字\n",
    "- `\\D`  匹配除了十进制数以外的值 \n",
    "- `[0-9]`  匹配一个0-9之间的数字\n",
    "- `[a-z]`  匹配小写英文字母\n",
    "- `[A-Z]`  匹配大写英文字母"
   ]
  },
  {
   "cell_type": "code",
   "execution_count": 1,
   "metadata": {
    "ExecuteTime": {
     "end_time": "2020-01-03T01:20:14.483988Z",
     "start_time": "2020-01-03T01:20:14.471983Z"
    }
   },
   "outputs": [
    {
     "data": {
      "text/plain": [
       "re.Match"
      ]
     },
     "execution_count": 1,
     "metadata": {},
     "output_type": "execute_result"
    }
   ],
   "source": [
    "import re\n",
    "s = 'i love python very much'\n",
    "pat = 'python' \n",
    "r = re.search(pat,s)\n",
    "type(r)"
   ]
  },
  {
   "cell_type": "code",
   "execution_count": 4,
   "metadata": {
    "ExecuteTime": {
     "end_time": "2020-01-03T01:21:09.381306Z",
     "start_time": "2020-01-03T01:21:09.365674Z"
    }
   },
   "outputs": [],
   "source": [
    "s = '山东省潍坊市青州第1中学高三1班'\n",
    "pat = '1'\n",
    "r = re.finditer(pat,s)"
   ]
  },
  {
   "cell_type": "code",
   "execution_count": 5,
   "metadata": {
    "ExecuteTime": {
     "end_time": "2020-01-03T01:21:22.832973Z",
     "start_time": "2020-01-03T01:21:22.828953Z"
    }
   },
   "outputs": [
    {
     "data": {
      "text/plain": [
       "['20', '13', '59']"
      ]
     },
     "execution_count": 5,
     "metadata": {},
     "output_type": "execute_result"
    }
   ],
   "source": [
    "s = '一共20行代码运行时间13.59s'\n",
    "pat = r'\\d+' # +表示匹配数字(\\d表示数字的通用字符)1次或多次\n",
    "r = re.findall(pat,s)\n",
    "r"
   ]
  },
  {
   "cell_type": "code",
   "execution_count": 7,
   "metadata": {
    "ExecuteTime": {
     "end_time": "2020-01-03T01:21:42.863173Z",
     "start_time": "2020-01-03T01:21:42.859150Z"
    }
   },
   "outputs": [
    {
     "data": {
      "text/plain": [
       "['20', '13.59']"
      ]
     },
     "execution_count": 7,
     "metadata": {},
     "output_type": "execute_result"
    }
   ],
   "source": [
    "s = '一共20行代码运行时间13.59s'\n",
    "pat = r'\\d+\\.?\\d+' # ?表示匹配小数点(\\.)0次或1次\n",
    "r = re.findall(pat,s)\n",
    "r"
   ]
  },
  {
   "cell_type": "code",
   "execution_count": 8,
   "metadata": {
    "ExecuteTime": {
     "end_time": "2020-01-03T01:22:04.667540Z",
     "start_time": "2020-01-03T01:22:04.662554Z"
    }
   },
   "outputs": [],
   "source": [
    "s = 'This module provides regular expression matching operations similar to those found in Perl'\n",
    "pat = r'^[emrt]' # 查找以\n",
    "r = re.compile(pat,re.I).search(s)"
   ]
  },
  {
   "cell_type": "code",
   "execution_count": 9,
   "metadata": {
    "ExecuteTime": {
     "end_time": "2020-01-03T01:22:46.211041Z",
     "start_time": "2020-01-03T01:22:46.207015Z"
    }
   },
   "outputs": [
    {
     "data": {
      "text/plain": [
       "['This',\n",
       " 'module',\n",
       " 'provides',\n",
       " 'regular',\n",
       " 'expression',\n",
       " 'matching',\n",
       " 'in',\n",
       " 'Perl']"
      ]
     },
     "execution_count": 9,
     "metadata": {},
     "output_type": "execute_result"
    }
   ],
   "source": [
    "s = 'This module provides regular expression matching in Perl'\n",
    "pat = r'\\s?([a-zA-Z]+)'  \n",
    "r = re.findall(pat,s)\n",
    "r"
   ]
  },
  {
   "cell_type": "code",
   "execution_count": 10,
   "metadata": {
    "ExecuteTime": {
     "end_time": "2020-01-03T01:23:03.617073Z",
     "start_time": "2020-01-03T01:23:03.601412Z"
    }
   },
   "outputs": [
    {
     "data": {
      "text/plain": [
       "['This',\n",
       " 'module',\n",
       " 'provides',\n",
       " 'regular',\n",
       " 'expression',\n",
       " 'matching',\n",
       " 'in',\n",
       " 'Perl']"
      ]
     },
     "execution_count": 10,
     "metadata": {},
     "output_type": "execute_result"
    }
   ],
   "source": [
    "pat = r'\\s+'  \n",
    "r = re.split(pat,s)\n",
    "r"
   ]
  },
  {
   "cell_type": "code",
   "execution_count": 11,
   "metadata": {
    "ExecuteTime": {
     "end_time": "2020-01-03T01:26:46.491741Z",
     "start_time": "2020-01-03T01:26:46.486755Z"
    }
   },
   "outputs": [
    {
     "name": "stdout",
     "output_type": "stream",
     "text": [
      "hello 666, hello 666\n"
     ]
    }
   ],
   "source": [
    "content=\"hello 12345, hello 456321\"    \n",
    "pat=re.compile(r'\\d+') #要替换的部分\n",
    "m=pat.sub(\"666\",content)\n",
    "print(m) # hello 666, hello 666"
   ]
  },
  {
   "cell_type": "code",
   "execution_count": 12,
   "metadata": {
    "ExecuteTime": {
     "end_time": "2020-01-03T01:27:00.329098Z",
     "start_time": "2020-01-03T01:27:00.325069Z"
    }
   },
   "outputs": [
    {
     "name": "stdout",
     "output_type": "stream",
     "text": [
      "['graph', 'math', 'english', 'chemistry']\n"
     ]
    }
   ],
   "source": [
    "content = 'graph math,,english;chemistry' # 这种\n",
    "pat=re.compile(r\"[\\s\\,\\;]+\")  #贪婪模式\n",
    "m=pat.split(content)\n",
    "print(m) # ['graph', 'math', 'english', 'chemistry']"
   ]
  },
  {
   "cell_type": "code",
   "execution_count": 13,
   "metadata": {
    "ExecuteTime": {
     "end_time": "2020-01-03T01:27:13.067577Z",
     "start_time": "2020-01-03T01:27:13.061558Z"
    }
   },
   "outputs": [
    {
     "name": "stdout",
     "output_type": "stream",
     "text": [
      "['graph', 'math']\n"
     ]
    }
   ],
   "source": [
    "content='<h>ddedadsad</h><div>graph</div>bb<div>math</div>cc'\n",
    "pat=re.compile(r\"<div>(.*?)</div>\")  #贪婪模式\n",
    "m=pat.findall(content)\n",
    "print(m) # ['graph', 'math']"
   ]
  },
  {
   "cell_type": "code",
   "execution_count": 14,
   "metadata": {
    "ExecuteTime": {
     "end_time": "2020-01-03T01:27:21.538729Z",
     "start_time": "2020-01-03T01:27:21.524073Z"
    }
   },
   "outputs": [
    {
     "name": "stdout",
     "output_type": "stream",
     "text": [
      "['graph</div>bb<div>math']\n"
     ]
    }
   ],
   "source": [
    "content='<h>ddedadsad</h><div>graph</div>bb<div>math</div>cc'\n",
    "pat=re.compile(r\"<div>(.*)</div>\")  #贪婪模式\n",
    "m=pat.findall(content)\n",
    "print(m) # ['graph</div>bb<div>math']"
   ]
  },
  {
   "cell_type": "code",
   "execution_count": 16,
   "metadata": {
    "ExecuteTime": {
     "end_time": "2020-01-03T01:52:59.918653Z",
     "start_time": "2020-01-03T01:52:59.911634Z"
    }
   },
   "outputs": [
    {
     "name": "stdout",
     "output_type": "stream",
     "text": [
      "['This', 'module', 'matching', 'to', 'those']\n"
     ]
    }
   ],
   "source": [
    "#提取以m或t开头的单词，忽略大小写\n",
    "s = 'This module provides regular expression matching operations similar to those found in Perl'\n",
    "pat = r'\\s+'  \n",
    "r = re.split(pat,s)\n",
    "pattern = re.compile(r'[mt]',flags=re.I)\n",
    "result = list(filter(pattern.match, r))\n",
    "res = [i for i in r if re.match(r'[mMtT]',i)] \n",
    "print(res) # ['This', 'module', 'matching', 'to', 'those']"
   ]
  },
  {
   "cell_type": "code",
   "execution_count": 1,
   "metadata": {
    "ExecuteTime": {
     "end_time": "2020-01-17T02:17:09.555937Z",
     "start_time": "2020-01-17T02:17:09.550051Z"
    }
   },
   "outputs": [],
   "source": [
    "import re"
   ]
  },
  {
   "cell_type": "code",
   "execution_count": 4,
   "metadata": {
    "ExecuteTime": {
     "end_time": "2020-01-17T02:34:16.310548Z",
     "start_time": "2020-01-17T02:34:16.303991Z"
    }
   },
   "outputs": [
    {
     "data": {
      "text/plain": [
       "<re.Match object; span=(0, 4), match='9959'>"
      ]
     },
     "execution_count": 4,
     "metadata": {},
     "output_type": "execute_result"
    }
   ],
   "source": [
    "pattern = re.compile(r'^[0-9]*$')\n",
    "s = '9959'\n",
    "pattern.match(s)"
   ]
  },
  {
   "cell_type": "code",
   "execution_count": 7,
   "metadata": {
    "ExecuteTime": {
     "end_time": "2020-01-17T02:36:14.343692Z",
     "start_time": "2020-01-17T02:36:14.335270Z"
    }
   },
   "outputs": [
    {
     "data": {
      "text/plain": [
       "<re.Match object; span=(0, 1), match='0'>"
      ]
     },
     "execution_count": 7,
     "metadata": {},
     "output_type": "execute_result"
    }
   ],
   "source": [
    "pattern = re.compile(r'^(0|[1-9][0-9]*)')\n",
    "s = '09959'\n",
    "pattern.match(s)"
   ]
  },
  {
   "cell_type": "code",
   "execution_count": null,
   "metadata": {},
   "outputs": [],
   "source": []
  }
 ],
 "metadata": {
  "kernelspec": {
   "display_name": "Python 3",
   "language": "python",
   "name": "python3"
  },
  "language_info": {
   "codemirror_mode": {
    "name": "ipython",
    "version": 3
   },
   "file_extension": ".py",
   "mimetype": "text/x-python",
   "name": "python",
   "nbconvert_exporter": "python",
   "pygments_lexer": "ipython3",
   "version": "3.7.4"
  },
  "toc": {
   "base_numbering": 1,
   "nav_menu": {},
   "number_sections": true,
   "sideBar": true,
   "skip_h1_title": false,
   "title_cell": "Table of Contents",
   "title_sidebar": "Contents",
   "toc_cell": false,
   "toc_position": {},
   "toc_section_display": true,
   "toc_window_display": false
  },
  "varInspector": {
   "cols": {
    "lenName": 16,
    "lenType": 16,
    "lenVar": 40
   },
   "kernels_config": {
    "python": {
     "delete_cmd_postfix": "",
     "delete_cmd_prefix": "del ",
     "library": "var_list.py",
     "varRefreshCmd": "print(var_dic_list())"
    },
    "r": {
     "delete_cmd_postfix": ") ",
     "delete_cmd_prefix": "rm(",
     "library": "var_list.r",
     "varRefreshCmd": "cat(var_dic_list()) "
    }
   },
   "types_to_exclude": [
    "module",
    "function",
    "builtin_function_or_method",
    "instance",
    "_Feature"
   ],
   "window_display": false
  }
 },
 "nbformat": 4,
 "nbformat_minor": 2
}
