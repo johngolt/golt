{
 "cells": [
  {
   "cell_type": "code",
   "execution_count": 1,
   "metadata": {
    "ExecuteTime": {
     "end_time": "2020-06-30T01:35:13.799326Z",
     "start_time": "2020-06-30T01:35:13.063622Z"
    }
   },
   "outputs": [
    {
     "data": {
      "text/html": [
       "<div>\n",
       "<style scoped>\n",
       "    .dataframe tbody tr th:only-of-type {\n",
       "        vertical-align: middle;\n",
       "    }\n",
       "\n",
       "    .dataframe tbody tr th {\n",
       "        vertical-align: top;\n",
       "    }\n",
       "\n",
       "    .dataframe thead th {\n",
       "        text-align: right;\n",
       "    }\n",
       "</style>\n",
       "<table border=\"1\" class=\"dataframe\">\n",
       "  <thead>\n",
       "    <tr style=\"text-align: right;\">\n",
       "      <th></th>\n",
       "      <th>id</th>\n",
       "      <th>date</th>\n",
       "      <th>money</th>\n",
       "      <th>product</th>\n",
       "      <th>department</th>\n",
       "      <th>origin</th>\n",
       "    </tr>\n",
       "  </thead>\n",
       "  <tbody>\n",
       "    <tr>\n",
       "      <th>0</th>\n",
       "      <td>101</td>\n",
       "      <td>2020-03-10</td>\n",
       "      <td>5</td>\n",
       "      <td>苏打水</td>\n",
       "      <td>饮料</td>\n",
       "      <td>China</td>\n",
       "    </tr>\n",
       "    <tr>\n",
       "      <th>1</th>\n",
       "      <td>102</td>\n",
       "      <td>2020-03-11</td>\n",
       "      <td>4</td>\n",
       "      <td>可乐</td>\n",
       "      <td>饮料</td>\n",
       "      <td>China</td>\n",
       "    </tr>\n",
       "    <tr>\n",
       "      <th>2</th>\n",
       "      <td>103</td>\n",
       "      <td>2020-03-12</td>\n",
       "      <td>65</td>\n",
       "      <td>牛肉干</td>\n",
       "      <td>零食</td>\n",
       "      <td>America</td>\n",
       "    </tr>\n",
       "    <tr>\n",
       "      <th>3</th>\n",
       "      <td>104</td>\n",
       "      <td>2020-03-13</td>\n",
       "      <td>-10</td>\n",
       "      <td>老干妈</td>\n",
       "      <td>调味品</td>\n",
       "      <td>China</td>\n",
       "    </tr>\n",
       "    <tr>\n",
       "      <th>4</th>\n",
       "      <td>105</td>\n",
       "      <td>2020-03-14</td>\n",
       "      <td>15</td>\n",
       "      <td>菠萝</td>\n",
       "      <td>水果</td>\n",
       "      <td>Thailand</td>\n",
       "    </tr>\n",
       "    <tr>\n",
       "      <th>5</th>\n",
       "      <td>106</td>\n",
       "      <td>2020-03-15</td>\n",
       "      <td>20</td>\n",
       "      <td>冰激凌</td>\n",
       "      <td>NaN</td>\n",
       "      <td>China</td>\n",
       "    </tr>\n",
       "    <tr>\n",
       "      <th>6</th>\n",
       "      <td>107</td>\n",
       "      <td>2020-03-16</td>\n",
       "      <td>35</td>\n",
       "      <td>洗面奶</td>\n",
       "      <td>日用品</td>\n",
       "      <td>america</td>\n",
       "    </tr>\n",
       "    <tr>\n",
       "      <th>7</th>\n",
       "      <td>108</td>\n",
       "      <td>2020-03-17</td>\n",
       "      <td>16</td>\n",
       "      <td>洋葱</td>\n",
       "      <td>蔬菜</td>\n",
       "      <td>China</td>\n",
       "    </tr>\n",
       "    <tr>\n",
       "      <th>8</th>\n",
       "      <td>109</td>\n",
       "      <td>2020-03-18</td>\n",
       "      <td>6</td>\n",
       "      <td>牙膏</td>\n",
       "      <td>日用品</td>\n",
       "      <td>China</td>\n",
       "    </tr>\n",
       "    <tr>\n",
       "      <th>9</th>\n",
       "      <td>110</td>\n",
       "      <td>2020-03-19</td>\n",
       "      <td>20</td>\n",
       "      <td>薯片</td>\n",
       "      <td>零食</td>\n",
       "      <td>Japan</td>\n",
       "    </tr>\n",
       "  </tbody>\n",
       "</table>\n",
       "</div>"
      ],
      "text/plain": [
       "    id       date  money product department    origin\n",
       "0  101 2020-03-10      5     苏打水         饮料     China\n",
       "1  102 2020-03-11      4      可乐         饮料     China\n",
       "2  103 2020-03-12     65     牛肉干         零食   America\n",
       "3  104 2020-03-13    -10     老干妈        调味品     China\n",
       "4  105 2020-03-14     15      菠萝         水果  Thailand\n",
       "5  106 2020-03-15     20     冰激凌        NaN     China\n",
       "6  107 2020-03-16     35     洗面奶        日用品   america\n",
       "7  108 2020-03-17     16      洋葱         蔬菜     China\n",
       "8  109 2020-03-18      6      牙膏        日用品     China\n",
       "9  110 2020-03-19     20      薯片         零食     Japan"
      ]
     },
     "execution_count": 1,
     "metadata": {},
     "output_type": "execute_result"
    }
   ],
   "source": [
    "import pandas as pd\n",
    "import numpy as np\n",
    "data=pd.DataFrame({\n",
    "    \"id\":np.arange(101,111),                                # np.arange会自动输出范围内的数据，这里会输出101~110的id号。\n",
    "    \"date\":pd.date_range(start=\"20200310\",periods=10),      # 输出日期数据，设置周期为10，注意这里的周期数应该与数据条数相等。\n",
    "    \"money\":[5,4,65,-10,15,20,35,16,6,20],                  # 设置一个-10的坑，下面会填（好惨，自己给自己挖坑，幸亏不准备跳~）\n",
    "    \"product\":['苏打水','可乐','牛肉干','老干妈','菠萝','冰激凌','洗面奶','洋葱','牙膏','薯片'],\n",
    "    \"department\":['饮料','饮料','零食','调味品','水果',np.nan,'日用品','蔬菜','日用品','零食'],                # 再设置一个空值的坑\n",
    "    \"origin\":['China',' China','America','China','Thailand','China','america','China','China','Japan']     # 再再设置一个america的坑\n",
    "})\n",
    "data              # 输出查看数据集"
   ]
  },
  {
   "cell_type": "code",
   "execution_count": null,
   "metadata": {},
   "outputs": [],
   "source": [
    "data.shape            # 行数列数\n",
    "data.dtypes           # 所有列的数据类型\n",
    "data['id'].dtype      # 某一列的数据类型\n",
    "data.ndim             # 数据维度\n",
    "data.index            # 行索引\n",
    "data.columns          # 列索引\n",
    "data.values           # 对象值\n",
    "\n",
    "data.head()    # 显示头部几行（默认5行）\n",
    "data.tail()    # 显示末尾几行（默认5行）\n",
    "data.info()    # 数据集相关信息概览：索引情况、列数据类型、非空值、内存使用情况\n",
    "data.describe()    # 快速综合统计结果"
   ]
  },
  {
   "cell_type": "code",
   "execution_count": 4,
   "metadata": {
    "ExecuteTime": {
     "end_time": "2020-06-30T01:52:29.850979Z",
     "start_time": "2020-06-30T01:52:29.843000Z"
    }
   },
   "outputs": [
    {
     "data": {
      "text/plain": [
       "array(['China', 'America', 'Thailand', 'america', 'Japan'], dtype=object)"
      ]
     },
     "execution_count": 4,
     "metadata": {},
     "output_type": "execute_result"
    }
   ],
   "source": [
    "#空格处理\n",
    "for i in data:                                    # 遍历数据集中的每一列\n",
    "    if pd.api.types.is_object_dtype(data[i]):     # 如果是object类型的数据，则执行下方代码\n",
    "        data[i]=data[i].str.strip()               # 去除空格\n",
    "data['origin'].unique()  "
   ]
  },
  {
   "cell_type": "code",
   "execution_count": null,
   "metadata": {},
   "outputs": [],
   "source": [
    "# 数据替换\n",
    "data['origin'].replace(\"america\",\"America\",inplace=True)    # 将第一个值替换为第二个值，inplace默认为False\n",
    "data['origin']"
   ]
  },
  {
   "cell_type": "code",
   "execution_count": null,
   "metadata": {},
   "outputs": [],
   "source": [
    "data['id'].astype('str')    # 将id列的类型转换为字符串类型。"
   ]
  },
  {
   "cell_type": "code",
   "execution_count": null,
   "metadata": {},
   "outputs": [],
   "source": [
    "'number', 'category', 'object', 'datetime'"
   ]
  },
  {
   "cell_type": "code",
   "execution_count": 5,
   "metadata": {
    "ExecuteTime": {
     "end_time": "2020-06-30T06:03:26.883287Z",
     "start_time": "2020-06-30T06:03:26.876306Z"
    }
   },
   "outputs": [],
   "source": [
    "from glob import glob"
   ]
  },
  {
   "cell_type": "code",
   "execution_count": 7,
   "metadata": {
    "ExecuteTime": {
     "end_time": "2020-06-30T06:04:07.041247Z",
     "start_time": "2020-06-30T06:04:07.036262Z"
    }
   },
   "outputs": [],
   "source": [
    "import os\n",
    "os.chdir('D:/Dataset/')"
   ]
  },
  {
   "cell_type": "code",
   "execution_count": 9,
   "metadata": {
    "ExecuteTime": {
     "end_time": "2020-06-30T06:05:51.030138Z",
     "start_time": "2020-06-30T06:05:51.025130Z"
    }
   },
   "outputs": [
    {
     "data": {
      "text/plain": [
       "['a.txt', 'a1.txt', 'ab1.txt']"
      ]
     },
     "execution_count": 9,
     "metadata": {},
     "output_type": "execute_result"
    }
   ],
   "source": [
    "#glob()函数传递某种模式，包括未知字符，这样它会返回符合该某事的文件列表。\n",
    "glob('a*.txt')\n",
    "#需要选择这些数据并复制至剪贴板。然后，\n",
    "#你可以使用read_clipboard()函数将他们读取至DataFrame中"
   ]
  },
  {
   "cell_type": "code",
   "execution_count": null,
   "metadata": {},
   "outputs": [],
   "source": [
    "movies[movies.genre.isin(counts.nlargest(3).index)].head()"
   ]
  },
  {
   "cell_type": "code",
   "execution_count": null,
   "metadata": {},
   "outputs": [],
   "source": [
    "data.dropna(thresh=len(data)*0.9, axis=1)\n"
   ]
  }
 ],
 "metadata": {
  "kernelspec": {
   "display_name": "Python 3",
   "language": "python",
   "name": "python3"
  },
  "language_info": {
   "codemirror_mode": {
    "name": "ipython",
    "version": 3
   },
   "file_extension": ".py",
   "mimetype": "text/x-python",
   "name": "python",
   "nbconvert_exporter": "python",
   "pygments_lexer": "ipython3",
   "version": "3.7.5"
  },
  "toc": {
   "base_numbering": 1,
   "nav_menu": {},
   "number_sections": true,
   "sideBar": true,
   "skip_h1_title": false,
   "title_cell": "Table of Contents",
   "title_sidebar": "Contents",
   "toc_cell": false,
   "toc_position": {},
   "toc_section_display": true,
   "toc_window_display": false
  },
  "varInspector": {
   "cols": {
    "lenName": 16,
    "lenType": 16,
    "lenVar": 40
   },
   "kernels_config": {
    "python": {
     "delete_cmd_postfix": "",
     "delete_cmd_prefix": "del ",
     "library": "var_list.py",
     "varRefreshCmd": "print(var_dic_list())"
    },
    "r": {
     "delete_cmd_postfix": ") ",
     "delete_cmd_prefix": "rm(",
     "library": "var_list.r",
     "varRefreshCmd": "cat(var_dic_list()) "
    }
   },
   "types_to_exclude": [
    "module",
    "function",
    "builtin_function_or_method",
    "instance",
    "_Feature"
   ],
   "window_display": false
  }
 },
 "nbformat": 4,
 "nbformat_minor": 2
}
