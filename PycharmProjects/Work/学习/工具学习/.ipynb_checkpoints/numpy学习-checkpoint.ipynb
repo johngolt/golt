{
 "cells": [
  {
   "cell_type": "code",
   "execution_count": null,
   "metadata": {},
   "outputs": [],
   "source": [
    "import numpy as np\n",
    "A = np.random.randint(0,10,(5,5))\n",
    "a = np.random.randint(0,10,5)\n",
    "b = np.random.randint(0,10,5)\n",
    "B = np.random.randint(0,10,(5,5))\n",
    "# 求和\n",
    "np.einsum('ij->',A)\n",
    "#行求和\n",
    "np.einsum('ij->i',A)\n",
    "#列求和\n",
    "np.einsum('ij->j',A)\n",
    "#转置\n",
    "np.einsum('ij->ji',A)\n",
    "#矩阵向量相乘\n",
    "np.einsum('ij,j->i',A,b)\n",
    "#矩阵矩阵相乘\n",
    "np.einsum('ik,kj->ij',A,B)\n",
    "#点积\n",
    "np.einsum('i,i->',a,b)\n",
    "#哈达玛积\n",
    "np.einsum('ij,ij->ij',A,B)\n",
    "#外积\n",
    "np.einsum('i,j->ij',a,b)\n",
    "#batch矩阵相乘"
   ]
  }
 ],
 "metadata": {
  "kernelspec": {
   "display_name": "Python 3",
   "language": "python",
   "name": "python3"
  },
  "language_info": {
   "codemirror_mode": {
    "name": "ipython",
    "version": 3
   },
   "file_extension": ".py",
   "mimetype": "text/x-python",
   "name": "python",
   "nbconvert_exporter": "python",
   "pygments_lexer": "ipython3",
   "version": "3.7.5"
  },
  "toc": {
   "base_numbering": 1,
   "nav_menu": {},
   "number_sections": true,
   "sideBar": true,
   "skip_h1_title": false,
   "title_cell": "Table of Contents",
   "title_sidebar": "Contents",
   "toc_cell": false,
   "toc_position": {},
   "toc_section_display": true,
   "toc_window_display": false
  },
  "varInspector": {
   "cols": {
    "lenName": 16,
    "lenType": 16,
    "lenVar": 40
   },
   "kernels_config": {
    "python": {
     "delete_cmd_postfix": "",
     "delete_cmd_prefix": "del ",
     "library": "var_list.py",
     "varRefreshCmd": "print(var_dic_list())"
    },
    "r": {
     "delete_cmd_postfix": ") ",
     "delete_cmd_prefix": "rm(",
     "library": "var_list.r",
     "varRefreshCmd": "cat(var_dic_list()) "
    }
   },
   "types_to_exclude": [
    "module",
    "function",
    "builtin_function_or_method",
    "instance",
    "_Feature"
   ],
   "window_display": false
  }
 },
 "nbformat": 4,
 "nbformat_minor": 2
}
