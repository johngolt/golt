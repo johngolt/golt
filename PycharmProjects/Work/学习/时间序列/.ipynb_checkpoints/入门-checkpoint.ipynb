{
 "cells": [
  {
   "cell_type": "code",
   "execution_count": 1,
   "metadata": {
    "ExecuteTime": {
     "end_time": "2020-05-28T03:43:41.166510Z",
     "start_time": "2020-05-28T03:43:40.271270Z"
    }
   },
   "outputs": [],
   "source": [
    "import statsmodels.api as sm  # 统计相关的库"
   ]
  },
  {
   "cell_type": "code",
   "execution_count": 2,
   "metadata": {
    "ExecuteTime": {
     "end_time": "2020-05-28T03:43:41.805042Z",
     "start_time": "2020-05-28T03:43:41.795031Z"
    }
   },
   "outputs": [
    {
     "data": {
      "text/plain": [
       "'0.10.1'"
      ]
     },
     "execution_count": 2,
     "metadata": {},
     "output_type": "execute_result"
    }
   ],
   "source": [
    "sm.__version__"
   ]
  },
  {
   "cell_type": "code",
   "execution_count": null,
   "metadata": {},
   "outputs": [],
   "source": [
    "from sklearn.linear_model import LinearRegression\n",
    "import pandas as pd\n",
    "import numpy as np\n",
    "\n",
    "class TimeSeriesSplit():\n",
    "    def __init__(self,series,EMA):\n",
    "        '''\n",
    "        时间序列分解算法，乘法模型，由于循环波动难以确认，受随机因素影响大，不予考虑\n",
    "        series：时间序列\n",
    "        EMA：移动平均项数，也是周期的时长        \n",
    "        '''\n",
    "        self.buildModel(series,EMA)\n",
    "    \n",
    "    def predict(self,num):\n",
    "        '''\n",
    "        往后预测num个数，返回的是整个模型的信息\n",
    "        num：预测个数\n",
    "        '''\n",
    "        result = []\n",
    "        for i in range(num):\n",
    "            #季节因子\n",
    "            S = self.seasFactors[(i+len(self.series))%len(self.seasFactors)]\n",
    "            #长期趋势\n",
    "            T = self.regression.predict(i+len(self.series))[0][0]\n",
    "            result.append(T*S)\n",
    "        info = {\n",
    "                'predict':{'value':result,'desc':'往后预测的%s个数'%num},\n",
    "                'Ta':{'value':self.regression.coef_[0][0],'desc':'长期趋势线性模型的系数'},\n",
    "                'Tb':{'value':self.regression.intercept_[0],'desc':'长期趋势线性模型的截距'},\n",
    "                'seasonFactor':{'value':self.seasFactors,'desc':'季节因子'},\n",
    "                }\n",
    "        return info\n",
    "        \n",
    "    \n",
    "    def buildModel(self,series,EMA):\n",
    "        '''\n",
    "        建模，预测\n",
    "        series：时间序列\n",
    "        EMA：移动平均项数，也是周期的时长\n",
    "        '''\n",
    "        series = np.array(series).reshape(-1)\n",
    "        #移动平均数\n",
    "        moveSeies = self.calMoveSeries(series,EMA)\n",
    "        #季节因子\n",
    "        seasonFactors = self.calSeasonFactors(series,moveSeies,EMA)\n",
    "        #长期趋势建模\n",
    "        regression = self.buildLongTrend(series)\n",
    "        #收尾，设置对象属性\n",
    "        self.series = series\n",
    "        self.seasFactors = seasonFactors\n",
    "        self.regression = regression\n",
    "\n",
    "    def calMoveSeries(self,series,EMA):\n",
    "        '''\n",
    "        计算移动平均数\n",
    "        series：时间序列\n",
    "        EMA：移动平均项数，也是周期的时长\n",
    "        '''\n",
    "        #计算移动平均\n",
    "        moveSeries = []\n",
    "        for i in range(0,series.shape[0]-EMA+1):\n",
    "            moveSeries.append(series[i:i+EMA].mean())\n",
    "        moveSeries = np.array(moveSeries).reshape(-1)\n",
    "        #如果项数为复数，则移动平均后数据索引无法对应原数据，要进行第2次项数为2的移动平均\n",
    "        if EMA % 2 == 0:\n",
    "            moveSeries2 = []\n",
    "            for i in range(0,moveSeries.shape[0]-2+1):\n",
    "                moveSeries2.append(moveSeries[i:i+2].mean())\n",
    "            moveSeries = np.array(moveSeries2).reshape(-1)\n",
    "        return moveSeries\n",
    "\n",
    "    def calSeasonFactors(self,series,moveSeries,EMA):\n",
    "        '''\n",
    "        计算季节性因子\n",
    "        series：时间序列\n",
    "        moveSeries：移动平均数\n",
    "        EMA：移动平均项数，也是周期的时长\n",
    "        '''\n",
    "        #移动平均后的第一项索引对应原数据的索引\n",
    "        startIndex = int((series.shape[0] - moveSeries.shape[0])/2)\n",
    "        #观测值除以移动平均值\n",
    "        factors = []\n",
    "        for i in range(len(moveSeries)):\n",
    "            factors.append(series[startIndex+i]/moveSeries[i])\n",
    "        #去掉尾部多余部分\n",
    "        rest = len(factors)%EMA\n",
    "        factors = factors[:len(factors)-rest]\n",
    "        factors = np.array(factors).reshape(-1,EMA)\n",
    "\n",
    "        #平均值可能不是1,调整\n",
    "        seasonFactors = factors.mean(axis=0)/factors.mean()\n",
    "        #按季顺序进行索引调整\n",
    "        seasonFactors = seasonFactors[startIndex:].reshape(-1).tolist() + seasonFactors[:startIndex].reshape(-1).tolist()\n",
    "        seasonFactors = np.array(seasonFactors).reshape(-1)\n",
    "        return seasonFactors\n",
    "    \n",
    "    def buildLongTrend(self,series):\n",
    "        '''\n",
    "        计算长期趋势\n",
    "        series：时间序列\n",
    "        '''\n",
    "        #建立线性模型\n",
    "        reg = LinearRegression()\n",
    "        #季节索引从0开始\n",
    "        index = np.array(range(series.shape[0])).reshape(-1,1)\n",
    "        reg.fit(index,series.reshape(-1,1))\n",
    "        return reg\n",
    "    \n",
    "if __name__ == \"__main__\":\n",
    "    import matplotlib.pyplot as plt\n",
    "    #https://wenku.baidu.com/view/89933c24a417866fb94a8e0a.html?from=search\n",
    "    #https://blog.csdn.net/weixin_40159138/article/details/90603344\n",
    "    #销售数据\n",
    "    data = [\n",
    "            3017.60,3043.54,2094.35,2809.84,\n",
    "            3274.80,3163.28,2114.31,3024.57,\n",
    "            3327.48,3439.48,3493.93,3490.79,\n",
    "            3685.08,3661.23,2378.43,3459.55,\n",
    "            3849.63,3701.18,2642.38,3585.52,\n",
    "            4078.66,3907.06,2818.46,4089.50,\n",
    "            4339.61,4148.60,2976.45,4084.64,\n",
    "            4242.42,3997.58,2881.01,4036.23,\n",
    "            4360.33,4360.53,3172.18,4223.76,\n",
    "            4690.48,4694.48,3342.35,4577.63,\n",
    "            4965.46,5026.05,3470.14,4525.94,\n",
    "            5258.71,5489.58,3596.76,3881.60            \n",
    "    ]\n",
    "    #plt.plot(range(len(data)),data)\n",
    "    model = TimeSeriesSplit(data,4)\n",
    "    #往后预测4个数，也就是1年4个季度的数\n",
    "    print(model.predict(4))"
   ]
  },
  {
   "cell_type": "code",
   "execution_count": 1,
   "metadata": {
    "ExecuteTime": {
     "end_time": "2020-05-28T06:07:23.635350Z",
     "start_time": "2020-05-28T06:07:23.622385Z"
    }
   },
   "outputs": [
    {
     "data": {
      "text/plain": [
       "4865.5"
      ]
     },
     "execution_count": 1,
     "metadata": {},
     "output_type": "execute_result"
    }
   ],
   "source": [
    "import numpy as np\n",
    "from matplotlib import pyplot as plt\n",
    "import pandas as pd\n",
    "import pywt   # python 小波变换的包\n",
    "\n",
    "# 取数据\n",
    "beginDate = '20130101'\n",
    "endDate = '20151231'\n",
    "data = DataAPI.MktIdxdGet(ticker='000300',beginDate=beginDate,endDate=endDate,field=['tradeDate','closeIndex'],pandas=\"1\")\n",
    "index_list = np.array(data['closeIndex'])\n",
    "\n",
    "# 函数打包\n",
    "def wt(index_list,data,wavefunc,lv,m,n):   \n",
    "    # 打包为函数，方便调节参数。  lv为分解层数；data为最后保存的dataframe便于作图；index_list为待处理序列；wavefunc为选取的小波函数；m,n则选择了进行阈值处理的小波系数层数\n",
    "   \n",
    "    # 分解\n",
    "    coeff = pywt.wavedec(index_list,wavefunc,mode='sym',level=lv)   # 按 level 层分解，使用pywt包进行计算， cAn是尺度系数 cDn为小波系数\n",
    "\n",
    "    sgn = lambda x: 1 if x > 0 else -1 if x < 0 else 0 # sgn函数\n",
    "\n",
    "    # 去噪过程\n",
    "    for i in range(m,n+1):   # 选取小波系数层数为 m~n层，尺度系数不需要处理\n",
    "        cD = coeff[i]\n",
    "        for j in range(len(cD)):\n",
    "            Tr = np.sqrt(2*np.log(len(cD)))  # 计算阈值\n",
    "            if cD[j] >= Tr:\n",
    "                coeff[i][j] = sgn(cD[j]) - Tr  # 向零收缩\n",
    "            else:\n",
    "                coeff[i][j] = 0   # 低于阈值置零\n",
    "\n",
    "    # 重构\n",
    "    denoised_index = pywt.waverec(coeff,wavefunc)\n",
    "\n",
    "    # 在原dataframe中添加处理后的列便于画图\n",
    "    data['denoised_index']=pd.Series('x',index=data.index)\n",
    "    for i in range(len(data)):\n",
    "        data['denoised_index'][i] = denoised_index[i] \n",
    "\n",
    "    # 画图\n",
    "    data = data.set_index(data['tradeDate'])\n",
    "    data.plot(figsize=(20,20),subplots=(2,1))\n",
    "    data.plot(figsize=(20,10))\n",
    "\n",
    "# 调用函数wt\n",
    "wt(index_list,data,'db4',4,1,4)  \n",
    "# 小波函数为db4, 分解层数为4， 选出小波层数为1-4层"
   ]
  },
  {
   "cell_type": "code",
   "execution_count": null,
   "metadata": {},
   "outputs": [],
   "source": []
  }
 ],
 "metadata": {
  "kernelspec": {
   "display_name": "Python 3",
   "language": "python",
   "name": "python3"
  },
  "language_info": {
   "codemirror_mode": {
    "name": "ipython",
    "version": 3
   },
   "file_extension": ".py",
   "mimetype": "text/x-python",
   "name": "python",
   "nbconvert_exporter": "python",
   "pygments_lexer": "ipython3",
   "version": "3.7.4"
  },
  "toc": {
   "base_numbering": 1,
   "nav_menu": {},
   "number_sections": true,
   "sideBar": true,
   "skip_h1_title": false,
   "title_cell": "Table of Contents",
   "title_sidebar": "Contents",
   "toc_cell": false,
   "toc_position": {},
   "toc_section_display": true,
   "toc_window_display": false
  },
  "varInspector": {
   "cols": {
    "lenName": 16,
    "lenType": 16,
    "lenVar": 40
   },
   "kernels_config": {
    "python": {
     "delete_cmd_postfix": "",
     "delete_cmd_prefix": "del ",
     "library": "var_list.py",
     "varRefreshCmd": "print(var_dic_list())"
    },
    "r": {
     "delete_cmd_postfix": ") ",
     "delete_cmd_prefix": "rm(",
     "library": "var_list.r",
     "varRefreshCmd": "cat(var_dic_list()) "
    }
   },
   "types_to_exclude": [
    "module",
    "function",
    "builtin_function_or_method",
    "instance",
    "_Feature"
   ],
   "window_display": false
  }
 },
 "nbformat": 4,
 "nbformat_minor": 2
}
