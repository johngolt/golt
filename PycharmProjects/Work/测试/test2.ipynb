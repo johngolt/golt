{
 "cells": [
  {
   "cell_type": "code",
   "execution_count": 1,
   "metadata": {
    "ExecuteTime": {
     "end_time": "2020-01-03T01:58:27.081041Z",
     "start_time": "2020-01-03T01:58:26.130162Z"
    }
   },
   "outputs": [],
   "source": [
    "import pandas as pd\n",
    "import numpy as np\n",
    "import os\n",
    "os.chdir('D:/工作/data/titanic')"
   ]
  },
  {
   "cell_type": "code",
   "execution_count": 2,
   "metadata": {
    "ExecuteTime": {
     "end_time": "2020-01-03T01:58:40.188632Z",
     "start_time": "2020-01-03T01:58:40.153716Z"
    }
   },
   "outputs": [],
   "source": [
    "df = pd.read_csv('train.csv')"
   ]
  },
  {
   "cell_type": "code",
   "execution_count": 3,
   "metadata": {
    "ExecuteTime": {
     "end_time": "2020-01-03T01:58:42.534652Z",
     "start_time": "2020-01-03T01:58:42.510717Z"
    }
   },
   "outputs": [
    {
     "data": {
      "text/html": [
       "<div>\n",
       "<style scoped>\n",
       "    .dataframe tbody tr th:only-of-type {\n",
       "        vertical-align: middle;\n",
       "    }\n",
       "\n",
       "    .dataframe tbody tr th {\n",
       "        vertical-align: top;\n",
       "    }\n",
       "\n",
       "    .dataframe thead th {\n",
       "        text-align: right;\n",
       "    }\n",
       "</style>\n",
       "<table border=\"1\" class=\"dataframe\">\n",
       "  <thead>\n",
       "    <tr style=\"text-align: right;\">\n",
       "      <th></th>\n",
       "      <th>PassengerId</th>\n",
       "      <th>Survived</th>\n",
       "      <th>Pclass</th>\n",
       "      <th>Name</th>\n",
       "      <th>Sex</th>\n",
       "      <th>Age</th>\n",
       "      <th>SibSp</th>\n",
       "      <th>Parch</th>\n",
       "      <th>Ticket</th>\n",
       "      <th>Fare</th>\n",
       "      <th>Cabin</th>\n",
       "      <th>Embarked</th>\n",
       "    </tr>\n",
       "  </thead>\n",
       "  <tbody>\n",
       "    <tr>\n",
       "      <td>0</td>\n",
       "      <td>1</td>\n",
       "      <td>0</td>\n",
       "      <td>3</td>\n",
       "      <td>Braund, Mr. Owen Harris</td>\n",
       "      <td>male</td>\n",
       "      <td>22.0</td>\n",
       "      <td>1</td>\n",
       "      <td>0</td>\n",
       "      <td>A/5 21171</td>\n",
       "      <td>7.2500</td>\n",
       "      <td>NaN</td>\n",
       "      <td>S</td>\n",
       "    </tr>\n",
       "    <tr>\n",
       "      <td>1</td>\n",
       "      <td>2</td>\n",
       "      <td>1</td>\n",
       "      <td>1</td>\n",
       "      <td>Cumings, Mrs. John Bradley (Florence Briggs Th...</td>\n",
       "      <td>female</td>\n",
       "      <td>38.0</td>\n",
       "      <td>1</td>\n",
       "      <td>0</td>\n",
       "      <td>PC 17599</td>\n",
       "      <td>71.2833</td>\n",
       "      <td>C85</td>\n",
       "      <td>C</td>\n",
       "    </tr>\n",
       "    <tr>\n",
       "      <td>2</td>\n",
       "      <td>3</td>\n",
       "      <td>1</td>\n",
       "      <td>3</td>\n",
       "      <td>Heikkinen, Miss. Laina</td>\n",
       "      <td>female</td>\n",
       "      <td>26.0</td>\n",
       "      <td>0</td>\n",
       "      <td>0</td>\n",
       "      <td>STON/O2. 3101282</td>\n",
       "      <td>7.9250</td>\n",
       "      <td>NaN</td>\n",
       "      <td>S</td>\n",
       "    </tr>\n",
       "    <tr>\n",
       "      <td>3</td>\n",
       "      <td>4</td>\n",
       "      <td>1</td>\n",
       "      <td>1</td>\n",
       "      <td>Futrelle, Mrs. Jacques Heath (Lily May Peel)</td>\n",
       "      <td>female</td>\n",
       "      <td>35.0</td>\n",
       "      <td>1</td>\n",
       "      <td>0</td>\n",
       "      <td>113803</td>\n",
       "      <td>53.1000</td>\n",
       "      <td>C123</td>\n",
       "      <td>S</td>\n",
       "    </tr>\n",
       "    <tr>\n",
       "      <td>4</td>\n",
       "      <td>5</td>\n",
       "      <td>0</td>\n",
       "      <td>3</td>\n",
       "      <td>Allen, Mr. William Henry</td>\n",
       "      <td>male</td>\n",
       "      <td>35.0</td>\n",
       "      <td>0</td>\n",
       "      <td>0</td>\n",
       "      <td>373450</td>\n",
       "      <td>8.0500</td>\n",
       "      <td>NaN</td>\n",
       "      <td>S</td>\n",
       "    </tr>\n",
       "  </tbody>\n",
       "</table>\n",
       "</div>"
      ],
      "text/plain": [
       "   PassengerId  Survived  Pclass  \\\n",
       "0            1         0       3   \n",
       "1            2         1       1   \n",
       "2            3         1       3   \n",
       "3            4         1       1   \n",
       "4            5         0       3   \n",
       "\n",
       "                                                Name     Sex   Age  SibSp  \\\n",
       "0                            Braund, Mr. Owen Harris    male  22.0      1   \n",
       "1  Cumings, Mrs. John Bradley (Florence Briggs Th...  female  38.0      1   \n",
       "2                             Heikkinen, Miss. Laina  female  26.0      0   \n",
       "3       Futrelle, Mrs. Jacques Heath (Lily May Peel)  female  35.0      1   \n",
       "4                           Allen, Mr. William Henry    male  35.0      0   \n",
       "\n",
       "   Parch            Ticket     Fare Cabin Embarked  \n",
       "0      0         A/5 21171   7.2500   NaN        S  \n",
       "1      0          PC 17599  71.2833   C85        C  \n",
       "2      0  STON/O2. 3101282   7.9250   NaN        S  \n",
       "3      0            113803  53.1000  C123        S  \n",
       "4      0            373450   8.0500   NaN        S  "
      ]
     },
     "execution_count": 3,
     "metadata": {},
     "output_type": "execute_result"
    }
   ],
   "source": [
    "df.head()"
   ]
  },
  {
   "cell_type": "code",
   "execution_count": 4,
   "metadata": {
    "ExecuteTime": {
     "end_time": "2020-01-03T02:01:39.565144Z",
     "start_time": "2020-01-03T02:01:39.550682Z"
    }
   },
   "outputs": [],
   "source": [
    "cat = df.select_dtypes(include='object')"
   ]
  },
  {
   "cell_type": "code",
   "execution_count": 5,
   "metadata": {
    "ExecuteTime": {
     "end_time": "2020-01-03T02:01:55.485680Z",
     "start_time": "2020-01-03T02:01:55.482652Z"
    }
   },
   "outputs": [],
   "source": [
    "from sklearn.preprocessing import OneHotEncoder"
   ]
  },
  {
   "cell_type": "code",
   "execution_count": 13,
   "metadata": {
    "ExecuteTime": {
     "end_time": "2020-01-03T02:08:01.630526Z",
     "start_time": "2020-01-03T02:08:01.626505Z"
    }
   },
   "outputs": [],
   "source": [
    "enc = OneHotEncoder(categories='auto',handle_unknown='ignore')"
   ]
  },
  {
   "cell_type": "code",
   "execution_count": 9,
   "metadata": {
    "ExecuteTime": {
     "end_time": "2020-01-03T02:07:12.705200Z",
     "start_time": "2020-01-03T02:07:12.699179Z"
    }
   },
   "outputs": [],
   "source": [
    "cat = cat.fillna('None')"
   ]
  },
  {
   "cell_type": "code",
   "execution_count": 14,
   "metadata": {
    "ExecuteTime": {
     "end_time": "2020-01-03T02:08:04.212216Z",
     "start_time": "2020-01-03T02:08:04.200245Z"
    }
   },
   "outputs": [],
   "source": [
    "result = enc.fit_transform(cat)"
   ]
  },
  {
   "cell_type": "code",
   "execution_count": 31,
   "metadata": {
    "ExecuteTime": {
     "end_time": "2020-01-03T02:55:17.602660Z",
     "start_time": "2020-01-03T02:55:17.598665Z"
    }
   },
   "outputs": [],
   "source": [
    "from sklearn.preprocessing import LabelEncoder"
   ]
  },
  {
   "cell_type": "code",
   "execution_count": 37,
   "metadata": {
    "ExecuteTime": {
     "end_time": "2020-01-03T02:57:01.469997Z",
     "start_time": "2020-01-03T02:57:01.465010Z"
    }
   },
   "outputs": [],
   "source": [
    "label = LabelEncoder()\n",
    "res = label.fit_transform(cat.iloc[:,2])"
   ]
  },
  {
   "cell_type": "code",
   "execution_count": 43,
   "metadata": {
    "ExecuteTime": {
     "end_time": "2020-01-03T02:58:11.270826Z",
     "start_time": "2020-01-03T02:58:11.257833Z"
    }
   },
   "outputs": [
    {
     "data": {
      "text/plain": [
       "array(['A/5 21171', 'PC 17599', 'STON/O2. 3101282', '113803', '373450',\n",
       "       '330877', '17463', '349909', '347742', '237736', 'PP 9549',\n",
       "       '113783', 'A/5. 2151', '347082', '350406', '248706', '382652',\n",
       "       '244373', '345763', '2649', '239865', '248698', '330923', '113788',\n",
       "       '349909', '347077', '2631', '19950', '330959', '349216',\n",
       "       'PC 17601', 'PC 17569', '335677', 'C.A. 24579', 'PC 17604',\n",
       "       '113789', '2677', 'A./5. 2152', '345764', '2651', '7546', '11668',\n",
       "       '349253', 'SC/Paris 2123', '330958', 'S.C./A.4. 23567', '370371',\n",
       "       '14311', '2662', '349237', '3101295', 'A/4. 39886', 'PC 17572',\n",
       "       '2926', '113509', '19947', 'C.A. 31026', '2697', 'C.A. 34651',\n",
       "       'CA 2144', '2669', '113572', '36973', '347088', 'PC 17605', '2661',\n",
       "       'C.A. 29395', 'S.P. 3464', '3101281', '315151', 'C.A. 33111',\n",
       "       'CA 2144', 'S.O.C. 14879', '2680', '1601', '348123', '349208',\n",
       "       '374746', '248738', '364516', '345767', '345779', '330932',\n",
       "       '113059', 'SO/C 14885', '3101278', 'W./C. 6608', 'SOTON/OQ 392086',\n",
       "       '19950', '343275', '343276', '347466', 'W.E.P. 5734', 'C.A. 2315',\n",
       "       '364500', '374910', 'PC 17754', 'PC 17759', '231919', '244367',\n",
       "       '349245', '349215', '35281', '7540', '3101276', '349207', '343120',\n",
       "       '312991', '349249', '371110', '110465', '2665', '324669', '4136',\n",
       "       '2627', 'STON/O 2. 3101294', '370369', '11668', 'PC 17558',\n",
       "       '347082', 'S.O.C. 14879', 'A4. 54510', '237736', '27267', '35281',\n",
       "       '2651', '370372', 'C 17369', '2668', '347061', '349241',\n",
       "       'SOTON/O.Q. 3101307', 'A/5. 3337', '228414', 'C.A. 29178',\n",
       "       'SC/PARIS 2133', '11752', '113803', '7534', 'PC 17593', '2678',\n",
       "       '347081', 'STON/O2. 3101279', '365222', '231945', 'C.A. 33112',\n",
       "       '350043', 'W./C. 6608', '230080', '244310', 'S.O.P. 1166',\n",
       "       '113776', 'A.5. 11206', 'A/5. 851', 'Fa 265302', 'PC 17597',\n",
       "       '35851', 'SOTON/OQ 392090', '315037', 'CA. 2343', '371362',\n",
       "       'C.A. 33595', '347068', '315093', '3101295', '363291', '113505',\n",
       "       '347088', 'PC 17318', '1601', '111240', '382652', '347742',\n",
       "       'STON/O 2. 3101280', '17764', '350404', '4133', 'PC 17595',\n",
       "       '250653', 'LINE', 'CA. 2343', 'SC/PARIS 2131', '347077', '230136',\n",
       "       '315153', '113767', '370365', '111428', '364849', '349247',\n",
       "       '234604', '28424', '350046', '230080', 'PC 17610', 'PC 17569',\n",
       "       '368703', '4579', '370370', '248747', '345770', 'CA. 2343',\n",
       "       '3101264', '2628', 'A/5 3540', '347054', '3101278', '2699',\n",
       "       '367231', '112277', 'SOTON/O.Q. 3101311', 'F.C.C. 13528',\n",
       "       'A/5 21174', '250646', '367229', '35273', 'STON/O2. 3101283',\n",
       "       '243847', '11813', 'W/C 14208', 'SOTON/OQ 392089', '220367',\n",
       "       '21440', '349234', '19943', 'PP 4348', 'SW/PP 751', 'A/5 21173',\n",
       "       '236171', '4133', '36973', '347067', '237442', '347077',\n",
       "       'C.A. 29566', 'W./C. 6609', '26707', 'C.A. 31921', '28665',\n",
       "       'SCO/W 1585', '2665', '367230', 'W./C. 14263', 'STON/O 2. 3101275',\n",
       "       '2694', '19928', '347071', '250649', '11751', '244252', '362316',\n",
       "       '347054', '113514', 'A/5. 3336', '370129', '2650', 'PC 17585',\n",
       "       '110152', 'PC 17755', '230433', '384461', '347077', '110413',\n",
       "       '112059', '382649', 'C.A. 17248', '3101295', '347083', 'PC 17582',\n",
       "       'PC 17760', '113798', 'LINE', '250644', 'PC 17596', '370375',\n",
       "       '13502', '347073', '239853', '382652', 'C.A. 2673', '336439',\n",
       "       '347464', '345778', 'A/5. 10482', '113056', '349239', '345774',\n",
       "       '349206', '237798', '370373', '19877', '11967', 'SC/Paris 2163',\n",
       "       '349236', '349233', 'PC 17612', '2693', '113781', '19988',\n",
       "       'PC 17558', '9234', '367226', 'LINE', '226593', 'A/5 2466',\n",
       "       '113781', '17421', 'PC 17758', 'P/PP 3381', 'PC 17485', '11767',\n",
       "       'PC 17608', '250651', '349243', 'F.C.C. 13529', '347470', '244367',\n",
       "       '29011', '36928', '16966', 'A/5 21172', '349219', '234818',\n",
       "       '248738', 'CA. 2343', 'PC 17760', '345364', '28551', '363291',\n",
       "       '111361', '367226', '113043', 'PC 17582', '345764', 'PC 17611',\n",
       "       '349225', '113776', '16966', '7598', '113784', '230080', '19950',\n",
       "       '248740', '244361', '229236', '248733', '31418', '386525',\n",
       "       'C.A. 37671', '315088', '7267', '113510', '2695', '349237', '2647',\n",
       "       '345783', '113505', '237671', '330931', '330980', '347088',\n",
       "       'SC/PARIS 2167', '2691', 'SOTON/O.Q. 3101310', '370365', 'C 7076',\n",
       "       '110813', '2626', '14313', 'PC 17477', '11765', '3101267',\n",
       "       '323951', 'PC 17760', '349909', 'PC 17604', 'C 7077', '113503',\n",
       "       '2648', '347069', 'PC 17757', '2653', 'STON/O 2. 3101293',\n",
       "       '113789', '349227', 'S.O.C. 14879', 'CA 2144', '27849', '367655',\n",
       "       'SC 1748', '113760', '350034', '3101277', '35273', 'PP 9549',\n",
       "       '350052', '350407', '28403', '244278', '240929',\n",
       "       'STON/O 2. 3101289', '341826', '4137', 'STON/O2. 3101279',\n",
       "       '315096', '28664', '347064', '29106', '312992', '4133', '349222',\n",
       "       '394140', '19928', '239853', 'STON/O 2. 3101269', '343095',\n",
       "       '28220', '250652', '28228', '345773', '349254', 'A/5. 13032',\n",
       "       '315082', '347080', '370129', 'A/4. 34244', '2003', '250655',\n",
       "       '364851', 'SOTON/O.Q. 392078', '110564', '376564', 'SC/AH 3085',\n",
       "       'STON/O 2. 3101274', '13507', '113760', 'W./C. 6608', '29106',\n",
       "       '19950', 'C.A. 18723', 'F.C.C. 13529', '345769', '347076',\n",
       "       '230434', '65306', '33638', '250644', '113794', '2666', '113786',\n",
       "       'C.A. 34651', '65303', '113051', '17453', 'A/5 2817', '349240',\n",
       "       '13509', '17464', 'F.C.C. 13531', '371060', '19952', '364506',\n",
       "       '111320', '234360', 'A/S 2816', 'SOTON/O.Q. 3101306', '239853',\n",
       "       '113792', '36209', '2666', '323592', '315089', 'C.A. 34651',\n",
       "       'SC/AH Basle 541', '7553', '110465', '31027', '3460', '350060',\n",
       "       '3101298', 'CA 2144', '239854', 'A/5 3594', '4134', '11967',\n",
       "       '4133', '19943', '11771', 'A.5. 18509', 'C.A. 37671', '65304',\n",
       "       'SOTON/OQ 3101317', '113787', 'PC 17609', 'A/4 45380', '2627',\n",
       "       '36947', 'C.A. 6212', '113781', '350035', '315086', '364846',\n",
       "       '330909', '4135', '110152', 'PC 17758', '26360', '111427',\n",
       "       'C 4001', '1601', '382651', 'SOTON/OQ 3101316', 'PC 17473',\n",
       "       'PC 17603', '349209', '36967', 'C.A. 34260', '371110', '226875',\n",
       "       '349242', '12749', '349252', '2624', '111361', '2700', '367232',\n",
       "       'W./C. 14258', 'PC 17483', '3101296', '29104', '26360', '2641',\n",
       "       '2690', '2668', '315084', 'F.C.C. 13529', '113050', 'PC 17761',\n",
       "       '364498', '13568', 'WE/P 5735', '347082', '347082', '2908',\n",
       "       'PC 17761', '693', '2908', 'SC/PARIS 2146', '363291', 'C.A. 33112',\n",
       "       '17421', '244358', '330979', '2620', '347085', '113807', '11755',\n",
       "       'PC 17757', '110413', '345572', '372622', '349251', '218629',\n",
       "       'SOTON/OQ 392082', 'SOTON/O.Q. 392087', 'A/4 48871', '349205',\n",
       "       '349909', '2686', '350417', 'S.W./PP 752', '11769', 'PC 17474',\n",
       "       '14312', 'A/4. 20589', '358585', '243880', '13507', '2689',\n",
       "       'STON/O 2. 3101286', '237789', '17421', '28403', '13049', '3411',\n",
       "       '110413', '237565', '13567', '14973', 'A./5. 3235',\n",
       "       'STON/O 2. 3101273', '36947', 'A/5 3902', '364848', 'SC/AH 29037',\n",
       "       '345773', '248727', 'LINE', '2664', 'PC 17485', '243847', '349214',\n",
       "       '113796', '364511', '111426', '349910', '349246', '113804',\n",
       "       'SC/Paris 2123', 'PC 17582', '347082', 'SOTON/O.Q. 3101305',\n",
       "       '367230', '370377', '364512', '220845', '347080', 'A/5. 3336',\n",
       "       '230136', '31028', '2659', '11753', '2653', '350029', '54636',\n",
       "       '36963', '219533', '13502', '349224', '334912', '27042', '347743',\n",
       "       '13214', '112052', '347088', '237668', 'STON/O 2. 3101292',\n",
       "       'C.A. 31921', '3101295', '376564', '350050', 'PC 17477', '347088',\n",
       "       '1601', '2666', 'PC 17572', '349231', '13213', 'S.O./P.P. 751',\n",
       "       'CA. 2314', '349221', '231919', '8475', '330919', '365226',\n",
       "       'S.O.C. 14879', '349223', '364849', '29751', '35273', 'PC 17611',\n",
       "       '2623', '5727', '349210', 'STON/O 2. 3101285', 'S.O.C. 14879',\n",
       "       '234686', '312993', 'A/5 3536', '19996', '29750', 'F.C. 12750',\n",
       "       'C.A. 24580', '244270', '239856', '349912', '342826', '4138',\n",
       "       'CA 2144', 'PC 17755', '330935', 'PC 17572', '6563', 'CA 2144',\n",
       "       '29750', 'SC/Paris 2123', '3101295', '349228', '350036', '24160',\n",
       "       '17474', '349256', '1601', '2672', '113800', '248731', '363592',\n",
       "       '35852', '17421', '348121', 'PC 17757', 'PC 17475', '2691',\n",
       "       '36864', '350025', '250655', '223596', 'PC 17476', '113781',\n",
       "       '2661', 'PC 17482', '113028', '19996', '7545', '250647', '348124',\n",
       "       'PC 17757', '34218', '36568', '347062', '248727', '350048',\n",
       "       '12233', '250643', '113806', '315094', '31027', '36866', '236853',\n",
       "       'STON/O2. 3101271', '24160', '2699', '239855', '28425', '233639',\n",
       "       '54636', 'W./C. 6608', 'PC 17755', '349201', '349218', '16988',\n",
       "       '19877', 'PC 17608', '376566', 'STON/O 2. 3101288', 'WE/P 5735',\n",
       "       'C.A. 2673', '250648', '113773', '335097', '29103', '392096',\n",
       "       '345780', '349204', '220845', '250649', '350042', '29108',\n",
       "       '363294', '110152', '358585', 'SOTON/O2 3101272', '2663', '113760',\n",
       "       '347074', '13502', '112379', '364850', '371110', '8471', '345781',\n",
       "       '350047', 'S.O./P.P. 3', '2674', '29105', '347078', '383121',\n",
       "       '364516', '36865', '24160', '2687', '17474', '113501',\n",
       "       'W./C. 6607', 'SOTON/O.Q. 3101312', '374887', '3101265', '382652',\n",
       "       'C.A. 2315', 'PC 17593', '12460', '239865', 'CA. 2343', 'PC 17600',\n",
       "       '349203', '28213', '17465', '349244', '2685', '345773', '250647',\n",
       "       'C.A. 31921', '113760', '2625', '347089', '347063', '112050',\n",
       "       '347087', '248723', '113806', '3474', 'A/4 48871', '28206',\n",
       "       '347082', '364499', '112058', 'STON/O2. 3101290',\n",
       "       'S.C./PARIS 2079', 'C 7075', '347088', '12749', '315098', '19972',\n",
       "       '392096', '3101295', '368323', '1601', 'S.C./PARIS 2079', '367228',\n",
       "       '113572', '2659', '29106', '2671', '347468', '2223', 'PC 17756',\n",
       "       '315097', '392092', '1601', '11774', 'SOTON/O2 3101287',\n",
       "       'S.O./P.P. 3', '113798', '2683', '315090', 'C.A. 5547', 'CA. 2343',\n",
       "       '349213', '248727', '17453', '347082', '347060', '2678',\n",
       "       'PC 17592', '244252', '392091', '36928', '113055', '2666', '2629',\n",
       "       '350026', '28134', '17466', 'CA. 2343', '233866', '236852',\n",
       "       'SC/PARIS 2149', 'PC 17590', '345777', '347742', '349248', '11751',\n",
       "       '695', '345765', 'P/PP 3381', '2667', '7534', '349212', '349217',\n",
       "       '11767', '230433', '349257', '7552', 'C.A./SOTON 34068',\n",
       "       'SOTON/OQ 392076', '382652', '211536', '112053', 'W./C. 6607',\n",
       "       '111369', '370376'], dtype=object)"
      ]
     },
     "execution_count": 43,
     "metadata": {},
     "output_type": "execute_result"
    }
   ],
   "source": [
    "label.inverse_transform()"
   ]
  },
  {
   "cell_type": "code",
   "execution_count": 20,
   "metadata": {
    "ExecuteTime": {
     "end_time": "2020-01-03T02:17:44.045629Z",
     "start_time": "2020-01-03T02:17:44.042599Z"
    }
   },
   "outputs": [],
   "source": [
    "mapping={'x{}'.format(i):value for i, value in enumerate(cat.columns)}"
   ]
  },
  {
   "cell_type": "code",
   "execution_count": null,
   "metadata": {
    "ExecuteTime": {
     "end_time": "2020-01-03T02:58:43.622215Z",
     "start_time": "2020-01-03T02:58:43.613238Z"
    }
   },
   "outputs": [],
   "source": []
  },
  {
   "cell_type": "code",
   "execution_count": 29,
   "metadata": {
    "ExecuteTime": {
     "end_time": "2020-01-03T02:22:20.652768Z",
     "start_time": "2020-01-03T02:22:20.648744Z"
    }
   },
   "outputs": [],
   "source": [
    "pattern=re.compile(r'^x\\d+')\n",
    "d = map(lambda x: pattern.sub(mapping[pattern.match(x).group()],x),\n",
    "        enc.get_feature_names())"
   ]
  },
  {
   "cell_type": "code",
   "execution_count": 30,
   "metadata": {
    "ExecuteTime": {
     "end_time": "2020-01-03T02:22:21.957663Z",
     "start_time": "2020-01-03T02:22:21.934274Z"
    }
   },
   "outputs": [
    {
     "data": {
      "text/plain": [
       "['Name_Abbing, Mr. Anthony',\n",
       " 'Name_Abbott, Mr. Rossmore Edward',\n",
       " 'Name_Abbott, Mrs. Stanton (Rosa Hunt)',\n",
       " 'Name_Abelson, Mr. Samuel',\n",
       " 'Name_Abelson, Mrs. Samuel (Hannah Wizosky)',\n",
       " 'Name_Adahl, Mr. Mauritz Nils Martin',\n",
       " 'Name_Adams, Mr. John',\n",
       " 'Name_Ahlin, Mrs. Johan (Johanna Persdotter Larsson)',\n",
       " 'Name_Aks, Mrs. Sam (Leah Rosen)',\n",
       " 'Name_Albimona, Mr. Nassef Cassem',\n",
       " 'Name_Alexander, Mr. William',\n",
       " 'Name_Alhomaki, Mr. Ilmari Rudolf',\n",
       " 'Name_Ali, Mr. Ahmed',\n",
       " 'Name_Ali, Mr. William',\n",
       " 'Name_Allen, Miss. Elisabeth Walton',\n",
       " 'Name_Allen, Mr. William Henry',\n",
       " 'Name_Allison, Master. Hudson Trevor',\n",
       " 'Name_Allison, Miss. Helen Loraine',\n",
       " 'Name_Allison, Mrs. Hudson J C (Bessie Waldo Daniels)',\n",
       " 'Name_Allum, Mr. Owen George',\n",
       " 'Name_Andersen-Jensen, Miss. Carla Christine Nielsine',\n",
       " 'Name_Anderson, Mr. Harry',\n",
       " 'Name_Andersson, Master. Sigvard Harald Elias',\n",
       " 'Name_Andersson, Miss. Ebba Iris Alfrida',\n",
       " 'Name_Andersson, Miss. Ellis Anna Maria',\n",
       " 'Name_Andersson, Miss. Erna Alexandra',\n",
       " 'Name_Andersson, Miss. Ingeborg Constanzia',\n",
       " 'Name_Andersson, Miss. Sigrid Elisabeth',\n",
       " 'Name_Andersson, Mr. Anders Johan',\n",
       " 'Name_Andersson, Mr. August Edvard (\"Wennerstrom\")',\n",
       " 'Name_Andersson, Mrs. Anders Johan (Alfrida Konstantia Brogren)',\n",
       " 'Name_Andreasson, Mr. Paul Edvin',\n",
       " 'Name_Andrew, Mr. Edgardo Samuel',\n",
       " 'Name_Andrews, Miss. Kornelia Theodosia',\n",
       " 'Name_Andrews, Mr. Thomas Jr',\n",
       " 'Name_Angle, Mrs. William A (Florence \"Mary\" Agnes Hughes)',\n",
       " 'Name_Appleton, Mrs. Edward Dale (Charlotte Lamson)',\n",
       " 'Name_Arnold-Franchi, Mr. Josef',\n",
       " 'Name_Arnold-Franchi, Mrs. Josef (Josefine Franchi)',\n",
       " 'Name_Artagaveytia, Mr. Ramon',\n",
       " 'Name_Asim, Mr. Adola',\n",
       " 'Name_Asplund, Master. Clarence Gustaf Hugo',\n",
       " 'Name_Asplund, Master. Edvin Rojj Felix',\n",
       " 'Name_Asplund, Miss. Lillian Gertrud',\n",
       " 'Name_Asplund, Mrs. Carl Oscar (Selma Augusta Emilia Johansson)',\n",
       " 'Name_Astor, Mrs. John Jacob (Madeleine Talmadge Force)',\n",
       " 'Name_Attalah, Miss. Malake',\n",
       " 'Name_Attalah, Mr. Sleiman',\n",
       " 'Name_Aubart, Mme. Leontine Pauline',\n",
       " 'Name_Augustsson, Mr. Albert',\n",
       " 'Name_Ayoub, Miss. Banoura',\n",
       " 'Name_Backstrom, Mr. Karl Alfred',\n",
       " 'Name_Backstrom, Mrs. Karl Alfred (Maria Mathilda Gustafsson)',\n",
       " 'Name_Baclini, Miss. Eugenie',\n",
       " 'Name_Baclini, Miss. Helene Barbara',\n",
       " 'Name_Baclini, Miss. Marie Catherine',\n",
       " 'Name_Baclini, Mrs. Solomon (Latifa Qurban)',\n",
       " 'Name_Badt, Mr. Mohamed',\n",
       " 'Name_Bailey, Mr. Percy Andrew',\n",
       " 'Name_Balkic, Mr. Cerin',\n",
       " 'Name_Ball, Mrs. (Ada E Hall)',\n",
       " 'Name_Banfield, Mr. Frederick James',\n",
       " 'Name_Barah, Mr. Hanna Assi',\n",
       " 'Name_Barbara, Miss. Saiide',\n",
       " 'Name_Barbara, Mrs. (Catherine David)',\n",
       " 'Name_Barber, Miss. Ellen \"Nellie\"',\n",
       " 'Name_Barkworth, Mr. Algernon Henry Wilson',\n",
       " 'Name_Barton, Mr. David John',\n",
       " 'Name_Bateman, Rev. Robert James',\n",
       " 'Name_Baumann, Mr. John D',\n",
       " 'Name_Baxter, Mr. Quigg Edmond',\n",
       " 'Name_Baxter, Mrs. James (Helene DeLaudeniere Chaput)',\n",
       " 'Name_Bazzani, Miss. Albina',\n",
       " 'Name_Beane, Mr. Edward',\n",
       " 'Name_Beane, Mrs. Edward (Ethel Clarke)',\n",
       " 'Name_Beavan, Mr. William Thomas',\n",
       " 'Name_Becker, Master. Richard F',\n",
       " 'Name_Becker, Miss. Marion Louise',\n",
       " 'Name_Beckwith, Mr. Richard Leonard',\n",
       " 'Name_Beckwith, Mrs. Richard Leonard (Sallie Monypeny)',\n",
       " 'Name_Beesley, Mr. Lawrence',\n",
       " 'Name_Behr, Mr. Karl Howell',\n",
       " 'Name_Bengtsson, Mr. John Viktor',\n",
       " 'Name_Berglund, Mr. Karl Ivar Sven',\n",
       " 'Name_Berriman, Mr. William John',\n",
       " 'Name_Betros, Mr. Tannous',\n",
       " 'Name_Bidois, Miss. Rosalie',\n",
       " 'Name_Bing, Mr. Lee',\n",
       " 'Name_Birkeland, Mr. Hans Martin Monsen',\n",
       " 'Name_Bishop, Mr. Dickinson H',\n",
       " 'Name_Bishop, Mrs. Dickinson H (Helen Walton)',\n",
       " 'Name_Bissette, Miss. Amelia',\n",
       " 'Name_Bjornstrom-Steffansson, Mr. Mauritz Hakan',\n",
       " 'Name_Blackwell, Mr. Stephen Weart',\n",
       " 'Name_Blank, Mr. Henry',\n",
       " 'Name_Bonnell, Miss. Elizabeth',\n",
       " 'Name_Bostandyeff, Mr. Guentcho',\n",
       " 'Name_Boulos, Miss. Nourelain',\n",
       " 'Name_Boulos, Mr. Hanna',\n",
       " 'Name_Boulos, Mrs. Joseph (Sultana)',\n",
       " 'Name_Bourke, Miss. Mary',\n",
       " 'Name_Bourke, Mr. John',\n",
       " 'Name_Bourke, Mrs. John (Catherine)',\n",
       " 'Name_Bowen, Mr. David John \"Dai\"',\n",
       " 'Name_Bowerman, Miss. Elsie Edith',\n",
       " 'Name_Bracken, Mr. James H',\n",
       " 'Name_Bradley, Mr. George (\"George Arthur Brayton\")',\n",
       " 'Name_Braund, Mr. Lewis Richard',\n",
       " 'Name_Braund, Mr. Owen Harris',\n",
       " 'Name_Brewe, Dr. Arthur Jackson',\n",
       " 'Name_Brocklebank, Mr. William Alfred',\n",
       " 'Name_Brown, Miss. Amelia \"Mildred\"',\n",
       " 'Name_Brown, Mr. Thomas William Solomon',\n",
       " 'Name_Brown, Mrs. James Joseph (Margaret Tobin)',\n",
       " 'Name_Brown, Mrs. Thomas William Solomon (Elizabeth Catherine Ford)',\n",
       " 'Name_Bryhl, Mr. Kurt Arnold Gottfrid',\n",
       " 'Name_Burke, Mr. Jeremiah',\n",
       " 'Name_Burns, Miss. Elizabeth Margaret',\n",
       " 'Name_Buss, Miss. Kate',\n",
       " 'Name_Butler, Mr. Reginald Fenton',\n",
       " 'Name_Butt, Major. Archibald Willingham',\n",
       " 'Name_Byles, Rev. Thomas Roussel Davids',\n",
       " 'Name_Bystrom, Mrs. (Karolina)',\n",
       " 'Name_Cacic, Miss. Marija',\n",
       " 'Name_Cacic, Mr. Luka',\n",
       " 'Name_Cairns, Mr. Alexander',\n",
       " 'Name_Calderhead, Mr. Edward Pennington',\n",
       " 'Name_Caldwell, Master. Alden Gates',\n",
       " 'Name_Caldwell, Mrs. Albert Francis (Sylvia Mae Harbaugh)',\n",
       " 'Name_Calic, Mr. Jovo',\n",
       " 'Name_Calic, Mr. Petar',\n",
       " 'Name_Cameron, Miss. Clear Annie',\n",
       " 'Name_Campbell, Mr. William',\n",
       " 'Name_Canavan, Miss. Mary',\n",
       " 'Name_Cann, Mr. Ernest Charles',\n",
       " 'Name_Caram, Mrs. Joseph (Maria Elias)',\n",
       " 'Name_Carbines, Mr. William',\n",
       " 'Name_Cardeza, Mr. Thomas Drake Martinez',\n",
       " 'Name_Carlsson, Mr. August Sigfrid',\n",
       " 'Name_Carlsson, Mr. Frans Olof',\n",
       " 'Name_Carr, Miss. Helen \"Ellen\"',\n",
       " 'Name_Carrau, Mr. Francisco M',\n",
       " 'Name_Carter, Master. William Thornton II',\n",
       " 'Name_Carter, Miss. Lucile Polk',\n",
       " 'Name_Carter, Mr. William Ernest',\n",
       " 'Name_Carter, Mrs. Ernest Courtenay (Lilian Hughes)',\n",
       " 'Name_Carter, Mrs. William Ernest (Lucile Polk)',\n",
       " 'Name_Carter, Rev. Ernest Courtenay',\n",
       " 'Name_Cavendish, Mr. Tyrell William',\n",
       " 'Name_Celotti, Mr. Francesco',\n",
       " 'Name_Chaffee, Mr. Herbert Fuller',\n",
       " 'Name_Chambers, Mr. Norman Campbell',\n",
       " 'Name_Chambers, Mrs. Norman Campbell (Bertha Griggs)',\n",
       " 'Name_Chapman, Mr. Charles Henry',\n",
       " 'Name_Chapman, Mr. John Henry',\n",
       " 'Name_Charters, Mr. David',\n",
       " 'Name_Cherry, Miss. Gladys',\n",
       " 'Name_Chibnall, Mrs. (Edith Martha Bowerman)',\n",
       " 'Name_Chip, Mr. Chang',\n",
       " 'Name_Christmann, Mr. Emil',\n",
       " 'Name_Christy, Miss. Julie Rachel',\n",
       " 'Name_Chronopoulos, Mr. Apostolos',\n",
       " 'Name_Clarke, Mrs. Charles V (Ada Maria Winfield)',\n",
       " 'Name_Cleaver, Miss. Alice',\n",
       " 'Name_Clifford, Mr. George Quincy',\n",
       " 'Name_Coelho, Mr. Domingos Fernandeo',\n",
       " 'Name_Cohen, Mr. Gurshon \"Gus\"',\n",
       " 'Name_Coleff, Mr. Peju',\n",
       " 'Name_Coleff, Mr. Satio',\n",
       " 'Name_Coleridge, Mr. Reginald Charles',\n",
       " 'Name_Collander, Mr. Erik Gustaf',\n",
       " 'Name_Colley, Mr. Edward Pomeroy',\n",
       " 'Name_Collyer, Miss. Marjorie \"Lottie\"',\n",
       " 'Name_Collyer, Mr. Harvey',\n",
       " 'Name_Collyer, Mrs. Harvey (Charlotte Annie Tate)',\n",
       " 'Name_Compton, Miss. Sara Rebecca',\n",
       " 'Name_Connaghton, Mr. Michael',\n",
       " 'Name_Connolly, Miss. Kate',\n",
       " 'Name_Connors, Mr. Patrick',\n",
       " 'Name_Cook, Mr. Jacob',\n",
       " 'Name_Cor, Mr. Liudevit',\n",
       " 'Name_Corn, Mr. Harry',\n",
       " 'Name_Coutts, Master. Eden Leslie \"Neville\"',\n",
       " 'Name_Coutts, Master. William Loch \"William\"',\n",
       " 'Name_Coxon, Mr. Daniel',\n",
       " 'Name_Crease, Mr. Ernest James',\n",
       " 'Name_Cribb, Mr. John Hatfield',\n",
       " 'Name_Crosby, Capt. Edward Gifford',\n",
       " 'Name_Crosby, Miss. Harriet R',\n",
       " 'Name_Culumovic, Mr. Jeso',\n",
       " 'Name_Cumings, Mrs. John Bradley (Florence Briggs Thayer)',\n",
       " 'Name_Cunningham, Mr. Alfred Fleming',\n",
       " 'Name_Dahl, Mr. Karl Edwart',\n",
       " 'Name_Dahlberg, Miss. Gerda Ulrika',\n",
       " 'Name_Dakic, Mr. Branko',\n",
       " 'Name_Daly, Mr. Eugene Patrick',\n",
       " 'Name_Daly, Mr. Peter Denis ',\n",
       " 'Name_Danbom, Mr. Ernst Gilbert',\n",
       " 'Name_Danbom, Mrs. Ernst Gilbert (Anna Sigrid Maria Brogren)',\n",
       " 'Name_Daniel, Mr. Robert Williams',\n",
       " 'Name_Danoff, Mr. Yoto',\n",
       " 'Name_Dantcheff, Mr. Ristiu',\n",
       " 'Name_Davidson, Mr. Thornton',\n",
       " 'Name_Davies, Master. John Morgan Jr',\n",
       " 'Name_Davies, Mr. Alfred J',\n",
       " 'Name_Davies, Mr. Charles Henry',\n",
       " 'Name_Davis, Miss. Mary',\n",
       " 'Name_Davison, Mrs. Thomas Henry (Mary E Finck)',\n",
       " 'Name_Dean, Master. Bertram Vere',\n",
       " 'Name_Dean, Mr. Bertram Frank',\n",
       " 'Name_Denkoff, Mr. Mitto',\n",
       " 'Name_Dennis, Mr. Samuel',\n",
       " 'Name_Devaney, Miss. Margaret Delia',\n",
       " 'Name_Dick, Mr. Albert Adrian',\n",
       " 'Name_Dick, Mrs. Albert Adrian (Vera Gillespie)',\n",
       " 'Name_Dimic, Mr. Jovan',\n",
       " 'Name_Dodge, Master. Washington',\n",
       " 'Name_Doharr, Mr. Tannous',\n",
       " 'Name_Doling, Miss. Elsie',\n",
       " 'Name_Doling, Mrs. John T (Ada Julia Bone)',\n",
       " 'Name_Dooley, Mr. Patrick',\n",
       " 'Name_Dorking, Mr. Edward Arthur',\n",
       " 'Name_Douglas, Mr. Walter Donald',\n",
       " 'Name_Dowdell, Miss. Elizabeth',\n",
       " 'Name_Downton, Mr. William James',\n",
       " 'Name_Drazenoic, Mr. Jozef',\n",
       " 'Name_Drew, Mrs. James Vivian (Lulu Thorne Christian)',\n",
       " 'Name_Duane, Mr. Frank',\n",
       " 'Name_Duff Gordon, Lady. (Lucille Christiana Sutherland) (\"Mrs Morgan\")',\n",
       " 'Name_Duff Gordon, Sir. Cosmo Edmund (\"Mr Morgan\")',\n",
       " 'Name_Duran y More, Miss. Asuncion',\n",
       " 'Name_Edvardsson, Mr. Gustaf Hjalmar',\n",
       " 'Name_Eitemiller, Mr. George Floyd',\n",
       " 'Name_Eklund, Mr. Hans Linus',\n",
       " 'Name_Ekstrom, Mr. Johan',\n",
       " 'Name_Elias, Mr. Dibo',\n",
       " 'Name_Elias, Mr. Joseph Jr',\n",
       " 'Name_Elias, Mr. Tannous',\n",
       " 'Name_Elsbury, Mr. William James',\n",
       " 'Name_Emanuel, Miss. Virginia Ethel',\n",
       " 'Name_Emir, Mr. Farred Chehab',\n",
       " 'Name_Endres, Miss. Caroline Louise',\n",
       " 'Name_Eustis, Miss. Elizabeth Mussey',\n",
       " 'Name_Fahlstrom, Mr. Arne Jonas',\n",
       " 'Name_Farrell, Mr. James',\n",
       " 'Name_Farthing, Mr. John',\n",
       " 'Name_Faunthorpe, Mrs. Lizzie (Elizabeth Anne Wilkinson)',\n",
       " 'Name_Fischer, Mr. Eberhard Thelander',\n",
       " 'Name_Fleming, Miss. Margaret',\n",
       " 'Name_Flynn, Mr. James',\n",
       " 'Name_Flynn, Mr. John',\n",
       " 'Name_Flynn, Mr. John Irwin (\"Irving\")',\n",
       " 'Name_Foo, Mr. Choong',\n",
       " 'Name_Ford, Miss. Doolina Margaret \"Daisy\"',\n",
       " 'Name_Ford, Miss. Robina Maggie \"Ruby\"',\n",
       " 'Name_Ford, Mr. William Neal',\n",
       " 'Name_Ford, Mrs. Edward (Margaret Ann Watson)',\n",
       " 'Name_Foreman, Mr. Benjamin Laventall',\n",
       " 'Name_Fortune, Miss. Alice Elizabeth',\n",
       " 'Name_Fortune, Miss. Mabel Helen',\n",
       " 'Name_Fortune, Mr. Charles Alexander',\n",
       " 'Name_Fortune, Mr. Mark',\n",
       " 'Name_Fox, Mr. Stanley Hubert',\n",
       " 'Name_Francatelli, Miss. Laura Mabel',\n",
       " 'Name_Frauenthal, Dr. Henry William',\n",
       " 'Name_Frauenthal, Mrs. Henry William (Clara Heinsheimer)',\n",
       " 'Name_Frolicher, Miss. Hedwig Margaritha',\n",
       " 'Name_Frolicher-Stehli, Mr. Maxmillian',\n",
       " 'Name_Frost, Mr. Anthony Wood \"Archie\"',\n",
       " 'Name_Fry, Mr. Richard',\n",
       " 'Name_Funk, Miss. Annie Clemmer',\n",
       " 'Name_Futrelle, Mr. Jacques Heath',\n",
       " 'Name_Futrelle, Mrs. Jacques Heath (Lily May Peel)',\n",
       " 'Name_Fynney, Mr. Joseph J',\n",
       " 'Name_Gale, Mr. Shadrach',\n",
       " 'Name_Gallagher, Mr. Martin',\n",
       " 'Name_Garfirth, Mr. John',\n",
       " 'Name_Garside, Miss. Ethel',\n",
       " 'Name_Gaskell, Mr. Alfred',\n",
       " 'Name_Gavey, Mr. Lawrence',\n",
       " 'Name_Gee, Mr. Arthur H',\n",
       " 'Name_Gheorgheff, Mr. Stanio',\n",
       " 'Name_Giglio, Mr. Victor',\n",
       " 'Name_Giles, Mr. Frederick Edward',\n",
       " 'Name_Gilinski, Mr. Eliezer',\n",
       " 'Name_Gill, Mr. John William',\n",
       " 'Name_Gillespie, Mr. William Henry',\n",
       " 'Name_Gilnagh, Miss. Katherine \"Katie\"',\n",
       " 'Name_Givard, Mr. Hans Kristensen',\n",
       " 'Name_Glynn, Miss. Mary Agatha',\n",
       " 'Name_Goldenberg, Mr. Samuel L',\n",
       " 'Name_Goldenberg, Mrs. Samuel L (Edwiga Grabowska)',\n",
       " 'Name_Goldschmidt, Mr. George B',\n",
       " 'Name_Goldsmith, Master. Frank John William \"Frankie\"',\n",
       " 'Name_Goldsmith, Mr. Frank John',\n",
       " 'Name_Goldsmith, Mrs. Frank John (Emily Alice Brown)',\n",
       " 'Name_Goncalves, Mr. Manuel Estanslas',\n",
       " 'Name_Goodwin, Master. Harold Victor',\n",
       " 'Name_Goodwin, Master. Sidney Leonard',\n",
       " 'Name_Goodwin, Master. William Frederick',\n",
       " 'Name_Goodwin, Miss. Lillian Amy',\n",
       " 'Name_Goodwin, Mr. Charles Edward',\n",
       " 'Name_Goodwin, Mrs. Frederick (Augusta Tyler)',\n",
       " 'Name_Graham, Miss. Margaret Edith',\n",
       " 'Name_Graham, Mr. George Edward',\n",
       " 'Name_Graham, Mrs. William Thompson (Edith Junkins)',\n",
       " 'Name_Green, Mr. George Henry',\n",
       " 'Name_Greenberg, Mr. Samuel',\n",
       " 'Name_Greenfield, Mr. William Bertram',\n",
       " 'Name_Gronnestad, Mr. Daniel Danielsen',\n",
       " 'Name_Guggenheim, Mr. Benjamin',\n",
       " 'Name_Gustafsson, Mr. Alfred Ossian',\n",
       " 'Name_Gustafsson, Mr. Anders Vilhelm',\n",
       " 'Name_Gustafsson, Mr. Johan Birger',\n",
       " 'Name_Gustafsson, Mr. Karl Gideon',\n",
       " 'Name_Haas, Miss. Aloisia',\n",
       " 'Name_Hagland, Mr. Ingvald Olai Olsen',\n",
       " 'Name_Hagland, Mr. Konrad Mathias Reiersen',\n",
       " 'Name_Hakkarainen, Mr. Pekka Pietari',\n",
       " 'Name_Hakkarainen, Mrs. Pekka Pietari (Elin Matilda Dolck)',\n",
       " 'Name_Hale, Mr. Reginald',\n",
       " 'Name_Hamalainen, Master. Viljo',\n",
       " 'Name_Hamalainen, Mrs. William (Anna)',\n",
       " 'Name_Hampe, Mr. Leon',\n",
       " 'Name_Hanna, Mr. Mansour',\n",
       " 'Name_Hansen, Mr. Claus Peter',\n",
       " 'Name_Hansen, Mr. Henrik Juul',\n",
       " 'Name_Hansen, Mr. Henry Damsgaard',\n",
       " 'Name_Harder, Mr. George Achilles',\n",
       " 'Name_Harknett, Miss. Alice Phoebe',\n",
       " 'Name_Harmer, Mr. Abraham (David Lishin)',\n",
       " 'Name_Harper, Miss. Annie Jessie \"Nina\"',\n",
       " 'Name_Harper, Mr. Henry Sleeper',\n",
       " 'Name_Harper, Mrs. Henry Sleeper (Myna Haxtun)',\n",
       " 'Name_Harper, Rev. John',\n",
       " 'Name_Harrington, Mr. Charles H',\n",
       " 'Name_Harris, Mr. George',\n",
       " 'Name_Harris, Mr. Henry Birkhardt',\n",
       " 'Name_Harris, Mr. Walter',\n",
       " 'Name_Harris, Mrs. Henry Birkhardt (Irene Wallach)',\n",
       " 'Name_Harrison, Mr. William',\n",
       " 'Name_Hart, Miss. Eva Miriam',\n",
       " 'Name_Hart, Mr. Benjamin',\n",
       " 'Name_Hart, Mr. Henry',\n",
       " 'Name_Hart, Mrs. Benjamin (Esther Ada Bloomfield)',\n",
       " 'Name_Hassab, Mr. Hammad',\n",
       " 'Name_Hassan, Mr. Houssein G N',\n",
       " 'Name_Hawksford, Mr. Walter James',\n",
       " 'Name_Hays, Miss. Margaret Bechstein',\n",
       " 'Name_Hays, Mrs. Charles Melville (Clara Jennings Gregg)',\n",
       " 'Name_Healy, Miss. Hanora \"Nora\"',\n",
       " 'Name_Hedman, Mr. Oskar Arvid',\n",
       " 'Name_Hegarty, Miss. Hanora \"Nora\"',\n",
       " 'Name_Heikkinen, Miss. Laina',\n",
       " 'Name_Heininen, Miss. Wendla Maria',\n",
       " 'Name_Hendekovic, Mr. Ignjac',\n",
       " 'Name_Henry, Miss. Delia',\n",
       " 'Name_Herman, Miss. Alice',\n",
       " 'Name_Herman, Mrs. Samuel (Jane Laver)',\n",
       " 'Name_Hewlett, Mrs. (Mary D Kingcome) ',\n",
       " 'Name_Hickman, Mr. Leonard Mark',\n",
       " 'Name_Hickman, Mr. Lewis',\n",
       " 'Name_Hickman, Mr. Stanley George',\n",
       " 'Name_Hippach, Miss. Jean Gertrude',\n",
       " 'Name_Hippach, Mrs. Louis Albert (Ida Sophia Fischer)',\n",
       " 'Name_Hirvonen, Miss. Hildur E',\n",
       " 'Name_Hocking, Mr. Richard George',\n",
       " 'Name_Hocking, Mrs. Elizabeth (Eliza Needs)',\n",
       " 'Name_Hodges, Mr. Henry Price',\n",
       " 'Name_Hogeboom, Mrs. John C (Anna Andrews)',\n",
       " 'Name_Hold, Mr. Stephen',\n",
       " 'Name_Holm, Mr. John Fredrik Alexander',\n",
       " 'Name_Holverson, Mr. Alexander Oskar',\n",
       " 'Name_Holverson, Mrs. Alexander Oskar (Mary Aline Towner)',\n",
       " 'Name_Homer, Mr. Harry (\"Mr E Haven\")',\n",
       " 'Name_Honkanen, Miss. Eliina',\n",
       " 'Name_Hood, Mr. Ambrose Jr',\n",
       " 'Name_Horgan, Mr. John',\n",
       " 'Name_Hosono, Mr. Masabumi',\n",
       " 'Name_Hoyt, Mr. Frederick Maxfield',\n",
       " 'Name_Hoyt, Mr. William Fisher',\n",
       " 'Name_Hoyt, Mrs. Frederick Maxfield (Jane Anne Forby)',\n",
       " 'Name_Humblen, Mr. Adolf Mathias Nicolai Olsen',\n",
       " 'Name_Hunt, Mr. George Henry',\n",
       " 'Name_Ibrahim Shawah, Mr. Yousseff',\n",
       " 'Name_Icard, Miss. Amelie',\n",
       " 'Name_Ilett, Miss. Bertha',\n",
       " 'Name_Ilmakangas, Miss. Pieta Sofia',\n",
       " 'Name_Isham, Miss. Ann Elizabeth',\n",
       " 'Name_Ivanoff, Mr. Kanio',\n",
       " 'Name_Jacobsohn, Mr. Sidney Samuel',\n",
       " 'Name_Jacobsohn, Mrs. Sidney Samuel (Amy Frances Christy)',\n",
       " 'Name_Jalsevac, Mr. Ivan',\n",
       " 'Name_Jansson, Mr. Carl Olof',\n",
       " 'Name_Jardin, Mr. Jose Neto',\n",
       " 'Name_Jarvis, Mr. John Denzil',\n",
       " 'Name_Jenkin, Mr. Stephen Curnow',\n",
       " 'Name_Jensen, Mr. Hans Peder',\n",
       " 'Name_Jensen, Mr. Niels Peder',\n",
       " 'Name_Jensen, Mr. Svend Lauritz',\n",
       " 'Name_Jermyn, Miss. Annie',\n",
       " 'Name_Jerwan, Mrs. Amin S (Marie Marthe Thuillard)',\n",
       " 'Name_Johannesen-Bratthammer, Mr. Bernt',\n",
       " 'Name_Johanson, Mr. Jakob Alfred',\n",
       " 'Name_Johansson, Mr. Erik',\n",
       " 'Name_Johansson, Mr. Gustaf Joel',\n",
       " 'Name_Johansson, Mr. Karl Johan',\n",
       " 'Name_Johnson, Master. Harold Theodor',\n",
       " 'Name_Johnson, Miss. Eleanor Ileen',\n",
       " 'Name_Johnson, Mr. Alfred',\n",
       " 'Name_Johnson, Mr. Malkolm Joackim',\n",
       " 'Name_Johnson, Mr. William Cahoone Jr',\n",
       " 'Name_Johnson, Mrs. Oscar W (Elisabeth Vilhelmina Berg)',\n",
       " 'Name_Johnston, Miss. Catherine Helen \"Carrie\"',\n",
       " 'Name_Johnston, Mr. Andrew G',\n",
       " 'Name_Jonkoff, Mr. Lalio',\n",
       " 'Name_Jonsson, Mr. Carl',\n",
       " 'Name_Jussila, Miss. Katriina',\n",
       " 'Name_Jussila, Miss. Mari Aina',\n",
       " 'Name_Jussila, Mr. Eiriik',\n",
       " 'Name_Kallio, Mr. Nikolai Erland',\n",
       " 'Name_Kalvik, Mr. Johannes Halvorsen',\n",
       " 'Name_Kantor, Mr. Sinai',\n",
       " 'Name_Kantor, Mrs. Sinai (Miriam Sternin)',\n",
       " 'Name_Karaic, Mr. Milan',\n",
       " 'Name_Karlsson, Mr. Nils August',\n",
       " 'Name_Karun, Miss. Manca',\n",
       " 'Name_Kassem, Mr. Fared',\n",
       " 'Name_Keane, Miss. Nora A',\n",
       " 'Name_Keane, Mr. Andrew \"Andy\"',\n",
       " 'Name_Keefe, Mr. Arthur',\n",
       " 'Name_Kelly, Miss. Anna Katherine \"Annie Kate\"',\n",
       " 'Name_Kelly, Miss. Mary',\n",
       " 'Name_Kelly, Mr. James',\n",
       " 'Name_Kelly, Mrs. Florence \"Fannie\"',\n",
       " 'Name_Kent, Mr. Edward Austin',\n",
       " 'Name_Kenyon, Mrs. Frederick R (Marion)',\n",
       " 'Name_Kiernan, Mr. Philip',\n",
       " 'Name_Kilgannon, Mr. Thomas J',\n",
       " 'Name_Kimball, Mr. Edwin Nelson Jr',\n",
       " 'Name_Kink, Mr. Vincenz',\n",
       " 'Name_Kink-Heilmann, Miss. Luise Gretchen',\n",
       " 'Name_Kirkland, Rev. Charles Leonard',\n",
       " 'Name_Klaber, Mr. Herman',\n",
       " 'Name_Klasen, Mr. Klas Albin',\n",
       " 'Name_Knight, Mr. Robert J',\n",
       " 'Name_Kraeff, Mr. Theodor',\n",
       " 'Name_Kvillner, Mr. Johan Henrik Johannesson',\n",
       " 'Name_Lahoud, Mr. Sarkis',\n",
       " 'Name_Lahtinen, Mrs. William (Anna Sylfven)',\n",
       " 'Name_Laitinen, Miss. Kristina Sofia',\n",
       " 'Name_Laleff, Mr. Kristo',\n",
       " 'Name_Lam, Mr. Ali',\n",
       " 'Name_Lam, Mr. Len',\n",
       " 'Name_Landergren, Miss. Aurora Adelia',\n",
       " 'Name_Lang, Mr. Fang',\n",
       " 'Name_Laroche, Miss. Simonne Marie Anne Andree',\n",
       " 'Name_Laroche, Mr. Joseph Philippe Lemercier',\n",
       " 'Name_Laroche, Mrs. Joseph (Juliette Marie Louise Lafargue)',\n",
       " 'Name_Larsson, Mr. August Viktor',\n",
       " 'Name_Larsson, Mr. Bengt Edvin',\n",
       " 'Name_LeRoy, Miss. Bertha',\n",
       " 'Name_Leader, Dr. Alice (Farnham)',\n",
       " 'Name_Leeni, Mr. Fahim (\"Philip Zenni\")',\n",
       " 'Name_Lefebre, Master. Henry Forbes',\n",
       " 'Name_Lefebre, Miss. Ida',\n",
       " 'Name_Lefebre, Miss. Jeannie',\n",
       " 'Name_Lefebre, Miss. Mathilde',\n",
       " 'Name_Lehmann, Miss. Bertha',\n",
       " 'Name_Leinonen, Mr. Antti Gustaf',\n",
       " 'Name_Leitch, Miss. Jessie Wills',\n",
       " 'Name_Lemberopolous, Mr. Peter L',\n",
       " 'Name_Lemore, Mrs. (Amelia Milley)',\n",
       " 'Name_Lennon, Mr. Denis',\n",
       " 'Name_Leonard, Mr. Lionel',\n",
       " 'Name_Lester, Mr. James',\n",
       " 'Name_Lesurer, Mr. Gustave J',\n",
       " 'Name_Levy, Mr. Rene Jacques',\n",
       " 'Name_Lewy, Mr. Ervin G',\n",
       " 'Name_Leyson, Mr. Robert William Norman',\n",
       " 'Name_Lievens, Mr. Rene Aime',\n",
       " 'Name_Lindahl, Miss. Agda Thorilda Viktoria',\n",
       " 'Name_Lindblom, Miss. Augusta Charlotta',\n",
       " 'Name_Lindell, Mr. Edvard Bengtsson',\n",
       " 'Name_Lindqvist, Mr. Eino William',\n",
       " 'Name_Lines, Miss. Mary Conover',\n",
       " 'Name_Ling, Mr. Lee',\n",
       " 'Name_Lobb, Mr. William Arthur',\n",
       " 'Name_Lobb, Mrs. William Arthur (Cordelia K Stanlick)',\n",
       " 'Name_Long, Mr. Milton Clyde',\n",
       " 'Name_Longley, Miss. Gretchen Fiske',\n",
       " 'Name_Louch, Mrs. Charles Alexander (Alice Adelaide Slow)',\n",
       " 'Name_Lovell, Mr. John Hall (\"Henry\")',\n",
       " 'Name_Lulic, Mr. Nikola',\n",
       " 'Name_Lundahl, Mr. Johan Svensson',\n",
       " 'Name_Lurette, Miss. Elise',\n",
       " 'Name_Mack, Mrs. (Mary)',\n",
       " 'Name_Madigan, Miss. Margaret \"Maggie\"',\n",
       " 'Name_Madill, Miss. Georgette Alexandra',\n",
       " 'Name_Madsen, Mr. Fridtjof Arne',\n",
       " 'Name_Maenpaa, Mr. Matti Alexanteri',\n",
       " 'Name_Maioni, Miss. Roberta',\n",
       " 'Name_Maisner, Mr. Simon',\n",
       " 'Name_Mallet, Master. Andre',\n",
       " 'Name_Mallet, Mr. Albert',\n",
       " 'Name_Mamee, Mr. Hanna',\n",
       " 'Name_Mangan, Miss. Mary',\n",
       " 'Name_Mannion, Miss. Margareth',\n",
       " 'Name_Marechal, Mr. Pierre',\n",
       " 'Name_Markoff, Mr. Marin',\n",
       " 'Name_Markun, Mr. Johann',\n",
       " 'Name_Marvin, Mr. Daniel Warner',\n",
       " 'Name_Masselmani, Mrs. Fatima',\n",
       " 'Name_Matthews, Mr. William John',\n",
       " 'Name_Mayne, Mlle. Berthe Antonine (\"Mrs de Villiers\")',\n",
       " 'Name_McCarthy, Mr. Timothy J',\n",
       " 'Name_McCormack, Mr. Thomas Joseph',\n",
       " 'Name_McCoy, Miss. Agnes',\n",
       " 'Name_McCoy, Mr. Bernard',\n",
       " 'Name_McDermott, Miss. Brigdet Delia',\n",
       " 'Name_McEvoy, Mr. Michael',\n",
       " 'Name_McGough, Mr. James Robert',\n",
       " 'Name_McGovern, Miss. Mary',\n",
       " 'Name_McGowan, Miss. Anna \"Annie\"',\n",
       " 'Name_McKane, Mr. Peter David',\n",
       " 'Name_McMahon, Mr. Martin',\n",
       " 'Name_McNamee, Mr. Neal',\n",
       " 'Name_Meanwell, Miss. (Marion Ogden)',\n",
       " 'Name_Meek, Mrs. Thomas (Annie Louise Rowley)',\n",
       " 'Name_Mellinger, Miss. Madeleine Violet',\n",
       " 'Name_Mellinger, Mrs. (Elizabeth Anne Maidment)',\n",
       " 'Name_Mellors, Mr. William John',\n",
       " 'Name_Meo, Mr. Alfonzo',\n",
       " 'Name_Mernagh, Mr. Robert',\n",
       " 'Name_Meyer, Mr. August',\n",
       " 'Name_Meyer, Mr. Edgar Joseph',\n",
       " 'Name_Meyer, Mrs. Edgar Joseph (Leila Saks)',\n",
       " 'Name_Millet, Mr. Francis Davis',\n",
       " 'Name_Milling, Mr. Jacob Christian',\n",
       " 'Name_Minahan, Dr. William Edward',\n",
       " 'Name_Minahan, Miss. Daisy E',\n",
       " 'Name_Mineff, Mr. Ivan',\n",
       " 'Name_Mionoff, Mr. Stoytcho',\n",
       " 'Name_Mitchell, Mr. Henry Michael',\n",
       " 'Name_Mitkoff, Mr. Mito',\n",
       " 'Name_Mockler, Miss. Helen Mary \"Ellie\"',\n",
       " 'Name_Moen, Mr. Sigurd Hansen',\n",
       " 'Name_Molson, Mr. Harry Markland',\n",
       " 'Name_Montvila, Rev. Juozas',\n",
       " 'Name_Moor, Master. Meier',\n",
       " 'Name_Moor, Mrs. (Beila)',\n",
       " 'Name_Moore, Mr. Leonard Charles',\n",
       " 'Name_Moran, Miss. Bertha',\n",
       " 'Name_Moran, Mr. Daniel J',\n",
       " 'Name_Moran, Mr. James',\n",
       " 'Name_Moraweck, Dr. Ernest',\n",
       " 'Name_Morley, Mr. Henry Samuel (\"Mr Henry Marshall\")',\n",
       " 'Name_Morley, Mr. William',\n",
       " 'Name_Morrow, Mr. Thomas Rowan',\n",
       " 'Name_Moss, Mr. Albert Johan',\n",
       " 'Name_Moubarek, Master. Gerios',\n",
       " 'Name_Moubarek, Master. Halim Gonios (\"William George\")',\n",
       " 'Name_Moussa, Mrs. (Mantoura Boulos)',\n",
       " 'Name_Moutal, Mr. Rahamin Haim',\n",
       " 'Name_Mudd, Mr. Thomas Charles',\n",
       " 'Name_Mullens, Miss. Katherine \"Katie\"',\n",
       " 'Name_Murdlin, Mr. Joseph',\n",
       " 'Name_Murphy, Miss. Katherine \"Kate\"',\n",
       " 'Name_Murphy, Miss. Margaret Jane',\n",
       " 'Name_Myhrman, Mr. Pehr Fabian Oliver Malkolm',\n",
       " 'Name_Naidenoff, Mr. Penko',\n",
       " 'Name_Najib, Miss. Adele Kiamie \"Jane\"',\n",
       " 'Name_Nakid, Miss. Maria (\"Mary\")',\n",
       " 'Name_Nakid, Mr. Sahid',\n",
       " 'Name_Nankoff, Mr. Minko',\n",
       " 'Name_Nasser, Mr. Nicholas',\n",
       " 'Name_Nasser, Mrs. Nicholas (Adele Achem)',\n",
       " 'Name_Natsch, Mr. Charles H',\n",
       " 'Name_Navratil, Master. Edmond Roger',\n",
       " 'Name_Navratil, Master. Michel M',\n",
       " 'Name_Navratil, Mr. Michel (\"Louis M Hoffman\")',\n",
       " 'Name_Nenkoff, Mr. Christo',\n",
       " 'Name_Newell, Miss. Madeleine',\n",
       " 'Name_Newell, Miss. Marjorie',\n",
       " 'Name_Newell, Mr. Arthur Webster',\n",
       " 'Name_Newsom, Miss. Helen Monypeny',\n",
       " 'Name_Nicholls, Mr. Joseph Charles',\n",
       " 'Name_Nicholson, Mr. Arthur Ernest',\n",
       " 'Name_Nicola-Yarred, Master. Elias',\n",
       " 'Name_Nicola-Yarred, Miss. Jamila',\n",
       " 'Name_Nilsson, Miss. Helmina Josefina',\n",
       " 'Name_Nirva, Mr. Iisakki Antino Aijo',\n",
       " 'Name_Niskanen, Mr. Juha',\n",
       " 'Name_Norman, Mr. Robert Douglas',\n",
       " 'Name_Nosworthy, Mr. Richard Cater',\n",
       " 'Name_Novel, Mr. Mansouer',\n",
       " 'Name_Nye, Mrs. (Elizabeth Ramell)',\n",
       " 'Name_Nysten, Miss. Anna Sofia',\n",
       " 'Name_Nysveen, Mr. Johan Hansen',\n",
       " \"Name_O'Brien, Mr. Thomas\",\n",
       " \"Name_O'Brien, Mr. Timothy\",\n",
       " 'Name_O\\'Brien, Mrs. Thomas (Johanna \"Hannah\" Godfrey)',\n",
       " \"Name_O'Connell, Mr. Patrick D\",\n",
       " \"Name_O'Connor, Mr. Maurice\",\n",
       " \"Name_O'Driscoll, Miss. Bridget\",\n",
       " 'Name_O\\'Dwyer, Miss. Ellen \"Nellie\"',\n",
       " 'Name_O\\'Leary, Miss. Hanora \"Norah\"',\n",
       " \"Name_O'Sullivan, Miss. Bridget Mary\",\n",
       " 'Name_Odahl, Mr. Nils Martin',\n",
       " 'Name_Ohman, Miss. Velin',\n",
       " 'Name_Olsen, Mr. Henry Margido',\n",
       " 'Name_Olsen, Mr. Karl Siegwart Andreas',\n",
       " 'Name_Olsen, Mr. Ole Martin',\n",
       " 'Name_Olsson, Miss. Elina',\n",
       " 'Name_Olsson, Mr. Nils Johan Goransson',\n",
       " 'Name_Olsvigen, Mr. Thor Anderson',\n",
       " 'Name_Oreskovic, Miss. Marija',\n",
       " 'Name_Oreskovic, Mr. Luka',\n",
       " 'Name_Osen, Mr. Olaf Elon',\n",
       " 'Name_Osman, Mrs. Mara',\n",
       " 'Name_Ostby, Mr. Engelhart Cornelius',\n",
       " 'Name_Otter, Mr. Richard',\n",
       " 'Name_Padro y Manent, Mr. Julian',\n",
       " 'Name_Pain, Dr. Alfred',\n",
       " 'Name_Palsson, Master. Gosta Leonard',\n",
       " 'Name_Palsson, Miss. Stina Viola',\n",
       " 'Name_Palsson, Miss. Torborg Danira',\n",
       " 'Name_Palsson, Mrs. Nils (Alma Cornelia Berglund)',\n",
       " 'Name_Panula, Master. Eino Viljami',\n",
       " 'Name_Panula, Master. Juha Niilo',\n",
       " 'Name_Panula, Master. Urho Abraham',\n",
       " 'Name_Panula, Mr. Ernesti Arvid',\n",
       " 'Name_Panula, Mr. Jaako Arnold',\n",
       " 'Name_Panula, Mrs. Juha (Maria Emilia Ojala)',\n",
       " 'Name_Parkes, Mr. Francis \"Frank\"',\n",
       " 'Name_Parr, Mr. William Henry Marsh',\n",
       " 'Name_Parrish, Mrs. (Lutie Davis)',\n",
       " 'Name_Partner, Mr. Austen',\n",
       " 'Name_Pasic, Mr. Jakob',\n",
       " 'Name_Patchett, Mr. George',\n",
       " 'Name_Paulner, Mr. Uscher',\n",
       " 'Name_Pavlovic, Mr. Stefo',\n",
       " 'Name_Pears, Mr. Thomas Clinton',\n",
       " 'Name_Pears, Mrs. Thomas (Edith Wearne)',\n",
       " 'Name_Peduzzi, Mr. Joseph',\n",
       " 'Name_Pekoniemi, Mr. Edvard',\n",
       " 'Name_Penasco y Castellana, Mr. Victor de Satode',\n",
       " 'Name_Penasco y Castellana, Mrs. Victor de Satode (Maria Josefa Perez de Soto y Vallejo)',\n",
       " 'Name_Pengelly, Mr. Frederick William',\n",
       " 'Name_Perkin, Mr. John Henry',\n",
       " 'Name_Pernot, Mr. Rene',\n",
       " 'Name_Perreault, Miss. Anne',\n",
       " 'Name_Persson, Mr. Ernst Ulrik',\n",
       " 'Name_Peter, Miss. Anna',\n",
       " 'Name_Peter, Mrs. Catherine (Catherine Rizk)',\n",
       " 'Name_Peters, Miss. Katie',\n",
       " 'Name_Petranec, Miss. Matilda',\n",
       " 'Name_Petroff, Mr. Nedelio',\n",
       " 'Name_Petroff, Mr. Pastcho (\"Pentcho\")',\n",
       " 'Name_Petterson, Mr. Johan Emil',\n",
       " 'Name_Pettersson, Miss. Ellen Natalia',\n",
       " 'Name_Peuchen, Major. Arthur Godfrey',\n",
       " 'Name_Phillips, Miss. Kate Florence (\"Mrs Kate Louise Phillips Marshall\")',\n",
       " 'Name_Pickard, Mr. Berk (Berk Trembisky)',\n",
       " 'Name_Pinsky, Mrs. (Rosa)',\n",
       " 'Name_Plotcharsky, Mr. Vasil',\n",
       " 'Name_Ponesell, Mr. Martin',\n",
       " 'Name_Porter, Mr. Walter Chamberlain',\n",
       " 'Name_Potter, Mrs. Thomas Jr (Lily Alexenia Wilson)',\n",
       " 'Name_Quick, Miss. Phyllis May',\n",
       " 'Name_Quick, Mrs. Frederick Charles (Jane Richards)',\n",
       " 'Name_Radeff, Mr. Alexander',\n",
       " 'Name_Razi, Mr. Raihed',\n",
       " 'Name_Reed, Mr. James George',\n",
       " 'Name_Reeves, Mr. David',\n",
       " 'Name_Rekic, Mr. Tido',\n",
       " 'Name_Renouf, Mr. Peter Henry',\n",
       " 'Name_Renouf, Mrs. Peter Henry (Lillian Jefferys)',\n",
       " 'Name_Reuchlin, Jonkheer. John George',\n",
       " 'Name_Reynaldo, Ms. Encarnacion',\n",
       " 'Name_Rice, Master. Arthur',\n",
       " 'Name_Rice, Master. Eric',\n",
       " 'Name_Rice, Master. Eugene',\n",
       " 'Name_Rice, Master. George Hugh',\n",
       " 'Name_Rice, Mrs. William (Margaret Norton)',\n",
       " 'Name_Richard, Mr. Emile',\n",
       " 'Name_Richards, Master. George Sibley',\n",
       " 'Name_Richards, Master. William Rowe',\n",
       " 'Name_Richards, Mrs. Sidney (Emily Hocking)',\n",
       " 'Name_Ridsdale, Miss. Lucy',\n",
       " 'Name_Ringhini, Mr. Sante',\n",
       " 'Name_Rintamaki, Mr. Matti',\n",
       " 'Name_Risien, Mr. Samuel Beard',\n",
       " 'Name_Robbins, Mr. Victor',\n",
       " 'Name_Robert, Mrs. Edward Scott (Elisabeth Walton McMillan)',\n",
       " 'Name_Robins, Mrs. Alexander A (Grace Charity Laury)',\n",
       " 'Name_Roebling, Mr. Washington Augustus II',\n",
       " 'Name_Rogers, Mr. William John',\n",
       " 'Name_Romaine, Mr. Charles Hallace (\"Mr C Rolmane\")',\n",
       " 'Name_Rommetvedt, Mr. Knud Paust',\n",
       " 'Name_Rood, Mr. Hugh Roscoe',\n",
       " 'Name_Rosblom, Mr. Viktor Richard',\n",
       " 'Name_Rosblom, Mrs. Viktor (Helena Wilhelmina)',\n",
       " 'Name_Ross, Mr. John Hugo',\n",
       " 'Name_Rothes, the Countess. of (Lucy Noel Martha Dyer-Edwards)',\n",
       " 'Name_Rothschild, Mrs. Martin (Elizabeth L. Barrett)',\n",
       " 'Name_Rouse, Mr. Richard Henry',\n",
       " 'Name_Rugg, Miss. Emily',\n",
       " 'Name_Rush, Mr. Alfred George John',\n",
       " 'Name_Ryan, Mr. Patrick',\n",
       " 'Name_Ryerson, Miss. Emily Borie',\n",
       " 'Name_Ryerson, Miss. Susan Parker \"Suzette\"',\n",
       " 'Name_Saad, Mr. Amin',\n",
       " 'Name_Saad, Mr. Khalil',\n",
       " 'Name_Saalfeld, Mr. Adolphe',\n",
       " 'Name_Sadlier, Mr. Matthew',\n",
       " 'Name_Sage, Master. Thomas Henry',\n",
       " 'Name_Sage, Miss. Constance Gladys',\n",
       " 'Name_Sage, Miss. Dorothy Edith \"Dolly\"',\n",
       " 'Name_Sage, Miss. Stella Anna',\n",
       " 'Name_Sage, Mr. Douglas Bullen',\n",
       " 'Name_Sage, Mr. Frederick',\n",
       " 'Name_Sage, Mr. George John Jr',\n",
       " 'Name_Sagesser, Mlle. Emma',\n",
       " 'Name_Salkjelsvik, Miss. Anna Kristine',\n",
       " 'Name_Salonen, Mr. Johan Werner',\n",
       " 'Name_Samaan, Mr. Youssef',\n",
       " 'Name_Sandstrom, Miss. Marguerite Rut',\n",
       " 'Name_Sandstrom, Mrs. Hjalmar (Agnes Charlotta Bengtsson)',\n",
       " 'Name_Saundercock, Mr. William Henry',\n",
       " 'Name_Sawyer, Mr. Frederick Charles',\n",
       " 'Name_Scanlan, Mr. James',\n",
       " 'Name_Sdycoff, Mr. Todor',\n",
       " 'Name_Sedgwick, Mr. Charles Frederick Waddington',\n",
       " 'Name_Serepeca, Miss. Augusta',\n",
       " 'Name_Seward, Mr. Frederic Kimber',\n",
       " 'Name_Sharp, Mr. Percival James R',\n",
       " 'Name_Sheerlinck, Mr. Jan Baptist',\n",
       " 'Name_Shellard, Mr. Frederick William',\n",
       " 'Name_Shelley, Mrs. William (Imanita Parrish Hall)',\n",
       " 'Name_Shorney, Mr. Charles Joseph',\n",
       " 'Name_Shutes, Miss. Elizabeth W',\n",
       " 'Name_Silven, Miss. Lyyli Karoliina',\n",
       " 'Name_Silverthorne, Mr. Spencer Victor',\n",
       " 'Name_Silvey, Mr. William Baird',\n",
       " 'Name_Silvey, Mrs. William Baird (Alice Munger)',\n",
       " 'Name_Simmons, Mr. John',\n",
       " 'Name_Simonius-Blumer, Col. Oberst Alfons',\n",
       " 'Name_Sinkkonen, Miss. Anna',\n",
       " 'Name_Sirayanian, Mr. Orsen',\n",
       " 'Name_Sirota, Mr. Maurice',\n",
       " 'Name_Sivic, Mr. Husein',\n",
       " 'Name_Sivola, Mr. Antti Wilhelm',\n",
       " 'Name_Sjoblom, Miss. Anna Sofia',\n",
       " 'Name_Sjostedt, Mr. Ernst Adolf',\n",
       " 'Name_Skoog, Master. Harald',\n",
       " 'Name_Skoog, Master. Karl Thorsten',\n",
       " 'Name_Skoog, Miss. Mabel',\n",
       " 'Name_Skoog, Miss. Margit Elizabeth',\n",
       " 'Name_Skoog, Mr. Wilhelm',\n",
       " 'Name_Skoog, Mrs. William (Anna Bernhardina Karlsson)',\n",
       " 'Name_Slabenoff, Mr. Petco',\n",
       " 'Name_Slayter, Miss. Hilda Mary',\n",
       " 'Name_Slemen, Mr. Richard James',\n",
       " 'Name_Slocovski, Mr. Selman Francis',\n",
       " 'Name_Sloper, Mr. William Thompson',\n",
       " 'Name_Smart, Mr. John Montgomery',\n",
       " 'Name_Smiljanic, Mr. Mile',\n",
       " 'Name_Smith, Miss. Marion Elsie',\n",
       " 'Name_Smith, Mr. James Clinch',\n",
       " 'Name_Smith, Mr. Richard William',\n",
       " 'Name_Smith, Mr. Thomas',\n",
       " 'Name_Sobey, Mr. Samuel James Hayden',\n",
       " 'Name_Soholt, Mr. Peter Andreas Lauritz Andersen',\n",
       " 'Name_Somerton, Mr. Francis William',\n",
       " 'Name_Spedden, Mrs. Frederic Oakley (Margaretta Corning Stone)',\n",
       " 'Name_Spencer, Mrs. William Augustus (Marie Eugenie)',\n",
       " 'Name_Stahelin-Maeglin, Dr. Max',\n",
       " 'Name_Staneff, Mr. Ivan',\n",
       " 'Name_Stankovic, Mr. Ivan',\n",
       " 'Name_Stanley, Miss. Amy Zillah Elsie',\n",
       " 'Name_Stanley, Mr. Edward Roland',\n",
       " 'Name_Stead, Mr. William Thomas',\n",
       " 'Name_Stephenson, Mrs. Walter Bertram (Martha Eustis)',\n",
       " 'Name_Stewart, Mr. Albert A',\n",
       " 'Name_Stone, Mrs. George Nelson (Martha Evelyn)',\n",
       " 'Name_Stoytcheff, Mr. Ilia',\n",
       " 'Name_Strandberg, Miss. Ida Sofia',\n",
       " 'Name_Stranden, Mr. Juho',\n",
       " 'Name_Strom, Miss. Telma Matilda',\n",
       " 'Name_Strom, Mrs. Wilhelm (Elna Matilda Persson)',\n",
       " 'Name_Sunderland, Mr. Victor Francis',\n",
       " 'Name_Sundman, Mr. Johan Julian',\n",
       " 'Name_Sutehall, Mr. Henry Jr',\n",
       " 'Name_Sutton, Mr. Frederick',\n",
       " 'Name_Svensson, Mr. Johan',\n",
       " 'Name_Svensson, Mr. Olof',\n",
       " 'Name_Swift, Mrs. Frederick Joel (Margaret Welles Barron)',\n",
       " 'Name_Taussig, Miss. Ruth',\n",
       " 'Name_Taussig, Mr. Emil',\n",
       " 'Name_Taussig, Mrs. Emil (Tillie Mandelbaum)',\n",
       " 'Name_Taylor, Mr. Elmer Zebley',\n",
       " 'Name_Taylor, Mrs. Elmer Zebley (Juliet Cummins Wright)',\n",
       " 'Name_Thayer, Mr. John Borland',\n",
       " 'Name_Thayer, Mr. John Borland Jr',\n",
       " 'Name_Thayer, Mrs. John Borland (Marian Longstreth Morris)',\n",
       " 'Name_Theobald, Mr. Thomas Leonard',\n",
       " 'Name_Thomas, Master. Assad Alexander',\n",
       " 'Name_Thorne, Mrs. Gertrude Maybelle',\n",
       " 'Name_Thorneycroft, Mr. Percival',\n",
       " 'Name_Thorneycroft, Mrs. Percival (Florence Kate White)',\n",
       " 'Name_Tikkanen, Mr. Juho',\n",
       " 'Name_Tobin, Mr. Roger',\n",
       " 'Name_Todoroff, Mr. Lalio',\n",
       " 'Name_Tomlin, Mr. Ernest Portage',\n",
       " 'Name_Toomey, Miss. Ellen',\n",
       " 'Name_Torber, Mr. Ernst William',\n",
       " 'Name_Tornquist, Mr. William Henry',\n",
       " 'Name_Toufik, Mr. Nakli',\n",
       " 'Name_Touma, Mrs. Darwis (Hanne Youssef Razi)',\n",
       " 'Name_Troupiansky, Mr. Moses Aaron',\n",
       " 'Name_Trout, Mrs. William H (Jessie L)',\n",
       " 'Name_Troutt, Miss. Edwina Celia \"Winnie\"',\n",
       " 'Name_Turcin, Mr. Stjepan',\n",
       " 'Name_Turja, Miss. Anna Sofia',\n",
       " 'Name_Turkula, Mrs. (Hedwig)',\n",
       " 'Name_Turpin, Mr. William John Robert',\n",
       " 'Name_Turpin, Mrs. William John Robert (Dorothy Ann Wonnacott)',\n",
       " 'Name_Uruchurtu, Don. Manuel E',\n",
       " 'Name_Van Impe, Miss. Catharina',\n",
       " 'Name_Van Impe, Mr. Jean Baptiste',\n",
       " 'Name_Van Impe, Mrs. Jean Baptiste (Rosalie Paula Govaert)',\n",
       " 'Name_Van der hoef, Mr. Wyckoff',\n",
       " 'Name_Vande Velde, Mr. Johannes Joseph',\n",
       " 'Name_Vande Walle, Mr. Nestor Cyriel',\n",
       " 'Name_Vanden Steen, Mr. Leo Peter',\n",
       " 'Name_Vander Cruyssen, Mr. Victor',\n",
       " 'Name_Vander Planke, Miss. Augusta Maria',\n",
       " 'Name_Vander Planke, Mr. Leo Edmondus',\n",
       " 'Name_Vander Planke, Mrs. Julius (Emelia Maria Vandemoortele)',\n",
       " 'Name_Vestrom, Miss. Hulda Amanda Adolfina',\n",
       " 'Name_Vovk, Mr. Janko',\n",
       " 'Name_Waelens, Mr. Achille',\n",
       " 'Name_Walker, Mr. William Anderson',\n",
       " 'Name_Ward, Miss. Anna',\n",
       " 'Name_Warren, Mrs. Frank Manley (Anna Sophia Atkinson)',\n",
       " 'Name_Watson, Mr. Ennis Hastings',\n",
       " 'Name_Watt, Mrs. James (Elizabeth \"Bessie\" Inglis Milne)',\n",
       " 'Name_Webber, Miss. Susan',\n",
       " 'Name_Webber, Mr. James',\n",
       " 'Name_Weir, Col. John',\n",
       " 'Name_Weisz, Mrs. Leopold (Mathilde Francoise Pede)',\n",
       " 'Name_Wells, Miss. Joan',\n",
       " 'Name_West, Miss. Constance Mirium',\n",
       " 'Name_West, Mr. Edwy Arthur',\n",
       " 'Name_West, Mrs. Edwy Arthur (Ada Mary Worth)',\n",
       " 'Name_Wheadon, Mr. Edward H',\n",
       " 'Name_White, Mr. Percival Wayland',\n",
       " 'Name_White, Mr. Richard Frasar',\n",
       " 'Name_Wick, Miss. Mary Natalie',\n",
       " 'Name_Wick, Mrs. George Dennick (Mary Hitchcock)',\n",
       " 'Name_Widegren, Mr. Carl/Charles Peter',\n",
       " 'Name_Widener, Mr. Harry Elkins',\n",
       " 'Name_Wiklund, Mr. Jakob Alfred',\n",
       " 'Name_Wilhelms, Mr. Charles',\n",
       " 'Name_Willey, Mr. Edward',\n",
       " 'Name_Williams, Mr. Charles Duane',\n",
       " 'Name_Williams, Mr. Charles Eugene',\n",
       " 'Name_Williams, Mr. Howard Hugh \"Harry\"',\n",
       " 'Name_Williams, Mr. Leslie',\n",
       " 'Name_Williams-Lambert, Mr. Fletcher Fellows',\n",
       " 'Name_Windelov, Mr. Einar',\n",
       " 'Name_Wiseman, Mr. Phillippe',\n",
       " 'Name_Woolner, Mr. Hugh',\n",
       " 'Name_Wright, Mr. George',\n",
       " 'Name_Yasbeck, Mr. Antoni',\n",
       " 'Name_Yasbeck, Mrs. Antoni (Selini Alexander)',\n",
       " 'Name_Young, Miss. Marie Grice',\n",
       " 'Name_Youseff, Mr. Gerious',\n",
       " 'Name_Yousif, Mr. Wazli',\n",
       " 'Name_Yousseff, Mr. Gerious',\n",
       " 'Name_Yrois, Miss. Henriette (\"Mrs Harbeck\")',\n",
       " 'Name_Zabour, Miss. Hileni',\n",
       " 'Name_Zabour, Miss. Thamine',\n",
       " 'Name_Zimmerman, Mr. Leo',\n",
       " 'Name_de Messemaeker, Mrs. Guillaume Joseph (Emma)',\n",
       " 'Name_de Mulder, Mr. Theodore',\n",
       " 'Name_de Pelsmaeker, Mr. Alfons',\n",
       " 'Name_del Carlo, Mr. Sebastiano',\n",
       " 'Name_van Billiard, Mr. Austin Blyler',\n",
       " 'Name_van Melkebeke, Mr. Philemon',\n",
       " 'Sex_female',\n",
       " 'Sex_male',\n",
       " 'Ticket_110152',\n",
       " 'Ticket_110413',\n",
       " 'Ticket_110465',\n",
       " 'Ticket_110564',\n",
       " 'Ticket_110813',\n",
       " 'Ticket_111240',\n",
       " 'Ticket_111320',\n",
       " 'Ticket_111361',\n",
       " 'Ticket_111369',\n",
       " 'Ticket_111426',\n",
       " 'Ticket_111427',\n",
       " 'Ticket_111428',\n",
       " 'Ticket_112050',\n",
       " 'Ticket_112052',\n",
       " 'Ticket_112053',\n",
       " 'Ticket_112058',\n",
       " 'Ticket_112059',\n",
       " 'Ticket_112277',\n",
       " 'Ticket_112379',\n",
       " 'Ticket_113028',\n",
       " 'Ticket_113043',\n",
       " 'Ticket_113050',\n",
       " 'Ticket_113051',\n",
       " 'Ticket_113055',\n",
       " 'Ticket_113056',\n",
       " 'Ticket_113059',\n",
       " 'Ticket_113501',\n",
       " 'Ticket_113503',\n",
       " 'Ticket_113505',\n",
       " 'Ticket_113509',\n",
       " 'Ticket_113510',\n",
       " 'Ticket_113514',\n",
       " 'Ticket_113572',\n",
       " 'Ticket_113760',\n",
       " 'Ticket_113767',\n",
       " 'Ticket_113773',\n",
       " 'Ticket_113776',\n",
       " 'Ticket_113781',\n",
       " 'Ticket_113783',\n",
       " 'Ticket_113784',\n",
       " 'Ticket_113786',\n",
       " 'Ticket_113787',\n",
       " 'Ticket_113788',\n",
       " 'Ticket_113789',\n",
       " 'Ticket_113792',\n",
       " 'Ticket_113794',\n",
       " 'Ticket_113796',\n",
       " 'Ticket_113798',\n",
       " 'Ticket_113800',\n",
       " 'Ticket_113803',\n",
       " 'Ticket_113804',\n",
       " 'Ticket_113806',\n",
       " 'Ticket_113807',\n",
       " 'Ticket_11668',\n",
       " 'Ticket_11751',\n",
       " 'Ticket_11752',\n",
       " 'Ticket_11753',\n",
       " 'Ticket_11755',\n",
       " 'Ticket_11765',\n",
       " 'Ticket_11767',\n",
       " 'Ticket_11769',\n",
       " 'Ticket_11771',\n",
       " 'Ticket_11774',\n",
       " 'Ticket_11813',\n",
       " 'Ticket_11967',\n",
       " 'Ticket_12233',\n",
       " 'Ticket_12460',\n",
       " 'Ticket_12749',\n",
       " 'Ticket_13049',\n",
       " 'Ticket_13213',\n",
       " 'Ticket_13214',\n",
       " 'Ticket_13502',\n",
       " 'Ticket_13507',\n",
       " 'Ticket_13509',\n",
       " 'Ticket_13567',\n",
       " 'Ticket_13568',\n",
       " 'Ticket_14311',\n",
       " 'Ticket_14312',\n",
       " 'Ticket_14313',\n",
       " 'Ticket_14973',\n",
       " 'Ticket_1601',\n",
       " 'Ticket_16966',\n",
       " 'Ticket_16988',\n",
       " 'Ticket_17421',\n",
       " 'Ticket_17453',\n",
       " 'Ticket_17463',\n",
       " 'Ticket_17464',\n",
       " 'Ticket_17465',\n",
       " 'Ticket_17466',\n",
       " 'Ticket_17474',\n",
       " 'Ticket_17764',\n",
       " 'Ticket_19877',\n",
       " 'Ticket_19928',\n",
       " 'Ticket_19943',\n",
       " 'Ticket_19947',\n",
       " 'Ticket_19950',\n",
       " 'Ticket_19952',\n",
       " 'Ticket_19972',\n",
       " 'Ticket_19988',\n",
       " 'Ticket_19996',\n",
       " 'Ticket_2003',\n",
       " 'Ticket_211536',\n",
       " 'Ticket_21440',\n",
       " 'Ticket_218629',\n",
       " 'Ticket_219533',\n",
       " 'Ticket_220367',\n",
       " 'Ticket_220845',\n",
       " ...]"
      ]
     },
     "execution_count": 30,
     "metadata": {},
     "output_type": "execute_result"
    }
   ],
   "source": [
    "list(d)"
   ]
  },
  {
   "cell_type": "code",
   "execution_count": 49,
   "metadata": {
    "ExecuteTime": {
     "end_time": "2020-01-03T03:25:10.460469Z",
     "start_time": "2020-01-03T03:25:10.447502Z"
    }
   },
   "outputs": [
    {
     "data": {
      "text/plain": [
       "PassengerId     1.00\n",
       "Survived        0.00\n",
       "Pclass          3.00\n",
       "Age            24.00\n",
       "SibSp           0.00\n",
       "Parch           0.00\n",
       "Fare            8.05\n",
       "Name: 0, dtype: float64"
      ]
     },
     "execution_count": 49,
     "metadata": {},
     "output_type": "execute_result"
    }
   ],
   "source": [
    "df.mode(numeric_only=True).iloc[0]"
   ]
  },
  {
   "cell_type": "code",
   "execution_count": 53,
   "metadata": {
    "ExecuteTime": {
     "end_time": "2020-01-03T03:26:47.711902Z",
     "start_time": "2020-01-03T03:26:47.698936Z"
    }
   },
   "outputs": [],
   "source": [
    "a = df.loc[:,['Survived', 'Pclass','Age','SibSp','Parch','Fare']].mode()"
   ]
  },
  {
   "cell_type": "code",
   "execution_count": 57,
   "metadata": {
    "ExecuteTime": {
     "end_time": "2020-01-03T05:41:49.755188Z",
     "start_time": "2020-01-03T05:41:49.745213Z"
    }
   },
   "outputs": [
    {
     "data": {
      "text/plain": [
       "True"
      ]
     },
     "execution_count": 57,
     "metadata": {},
     "output_type": "execute_result"
    }
   ],
   "source": [
    "df.isnull().any().any()"
   ]
  },
  {
   "cell_type": "code",
   "execution_count": 58,
   "metadata": {
    "ExecuteTime": {
     "end_time": "2020-01-03T05:47:38.262407Z",
     "start_time": "2020-01-03T05:47:38.250714Z"
    }
   },
   "outputs": [
    {
     "data": {
      "text/plain": [
       "Index(['Cabin', 'Embarked', 'Name', 'PassengerId', 'Sex', 'Ticket'], dtype='object')"
      ]
     },
     "execution_count": 58,
     "metadata": {},
     "output_type": "execute_result"
    }
   ],
   "source": [
    "col = ['Survived', 'Pclass','Age','SibSp','Parch','Fare']\n",
    "df.columns.difference(set(col))"
   ]
  },
  {
   "cell_type": "code",
   "execution_count": 59,
   "metadata": {
    "ExecuteTime": {
     "end_time": "2020-01-03T06:37:22.889386Z",
     "start_time": "2020-01-03T06:37:22.710867Z"
    }
   },
   "outputs": [],
   "source": [
    "import xgboost as xgb"
   ]
  },
  {
   "cell_type": "code",
   "execution_count": 60,
   "metadata": {
    "ExecuteTime": {
     "end_time": "2020-01-03T06:37:31.862781Z",
     "start_time": "2020-01-03T06:37:31.856797Z"
    }
   },
   "outputs": [],
   "source": [
    "es = xgb.XGBClassifier()"
   ]
  },
  {
   "cell_type": "code",
   "execution_count": 61,
   "metadata": {
    "ExecuteTime": {
     "end_time": "2020-01-03T06:37:41.612907Z",
     "start_time": "2020-01-03T06:37:41.604110Z"
    }
   },
   "outputs": [
    {
     "data": {
      "text/plain": [
       "100"
      ]
     },
     "execution_count": 61,
     "metadata": {},
     "output_type": "execute_result"
    }
   ],
   "source": [
    "es.get_params()['n_estimators']"
   ]
  },
  {
   "cell_type": "code",
   "execution_count": 62,
   "metadata": {
    "ExecuteTime": {
     "end_time": "2020-01-03T06:38:12.541834Z",
     "start_time": "2020-01-03T06:38:12.493163Z"
    }
   },
   "outputs": [
    {
     "data": {
      "text/plain": [
       "100"
      ]
     },
     "execution_count": 62,
     "metadata": {},
     "output_type": "execute_result"
    }
   ],
   "source": [
    "import lightgbm as lgb\n",
    "es1 = lgb.LGBMClassifier()\n",
    "es1.get_params()['n_estimators']"
   ]
  },
  {
   "cell_type": "code",
   "execution_count": 64,
   "metadata": {
    "ExecuteTime": {
     "end_time": "2020-01-03T06:46:24.268080Z",
     "start_time": "2020-01-03T06:46:22.829834Z"
    }
   },
   "outputs": [
    {
     "data": {
      "text/plain": [
       "XGBClassifier(base_score=0.5, booster='gbtree', colsample_bylevel=1,\n",
       "              colsample_bynode=1, colsample_bytree=1, gamma=0,\n",
       "              learning_rate=0.1, max_delta_step=0, max_depth=3,\n",
       "              min_child_weight=1, missing=None, n_estimators=100, n_jobs=1,\n",
       "              nthread=None, objective='binary:logistic', random_state=0,\n",
       "              reg_alpha=0, reg_lambda=1, scale_pos_weight=1, seed=None,\n",
       "              silent=None, subsample=1, verbosity=1)"
      ]
     },
     "execution_count": 64,
     "metadata": {},
     "output_type": "execute_result"
    }
   ],
   "source": [
    "es.fit(df.loc[:,col[1:]], df.loc[:,col[0]])"
   ]
  },
  {
   "cell_type": "code",
   "execution_count": 84,
   "metadata": {
    "ExecuteTime": {
     "end_time": "2020-01-03T07:14:15.736652Z",
     "start_time": "2020-01-03T07:14:15.093304Z"
    }
   },
   "outputs": [],
   "source": [
    "ypred = es.predict_proba(df.loc[:,col[1:]], ntree_limit=40)"
   ]
  },
  {
   "cell_type": "code",
   "execution_count": 85,
   "metadata": {
    "ExecuteTime": {
     "end_time": "2020-01-03T07:14:53.660763Z",
     "start_time": "2020-01-03T07:14:53.655776Z"
    }
   },
   "outputs": [],
   "source": [
    "from sklearn.metrics import roc_curve"
   ]
  },
  {
   "cell_type": "code",
   "execution_count": null,
   "metadata": {
    "ExecuteTime": {
     "end_time": "2020-01-03T07:15:24.479774Z",
     "start_time": "2020-01-03T07:15:24.449853Z"
    }
   },
   "outputs": [],
   "source": [
    "y = df.loc[:,col[0]]\n",
    "ypred = ypred[:,1]"
   ]
  },
  {
   "cell_type": "code",
   "execution_count": 87,
   "metadata": {
    "ExecuteTime": {
     "end_time": "2020-01-03T07:16:00.620747Z",
     "start_time": "2020-01-03T07:16:00.613766Z"
    }
   },
   "outputs": [],
   "source": [
    "fpr, tpr, thres = roc_curve(y, ypred)"
   ]
  },
  {
   "cell_type": "code",
   "execution_count": 89,
   "metadata": {
    "ExecuteTime": {
     "end_time": "2020-01-03T07:16:32.182571Z",
     "start_time": "2020-01-03T07:16:32.173598Z"
    }
   },
   "outputs": [
    {
     "data": {
      "text/plain": [
       "0.4793883616144186"
      ]
     },
     "execution_count": 89,
     "metadata": {},
     "output_type": "execute_result"
    }
   ],
   "source": [
    "np.abs(fpr-tpr).max()"
   ]
  },
  {
   "cell_type": "code",
   "execution_count": 92,
   "metadata": {
    "ExecuteTime": {
     "end_time": "2020-01-03T07:17:32.337105Z",
     "start_time": "2020-01-03T07:17:32.333079Z"
    }
   },
   "outputs": [],
   "source": [
    "from sklearn.metrics import auc, roc_auc_score"
   ]
  },
  {
   "cell_type": "code",
   "execution_count": 91,
   "metadata": {
    "ExecuteTime": {
     "end_time": "2020-01-03T07:17:21.399270Z",
     "start_time": "2020-01-03T07:17:21.391258Z"
    }
   },
   "outputs": [
    {
     "data": {
      "text/plain": [
       "0.8212646065680291"
      ]
     },
     "execution_count": 91,
     "metadata": {},
     "output_type": "execute_result"
    }
   ],
   "source": [
    "auc(fpr, tpr)"
   ]
  },
  {
   "cell_type": "code",
   "execution_count": 93,
   "metadata": {
    "ExecuteTime": {
     "end_time": "2020-01-03T07:17:42.406990Z",
     "start_time": "2020-01-03T07:17:42.395981Z"
    }
   },
   "outputs": [
    {
     "data": {
      "text/plain": [
       "0.8212646065680291"
      ]
     },
     "execution_count": 93,
     "metadata": {},
     "output_type": "execute_result"
    }
   ],
   "source": [
    "roc_auc_score(y, ypred)"
   ]
  },
  {
   "cell_type": "code",
   "execution_count": 99,
   "metadata": {
    "ExecuteTime": {
     "end_time": "2020-01-03T07:19:58.943285Z",
     "start_time": "2020-01-03T07:19:58.932411Z"
    }
   },
   "outputs": [],
   "source": [
    "category, bins = pd.qcut(ypred, q=10, duplicates='drop', retbins=True)"
   ]
  },
  {
   "cell_type": "code",
   "execution_count": 112,
   "metadata": {
    "ExecuteTime": {
     "end_time": "2020-01-03T07:35:41.076835Z",
     "start_time": "2020-01-03T07:35:41.071810Z"
    }
   },
   "outputs": [],
   "source": [
    "cate = category.set_categories(bins[:-1], rename=True)"
   ]
  },
  {
   "cell_type": "code",
   "execution_count": 116,
   "metadata": {
    "ExecuteTime": {
     "end_time": "2020-01-03T07:36:59.392746Z",
     "start_time": "2020-01-03T07:36:59.386763Z"
    }
   },
   "outputs": [],
   "source": [
    "group = y.groupby(cate)"
   ]
  },
  {
   "cell_type": "code",
   "execution_count": 120,
   "metadata": {
    "ExecuteTime": {
     "end_time": "2020-01-03T07:42:23.372674Z",
     "start_time": "2020-01-03T07:42:23.359709Z"
    }
   },
   "outputs": [
    {
     "data": {
      "text/plain": [
       "0.732731    0.242690\n",
       "0.576536    0.415205\n",
       "0.477955    0.564327\n",
       "0.401960    0.663743\n",
       "0.329217    0.763158\n",
       "0.282369    0.871345\n",
       "0.213180    0.926901\n",
       "0.198277    0.970760\n",
       "0.149845    0.988304\n",
       "0.052730    1.000000\n",
       "Name: Survived, dtype: float64"
      ]
     },
     "execution_count": 120,
     "metadata": {},
     "output_type": "execute_result"
    }
   ],
   "source": [
    "(group.sum()/y.sum()).sort_index(ascending=False).cumsum()"
   ]
  },
  {
   "cell_type": "code",
   "execution_count": 117,
   "metadata": {
    "ExecuteTime": {
     "end_time": "2020-01-03T07:38:06.797832Z",
     "start_time": "2020-01-03T07:38:06.787677Z"
    }
   },
   "outputs": [
    {
     "data": {
      "text/plain": [
       "0.052730     93\n",
       "0.149845     91\n",
       "0.198277     84\n",
       "0.213180     90\n",
       "0.282369     93\n",
       "0.329217    104\n",
       "0.401960     79\n",
       "0.477955     82\n",
       "0.576536     87\n",
       "0.732731     88\n",
       "Name: Survived, dtype: int64"
      ]
     },
     "execution_count": 117,
     "metadata": {},
     "output_type": "execute_result"
    }
   ],
   "source": [
    "group.size()"
   ]
  },
  {
   "cell_type": "code",
   "execution_count": 126,
   "metadata": {
    "ExecuteTime": {
     "end_time": "2020-01-03T07:45:59.752002Z",
     "start_time": "2020-01-03T07:45:59.740996Z"
    }
   },
   "outputs": [],
   "source": [
    "columns=['箱','分数','样本数量','关注样本数','区间关注类别比例',\n",
    "        '累计关注类别比例','区间准确率','累计准确率','尾部准确率',\n",
    "        '提升','累计提升']\n",
    "tb = pd.DataFrame(columns=columns,index=bins[:-1][::-1])"
   ]
  },
  {
   "cell_type": "code",
   "execution_count": 129,
   "metadata": {
    "ExecuteTime": {
     "end_time": "2020-01-03T07:47:01.707859Z",
     "start_time": "2020-01-03T07:47:01.696296Z"
    }
   },
   "outputs": [],
   "source": [
    "tb['样本数量'] = group.size()"
   ]
  },
  {
   "cell_type": "code",
   "execution_count": 131,
   "metadata": {
    "ExecuteTime": {
     "end_time": "2020-01-03T07:50:42.604025Z",
     "start_time": "2020-01-03T07:50:42.598297Z"
    }
   },
   "outputs": [],
   "source": [
    "tb['分数'] = tb.index"
   ]
  },
  {
   "cell_type": "code",
   "execution_count": 138,
   "metadata": {
    "ExecuteTime": {
     "end_time": "2020-01-03T07:56:29.686159Z",
     "start_time": "2020-01-03T07:56:29.661621Z"
    }
   },
   "outputs": [
    {
     "data": {
      "text/html": [
       "<div>\n",
       "<style scoped>\n",
       "    .dataframe tbody tr th:only-of-type {\n",
       "        vertical-align: middle;\n",
       "    }\n",
       "\n",
       "    .dataframe tbody tr th {\n",
       "        vertical-align: top;\n",
       "    }\n",
       "\n",
       "    .dataframe thead th {\n",
       "        text-align: right;\n",
       "    }\n",
       "</style>\n",
       "<table border=\"1\" class=\"dataframe\">\n",
       "  <thead>\n",
       "    <tr style=\"text-align: right;\">\n",
       "      <th></th>\n",
       "      <th>箱</th>\n",
       "      <th>分数</th>\n",
       "      <th>样本数量</th>\n",
       "      <th>关注样本数</th>\n",
       "      <th>区间关注类别比例</th>\n",
       "      <th>累计关注类别比例</th>\n",
       "      <th>区间准确率</th>\n",
       "      <th>累计准确率</th>\n",
       "      <th>尾部准确率</th>\n",
       "      <th>提升</th>\n",
       "      <th>累计提升</th>\n",
       "    </tr>\n",
       "  </thead>\n",
       "  <tbody>\n",
       "    <tr>\n",
       "      <td>0.732731</td>\n",
       "      <td>1</td>\n",
       "      <td>0.732731</td>\n",
       "      <td>88</td>\n",
       "      <td>83</td>\n",
       "      <td>NaN</td>\n",
       "      <td>NaN</td>\n",
       "      <td>NaN</td>\n",
       "      <td>NaN</td>\n",
       "      <td>NaN</td>\n",
       "      <td>NaN</td>\n",
       "      <td>NaN</td>\n",
       "    </tr>\n",
       "    <tr>\n",
       "      <td>0.576536</td>\n",
       "      <td>2</td>\n",
       "      <td>0.576536</td>\n",
       "      <td>87</td>\n",
       "      <td>59</td>\n",
       "      <td>NaN</td>\n",
       "      <td>NaN</td>\n",
       "      <td>NaN</td>\n",
       "      <td>NaN</td>\n",
       "      <td>NaN</td>\n",
       "      <td>NaN</td>\n",
       "      <td>NaN</td>\n",
       "    </tr>\n",
       "    <tr>\n",
       "      <td>0.477955</td>\n",
       "      <td>3</td>\n",
       "      <td>0.477955</td>\n",
       "      <td>82</td>\n",
       "      <td>51</td>\n",
       "      <td>NaN</td>\n",
       "      <td>NaN</td>\n",
       "      <td>NaN</td>\n",
       "      <td>NaN</td>\n",
       "      <td>NaN</td>\n",
       "      <td>NaN</td>\n",
       "      <td>NaN</td>\n",
       "    </tr>\n",
       "    <tr>\n",
       "      <td>0.401960</td>\n",
       "      <td>4</td>\n",
       "      <td>0.401960</td>\n",
       "      <td>79</td>\n",
       "      <td>34</td>\n",
       "      <td>NaN</td>\n",
       "      <td>NaN</td>\n",
       "      <td>NaN</td>\n",
       "      <td>NaN</td>\n",
       "      <td>NaN</td>\n",
       "      <td>NaN</td>\n",
       "      <td>NaN</td>\n",
       "    </tr>\n",
       "    <tr>\n",
       "      <td>0.329217</td>\n",
       "      <td>5</td>\n",
       "      <td>0.329217</td>\n",
       "      <td>104</td>\n",
       "      <td>34</td>\n",
       "      <td>NaN</td>\n",
       "      <td>NaN</td>\n",
       "      <td>NaN</td>\n",
       "      <td>NaN</td>\n",
       "      <td>NaN</td>\n",
       "      <td>NaN</td>\n",
       "      <td>NaN</td>\n",
       "    </tr>\n",
       "    <tr>\n",
       "      <td>0.282369</td>\n",
       "      <td>6</td>\n",
       "      <td>0.282369</td>\n",
       "      <td>93</td>\n",
       "      <td>37</td>\n",
       "      <td>NaN</td>\n",
       "      <td>NaN</td>\n",
       "      <td>NaN</td>\n",
       "      <td>NaN</td>\n",
       "      <td>NaN</td>\n",
       "      <td>NaN</td>\n",
       "      <td>NaN</td>\n",
       "    </tr>\n",
       "    <tr>\n",
       "      <td>0.213180</td>\n",
       "      <td>7</td>\n",
       "      <td>0.213180</td>\n",
       "      <td>90</td>\n",
       "      <td>19</td>\n",
       "      <td>NaN</td>\n",
       "      <td>NaN</td>\n",
       "      <td>NaN</td>\n",
       "      <td>NaN</td>\n",
       "      <td>NaN</td>\n",
       "      <td>NaN</td>\n",
       "      <td>NaN</td>\n",
       "    </tr>\n",
       "    <tr>\n",
       "      <td>0.198277</td>\n",
       "      <td>8</td>\n",
       "      <td>0.198277</td>\n",
       "      <td>84</td>\n",
       "      <td>15</td>\n",
       "      <td>NaN</td>\n",
       "      <td>NaN</td>\n",
       "      <td>NaN</td>\n",
       "      <td>NaN</td>\n",
       "      <td>NaN</td>\n",
       "      <td>NaN</td>\n",
       "      <td>NaN</td>\n",
       "    </tr>\n",
       "    <tr>\n",
       "      <td>0.149845</td>\n",
       "      <td>9</td>\n",
       "      <td>0.149845</td>\n",
       "      <td>91</td>\n",
       "      <td>6</td>\n",
       "      <td>NaN</td>\n",
       "      <td>NaN</td>\n",
       "      <td>NaN</td>\n",
       "      <td>NaN</td>\n",
       "      <td>NaN</td>\n",
       "      <td>NaN</td>\n",
       "      <td>NaN</td>\n",
       "    </tr>\n",
       "    <tr>\n",
       "      <td>0.052730</td>\n",
       "      <td>10</td>\n",
       "      <td>0.052730</td>\n",
       "      <td>93</td>\n",
       "      <td>4</td>\n",
       "      <td>NaN</td>\n",
       "      <td>NaN</td>\n",
       "      <td>NaN</td>\n",
       "      <td>NaN</td>\n",
       "      <td>NaN</td>\n",
       "      <td>NaN</td>\n",
       "      <td>NaN</td>\n",
       "    </tr>\n",
       "  </tbody>\n",
       "</table>\n",
       "</div>"
      ],
      "text/plain": [
       "           箱        分数  样本数量  关注样本数 区间关注类别比例 累计关注类别比例 区间准确率 累计准确率 尾部准确率   提升  \\\n",
       "0.732731   1  0.732731    88     83      NaN      NaN   NaN   NaN   NaN  NaN   \n",
       "0.576536   2  0.576536    87     59      NaN      NaN   NaN   NaN   NaN  NaN   \n",
       "0.477955   3  0.477955    82     51      NaN      NaN   NaN   NaN   NaN  NaN   \n",
       "0.401960   4  0.401960    79     34      NaN      NaN   NaN   NaN   NaN  NaN   \n",
       "0.329217   5  0.329217   104     34      NaN      NaN   NaN   NaN   NaN  NaN   \n",
       "0.282369   6  0.282369    93     37      NaN      NaN   NaN   NaN   NaN  NaN   \n",
       "0.213180   7  0.213180    90     19      NaN      NaN   NaN   NaN   NaN  NaN   \n",
       "0.198277   8  0.198277    84     15      NaN      NaN   NaN   NaN   NaN  NaN   \n",
       "0.149845   9  0.149845    91      6      NaN      NaN   NaN   NaN   NaN  NaN   \n",
       "0.052730  10  0.052730    93      4      NaN      NaN   NaN   NaN   NaN  NaN   \n",
       "\n",
       "         累计提升  \n",
       "0.732731  NaN  \n",
       "0.576536  NaN  \n",
       "0.477955  NaN  \n",
       "0.401960  NaN  \n",
       "0.329217  NaN  \n",
       "0.282369  NaN  \n",
       "0.213180  NaN  \n",
       "0.198277  NaN  \n",
       "0.149845  NaN  \n",
       "0.052730  NaN  "
      ]
     },
     "execution_count": 138,
     "metadata": {},
     "output_type": "execute_result"
    }
   ],
   "source": [
    "tb['箱'] = range(1,len(tb)+1)\n",
    "tb['关注样本数'] = group.sum()\n",
    "tb"
   ]
  },
  {
   "cell_type": "code",
   "execution_count": 146,
   "metadata": {
    "ExecuteTime": {
     "end_time": "2020-01-03T08:15:34.738375Z",
     "start_time": "2020-01-03T08:15:34.725689Z"
    }
   },
   "outputs": [
    {
     "data": {
      "text/plain": [
       "箱\n",
       "False    716\n",
       "True     175\n",
       "Name: 样本数量, dtype: int64"
      ]
     },
     "execution_count": 146,
     "metadata": {},
     "output_type": "execute_result"
    }
   ],
   "source": [
    "tb.groupby(tb['箱']<=2)['样本数量'].sum()"
   ]
  },
  {
   "cell_type": "code",
   "execution_count": 156,
   "metadata": {
    "ExecuteTime": {
     "end_time": "2020-01-03T08:38:25.559231Z",
     "start_time": "2020-01-03T08:38:25.553250Z"
    }
   },
   "outputs": [],
   "source": [
    "y1=(ypred>bins[:-1][::-1][1]).astype(int)"
   ]
  },
  {
   "cell_type": "code",
   "execution_count": 157,
   "metadata": {
    "ExecuteTime": {
     "end_time": "2020-01-03T08:38:54.697846Z",
     "start_time": "2020-01-03T08:38:54.692731Z"
    }
   },
   "outputs": [],
   "source": [
    "from sklearn.metrics import confusion_matrix, precision_score, recall_score"
   ]
  },
  {
   "cell_type": "code",
   "execution_count": 158,
   "metadata": {
    "ExecuteTime": {
     "end_time": "2020-01-03T08:39:05.529212Z",
     "start_time": "2020-01-03T08:39:05.517124Z"
    }
   },
   "outputs": [
    {
     "data": {
      "text/plain": [
       "array([[516,  33],\n",
       "       [200, 142]], dtype=int64)"
      ]
     },
     "execution_count": 158,
     "metadata": {},
     "output_type": "execute_result"
    }
   ],
   "source": [
    "confusion_matrix(y, y1)"
   ]
  },
  {
   "cell_type": "code",
   "execution_count": 160,
   "metadata": {
    "ExecuteTime": {
     "end_time": "2020-01-03T08:39:37.924709Z",
     "start_time": "2020-01-03T08:39:37.911720Z"
    }
   },
   "outputs": [
    {
     "data": {
      "text/plain": [
       "(0.8114285714285714, 0.4152046783625731)"
      ]
     },
     "execution_count": 160,
     "metadata": {},
     "output_type": "execute_result"
    }
   ],
   "source": [
    "precision_score(y, y1), recall_score(y, y1)"
   ]
  },
  {
   "cell_type": "code",
   "execution_count": 197,
   "metadata": {
    "ExecuteTime": {
     "end_time": "2020-01-03T09:13:06.060467Z",
     "start_time": "2020-01-03T09:13:06.032543Z"
    }
   },
   "outputs": [],
   "source": [
    "from sklearn import metrics\n",
    "class ResultShow:\n",
    "    def get_group(self, y, ypred):\n",
    "        category, bins = pd.qcut(ypred, q=10, duplicates='drop', retbins=True)\n",
    "        cate = category.set_categories(bins[:-1], rename=True)\n",
    "        return cate, bins[:-1][::-1]\n",
    "\n",
    "    def bin_info(self, y, ypred):\n",
    "        columns=['箱','分数','样本数量','关注样本数','区间关注类别比例',\n",
    "        '累计关注类别比例','区间准确率','累计准确率','尾部准确率',\n",
    "        '提升','累计提升']\n",
    "        cate, bins = self.get_group(y, ypred)\n",
    "        df = pd.DataFrame(columns=columns, index=bins)\n",
    "        group = y.groupby(cate)\n",
    "        df['箱'] = range(1, len(df)+1)\n",
    "        df['分数'] = tb.index\n",
    "        df['样本数量'] = group.size()\n",
    "        df['关注样本数'] = group.sum()\n",
    "        df['区间关注类别比例'] = df['关注样本数']/y.sum()\n",
    "        df['累计关注类别比例'] = df['区间关注类别比例'].cumsum()\n",
    "        df['区间准确率'] = None\n",
    "        df['提升'] = None\n",
    "        df['累计提升'] = None\n",
    "        return df\n",
    "    def confusin(self, y, ypred, bin_num=1):\n",
    "        columns=['实际类别','类别总数','正确百分比','预测类别 非关注','预测类别 关注']\n",
    "        indexs=['非关注','关注','合计']\n",
    "        df = pd.DataFrame(columns=columns)\n",
    "        df['实际类别'] = indexs\n",
    "        df = df.set_index('实际类别')\n",
    "        df['类别总数'] = [len(y)-y.sum(), y.sum(), len(y)]\n",
    "        _, bins = self.get_group(y, ypred)\n",
    "\n",
    "        y1 = (ypred > bins[bin_num-1]).astype(int)\n",
    "        df.iloc[:2, -2:] = metrics.confusion_matrix(y, y1)\n",
    "        df.loc['关注','正确百分比'] = df.at['关注','预测类别 关注']/df.at['关注','类别总数']\n",
    "        df.loc['非关注','正确百分比'] = df.at['非关注','预测类别 非关注']/df.at['非关注','类别总数']\n",
    "        df.loc['合计','预测类别 关注'] = df.at['关注','预测类别 关注']/df.loc[:,'预测类别 关注'].sum()\n",
    "        df.loc['合计','预测类别 非关注'] = df.at['非关注','预测类别 非关注']/df.loc[:,'预测类别 非关注'].sum()\n",
    "        return df\n",
    "    def indicate(self, y, ypred, bin_num=1):\n",
    "        _, bins = self.get_group(y, ypred)\n",
    "        y1 = (ypred > bins[bin_num-1]).astype(int)\n",
    "        columns=['名称','正确百分比']\n",
    "        indexs = ['准确率','精确率','召回率']\n",
    "        indexs2 = ['灵敏度','特异度','F1统计']\n",
    "        df1 = pd.DataFrame(columns=columns)\n",
    "        df1['名称'] = indexs\n",
    "        df2 = pd.DataFrame(columns=columns)\n",
    "        df2['名称'] = indexs2\n",
    "        value = metrics.accuracy_score(y, y1), metrics.precision_score(y, y1), metrics.recall_score(y, y1)\n",
    "        df1.loc[:,'正确百分比'] = value\n",
    "        conf = metrics.confusion_matrix(y, y1)\n",
    "        value = conf[1,1]/conf.sum(axis=1)[1], conf[0,0]/conf.sum(axis=1)[0], metrics.f1_score(y, y1)\n",
    "        df2.loc[:,'正确百分比'] = value\n",
    "        return df1, df2"
   ]
  },
  {
   "cell_type": "code",
   "execution_count": 198,
   "metadata": {
    "ExecuteTime": {
     "end_time": "2020-01-03T09:13:06.647920Z",
     "start_time": "2020-01-03T09:13:06.642936Z"
    }
   },
   "outputs": [],
   "source": [
    "rs = ResultShow()"
   ]
  },
  {
   "cell_type": "code",
   "execution_count": 200,
   "metadata": {
    "ExecuteTime": {
     "end_time": "2020-01-03T09:13:21.735850Z",
     "start_time": "2020-01-03T09:13:21.711860Z"
    }
   },
   "outputs": [],
   "source": [
    "df1, df2 = rs.indicate(y, ypred,2)"
   ]
  },
  {
   "cell_type": "code",
   "execution_count": 201,
   "metadata": {
    "ExecuteTime": {
     "end_time": "2020-01-03T09:13:25.237761Z",
     "start_time": "2020-01-03T09:13:25.226791Z"
    }
   },
   "outputs": [
    {
     "data": {
      "text/html": [
       "<div>\n",
       "<style scoped>\n",
       "    .dataframe tbody tr th:only-of-type {\n",
       "        vertical-align: middle;\n",
       "    }\n",
       "\n",
       "    .dataframe tbody tr th {\n",
       "        vertical-align: top;\n",
       "    }\n",
       "\n",
       "    .dataframe thead th {\n",
       "        text-align: right;\n",
       "    }\n",
       "</style>\n",
       "<table border=\"1\" class=\"dataframe\">\n",
       "  <thead>\n",
       "    <tr style=\"text-align: right;\">\n",
       "      <th></th>\n",
       "      <th>名称</th>\n",
       "      <th>正确百分比</th>\n",
       "    </tr>\n",
       "  </thead>\n",
       "  <tbody>\n",
       "    <tr>\n",
       "      <td>0</td>\n",
       "      <td>准确率</td>\n",
       "      <td>0.738496</td>\n",
       "    </tr>\n",
       "    <tr>\n",
       "      <td>1</td>\n",
       "      <td>精确率</td>\n",
       "      <td>0.811429</td>\n",
       "    </tr>\n",
       "    <tr>\n",
       "      <td>2</td>\n",
       "      <td>召回率</td>\n",
       "      <td>0.415205</td>\n",
       "    </tr>\n",
       "  </tbody>\n",
       "</table>\n",
       "</div>"
      ],
      "text/plain": [
       "    名称     正确百分比\n",
       "0  准确率  0.738496\n",
       "1  精确率  0.811429\n",
       "2  召回率  0.415205"
      ]
     },
     "execution_count": 201,
     "metadata": {},
     "output_type": "execute_result"
    }
   ],
   "source": [
    "df1"
   ]
  },
  {
   "cell_type": "code",
   "execution_count": 202,
   "metadata": {
    "ExecuteTime": {
     "end_time": "2020-01-03T09:13:30.701465Z",
     "start_time": "2020-01-03T09:13:30.692428Z"
    }
   },
   "outputs": [
    {
     "data": {
      "text/html": [
       "<div>\n",
       "<style scoped>\n",
       "    .dataframe tbody tr th:only-of-type {\n",
       "        vertical-align: middle;\n",
       "    }\n",
       "\n",
       "    .dataframe tbody tr th {\n",
       "        vertical-align: top;\n",
       "    }\n",
       "\n",
       "    .dataframe thead th {\n",
       "        text-align: right;\n",
       "    }\n",
       "</style>\n",
       "<table border=\"1\" class=\"dataframe\">\n",
       "  <thead>\n",
       "    <tr style=\"text-align: right;\">\n",
       "      <th></th>\n",
       "      <th>名称</th>\n",
       "      <th>正确百分比</th>\n",
       "    </tr>\n",
       "  </thead>\n",
       "  <tbody>\n",
       "    <tr>\n",
       "      <td>0</td>\n",
       "      <td>灵敏度</td>\n",
       "      <td>0.415205</td>\n",
       "    </tr>\n",
       "    <tr>\n",
       "      <td>1</td>\n",
       "      <td>特异度</td>\n",
       "      <td>0.939891</td>\n",
       "    </tr>\n",
       "    <tr>\n",
       "      <td>2</td>\n",
       "      <td>F1统计</td>\n",
       "      <td>0.549323</td>\n",
       "    </tr>\n",
       "  </tbody>\n",
       "</table>\n",
       "</div>"
      ],
      "text/plain": [
       "     名称     正确百分比\n",
       "0   灵敏度  0.415205\n",
       "1   特异度  0.939891\n",
       "2  F1统计  0.549323"
      ]
     },
     "execution_count": 202,
     "metadata": {},
     "output_type": "execute_result"
    }
   ],
   "source": [
    "df2"
   ]
  },
  {
   "cell_type": "code",
   "execution_count": 203,
   "metadata": {
    "ExecuteTime": {
     "end_time": "2020-01-03T09:13:56.585265Z",
     "start_time": "2020-01-03T09:13:56.556295Z"
    }
   },
   "outputs": [
    {
     "data": {
      "text/html": [
       "<div>\n",
       "<style scoped>\n",
       "    .dataframe tbody tr th:only-of-type {\n",
       "        vertical-align: middle;\n",
       "    }\n",
       "\n",
       "    .dataframe tbody tr th {\n",
       "        vertical-align: top;\n",
       "    }\n",
       "\n",
       "    .dataframe thead th {\n",
       "        text-align: right;\n",
       "    }\n",
       "</style>\n",
       "<table border=\"1\" class=\"dataframe\">\n",
       "  <thead>\n",
       "    <tr style=\"text-align: right;\">\n",
       "      <th></th>\n",
       "      <th>类别总数</th>\n",
       "      <th>正确百分比</th>\n",
       "      <th>预测类别 非关注</th>\n",
       "      <th>预测类别 关注</th>\n",
       "    </tr>\n",
       "    <tr>\n",
       "      <th>实际类别</th>\n",
       "      <th></th>\n",
       "      <th></th>\n",
       "      <th></th>\n",
       "      <th></th>\n",
       "    </tr>\n",
       "  </thead>\n",
       "  <tbody>\n",
       "    <tr>\n",
       "      <td>非关注</td>\n",
       "      <td>549</td>\n",
       "      <td>0.939891</td>\n",
       "      <td>516</td>\n",
       "      <td>33</td>\n",
       "    </tr>\n",
       "    <tr>\n",
       "      <td>关注</td>\n",
       "      <td>342</td>\n",
       "      <td>0.415205</td>\n",
       "      <td>200</td>\n",
       "      <td>142</td>\n",
       "    </tr>\n",
       "    <tr>\n",
       "      <td>合计</td>\n",
       "      <td>891</td>\n",
       "      <td>NaN</td>\n",
       "      <td>0.72067</td>\n",
       "      <td>0.811429</td>\n",
       "    </tr>\n",
       "  </tbody>\n",
       "</table>\n",
       "</div>"
      ],
      "text/plain": [
       "      类别总数     正确百分比 预测类别 非关注   预测类别 关注\n",
       "实际类别                                   \n",
       "非关注    549  0.939891      516        33\n",
       "关注     342  0.415205      200       142\n",
       "合计     891       NaN  0.72067  0.811429"
      ]
     },
     "execution_count": 203,
     "metadata": {},
     "output_type": "execute_result"
    }
   ],
   "source": [
    "rs.confusin(y, ypred,2)"
   ]
  },
  {
   "cell_type": "code",
   "execution_count": null,
   "metadata": {},
   "outputs": [],
   "source": []
  }
 ],
 "metadata": {
  "kernelspec": {
   "display_name": "Python 3",
   "language": "python",
   "name": "python3"
  },
  "language_info": {
   "codemirror_mode": {
    "name": "ipython",
    "version": 3
   },
   "file_extension": ".py",
   "mimetype": "text/x-python",
   "name": "python",
   "nbconvert_exporter": "python",
   "pygments_lexer": "ipython3",
   "version": "3.7.4"
  },
  "toc": {
   "base_numbering": 1,
   "nav_menu": {},
   "number_sections": true,
   "sideBar": true,
   "skip_h1_title": false,
   "title_cell": "Table of Contents",
   "title_sidebar": "Contents",
   "toc_cell": false,
   "toc_position": {},
   "toc_section_display": true,
   "toc_window_display": false
  },
  "varInspector": {
   "cols": {
    "lenName": 16,
    "lenType": 16,
    "lenVar": 40
   },
   "kernels_config": {
    "python": {
     "delete_cmd_postfix": "",
     "delete_cmd_prefix": "del ",
     "library": "var_list.py",
     "varRefreshCmd": "print(var_dic_list())"
    },
    "r": {
     "delete_cmd_postfix": ") ",
     "delete_cmd_prefix": "rm(",
     "library": "var_list.r",
     "varRefreshCmd": "cat(var_dic_list()) "
    }
   },
   "types_to_exclude": [
    "module",
    "function",
    "builtin_function_or_method",
    "instance",
    "_Feature"
   ],
   "window_display": false
  }
 },
 "nbformat": 4,
 "nbformat_minor": 2
}
