{
 "cells": [
  {
   "cell_type": "code",
   "execution_count": null,
   "metadata": {
    "ExecuteTime": {
     "end_time": "2020-01-08T01:32:39.452581Z",
     "start_time": "2020-01-08T01:32:36.961138Z"
    }
   },
   "outputs": [],
   "source": [
    "def getDCG(scores):\n",
    "    return np.sum(\n",
    "        np.divide(np.power(2, scores) - 1, np.log(np.arange(scores.shape[0], dtype=np.float32) + 2)),\n",
    "        dtype=np.float32)\n",
    "\n",
    "def getNDCG(rank_list, pos_items):\n",
    "    relevance = np.ones_like(pos_items)\n",
    "    it2rel = {it: r for it, r in zip(pos_items, relevance)}\n",
    "    rank_scores = np.asarray([it2rel.get(it, 0.0) for it in rank_list], dtype=np.float32)\n",
    "\n",
    "    idcg = getDCG(np.sort(relevance)[::-1])\n",
    "\n",
    "    dcg = getDCG(rank_scores)\n",
    "\n",
    "    if dcg == 0.0:\n",
    "        return 0.0\n",
    "\n",
    "    ndcg = dcg / idcg\n",
    "    return ndcg\n",
    "\n",
    "def recall_N(y_true, y_pred, N=50):\n",
    "    return len(set(y_pred[:N]) & set(y_true)) * 1.0 / len(y_true)"
   ]
  },
  {
   "cell_type": "code",
   "execution_count": 1,
   "metadata": {
    "ExecuteTime": {
     "end_time": "2020-04-21T08:52:14.000825Z",
     "start_time": "2020-04-21T08:52:13.996822Z"
    }
   },
   "outputs": [],
   "source": [
    "import random"
   ]
  },
  {
   "cell_type": "code",
   "execution_count": 4,
   "metadata": {
    "ExecuteTime": {
     "end_time": "2020-04-21T08:56:03.348269Z",
     "start_time": "2020-04-21T08:56:03.344278Z"
    }
   },
   "outputs": [],
   "source": [
    "nested_lists = [[1, 2], [[3, 4], [5, 6], [[7, 8], [9, 10], [[11, [12, 13]]]]]]\n",
    "flatten = lambda x: [y for l in x for y in flatten(l)] \n",
    "if type(x) is list else [x]\n",
    "flatten(nested_lists)"
   ]
  },
  {
   "cell_type": "code",
   "execution_count": 5,
   "metadata": {
    "ExecuteTime": {
     "end_time": "2020-04-21T08:56:14.966102Z",
     "start_time": "2020-04-21T08:56:14.962134Z"
    }
   },
   "outputs": [],
   "source": [
    "class Model1:\n",
    "    def __init__(self, hidden_size=100, num_layers=3, learning_rate=3e-4):\n",
    "        print(locals())\n",
    "        self.hidden_size = hidden_size\n",
    "        self.num_layers = num_layers\n",
    "        self.learning_rate = learning_rate\n",
    "\n",
    "model1 = Model1()"
   ]
  },
  {
   "cell_type": "code",
   "execution_count": 6,
   "metadata": {
    "ExecuteTime": {
     "end_time": "2020-04-21T08:56:40.067077Z",
     "start_time": "2020-04-21T08:56:40.061077Z"
    }
   },
   "outputs": [],
   "source": [
    "class Model2:\n",
    "    def __init__(self, hidden_size=100, num_layers=3, learning_rate=3e-4):\n",
    "        params = locals()\n",
    "        del params['self']\n",
    "        self.__dict__ = params\n",
    "\n",
    "model2 = Model2()\n",
    "model2.__dict__"
   ]
  },
  {
   "cell_type": "code",
   "execution_count": 7,
   "metadata": {
    "ExecuteTime": {
     "end_time": "2020-04-21T08:56:49.782041Z",
     "start_time": "2020-04-21T08:56:49.775042Z"
    }
   },
   "outputs": [
    {
     "data": {
      "text/plain": [
       "dict_items([('a', 2), ('b', 1), ('c', 1), ('d', 3), ('e', 2), ('f', 2)])"
      ]
     },
     "execution_count": 7,
     "metadata": {},
     "output_type": "execute_result"
    }
   ],
   "source": [
    "class Model3:\n",
    "    def __init__(self, **kwargs):\n",
    "        self.__dict__ = kwargs\n",
    "\n",
    "model3 = Model3(hidden_size=100, num_layers=3, learning_rate=3e-4)\n",
    "model3.__dict__"
   ]
  },
  {
   "cell_type": "code",
   "execution_count": 8,
   "metadata": {
    "ExecuteTime": {
     "end_time": "2020-04-21T08:57:12.354963Z",
     "start_time": "2020-04-21T08:57:12.351958Z"
    }
   },
   "outputs": [],
   "source": [
    "x = np.array([12, 10, 12, 0, 6, 8, 9, 1, 16, 4, 6, 0])\n",
    "index_val = np.argpartition(x, 3)\n",
    "\n",
    "array1 = np.array([0.12,0.17,0.24,0.29])\n",
    "array2 = np.array([0.13,0.19,0.26,0.31])\n",
    "np.allclose(array1,array2,0.1)\n",
    "\n",
    "x = np.array([3, 17, 14, 23, 2, 2, 6, 8, 1, 2, 16, 0])\n",
    "np.clip(x,2,5)\n",
    "\n",
    "#  Divide by 2 and check if remainder is 1\n",
    "array = np.random.randint(20, size=12)\n",
    "cond = np.mod(array, 2)==1\n",
    "np.extract(cond, array)\n",
    "np.extract(((array < 3) | (array > 15)), array)\n",
    "\n",
    "y = np.array([1,5,6,8,1,7,3,6,9])\n",
    "np.where(y>5, \"Hit\", \"Miss\")\n",
    "\n",
    "a = np.array([1,5,6,8,1,7,3,6,9])\n",
    "np.percentile(a, 50, axis =0)"
   ]
  },
  {
   "cell_type": "code",
   "execution_count": 9,
   "metadata": {
    "ExecuteTime": {
     "end_time": "2020-04-21T08:57:16.231066Z",
     "start_time": "2020-04-21T08:57:16.224064Z"
    }
   },
   "outputs": [
    {
     "data": {
      "text/plain": [
       "dict_items([('a', 3), ('b', 2), ('c', 2), ('d', 3), ('e', 2), ('f', 2)])"
      ]
     },
     "execution_count": 9,
     "metadata": {},
     "output_type": "execute_result"
    }
   ],
   "source": [
    "count.items()"
   ]
  },
  {
   "cell_type": "code",
   "execution_count": 13,
   "metadata": {
    "ExecuteTime": {
     "end_time": "2020-04-21T08:59:08.889946Z",
     "start_time": "2020-04-21T08:59:08.879925Z"
    }
   },
   "outputs": [
    {
     "data": {
      "text/plain": [
       "dict_items([('a', 5), ('b', 1), ('c', 1), ('d', 3), ('e', 2), ('f', 2)])"
      ]
     },
     "execution_count": 13,
     "metadata": {},
     "output_type": "execute_result"
    }
   ],
   "source": [
    "#count.update({'a':3})\n",
    "count.subtract('abc')\n",
    "count.items()"
   ]
  },
  {
   "cell_type": "code",
   "execution_count": 14,
   "metadata": {
    "ExecuteTime": {
     "end_time": "2020-04-21T09:00:18.695251Z",
     "start_time": "2020-04-21T09:00:18.685253Z"
    }
   },
   "outputs": [],
   "source": [
    "import numpy as np"
   ]
  },
  {
   "cell_type": "code",
   "execution_count": 19,
   "metadata": {
    "ExecuteTime": {
     "end_time": "2020-04-21T09:06:00.446823Z",
     "start_time": "2020-04-21T09:06:00.399700Z"
    }
   },
   "outputs": [],
   "source": [
    "a = np.random.rand(5,4)"
   ]
  },
  {
   "cell_type": "code",
   "execution_count": 23,
   "metadata": {
    "ExecuteTime": {
     "end_time": "2020-04-21T09:06:53.993499Z",
     "start_time": "2020-04-21T09:06:53.985496Z"
    }
   },
   "outputs": [
    {
     "data": {
      "text/plain": [
       "array([[-0.67257599, -0.98233062,  0.40572481,  0.39151566],\n",
       "       [-0.66463821, -0.76714931, -0.93402735, -0.51984491],\n",
       "       [ 0.47698048, -0.67323628,  0.35411329, -0.94468792],\n",
       "       [-0.74695841,  0.44868593, -0.94323902, -0.75891856],\n",
       "       [-0.69531875,  0.44533793, -0.82410758,  0.40319748]])"
      ]
     },
     "execution_count": 23,
     "metadata": {},
     "output_type": "execute_result"
    }
   ],
   "source": [
    "np.where(a>0.5,-a, a)"
   ]
  },
  {
   "cell_type": "code",
   "execution_count": 24,
   "metadata": {
    "ExecuteTime": {
     "end_time": "2020-04-21T09:07:21.496252Z",
     "start_time": "2020-04-21T09:07:21.360666Z"
    }
   },
   "outputs": [
    {
     "data": {
      "text/plain": [
       "array([0, 3, 2, 4, 1])"
      ]
     },
     "execution_count": 24,
     "metadata": {},
     "output_type": "execute_result"
    }
   ],
   "source": [
    "np.random.permutation(5)"
   ]
  },
  {
   "cell_type": "code",
   "execution_count": 28,
   "metadata": {
    "ExecuteTime": {
     "end_time": "2020-04-21T09:09:11.220109Z",
     "start_time": "2020-04-21T09:09:11.160404Z"
    }
   },
   "outputs": [
    {
     "data": {
      "text/plain": [
       "array([3, 3, 2, 1, 3], dtype=int64)"
      ]
     },
     "execution_count": 28,
     "metadata": {},
     "output_type": "execute_result"
    }
   ],
   "source": [
    "np.argmin(a,axis=1)"
   ]
  },
  {
   "cell_type": "code",
   "execution_count": 29,
   "metadata": {
    "ExecuteTime": {
     "end_time": "2020-04-21T09:09:56.905505Z",
     "start_time": "2020-04-21T09:09:56.752537Z"
    }
   },
   "outputs": [
    {
     "data": {
      "text/plain": [
       "array([2.45214708, 2.88565979, 2.44901798, 2.89780191, 2.36796174])"
      ]
     },
     "execution_count": 29,
     "metadata": {},
     "output_type": "execute_result"
    }
   ],
   "source": [
    "np.dot(a,np.array([1,1,1,1]))"
   ]
  },
  {
   "cell_type": "code",
   "execution_count": null,
   "metadata": {},
   "outputs": [],
   "source": [
    "fig = plt.figure() #调用figure创建一个绘图对象\n",
    "ax = fig.add_subplot(111)\n",
    "cax = ax.matshow(correlations, vmin=-1, vmax=1)  #绘制热力图，从-1到1\n",
    "fig.colorbar(cax)  #将matshow生成热力图设置为颜色渐变条\n",
    "ticks = numpy.arange(0,9,1) #生成0-9，步长为1\n",
    "ax.set_xticks(ticks)  #生成刻度\n",
    "ax.set_yticks(ticks)\n",
    "ax.set_xticklabels(names) #生成x轴标签\n",
    "ax.set_yticklabels(names)\n",
    "plt.show()"
   ]
  }
 ],
 "metadata": {
  "kernelspec": {
   "display_name": "Python 3",
   "language": "python",
   "name": "python3"
  },
  "language_info": {
   "codemirror_mode": {
    "name": "ipython",
    "version": 3
   },
   "file_extension": ".py",
   "mimetype": "text/x-python",
   "name": "python",
   "nbconvert_exporter": "python",
   "pygments_lexer": "ipython3",
   "version": "3.7.5"
  },
  "toc": {
   "base_numbering": 1,
   "nav_menu": {},
   "number_sections": true,
   "sideBar": true,
   "skip_h1_title": false,
   "title_cell": "Table of Contents",
   "title_sidebar": "Contents",
   "toc_cell": false,
   "toc_position": {},
   "toc_section_display": true,
   "toc_window_display": false
  },
  "varInspector": {
   "cols": {
    "lenName": 16,
    "lenType": 16,
    "lenVar": 40
   },
   "kernels_config": {
    "python": {
     "delete_cmd_postfix": "",
     "delete_cmd_prefix": "del ",
     "library": "var_list.py",
     "varRefreshCmd": "print(var_dic_list())"
    },
    "r": {
     "delete_cmd_postfix": ") ",
     "delete_cmd_prefix": "rm(",
     "library": "var_list.r",
     "varRefreshCmd": "cat(var_dic_list()) "
    }
   },
   "types_to_exclude": [
    "module",
    "function",
    "builtin_function_or_method",
    "instance",
    "_Feature"
   ],
   "window_display": false
  }
 },
 "nbformat": 4,
 "nbformat_minor": 2
}
