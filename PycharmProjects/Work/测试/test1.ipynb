{
 "cells": [
  {
   "cell_type": "code",
   "execution_count": 2,
   "metadata": {
    "ExecuteTime": {
     "end_time": "2020-01-08T01:32:39.452581Z",
     "start_time": "2020-01-08T01:32:36.961138Z"
    }
   },
   "outputs": [],
   "source": [
    "import pandas as pd\n",
    "import numpy as np\n",
    "import os\n",
    "from abc import abstractmethod\n",
    "from sklearn.preprocessing import OneHotEncoder, LabelEncoder\n",
    "from sklearn.model_selection import train_test_split, KFold, StratifiedKFold\n",
    "from sklearn import metrics\n",
    "os.chdir('D:/工作/data/titanic')\n",
    "df = pd.read_csv('train.csv')"
   ]
  },
  {
   "cell_type": "code",
   "execution_count": 2,
   "metadata": {
    "ExecuteTime": {
     "end_time": "2020-01-13T02:07:46.008255Z",
     "start_time": "2020-01-13T02:07:46.003205Z"
    }
   },
   "outputs": [],
   "source": [
    "from abc import abstractmethod"
   ]
  },
  {
   "cell_type": "code",
   "execution_count": 4,
   "metadata": {
    "ExecuteTime": {
     "end_time": "2020-01-08T01:32:42.547538Z",
     "start_time": "2020-01-08T01:32:42.540564Z"
    }
   },
   "outputs": [],
   "source": [
    "Z = df.loc[:,['Sex','Embarked']].to_numpy()"
   ]
  },
  {
   "cell_type": "code",
   "execution_count": 3,
   "metadata": {
    "ExecuteTime": {
     "end_time": "2020-01-13T02:07:50.325687Z",
     "start_time": "2020-01-13T02:07:50.319703Z"
    }
   },
   "outputs": [],
   "source": [
    "class A:\n",
    "    @abstractmethod\n",
    "    def func(self, a, b):\n",
    "        pass\n",
    "class B(A):\n",
    "    def func(self):\n",
    "        print('a')\n",
    "class C(B):\n",
    "    def func(self,a,b,c=2):\n",
    "        print(c)\n",
    "c = C()"
   ]
  },
  {
   "cell_type": "code",
   "execution_count": 4,
   "metadata": {
    "ExecuteTime": {
     "end_time": "2020-01-13T02:07:53.045325Z",
     "start_time": "2020-01-13T02:07:53.040367Z"
    }
   },
   "outputs": [
    {
     "name": "stdout",
     "output_type": "stream",
     "text": [
      "4\n"
     ]
    }
   ],
   "source": [
    "c.func(a=1,b=2,c=4)"
   ]
  },
  {
   "cell_type": "code",
   "execution_count": 5,
   "metadata": {
    "ExecuteTime": {
     "end_time": "2020-01-13T06:02:17.407570Z",
     "start_time": "2020-01-13T06:02:17.394637Z"
    }
   },
   "outputs": [
    {
     "name": "stdout",
     "output_type": "stream",
     "text": [
      "2 3\n",
      "<function f8 at 0x00000275623C61F8>\n",
      "1\n",
      "call f8 6\n",
      "f8\n"
     ]
    }
   ],
   "source": [
    "from functools import wraps\n",
    "\n",
    "class dec8_c:\n",
    "    def __init__(self, *args):\n",
    "        self.d_param_1, self.d_param_2, = args\n",
    "        print(self.d_param_1, self.d_param_2)\n",
    "    def  __call__(self, func):\n",
    "        print(func)\n",
    "        @wraps(func)\n",
    "        def _wrap(param):\n",
    "            print(param)\n",
    "            r = func(param + self.d_param_1 + self.d_param_2)\n",
    "            return r\n",
    "        return _wrap\n",
    "\n",
    "@dec8_c(2, 3)\n",
    "def f8(a):\n",
    "    print('call f8', a)\n",
    "\n",
    "f8(1)\n",
    "print(f8.__name__)"
   ]
  },
  {
   "cell_type": "code",
   "execution_count": 6,
   "metadata": {
    "ExecuteTime": {
     "end_time": "2020-01-13T06:02:36.671536Z",
     "start_time": "2020-01-13T06:02:36.661564Z"
    }
   },
   "outputs": [
    {
     "name": "stdout",
     "output_type": "stream",
     "text": [
      "<function f9 at 0x0000027552F2A318>\n",
      "1\n",
      "call f9 1\n",
      "f9\n"
     ]
    }
   ],
   "source": [
    "class dec9_c:\n",
    "    def  __init__(self, func):\n",
    "        print(func)\n",
    "        self.func = func\n",
    "        self.__name__ = func.__name__\n",
    "    def  __call__(self, param):\n",
    "        print(param)\n",
    "        func = self.func\n",
    "        r = func(param)\n",
    "        return r\n",
    "\n",
    "@dec9_c\n",
    "def f9(a):\n",
    "    print('call f9', a)\n",
    "\n",
    "f9(1)\n",
    "print(f9.__name__)"
   ]
  },
  {
   "cell_type": "code",
   "execution_count": 7,
   "metadata": {
    "ExecuteTime": {
     "end_time": "2020-01-13T06:04:08.128711Z",
     "start_time": "2020-01-13T06:04:08.117700Z"
    }
   },
   "outputs": [
    {
     "name": "stdout",
     "output_type": "stream",
     "text": [
      "<function f9x at 0x00000275623C6318>\n",
      "1\n",
      "call f9x 1\n",
      "f9x\n"
     ]
    }
   ],
   "source": [
    "from functools import wraps\n",
    "\n",
    "class dec9x_c:\n",
    "    def  __new__(self, func):\n",
    "        print(func)\n",
    "        @wraps(func)\n",
    "        def dec9x(param):\n",
    "            print(param)\n",
    "            r = func(param)\n",
    "            return r\n",
    "        return dec9x\n",
    "\n",
    "@dec9x_c\n",
    "def f9x(a):\n",
    "    print('call f9x', a)\n",
    "\n",
    "f9x(1)\n",
    "print(f9x.__name__)"
   ]
  },
  {
   "cell_type": "code",
   "execution_count": null,
   "metadata": {},
   "outputs": [],
   "source": []
  }
 ],
 "metadata": {
  "kernelspec": {
   "display_name": "Python 3",
   "language": "python",
   "name": "python3"
  },
  "language_info": {
   "codemirror_mode": {
    "name": "ipython",
    "version": 3
   },
   "file_extension": ".py",
   "mimetype": "text/x-python",
   "name": "python",
   "nbconvert_exporter": "python",
   "pygments_lexer": "ipython3",
   "version": "3.7.4"
  },
  "toc": {
   "base_numbering": 1,
   "nav_menu": {},
   "number_sections": true,
   "sideBar": true,
   "skip_h1_title": false,
   "title_cell": "Table of Contents",
   "title_sidebar": "Contents",
   "toc_cell": false,
   "toc_position": {},
   "toc_section_display": true,
   "toc_window_display": false
  },
  "varInspector": {
   "cols": {
    "lenName": 16,
    "lenType": 16,
    "lenVar": 40
   },
   "kernels_config": {
    "python": {
     "delete_cmd_postfix": "",
     "delete_cmd_prefix": "del ",
     "library": "var_list.py",
     "varRefreshCmd": "print(var_dic_list())"
    },
    "r": {
     "delete_cmd_postfix": ") ",
     "delete_cmd_prefix": "rm(",
     "library": "var_list.r",
     "varRefreshCmd": "cat(var_dic_list()) "
    }
   },
   "types_to_exclude": [
    "module",
    "function",
    "builtin_function_or_method",
    "instance",
    "_Feature"
   ],
   "window_display": false
  }
 },
 "nbformat": 4,
 "nbformat_minor": 2
}
