{
 "cells": [
  {
   "cell_type": "code",
   "execution_count": 3,
   "metadata": {
    "ExecuteTime": {
     "end_time": "2020-01-06T07:28:42.546279Z",
     "start_time": "2020-01-06T07:28:41.113556Z"
    }
   },
   "outputs": [],
   "source": [
    "import pandas as pd\n",
    "import numpy as np\n",
    "import os\n",
    "from abc import abstractmethod\n",
    "from sklearn.preprocessing import OneHotEncoder, LabelEncoder\n",
    "from sklearn.model_selection import train_test_split, KFold, StratifiedKFold\n",
    "from sklearn import metrics\n",
    "os.chdir('D:/工作/data/titanic')\n",
    "df = pd.read_csv('train.csv')"
   ]
  },
  {
   "cell_type": "code",
   "execution_count": 26,
   "metadata": {
    "ExecuteTime": {
     "end_time": "2020-01-06T07:36:34.930634Z",
     "start_time": "2020-01-06T07:36:34.751450Z"
    }
   },
   "outputs": [],
   "source": [
    "class PreprocessME:\n",
    "    '''特征处理'''\n",
    "    @abstractmethod\n",
    "    def trainpreprocess(self, df_cat, df_num, **kwargs):\n",
    "        pass\n",
    "    \n",
    "    @abstractmethod\n",
    "    def testpreprocess(self, df_cat, df_num, **kwargs):\n",
    "        pass\n",
    "    \n",
    "    def fillcat(self, X):\n",
    "        df_cat = X.copy()\n",
    "        if df_cat.isnull().any().any():\n",
    "            df_cat = df_cat.fillna('None')\n",
    "        return df_cat\n",
    "\n",
    "    def set_params(self, **kwargs):\n",
    "        '''设定模型的参数，用于用户自定义模型参数。'''\n",
    "        self.est.set_params(**kwargs)\n",
    "\n",
    "    def select_cat(self, X, columns=None):\n",
    "        '''选取类别特征，默认所有的object类型的特征为类别，也可以自定义一些特征\n",
    "        作为类别特征。'''\n",
    "        result = X.select_dtypes(include='object')\n",
    "        cat = result.columns\n",
    "        if columns is not None:\n",
    "            cat = result.columns|set(columns)\n",
    "        return cat\n",
    "\n",
    "    def delete_columns(self, X, columns=None):\n",
    "        '''删除不满足条件的特征，这些特征将不用于后续的处理和建模。'''\n",
    "        result = X.copy()\n",
    "        if columns is not None:\n",
    "            result = result.drop(columns, axis=1)\n",
    "        return result\n",
    "    \n",
    "    def get_cat_num(self, X, drop_col=None, cat_col=None):\n",
    "        '''将数据集的特征分为数值特征和类别特征，在不同的模型中采用不同的处理方式，\n",
    "        默认情况下所有的object类型都为类别特征，所有int和float类型为数值特征，用户\n",
    "        可以自身知识设置cat_col将一部分数值特征加入到类别特征中'''\n",
    "        result = self.delete_columns(X, drop_col)\n",
    "        cat_col = self.select_cat(result, cat_col)\n",
    "        num_col = result.columns.difference(cat_col)\n",
    "        return num_col, cat_col\n",
    "\n",
    "    def get_train(self, X, y=None, drop_col=None, cat_col=None):\n",
    "        '''得到最终用于建模的数据。'''\n",
    "        if y is not None:\n",
    "            self.num_col, self.cat_col = self.get_cat_num(X, drop_col, cat_col)\n",
    "            df_num, df_cat = X.loc[:, self.num_col], X.loc[:,self.cat_col]\n",
    "            Xtrain = self.trainpreprocess(df_cat, df_num)\n",
    "        else:\n",
    "            if hasattr(self, 'num_col') and hasattr(self, 'cat_col'):\n",
    "                df_cat = X.loc[:, self.cat_col].copy()\n",
    "                df_num = X.loc[:, self.num_col].copy()\n",
    "                Xtrain = self.testpreprocess(df_cat, df_num)\n",
    "            else:\n",
    "                raise ValueError('模型没有训练，不能用于测试！')\n",
    "        return Xtrain\n",
    "\n",
    "class LGBPreprocess(PreprocessME):\n",
    "    def labelenc(self, df_cat):\n",
    "        df_cat = self.fillcat(df_cat)\n",
    "        result = df_cat.copy()\n",
    "        encs = {}\n",
    "        for feature in df_cat.columns:\n",
    "            enc = LabelEncoder()\n",
    "            enc.fit(df_cat[feature])\n",
    "            encs[feature] = enc\n",
    "            result[feature] = enc.transform(df_cat[feature])\n",
    "        return encs, result\n",
    "\n",
    "    def trainpreprocess(self, df_cat, df_num):\n",
    "        self.encs, result = self.labelenc(df_cat)\n",
    "        result = pd.concat([result, df_num], axis=1)\n",
    "        return result\n",
    "    \n",
    "    def testpreprocess(self, df_cat, df_num):\n",
    "        df_cat = self.fillcat(df_cat)\n",
    "        cat = df_cat.copy()\n",
    "        assert hasattr(self, 'encs')\n",
    "        for feature in self.encs.keys():\n",
    "            cat[feature] = self.encs[feature].transform(df_cat[feature])\n",
    "        result = pd.concat([cat, df_num], axis=1)\n",
    "        return result"
   ]
  },
  {
   "cell_type": "code",
   "execution_count": 41,
   "metadata": {
    "ExecuteTime": {
     "end_time": "2020-01-06T08:32:44.553383Z",
     "start_time": "2020-01-06T08:32:44.521747Z"
    }
   },
   "outputs": [],
   "source": [
    "import xgboost as xgb"
   ]
  },
  {
   "cell_type": "code",
   "execution_count": 42,
   "metadata": {
    "ExecuteTime": {
     "end_time": "2020-01-06T08:32:57.794493Z",
     "start_time": "2020-01-06T08:32:57.791465Z"
    }
   },
   "outputs": [],
   "source": [
    "est = xgb.XGBClassifier()"
   ]
  },
  {
   "cell_type": "code",
   "execution_count": 43,
   "metadata": {
    "ExecuteTime": {
     "end_time": "2020-01-06T08:33:13.333337Z",
     "start_time": "2020-01-06T08:33:13.327352Z"
    }
   },
   "outputs": [
    {
     "data": {
      "text/plain": [
       "XGBClassifier(base_score=0.5, booster='gbtree', colsample_bylevel=1,\n",
       "              colsample_bynode=1, colsample_bytree=1, gamma=0,\n",
       "              learning_rate=0.1, max_delta_step=0, max_depth=3,\n",
       "              min_child_weight=1, missing=None, n_estimators=200, n_jobs=1,\n",
       "              nthread=None, objective='binary:logistic', random_state=0,\n",
       "              reg_alpha=0, reg_lambda=1, scale_pos_weight=1, seed=None,\n",
       "              silent=None, subsample=1, verbosity=1)"
      ]
     },
     "execution_count": 43,
     "metadata": {},
     "output_type": "execute_result"
    }
   ],
   "source": [
    "est.set_params(**{'n_estimators':200})"
   ]
  },
  {
   "cell_type": "code",
   "execution_count": 46,
   "metadata": {
    "ExecuteTime": {
     "end_time": "2020-01-06T08:36:45.182268Z",
     "start_time": "2020-01-06T08:36:45.149269Z"
    }
   },
   "outputs": [
    {
     "ename": "KeyError",
     "evalue": "'a'",
     "output_type": "error",
     "traceback": [
      "\u001b[1;31m---------------------------------------------------------------------------\u001b[0m",
      "\u001b[1;31mKeyError\u001b[0m                                  Traceback (most recent call last)",
      "\u001b[1;32m<ipython-input-46-5a4d9dd473b6>\u001b[0m in \u001b[0;36m<module>\u001b[1;34m\u001b[0m\n\u001b[0;32m      1\u001b[0m \u001b[0ma\u001b[0m \u001b[1;33m=\u001b[0m \u001b[1;33m{\u001b[0m\u001b[1;33m}\u001b[0m\u001b[1;33m\u001b[0m\u001b[1;33m\u001b[0m\u001b[0m\n\u001b[1;32m----> 2\u001b[1;33m \u001b[0ma\u001b[0m\u001b[1;33m[\u001b[0m\u001b[1;34m'a'\u001b[0m\u001b[1;33m]\u001b[0m\u001b[1;33m\u001b[0m\u001b[1;33m\u001b[0m\u001b[0m\n\u001b[0m",
      "\u001b[1;31mKeyError\u001b[0m: 'a'"
     ]
    }
   ],
   "source": [
    "a = {}\n",
    "a['a']"
   ]
  },
  {
   "cell_type": "code",
   "execution_count": null,
   "metadata": {},
   "outputs": [],
   "source": []
  }
 ],
 "metadata": {
  "kernelspec": {
   "display_name": "Python 3",
   "language": "python",
   "name": "python3"
  },
  "language_info": {
   "codemirror_mode": {
    "name": "ipython",
    "version": 3
   },
   "file_extension": ".py",
   "mimetype": "text/x-python",
   "name": "python",
   "nbconvert_exporter": "python",
   "pygments_lexer": "ipython3",
   "version": "3.7.4"
  },
  "toc": {
   "base_numbering": 1,
   "nav_menu": {},
   "number_sections": true,
   "sideBar": true,
   "skip_h1_title": false,
   "title_cell": "Table of Contents",
   "title_sidebar": "Contents",
   "toc_cell": false,
   "toc_position": {},
   "toc_section_display": true,
   "toc_window_display": false
  },
  "varInspector": {
   "cols": {
    "lenName": 16,
    "lenType": 16,
    "lenVar": 40
   },
   "kernels_config": {
    "python": {
     "delete_cmd_postfix": "",
     "delete_cmd_prefix": "del ",
     "library": "var_list.py",
     "varRefreshCmd": "print(var_dic_list())"
    },
    "r": {
     "delete_cmd_postfix": ") ",
     "delete_cmd_prefix": "rm(",
     "library": "var_list.r",
     "varRefreshCmd": "cat(var_dic_list()) "
    }
   },
   "types_to_exclude": [
    "module",
    "function",
    "builtin_function_or_method",
    "instance",
    "_Feature"
   ],
   "window_display": false
  }
 },
 "nbformat": 4,
 "nbformat_minor": 2
}
