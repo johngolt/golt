{
 "cells": [
  {
   "cell_type": "code",
   "execution_count": 167,
   "metadata": {
    "ExecuteTime": {
     "end_time": "2020-01-07T07:19:41.714418Z",
     "start_time": "2020-01-07T07:19:41.705393Z"
    }
   },
   "outputs": [],
   "source": [
    "import pandas as pd\n",
    "import numpy as np\n",
    "import os\n",
    "from abc import abstractmethod\n",
    "from sklearn.preprocessing import OneHotEncoder, LabelEncoder\n",
    "from sklearn.model_selection import train_test_split, KFold, StratifiedKFold\n",
    "from sklearn import metrics\n",
    "os.chdir('D:/工作/data/titanic')\n",
    "df = pd.read_csv('train.csv')"
   ]
  },
  {
   "cell_type": "code",
   "execution_count": 215,
   "metadata": {
    "ExecuteTime": {
     "end_time": "2020-01-07T07:43:23.050935Z",
     "start_time": "2020-01-07T07:43:23.020575Z"
    }
   },
   "outputs": [],
   "source": [
    "class PreprocessME:\n",
    "    '''特征处理'''\n",
    "\n",
    "    def fillcat(self, X):   # 使用None填补类别特征的缺失值。\n",
    "        df_cat = X.copy()\n",
    "        for feature in df_cat.columns:\n",
    "            if df_cat[feature].dtype == 'object':\n",
    "                df_cat[feature] = df_cat[feature].fillna('None')\n",
    "            else:\n",
    "                df_cat[feature] = df_cat[feature].fillna(np.ceil(df_cat[feature].max())+1)\n",
    "        return df_cat\n",
    "\n",
    "    def fillnum(self, X, method='mean'):  # 填补数值特征的缺失值。\n",
    "        X = X.copy()\n",
    "        if method == 'mean':\n",
    "            X = X.fillna(X.mean())\n",
    "        elif method == 'median':\n",
    "            X = X.fillna(X.median())\n",
    "        elif method == 'mode':\n",
    "            X = X.fillna(X.mode().iloc[0])\n",
    "        return X\n",
    "\n",
    "    @abstractmethod\n",
    "    def trainpreprocess(self, df_cat, df_num, **kwargs):\n",
    "        '''训练集的特征处理方式，子类实现。'''\n",
    "        pass\n",
    "    \n",
    "    @abstractmethod\n",
    "    def testpreprocess(self, df_cat, df_num, **kwargs):\n",
    "        '''测试集的特征处理方式，子类实现'''\n",
    "        pass\n",
    "\n",
    "    def select_cat(self, X, columns=None):\n",
    "        '''选取类别特征，默认所有的object类型的特征为类别，也可以自定义一些特征\n",
    "        作为类别特征。'''\n",
    "        result = X.select_dtypes(include='object')\n",
    "        cat = result.columns\n",
    "        if columns is not None:\n",
    "            cat = cat | set(columns)\n",
    "        return cat\n",
    "\n",
    "    def delete_columns(self, X, columns=None):\n",
    "        '''删除不满足条件的特征，这些特征将不用于后续的处理和建模。'''\n",
    "        result = X.copy()\n",
    "        if columns is not None:\n",
    "            result = result.drop(columns, axis=1)\n",
    "        return result\n",
    "    \n",
    "    def get_cat_num(self, X, drop_col=None, cat_col=None):\n",
    "        '''将数据集的特征分为数值特征和类别特征，在不同的模型中采用不同的处理方式，\n",
    "        默认情况下所有的object类型都为类别特征，所有int和float类型为数值特征，用户\n",
    "        可以自身知识设置cat_col将一部分数值特征加入到类别特征中'''\n",
    "        result = self.delete_columns(X, drop_col)\n",
    "        cat_col = self.select_cat(result, cat_col)\n",
    "        num_col = result.columns.difference(cat_col)\n",
    "        return num_col, cat_col\n",
    "    \n",
    "    def get_train_data(self, X, y, drop_col=None, cat_col=None):\n",
    "        self.num_col, self.cat_col = self.get_cat_num(X, drop_col, cat_col)\n",
    "        df_num, df_cat = X.loc[:, self.num_col], X.loc[:, self.cat_col]\n",
    "        Xtrain = self.trainpreprocess(df_cat, df_num)\n",
    "        return Xtrain\n",
    "\n",
    "\n",
    "    def get_test_data(self, X):\n",
    "        '''得到最终用于建模的数据。'''\n",
    "        if hasattr(self, 'num_col') and hasattr(self, 'cat_col'):\n",
    "            df_cat = X.loc[:, self.cat_col].copy()\n",
    "            df_num = X.loc[:, self.num_col].copy()\n",
    "            Xtrain = self.testpreprocess(df_cat, df_num)\n",
    "            return Xtrain\n",
    "        else:\n",
    "            raise ValueError('模型没有训练，不能用于测试！')\n",
    "\n",
    "\n",
    "class LGBPreprocess(PreprocessME):\n",
    "\n",
    "    def labelenc(self, df_cat):\n",
    "        df_cat = self.fillcat(df_cat)\n",
    "        result = df_cat.copy()\n",
    "        encs = {}\n",
    "        for feature in df_cat.columns:\n",
    "            enc = LabelEncoder()\n",
    "            enc.fit(df_cat[feature])\n",
    "            encs[feature] = enc\n",
    "            result[feature] = enc.transform(df_cat[feature])\n",
    "        return encs, result\n",
    "\n",
    "    def trainpreprocess(self, df_cat, df_num):\n",
    "        self.encs, result = self.labelenc(df_cat)\n",
    "        result = pd.concat([result, df_num], axis=1)\n",
    "        return result\n",
    "\n",
    "    def testpreprocess(self, df_cat, df_num):\n",
    "        df_cat = self.fillcat(df_cat)\n",
    "        cat = df_cat.copy()\n",
    "        assert hasattr(self, 'encs')\n",
    "        for feature in self.encs.keys():\n",
    "            cat[feature] = self.encs[feature].transform(df_cat[feature])\n",
    "        result = pd.concat([cat, df_num], axis=1)\n",
    "        return result\n",
    "\n",
    "\n",
    "class LGBOnehot(PreprocessME):\n",
    "    def onehotenc(self, df_cat):\n",
    "        df_cat = self.fillcat(df_cat)\n",
    "        encs = {}\n",
    "        for feature in df_cat.columns:\n",
    "            enc = OneHotEncoder(categories='auto', handle_unknown='ignore')\n",
    "            enc.fit(df_cat.loc[:,[feature]])\n",
    "            encs[feature] = enc\n",
    "        return encs\n",
    "\n",
    "    def onehottrans(self, df_cat, encs):\n",
    "        df_cat = self.fillcat(df_cat)\n",
    "        result = []\n",
    "        for feature in df_cat.columns:\n",
    "            enc = encs[feature]\n",
    "            data = enc.transform(df_cat.loc[:,[feature]]).toarray()\n",
    "            columns = enc.get_feature_names()\n",
    "            func = partial(re.sub, 'x0', feature)\n",
    "            columns = list(map(func, columns))\n",
    "            res = pd.DataFrame(data, columns=columns, index=df_cat.index)\n",
    "            result.append(res)\n",
    "        result = pd.concat(result, axis=1)\n",
    "        return result\n",
    "\n",
    "    def trainpreprocess(self, df_cat, df_num):\n",
    "        self.encs = self.onehotenc(df_cat)\n",
    "        result = self.onehottrans(df_cat, self.encs)\n",
    "        result = pd.concat([result, df_num], axis=1)\n",
    "        return result\n",
    "\n",
    "    def testpreprocess(self, df_cat, df_num):\n",
    "        df_cat = self.fillcat(df_cat)\n",
    "        assert hasattr(self, 'encs')\n",
    "        result = self.onehottrans(df_cat, self.encs)\n",
    "        result = pd.concat([result, df_num], axis=1)\n",
    "        return result\n"
   ]
  },
  {
   "cell_type": "code",
   "execution_count": null,
   "metadata": {
    "ExecuteTime": {
     "end_time": "2020-01-07T07:28:04.087318Z",
     "start_time": "2020-01-07T07:28:04.082332Z"
    }
   },
   "outputs": [],
   "source": []
  },
  {
   "cell_type": "code",
   "execution_count": 169,
   "metadata": {
    "ExecuteTime": {
     "end_time": "2020-01-07T07:19:46.298404Z",
     "start_time": "2020-01-07T07:19:46.294377Z"
    }
   },
   "outputs": [],
   "source": [
    "drop =['Name','Ticket','PassengerId']"
   ]
  },
  {
   "cell_type": "code",
   "execution_count": 216,
   "metadata": {
    "ExecuteTime": {
     "end_time": "2020-01-07T07:43:29.823447Z",
     "start_time": "2020-01-07T07:43:29.819458Z"
    }
   },
   "outputs": [],
   "source": [
    "lgpre = LGBOnehot()"
   ]
  },
  {
   "cell_type": "code",
   "execution_count": 170,
   "metadata": {
    "ExecuteTime": {
     "end_time": "2020-01-07T07:19:48.347954Z",
     "start_time": "2020-01-07T07:19:48.342972Z"
    }
   },
   "outputs": [],
   "source": [
    "y = df.pop('Survived')"
   ]
  },
  {
   "cell_type": "code",
   "execution_count": 220,
   "metadata": {
    "ExecuteTime": {
     "end_time": "2020-01-07T07:44:08.168238Z",
     "start_time": "2020-01-07T07:44:08.129249Z"
    }
   },
   "outputs": [],
   "source": [
    "Z = lgpre.get_train_data(df,y,drop_col=drop,cat_col=['Pclass','SibSp'])"
   ]
  },
  {
   "cell_type": "code",
   "execution_count": 223,
   "metadata": {
    "ExecuteTime": {
     "end_time": "2020-01-07T07:45:20.371184Z",
     "start_time": "2020-01-07T07:45:20.350244Z"
    }
   },
   "outputs": [
    {
     "data": {
      "text/html": [
       "<div>\n",
       "<style scoped>\n",
       "    .dataframe tbody tr th:only-of-type {\n",
       "        vertical-align: middle;\n",
       "    }\n",
       "\n",
       "    .dataframe tbody tr th {\n",
       "        vertical-align: top;\n",
       "    }\n",
       "\n",
       "    .dataframe thead th {\n",
       "        text-align: right;\n",
       "    }\n",
       "</style>\n",
       "<table border=\"1\" class=\"dataframe\">\n",
       "  <thead>\n",
       "    <tr style=\"text-align: right;\">\n",
       "      <th></th>\n",
       "      <th>Cabin</th>\n",
       "      <th>Embarked</th>\n",
       "      <th>Pclass</th>\n",
       "      <th>Sex</th>\n",
       "      <th>SibSp</th>\n",
       "    </tr>\n",
       "  </thead>\n",
       "  <tbody>\n",
       "    <tr>\n",
       "      <td>0</td>\n",
       "      <td>None</td>\n",
       "      <td>S</td>\n",
       "      <td>3</td>\n",
       "      <td>male</td>\n",
       "      <td>1</td>\n",
       "    </tr>\n",
       "    <tr>\n",
       "      <td>1</td>\n",
       "      <td>C85</td>\n",
       "      <td>C</td>\n",
       "      <td>1</td>\n",
       "      <td>female</td>\n",
       "      <td>1</td>\n",
       "    </tr>\n",
       "    <tr>\n",
       "      <td>2</td>\n",
       "      <td>None</td>\n",
       "      <td>S</td>\n",
       "      <td>3</td>\n",
       "      <td>female</td>\n",
       "      <td>0</td>\n",
       "    </tr>\n",
       "    <tr>\n",
       "      <td>3</td>\n",
       "      <td>C123</td>\n",
       "      <td>S</td>\n",
       "      <td>1</td>\n",
       "      <td>female</td>\n",
       "      <td>1</td>\n",
       "    </tr>\n",
       "    <tr>\n",
       "      <td>4</td>\n",
       "      <td>None</td>\n",
       "      <td>S</td>\n",
       "      <td>3</td>\n",
       "      <td>male</td>\n",
       "      <td>0</td>\n",
       "    </tr>\n",
       "    <tr>\n",
       "      <td>...</td>\n",
       "      <td>...</td>\n",
       "      <td>...</td>\n",
       "      <td>...</td>\n",
       "      <td>...</td>\n",
       "      <td>...</td>\n",
       "    </tr>\n",
       "    <tr>\n",
       "      <td>886</td>\n",
       "      <td>None</td>\n",
       "      <td>S</td>\n",
       "      <td>2</td>\n",
       "      <td>male</td>\n",
       "      <td>0</td>\n",
       "    </tr>\n",
       "    <tr>\n",
       "      <td>887</td>\n",
       "      <td>B42</td>\n",
       "      <td>S</td>\n",
       "      <td>1</td>\n",
       "      <td>female</td>\n",
       "      <td>0</td>\n",
       "    </tr>\n",
       "    <tr>\n",
       "      <td>888</td>\n",
       "      <td>None</td>\n",
       "      <td>S</td>\n",
       "      <td>3</td>\n",
       "      <td>female</td>\n",
       "      <td>1</td>\n",
       "    </tr>\n",
       "    <tr>\n",
       "      <td>889</td>\n",
       "      <td>C148</td>\n",
       "      <td>C</td>\n",
       "      <td>1</td>\n",
       "      <td>male</td>\n",
       "      <td>0</td>\n",
       "    </tr>\n",
       "    <tr>\n",
       "      <td>890</td>\n",
       "      <td>None</td>\n",
       "      <td>Q</td>\n",
       "      <td>3</td>\n",
       "      <td>male</td>\n",
       "      <td>0</td>\n",
       "    </tr>\n",
       "  </tbody>\n",
       "</table>\n",
       "<p>891 rows × 5 columns</p>\n",
       "</div>"
      ],
      "text/plain": [
       "    Cabin Embarked  Pclass     Sex  SibSp\n",
       "0    None        S       3    male      1\n",
       "1     C85        C       1  female      1\n",
       "2    None        S       3  female      0\n",
       "3    C123        S       1  female      1\n",
       "4    None        S       3    male      0\n",
       "..    ...      ...     ...     ...    ...\n",
       "886  None        S       2    male      0\n",
       "887   B42        S       1  female      0\n",
       "888  None        S       3  female      1\n",
       "889  C148        C       1    male      0\n",
       "890  None        Q       3    male      0\n",
       "\n",
       "[891 rows x 5 columns]"
      ]
     },
     "execution_count": 223,
     "metadata": {},
     "output_type": "execute_result"
    }
   ],
   "source": [
    "lgpre.fillcat(df.loc[:,lgpre.cat_col])"
   ]
  },
  {
   "cell_type": "code",
   "execution_count": null,
   "metadata": {
    "ExecuteTime": {
     "end_time": "2020-01-07T07:34:32.667740Z",
     "start_time": "2020-01-07T07:34:32.651784Z"
    }
   },
   "outputs": [],
   "source": []
  },
  {
   "cell_type": "code",
   "execution_count": 10,
   "metadata": {
    "ExecuteTime": {
     "end_time": "2020-01-07T01:38:18.748665Z",
     "start_time": "2020-01-07T01:38:18.743678Z"
    }
   },
   "outputs": [],
   "source": [
    "cat = ['Sex','Cabin','Embarked']"
   ]
  },
  {
   "cell_type": "code",
   "execution_count": 71,
   "metadata": {
    "ExecuteTime": {
     "end_time": "2020-01-07T02:04:57.567919Z",
     "start_time": "2020-01-07T02:04:57.562899Z"
    }
   },
   "outputs": [],
   "source": [
    "import lightgbm as lgb\n",
    "from sklearn.metrics import roc_curve\n",
    "from sklearn import clone"
   ]
  },
  {
   "cell_type": "code",
   "execution_count": 147,
   "metadata": {
    "ExecuteTime": {
     "end_time": "2020-01-07T06:33:26.803802Z",
     "start_time": "2020-01-07T06:33:26.798815Z"
    }
   },
   "outputs": [],
   "source": [
    "est = lgb.LGBMClassifier(boosting_type='gbdt')"
   ]
  },
  {
   "cell_type": "code",
   "execution_count": null,
   "metadata": {
    "ExecuteTime": {
     "end_time": "2020-01-07T06:39:04.911075Z",
     "start_time": "2020-01-07T06:39:04.906122Z"
    }
   },
   "outputs": [],
   "source": []
  },
  {
   "cell_type": "code",
   "execution_count": null,
   "metadata": {
    "ExecuteTime": {
     "end_time": "2020-01-07T03:00:18.840940Z",
     "start_time": "2020-01-07T03:00:18.745597Z"
    }
   },
   "outputs": [],
   "source": []
  },
  {
   "cell_type": "code",
   "execution_count": 35,
   "metadata": {
    "ExecuteTime": {
     "end_time": "2020-01-07T01:45:55.374300Z",
     "start_time": "2020-01-07T01:45:55.355441Z"
    }
   },
   "outputs": [],
   "source": [
    "ypred = est.predict_proba(X,num_iteration=50,pred_contrib=)"
   ]
  },
  {
   "cell_type": "code",
   "execution_count": 17,
   "metadata": {
    "ExecuteTime": {
     "end_time": "2020-01-07T01:41:47.821161Z",
     "start_time": "2020-01-07T01:41:47.817172Z"
    }
   },
   "outputs": [],
   "source": [
    "from sklearn.metrics import roc_auc_score"
   ]
  },
  {
   "cell_type": "code",
   "execution_count": 36,
   "metadata": {
    "ExecuteTime": {
     "end_time": "2020-01-07T01:45:56.524327Z",
     "start_time": "2020-01-07T01:45:56.516383Z"
    }
   },
   "outputs": [
    {
     "data": {
      "text/plain": [
       "0.9751461988304093"
      ]
     },
     "execution_count": 36,
     "metadata": {},
     "output_type": "execute_result"
    }
   ],
   "source": [
    "roc_auc_score(y, ypred[:,1])"
   ]
  },
  {
   "cell_type": "code",
   "execution_count": null,
   "metadata": {
    "ExecuteTime": {
     "end_time": "2020-01-07T07:02:09.097874Z",
     "start_time": "2020-01-07T07:02:09.084943Z"
    }
   },
   "outputs": [],
   "source": []
  },
  {
   "cell_type": "code",
   "execution_count": null,
   "metadata": {},
   "outputs": [],
   "source": []
  }
 ],
 "metadata": {
  "kernelspec": {
   "display_name": "Python 3",
   "language": "python",
   "name": "python3"
  },
  "language_info": {
   "codemirror_mode": {
    "name": "ipython",
    "version": 3
   },
   "file_extension": ".py",
   "mimetype": "text/x-python",
   "name": "python",
   "nbconvert_exporter": "python",
   "pygments_lexer": "ipython3",
   "version": "3.7.4"
  },
  "toc": {
   "base_numbering": 1,
   "nav_menu": {},
   "number_sections": true,
   "sideBar": true,
   "skip_h1_title": false,
   "title_cell": "Table of Contents",
   "title_sidebar": "Contents",
   "toc_cell": false,
   "toc_position": {},
   "toc_section_display": true,
   "toc_window_display": false
  },
  "varInspector": {
   "cols": {
    "lenName": 16,
    "lenType": 16,
    "lenVar": 40
   },
   "kernels_config": {
    "python": {
     "delete_cmd_postfix": "",
     "delete_cmd_prefix": "del ",
     "library": "var_list.py",
     "varRefreshCmd": "print(var_dic_list())"
    },
    "r": {
     "delete_cmd_postfix": ") ",
     "delete_cmd_prefix": "rm(",
     "library": "var_list.r",
     "varRefreshCmd": "cat(var_dic_list()) "
    }
   },
   "types_to_exclude": [
    "module",
    "function",
    "builtin_function_or_method",
    "instance",
    "_Feature"
   ],
   "window_display": false
  }
 },
 "nbformat": 4,
 "nbformat_minor": 2
}
