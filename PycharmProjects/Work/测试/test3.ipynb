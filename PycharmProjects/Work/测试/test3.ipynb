{
 "cells": [
  {
   "cell_type": "code",
   "execution_count": 1,
   "metadata": {
    "ExecuteTime": {
     "end_time": "2020-01-08T02:40:26.413317Z",
     "start_time": "2020-01-08T02:40:25.324821Z"
    }
   },
   "outputs": [],
   "source": [
    "import pandas as pd\n",
    "import numpy as np\n",
    "import os\n",
    "from abc import abstractmethod\n",
    "from sklearn.preprocessing import OneHotEncoder, LabelEncoder\n",
    "from sklearn.model_selection import train_test_split, KFold, StratifiedKFold\n",
    "from sklearn import metrics\n",
    "os.chdir('D:/工作/data/titanic')\n",
    "df = pd.read_csv('train.csv')"
   ]
  },
  {
   "cell_type": "code",
   "execution_count": 14,
   "metadata": {
    "ExecuteTime": {
     "end_time": "2020-01-08T02:55:59.150648Z",
     "start_time": "2020-01-08T02:55:59.117735Z"
    }
   },
   "outputs": [],
   "source": [
    "class PreprocessME:\n",
    "    '''特征处理,对类别特征进行编码，使得可以进行后续建模'''\n",
    "\n",
    "    @abstractmethod\n",
    "    def trainpreprocess(self, df_cat, df_num, **kwargs):\n",
    "        '''训练集的特征处理方式，子类实现。'''\n",
    "        pass\n",
    "    \n",
    "    @abstractmethod\n",
    "    def testpreprocess(self, df_cat, df_num, **kwargs):\n",
    "        '''测试集的特征处理方式，子类实现'''\n",
    "        pass\n",
    "\n",
    "    def select_cat(self, X, columns=None):\n",
    "        '''选取类别特征，默认所有的object类型的特征为类别，也可以自定义一些特征\n",
    "        作为类别特征。'''\n",
    "        result = X.select_dtypes(include='object')\n",
    "        cat = result.columns\n",
    "        if columns is not None:\n",
    "            cat = cat | set(columns)\n",
    "        return cat\n",
    "\n",
    "    def delete_columns(self, X, columns=None):\n",
    "        '''删除不满足条件的特征，这些特征将不用于后续的处理和建模。'''\n",
    "        result = X.copy()\n",
    "        if columns is not None:\n",
    "            result = result.drop(columns, axis=1)\n",
    "        return result\n",
    "    \n",
    "    def get_cat_num(self, X, drop_col=None, cat_col=None):\n",
    "        '''将数据集的特征分为数值特征和类别特征，在不同的模型中采用不同的处理方式，\n",
    "        默认情况下所有的object类型都为类别特征，所有int和float类型为数值特征，用户\n",
    "        可以自身知识设置cat_col将一部分数值特征加入到类别特征中'''\n",
    "        result = self.delete_columns(X, drop_col)\n",
    "        cat_col = self.select_cat(result, cat_col)\n",
    "        num_col = result.columns.difference(cat_col)\n",
    "        return num_col, cat_col\n",
    "    \n",
    "    def get_train_data(self, X, y, drop_col=None, cat_col=None):\n",
    "        self.num_col, self.cat_col = self.get_cat_num(X, drop_col, cat_col)\n",
    "        df_num, df_cat = X.loc[:, self.num_col], X.loc[:, self.cat_col]\n",
    "        Xtrain = self.trainpreprocess(df_cat, df_num)\n",
    "        return Xtrain\n",
    "\n",
    "    def get_test_data(self, X):\n",
    "        '''得到最终用于建模的数据。'''\n",
    "        if hasattr(self, 'num_col') and hasattr(self, 'cat_col'):\n",
    "            df_cat = X.loc[:, self.cat_col].copy()\n",
    "            df_num = X.loc[:, self.num_col].copy()\n",
    "            Xtrain = self.testpreprocess(df_cat, df_num)\n",
    "            return Xtrain\n",
    "        else:\n",
    "            raise ValueError('模型没有训练，不能用于测试！')\n",
    "\n",
    "\n",
    "class ProcessMethod:\n",
    "\n",
    "    def fillcat(self, X):   # 使用None填补类别特征的缺失值。\n",
    "        df_cat = X.copy()\n",
    "        for feature in df_cat.columns:\n",
    "            if df_cat[feature].dtype == 'object':\n",
    "                df_cat[feature] = df_cat[feature].fillna('None')\n",
    "            else:\n",
    "                df_cat[feature] = df_cat[feature].fillna(np.ceil(df_cat[feature].max())+1)\n",
    "        return df_cat\n",
    "\n",
    "    def fillnum(self, X, method='mean'):  # 填补数值特征的缺失值。\n",
    "        X = X.copy()\n",
    "        if method == 'mean':\n",
    "            X = X.fillna(X.mean())\n",
    "        elif method == 'median':\n",
    "            X = X.fillna(X.median())\n",
    "        elif method == 'mode':\n",
    "            X = X.fillna(X.mode().iloc[0])\n",
    "        return X\n",
    "\n",
    "    def labelenc(self, df_cat):\n",
    "        '''自然数编码。'''\n",
    "        df_cat = self.fillcat(df_cat)\n",
    "        result = df_cat.copy()\n",
    "        encs = {}\n",
    "        for feature in df_cat.columns:\n",
    "            enc = LabelEncoder()\n",
    "            enc.fit(df_cat[feature])\n",
    "            encs[feature] = enc\n",
    "            result[feature] = enc.transform(df_cat[feature])\n",
    "        return encs, result\n",
    "    \n",
    "    def onehotenc(self, df_cat):\n",
    "        df_cat = self.fillcat(df_cat)\n",
    "        encs = {}\n",
    "        for feature in df_cat.columns:\n",
    "            enc = OneHotEncoder(categories='auto', handle_unknown='ignore')\n",
    "            enc.fit(df_cat.loc[:,[feature]])\n",
    "            encs[feature] = enc\n",
    "        return encs\n",
    "\n",
    "    def onehottrans(self, df_cat, encs):\n",
    "        df_cat = self.fillcat(df_cat)\n",
    "        result = []\n",
    "        for feature in df_cat.columns:\n",
    "            enc = encs[feature]\n",
    "            data = enc.transform(df_cat.loc[:,[feature]]).toarray()\n",
    "            columns = enc.get_feature_names()\n",
    "            func = partial(re.sub, 'x0', feature)\n",
    "            columns = list(map(func, columns))\n",
    "            res = pd.DataFrame(data, columns=columns, index=df_cat.index)\n",
    "            result.append(res)\n",
    "        result = pd.concat(result, axis=1)\n",
    "        return result\n",
    "\n",
    "    \n",
    "class LGBPreprocess(PreprocessME, ProcessMethod):\n",
    "\n",
    "    def trainpreprocess(self, df_cat, df_num):\n",
    "        self.encs, result = self.labelenc(df_cat)\n",
    "        result = pd.concat([result, df_num], axis=1)\n",
    "        return result\n",
    "\n",
    "    def testpreprocess(self, df_cat, df_num):\n",
    "        df_cat = self.fillcat(df_cat)\n",
    "        cat = df_cat.copy()\n",
    "        assert hasattr(self, 'encs')\n",
    "        for feature in self.encs.keys():\n",
    "            cat[feature] = self.encs[feature].transform(df_cat[feature])\n",
    "        result = pd.concat([cat, df_num], axis=1)\n",
    "        return result\n",
    "\n",
    "\n",
    "class LGBOnehot(PreprocessME, ProcessMethod):\n",
    "\n",
    "    def trainpreprocess(self, df_cat, df_num):\n",
    "        self.encs = self.onehotenc(df_cat)\n",
    "        result = self.onehottrans(df_cat, self.encs)\n",
    "        result = pd.concat([result, df_num], axis=1)\n",
    "        return result\n",
    "\n",
    "    def testpreprocess(self, df_cat, df_num):\n",
    "        assert hasattr(self, 'encs')\n",
    "        result = self.onehottrans(df_cat, self.encs)\n",
    "        result = pd.concat([result, df_num], axis=1)\n",
    "        return result"
   ]
  },
  {
   "cell_type": "code",
   "execution_count": 3,
   "metadata": {
    "ExecuteTime": {
     "end_time": "2020-01-08T02:40:34.226412Z",
     "start_time": "2020-01-08T02:40:34.222425Z"
    }
   },
   "outputs": [],
   "source": [
    "drop =['Name','Ticket','PassengerId']"
   ]
  },
  {
   "cell_type": "code",
   "execution_count": 15,
   "metadata": {
    "ExecuteTime": {
     "end_time": "2020-01-08T02:56:01.385214Z",
     "start_time": "2020-01-08T02:56:01.369494Z"
    }
   },
   "outputs": [],
   "source": [
    "lgpre = LGBOnehot()"
   ]
  },
  {
   "cell_type": "code",
   "execution_count": 5,
   "metadata": {
    "ExecuteTime": {
     "end_time": "2020-01-08T02:40:36.713774Z",
     "start_time": "2020-01-08T02:40:36.704762Z"
    }
   },
   "outputs": [],
   "source": [
    "y = df.pop('Survived')"
   ]
  },
  {
   "cell_type": "code",
   "execution_count": 18,
   "metadata": {
    "ExecuteTime": {
     "end_time": "2020-01-08T06:41:42.436790Z",
     "start_time": "2020-01-08T06:41:42.328313Z"
    }
   },
   "outputs": [],
   "source": [
    "from functools import partial \n",
    "import re\n",
    "Z = lgpre.get_train_data(df,y,drop_col=drop)"
   ]
  },
  {
   "cell_type": "code",
   "execution_count": 96,
   "metadata": {
    "ExecuteTime": {
     "end_time": "2020-01-08T09:00:20.588253Z",
     "start_time": "2020-01-08T09:00:20.570093Z"
    }
   },
   "outputs": [],
   "source": [
    "est = xgb.XGBClassifier()\n",
    "params = est.get_xgb_params()"
   ]
  },
  {
   "cell_type": "code",
   "execution_count": 97,
   "metadata": {
    "ExecuteTime": {
     "end_time": "2020-01-08T09:00:21.921887Z",
     "start_time": "2020-01-08T09:00:21.916166Z"
    }
   },
   "outputs": [],
   "source": [
    "params.pop('n_estimators')\n",
    "params['eval_metric'] = 'auc'"
   ]
  },
  {
   "cell_type": "code",
   "execution_count": 98,
   "metadata": {
    "ExecuteTime": {
     "end_time": "2020-01-08T09:00:23.996152Z",
     "start_time": "2020-01-08T09:00:23.976877Z"
    }
   },
   "outputs": [
    {
     "name": "stderr",
     "output_type": "stream",
     "text": [
      "D:\\softwares\\Anaconda\\lib\\site-packages\\xgboost\\core.py:587: FutureWarning: Series.base is deprecated and will be removed in a future version\n",
      "  if getattr(data, 'base', None) is not None and \\\n",
      "D:\\softwares\\Anaconda\\lib\\site-packages\\xgboost\\core.py:588: FutureWarning: Series.base is deprecated and will be removed in a future version\n",
      "  data.base is not None and isinstance(data, np.ndarray) \\\n"
     ]
    }
   ],
   "source": [
    "data = xgb.DMatrix(Z, y)"
   ]
  },
  {
   "cell_type": "code",
   "execution_count": 99,
   "metadata": {
    "ExecuteTime": {
     "end_time": "2020-01-08T09:00:25.971231Z",
     "start_time": "2020-01-08T09:00:25.228285Z"
    }
   },
   "outputs": [
    {
     "name": "stdout",
     "output_type": "stream",
     "text": [
      "[0]\ttrain-auc:0.858656\ttrain-KS:0.60929\n",
      "[1]\ttrain-auc:0.862874\ttrain-KS:0.629134\n",
      "[2]\ttrain-auc:0.863002\ttrain-KS:0.629134\n",
      "[3]\ttrain-auc:0.865889\ttrain-KS:0.629134\n",
      "[4]\ttrain-auc:0.866951\ttrain-KS:0.631004\n",
      "[5]\ttrain-auc:0.866781\ttrain-KS:0.631004\n",
      "[6]\ttrain-auc:0.868472\ttrain-KS:0.631004\n",
      "[7]\ttrain-auc:0.868663\ttrain-KS:0.631004\n",
      "[8]\ttrain-auc:0.877782\ttrain-KS:0.649986\n",
      "[9]\ttrain-auc:0.878359\ttrain-KS:0.649986\n"
     ]
    }
   ],
   "source": [
    "def get_label(data):\n",
    "    label = data.get_label()\n",
    "    return pd.Series(label) \n",
    "def _ks(y, preds):\n",
    "    fpr, tpr, _ = roc_curve(y, preds)\n",
    "    return np.abs(fpr-tpr).max()\n",
    "def ks(preds, data):\n",
    "    y = get_label(data)\n",
    "    res = _ks(y, preds)\n",
    "    return ('KS', res)\n",
    "dic = {}\n",
    "res = xgb.train(params,data,feval=ks,evals=[(data,'train')],\n",
    "                evals_result=dic)"
   ]
  },
  {
   "cell_type": "code",
   "execution_count": 100,
   "metadata": {
    "ExecuteTime": {
     "end_time": "2020-01-08T09:00:28.604199Z",
     "start_time": "2020-01-08T09:00:28.583877Z"
    }
   },
   "outputs": [
    {
     "ename": "AttributeError",
     "evalue": "'DataFrame' object has no attribute 'feature_names'",
     "output_type": "error",
     "traceback": [
      "\u001b[1;31m---------------------------------------------------------------------------\u001b[0m",
      "\u001b[1;31mAttributeError\u001b[0m                            Traceback (most recent call last)",
      "\u001b[1;32m<ipython-input-100-69b49ed73d3e>\u001b[0m in \u001b[0;36m<module>\u001b[1;34m\u001b[0m\n\u001b[1;32m----> 1\u001b[1;33m \u001b[0mres\u001b[0m\u001b[1;33m.\u001b[0m\u001b[0mpredict\u001b[0m\u001b[1;33m(\u001b[0m\u001b[0mZ\u001b[0m\u001b[1;33m,\u001b[0m\u001b[0mntree_limit\u001b[0m\u001b[1;33m=\u001b[0m\u001b[1;36m6\u001b[0m\u001b[1;33m)\u001b[0m\u001b[1;33m\u001b[0m\u001b[1;33m\u001b[0m\u001b[0m\n\u001b[0m",
      "\u001b[1;32mD:\\softwares\\Anaconda\\lib\\site-packages\\xgboost\\core.py\u001b[0m in \u001b[0;36mpredict\u001b[1;34m(self, data, output_margin, ntree_limit, pred_leaf, pred_contribs, approx_contribs, pred_interactions, validate_features)\u001b[0m\n\u001b[0;32m   1282\u001b[0m \u001b[1;33m\u001b[0m\u001b[0m\n\u001b[0;32m   1283\u001b[0m         \u001b[1;32mif\u001b[0m \u001b[0mvalidate_features\u001b[0m\u001b[1;33m:\u001b[0m\u001b[1;33m\u001b[0m\u001b[1;33m\u001b[0m\u001b[0m\n\u001b[1;32m-> 1284\u001b[1;33m             \u001b[0mself\u001b[0m\u001b[1;33m.\u001b[0m\u001b[0m_validate_features\u001b[0m\u001b[1;33m(\u001b[0m\u001b[0mdata\u001b[0m\u001b[1;33m)\u001b[0m\u001b[1;33m\u001b[0m\u001b[1;33m\u001b[0m\u001b[0m\n\u001b[0m\u001b[0;32m   1285\u001b[0m \u001b[1;33m\u001b[0m\u001b[0m\n\u001b[0;32m   1286\u001b[0m         \u001b[0mlength\u001b[0m \u001b[1;33m=\u001b[0m \u001b[0mc_bst_ulong\u001b[0m\u001b[1;33m(\u001b[0m\u001b[1;33m)\u001b[0m\u001b[1;33m\u001b[0m\u001b[1;33m\u001b[0m\u001b[0m\n",
      "\u001b[1;32mD:\\softwares\\Anaconda\\lib\\site-packages\\xgboost\\core.py\u001b[0m in \u001b[0;36m_validate_features\u001b[1;34m(self, data)\u001b[0m\n\u001b[0;32m   1673\u001b[0m         \u001b[1;32melse\u001b[0m\u001b[1;33m:\u001b[0m\u001b[1;33m\u001b[0m\u001b[1;33m\u001b[0m\u001b[0m\n\u001b[0;32m   1674\u001b[0m             \u001b[1;31m# Booster can't accept data with different feature names\u001b[0m\u001b[1;33m\u001b[0m\u001b[1;33m\u001b[0m\u001b[1;33m\u001b[0m\u001b[0m\n\u001b[1;32m-> 1675\u001b[1;33m             \u001b[1;32mif\u001b[0m \u001b[0mself\u001b[0m\u001b[1;33m.\u001b[0m\u001b[0mfeature_names\u001b[0m \u001b[1;33m!=\u001b[0m \u001b[0mdata\u001b[0m\u001b[1;33m.\u001b[0m\u001b[0mfeature_names\u001b[0m\u001b[1;33m:\u001b[0m\u001b[1;33m\u001b[0m\u001b[1;33m\u001b[0m\u001b[0m\n\u001b[0m\u001b[0;32m   1676\u001b[0m                 \u001b[0mdat_missing\u001b[0m \u001b[1;33m=\u001b[0m \u001b[0mset\u001b[0m\u001b[1;33m(\u001b[0m\u001b[0mself\u001b[0m\u001b[1;33m.\u001b[0m\u001b[0mfeature_names\u001b[0m\u001b[1;33m)\u001b[0m \u001b[1;33m-\u001b[0m \u001b[0mset\u001b[0m\u001b[1;33m(\u001b[0m\u001b[0mdata\u001b[0m\u001b[1;33m.\u001b[0m\u001b[0mfeature_names\u001b[0m\u001b[1;33m)\u001b[0m\u001b[1;33m\u001b[0m\u001b[1;33m\u001b[0m\u001b[0m\n\u001b[0;32m   1677\u001b[0m                 \u001b[0mmy_missing\u001b[0m \u001b[1;33m=\u001b[0m \u001b[0mset\u001b[0m\u001b[1;33m(\u001b[0m\u001b[0mdata\u001b[0m\u001b[1;33m.\u001b[0m\u001b[0mfeature_names\u001b[0m\u001b[1;33m)\u001b[0m \u001b[1;33m-\u001b[0m \u001b[0mset\u001b[0m\u001b[1;33m(\u001b[0m\u001b[0mself\u001b[0m\u001b[1;33m.\u001b[0m\u001b[0mfeature_names\u001b[0m\u001b[1;33m)\u001b[0m\u001b[1;33m\u001b[0m\u001b[1;33m\u001b[0m\u001b[0m\n",
      "\u001b[1;32mD:\\softwares\\Anaconda\\lib\\site-packages\\pandas\\core\\generic.py\u001b[0m in \u001b[0;36m__getattr__\u001b[1;34m(self, name)\u001b[0m\n\u001b[0;32m   5177\u001b[0m             \u001b[1;32mif\u001b[0m \u001b[0mself\u001b[0m\u001b[1;33m.\u001b[0m\u001b[0m_info_axis\u001b[0m\u001b[1;33m.\u001b[0m\u001b[0m_can_hold_identifiers_and_holds_name\u001b[0m\u001b[1;33m(\u001b[0m\u001b[0mname\u001b[0m\u001b[1;33m)\u001b[0m\u001b[1;33m:\u001b[0m\u001b[1;33m\u001b[0m\u001b[1;33m\u001b[0m\u001b[0m\n\u001b[0;32m   5178\u001b[0m                 \u001b[1;32mreturn\u001b[0m \u001b[0mself\u001b[0m\u001b[1;33m[\u001b[0m\u001b[0mname\u001b[0m\u001b[1;33m]\u001b[0m\u001b[1;33m\u001b[0m\u001b[1;33m\u001b[0m\u001b[0m\n\u001b[1;32m-> 5179\u001b[1;33m             \u001b[1;32mreturn\u001b[0m \u001b[0mobject\u001b[0m\u001b[1;33m.\u001b[0m\u001b[0m__getattribute__\u001b[0m\u001b[1;33m(\u001b[0m\u001b[0mself\u001b[0m\u001b[1;33m,\u001b[0m \u001b[0mname\u001b[0m\u001b[1;33m)\u001b[0m\u001b[1;33m\u001b[0m\u001b[1;33m\u001b[0m\u001b[0m\n\u001b[0m\u001b[0;32m   5180\u001b[0m \u001b[1;33m\u001b[0m\u001b[0m\n\u001b[0;32m   5181\u001b[0m     \u001b[1;32mdef\u001b[0m \u001b[0m__setattr__\u001b[0m\u001b[1;33m(\u001b[0m\u001b[0mself\u001b[0m\u001b[1;33m,\u001b[0m \u001b[0mname\u001b[0m\u001b[1;33m,\u001b[0m \u001b[0mvalue\u001b[0m\u001b[1;33m)\u001b[0m\u001b[1;33m:\u001b[0m\u001b[1;33m\u001b[0m\u001b[1;33m\u001b[0m\u001b[0m\n",
      "\u001b[1;31mAttributeError\u001b[0m: 'DataFrame' object has no attribute 'feature_names'"
     ]
    }
   ],
   "source": [
    "res.predict(Z,ntree_limit=6)"
   ]
  },
  {
   "cell_type": "code",
   "execution_count": 80,
   "metadata": {
    "ExecuteTime": {
     "end_time": "2020-01-08T08:32:27.303964Z",
     "start_time": "2020-01-08T08:32:27.293212Z"
    }
   },
   "outputs": [
    {
     "data": {
      "text/plain": [
       "0      0\n",
       "1      1\n",
       "2      1\n",
       "3      1\n",
       "4      0\n",
       "      ..\n",
       "886    0\n",
       "887    1\n",
       "888    0\n",
       "889    1\n",
       "890    0\n",
       "Name: Survived, Length: 891, dtype: int64"
      ]
     },
     "execution_count": 80,
     "metadata": {},
     "output_type": "execute_result"
    }
   ],
   "source": [
    "y"
   ]
  },
  {
   "cell_type": "code",
   "execution_count": 75,
   "metadata": {
    "ExecuteTime": {
     "end_time": "2020-01-08T07:40:02.073335Z",
     "start_time": "2020-01-08T07:40:02.062851Z"
    }
   },
   "outputs": [
    {
     "data": {
      "text/plain": [
       "8"
      ]
     },
     "execution_count": 75,
     "metadata": {},
     "output_type": "execute_result"
    }
   ],
   "source": [
    "temp['KS'].idxmax()"
   ]
  },
  {
   "cell_type": "code",
   "execution_count": 78,
   "metadata": {
    "ExecuteTime": {
     "end_time": "2020-01-08T08:26:02.535733Z",
     "start_time": "2020-01-08T08:26:02.524644Z"
    }
   },
   "outputs": [
    {
     "data": {
      "text/plain": [
       "{'auc': 9, 'KS': 8}"
      ]
     },
     "execution_count": 78,
     "metadata": {},
     "output_type": "execute_result"
    }
   ],
   "source": [
    "temp.idxmax().to_dict()"
   ]
  },
  {
   "cell_type": "code",
   "execution_count": 82,
   "metadata": {
    "ExecuteTime": {
     "end_time": "2020-01-08T08:34:30.644991Z",
     "start_time": "2020-01-08T08:34:30.634975Z"
    }
   },
   "outputs": [],
   "source": [
    "est2 = lgb.LGBMClassifier()\n",
    "params = est2.get_params()"
   ]
  },
  {
   "cell_type": "code",
   "execution_count": 83,
   "metadata": {
    "ExecuteTime": {
     "end_time": "2020-01-08T08:34:31.086839Z",
     "start_time": "2020-01-08T08:34:31.079806Z"
    }
   },
   "outputs": [],
   "source": [
    "data = lgb.Dataset(Z, y)\n",
    "params.pop('n_estimators')\n",
    "params['metric'] = 'auc'"
   ]
  },
  {
   "cell_type": "code",
   "execution_count": 85,
   "metadata": {
    "ExecuteTime": {
     "end_time": "2020-01-08T08:34:41.166841Z",
     "start_time": "2020-01-08T08:34:40.928793Z"
    }
   },
   "outputs": [],
   "source": [
    "res = {}\n",
    "result = lgb.train(params, data, num_boost_round=200,\n",
    "        valid_sets=[data], valid_names=['train'], verbose_eval=False, evals_result=res)"
   ]
  },
  {
   "cell_type": "code",
   "execution_count": null,
   "metadata": {
    "ExecuteTime": {
     "end_time": "2020-01-08T08:38:42.011518Z",
     "start_time": "2020-01-08T08:38:41.985777Z"
    }
   },
   "outputs": [],
   "source": []
  },
  {
   "cell_type": "code",
   "execution_count": null,
   "metadata": {
    "ExecuteTime": {
     "end_time": "2020-01-08T08:39:17.634442Z",
     "start_time": "2020-01-08T08:39:17.625314Z"
    }
   },
   "outputs": [],
   "source": []
  },
  {
   "cell_type": "code",
   "execution_count": 21,
   "metadata": {
    "ExecuteTime": {
     "end_time": "2020-01-08T06:42:37.637328Z",
     "start_time": "2020-01-08T06:42:37.558135Z"
    }
   },
   "outputs": [],
   "source": [
    "import lightgbm as lgb\n",
    "import xgboost as xgb\n",
    "from sklearn.metrics import roc_curve\n",
    "from sklearn import clone"
   ]
  },
  {
   "cell_type": "code",
   "execution_count": 38,
   "metadata": {
    "ExecuteTime": {
     "end_time": "2020-01-08T06:51:04.163689Z",
     "start_time": "2020-01-08T06:51:04.158885Z"
    }
   },
   "outputs": [],
   "source": [
    "est = lgb.LGBMClassifier()"
   ]
  },
  {
   "cell_type": "code",
   "execution_count": 39,
   "metadata": {
    "ExecuteTime": {
     "end_time": "2020-01-08T06:51:04.679206Z",
     "start_time": "2020-01-08T06:51:04.671476Z"
    }
   },
   "outputs": [
    {
     "data": {
      "text/plain": [
       "{'boosting_type': 'gbdt',\n",
       " 'class_weight': None,\n",
       " 'colsample_bytree': 1.0,\n",
       " 'importance_type': 'split',\n",
       " 'learning_rate': 0.1,\n",
       " 'max_depth': -1,\n",
       " 'min_child_samples': 20,\n",
       " 'min_child_weight': 0.001,\n",
       " 'min_split_gain': 0.0,\n",
       " 'n_estimators': 100,\n",
       " 'n_jobs': -1,\n",
       " 'num_leaves': 31,\n",
       " 'objective': None,\n",
       " 'random_state': None,\n",
       " 'reg_alpha': 0.0,\n",
       " 'reg_lambda': 0.0,\n",
       " 'silent': True,\n",
       " 'subsample': 1.0,\n",
       " 'subsample_for_bin': 200000,\n",
       " 'subsample_freq': 0}"
      ]
     },
     "execution_count": 39,
     "metadata": {},
     "output_type": "execute_result"
    }
   ],
   "source": [
    "est.get_params()"
   ]
  },
  {
   "cell_type": "code",
   "execution_count": null,
   "metadata": {},
   "outputs": [],
   "source": []
  }
 ],
 "metadata": {
  "kernelspec": {
   "display_name": "Python 3",
   "language": "python",
   "name": "python3"
  },
  "language_info": {
   "codemirror_mode": {
    "name": "ipython",
    "version": 3
   },
   "file_extension": ".py",
   "mimetype": "text/x-python",
   "name": "python",
   "nbconvert_exporter": "python",
   "pygments_lexer": "ipython3",
   "version": "3.7.4"
  },
  "toc": {
   "base_numbering": 1,
   "nav_menu": {},
   "number_sections": true,
   "sideBar": true,
   "skip_h1_title": false,
   "title_cell": "Table of Contents",
   "title_sidebar": "Contents",
   "toc_cell": false,
   "toc_position": {},
   "toc_section_display": true,
   "toc_window_display": false
  },
  "varInspector": {
   "cols": {
    "lenName": 16,
    "lenType": 16,
    "lenVar": 40
   },
   "kernels_config": {
    "python": {
     "delete_cmd_postfix": "",
     "delete_cmd_prefix": "del ",
     "library": "var_list.py",
     "varRefreshCmd": "print(var_dic_list())"
    },
    "r": {
     "delete_cmd_postfix": ") ",
     "delete_cmd_prefix": "rm(",
     "library": "var_list.r",
     "varRefreshCmd": "cat(var_dic_list()) "
    }
   },
   "types_to_exclude": [
    "module",
    "function",
    "builtin_function_or_method",
    "instance",
    "_Feature"
   ],
   "window_display": false
  }
 },
 "nbformat": 4,
 "nbformat_minor": 2
}
