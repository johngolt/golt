{
 "cells": [
  {
   "cell_type": "code",
   "execution_count": 1,
   "metadata": {
    "ExecuteTime": {
     "end_time": "2020-01-17T07:07:57.433445Z",
     "start_time": "2020-01-17T07:07:56.057552Z"
    }
   },
   "outputs": [],
   "source": [
    "import os\n",
    "import sys\n",
    "import re\n",
    "import numpy as np\n",
    "import pandas as pd\n",
    "import seaborn as sns\n",
    "import scipy.stats as stats\n",
    "from sklearn import metrics\n",
    "import matplotlib.pyplot as plt\n",
    "from functools import partial \n",
    "from sklearn.preprocessing import OneHotEncoder, LabelEncoder\n",
    "from sklearn.model_selection import train_test_split, KFold, StratifiedKFold\n",
    "\n",
    "\n",
    "os.chdir('D:/工作/data')\n",
    "sys.path.append('D:/gitln/WorkCode')\n",
    "%matplotlib inline\n",
    "\n",
    "df = pd.read_csv('ucicredit.csv')\n",
    "titanic = pd.read_csv('./titanic/train.csv')\n",
    "columns = ['Age','Pclass','SibSp','Parch','Fare']\n",
    "df.rename(columns={'default.payment.next.month':'target'},inplace=True)\n",
    "dfcolumns=['SEX','EDUCATION','MARRIAGE','AGE','PAY_0','PAY_2',\n",
    "          'PAY_3','PAY_4','PAY_5','PAY_6']\n",
    "numcolumns = (df.columns^dfcolumns)^{'ID','target'}\n",
    "test = pd.read_csv('./titanic/test.csv')\n",
    "path = 'D:/工作/data/price/train.csv'\n",
    "price = pd.read_csv(path)"
   ]
  },
  {
   "cell_type": "code",
   "execution_count": 6,
   "metadata": {
    "ExecuteTime": {
     "end_time": "2020-01-17T07:10:10.030465Z",
     "start_time": "2020-01-17T07:10:10.027473Z"
    }
   },
   "outputs": [],
   "source": [
    "import UserFunc.SplitAlgo as sa"
   ]
  },
  {
   "cell_type": "code",
   "execution_count": 75,
   "metadata": {
    "ExecuteTime": {
     "end_time": "2020-01-17T07:59:23.414745Z",
     "start_time": "2020-01-17T07:59:23.399050Z"
    }
   },
   "outputs": [],
   "source": [
    "from imp import reload"
   ]
  },
  {
   "cell_type": "code",
   "execution_count": 117,
   "metadata": {
    "ExecuteTime": {
     "end_time": "2020-01-17T08:32:26.330618Z",
     "start_time": "2020-01-17T08:32:26.319649Z"
    }
   },
   "outputs": [
    {
     "data": {
      "text/plain": [
       "<module 'UserFunc.SplitAlgo' from 'D:/gitln/WorkCode\\\\UserFunc\\\\SplitAlgo.py'>"
      ]
     },
     "execution_count": 117,
     "metadata": {},
     "output_type": "execute_result"
    }
   ],
   "source": [
    "reload(sa)"
   ]
  },
  {
   "cell_type": "code",
   "execution_count": 124,
   "metadata": {
    "ExecuteTime": {
     "end_time": "2020-01-17T08:34:09.306655Z",
     "start_time": "2020-01-17T08:34:09.301654Z"
    }
   },
   "outputs": [],
   "source": [
    "split = sa.ChiMerge(threshold=0.05)"
   ]
  },
  {
   "cell_type": "code",
   "execution_count": 125,
   "metadata": {
    "ExecuteTime": {
     "end_time": "2020-01-17T08:34:13.947388Z",
     "start_time": "2020-01-17T08:34:10.098111Z"
    }
   },
   "outputs": [
    {
     "data": {
      "text/plain": [
       "<UserFunc.SplitAlgo.ChiMerge at 0x1c6d4840688>"
      ]
     },
     "execution_count": 125,
     "metadata": {},
     "output_type": "execute_result"
    }
   ],
   "source": [
    "split.fit(titanic.loc[:,['Fare']],titanic['Survived'])"
   ]
  },
  {
   "cell_type": "code",
   "execution_count": 126,
   "metadata": {
    "ExecuteTime": {
     "end_time": "2020-01-17T08:34:15.496662Z",
     "start_time": "2020-01-17T08:34:15.489646Z"
    }
   },
   "outputs": [],
   "source": [
    "t = split.transform(titanic.loc[:,['Fare']])"
   ]
  }
 ],
 "metadata": {
  "kernelspec": {
   "display_name": "Python 3",
   "language": "python",
   "name": "python3"
  },
  "language_info": {
   "codemirror_mode": {
    "name": "ipython",
    "version": 3
   },
   "file_extension": ".py",
   "mimetype": "text/x-python",
   "name": "python",
   "nbconvert_exporter": "python",
   "pygments_lexer": "ipython3",
   "version": "3.7.5"
  },
  "toc": {
   "base_numbering": 1,
   "nav_menu": {},
   "number_sections": true,
   "sideBar": true,
   "skip_h1_title": false,
   "title_cell": "Table of Contents",
   "title_sidebar": "Contents",
   "toc_cell": false,
   "toc_position": {},
   "toc_section_display": true,
   "toc_window_display": false
  },
  "varInspector": {
   "cols": {
    "lenName": 16,
    "lenType": 16,
    "lenVar": 40
   },
   "kernels_config": {
    "python": {
     "delete_cmd_postfix": "",
     "delete_cmd_prefix": "del ",
     "library": "var_list.py",
     "varRefreshCmd": "print(var_dic_list())"
    },
    "r": {
     "delete_cmd_postfix": ") ",
     "delete_cmd_prefix": "rm(",
     "library": "var_list.r",
     "varRefreshCmd": "cat(var_dic_list()) "
    }
   },
   "types_to_exclude": [
    "module",
    "function",
    "builtin_function_or_method",
    "instance",
    "_Feature"
   ],
   "window_display": false
  }
 },
 "nbformat": 4,
 "nbformat_minor": 2
}
