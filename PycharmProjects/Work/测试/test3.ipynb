{
 "cells": [
  {
   "cell_type": "code",
   "execution_count": 48,
   "metadata": {
    "ExecuteTime": {
     "end_time": "2020-01-09T02:25:35.599440Z",
     "start_time": "2020-01-09T02:25:35.583474Z"
    }
   },
   "outputs": [],
   "source": [
    "import pandas as pd\n",
    "import numpy as np\n",
    "import os\n",
    "from abc import abstractmethod\n",
    "from sklearn.preprocessing import OneHotEncoder, LabelEncoder\n",
    "from sklearn.model_selection import train_test_split, KFold, StratifiedKFold\n",
    "from sklearn import metrics\n",
    "os.chdir('D:/工作/data/titanic')\n",
    "df = pd.read_csv('train.csv')"
   ]
  },
  {
   "cell_type": "code",
   "execution_count": 49,
   "metadata": {
    "ExecuteTime": {
     "end_time": "2020-01-09T02:25:36.306053Z",
     "start_time": "2020-01-09T02:25:36.271180Z"
    }
   },
   "outputs": [],
   "source": [
    "class PreprocessME:\n",
    "    '''特征处理,对类别特征进行编码，使得可以进行后续建模'''\n",
    "\n",
    "    @abstractmethod\n",
    "    def trainpreprocess(self, df_cat, df_num, **kwargs):\n",
    "        '''训练集的特征处理方式，子类实现。'''\n",
    "        pass\n",
    "    \n",
    "    @abstractmethod\n",
    "    def testpreprocess(self, df_cat, df_num, **kwargs):\n",
    "        '''测试集的特征处理方式，子类实现'''\n",
    "        pass\n",
    "\n",
    "    def select_cat(self, X, columns=None):\n",
    "        '''选取类别特征，默认所有的object类型的特征为类别，也可以自定义一些特征\n",
    "        作为类别特征。'''\n",
    "        result = X.select_dtypes(include='object')\n",
    "        cat = result.columns\n",
    "        if columns is not None:\n",
    "            cat = cat | set(columns)\n",
    "        return cat\n",
    "\n",
    "    def delete_columns(self, X, columns=None):\n",
    "        '''删除不满足条件的特征，这些特征将不用于后续的处理和建模。'''\n",
    "        result = X.copy()\n",
    "        if columns is not None:\n",
    "            result = result.drop(columns, axis=1)\n",
    "        return result\n",
    "    \n",
    "    def get_cat_num(self, X, drop_col=None, cat_col=None):\n",
    "        '''将数据集的特征分为数值特征和类别特征，在不同的模型中采用不同的处理方式，\n",
    "        默认情况下所有的object类型都为类别特征，所有int和float类型为数值特征，用户\n",
    "        可以自身知识设置cat_col将一部分数值特征加入到类别特征中'''\n",
    "        result = self.delete_columns(X, drop_col)\n",
    "        cat_col = self.select_cat(result, cat_col)\n",
    "        num_col = result.columns.difference(cat_col)\n",
    "        return num_col, cat_col\n",
    "    \n",
    "    def get_train_data(self, X, y, drop_col=None, cat_col=None):\n",
    "        self.num_col, self.cat_col = self.get_cat_num(X, drop_col, cat_col)\n",
    "        df_num, df_cat = X.loc[:, self.num_col], X.loc[:, self.cat_col]\n",
    "        Xtrain = self.trainpreprocess(df_cat, df_num)\n",
    "        return Xtrain\n",
    "\n",
    "    def get_test_data(self, X):\n",
    "        '''得到最终用于建模的数据。'''\n",
    "        if hasattr(self, 'num_col') and hasattr(self, 'cat_col'):\n",
    "            df_cat = X.loc[:, self.cat_col].copy()\n",
    "            df_num = X.loc[:, self.num_col].copy()\n",
    "            Xtrain = self.testpreprocess(df_cat, df_num)\n",
    "            return Xtrain\n",
    "        else:\n",
    "            raise ValueError('模型没有训练，不能用于测试！')\n",
    "\n",
    "\n",
    "class ProcessMethod:\n",
    "\n",
    "    def fillcat(self, X):   # 使用None填补类别特征的缺失值。\n",
    "        df_cat = X.copy()\n",
    "        for feature in df_cat.columns:\n",
    "            if df_cat[feature].dtype == 'object':\n",
    "                df_cat[feature] = df_cat[feature].fillna('None')\n",
    "            else:\n",
    "                df_cat[feature] = df_cat[feature].fillna(np.ceil(df_cat[feature].max())+1)\n",
    "        return df_cat\n",
    "\n",
    "    def fillnum(self, X, method='mean'):  # 填补数值特征的缺失值。\n",
    "        X = X.copy()\n",
    "        if method == 'mean':\n",
    "            X = X.fillna(X.mean())\n",
    "        elif method == 'median':\n",
    "            X = X.fillna(X.median())\n",
    "        elif method == 'mode':\n",
    "            X = X.fillna(X.mode().iloc[0])\n",
    "        return X\n",
    "\n",
    "    def labelenc(self, df_cat):\n",
    "        '''自然数编码。'''\n",
    "        df_cat = self.fillcat(df_cat)\n",
    "        result = df_cat.copy()\n",
    "        encs = {}\n",
    "        for feature in df_cat.columns:\n",
    "            enc = LabelEncoder()\n",
    "            enc.fit(df_cat[feature])\n",
    "            encs[feature] = enc\n",
    "            result[feature] = enc.transform(df_cat[feature])\n",
    "        return encs, result\n",
    "    \n",
    "    def onehotenc(self, df_cat):\n",
    "        df_cat = self.fillcat(df_cat)\n",
    "        encs = {}\n",
    "        for feature in df_cat.columns:\n",
    "            enc = OneHotEncoder(categories='auto', handle_unknown='ignore')\n",
    "            enc.fit(df_cat.loc[:,[feature]])\n",
    "            encs[feature] = enc\n",
    "        return encs\n",
    "\n",
    "    def onehottrans(self, df_cat, encs):\n",
    "        df_cat = self.fillcat(df_cat)\n",
    "        result = []\n",
    "        for feature in df_cat.columns:\n",
    "            enc = encs[feature]\n",
    "            data = enc.transform(df_cat.loc[:,[feature]]).toarray()\n",
    "            columns = enc.get_feature_names()\n",
    "            func = partial(re.sub, 'x0', feature)\n",
    "            columns = list(map(func, columns))\n",
    "            res = pd.DataFrame(data, columns=columns, index=df_cat.index)\n",
    "            result.append(res)\n",
    "        result = pd.concat(result, axis=1)\n",
    "        return result\n",
    "\n",
    "    \n",
    "class LGBPreprocess(PreprocessME, ProcessMethod):\n",
    "\n",
    "    def trainpreprocess(self, df_cat, df_num):\n",
    "        self.encs, result = self.labelenc(df_cat)\n",
    "        result = pd.concat([result, df_num], axis=1)\n",
    "        return result\n",
    "\n",
    "    def testpreprocess(self, df_cat, df_num):\n",
    "        df_cat = self.fillcat(df_cat)\n",
    "        cat = df_cat.copy()\n",
    "        assert hasattr(self, 'encs')\n",
    "        for feature in self.encs.keys():\n",
    "            cat[feature] = self.encs[feature].transform(df_cat[feature])\n",
    "        result = pd.concat([cat, df_num], axis=1)\n",
    "        return result\n",
    "\n",
    "\n",
    "class LGBOnehot(PreprocessME, ProcessMethod):\n",
    "\n",
    "    def trainpreprocess(self, df_cat, df_num):\n",
    "        self.encs = self.onehotenc(df_cat)\n",
    "        result = self.onehottrans(df_cat, self.encs)\n",
    "        result = pd.concat([result, df_num], axis=1)\n",
    "        return result\n",
    "\n",
    "    def testpreprocess(self, df_cat, df_num):\n",
    "        assert hasattr(self, 'encs')\n",
    "        result = self.onehottrans(df_cat, self.encs)\n",
    "        result = pd.concat([result, df_num], axis=1)\n",
    "        return result"
   ]
  },
  {
   "cell_type": "code",
   "execution_count": 50,
   "metadata": {
    "ExecuteTime": {
     "end_time": "2020-01-09T02:25:36.897964Z",
     "start_time": "2020-01-09T02:25:36.892981Z"
    }
   },
   "outputs": [],
   "source": [
    "drop =['Name','Ticket','PassengerId']"
   ]
  },
  {
   "cell_type": "code",
   "execution_count": 51,
   "metadata": {
    "ExecuteTime": {
     "end_time": "2020-01-09T02:25:37.435246Z",
     "start_time": "2020-01-09T02:25:37.431260Z"
    }
   },
   "outputs": [],
   "source": [
    "lgpre = LGBOnehot()"
   ]
  },
  {
   "cell_type": "code",
   "execution_count": 52,
   "metadata": {
    "ExecuteTime": {
     "end_time": "2020-01-09T02:25:38.296108Z",
     "start_time": "2020-01-09T02:25:38.292083Z"
    }
   },
   "outputs": [],
   "source": [
    "y = df.pop('Survived')"
   ]
  },
  {
   "cell_type": "code",
   "execution_count": 53,
   "metadata": {
    "ExecuteTime": {
     "end_time": "2020-01-09T02:25:38.892491Z",
     "start_time": "2020-01-09T02:25:38.866524Z"
    }
   },
   "outputs": [],
   "source": [
    "from functools import partial \n",
    "import re\n",
    "X = lgpre.get_train_data(df,y,drop_col=drop)"
   ]
  },
  {
   "cell_type": "code",
   "execution_count": 54,
   "metadata": {
    "ExecuteTime": {
     "end_time": "2020-01-09T02:25:40.182595Z",
     "start_time": "2020-01-09T02:25:40.179569Z"
    }
   },
   "outputs": [
    {
     "data": {
      "text/plain": [
       "(891, 159)"
      ]
     },
     "execution_count": 54,
     "metadata": {},
     "output_type": "execute_result"
    }
   ],
   "source": [
    "X.shape"
   ]
  },
  {
   "cell_type": "code",
   "execution_count": 55,
   "metadata": {
    "ExecuteTime": {
     "end_time": "2020-01-09T02:25:41.311678Z",
     "start_time": "2020-01-09T02:25:41.267834Z"
    }
   },
   "outputs": [],
   "source": [
    "from abc import abstractmethod\n",
    "from sklearn.model_selection import train_test_split, KFold, StratifiedKFold\n",
    "from sklearn import metrics\n",
    "import xgboost as xgb\n",
    "import lightgbm as lgb\n",
    "from sklearn import clone\n",
    "\n",
    "\n",
    "class ModelME:\n",
    "    def __init__(self, X, y):\n",
    "        self.est = self.init_est()\n",
    "        self.imbalance=False\n",
    "        self.X = X\n",
    "        self.y = y\n",
    "        self.name = self.est.__class__.__name__\n",
    "\n",
    "    @abstractmethod\n",
    "    def init_est(self):\n",
    "        pass\n",
    "    \n",
    "    def _ks(self, y, preds):\n",
    "        '''计算KS值'''\n",
    "        fpr, tpr, _ = metrics.roc_curve(y, preds)\n",
    "        return np.abs(fpr - tpr).max()\n",
    "\n",
    "    def _lift(self, y, preds):\n",
    "        '''计算提升度。'''\n",
    "        groupor = pd.qcut(preds, q=10, duplicates='drop')\n",
    "        result = y.groupby(groupor).mean() / y.mean()\n",
    "        return result.max()\n",
    "    \n",
    "    def train_valid_split(self):\n",
    "        '''将训练集进行划分，分为训练集和验证集，在验证集上进行超参数的选择。'''\n",
    "        if self.imbalance:\n",
    "            Xt, Xv, yt, yv = train_test_split(self.X, self.y, train_size=0.8, random_state=10)\n",
    "        else:\n",
    "            Xt, Xv, yt, yv = train_test_split(self.X, self.y, train_size=0.8, random_state=10, stratify=self.y)\n",
    "        return Xt, Xv, yt, yv\n",
    "\n",
    "\n",
    "\n",
    "class GradientME(ModelME):\n",
    "\n",
    "    def get_label(self, data):\n",
    "        '''计算评价函数的辅助函数，从xgboost和lightgbm的数据结构中得到y值'''\n",
    "        label = data.get_label()\n",
    "        return pd.Series(label)\n",
    "\n",
    "    @abstractmethod\n",
    "    def lift(self, preds, data):\n",
    "        pass\n",
    "\n",
    "    @abstractmethod\n",
    "    def ks(self, preds, data):\n",
    "        pass\n",
    "\n",
    "    def get_params(self):\n",
    "        '''用于得到xgboost和lightgbm的train方法的params参数。'''\n",
    "        if self.name == 'XGBClassifier':\n",
    "            params = self.est.get_xgb_params()\n",
    "            params.pop('n_estimators')\n",
    "            params['eval_metric'] = 'auc'\n",
    "        elif self.name == 'LGBMClassifier':\n",
    "            params = self.est.get_params()\n",
    "            params.pop('n_estimators')\n",
    "            params.pop('silent')\n",
    "            params['metric'] = 'auc'\n",
    "        return params\n",
    "\n",
    "    def dataformat(self, X, y):\n",
    "        '''将训练数据转化为xgboost和lightgbm使用的数据格式，主要用于train方法。'''\n",
    "        if self.name == 'XGBClassifier':\n",
    "            data = xgb.DMatrix(X, y)\n",
    "        elif self.name == 'LGBMClassifier':\n",
    "            data = lgb.Dataset(X, y)\n",
    "        return data\n",
    "\n",
    "    def get_train_valid(self):\n",
    "        Xt, Xv, yt, yv = self.train_valid_split()\n",
    "        tdata = self.dataformat(Xt, yt)\n",
    "        vdata = self.dataformat(Xv, yv)\n",
    "        return tdata, vdata\n",
    "\n",
    "    def fit(self):  # 模型训练\n",
    "        if not hasattr(self, 'train_result'):\n",
    "            self.train()\n",
    "        self.estimators = {}\n",
    "        for key in self.train_result['valid'].keys():\n",
    "            n = np.argmax(self.train_result['valid'][key])\n",
    "            est = clone(self.est)\n",
    "            est = est.set_params(**{'n_estimators':n})\n",
    "            est = est.fit(self.X, self.y)\n",
    "            self.estimators[key] = est\n",
    "        return self\n",
    "\n",
    "    def logit(self, res):\n",
    "        if res.ndim == 2:\n",
    "            return res, 1/(1+np.exp(-res.sum(axis=1)))\n",
    "        else:\n",
    "            return res, None\n",
    "\n",
    "    def predict(self, X, best='auc', pred_contrib=False):  # 模型预测\n",
    "        if best in self.estimators:\n",
    "            if self.name == 'LGBMClassifier':\n",
    "                res = self.estimators[best].predict_proba(X, pred_contrib=pred_contrib)\n",
    "                result = self.logit(res)\n",
    "            elif self.name == 'XGBClassifier':\n",
    "                data = xgb.DMatrix(X)\n",
    "                res = self.estimators[best].get_booster().predict(data, pred_contribs=pred_contrib)\n",
    "                result = self.logit(res)\n",
    "            return result\n",
    "        else:\n",
    "            raise KeyError('{}'.format(best))\n",
    "\n",
    "    def train(self):\n",
    "        '''用于对模型效果的展示，展示模型在训练集和测试集上的效果。主要针对于提升树模型,返回训练集和验证集上\n",
    "        评价指标的值和在训练集的模型。'''\n",
    "        tdata, vdata = self.get_train_valid()\n",
    "        params = self.get_params()\n",
    "        res, res1 = {}, {}\n",
    "        if self.name == 'XGBClassifier':\n",
    "            est = xgb.train(params,\n",
    "                            tdata,\n",
    "                            evals=[(tdata, 'train'), (vdata, 'valid')],\n",
    "                            num_boost_round=200,\n",
    "                            feval=self.ks,\n",
    "                            evals_result=res,\n",
    "                            verbose_eval=False)\n",
    "            est = xgb.train(params,\n",
    "                            tdata,\n",
    "                            evals=[(tdata, 'train'), (vdata, 'valid')],\n",
    "                            num_boost_round=200,\n",
    "                            feval=self.lift,\n",
    "                            evals_result=res1,\n",
    "                            verbose_eval=False)\n",
    "        elif self.name == 'LGBMClassifier':\n",
    "            est = lgb.train(params,\n",
    "                            tdata,\n",
    "                            num_boost_round=200,\n",
    "                            valid_sets=[tdata, vdata],\n",
    "                            valid_names=['train', 'valid'],\n",
    "                            feval=self.ks,\n",
    "                            verbose_eval=False,\n",
    "                            evals_result=res)\n",
    "            est = lgb.train(params,\n",
    "                            tdata,\n",
    "                            num_boost_round=200,\n",
    "                            valid_sets=[tdata, vdata],\n",
    "                            valid_names=['train', 'valid'],\n",
    "                            feval=self.lift,\n",
    "                            verbose_eval=False,\n",
    "                            evals_result=res1)\n",
    "        res['train'].update(res1['train'])\n",
    "        res['valid'].update(res1['valid'])\n",
    "        self.train_result = res\n",
    "        self.train_est = est\n",
    "\n",
    "    def trainreport(self):\n",
    "        if not hasattr(self, 'train_result'):\n",
    "            self.train()\n",
    "        valid = pd.DataFrame(self.train_result['valid'])\n",
    "        limit = valid.idxmax().to_dict()\n",
    "        Xt, Xv, yt, yv = self.train_valid_split()\n",
    "        tdata, vdata = self.get_train_valid()\n",
    "        report = {}\n",
    "        for key in limit.keys():\n",
    "            if self.name == 'XGBClassifier':\n",
    "                typred = self.train_est.predict(tdata, ntree_limit=limit[key])\n",
    "                vypred = self.train_est.predict(vdata, ntree_limit=limit[key])\n",
    "            elif self.name == 'LGBMClassifier':\n",
    "                typred = self.train_est.predict(Xt, ntree_limit=limit[key])\n",
    "                vypred = self.train_est.predict(Xv, ntree_limit=limit[key])\n",
    "            report[key] = [typred, yt, vypred, yv]\n",
    "        return self.train_result, report\n",
    "\n",
    "\n",
    "class XGBME(GradientME):  # xgboost\n",
    "    def init_est(self):\n",
    "        params = {'base_score': 0.5, 'booster': 'gbtree', 'colsample_bytree': 0.5, 'gamma': 0,\n",
    "               'learning_rate': 0.1, 'max_delta_step': 0, 'max_depth': 5,\n",
    "                'min_child_weight': 1, 'n_estimators': 200, 'reg_alpha': 0,\n",
    "                'reg_lambda': 0, 'scale_pos_weight': 1,'subsample': 0.5 }\n",
    "        est = xgb.XGBClassifier(**params)\n",
    "        return est\n",
    "\n",
    "    def ks(self, preds, data):\n",
    "        y = self.get_label(data)\n",
    "        res = self._ks(y, preds)\n",
    "        return 'KS', res\n",
    "\n",
    "    def lift(self, preds, data):\n",
    "        y = self.get_label(data)\n",
    "        res = self._lift(y, preds)\n",
    "        return 'Lift', res"
   ]
  },
  {
   "cell_type": "code",
   "execution_count": 56,
   "metadata": {
    "ExecuteTime": {
     "end_time": "2020-01-09T02:25:41.976465Z",
     "start_time": "2020-01-09T02:25:41.973435Z"
    }
   },
   "outputs": [],
   "source": []
  },
  {
   "cell_type": "code",
   "execution_count": 231,
   "metadata": {
    "ExecuteTime": {
     "end_time": "2020-01-09T09:17:01.683708Z",
     "start_time": "2020-01-09T09:17:01.647801Z"
    }
   },
   "outputs": [],
   "source": [
    "class ValidResult:\n",
    "    \n",
    "    def process(self, df,index=False):\n",
    "        df = df.round(3)\n",
    "        if index:\n",
    "            df.index.name='名称'\n",
    "            df = df.reset_index()\n",
    "        headers = df.columns\n",
    "        rows = df.to_numpy().tolist()\n",
    "        return list(headers), rows\n",
    "\n",
    "    def table(self, df, title=None):\n",
    "        headers, rows = self.process(df,index=True)\n",
    "        tb = Table().add(headers, rows).set_global_opts(\n",
    "        title_opts=ComponentTitleOpts(title=title))\n",
    "        return tb\n",
    "            \n",
    "    def get_group(self, y, ypred):\n",
    "        category, bins = pd.qcut(ypred, q=10, duplicates='drop', retbins=True)\n",
    "        cate = category.set_categories(bins[:-1], rename=True)\n",
    "        return cate, bins[:-1][::-1]\n",
    "\n",
    "    def bin_info(self, y, ypred):\n",
    "        columns = ['箱', '分数', '样本数量', '关注样本数', '区间关注类别比例',\n",
    "        '累计关注类别比例', '区间准确率', '累计准确率', '提升', '累计提升']\n",
    "        cate, bins = self.get_group(y, ypred)\n",
    "        df = pd.DataFrame(columns=columns, index=bins)\n",
    "        group = y.groupby(cate)\n",
    "        df['箱'] = range(1, len(df)+1)\n",
    "        df['分数'] = df.index \n",
    "        df['样本数量'] = group.size()\n",
    "        df['关注样本数'] = group.sum()\n",
    "        df['区间关注类别比例'] = df['关注样本数']/y.sum()\n",
    "        df['累计关注类别比例'] = df['区间关注类别比例'].cumsum()\n",
    "        df['区间准确率'] = df['关注样本数']/df['样本数量']\n",
    "        df['累计准确率'] = (df['关注样本数'].cumsum())/df['样本数量'].cumsum()\n",
    "        df['提升'] = df['区间准确率']/y.mean()\n",
    "        df['累计提升'] = df['累计准确率']/y.mean()\n",
    "        return df\n",
    "\n",
    "    def confusin(self, y, ypred, bin_num=1):\n",
    "        columns = ['实际类别', '类别总数', '正确百分比', '预测类别 非关注', '预测类别 关注']\n",
    "        indexs = ['非关注', '关注', '合计']\n",
    "        df = pd.DataFrame(columns=columns)\n",
    "        df['实际类别'] = indexs\n",
    "        df = df.set_index('实际类别')\n",
    "        df['类别总数'] = [len(y)-y.sum(), y.sum(), len(y)]\n",
    "\n",
    "        _, bins = self.get_group(y, ypred)\n",
    "        y1 = (ypred > bins[bin_num-1]).astype(int)\n",
    "\n",
    "        df.iloc[:2, -2:] = metrics.confusion_matrix(y, y1)\n",
    "        df.loc['关注', '正确百分比'] = df.at['关注', '预测类别 关注']/df.at['关注', '类别总数']\n",
    "        df.loc['非关注', '正确百分比'] = df.at['非关注', '预测类别 非关注']/df.at['非关注', '类别总数']\n",
    "        df.loc['合计', '预测类别 关注'] = df.at['关注', '预测类别 关注']/df.loc[:, '预测类别 关注'].sum()\n",
    "        df.loc['合计', '预测类别 非关注'] = df.at['非关注', '预测类别 非关注']/df.loc[:, '预测类别 非关注'].sum()\n",
    "        return df\n",
    "\n",
    "    def indicate(self, y, ypred, bin_num=1):\n",
    "        _, bins = self.get_group(y, ypred)\n",
    "        y1 = (ypred > bins[bin_num-1]).astype(int)\n",
    "        columns = ['名称', '正确百分比']\n",
    "        indexs = ['准确率', '精确率', '召回率']\n",
    "        indexs2 = ['灵敏度', '特异度', 'F1统计']\n",
    "        df1 = pd.DataFrame(columns=columns)\n",
    "        df1['名称'] = indexs\n",
    "        df2 = pd.DataFrame(columns=columns)\n",
    "        df2['名称'] = indexs2\n",
    "        value = metrics.accuracy_score(y, y1), metrics.precision_score(y, y1), metrics.recall_score(y, y1)\n",
    "        df1.loc[:, '正确百分比'] = value\n",
    "        conf = metrics.confusion_matrix(y, y1)\n",
    "        value = conf[1, 1]/conf.sum(axis=1)[1], conf[0, 0]/conf.sum(axis=1)[0], metrics.f1_score(y, y1)\n",
    "        df2.loc[:, '正确百分比'] = value\n",
    "        return df1, df2"
   ]
  },
  {
   "cell_type": "code",
   "execution_count": 236,
   "metadata": {
    "ExecuteTime": {
     "end_time": "2020-01-09T09:22:55.766865Z",
     "start_time": "2020-01-09T09:22:55.761911Z"
    }
   },
   "outputs": [],
   "source": [
    "typred, ty, vypred, vy = b['auc']"
   ]
  },
  {
   "cell_type": "code",
   "execution_count": 281,
   "metadata": {
    "ExecuteTime": {
     "end_time": "2020-01-09T11:06:08.087557Z",
     "start_time": "2020-01-09T11:06:08.080549Z"
    }
   },
   "outputs": [],
   "source": [
    "fpr, tpr, thres = roc_curve(ty,typred.round(3))"
   ]
  },
  {
   "cell_type": "code",
   "execution_count": 282,
   "metadata": {
    "ExecuteTime": {
     "end_time": "2020-01-09T11:06:08.621257Z",
     "start_time": "2020-01-09T11:06:08.617272Z"
    }
   },
   "outputs": [],
   "source": [
    "fpr1, tpr1, thres1 = roc_curve(vy,vypred.round(3))"
   ]
  },
  {
   "cell_type": "code",
   "execution_count": 334,
   "metadata": {
    "ExecuteTime": {
     "end_time": "2020-01-09T11:40:58.728064Z",
     "start_time": "2020-01-09T11:40:58.671196Z"
    }
   },
   "outputs": [
    {
     "data": {
      "text/html": [
       "\n",
       "    <div class=\"bk-root\">\n",
       "        <a href=\"https://bokeh.pydata.org\" target=\"_blank\" class=\"bk-logo bk-logo-small bk-logo-notebook\"></a>\n",
       "        <span id=\"1231\">Loading BokehJS ...</span>\n",
       "    </div>"
      ]
     },
     "metadata": {},
     "output_type": "display_data"
    },
    {
     "data": {
      "application/javascript": [
       "\n",
       "(function(root) {\n",
       "  function now() {\n",
       "    return new Date();\n",
       "  }\n",
       "\n",
       "  var force = true;\n",
       "\n",
       "  if (typeof root._bokeh_onload_callbacks === \"undefined\" || force === true) {\n",
       "    root._bokeh_onload_callbacks = [];\n",
       "    root._bokeh_is_loading = undefined;\n",
       "  }\n",
       "\n",
       "  var JS_MIME_TYPE = 'application/javascript';\n",
       "  var HTML_MIME_TYPE = 'text/html';\n",
       "  var EXEC_MIME_TYPE = 'application/vnd.bokehjs_exec.v0+json';\n",
       "  var CLASS_NAME = 'output_bokeh rendered_html';\n",
       "\n",
       "  /**\n",
       "   * Render data to the DOM node\n",
       "   */\n",
       "  function render(props, node) {\n",
       "    var script = document.createElement(\"script\");\n",
       "    node.appendChild(script);\n",
       "  }\n",
       "\n",
       "  /**\n",
       "   * Handle when an output is cleared or removed\n",
       "   */\n",
       "  function handleClearOutput(event, handle) {\n",
       "    var cell = handle.cell;\n",
       "\n",
       "    var id = cell.output_area._bokeh_element_id;\n",
       "    var server_id = cell.output_area._bokeh_server_id;\n",
       "    // Clean up Bokeh references\n",
       "    if (id != null && id in Bokeh.index) {\n",
       "      Bokeh.index[id].model.document.clear();\n",
       "      delete Bokeh.index[id];\n",
       "    }\n",
       "\n",
       "    if (server_id !== undefined) {\n",
       "      // Clean up Bokeh references\n",
       "      var cmd = \"from bokeh.io.state import curstate; print(curstate().uuid_to_server['\" + server_id + \"'].get_sessions()[0].document.roots[0]._id)\";\n",
       "      cell.notebook.kernel.execute(cmd, {\n",
       "        iopub: {\n",
       "          output: function(msg) {\n",
       "            var id = msg.content.text.trim();\n",
       "            if (id in Bokeh.index) {\n",
       "              Bokeh.index[id].model.document.clear();\n",
       "              delete Bokeh.index[id];\n",
       "            }\n",
       "          }\n",
       "        }\n",
       "      });\n",
       "      // Destroy server and session\n",
       "      var cmd = \"import bokeh.io.notebook as ion; ion.destroy_server('\" + server_id + \"')\";\n",
       "      cell.notebook.kernel.execute(cmd);\n",
       "    }\n",
       "  }\n",
       "\n",
       "  /**\n",
       "   * Handle when a new output is added\n",
       "   */\n",
       "  function handleAddOutput(event, handle) {\n",
       "    var output_area = handle.output_area;\n",
       "    var output = handle.output;\n",
       "\n",
       "    // limit handleAddOutput to display_data with EXEC_MIME_TYPE content only\n",
       "    if ((output.output_type != \"display_data\") || (!output.data.hasOwnProperty(EXEC_MIME_TYPE))) {\n",
       "      return\n",
       "    }\n",
       "\n",
       "    var toinsert = output_area.element.find(\".\" + CLASS_NAME.split(' ')[0]);\n",
       "\n",
       "    if (output.metadata[EXEC_MIME_TYPE][\"id\"] !== undefined) {\n",
       "      toinsert[toinsert.length - 1].firstChild.textContent = output.data[JS_MIME_TYPE];\n",
       "      // store reference to embed id on output_area\n",
       "      output_area._bokeh_element_id = output.metadata[EXEC_MIME_TYPE][\"id\"];\n",
       "    }\n",
       "    if (output.metadata[EXEC_MIME_TYPE][\"server_id\"] !== undefined) {\n",
       "      var bk_div = document.createElement(\"div\");\n",
       "      bk_div.innerHTML = output.data[HTML_MIME_TYPE];\n",
       "      var script_attrs = bk_div.children[0].attributes;\n",
       "      for (var i = 0; i < script_attrs.length; i++) {\n",
       "        toinsert[toinsert.length - 1].firstChild.setAttribute(script_attrs[i].name, script_attrs[i].value);\n",
       "      }\n",
       "      // store reference to server id on output_area\n",
       "      output_area._bokeh_server_id = output.metadata[EXEC_MIME_TYPE][\"server_id\"];\n",
       "    }\n",
       "  }\n",
       "\n",
       "  function register_renderer(events, OutputArea) {\n",
       "\n",
       "    function append_mime(data, metadata, element) {\n",
       "      // create a DOM node to render to\n",
       "      var toinsert = this.create_output_subarea(\n",
       "        metadata,\n",
       "        CLASS_NAME,\n",
       "        EXEC_MIME_TYPE\n",
       "      );\n",
       "      this.keyboard_manager.register_events(toinsert);\n",
       "      // Render to node\n",
       "      var props = {data: data, metadata: metadata[EXEC_MIME_TYPE]};\n",
       "      render(props, toinsert[toinsert.length - 1]);\n",
       "      element.append(toinsert);\n",
       "      return toinsert\n",
       "    }\n",
       "\n",
       "    /* Handle when an output is cleared or removed */\n",
       "    events.on('clear_output.CodeCell', handleClearOutput);\n",
       "    events.on('delete.Cell', handleClearOutput);\n",
       "\n",
       "    /* Handle when a new output is added */\n",
       "    events.on('output_added.OutputArea', handleAddOutput);\n",
       "\n",
       "    /**\n",
       "     * Register the mime type and append_mime function with output_area\n",
       "     */\n",
       "    OutputArea.prototype.register_mime_type(EXEC_MIME_TYPE, append_mime, {\n",
       "      /* Is output safe? */\n",
       "      safe: true,\n",
       "      /* Index of renderer in `output_area.display_order` */\n",
       "      index: 0\n",
       "    });\n",
       "  }\n",
       "\n",
       "  // register the mime type if in Jupyter Notebook environment and previously unregistered\n",
       "  if (root.Jupyter !== undefined) {\n",
       "    var events = require('base/js/events');\n",
       "    var OutputArea = require('notebook/js/outputarea').OutputArea;\n",
       "\n",
       "    if (OutputArea.prototype.mime_types().indexOf(EXEC_MIME_TYPE) == -1) {\n",
       "      register_renderer(events, OutputArea);\n",
       "    }\n",
       "  }\n",
       "\n",
       "  \n",
       "  if (typeof (root._bokeh_timeout) === \"undefined\" || force === true) {\n",
       "    root._bokeh_timeout = Date.now() + 5000;\n",
       "    root._bokeh_failed_load = false;\n",
       "  }\n",
       "\n",
       "  var NB_LOAD_WARNING = {'data': {'text/html':\n",
       "     \"<div style='background-color: #fdd'>\\n\"+\n",
       "     \"<p>\\n\"+\n",
       "     \"BokehJS does not appear to have successfully loaded. If loading BokehJS from CDN, this \\n\"+\n",
       "     \"may be due to a slow or bad network connection. Possible fixes:\\n\"+\n",
       "     \"</p>\\n\"+\n",
       "     \"<ul>\\n\"+\n",
       "     \"<li>re-rerun `output_notebook()` to attempt to load from CDN again, or</li>\\n\"+\n",
       "     \"<li>use INLINE resources instead, as so:</li>\\n\"+\n",
       "     \"</ul>\\n\"+\n",
       "     \"<code>\\n\"+\n",
       "     \"from bokeh.resources import INLINE\\n\"+\n",
       "     \"output_notebook(resources=INLINE)\\n\"+\n",
       "     \"</code>\\n\"+\n",
       "     \"</div>\"}};\n",
       "\n",
       "  function display_loaded() {\n",
       "    var el = document.getElementById(\"1231\");\n",
       "    if (el != null) {\n",
       "      el.textContent = \"BokehJS is loading...\";\n",
       "    }\n",
       "    if (root.Bokeh !== undefined) {\n",
       "      if (el != null) {\n",
       "        el.textContent = \"BokehJS \" + root.Bokeh.version + \" successfully loaded.\";\n",
       "      }\n",
       "    } else if (Date.now() < root._bokeh_timeout) {\n",
       "      setTimeout(display_loaded, 100)\n",
       "    }\n",
       "  }\n",
       "\n",
       "\n",
       "  function run_callbacks() {\n",
       "    try {\n",
       "      root._bokeh_onload_callbacks.forEach(function(callback) {\n",
       "        if (callback != null)\n",
       "          callback();\n",
       "      });\n",
       "    } finally {\n",
       "      delete root._bokeh_onload_callbacks\n",
       "    }\n",
       "    console.debug(\"Bokeh: all callbacks have finished\");\n",
       "  }\n",
       "\n",
       "  function load_libs(css_urls, js_urls, callback) {\n",
       "    if (css_urls == null) css_urls = [];\n",
       "    if (js_urls == null) js_urls = [];\n",
       "\n",
       "    root._bokeh_onload_callbacks.push(callback);\n",
       "    if (root._bokeh_is_loading > 0) {\n",
       "      console.debug(\"Bokeh: BokehJS is being loaded, scheduling callback at\", now());\n",
       "      return null;\n",
       "    }\n",
       "    if (js_urls == null || js_urls.length === 0) {\n",
       "      run_callbacks();\n",
       "      return null;\n",
       "    }\n",
       "    console.debug(\"Bokeh: BokehJS not loaded, scheduling load and callback at\", now());\n",
       "    root._bokeh_is_loading = css_urls.length + js_urls.length;\n",
       "\n",
       "    function on_load() {\n",
       "      root._bokeh_is_loading--;\n",
       "      if (root._bokeh_is_loading === 0) {\n",
       "        console.debug(\"Bokeh: all BokehJS libraries/stylesheets loaded\");\n",
       "        run_callbacks()\n",
       "      }\n",
       "    }\n",
       "\n",
       "    function on_error() {\n",
       "      console.error(\"failed to load \" + url);\n",
       "    }\n",
       "\n",
       "    for (var i = 0; i < css_urls.length; i++) {\n",
       "      var url = css_urls[i];\n",
       "      const element = document.createElement(\"link\");\n",
       "      element.onload = on_load;\n",
       "      element.onerror = on_error;\n",
       "      element.rel = \"stylesheet\";\n",
       "      element.type = \"text/css\";\n",
       "      element.href = url;\n",
       "      console.debug(\"Bokeh: injecting link tag for BokehJS stylesheet: \", url);\n",
       "      document.body.appendChild(element);\n",
       "    }\n",
       "\n",
       "    for (var i = 0; i < js_urls.length; i++) {\n",
       "      var url = js_urls[i];\n",
       "      var element = document.createElement('script');\n",
       "      element.onload = on_load;\n",
       "      element.onerror = on_error;\n",
       "      element.async = false;\n",
       "      element.src = url;\n",
       "      console.debug(\"Bokeh: injecting script tag for BokehJS library: \", url);\n",
       "      document.head.appendChild(element);\n",
       "    }\n",
       "  };var element = document.getElementById(\"1231\");\n",
       "  if (element == null) {\n",
       "    console.error(\"Bokeh: ERROR: autoload.js configured with elementid '1231' but no matching script tag was found. \")\n",
       "    return false;\n",
       "  }\n",
       "\n",
       "  function inject_raw_css(css) {\n",
       "    const element = document.createElement(\"style\");\n",
       "    element.appendChild(document.createTextNode(css));\n",
       "    document.body.appendChild(element);\n",
       "  }\n",
       "\n",
       "  var js_urls = [\"https://cdn.pydata.org/bokeh/release/bokeh-1.3.4.min.js\", \"https://cdn.pydata.org/bokeh/release/bokeh-widgets-1.3.4.min.js\", \"https://cdn.pydata.org/bokeh/release/bokeh-tables-1.3.4.min.js\", \"https://cdn.pydata.org/bokeh/release/bokeh-gl-1.3.4.min.js\"];\n",
       "  var css_urls = [];\n",
       "\n",
       "  var inline_js = [\n",
       "    function(Bokeh) {\n",
       "      Bokeh.set_log_level(\"info\");\n",
       "    },\n",
       "    \n",
       "    function(Bokeh) {\n",
       "      \n",
       "    },\n",
       "    function(Bokeh) {} // ensure no trailing comma for IE\n",
       "  ];\n",
       "\n",
       "  function run_inline_js() {\n",
       "    \n",
       "    if ((root.Bokeh !== undefined) || (force === true)) {\n",
       "      for (var i = 0; i < inline_js.length; i++) {\n",
       "        inline_js[i].call(root, root.Bokeh);\n",
       "      }if (force === true) {\n",
       "        display_loaded();\n",
       "      }} else if (Date.now() < root._bokeh_timeout) {\n",
       "      setTimeout(run_inline_js, 100);\n",
       "    } else if (!root._bokeh_failed_load) {\n",
       "      console.log(\"Bokeh: BokehJS failed to load within specified timeout.\");\n",
       "      root._bokeh_failed_load = true;\n",
       "    } else if (force !== true) {\n",
       "      var cell = $(document.getElementById(\"1231\")).parents('.cell').data().cell;\n",
       "      cell.output_area.append_execute_result(NB_LOAD_WARNING)\n",
       "    }\n",
       "\n",
       "  }\n",
       "\n",
       "  if (root._bokeh_is_loading === 0) {\n",
       "    console.debug(\"Bokeh: BokehJS loaded, going straight to plotting\");\n",
       "    run_inline_js();\n",
       "  } else {\n",
       "    load_libs(css_urls, js_urls, function() {\n",
       "      console.debug(\"Bokeh: BokehJS plotting callback run at\", now());\n",
       "      run_inline_js();\n",
       "    });\n",
       "  }\n",
       "}(window));"
      ],
      "application/vnd.bokehjs_load.v0+json": "\n(function(root) {\n  function now() {\n    return new Date();\n  }\n\n  var force = true;\n\n  if (typeof root._bokeh_onload_callbacks === \"undefined\" || force === true) {\n    root._bokeh_onload_callbacks = [];\n    root._bokeh_is_loading = undefined;\n  }\n\n  \n\n  \n  if (typeof (root._bokeh_timeout) === \"undefined\" || force === true) {\n    root._bokeh_timeout = Date.now() + 5000;\n    root._bokeh_failed_load = false;\n  }\n\n  var NB_LOAD_WARNING = {'data': {'text/html':\n     \"<div style='background-color: #fdd'>\\n\"+\n     \"<p>\\n\"+\n     \"BokehJS does not appear to have successfully loaded. If loading BokehJS from CDN, this \\n\"+\n     \"may be due to a slow or bad network connection. Possible fixes:\\n\"+\n     \"</p>\\n\"+\n     \"<ul>\\n\"+\n     \"<li>re-rerun `output_notebook()` to attempt to load from CDN again, or</li>\\n\"+\n     \"<li>use INLINE resources instead, as so:</li>\\n\"+\n     \"</ul>\\n\"+\n     \"<code>\\n\"+\n     \"from bokeh.resources import INLINE\\n\"+\n     \"output_notebook(resources=INLINE)\\n\"+\n     \"</code>\\n\"+\n     \"</div>\"}};\n\n  function display_loaded() {\n    var el = document.getElementById(\"1231\");\n    if (el != null) {\n      el.textContent = \"BokehJS is loading...\";\n    }\n    if (root.Bokeh !== undefined) {\n      if (el != null) {\n        el.textContent = \"BokehJS \" + root.Bokeh.version + \" successfully loaded.\";\n      }\n    } else if (Date.now() < root._bokeh_timeout) {\n      setTimeout(display_loaded, 100)\n    }\n  }\n\n\n  function run_callbacks() {\n    try {\n      root._bokeh_onload_callbacks.forEach(function(callback) {\n        if (callback != null)\n          callback();\n      });\n    } finally {\n      delete root._bokeh_onload_callbacks\n    }\n    console.debug(\"Bokeh: all callbacks have finished\");\n  }\n\n  function load_libs(css_urls, js_urls, callback) {\n    if (css_urls == null) css_urls = [];\n    if (js_urls == null) js_urls = [];\n\n    root._bokeh_onload_callbacks.push(callback);\n    if (root._bokeh_is_loading > 0) {\n      console.debug(\"Bokeh: BokehJS is being loaded, scheduling callback at\", now());\n      return null;\n    }\n    if (js_urls == null || js_urls.length === 0) {\n      run_callbacks();\n      return null;\n    }\n    console.debug(\"Bokeh: BokehJS not loaded, scheduling load and callback at\", now());\n    root._bokeh_is_loading = css_urls.length + js_urls.length;\n\n    function on_load() {\n      root._bokeh_is_loading--;\n      if (root._bokeh_is_loading === 0) {\n        console.debug(\"Bokeh: all BokehJS libraries/stylesheets loaded\");\n        run_callbacks()\n      }\n    }\n\n    function on_error() {\n      console.error(\"failed to load \" + url);\n    }\n\n    for (var i = 0; i < css_urls.length; i++) {\n      var url = css_urls[i];\n      const element = document.createElement(\"link\");\n      element.onload = on_load;\n      element.onerror = on_error;\n      element.rel = \"stylesheet\";\n      element.type = \"text/css\";\n      element.href = url;\n      console.debug(\"Bokeh: injecting link tag for BokehJS stylesheet: \", url);\n      document.body.appendChild(element);\n    }\n\n    for (var i = 0; i < js_urls.length; i++) {\n      var url = js_urls[i];\n      var element = document.createElement('script');\n      element.onload = on_load;\n      element.onerror = on_error;\n      element.async = false;\n      element.src = url;\n      console.debug(\"Bokeh: injecting script tag for BokehJS library: \", url);\n      document.head.appendChild(element);\n    }\n  };var element = document.getElementById(\"1231\");\n  if (element == null) {\n    console.error(\"Bokeh: ERROR: autoload.js configured with elementid '1231' but no matching script tag was found. \")\n    return false;\n  }\n\n  function inject_raw_css(css) {\n    const element = document.createElement(\"style\");\n    element.appendChild(document.createTextNode(css));\n    document.body.appendChild(element);\n  }\n\n  var js_urls = [\"https://cdn.pydata.org/bokeh/release/bokeh-1.3.4.min.js\", \"https://cdn.pydata.org/bokeh/release/bokeh-widgets-1.3.4.min.js\", \"https://cdn.pydata.org/bokeh/release/bokeh-tables-1.3.4.min.js\", \"https://cdn.pydata.org/bokeh/release/bokeh-gl-1.3.4.min.js\"];\n  var css_urls = [];\n\n  var inline_js = [\n    function(Bokeh) {\n      Bokeh.set_log_level(\"info\");\n    },\n    \n    function(Bokeh) {\n      \n    },\n    function(Bokeh) {} // ensure no trailing comma for IE\n  ];\n\n  function run_inline_js() {\n    \n    if ((root.Bokeh !== undefined) || (force === true)) {\n      for (var i = 0; i < inline_js.length; i++) {\n        inline_js[i].call(root, root.Bokeh);\n      }if (force === true) {\n        display_loaded();\n      }} else if (Date.now() < root._bokeh_timeout) {\n      setTimeout(run_inline_js, 100);\n    } else if (!root._bokeh_failed_load) {\n      console.log(\"Bokeh: BokehJS failed to load within specified timeout.\");\n      root._bokeh_failed_load = true;\n    } else if (force !== true) {\n      var cell = $(document.getElementById(\"1231\")).parents('.cell').data().cell;\n      cell.output_area.append_execute_result(NB_LOAD_WARNING)\n    }\n\n  }\n\n  if (root._bokeh_is_loading === 0) {\n    console.debug(\"Bokeh: BokehJS loaded, going straight to plotting\");\n    run_inline_js();\n  } else {\n    load_libs(css_urls, js_urls, function() {\n      console.debug(\"Bokeh: BokehJS plotting callback run at\", now());\n      run_inline_js();\n    });\n  }\n}(window));"
     },
     "metadata": {},
     "output_type": "display_data"
    },
    {
     "data": {
      "text/html": [
       "\n",
       "\n",
       "\n",
       "\n",
       "\n",
       "\n",
       "  <div class=\"bk-root\" id=\"446ad842-b230-41e9-b700-0737ef61a4f6\" data-root-id=\"1232\"></div>\n"
      ]
     },
     "metadata": {},
     "output_type": "display_data"
    },
    {
     "data": {
      "application/javascript": [
       "(function(root) {\n",
       "  function embed_document(root) {\n",
       "    \n",
       "  var docs_json = {\"b8bb1164-3edb-4059-9fba-280c387049d6\":{\"roots\":{\"references\":[{\"attributes\":{\"below\":[{\"id\":\"1241\",\"type\":\"LinearAxis\"}],\"center\":[{\"id\":\"1245\",\"type\":\"Grid\"},{\"id\":\"1250\",\"type\":\"Grid\"}],\"left\":[{\"id\":\"1246\",\"type\":\"LinearAxis\"}],\"plot_height\":400,\"plot_width\":400,\"renderers\":[{\"id\":\"1267\",\"type\":\"GlyphRenderer\"},{\"id\":\"1272\",\"type\":\"GlyphRenderer\"}],\"title\":{\"id\":\"1294\",\"type\":\"Title\"},\"toolbar\":{\"id\":\"1257\",\"type\":\"Toolbar\"},\"x_range\":{\"id\":\"1233\",\"type\":\"DataRange1d\"},\"x_scale\":{\"id\":\"1237\",\"type\":\"LinearScale\"},\"y_range\":{\"id\":\"1235\",\"type\":\"DataRange1d\"},\"y_scale\":{\"id\":\"1239\",\"type\":\"LinearScale\"}},\"id\":\"1232\",\"subtype\":\"Figure\",\"type\":\"Plot\"},{\"attributes\":{\"data_source\":{\"id\":\"1269\",\"type\":\"ColumnDataSource\"},\"glyph\":{\"id\":\"1270\",\"type\":\"Line\"},\"hover_glyph\":null,\"muted_glyph\":null,\"nonselection_glyph\":{\"id\":\"1271\",\"type\":\"Line\"},\"selection_glyph\":null,\"view\":{\"id\":\"1273\",\"type\":\"CDSView\"}},\"id\":\"1272\",\"type\":\"GlyphRenderer\"},{\"attributes\":{},\"id\":\"1247\",\"type\":\"BasicTicker\"},{\"attributes\":{\"line_color\":\"#1f77b4\",\"line_width\":2,\"x\":{\"field\":\"x\"},\"y\":{\"field\":\"y\"}},\"id\":\"1265\",\"type\":\"Line\"},{\"attributes\":{\"formatter\":{\"id\":\"1297\",\"type\":\"BasicTickFormatter\"},\"ticker\":{\"id\":\"1242\",\"type\":\"BasicTicker\"}},\"id\":\"1241\",\"type\":\"LinearAxis\"},{\"attributes\":{\"active_drag\":\"auto\",\"active_inspect\":\"auto\",\"active_multi\":null,\"active_scroll\":\"auto\",\"active_tap\":\"auto\",\"tools\":[{\"id\":\"1251\",\"type\":\"PanTool\"},{\"id\":\"1252\",\"type\":\"WheelZoomTool\"},{\"id\":\"1253\",\"type\":\"BoxZoomTool\"},{\"id\":\"1254\",\"type\":\"SaveTool\"},{\"id\":\"1255\",\"type\":\"ResetTool\"},{\"id\":\"1256\",\"type\":\"HelpTool\"}]},\"id\":\"1257\",\"type\":\"Toolbar\"},{\"attributes\":{\"line_alpha\":0.1,\"line_color\":\"#1f77b4\",\"line_width\":2,\"x\":{\"field\":\"x\"},\"y\":{\"field\":\"y\"}},\"id\":\"1271\",\"type\":\"Line\"},{\"attributes\":{},\"id\":\"1252\",\"type\":\"WheelZoomTool\"},{\"attributes\":{\"callback\":null},\"id\":\"1235\",\"type\":\"DataRange1d\"},{\"attributes\":{},\"id\":\"1239\",\"type\":\"LinearScale\"},{\"attributes\":{},\"id\":\"1255\",\"type\":\"ResetTool\"},{\"attributes\":{},\"id\":\"1303\",\"type\":\"Selection\"},{\"attributes\":{},\"id\":\"1237\",\"type\":\"LinearScale\"},{\"attributes\":{\"callback\":null},\"id\":\"1233\",\"type\":\"DataRange1d\"},{\"attributes\":{\"source\":{\"id\":\"1269\",\"type\":\"ColumnDataSource\"}},\"id\":\"1273\",\"type\":\"CDSView\"},{\"attributes\":{\"overlay\":{\"id\":\"1300\",\"type\":\"BoxAnnotation\"}},\"id\":\"1253\",\"type\":\"BoxZoomTool\"},{\"attributes\":{\"source\":{\"id\":\"1264\",\"type\":\"ColumnDataSource\"}},\"id\":\"1268\",\"type\":\"CDSView\"},{\"attributes\":{},\"id\":\"1242\",\"type\":\"BasicTicker\"},{\"attributes\":{\"callback\":null,\"data\":{\"x\":{\"__ndarray__\":\"AAAAAAAAAAAAAAAAAAAAAAAAAAAAAAAAnhLkKUGegj+eEuQpQZ6CP54S5ClBnoI/nhLkKUGegj+eEuQpQZ6SP54S5ClBnpI/nhLkKUGekj+eEuQpQZ6SP+0b1r5h7Zs/7RvWvmHtmz/tG9a+Ye2bP+0b1r5h7Zs/7RvWvmHtmz/tG9a+Ye2bP0YXXXTRRac/RhdddNFFpz/tG9a+Ye2rP+0b1r5h7as/8pQgTwnytD/ylCBPCfK0P0YXXXTRRbc/mpmZmZmZuT+amZmZmZm5P+0b1r5h7bs/7RvWvmHtuz9BnhLkKUG+P0GeEuQpQb4/nhLkKUGewj8c1r5h7RvGPxzWvmHtG8Y/mpmZmZmZyT+amZmZmZnJP8PaN6x9w8o/w9o3rH3Dyj/tG9a+Ye3LP0GeEuQpQc4/37D2DWvf0D/fsPYNa9/QP54S5ClBntI/nhLkKUGe0j8zMzMzMzPTPzMzMzMzM9M/yFOCPCXI0z/IU4I8JcjTPxzWvmHtG9Y/cFj7hrVv2D/D2jesfcPaP+0b1r5h7ds/F1100UUX3T+sfcPaN6zdP2vfsPYNa98/37D2DWvf4D8qQZ4S5CnhP79h7RvWvuE/v2HtG9a+4T8zMzMzMzPjP8hTgjwlyOM/XXTRRRdd5D/ylCBPCfLkP2ZmZmZmZuY/+4a1b1j75j/bN6x9w9rnPyXIU4I8Jeg/uuiiiy666D+66KKLLrroPy+66KKLLuo/eUqQpwR56j/tG9a+Ye3rPzisfcPaN+w/gjwlyFOC7D8XXXTRRRftP6x9w9o3rO0/IU8J8pQg7z8AAAAAAADwPw==\",\"dtype\":\"float64\",\"shape\":[77]},\"y\":{\"__ndarray__\":\"AAAAAAAAAADbgbl2YK6NP2QhC1nIQrY/oFHiZ5T4uT9GiZ9R4mfEP4K5dmCuHcg/C1nIQhay0D8LWchCFrLQPzi96U1vetM/VVVVVVVV1T/bgbl2YK7dP9uBuXZgrt0/+RklfkaJ3z8aJX5GiZ/hPynxM0r8jOI/RomfUeJn5D9Ob3rTm97kP05vetOb3uQ/VVVVVVVV5T9VVVVVVVXlP107MNcOzOU/XTsw1w7M5T9sB+bagbnmP3PtwFw7MOc/c+3AXDsw5z+CuXZgrh3oP4K5dmCuHeg/iZ9R4meU6D+Jn1HiZ5ToP5hrB+bagek/mGsH5tqB6T+Yawfm2oHpP6c3velNb+o/pze96U1v6j+uHZhrB+bqP64dmGsH5uo/tgNz7cBc6z+2A3PtwFzrP7YDc+3AXOs/tgNz7cBc6z+96U1vetPrP73pTW960+s/xc8o8TNK7D/FzyjxM0rsP8y1A3PtwOw/zLUDc+3A7D/Tm970pjftP9Ob3vSmN+0/05ve9KY37T/Tm970pjftP+JnlPgZJe4/4meU+Bkl7j/iZ5T4GSXuP+JnlPgZJe4/4meU+Bkl7j/iZ5T4GSXuP+JnlPgZJe4/8TNK/IwS7z/xM0r8jBLvP/EzSvyMEu8/8TNK/IwS7z/xM0r8jBLvP/EzSvyMEu8/8TNK/IwS7z/xM0r8jBLvP/EzSvyMEu8/8TNK/IwS7z/5GSV+RonvP/kZJX5Gie8/+RklfkaJ7z/5GSV+RonvP/kZJX5Gie8/AAAAAAAA8D8AAAAAAADwPwAAAAAAAPA/AAAAAAAA8D8AAAAAAADwPw==\",\"dtype\":\"float64\",\"shape\":[77]}},\"selected\":{\"id\":\"1303\",\"type\":\"Selection\"},\"selection_policy\":{\"id\":\"1304\",\"type\":\"UnionRenderers\"}},\"id\":\"1269\",\"type\":\"ColumnDataSource\"},{\"attributes\":{\"line_color\":\"green\",\"line_width\":2,\"x\":{\"field\":\"x\"},\"y\":{\"field\":\"y\"}},\"id\":\"1270\",\"type\":\"Line\"},{\"attributes\":{\"text\":\"\"},\"id\":\"1294\",\"type\":\"Title\"},{\"attributes\":{\"callback\":null,\"data\":{\"x\":{\"__ndarray__\":\"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\",\"dtype\":\"float64\",\"shape\":[254]},\"y\":{\"__ndarray__\":\"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\",\"dtype\":\"float64\",\"shape\":[254]}},\"selected\":{\"id\":\"1301\",\"type\":\"Selection\"},\"selection_policy\":{\"id\":\"1302\",\"type\":\"UnionRenderers\"}},\"id\":\"1264\",\"type\":\"ColumnDataSource\"},{\"attributes\":{\"ticker\":{\"id\":\"1242\",\"type\":\"BasicTicker\"}},\"id\":\"1245\",\"type\":\"Grid\"},{\"attributes\":{},\"id\":\"1251\",\"type\":\"PanTool\"},{\"attributes\":{\"line_alpha\":0.1,\"line_color\":\"#1f77b4\",\"line_width\":2,\"x\":{\"field\":\"x\"},\"y\":{\"field\":\"y\"}},\"id\":\"1266\",\"type\":\"Line\"},{\"attributes\":{\"formatter\":{\"id\":\"1299\",\"type\":\"BasicTickFormatter\"},\"ticker\":{\"id\":\"1247\",\"type\":\"BasicTicker\"}},\"id\":\"1246\",\"type\":\"LinearAxis\"},{\"attributes\":{},\"id\":\"1304\",\"type\":\"UnionRenderers\"},{\"attributes\":{},\"id\":\"1254\",\"type\":\"SaveTool\"},{\"attributes\":{},\"id\":\"1302\",\"type\":\"UnionRenderers\"},{\"attributes\":{\"data_source\":{\"id\":\"1264\",\"type\":\"ColumnDataSource\"},\"glyph\":{\"id\":\"1265\",\"type\":\"Line\"},\"hover_glyph\":null,\"muted_glyph\":null,\"nonselection_glyph\":{\"id\":\"1266\",\"type\":\"Line\"},\"selection_glyph\":null,\"view\":{\"id\":\"1268\",\"type\":\"CDSView\"}},\"id\":\"1267\",\"type\":\"GlyphRenderer\"},{\"attributes\":{},\"id\":\"1297\",\"type\":\"BasicTickFormatter\"},{\"attributes\":{\"dimension\":1,\"ticker\":{\"id\":\"1247\",\"type\":\"BasicTicker\"}},\"id\":\"1250\",\"type\":\"Grid\"},{\"attributes\":{\"bottom_units\":\"screen\",\"fill_alpha\":{\"value\":0.5},\"fill_color\":{\"value\":\"lightgrey\"},\"left_units\":\"screen\",\"level\":\"overlay\",\"line_alpha\":{\"value\":1.0},\"line_color\":{\"value\":\"black\"},\"line_dash\":[4,4],\"line_width\":{\"value\":2},\"render_mode\":\"css\",\"right_units\":\"screen\",\"top_units\":\"screen\"},\"id\":\"1300\",\"type\":\"BoxAnnotation\"},{\"attributes\":{},\"id\":\"1301\",\"type\":\"Selection\"},{\"attributes\":{},\"id\":\"1299\",\"type\":\"BasicTickFormatter\"},{\"attributes\":{},\"id\":\"1256\",\"type\":\"HelpTool\"}],\"root_ids\":[\"1232\"]},\"title\":\"Bokeh Application\",\"version\":\"1.3.4\"}};\n",
       "  var render_items = [{\"docid\":\"b8bb1164-3edb-4059-9fba-280c387049d6\",\"roots\":{\"1232\":\"446ad842-b230-41e9-b700-0737ef61a4f6\"}}];\n",
       "  root.Bokeh.embed.embed_items_notebook(docs_json, render_items);\n",
       "\n",
       "  }\n",
       "  if (root.Bokeh !== undefined) {\n",
       "    embed_document(root);\n",
       "  } else {\n",
       "    var attempts = 0;\n",
       "    var timer = setInterval(function(root) {\n",
       "      if (root.Bokeh !== undefined) {\n",
       "        embed_document(root);\n",
       "        clearInterval(timer);\n",
       "      }\n",
       "      attempts++;\n",
       "      if (attempts > 100) {\n",
       "        console.log(\"Bokeh: ERROR: Unable to run BokehJS code because BokehJS library is missing\");\n",
       "        clearInterval(timer);\n",
       "      }\n",
       "    }, 10, root)\n",
       "  }\n",
       "})(window);"
      ],
      "application/vnd.bokehjs_exec.v0+json": ""
     },
     "metadata": {
      "application/vnd.bokehjs_exec.v0+json": {
       "id": "1232"
      }
     },
     "output_type": "display_data"
    }
   ],
   "source": [
    "from bokeh.plotting import figure, output_notebook, show\n",
    "\n",
    "output_notebook()\n",
    "\n",
    "p = figure(plot_width=400, plot_height=400)\n",
    "\n",
    "# add a line renderer\n",
    "p.line(fpr, tpr, line_width=2)\n",
    "p.line(fpr1,tpr1,line_width=2,color='green')\n",
    "show(p)"
   ]
  },
  {
   "cell_type": "code",
   "execution_count": 284,
   "metadata": {
    "ExecuteTime": {
     "end_time": "2020-01-09T11:06:10.157960Z",
     "start_time": "2020-01-09T11:06:10.154990Z"
    }
   },
   "outputs": [],
   "source": []
  },
  {
   "cell_type": "code",
   "execution_count": 324,
   "metadata": {
    "ExecuteTime": {
     "end_time": "2020-01-09T11:33:13.897652Z",
     "start_time": "2020-01-09T11:33:11.477473Z"
    }
   },
   "outputs": [],
   "source": []
  },
  {
   "cell_type": "code",
   "execution_count": 322,
   "metadata": {
    "ExecuteTime": {
     "end_time": "2020-01-09T11:32:51.459824Z",
     "start_time": "2020-01-09T11:32:51.451850Z"
    }
   },
   "outputs": [],
   "source": [
    "def roc(y, ypred, thres=None):\n",
    "    if thres is None:\n",
    "        fpr,tpr, thres = roc_curve(y, ypred)\n",
    "    else:\n",
    "        temp = [(ypred >= thred).astype(int) for thred in thres]\n",
    "        funcs = partial(func, y)\n",
    "        result = map(funcs, temp)\n",
    "    return list(result)\n",
    "def func(y, temp):\n",
    "    cross = pd.crosstab(y, temp)\n",
    "    if 1 not in cross.columns:\n",
    "        cross[1]=0\n",
    "    if 0 not in cross.columns:\n",
    "        cross[0]=0\n",
    "    tpr = cross.loc[1,1]/(cross.loc[1,1]+cross.loc[1,0])\n",
    "    fpr = cross.loc[0,1]/(cross.loc[0,1]+cross.loc[0,0])\n",
    "    return fpr, tpr"
   ]
  },
  {
   "cell_type": "code",
   "execution_count": 331,
   "metadata": {
    "ExecuteTime": {
     "end_time": "2020-01-09T11:33:55.638365Z",
     "start_time": "2020-01-09T11:33:55.629393Z"
    }
   },
   "outputs": [
    {
     "data": {
      "text/plain": [
       "True"
      ]
     },
     "execution_count": 331,
     "metadata": {},
     "output_type": "execute_result"
    }
   ],
   "source": [
    "ypred, y1 = b['auc'][2:]\n",
    "\n",
    "bin_info = visual.bin_info(y1, ypred.round(3))\n",
    "\n",
    "confusin = visual.confusin(y1, ypred.round(3))\n",
    "\n",
    "indicate = visual.indicate(y1, ypred.round(3))"
   ]
  },
  {
   "cell_type": "code",
   "execution_count": 97,
   "metadata": {
    "ExecuteTime": {
     "end_time": "2020-01-09T07:11:58.571269Z",
     "start_time": "2020-01-09T07:11:58.550292Z"
    }
   },
   "outputs": [],
   "source": [
    "typred, ty = b['auc'][:2]\n",
    "tbin_info = visual.bin_info(ty,typred)"
   ]
  },
  {
   "cell_type": "code",
   "execution_count": 134,
   "metadata": {
    "ExecuteTime": {
     "end_time": "2020-01-09T08:09:55.117073Z",
     "start_time": "2020-01-09T08:09:55.112087Z"
    }
   },
   "outputs": [],
   "source": [
    "from pyecharts.charts import Tab, Line\n",
    "from pyecharts.globals import ThemeType"
   ]
  },
  {
   "cell_type": "code",
   "execution_count": 215,
   "metadata": {
    "ExecuteTime": {
     "end_time": "2020-01-09T09:07:54.563752Z",
     "start_time": "2020-01-09T09:07:54.554774Z"
    }
   },
   "outputs": [],
   "source": [
    "from pyecharts.components import Table\n",
    "from pyecharts.options import ComponentTitleOpts\n",
    "class ResultShow:\n",
    "    \n",
    "rs = ResultShow()"
   ]
  },
  {
   "cell_type": "code",
   "execution_count": null,
   "metadata": {
    "ExecuteTime": {
     "end_time": "2020-01-09T09:07:55.224368Z",
     "start_time": "2020-01-09T09:07:55.206382Z"
    }
   },
   "outputs": [],
   "source": []
  },
  {
   "cell_type": "code",
   "execution_count": 252,
   "metadata": {
    "ExecuteTime": {
     "end_time": "2020-01-09T10:52:58.088015Z",
     "start_time": "2020-01-09T10:52:58.078067Z"
    }
   },
   "outputs": [],
   "source": []
  },
  {
   "cell_type": "code",
   "execution_count": null,
   "metadata": {
    "ExecuteTime": {
     "end_time": "2020-01-09T10:52:58.698175Z",
     "start_time": "2020-01-09T10:52:58.695182Z"
    }
   },
   "outputs": [],
   "source": []
  },
  {
   "cell_type": "code",
   "execution_count": null,
   "metadata": {
    "ExecuteTime": {
     "end_time": "2020-01-09T10:52:59.369301Z",
     "start_time": "2020-01-09T10:52:59.336420Z"
    }
   },
   "outputs": [],
   "source": []
  },
  {
   "cell_type": "code",
   "execution_count": null,
   "metadata": {},
   "outputs": [],
   "source": []
  }
 ],
 "metadata": {
  "kernelspec": {
   "display_name": "Python 3",
   "language": "python",
   "name": "python3"
  },
  "language_info": {
   "codemirror_mode": {
    "name": "ipython",
    "version": 3
   },
   "file_extension": ".py",
   "mimetype": "text/x-python",
   "name": "python",
   "nbconvert_exporter": "python",
   "pygments_lexer": "ipython3",
   "version": "3.7.4"
  },
  "toc": {
   "base_numbering": 1,
   "nav_menu": {},
   "number_sections": true,
   "sideBar": true,
   "skip_h1_title": false,
   "title_cell": "Table of Contents",
   "title_sidebar": "Contents",
   "toc_cell": false,
   "toc_position": {},
   "toc_section_display": true,
   "toc_window_display": false
  },
  "varInspector": {
   "cols": {
    "lenName": 16,
    "lenType": 16,
    "lenVar": 40
   },
   "kernels_config": {
    "python": {
     "delete_cmd_postfix": "",
     "delete_cmd_prefix": "del ",
     "library": "var_list.py",
     "varRefreshCmd": "print(var_dic_list())"
    },
    "r": {
     "delete_cmd_postfix": ") ",
     "delete_cmd_prefix": "rm(",
     "library": "var_list.r",
     "varRefreshCmd": "cat(var_dic_list()) "
    }
   },
   "types_to_exclude": [
    "module",
    "function",
    "builtin_function_or_method",
    "instance",
    "_Feature"
   ],
   "window_display": false
  }
 },
 "nbformat": 4,
 "nbformat_minor": 2
}
