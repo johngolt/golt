{
 "cells": [
  {
   "cell_type": "code",
   "execution_count": 48,
   "metadata": {
    "ExecuteTime": {
     "end_time": "2020-01-09T02:25:35.599440Z",
     "start_time": "2020-01-09T02:25:35.583474Z"
    }
   },
   "outputs": [],
   "source": [
    "import os\n",
    "import sys\n",
    "import re\n",
    "import numpy as np\n",
    "import pandas as pd\n",
    "import seaborn as sns\n",
    "import scipy.stats as stats\n",
    "from sklearn import metrics\n",
    "import matplotlib.pyplot as plt\n",
    "from functools import partial \n",
    "from sklearn.preprocessing import OneHotEncoder, LabelEncoder\n",
    "from sklearn.model_selection import train_test_split, KFold, StratifiedKFold\n",
    "\n",
    "\n",
    "os.chdir('D:/工作/data')\n",
    "sys.path.append('D:/gitln/WorkCode')\n",
    "%matplotlib inline\n",
    "\n",
    "df = pd.read_csv('ucicredit.csv')\n",
    "titanic = pd.read_csv('./titanic/train.csv')\n",
    "columns = ['Age','Pclass','SibSp','Parch','Fare']\n",
    "df.rename(columns={'default.payment.next.month':'target'},inplace=True)\n",
    "dfcolumns=['SEX','EDUCATION','MARRIAGE','AGE','PAY_0','PAY_2',\n",
    "          'PAY_3','PAY_4','PAY_5','PAY_6']\n",
    "numcolumns = (df.columns^dfcolumns)^{'ID','target'}"
   ]
  },
  {
   "cell_type": "code",
   "execution_count": null,
   "metadata": {
    "ExecuteTime": {
     "end_time": "2020-01-09T02:25:36.306053Z",
     "start_time": "2020-01-09T02:25:36.271180Z"
    }
   },
   "outputs": [],
   "source": [
    "import DataPreProcess as dp"
   ]
  },
  {
   "cell_type": "code",
   "execution_count": 49,
   "metadata": {
    "ExecuteTime": {
     "end_time": "2020-01-09T02:25:36.306053Z",
     "start_time": "2020-01-09T02:25:36.271180Z"
    }
   },
   "outputs": [],
   "source": [
    "from imp import reload\n",
    "reload(dp)#调试过程中对文件进行修改后，重新载入。"
   ]
  }
 ],
 "metadata": {
  "kernelspec": {
   "display_name": "Python 3",
   "language": "python",
   "name": "python3"
  },
  "language_info": {
   "codemirror_mode": {
    "name": "ipython",
    "version": 3
   },
   "file_extension": ".py",
   "mimetype": "text/x-python",
   "name": "python",
   "nbconvert_exporter": "python",
   "pygments_lexer": "ipython3",
   "version": "3.7.4"
  },
  "toc": {
   "base_numbering": 1,
   "nav_menu": {},
   "number_sections": true,
   "sideBar": true,
   "skip_h1_title": false,
   "title_cell": "Table of Contents",
   "title_sidebar": "Contents",
   "toc_cell": false,
   "toc_position": {},
   "toc_section_display": true,
   "toc_window_display": false
  },
  "varInspector": {
   "cols": {
    "lenName": 16,
    "lenType": 16,
    "lenVar": 40
   },
   "kernels_config": {
    "python": {
     "delete_cmd_postfix": "",
     "delete_cmd_prefix": "del ",
     "library": "var_list.py",
     "varRefreshCmd": "print(var_dic_list())"
    },
    "r": {
     "delete_cmd_postfix": ") ",
     "delete_cmd_prefix": "rm(",
     "library": "var_list.r",
     "varRefreshCmd": "cat(var_dic_list()) "
    }
   },
   "types_to_exclude": [
    "module",
    "function",
    "builtin_function_or_method",
    "instance",
    "_Feature"
   ],
   "window_display": false
  }
 },
 "nbformat": 4,
 "nbformat_minor": 2
}
