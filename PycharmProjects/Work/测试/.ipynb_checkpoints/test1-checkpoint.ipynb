{
 "cells": [
  {
   "cell_type": "code",
   "execution_count": null,
   "metadata": {},
   "outputs": [],
   "source": [
    "'''将字符串左、右、两端的特定字符过滤掉，默认为空格…\n",
    "strip()要注意的地方是，strip('TolLive') 中的字符并非完整匹配，\n",
    "而是针对每一个字符进行匹配'''\n",
    "long_string = \"To live is to learn，to learn is to better live\"\n",
    "long_string.strip('Tol Live')"
   ]
  },
  {
   "cell_type": "code",
   "execution_count": null,
   "metadata": {},
   "outputs": [],
   "source": [
    "'''.*with() starts ends 不仅支持开头结尾的匹配，\n",
    "还支持start和end两个参数来动态定义字符串的index位置\n",
    "同样支持start、end来判断字符串的还有 .find()、.rfind()和 .index()、.rindex()\n",
    "这两类字符串寻址方法均支持从左到右、从右至左两种寻址方式，不同的是：\n",
    "find在未找到时，返回-1，而index在未找到时，会抛出ValueError的异常\n",
    "\n",
    "在生成器表达式中, in 子句在声明时执行, 而条件子句则是在运行时执行.\n",
    "\n",
    "当 a 和 b 在同一行中使用相同的值初始化时，如果初始值为不可变对象则会指向同一个对象.\n",
    "\n",
    "当在循环内部定义一个函数时, 如果该函数在其主体中使用了循环变量, 则闭包函数将与循环变量绑定, \n",
    "而不是它的值. 因此, 所有的函数都是使用最后分配给变量的值来进行计算的.\n",
    "可以通过将循环变量作为命名变量传递给函数来获得预期的结果. \n",
    "'''\n",
    "array_2 = [1,2,3,4]\n",
    "g2 = (x for x in array_2)\n",
    "array_2[:] = [1,2,3,4,5]\n",
    "array = [1, 8, 15]\n",
    "'''在定义的时候，生成器in语句中的array已经被赋值给[1,8,15]，当执行的时候\n",
    "判断语句中的array才被赋值，此时array为[2,8,22]'''\n",
    "g = (x for x in array if array.count(x) > 0)\n",
    "array = [2, 8, 22]"
   ]
  },
  {
   "cell_type": "code",
   "execution_count": 3,
   "metadata": {
    "ExecuteTime": {
     "end_time": "2020-01-02T07:34:02.715089Z",
     "start_time": "2020-01-02T07:34:02.710136Z"
    }
   },
   "outputs": [],
   "source": [
    "import pandas as pd\n",
    "a = pd.Series([1,2,3],name='a')"
   ]
  },
  {
   "cell_type": "code",
   "execution_count": 7,
   "metadata": {
    "ExecuteTime": {
     "end_time": "2020-01-02T07:34:41.568801Z",
     "start_time": "2020-01-02T07:34:41.560673Z"
    }
   },
   "outputs": [
    {
     "data": {
      "text/plain": [
       "[(0, 1), (1, 2), (2, 3)]"
      ]
     },
     "execution_count": 7,
     "metadata": {},
     "output_type": "execute_result"
    }
   ],
   "source": [
    "list(a.to_dict().items())"
   ]
  },
  {
   "cell_type": "code",
   "execution_count": 14,
   "metadata": {
    "ExecuteTime": {
     "end_time": "2020-01-02T09:18:03.325815Z",
     "start_time": "2020-01-02T09:18:03.316807Z"
    }
   },
   "outputs": [],
   "source": [
    "b = pd.DataFrame([['a',1,2],['b',3,4]])"
   ]
  },
  {
   "cell_type": "code",
   "execution_count": 17,
   "metadata": {
    "ExecuteTime": {
     "end_time": "2020-01-02T09:18:28.889212Z",
     "start_time": "2020-01-02T09:18:28.884224Z"
    }
   },
   "outputs": [
    {
     "data": {
      "text/plain": [
       "[['a', 1, 2], ['b', 3, 4]]"
      ]
     },
     "execution_count": 17,
     "metadata": {},
     "output_type": "execute_result"
    }
   ],
   "source": [
    "b.to_numpy().tolist()"
   ]
  },
  {
   "cell_type": "code",
   "execution_count": 16,
   "metadata": {
    "ExecuteTime": {
     "end_time": "2020-01-02T09:18:15.700870Z",
     "start_time": "2020-01-02T09:18:15.693890Z"
    }
   },
   "outputs": [
    {
     "data": {
      "text/html": [
       "<div>\n",
       "<style scoped>\n",
       "    .dataframe tbody tr th:only-of-type {\n",
       "        vertical-align: middle;\n",
       "    }\n",
       "\n",
       "    .dataframe tbody tr th {\n",
       "        vertical-align: top;\n",
       "    }\n",
       "\n",
       "    .dataframe thead th {\n",
       "        text-align: right;\n",
       "    }\n",
       "</style>\n",
       "<table border=\"1\" class=\"dataframe\">\n",
       "  <thead>\n",
       "    <tr style=\"text-align: right;\">\n",
       "      <th></th>\n",
       "      <th>0</th>\n",
       "      <th>1</th>\n",
       "      <th>2</th>\n",
       "    </tr>\n",
       "  </thead>\n",
       "  <tbody>\n",
       "    <tr>\n",
       "      <td>0</td>\n",
       "      <td>a</td>\n",
       "      <td>1</td>\n",
       "      <td>2</td>\n",
       "    </tr>\n",
       "    <tr>\n",
       "      <td>1</td>\n",
       "      <td>b</td>\n",
       "      <td>3</td>\n",
       "      <td>4</td>\n",
       "    </tr>\n",
       "  </tbody>\n",
       "</table>\n",
       "</div>"
      ],
      "text/plain": [
       "   0  1  2\n",
       "0  a  1  2\n",
       "1  b  3  4"
      ]
     },
     "execution_count": 16,
     "metadata": {},
     "output_type": "execute_result"
    }
   ],
   "source": [
    "  grid = (\n",
    "        Grid()\n",
    "        .add(bar, grid_opts=opts.GridOpts(pos_bottom=\"60%\"))\n",
    "        .add(line, grid_opts=opts.GridOpts(pos_top=\"60%\"))#grid 组件离容器上侧的距离。\n",
    "    )\n",
    "\n",
    "    \n",
    "  grid = (\n",
    "        Grid()\n",
    "        .add(scatter, grid_opts=opts.GridOpts(pos_left=\"55%\"))\n",
    "        .add(line, grid_opts=opts.GridOpts(pos_right=\"55%\"))\n",
    "    )"
   ]
  },
  {
   "cell_type": "code",
   "execution_count": null,
   "metadata": {},
   "outputs": [],
   "source": []
  }
 ],
 "metadata": {
  "kernelspec": {
   "display_name": "Python 3",
   "language": "python",
   "name": "python3"
  },
  "language_info": {
   "codemirror_mode": {
    "name": "ipython",
    "version": 3
   },
   "file_extension": ".py",
   "mimetype": "text/x-python",
   "name": "python",
   "nbconvert_exporter": "python",
   "pygments_lexer": "ipython3",
   "version": "3.7.4"
  },
  "toc": {
   "base_numbering": 1,
   "nav_menu": {},
   "number_sections": true,
   "sideBar": true,
   "skip_h1_title": false,
   "title_cell": "Table of Contents",
   "title_sidebar": "Contents",
   "toc_cell": false,
   "toc_position": {},
   "toc_section_display": true,
   "toc_window_display": false
  },
  "varInspector": {
   "cols": {
    "lenName": 16,
    "lenType": 16,
    "lenVar": 40
   },
   "kernels_config": {
    "python": {
     "delete_cmd_postfix": "",
     "delete_cmd_prefix": "del ",
     "library": "var_list.py",
     "varRefreshCmd": "print(var_dic_list())"
    },
    "r": {
     "delete_cmd_postfix": ") ",
     "delete_cmd_prefix": "rm(",
     "library": "var_list.r",
     "varRefreshCmd": "cat(var_dic_list()) "
    }
   },
   "types_to_exclude": [
    "module",
    "function",
    "builtin_function_or_method",
    "instance",
    "_Feature"
   ],
   "window_display": false
  }
 },
 "nbformat": 4,
 "nbformat_minor": 2
}
