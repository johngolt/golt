{
 "cells": [
  {
   "cell_type": "code",
   "execution_count": 1,
   "metadata": {
    "ExecuteTime": {
     "end_time": "2020-02-04T07:06:13.938530Z",
     "start_time": "2020-02-04T07:06:02.270078Z"
    }
   },
   "outputs": [],
   "source": [
    "import pandas as pd\n",
    "import os\n",
    "os.chdir('C:/test/data/titanic')"
   ]
  },
  {
   "cell_type": "code",
   "execution_count": 2,
   "metadata": {
    "ExecuteTime": {
     "end_time": "2020-02-04T07:06:15.350707Z",
     "start_time": "2020-02-04T07:06:14.970164Z"
    }
   },
   "outputs": [],
   "source": [
    "df = pd.read_csv('train.csv')"
   ]
  },
  {
   "cell_type": "code",
   "execution_count": 1,
   "metadata": {
    "ExecuteTime": {
     "end_time": "2020-02-19T03:10:22.608427Z",
     "start_time": "2020-02-19T03:10:17.027804Z"
    }
   },
   "outputs": [],
   "source": [
    "import numpy as np\n",
    "import scipy.stats as stats"
   ]
  },
  {
   "cell_type": "code",
   "execution_count": 2,
   "metadata": {
    "ExecuteTime": {
     "end_time": "2020-02-19T03:10:34.525875Z",
     "start_time": "2020-02-19T03:10:34.458944Z"
    }
   },
   "outputs": [],
   "source": [
    "x = np.random.rand(100,4)"
   ]
  },
  {
   "cell_type": "code",
   "execution_count": 6,
   "metadata": {
    "ExecuteTime": {
     "end_time": "2020-02-19T03:11:29.176509Z",
     "start_time": "2020-02-19T03:11:29.161748Z"
    }
   },
   "outputs": [
    {
     "ename": "TypeError",
     "evalue": "pearsonr() missing 1 required positional argument: 'y'",
     "output_type": "error",
     "traceback": [
      "\u001b[1;31m---------------------------------------------------------------------------\u001b[0m",
      "\u001b[1;31mTypeError\u001b[0m                                 Traceback (most recent call last)",
      "\u001b[1;32m<ipython-input-6-5ad5d63d9eea>\u001b[0m in \u001b[0;36m<module>\u001b[1;34m()\u001b[0m\n\u001b[1;32m----> 1\u001b[1;33m \u001b[0mstats\u001b[0m\u001b[1;33m.\u001b[0m\u001b[0mpearsonr\u001b[0m\u001b[1;33m(\u001b[0m\u001b[0mx\u001b[0m\u001b[1;33m)\u001b[0m\u001b[1;33m\u001b[0m\u001b[0m\n\u001b[0m",
      "\u001b[1;31mTypeError\u001b[0m: pearsonr() missing 1 required positional argument: 'y'"
     ]
    }
   ],
   "source": [
    "stats.pearsonr(x)"
   ]
  },
  {
   "cell_type": "code",
   "execution_count": null,
   "metadata": {},
   "outputs": [],
   "source": [
    "# 数字特征\n",
    "numeric_features = Train_data.select_dtypes(include=[np.number])\n",
    "numeric_features.columns\n",
    "# 类型特征\n",
    "categorical_features = Train_data.select_dtypes(include=[np.object])\n",
    "categorical_features.columns"
   ]
  },
  {
   "cell_type": "code",
   "execution_count": null,
   "metadata": {},
   "outputs": [],
   "source": [
    "使用 skiprows 参数，\n",
    "x > 0 确保首行读入，\n",
    "np.random.rand() > 0.01 表示 99% 的数据都会被随机过滤掉\n",
    "言外之意，只有全部数据的 1% 才有机会选入内存中。\n",
    "import pandas as pd\n",
    "import numpy as np\n",
    "    \n",
    "df = pd.read_csv(\"big_data.csv\",\n",
    "skiprows = lambda x: x>0 and \n",
    "np.random.rand() > 0.01)\n",
    "\n",
    "print(\"The shape of the df is {}.\n",
    "It has been reduced 100 times!\".format(df.shape))\n",
    "使用这种方法，读取的数据量迅速缩减到原来的 1% ，对于迅速展开数据分析有一定的帮助。"
   ]
  },
  {
   "cell_type": "code",
   "execution_count": null,
   "metadata": {},
   "outputs": [],
   "source": [
    "import random\n",
    "import matplotlib.pyplot as plt\n",
    "\n",
    "plt.rcParams['font.sans-serif'] = ['SimHei']  # 步骤一（替换sans-serif字体）\n",
    "plt.rcParams['axes.unicode_minus'] = False\n",
    "\n",
    "\n",
    "class PSO(object):\n",
    "    def __init__(self):\n",
    "        self.x_bound = [-1, 1]\n",
    "        self.T = 100\n",
    "        self.w = 0.15\n",
    "        self.N = 10000\n",
    "        self.dim = 20\n",
    "        self.c1 = 1.5\n",
    "        self.c2 = 1.5\n",
    "\n",
    "    def fun(self, x):\n",
    "        result = 0\n",
    "        for i in x:\n",
    "            result = result + pow(i, 2)\n",
    "        return result\n",
    "\n",
    "    def pso_main(self):\n",
    "        x = []\n",
    "        v = []\n",
    "        for j in range(self.N):\n",
    "            x.append([random.random() for i in range(self.dim)])\n",
    "            v.append([random.random() for m in range(self.dim)])\n",
    "        fitness = [self.fun(x[j]) for j in range(self.N)]\n",
    "        p = x\n",
    "        best = min(fitness)\n",
    "        pg = x[fitness.index(min(fitness))]\n",
    "        best_all = []\n",
    "        for t in range(self.T):\n",
    "            for j in range(self.N):\n",
    "                for m in range(self.dim):\n",
    "                    v[j][m] = self.w * v[j][m] + self.c1 * random.random() * (\n",
    "                            p[j][m] - x[j][m]) + self.c2 * random.random() * (pg[m] - x[j][m])\n",
    "            for j in range(self.N):\n",
    "                for m in range(self.dim):\n",
    "                    x[j][m] = x[j][m] + v[j][m]\n",
    "                    if x[j][m] > self.x_bound[1]:\n",
    "                        x[j][m] = self.x_bound[1]\n",
    "                    if x[j][m] < self.x_bound[0]:\n",
    "                        x[j][m] = self.x_bound[0]\n",
    "            fitness_ = []\n",
    "            for j in range(self.N):\n",
    "                fitness_.append(self.fun(x[j]))\n",
    "            if min(fitness_) < best:\n",
    "                pg = x[fitness_.index(min(fitness_))]\n",
    "                best = min(fitness_)\n",
    "            best_all.append(best)\n",
    "            print('第' + str(t) + '次迭代：最优解位置在' + str(pg) + '，最优解的适应度值为：' + str(best))\n",
    "        plt.plot([t for t in range(self.T)], best_all)\n",
    "        plt.ylabel('适应度值')\n",
    "        plt.xlabel('迭代次数')\n",
    "        plt.title('粒子群适应度趋势')\n",
    "        plt.show()"
   ]
  },
  {
   "cell_type": "code",
   "execution_count": 1,
   "metadata": {
    "ExecuteTime": {
     "end_time": "2020-04-07T07:03:37.256547Z",
     "start_time": "2020-04-07T07:03:37.215179Z"
    }
   },
   "outputs": [],
   "source": [
    "#在有些系统中，为了节省内存资源、保证数据内容的一致性，\n",
    "#对某些类要求只能创建一个实例，这就是所谓的单例模式\n",
    "class SingleTon(object):\n",
    "    def __new__(cls,*args,**kwargs):\n",
    "        if not hasattr(cls,'_instance'):\n",
    "            cls._instance = object.__new__(cls,*args,**kwargs)\n",
    "        return cls._instance\n",
    "class TestClass(SingleTon):\n",
    "    a = 1\n",
    "\n",
    "test1 = TestClass()\n",
    "test2 = TestClass()"
   ]
  },
  {
   "cell_type": "code",
   "execution_count": null,
   "metadata": {
    "ExecuteTime": {
     "end_time": "2020-04-07T07:13:38.633816Z",
     "start_time": "2020-04-07T07:13:38.624853Z"
    }
   },
   "outputs": [],
   "source": []
  },
  {
   "cell_type": "code",
   "execution_count": 4,
   "metadata": {
    "ExecuteTime": {
     "end_time": "2020-04-07T07:04:58.060140Z",
     "start_time": "2020-04-07T07:04:58.046027Z"
    }
   },
   "outputs": [
    {
     "name": "stdout",
     "output_type": "stream",
     "text": [
      "2 2\n",
      "2748489759096 2748489759096\n"
     ]
    }
   ],
   "source": [
    "test1.a=2\n",
    "print(test1.a,test2.a)\n",
    "\n",
    "print(id(test1),id(test2))"
   ]
  },
  {
   "cell_type": "code",
   "execution_count": null,
   "metadata": {
    "ExecuteTime": {
     "end_time": "2020-04-07T07:05:39.576978Z",
     "start_time": "2020-04-07T07:05:39.505070Z"
    }
   },
   "outputs": [],
   "source": [
    "#方法三:使用__metaclass__(元类)关于元类看看这个吧;\n",
    "class SignalTon(type):\n",
    "    def __init__(cls,name,bases,dict):\n",
    "        super(SignalTon, cls).__init__(name,bases,dict)\n",
    "        cls._instance = None\n",
    "\n",
    "    def __call__(cls, *args, **kwargs):\n",
    "        if cls._instance is None:\n",
    "            cls._instance = super(SignalTon,cls).__call__(*args,**kwargs)\n",
    "        return cls._instance\n",
    "\n",
    "class TestClass(object):\n",
    "    __metaclass__ = SignalTon"
   ]
  },
  {
   "cell_type": "code",
   "execution_count": 3,
   "metadata": {
    "ExecuteTime": {
     "end_time": "2020-04-29T06:16:16.324785Z",
     "start_time": "2020-04-29T06:16:16.300752Z"
    }
   },
   "outputs": [
    {
     "name": "stdout",
     "output_type": "stream",
     "text": [
      "[43, 6225, 5693, 2276, 8538]\n"
     ]
    }
   ],
   "source": [
    "import random\n",
    "def generator(maxi):\n",
    "    number = 1\n",
    "    while number < maxi:\n",
    "        number += 1\n",
    "        yield number\n",
    "stream = generator(10000)\n",
    "k = 5\n",
    "reservoir = [ ]\n",
    "for i, element in enumerate(stream):\n",
    "    if i + 1 <= k:\n",
    "        reservoir.append(element)\n",
    "    else:\n",
    "        probability = k/(i+1)\n",
    "        if random.random() < probability:\n",
    "            reservoir[random.choice(range(0,k))] = element\n",
    "print(reservoir)"
   ]
  },
  {
   "cell_type": "code",
   "execution_count": 8,
   "metadata": {
    "ExecuteTime": {
     "end_time": "2020-04-30T07:18:10.111340Z",
     "start_time": "2020-04-30T07:18:10.096353Z"
    }
   },
   "outputs": [
    {
     "name": "stdout",
     "output_type": "stream",
     "text": [
      "List Comprehension Example:0.001985788345336914\n"
     ]
    }
   ],
   "source": [
    "'''\n",
    "通常我们希望把一些操作放到一个代码块中，在代码块中执行时就可以保持在某种运行状态，\n",
    "而当离开该代码块时就执行另一个操作，结束当前状态；\n",
    "所以，简单来说，上下文管理器的目的就是规定对象的使用范围，如果超出范围就采取“处理”。\n",
    "'''\n",
    "from time import time\n",
    "\n",
    "class Timer:\n",
    "    def __init__(self, description):\n",
    "        self.description = description\n",
    "    def __enter__(self):\n",
    "        self.start = time()\n",
    "        \n",
    "    def __exit__(self, type, value, traceback):\n",
    "        self.end = time()\n",
    "        print(f'{self.description}:{self.end-self.start}')\n",
    "with Timer('List Comprehension Example'):\n",
    "    s = [x^2+x+1 for x in range(10000)]"
   ]
  },
  {
   "cell_type": "code",
   "execution_count": 9,
   "metadata": {
    "ExecuteTime": {
     "end_time": "2020-04-30T07:20:18.516535Z",
     "start_time": "2020-04-30T07:20:18.441552Z"
    }
   },
   "outputs": [
    {
     "name": "stdout",
     "output_type": "stream",
     "text": [
      "List Comprehension Example:0.003997325897216797\n"
     ]
    }
   ],
   "source": [
    "from contextlib import contextmanager\n",
    "\n",
    "@contextmanager\n",
    "def timing(description):\n",
    "    start = time()\n",
    "    yield \n",
    "    ellapsed = time()-start\n",
    "    print(f'{description}:{ellapsed}')\n",
    "with timing('List Comprehension Example'):\n",
    "    s = [x^2+x+1 for x in range(10000)]"
   ]
  },
  {
   "cell_type": "code",
   "execution_count": 14,
   "metadata": {
    "ExecuteTime": {
     "end_time": "2020-04-30T07:23:05.217814Z",
     "start_time": "2020-04-30T07:23:05.199772Z"
    }
   },
   "outputs": [],
   "source": [
    "def func(n):\n",
    "    for i in range(n):\n",
    "        yield i\n",
    "    return 'End'\n",
    "b = func(5)"
   ]
  },
  {
   "cell_type": "code",
   "execution_count": 15,
   "metadata": {
    "ExecuteTime": {
     "end_time": "2020-04-30T07:23:06.237499Z",
     "start_time": "2020-04-30T07:23:06.213460Z"
    }
   },
   "outputs": [
    {
     "data": {
      "text/plain": [
       "0"
      ]
     },
     "execution_count": 15,
     "metadata": {},
     "output_type": "execute_result"
    }
   ],
   "source": [
    "b.send(None)"
   ]
  },
  {
   "cell_type": "code",
   "execution_count": null,
   "metadata": {
    "ExecuteTime": {
     "end_time": "2020-04-30T07:23:21.485770Z",
     "start_time": "2020-04-30T07:23:21.463785Z"
    }
   },
   "outputs": [],
   "source": []
  },
  {
   "cell_type": "code",
   "execution_count": null,
   "metadata": {},
   "outputs": [],
   "source": []
  },
  {
   "cell_type": "code",
   "execution_count": null,
   "metadata": {},
   "outputs": [],
   "source": []
  }
 ],
 "metadata": {
  "kernelspec": {
   "display_name": "Python 3",
   "language": "python",
   "name": "python3"
  },
  "language_info": {
   "codemirror_mode": {
    "name": "ipython",
    "version": 3
   },
   "file_extension": ".py",
   "mimetype": "text/x-python",
   "name": "python",
   "nbconvert_exporter": "python",
   "pygments_lexer": "ipython3",
   "version": "3.6.5"
  },
  "toc": {
   "base_numbering": 1,
   "nav_menu": {},
   "number_sections": true,
   "sideBar": true,
   "skip_h1_title": false,
   "title_cell": "Table of Contents",
   "title_sidebar": "Contents",
   "toc_cell": false,
   "toc_position": {},
   "toc_section_display": true,
   "toc_window_display": false
  },
  "varInspector": {
   "cols": {
    "lenName": 16,
    "lenType": 16,
    "lenVar": 40
   },
   "kernels_config": {
    "python": {
     "delete_cmd_postfix": "",
     "delete_cmd_prefix": "del ",
     "library": "var_list.py",
     "varRefreshCmd": "print(var_dic_list())"
    },
    "r": {
     "delete_cmd_postfix": ") ",
     "delete_cmd_prefix": "rm(",
     "library": "var_list.r",
     "varRefreshCmd": "cat(var_dic_list()) "
    }
   },
   "types_to_exclude": [
    "module",
    "function",
    "builtin_function_or_method",
    "instance",
    "_Feature"
   ],
   "window_display": false
  }
 },
 "nbformat": 4,
 "nbformat_minor": 2
}
