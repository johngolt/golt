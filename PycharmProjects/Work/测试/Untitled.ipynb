{
 "cells": [
  {
   "cell_type": "code",
   "execution_count": 1,
   "metadata": {
    "ExecuteTime": {
     "end_time": "2020-02-04T07:06:13.938530Z",
     "start_time": "2020-02-04T07:06:02.270078Z"
    }
   },
   "outputs": [],
   "source": [
    "import pandas as pd\n",
    "import os\n",
    "os.chdir('C:/test/data/titanic')"
   ]
  },
  {
   "cell_type": "code",
   "execution_count": 2,
   "metadata": {
    "ExecuteTime": {
     "end_time": "2020-02-04T07:06:15.350707Z",
     "start_time": "2020-02-04T07:06:14.970164Z"
    }
   },
   "outputs": [],
   "source": [
    "df = pd.read_csv('train.csv')"
   ]
  },
  {
   "cell_type": "code",
   "execution_count": 1,
   "metadata": {
    "ExecuteTime": {
     "end_time": "2020-02-19T03:10:22.608427Z",
     "start_time": "2020-02-19T03:10:17.027804Z"
    }
   },
   "outputs": [],
   "source": [
    "import numpy as np\n",
    "import scipy.stats as stats"
   ]
  },
  {
   "cell_type": "code",
   "execution_count": null,
   "metadata": {
    "ExecuteTime": {
     "end_time": "2020-02-19T03:10:34.525875Z",
     "start_time": "2020-02-19T03:10:34.458944Z"
    }
   },
   "outputs": [],
   "source": []
  },
  {
   "cell_type": "code",
   "execution_count": null,
   "metadata": {
    "ExecuteTime": {
     "end_time": "2020-02-19T03:11:29.176509Z",
     "start_time": "2020-02-19T03:11:29.161748Z"
    }
   },
   "outputs": [],
   "source": []
  },
  {
   "cell_type": "code",
   "execution_count": null,
   "metadata": {},
   "outputs": [],
   "source": [
    "# 数字特征\n",
    "numeric_features = Train_data.select_dtypes(include=[np.number])\n",
    "numeric_features.columns\n",
    "# 类型特征\n",
    "categorical_features = Train_data.select_dtypes(include=[np.object])\n",
    "categorical_features.columns"
   ]
  },
  {
   "cell_type": "code",
   "execution_count": null,
   "metadata": {},
   "outputs": [],
   "source": []
  },
  {
   "cell_type": "code",
   "execution_count": null,
   "metadata": {},
   "outputs": [],
   "source": [
    "import random\n",
    "import matplotlib.pyplot as plt\n",
    "\n",
    "plt.rcParams['font.sans-serif'] = ['SimHei']  # 步骤一（替换sans-serif字体）\n",
    "plt.rcParams['axes.unicode_minus'] = False\n",
    "\n",
    "\n",
    "class PSO(object):\n",
    "    def __init__(self):\n",
    "        self.x_bound = [-1, 1]\n",
    "        self.T = 100\n",
    "        self.w = 0.15\n",
    "        self.N = 10000\n",
    "        self.dim = 20\n",
    "        self.c1 = 1.5\n",
    "        self.c2 = 1.5\n",
    "\n",
    "    def fun(self, x):\n",
    "        result = 0\n",
    "        for i in x:\n",
    "            result = result + pow(i, 2)\n",
    "        return result\n",
    "\n",
    "    def pso_main(self):\n",
    "        x = []\n",
    "        v = []\n",
    "        for j in range(self.N):\n",
    "            x.append([random.random() for i in range(self.dim)])\n",
    "            v.append([random.random() for m in range(self.dim)])\n",
    "        fitness = [self.fun(x[j]) for j in range(self.N)]\n",
    "        p = x\n",
    "        best = min(fitness)\n",
    "        pg = x[fitness.index(min(fitness))]\n",
    "        best_all = []\n",
    "        for t in range(self.T):\n",
    "            for j in range(self.N):\n",
    "                for m in range(self.dim):\n",
    "                    v[j][m] = self.w * v[j][m] + self.c1 * random.random() * (\n",
    "                            p[j][m] - x[j][m]) + self.c2 * random.random() * (pg[m] - x[j][m])\n",
    "            for j in range(self.N):\n",
    "                for m in range(self.dim):\n",
    "                    x[j][m] = x[j][m] + v[j][m]\n",
    "                    if x[j][m] > self.x_bound[1]:\n",
    "                        x[j][m] = self.x_bound[1]\n",
    "                    if x[j][m] < self.x_bound[0]:\n",
    "                        x[j][m] = self.x_bound[0]\n",
    "            fitness_ = []\n",
    "            for j in range(self.N):\n",
    "                fitness_.append(self.fun(x[j]))\n",
    "            if min(fitness_) < best:\n",
    "                pg = x[fitness_.index(min(fitness_))]\n",
    "                best = min(fitness_)\n",
    "            best_all.append(best)\n",
    "            print('第' + str(t) + '次迭代：最优解位置在' + str(pg) + '，最优解的适应度值为：' + str(best))\n",
    "        plt.plot([t for t in range(self.T)], best_all)\n",
    "        plt.ylabel('适应度值')\n",
    "        plt.xlabel('迭代次数')\n",
    "        plt.title('粒子群适应度趋势')\n",
    "        plt.show()"
   ]
  },
  {
   "cell_type": "code",
   "execution_count": 1,
   "metadata": {
    "ExecuteTime": {
     "end_time": "2020-04-07T07:03:37.256547Z",
     "start_time": "2020-04-07T07:03:37.215179Z"
    }
   },
   "outputs": [],
   "source": [
    "#方法三:使用__metaclass__(元类)关于元类看看这个吧;\n",
    "class SignalTon(type):\n",
    "    def __init__(cls,name,bases,dict):\n",
    "        super(SignalTon, cls).__init__(name,bases,dict)\n",
    "        cls._instance = None\n",
    "\n",
    "    def __call__(cls, *args, **kwargs):\n",
    "        if cls._instance is None:\n",
    "            cls._instance = super(SignalTon,cls).__call__(*args,**kwargs)\n",
    "        return cls._instance\n",
    "\n",
    "class TestClass(object):\n",
    "    __metaclass__ = SignalTon"
   ]
  },
  {
   "cell_type": "code",
   "execution_count": 3,
   "metadata": {
    "ExecuteTime": {
     "end_time": "2020-04-29T06:16:16.324785Z",
     "start_time": "2020-04-29T06:16:16.300752Z"
    }
   },
   "outputs": [
    {
     "name": "stdout",
     "output_type": "stream",
     "text": [
      "[43, 6225, 5693, 2276, 8538]\n"
     ]
    }
   ],
   "source": [
    "import random\n",
    "def generator(maxi):\n",
    "    number = 1\n",
    "    while number < maxi:\n",
    "        number += 1\n",
    "        yield number\n",
    "stream = generator(10000)\n",
    "k = 5\n",
    "reservoir = [ ]\n",
    "for i, element in enumerate(stream):\n",
    "    if i + 1 <= k:\n",
    "        reservoir.append(element)\n",
    "    else:\n",
    "        probability = k/(i+1)\n",
    "        if random.random() < probability:\n",
    "            reservoir[random.choice(range(0,k))] = element\n",
    "print(reservoir)"
   ]
  },
  {
   "cell_type": "code",
   "execution_count": 8,
   "metadata": {
    "ExecuteTime": {
     "end_time": "2020-04-30T07:18:10.111340Z",
     "start_time": "2020-04-30T07:18:10.096353Z"
    }
   },
   "outputs": [
    {
     "name": "stdout",
     "output_type": "stream",
     "text": [
      "List Comprehension Example:0.001985788345336914\n"
     ]
    }
   ],
   "source": [
    "'''\n",
    "通常我们希望把一些操作放到一个代码块中，在代码块中执行时就可以保持在某种运行状态，\n",
    "而当离开该代码块时就执行另一个操作，结束当前状态；\n",
    "所以，简单来说，上下文管理器的目的就是规定对象的使用范围，如果超出范围就采取“处理”。\n",
    "'''\n",
    "from time import time\n",
    "\n",
    "class Timer:\n",
    "    def __init__(self, description):\n",
    "        self.description = description\n",
    "    def __enter__(self):\n",
    "        self.start = time()\n",
    "        \n",
    "    def __exit__(self, type, value, traceback):\n",
    "        self.end = time()\n",
    "        print(f'{self.description}:{self.end-self.start}')\n",
    "with Timer('List Comprehension Example'):\n",
    "    s = [x^2+x+1 for x in range(10000)]"
   ]
  },
  {
   "cell_type": "code",
   "execution_count": 9,
   "metadata": {
    "ExecuteTime": {
     "end_time": "2020-04-30T07:20:18.516535Z",
     "start_time": "2020-04-30T07:20:18.441552Z"
    }
   },
   "outputs": [
    {
     "name": "stdout",
     "output_type": "stream",
     "text": [
      "List Comprehension Example:0.003997325897216797\n"
     ]
    }
   ],
   "source": [
    "from contextlib import contextmanager\n",
    "\n",
    "@contextmanager\n",
    "def timing(description):\n",
    "    start = time()\n",
    "    yield \n",
    "    ellapsed = time()-start\n",
    "    print(f'{description}:{ellapsed}')\n",
    "with timing('List Comprehension Example'):\n",
    "    s = [x^2+x+1 for x in range(10000)]"
   ]
  },
  {
   "cell_type": "code",
   "execution_count": 14,
   "metadata": {
    "ExecuteTime": {
     "end_time": "2020-04-30T07:23:05.217814Z",
     "start_time": "2020-04-30T07:23:05.199772Z"
    }
   },
   "outputs": [],
   "source": [
    "def func(n):\n",
    "    for i in range(n):\n",
    "        yield i\n",
    "    return 'End'\n",
    "b = func(5)"
   ]
  },
  {
   "cell_type": "code",
   "execution_count": 15,
   "metadata": {
    "ExecuteTime": {
     "end_time": "2020-04-30T07:23:06.237499Z",
     "start_time": "2020-04-30T07:23:06.213460Z"
    }
   },
   "outputs": [
    {
     "data": {
      "text/plain": [
       "0"
      ]
     },
     "execution_count": 15,
     "metadata": {},
     "output_type": "execute_result"
    }
   ],
   "source": [
    "b.send(None)"
   ]
  },
  {
   "cell_type": "code",
   "execution_count": 2,
   "metadata": {
    "ExecuteTime": {
     "end_time": "2020-06-24T06:15:57.278738Z",
     "start_time": "2020-06-24T06:15:56.680120Z"
    }
   },
   "outputs": [
    {
     "data": {
      "text/html": [
       "<div>\n",
       "<style scoped>\n",
       "    .dataframe tbody tr th:only-of-type {\n",
       "        vertical-align: middle;\n",
       "    }\n",
       "\n",
       "    .dataframe tbody tr th {\n",
       "        vertical-align: top;\n",
       "    }\n",
       "\n",
       "    .dataframe thead th {\n",
       "        text-align: right;\n",
       "    }\n",
       "</style>\n",
       "<table border=\"1\" class=\"dataframe\">\n",
       "  <thead>\n",
       "    <tr style=\"text-align: right;\">\n",
       "      <th></th>\n",
       "      <th>Sp</th>\n",
       "      <th>Mt</th>\n",
       "      <th>Value</th>\n",
       "      <th>Count</th>\n",
       "    </tr>\n",
       "  </thead>\n",
       "  <tbody>\n",
       "    <tr>\n",
       "      <th>0</th>\n",
       "      <td>a</td>\n",
       "      <td>s1</td>\n",
       "      <td>1</td>\n",
       "      <td>3</td>\n",
       "    </tr>\n",
       "    <tr>\n",
       "      <th>1</th>\n",
       "      <td>b</td>\n",
       "      <td>s1</td>\n",
       "      <td>2</td>\n",
       "      <td>2</td>\n",
       "    </tr>\n",
       "    <tr>\n",
       "      <th>2</th>\n",
       "      <td>c</td>\n",
       "      <td>s2</td>\n",
       "      <td>3</td>\n",
       "      <td>5</td>\n",
       "    </tr>\n",
       "    <tr>\n",
       "      <th>3</th>\n",
       "      <td>d</td>\n",
       "      <td>s2</td>\n",
       "      <td>4</td>\n",
       "      <td>10</td>\n",
       "    </tr>\n",
       "    <tr>\n",
       "      <th>4</th>\n",
       "      <td>e</td>\n",
       "      <td>s2</td>\n",
       "      <td>5</td>\n",
       "      <td>10</td>\n",
       "    </tr>\n",
       "    <tr>\n",
       "      <th>5</th>\n",
       "      <td>f</td>\n",
       "      <td>s3</td>\n",
       "      <td>6</td>\n",
       "      <td>6</td>\n",
       "    </tr>\n",
       "  </tbody>\n",
       "</table>\n",
       "</div>"
      ],
      "text/plain": [
       "  Sp  Mt  Value  Count\n",
       "0  a  s1      1      3\n",
       "1  b  s1      2      2\n",
       "2  c  s2      3      5\n",
       "3  d  s2      4     10\n",
       "4  e  s2      5     10\n",
       "5  f  s3      6      6"
      ]
     },
     "execution_count": 2,
     "metadata": {},
     "output_type": "execute_result"
    }
   ],
   "source": [
    "import pandas as pd\n",
    "import numpy as np\n",
    "df = pd.DataFrame({'Sp':['a','b','c','d','e','f'], \n",
    "                   'Mt':['s1', 's1', 's2','s2','s2','s3'],\n",
    "                   'Value':[1,2,3,4,5,6], \n",
    "                   'Count':[3,2,5,10,10,6]})\n",
    "df"
   ]
  },
  {
   "cell_type": "code",
   "execution_count": null,
   "metadata": {
    "ExecuteTime": {
     "end_time": "2020-04-30T07:23:21.485770Z",
     "start_time": "2020-04-30T07:23:21.463785Z"
    }
   },
   "outputs": [],
   "source": [
    "df.iloc[df.groupby(['Mt']).apply(lambda x: x['Count'].idxmax())]"
   ]
  },
  {
   "cell_type": "code",
   "execution_count": null,
   "metadata": {},
   "outputs": [],
   "source": []
  },
  {
   "cell_type": "code",
   "execution_count": null,
   "metadata": {},
   "outputs": [],
   "source": []
  }
 ],
 "metadata": {
  "kernelspec": {
   "display_name": "Python 3",
   "language": "python",
   "name": "python3"
  },
  "language_info": {
   "codemirror_mode": {
    "name": "ipython",
    "version": 3
   },
   "file_extension": ".py",
   "mimetype": "text/x-python",
   "name": "python",
   "nbconvert_exporter": "python",
   "pygments_lexer": "ipython3",
   "version": "3.7.5"
  },
  "toc": {
   "base_numbering": 1,
   "nav_menu": {},
   "number_sections": true,
   "sideBar": true,
   "skip_h1_title": false,
   "title_cell": "Table of Contents",
   "title_sidebar": "Contents",
   "toc_cell": false,
   "toc_position": {},
   "toc_section_display": true,
   "toc_window_display": false
  },
  "varInspector": {
   "cols": {
    "lenName": 16,
    "lenType": 16,
    "lenVar": 40
   },
   "kernels_config": {
    "python": {
     "delete_cmd_postfix": "",
     "delete_cmd_prefix": "del ",
     "library": "var_list.py",
     "varRefreshCmd": "print(var_dic_list())"
    },
    "r": {
     "delete_cmd_postfix": ") ",
     "delete_cmd_prefix": "rm(",
     "library": "var_list.r",
     "varRefreshCmd": "cat(var_dic_list()) "
    }
   },
   "types_to_exclude": [
    "module",
    "function",
    "builtin_function_or_method",
    "instance",
    "_Feature"
   ],
   "window_display": false
  }
 },
 "nbformat": 4,
 "nbformat_minor": 2
}
