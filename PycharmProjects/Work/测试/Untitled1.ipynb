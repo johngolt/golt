{
 "cells": [
  {
   "cell_type": "code",
   "execution_count": 2,
   "metadata": {
    "ExecuteTime": {
     "end_time": "2020-07-09T08:32:06.423005Z",
     "start_time": "2020-07-09T08:32:05.394758Z"
    }
   },
   "outputs": [],
   "source": [
    "import pandas as pd\n",
    "import sklearn as skr\n",
    "import numpy as np\n",
    "import datetime\n",
    "import matplotlib.pyplot as plt\n",
    "import seaborn as sns\n",
    "from dateutil.relativedelta import relativedelta\n",
    "import os\n",
    "os.chdir('D:/Dataset/rent_forecast')\n",
    "import sys\n",
    "sys.path.append('D:/gitln/WorkCode/Models/ModelFunc/Exploratory')"
   ]
  },
  {
   "cell_type": "code",
   "execution_count": 3,
   "metadata": {
    "ExecuteTime": {
     "end_time": "2020-07-09T08:32:06.494818Z",
     "start_time": "2020-07-09T08:32:06.480850Z"
    }
   },
   "outputs": [],
   "source": [
    "import Basics as basics"
   ]
  },
  {
   "cell_type": "code",
   "execution_count": 20,
   "metadata": {
    "ExecuteTime": {
     "end_time": "2020-07-09T08:11:53.400846Z",
     "start_time": "2020-07-09T08:11:53.386885Z"
    }
   },
   "outputs": [],
   "source": [
    "from imp import reload\n",
    "reload(basics)\n",
    "pf = basics.PlotFunc()"
   ]
  },
  {
   "cell_type": "code",
   "execution_count": 4,
   "metadata": {
    "ExecuteTime": {
     "end_time": "2020-07-09T08:32:08.928563Z",
     "start_time": "2020-07-09T08:32:08.673974Z"
    }
   },
   "outputs": [],
   "source": [
    "# 从大规模数据种采样\n",
    "df = pd.read_csv('train.csv', \n",
    "                 skiprows=lambda x: x>0 and np.random.rand()>0.1)"
   ]
  },
  {
   "cell_type": "code",
   "execution_count": 23,
   "metadata": {
    "ExecuteTime": {
     "end_time": "2020-07-09T08:23:34.985850Z",
     "start_time": "2020-07-09T08:23:34.966940Z"
    }
   },
   "outputs": [
    {
     "data": {
      "text/html": [
       "<div>\n",
       "<style scoped>\n",
       "    .dataframe tbody tr th:only-of-type {\n",
       "        vertical-align: middle;\n",
       "    }\n",
       "\n",
       "    .dataframe tbody tr th {\n",
       "        vertical-align: top;\n",
       "    }\n",
       "\n",
       "    .dataframe thead th {\n",
       "        text-align: right;\n",
       "    }\n",
       "</style>\n",
       "<table border=\"1\" class=\"dataframe\">\n",
       "  <thead>\n",
       "    <tr style=\"text-align: right;\">\n",
       "      <th></th>\n",
       "      <th>ID</th>\n",
       "      <th>位置</th>\n",
       "      <th>出租方式</th>\n",
       "      <th>区</th>\n",
       "      <th>卧室数量</th>\n",
       "      <th>卫的数量</th>\n",
       "      <th>厅的数量</th>\n",
       "      <th>地铁站点</th>\n",
       "      <th>地铁线路</th>\n",
       "      <th>小区名</th>\n",
       "      <th>小区房屋出租数量</th>\n",
       "      <th>居住状态</th>\n",
       "      <th>总楼层</th>\n",
       "      <th>房屋朝向</th>\n",
       "      <th>房屋面积</th>\n",
       "      <th>时间</th>\n",
       "      <th>楼层</th>\n",
       "      <th>装修情况</th>\n",
       "      <th>距离</th>\n",
       "      <th>Label</th>\n",
       "    </tr>\n",
       "  </thead>\n",
       "  <tbody>\n",
       "    <tr>\n",
       "      <th>0</th>\n",
       "      <td>53</td>\n",
       "      <td>95.0</td>\n",
       "      <td>NaN</td>\n",
       "      <td>3.0</td>\n",
       "      <td>2</td>\n",
       "      <td>1</td>\n",
       "      <td>1</td>\n",
       "      <td>4.5</td>\n",
       "      <td>3.0</td>\n",
       "      <td>2124</td>\n",
       "      <td>15.62500</td>\n",
       "      <td>NaN</td>\n",
       "      <td>10.909091</td>\n",
       "      <td>东</td>\n",
       "      <td>109.235353</td>\n",
       "      <td>1</td>\n",
       "      <td>0</td>\n",
       "      <td>NaN</td>\n",
       "      <td>77.583333</td>\n",
       "      <td>4.584041</td>\n",
       "    </tr>\n",
       "    <tr>\n",
       "      <th>1</th>\n",
       "      <td>54</td>\n",
       "      <td>115.0</td>\n",
       "      <td>NaN</td>\n",
       "      <td>12.0</td>\n",
       "      <td>1</td>\n",
       "      <td>1</td>\n",
       "      <td>0</td>\n",
       "      <td>9.6</td>\n",
       "      <td>3.0</td>\n",
       "      <td>4212</td>\n",
       "      <td>160.15625</td>\n",
       "      <td>NaN</td>\n",
       "      <td>18.181818</td>\n",
       "      <td>东南</td>\n",
       "      <td>56.272757</td>\n",
       "      <td>1</td>\n",
       "      <td>0</td>\n",
       "      <td>NaN</td>\n",
       "      <td>51.916667</td>\n",
       "      <td>4.584041</td>\n",
       "    </tr>\n",
       "    <tr>\n",
       "      <th>2</th>\n",
       "      <td>64</td>\n",
       "      <td>131.0</td>\n",
       "      <td>NaN</td>\n",
       "      <td>9.0</td>\n",
       "      <td>2</td>\n",
       "      <td>1</td>\n",
       "      <td>1</td>\n",
       "      <td>0.8</td>\n",
       "      <td>4.0</td>\n",
       "      <td>6258</td>\n",
       "      <td>19.53125</td>\n",
       "      <td>NaN</td>\n",
       "      <td>10.909091</td>\n",
       "      <td>东南</td>\n",
       "      <td>92.684542</td>\n",
       "      <td>1</td>\n",
       "      <td>0</td>\n",
       "      <td>NaN</td>\n",
       "      <td>45.583333</td>\n",
       "      <td>3.904924</td>\n",
       "    </tr>\n",
       "    <tr>\n",
       "      <th>3</th>\n",
       "      <td>67</td>\n",
       "      <td>39.0</td>\n",
       "      <td>1.0</td>\n",
       "      <td>10.0</td>\n",
       "      <td>3</td>\n",
       "      <td>1</td>\n",
       "      <td>1</td>\n",
       "      <td>NaN</td>\n",
       "      <td>NaN</td>\n",
       "      <td>5885</td>\n",
       "      <td>140.62500</td>\n",
       "      <td>3.0</td>\n",
       "      <td>70.909091</td>\n",
       "      <td>东南</td>\n",
       "      <td>116.170142</td>\n",
       "      <td>1</td>\n",
       "      <td>2</td>\n",
       "      <td>6.0</td>\n",
       "      <td>NaN</td>\n",
       "      <td>6.960951</td>\n",
       "    </tr>\n",
       "    <tr>\n",
       "      <th>4</th>\n",
       "      <td>70</td>\n",
       "      <td>19.0</td>\n",
       "      <td>1.0</td>\n",
       "      <td>10.0</td>\n",
       "      <td>1</td>\n",
       "      <td>1</td>\n",
       "      <td>1</td>\n",
       "      <td>7.4</td>\n",
       "      <td>4.0</td>\n",
       "      <td>2821</td>\n",
       "      <td>109.37500</td>\n",
       "      <td>3.0</td>\n",
       "      <td>70.909091</td>\n",
       "      <td>东南</td>\n",
       "      <td>86.577292</td>\n",
       "      <td>1</td>\n",
       "      <td>1</td>\n",
       "      <td>2.0</td>\n",
       "      <td>33.750000</td>\n",
       "      <td>6.960951</td>\n",
       "    </tr>\n",
       "  </tbody>\n",
       "</table>\n",
       "</div>"
      ],
      "text/plain": [
       "   ID     位置  出租方式     区  卧室数量  卫的数量  厅的数量  地铁站点  地铁线路   小区名   小区房屋出租数量  居住状态  \\\n",
       "0  53   95.0   NaN   3.0     2     1     1   4.5   3.0  2124   15.62500   NaN   \n",
       "1  54  115.0   NaN  12.0     1     1     0   9.6   3.0  4212  160.15625   NaN   \n",
       "2  64  131.0   NaN   9.0     2     1     1   0.8   4.0  6258   19.53125   NaN   \n",
       "3  67   39.0   1.0  10.0     3     1     1   NaN   NaN  5885  140.62500   3.0   \n",
       "4  70   19.0   1.0  10.0     1     1     1   7.4   4.0  2821  109.37500   3.0   \n",
       "\n",
       "         总楼层 房屋朝向        房屋面积  时间  楼层  装修情况         距离     Label  \n",
       "0  10.909091    东  109.235353   1   0   NaN  77.583333  4.584041  \n",
       "1  18.181818   东南   56.272757   1   0   NaN  51.916667  4.584041  \n",
       "2  10.909091   东南   92.684542   1   0   NaN  45.583333  3.904924  \n",
       "3  70.909091   东南  116.170142   1   2   6.0        NaN  6.960951  \n",
       "4  70.909091   东南   86.577292   1   1   2.0  33.750000  6.960951  "
      ]
     },
     "execution_count": 23,
     "metadata": {},
     "output_type": "execute_result"
    }
   ],
   "source": [
    "df.head()"
   ]
  },
  {
   "cell_type": "code",
   "execution_count": 32,
   "metadata": {
    "ExecuteTime": {
     "end_time": "2020-07-09T08:26:38.185605Z",
     "start_time": "2020-07-09T08:26:38.173641Z"
    }
   },
   "outputs": [
    {
     "data": {
      "text/plain": [
       "1    10582\n",
       "2     7450\n",
       "0     1515\n",
       "3       52\n",
       "4        1\n",
       "Name: 厅的数量, dtype: int64"
      ]
     },
     "execution_count": 32,
     "metadata": {},
     "output_type": "execute_result"
    }
   ],
   "source": [
    "data = df['厅的数量'].value_counts()\n",
    "data"
   ]
  },
  {
   "cell_type": "code",
   "execution_count": 16,
   "metadata": {
    "ExecuteTime": {
     "end_time": "2020-07-09T08:52:59.414121Z",
     "start_time": "2020-07-09T08:52:58.897506Z"
    }
   },
   "outputs": [
    {
     "data": {
      "text/plain": [
       "<seaborn.axisgrid.FacetGrid at 0x1e67c0c8a08>"
      ]
     },
     "execution_count": 16,
     "metadata": {},
     "output_type": "execute_result"
    },
    {
     "data": {
      "image/png": "[encoded data removed]",
      "text/plain": [
       "<Figure size 360x360 with 1 Axes>"
      ]
     },
     "metadata": {
      "needs_background": "light"
     },
     "output_type": "display_data"
    }
   ],
   "source": [
    "sns.catplot('厅的数量','Label',data=df,orient='v',**{'kind':'strip'})"
   ]
  },
  {
   "cell_type": "code",
   "execution_count": 11,
   "metadata": {
    "ExecuteTime": {
     "end_time": "2020-07-09T08:05:25.028010Z",
     "start_time": "2020-07-09T08:05:25.025020Z"
    }
   },
   "outputs": [],
   "source": [
    "sys.path.append('D:/gitln/WorkCode/Models/ModelFunc')"
   ]
  },
  {
   "cell_type": "code",
   "execution_count": 12,
   "metadata": {
    "ExecuteTime": {
     "end_time": "2020-07-09T08:05:33.606022Z",
     "start_time": "2020-07-09T08:05:33.601036Z"
    }
   },
   "outputs": [],
   "source": [
    "import Exploratory.Basics as explor"
   ]
  },
  {
   "cell_type": "code",
   "execution_count": 46,
   "metadata": {
    "ExecuteTime": {
     "end_time": "2020-06-24T01:47:32.319882Z",
     "start_time": "2020-06-24T01:47:32.312848Z"
    }
   },
   "outputs": [
    {
     "data": {
      "text/plain": [
       "房屋朝向    48\n",
       "dtype: int64"
      ]
     },
     "execution_count": 46,
     "metadata": {},
     "output_type": "execute_result"
    }
   ],
   "source": []
  },
  {
   "cell_type": "code",
   "execution_count": 56,
   "metadata": {
    "ExecuteTime": {
     "end_time": "2020-06-24T01:49:27.128494Z",
     "start_time": "2020-06-24T01:49:26.903542Z"
    }
   },
   "outputs": [
    {
     "data": {
      "image/png": "[encoded data removed]",
      "text/plain": [
       "<Figure size 864x216 with 1 Axes>"
      ]
     },
     "metadata": {
      "needs_background": "light"
     },
     "output_type": "display_data"
    }
   ],
   "source": [
    "fs.plot_categories(cat)"
   ]
  },
  {
   "cell_type": "code",
   "execution_count": 17,
   "metadata": {
    "ExecuteTime": {
     "end_time": "2020-07-09T08:11:22.653609Z",
     "start_time": "2020-07-09T08:11:22.638649Z"
    }
   },
   "outputs": [
    {
     "data": {
      "text/plain": [
       "<module 'Basics' from 'D:/gitln/WorkCode/Models/ModelFunc/Exploratory\\\\Basics.py'>"
      ]
     },
     "execution_count": 17,
     "metadata": {},
     "output_type": "execute_result"
    }
   ],
   "source": []
  },
  {
   "cell_type": "code",
   "execution_count": 57,
   "metadata": {
    "ExecuteTime": {
     "end_time": "2020-06-24T01:50:19.372099Z",
     "start_time": "2020-06-24T01:50:19.368142Z"
    }
   },
   "outputs": [],
   "source": [
    "import numpy as np"
   ]
  },
  {
   "cell_type": "code",
   "execution_count": 67,
   "metadata": {
    "ExecuteTime": {
     "end_time": "2020-06-24T01:53:02.953877Z",
     "start_time": "2020-06-24T01:53:02.948890Z"
    }
   },
   "outputs": [],
   "source": [
    "dta = np.random.randint(0,2,1000)\n",
    "dta[:10] = np.nan"
   ]
  },
  {
   "cell_type": "code",
   "execution_count": 61,
   "metadata": {
    "ExecuteTime": {
     "end_time": "2020-06-24T01:51:06.198504Z",
     "start_time": "2020-06-24T01:51:06.195512Z"
    }
   },
   "outputs": [],
   "source": [
    "import seaborn as sns"
   ]
  },
  {
   "cell_type": "code",
   "execution_count": 70,
   "metadata": {
    "ExecuteTime": {
     "end_time": "2020-06-24T01:54:11.013687Z",
     "start_time": "2020-06-24T01:54:11.004676Z"
    }
   },
   "outputs": [
    {
     "data": {
      "text/plain": [
       "ID              0\n",
       "位置              5\n",
       "出租方式        17562\n",
       "区               5\n",
       "卧室数量            0\n",
       "卫的数量            0\n",
       "厅的数量            0\n",
       "地铁站点        10516\n",
       "地铁线路        10516\n",
       "小区名             0\n",
       "小区房屋出租数量      103\n",
       "居住状态        17954\n",
       "总楼层             0\n",
       "房屋面积            0\n",
       "时间              0\n",
       "楼层              0\n",
       "装修情况        18129\n",
       "距离          10516\n",
       "Label           0\n",
       "dtype: int64"
      ]
     },
     "execution_count": 70,
     "metadata": {},
     "output_type": "execute_result"
    }
   ],
   "source": [
    "num.isnull().sum()"
   ]
  },
  {
   "cell_type": "code",
   "execution_count": 73,
   "metadata": {
    "ExecuteTime": {
     "end_time": "2020-06-24T01:54:45.599583Z",
     "start_time": "2020-06-24T01:54:45.383653Z"
    }
   },
   "outputs": [
    {
     "data": {
      "text/plain": [
       "<matplotlib.axes._subplots.AxesSubplot at 0x22ac8859e48>"
      ]
     },
     "execution_count": 73,
     "metadata": {},
     "output_type": "execute_result"
    },
    {
     "data": {
      "image/png": "[encoded data removed]",
      "text/plain": [
       "<Figure size 432x288 with 1 Axes>"
      ]
     },
     "metadata": {
      "needs_background": "light"
     },
     "output_type": "display_data"
    }
   ],
   "source": [
    "sns.distplot(num['Label'])"
   ]
  },
  {
   "cell_type": "code",
   "execution_count": null,
   "metadata": {},
   "outputs": [],
   "source": []
  }
 ],
 "metadata": {
  "kernelspec": {
   "display_name": "Python 3",
   "language": "python",
   "name": "python3"
  },
  "language_info": {
   "codemirror_mode": {
    "name": "ipython",
    "version": 3
   },
   "file_extension": ".py",
   "mimetype": "text/x-python",
   "name": "python",
   "nbconvert_exporter": "python",
   "pygments_lexer": "ipython3",
   "version": "3.7.5"
  },
  "toc": {
   "base_numbering": 1,
   "nav_menu": {},
   "number_sections": true,
   "sideBar": true,
   "skip_h1_title": false,
   "title_cell": "Table of Contents",
   "title_sidebar": "Contents",
   "toc_cell": false,
   "toc_position": {},
   "toc_section_display": true,
   "toc_window_display": false
  },
  "varInspector": {
   "cols": {
    "lenName": 16,
    "lenType": 16,
    "lenVar": 40
   },
   "kernels_config": {
    "python": {
     "delete_cmd_postfix": "",
     "delete_cmd_prefix": "del ",
     "library": "var_list.py",
     "varRefreshCmd": "print(var_dic_list())"
    },
    "r": {
     "delete_cmd_postfix": ") ",
     "delete_cmd_prefix": "rm(",
     "library": "var_list.r",
     "varRefreshCmd": "cat(var_dic_list()) "
    }
   },
   "types_to_exclude": [
    "module",
    "function",
    "builtin_function_or_method",
    "instance",
    "_Feature"
   ],
   "window_display": false
  }
 },
 "nbformat": 4,
 "nbformat_minor": 2
}
