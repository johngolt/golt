{
 "cells": [
  {
   "cell_type": "code",
   "execution_count": 5,
   "metadata": {
    "ExecuteTime": {
     "end_time": "2020-06-24T01:15:36.728961Z",
     "start_time": "2020-06-24T01:15:36.723941Z"
    }
   },
   "outputs": [],
   "source": [
    "import pandas as pd\n",
    "import sklearn as skr\n",
    "import numpy as np\n",
    "import datetime\n",
    "import matplotlib.pyplot as plt\n",
    "import seaborn as sns\n",
    "from dateutil.relativedelta import relativedelta\n",
    "import os\n",
    "os.chdir('D:/Dataset/rent_forecast')\n",
    "import sys\n",
    "sys.path.append('D:/gitln/WorkCode/Models/')\n",
    "import UserFunc as uf"
   ]
  },
  {
   "cell_type": "code",
   "execution_count": 74,
   "metadata": {
    "ExecuteTime": {
     "end_time": "2020-06-24T02:05:48.375048Z",
     "start_time": "2020-06-24T02:05:48.119934Z"
    }
   },
   "outputs": [],
   "source": [
    "# 从大规模数据种采样\n",
    "df = pd.read_csv('train.csv', \n",
    "                 skiprows=lambda x: x>0 and np.random.rand()>0.1)"
   ]
  },
  {
   "cell_type": "code",
   "execution_count": 75,
   "metadata": {
    "ExecuteTime": {
     "end_time": "2020-06-24T02:05:53.433445Z",
     "start_time": "2020-06-24T02:05:53.428461Z"
    }
   },
   "outputs": [
    {
     "data": {
      "text/plain": [
       "(19540, 20)"
      ]
     },
     "execution_count": 75,
     "metadata": {},
     "output_type": "execute_result"
    }
   ],
   "source": [
    "df.shape"
   ]
  },
  {
   "cell_type": "code",
   "execution_count": 55,
   "metadata": {
    "ExecuteTime": {
     "end_time": "2020-06-24T01:49:23.866293Z",
     "start_time": "2020-06-24T01:49:23.862308Z"
    }
   },
   "outputs": [],
   "source": [
    "fs = uf.DataPreProcess.FeatureStatistics()"
   ]
  },
  {
   "cell_type": "code",
   "execution_count": 16,
   "metadata": {
    "ExecuteTime": {
     "end_time": "2020-06-24T01:35:42.197076Z",
     "start_time": "2020-06-24T01:35:42.182117Z"
    }
   },
   "outputs": [],
   "source": [
    "num, cat = fs.split(df)"
   ]
  },
  {
   "cell_type": "code",
   "execution_count": 40,
   "metadata": {
    "ExecuteTime": {
     "end_time": "2020-06-24T01:45:03.901104Z",
     "start_time": "2020-06-24T01:45:03.877895Z"
    }
   },
   "outputs": [],
   "source": [
    "temp = num.loc[:,(num.nunique()>3)&(num.isnull().sum()<1000)]"
   ]
  },
  {
   "cell_type": "code",
   "execution_count": 46,
   "metadata": {
    "ExecuteTime": {
     "end_time": "2020-06-24T01:47:32.319882Z",
     "start_time": "2020-06-24T01:47:32.312848Z"
    }
   },
   "outputs": [
    {
     "data": {
      "text/plain": [
       "房屋朝向    48\n",
       "dtype: int64"
      ]
     },
     "execution_count": 46,
     "metadata": {},
     "output_type": "execute_result"
    }
   ],
   "source": [
    "cat.nunique()"
   ]
  },
  {
   "cell_type": "code",
   "execution_count": 56,
   "metadata": {
    "ExecuteTime": {
     "end_time": "2020-06-24T01:49:27.128494Z",
     "start_time": "2020-06-24T01:49:26.903542Z"
    }
   },
   "outputs": [
    {
     "data": {
      "image/png": "[encoded data removed]",
      "text/plain": [
       "<Figure size 864x216 with 1 Axes>"
      ]
     },
     "metadata": {
      "needs_background": "light"
     },
     "output_type": "display_data"
    }
   ],
   "source": [
    "fs.plot_categories(cat)"
   ]
  },
  {
   "cell_type": "code",
   "execution_count": 52,
   "metadata": {
    "ExecuteTime": {
     "end_time": "2020-06-24T01:48:59.060286Z",
     "start_time": "2020-06-24T01:48:59.039332Z"
    }
   },
   "outputs": [
    {
     "data": {
      "text/plain": [
       "<module 'UserFunc.DataPreProcess' from 'D:/gitln/WorkCode/Models\\\\UserFunc\\\\DataPreProcess.py'>"
      ]
     },
     "execution_count": 52,
     "metadata": {},
     "output_type": "execute_result"
    }
   ],
   "source": [
    "from imp import reload\n",
    "reload(uf.DataPreProcess)"
   ]
  },
  {
   "cell_type": "code",
   "execution_count": 57,
   "metadata": {
    "ExecuteTime": {
     "end_time": "2020-06-24T01:50:19.372099Z",
     "start_time": "2020-06-24T01:50:19.368142Z"
    }
   },
   "outputs": [],
   "source": [
    "import numpy as np"
   ]
  },
  {
   "cell_type": "code",
   "execution_count": 67,
   "metadata": {
    "ExecuteTime": {
     "end_time": "2020-06-24T01:53:02.953877Z",
     "start_time": "2020-06-24T01:53:02.948890Z"
    }
   },
   "outputs": [],
   "source": [
    "dta = np.random.randint(0,2,1000)\n",
    "dta[:10] = np.nan"
   ]
  },
  {
   "cell_type": "code",
   "execution_count": 61,
   "metadata": {
    "ExecuteTime": {
     "end_time": "2020-06-24T01:51:06.198504Z",
     "start_time": "2020-06-24T01:51:06.195512Z"
    }
   },
   "outputs": [],
   "source": [
    "import seaborn as sns"
   ]
  },
  {
   "cell_type": "code",
   "execution_count": 70,
   "metadata": {
    "ExecuteTime": {
     "end_time": "2020-06-24T01:54:11.013687Z",
     "start_time": "2020-06-24T01:54:11.004676Z"
    }
   },
   "outputs": [
    {
     "data": {
      "text/plain": [
       "ID              0\n",
       "位置              5\n",
       "出租方式        17562\n",
       "区               5\n",
       "卧室数量            0\n",
       "卫的数量            0\n",
       "厅的数量            0\n",
       "地铁站点        10516\n",
       "地铁线路        10516\n",
       "小区名             0\n",
       "小区房屋出租数量      103\n",
       "居住状态        17954\n",
       "总楼层             0\n",
       "房屋面积            0\n",
       "时间              0\n",
       "楼层              0\n",
       "装修情况        18129\n",
       "距离          10516\n",
       "Label           0\n",
       "dtype: int64"
      ]
     },
     "execution_count": 70,
     "metadata": {},
     "output_type": "execute_result"
    }
   ],
   "source": [
    "num.isnull().sum()"
   ]
  },
  {
   "cell_type": "code",
   "execution_count": 73,
   "metadata": {
    "ExecuteTime": {
     "end_time": "2020-06-24T01:54:45.599583Z",
     "start_time": "2020-06-24T01:54:45.383653Z"
    }
   },
   "outputs": [
    {
     "data": {
      "text/plain": [
       "<matplotlib.axes._subplots.AxesSubplot at 0x22ac8859e48>"
      ]
     },
     "execution_count": 73,
     "metadata": {},
     "output_type": "execute_result"
    },
    {
     "data": {
      "image/png": "[encoded data removed]",
      "text/plain": [
       "<Figure size 432x288 with 1 Axes>"
      ]
     },
     "metadata": {
      "needs_background": "light"
     },
     "output_type": "display_data"
    }
   ],
   "source": [
    "sns.distplot(num['Label'])"
   ]
  },
  {
   "cell_type": "code",
   "execution_count": null,
   "metadata": {},
   "outputs": [],
   "source": []
  }
 ],
 "metadata": {
  "kernelspec": {
   "display_name": "Python 3",
   "language": "python",
   "name": "python3"
  },
  "language_info": {
   "codemirror_mode": {
    "name": "ipython",
    "version": 3
   },
   "file_extension": ".py",
   "mimetype": "text/x-python",
   "name": "python",
   "nbconvert_exporter": "python",
   "pygments_lexer": "ipython3",
   "version": "3.7.5"
  },
  "toc": {
   "base_numbering": 1,
   "nav_menu": {},
   "number_sections": true,
   "sideBar": true,
   "skip_h1_title": false,
   "title_cell": "Table of Contents",
   "title_sidebar": "Contents",
   "toc_cell": false,
   "toc_position": {},
   "toc_section_display": true,
   "toc_window_display": false
  },
  "varInspector": {
   "cols": {
    "lenName": 16,
    "lenType": 16,
    "lenVar": 40
   },
   "kernels_config": {
    "python": {
     "delete_cmd_postfix": "",
     "delete_cmd_prefix": "del ",
     "library": "var_list.py",
     "varRefreshCmd": "print(var_dic_list())"
    },
    "r": {
     "delete_cmd_postfix": ") ",
     "delete_cmd_prefix": "rm(",
     "library": "var_list.r",
     "varRefreshCmd": "cat(var_dic_list()) "
    }
   },
   "types_to_exclude": [
    "module",
    "function",
    "builtin_function_or_method",
    "instance",
    "_Feature"
   ],
   "window_display": false
  }
 },
 "nbformat": 4,
 "nbformat_minor": 2
}
