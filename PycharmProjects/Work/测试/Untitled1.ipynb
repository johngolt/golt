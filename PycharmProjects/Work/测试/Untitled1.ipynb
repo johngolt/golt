{
 "cells": [
  {
   "cell_type": "code",
   "execution_count": 3,
   "metadata": {
    "ExecuteTime": {
     "end_time": "2020-06-23T09:05:09.881896Z",
     "start_time": "2020-06-23T09:05:09.875873Z"
    }
   },
   "outputs": [],
   "source": [
    "import pandas as pd\n",
    "import sklearn as skr\n",
    "import numpy as np\n",
    "import datetime\n",
    "import matplotlib.pyplot as plt\n",
    "import seaborn as sns\n",
    "from dateutil.relativedelta import relativedelta\n",
    "import os\n",
    "os.chdir('D:/Dataset/rent_forecast')\n",
    "import sys\n",
    "sys.path.append('D:/gitln/WorkCode/Models/')\n",
    "import UserFunc.DataPreProcess as Dprocess"
   ]
  },
  {
   "cell_type": "code",
   "execution_count": 4,
   "metadata": {
    "ExecuteTime": {
     "end_time": "2020-06-23T09:05:15.874199Z",
     "start_time": "2020-06-23T09:05:15.510444Z"
    }
   },
   "outputs": [],
   "source": [
    "df = pd.read_csv('train.csv')"
   ]
  },
  {
   "cell_type": "code",
   "execution_count": 6,
   "metadata": {
    "ExecuteTime": {
     "end_time": "2020-06-23T09:05:39.079722Z",
     "start_time": "2020-06-23T09:05:39.050626Z"
    }
   },
   "outputs": [],
   "source": [
    "df = df.sample(20000)"
   ]
  },
  {
   "cell_type": "code",
   "execution_count": 9,
   "metadata": {
    "ExecuteTime": {
     "end_time": "2020-06-23T09:06:29.816410Z",
     "start_time": "2020-06-23T09:06:29.812386Z"
    }
   },
   "outputs": [],
   "source": [
    "fs = Dprocess.FeatureStatistics()"
   ]
  },
  {
   "cell_type": "code",
   "execution_count": 11,
   "metadata": {
    "ExecuteTime": {
     "end_time": "2020-06-23T09:07:04.133685Z",
     "start_time": "2020-06-23T09:07:04.117730Z"
    }
   },
   "outputs": [],
   "source": [
    "num, cat = fs.split(df)"
   ]
  },
  {
   "cell_type": "code",
   "execution_count": 14,
   "metadata": {
    "ExecuteTime": {
     "end_time": "2020-06-23T09:07:35.801775Z",
     "start_time": "2020-06-23T09:07:35.701404Z"
    }
   },
   "outputs": [
    {
     "data": {
      "text/html": [
       "<div>\n",
       "<style scoped>\n",
       "    .dataframe tbody tr th:only-of-type {\n",
       "        vertical-align: middle;\n",
       "    }\n",
       "\n",
       "    .dataframe tbody tr th {\n",
       "        vertical-align: top;\n",
       "    }\n",
       "\n",
       "    .dataframe thead th {\n",
       "        text-align: right;\n",
       "    }\n",
       "</style>\n",
       "<table border=\"1\" class=\"dataframe\">\n",
       "  <thead>\n",
       "    <tr style=\"text-align: right;\">\n",
       "      <th></th>\n",
       "      <th>数据名</th>\n",
       "      <th>空值比例</th>\n",
       "      <th>类别数</th>\n",
       "      <th>高频类别</th>\n",
       "      <th>高频类别比例</th>\n",
       "      <th>负值比例</th>\n",
       "      <th>零值比例</th>\n",
       "    </tr>\n",
       "  </thead>\n",
       "  <tbody>\n",
       "    <tr>\n",
       "      <th>0</th>\n",
       "      <td>ID</td>\n",
       "      <td>0.00000</td>\n",
       "      <td>20000</td>\n",
       "      <td>138254.000000</td>\n",
       "      <td>0.00005</td>\n",
       "      <td>0.0</td>\n",
       "      <td>0.00000</td>\n",
       "    </tr>\n",
       "    <tr>\n",
       "      <th>1</th>\n",
       "      <td>位置</td>\n",
       "      <td>0.00020</td>\n",
       "      <td>148</td>\n",
       "      <td>52.000000</td>\n",
       "      <td>0.04350</td>\n",
       "      <td>0.0</td>\n",
       "      <td>0.00670</td>\n",
       "    </tr>\n",
       "    <tr>\n",
       "      <th>2</th>\n",
       "      <td>出租方式</td>\n",
       "      <td>0.87660</td>\n",
       "      <td>2</td>\n",
       "      <td>1.000000</td>\n",
       "      <td>0.11050</td>\n",
       "      <td>0.0</td>\n",
       "      <td>0.01290</td>\n",
       "    </tr>\n",
       "    <tr>\n",
       "      <th>3</th>\n",
       "      <td>区</td>\n",
       "      <td>0.00020</td>\n",
       "      <td>13</td>\n",
       "      <td>12.000000</td>\n",
       "      <td>0.19090</td>\n",
       "      <td>0.0</td>\n",
       "      <td>0.03460</td>\n",
       "    </tr>\n",
       "    <tr>\n",
       "      <th>4</th>\n",
       "      <td>卧室数量</td>\n",
       "      <td>0.00000</td>\n",
       "      <td>10</td>\n",
       "      <td>2.000000</td>\n",
       "      <td>0.40100</td>\n",
       "      <td>0.0</td>\n",
       "      <td>0.00015</td>\n",
       "    </tr>\n",
       "    <tr>\n",
       "      <th>5</th>\n",
       "      <td>卫的数量</td>\n",
       "      <td>0.00000</td>\n",
       "      <td>8</td>\n",
       "      <td>1.000000</td>\n",
       "      <td>0.76330</td>\n",
       "      <td>0.0</td>\n",
       "      <td>0.01235</td>\n",
       "    </tr>\n",
       "    <tr>\n",
       "      <th>6</th>\n",
       "      <td>厅的数量</td>\n",
       "      <td>0.00000</td>\n",
       "      <td>6</td>\n",
       "      <td>1.000000</td>\n",
       "      <td>0.54525</td>\n",
       "      <td>0.0</td>\n",
       "      <td>0.07985</td>\n",
       "    </tr>\n",
       "    <tr>\n",
       "      <th>7</th>\n",
       "      <td>地铁站点</td>\n",
       "      <td>0.52550</td>\n",
       "      <td>111</td>\n",
       "      <td>0.900000</td>\n",
       "      <td>0.01560</td>\n",
       "      <td>0.0</td>\n",
       "      <td>0.00000</td>\n",
       "    </tr>\n",
       "    <tr>\n",
       "      <th>8</th>\n",
       "      <td>地铁线路</td>\n",
       "      <td>0.52550</td>\n",
       "      <td>5</td>\n",
       "      <td>5.000000</td>\n",
       "      <td>0.13900</td>\n",
       "      <td>0.0</td>\n",
       "      <td>0.00000</td>\n",
       "    </tr>\n",
       "    <tr>\n",
       "      <th>9</th>\n",
       "      <td>小区名</td>\n",
       "      <td>0.00000</td>\n",
       "      <td>2971</td>\n",
       "      <td>5512.000000</td>\n",
       "      <td>0.00880</td>\n",
       "      <td>0.0</td>\n",
       "      <td>0.00000</td>\n",
       "    </tr>\n",
       "    <tr>\n",
       "      <th>10</th>\n",
       "      <td>小区房屋出租数量</td>\n",
       "      <td>0.00515</td>\n",
       "      <td>153</td>\n",
       "      <td>15.625000</td>\n",
       "      <td>0.03325</td>\n",
       "      <td>0.0</td>\n",
       "      <td>0.00000</td>\n",
       "    </tr>\n",
       "    <tr>\n",
       "      <th>11</th>\n",
       "      <td>居住状态</td>\n",
       "      <td>0.89800</td>\n",
       "      <td>3</td>\n",
       "      <td>3.000000</td>\n",
       "      <td>0.08580</td>\n",
       "      <td>0.0</td>\n",
       "      <td>0.00000</td>\n",
       "    </tr>\n",
       "    <tr>\n",
       "      <th>12</th>\n",
       "      <td>总楼层</td>\n",
       "      <td>0.00000</td>\n",
       "      <td>54</td>\n",
       "      <td>30.909091</td>\n",
       "      <td>0.09805</td>\n",
       "      <td>0.0</td>\n",
       "      <td>0.00020</td>\n",
       "    </tr>\n",
       "    <tr>\n",
       "      <th>13</th>\n",
       "      <td>房屋面积</td>\n",
       "      <td>0.00000</td>\n",
       "      <td>3681</td>\n",
       "      <td>140.681893</td>\n",
       "      <td>0.03805</td>\n",
       "      <td>0.0</td>\n",
       "      <td>0.00000</td>\n",
       "    </tr>\n",
       "    <tr>\n",
       "      <th>14</th>\n",
       "      <td>时间</td>\n",
       "      <td>0.00000</td>\n",
       "      <td>3</td>\n",
       "      <td>3.000000</td>\n",
       "      <td>0.37280</td>\n",
       "      <td>0.0</td>\n",
       "      <td>0.00000</td>\n",
       "    </tr>\n",
       "    <tr>\n",
       "      <th>15</th>\n",
       "      <td>楼层</td>\n",
       "      <td>0.00000</td>\n",
       "      <td>3</td>\n",
       "      <td>0.000000</td>\n",
       "      <td>0.38515</td>\n",
       "      <td>0.0</td>\n",
       "      <td>0.38515</td>\n",
       "    </tr>\n",
       "    <tr>\n",
       "      <th>16</th>\n",
       "      <td>装修情况</td>\n",
       "      <td>0.90635</td>\n",
       "      <td>6</td>\n",
       "      <td>2.000000</td>\n",
       "      <td>0.04680</td>\n",
       "      <td>0.0</td>\n",
       "      <td>0.00000</td>\n",
       "    </tr>\n",
       "    <tr>\n",
       "      <th>17</th>\n",
       "      <td>距离</td>\n",
       "      <td>0.52550</td>\n",
       "      <td>1060</td>\n",
       "      <td>53.500000</td>\n",
       "      <td>0.00505</td>\n",
       "      <td>0.0</td>\n",
       "      <td>0.00000</td>\n",
       "    </tr>\n",
       "    <tr>\n",
       "      <th>18</th>\n",
       "      <td>Label</td>\n",
       "      <td>0.00000</td>\n",
       "      <td>244</td>\n",
       "      <td>5.602716</td>\n",
       "      <td>0.07460</td>\n",
       "      <td>0.0</td>\n",
       "      <td>0.00000</td>\n",
       "    </tr>\n",
       "  </tbody>\n",
       "</table>\n",
       "</div>"
      ],
      "text/plain": [
       "         数据名     空值比例    类别数           高频类别   高频类别比例  负值比例     零值比例\n",
       "0         ID  0.00000  20000  138254.000000  0.00005   0.0  0.00000\n",
       "1         位置  0.00020    148      52.000000  0.04350   0.0  0.00670\n",
       "2       出租方式  0.87660      2       1.000000  0.11050   0.0  0.01290\n",
       "3          区  0.00020     13      12.000000  0.19090   0.0  0.03460\n",
       "4       卧室数量  0.00000     10       2.000000  0.40100   0.0  0.00015\n",
       "5       卫的数量  0.00000      8       1.000000  0.76330   0.0  0.01235\n",
       "6       厅的数量  0.00000      6       1.000000  0.54525   0.0  0.07985\n",
       "7       地铁站点  0.52550    111       0.900000  0.01560   0.0  0.00000\n",
       "8       地铁线路  0.52550      5       5.000000  0.13900   0.0  0.00000\n",
       "9        小区名  0.00000   2971    5512.000000  0.00880   0.0  0.00000\n",
       "10  小区房屋出租数量  0.00515    153      15.625000  0.03325   0.0  0.00000\n",
       "11      居住状态  0.89800      3       3.000000  0.08580   0.0  0.00000\n",
       "12       总楼层  0.00000     54      30.909091  0.09805   0.0  0.00020\n",
       "13      房屋面积  0.00000   3681     140.681893  0.03805   0.0  0.00000\n",
       "14        时间  0.00000      3       3.000000  0.37280   0.0  0.00000\n",
       "15        楼层  0.00000      3       0.000000  0.38515   0.0  0.38515\n",
       "16      装修情况  0.90635      6       2.000000  0.04680   0.0  0.00000\n",
       "17        距离  0.52550   1060      53.500000  0.00505   0.0  0.00000\n",
       "18     Label  0.00000    244       5.602716  0.07460   0.0  0.00000"
      ]
     },
     "execution_count": 14,
     "metadata": {},
     "output_type": "execute_result"
    }
   ],
   "source": [
    "fs.describe_num(num)"
   ]
  },
  {
   "cell_type": "code",
   "execution_count": 16,
   "metadata": {
    "ExecuteTime": {
     "end_time": "2020-06-23T09:32:30.363487Z",
     "start_time": "2020-06-23T09:32:30.343543Z"
    }
   },
   "outputs": [
    {
     "data": {
      "text/plain": [
       "<module 'UserFunc.DataPreProcess' from 'D:/gitln/WorkCode/Models\\\\UserFunc\\\\DataPreProcess.py'>"
      ]
     },
     "execution_count": 16,
     "metadata": {},
     "output_type": "execute_result"
    }
   ],
   "source": [
    "from imp import reload\n",
    "reload(Dprocess)"
   ]
  },
  {
   "cell_type": "code",
   "execution_count": null,
   "metadata": {},
   "outputs": [],
   "source": [
    "Dprocess."
   ]
  }
 ],
 "metadata": {
  "kernelspec": {
   "display_name": "Python 3",
   "language": "python",
   "name": "python3"
  },
  "language_info": {
   "codemirror_mode": {
    "name": "ipython",
    "version": 3
   },
   "file_extension": ".py",
   "mimetype": "text/x-python",
   "name": "python",
   "nbconvert_exporter": "python",
   "pygments_lexer": "ipython3",
   "version": "3.7.5"
  },
  "toc": {
   "base_numbering": 1,
   "nav_menu": {},
   "number_sections": true,
   "sideBar": true,
   "skip_h1_title": false,
   "title_cell": "Table of Contents",
   "title_sidebar": "Contents",
   "toc_cell": false,
   "toc_position": {},
   "toc_section_display": true,
   "toc_window_display": false
  },
  "varInspector": {
   "cols": {
    "lenName": 16,
    "lenType": 16,
    "lenVar": 40
   },
   "kernels_config": {
    "python": {
     "delete_cmd_postfix": "",
     "delete_cmd_prefix": "del ",
     "library": "var_list.py",
     "varRefreshCmd": "print(var_dic_list())"
    },
    "r": {
     "delete_cmd_postfix": ") ",
     "delete_cmd_prefix": "rm(",
     "library": "var_list.r",
     "varRefreshCmd": "cat(var_dic_list()) "
    }
   },
   "types_to_exclude": [
    "module",
    "function",
    "builtin_function_or_method",
    "instance",
    "_Feature"
   ],
   "window_display": false
  }
 },
 "nbformat": 4,
 "nbformat_minor": 2
}
