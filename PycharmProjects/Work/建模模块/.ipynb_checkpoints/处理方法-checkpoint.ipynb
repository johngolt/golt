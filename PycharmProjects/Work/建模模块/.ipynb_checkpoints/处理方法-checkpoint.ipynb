{
 "cells": [
  {
   "cell_type": "code",
   "execution_count": 1,
   "metadata": {
    "ExecuteTime": {
     "end_time": "2019-09-24T02:07:56.840872Z",
     "start_time": "2019-09-24T02:07:54.709773Z"
    }
   },
   "outputs": [],
   "source": [
    "import numpy as np\n",
    "import pandas as pd\n",
    "import os \n",
    "import seaborn as sns\n",
    "import matplotlib.pyplot as plt\n",
    "from sklearn.preprocessing import StandardScaler\n",
    "from sklearn.decomposition import PCA\n",
    "from statsmodels.stats.outliers_influence import variance_inflation_factor \n",
    "import warnings\n",
    "warnings.filterwarnings('ignore')"
   ]
  },
  {
   "cell_type": "markdown",
   "metadata": {},
   "source": [
    "#### 时间序列处理"
   ]
  },
  {
   "cell_type": "code",
   "execution_count": null,
   "metadata": {},
   "outputs": [],
   "source": [
    "data1_train['d1'] = pd.to_datetime(data1_train['d1'], format='%Y-%m-%d')\n",
    "data1_train['d2'] = pd.to_datetime(data1_train['d2'],format='%Y-%m-%d')\n",
    "data1_train['gap'] = (data1_train['d2']-data1_train['d1']).dt.days"
   ]
  },
  {
   "cell_type": "code",
   "execution_count": null,
   "metadata": {},
   "outputs": [],
   "source": [
    "for p in g.patches:  # 柱状图加注释\n",
    "    height = p.get_height()\n",
    "    sizes.append(height)\n",
    "    g.text(p.get_x()+p.get_width()/2.,height + 3,'{:1.2f}%'.format(\n",
    "        height/total*100),ha=\"center\", fontsize=14)"
   ]
  },
  {
   "cell_type": "markdown",
   "metadata": {},
   "source": [
    "### 缺失值处理\n",
    "#### 填补"
   ]
  },
  {
   "cell_type": "code",
   "execution_count": null,
   "metadata": {},
   "outputs": [],
   "source": [
    "# 用随机森林对缺失值预测填充函数\n",
    "def set_missing(df,fill_column=None,rfr=None):\n",
    "    if not rfr:\n",
    "        rfr = RandomForestRegressor(random_state=0,\n",
    "                                n_estimators=200,max_depth=3,n_jobs=-1)\n",
    "    known = df[df[fill_column].notnull()]\n",
    "    unknown = df[df[fill_column].isnull()]\n",
    "    X = known.pop(fill_column).values\n",
    "    y = known.values\n",
    "    y_test = unknown.pop(fill_column)\n",
    "    X_test = unknown.values\n",
    "    rfr.fit(X,y)\n",
    "    predicted = rfr.predict(X_test).round(0)\n",
    "    df.loc[(df[fill_column].isnull()), fill_column] = predicted\n",
    "    return df"
   ]
  },
  {
   "cell_type": "markdown",
   "metadata": {},
   "source": [
    "### 类别特征编码"
   ]
  },
  {
   "cell_type": "code",
   "execution_count": null,
   "metadata": {},
   "outputs": [],
   "source": [
    "def factor_encode(data):\n",
    "    map_dict = {}\n",
    "    for each in data.columns[:-1]:\n",
    "        piv = pd.pivot_table(data, values='SalePrice',\n",
    "                             index=each, aggfunc='mean')\n",
    "        piv = piv.sort_values(by='SalePrice')\n",
    "        piv['rank'] = np.arange(1, piv.shape[0] + 1)\n",
    "        map_dict[each] = piv['rank'].to_dict()\n",
    "    return map_dict\n",
    "'''对于编码之后的类别特征还可以采用数值特征的处理方式在进行一次处理。如对其进行\n",
    "相关性分析和共线性检验，以及共线性处理。'''"
   ]
  },
  {
   "cell_type": "code",
   "execution_count": null,
   "metadata": {},
   "outputs": [],
   "source": [
    "# Encoding Date features\n",
    "def date_cyc_enc(df, col, max_vals):\n",
    "    df[col + '_sin'] = np.sin(2 * np.pi * df[col]/max_vals)\n",
    "    df[col + '_cos'] = np.cos(2 * np.pi * df[col]/max_vals)\n",
    "    return df\n",
    "\n",
    "df_train = date_cyc_enc(df_train, 'day', 7)\n",
    "df_train = date_cyc_enc(df_train, 'month', 12)"
   ]
  },
  {
   "cell_type": "markdown",
   "metadata": {},
   "source": [
    "### 特征选择\n",
    "#### 树模型进行特征选择"
   ]
  },
  {
   "cell_type": "code",
   "execution_count": null,
   "metadata": {},
   "outputs": [],
   "source": [
    "def feature(X, y, N=9, clf=None):\n",
    "    if not clf:\n",
    "        clf = RandomForestClassifier(max_depth=5, random_state=0)\n",
    "    clf.fit(X,y)\n",
    "    importances = list(clf.feature_importances_)\n",
    "    results = sorted(zip(importances,X.columns), key=lambda x: x[0])\n",
    "    return results[:N]"
   ]
  },
  {
   "cell_type": "markdown",
   "metadata": {},
   "source": [
    "### 模型调参"
   ]
  },
  {
   "cell_type": "code",
   "execution_count": null,
   "metadata": {},
   "outputs": [],
   "source": [
    "class SelectHyperParameter():\n",
    "    '''estimator:进行超参数调节的模型，params:需要调参的参数，score:得分函数,\n",
    "    n:最大迭代次数'''\n",
    "    def __init__(self, estimator, params, n=20, score=None):\n",
    "        self.estimator = estimator #模型\n",
    "        self.params = params  # 调节参数\n",
    "        self.n = n # 最大迭代次数\n",
    "        self.score = score # 评分函数\n",
    "        self.res = {} \n",
    "        self.temp = self.estimator.get_params()\n",
    "    def isequal(self):\n",
    "        if not(isinstance(self.res,dict) and isinstance(self.temp,dict)):\n",
    "            return False\n",
    "        keys = set(self.res.keys()).union(self.temp.keys())\n",
    "        for key in keys:\n",
    "            if self.res.get(key,-1) != self.temp.get(key, -1):\n",
    "                return False\n",
    "        return True\n",
    "    def search(self, X, y):\n",
    "        i = 0\n",
    "        while i<=self.n and not(self.isequal()):\n",
    "            self.res = self.temp\n",
    "            for each in self.params:\n",
    "                grid = GridSearchCV(self.estimator,\n",
    "                                    param_grid={each:self.params[each]},\n",
    "                                   scoring=self.score, cv=5,iid=True)\n",
    "                grid.fit(X, y)\n",
    "                self.temp = grid.best_estimator_.get_params()\n",
    "                self.estimator = grid.best_estimator_\n",
    "            i += 1\n",
    "        return self.estimator, self.temp, grid.best_score_\n",
    "    def __call__(self, X, y):\n",
    "        return self.search(X,y)"
   ]
  },
  {
   "cell_type": "markdown",
   "metadata": {},
   "source": [
    "### 模型评估"
   ]
  },
  {
   "cell_type": "code",
   "execution_count": 106,
   "metadata": {
    "ExecuteTime": {
     "end_time": "2019-09-24T06:52:39.144855Z",
     "start_time": "2019-09-24T06:52:39.130878Z"
    }
   },
   "outputs": [],
   "source": [
    "# 绘制AUC和KS图\n",
    "from sklearn.metrics import roc_curve, auc\n",
    "def model_validation(y_test, y_pred):\n",
    "    fpr,tpr,threshold = roc_curve(y_test,y_pred, drop_intermediate=False) ###计算真正率和假正率  \n",
    "    roc_auc = auc(fpr,tpr) # 计算AUC值\n",
    "    fig, (ax1, ax2) = plt.subplots(2,1)\n",
    "    fig.set_figheight(10)\n",
    "    fig.set_figwidth(10)\n",
    "    ax1.plot(fpr,tpr,color='darkorange', lw=2, \n",
    "             label='ROC Curve(area=%0.2f)'%roc_auc)\n",
    "    ax1.plot([0,1], [0,1], color='navy',lw=2,linestyle='--')\n",
    "    ax1.set_xlim(0,1)\n",
    "    ax1.set_ylim(0,1.05)\n",
    "    ax1.set_xlabel('False Positive Rate')\n",
    "    ax1.set(xlabel='False Positve Rate',ylabel='True Positive Rate',\n",
    "           title='ROC')\n",
    "    ax1.legend(loc='lower right')\n",
    "    index = (tpr-fpr).argmax()\n",
    "    ax2.plot(threshold, 1-tpr, label='tpr')\n",
    "    ax2.plot(threshold, 1-fpr, label='fpr')\n",
    "    ax2.plot(threshold, tpr-fpr, label='KS %0.2f'%(tpr-fpr)[index],\n",
    "             linestyle='--')\n",
    "    ax2.vlines(threshold[index],1-fpr[index],1-tpr[index])\n",
    "    \n",
    "    ax2.set(xlabel='score')\n",
    "    ax2.set_xlim(0,1)\n",
    "    ax2.set_title('KS Curve')\n",
    "    ax2.legend(loc='upper left', shadow=True, fontsize='x-large')\n",
    "    return roc_auc,(tpr-fpr).max()"
   ]
  },
  {
   "cell_type": "code",
   "execution_count": null,
   "metadata": {
    "ExecuteTime": {
     "end_time": "2019-09-24T06:42:50.580184Z",
     "start_time": "2019-09-24T06:42:50.525511Z"
    }
   },
   "outputs": [],
   "source": [
    "model = lgb.train(param, trn_data, 750, valid_sets = [trn_data,val_data],\n",
    "    verbose_eval=False, evals_result=evals_result)      \n",
    "x = evals_result['valid_1']['auc']\n",
    "best = x.index(max(x))\n",
    "model = xgb.train(params, tdata,num_boost_round=50, \n",
    "            evals = [(tdata,'train'), (vdata,'valid')], \n",
    "        verbose_eval=False, evals_result=evals_result)\n",
    "x=evals_result['valid']['auc']\n",
    "model.predict(valid[features], num_iteration=best)\n",
    "\n",
    "def model_fit(estimator, X, y):\n",
    "    roundXGB,train_auc,validation_auc,best_iteration = [], [], [], []\n",
    "    skf = StratifiedKFold (n_splits=5, shuffle=True, random_state=8)\n",
    "    for i,(train_index, validation_index) in enumerate(skf.split(X.values,\n",
    "                                               y.values)): \n",
    "        Xt,yt = X.values[train_index],y.values[train_index]\n",
    "        Xv,yv = X.values[validation_index],y.values[validation_index]\n",
    "        model = clone(estimator)\n",
    "        model.fit(Xt, yt, eval_set=[(Xt,yt),( Xv,yv)],\n",
    "                   eval_metric=[\"auc\"],\n",
    "                   early_stopping_rounds=10, verbose=False)\n",
    "        score = model.best_score\n",
    "        roundXGB.append(i+1)\n",
    "        train_auc.append(model.evals_result()['validation_0']['auc'][\n",
    "            model.best_iteration])\n",
    "        validation_auc.append(model.evals_result(\n",
    "                )[\"validation_1\"][\"auc\"][model.best_iteration])\n",
    "        best_iteration.append(model.best_iteration)\n",
    "    d = {\"model_num\":roundXGB, \"train_auc\": train_auc , \n",
    "              \"validation_auc\": validation_auc , \n",
    "             \"best_iteration\": best_iteration}\n",
    "    auc_result = pd.DataFrame(d,index=[1,2,3,4,5])\n",
    "    return auc_result"
   ]
  }
 ],
 "metadata": {
  "kernelspec": {
   "display_name": "Python 3",
   "language": "python",
   "name": "python3"
  },
  "language_info": {
   "codemirror_mode": {
    "name": "ipython",
    "version": 3
   },
   "file_extension": ".py",
   "mimetype": "text/x-python",
   "name": "python",
   "nbconvert_exporter": "python",
   "pygments_lexer": "ipython3",
   "version": "3.7.4"
  },
  "toc": {
   "base_numbering": 1,
   "nav_menu": {},
   "number_sections": true,
   "sideBar": true,
   "skip_h1_title": false,
   "title_cell": "Table of Contents",
   "title_sidebar": "Contents",
   "toc_cell": false,
   "toc_position": {},
   "toc_section_display": true,
   "toc_window_display": false
  },
  "varInspector": {
   "cols": {
    "lenName": 16,
    "lenType": 16,
    "lenVar": 40
   },
   "kernels_config": {
    "python": {
     "delete_cmd_postfix": "",
     "delete_cmd_prefix": "del ",
     "library": "var_list.py",
     "varRefreshCmd": "print(var_dic_list())"
    },
    "r": {
     "delete_cmd_postfix": ") ",
     "delete_cmd_prefix": "rm(",
     "library": "var_list.r",
     "varRefreshCmd": "cat(var_dic_list()) "
    }
   },
   "types_to_exclude": [
    "module",
    "function",
    "builtin_function_or_method",
    "instance",
    "_Feature"
   ],
   "window_display": false
  }
 },
 "nbformat": 4,
 "nbformat_minor": 2
}
