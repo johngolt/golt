{
 "cells": [
  {
   "cell_type": "code",
   "execution_count": 1,
   "metadata": {
    "ExecuteTime": {
     "end_time": "2020-07-29T06:12:06.936802Z",
     "start_time": "2020-07-29T06:12:05.974801Z"
    }
   },
   "outputs": [],
   "source": [
    "import torch as t\n",
    "from torch.utils.data import DataLoader\n",
    "import torchvision as tv"
   ]
  },
  {
   "cell_type": "markdown",
   "metadata": {},
   "source": [
    "#### 准备数据"
   ]
  },
  {
   "cell_type": "code",
   "execution_count": null,
   "metadata": {},
   "outputs": [],
   "source": [
    "transform = tv.transforms.Compose([tv.transforms.ToTensor(),\n",
    "                                  tv.transforms.Normalize((0.5,), (0.5,))])\n",
    "\n",
    "train_ts = tv.datasets.MNIST(root='./data', train=True, download=True, \n",
    "                             transform=transform)\n",
    "test_ts = tv.datasets.MNIST(root='./data', train=False, download=True, \n",
    "                            transform=transform)\n",
    "train_dl = DataLoader(train_ts, batch_size=32, shuffle=True, \n",
    "                      drop_last=False)\n",
    "test_dl = DataLoader(test_ts, batch_size=64, shuffle=True, \n",
    "                     drop_last=False)"
   ]
  },
  {
   "cell_type": "markdown",
   "metadata": {},
   "source": [
    "#### 定义模型"
   ]
  },
  {
   "cell_type": "code",
   "execution_count": null,
   "metadata": {},
   "outputs": [],
   "source": [
    "# 定义模型结构\n",
    "model = t.nn.Sequential(\n",
    "   t.nn.Linear(784, 100),\n",
    "   t.nn.ReLU(),\n",
    "   t.nn.Linear(100, 10),\n",
    "   t.nn.LogSoftmax(dim=1))\n",
    "#定义损失函数和优化函数\n",
    "loss_fn = t.nn.NLLLoss(reduction=\"mean\")\n",
    "optimizer = t.optim.Adam(model.parameters(), lr=1e-3)"
   ]
  },
  {
   "cell_type": "markdown",
   "metadata": {},
   "source": [
    "#### 训练模型"
   ]
  },
  {
   "cell_type": "code",
   "execution_count": null,
   "metadata": {},
   "outputs": [],
   "source": [
    "for s in range(5):\n",
    "    print(\"run in step : %d\"%s)\n",
    "    for i, (x_train, y_train) in enumerate(train_dl):\n",
    "        x_train = x_train.view(x_train.shape[0], -1)\n",
    "        y_pred = model(x_train)\n",
    "        train_loss = loss_fn(y_pred, y_train)\n",
    "        if (i + 1) % 100 == 0:\n",
    "            print(i + 1, train_loss.item())\n",
    "        model.zero_grad() # 梯度置为0\n",
    "        train_loss.backward() # 反向传播，计算梯度\n",
    "        optimizer.step() #更新参数"
   ]
  },
  {
   "cell_type": "markdown",
   "metadata": {},
   "source": [
    "#### 评估模型"
   ]
  },
  {
   "cell_type": "code",
   "execution_count": null,
   "metadata": {},
   "outputs": [],
   "source": [
    "total = 0;\n",
    "correct_count = 0\n",
    "for test_images, test_labels in test_dl:\n",
    "    for i in range(len(test_labels)):\n",
    "        image = test_images[i].view(1, 784)\n",
    "        with t.no_grad():  \n",
    "            pred_labels = model(image)\n",
    "        plabels = t.exp(pred_labels)\n",
    "        probs = list(plabels.numpy()[0])\n",
    "        pred_label = probs.index(max(probs))\n",
    "        true_label = test_labels.numpy()[i]\n",
    "        if pred_label == true_label:\n",
    "            correct_count += 1\n",
    "        total += 1\n",
    "print(\"total acc : %.2f\\n\"%(correct_count / total))"
   ]
  },
  {
   "cell_type": "markdown",
   "metadata": {},
   "source": [
    "#### 使用模型"
   ]
  },
  {
   "cell_type": "code",
   "execution_count": null,
   "metadata": {},
   "outputs": [],
   "source": []
  },
  {
   "cell_type": "markdown",
   "metadata": {},
   "source": [
    "#### 模型保存"
   ]
  },
  {
   "cell_type": "code",
   "execution_count": null,
   "metadata": {},
   "outputs": [],
   "source": [
    "t.save(model, './nn_mnist_model.pt')"
   ]
  },
  {
   "cell_type": "markdown",
   "metadata": {},
   "source": [
    "#### 迁移学习"
   ]
  },
  {
   "cell_type": "code",
   "execution_count": null,
   "metadata": {},
   "outputs": [],
   "source": [
    "#Finetune the models\n",
    "model_ft = models.resnet18(pretrained=True)\n",
    "num_ftrs = model_ft.fc.in_features\n",
    "# Alternatively, it can be generalized to nn.Linear(num_ftrs, len(class_names)).\n",
    "model_ft.fc = nn.Linear(num_ftrs, 2)\n",
    "\n",
    "# 提取特征\n",
    "model_conv = torchvision.models.resnet18(pretrained=True)\n",
    "for param in model_conv.parameters():\n",
    "    param.requires_grad = False\n",
    "\n",
    "num_ftrs = model_conv.fc.in_features\n",
    "model_conv.fc = nn.Linear(num_ftrs, 2)"
   ]
  }
 ],
 "metadata": {
  "kernelspec": {
   "display_name": "Python 3",
   "language": "python",
   "name": "python3"
  },
  "language_info": {
   "codemirror_mode": {
    "name": "ipython",
    "version": 3
   },
   "file_extension": ".py",
   "mimetype": "text/x-python",
   "name": "python",
   "nbconvert_exporter": "python",
   "pygments_lexer": "ipython3",
   "version": "3.7.5"
  },
  "toc": {
   "base_numbering": 1,
   "nav_menu": {},
   "number_sections": true,
   "sideBar": true,
   "skip_h1_title": false,
   "title_cell": "Table of Contents",
   "title_sidebar": "Contents",
   "toc_cell": false,
   "toc_position": {},
   "toc_section_display": true,
   "toc_window_display": false
  },
  "varInspector": {
   "cols": {
    "lenName": 16,
    "lenType": 16,
    "lenVar": 40
   },
   "kernels_config": {
    "python": {
     "delete_cmd_postfix": "",
     "delete_cmd_prefix": "del ",
     "library": "var_list.py",
     "varRefreshCmd": "print(var_dic_list())"
    },
    "r": {
     "delete_cmd_postfix": ") ",
     "delete_cmd_prefix": "rm(",
     "library": "var_list.r",
     "varRefreshCmd": "cat(var_dic_list()) "
    }
   },
   "types_to_exclude": [
    "module",
    "function",
    "builtin_function_or_method",
    "instance",
    "_Feature"
   ],
   "window_display": false
  }
 },
 "nbformat": 4,
 "nbformat_minor": 2
}
