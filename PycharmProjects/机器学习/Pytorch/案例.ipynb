{
 "cells": [
  {
   "cell_type": "code",
   "execution_count": null,
   "metadata": {},
   "outputs": [],
   "source": [
    "# 基于循环神经网络实现mnist手写数字识别。\n",
    "class RNN_Net(t.nn.Module):\n",
    "    def __init__(self):\n",
    "        super(RNN_Net, self).__init__()\n",
    "        self.rnn_layers = t.nn.RNN(input_size=28, hidden_size=100, \n",
    "                                   num_layers=2, batch_first=True)\n",
    "        self.out_layer = t.nn.Linear(100, 10)\n",
    "\n",
    "    def forward(self, x):\n",
    "        r_out, hn = self.rnn_layers(x, None)\n",
    "        out = self.out_layer(r_out[:, -1, :])\n",
    "        return out\n",
    "    \n",
    "    \n",
    "class LSTM_Net(t.nn.Module):\n",
    "    def __init__(self):\n",
    "        super(LSTM_Net, self).__init__()\n",
    "        self.rnn_layers = t.nn.LSTM(input_size=28, hidden_size=64, \n",
    "                                    num_layers=1, batch_first=True)\n",
    "        self.out_layer = t.nn.Linear(64, 10)\n",
    "\n",
    "    def forward(self, x):\n",
    "        r_out, hn = self.rnn_layers(x, None)\n",
    "        out = self.out_layer(r_out[:, -1, :])\n",
    "        return out\n",
    "    \n",
    "rnn_model = LSTM_Net()\n",
    "print(rnn_model)\n",
    "optimizer = t.optim.Adam(rnn_model.parameters(), lr=0.001)\n",
    "loss_fn = t.nn.CrossEntropyLoss()\n",
    "\n",
    "for epoch in range(2):\n",
    "    for i, (x_train, y_train) in enumerate(train_dl):\n",
    "        x_train = x_train.view(-1, 28, 28)\n",
    "        y_pred = rnn_model(x_train)\n",
    "        train_loss = loss_fn(y_pred, y_train)\n",
    "        optimizer.zero_grad()\n",
    "        train_loss.backward()\n",
    "        optimizer.step()\n",
    "        if (i + 1) % 50 == 0:\n",
    "            print(i + 1, train_loss.item())\n",
    "\n",
    "total = 0\n",
    "correct_count = 0\n",
    "for test_images, test_labels in test_dl:\n",
    "    for i in range(len(test_labels)):\n",
    "        image = test_images[i].view(1, 28, 28)\n",
    "        with t.no_grad():\n",
    "            pred_labels = rnn_model(image)\n",
    "        probs = list(pred_labels.numpy()[0])\n",
    "        pred_label = probs.index(max(probs))\n",
    "        true_label = test_labels.numpy()[i]\n",
    "        if pred_label == true_label:\n",
    "            correct_count += 1\n",
    "        total += 1\n",
    "print(\"total acc : %.2f\\n\"%(correct_count / total))\n",
    "t.save(rnn_model, './rnn_mnist_model.pt')"
   ]
  }
 ],
 "metadata": {
  "kernelspec": {
   "display_name": "Python 3",
   "language": "python",
   "name": "python3"
  },
  "language_info": {
   "codemirror_mode": {
    "name": "ipython",
    "version": 3
   },
   "file_extension": ".py",
   "mimetype": "text/x-python",
   "name": "python",
   "nbconvert_exporter": "python",
   "pygments_lexer": "ipython3",
   "version": "3.7.5"
  },
  "toc": {
   "base_numbering": 1,
   "nav_menu": {},
   "number_sections": true,
   "sideBar": true,
   "skip_h1_title": false,
   "title_cell": "Table of Contents",
   "title_sidebar": "Contents",
   "toc_cell": false,
   "toc_position": {},
   "toc_section_display": true,
   "toc_window_display": false
  },
  "varInspector": {
   "cols": {
    "lenName": 16,
    "lenType": 16,
    "lenVar": 40
   },
   "kernels_config": {
    "python": {
     "delete_cmd_postfix": "",
     "delete_cmd_prefix": "del ",
     "library": "var_list.py",
     "varRefreshCmd": "print(var_dic_list())"
    },
    "r": {
     "delete_cmd_postfix": ") ",
     "delete_cmd_prefix": "rm(",
     "library": "var_list.r",
     "varRefreshCmd": "cat(var_dic_list()) "
    }
   },
   "types_to_exclude": [
    "module",
    "function",
    "builtin_function_or_method",
    "instance",
    "_Feature"
   ],
   "window_display": false
  }
 },
 "nbformat": 4,
 "nbformat_minor": 2
}
