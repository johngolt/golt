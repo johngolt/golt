{
 "cells": [
  {
   "cell_type": "code",
   "execution_count": null,
   "metadata": {},
   "outputs": [],
   "source": [
    "'''完整的利用embeddding处理类别特征的程序。'''\n",
    "import numpy as np\n",
    "import tensorflow as tf\n",
    "import random as rn\n",
    " \n",
    "#random seeds for stochastic parts of neural network \n",
    "np.random.seed(10)\n",
    "from tensorflow import set_random_seed\n",
    "set_random_seed(15)\n",
    " \n",
    "from keras.models import Model\n",
    "from keras.layers import Input, Dense, Concatenate, Reshape, Dropout\n",
    "from keras.layers.embeddings import Embedding\n",
    "  \n",
    "# 保证神经网络结果的复现\n",
    "import os\n",
    "os.environ['PYTHONHASHSEED'] = '0'\n",
    " \n",
    "np.random.seed(42)\n",
    " \n",
    "rn.seed(12345)\n",
    " \n",
    "session_conf = tf.ConfigProto(intra_op_parallelism_threads=1, \n",
    "                              inter_op_parallelism_threads=1)\n",
    " \n",
    "from keras import backend as K\n",
    " \n",
    "tf.set_random_seed(1234)\n",
    " \n",
    "sess = tf.Session(graph=tf.get_default_graph(), config=session_conf)\n",
    "K.set_session(sess)\n",
    " \n",
    "# 记录类别特征embedding后的维度。key为类别特征索引，value为embedding后的维度\n",
    "cate_embedding_dimension = {'0':3, '1':2}\n",
    "   \n",
    "def build_embedding_network():\n",
    "    # 以网络结构embeddding层在前，dense层在后。即训练集的X必须以分类特征在前，连续特征在后。\n",
    "    inputs = []\n",
    "    embeddings = []\n",
    "    \n",
    "    \n",
    "    input_cate_feature_1 = Input(shape=(1,))\n",
    "    embedding = Embedding(10, 3, input_length=1)(input_cate_feature_1)\n",
    "    # embedding后是10*1*3，为了后续计算方便，因此使用Reshape转为10*3\n",
    "    embedding = Reshape(target_shape=(3,))(embedding)\n",
    "    inputs.append(input_cate_feature_1)\n",
    "    embeddings.append(embedding)\n",
    "    \n",
    "    input_cate_feature_2 = Input(shape=(1,))\n",
    "    embedding = Embedding(4, 2, input_length=1)(input_cate_feature_2)\n",
    "    embedding = Reshape(target_shape=(2,))(embedding)\n",
    "    inputs.append(input_cate_feature_2)\n",
    "    embeddings.append(embedding)\n",
    "    \n",
    "    input_numeric = Input(shape=(1,))\n",
    "    embedding_numeric = Dense(16)(input_numeric) \n",
    "    inputs.append(input_numeric)\n",
    "    embeddings.append(embedding_numeric)\n",
    "\n",
    "    x = Concatenate()(embeddings)\n",
    "    x = Dense(10, activation='relu')(x)\n",
    "    x = Dropout(.15)(x)\n",
    "    output = Dense(1, activation='sigmoid')(x)\n",
    "    \n",
    "    model = Model(inputs, output)\n",
    "\n",
    "    model.compile(loss='binary_crossentropy', optimizer='adam')\n",
    "    \n",
    "    return model"
   ]
  },
  {
   "cell_type": "code",
   "execution_count": null,
   "metadata": {},
   "outputs": [],
   "source": [
    "all_variables = shared_vars + a_vars + b_vars\n",
    "all_gradients = tf.gradients(loss, all_variables)\n",
    "\n",
    "shared_subnet_gradients = all_gradients[:len(shared_vars)]\n",
    "a_gradients = all_gradients[len(shared_vars):len(shared_vars + a_vars)]\n",
    "b_gradients = all_gradients[len(shared_vars + a_vars):]\n",
    "\n",
    "shared_subnet_optimizer = tf.train.AdamOptimizer(shared_learning_rate)\n",
    "a_optimizer = tf.train.AdamOptimizer(a_learning_rate)\n",
    "b_optimizer = tf.train.AdamOptimizer(b_learning_rate)\n",
    "\n",
    "train_shared_op = shared_subnet_optimizer.apply_gradients(zip(shared_subnet_gradients, shared_vars))\n",
    "train_a_op = a_optimizer.apply_gradients(zip(a_gradients, a_vars))\n",
    "train_b_op = b_optimizer.apply_gradients(zip(b_gradients, b_vars))\n",
    "\n",
    "train_op = tf.group(train_shared_op, train_a_op, train_b_op)    "
   ]
  }
 ],
 "metadata": {
  "kernelspec": {
   "display_name": "Python 3",
   "language": "python",
   "name": "python3"
  },
  "language_info": {
   "codemirror_mode": {
    "name": "ipython",
    "version": 3
   },
   "file_extension": ".py",
   "mimetype": "text/x-python",
   "name": "python",
   "nbconvert_exporter": "python",
   "pygments_lexer": "ipython3",
   "version": "3.7.4"
  },
  "toc": {
   "base_numbering": 1,
   "nav_menu": {},
   "number_sections": true,
   "sideBar": true,
   "skip_h1_title": false,
   "title_cell": "Table of Contents",
   "title_sidebar": "Contents",
   "toc_cell": false,
   "toc_position": {},
   "toc_section_display": true,
   "toc_window_display": false
  },
  "varInspector": {
   "cols": {
    "lenName": 16,
    "lenType": 16,
    "lenVar": 40
   },
   "kernels_config": {
    "python": {
     "delete_cmd_postfix": "",
     "delete_cmd_prefix": "del ",
     "library": "var_list.py",
     "varRefreshCmd": "print(var_dic_list())"
    },
    "r": {
     "delete_cmd_postfix": ") ",
     "delete_cmd_prefix": "rm(",
     "library": "var_list.r",
     "varRefreshCmd": "cat(var_dic_list()) "
    }
   },
   "types_to_exclude": [
    "module",
    "function",
    "builtin_function_or_method",
    "instance",
    "_Feature"
   ],
   "window_display": false
  }
 },
 "nbformat": 4,
 "nbformat_minor": 2
}
