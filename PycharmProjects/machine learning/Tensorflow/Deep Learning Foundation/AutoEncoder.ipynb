{
 "cells": [
  {
   "cell_type": "code",
   "execution_count": 1,
   "metadata": {
    "ExecuteTime": {
     "end_time": "2019-02-21T12:59:32.672268Z",
     "start_time": "2019-02-21T12:58:52.109418Z"
    }
   },
   "outputs": [],
   "source": [
    "import numpy as np\n",
    "import tensorflow as tf\n",
    "import matplotlib.pyplot as plt\n",
    "%matplotlib inline\n",
    "\n",
    "import warnings\n",
    "warnings.filterwarnings('ignore')\n",
    "from tensorflow.examples.tutorials.mnist import input_data\n",
    "mnist = input_data.read_data_sets('MNIST_data', validation_size = 0)\n"
   ]
  },
  {
   "cell_type": "code",
   "execution_count": null,
   "metadata": {},
   "outputs": [],
   "source": [
    "inputs_ = tf.placeholder(tf.float32, (None, 28, 28, 1), name = 'inputs_')\n",
    "targets_ = tf.placeholder(tf.float32, (None, 28, 28, 1)), name = 'targets_'\n",
    "conv1 = tf.layers.conv2d(inputs_, 16, (3, 3), padding = 'same', activation = tf.nn.relu)\n",
    "maxpool1 = tf.layers.max_pooling2d(conv1, (2, 2), (2, 2), padding = 'same')\n",
    "conv2 = tf.layers.conv2d(maxpool1, 8, (3, 3), padding = 'same', activation = tf.nn.relu)\n",
    "maxpool2 = tf.layers.max_pooling2d(conv2, (2, 2), (2, 2), padding = 'same')\n",
    "conv3 = tf.layers.conv2d(maxpool2, 8, (3, 3), padding = 'same', activation = tf.nn.relu)\n",
    "encoded = tf.layers.max_pooling2d(conv3, (2, 2), (2, 2), padding = 'same')\n",
    "\n",
    "upsample1 = tf.image.resize_nearest_neighbor(encoded, (7, 7))\n",
    "conv4 = tf.layers.conv2d(upsample1, 8, (3, 3), padding = 'same', activation = tf.nn.relu)\n",
    "upsample2 = tf.image.resize_nearest_neighbor(\n",
    "conv4, (14, 14))#Resize `images` to `size` using nearest neighbor interpolation.\n",
    "conv5 = tf.layers.conv2d(upsample2, 8, (3, 3), padding = 'same', activation = tf.nn.relu)\n",
    "upsample3 = tf.image.resize_nearest_neighbor(conv5, (28, 28))\n",
    "conv6 = tf.layers.conv2d(upsample3, 16, (3, 3), padding = 'same', activation = tf.nn.relu)\n",
    "logits = tf.layers.conv2d(conv6, 1, (3, 3), padding = 'same', activation = None)\n",
    "decoded = tf.nn.sigmoid(logits, name ='decoded')\n",
    "loss = tf.nn.sigmoid_cross_entropy_with_logits(\n",
    "labels = targets_, logits = logits)\n",
    "cost = tf.reduce_mean(loss)\n",
    "opt = tf.train.AdamOptimizer(0.001).minimize(cost)\n",
    "\n",
    "\n",
    "epochs = 20\n",
    "batch_size = 200\n",
    "with tf.Session() as sess:\n",
    "    sess.run(tf.global_variables_initializer())\n",
    "    for e in range(epochs):\n",
    "        for i in range(mnist.train.num_examples//batch_size):\n",
    "            batch = mnist.train.next_batch(batch_size)\n",
    "            feed = {inputs:batch[0], target: batch[0]}\n",
    "            batch_cost, _ = sess.run([cost, opt], feed_dict = feed)\n",
    "            print('Epoch:{}/{}'.format(e + 1, epochs), \n",
    "                 'Training loss:{.4f}'.format(batch_cost))\n",
    "            "
   ]
  }
 ],
 "metadata": {
  "kernelspec": {
   "display_name": "Python 3",
   "language": "python",
   "name": "python3"
  },
  "language_info": {
   "codemirror_mode": {
    "name": "ipython",
    "version": 3
   },
   "file_extension": ".py",
   "mimetype": "text/x-python",
   "name": "python",
   "nbconvert_exporter": "python",
   "pygments_lexer": "ipython3",
   "version": "3.6.5"
  },
  "toc": {
   "base_numbering": 1,
   "nav_menu": {},
   "number_sections": true,
   "sideBar": true,
   "skip_h1_title": false,
   "title_cell": "Table of Contents",
   "title_sidebar": "Contents",
   "toc_cell": false,
   "toc_position": {},
   "toc_section_display": true,
   "toc_window_display": false
  },
  "varInspector": {
   "cols": {
    "lenName": 16,
    "lenType": 16,
    "lenVar": 40
   },
   "kernels_config": {
    "python": {
     "delete_cmd_postfix": "",
     "delete_cmd_prefix": "del ",
     "library": "var_list.py",
     "varRefreshCmd": "print(var_dic_list())"
    },
    "r": {
     "delete_cmd_postfix": ") ",
     "delete_cmd_prefix": "rm(",
     "library": "var_list.r",
     "varRefreshCmd": "cat(var_dic_list()) "
    }
   },
   "types_to_exclude": [
    "module",
    "function",
    "builtin_function_or_method",
    "instance",
    "_Feature"
   ],
   "window_display": false
  }
 },
 "nbformat": 4,
 "nbformat_minor": 2
}
