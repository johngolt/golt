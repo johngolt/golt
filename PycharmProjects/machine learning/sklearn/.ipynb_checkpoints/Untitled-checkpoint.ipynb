{
 "cells": [
  {
   "cell_type": "code",
   "execution_count": 1,
   "metadata": {
    "ExecuteTime": {
     "end_time": "2019-11-08T00:53:45.751968Z",
     "start_time": "2019-11-08T00:53:27.685269Z"
    }
   },
   "outputs": [],
   "source": [
    "from sklearn.datasets import load_iris\n",
    "from sklearn import ensemble\n",
    "import os\n",
    "os.chdir('C:/test/data')\n",
    "import pandas as pd\n",
    "df = pd.read_csv('diabetes.csv')\n",
    "\n",
    "y = df.pop('Outcome')"
   ]
  },
  {
   "cell_type": "code",
   "execution_count": 30,
   "metadata": {
    "ExecuteTime": {
     "end_time": "2019-11-07T01:32:59.684248Z",
     "start_time": "2019-11-07T01:32:43.355948Z"
    }
   },
   "outputs": [],
   "source": [
    "clf = ensemble.GradientBoostingClassifier(subsample=0.8)\n",
    "clf.fit(df,y)\n",
    "\n",
    "clf.n_estimators_,len(clf.oob_improvement_)\n",
    "\n",
    "for each in clf.staged_predict_proba(df.iloc[0:2,:]):\n",
    "    print(each)\n",
    "\n",
    "y[:2]"
   ]
  },
  {
   "cell_type": "code",
   "execution_count": 3,
   "metadata": {
    "ExecuteTime": {
     "end_time": "2019-11-08T00:55:07.170732Z",
     "start_time": "2019-11-08T00:55:06.391338Z"
    }
   },
   "outputs": [],
   "source": [
    "import xgboost as xgb\n",
    "import lightgbm as lgb"
   ]
  },
  {
   "cell_type": "code",
   "execution_count": 4,
   "metadata": {
    "ExecuteTime": {
     "end_time": "2019-11-08T00:55:07.219598Z",
     "start_time": "2019-11-08T00:55:07.212602Z"
    }
   },
   "outputs": [],
   "source": [
    "xclf = xgb.XGBClassifier()\n",
    "lclf = lgb.LGBMClassifier(num_leaves=10)"
   ]
  },
  {
   "cell_type": "code",
   "execution_count": 5,
   "metadata": {
    "ExecuteTime": {
     "end_time": "2019-11-08T00:55:09.095453Z",
     "start_time": "2019-11-08T00:55:08.801823Z"
    }
   },
   "outputs": [
    {
     "data": {
      "text/plain": [
       "LGBMClassifier(boosting_type='gbdt', class_weight=None, colsample_bytree=1.0,\n",
       "               importance_type='split', learning_rate=0.1, max_depth=-1,\n",
       "               min_child_samples=20, min_child_weight=0.001, min_split_gain=0.0,\n",
       "               n_estimators=100, n_jobs=-1, num_leaves=10, objective=None,\n",
       "               random_state=None, reg_alpha=0.0, reg_lambda=0.0, silent=True,\n",
       "               subsample=1.0, subsample_for_bin=200000, subsample_freq=0)"
      ]
     },
     "execution_count": 5,
     "metadata": {},
     "output_type": "execute_result"
    }
   ],
   "source": [
    "xclf.fit(df,y)\n",
    "lclf.fit(df,y)"
   ]
  },
  {
   "cell_type": "code",
   "execution_count": 7,
   "metadata": {
    "ExecuteTime": {
     "end_time": "2019-11-08T00:55:28.737470Z",
     "start_time": "2019-11-08T00:55:28.688453Z"
    }
   },
   "outputs": [],
   "source": [
    "x = xclf.get_booster()\n",
    "data = xgb.DMatrix(df)\n",
    "x.get_dump()[3]\n",
    "booster = lclf.booster_\n",
    "model = booster.dump_model()\n",
    "tree_infos = model['tree_info']\n",
    "tree_info = tree_infos[3]"
   ]
  },
  {
   "cell_type": "code",
   "execution_count": 9,
   "metadata": {
    "ExecuteTime": {
     "end_time": "2019-11-08T00:55:36.460714Z",
     "start_time": "2019-11-08T00:55:36.445726Z"
    }
   },
   "outputs": [
    {
     "data": {
      "text/plain": [
       "'0:[Glucose<128] yes=1,no=2,missing=1\\n\\t1:[Age<29] yes=3,no=4,missing=3\\n\\t\\t3:[BMI<45.4000015] yes=7,no=8,missing=7\\n\\t\\t\\t7:leaf=-0.167527676\\n\\t\\t\\t8:leaf=0.0500000007\\n\\t\\t4:[BMI<26.3500004] yes=9,no=10,missing=9\\n\\t\\t\\t9:leaf=-0.164444447\\n\\t\\t\\t10:leaf=-0.0395480208\\n\\t2:[BMI<29.9500008] yes=5,no=6,missing=5\\n\\t\\t5:[Glucose<146] yes=11,no=12,missing=11\\n\\t\\t\\t11:leaf=-0.12888889\\n\\t\\t\\t12:leaf=0.00512820529\\n\\t\\t6:[Glucose<158] yes=13,no=14,missing=13\\n\\t\\t\\t13:leaf=0.0420168079\\n\\t\\t\\t14:leaf=0.141666666\\n'"
      ]
     },
     "execution_count": 9,
     "metadata": {},
     "output_type": "execute_result"
    }
   ],
   "source": [
    "tree = x.get_dump()[0]\n",
    "tree"
   ]
  },
  {
   "cell_type": "code",
   "execution_count": 12,
   "metadata": {
    "ExecuteTime": {
     "end_time": "2019-11-08T01:44:48.308763Z",
     "start_time": "2019-11-08T01:44:48.303759Z"
    }
   },
   "outputs": [],
   "source": [
    "from sklearn.tree import DecisionTreeClassifier,export_text"
   ]
  },
  {
   "cell_type": "code",
   "execution_count": 14,
   "metadata": {
    "ExecuteTime": {
     "end_time": "2019-11-08T01:45:39.047170Z",
     "start_time": "2019-11-08T01:45:39.036175Z"
    }
   },
   "outputs": [
    {
     "data": {
      "text/plain": [
       "DecisionTreeClassifier(class_weight=None, criterion='gini', max_depth=3,\n",
       "                       max_features=None, max_leaf_nodes=None,\n",
       "                       min_impurity_decrease=0.0, min_impurity_split=None,\n",
       "                       min_samples_leaf=1, min_samples_split=2,\n",
       "                       min_weight_fraction_leaf=0.0, presort=False,\n",
       "                       random_state=None, splitter='best')"
      ]
     },
     "execution_count": 14,
     "metadata": {},
     "output_type": "execute_result"
    }
   ],
   "source": [
    "model = DecisionTreeClassifier(max_depth=3)\n",
    "model.fit(df,y)"
   ]
  },
  {
   "cell_type": "code",
   "execution_count": 15,
   "metadata": {
    "ExecuteTime": {
     "end_time": "2019-11-08T01:45:39.657214Z",
     "start_time": "2019-11-08T01:45:39.648254Z"
    }
   },
   "outputs": [
    {
     "data": {
      "text/plain": [
       "'|--- feature_1 <= 127.50\\n|   |--- feature_7 <= 28.50\\n|   |   |--- feature_5 <= 45.40\\n|   |   |   |--- class: 0\\n|   |   |--- feature_5 >  45.40\\n|   |   |   |--- class: 1\\n|   |--- feature_7 >  28.50\\n|   |   |--- feature_5 <= 26.35\\n|   |   |   |--- class: 0\\n|   |   |--- feature_5 >  26.35\\n|   |   |   |--- class: 0\\n|--- feature_1 >  127.50\\n|   |--- feature_5 <= 29.95\\n|   |   |--- feature_1 <= 145.50\\n|   |   |   |--- class: 0\\n|   |   |--- feature_1 >  145.50\\n|   |   |   |--- class: 1\\n|   |--- feature_5 >  29.95\\n|   |   |--- feature_1 <= 157.50\\n|   |   |   |--- class: 1\\n|   |   |--- feature_1 >  157.50\\n|   |   |   |--- class: 1\\n'"
      ]
     },
     "execution_count": 15,
     "metadata": {},
     "output_type": "execute_result"
    }
   ],
   "source": [
    "export_text(model)"
   ]
  },
  {
   "cell_type": "code",
   "execution_count": null,
   "metadata": {
    "ExecuteTime": {
     "end_time": "2019-11-08T01:46:21.371582Z",
     "start_time": "2019-11-08T01:46:21.357578Z"
    }
   },
   "outputs": [],
   "source": []
  },
  {
   "cell_type": "code",
   "execution_count": 29,
   "metadata": {
    "ExecuteTime": {
     "end_time": "2019-11-08T02:24:31.904684Z",
     "start_time": "2019-11-08T02:24:31.892683Z"
    }
   },
   "outputs": [
    {
     "name": "stdout",
     "output_type": "stream",
     "text": [
      "(1, '<=', 123.50000000000001)\n",
      "(7, '<=', 28.500000000000004)\n",
      "(4, '<=', 144.50000000000003)\n",
      "(4, '<=', 22.500000000000004)\n",
      "(5, '<=', 26.450000000000003)\n",
      "(1, '<=', 154.50000000000003)\n",
      "(7, '<=', 24.500000000000004)\n",
      "(5, '<=', 29.950000000000003)\n",
      "(6, '<=', 0.4015000000000001)\n"
     ]
    }
   ],
   "source": []
  },
  {
   "cell_type": "code",
   "execution_count": 31,
   "metadata": {
    "ExecuteTime": {
     "end_time": "2019-11-08T02:25:15.237318Z",
     "start_time": "2019-11-08T02:25:15.222314Z"
    }
   },
   "outputs": [
    {
     "data": {
      "text/plain": [
       "{'split_index': 0,\n",
       " 'split_feature': 1,\n",
       " 'split_gain': 74.63819885253906,\n",
       " 'threshold': 123.50000000000001,\n",
       " 'decision_type': '<=',\n",
       " 'default_left': True,\n",
       " 'missing_type': 'None',\n",
       " 'internal_value': 0,\n",
       " 'internal_count': 768,\n",
       " 'left_child': {'split_index': 2,\n",
       "  'split_feature': 7,\n",
       "  'split_gain': 15.515999794006348,\n",
       "  'threshold': 28.500000000000004,\n",
       "  'decision_type': '<=',\n",
       "  'default_left': True,\n",
       "  'missing_type': 'None',\n",
       "  'internal_value': -0.603679,\n",
       "  'internal_count': 446,\n",
       "  'left_child': {'leaf_index': 0,\n",
       "   'leaf_value': -0.0975887674959255,\n",
       "   'leaf_count': 254},\n",
       "  'right_child': {'split_index': 3,\n",
       "   'split_feature': 4,\n",
       "   'split_gain': 11.591699600219727,\n",
       "   'threshold': 144.50000000000003,\n",
       "   'decision_type': '<=',\n",
       "   'default_left': True,\n",
       "   'missing_type': 'None',\n",
       "   'internal_value': -0.158439,\n",
       "   'internal_count': 192,\n",
       "   'left_child': {'split_index': 5,\n",
       "    'split_feature': 4,\n",
       "    'split_gain': 8.160120010375977,\n",
       "    'threshold': 22.500000000000004,\n",
       "    'decision_type': '<=',\n",
       "    'default_left': True,\n",
       "    'missing_type': 'None',\n",
       "    'internal_value': -0.362421,\n",
       "    'internal_count': 168,\n",
       "    'left_child': {'split_index': 6,\n",
       "     'split_feature': 5,\n",
       "     'split_gain': 8.23153018951416,\n",
       "     'threshold': 26.450000000000003,\n",
       "     'decision_type': '<=',\n",
       "     'default_left': True,\n",
       "     'missing_type': 'None',\n",
       "     'internal_value': -0.092553,\n",
       "     'internal_count': 126,\n",
       "     'left_child': {'leaf_index': 3,\n",
       "      'leaf_value': -0.11870419121495364,\n",
       "      'leaf_count': 28},\n",
       "     'right_child': {'leaf_index': 7,\n",
       "      'leaf_value': 0.01779852277898408,\n",
       "      'leaf_count': 98}},\n",
       "    'right_child': {'leaf_index': 6,\n",
       "     'leaf_value': -0.11802436852147419,\n",
       "     'leaf_count': 42}},\n",
       "   'right_child': {'leaf_index': 4,\n",
       "    'leaf_value': 0.11745605872342482,\n",
       "    'leaf_count': 24}}},\n",
       " 'right_child': {'split_index': 1,\n",
       "  'split_feature': 1,\n",
       "  'split_gain': 18.773300170898438,\n",
       "  'threshold': 154.50000000000003,\n",
       "  'decision_type': '<=',\n",
       "  'default_left': True,\n",
       "  'missing_type': 'None',\n",
       "  'internal_value': 0.728383,\n",
       "  'internal_count': 322,\n",
       "  'left_child': {'split_index': 4,\n",
       "   'split_feature': 7,\n",
       "   'split_gain': 11.37399959564209,\n",
       "   'threshold': 24.500000000000004,\n",
       "   'decision_type': '<=',\n",
       "   'default_left': True,\n",
       "   'missing_type': 'None',\n",
       "   'internal_value': 0.327151,\n",
       "   'internal_count': 200,\n",
       "   'left_child': {'leaf_index': 1,\n",
       "    'leaf_value': -0.0554893137519509,\n",
       "    'leaf_count': 50},\n",
       "   'right_child': {'split_index': 7,\n",
       "    'split_feature': 5,\n",
       "    'split_gain': 6.9721598625183105,\n",
       "    'threshold': 29.950000000000003,\n",
       "    'decision_type': '<=',\n",
       "    'default_left': True,\n",
       "    'missing_type': 'None',\n",
       "    'internal_value': 0.606558,\n",
       "    'internal_count': 150,\n",
       "    'left_child': {'leaf_index': 5,\n",
       "     'leaf_value': -0.007686076755005031,\n",
       "     'leaf_count': 48},\n",
       "    'right_child': {'split_index': 8,\n",
       "     'split_feature': 6,\n",
       "     'split_gain': 7.094029903411865,\n",
       "     'threshold': 0.4015000000000001,\n",
       "     'decision_type': '<=',\n",
       "     'default_left': True,\n",
       "     'missing_type': 'None',\n",
       "     'internal_value': 0.897634,\n",
       "     'internal_count': 102,\n",
       "     'left_child': {'leaf_index': 8,\n",
       "      'leaf_value': 0.03382802316367688,\n",
       "      'leaf_count': 49},\n",
       "     'right_child': {'leaf_index': 9,\n",
       "      'leaf_value': 0.14136047808370586,\n",
       "      'leaf_count': 53}}}},\n",
       "  'right_child': {'leaf_index': 2,\n",
       "   'leaf_value': 0.13409693851481289,\n",
       "   'leaf_count': 122}}}"
      ]
     },
     "execution_count": 31,
     "metadata": {},
     "output_type": "execute_result"
    }
   ],
   "source": [
    "tree_info['tree_structure']"
   ]
  },
  {
   "cell_type": "code",
   "execution_count": null,
   "metadata": {},
   "outputs": [],
   "source": [
    "import numpy as np\n",
    "import matplotlib.pyplot as plt\n",
    "\n",
    "from scipy.ndimage import convolve\n",
    "from sklearn import linear_model, datasets, metrics\n",
    "from sklearn.model_selection import train_test_split\n",
    "from sklearn.neural_network import BernoulliRBM\n",
    "from sklearn.pipeline import Pipeline\n",
    "from sklearn.base import clone\n",
    "\n",
    "\n",
    "# #############################################################################\n",
    "# Setting up\n",
    "\n",
    "def nudge_dataset(X, Y):\n",
    "    \"\"\"\n",
    "    This produces a dataset 5 times bigger than the original one,\n",
    "    by moving the 8x8 images in X around by 1px to left, right, down, up\n",
    "    \"\"\"\n",
    "    direction_vectors = [\n",
    "        [[0, 1, 0],\n",
    "         [0, 0, 0],\n",
    "         [0, 0, 0]],\n",
    "\n",
    "        [[0, 0, 0],\n",
    "         [1, 0, 0],\n",
    "         [0, 0, 0]],\n",
    "\n",
    "        [[0, 0, 0],\n",
    "         [0, 0, 1],\n",
    "         [0, 0, 0]],\n",
    "\n",
    "        [[0, 0, 0],\n",
    "         [0, 0, 0],\n",
    "         [0, 1, 0]]]\n",
    "\n",
    "    def shift(x, w):\n",
    "        return convolve(x.reshape((8, 8)), \n",
    "                        mode='constant', weights=w).ravel()\n",
    "\n",
    "    X = np.concatenate([X] +\n",
    "                       [np.apply_along_axis(shift, 1, X, vector)\n",
    "                        for vector in direction_vectors])\n",
    "    Y = np.concatenate([Y for _ in range(5)], axis=0)\n",
    "    return X, Y\n",
    "\n",
    "\n",
    "# Load Data\n",
    "digits = datasets.load_digits()\n",
    "X = np.asarray(digits.data, 'float32')\n",
    "X, Y = nudge_dataset(X, digits.target)\n",
    "X = (X - np.min(X, 0)) / (np.max(X, 0) + 0.0001)  # 0-1 scaling\n",
    "\n",
    "X_train, X_test, Y_train, Y_test = train_test_split(\n",
    "    X, Y, test_size=0.2, random_state=0)\n",
    "\n",
    "# Models we will use\n",
    "logistic = linear_model.LogisticRegression(solver='newton-cg', tol=1,\n",
    "                                           multi_class='multinomial')\n",
    "rbm = BernoulliRBM(random_state=0, verbose=True)\n",
    "\n",
    "rbm_features_classifier = Pipeline(\n",
    "    steps=[('rbm', rbm), ('logistic', logistic)])\n",
    "\n",
    "# Training\n",
    "# Hyper-parameters. These were set by cross-validation,\n",
    "# using a GridSearchCV. Here we are not performing cross-validation to\n",
    "# save time.\n",
    "rbm.learning_rate = 0.06\n",
    "rbm.n_iter = 20\n",
    "# More components tend to give better prediction performance, but larger\n",
    "# fitting time\n",
    "rbm.n_components = 100\n",
    "logistic.C = 6000\n",
    "\n",
    "# Training RBM-Logistic Pipeline\n",
    "rbm_features_classifier.fit(X_train, Y_train)\n",
    "\n",
    "# Training the Logistic regression classifier directly on the pixel\n",
    "raw_pixel_classifier = clone(logistic)\n",
    "raw_pixel_classifier.C = 100.\n",
    "raw_pixel_classifier.fit(X_train, Y_train)\n",
    "\n",
    "# Evaluation\n",
    "\n",
    "Y_pred = rbm_features_classifier.predict(X_test)\n",
    "print(\"Logistic regression using RBM features:\\n%s\\n\" % (\n",
    "    metrics.classification_report(Y_test, Y_pred)))\n",
    "\n",
    "Y_pred = raw_pixel_classifier.predict(X_test)\n",
    "print(\"Logistic regression using raw pixel features:\\n%s\\n\" % (\n",
    "    metrics.classification_report(Y_test, Y_pred)))\n",
    "\n",
    "\n",
    "plt.figure(figsize=(4.2, 4))\n",
    "for i, comp in enumerate(rbm.components_):\n",
    "    plt.subplot(10, 10, i + 1)\n",
    "    plt.imshow(comp.reshape((8, 8)), cmap=plt.cm.gray_r,\n",
    "               interpolation='nearest')\n",
    "    plt.xticks(())\n",
    "    plt.yticks(())\n",
    "plt.suptitle('100 components extracted by RBM', fontsize=16)\n",
    "plt.subplots_adjust(0.08, 0.02, 0.92, 0.85, 0.08, 0.23)\n",
    "\n",
    "plt.show()"
   ]
  },
  {
   "cell_type": "code",
   "execution_count": null,
   "metadata": {},
   "outputs": [],
   "source": []
  },
  {
   "cell_type": "code",
   "execution_count": 10,
   "metadata": {
    "ExecuteTime": {
     "end_time": "2019-11-07T06:55:44.436744Z",
     "start_time": "2019-11-07T06:55:44.076372Z"
    }
   },
   "outputs": [
    {
     "name": "stdout",
     "output_type": "stream",
     "text": [
      "The binary tree structure has 5 nodes and has the following tree structure:\n",
      "node=0 test node: go to node 1 if X[:, 3] <= 0.800000011920929 else to node 2.\n",
      "\tnode=1 leaf node.\n",
      "\tnode=2 test node: go to node 3 if X[:, 2] <= 4.950000047683716 else to node 4.\n",
      "\t\tnode=3 leaf node.\n",
      "\t\tnode=4 leaf node.\n",
      "\n",
      "Rules used to predict sample 0: \n",
      "decision id node 0 : (X_test[0, 3] (= 2.4) > 0.800000011920929)\n",
      "decision id node 2 : (X_test[0, 2] (= 5.1) > 4.950000047683716)\n",
      "\n",
      "The following samples [0, 1] share the node [0 2] in the tree\n",
      "It is 40.0 % of all nodes.\n"
     ]
    }
   ],
   "source": [
    "'''the binary tree structure;\n",
    "the depth of each node and whether or not it’s a leaf;\n",
    "the nodes that were reached by a sample using the decision_path method;\n",
    "the leaf that was reached by a sample using the apply method;\n",
    "the rules that were used to predict a sample;\n",
    "the decision path shared by a group of samples.'''\n",
    "\n",
    "import numpy as np\n",
    "\n",
    "from sklearn.model_selection import train_test_split\n",
    "from sklearn.datasets import load_iris\n",
    "from sklearn.tree import DecisionTreeClassifier\n",
    "\n",
    "iris = load_iris()\n",
    "X = iris.data\n",
    "y = iris.target\n",
    "X_train, X_test, y_train, y_test = train_test_split(X, y, random_state=0)\n",
    "\n",
    "estimator = DecisionTreeClassifier(max_leaf_nodes=3, random_state=0)\n",
    "estimator.fit(X_train, y_train)\n",
    "\n",
    "n_nodes = estimator.tree_.node_count\n",
    "children_left = estimator.tree_.children_left\n",
    "children_right = estimator.tree_.children_right\n",
    "feature = estimator.tree_.feature\n",
    "threshold = estimator.tree_.threshold\n",
    "\n",
    "node_depth = np.zeros(shape=n_nodes, dtype=np.int64)\n",
    "is_leaves = np.zeros(shape=n_nodes, dtype=bool)\n",
    "stack = [(0, -1)]  # seed is the root node id and its parent depth\n",
    "while len(stack) > 0:\n",
    "    node_id, parent_depth = stack.pop()\n",
    "    node_depth[node_id] = parent_depth + 1\n",
    "\n",
    "    if (children_left[node_id] != children_right[node_id]):\n",
    "        stack.append((children_left[node_id], parent_depth + 1))\n",
    "        stack.append((children_right[node_id], parent_depth + 1))\n",
    "    else:\n",
    "        is_leaves[node_id] = True\n",
    "\n",
    "print(\"The binary tree structure has %s nodes and has \"\n",
    "      \"the following tree structure:\"\n",
    "      % n_nodes)\n",
    "for i in range(n_nodes):\n",
    "    if is_leaves[i]:\n",
    "        print(\"%snode=%s leaf node.\" % (node_depth[i] * \"\\t\", i))\n",
    "    else:\n",
    "        print(\"%snode=%s test node: go to node %s if X[:, %s] <= %s else to \"\n",
    "              \"node %s.\"\n",
    "              % (node_depth[i] * \"\\t\",\n",
    "                 i,\n",
    "                 children_left[i],\n",
    "                 feature[i],\n",
    "                 threshold[i],\n",
    "                 children_right[i],\n",
    "                 ))\n",
    "print()\n",
    "\n",
    "node_indicator = estimator.decision_path(X_test)\n",
    "\n",
    "# Similarly, we can also have the leaves ids reached by each sample.\n",
    "\n",
    "leave_id = estimator.apply(X_test)\n",
    "\n",
    "sample_id = 0\n",
    "node_index = node_indicator.indices[node_indicator.indptr[sample_id]:\n",
    "                                    node_indicator.indptr[sample_id + 1]]\n",
    "\n",
    "print('Rules used to predict sample %s: ' % sample_id)\n",
    "for node_id in node_index:\n",
    "    if leave_id[sample_id] == node_id:\n",
    "        continue\n",
    "\n",
    "    if (X_test[sample_id, feature[node_id]] <= threshold[node_id]):\n",
    "        threshold_sign = \"<=\"\n",
    "    else:\n",
    "        threshold_sign = \">\"\n",
    "\n",
    "    print(\"decision id node %s : (X_test[%s, %s] (= %s) %s %s)\"\n",
    "          % (node_id,\n",
    "             sample_id,\n",
    "             feature[node_id],\n",
    "             X_test[sample_id, feature[node_id]],\n",
    "             threshold_sign,\n",
    "             threshold[node_id]))\n",
    "\n",
    "# For a group of samples, we have the following common node.\n",
    "sample_ids = [0, 1]\n",
    "common_nodes = (node_indicator.toarray()[sample_ids].sum(axis=0) ==\n",
    "                len(sample_ids))\n",
    "\n",
    "common_node_id = np.arange(n_nodes)[common_nodes]\n",
    "\n",
    "print(\"\\nThe following samples %s share the node %s in the tree\"\n",
    "      % (sample_ids, common_node_id))\n",
    "print(\"It is %s %% of all nodes.\" % (\n",
    "    100 * len(common_node_id) / n_nodes,))"
   ]
  },
  {
   "cell_type": "code",
   "execution_count": 12,
   "metadata": {
    "ExecuteTime": {
     "end_time": "2019-11-07T06:56:35.665937Z",
     "start_time": "2019-11-07T06:56:35.659935Z"
    }
   },
   "outputs": [
    {
     "data": {
      "text/plain": [
       "2"
      ]
     },
     "execution_count": 12,
     "metadata": {},
     "output_type": "execute_result"
    }
   ],
   "source": [
    "estimator.get_depth()"
   ]
  },
  {
   "cell_type": "code",
   "execution_count": 16,
   "metadata": {
    "ExecuteTime": {
     "end_time": "2019-11-06T06:57:38.736480Z",
     "start_time": "2019-11-06T06:57:38.729220Z"
    }
   },
   "outputs": [
    {
     "data": {
      "text/plain": [
       "1"
      ]
     },
     "execution_count": 16,
     "metadata": {},
     "output_type": "execute_result"
    }
   ],
   "source": [
    "clf.n_outputs_"
   ]
  },
  {
   "cell_type": "code",
   "execution_count": null,
   "metadata": {},
   "outputs": [],
   "source": []
  }
 ],
 "metadata": {
  "kernelspec": {
   "display_name": "Python 3",
   "language": "python",
   "name": "python3"
  },
  "language_info": {
   "codemirror_mode": {
    "name": "ipython",
    "version": 3
   },
   "file_extension": ".py",
   "mimetype": "text/x-python",
   "name": "python",
   "nbconvert_exporter": "python",
   "pygments_lexer": "ipython3",
   "version": "3.7.4"
  },
  "toc": {
   "base_numbering": 1,
   "nav_menu": {},
   "number_sections": true,
   "sideBar": true,
   "skip_h1_title": false,
   "title_cell": "Table of Contents",
   "title_sidebar": "Contents",
   "toc_cell": false,
   "toc_position": {},
   "toc_section_display": true,
   "toc_window_display": false
  },
  "varInspector": {
   "cols": {
    "lenName": 16,
    "lenType": 16,
    "lenVar": 40
   },
   "kernels_config": {
    "python": {
     "delete_cmd_postfix": "",
     "delete_cmd_prefix": "del ",
     "library": "var_list.py",
     "varRefreshCmd": "print(var_dic_list())"
    },
    "r": {
     "delete_cmd_postfix": ") ",
     "delete_cmd_prefix": "rm(",
     "library": "var_list.r",
     "varRefreshCmd": "cat(var_dic_list()) "
    }
   },
   "types_to_exclude": [
    "module",
    "function",
    "builtin_function_or_method",
    "instance",
    "_Feature"
   ],
   "window_display": false
  }
 },
 "nbformat": 4,
 "nbformat_minor": 2
}
