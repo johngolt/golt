{
 "cells": [
  {
   "cell_type": "code",
   "execution_count": 2,
   "metadata": {
    "ExecuteTime": {
     "end_time": "2019-11-08T01:01:11.517236Z",
     "start_time": "2019-11-08T01:01:11.512236Z"
    }
   },
   "outputs": [],
   "source": [
    "import re\n",
    "st = '0:[Glucose<128] yes=1,no=2,missing=1\\n\\t1:[Age<29] yes=3,no=4,missing=3\\n\\t\\t3:[BMI<45.4000015] yes=7,no=8,missing=7\\n\\t\\t\\t7:leaf=-0.167527676\\n\\t\\t\\t8:leaf=0.0500000007\\n\\t\\t4:[BMI<26.3500004] yes=9,no=10,missing=9\\n\\t\\t\\t9:leaf=-0.164444447\\n\\t\\t\\t10:leaf=-0.0395480208\\n\\t2:[BMI<29.9500008] yes=5,no=6,missing=5\\n\\t\\t5:[Glucose<146] yes=11,no=12,missing=11\\n\\t\\t\\t11:leaf=-0.12888889\\n\\t\\t\\t12:leaf=0.00512820529\\n\\t\\t6:[Glucose<158] yes=13,no=14,missing=13\\n\\t\\t\\t13:leaf=0.0420168079\\n\\t\\t\\t14:leaf=0.141666666\\n'\n",
    "pattern = re.compile(r'\\n\\t+')\n",
    "res = pattern.split(st)"
   ]
  },
  {
   "cell_type": "code",
   "execution_count": 21,
   "metadata": {
    "ExecuteTime": {
     "end_time": "2019-11-08T01:19:58.154824Z",
     "start_time": "2019-11-08T01:19:57.538808Z"
    }
   },
   "outputs": [],
   "source": [
    "import pandas as pd"
   ]
  },
  {
   "cell_type": "code",
   "execution_count": 42,
   "metadata": {
    "ExecuteTime": {
     "end_time": "2019-11-08T01:38:42.375846Z",
     "start_time": "2019-11-08T01:38:42.365845Z"
    }
   },
   "outputs": [],
   "source": [
    "from collections import defaultdict\n",
    "dic = defaultdict(list)\n",
    "op = {'>':operator.gt,'<':operator.lt,'>=':operator.ge,\n",
    "      '<=':operator.le,'=':operator.eq}\n",
    "for each in res:\n",
    "    if 'leaf' not in each:\n",
    "        start = dic[each[0]]\n",
    "        yes = re.compile(r'yes=(\\d+)').search(each).group(1)\n",
    "        no = re.compile(r'no=(\\d+)').search(each).group(1)\n",
    "        missing = re.compile('missing=(\\d+)').search(each).group(1)\n",
    "        rawrule = re.compile(r'\\[(.*)\\]').search(each).group(1)\n",
    "        rule = re.compile('(\\w+)([<>=]+)(\\d+)').search(rawrule).groups()\n",
    "        dic[yes].extend(start)\n",
    "        dic[no].extend(start)\n",
    "        dic[yes].append(rule)\n",
    "        norule = list(rule)\n",
    "        norule.append('no')\n",
    "        dic[no].append(norule)\n",
    "        dic[missing].append(['missing'])  "
   ]
  },
  {
   "cell_type": "code",
   "execution_count": 17,
   "metadata": {
    "ExecuteTime": {
     "end_time": "2019-11-08T01:11:54.783151Z",
     "start_time": "2019-11-08T01:11:54.777151Z"
    }
   },
   "outputs": [],
   "source": [
    "yes = re.compile(r'\\[(.*)\\]')\n",
    "l = '0:[Glucose<128] yes=1,no=2,missing=1'"
   ]
  },
  {
   "cell_type": "code",
   "execution_count": 24,
   "metadata": {
    "ExecuteTime": {
     "end_time": "2019-11-08T01:21:13.264963Z",
     "start_time": "2019-11-08T01:21:13.260963Z"
    }
   },
   "outputs": [],
   "source": [
    "r = yes.search(l)\n",
    "import operator"
   ]
  },
  {
   "cell_type": "code",
   "execution_count": 33,
   "metadata": {
    "ExecuteTime": {
     "end_time": "2019-11-08T01:28:58.239490Z",
     "start_time": "2019-11-08T01:28:58.230489Z"
    }
   },
   "outputs": [
    {
     "data": {
      "text/plain": [
       "0    False\n",
       "1    False\n",
       "2    False\n",
       "3    False\n",
       "4     True\n",
       "dtype: bool"
      ]
     },
     "execution_count": 33,
     "metadata": {},
     "output_type": "execute_result"
    }
   ],
   "source": [
    "df = pd.Series([1,2,np.nan,4,5])\n",
    "operator.gt(df,4)\n",
    "dic[yes].append(op[rule[1]](df[rule[0]],float(rule[2]))\n",
    "    dic[no].append(~op[rule[1]](df[rule[0]],float(rule[2]))\n",
    "    dic[missing].append(pd.isna(df[rule[0]]))"
   ]
  },
  {
   "cell_type": "code",
   "execution_count": 28,
   "metadata": {
    "ExecuteTime": {
     "end_time": "2019-11-08T01:25:07.267738Z",
     "start_time": "2019-11-08T01:25:07.263737Z"
    }
   },
   "outputs": [],
   "source": [
    "dic = {}\n",
    "def parse(structure,path=[]):\n",
    "    path = path.copy()\n",
    "    if structure.get('split_index',-1) != -1:\n",
    "        rule = (structure['split_feature'],structure['decision_type'],\n",
    "               structure['threshold'])\n",
    "        norule=(structure['split_feature'],structure['decision_type'],\n",
    "               structure['threshold'],'no')\n",
    "        r = path.copy()\n",
    "        r.append(rule)\n",
    "        nor=path.copy()\n",
    "        nor.append(norule)\n",
    "        dic[str(structure['split_index'])+'_left'] = r\n",
    "        dic[str(structure['split_index'])+'_right'] = nor\n",
    "        parse(structure['left_child'],r)\n",
    "        parse(structure['right_child'],nor)\n",
    "parse(tree_info['tree_structure'])"
   ]
  },
  {
   "cell_type": "code",
   "execution_count": 34,
   "metadata": {
    "ExecuteTime": {
     "end_time": "2019-11-08T01:33:21.599683Z",
     "start_time": "2019-11-08T01:33:21.590722Z"
    }
   },
   "outputs": [
    {
     "data": {
      "text/plain": [
       "tuple"
      ]
     },
     "execution_count": 34,
     "metadata": {},
     "output_type": "execute_result"
    }
   ],
   "source": [
    "type(r.search(l).groups())"
   ]
  },
  {
   "cell_type": "code",
   "execution_count": 37,
   "metadata": {
    "ExecuteTime": {
     "end_time": "2019-11-08T01:35:27.134543Z",
     "start_time": "2019-11-08T01:35:27.125543Z"
    }
   },
   "outputs": [
    {
     "data": {
      "text/plain": [
       "'1'"
      ]
     },
     "execution_count": 37,
     "metadata": {},
     "output_type": "execute_result"
    }
   ],
   "source": [
    "re.compile(r'yes=(\\d+)').search(res[0]).group(1)"
   ]
  },
  {
   "cell_type": "code",
   "execution_count": null,
   "metadata": {
    "ExecuteTime": {
     "end_time": "2019-11-08T01:38:48.577827Z",
     "start_time": "2019-11-08T01:38:48.568827Z"
    }
   },
   "outputs": [],
   "source": []
  },
  {
   "cell_type": "code",
   "execution_count": 44,
   "metadata": {
    "ExecuteTime": {
     "end_time": "2019-11-08T01:42:24.598385Z",
     "start_time": "2019-11-08T01:42:24.592404Z"
    }
   },
   "outputs": [
    {
     "data": {
      "text/plain": [
       "['0:[Glucose<128] yes=1,no=2,missing=1',\n",
       " '1:[Age<29] yes=3,no=4,missing=3',\n",
       " '3:[BMI<45.4000015] yes=7,no=8,missing=7',\n",
       " '7:leaf=-0.167527676',\n",
       " '8:leaf=0.0500000007',\n",
       " '4:[BMI<26.3500004] yes=9,no=10,missing=9',\n",
       " '9:leaf=-0.164444447',\n",
       " '10:leaf=-0.0395480208',\n",
       " '2:[BMI<29.9500008] yes=5,no=6,missing=5',\n",
       " '5:[Glucose<146] yes=11,no=12,missing=11',\n",
       " '11:leaf=-0.12888889',\n",
       " '12:leaf=0.00512820529',\n",
       " '6:[Glucose<158] yes=13,no=14,missing=13',\n",
       " '13:leaf=0.0420168079',\n",
       " '14:leaf=0.141666666\\n']"
      ]
     },
     "execution_count": 44,
     "metadata": {},
     "output_type": "execute_result"
    }
   ],
   "source": [
    "res"
   ]
  },
  {
   "cell_type": "code",
   "execution_count": null,
   "metadata": {},
   "outputs": [],
   "source": []
  }
 ],
 "metadata": {
  "kernelspec": {
   "display_name": "Python 3",
   "language": "python",
   "name": "python3"
  },
  "language_info": {
   "codemirror_mode": {
    "name": "ipython",
    "version": 3
   },
   "file_extension": ".py",
   "mimetype": "text/x-python",
   "name": "python",
   "nbconvert_exporter": "python",
   "pygments_lexer": "ipython3",
   "version": "3.7.4"
  },
  "toc": {
   "base_numbering": 1,
   "nav_menu": {},
   "number_sections": true,
   "sideBar": true,
   "skip_h1_title": false,
   "title_cell": "Table of Contents",
   "title_sidebar": "Contents",
   "toc_cell": false,
   "toc_position": {},
   "toc_section_display": true,
   "toc_window_display": false
  },
  "varInspector": {
   "cols": {
    "lenName": 16,
    "lenType": 16,
    "lenVar": 40
   },
   "kernels_config": {
    "python": {
     "delete_cmd_postfix": "",
     "delete_cmd_prefix": "del ",
     "library": "var_list.py",
     "varRefreshCmd": "print(var_dic_list())"
    },
    "r": {
     "delete_cmd_postfix": ") ",
     "delete_cmd_prefix": "rm(",
     "library": "var_list.r",
     "varRefreshCmd": "cat(var_dic_list()) "
    }
   },
   "types_to_exclude": [
    "module",
    "function",
    "builtin_function_or_method",
    "instance",
    "_Feature"
   ],
   "window_display": false
  }
 },
 "nbformat": 4,
 "nbformat_minor": 2
}
