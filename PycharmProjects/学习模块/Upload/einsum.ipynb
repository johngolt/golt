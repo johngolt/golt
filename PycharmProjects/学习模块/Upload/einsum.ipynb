{
 "cells": [
  {
   "cell_type": "code",
   "execution_count": 1,
   "metadata": {},
   "outputs": [],
   "source": [
    "import numpy as np"
   ]
  },
  {
   "cell_type": "code",
   "execution_count": 9,
   "metadata": {},
   "outputs": [],
   "source": [
    "A = np.random.randint(0,10,(5,5))\n",
    "a = np.random.randint(0,10,5)\n",
    "b = np.random.randint(0,10,5)\n",
    "B = np.random.randint(0,10,(5,5))"
   ]
  },
  {
   "cell_type": "code",
   "execution_count": 6,
   "metadata": {},
   "outputs": [
    {
     "name": "stdout",
     "output_type": "stream",
     "text": [
      "2.39 µs ± 67.5 ns per loop (mean ± std. dev. of 7 runs, 100000 loops each)\n"
     ]
    }
   ],
   "source": [
    "# 求和\n",
    "np.einsum('ij->',A)\n",
    "#行求和\n",
    "np.einsum('ij->i',A)\n",
    "#列求和\n",
    "np.einsum('ij->j',A)\n",
    "#转置\n",
    "np.einsum('ij->ji',A)\n",
    "#矩阵向量相乘\n",
    "np.einsum('ij,j->i',A,b)\n",
    "#矩阵矩阵相乘\n",
    "np.einsum('ik,kj->ij',A,B)\n",
    "#点积\n",
    "np.einsum('i,i->',a,b)\n",
    "#哈达玛积\n",
    "np.einsum('ij,ij->ij',A,B)\n",
    "#外积\n",
    "np.einsum('i,j->ij',a,b)\n",
    "#batch矩阵相乘"
   ]
  },
  {
   "cell_type": "code",
   "execution_count": null,
   "metadata": {},
   "outputs": [],
   "source": []
  },
  {
   "cell_type": "code",
   "execution_count": null,
   "metadata": {},
   "outputs": [],
   "source": []
  }
 ],
 "metadata": {
  "kernelspec": {
   "display_name": "Python 3",
   "language": "python",
   "name": "python3"
  },
  "language_info": {
   "codemirror_mode": {
    "name": "ipython",
    "version": 3
   },
   "file_extension": ".py",
   "mimetype": "text/x-python",
   "name": "python",
   "nbconvert_exporter": "python",
   "pygments_lexer": "ipython3",
   "version": "3.7.4"
  }
 },
 "nbformat": 4,
 "nbformat_minor": 2
}
