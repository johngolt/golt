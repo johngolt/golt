{
 "cells": [
  {
   "cell_type": "markdown",
   "metadata": {},
   "source": []
  },
  {
   "cell_type": "code",
   "execution_count": 11,
   "metadata": {
    "ExecuteTime": {
     "end_time": "2020-01-13T08:53:43.781967Z",
     "start_time": "2020-01-13T08:53:43.769038Z"
    }
   },
   "outputs": [
    {
     "data": {
      "text/plain": [
       "True"
      ]
     },
     "execution_count": 11,
     "metadata": {},
     "output_type": "execute_result"
    }
   ],
   "source": [
    "#需要对浮点数执行精确的计算操作，并且不希望有任何小误差的出现。\n",
    "#浮点数的一个普遍问题是它们并不能精确的表示十进制数。\n",
    "#并且，即使是最简单的数学运算也会产生小的误差\n",
    "c = 2.1+4.2\n",
    "import numpy as np\n",
    "np.allclose(c,6.3)"
   ]
  },
  {
   "cell_type": "code",
   "execution_count": 12,
   "metadata": {
    "ExecuteTime": {
     "end_time": "2020-01-13T08:54:36.122993Z",
     "start_time": "2020-01-13T08:54:36.119006Z"
    }
   },
   "outputs": [
    {
     "data": {
      "text/plain": [
       "6.300000000000001"
      ]
     },
     "execution_count": 12,
     "metadata": {},
     "output_type": "execute_result"
    }
   ],
   "source": [
    "#并且在这个队列上面每次 pop 操作总是返回优先级最高的那个元素\n",
    "import heapq\n",
    "\n",
    "class PriorityQueue:\n",
    "    def __init__(self):\n",
    "        self._queue = []\n",
    "        self._index = 0\n",
    "\n",
    "    def push(self, item, priority):\n",
    "        heapq.heappush(self._queue, (-priority, self._index, item))\n",
    "        self._index += 1\n",
    "\n",
    "    def pop(self):\n",
    "        return heapq.heappop(self._queue)[-1]\n",
    "    \n",
    "class Item:\n",
    "    def __init__(self, name):\n",
    "        self.name = name\n",
    "    def __repr__(self):\n",
    "        return 'Item({!r})'.format(self.name)"
   ]
  },
  {
   "cell_type": "code",
   "execution_count": null,
   "metadata": {
    "ExecuteTime": {
     "end_time": "2020-01-13T08:54:36.659561Z",
     "start_time": "2020-01-13T08:54:36.655568Z"
    }
   },
   "outputs": [],
   "source": [
    "#如果你想更加精确(并能容忍一定的性能损耗)，你可以使用 decimal 模块：\n",
    "from decimal import Decimal\n",
    "a = Decimal('4.2')\n",
    "b = Decimal('2.1')\n",
    "a + b"
   ]
  },
  {
   "cell_type": "code",
   "execution_count": null,
   "metadata": {},
   "outputs": [],
   "source": [
    "print(a + b)"
   ]
  },
  {
   "cell_type": "code",
   "execution_count": null,
   "metadata": {},
   "outputs": [],
   "source": [
    "(a + b) == Decimal('6.3')"
   ]
  },
  {
   "cell_type": "markdown",
   "metadata": {},
   "source": [
    "初看起来，上面的代码好像有点奇怪，比如我们用字符串来表示数字。\n",
    "然而， Decimal 对象会像普通浮点数一样的工作(支持所有的常用数学运算)。\n",
    "如果你打印它们或者在字符串格式化函数中使用它们，看起来跟普通数字没什么两样。"
   ]
  },
  {
   "cell_type": "markdown",
   "metadata": {},
   "source": [
    "decimal 模块的一个主要特征是允许你控制计算的每一方面，包括数字位数和四舍五入运算。\n",
    "为了这样做，你先得创建一个本地上下文并更改它的设置，比如："
   ]
  },
  {
   "cell_type": "code",
   "execution_count": null,
   "metadata": {},
   "outputs": [],
   "source": [
    "from decimal import localcontext\n",
    "a = Decimal('1.3')\n",
    "b = Decimal('1.7')\n",
    "print(a / b)"
   ]
  },
  {
   "cell_type": "code",
   "execution_count": null,
   "metadata": {},
   "outputs": [],
   "source": [
    "with localcontext() as ctx:\n",
    "    ctx.prec = 3\n",
    "    print(a / b)"
   ]
  },
  {
   "cell_type": "code",
   "execution_count": null,
   "metadata": {},
   "outputs": [],
   "source": [
    "with localcontext() as ctx:\n",
    "    ctx.prec = 50\n",
    "    print(a / b)"
   ]
  },
  {
   "cell_type": "markdown",
   "metadata": {},
   "source": []
  },
  {
   "cell_type": "code",
   "execution_count": 16,
   "metadata": {
    "ExecuteTime": {
     "end_time": "2020-01-13T08:58:55.895300Z",
     "start_time": "2020-01-13T08:58:55.891310Z"
    }
   },
   "outputs": [],
   "source": [
    "'''cmath:This module provides access to mathematical functions for complex\n",
    "numbers.\n",
    "math:This module provides access to the mathematical functions\n",
    "defined by the C standard.'''"
   ]
  },
  {
   "cell_type": "markdown",
   "metadata": {},
   "source": []
  },
  {
   "cell_type": "code",
   "execution_count": null,
   "metadata": {},
   "outputs": [],
   "source": [
    "a = float('inf')\n",
    "b = float('-inf')\n",
    "c = float('nan')\n",
    "为了测试这些值的存在，使用 math.isinf() 和 math.isnan() 函数。比如：\n",
    "math.isinf(a)\n",
    "math.isnan(c)\n",
    "NaN值会在所有操作中传播，而不会产生异常\n",
    "无穷大数在执行数学计算的时候会传播"
   ]
  },
  {
   "cell_type": "code",
   "execution_count": null,
   "metadata": {},
   "outputs": [],
   "source": [
    "NaN值的一个特别的地方时它们之间的比较操作总是返回False。比如：\n",
    "\n",
    "c = float('nan')\n",
    "d = float('nan')\n",
    "c == d\n",
    "\n",
    "c is d\n",
    "\n",
    "由于这个原因，测试一个NaN值得唯一安全的方法就是使用 math.isnan() ，也就是上面演示的那样。"
   ]
  },
  {
   "cell_type": "markdown",
   "metadata": {},
   "source": [
    "## 3.8 分数运算\n"
   ]
  },
  {
   "cell_type": "markdown",
   "metadata": {},
   "source": [
    "### 问题\n"
   ]
  },
  {
   "cell_type": "markdown",
   "metadata": {},
   "source": [
    "你进入时间机器，突然发现你正在做小学家庭作业，并涉及到分数计算问题。\n",
    "或者你可能需要写代码去计算在你的木工工厂中的测量值。"
   ]
  },
  {
   "cell_type": "markdown",
   "metadata": {},
   "source": [
    "### 解决方案\n"
   ]
  },
  {
   "cell_type": "markdown",
   "metadata": {},
   "source": [
    "fractions 模块可以被用来执行包含分数的数学运算。比如："
   ]
  },
  {
   "cell_type": "code",
   "execution_count": 31,
   "metadata": {
    "ExecuteTime": {
     "end_time": "2020-01-13T09:08:06.582231Z",
     "start_time": "2020-01-13T09:08:06.574251Z"
    }
   },
   "outputs": [
    {
     "name": "stdout",
     "output_type": "stream",
     "text": [
      "27/16\n"
     ]
    }
   ],
   "source": [
    "from fractions import Fraction\n",
    "a = Fraction(5, 4)\n",
    "b = Fraction(7, 16)\n",
    "print(a + b)"
   ]
  },
  {
   "cell_type": "code",
   "execution_count": 32,
   "metadata": {
    "ExecuteTime": {
     "end_time": "2020-01-13T09:08:07.356252Z",
     "start_time": "2020-01-13T09:08:07.351268Z"
    }
   },
   "outputs": [
    {
     "name": "stdout",
     "output_type": "stream",
     "text": [
      "35/64\n"
     ]
    }
   ],
   "source": [
    "print(a * b)"
   ]
  },
  {
   "cell_type": "code",
   "execution_count": 34,
   "metadata": {
    "ExecuteTime": {
     "end_time": "2020-01-13T09:08:47.701718Z",
     "start_time": "2020-01-13T09:08:47.696733Z"
    }
   },
   "outputs": [
    {
     "data": {
      "text/plain": [
       "35"
      ]
     },
     "execution_count": 34,
     "metadata": {},
     "output_type": "execute_result"
    }
   ],
   "source": [
    "# Getting numerator/denominator\n",
    "c = a * b\n",
    "c.numerator"
   ]
  },
  {
   "cell_type": "code",
   "execution_count": 35,
   "metadata": {
    "ExecuteTime": {
     "end_time": "2020-01-13T09:08:48.304158Z",
     "start_time": "2020-01-13T09:08:48.299205Z"
    }
   },
   "outputs": [
    {
     "data": {
      "text/plain": [
       "64"
      ]
     },
     "execution_count": 35,
     "metadata": {},
     "output_type": "execute_result"
    }
   ],
   "source": [
    "c.denominator"
   ]
  },
  {
   "cell_type": "code",
   "execution_count": 36,
   "metadata": {
    "ExecuteTime": {
     "end_time": "2020-01-13T09:08:49.002235Z",
     "start_time": "2020-01-13T09:08:48.996283Z"
    }
   },
   "outputs": [
    {
     "data": {
      "text/plain": [
       "0.546875"
      ]
     },
     "execution_count": 36,
     "metadata": {},
     "output_type": "execute_result"
    }
   ],
   "source": [
    "# Converting to a float\n",
    "float(c)"
   ]
  },
  {
   "cell_type": "code",
   "execution_count": 37,
   "metadata": {
    "ExecuteTime": {
     "end_time": "2020-01-13T09:08:49.806191Z",
     "start_time": "2020-01-13T09:08:49.803200Z"
    }
   },
   "outputs": [
    {
     "name": "stdout",
     "output_type": "stream",
     "text": [
      "4/7\n"
     ]
    }
   ],
   "source": [
    "# Limiting the denominator of a value\n",
    "print(c.limit_denominator(8))"
   ]
  },
  {
   "cell_type": "code",
   "execution_count": 38,
   "metadata": {
    "ExecuteTime": {
     "end_time": "2020-01-13T09:08:53.948795Z",
     "start_time": "2020-01-13T09:08:53.942846Z"
    }
   },
   "outputs": [
    {
     "data": {
      "text/plain": [
       "Fraction(15, 4)"
      ]
     },
     "execution_count": 38,
     "metadata": {},
     "output_type": "execute_result"
    }
   ],
   "source": [
    "# Converting a float to a fraction\n",
    "x = 3.75\n",
    "y = Fraction(*x.as_integer_ratio())\n",
    "y"
   ]
  },
  {
   "cell_type": "code",
   "execution_count": null,
   "metadata": {
    "ExecuteTime": {
     "end_time": "2020-01-13T09:13:30.468875Z",
     "start_time": "2020-01-13T09:13:30.457869Z"
    }
   },
   "outputs": [],
   "source": [
    "from datetime import datetime, timedelta\n",
    "\n",
    "weekdays = ['Monday', 'Tuesday', 'Wednesday', 'Thursday',\n",
    "            'Friday', 'Saturday', 'Sunday']\n",
    "\n",
    "\n",
    "def get_previous_byday(dayname, start_date=None):\n",
    "    if start_date is None:\n",
    "        start_date = datetime.today()\n",
    "    day_num = start_date.weekday()\n",
    "    day_num_target = weekdays.index(dayname)\n",
    "    days_ago = (7 + day_num - day_num_target) % 7\n",
    "    if days_ago == 0:\n",
    "        days_ago = 7\n",
    "    target_date = start_date - timedelta(days=days_ago)\n",
    "    return target_date\n",
    "\n",
    "from datetime import datetime, date, timedelta\n",
    "import calendar\n",
    "\n",
    "def get_month_range(start_date=None):\n",
    "    if start_date is None:\n",
    "        start_date = date.today().replace(day=1)\n",
    "    _, days_in_month = calendar.monthrange(start_date.year, \n",
    "                                           start_date.month)\n",
    "    end_date = start_date + timedelta(days=days_in_month)\n",
    "    return (start_date, end_date)\n",
    "\n",
    "from datetime import datetime\n",
    "from dateutil.relativedelta import relativedelta\n",
    "from dateutil.rrule import FR\n",
    "d = datetime.now()\n",
    "print(d)\n",
    "\n",
    "# Next Friday\n",
    "print(d + relativedelta(weekday=FR))\n",
    "\n",
    "# Last Friday\n",
    "print(d + relativedelta(weekday=FR(-1)))"
   ]
  },
  {
   "cell_type": "code",
   "execution_count": null,
   "metadata": {},
   "outputs": [],
   "source": [
    "#将 print() 函数的输出重定向到一个文件中去。\n",
    "\n",
    "with open('d:/work/test.txt', 'wt') as f:\n",
    "    print('Hello World!', file=f)\n",
    "改变默认的分隔符或者行尾符。可以使用 sep 和 end 关键字参数。\n",
    "\n",
    "一个文件中写入数据，但是前提必须是这个文件在文件系统上不存在。\n",
    "也就是不允许覆盖已存在的文件内容。\n",
    "with open('somefile', 'xt') as f:\n",
    "    f.write('Hello\\n')\n",
    "import os\n",
    "if not os.path.exists('somefile'):\n",
    "    with open('somefile', 'wt') as f:\n",
    "        f.write('Hello\\n')\n",
    "else:\n",
    "    print('File already exists!')"
   ]
  },
  {
   "cell_type": "code",
   "execution_count": null,
   "metadata": {},
   "outputs": [],
   "source": [
    "你想读写一个gzip或bz2格式的压缩文件。\n",
    "\n",
    "### 解决方案\n",
    "\n",
    "\n",
    "gzip 和 bz2 模块可以很容易的处理这些文件。\n",
    "两个模块都为 open() 函数提供了另外的实现来解决这个问题。\n",
    "比如，为了以文本形式读取压缩文件，可以这样做：\n",
    "\n",
    "# gzip compression\n",
    "import gzip\n",
    "with gzip.open('somefile.gz', 'rt') as f:\n",
    "    text = f.read()\n",
    "\n",
    "# bz2 compression\n",
    "import bz2\n",
    "with bz2.open('somefile.bz2', 'rt') as f:\n",
    "    text = f.read()\n",
    "\n",
    "类似的，为了写入压缩数据，可以这样做：\n",
    "\n",
    "# gzip compression\n",
    "import gzip\n",
    "with gzip.open('somefile.gz', 'wt') as f:\n",
    "    f.write(text)\n",
    "\n",
    "# bz2 compression\n",
    "import bz2\n",
    "with bz2.open('somefile.bz2', 'wt') as f:\n",
    "    f.write(text)\n",
    "'''大部分情况下读写压缩数据都是很简单的。但是要注意的是选择一个正确的文件模式是非常重要的。\n",
    "如果你不指定模式，那么默认的就是二进制模式，如果这时候程序想要接受的是文本数据，那么就会出错。\n",
    "gzip.open() 和 bz2.open() 接受跟内置的 open() 函数一样的参数，\n",
    "包括 encoding，errors，newline 等等。'''\n",
    "最后一点， gzip.open() 和 bz2.open() 还有一个很少被知道的特性，\n",
    "它们可以作用在一个已存在并以二进制模式打开的文件上。比如，下面代码是可行的：\n",
    "\n",
    "import gzip\n",
    "f = open('somefile.gz', 'rb')\n",
    "with gzip.open(f, 'rt') as g:\n",
    "    text = g.read()\n",
    "\n",
    "这样就允许 gzip 和 bz2 模块可以工作在许多类文件对象上，比如套接字，管道和内存中文件等。"
   ]
  },
  {
   "cell_type": "code",
   "execution_count": 6,
   "metadata": {
    "ExecuteTime": {
     "end_time": "2020-01-14T09:13:03.579799Z",
     "start_time": "2020-01-14T09:13:03.572819Z"
    }
   },
   "outputs": [
    {
     "name": "stdout",
     "output_type": "stream",
     "text": [
      "2\n",
      "3\n",
      "4\n"
     ]
    }
   ],
   "source": [
    "#用于读取文件，遇到某个标记终止。\n",
    "from functools import partial\n",
    "with open('D:/1.txt') as f:\n",
    "    records = iter(partial(f.readline), '\\n')"
   ]
  },
  {
   "cell_type": "code",
   "execution_count": 16,
   "metadata": {
    "ExecuteTime": {
     "end_time": "2020-01-14T09:18:35.798447Z",
     "start_time": "2020-01-14T09:18:35.792463Z"
    }
   },
   "outputs": [],
   "source": [
    "from collections import deque\n",
    "\n",
    "class linehistory:\n",
    "    def __init__(self, lines, histlen=3):\n",
    "        self.lines = lines\n",
    "        self.history = deque(maxlen=histlen)\n",
    "\n",
    "    def __iter__(self):\n",
    "        for lineno, line in enumerate(self.lines, 1):\n",
    "            self.history.append((lineno, line))\n",
    "            yield line\n",
    "\n",
    "    def clear(self):\n",
    "        self.history.clear()\n",
    "with open('somefile.txt') as f:\n",
    "    lines = linehistory(f)\n",
    "    for line in lines:\n",
    "        if 'python' in line:\n",
    "            for lineno, hline in lines.history:\n",
    "                print('{}:{}'.format(lineno, hline), end='')"
   ]
  },
  {
   "cell_type": "code",
   "execution_count": 17,
   "metadata": {
    "ExecuteTime": {
     "end_time": "2020-01-14T09:18:37.391184Z",
     "start_time": "2020-01-14T09:18:37.377222Z"
    }
   },
   "outputs": [
    {
     "data": {
      "text/plain": [
       "['1\\n', '2\\n', '3\\n']"
      ]
     },
     "execution_count": 17,
     "metadata": {},
     "output_type": "execute_result"
    }
   ],
   "source": [
    "函数 itertools.islice() 正好适用于在迭代器和生成器上做切片操作\n",
    "#如果你想跳过开始部分的注释行的话，\n",
    "from itertools import dropwhile\n",
    "with open('/etc/passwd') as f:\n",
    "    for line in dropwhile(lambda line: line.startswith('#'), f):\n",
    "        print(line, end='')"
   ]
  },
  {
   "cell_type": "code",
   "execution_count": null,
   "metadata": {},
   "outputs": [],
   "source": []
  }
 ],
 "metadata": {
  "kernelspec": {
   "display_name": "Python 3",
   "language": "python",
   "name": "python3"
  },
  "language_info": {
   "codemirror_mode": {
    "name": "ipython",
    "version": 3
   },
   "file_extension": ".py",
   "mimetype": "text/x-python",
   "name": "python",
   "nbconvert_exporter": "python",
   "pygments_lexer": "ipython3",
   "version": "3.7.4"
  },
  "toc": {
   "base_numbering": 1,
   "nav_menu": {},
   "number_sections": true,
   "sideBar": true,
   "skip_h1_title": true,
   "title_cell": "Table of Contents",
   "title_sidebar": "Contents",
   "toc_cell": false,
   "toc_position": {},
   "toc_section_display": true,
   "toc_window_display": true
  },
  "varInspector": {
   "cols": {
    "lenName": 16,
    "lenType": 16,
    "lenVar": 40
   },
   "kernels_config": {
    "python": {
     "delete_cmd_postfix": "",
     "delete_cmd_prefix": "del ",
     "library": "var_list.py",
     "varRefreshCmd": "print(var_dic_list())"
    },
    "r": {
     "delete_cmd_postfix": ") ",
     "delete_cmd_prefix": "rm(",
     "library": "var_list.r",
     "varRefreshCmd": "cat(var_dic_list()) "
    }
   },
   "types_to_exclude": [
    "module",
    "function",
    "builtin_function_or_method",
    "instance",
    "_Feature"
   ],
   "window_display": false
  }
 },
 "nbformat": 4,
 "nbformat_minor": 2
}
