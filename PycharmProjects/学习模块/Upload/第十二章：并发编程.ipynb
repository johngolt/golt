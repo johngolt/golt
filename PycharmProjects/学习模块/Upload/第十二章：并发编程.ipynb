{
 "cells": [
  {
   "cell_type": "markdown",
   "metadata": {},
   "source": [
    "# 第十二章：并发编程\n 对于并发编程, Python有多种长期支持的方法, 包括多线程, 调用子进程, 以及各种各样的关于生成器函数的技巧.\n这一章将会给出并发编程各种方面的技巧, 包括通用的多线程技术以及并行计算的实现方法."
   ]
  },
  {
   "cell_type": "markdown",
   "metadata": {},
   "source": [
    "## 12.1 启动与停止线程\n"
   ]
  },
  {
   "cell_type": "markdown",
   "metadata": {},
   "source": [
    "### 问题\n"
   ]
  },
  {
   "cell_type": "markdown",
   "metadata": {},
   "source": [
    "你要为需要并发执行的代码创建/销毁线程"
   ]
  },
  {
   "cell_type": "markdown",
   "metadata": {},
   "source": [
    "### 解决方案\n"
   ]
  },
  {
   "cell_type": "markdown",
   "metadata": {},
   "source": [
    "threading 库可以在单独的线程中执行任何的在 Python 中可以调用的对象。你可以创建一个 Thread 对象并将你要执行的对象以 target 参数的形式提供给该对象。\n下面是一个简单的例子："
   ]
  },
  {
   "cell_type": "code",
   "execution_count": null,
   "metadata": {},
   "outputs": [],
   "source": [
    "# Code to execute in an independent thread\nimport time\ndef countdown(n):\n    while n > 0:\n        print('T-minus', n)\n        n -= 1\n        time.sleep(5)\n\n# Create and launch a thread\nfrom threading import Thread\nt = Thread(target=countdown, args=(10,))\nt.start()"
   ]
  },
  {
   "cell_type": "markdown",
   "metadata": {},
   "source": [
    "当你创建好一个线程对象后，该对象并不会立即执行，除非你调用它的 start() 方法（当你调用 start() 方法时，它会调用你传递进来的函数，并把你传递进来的参数传递给该函数）。Python中的线程会在一个单独的系统级线程中执行（比如说一个 POSIX 线程或者一个 Windows 线程），这些线程将由操作系统来全权管理。线程一旦启动，将独立执行直到目标函数返回。你可以查询一个线程对象的状态，看它是否还在执行："
   ]
  },
  {
   "cell_type": "code",
   "execution_count": null,
   "metadata": {},
   "outputs": [],
   "source": [
    "if t.is_alive():\n    print('Still running')\nelse:\n    print('Completed')"
   ]
  },
  {
   "cell_type": "markdown",
   "metadata": {},
   "source": [
    "你也可以将一个线程加入到当前线程，并等待它终止："
   ]
  },
  {
   "cell_type": "code",
   "execution_count": null,
   "metadata": {},
   "outputs": [],
   "source": [
    "t.join()"
   ]
  },
  {
   "cell_type": "markdown",
   "metadata": {},
   "source": [
    "Python解释器直到所有线程都终止前仍保持运行。对于需要长时间运行的线程或者需要一直运行的后台任务，你应当考虑使用后台线程。\n例如："
   ]
  },
  {
   "cell_type": "code",
   "execution_count": null,
   "metadata": {},
   "outputs": [],
   "source": [
    "t = Thread(target=countdown, args=(10,), daemon=True)\nt.start()"
   ]
  },
  {
   "cell_type": "markdown",
   "metadata": {},
   "source": [
    "后台线程无法等待，不过，这些线程会在主线程终止时自动销毁。\n除了如上所示的两个操作，并没有太多可以对线程做的事情。你无法结束一个线程，无法给它发送信号，无法调整它的调度，也无法执行其他高级操作。如果需要这些特性，你需要自己添加。比如说，如果你需要终止线程，那么这个线程必须通过编程在某个特定点轮询来退出。你可以像下边这样把线程放入一个类中："
   ]
  },
  {
   "cell_type": "code",
   "execution_count": null,
   "metadata": {},
   "outputs": [],
   "source": [
    "class CountdownTask:\n    def __init__(self):\n        self._running = True\n\n    def terminate(self):\n        self._running = False\n\n    def run(self, n):\n        while self._running and n > 0:\n            print('T-minus', n)\n            n -= 1\n            time.sleep(5)\n\nc = CountdownTask()\nt = Thread(target=c.run, args=(10,))\nt.start()\nc.terminate() # Signal termination\nt.join()      # Wait for actual termination (if needed)"
   ]
  },
  {
   "cell_type": "markdown",
   "metadata": {},
   "source": [
    "如果线程执行一些像I/O这样的阻塞操作，那么通过轮询来终止线程将使得线程之间的协调变得非常棘手。比如，如果一个线程一直阻塞在一个I/O操作上，它就永远无法返回，也就无法检查自己是否已经被结束了。要正确处理这些问题，你需要利用超时循环来小心操作线程。\n例子如下："
   ]
  },
  {
   "cell_type": "code",
   "execution_count": null,
   "metadata": {},
   "outputs": [],
   "source": [
    "class IOTask:\n    def terminate(self):\n        self._running = False\n\n    def run(self, sock):\n        # sock is a socket\n        sock.settimeout(5)        # Set timeout period\n        while self._running:\n            # Perform a blocking I/O operation w/ timeout\n            try:\n                data = sock.recv(8192)\n                break\n            except socket.timeout:\n                continue\n            # Continued processing\n            ...\n        # Terminated\n        return"
   ]
  },
  {
   "cell_type": "markdown",
   "metadata": {},
   "source": [
    "### 讨论\n"
   ]
  },
  {
   "cell_type": "markdown",
   "metadata": {},
   "source": [
    "由于全局解释锁（GIL）的原因，Python 的线程被限制到同一时刻只允许一个线程执行这样一个执行模型。所以，Python 的线程更适用于处理I/O和其他需要并发执行的阻塞操作（比如等待I/O、等待从数据库获取数据等等），而不是需要多处理器并行的计算密集型任务。"
   ]
  },
  {
   "cell_type": "markdown",
   "metadata": {},
   "source": [
    "有时你会看到下边这种通过继承 Thread 类来实现的线程："
   ]
  },
  {
   "cell_type": "code",
   "execution_count": null,
   "metadata": {},
   "outputs": [],
   "source": [
    "from threading import Thread\n\nclass CountdownThread(Thread):\n    def __init__(self, n):\n        super().__init__()\n        self.n = n\n    def run(self):\n        while self.n > 0:\n\n            print('T-minus', self.n)\n            self.n -= 1\n            time.sleep(5)\n\nc = CountdownThread(5)\nc.start()"
   ]
  },
  {
   "cell_type": "markdown",
   "metadata": {},
   "source": [
    "尽管这样也可以工作，但这使得你的代码依赖于 threading 库，所以你的这些代码只能在线程上下文中使用。上文所写的那些代码、函数都是与 threading 库无关的，这样就使得这些代码可以被用在其他的上下文中，可能与线程有关，也可能与线程无关。比如，你可以通过 multiprocessing 模块在一个单独的进程中执行你的代码："
   ]
  },
  {
   "cell_type": "code",
   "execution_count": null,
   "metadata": {},
   "outputs": [],
   "source": [
    "import multiprocessing\nc = CountdownTask(5)\np = multiprocessing.Process(target=c.run)\np.start()"
   ]
  },
  {
   "cell_type": "markdown",
   "metadata": {},
   "source": [
    "再次重申，这段代码仅适用于 CountdownTask 类是以独立于实际的并发手段（多线程、多进程等等）实现的情况。"
   ]
  },
  {
   "cell_type": "markdown",
   "metadata": {},
   "source": [
    "## 12.2 判断线程是否已经启动\n"
   ]
  },
  {
   "cell_type": "markdown",
   "metadata": {},
   "source": [
    "### 问题\n"
   ]
  },
  {
   "cell_type": "markdown",
   "metadata": {},
   "source": [
    "你已经启动了一个线程，但是你想知道它是不是真的已经开始运行了。"
   ]
  },
  {
   "cell_type": "markdown",
   "metadata": {},
   "source": [
    "### 解决方案\n"
   ]
  },
  {
   "cell_type": "markdown",
   "metadata": {},
   "source": [
    "线程的一个关键特性是每个线程都是独立运行且状态不可预测。如果程序中的其他线程需要通过判断某个线程的状态来确定自己下一步的操作，这时线程同步问题就会变得非常棘手。为了解决这些问题，我们需要使用 threading 库中的 Event 对象。\nEvent 对象包含一个可由线程设置的信号标志，它允许线程等待某些事件的发生。在初始情况下，event 对象中的信号标志被设置为假。如果有线程等待一个 event 对象，而这个 event 对象的标志为假，那么这个线程将会被一直阻塞直至该标志为真。一个线程如果将一个 event 对象的信号标志设置为真，它将唤醒所有等待这个 event 对象的线程。如果一个线程等待一个已经被设置为真的 event 对象，那么它将忽略这个事件，继续执行。\n下边的代码展示了如何使用 Event 来协调线程的启动："
   ]
  },
  {
   "cell_type": "code",
   "execution_count": null,
   "metadata": {},
   "outputs": [],
   "source": [
    "from threading import Thread, Event\nimport time\n\n# Code to execute in an independent thread\ndef countdown(n, started_evt):\n    print('countdown starting')\n    started_evt.set()\n    while n > 0:\n        print('T-minus', n)\n        n -= 1\n        time.sleep(5)\n\n# Create the event object that will be used to signal startup\nstarted_evt = Event()\n\n# Launch the thread and pass the startup event\nprint('Launching countdown')\nt = Thread(target=countdown, args=(10,started_evt))\nt.start()\n\n# Wait for the thread to start\nstarted_evt.wait()\nprint('countdown is running')"
   ]
  },
  {
   "cell_type": "markdown",
   "metadata": {},
   "source": [
    "当你执行这段代码，“countdown is running” 总是显示在 “countdown starting” 之后显示。这是由于使用 event 来协调线程，使得主线程要等到 countdown() 函数输出启动信息后，才能继续执行。"
   ]
  },
  {
   "cell_type": "markdown",
   "metadata": {},
   "source": [
    "### 讨论\n"
   ]
  },
  {
   "cell_type": "markdown",
   "metadata": {},
   "source": [
    "event 对象最好单次使用，就是说，你创建一个 event 对象，让某个线程等待这个对象，一旦这个对象被设置为真，你就应该丢弃它。尽管可以通过 clear() 方法来重置 event 对象，但是很难确保安全地清理 event 对象并对它重新赋值。很可能会发生错过事件、死锁或者其他问题（特别是，你无法保证重置 event 对象的代码会在线程再次等待这个 event 对象之前执行）。如果一个线程需要不停地重复使用 event 对象，你最好使用 Condition 对象来代替。下面的代码使用 Condition 对象实现了一个周期定时器，每当定时器超时的时候，其他线程都可以监测到："
   ]
  },
  {
   "cell_type": "code",
   "execution_count": null,
   "metadata": {},
   "outputs": [],
   "source": [
    "import threading\nimport time\n\nclass PeriodicTimer:\n    def __init__(self, interval):\n        self._interval = interval\n        self._flag = 0\n        self._cv = threading.Condition()\n\n    def start(self):\n        t = threading.Thread(target=self.run)\n        t.daemon = True\n\n        t.start()\n\n    def run(self):\n        '''\n        Run the timer and notify waiting threads after each interval\n        '''\n        while True:\n            time.sleep(self._interval)\n            with self._cv:\n                 self._flag ^= 1\n                 self._cv.notify_all()\n\n    def wait_for_tick(self):\n        '''\n        Wait for the next tick of the timer\n        '''\n        with self._cv:\n            last_flag = self._flag\n            while last_flag == self._flag:\n                self._cv.wait()\n\n# Example use of the timer\nptimer = PeriodicTimer(5)\nptimer.start()\n\n# Two threads that synchronize on the timer\ndef countdown(nticks):\n    while nticks > 0:\n        ptimer.wait_for_tick()\n        print('T-minus', nticks)\n        nticks -= 1\n\ndef countup(last):\n    n = 0\n    while n < last:\n        ptimer.wait_for_tick()\n        print('Counting', n)\n        n += 1\n\nthreading.Thread(target=countdown, args=(10,)).start()\nthreading.Thread(target=countup, args=(5,)).start()"
   ]
  },
  {
   "cell_type": "markdown",
   "metadata": {},
   "source": [
    "event对象的一个重要特点是当它被设置为真时会唤醒所有等待它的线程。如果你只想唤醒单个线程，最好是使用信号量或者 Condition 对象来替代。考虑一下这段使用信号量实现的代码："
   ]
  },
  {
   "cell_type": "code",
   "execution_count": null,
   "metadata": {},
   "outputs": [],
   "source": [
    "# Worker thread\ndef worker(n, sema):\n    # Wait to be signaled\n    sema.acquire()\n\n    # Do some work\n    print('Working', n)\n\n# Create some threads\nsema = threading.Semaphore(0)\nnworkers = 10\nfor n in range(nworkers):\n    t = threading.Thread(target=worker, args=(n, sema,))\n    t.start()"
   ]
  },
  {
   "cell_type": "markdown",
   "metadata": {},
   "source": [
    "运行上边的代码将会启动一个线程池，但是并没有什么事情发生。这是因为所有的线程都在等待获取信号量。每次信号量被释放，只有一个线程会被唤醒并执行，示例如下："
   ]
  },
  {
   "cell_type": "code",
   "execution_count": null,
   "metadata": {},
   "outputs": [],
   "source": [
    "sema.release()"
   ]
  },
  {
   "cell_type": "code",
   "execution_count": null,
   "metadata": {},
   "outputs": [],
   "source": [
    "sema.release()"
   ]
  },
  {
   "cell_type": "markdown",
   "metadata": {},
   "source": [
    "编写涉及到大量的线程间同步问题的代码会让你痛不欲生。比较合适的方式是使用队列来进行线程间通信或者每个把线程当作一个Actor，利用Actor模型来控制并发。下一节将会介绍到队列，而Actor模型将在12.10节介绍。"
   ]
  },
  {
   "cell_type": "markdown",
   "metadata": {},
   "source": [
    "## 12.3 线程间通信\n"
   ]
  },
  {
   "cell_type": "markdown",
   "metadata": {},
   "source": [
    "### 问题\n"
   ]
  },
  {
   "cell_type": "markdown",
   "metadata": {},
   "source": [
    "你的程序中有多个线程，你需要在这些线程之间安全地交换信息或数据"
   ]
  },
  {
   "cell_type": "markdown",
   "metadata": {},
   "source": [
    "### 解决方案\n"
   ]
  },
  {
   "cell_type": "markdown",
   "metadata": {},
   "source": [
    "从一个线程向另一个线程发送数据最安全的方式可能就是使用 queue 库中的队列了。创建一个被多个线程共享的 Queue 对象，这些线程通过使用 put() 和 get() 操作来向队列中添加或者删除元素。\n例如："
   ]
  },
  {
   "cell_type": "code",
   "execution_count": null,
   "metadata": {},
   "outputs": [],
   "source": [
    "from queue import Queue\nfrom threading import Thread\n\n# A thread that produces data\ndef producer(out_q):\n    while True:\n        # Produce some data\n        ...\n        out_q.put(data)\n\n# A thread that consumes data\ndef consumer(in_q):\n    while True:\n# Get some data\n        data = in_q.get()\n        # Process the data\n        ...\n\n# Create the shared queue and launch both threads\nq = Queue()\nt1 = Thread(target=consumer, args=(q,))\nt2 = Thread(target=producer, args=(q,))\nt1.start()\nt2.start()"
   ]
  },
  {
   "cell_type": "markdown",
   "metadata": {},
   "source": [
    "Queue 对象已经包含了必要的锁，所以你可以通过它在多个线程间多安全地共享数据。\n当使用队列时，协调生产者和消费者的关闭问题可能会有一些麻烦。一个通用的解决方法是在队列中放置一个特殊的值，当消费者读到这个值的时候，终止执行。例如："
   ]
  },
  {
   "cell_type": "code",
   "execution_count": null,
   "metadata": {},
   "outputs": [],
   "source": [
    "from queue import Queue\nfrom threading import Thread\n\n# Object that signals shutdown\n_sentinel = object()\n\n# A thread that produces data\ndef producer(out_q):\n    while running:\n        # Produce some data\n        ...\n        out_q.put(data)\n\n    # Put the sentinel on the queue to indicate completion\n    out_q.put(_sentinel)\n\n# A thread that consumes data\ndef consumer(in_q):\n    while True:\n        # Get some data\n        data = in_q.get()\n\n        # Check for termination\n        if data is _sentinel:\n            in_q.put(_sentinel)\n            break\n\n        # Process the data\n        ..."
   ]
  },
  {
   "cell_type": "markdown",
   "metadata": {},
   "source": [
    "本例中有一个特殊的地方：消费者在读到这个特殊值之后立即又把它放回到队列中，将之传递下去。这样，所有监听这个队列的消费者线程就可以全部关闭了。\n尽管队列是最常见的线程间通信机制，但是仍然可以自己通过创建自己的数据结构并添加所需的锁和同步机制来实现线程间通信。最常见的方法是使用 Condition 变量来包装你的数据结构。下边这个例子演示了如何创建一个线程安全的优先级队列，如同1.5节中介绍的那样。"
   ]
  },
  {
   "cell_type": "code",
   "execution_count": null,
   "metadata": {},
   "outputs": [],
   "source": [
    "import heapq\nimport threading\n\nclass PriorityQueue:\n    def __init__(self):\n        self._queue = []\n        self._count = 0\n        self._cv = threading.Condition()\n    def put(self, item, priority):\n        with self._cv:\n            heapq.heappush(self._queue, (-priority, self._count, item))\n            self._count += 1\n            self._cv.notify()\n\n    def get(self):\n        with self._cv:\n            while len(self._queue) == 0:\n                self._cv.wait()\n            return heapq.heappop(self._queue)[-1]"
   ]
  },
  {
   "cell_type": "markdown",
   "metadata": {},
   "source": [
    "使用队列来进行线程间通信是一个单向、不确定的过程。通常情况下，你没有办法知道接收数据的线程是什么时候接收到的数据并开始工作的。不过队列对象提供一些基本完成的特性，比如下边这个例子中的 task_done() 和 join() ："
   ]
  },
  {
   "cell_type": "code",
   "execution_count": null,
   "metadata": {},
   "outputs": [],
   "source": [
    "from queue import Queue\nfrom threading import Thread\n\n# A thread that produces data\ndef producer(out_q):\n    while running:\n        # Produce some data\n        ...\n        out_q.put(data)\n\n# A thread that consumes data\ndef consumer(in_q):\n    while True:\n        # Get some data\n        data = in_q.get()\n\n        # Process the data\n        ...\n        # Indicate completion\n        in_q.task_done()\n\n# Create the shared queue and launch both threads\nq = Queue()\nt1 = Thread(target=consumer, args=(q,))\nt2 = Thread(target=producer, args=(q,))\nt1.start()\nt2.start()\n\n# Wait for all produced items to be consumed\nq.join()"
   ]
  },
  {
   "cell_type": "markdown",
   "metadata": {},
   "source": [
    "如果一个线程需要在一个“消费者”线程处理完特定的数据项时立即得到通知，你可以把要发送的数据和一个 Event 放到一起使用，这样“生产者”就可以通过这个Event对象来监测处理的过程了。示例如下："
   ]
  },
  {
   "cell_type": "code",
   "execution_count": null,
   "metadata": {},
   "outputs": [],
   "source": [
    "from queue import Queue\nfrom threading import Thread, Event\n\n# A thread that produces data\ndef producer(out_q):\n    while running:\n        # Produce some data\n        ...\n        # Make an (data, event) pair and hand it to the consumer\n        evt = Event()\n        out_q.put((data, evt))\n        ...\n        # Wait for the consumer to process the item\n        evt.wait()\n\n# A thread that consumes data\ndef consumer(in_q):\n    while True:\n        # Get some data\n        data, evt = in_q.get()\n        # Process the data\n        ...\n        # Indicate completion\n        evt.set()"
   ]
  },
  {
   "cell_type": "markdown",
   "metadata": {},
   "source": [
    "### 讨论\n"
   ]
  },
  {
   "cell_type": "markdown",
   "metadata": {},
   "source": [
    "基于简单队列编写多线程程序在多数情况下是一个比较明智的选择。从线程安全队列的底层实现来看，你无需在你的代码中使用锁和其他底层的同步机制，这些只会把你的程序弄得乱七八糟。此外，使用队列这种基于消息的通信机制可以被扩展到更大的应用范畴，比如，你可以把你的程序放入多个进程甚至是分布式系统而无需改变底层的队列结构。\n使用线程队列有一个要注意的问题是，向队列中添加数据项时并不会复制此数据项，线程间通信实际上是在线程间传递对象引用。如果你担心对象的共享状态，那你最好只传递不可修改的数据结构（如：整型、字符串或者元组）或者一个对象的深拷贝。例如："
   ]
  },
  {
   "cell_type": "code",
   "execution_count": null,
   "metadata": {},
   "outputs": [],
   "source": [
    "from queue import Queue\nfrom threading import Thread\nimport copy\n\n# A thread that produces data\ndef producer(out_q):\n    while True:\n        # Produce some data\n        ...\n        out_q.put(copy.deepcopy(data))\n\n# A thread that consumes data\ndef consumer(in_q):\n    while True:\n        # Get some data\n        data = in_q.get()\n        # Process the data\n        ..."
   ]
  },
  {
   "cell_type": "markdown",
   "metadata": {},
   "source": [
    "Queue 对象提供一些在当前上下文很有用的附加特性。比如在创建 Queue 对象时提供可选的 size 参数来限制可以添加到队列中的元素数量。对于“生产者”与“消费者”速度有差异的情况，为队列中的元素数量添加上限是有意义的。比如，一个“生产者”产生项目的速度比“消费者” “消费”的速度快，那么使用固定大小的队列就可以在队列已满的时候阻塞队列，以免未预期的连锁效应扩散整个程序造成死锁或者程序运行失常。在通信的线程之间进行“流量控制”是一个看起来容易实现起来困难的问题。如果你发现自己曾经试图通过摆弄队列大小来解决一个问题，这也许就标志着你的程序可能存在脆弱设计或者固有的可伸缩问题。\nget() 和 put() 方法都支持非阻塞方式和设定超时，例如："
   ]
  },
  {
   "cell_type": "code",
   "execution_count": null,
   "metadata": {},
   "outputs": [],
   "source": [
    "import queue\nq = queue.Queue()\n\ntry:\n    data = q.get(block=False)\nexcept queue.Empty:\n    ...\n\ntry:\n    q.put(item, block=False)\nexcept queue.Full:\n    ...\n\ntry:\n    data = q.get(timeout=5.0)\nexcept queue.Empty:\n    ..."
   ]
  },
  {
   "cell_type": "markdown",
   "metadata": {},
   "source": [
    "这些操作都可以用来避免当执行某些特定队列操作时发生无限阻塞的情况，比如，一个非阻塞的 put() 方法和一个固定大小的队列一起使用，这样当队列已满时就可以执行不同的代码。比如输出一条日志信息并丢弃。"
   ]
  },
  {
   "cell_type": "code",
   "execution_count": null,
   "metadata": {},
   "outputs": [],
   "source": [
    "def producer(q):\n    ...\n    try:\n        q.put(item, block=False)\n    except queue.Full:\n        log.warning('queued item %r discarded!', item)"
   ]
  },
  {
   "cell_type": "markdown",
   "metadata": {},
   "source": [
    "如果你试图让消费者线程在执行像 q.get() 这样的操作时，超时自动终止以便检查终止标志，你应该使用 q.get() 的可选参数 timeout ，如下："
   ]
  },
  {
   "cell_type": "code",
   "execution_count": null,
   "metadata": {},
   "outputs": [],
   "source": [
    "_running = True\n\ndef consumer(q):\n    while _running:\n        try:\n            item = q.get(timeout=5.0)\n            # Process item\n            ...\n        except queue.Empty:\n            pass"
   ]
  },
  {
   "cell_type": "markdown",
   "metadata": {},
   "source": [
    "最后，有 q.qsize() ， q.full() ， q.empty() 等实用方法可以获取一个队列的当前大小和状态。但要注意，这些方法都不是线程安全的。可能你对一个队列使用 empty() 判断出这个队列为空，但同时另外一个线程可能已经向这个队列中插入一个数据项。所以，你最好不要在你的代码中使用这些方法。"
   ]
  },
  {
   "cell_type": "markdown",
   "metadata": {},
   "source": [
    "## 12.4 给关键部分加锁\n"
   ]
  },
  {
   "cell_type": "markdown",
   "metadata": {},
   "source": [
    "### 问题\n"
   ]
  },
  {
   "cell_type": "markdown",
   "metadata": {},
   "source": [
    "你需要对多线程程序中的临界区加锁以避免竞争条件。"
   ]
  },
  {
   "cell_type": "markdown",
   "metadata": {},
   "source": [
    "### 解决方案\n"
   ]
  },
  {
   "cell_type": "markdown",
   "metadata": {},
   "source": [
    "要在多线程程序中安全使用可变对象，你需要使用 threading 库中的 Lock 对象，就像下边这个例子这样："
   ]
  },
  {
   "cell_type": "code",
   "execution_count": null,
   "metadata": {},
   "outputs": [],
   "source": [
    "import threading\n\nclass SharedCounter:\n    '''\n    A counter object that can be shared by multiple threads.\n    '''\n    def __init__(self, initial_value = 0):\n        self._value = initial_value\n        self._value_lock = threading.Lock()\n\n    def incr(self,delta=1):\n        '''\n        Increment the counter with locking\n        '''\n        with self._value_lock:\n             self._value += delta\n\n    def decr(self,delta=1):\n        '''\n        Decrement the counter with locking\n        '''\n        with self._value_lock:\n             self._value -= delta"
   ]
  },
  {
   "cell_type": "markdown",
   "metadata": {},
   "source": [
    "Lock 对象和 with 语句块一起使用可以保证互斥执行，就是每次只有一个线程可以执行 with 语句包含的代码块。with 语句会在这个代码块执行前自动获取锁，在执行结束后自动释放锁。"
   ]
  },
  {
   "cell_type": "markdown",
   "metadata": {},
   "source": [
    "### 讨论\n"
   ]
  },
  {
   "cell_type": "markdown",
   "metadata": {},
   "source": [
    "线程调度本质上是不确定的，因此，在多线程程序中错误地使用锁机制可能会导致随机数据损坏或者其他的异常行为，我们称之为竞争条件。为了避免竞争条件，最好只在临界区（对临界资源进行操作的那部分代码）使用锁。\n在一些“老的” Python 代码中，显式获取和释放锁是很常见的。下边是一个上一个例子的变种："
   ]
  },
  {
   "cell_type": "code",
   "execution_count": null,
   "metadata": {},
   "outputs": [],
   "source": [
    "import threading\n\nclass SharedCounter:\n    '''\n    A counter object that can be shared by multiple threads.\n    '''\n    def __init__(self, initial_value = 0):\n        self._value = initial_value\n        self._value_lock = threading.Lock()\n\n    def incr(self,delta=1):\n        '''\n        Increment the counter with locking\n        '''\n        self._value_lock.acquire()\n        self._value += delta\n        self._value_lock.release()\n\n    def decr(self,delta=1):\n        '''\n        Decrement the counter with locking\n        '''\n        self._value_lock.acquire()\n        self._value -= delta\n        self._value_lock.release()"
   ]
  },
  {
   "cell_type": "markdown",
   "metadata": {},
   "source": [
    "相比于这种显式调用的方法，with 语句更加优雅，也更不容易出错，特别是程序员可能会忘记调用 release() 方法或者程序在获得锁之后产生异常这两种情况（使用 with 语句可以保证在这两种情况下仍能正确释放锁）。\n为了避免出现死锁的情况，使用锁机制的程序应该设定为每个线程一次只允许获取一个锁。如果不能这样做的话，你就需要更高级的死锁避免机制，我们将在12.5节介绍。\n在 threading 库中还提供了其他的同步原语，比如 RLock 和 Semaphore 对象。但是根据以往经验，这些原语是用于一些特殊的情况，如果你只是需要简单地对可变对象进行锁定，那就不应该使用它们。一个 RLock （可重入锁）可以被同一个线程多次获取，主要用来实现基于监测对象模式的锁定和同步。在使用这种锁的情况下，当锁被持有时，只有一个线程可以使用完整的函数或者类中的方法。比如，你可以实现一个这样的 SharedCounter 类："
   ]
  },
  {
   "cell_type": "code",
   "execution_count": null,
   "metadata": {},
   "outputs": [],
   "source": [
    "import threading\n\nclass SharedCounter:\n    '''\n    A counter object that can be shared by multiple threads.\n    '''\n    _lock = threading.RLock()\n    def __init__(self, initial_value = 0):\n        self._value = initial_value\n\n    def incr(self,delta=1):\n        '''\n        Increment the counter with locking\n        '''\n        with SharedCounter._lock:\n            self._value += delta\n\n    def decr(self,delta=1):\n        '''\n        Decrement the counter with locking\n        '''\n        with SharedCounter._lock:\n             self.incr(-delta)"
   ]
  },
  {
   "cell_type": "markdown",
   "metadata": {},
   "source": [
    "在上边这个例子中，没有对每一个实例中的可变对象加锁，取而代之的是一个被所有实例共享的类级锁。这个锁用来同步类方法，具体来说就是，这个锁可以保证一次只有一个线程可以调用这个类方法。不过，与一个标准的锁不同的是，已经持有这个锁的方法在调用同样使用这个锁的方法时，无需再次获取锁。比如 decr 方法。\n这种实现方式的一个特点是，无论这个类有多少个实例都只用一个锁。因此在需要大量使用计数器的情况下内存效率更高。不过这样做也有缺点，就是在程序中使用大量线程并频繁更新计数器时会有争用锁的问题。\n信号量对象是一个建立在共享计数器基础上的同步原语。如果计数器不为0，with 语句将计数器减1，线程被允许执行。with 语句执行结束后，计数器加１。如果计数器为0，线程将被阻塞，直到其他线程结束将计数器加1。尽管你可以在程序中像标准锁一样使用信号量来做线程同步，但是这种方式并不被推荐，因为使用信号量为程序增加的复杂性会影响程序性能。相对于简单地作为锁使用，信号量更适用于那些需要在线程之间引入信号或者限制的程序。比如，你需要限制一段代码的并发访问量，你就可以像下面这样使用信号量完成："
   ]
  },
  {
   "cell_type": "code",
   "execution_count": null,
   "metadata": {},
   "outputs": [],
   "source": [
    "from threading import Semaphore\nimport urllib.request\n\n# At most, five threads allowed to run at once\n_fetch_url_sema = Semaphore(5)\n\ndef fetch_url(url):\n    with _fetch_url_sema:\n        return urllib.request.urlopen(url)"
   ]
  },
  {
   "cell_type": "markdown",
   "metadata": {},
   "source": [
    "如果你对线程同步原语的底层理论和实现感兴趣，可以参考操作系统相关书籍，绝大多数都有提及。"
   ]
  },
  {
   "cell_type": "markdown",
   "metadata": {},
   "source": [
    "## 12.5 防止死锁的加锁机制\n"
   ]
  },
  {
   "cell_type": "markdown",
   "metadata": {},
   "source": [
    "### 问题\n"
   ]
  },
  {
   "cell_type": "markdown",
   "metadata": {},
   "source": [
    "你正在写一个多线程程序，其中线程需要一次获取多个锁，此时如何避免死锁问题。"
   ]
  },
  {
   "cell_type": "markdown",
   "metadata": {},
   "source": [
    "### 解决方案\n"
   ]
  },
  {
   "cell_type": "markdown",
   "metadata": {},
   "source": [
    "在多线程程序中，死锁问题很大一部分是由于线程同时获取多个锁造成的。举个例子：一个线程获取了第一个锁，然后在获取第二个锁的\n时候发生阻塞，那么这个线程就可能阻塞其他线程的执行，从而导致整个程序假死。\n解决死锁问题的一种方案是为程序中的每一个锁分配一个唯一的id，然后只允许按照升序规则来使用多个锁，这个规则使用上下文管理器\n是非常容易实现的，示例如下："
   ]
  },
  {
   "cell_type": "code",
   "execution_count": null,
   "metadata": {},
   "outputs": [],
   "source": [
    "import threading\nfrom contextlib import contextmanager\n\n# Thread-local state to stored information on locks already acquired\n_local = threading.local()\n\n@contextmanager\ndef acquire(*locks):\n    # Sort locks by object identifier\n    locks = sorted(locks, key=lambda x: id(x))\n\n    # Make sure lock order of previously acquired locks is not violated\n    acquired = getattr(_local,'acquired',[])\n    if acquired and max(id(lock) for lock in acquired) >= id(locks[0]):\n        raise RuntimeError('Lock Order Violation')\n\n    # Acquire all of the locks\n    acquired.extend(locks)\n    _local.acquired = acquired\n\n    try:\n        for lock in locks:\n            lock.acquire()\n        yield\n    finally:\n        # Release locks in reverse order of acquisition\n        for lock in reversed(locks):\n            lock.release()\n        del acquired[-len(locks):]"
   ]
  },
  {
   "cell_type": "markdown",
   "metadata": {},
   "source": [
    "如何使用这个上下文管理器呢？你可以按照正常途径创建一个锁对象，但不论是单个锁还是多个锁中都使用 acquire() 函数来申请锁，\n示例如下："
   ]
  },
  {
   "cell_type": "code",
   "execution_count": null,
   "metadata": {},
   "outputs": [],
   "source": [
    "import threading\nx_lock = threading.Lock()\ny_lock = threading.Lock()\n\ndef thread_1():\n    while True:\n        with acquire(x_lock, y_lock):\n            print('Thread-1')\n\ndef thread_2():\n    while True:\n        with acquire(y_lock, x_lock):\n            print('Thread-2')\n\nt1 = threading.Thread(target=thread_1)\nt1.daemon = True\nt1.start()\n\nt2 = threading.Thread(target=thread_2)\nt2.daemon = True\nt2.start()"
   ]
  },
  {
   "cell_type": "markdown",
   "metadata": {},
   "source": [
    "如果你执行这段代码，你会发现它即使在不同的函数中以不同的顺序获取锁也没有发生死锁。\n其关键在于，在第一段代码中，我们对这些锁进行了排序。通过排序，使得不管用户以什么样的顺序来请求锁，这些锁都会按照固定的顺序被获取。\n如果有多个 acquire() 操作被嵌套调用，可以通过线程本地存储（TLS）来检测潜在的死锁问题。\n假设你的代码是这样写的："
   ]
  },
  {
   "cell_type": "code",
   "execution_count": null,
   "metadata": {},
   "outputs": [],
   "source": [
    "import threading\nx_lock = threading.Lock()\ny_lock = threading.Lock()\n\ndef thread_1():\n\n    while True:\n        with acquire(x_lock):\n            with acquire(y_lock):\n                print('Thread-1')\n\ndef thread_2():\n    while True:\n        with acquire(y_lock):\n            with acquire(x_lock):\n                print('Thread-2')\n\nt1 = threading.Thread(target=thread_1)\nt1.daemon = True\nt1.start()\n\nt2 = threading.Thread(target=thread_2)\nt2.daemon = True\nt2.start()"
   ]
  },
  {
   "cell_type": "markdown",
   "metadata": {},
   "source": [
    "如果你运行这个版本的代码，必定会有一个线程发生崩溃，异常信息可能像这样："
   ]
  },
  {
   "cell_type": "markdown",
   "metadata": {},
   "source": [
    "发生崩溃的原因在于，每个线程都记录着自己已经获取到的锁。 acquire() 函数会检查之前已经获取的锁列表，\n由于锁是按照升序排列获取的，所以函数会认为之前已获取的锁的id必定小于新申请到的锁，这时就会触发异常。"
   ]
  },
  {
   "cell_type": "markdown",
   "metadata": {},
   "source": [
    "### 讨论\n"
   ]
  },
  {
   "cell_type": "markdown",
   "metadata": {},
   "source": [
    "死锁是每一个多线程程序都会面临的一个问题（就像它是每一本操作系统课本的共同话题一样）。根据经验来讲，尽可能保证每一个\n线程只能同时保持一个锁，这样程序就不会被死锁问题所困扰。一旦有线程同时申请多个锁，一切就不可预料了。"
   ]
  },
  {
   "cell_type": "markdown",
   "metadata": {},
   "source": [
    "死锁的检测与恢复是一个几乎没有优雅的解决方案的扩展话题。一个比较常用的死锁检测与恢复的方案是引入看门狗计数器。当线程正常\n运行的时候会每隔一段时间重置计数器，在没有发生死锁的情况下，一切都正常进行。一旦发生死锁，由于无法重置计数器导致定时器\n超时，这时程序会通过重启自身恢复到正常状态。"
   ]
  },
  {
   "cell_type": "markdown",
   "metadata": {},
   "source": [
    "避免死锁是另外一种解决死锁问题的方式，在进程获取锁的时候会严格按照对象id升序排列获取，经过数学证明，这样保证程序不会进入\n死锁状态。证明就留给读者作为练习了。避免死锁的主要思想是，单纯地按照对象id递增的顺序加锁不会产生循环依赖，而循环依赖是\n死锁的一个必要条件，从而避免程序进入死锁状态。"
   ]
  },
  {
   "cell_type": "markdown",
   "metadata": {},
   "source": [
    "下面以一个关于线程死锁的经典问题：“哲学家就餐问题”，作为本节最后一个例子。题目是这样的：五位哲学家围坐在一张桌子前，每个人\n面前有一碗饭和一只筷子。在这里每个哲学家可以看做是一个独立的线程，而每只筷子可以看做是一个锁。每个哲学家可以处在静坐、\n思考、吃饭三种状态中的一个。需要注意的是，每个哲学家吃饭是需要两只筷子的，这样问题就来了：如果每个哲学家都拿起自己左边的筷子，\n那么他们五个都只能拿着一只筷子坐在那儿，直到饿死。此时他们就进入了死锁状态。\n下面是一个简单的使用死锁避免机制解决“哲学家就餐问题”的实现："
   ]
  },
  {
   "cell_type": "code",
   "execution_count": null,
   "metadata": {},
   "outputs": [],
   "source": [
    "import threading\n\n# The philosopher thread\ndef philosopher(left, right):\n    while True:\n        with acquire(left,right):\n             print(threading.currentThread(), 'eating')\n\n# The chopsticks (represented by locks)\nNSTICKS = 5\nchopsticks = [threading.Lock() for n in range(NSTICKS)]\n\n# Create all of the philosophers\nfor n in range(NSTICKS):\n    t = threading.Thread(target=philosopher,\n                         args=(chopsticks[n],chopsticks[(n+1) % NSTICKS]))\n    t.start()"
   ]
  },
  {
   "cell_type": "markdown",
   "metadata": {},
   "source": [
    "最后，要特别注意到，为了避免死锁，所有的加锁操作必须使用 acquire() 函数。如果代码中的某部分绕过acquire\n函数直接申请锁，那么整个死锁避免机制就不起作用了。"
   ]
  },
  {
   "cell_type": "markdown",
   "metadata": {},
   "source": [
    "## 12.6 保存线程的状态信息\n"
   ]
  },
  {
   "cell_type": "markdown",
   "metadata": {},
   "source": [
    "### 问题\n"
   ]
  },
  {
   "cell_type": "markdown",
   "metadata": {},
   "source": [
    "你需要保存正在运行线程的状态，这个状态对于其他的线程是不可见的。"
   ]
  },
  {
   "cell_type": "markdown",
   "metadata": {},
   "source": [
    "### 解决方案\n"
   ]
  },
  {
   "cell_type": "markdown",
   "metadata": {},
   "source": [
    "有时在多线程编程中，你需要只保存当前运行线程的状态。\n要这么做，可使用 thread.local() 创建一个本地线程存储对象。\n对这个对象的属性的保存和读取操作都只会对执行线程可见，而其他线程并不可见。"
   ]
  },
  {
   "cell_type": "markdown",
   "metadata": {},
   "source": [
    "作为使用本地存储的一个有趣的实际例子，\n考虑在8.3小节定义过的 LazyConnection 上下文管理器类。\n下面我们对它进行一些小的修改使得它可以适用于多线程："
   ]
  },
  {
   "cell_type": "code",
   "execution_count": null,
   "metadata": {},
   "outputs": [],
   "source": [
    "from socket import socket, AF_INET, SOCK_STREAM\nimport threading\n\nclass LazyConnection:\n    def __init__(self, address, family=AF_INET, type=SOCK_STREAM):\n        self.address = address\n        self.family = AF_INET\n        self.type = SOCK_STREAM\n        self.local = threading.local()\n\n    def __enter__(self):\n        if hasattr(self.local, 'sock'):\n            raise RuntimeError('Already connected')\n        self.local.sock = socket(self.family, self.type)\n        self.local.sock.connect(self.address)\n        return self.local.sock\n\n    def __exit__(self, exc_ty, exc_val, tb):\n        self.local.sock.close()\n        del self.local.sock"
   ]
  },
  {
   "cell_type": "markdown",
   "metadata": {},
   "source": [
    "代码中，自己观察对于 self.local 属性的使用。\n它被初始化为一个 threading.local() 实例。\n其他方法操作被存储为 self.local.sock 的套接字对象。\n有了这些就可以在多线程中安全的使用 LazyConnection 实例了。例如："
   ]
  },
  {
   "cell_type": "code",
   "execution_count": null,
   "metadata": {},
   "outputs": [],
   "source": [
    "from functools import partial\ndef test(conn):\n    with conn as s:\n        s.send(b'GET /index.html HTTP/1.0\\r\\n')\n        s.send(b'Host: www.python.org\\r\\n')\n\n        s.send(b'\\r\\n')\n        resp = b''.join(iter(partial(s.recv, 8192), b''))\n\n    print('Got {} bytes'.format(len(resp)))\n\nif __name__ == '__main__':\n    conn = LazyConnection(('www.python.org', 80))\n\n    t1 = threading.Thread(target=test, args=(conn,))\n    t2 = threading.Thread(target=test, args=(conn,))\n    t1.start()\n    t2.start()\n    t1.join()\n    t2.join()"
   ]
  },
  {
   "cell_type": "markdown",
   "metadata": {},
   "source": [
    "它之所以行得通的原因是每个线程会创建一个自己专属的套接字连接（存储为self.local.sock）。\n因此，当不同的线程执行套接字操作时，由于操作的是不同的套接字，因此它们不会相互影响。"
   ]
  },
  {
   "cell_type": "markdown",
   "metadata": {},
   "source": [
    "### 讨论\n"
   ]
  },
  {
   "cell_type": "markdown",
   "metadata": {},
   "source": [
    "在大部分程序中创建和操作线程特定状态并不会有什么问题。\n不过，当出了问题的时候，通常是因为某个对象被多个线程使用到，用来操作一些专用的系统资源，\n比如一个套接字或文件。你不能让所有线程共享一个单独对象，\n因为多个线程同时读和写的时候会产生混乱。\n本地线程存储通过让这些资源只能在被使用的线程中可见来解决这个问题。"
   ]
  },
  {
   "cell_type": "markdown",
   "metadata": {},
   "source": [
    "本节中，使用 thread.local() 可以让 LazyConnection 类支持一个线程一个连接，\n而不是对于所有的进程都只有一个连接。"
   ]
  },
  {
   "cell_type": "markdown",
   "metadata": {},
   "source": [
    "其原理是，每个 threading.local() 实例为每个线程维护着一个单独的实例字典。\n所有普通实例操作比如获取、修改和删除值仅仅操作这个字典。\n每个线程使用一个独立的字典就可以保证数据的隔离了。"
   ]
  },
  {
   "cell_type": "markdown",
   "metadata": {},
   "source": [
    "## 12.7 创建一个线程池\n"
   ]
  },
  {
   "cell_type": "markdown",
   "metadata": {},
   "source": [
    "### 问题\n"
   ]
  },
  {
   "cell_type": "markdown",
   "metadata": {},
   "source": [
    "你创建一个工作者线程池，用来响应客户端请求或执行其他的工作。"
   ]
  },
  {
   "cell_type": "markdown",
   "metadata": {},
   "source": [
    "### 解决方案\n"
   ]
  },
  {
   "cell_type": "markdown",
   "metadata": {},
   "source": [
    "concurrent.futures 函数库有一个 ThreadPoolExecutor 类可以被用来完成这个任务。\n下面是一个简单的TCP服务器，使用了一个线程池来响应客户端："
   ]
  },
  {
   "cell_type": "code",
   "execution_count": null,
   "metadata": {},
   "outputs": [],
   "source": [
    "from socket import AF_INET, SOCK_STREAM, socket\nfrom concurrent.futures import ThreadPoolExecutor\n\ndef echo_client(sock, client_addr):\n    '''\n    Handle a client connection\n    '''\n    print('Got connection from', client_addr)\n    while True:\n        msg = sock.recv(65536)\n        if not msg:\n            break\n        sock.sendall(msg)\n    print('Client closed connection')\n    sock.close()\n\ndef echo_server(addr):\n    pool = ThreadPoolExecutor(128)\n    sock = socket(AF_INET, SOCK_STREAM)\n    sock.bind(addr)\n    sock.listen(5)\n    while True:\n        client_sock, client_addr = sock.accept()\n        pool.submit(echo_client, client_sock, client_addr)\n\necho_server(('',15000))"
   ]
  },
  {
   "cell_type": "markdown",
   "metadata": {},
   "source": [
    "如果你想手动创建你自己的线程池，\n通常可以使用一个Queue来轻松实现。下面是一个稍微不同但是手动实现的例子："
   ]
  },
  {
   "cell_type": "code",
   "execution_count": null,
   "metadata": {},
   "outputs": [],
   "source": [
    "from socket import socket, AF_INET, SOCK_STREAM\nfrom threading import Thread\nfrom queue import Queue\n\ndef echo_client(q):\n    '''\n    Handle a client connection\n    '''\n    sock, client_addr = q.get()\n    print('Got connection from', client_addr)\n    while True:\n        msg = sock.recv(65536)\n        if not msg:\n            break\n        sock.sendall(msg)\n    print('Client closed connection')\n\n    sock.close()\n\ndef echo_server(addr, nworkers):\n    # Launch the client workers\n    q = Queue()\n    for n in range(nworkers):\n        t = Thread(target=echo_client, args=(q,))\n        t.daemon = True\n        t.start()\n\n    # Run the server\n    sock = socket(AF_INET, SOCK_STREAM)\n    sock.bind(addr)\n    sock.listen(5)\n    while True:\n        client_sock, client_addr = sock.accept()\n        q.put((client_sock, client_addr))\n\necho_server(('',15000), 128)"
   ]
  },
  {
   "cell_type": "markdown",
   "metadata": {},
   "source": [
    "使用 ThreadPoolExecutor 相对于手动实现的一个好处在于它使得\n任务提交者更方便的从被调用函数中获取返回值。例如，你可能会像下面这样写："
   ]
  },
  {
   "cell_type": "code",
   "execution_count": null,
   "metadata": {},
   "outputs": [],
   "source": [
    "from concurrent.futures import ThreadPoolExecutor\nimport urllib.request\n\ndef fetch_url(url):\n    u = urllib.request.urlopen(url)\n    data = u.read()\n    return data\n\npool = ThreadPoolExecutor(10)\n# Submit work to the pool\na = pool.submit(fetch_url, 'http://www.python.org')\nb = pool.submit(fetch_url, 'http://www.pypy.org')\n\n# Get the results back\nx = a.result()\ny = b.result()"
   ]
  },
  {
   "cell_type": "markdown",
   "metadata": {},
   "source": [
    "例子中返回的handle对象会帮你处理所有的阻塞与协作，然后从工作线程中返回数据给你。\n特别的，a.result() 操作会阻塞进程直到对应的函数执行完成并返回一个结果。"
   ]
  },
  {
   "cell_type": "markdown",
   "metadata": {},
   "source": [
    "### 讨论\n"
   ]
  },
  {
   "cell_type": "markdown",
   "metadata": {},
   "source": [
    "通常来讲，你应该避免编写线程数量可以无限制增长的程序。例如，看看下面这个服务器："
   ]
  },
  {
   "cell_type": "code",
   "execution_count": null,
   "metadata": {},
   "outputs": [],
   "source": [
    "from threading import Thread\nfrom socket import socket, AF_INET, SOCK_STREAM\n\ndef echo_client(sock, client_addr):\n    '''\n    Handle a client connection\n    '''\n    print('Got connection from', client_addr)\n    while True:\n        msg = sock.recv(65536)\n        if not msg:\n            break\n        sock.sendall(msg)\n    print('Client closed connection')\n    sock.close()\n\ndef echo_server(addr, nworkers):\n    # Run the server\n    sock = socket(AF_INET, SOCK_STREAM)\n    sock.bind(addr)\n    sock.listen(5)\n    while True:\n        client_sock, client_addr = sock.accept()\n        t = Thread(target=echo_client, args=(client_sock, client_addr))\n        t.daemon = True\n        t.start()\n\necho_server(('',15000))"
   ]
  },
  {
   "cell_type": "markdown",
   "metadata": {},
   "source": [
    "尽管这个也可以工作，\n但是它不能抵御有人试图通过创建大量线程让你服务器资源枯竭而崩溃的攻击行为。\n通过使用预先初始化的线程池，你可以设置同时运行线程的上限数量。"
   ]
  },
  {
   "cell_type": "markdown",
   "metadata": {},
   "source": [
    "你可能会关心创建大量线程会有什么后果。\n现代操作系统可以很轻松的创建几千个线程的线程池。\n甚至，同时几千个线程等待工作并不会对其他代码产生性能影响。\n当然了，如果所有线程同时被唤醒并立即在CPU上执行，那就不同了——特别是有了全局解释器锁GIL。\n通常，你应该只在I/O处理相关代码中使用线程池。"
   ]
  },
  {
   "cell_type": "markdown",
   "metadata": {},
   "source": [
    "创建大的线程池的一个可能需要关注的问题是内存的使用。\n例如，如果你在OS X系统上面创建2000个线程，系统显示Python进程使用了超过9GB的虚拟内存。\n不过，这个计算通常是有误差的。当创建一个线程时，操作系统会预留一个虚拟内存区域来\n放置线程的执行栈（通常是8MB大小）。但是这个内存只有一小片段被实际映射到真实内存中。\n因此，Python进程使用到的真实内存其实很小\n（比如，对于2000个线程来讲，只使用到了70MB的真实内存，而不是9GB）。\n如果你担心虚拟内存大小，可以使用 threading.stack_size() 函数来降低它。例如："
   ]
  },
  {
   "cell_type": "code",
   "execution_count": null,
   "metadata": {},
   "outputs": [],
   "source": [
    "import threading\nthreading.stack_size(65536)"
   ]
  },
  {
   "cell_type": "markdown",
   "metadata": {},
   "source": [
    "如果你加上这条语句并再次运行前面的创建2000个线程试验，\n你会发现Python进程只使用到了大概210MB的虚拟内存，而真实内存使用量没有变。\n注意线程栈大小必须至少为32768字节，通常是系统内存页大小（4096、8192等）的整数倍。"
   ]
  },
  {
   "cell_type": "markdown",
   "metadata": {},
   "source": [
    "## 12.8 简单的并行编程\n"
   ]
  },
  {
   "cell_type": "markdown",
   "metadata": {},
   "source": [
    "### 问题\n"
   ]
  },
  {
   "cell_type": "markdown",
   "metadata": {},
   "source": [
    "你有个程序要执行CPU密集型工作，你想让他利用多核CPU的优势来运行的快一点。"
   ]
  },
  {
   "cell_type": "markdown",
   "metadata": {},
   "source": [
    "### 解决方案\n"
   ]
  },
  {
   "cell_type": "markdown",
   "metadata": {},
   "source": [
    "concurrent.futures 库提供了一个 ProcessPoolExecutor 类，\n可被用来在一个单独的Python解释器中执行计算密集型函数。\n不过，要使用它，你首先要有一些计算密集型的任务。\n我们通过一个简单而实际的例子来演示它。假定你有个Apache web服务器日志目录的gzip压缩包："
   ]
  },
  {
   "cell_type": "code",
   "execution_count": null,
   "metadata": {},
   "outputs": [],
   "source": [
    "logs/\n   20120701.log.gz\n   20120702.log.gz\n   20120703.log.gz\n   20120704.log.gz\n   20120705.log.gz\n   20120706.log.gz\n   ..."
   ]
  },
  {
   "cell_type": "markdown",
   "metadata": {},
   "source": [
    "进一步假设每个日志文件内容类似下面这样："
   ]
  },
  {
   "cell_type": "code",
   "execution_count": null,
   "metadata": {},
   "outputs": [],
   "source": [
    "124.115.6.12 - - [10/Jul/2012:00:18:50 -0500] \"GET /robots.txt ...\" 200 71\n210.212.209.67 - - [10/Jul/2012:00:18:51 -0500] \"GET /ply/ ...\" 200 11875\n210.212.209.67 - - [10/Jul/2012:00:18:51 -0500] \"GET /favicon.ico ...\" 404 369\n61.135.216.105 - - [10/Jul/2012:00:20:04 -0500] \"GET /blog/atom.xml ...\" 304 -\n..."
   ]
  },
  {
   "cell_type": "markdown",
   "metadata": {},
   "source": [
    "下面是一个脚本，在这些日志文件中查找出所有访问过robots.txt文件的主机："
   ]
  },
  {
   "cell_type": "code",
   "execution_count": null,
   "metadata": {},
   "outputs": [],
   "source": [
    "# findrobots.py\n\nimport gzip\nimport io\nimport glob\n\ndef find_robots(filename):\n    '''\n    Find all of the hosts that access robots.txt in a single log file\n    '''\n    robots = set()\n    with gzip.open(filename) as f:\n        for line in io.TextIOWrapper(f,encoding='ascii'):\n            fields = line.split()\n            if fields[6] == '/robots.txt':\n                robots.add(fields[0])\n    return robots\n\ndef find_all_robots(logdir):\n    '''\n    Find all hosts across and entire sequence of files\n    '''\n    files = glob.glob(logdir+'/*.log.gz')\n    all_robots = set()\n    for robots in map(find_robots, files):\n        all_robots.update(robots)\n    return all_robots\n\nif __name__ == '__main__':\n    robots = find_all_robots('logs')\n    for ipaddr in robots:\n        print(ipaddr)"
   ]
  },
  {
   "cell_type": "markdown",
   "metadata": {},
   "source": [
    "前面的程序使用了通常的map-reduce风格来编写。\n函数 find_robots() 在一个文件名集合上做map操作，并将结果汇总为一个单独的结果，\n也就是 find_all_robots() 函数中的 all_robots 集合。\n现在，假设你想要修改这个程序让它使用多核CPU。\n很简单——只需要将map()操作替换为一个 concurrent.futures 库中生成的类似操作即可。\n下面是一个简单修改版本："
   ]
  },
  {
   "cell_type": "code",
   "execution_count": null,
   "metadata": {},
   "outputs": [],
   "source": [
    "# findrobots.py\n\nimport gzip\nimport io\nimport glob\nfrom concurrent import futures\n\ndef find_robots(filename):\n    '''\n    Find all of the hosts that access robots.txt in a single log file\n\n    '''\n    robots = set()\n    with gzip.open(filename) as f:\n        for line in io.TextIOWrapper(f,encoding='ascii'):\n            fields = line.split()\n            if fields[6] == '/robots.txt':\n                robots.add(fields[0])\n    return robots\n\ndef find_all_robots(logdir):\n    '''\n    Find all hosts across and entire sequence of files\n    '''\n    files = glob.glob(logdir+'/*.log.gz')\n    all_robots = set()\n    with futures.ProcessPoolExecutor() as pool:\n        for robots in pool.map(find_robots, files):\n            all_robots.update(robots)\n    return all_robots\n\nif __name__ == '__main__':\n    robots = find_all_robots('logs')\n    for ipaddr in robots:\n        print(ipaddr)"
   ]
  },
  {
   "cell_type": "markdown",
   "metadata": {},
   "source": [
    "通过这个修改后，运行这个脚本产生同样的结果，但是在四核机器上面比之前快了3.5倍。\n实际的性能优化效果根据你的机器CPU数量的不同而不同。"
   ]
  },
  {
   "cell_type": "markdown",
   "metadata": {},
   "source": [
    "### 讨论\n"
   ]
  },
  {
   "cell_type": "markdown",
   "metadata": {},
   "source": [
    "ProcessPoolExecutor 的典型用法如下："
   ]
  },
  {
   "cell_type": "code",
   "execution_count": null,
   "metadata": {},
   "outputs": [],
   "source": [
    "from concurrent.futures import ProcessPoolExecutor\n\nwith ProcessPoolExecutor() as pool:\n    ...\n    do work in parallel using pool\n    ..."
   ]
  },
  {
   "cell_type": "markdown",
   "metadata": {},
   "source": [
    "其原理是，一个 ProcessPoolExecutor 创建N个独立的Python解释器，\nN是系统上面可用CPU的个数。你可以通过提供可选参数给 ProcessPoolExecutor(N) 来修改\n处理器数量。这个处理池会一直运行到with块中最后一个语句执行完成，\n然后处理池被关闭。不过，程序会一直等待直到所有提交的工作被处理完成。"
   ]
  },
  {
   "cell_type": "markdown",
   "metadata": {},
   "source": [
    "被提交到池中的工作必须被定义为一个函数。有两种方法去提交。\n如果你想让一个列表推导或一个 map() 操作并行执行的话，可使用 pool.map() :"
   ]
  },
  {
   "cell_type": "code",
   "execution_count": null,
   "metadata": {},
   "outputs": [],
   "source": [
    "# A function that performs a lot of work\ndef work(x):\n    ...\n    return result\n\n# Nonparallel code\nresults = map(work, data)\n\n# Parallel implementation\nwith ProcessPoolExecutor() as pool:\n    results = pool.map(work, data)"
   ]
  },
  {
   "cell_type": "markdown",
   "metadata": {},
   "source": [
    "另外，你可以使用 pool.submit() 来手动的提交单个任务："
   ]
  },
  {
   "cell_type": "code",
   "execution_count": null,
   "metadata": {},
   "outputs": [],
   "source": [
    "# Some function\ndef work(x):\n    ...\n    return result\n\nwith ProcessPoolExecutor() as pool:\n    ...\n    # Example of submitting work to the pool\n    future_result = pool.submit(work, arg)\n\n    # Obtaining the result (blocks until done)\n    r = future_result.result()\n    ..."
   ]
  },
  {
   "cell_type": "markdown",
   "metadata": {},
   "source": [
    "如果你手动提交一个任务，结果是一个 Future 实例。\n要获取最终结果，你需要调用它的 result() 方法。\n它会阻塞进程直到结果被返回来。"
   ]
  },
  {
   "cell_type": "markdown",
   "metadata": {},
   "source": [
    "如果不想阻塞，你还可以使用一个回调函数，例如："
   ]
  },
  {
   "cell_type": "code",
   "execution_count": null,
   "metadata": {},
   "outputs": [],
   "source": [
    "def when_done(r):\n    print('Got:', r.result())\n\nwith ProcessPoolExecutor() as pool:\n     future_result = pool.submit(work, arg)\n     future_result.add_done_callback(when_done)"
   ]
  },
  {
   "cell_type": "markdown",
   "metadata": {},
   "source": [
    "回调函数接受一个 Future 实例，被用来获取最终的结果（比如通过调用它的result()方法）。\n尽管处理池很容易使用，在设计大程序的时候还是有很多需要注意的地方，如下几点："
   ]
  },
  {
   "cell_type": "markdown",
   "metadata": {},
   "source": [
    "一旦启动你不能控制子进程的任何行为，因此最好保持简单和纯洁——函数不要去修改环境。"
   ]
  },
  {
   "cell_type": "markdown",
   "metadata": {},
   "source": [
    "它会克隆Python解释器，包括fork时的所有程序状态。\n而在Windows上，克隆解释器时不会克隆状态。\n实际的fork操作会在第一次调用 pool.map() 或 pool.submit() 后发生。"
   ]
  },
  {
   "cell_type": "markdown",
   "metadata": {},
   "source": [
    "你应该在创建任何线程之前先创建并激活进程池（比如在程序启动的main线程中创建进程池）。"
   ]
  },
  {
   "cell_type": "markdown",
   "metadata": {},
   "source": [
    "## 12.9 Python的全局锁问题\n"
   ]
  },
  {
   "cell_type": "markdown",
   "metadata": {},
   "source": [
    "### 问题\n"
   ]
  },
  {
   "cell_type": "markdown",
   "metadata": {},
   "source": [
    "你已经听说过全局解释器锁GIL，担心它会影响到多线程程序的执行性能。"
   ]
  },
  {
   "cell_type": "markdown",
   "metadata": {},
   "source": [
    "### 解决方案\n"
   ]
  },
  {
   "cell_type": "markdown",
   "metadata": {},
   "source": [
    "尽管Python完全支持多线程编程，\n但是解释器的C语言实现部分在完全并行执行时并不是线程安全的。\n实际上，解释器被一个全局解释器锁保护着，它确保任何时候都只有一个Python线程执行。\nGIL最大的问题就是Python的多线程程序并不能利用多核CPU的优势\n（比如一个使用了多个线程的计算密集型程序只会在一个单CPU上面运行）。"
   ]
  },
  {
   "cell_type": "markdown",
   "metadata": {},
   "source": [
    "在讨论普通的GIL之前，有一点要强调的是GIL只会影响到那些严重依赖CPU的程序（比如计算型的）。\n如果你的程序大部分只会涉及到I/O，比如网络交互，那么使用多线程就很合适，\n因为它们大部分时间都在等待。实际上，你完全可以放心的创建几千个Python线程，\n现代操作系统运行这么多线程没有任何压力，没啥可担心的。"
   ]
  },
  {
   "cell_type": "markdown",
   "metadata": {},
   "source": [
    "而对于依赖CPU的程序，你需要弄清楚执行的计算的特点。\n例如，优化底层算法要比使用多线程运行快得多。\n类似的，由于Python是解释执行的，如果你将那些性能瓶颈代码移到一个C语言扩展模块中，\n速度也会提升的很快。如果你要操作数组，那么使用NumPy这样的扩展会非常的高效。\n最后，你还可以考虑下其他可选实现方案，比如PyPy，它通过一个JIT编译器来优化执行效率\n（不过在写这本书的时候它还不能支持Python 3）。"
   ]
  },
  {
   "cell_type": "markdown",
   "metadata": {},
   "source": [
    "还有一点要注意的是，线程不是专门用来优化性能的。\n一个CPU依赖型程序可能会使用线程来管理一个图形用户界面、一个网络连接或其他服务。\n这时候，GIL会产生一些问题，因为如果一个线程长期持有GIL的话会导致其他非CPU型线程一直等待。\n事实上，一个写的不好的C语言扩展会导致这个问题更加严重，\n尽管代码的计算部分会比之前运行的更快些。"
   ]
  },
  {
   "cell_type": "markdown",
   "metadata": {},
   "source": [
    "说了这么多，现在想说的是我们有两种策略来解决GIL的缺点。\n首先，如果你完全工作于Python环境中，你可以使用 multiprocessing 模块来创建一个进程池，\n并像协同处理器一样的使用它。例如，假如你有如下的线程代码："
   ]
  },
  {
   "cell_type": "code",
   "execution_count": null,
   "metadata": {},
   "outputs": [],
   "source": [
    "# Performs a large calculation (CPU bound)\ndef some_work(args):\n    ...\n    return result\n\n# A thread that calls the above function\ndef some_thread():\n    while True:\n        ...\n        r = some_work(args)\n    ..."
   ]
  },
  {
   "cell_type": "markdown",
   "metadata": {},
   "source": [
    "修改代码，使用进程池："
   ]
  },
  {
   "cell_type": "code",
   "execution_count": null,
   "metadata": {},
   "outputs": [],
   "source": [
    "# Processing pool (see below for initiazation)\npool = None\n\n# Performs a large calculation (CPU bound)\ndef some_work(args):\n    ...\n    return result\n\n# A thread that calls the above function\ndef some_thread():\n    while True:\n        ...\n        r = pool.apply(some_work, (args))\n        ...\n\n# Initiaze the pool\nif __name__ == '__main__':\n    import multiprocessing\n    pool = multiprocessing.Pool()"
   ]
  },
  {
   "cell_type": "markdown",
   "metadata": {},
   "source": [
    "这个通过使用一个技巧利用进程池解决了GIL的问题。\n当一个线程想要执行CPU密集型工作时，会将任务发给进程池。\n然后进程池会在另外一个进程中启动一个单独的Python解释器来工作。\n当线程等待结果的时候会释放GIL。\n并且，由于计算任务在单独解释器中执行，那么就不会受限于GIL了。\n在一个多核系统上面，你会发现这个技术可以让你很好的利用多CPU的优势。"
   ]
  },
  {
   "cell_type": "markdown",
   "metadata": {},
   "source": [
    "另外一个解决GIL的策略是使用C扩展编程技术。\n主要思想是将计算密集型任务转移给C，跟Python独立，在工作的时候在C代码中释放GIL。\n这可以通过在C代码中插入下面这样的特殊宏来完成："
   ]
  },
  {
   "cell_type": "code",
   "execution_count": null,
   "metadata": {},
   "outputs": [],
   "source": [
    "#include \"Python.h\"\n...\n\nPyObject *pyfunc(PyObject *self, PyObject *args) {\n   ...\n   Py_BEGIN_ALLOW_THREADS\n   // Threaded C code\n   ...\n   Py_END_ALLOW_THREADS\n   ...\n}"
   ]
  },
  {
   "cell_type": "markdown",
   "metadata": {},
   "source": [
    "如果你使用其他工具访问C语言，比如对于Cython的ctypes库，你不需要做任何事。\n例如，ctypes在调用C时会自动释放GIL。"
   ]
  },
  {
   "cell_type": "markdown",
   "metadata": {},
   "source": [
    "### 讨论\n"
   ]
  },
  {
   "cell_type": "markdown",
   "metadata": {},
   "source": [
    "许多程序员在面对线程性能问题的时候，马上就会怪罪GIL，什么都是它的问题。\n其实这样子太不厚道也太天真了点。\n作为一个真实的例子，在多线程的网络编程中神秘的 stalls\n可能是因为其他原因比如一个DNS查找延时，而跟GIL毫无关系。\n最后你真的需要先去搞懂你的代码是否真的被GIL影响到。\n同时还要明白GIL大部分都应该只关注CPU的处理而不是I/O."
   ]
  },
  {
   "cell_type": "markdown",
   "metadata": {},
   "source": [
    "如果你准备使用一个处理器池，注意的是这样做涉及到数据序列化和在不同Python解释器通信。\n被执行的操作需要放在一个通过def语句定义的Python函数中，不能是lambda、闭包可调用实例等，\n并且函数参数和返回值必须要兼容pickle。\n同样，要执行的任务量必须足够大以弥补额外的通信开销。"
   ]
  },
  {
   "cell_type": "markdown",
   "metadata": {},
   "source": [
    "另外一个难点是当混合使用线程和进程池的时候会让你很头疼。\n如果你要同时使用两者，最好在程序启动时，创建任何线程之前先创建一个单例的进程池。\n然后线程使用同样的进程池来进行它们的计算密集型工作。"
   ]
  },
  {
   "cell_type": "markdown",
   "metadata": {},
   "source": [
    "C扩展最重要的特征是它们和Python解释器是保持独立的。\n也就是说，如果你准备将Python中的任务分配到C中去执行，\n你需要确保C代码的操作跟Python保持独立，\n这就意味着不要使用Python数据结构以及不要调用Python的C API。\n另外一个就是你要确保C扩展所做的工作是足够的，值得你这样做。\n也就是说C扩展担负起了大量的计算任务，而不是少数几个计算。"
   ]
  },
  {
   "cell_type": "markdown",
   "metadata": {},
   "source": [
    "这些解决GIL的方案并不能适用于所有问题。\n例如，某些类型的应用程序如果被分解为多个进程处理的话并不能很好的工作，\n也不能将它的部分代码改成C语言执行。\n对于这些应用程序，你就要自己需求解决方案了\n（比如多进程访问共享内存区，多解析器运行于同一个进程等）。\n或者，你还可以考虑下其他的解释器实现，比如PyPy。"
   ]
  },
  {
   "cell_type": "markdown",
   "metadata": {},
   "source": [
    "了解更多关于在C扩展中释放GIL，请参考15.7和15.10小节。"
   ]
  },
  {
   "cell_type": "markdown",
   "metadata": {},
   "source": [
    "## 12.10 定义一个Actor任务\n"
   ]
  },
  {
   "cell_type": "markdown",
   "metadata": {},
   "source": [
    "### 问题\n"
   ]
  },
  {
   "cell_type": "markdown",
   "metadata": {},
   "source": [
    "你想定义跟actor模式中类似“actors”角色的任务"
   ]
  },
  {
   "cell_type": "markdown",
   "metadata": {},
   "source": [
    "### 解决方案\n"
   ]
  },
  {
   "cell_type": "markdown",
   "metadata": {},
   "source": [
    "actor模式是一种最古老的也是最简单的并行和分布式计算解决方案。\n事实上，它天生的简单性是它如此受欢迎的重要原因之一。\n简单来讲，一个actor就是一个并发执行的任务，只是简单的执行发送给它的消息任务。\n响应这些消息时，它可能还会给其他actor发送更进一步的消息。\nactor之间的通信是单向和异步的。因此，消息发送者不知道消息是什么时候被发送，\n也不会接收到一个消息已被处理的回应或通知。"
   ]
  },
  {
   "cell_type": "markdown",
   "metadata": {},
   "source": [
    "结合使用一个线程和一个队列可以很容易的定义actor，例如："
   ]
  },
  {
   "cell_type": "code",
   "execution_count": null,
   "metadata": {},
   "outputs": [],
   "source": [
    "from queue import Queue\nfrom threading import Thread, Event\n\n# Sentinel used for shutdown\nclass ActorExit(Exception):\n    pass\n\nclass Actor:\n    def __init__(self):\n        self._mailbox = Queue()\n\n    def send(self, msg):\n        '''\n        Send a message to the actor\n        '''\n        self._mailbox.put(msg)\n\n    def recv(self):\n        '''\n        Receive an incoming message\n        '''\n        msg = self._mailbox.get()\n        if msg is ActorExit:\n            raise ActorExit()\n        return msg\n\n    def close(self):\n        '''\n        Close the actor, thus shutting it down\n        '''\n        self.send(ActorExit)\n\n    def start(self):\n        '''\n        Start concurrent execution\n        '''\n        self._terminated = Event()\n        t = Thread(target=self._bootstrap)\n\n        t.daemon = True\n        t.start()\n\n    def _bootstrap(self):\n        try:\n            self.run()\n        except ActorExit:\n            pass\n        finally:\n            self._terminated.set()\n\n    def join(self):\n        self._terminated.wait()\n\n    def run(self):\n        '''\n        Run method to be implemented by the user\n        '''\n        while True:\n            msg = self.recv()\n\n# Sample ActorTask\nclass PrintActor(Actor):\n    def run(self):\n        while True:\n            msg = self.recv()\n            print('Got:', msg)\n\n# Sample use\np = PrintActor()\np.start()\np.send('Hello')\np.send('World')\np.close()\np.join()"
   ]
  },
  {
   "cell_type": "markdown",
   "metadata": {},
   "source": [
    "这个例子中，你使用actor实例的 send() 方法发送消息给它们。\n其机制是，这个方法会将消息放入一个队里中，\n然后将其转交给处理被接受消息的一个内部线程。\nclose() 方法通过在队列中放入一个特殊的哨兵值（ActorExit）来关闭这个actor。\n用户可以通过继承Actor并定义实现自己处理逻辑run()方法来定义新的actor。\nActorExit 异常的使用就是用户自定义代码可以在需要的时候来捕获终止请求\n（异常被get()方法抛出并传播出去）。"
   ]
  },
  {
   "cell_type": "markdown",
   "metadata": {},
   "source": [
    "如果你放宽对于同步和异步消息发送的要求，\n类actor对象还可以通过生成器来简化定义。例如："
   ]
  },
  {
   "cell_type": "code",
   "execution_count": null,
   "metadata": {},
   "outputs": [],
   "source": [
    "def print_actor():\n    while True:\n\n        try:\n            msg = yield      # Get a message\n            print('Got:', msg)\n        except GeneratorExit:\n            print('Actor terminating')\n\n# Sample use\np = print_actor()\nnext(p)     # Advance to the yield (ready to receive)\np.send('Hello')\np.send('World')\np.close()"
   ]
  },
  {
   "cell_type": "markdown",
   "metadata": {},
   "source": [
    "### 讨论\n"
   ]
  },
  {
   "cell_type": "markdown",
   "metadata": {},
   "source": [
    "actor模式的魅力就在于它的简单性。\n实际上，这里仅仅只有一个核心操作 send() .\n甚至，对于在基于actor系统中的“消息”的泛化概念可以已多种方式被扩展。\n例如，你可以以元组形式传递标签消息，让actor执行不同的操作，如下："
   ]
  },
  {
   "cell_type": "code",
   "execution_count": null,
   "metadata": {},
   "outputs": [],
   "source": [
    "class TaggedActor(Actor):\n    def run(self):\n        while True:\n             tag, *payload = self.recv()\n             getattr(self,'do_'+tag)(*payload)\n\n    # Methods correponding to different message tags\n    def do_A(self, x):\n        print('Running A', x)\n\n    def do_B(self, x, y):\n        print('Running B', x, y)\n\n# Example\na = TaggedActor()\na.start()\na.send(('A', 1))      # Invokes do_A(1)\na.send(('B', 2, 3))   # Invokes do_B(2,3)"
   ]
  },
  {
   "cell_type": "markdown",
   "metadata": {},
   "source": [
    "作为另外一个例子，下面的actor允许在一个工作者中运行任意的函数，\n并且通过一个特殊的Result对象返回结果："
   ]
  },
  {
   "cell_type": "code",
   "execution_count": null,
   "metadata": {},
   "outputs": [],
   "source": [
    "from threading import Event\nclass Result:\n    def __init__(self):\n        self._evt = Event()\n        self._result = None\n\n    def set_result(self, value):\n        self._result = value\n\n        self._evt.set()\n\n    def result(self):\n        self._evt.wait()\n        return self._result\n\nclass Worker(Actor):\n    def submit(self, func, *args, **kwargs):\n        r = Result()\n        self.send((func, args, kwargs, r))\n        return r\n\n    def run(self):\n        while True:\n            func, args, kwargs, r = self.recv()\n            r.set_result(func(*args, **kwargs))\n\n# Example use\nworker = Worker()\nworker.start()\nr = worker.submit(pow, 2, 3)\nprint(r.result())"
   ]
  },
  {
   "cell_type": "markdown",
   "metadata": {},
   "source": [
    "最后，“发送”一个任务消息的概念可以被扩展到多进程甚至是大型分布式系统中去。\n例如，一个类actor对象的 send() 方法可以被编程让它能在一个套接字连接上传输数据\n或通过某些消息中间件（比如AMQP、ZMQ等）来发送。"
   ]
  },
  {
   "cell_type": "markdown",
   "metadata": {},
   "source": [
    "## 12.11 实现消息发布/订阅模型\n"
   ]
  },
  {
   "cell_type": "markdown",
   "metadata": {},
   "source": [
    "### 问题\n"
   ]
  },
  {
   "cell_type": "markdown",
   "metadata": {},
   "source": [
    "你有一个基于线程通信的程序，想让它们实现发布/订阅模式的消息通信。"
   ]
  },
  {
   "cell_type": "markdown",
   "metadata": {},
   "source": [
    "### 解决方案\n"
   ]
  },
  {
   "cell_type": "markdown",
   "metadata": {},
   "source": [
    "要实现发布/订阅的消息通信模式，\n你通常要引入一个单独的“交换机”或“网关”对象作为所有消息的中介。\n也就是说，不直接将消息从一个任务发送到另一个，而是将其发送给交换机，\n然后由交换机将它发送给一个或多个被关联任务。下面是一个非常简单的交换机实现例子："
   ]
  },
  {
   "cell_type": "code",
   "execution_count": null,
   "metadata": {},
   "outputs": [],
   "source": [
    "from collections import defaultdict\n\nclass Exchange:\n    def __init__(self):\n        self._subscribers = set()\n\n    def attach(self, task):\n        self._subscribers.add(task)\n\n    def detach(self, task):\n        self._subscribers.remove(task)\n\n    def send(self, msg):\n        for subscriber in self._subscribers:\n            subscriber.send(msg)\n\n# Dictionary of all created exchanges\n_exchanges = defaultdict(Exchange)\n\n# Return the Exchange instance associated with a given name\ndef get_exchange(name):\n    return _exchanges[name]"
   ]
  },
  {
   "cell_type": "markdown",
   "metadata": {},
   "source": [
    "一个交换机就是一个普通对象，负责维护一个活跃的订阅者集合，并为绑定、解绑和发送消息提供相应的方法。\n每个交换机通过一个名称定位，get_exchange() 通过给定一个名称返回相应的 Exchange 实例。"
   ]
  },
  {
   "cell_type": "markdown",
   "metadata": {},
   "source": [
    "下面是一个简单例子，演示了如何使用一个交换机："
   ]
  },
  {
   "cell_type": "code",
   "execution_count": null,
   "metadata": {},
   "outputs": [],
   "source": [
    "# Example of a task.  Any object with a send() method\n\nclass Task:\n    ...\n    def send(self, msg):\n        ...\n\ntask_a = Task()\ntask_b = Task()\n\n# Example of getting an exchange\nexc = get_exchange('name')\n\n# Examples of subscribing tasks to it\nexc.attach(task_a)\nexc.attach(task_b)\n\n# Example of sending messages\nexc.send('msg1')\nexc.send('msg2')\n\n# Example of unsubscribing\nexc.detach(task_a)\nexc.detach(task_b)"
   ]
  },
  {
   "cell_type": "markdown",
   "metadata": {},
   "source": [
    "尽管对于这个问题有很多的变种，不过万变不离其宗。\n消息会被发送给一个交换机，然后交换机会将它们发送给被绑定的订阅者。"
   ]
  },
  {
   "cell_type": "markdown",
   "metadata": {},
   "source": [
    "### 讨论\n"
   ]
  },
  {
   "cell_type": "markdown",
   "metadata": {},
   "source": [
    "通过队列发送消息的任务或线程的模式很容易被实现并且也非常普遍。\n不过，使用发布/订阅模式的好处更加明显。"
   ]
  },
  {
   "cell_type": "markdown",
   "metadata": {},
   "source": [
    "首先，使用一个交换机可以简化大部分涉及到线程通信的工作。\n无需去写通过多进程模块来操作多个线程，你只需要使用这个交换机来连接它们。\n某种程度上，这个就跟日志模块的工作原理类似。\n实际上，它可以轻松的解耦程序中多个任务。"
   ]
  },
  {
   "cell_type": "markdown",
   "metadata": {},
   "source": [
    "其次，交换机广播消息给多个订阅者的能力带来了一个全新的通信模式。\n例如，你可以使用多任务系统、广播或扇出。\n你还可以通过以普通订阅者身份绑定来构建调试和诊断工具。\n例如，下面是一个简单的诊断类，可以显示被发送的消息："
   ]
  },
  {
   "cell_type": "code",
   "execution_count": null,
   "metadata": {},
   "outputs": [],
   "source": [
    "class DisplayMessages:\n    def __init__(self):\n        self.count = 0\n    def send(self, msg):\n        self.count += 1\n        print('msg[{}]: {!r}'.format(self.count, msg))\n\nexc = get_exchange('name')\nd = DisplayMessages()\nexc.attach(d)"
   ]
  },
  {
   "cell_type": "markdown",
   "metadata": {},
   "source": [
    "最后，该实现的一个重要特点是它能兼容多个“task-like”对象。\n例如，消息接受者可以是actor（12.10小节介绍）、协程、网络连接或任何实现了正确的 send() 方法的东西。"
   ]
  },
  {
   "cell_type": "markdown",
   "metadata": {},
   "source": [
    "关于交换机的一个可能问题是对于订阅者的正确绑定和解绑。\n为了正确的管理资源，每一个绑定的订阅者必须最终要解绑。\n在代码中通常会是像下面这样的模式："
   ]
  },
  {
   "cell_type": "code",
   "execution_count": null,
   "metadata": {},
   "outputs": [],
   "source": [
    "exc = get_exchange('name')\nexc.attach(some_task)\ntry:\n    ...\nfinally:\n    exc.detach(some_task)"
   ]
  },
  {
   "cell_type": "markdown",
   "metadata": {},
   "source": [
    "某种意义上，这个和使用文件、锁和类似对象很像。\n通常很容易会忘记最后的 detach() 步骤。\n为了简化这个，你可以考虑使用上下文管理器协议。\n例如，在交换机对象上增加一个 subscribe() 方法，如下："
   ]
  },
  {
   "cell_type": "code",
   "execution_count": null,
   "metadata": {},
   "outputs": [],
   "source": [
    "from contextlib import contextmanager\nfrom collections import defaultdict\n\nclass Exchange:\n    def __init__(self):\n        self._subscribers = set()\n\n    def attach(self, task):\n        self._subscribers.add(task)\n\n    def detach(self, task):\n        self._subscribers.remove(task)\n\n    @contextmanager\n    def subscribe(self, *tasks):\n        for task in tasks:\n            self.attach(task)\n        try:\n            yield\n        finally:\n            for task in tasks:\n                self.detach(task)\n\n    def send(self, msg):\n        for subscriber in self._subscribers:\n            subscriber.send(msg)\n\n# Dictionary of all created exchanges\n_exchanges = defaultdict(Exchange)\n\n# Return the Exchange instance associated with a given name\ndef get_exchange(name):\n    return _exchanges[name]\n\n# Example of using the subscribe() method\nexc = get_exchange('name')\nwith exc.subscribe(task_a, task_b):\n     ...\n     exc.send('msg1')\n     exc.send('msg2')\n     ...\n\n# task_a and task_b detached here"
   ]
  },
  {
   "cell_type": "markdown",
   "metadata": {},
   "source": [
    "最后还应该注意的是关于交换机的思想有很多种的扩展实现。\n例如，交换机可以实现一整个消息通道集合或提供交换机名称的模式匹配规则。\n交换机还可以被扩展到分布式计算程序中（比如，将消息路由到不同机器上面的任务中去）。"
   ]
  },
  {
   "cell_type": "markdown",
   "metadata": {},
   "source": [
    "## 12.12 使用生成器代替线程\n"
   ]
  },
  {
   "cell_type": "markdown",
   "metadata": {},
   "source": [
    "### 问题\n"
   ]
  },
  {
   "cell_type": "markdown",
   "metadata": {},
   "source": [
    "你想使用生成器（协程）替代系统线程来实现并发。这个有时又被称为用户级线程或绿色线程。"
   ]
  },
  {
   "cell_type": "markdown",
   "metadata": {},
   "source": [
    "### 解决方案\n"
   ]
  },
  {
   "cell_type": "markdown",
   "metadata": {},
   "source": [
    "要使用生成器实现自己的并发，你首先要对生成器函数和 yield 语句有深刻理解。\nyield 语句会让一个生成器挂起它的执行，这样就可以编写一个调度器，\n将生成器当做某种“任务”并使用任务协作切换来替换它们的执行。\n要演示这种思想，考虑下面两个使用简单的 yield 语句的生成器函数："
   ]
  },
  {
   "cell_type": "code",
   "execution_count": null,
   "metadata": {},
   "outputs": [],
   "source": [
    "# Two simple generator functions\ndef countdown(n):\n    while n > 0:\n        print('T-minus', n)\n        yield\n        n -= 1\n    print('Blastoff!')\n\ndef countup(n):\n    x = 0\n    while x < n:\n        print('Counting up', x)\n        yield\n        x += 1"
   ]
  },
  {
   "cell_type": "markdown",
   "metadata": {},
   "source": [
    "这些函数在内部使用yield语句，下面是一个实现了简单任务调度器的代码："
   ]
  },
  {
   "cell_type": "code",
   "execution_count": null,
   "metadata": {},
   "outputs": [],
   "source": [
    "from collections import deque\n\nclass TaskScheduler:\n    def __init__(self):\n        self._task_queue = deque()\n\n    def new_task(self, task):\n        '''\n        Admit a newly started task to the scheduler\n\n        '''\n        self._task_queue.append(task)\n\n    def run(self):\n        '''\n        Run until there are no more tasks\n        '''\n        while self._task_queue:\n            task = self._task_queue.popleft()\n            try:\n                # Run until the next yield statement\n                next(task)\n                self._task_queue.append(task)\n            except StopIteration:\n                # Generator is no longer executing\n                pass\n\n# Example use\nsched = TaskScheduler()\nsched.new_task(countdown(10))\nsched.new_task(countdown(5))\nsched.new_task(countup(15))\nsched.run()"
   ]
  },
  {
   "cell_type": "markdown",
   "metadata": {},
   "source": [
    "TaskScheduler 类在一个循环中运行生成器集合——每个都运行到碰到yield语句为止。\n运行这个例子，输出如下："
   ]
  },
  {
   "cell_type": "code",
   "execution_count": null,
   "metadata": {},
   "outputs": [],
   "source": [
    "T-minus 10\nT-minus 5\nCounting up 0\nT-minus 9\nT-minus 4\nCounting up 1\nT-minus 8\nT-minus 3\nCounting up 2\nT-minus 7\nT-minus 2\n..."
   ]
  },
  {
   "cell_type": "markdown",
   "metadata": {},
   "source": [
    "到此为止，我们实际上已经实现了一个“操作系统”的最小核心部分。\n生成器函数就是认为，而yield语句是任务挂起的信号。\n调度器循环检查任务列表直到没有任务要执行为止。"
   ]
  },
  {
   "cell_type": "markdown",
   "metadata": {},
   "source": [
    "实际上，你可能想要使用生成器来实现简单的并发。\n那么，在实现actor或网络服务器的时候你可以使用生成器来替代线程的使用。"
   ]
  },
  {
   "cell_type": "markdown",
   "metadata": {},
   "source": [
    "下面的代码演示了使用生成器来实现一个不依赖线程的actor："
   ]
  },
  {
   "cell_type": "code",
   "execution_count": null,
   "metadata": {},
   "outputs": [],
   "source": [
    "from collections import deque\n\nclass ActorScheduler:\n    def __init__(self):\n        self._actors = { }          # Mapping of names to actors\n        self._msg_queue = deque()   # Message queue\n\n    def new_actor(self, name, actor):\n        '''\n        Admit a newly started actor to the scheduler and give it a name\n        '''\n        self._msg_queue.append((actor,None))\n        self._actors[name] = actor\n\n    def send(self, name, msg):\n        '''\n        Send a message to a named actor\n        '''\n        actor = self._actors.get(name)\n        if actor:\n            self._msg_queue.append((actor,msg))\n\n    def run(self):\n        '''\n        Run as long as there are pending messages.\n        '''\n        while self._msg_queue:\n            actor, msg = self._msg_queue.popleft()\n            try:\n                 actor.send(msg)\n            except StopIteration:\n                 pass\n\n# Example use\nif __name__ == '__main__':\n    def printer():\n        while True:\n            msg = yield\n            print('Got:', msg)\n\n    def counter(sched):\n        while True:\n            # Receive the current count\n            n = yield\n            if n == 0:\n                break\n            # Send to the printer task\n            sched.send('printer', n)\n            # Send the next count to the counter task (recursive)\n\n            sched.send('counter', n-1)\n\n    sched = ActorScheduler()\n    # Create the initial actors\n    sched.new_actor('printer', printer())\n    sched.new_actor('counter', counter(sched))\n\n    # Send an initial message to the counter to initiate\n    sched.send('counter', 10000)\n    sched.run()"
   ]
  },
  {
   "cell_type": "markdown",
   "metadata": {},
   "source": [
    "完全弄懂这段代码需要更深入的学习，但是关键点在于收集消息的队列。\n本质上，调度器在有需要发送的消息时会一直运行着。\n计数生成器会给自己发送消息并在一个递归循环中结束。"
   ]
  },
  {
   "cell_type": "markdown",
   "metadata": {},
   "source": [
    "下面是一个更加高级的例子，演示了使用生成器来实现一个并发网络应用程序："
   ]
  },
  {
   "cell_type": "code",
   "execution_count": null,
   "metadata": {},
   "outputs": [],
   "source": [
    "from collections import deque\nfrom select import select\n\n# This class represents a generic yield event in the scheduler\nclass YieldEvent:\n    def handle_yield(self, sched, task):\n        pass\n    def handle_resume(self, sched, task):\n        pass\n\n# Task Scheduler\nclass Scheduler:\n    def __init__(self):\n        self._numtasks = 0       # Total num of tasks\n        self._ready = deque()    # Tasks ready to run\n        self._read_waiting = {}  # Tasks waiting to read\n        self._write_waiting = {} # Tasks waiting to write\n\n    # Poll for I/O events and restart waiting tasks\n    def _iopoll(self):\n        rset,wset,eset = select(self._read_waiting,\n                                self._write_waiting,[])\n        for r in rset:\n            evt, task = self._read_waiting.pop(r)\n            evt.handle_resume(self, task)\n        for w in wset:\n            evt, task = self._write_waiting.pop(w)\n            evt.handle_resume(self, task)\n\n    def new(self,task):\n        '''\n        Add a newly started task to the scheduler\n        '''\n\n        self._ready.append((task, None))\n        self._numtasks += 1\n\n    def add_ready(self, task, msg=None):\n        '''\n        Append an already started task to the ready queue.\n        msg is what to send into the task when it resumes.\n        '''\n        self._ready.append((task, msg))\n\n    # Add a task to the reading set\n    def _read_wait(self, fileno, evt, task):\n        self._read_waiting[fileno] = (evt, task)\n\n    # Add a task to the write set\n    def _write_wait(self, fileno, evt, task):\n        self._write_waiting[fileno] = (evt, task)\n\n    def run(self):\n        '''\n        Run the task scheduler until there are no tasks\n        '''\n        while self._numtasks:\n             if not self._ready:\n                  self._iopoll()\n             task, msg = self._ready.popleft()\n             try:\n                 # Run the coroutine to the next yield\n                 r = task.send(msg)\n                 if isinstance(r, YieldEvent):\n                     r.handle_yield(self, task)\n                 else:\n                     raise RuntimeError('unrecognized yield event')\n             except StopIteration:\n                 self._numtasks -= 1\n\n# Example implementation of coroutine-based socket I/O\nclass ReadSocket(YieldEvent):\n    def __init__(self, sock, nbytes):\n        self.sock = sock\n        self.nbytes = nbytes\n    def handle_yield(self, sched, task):\n        sched._read_wait(self.sock.fileno(), self, task)\n    def handle_resume(self, sched, task):\n        data = self.sock.recv(self.nbytes)\n        sched.add_ready(task, data)\n\nclass WriteSocket(YieldEvent):\n    def __init__(self, sock, data):\n        self.sock = sock\n        self.data = data\n    def handle_yield(self, sched, task):\n\n        sched._write_wait(self.sock.fileno(), self, task)\n    def handle_resume(self, sched, task):\n        nsent = self.sock.send(self.data)\n        sched.add_ready(task, nsent)\n\nclass AcceptSocket(YieldEvent):\n    def __init__(self, sock):\n        self.sock = sock\n    def handle_yield(self, sched, task):\n        sched._read_wait(self.sock.fileno(), self, task)\n    def handle_resume(self, sched, task):\n        r = self.sock.accept()\n        sched.add_ready(task, r)\n\n# Wrapper around a socket object for use with yield\nclass Socket(object):\n    def __init__(self, sock):\n        self._sock = sock\n    def recv(self, maxbytes):\n        return ReadSocket(self._sock, maxbytes)\n    def send(self, data):\n        return WriteSocket(self._sock, data)\n    def accept(self):\n        return AcceptSocket(self._sock)\n    def __getattr__(self, name):\n        return getattr(self._sock, name)\n\nif __name__ == '__main__':\n    from socket import socket, AF_INET, SOCK_STREAM\n    import time\n\n    # Example of a function involving generators.  This should\n    # be called using line = yield from readline(sock)\n    def readline(sock):\n        chars = []\n        while True:\n            c = yield sock.recv(1)\n            if not c:\n                break\n            chars.append(c)\n            if c == b'\\n':\n                break\n        return b''.join(chars)\n\n    # Echo server using generators\n    class EchoServer:\n        def __init__(self,addr,sched):\n            self.sched = sched\n            sched.new(self.server_loop(addr))\n\n        def server_loop(self,addr):\n            s = Socket(socket(AF_INET,SOCK_STREAM))\n\n            s.bind(addr)\n            s.listen(5)\n            while True:\n                c,a = yield s.accept()\n                print('Got connection from ', a)\n                self.sched.new(self.client_handler(Socket(c)))\n\n        def client_handler(self,client):\n            while True:\n                line = yield from readline(client)\n                if not line:\n                    break\n                line = b'GOT:' + line\n                while line:\n                    nsent = yield client.send(line)\n                    line = line[nsent:]\n            client.close()\n            print('Client closed')\n\n    sched = Scheduler()\n    EchoServer(('',16000),sched)\n    sched.run()"
   ]
  },
  {
   "cell_type": "markdown",
   "metadata": {},
   "source": [
    "这段代码有点复杂。不过，它实现了一个小型的操作系统。\n有一个就绪的任务队列，并且还有因I/O休眠的任务等待区域。\n还有很多调度器负责在就绪队列和I/O等待区域之间移动任务。"
   ]
  },
  {
   "cell_type": "markdown",
   "metadata": {},
   "source": [
    "### 讨论\n"
   ]
  },
  {
   "cell_type": "markdown",
   "metadata": {},
   "source": [
    "在构建基于生成器的并发框架时，通常会使用更常见的yield形式："
   ]
  },
  {
   "cell_type": "code",
   "execution_count": null,
   "metadata": {},
   "outputs": [],
   "source": [
    "def some_generator():\n    ...\n    result = yield data\n    ..."
   ]
  },
  {
   "cell_type": "markdown",
   "metadata": {},
   "source": [
    "使用这种形式的yield语句的函数通常被称为“协程”。\n通过调度器，yield语句在一个循环中被处理，如下："
   ]
  },
  {
   "cell_type": "code",
   "execution_count": null,
   "metadata": {},
   "outputs": [],
   "source": [
    "f = some_generator()\n\n# Initial result. Is None to start since nothing has been computed\nresult = None\nwhile True:\n    try:\n        data = f.send(result)\n        result = ... do some calculation ...\n    except StopIteration:\n        break"
   ]
  },
  {
   "cell_type": "markdown",
   "metadata": {},
   "source": [
    "这里的逻辑稍微有点复杂。不过，被传给 send() 的值定义了在yield语句醒来时的返回值。\n因此，如果一个yield准备在对之前yield数据的回应中返回结果时，会在下一次 send() 操作返回。\n如果一个生成器函数刚开始运行，发送一个None值会让它排在第一个yield语句前面。"
   ]
  },
  {
   "cell_type": "markdown",
   "metadata": {},
   "source": [
    "除了发送值外，还可以在一个生成器上面执行一个 close() 方法。\n它会导致在执行yield语句时抛出一个 GeneratorExit 异常，从而终止执行。\n如果进一步设计，一个生成器可以捕获这个异常并执行清理操作。\n同样还可以使用生成器的 throw() 方法在yield语句执行时生成一个任意的执行指令。\n一个任务调度器可利用它来在运行的生成器中处理错误。"
   ]
  },
  {
   "cell_type": "markdown",
   "metadata": {},
   "source": [
    "最后一个例子中使用的 yield from 语句被用来实现协程，可以被其它生成器作为子程序或过程来调用。\n本质上就是将控制权透明的传输给新的函数。\n不像普通的生成器，一个使用 yield from 被调用的函数可以返回一个作为 yield from 语句结果的值。\n关于 yield from 的更多信息可以在 PEP 380 中找到。"
   ]
  },
  {
   "cell_type": "markdown",
   "metadata": {},
   "source": [
    "最后，如果使用生成器编程，要提醒你的是它还是有很多缺点的。\n特别是，你得不到任何线程可以提供的好处。例如，如果你执行CPU依赖或I/O阻塞程序，\n它会将整个任务挂起知道操作完成。为了解决这个问题，\n你只能选择将操作委派给另外一个可以独立运行的线程或进程。\n另外一个限制是大部分Python库并不能很好的兼容基于生成器的线程。\n如果你选择这个方案，你会发现你需要自己改写很多标准库函数。\n作为本节提到的协程和相关技术的一个基础背景，可以查看 PEP 342\n和 “协程和并发的一门有趣课程”"
   ]
  },
  {
   "cell_type": "markdown",
   "metadata": {},
   "source": [
    "PEP 3156 同样有一个关于使用协程的异步I/O模型。\n特别的，你不可能自己去实现一个底层的协程调度器。\n不过，关于协程的思想是很多流行库的基础，\n包括 gevent,\ngreenlet,\nStackless Python 以及其他类似工程。"
   ]
  },
  {
   "cell_type": "markdown",
   "metadata": {},
   "source": [
    "## 12.13 多个线程队列轮询\n"
   ]
  },
  {
   "cell_type": "markdown",
   "metadata": {},
   "source": [
    "### 问题\n"
   ]
  },
  {
   "cell_type": "markdown",
   "metadata": {},
   "source": [
    "你有一个线程队列集合，想为到来的元素轮询它们，\n就跟你为一个客户端请求去轮询一个网络连接集合的方式一样。"
   ]
  },
  {
   "cell_type": "markdown",
   "metadata": {},
   "source": [
    "### 解决方案\n"
   ]
  },
  {
   "cell_type": "markdown",
   "metadata": {},
   "source": [
    "对于轮询问题的一个常见解决方案中有个很少有人知道的技巧，包含了一个隐藏的回路网络连接。\n本质上讲其思想就是：对于每个你想要轮询的队列，你创建一对连接的套接字。\n然后你在其中一个套接字上面编写代码来标识存在的数据，\n另外一个套接字被传给 select() 或类似的一个轮询数据到达的函数。下面的例子演示了这个思想："
   ]
  },
  {
   "cell_type": "code",
   "execution_count": null,
   "metadata": {},
   "outputs": [],
   "source": [
    "import queue\nimport socket\nimport os\n\nclass PollableQueue(queue.Queue):\n    def __init__(self):\n        super().__init__()\n        # Create a pair of connected sockets\n        if os.name == 'posix':\n            self._putsocket, self._getsocket = socket.socketpair()\n        else:\n            # Compatibility on non-POSIX systems\n            server = socket.socket(socket.AF_INET, socket.SOCK_STREAM)\n            server.bind(('127.0.0.1', 0))\n            server.listen(1)\n            self._putsocket = socket.socket(socket.AF_INET, socket.SOCK_STREAM)\n            self._putsocket.connect(server.getsockname())\n            self._getsocket, _ = server.accept()\n            server.close()\n\n    def fileno(self):\n        return self._getsocket.fileno()\n\n    def put(self, item):\n        super().put(item)\n        self._putsocket.send(b'x')\n\n    def get(self):\n        self._getsocket.recv(1)\n        return super().get()"
   ]
  },
  {
   "cell_type": "markdown",
   "metadata": {},
   "source": [
    "在这个代码中，一个新的 Queue 实例类型被定义，底层是一个被连接套接字对。\n在Unix机器上的 socketpair() 函数能轻松的创建这样的套接字。\n在Windows上面，你必须使用类似代码来模拟它。\n然后定义普通的 get() 和 put() 方法在这些套接字上面来执行I/O操作。\nput() 方法再将数据放入队列后会写一个单字节到某个套接字中去。\n而 get() 方法在从队列中移除一个元素时会从另外一个套接字中读取到这个单字节数据。"
   ]
  },
  {
   "cell_type": "markdown",
   "metadata": {},
   "source": [
    "fileno() 方法使用一个函数比如 select() 来让这个队列可以被轮询。\n它仅仅只是暴露了底层被 get() 函数使用到的socket的文件描述符而已。"
   ]
  },
  {
   "cell_type": "markdown",
   "metadata": {},
   "source": [
    "下面是一个例子，定义了一个为到来的元素监控多个队列的消费者："
   ]
  },
  {
   "cell_type": "code",
   "execution_count": null,
   "metadata": {},
   "outputs": [],
   "source": [
    "import select\nimport threading\n\ndef consumer(queues):\n    '''\n    Consumer that reads data on multiple queues simultaneously\n    '''\n    while True:\n        can_read, _, _ = select.select(queues,[],[])\n        for r in can_read:\n            item = r.get()\n            print('Got:', item)\n\nq1 = PollableQueue()\nq2 = PollableQueue()\nq3 = PollableQueue()\nt = threading.Thread(target=consumer, args=([q1,q2,q3],))\nt.daemon = True\nt.start()\n\n# Feed data to the queues\nq1.put(1)\nq2.put(10)\nq3.put('hello')\nq2.put(15)\n..."
   ]
  },
  {
   "cell_type": "markdown",
   "metadata": {},
   "source": [
    "如果你试着运行它，你会发现这个消费者会接受到所有的被放入的元素，不管元素被放进了哪个队列中。"
   ]
  },
  {
   "cell_type": "markdown",
   "metadata": {},
   "source": [
    "### 讨论\n"
   ]
  },
  {
   "cell_type": "markdown",
   "metadata": {},
   "source": [
    "对于轮询非类文件对象，比如队列通常都是比较棘手的问题。\n例如，如果你不使用上面的套接字技术，\n你唯一的选择就是编写代码来循环遍历这些队列并使用一个定时器。像下面这样："
   ]
  },
  {
   "cell_type": "code",
   "execution_count": null,
   "metadata": {},
   "outputs": [],
   "source": [
    "import time\ndef consumer(queues):\n    while True:\n        for q in queues:\n            if not q.empty():\n                item = q.get()\n                print('Got:', item)\n\n        # Sleep briefly to avoid 100% CPU\n        time.sleep(0.01)"
   ]
  },
  {
   "cell_type": "markdown",
   "metadata": {},
   "source": [
    "这样做其实不合理，还会引入其他的性能问题。\n例如，如果新的数据被加入到一个队列中，至少要花10毫秒才能被发现。\n如果你之前的轮询还要去轮询其他对象，比如网络套接字那还会有更多问题。\n例如，如果你想同时轮询套接字和队列，你可能要像下面这样使用："
   ]
  },
  {
   "cell_type": "code",
   "execution_count": null,
   "metadata": {},
   "outputs": [],
   "source": [
    "import select\n\ndef event_loop(sockets, queues):\n    while True:\n        # polling with a timeout\n        can_read, _, _ = select.select(sockets, [], [], 0.01)\n        for r in can_read:\n            handle_read(r)\n        for q in queues:\n            if not q.empty():\n                item = q.get()\n                print('Got:', item)"
   ]
  },
  {
   "cell_type": "markdown",
   "metadata": {},
   "source": [
    "这个方案通过将队列和套接字等同对待来解决了大部分的问题。\n一个单独的 select() 调用可被同时用来轮询。\n使用超时或其他基于时间的机制来执行周期性检查并没有必要。\n甚至，如果数据被加入到一个队列，消费者几乎可以实时的被通知。\n尽管会有一点点底层的I/O损耗，使用它通常会获得更好的响应时间并简化编程。"
   ]
  },
  {
   "cell_type": "markdown",
   "metadata": {},
   "source": [
    "## 12.14 在Unix系统上面启动守护进程\n"
   ]
  },
  {
   "cell_type": "markdown",
   "metadata": {},
   "source": [
    "### 问题\n"
   ]
  },
  {
   "cell_type": "markdown",
   "metadata": {},
   "source": [
    "你想编写一个作为一个在Unix或类Unix系统上面运行的守护进程运行的程序。"
   ]
  },
  {
   "cell_type": "markdown",
   "metadata": {},
   "source": [
    "### 解决方案\n"
   ]
  },
  {
   "cell_type": "markdown",
   "metadata": {},
   "source": [
    "创建一个正确的守护进程需要一个精确的系统调用序列以及对于细节的控制。\n下面的代码展示了怎样定义一个守护进程，可以启动后很容易的停止它。"
   ]
  },
  {
   "cell_type": "code",
   "execution_count": null,
   "metadata": {},
   "outputs": [],
   "source": [
    "#!/usr/bin/env python3\n# daemon.py\n\nimport os\nimport sys\n\nimport atexit\nimport signal\n\ndef daemonize(pidfile, *, stdin='/dev/null',\n                          stdout='/dev/null',\n                          stderr='/dev/null'):\n\n    if os.path.exists(pidfile):\n        raise RuntimeError('Already running')\n\n    # First fork (detaches from parent)\n    try:\n        if os.fork() > 0:\n            raise SystemExit(0)   # Parent exit\n    except OSError as e:\n        raise RuntimeError('fork #1 failed.')\n\n    os.chdir('/')\n    os.umask(0)\n    os.setsid()\n    # Second fork (relinquish session leadership)\n    try:\n        if os.fork() > 0:\n            raise SystemExit(0)\n    except OSError as e:\n        raise RuntimeError('fork #2 failed.')\n\n    # Flush I/O buffers\n    sys.stdout.flush()\n    sys.stderr.flush()\n\n    # Replace file descriptors for stdin, stdout, and stderr\n    with open(stdin, 'rb', 0) as f:\n        os.dup2(f.fileno(), sys.stdin.fileno())\n    with open(stdout, 'ab', 0) as f:\n        os.dup2(f.fileno(), sys.stdout.fileno())\n    with open(stderr, 'ab', 0) as f:\n        os.dup2(f.fileno(), sys.stderr.fileno())\n\n    # Write the PID file\n    with open(pidfile,'w') as f:\n        print(os.getpid(),file=f)\n\n    # Arrange to have the PID file removed on exit/signal\n    atexit.register(lambda: os.remove(pidfile))\n\n    # Signal handler for termination (required)\n    def sigterm_handler(signo, frame):\n        raise SystemExit(1)\n\n    signal.signal(signal.SIGTERM, sigterm_handler)\n\ndef main():\n    import time\n    sys.stdout.write('Daemon started with pid {}\\n'.format(os.getpid()))\n    while True:\n        sys.stdout.write('Daemon Alive! {}\\n'.format(time.ctime()))\n        time.sleep(10)\n\nif __name__ == '__main__':\n    PIDFILE = '/tmp/daemon.pid'\n\n    if len(sys.argv) != 2:\n        print('Usage: {} [start|stop]'.format(sys.argv[0]), file=sys.stderr)\n        raise SystemExit(1)\n\n    if sys.argv[1] == 'start':\n        try:\n            daemonize(PIDFILE,\n                      stdout='/tmp/daemon.log',\n                      stderr='/tmp/dameon.log')\n        except RuntimeError as e:\n            print(e, file=sys.stderr)\n            raise SystemExit(1)\n\n        main()\n\n    elif sys.argv[1] == 'stop':\n        if os.path.exists(PIDFILE):\n            with open(PIDFILE) as f:\n                os.kill(int(f.read()), signal.SIGTERM)\n        else:\n            print('Not running', file=sys.stderr)\n            raise SystemExit(1)\n\n    else:\n        print('Unknown command {!r}'.format(sys.argv[1]), file=sys.stderr)\n        raise SystemExit(1)"
   ]
  },
  {
   "cell_type": "markdown",
   "metadata": {},
   "source": [
    "要启动这个守护进程，用户需要使用如下的命令："
   ]
  },
  {
   "cell_type": "code",
   "execution_count": null,
   "metadata": {},
   "outputs": [],
   "source": [
    "bash % daemon.py start\nbash % cat /tmp/daemon.pid\n2882\nbash % tail -f /tmp/daemon.log\nDaemon started with pid 2882\nDaemon Alive! Fri Oct 12 13:45:37 2012\nDaemon Alive! Fri Oct 12 13:45:47 2012\n..."
   ]
  },
  {
   "cell_type": "markdown",
   "metadata": {},
   "source": [
    "守护进程可以完全在后台运行，因此这个命令会立即返回。\n不过，你可以像上面那样查看与它相关的pid文件和日志。要停止这个守护进程，使用："
   ]
  },
  {
   "cell_type": "code",
   "execution_count": null,
   "metadata": {},
   "outputs": [],
   "source": [
    "bash % daemon.py stop\nbash %"
   ]
  },
  {
   "cell_type": "markdown",
   "metadata": {},
   "source": [
    "### 讨论\n"
   ]
  },
  {
   "cell_type": "markdown",
   "metadata": {},
   "source": [
    "本节定义了一个函数 daemonize() ，在程序启动时被调用使得程序以一个守护进程来运行。\ndaemonize() 函数只接受关键字参数，这样的话可选参数在被使用时就更清晰了。\n它会强制用户像下面这样使用它："
   ]
  },
  {
   "cell_type": "code",
   "execution_count": null,
   "metadata": {},
   "outputs": [],
   "source": [
    "daemonize('daemon.pid',\n          stdin='/dev/null,\n          stdout='/tmp/daemon.log',\n          stderr='/tmp/daemon.log')"
   ]
  },
  {
   "cell_type": "markdown",
   "metadata": {},
   "source": [
    "而不是像下面这样含糊不清的调用："
   ]
  },
  {
   "cell_type": "code",
   "execution_count": null,
   "metadata": {},
   "outputs": [],
   "source": [
    "# Illegal. Must use keyword arguments\ndaemonize('daemon.pid',\n          '/dev/null', '/tmp/daemon.log','/tmp/daemon.log')"
   ]
  },
  {
   "cell_type": "markdown",
   "metadata": {},
   "source": [
    "创建一个守护进程的步骤看上去不是很易懂，但是大体思想是这样的，\n首先，一个守护进程必须要从父进程中脱离。\n这是由 os.fork() 操作来完成的，并立即被父进程终止。"
   ]
  },
  {
   "cell_type": "markdown",
   "metadata": {},
   "source": [
    "在子进程变成孤儿后，调用 os.setsid() 创建了一个全新的进程会话，并设置子进程为首领。\n它会设置这个子进程为新的进程组的首领，并确保不会再有控制终端。\n如果这些听上去太魔幻，因为它需要将守护进程同终端分离开并确保信号机制对它不起作用。\n调用 os.chdir() 和 os.umask(0) 改变了当前工作目录并重置文件权限掩码。\n修改目录通常是个好主意，因为这样可以使得它不再工作在被启动时的目录。"
   ]
  },
  {
   "cell_type": "markdown",
   "metadata": {},
   "source": [
    "另外一个调用 os.fork() 在这里更加神秘点。\n这一步使得守护进程失去了获取新的控制终端的能力并且让它更加独立\n（本质上，该daemon放弃了它的会话首领低位，因此再也没有权限去打开控制终端了）。\n尽管你可以忽略这一步，但是最好不要这么做。"
   ]
  },
  {
   "cell_type": "markdown",
   "metadata": {},
   "source": [
    "一旦守护进程被正确的分离，它会重新初始化标准I/O流指向用户指定的文件。\n这一部分有点难懂。跟标准I/O流相关的文件对象的引用在解释器中多个地方被找到\n（sys.stdout, sys.__stdout__等）。\n仅仅简单的关闭 sys.stdout 并重新指定它是行不通的，\n因为没办法知道它是否全部都是用的是 sys.stdout 。\n这里，我们打开了一个单独的文件对象，并调用 os.dup2() ，\n用它来代替被 sys.stdout 使用的文件描述符。\n这样，sys.stdout 使用的原始文件会被关闭并由新的来替换。\n还要强调的是任何用于文件编码或文本处理的标准I/O流还会保留原状。"
   ]
  },
  {
   "cell_type": "markdown",
   "metadata": {},
   "source": [
    "守护进程的一个通常实践是在一个文件中写入进程ID，可以被其他程序后面使用到。\ndaemonize() 函数的最后部分写了这个文件，但是在程序终止时删除了它。\natexit.register() 函数注册了一个函数在Python解释器终止时执行。\n一个对于SIGTERM的信号处理器的定义同样需要被优雅的关闭。\n信号处理器简单的抛出了 SystemExit() 异常。\n或许这一步看上去没必要，但是没有它，\n终止信号会使得不执行 atexit.register() 注册的清理操作的时候就杀掉了解释器。\n一个杀掉进程的例子代码可以在程序最后的 stop 命令的操作中看到。"
   ]
  },
  {
   "cell_type": "markdown",
   "metadata": {},
   "source": [
    "更多关于编写守护进程的信息可以查看《UNIX 环境高级编程》, 第二版\nby W. Richard Stevens and Stephen A. Rago (Addison-Wesley, 2005)。\n尽管它是关注与C语言编程，但是所有的内容都适用于Python，\n因为所有需要的POSIX函数都可以在标准库中找到。"
   ]
  }
 ],
 "metadata": {
  "kernelspec": {
   "display_name": "Python 3",
   "language": "python",
   "name": "python3"
  },
  "language_info": {
   "codemirror_mode": {
    "name": "ipython",
    "version": 3
   },
   "file_extension": ".py",
   "mimetype": "text/x-python",
   "name": "python",
   "nbconvert_exporter": "python",
   "pygments_lexer": "ipython3",
   "version": "3.7.1"
  },
  "toc": {
   "base_numbering": 1,
   "nav_menu": {},
   "number_sections": true,
   "sideBar": true,
   "skip_h1_title": true,
   "title_cell": "Table of Contents",
   "title_sidebar": "Contents",
   "toc_cell": false,
   "toc_position": {},
   "toc_section_display": true,
   "toc_window_display": true
  }
 },
 "nbformat": 4,
 "nbformat_minor": 2
}
