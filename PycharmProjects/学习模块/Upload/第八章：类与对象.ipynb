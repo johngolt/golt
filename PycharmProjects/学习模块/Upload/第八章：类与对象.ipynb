{
 "cells": [
  {
   "cell_type": "markdown",
   "metadata": {},
   "source": []
  },
  {
   "cell_type": "markdown",
   "metadata": {},
   "source": [
    "## 8.8 子类中扩展property\n"
   ]
  },
  {
   "cell_type": "markdown",
   "metadata": {},
   "source": [
    "### 问题\n"
   ]
  },
  {
   "cell_type": "markdown",
   "metadata": {},
   "source": [
    "在子类中，你想要扩展定义在父类中的property的功能。"
   ]
  },
  {
   "cell_type": "markdown",
   "metadata": {},
   "source": [
    "### 解决方案\n"
   ]
  },
  {
   "cell_type": "markdown",
   "metadata": {},
   "source": [
    "考虑如下的代码，它定义了一个property："
   ]
  },
  {
   "cell_type": "code",
   "execution_count": null,
   "metadata": {},
   "outputs": [],
   "source": [
    "class Person:\n",
    "    def __init__(self, name):\n",
    "        self.name = name\n",
    "\n",
    "    # Getter function\n",
    "    @property\n",
    "    def name(self):\n",
    "        return self._name\n",
    "\n",
    "    # Setter function\n",
    "    @name.setter\n",
    "    def name(self, value):\n",
    "        if not isinstance(value, str):\n",
    "            raise TypeError('Expected a string')\n",
    "        self._name = value\n",
    "\n",
    "    # Deleter function\n",
    "    @name.deleter\n",
    "    def name(self):\n",
    "        raise AttributeError(\"Can't delete attribute\")"
   ]
  },
  {
   "cell_type": "markdown",
   "metadata": {},
   "source": [
    "下面是一个示例类，它继承自Person并扩展了 name 属性的功能："
   ]
  },
  {
   "cell_type": "code",
   "execution_count": null,
   "metadata": {},
   "outputs": [],
   "source": [
    "class SubPerson(Person):\n",
    "    @property\n",
    "    def name(self):\n",
    "        print('Getting name')\n",
    "        return super().name\n",
    "\n",
    "    @name.setter\n",
    "    def name(self, value):\n",
    "        print('Setting name to', value)\n",
    "        super(SubPerson, SubPerson).name.__set__(self, value)\n",
    "\n",
    "    @name.deleter\n",
    "    def name(self):\n",
    "        print('Deleting name')\n",
    "        super(SubPerson, SubPerson).name.__delete__(self)"
   ]
  },
  {
   "cell_type": "markdown",
   "metadata": {},
   "source": [
    "接下来使用这个新类："
   ]
  },
  {
   "cell_type": "code",
   "execution_count": null,
   "metadata": {},
   "outputs": [],
   "source": [
    "s = SubPerson('Guido')"
   ]
  },
  {
   "cell_type": "code",
   "execution_count": null,
   "metadata": {},
   "outputs": [],
   "source": [
    "s.name"
   ]
  },
  {
   "cell_type": "code",
   "execution_count": null,
   "metadata": {},
   "outputs": [],
   "source": [
    "s.name = 'Larry'"
   ]
  },
  {
   "cell_type": "code",
   "execution_count": null,
   "metadata": {},
   "outputs": [],
   "source": [
    "s.name = 42"
   ]
  },
  {
   "cell_type": "markdown",
   "metadata": {},
   "source": [
    "如果你仅仅只想扩展property的某一个方法，那么可以像下面这样写："
   ]
  },
  {
   "cell_type": "code",
   "execution_count": null,
   "metadata": {},
   "outputs": [],
   "source": [
    "class SubPerson(Person):\n",
    "    @Person.name.getter\n",
    "    def name(self):\n",
    "        print('Getting name')\n",
    "        return super().name"
   ]
  },
  {
   "cell_type": "markdown",
   "metadata": {},
   "source": [
    "或者，你只想修改setter方法，就这么写："
   ]
  },
  {
   "cell_type": "code",
   "execution_count": null,
   "metadata": {},
   "outputs": [],
   "source": [
    "class SubPerson(Person):\n",
    "    @Person.name.setter\n",
    "    def name(self, value):\n",
    "        print('Setting name to', value)\n",
    "        super(SubPerson, SubPerson).name.__set__(self, value)"
   ]
  },
  {
   "cell_type": "markdown",
   "metadata": {},
   "source": [
    "### 讨论\n"
   ]
  },
  {
   "cell_type": "markdown",
   "metadata": {},
   "source": [
    "在子类中扩展一个property可能会引起很多不易察觉的问题，\n",
    "因为一个property其实是 getter、setter 和 deleter 方法的集合，而不是单个方法。\n",
    "因此，当你扩展一个property的时候，你需要先确定你是否要重新定义所有的方法还是说只修改其中某一个。"
   ]
  },
  {
   "cell_type": "markdown",
   "metadata": {},
   "source": [
    "在第一个例子中，所有的property方法都被重新定义。\n",
    "在每一个方法中，使用了 super() 来调用父类的实现。\n",
    "在 setter 函数中使用 super(SubPerson, SubPerson).name.__set__(self, value) 的语句是没有错的。\n",
    "为了委托给之前定义的setter方法，需要将控制权传递给之前定义的name属性的 __set__() 方法。\n",
    "不过，获取这个方法的唯一途径是使用类变量而不是实例变量来访问它。\n",
    "这也是为什么我们要使用 super(SubPerson, SubPerson) 的原因。"
   ]
  },
  {
   "cell_type": "markdown",
   "metadata": {},
   "source": [
    "如果你只想重定义其中一个方法，那只使用 @property 本身是不够的。比如，下面的代码就无法工作："
   ]
  },
  {
   "cell_type": "code",
   "execution_count": null,
   "metadata": {},
   "outputs": [],
   "source": [
    "class SubPerson(Person):\n",
    "    @property  # Doesn't work\n",
    "    def name(self):\n",
    "        print('Getting name')\n",
    "        return super().name"
   ]
  },
  {
   "cell_type": "markdown",
   "metadata": {},
   "source": [
    "如果你试着运行会发现setter函数整个消失了："
   ]
  },
  {
   "cell_type": "code",
   "execution_count": null,
   "metadata": {},
   "outputs": [],
   "source": [
    "s = SubPerson('Guido')"
   ]
  },
  {
   "cell_type": "markdown",
   "metadata": {},
   "source": [
    "你应该像之前说过的那样修改代码："
   ]
  },
  {
   "cell_type": "code",
   "execution_count": null,
   "metadata": {},
   "outputs": [],
   "source": [
    "class SubPerson(Person):\n",
    "    @Person.name.getter\n",
    "    def name(self):\n",
    "        print('Getting name')\n",
    "        return super().name"
   ]
  },
  {
   "cell_type": "markdown",
   "metadata": {},
   "source": [
    "这么写后，property之前已经定义过的方法会被复制过来，而getter函数被替换。然后它就能按照期望的工作了："
   ]
  },
  {
   "cell_type": "code",
   "execution_count": null,
   "metadata": {},
   "outputs": [],
   "source": [
    "s = SubPerson('Guido')\n",
    "s.name"
   ]
  },
  {
   "cell_type": "code",
   "execution_count": null,
   "metadata": {},
   "outputs": [],
   "source": [
    "s.name = 'Larry'\n",
    "s.name"
   ]
  },
  {
   "cell_type": "code",
   "execution_count": null,
   "metadata": {},
   "outputs": [],
   "source": [
    "s.name = 42"
   ]
  },
  {
   "cell_type": "markdown",
   "metadata": {},
   "source": [
    "在这个特别的解决方案中，我们没办法使用更加通用的方式去替换硬编码的 Person 类名。\n",
    "如果你不知道到底是哪个基类定义了property，\n",
    "那你只能通过重新定义所有property并使用 super() 来将控制权传递给前面的实现。"
   ]
  },
  {
   "cell_type": "markdown",
   "metadata": {},
   "source": [
    "值得注意的是上面演示的第一种技术还可以被用来扩展一个描述器(在8.9小节我们有专门的介绍)。比如："
   ]
  },
  {
   "cell_type": "code",
   "execution_count": null,
   "metadata": {},
   "outputs": [],
   "source": [
    "# A descriptor\n",
    "class String:\n",
    "    def __init__(self, name):\n",
    "        self.name = name\n",
    "\n",
    "    def __get__(self, instance, cls):\n",
    "        if instance is None:\n",
    "            return self\n",
    "        return instance.__dict__[self.name]\n",
    "\n",
    "    def __set__(self, instance, value):\n",
    "        if not isinstance(value, str):\n",
    "            raise TypeError('Expected a string')\n",
    "        instance.__dict__[self.name] = value\n",
    "\n",
    "# A class with a descriptor\n",
    "class Person:\n",
    "    name = String('name')\n",
    "\n",
    "    def __init__(self, name):\n",
    "        self.name = name\n",
    "\n",
    "# Extending a descriptor with a property\n",
    "class SubPerson(Person):\n",
    "    @property\n",
    "    def name(self):\n",
    "        print('Getting name')\n",
    "        return super().name\n",
    "\n",
    "    @name.setter\n",
    "    def name(self, value):\n",
    "        print('Setting name to', value)\n",
    "        super(SubPerson, SubPerson).name.__set__(self, value)\n",
    "\n",
    "    @name.deleter\n",
    "    def name(self):\n",
    "        print('Deleting name')\n",
    "        super(SubPerson, SubPerson).name.__delete__(self)"
   ]
  },
  {
   "cell_type": "markdown",
   "metadata": {},
   "source": [
    "最后值得注意的是，读到这里时，你应该会发现子类化 setter 和 deleter 方法其实是很简单的。\n",
    "这里演示的解决方案同样适用，但是在 Python的issue页面\n",
    "报告的一个bug，或许会使得将来的Python版本中出现一个更加简洁的方法。"
   ]
  },
  {
   "cell_type": "markdown",
   "metadata": {},
   "source": [
    "## 8.9 创建新的类或实例属性\n"
   ]
  },
  {
   "cell_type": "markdown",
   "metadata": {},
   "source": [
    "### 问题\n"
   ]
  },
  {
   "cell_type": "markdown",
   "metadata": {},
   "source": [
    "你想创建一个新的拥有一些额外功能的实例属性类型，比如类型检查。"
   ]
  },
  {
   "cell_type": "markdown",
   "metadata": {},
   "source": [
    "### 解决方案\n"
   ]
  },
  {
   "cell_type": "markdown",
   "metadata": {},
   "source": [
    "如果你想创建一个全新的实例属性，可以通过一个描述器类的形式来定义它的功能。下面是一个例子："
   ]
  },
  {
   "cell_type": "code",
   "execution_count": null,
   "metadata": {},
   "outputs": [],
   "source": [
    "# Descriptor attribute for an integer type-checked attribute\n",
    "class Integer:\n",
    "    def __init__(self, name):\n",
    "        self.name = name\n",
    "\n",
    "    def __get__(self, instance, cls):\n",
    "        if instance is None:\n",
    "            return self\n",
    "        else:\n",
    "            return instance.__dict__[self.name]\n",
    "\n",
    "    def __set__(self, instance, value):\n",
    "        if not isinstance(value, int):\n",
    "            raise TypeError('Expected an int')\n",
    "        instance.__dict__[self.name] = value\n",
    "\n",
    "    def __delete__(self, instance):\n",
    "        del instance.__dict__[self.name]"
   ]
  },
  {
   "cell_type": "markdown",
   "metadata": {},
   "source": [
    "一个描述器就是一个实现了三个核心的属性访问操作(get, set, delete)的类，\n",
    "分别为 __get__() 、__set__() 和 __delete__() 这三个特殊的方法。\n",
    "这些方法接受一个实例作为输入，之后相应的操作实例底层的字典。"
   ]
  },
  {
   "cell_type": "markdown",
   "metadata": {},
   "source": [
    "为了使用一个描述器，需将这个描述器的实例作为类属性放到一个类的定义中。例如："
   ]
  },
  {
   "cell_type": "code",
   "execution_count": null,
   "metadata": {},
   "outputs": [],
   "source": [
    "class Point:\n",
    "    x = Integer('x')\n",
    "    y = Integer('y')\n",
    "\n",
    "    def __init__(self, x, y):\n",
    "        self.x = x\n",
    "        self.y = y"
   ]
  },
  {
   "cell_type": "markdown",
   "metadata": {},
   "source": [
    "当你这样做后，所有对描述器属性(比如x或y)的访问会被\n",
    "__get__() 、__set__() 和 __delete__() 方法捕获到。例如："
   ]
  },
  {
   "cell_type": "code",
   "execution_count": null,
   "metadata": {},
   "outputs": [],
   "source": [
    "p = Point(2, 3)\n",
    "p.x # Calls Point.x.__get__(p,Point)"
   ]
  },
  {
   "cell_type": "code",
   "execution_count": null,
   "metadata": {},
   "outputs": [],
   "source": [
    "p.y = 5 # Calls Point.y.__set__(p, 5)\n",
    "p.x = 2.3 # Calls Point.x.__set__(p, 2.3)"
   ]
  },
  {
   "cell_type": "markdown",
   "metadata": {},
   "source": [
    "作为输入，描述器的每一个方法会接受一个操作实例。\n",
    "为了实现请求操作，会相应的操作实例底层的字典(__dict__属性)。\n",
    "描述器的 self.name 属性存储了在实例字典中被实际使用到的key。"
   ]
  },
  {
   "cell_type": "markdown",
   "metadata": {},
   "source": [
    "### 讨论\n"
   ]
  },
  {
   "cell_type": "markdown",
   "metadata": {},
   "source": [
    "描述器可实现大部分Python类特性中的底层魔法，\n",
    "包括 @classmethod 、@staticmethod 、@property ，甚至是 __slots__ 特性。"
   ]
  },
  {
   "cell_type": "markdown",
   "metadata": {},
   "source": [
    "通过定义一个描述器，你可以在底层捕获核心的实例操作(get, set, delete)，并且可完全自定义它们的行为。\n",
    "这是一个强大的工具，有了它你可以实现很多高级功能，并且它也是很多高级库和框架中的重要工具之一。"
   ]
  },
  {
   "cell_type": "markdown",
   "metadata": {},
   "source": [
    "描述器的一个比较困惑的地方是它只能在类级别被定义，而不能为每个实例单独定义。因此，下面的代码是无法工作的："
   ]
  },
  {
   "cell_type": "code",
   "execution_count": null,
   "metadata": {},
   "outputs": [],
   "source": [
    "# Does NOT work\n",
    "class Point:\n",
    "    def __init__(self, x, y):\n",
    "        self.x = Integer('x') # No! Must be a class variable\n",
    "        self.y = Integer('y')\n",
    "        self.x = x\n",
    "        self.y = y"
   ]
  },
  {
   "cell_type": "markdown",
   "metadata": {},
   "source": [
    "同时，__get__() 方法实现起来比看上去要复杂得多："
   ]
  },
  {
   "cell_type": "code",
   "execution_count": null,
   "metadata": {},
   "outputs": [],
   "source": [
    "# Descriptor attribute for an integer type-checked attribute\n",
    "class Integer:\n",
    "\n",
    "    def __get__(self, instance, cls):\n",
    "        if instance is None:\n",
    "            return self\n",
    "        else:\n",
    "            return instance.__dict__[self.name]"
   ]
  },
  {
   "cell_type": "markdown",
   "metadata": {},
   "source": [
    "__get__() 看上去有点复杂的原因归结于实例变量和类变量的不同。\n",
    "如果一个描述器被当做一个类变量来访问，那么 instance 参数被设置成 None 。\n",
    "这种情况下，标准做法就是简单的返回这个描述器本身即可(尽管你还可以添加其他的自定义操作)。例如："
   ]
  },
  {
   "cell_type": "code",
   "execution_count": null,
   "metadata": {},
   "outputs": [],
   "source": [
    "p = Point(2,3)\n",
    "p.x # Calls Point.x.__get__(p, Point)"
   ]
  },
  {
   "cell_type": "code",
   "execution_count": null,
   "metadata": {},
   "outputs": [],
   "source": [
    "Point.x # Calls Point.x.__get__(None, Point)"
   ]
  },
  {
   "cell_type": "markdown",
   "metadata": {},
   "source": [
    "描述器通常是那些使用到装饰器或元类的大型框架中的一个组件。同时它们的使用也被隐藏在后面。\n",
    "举个例子，下面是一些更高级的基于描述器的代码，并涉及到一个类装饰器："
   ]
  },
  {
   "cell_type": "code",
   "execution_count": null,
   "metadata": {},
   "outputs": [],
   "source": [
    "# Descriptor for a type-checked attribute\n",
    "class Typed:\n",
    "    def __init__(self, name, expected_type):\n",
    "        self.name = name\n",
    "        self.expected_type = expected_type\n",
    "    def __get__(self, instance, cls):\n",
    "        if instance is None:\n",
    "            return self\n",
    "        else:\n",
    "            return instance.__dict__[self.name]\n",
    "\n",
    "    def __set__(self, instance, value):\n",
    "        if not isinstance(value, self.expected_type):\n",
    "            raise TypeError('Expected ' + str(self.expected_type))\n",
    "        instance.__dict__[self.name] = value\n",
    "    def __delete__(self, instance):\n",
    "        del instance.__dict__[self.name]\n",
    "\n",
    "# Class decorator that applies it to selected attributes\n",
    "def typeassert(**kwargs):\n",
    "    def decorate(cls):\n",
    "        for name, expected_type in kwargs.items():\n",
    "            # Attach a Typed descriptor to the class\n",
    "            setattr(cls, name, Typed(name, expected_type))\n",
    "        return cls\n",
    "    return decorate\n",
    "\n",
    "# Example use\n",
    "@typeassert(name=str, shares=int, price=float)\n",
    "class Stock:\n",
    "    def __init__(self, name, shares, price):\n",
    "        self.name = name\n",
    "        self.shares = shares\n",
    "        self.price = price"
   ]
  },
  {
   "cell_type": "markdown",
   "metadata": {},
   "source": [
    "最后要指出的一点是，如果你只是想简单的自定义某个类的单个属性访问的话就不用去写描述器了。\n",
    "这种情况下使用8.6小节介绍的property技术会更加容易。\n",
    "当程序中有很多重复代码的时候描述器就很有用了\n",
    "(比如你想在你代码的很多地方使用描述器提供的功能或者将它作为一个函数库特性)。"
   ]
  },
  {
   "cell_type": "markdown",
   "metadata": {},
   "source": [
    "## 8.10 使用延迟计算属性\n"
   ]
  },
  {
   "cell_type": "markdown",
   "metadata": {},
   "source": [
    "### 问题\n"
   ]
  },
  {
   "cell_type": "markdown",
   "metadata": {},
   "source": [
    "你想将一个只读属性定义成一个property，并且只在访问的时候才会计算结果。\n",
    "但是一旦被访问后，你希望结果值被缓存起来，不用每次都去计算。"
   ]
  },
  {
   "cell_type": "markdown",
   "metadata": {},
   "source": [
    "### 解决方案\n"
   ]
  },
  {
   "cell_type": "markdown",
   "metadata": {},
   "source": [
    "定义一个延迟属性的一种高效方法是通过使用一个描述器类，如下所示："
   ]
  },
  {
   "cell_type": "code",
   "execution_count": null,
   "metadata": {},
   "outputs": [],
   "source": [
    "class lazyproperty:\n",
    "    def __init__(self, func):\n",
    "        self.func = func\n",
    "\n",
    "    def __get__(self, instance, cls):\n",
    "        if instance is None:\n",
    "            return self\n",
    "        else:\n",
    "            value = self.func(instance)\n",
    "            setattr(instance, self.func.__name__, value)\n",
    "            return value"
   ]
  },
  {
   "cell_type": "markdown",
   "metadata": {},
   "source": [
    "你需要像下面这样在一个类中使用它："
   ]
  },
  {
   "cell_type": "code",
   "execution_count": null,
   "metadata": {},
   "outputs": [],
   "source": [
    "import math\n",
    "\n",
    "class Circle:\n",
    "    def __init__(self, radius):\n",
    "        self.radius = radius\n",
    "\n",
    "    @lazyproperty\n",
    "    def area(self):\n",
    "        print('Computing area')\n",
    "        return math.pi * self.radius ** 2\n",
    "\n",
    "    @lazyproperty\n",
    "    def perimeter(self):\n",
    "        print('Computing perimeter')\n",
    "        return 2 * math.pi * self.radius"
   ]
  },
  {
   "cell_type": "markdown",
   "metadata": {},
   "source": [
    "下面在一个交互环境中演示它的使用："
   ]
  },
  {
   "cell_type": "code",
   "execution_count": null,
   "metadata": {},
   "outputs": [],
   "source": [
    "c = Circle(4.0)\n",
    "c.radius"
   ]
  },
  {
   "cell_type": "code",
   "execution_count": null,
   "metadata": {},
   "outputs": [],
   "source": [
    "c.area"
   ]
  },
  {
   "cell_type": "code",
   "execution_count": null,
   "metadata": {},
   "outputs": [],
   "source": [
    "c.area"
   ]
  },
  {
   "cell_type": "code",
   "execution_count": null,
   "metadata": {},
   "outputs": [],
   "source": [
    "c.perimeter"
   ]
  },
  {
   "cell_type": "code",
   "execution_count": null,
   "metadata": {},
   "outputs": [],
   "source": [
    "c.perimeter"
   ]
  },
  {
   "cell_type": "markdown",
   "metadata": {},
   "source": [
    "仔细观察你会发现消息 Computing area 和 Computing perimeter 仅仅出现一次。"
   ]
  },
  {
   "cell_type": "markdown",
   "metadata": {},
   "source": [
    "### 讨论\n"
   ]
  },
  {
   "cell_type": "markdown",
   "metadata": {},
   "source": [
    "很多时候，构造一个延迟计算属性的主要目的是为了提升性能。\n",
    "例如，你可以避免计算这些属性值，除非你真的需要它们。\n",
    "这里演示的方案就是用来实现这样的效果的，\n",
    "只不过它是通过以非常高效的方式使用描述器的一个精妙特性来达到这种效果的。"
   ]
  },
  {
   "cell_type": "markdown",
   "metadata": {},
   "source": [
    "正如在其他小节(如8.9小节)所讲的那样，当一个描述器被放入一个类的定义时，\n",
    "每次访问属性时它的 __get__() 、__set__() 和 __delete__() 方法就会被触发。\n",
    "不过，如果一个描述器仅仅只定义了一个 __get__() 方法的话，它比通常的具有更弱的绑定。\n",
    "特别地，只有当被访问属性不在实例底层的字典中时 __get__() 方法才会被触发。"
   ]
  },
  {
   "cell_type": "markdown",
   "metadata": {},
   "source": [
    "lazyproperty 类利用这一点，使用 __get__() 方法在实例中存储计算出来的值，\n",
    "这个实例使用相同的名字作为它的property。\n",
    "这样一来，结果值被存储在实例字典中并且以后就不需要再去计算这个property了。\n",
    "你可以尝试更深入的例子来观察结果："
   ]
  },
  {
   "cell_type": "code",
   "execution_count": null,
   "metadata": {},
   "outputs": [],
   "source": [
    "c = Circle(4.0)\n",
    "# Get instance variables\n",
    "vars(c)"
   ]
  },
  {
   "cell_type": "code",
   "execution_count": null,
   "metadata": {},
   "outputs": [],
   "source": [
    "# Compute area and observe variables afterward\n",
    "c.area"
   ]
  },
  {
   "cell_type": "code",
   "execution_count": null,
   "metadata": {},
   "outputs": [],
   "source": [
    "vars(c)"
   ]
  },
  {
   "cell_type": "code",
   "execution_count": null,
   "metadata": {},
   "outputs": [],
   "source": [
    "# Notice access doesn't invoke property anymore\n",
    "c.area"
   ]
  },
  {
   "cell_type": "code",
   "execution_count": null,
   "metadata": {},
   "outputs": [],
   "source": [
    "# Delete the variable and see property trigger again\n",
    "del c.area\n",
    "vars(c)"
   ]
  },
  {
   "cell_type": "code",
   "execution_count": null,
   "metadata": {},
   "outputs": [],
   "source": [
    "c.area"
   ]
  },
  {
   "cell_type": "markdown",
   "metadata": {},
   "source": [
    "这种方案有一个小缺陷就是计算出的值被创建后是可以被修改的。例如："
   ]
  },
  {
   "cell_type": "code",
   "execution_count": null,
   "metadata": {},
   "outputs": [],
   "source": [
    "c.area"
   ]
  },
  {
   "cell_type": "code",
   "execution_count": null,
   "metadata": {},
   "outputs": [],
   "source": [
    "c.area = 25\n",
    "c.area"
   ]
  },
  {
   "cell_type": "markdown",
   "metadata": {},
   "source": [
    "如果你担心这个问题，那么可以使用一种稍微没那么高效的实现，就像下面这样："
   ]
  },
  {
   "cell_type": "code",
   "execution_count": null,
   "metadata": {},
   "outputs": [],
   "source": [
    "def lazyproperty(func):\n",
    "    name = '_lazy_' + func.__name__\n",
    "    @property\n",
    "    def lazy(self):\n",
    "        if hasattr(self, name):\n",
    "            return getattr(self, name)\n",
    "        else:\n",
    "            value = func(self)\n",
    "            setattr(self, name, value)\n",
    "            return value\n",
    "    return lazy"
   ]
  },
  {
   "cell_type": "markdown",
   "metadata": {},
   "source": [
    "如果你使用这个版本，就会发现现在修改操作已经不被允许了："
   ]
  },
  {
   "cell_type": "code",
   "execution_count": null,
   "metadata": {},
   "outputs": [],
   "source": [
    "c = Circle(4.0)\n",
    "c.area"
   ]
  },
  {
   "cell_type": "code",
   "execution_count": null,
   "metadata": {},
   "outputs": [],
   "source": [
    "c.area"
   ]
  },
  {
   "cell_type": "code",
   "execution_count": null,
   "metadata": {},
   "outputs": [],
   "source": [
    "c.area = 25"
   ]
  },
  {
   "cell_type": "markdown",
   "metadata": {},
   "source": [
    "然而，这种方案有一个缺点就是所有get操作都必须被定向到属性的 getter 函数上去。\n",
    "这个跟之前简单的在实例字典中查找值的方案相比效率要低一点。\n",
    "如果想获取更多关于property和可管理属性的信息，可以参考8.6小节。而描述器的相关内容可以在8.9小节找到。"
   ]
  },
  {
   "cell_type": "markdown",
   "metadata": {},
   "source": [
    "## 8.11 简化数据结构的初始化\n"
   ]
  },
  {
   "cell_type": "markdown",
   "metadata": {},
   "source": [
    "### 问题\n"
   ]
  },
  {
   "cell_type": "markdown",
   "metadata": {},
   "source": [
    "你写了很多仅仅用作数据结构的类，不想写太多烦人的 __init__() 函数"
   ]
  },
  {
   "cell_type": "markdown",
   "metadata": {},
   "source": [
    "### 解决方案\n"
   ]
  },
  {
   "cell_type": "markdown",
   "metadata": {},
   "source": [
    "可以在一个基类中写一个公用的 __init__() 函数："
   ]
  },
  {
   "cell_type": "code",
   "execution_count": null,
   "metadata": {},
   "outputs": [],
   "source": [
    "import math\n",
    "\n",
    "class Structure1:\n",
    "    # Class variable that specifies expected fields\n",
    "    _fields = []\n",
    "\n",
    "    def __init__(self, *args):\n",
    "        if len(args) != len(self._fields):\n",
    "            raise TypeError('Expected {} arguments'.format(len(self._fields)))\n",
    "        # Set the arguments\n",
    "        for name, value in zip(self._fields, args):\n",
    "            setattr(self, name, value)"
   ]
  },
  {
   "cell_type": "markdown",
   "metadata": {},
   "source": [
    "然后使你的类继承自这个基类:"
   ]
  },
  {
   "cell_type": "code",
   "execution_count": null,
   "metadata": {},
   "outputs": [],
   "source": [
    "# Example class definitions\n",
    "class Stock(Structure1):\n",
    "    _fields = ['name', 'shares', 'price']\n",
    "\n",
    "class Point(Structure1):\n",
    "    _fields = ['x', 'y']\n",
    "\n",
    "class Circle(Structure1):\n",
    "    _fields = ['radius']\n",
    "\n",
    "    def area(self):\n",
    "        return math.pi * self.radius ** 2"
   ]
  },
  {
   "cell_type": "markdown",
   "metadata": {},
   "source": [
    "使用这些类的示例："
   ]
  },
  {
   "cell_type": "code",
   "execution_count": null,
   "metadata": {},
   "outputs": [],
   "source": [
    "s = Stock('ACME', 50, 91.1)\n",
    "p = Point(2, 3)\n",
    "c = Circle(4.5)\n",
    "s2 = Stock('ACME', 50)"
   ]
  },
  {
   "cell_type": "markdown",
   "metadata": {},
   "source": [
    "如果还想支持关键字参数，可以将关键字参数设置为实例属性："
   ]
  },
  {
   "cell_type": "code",
   "execution_count": null,
   "metadata": {},
   "outputs": [],
   "source": [
    "class Structure2:\n",
    "    _fields = []\n",
    "\n",
    "    def __init__(self, *args, **kwargs):\n",
    "        if len(args) > len(self._fields):\n",
    "            raise TypeError('Expected {} arguments'.format(len(self._fields)))\n",
    "\n",
    "        # Set all of the positional arguments\n",
    "        for name, value in zip(self._fields, args):\n",
    "            setattr(self, name, value)\n",
    "\n",
    "        # Set the remaining keyword arguments\n",
    "        for name in self._fields[len(args):]:\n",
    "            setattr(self, name, kwargs.pop(name))\n",
    "\n",
    "        # Check for any remaining unknown arguments\n",
    "        if kwargs:\n",
    "            raise TypeError('Invalid argument(s): {}'.format(','.join(kwargs)))\n",
    "# Example use\n",
    "if __name__ == '__main__':\n",
    "    class Stock(Structure2):\n",
    "        _fields = ['name', 'shares', 'price']\n",
    "\n",
    "    s1 = Stock('ACME', 50, 91.1)\n",
    "    s2 = Stock('ACME', 50, price=91.1)\n",
    "    s3 = Stock('ACME', shares=50, price=91.1)\n",
    "    # s3 = Stock('ACME', shares=50, price=91.1, aa=1)"
   ]
  },
  {
   "cell_type": "markdown",
   "metadata": {},
   "source": [
    "你还能将不在 _fields 中的名称加入到属性中去："
   ]
  },
  {
   "cell_type": "code",
   "execution_count": null,
   "metadata": {},
   "outputs": [],
   "source": [
    "class Structure3:\n",
    "    # Class variable that specifies expected fields\n",
    "    _fields = []\n",
    "\n",
    "    def __init__(self, *args, **kwargs):\n",
    "        if len(args) != len(self._fields):\n",
    "            raise TypeError('Expected {} arguments'.format(len(self._fields)))\n",
    "\n",
    "        # Set the arguments\n",
    "        for name, value in zip(self._fields, args):\n",
    "            setattr(self, name, value)\n",
    "\n",
    "        # Set the additional arguments (if any)\n",
    "        extra_args = kwargs.keys() - self._fields\n",
    "        for name in extra_args:\n",
    "            setattr(self, name, kwargs.pop(name))\n",
    "\n",
    "        if kwargs:\n",
    "            raise TypeError('Duplicate values for {}'.format(','.join(kwargs)))\n",
    "\n",
    "# Example use\n",
    "if __name__ == '__main__':\n",
    "    class Stock(Structure3):\n",
    "        _fields = ['name', 'shares', 'price']\n",
    "\n",
    "    s1 = Stock('ACME', 50, 91.1)\n",
    "    s2 = Stock('ACME', 50, 91.1, date='8/2/2012')"
   ]
  },
  {
   "cell_type": "markdown",
   "metadata": {},
   "source": [
    "### 讨论\n"
   ]
  },
  {
   "cell_type": "markdown",
   "metadata": {},
   "source": [
    "当你需要使用大量很小的数据结构类的时候，\n",
    "相比手工一个个定义 __init__() 方法而已，使用这种方式可以大大简化代码。"
   ]
  },
  {
   "cell_type": "markdown",
   "metadata": {},
   "source": [
    "在上面的实现中我们使用了 setattr() 函数类设置属性值，\n",
    "你可能不想用这种方式，而是想直接更新实例字典，就像下面这样："
   ]
  },
  {
   "cell_type": "code",
   "execution_count": null,
   "metadata": {},
   "outputs": [],
   "source": [
    "class Structure:\n",
    "    # Class variable that specifies expected fields\n",
    "    _fields= []\n",
    "    def __init__(self, *args):\n",
    "        if len(args) != len(self._fields):\n",
    "            raise TypeError('Expected {} arguments'.format(len(self._fields)))\n",
    "\n",
    "        # Set the arguments (alternate)\n",
    "        self.__dict__.update(zip(self._fields,args))"
   ]
  },
  {
   "cell_type": "markdown",
   "metadata": {},
   "source": [
    "尽管这也可以正常工作，但是当定义子类的时候问题就来了。\n",
    "当一个子类定义了 __slots__ 或者通过property(或描述器)来包装某个属性，\n",
    "那么直接访问实例字典就不起作用了。我们上面使用 setattr() 会显得更通用些，因为它也适用于子类情况。"
   ]
  },
  {
   "cell_type": "markdown",
   "metadata": {},
   "source": [
    "这种方法唯一不好的地方就是对某些IDE而言，在显示帮助函数时可能不太友好。比如："
   ]
  },
  {
   "cell_type": "code",
   "execution_count": null,
   "metadata": {},
   "outputs": [],
   "source": [
    "help(Stock)"
   ]
  },
  {
   "cell_type": "markdown",
   "metadata": {},
   "source": [
    "可以参考9.16小节来强制在 __init__() 方法中指定参数的类型签名。"
   ]
  },
  {
   "cell_type": "markdown",
   "metadata": {},
   "source": [
    "## 8.12 定义接口或者抽象基类\n"
   ]
  },
  {
   "cell_type": "markdown",
   "metadata": {},
   "source": [
    "### 问题\n"
   ]
  },
  {
   "cell_type": "markdown",
   "metadata": {},
   "source": [
    "你想定义一个接口或抽象类，并且通过执行类型检查来确保子类实现了某些特定的方法"
   ]
  },
  {
   "cell_type": "markdown",
   "metadata": {},
   "source": [
    "### 解决方案\n"
   ]
  },
  {
   "cell_type": "markdown",
   "metadata": {},
   "source": [
    "使用 abc 模块可以很轻松的定义抽象基类："
   ]
  },
  {
   "cell_type": "code",
   "execution_count": null,
   "metadata": {},
   "outputs": [],
   "source": [
    "from abc import ABCMeta, abstractmethod\n",
    "\n",
    "class IStream(metaclass=ABCMeta):\n",
    "    @abstractmethod\n",
    "    def read(self, maxbytes=-1):\n",
    "        pass\n",
    "\n",
    "    @abstractmethod\n",
    "    def write(self, data):\n",
    "        pass"
   ]
  },
  {
   "cell_type": "markdown",
   "metadata": {},
   "source": [
    "抽象类的一个特点是它不能直接被实例化，比如你想像下面这样做是不行的："
   ]
  },
  {
   "cell_type": "code",
   "execution_count": null,
   "metadata": {},
   "outputs": [],
   "source": [
    "a = IStream() # TypeError: Can't instantiate abstract class\n",
    "                # IStream with abstract methods read, write"
   ]
  },
  {
   "cell_type": "markdown",
   "metadata": {},
   "source": [
    "抽象类的目的就是让别的类继承它并实现特定的抽象方法："
   ]
  },
  {
   "cell_type": "code",
   "execution_count": null,
   "metadata": {},
   "outputs": [],
   "source": [
    "class SocketStream(IStream):\n",
    "    def read(self, maxbytes=-1):\n",
    "        pass\n",
    "\n",
    "    def write(self, data):\n",
    "        pass"
   ]
  },
  {
   "cell_type": "markdown",
   "metadata": {},
   "source": [
    "抽象基类的一个主要用途是在代码中检查某些类是否为特定类型，实现了特定接口："
   ]
  },
  {
   "cell_type": "code",
   "execution_count": null,
   "metadata": {},
   "outputs": [],
   "source": [
    "def serialize(obj, stream):\n",
    "    if not isinstance(stream, IStream):\n",
    "        raise TypeError('Expected an IStream')\n",
    "    pass"
   ]
  },
  {
   "cell_type": "markdown",
   "metadata": {},
   "source": [
    "除了继承这种方式外，还可以通过注册方式来让某个类实现抽象基类："
   ]
  },
  {
   "cell_type": "code",
   "execution_count": null,
   "metadata": {},
   "outputs": [],
   "source": [
    "import io\n",
    "\n",
    "# Register the built-in I/O classes as supporting our interface\n",
    "IStream.register(io.IOBase)\n",
    "\n",
    "# Open a normal file and type check\n",
    "f = open('foo.txt')\n",
    "isinstance(f, IStream) # Returns True"
   ]
  },
  {
   "cell_type": "markdown",
   "metadata": {},
   "source": [
    "@abstractmethod 还能注解静态方法、类方法和 properties 。\n",
    "你只需保证这个注解紧靠在函数定义前即可："
   ]
  },
  {
   "cell_type": "code",
   "execution_count": null,
   "metadata": {},
   "outputs": [],
   "source": [
    "class A(metaclass=ABCMeta):\n",
    "    @property\n",
    "    @abstractmethod\n",
    "    def name(self):\n",
    "        pass\n",
    "\n",
    "    @name.setter\n",
    "    @abstractmethod\n",
    "    def name(self, value):\n",
    "        pass\n",
    "\n",
    "    @classmethod\n",
    "    @abstractmethod\n",
    "    def method1(cls):\n",
    "        pass\n",
    "\n",
    "    @staticmethod\n",
    "    @abstractmethod\n",
    "    def method2():\n",
    "        pass"
   ]
  },
  {
   "cell_type": "markdown",
   "metadata": {},
   "source": [
    "### 讨论\n"
   ]
  },
  {
   "cell_type": "markdown",
   "metadata": {},
   "source": [
    "标准库中有很多用到抽象基类的地方。collections 模块定义了很多跟容器和迭代器(序列、映射、集合等)有关的抽象基类。\n",
    "numbers 库定义了跟数字对象(整数、浮点数、有理数等)有关的基类。io 库定义了很多跟I/O操作相关的基类。"
   ]
  },
  {
   "cell_type": "markdown",
   "metadata": {},
   "source": [
    "你可以使用预定义的抽象类来执行更通用的类型检查，例如："
   ]
  },
  {
   "cell_type": "code",
   "execution_count": null,
   "metadata": {},
   "outputs": [],
   "source": [
    "import collections\n",
    "\n",
    "# Check if x is a sequence\n",
    "if isinstance(x, collections.Sequence):\n",
    "...\n",
    "\n",
    "# Check if x is iterable\n",
    "if isinstance(x, collections.Iterable):\n",
    "...\n",
    "\n",
    "# Check if x has a size\n",
    "if isinstance(x, collections.Sized):\n",
    "...\n",
    "\n",
    "# Check if x is a mapping\n",
    "if isinstance(x, collections.Mapping):"
   ]
  },
  {
   "cell_type": "markdown",
   "metadata": {},
   "source": [
    "尽管ABCs可以让我们很方便的做类型检查，但是我们在代码中最好不要过多的使用它。\n",
    "因为Python的本质是一门动态编程语言，其目的就是给你更多灵活性，\n",
    "强制类型检查或让你代码变得更复杂，这样做无异于舍本求末。"
   ]
  },
  {
   "cell_type": "markdown",
   "metadata": {},
   "source": [
    "## 8.13 实现数据模型的类型约束\n"
   ]
  },
  {
   "cell_type": "markdown",
   "metadata": {},
   "source": [
    "### 问题\n"
   ]
  },
  {
   "cell_type": "markdown",
   "metadata": {},
   "source": [
    "你想定义某些在属性赋值上面有限制的数据结构。"
   ]
  },
  {
   "cell_type": "markdown",
   "metadata": {},
   "source": [
    "### 解决方案\n"
   ]
  },
  {
   "cell_type": "markdown",
   "metadata": {},
   "source": [
    "在这个问题中，你需要在对某些实例属性赋值时进行检查。\n",
    "所以你要自定义属性赋值函数，这种情况下最好使用描述器。"
   ]
  },
  {
   "cell_type": "markdown",
   "metadata": {},
   "source": [
    "下面的代码使用描述器实现了一个系统类型和赋值验证框架："
   ]
  },
  {
   "cell_type": "code",
   "execution_count": null,
   "metadata": {},
   "outputs": [],
   "source": [
    "# Base class. Uses a descriptor to set a value\n",
    "class Descriptor:\n",
    "    def __init__(self, name=None, **opts):\n",
    "        self.name = name\n",
    "        for key, value in opts.items():\n",
    "            setattr(self, key, value)\n",
    "\n",
    "    def __set__(self, instance, value):\n",
    "        instance.__dict__[self.name] = value\n",
    "\n",
    "\n",
    "# Descriptor for enforcing types\n",
    "class Typed(Descriptor):\n",
    "    expected_type = type(None)\n",
    "\n",
    "    def __set__(self, instance, value):\n",
    "        if not isinstance(value, self.expected_type):\n",
    "            raise TypeError('expected ' + str(self.expected_type))\n",
    "        super().__set__(instance, value)\n",
    "\n",
    "\n",
    "# Descriptor for enforcing values\n",
    "class Unsigned(Descriptor):\n",
    "    def __set__(self, instance, value):\n",
    "        if value < 0:\n",
    "            raise ValueError('Expected >= 0')\n",
    "        super().__set__(instance, value)\n",
    "\n",
    "\n",
    "class MaxSized(Descriptor):\n",
    "    def __init__(self, name=None, **opts):\n",
    "        if 'size' not in opts:\n",
    "            raise TypeError('missing size option')\n",
    "        super().__init__(name, **opts)\n",
    "\n",
    "    def __set__(self, instance, value):\n",
    "        if len(value) >= self.size:\n",
    "            raise ValueError('size must be < ' + str(self.size))\n",
    "        super().__set__(instance, value)"
   ]
  },
  {
   "cell_type": "markdown",
   "metadata": {},
   "source": [
    "这些类就是你要创建的数据模型或类型系统的基础构建模块。\n",
    "下面就是我们实际定义的各种不同的数据类型："
   ]
  },
  {
   "cell_type": "code",
   "execution_count": null,
   "metadata": {},
   "outputs": [],
   "source": [
    "class Integer(Typed):\n",
    "    expected_type = int\n",
    "\n",
    "class UnsignedInteger(Integer, Unsigned):\n",
    "    pass\n",
    "\n",
    "class Float(Typed):\n",
    "    expected_type = float\n",
    "\n",
    "class UnsignedFloat(Float, Unsigned):\n",
    "    pass\n",
    "\n",
    "class String(Typed):\n",
    "    expected_type = str\n",
    "\n",
    "class SizedString(String, MaxSized):\n",
    "    pass"
   ]
  },
  {
   "cell_type": "markdown",
   "metadata": {},
   "source": [
    "然后使用这些自定义数据类型，我们定义一个类："
   ]
  },
  {
   "cell_type": "code",
   "execution_count": null,
   "metadata": {},
   "outputs": [],
   "source": [
    "class Stock:\n",
    "    # Specify constraints\n",
    "    name = SizedString('name', size=8)\n",
    "    shares = UnsignedInteger('shares')\n",
    "    price = UnsignedFloat('price')\n",
    "\n",
    "    def __init__(self, name, shares, price):\n",
    "        self.name = name\n",
    "        self.shares = shares\n",
    "        self.price = price"
   ]
  },
  {
   "cell_type": "markdown",
   "metadata": {},
   "source": [
    "然后测试这个类的属性赋值约束，可发现对某些属性的赋值违法了约束是不合法的："
   ]
  },
  {
   "cell_type": "code",
   "execution_count": null,
   "metadata": {},
   "outputs": [],
   "source": [
    "s.name"
   ]
  },
  {
   "cell_type": "code",
   "execution_count": null,
   "metadata": {},
   "outputs": [],
   "source": [
    "s.shares = 75\n",
    "s.shares = -10"
   ]
  },
  {
   "cell_type": "code",
   "execution_count": null,
   "metadata": {},
   "outputs": [],
   "source": [
    "s.price = 'a lot'"
   ]
  },
  {
   "cell_type": "code",
   "execution_count": null,
   "metadata": {},
   "outputs": [],
   "source": [
    "s.name = 'ABRACADABRA'"
   ]
  },
  {
   "cell_type": "markdown",
   "metadata": {},
   "source": [
    "还有一些技术可以简化上面的代码，其中一种是使用类装饰器："
   ]
  },
  {
   "cell_type": "code",
   "execution_count": null,
   "metadata": {},
   "outputs": [],
   "source": [
    "# Class decorator to apply constraints\n",
    "def check_attributes(**kwargs):\n",
    "    def decorate(cls):\n",
    "        for key, value in kwargs.items():\n",
    "            if isinstance(value, Descriptor):\n",
    "                value.name = key\n",
    "                setattr(cls, key, value)\n",
    "            else:\n",
    "                setattr(cls, key, value(key))\n",
    "        return cls\n",
    "\n",
    "    return decorate\n",
    "\n",
    "# Example\n",
    "@check_attributes(name=SizedString(size=8),\n",
    "                  shares=UnsignedInteger,\n",
    "                  price=UnsignedFloat)\n",
    "class Stock:\n",
    "    def __init__(self, name, shares, price):\n",
    "        self.name = name\n",
    "        self.shares = shares\n",
    "        self.price = price"
   ]
  },
  {
   "cell_type": "markdown",
   "metadata": {},
   "source": [
    "另外一种方式是使用元类："
   ]
  },
  {
   "cell_type": "code",
   "execution_count": null,
   "metadata": {},
   "outputs": [],
   "source": [
    "# A metaclass that applies checking\n",
    "class checkedmeta(type):\n",
    "    def __new__(cls, clsname, bases, methods):\n",
    "        # Attach attribute names to the descriptors\n",
    "        for key, value in methods.items():\n",
    "            if isinstance(value, Descriptor):\n",
    "                value.name = key\n",
    "        return type.__new__(cls, clsname, bases, methods)\n",
    "\n",
    "# Example\n",
    "class Stock2(metaclass=checkedmeta):\n",
    "    name = SizedString(size=8)\n",
    "    shares = UnsignedInteger()\n",
    "    price = UnsignedFloat()\n",
    "\n",
    "    def __init__(self, name, shares, price):\n",
    "        self.name = name\n",
    "        self.shares = shares\n",
    "        self.price = price"
   ]
  },
  {
   "cell_type": "markdown",
   "metadata": {},
   "source": [
    "### 讨论\n"
   ]
  },
  {
   "cell_type": "markdown",
   "metadata": {},
   "source": [
    "本节使用了很多高级技术，包括描述器、混入类、super() 的使用、类装饰器和元类。\n",
    "不可能在这里一一详细展开来讲，但是可以在8.9、8.18、9.19小节找到更多例子。\n",
    "但是，我在这里还是要提一下几个需要注意的点。"
   ]
  },
  {
   "cell_type": "markdown",
   "metadata": {},
   "source": [
    "首先，在 Descriptor 基类中你会看到有个 __set__() 方法，却没有相应的 __get__() 方法。\n",
    "如果一个描述仅仅是从底层实例字典中获取某个属性值的话，那么没必要去定义 __get__() 方法。"
   ]
  },
  {
   "cell_type": "markdown",
   "metadata": {},
   "source": [
    "所有描述器类都是基于混入类来实现的。比如 Unsigned 和 MaxSized 要跟其他继承自 Typed 类混入。\n",
    "这里利用多继承来实现相应的功能。"
   ]
  },
  {
   "cell_type": "markdown",
   "metadata": {},
   "source": [
    "混入类的一个比较难理解的地方是，调用 super() 函数时，你并不知道究竟要调用哪个具体类。\n",
    "你需要跟其他类结合后才能正确的使用，也就是必须合作才能产生效果。"
   ]
  },
  {
   "cell_type": "markdown",
   "metadata": {},
   "source": [
    "使用类装饰器和元类通常可以简化代码。上面两个例子中你会发现你只需要输入一次属性名即可了。"
   ]
  },
  {
   "cell_type": "code",
   "execution_count": null,
   "metadata": {},
   "outputs": [],
   "source": [
    "# Normal\n",
    "class Point:\n",
    "    x = Integer('x')\n",
    "    y = Integer('y')\n",
    "\n",
    "# Metaclass\n",
    "class Point(metaclass=checkedmeta):\n",
    "    x = Integer()\n",
    "    y = Integer()"
   ]
  },
  {
   "cell_type": "markdown",
   "metadata": {},
   "source": [
    "所有方法中，类装饰器方案应该是最灵活和最高明的。\n",
    "首先，它并不依赖任何其他新的技术，比如元类。其次，装饰器可以很容易的添加或删除。"
   ]
  },
  {
   "cell_type": "markdown",
   "metadata": {},
   "source": [
    "最后，装饰器还能作为混入类的替代技术来实现同样的效果;"
   ]
  },
  {
   "cell_type": "code",
   "execution_count": null,
   "metadata": {},
   "outputs": [],
   "source": [
    "# Decorator for applying type checking\n",
    "def Typed(expected_type, cls=None):\n",
    "    if cls is None:\n",
    "        return lambda cls: Typed(expected_type, cls)\n",
    "    super_set = cls.__set__\n",
    "\n",
    "    def __set__(self, instance, value):\n",
    "        if not isinstance(value, expected_type):\n",
    "            raise TypeError('expected ' + str(expected_type))\n",
    "        super_set(self, instance, value)\n",
    "\n",
    "    cls.__set__ = __set__\n",
    "    return cls\n",
    "\n",
    "\n",
    "# Decorator for unsigned values\n",
    "def Unsigned(cls):\n",
    "    super_set = cls.__set__\n",
    "\n",
    "    def __set__(self, instance, value):\n",
    "        if value < 0:\n",
    "            raise ValueError('Expected >= 0')\n",
    "        super_set(self, instance, value)\n",
    "\n",
    "    cls.__set__ = __set__\n",
    "    return cls\n",
    "\n",
    "\n",
    "# Decorator for allowing sized values\n",
    "def MaxSized(cls):\n",
    "    super_init = cls.__init__\n",
    "\n",
    "    def __init__(self, name=None, **opts):\n",
    "        if 'size' not in opts:\n",
    "            raise TypeError('missing size option')\n",
    "        super_init(self, name, **opts)\n",
    "\n",
    "    cls.__init__ = __init__\n",
    "\n",
    "    super_set = cls.__set__\n",
    "\n",
    "    def __set__(self, instance, value):\n",
    "        if len(value) >= self.size:\n",
    "            raise ValueError('size must be < ' + str(self.size))\n",
    "        super_set(self, instance, value)\n",
    "\n",
    "    cls.__set__ = __set__\n",
    "    return cls\n",
    "\n",
    "\n",
    "# Specialized descriptors\n",
    "@Typed(int)\n",
    "class Integer(Descriptor):\n",
    "    pass\n",
    "\n",
    "\n",
    "@Unsigned\n",
    "class UnsignedInteger(Integer):\n",
    "    pass\n",
    "\n",
    "\n",
    "@Typed(float)\n",
    "class Float(Descriptor):\n",
    "    pass\n",
    "\n",
    "\n",
    "@Unsigned\n",
    "class UnsignedFloat(Float):\n",
    "    pass\n",
    "\n",
    "\n",
    "@Typed(str)\n",
    "class String(Descriptor):\n",
    "    pass\n",
    "\n",
    "\n",
    "@MaxSized\n",
    "class SizedString(String):\n",
    "    pass"
   ]
  },
  {
   "cell_type": "markdown",
   "metadata": {},
   "source": [
    "这种方式定义的类跟之前的效果一样，而且执行速度会更快。\n",
    "设置一个简单的类型属性的值，装饰器方式要比之前的混入类的方式几乎快100%。\n",
    "现在你应该庆幸自己读完了本节全部内容了吧？^_^"
   ]
  },
  {
   "cell_type": "markdown",
   "metadata": {},
   "source": [
    "## 8.14 实现自定义容器\n"
   ]
  },
  {
   "cell_type": "markdown",
   "metadata": {},
   "source": [
    "### 问题\n"
   ]
  },
  {
   "cell_type": "markdown",
   "metadata": {},
   "source": [
    "你想实现一个自定义的类来模拟内置的容器类功能，比如列表和字典。但是你不确定到底要实现哪些方法。"
   ]
  },
  {
   "cell_type": "markdown",
   "metadata": {},
   "source": [
    "### 解决方案\n"
   ]
  },
  {
   "cell_type": "markdown",
   "metadata": {},
   "source": [
    "collections 定义了很多抽象基类，当你想自定义容器类的时候它们会非常有用。\n",
    "比如你想让你的类支持迭代，那就让你的类继承 collections.Iterable 即可："
   ]
  },
  {
   "cell_type": "code",
   "execution_count": null,
   "metadata": {},
   "outputs": [],
   "source": [
    "import collections\n",
    "class A(collections.Iterable):\n",
    "    pass"
   ]
  },
  {
   "cell_type": "markdown",
   "metadata": {},
   "source": [
    "不过你需要实现 collections.Iterable 所有的抽象方法，否则会报错:"
   ]
  },
  {
   "cell_type": "code",
   "execution_count": null,
   "metadata": {},
   "outputs": [],
   "source": [
    "a = A()"
   ]
  },
  {
   "cell_type": "markdown",
   "metadata": {},
   "source": [
    "你只要实现 __iter__() 方法就不会报错了(参考4.2和4.7小节)。"
   ]
  },
  {
   "cell_type": "markdown",
   "metadata": {},
   "source": [
    "你可以先试着去实例化一个对象，在错误提示中可以找到需要实现哪些方法："
   ]
  },
  {
   "cell_type": "code",
   "execution_count": null,
   "metadata": {},
   "outputs": [],
   "source": [
    "import collections\n",
    "collections.Sequence()"
   ]
  },
  {
   "cell_type": "markdown",
   "metadata": {},
   "source": [
    "下面是一个简单的示例，继承自上面Sequence抽象类，并且实现元素按照顺序存储："
   ]
  },
  {
   "cell_type": "code",
   "execution_count": null,
   "metadata": {},
   "outputs": [],
   "source": [
    "class SortedItems(collections.Sequence):\n",
    "    def __init__(self, initial=None):\n",
    "        self._items = sorted(initial) if initial is not None else []\n",
    "\n",
    "    # Required sequence methods\n",
    "    def __getitem__(self, index):\n",
    "        return self._items[index]\n",
    "\n",
    "    def __len__(self):\n",
    "        return len(self._items)\n",
    "\n",
    "    # Method for adding an item in the right location\n",
    "    def add(self, item):\n",
    "        bisect.insort(self._items, item)\n",
    "\n",
    "\n",
    "items = SortedItems([5, 1, 3])\n",
    "print(list(items))\n",
    "print(items[0], items[-1])\n",
    "items.add(2)\n",
    "print(list(items))"
   ]
  },
  {
   "cell_type": "markdown",
   "metadata": {},
   "source": [
    "可以看到，SortedItems跟普通的序列没什么两样，支持所有常用操作，包括索引、迭代、包含判断，甚至是切片操作。"
   ]
  },
  {
   "cell_type": "markdown",
   "metadata": {},
   "source": [
    "这里面使用到了 bisect 模块，它是一个在排序列表中插入元素的高效方式。可以保证元素插入后还保持顺序。"
   ]
  },
  {
   "cell_type": "markdown",
   "metadata": {},
   "source": [
    "### 讨论\n"
   ]
  },
  {
   "cell_type": "markdown",
   "metadata": {},
   "source": [
    "使用 collections 中的抽象基类可以确保你自定义的容器实现了所有必要的方法。并且还能简化类型检查。\n",
    "你的自定义容器会满足大部分类型检查需要，如下所示："
   ]
  },
  {
   "cell_type": "code",
   "execution_count": null,
   "metadata": {},
   "outputs": [],
   "source": [
    "items = SortedItems()\n",
    "import collections\n",
    "isinstance(items, collections.Iterable)"
   ]
  },
  {
   "cell_type": "code",
   "execution_count": null,
   "metadata": {},
   "outputs": [],
   "source": [
    "isinstance(items, collections.Sequence)"
   ]
  },
  {
   "cell_type": "code",
   "execution_count": null,
   "metadata": {},
   "outputs": [],
   "source": [
    "isinstance(items, collections.Container)"
   ]
  },
  {
   "cell_type": "code",
   "execution_count": null,
   "metadata": {},
   "outputs": [],
   "source": [
    "isinstance(items, collections.Sized)"
   ]
  },
  {
   "cell_type": "code",
   "execution_count": null,
   "metadata": {},
   "outputs": [],
   "source": [
    "isinstance(items, collections.Mapping)"
   ]
  },
  {
   "cell_type": "markdown",
   "metadata": {},
   "source": [
    "collections 中很多抽象类会为一些常见容器操作提供默认的实现，\n",
    "这样一来你只需要实现那些你最感兴趣的方法即可。假设你的类继承自 collections.MutableSequence ，如下："
   ]
  },
  {
   "cell_type": "code",
   "execution_count": null,
   "metadata": {},
   "outputs": [],
   "source": [
    "class Items(collections.MutableSequence):\n",
    "    def __init__(self, initial=None):\n",
    "        self._items = list(initial) if initial is not None else []\n",
    "\n",
    "    # Required sequence methods\n",
    "    def __getitem__(self, index):\n",
    "        print('Getting:', index)\n",
    "        return self._items[index]\n",
    "\n",
    "    def __setitem__(self, index, value):\n",
    "        print('Setting:', index, value)\n",
    "        self._items[index] = value\n",
    "\n",
    "    def __delitem__(self, index):\n",
    "        print('Deleting:', index)\n",
    "        del self._items[index]\n",
    "\n",
    "    def insert(self, index, value):\n",
    "        print('Inserting:', index, value)\n",
    "        self._items.insert(index, value)\n",
    "\n",
    "    def __len__(self):\n",
    "        print('Len')\n",
    "        return len(self._items)"
   ]
  },
  {
   "cell_type": "markdown",
   "metadata": {},
   "source": [
    "如果你创建 Items 的实例，你会发现它支持几乎所有的核心列表方法(如append()、remove()、count()等)。\n",
    "下面是使用演示："
   ]
  },
  {
   "cell_type": "code",
   "execution_count": null,
   "metadata": {},
   "outputs": [],
   "source": [
    "a = Items([1, 2, 3])\n",
    "len(a)"
   ]
  },
  {
   "cell_type": "code",
   "execution_count": null,
   "metadata": {},
   "outputs": [],
   "source": [
    "a.append(4)"
   ]
  },
  {
   "cell_type": "code",
   "execution_count": null,
   "metadata": {},
   "outputs": [],
   "source": [
    "a.append(2)"
   ]
  },
  {
   "cell_type": "code",
   "execution_count": null,
   "metadata": {},
   "outputs": [],
   "source": [
    "a.count(2)"
   ]
  },
  {
   "cell_type": "code",
   "execution_count": null,
   "metadata": {},
   "outputs": [],
   "source": [
    "a.remove(3)"
   ]
  },
  {
   "cell_type": "markdown",
   "metadata": {},
   "source": [
    "本小节只是对Python抽象类功能的抛砖引玉。numbers 模块提供了一个类似的跟整数类型相关的抽象类型集合。\n",
    "可以参考8.12小节来构造更多自定义抽象基类。"
   ]
  },
  {
   "cell_type": "markdown",
   "metadata": {},
   "source": [
    "## 8.15 属性的代理访问\n"
   ]
  },
  {
   "cell_type": "markdown",
   "metadata": {},
   "source": [
    "### 问题\n"
   ]
  },
  {
   "cell_type": "markdown",
   "metadata": {},
   "source": [
    "你想将某个实例的属性访问代理到内部另一个实例中去，目的可能是作为继承的一个替代方法或者实现代理模式。"
   ]
  },
  {
   "cell_type": "markdown",
   "metadata": {},
   "source": [
    "### 解决方案\n"
   ]
  },
  {
   "cell_type": "markdown",
   "metadata": {},
   "source": [
    "简单来说，代理是一种编程模式，它将某个操作转移给另外一个对象来实现。\n",
    "最简单的形式可能是像下面这样："
   ]
  },
  {
   "cell_type": "code",
   "execution_count": null,
   "metadata": {},
   "outputs": [],
   "source": [
    "class A:\n",
    "    def spam(self, x):\n",
    "        pass\n",
    "\n",
    "    def foo(self):\n",
    "        pass\n",
    "\n",
    "\n",
    "class B1:\n",
    "    \"\"\"简单的代理\"\"\"\n",
    "\n",
    "    def __init__(self):\n",
    "        self._a = A()\n",
    "\n",
    "    def spam(self, x):\n",
    "        # Delegate to the internal self._a instance\n",
    "        return self._a.spam(x)\n",
    "\n",
    "    def foo(self):\n",
    "        # Delegate to the internal self._a instance\n",
    "        return self._a.foo()\n",
    "\n",
    "    def bar(self):\n",
    "        pass"
   ]
  },
  {
   "cell_type": "markdown",
   "metadata": {},
   "source": [
    "如果仅仅就两个方法需要代理，那么像这样写就足够了。但是，如果有大量的方法需要代理，\n",
    "那么使用 __getattr__() 方法或许或更好些："
   ]
  },
  {
   "cell_type": "code",
   "execution_count": null,
   "metadata": {},
   "outputs": [],
   "source": [
    "class B2:\n",
    "    \"\"\"使用__getattr__的代理，代理方法比较多时候\"\"\"\n",
    "\n",
    "    def __init__(self):\n",
    "        self._a = A()\n",
    "\n",
    "    def bar(self):\n",
    "        pass\n",
    "\n",
    "    # Expose all of the methods defined on class A\n",
    "    def __getattr__(self, name):\n",
    "        \"\"\"这个方法在访问的attribute不存在的时候被调用\n",
    "        the __getattr__() method is actually a fallback method\n",
    "        that only gets called when an attribute is not found\"\"\"\n",
    "        return getattr(self._a, name)"
   ]
  },
  {
   "cell_type": "markdown",
   "metadata": {},
   "source": [
    "__getattr__ 方法是在访问attribute不存在的时候被调用，使用演示："
   ]
  },
  {
   "cell_type": "code",
   "execution_count": null,
   "metadata": {},
   "outputs": [],
   "source": [
    "b = B()\n",
    "b.bar() # Calls B.bar() (exists on B)\n",
    "b.spam(42) # Calls B.__getattr__('spam') and delegates to A.spam"
   ]
  },
  {
   "cell_type": "markdown",
   "metadata": {},
   "source": [
    "另外一个代理例子是实现代理模式，例如："
   ]
  },
  {
   "cell_type": "code",
   "execution_count": null,
   "metadata": {},
   "outputs": [],
   "source": [
    "# A proxy class that wraps around another object, but\n",
    "# exposes its public attributes\n",
    "class Proxy:\n",
    "    def __init__(self, obj):\n",
    "        self._obj = obj\n",
    "\n",
    "    # Delegate attribute lookup to internal obj\n",
    "    def __getattr__(self, name):\n",
    "        print('getattr:', name)\n",
    "        return getattr(self._obj, name)\n",
    "\n",
    "    # Delegate attribute assignment\n",
    "    def __setattr__(self, name, value):\n",
    "        if name.startswith('_'):\n",
    "            super().__setattr__(name, value)\n",
    "        else:\n",
    "            print('setattr:', name, value)\n",
    "            setattr(self._obj, name, value)\n",
    "\n",
    "    # Delegate attribute deletion\n",
    "    def __delattr__(self, name):\n",
    "        if name.startswith('_'):\n",
    "            super().__delattr__(name)\n",
    "        else:\n",
    "            print('delattr:', name)\n",
    "            delattr(self._obj, name)"
   ]
  },
  {
   "cell_type": "markdown",
   "metadata": {},
   "source": [
    "使用这个代理类时，你只需要用它来包装下其他类即可："
   ]
  },
  {
   "cell_type": "code",
   "execution_count": null,
   "metadata": {},
   "outputs": [],
   "source": [
    "class Spam:\n",
    "    def __init__(self, x):\n",
    "        self.x = x\n",
    "\n",
    "    def bar(self, y):\n",
    "        print('Spam.bar:', self.x, y)\n",
    "\n",
    "# Create an instance\n",
    "s = Spam(2)\n",
    "# Create a proxy around it\n",
    "p = Proxy(s)\n",
    "# Access the proxy\n",
    "print(p.x)  # Outputs 2\n",
    "p.bar(3)  # Outputs \"Spam.bar: 2 3\"\n",
    "p.x = 37  # Changes s.x to 37"
   ]
  },
  {
   "cell_type": "markdown",
   "metadata": {},
   "source": [
    "通过自定义属性访问方法，你可以用不同方式自定义代理类行为(比如加入日志功能、只读访问等)。"
   ]
  },
  {
   "cell_type": "markdown",
   "metadata": {},
   "source": [
    "### 讨论\n"
   ]
  },
  {
   "cell_type": "markdown",
   "metadata": {},
   "source": [
    "代理类有时候可以作为继承的替代方案。例如，一个简单的继承如下："
   ]
  },
  {
   "cell_type": "code",
   "execution_count": null,
   "metadata": {},
   "outputs": [],
   "source": [
    "class A:\n",
    "    def spam(self, x):\n",
    "        print('A.spam', x)\n",
    "    def foo(self):\n",
    "        print('A.foo')\n",
    "\n",
    "class B(A):\n",
    "    def spam(self, x):\n",
    "        print('B.spam')\n",
    "        super().spam(x)\n",
    "    def bar(self):\n",
    "        print('B.bar')"
   ]
  },
  {
   "cell_type": "markdown",
   "metadata": {},
   "source": [
    "使用代理的话，就是下面这样："
   ]
  },
  {
   "cell_type": "code",
   "execution_count": null,
   "metadata": {},
   "outputs": [],
   "source": [
    "class A:\n",
    "    def spam(self, x):\n",
    "        print('A.spam', x)\n",
    "    def foo(self):\n",
    "        print('A.foo')\n",
    "\n",
    "class B:\n",
    "    def __init__(self):\n",
    "        self._a = A()\n",
    "    def spam(self, x):\n",
    "        print('B.spam', x)\n",
    "        self._a.spam(x)\n",
    "    def bar(self):\n",
    "        print('B.bar')\n",
    "    def __getattr__(self, name):\n",
    "        return getattr(self._a, name)"
   ]
  },
  {
   "cell_type": "markdown",
   "metadata": {},
   "source": [
    "当实现代理模式时，还有些细节需要注意。\n",
    "首先，__getattr__() 实际是一个后备方法，只有在属性不存在时才会调用。\n",
    "因此，如果代理类实例本身有这个属性的话，那么不会触发这个方法的。\n",
    "另外，__setattr__() 和 __delattr__() 需要额外的魔法来区分代理实例和被代理实例 _obj 的属性。\n",
    "一个通常的约定是只代理那些不以下划线 _ 开头的属性(代理类只暴露被代理类的公共属性)。"
   ]
  },
  {
   "cell_type": "markdown",
   "metadata": {},
   "source": [
    "还有一点需要注意的是，__getattr__() 对于大部分以双下划线(__)开始和结尾的属性并不适用。\n",
    "比如，考虑如下的类："
   ]
  },
  {
   "cell_type": "code",
   "execution_count": null,
   "metadata": {},
   "outputs": [],
   "source": [
    "class ListLike:\n",
    "    \"\"\"__getattr__对于双下划线开始和结尾的方法是不能用的，需要一个个去重定义\"\"\"\n",
    "\n",
    "    def __init__(self):\n",
    "        self._items = []\n",
    "\n",
    "    def __getattr__(self, name):\n",
    "        return getattr(self._items, name)"
   ]
  },
  {
   "cell_type": "markdown",
   "metadata": {},
   "source": [
    "如果是创建一个ListLike对象，会发现它支持普通的列表方法，如append()和insert()，\n",
    "但是却不支持len()、元素查找等。例如："
   ]
  },
  {
   "cell_type": "code",
   "execution_count": null,
   "metadata": {},
   "outputs": [],
   "source": [
    "a = ListLike()\n",
    "a.append(2)\n",
    "a.insert(0, 1)\n",
    "a.sort()\n",
    "len(a)"
   ]
  },
  {
   "cell_type": "code",
   "execution_count": null,
   "metadata": {},
   "outputs": [],
   "source": [
    "a[0]"
   ]
  },
  {
   "cell_type": "markdown",
   "metadata": {},
   "source": [
    "为了让它支持这些方法，你必须手动的实现这些方法代理："
   ]
  },
  {
   "cell_type": "code",
   "execution_count": null,
   "metadata": {},
   "outputs": [],
   "source": [
    "class ListLike:\n",
    "    \"\"\"__getattr__对于双下划线开始和结尾的方法是不能用的，需要一个个去重定义\"\"\"\n",
    "\n",
    "    def __init__(self):\n",
    "        self._items = []\n",
    "\n",
    "    def __getattr__(self, name):\n",
    "        return getattr(self._items, name)\n",
    "\n",
    "    # Added special methods to support certain list operations\n",
    "    def __len__(self):\n",
    "        return len(self._items)\n",
    "\n",
    "    def __getitem__(self, index):\n",
    "        return self._items[index]\n",
    "\n",
    "    def __setitem__(self, index, value):\n",
    "        self._items[index] = value\n",
    "\n",
    "    def __delitem__(self, index):\n",
    "        del self._items[index]"
   ]
  },
  {
   "cell_type": "markdown",
   "metadata": {},
   "source": [
    "11.8小节还有一个在远程方法调用环境中使用代理的例子。"
   ]
  },
  {
   "cell_type": "markdown",
   "metadata": {},
   "source": [
    "## 8.16 在类中定义多个构造器\n"
   ]
  },
  {
   "cell_type": "markdown",
   "metadata": {},
   "source": [
    "### 问题\n"
   ]
  },
  {
   "cell_type": "markdown",
   "metadata": {},
   "source": [
    "你想实现一个类，除了使用 __init__() 方法外，还有其他方式可以初始化它。"
   ]
  },
  {
   "cell_type": "markdown",
   "metadata": {},
   "source": [
    "### 解决方案\n"
   ]
  },
  {
   "cell_type": "markdown",
   "metadata": {},
   "source": [
    "为了实现多个构造器，你需要使用到类方法。例如："
   ]
  },
  {
   "cell_type": "code",
   "execution_count": null,
   "metadata": {},
   "outputs": [],
   "source": [
    "import time\n",
    "\n",
    "class Date:\n",
    "    \"\"\"方法一：使用类方法\"\"\"\n",
    "    # Primary constructor\n",
    "    def __init__(self, year, month, day):\n",
    "        self.year = year\n",
    "        self.month = month\n",
    "        self.day = day\n",
    "\n",
    "    # Alternate constructor\n",
    "    @classmethod\n",
    "    def today(cls):\n",
    "        t = time.localtime()\n",
    "        return cls(t.tm_year, t.tm_mon, t.tm_mday)"
   ]
  },
  {
   "cell_type": "markdown",
   "metadata": {},
   "source": [
    "直接调用类方法即可，下面是使用示例："
   ]
  },
  {
   "cell_type": "code",
   "execution_count": null,
   "metadata": {},
   "outputs": [],
   "source": [
    "a = Date(2012, 12, 21) # Primary\n",
    "b = Date.today() # Alternate"
   ]
  },
  {
   "cell_type": "markdown",
   "metadata": {},
   "source": [
    "### 讨论\n"
   ]
  },
  {
   "cell_type": "markdown",
   "metadata": {},
   "source": [
    "类方法的一个主要用途就是定义多个构造器。它接受一个 class 作为第一个参数(cls)。\n",
    "你应该注意到了这个类被用来创建并返回最终的实例。在继承时也能工作的很好："
   ]
  },
  {
   "cell_type": "code",
   "execution_count": null,
   "metadata": {},
   "outputs": [],
   "source": [
    "class NewDate(Date):\n",
    "    pass\n",
    "\n",
    "c = Date.today() # Creates an instance of Date (cls=Date)\n",
    "d = NewDate.today() # Creates an instance of NewDate (cls=NewDate)"
   ]
  },
  {
   "cell_type": "markdown",
   "metadata": {},
   "source": [
    "## 8.17 创建不调用init方法的实例\n"
   ]
  },
  {
   "cell_type": "markdown",
   "metadata": {},
   "source": [
    "### 问题\n"
   ]
  },
  {
   "cell_type": "markdown",
   "metadata": {},
   "source": [
    "你想创建一个实例，但是希望绕过执行 __init__() 方法。"
   ]
  },
  {
   "cell_type": "markdown",
   "metadata": {},
   "source": [
    "### 解决方案\n"
   ]
  },
  {
   "cell_type": "markdown",
   "metadata": {},
   "source": [
    "可以通过 __new__() 方法创建一个未初始化的实例。例如考虑如下这个类："
   ]
  },
  {
   "cell_type": "code",
   "execution_count": null,
   "metadata": {},
   "outputs": [],
   "source": [
    "class Date:\n",
    "    def __init__(self, year, month, day):\n",
    "        self.year = year\n",
    "        self.month = month\n",
    "        self.day = day"
   ]
  },
  {
   "cell_type": "markdown",
   "metadata": {},
   "source": [
    "下面演示如何不调用 __init__() 方法来创建这个Date实例："
   ]
  },
  {
   "cell_type": "code",
   "execution_count": null,
   "metadata": {},
   "outputs": [],
   "source": [
    "d = Date.__new__(Date)\n",
    "d"
   ]
  },
  {
   "cell_type": "code",
   "execution_count": null,
   "metadata": {},
   "outputs": [],
   "source": [
    "d.year"
   ]
  },
  {
   "cell_type": "markdown",
   "metadata": {},
   "source": [
    "结果可以看到，这个Date实例的属性year还不存在，所以你需要手动初始化："
   ]
  },
  {
   "cell_type": "code",
   "execution_count": null,
   "metadata": {},
   "outputs": [],
   "source": [
    "data = {'year':2012, 'month':8, 'day':29}\n",
    "for key, value in data.items():\n",
    "    setattr(d, key, value)\n",
    "d.year"
   ]
  },
  {
   "cell_type": "code",
   "execution_count": null,
   "metadata": {},
   "outputs": [],
   "source": [
    "d.month"
   ]
  },
  {
   "cell_type": "markdown",
   "metadata": {},
   "source": [
    "### 讨论\n"
   ]
  },
  {
   "cell_type": "markdown",
   "metadata": {},
   "source": [
    "当我们在反序列对象或者实现某个类方法构造函数时需要绕过 __init__() 方法来创建对象。\n",
    "例如，对于上面的Date来讲，有时候你可能会像下面这样定义一个新的构造函数 today() ："
   ]
  },
  {
   "cell_type": "code",
   "execution_count": null,
   "metadata": {},
   "outputs": [],
   "source": [
    "from time import localtime\n",
    "\n",
    "class Date:\n",
    "    def __init__(self, year, month, day):\n",
    "        self.year = year\n",
    "        self.month = month\n",
    "        self.day = day\n",
    "\n",
    "    @classmethod\n",
    "    def today(cls):\n",
    "        d = cls.__new__(cls)\n",
    "        t = localtime()\n",
    "        d.year = t.tm_year\n",
    "        d.month = t.tm_mon\n",
    "        d.day = t.tm_mday\n",
    "        return d"
   ]
  },
  {
   "cell_type": "markdown",
   "metadata": {},
   "source": [
    "同样，在你反序列化JSON数据时产生一个如下的字典对象："
   ]
  },
  {
   "cell_type": "code",
   "execution_count": null,
   "metadata": {},
   "outputs": [],
   "source": [
    "data = { 'year': 2012, 'month': 8, 'day': 29 }"
   ]
  },
  {
   "cell_type": "markdown",
   "metadata": {},
   "source": [
    "如果你想将它转换成一个Date类型实例，可以使用上面的技术。"
   ]
  },
  {
   "cell_type": "markdown",
   "metadata": {},
   "source": [
    "当你通过这种非常规方式来创建实例的时候，最好不要直接去访问底层实例字典，除非你真的清楚所有细节。\n",
    "否则的话，如果这个类使用了 __slots__ 、properties 、descriptors 或其他高级技术的时候代码就会失效。\n",
    "而这时候使用 setattr() 方法会让你的代码变得更加通用。"
   ]
  },
  {
   "cell_type": "markdown",
   "metadata": {},
   "source": [
    "## 8.18 利用Mixins扩展类功能\n"
   ]
  },
  {
   "cell_type": "markdown",
   "metadata": {},
   "source": [
    "### 问题\n"
   ]
  },
  {
   "cell_type": "markdown",
   "metadata": {},
   "source": [
    "你有很多有用的方法，想使用它们来扩展其他类的功能。但是这些类并没有任何继承的关系。\n",
    "因此你不能简单的将这些方法放入一个基类，然后被其他类继承。"
   ]
  },
  {
   "cell_type": "markdown",
   "metadata": {},
   "source": [
    "### 解决方案\n"
   ]
  },
  {
   "cell_type": "markdown",
   "metadata": {},
   "source": [
    "通常当你想自定义类的时候会碰上这些问题。可能是某个库提供了一些基础类，\n",
    "你可以利用它们来构造你自己的类。"
   ]
  },
  {
   "cell_type": "markdown",
   "metadata": {},
   "source": [
    "假设你想扩展映射对象，给它们添加日志、唯一性设置、类型检查等等功能。下面是一些混入类："
   ]
  },
  {
   "cell_type": "code",
   "execution_count": null,
   "metadata": {},
   "outputs": [],
   "source": [
    "class LoggedMappingMixin:\n",
    "    \"\"\"\n",
    "    Add logging to get/set/delete operations for debugging.\n",
    "    \"\"\"\n",
    "    __slots__ = ()  # 混入类都没有实例变量，因为直接实例化混入类没有任何意义\n",
    "\n",
    "    def __getitem__(self, key):\n",
    "        print('Getting ' + str(key))\n",
    "        return super().__getitem__(key)\n",
    "\n",
    "    def __setitem__(self, key, value):\n",
    "        print('Setting {} = {!r}'.format(key, value))\n",
    "        return super().__setitem__(key, value)\n",
    "\n",
    "    def __delitem__(self, key):\n",
    "        print('Deleting ' + str(key))\n",
    "        return super().__delitem__(key)\n",
    "\n",
    "\n",
    "class SetOnceMappingMixin:\n",
    "    '''\n",
    "    Only allow a key to be set once.\n",
    "    '''\n",
    "    __slots__ = ()\n",
    "\n",
    "    def __setitem__(self, key, value):\n",
    "        if key in self:\n",
    "            raise KeyError(str(key) + ' already set')\n",
    "        return super().__setitem__(key, value)\n",
    "\n",
    "\n",
    "class StringKeysMappingMixin:\n",
    "    '''\n",
    "    Restrict keys to strings only\n",
    "    '''\n",
    "    __slots__ = ()\n",
    "\n",
    "    def __setitem__(self, key, value):\n",
    "        if not isinstance(key, str):\n",
    "            raise TypeError('keys must be strings')\n",
    "        return super().__setitem__(key, value)"
   ]
  },
  {
   "cell_type": "markdown",
   "metadata": {},
   "source": [
    "这些类单独使用起来没有任何意义，事实上如果你去实例化任何一个类，除了产生异常外没任何作用。\n",
    "它们是用来通过多继承来和其他映射对象混入使用的。例如："
   ]
  },
  {
   "cell_type": "code",
   "execution_count": null,
   "metadata": {},
   "outputs": [],
   "source": [
    "class LoggedDict(LoggedMappingMixin, dict):\n",
    "    pass\n",
    "\n",
    "d = LoggedDict()\n",
    "d['x'] = 23\n",
    "print(d['x'])\n",
    "del d['x']\n",
    "\n",
    "from collections import defaultdict\n",
    "\n",
    "class SetOnceDefaultDict(SetOnceMappingMixin, defaultdict):\n",
    "    pass\n",
    "\n",
    "\n",
    "d = SetOnceDefaultDict(list)\n",
    "d['x'].append(2)\n",
    "d['x'].append(3)\n",
    "# d['x'] = 23  # KeyError: 'x already set'"
   ]
  },
  {
   "cell_type": "markdown",
   "metadata": {},
   "source": [
    "这个例子中，可以看到混入类跟其他已存在的类(比如dict、defaultdict和OrderedDict)结合起来使用，一个接一个。\n",
    "结合后就能发挥正常功效了。"
   ]
  },
  {
   "cell_type": "markdown",
   "metadata": {},
   "source": [
    "### 讨论\n"
   ]
  },
  {
   "cell_type": "markdown",
   "metadata": {},
   "source": [
    "混入类在标准库中很多地方都出现过，通常都是用来像上面那样扩展某些类的功能。\n",
    "它们也是多继承的一个主要用途。比如，当你编写网络代码时候，\n",
    "你会经常使用 socketserver 模块中的 ThreadingMixIn 来给其他网络相关类增加多线程支持。\n",
    "例如，下面是一个多线程的XML-RPC服务："
   ]
  },
  {
   "cell_type": "code",
   "execution_count": null,
   "metadata": {},
   "outputs": [],
   "source": [
    "from xmlrpc.server import SimpleXMLRPCServer\n",
    "from socketserver import ThreadingMixIn\n",
    "class ThreadedXMLRPCServer(ThreadingMixIn, SimpleXMLRPCServer):\n",
    "    pass"
   ]
  },
  {
   "cell_type": "markdown",
   "metadata": {},
   "source": [
    "同时在一些大型库和框架中也会发现混入类的使用，用途同样是增强已存在的类的功能和一些可选特征。"
   ]
  },
  {
   "cell_type": "markdown",
   "metadata": {},
   "source": [
    "对于混入类，有几点需要记住。首先是，混入类不能直接被实例化使用。\n",
    "其次，混入类没有自己的状态信息，也就是说它们并没有定义 __init__() 方法，并且没有实例属性。\n",
    "这也是为什么我们在上面明确定义了 __slots__ = () 。"
   ]
  },
  {
   "cell_type": "markdown",
   "metadata": {},
   "source": [
    "还有一种实现混入类的方式就是使用类装饰器，如下所示："
   ]
  },
  {
   "cell_type": "code",
   "execution_count": null,
   "metadata": {},
   "outputs": [],
   "source": [
    "def LoggedMapping(cls):\n",
    "    \"\"\"第二种方式：使用类装饰器\"\"\"\n",
    "    cls_getitem = cls.__getitem__\n",
    "    cls_setitem = cls.__setitem__\n",
    "    cls_delitem = cls.__delitem__\n",
    "\n",
    "    def __getitem__(self, key):\n",
    "        print('Getting ' + str(key))\n",
    "        return cls_getitem(self, key)\n",
    "\n",
    "    def __setitem__(self, key, value):\n",
    "        print('Setting {} = {!r}'.format(key, value))\n",
    "        return cls_setitem(self, key, value)\n",
    "\n",
    "    def __delitem__(self, key):\n",
    "        print('Deleting ' + str(key))\n",
    "        return cls_delitem(self, key)\n",
    "\n",
    "    cls.__getitem__ = __getitem__\n",
    "    cls.__setitem__ = __setitem__\n",
    "    cls.__delitem__ = __delitem__\n",
    "    return cls\n",
    "\n",
    "\n",
    "@LoggedMapping\n",
    "class LoggedDict(dict):\n",
    "    pass"
   ]
  },
  {
   "cell_type": "markdown",
   "metadata": {},
   "source": [
    "这个效果跟之前的是一样的，而且不再需要使用多继承了。参考9.12小节获取更多类装饰器的信息，\n",
    "参考8.13小节查看更多混入类和类装饰器的例子。"
   ]
  },
  {
   "cell_type": "markdown",
   "metadata": {},
   "source": [
    "## 8.19 实现状态对象或者状态机\n"
   ]
  },
  {
   "cell_type": "markdown",
   "metadata": {},
   "source": [
    "### 问题\n"
   ]
  },
  {
   "cell_type": "markdown",
   "metadata": {},
   "source": [
    "你想实现一个状态机或者是在不同状态下执行操作的对象，但是又不想在代码中出现太多的条件判断语句。"
   ]
  },
  {
   "cell_type": "markdown",
   "metadata": {},
   "source": [
    "### 解决方案\n"
   ]
  },
  {
   "cell_type": "markdown",
   "metadata": {},
   "source": [
    "在很多程序中，有些对象会根据状态的不同来执行不同的操作。比如考虑如下的一个连接对象："
   ]
  },
  {
   "cell_type": "code",
   "execution_count": null,
   "metadata": {},
   "outputs": [],
   "source": [
    "class Connection:\n",
    "    \"\"\"普通方案，好多个判断语句，效率低下~~\"\"\"\n",
    "\n",
    "    def __init__(self):\n",
    "        self.state = 'CLOSED'\n",
    "\n",
    "    def read(self):\n",
    "        if self.state != 'OPEN':\n",
    "            raise RuntimeError('Not open')\n",
    "        print('reading')\n",
    "\n",
    "    def write(self, data):\n",
    "        if self.state != 'OPEN':\n",
    "            raise RuntimeError('Not open')\n",
    "        print('writing')\n",
    "\n",
    "    def open(self):\n",
    "        if self.state == 'OPEN':\n",
    "            raise RuntimeError('Already open')\n",
    "        self.state = 'OPEN'\n",
    "\n",
    "    def close(self):\n",
    "        if self.state == 'CLOSED':\n",
    "            raise RuntimeError('Already closed')\n",
    "        self.state = 'CLOSED'"
   ]
  },
  {
   "cell_type": "markdown",
   "metadata": {},
   "source": [
    "这样写有很多缺点，首先是代码太复杂了，好多的条件判断。其次是执行效率变低，\n",
    "因为一些常见的操作比如read()、write()每次执行前都需要执行检查。"
   ]
  },
  {
   "cell_type": "markdown",
   "metadata": {},
   "source": [
    "一个更好的办法是为每个状态定义一个对象："
   ]
  },
  {
   "cell_type": "code",
   "execution_count": null,
   "metadata": {},
   "outputs": [],
   "source": [
    "class Connection1:\n",
    "    \"\"\"新方案——对每个状态定义一个类\"\"\"\n",
    "\n",
    "    def __init__(self):\n",
    "        self.new_state(ClosedConnectionState)\n",
    "\n",
    "    def new_state(self, newstate):\n",
    "        self._state = newstate\n",
    "        # Delegate to the state class\n",
    "\n",
    "    def read(self):\n",
    "        return self._state.read(self)\n",
    "\n",
    "    def write(self, data):\n",
    "        return self._state.write(self, data)\n",
    "\n",
    "    def open(self):\n",
    "        return self._state.open(self)\n",
    "\n",
    "    def close(self):\n",
    "        return self._state.close(self)\n",
    "\n",
    "\n",
    "# Connection state base class\n",
    "class ConnectionState:\n",
    "    @staticmethod\n",
    "    def read(conn):\n",
    "        raise NotImplementedError()\n",
    "\n",
    "    @staticmethod\n",
    "    def write(conn, data):\n",
    "        raise NotImplementedError()\n",
    "\n",
    "    @staticmethod\n",
    "    def open(conn):\n",
    "        raise NotImplementedError()\n",
    "\n",
    "    @staticmethod\n",
    "    def close(conn):\n",
    "        raise NotImplementedError()\n",
    "\n",
    "\n",
    "# Implementation of different states\n",
    "class ClosedConnectionState(ConnectionState):\n",
    "    @staticmethod\n",
    "    def read(conn):\n",
    "        raise RuntimeError('Not open')\n",
    "\n",
    "    @staticmethod\n",
    "    def write(conn, data):\n",
    "        raise RuntimeError('Not open')\n",
    "\n",
    "    @staticmethod\n",
    "    def open(conn):\n",
    "        conn.new_state(OpenConnectionState)\n",
    "\n",
    "    @staticmethod\n",
    "    def close(conn):\n",
    "        raise RuntimeError('Already closed')\n",
    "\n",
    "\n",
    "class OpenConnectionState(ConnectionState):\n",
    "    @staticmethod\n",
    "    def read(conn):\n",
    "        print('reading')\n",
    "\n",
    "    @staticmethod\n",
    "    def write(conn, data):\n",
    "        print('writing')\n",
    "\n",
    "    @staticmethod\n",
    "    def open(conn):\n",
    "        raise RuntimeError('Already open')\n",
    "\n",
    "    @staticmethod\n",
    "    def close(conn):\n",
    "        conn.new_state(ClosedConnectionState)"
   ]
  },
  {
   "cell_type": "markdown",
   "metadata": {},
   "source": [
    "下面是使用演示："
   ]
  },
  {
   "cell_type": "code",
   "execution_count": null,
   "metadata": {},
   "outputs": [],
   "source": [
    "c = Connection()\n",
    "c._state"
   ]
  },
  {
   "cell_type": "code",
   "execution_count": null,
   "metadata": {},
   "outputs": [],
   "source": [
    "c.read()"
   ]
  },
  {
   "cell_type": "code",
   "execution_count": null,
   "metadata": {},
   "outputs": [],
   "source": [
    "c.open()\n",
    "c._state"
   ]
  },
  {
   "cell_type": "code",
   "execution_count": null,
   "metadata": {},
   "outputs": [],
   "source": [
    "c.read()"
   ]
  },
  {
   "cell_type": "code",
   "execution_count": null,
   "metadata": {},
   "outputs": [],
   "source": [
    "c.write('hello')"
   ]
  },
  {
   "cell_type": "code",
   "execution_count": null,
   "metadata": {},
   "outputs": [],
   "source": [
    "c.close()\n",
    "c._state"
   ]
  },
  {
   "cell_type": "markdown",
   "metadata": {},
   "source": [
    "### 讨论\n"
   ]
  },
  {
   "cell_type": "markdown",
   "metadata": {},
   "source": [
    "如果代码中出现太多的条件判断语句的话，代码就会变得难以维护和阅读。\n",
    "这里的解决方案是将每个状态抽取出来定义成一个类。"
   ]
  },
  {
   "cell_type": "markdown",
   "metadata": {},
   "source": [
    "这里看上去有点奇怪，每个状态对象都只有静态方法，并没有存储任何的实例属性数据。\n",
    "实际上，所有状态信息都只存储在 Connection 实例中。\n",
    "在基类中定义的 NotImplementedError 是为了确保子类实现了相应的方法。\n",
    "这里你或许还想使用8.12小节讲解的抽象基类方式。"
   ]
  },
  {
   "cell_type": "markdown",
   "metadata": {},
   "source": [
    "设计模式中有一种模式叫状态模式，这一小节算是一个初步入门！"
   ]
  },
  {
   "cell_type": "markdown",
   "metadata": {},
   "source": [
    "## 8.20 通过字符串调用对象方法\n"
   ]
  },
  {
   "cell_type": "markdown",
   "metadata": {},
   "source": [
    "### 问题\n"
   ]
  },
  {
   "cell_type": "markdown",
   "metadata": {},
   "source": [
    "你有一个字符串形式的方法名称，想通过它调用某个对象的对应方法。"
   ]
  },
  {
   "cell_type": "markdown",
   "metadata": {},
   "source": [
    "### 解决方案\n"
   ]
  },
  {
   "cell_type": "markdown",
   "metadata": {},
   "source": [
    "最简单的情况，可以使用 getattr() ："
   ]
  },
  {
   "cell_type": "code",
   "execution_count": null,
   "metadata": {},
   "outputs": [],
   "source": [
    "import math\n",
    "\n",
    "class Point:\n",
    "    def __init__(self, x, y):\n",
    "        self.x = x\n",
    "        self.y = y\n",
    "\n",
    "    def __repr__(self):\n",
    "        return 'Point({!r:},{!r:})'.format(self.x, self.y)\n",
    "\n",
    "    def distance(self, x, y):\n",
    "        return math.hypot(self.x - x, self.y - y)\n",
    "\n",
    "\n",
    "p = Point(2, 3)\n",
    "d = getattr(p, 'distance')(0, 0)  # Calls p.distance(0, 0)"
   ]
  },
  {
   "cell_type": "markdown",
   "metadata": {},
   "source": [
    "另外一种方法是使用 operator.methodcaller() ，例如："
   ]
  },
  {
   "cell_type": "code",
   "execution_count": null,
   "metadata": {},
   "outputs": [],
   "source": [
    "import operator\n",
    "operator.methodcaller('distance', 0, 0)(p)"
   ]
  },
  {
   "cell_type": "markdown",
   "metadata": {},
   "source": [
    "当你需要通过相同的参数多次调用某个方法时，使用 operator.methodcaller 就很方便了。\n",
    "比如你需要排序一系列的点，就可以这样做："
   ]
  },
  {
   "cell_type": "code",
   "execution_count": null,
   "metadata": {},
   "outputs": [],
   "source": [
    "points = [\n",
    "    Point(1, 2),\n",
    "    Point(3, 0),\n",
    "    Point(10, -3),\n",
    "    Point(-5, -7),\n",
    "    Point(-1, 8),\n",
    "    Point(3, 2)\n",
    "]\n",
    "# Sort by distance from origin (0, 0)\n",
    "points.sort(key=operator.methodcaller('distance', 0, 0))"
   ]
  },
  {
   "cell_type": "markdown",
   "metadata": {},
   "source": [
    "### 讨论\n"
   ]
  },
  {
   "cell_type": "markdown",
   "metadata": {},
   "source": [
    "调用一个方法实际上是两部独立操作，第一步是查找属性，第二步是函数调用。\n",
    "因此，为了调用某个方法，你可以首先通过 getattr() 来查找到这个属性，然后再去以函数方式调用它即可。"
   ]
  },
  {
   "cell_type": "markdown",
   "metadata": {},
   "source": [
    "operator.methodcaller() 创建一个可调用对象，并同时提供所有必要参数，\n",
    "然后调用的时候只需要将实例对象传递给它即可，比如："
   ]
  },
  {
   "cell_type": "code",
   "execution_count": null,
   "metadata": {},
   "outputs": [],
   "source": [
    "p = Point(3, 4)\n",
    "d = operator.methodcaller('distance', 0, 0)\n",
    "d(p)"
   ]
  },
  {
   "cell_type": "markdown",
   "metadata": {},
   "source": [
    "通过方法名称字符串来调用方法通常出现在需要模拟 case 语句或实现访问者模式的时候。\n",
    "参考下一小节获取更多高级例子。"
   ]
  },
  {
   "cell_type": "markdown",
   "metadata": {},
   "source": [
    "## 8.21 实现访问者模式\n"
   ]
  },
  {
   "cell_type": "markdown",
   "metadata": {},
   "source": [
    "### 问题\n"
   ]
  },
  {
   "cell_type": "markdown",
   "metadata": {},
   "source": [
    "你要处理由大量不同类型的对象组成的复杂数据结构，每一个对象都需要进行不同的处理。\n",
    "比如，遍历一个树形结构，然后根据每个节点的相应状态执行不同的操作。"
   ]
  },
  {
   "cell_type": "markdown",
   "metadata": {},
   "source": [
    "### 解决方案\n"
   ]
  },
  {
   "cell_type": "markdown",
   "metadata": {},
   "source": [
    "这里遇到的问题在编程领域中是很普遍的，有时候会构建一个由大量不同对象组成的数据结构。\n",
    "假设你要写一个表示数学表达式的程序，那么你可能需要定义如下的类："
   ]
  },
  {
   "cell_type": "code",
   "execution_count": null,
   "metadata": {},
   "outputs": [],
   "source": [
    "class Node:\n",
    "    pass\n",
    "\n",
    "class UnaryOperator(Node):\n",
    "    def __init__(self, operand):\n",
    "        self.operand = operand\n",
    "\n",
    "class BinaryOperator(Node):\n",
    "    def __init__(self, left, right):\n",
    "        self.left = left\n",
    "        self.right = right\n",
    "\n",
    "class Add(BinaryOperator):\n",
    "    pass\n",
    "\n",
    "class Sub(BinaryOperator):\n",
    "    pass\n",
    "\n",
    "class Mul(BinaryOperator):\n",
    "    pass\n",
    "\n",
    "class Div(BinaryOperator):\n",
    "    pass\n",
    "\n",
    "class Negate(UnaryOperator):\n",
    "    pass\n",
    "\n",
    "class Number(Node):\n",
    "    def __init__(self, value):\n",
    "        self.value = value"
   ]
  },
  {
   "cell_type": "markdown",
   "metadata": {},
   "source": [
    "然后利用这些类构建嵌套数据结构，如下所示："
   ]
  },
  {
   "cell_type": "code",
   "execution_count": null,
   "metadata": {},
   "outputs": [],
   "source": [
    "# Representation of 1 + 2 * (3 - 4) / 5\n",
    "t1 = Sub(Number(3), Number(4))\n",
    "t2 = Mul(Number(2), t1)\n",
    "t3 = Div(t2, Number(5))\n",
    "t4 = Add(Number(1), t3)"
   ]
  },
  {
   "cell_type": "markdown",
   "metadata": {},
   "source": [
    "这样做的问题是对于每个表达式，每次都要重新定义一遍，有没有一种更通用的方式让它支持所有的数字和操作符呢。\n",
    "这里我们使用访问者模式可以达到这样的目的："
   ]
  },
  {
   "cell_type": "code",
   "execution_count": null,
   "metadata": {},
   "outputs": [],
   "source": [
    "class NodeVisitor:\n",
    "    def visit(self, node):\n",
    "        methname = 'visit_' + type(node).__name__\n",
    "        meth = getattr(self, methname, None)\n",
    "        if meth is None:\n",
    "            meth = self.generic_visit\n",
    "        return meth(node)\n",
    "\n",
    "    def generic_visit(self, node):\n",
    "        raise RuntimeError('No {} method'.format('visit_' + type(node).__name__))"
   ]
  },
  {
   "cell_type": "markdown",
   "metadata": {},
   "source": [
    "为了使用这个类，可以定义一个类继承它并且实现各种 visit_Name() 方法，其中Name是node类型。\n",
    "例如，如果你想求表达式的值，可以这样写："
   ]
  },
  {
   "cell_type": "code",
   "execution_count": null,
   "metadata": {},
   "outputs": [],
   "source": [
    "class Evaluator(NodeVisitor):\n",
    "    def visit_Number(self, node):\n",
    "        return node.value\n",
    "\n",
    "    def visit_Add(self, node):\n",
    "        return self.visit(node.left) + self.visit(node.right)\n",
    "\n",
    "    def visit_Sub(self, node):\n",
    "        return self.visit(node.left) - self.visit(node.right)\n",
    "\n",
    "    def visit_Mul(self, node):\n",
    "        return self.visit(node.left) * self.visit(node.right)\n",
    "\n",
    "    def visit_Div(self, node):\n",
    "        return self.visit(node.left) / self.visit(node.right)\n",
    "\n",
    "    def visit_Negate(self, node):\n",
    "        return -node.operand"
   ]
  },
  {
   "cell_type": "markdown",
   "metadata": {},
   "source": [
    "使用示例："
   ]
  },
  {
   "cell_type": "code",
   "execution_count": null,
   "metadata": {},
   "outputs": [],
   "source": [
    "e = Evaluator()\n",
    "e.visit(t4)"
   ]
  },
  {
   "cell_type": "markdown",
   "metadata": {},
   "source": [
    "作为一个不同的例子，下面定义一个类在一个栈上面将一个表达式转换成多个操作序列："
   ]
  },
  {
   "cell_type": "code",
   "execution_count": null,
   "metadata": {},
   "outputs": [],
   "source": [
    "class StackCode(NodeVisitor):\n",
    "    def generate_code(self, node):\n",
    "        self.instructions = []\n",
    "        self.visit(node)\n",
    "        return self.instructions\n",
    "\n",
    "    def visit_Number(self, node):\n",
    "        self.instructions.append(('PUSH', node.value))\n",
    "\n",
    "    def binop(self, node, instruction):\n",
    "        self.visit(node.left)\n",
    "        self.visit(node.right)\n",
    "        self.instructions.append((instruction,))\n",
    "\n",
    "    def visit_Add(self, node):\n",
    "        self.binop(node, 'ADD')\n",
    "\n",
    "    def visit_Sub(self, node):\n",
    "        self.binop(node, 'SUB')\n",
    "\n",
    "    def visit_Mul(self, node):\n",
    "        self.binop(node, 'MUL')\n",
    "\n",
    "    def visit_Div(self, node):\n",
    "        self.binop(node, 'DIV')\n",
    "\n",
    "    def unaryop(self, node, instruction):\n",
    "        self.visit(node.operand)\n",
    "        self.instructions.append((instruction,))\n",
    "\n",
    "    def visit_Negate(self, node):\n",
    "        self.unaryop(node, 'NEG')"
   ]
  },
  {
   "cell_type": "markdown",
   "metadata": {},
   "source": [
    "使用示例："
   ]
  },
  {
   "cell_type": "code",
   "execution_count": null,
   "metadata": {},
   "outputs": [],
   "source": [
    "s = StackCode()\n",
    "s.generate_code(t4)"
   ]
  },
  {
   "cell_type": "markdown",
   "metadata": {},
   "source": [
    "### 讨论\n"
   ]
  },
  {
   "cell_type": "markdown",
   "metadata": {},
   "source": [
    "刚开始的时候你可能会写大量的if/else语句来实现，\n",
    "这里访问者模式的好处就是通过 getattr() 来获取相应的方法，并利用递归来遍历所有的节点："
   ]
  },
  {
   "cell_type": "code",
   "execution_count": null,
   "metadata": {},
   "outputs": [],
   "source": [
    "def binop(self, node, instruction):\n",
    "    self.visit(node.left)\n",
    "    self.visit(node.right)\n",
    "    self.instructions.append((instruction,))"
   ]
  },
  {
   "cell_type": "markdown",
   "metadata": {},
   "source": [
    "还有一点需要指出的是，这种技术也是实现其他语言中switch或case语句的方式。\n",
    "比如，如果你正在写一个HTTP框架，你可能会写这样一个请求分发的控制器："
   ]
  },
  {
   "cell_type": "code",
   "execution_count": null,
   "metadata": {},
   "outputs": [],
   "source": [
    "class HTTPHandler:\n",
    "    def handle(self, request):\n",
    "        methname = 'do_' + request.request_method\n",
    "        getattr(self, methname)(request)\n",
    "    def do_GET(self, request):\n",
    "        pass\n",
    "    def do_POST(self, request):\n",
    "        pass\n",
    "    def do_HEAD(self, request):\n",
    "        pass"
   ]
  },
  {
   "cell_type": "markdown",
   "metadata": {},
   "source": [
    "访问者模式一个缺点就是它严重依赖递归，如果数据结构嵌套层次太深可能会有问题，\n",
    "有时候会超过Python的递归深度限制(参考 sys.getrecursionlimit() )。"
   ]
  },
  {
   "cell_type": "markdown",
   "metadata": {},
   "source": [
    "可以参照8.22小节，利用生成器或迭代器来实现非递归遍历算法。"
   ]
  },
  {
   "cell_type": "markdown",
   "metadata": {},
   "source": [
    "在跟解析和编译相关的编程中使用访问者模式是非常常见的。\n",
    "Python本身的 ast 模块值得关注下，可以去看看源码。\n",
    "9.24小节演示了一个利用 ast 模块来处理Python源代码的例子。"
   ]
  },
  {
   "cell_type": "markdown",
   "metadata": {},
   "source": [
    "## 8.22 不用递归实现访问者模式\n"
   ]
  },
  {
   "cell_type": "markdown",
   "metadata": {},
   "source": [
    "### 问题\n"
   ]
  },
  {
   "cell_type": "markdown",
   "metadata": {},
   "source": [
    "你使用访问者模式遍历一个很深的嵌套树形数据结构，并且因为超过嵌套层级限制而失败。\n",
    "你想消除递归，并同时保持访问者编程模式。"
   ]
  },
  {
   "cell_type": "markdown",
   "metadata": {},
   "source": [
    "### 解决方案\n"
   ]
  },
  {
   "cell_type": "markdown",
   "metadata": {},
   "source": [
    "通过巧妙的使用生成器可以在树遍历或搜索算法中消除递归。\n",
    "在8.21小节中，我们给出了一个访问者类。\n",
    "下面我们利用一个栈和生成器重新实现这个类："
   ]
  },
  {
   "cell_type": "code",
   "execution_count": null,
   "metadata": {},
   "outputs": [],
   "source": [
    "import types\n",
    "\n",
    "class Node:\n",
    "    pass\n",
    "\n",
    "class NodeVisitor:\n",
    "    def visit(self, node):\n",
    "        stack = [node]\n",
    "        last_result = None\n",
    "        while stack:\n",
    "            try:\n",
    "                last = stack[-1]\n",
    "                if isinstance(last, types.GeneratorType):\n",
    "                    stack.append(last.send(last_result))\n",
    "                    last_result = None\n",
    "                elif isinstance(last, Node):\n",
    "                    stack.append(self._visit(stack.pop()))\n",
    "                else:\n",
    "                    last_result = stack.pop()\n",
    "            except StopIteration:\n",
    "                stack.pop()\n",
    "\n",
    "        return last_result\n",
    "\n",
    "    def _visit(self, node):\n",
    "        methname = 'visit_' + type(node).__name__\n",
    "        meth = getattr(self, methname, None)\n",
    "        if meth is None:\n",
    "            meth = self.generic_visit\n",
    "        return meth(node)\n",
    "\n",
    "    def generic_visit(self, node):\n",
    "        raise RuntimeError('No {} method'.format('visit_' + type(node).__name__))"
   ]
  },
  {
   "cell_type": "markdown",
   "metadata": {},
   "source": [
    "如果你使用这个类，也能达到相同的效果。事实上你完全可以将它作为上一节中的访问者模式的替代实现。\n",
    "考虑如下代码，遍历一个表达式的树："
   ]
  },
  {
   "cell_type": "code",
   "execution_count": null,
   "metadata": {},
   "outputs": [],
   "source": [
    "class UnaryOperator(Node):\n",
    "    def __init__(self, operand):\n",
    "        self.operand = operand\n",
    "\n",
    "class BinaryOperator(Node):\n",
    "    def __init__(self, left, right):\n",
    "        self.left = left\n",
    "        self.right = right\n",
    "\n",
    "class Add(BinaryOperator):\n",
    "    pass\n",
    "\n",
    "class Sub(BinaryOperator):\n",
    "    pass\n",
    "\n",
    "class Mul(BinaryOperator):\n",
    "    pass\n",
    "\n",
    "class Div(BinaryOperator):\n",
    "    pass\n",
    "\n",
    "class Negate(UnaryOperator):\n",
    "    pass\n",
    "\n",
    "class Number(Node):\n",
    "    def __init__(self, value):\n",
    "        self.value = value\n",
    "\n",
    "# A sample visitor class that evaluates expressions\n",
    "class Evaluator(NodeVisitor):\n",
    "    def visit_Number(self, node):\n",
    "        return node.value\n",
    "\n",
    "    def visit_Add(self, node):\n",
    "        return self.visit(node.left) + self.visit(node.right)\n",
    "\n",
    "    def visit_Sub(self, node):\n",
    "        return self.visit(node.left) - self.visit(node.right)\n",
    "\n",
    "    def visit_Mul(self, node):\n",
    "        return self.visit(node.left) * self.visit(node.right)\n",
    "\n",
    "    def visit_Div(self, node):\n",
    "        return self.visit(node.left) / self.visit(node.right)\n",
    "\n",
    "    def visit_Negate(self, node):\n",
    "        return -self.visit(node.operand)\n",
    "\n",
    "if __name__ == '__main__':\n",
    "    # 1 + 2*(3-4) / 5\n",
    "    t1 = Sub(Number(3), Number(4))\n",
    "    t2 = Mul(Number(2), t1)\n",
    "    t3 = Div(t2, Number(5))\n",
    "    t4 = Add(Number(1), t3)\n",
    "    # Evaluate it\n",
    "    e = Evaluator()\n",
    "    print(e.visit(t4))  # Outputs 0.6"
   ]
  },
  {
   "cell_type": "markdown",
   "metadata": {},
   "source": [
    "如果嵌套层次太深那么上述的Evaluator就会失效："
   ]
  },
  {
   "cell_type": "code",
   "execution_count": null,
   "metadata": {},
   "outputs": [],
   "source": [
    "a = Number(0)\n",
    "for n in range(1, 100000):\n",
    "a = Add(a, Number(n))\n",
    "e = Evaluator()\n",
    "e.visit(a)"
   ]
  },
  {
   "cell_type": "markdown",
   "metadata": {},
   "source": [
    "现在我们稍微修改下上面的Evaluator："
   ]
  },
  {
   "cell_type": "code",
   "execution_count": null,
   "metadata": {},
   "outputs": [],
   "source": [
    "class Evaluator(NodeVisitor):\n",
    "    def visit_Number(self, node):\n",
    "        return node.value\n",
    "\n",
    "    def visit_Add(self, node):\n",
    "        yield (yield node.left) + (yield node.right)\n",
    "\n",
    "    def visit_Sub(self, node):\n",
    "        yield (yield node.left) - (yield node.right)\n",
    "\n",
    "    def visit_Mul(self, node):\n",
    "        yield (yield node.left) * (yield node.right)\n",
    "\n",
    "    def visit_Div(self, node):\n",
    "        yield (yield node.left) / (yield node.right)\n",
    "\n",
    "    def visit_Negate(self, node):\n",
    "        yield - (yield node.operand)"
   ]
  },
  {
   "cell_type": "markdown",
   "metadata": {},
   "source": [
    "再次运行，就不会报错了："
   ]
  },
  {
   "cell_type": "code",
   "execution_count": null,
   "metadata": {},
   "outputs": [],
   "source": [
    "a = Number(0)\n",
    "for n in range(1,100000):\n",
    "    a = Add(a, Number(n))\n",
    "e = Evaluator()\n",
    "e.visit(a)"
   ]
  },
  {
   "cell_type": "markdown",
   "metadata": {},
   "source": [
    "如果你还想添加其他自定义逻辑也没问题："
   ]
  },
  {
   "cell_type": "code",
   "execution_count": null,
   "metadata": {},
   "outputs": [],
   "source": [
    "class Evaluator(NodeVisitor):\n",
    "    ...\n",
    "    def visit_Add(self, node):\n",
    "        print('Add:', node)\n",
    "        lhs = yield node.left\n",
    "        print('left=', lhs)\n",
    "        rhs = yield node.right\n",
    "        print('right=', rhs)\n",
    "        yield lhs + rhs\n",
    "    ..."
   ]
  },
  {
   "cell_type": "markdown",
   "metadata": {},
   "source": [
    "下面是简单的测试："
   ]
  },
  {
   "cell_type": "code",
   "execution_count": null,
   "metadata": {},
   "outputs": [],
   "source": [
    "e = Evaluator()\n",
    "e.visit(t4)"
   ]
  },
  {
   "cell_type": "markdown",
   "metadata": {},
   "source": [
    "### 讨论\n"
   ]
  },
  {
   "cell_type": "markdown",
   "metadata": {},
   "source": [
    "这一小节我们演示了生成器和协程在程序控制流方面的强大功能。\n",
    "避免递归的一个通常方法是使用一个栈或队列的数据结构。\n",
    "例如，深度优先的遍历算法，第一次碰到一个节点时将其压入栈中，处理完后弹出栈。visit() 方法的核心思路就是这样。"
   ]
  },
  {
   "cell_type": "markdown",
   "metadata": {},
   "source": [
    "另外一个需要理解的就是生成器中yield语句。当碰到yield语句时，生成器会返回一个数据并暂时挂起。\n",
    "上面的例子使用这个技术来代替了递归。例如，之前我们是这样写递归："
   ]
  },
  {
   "cell_type": "code",
   "execution_count": null,
   "metadata": {},
   "outputs": [],
   "source": [
    "value = self.visit(node.left)"
   ]
  },
  {
   "cell_type": "markdown",
   "metadata": {},
   "source": [
    "现在换成yield语句："
   ]
  },
  {
   "cell_type": "code",
   "execution_count": null,
   "metadata": {},
   "outputs": [],
   "source": [
    "value = yield node.left"
   ]
  },
  {
   "cell_type": "markdown",
   "metadata": {},
   "source": [
    "它会将 node.left 返回给 visit() 方法，然后 visit() 方法调用那个节点相应的 visit_Name() 方法。\n",
    "yield暂时将程序控制器让出给调用者，当执行完后，结果会赋值给value，"
   ]
  },
  {
   "cell_type": "markdown",
   "metadata": {},
   "source": [
    "看完这一小节，你也许想去寻找其它没有yield语句的方案。但是这么做没有必要，你必须处理很多棘手的问题。\n",
    "例如，为了消除递归，你必须要维护一个栈结构，如果不使用生成器，代码会变得很臃肿，到处都是栈操作语句、回调函数等。\n",
    "实际上，使用yield语句可以让你写出非常漂亮的代码，它消除了递归但是看上去又很像递归实现，代码很简洁。"
   ]
  },
  {
   "cell_type": "markdown",
   "metadata": {},
   "source": [
    "## 8.23 循环引用数据结构的内存管理\n"
   ]
  },
  {
   "cell_type": "markdown",
   "metadata": {},
   "source": [
    "### 问题\n"
   ]
  },
  {
   "cell_type": "markdown",
   "metadata": {},
   "source": [
    "你的程序创建了很多循环引用数据结构(比如树、图、观察者模式等)，你碰到了内存管理难题。"
   ]
  },
  {
   "cell_type": "markdown",
   "metadata": {},
   "source": [
    "### 解决方案\n"
   ]
  },
  {
   "cell_type": "markdown",
   "metadata": {},
   "source": [
    "一个简单的循环引用数据结构例子就是一个树形结构，双亲节点有指针指向孩子节点，孩子节点又返回来指向双亲节点。\n",
    "这种情况下，可以考虑使用 weakref 库中的弱引用。例如："
   ]
  },
  {
   "cell_type": "code",
   "execution_count": null,
   "metadata": {},
   "outputs": [],
   "source": [
    "import weakref\n",
    "\n",
    "class Node:\n",
    "    def __init__(self, value):\n",
    "        self.value = value\n",
    "        self._parent = None\n",
    "        self.children = []\n",
    "\n",
    "    def __repr__(self):\n",
    "        return 'Node({!r:})'.format(self.value)\n",
    "\n",
    "    # property that manages the parent as a weak-reference\n",
    "    @property\n",
    "    def parent(self):\n",
    "        return None if self._parent is None else self._parent()\n",
    "\n",
    "    @parent.setter\n",
    "    def parent(self, node):\n",
    "        self._parent = weakref.ref(node)\n",
    "\n",
    "    def add_child(self, child):\n",
    "        self.children.append(child)\n",
    "        child.parent = self"
   ]
  },
  {
   "cell_type": "markdown",
   "metadata": {},
   "source": [
    "这种是想方式允许parent静默终止。例如："
   ]
  },
  {
   "cell_type": "code",
   "execution_count": null,
   "metadata": {},
   "outputs": [],
   "source": [
    "root = Node('parent')\n",
    "c1 = Node('child')\n",
    "root.add_child(c1)\n",
    "print(c1.parent)"
   ]
  },
  {
   "cell_type": "code",
   "execution_count": null,
   "metadata": {},
   "outputs": [],
   "source": [
    "del root\n",
    "print(c1.parent)"
   ]
  },
  {
   "cell_type": "markdown",
   "metadata": {},
   "source": [
    "### 讨论\n"
   ]
  },
  {
   "cell_type": "markdown",
   "metadata": {},
   "source": [
    "循环引用的数据结构在Python中是一个很棘手的问题，因为正常的垃圾回收机制不能适用于这种情形。\n",
    "例如考虑如下代码："
   ]
  },
  {
   "cell_type": "code",
   "execution_count": null,
   "metadata": {},
   "outputs": [],
   "source": [
    "# Class just to illustrate when deletion occurs\n",
    "class Data:\n",
    "    def __del__(self):\n",
    "        print('Data.__del__')\n",
    "\n",
    "# Node class involving a cycle\n",
    "class Node:\n",
    "    def __init__(self):\n",
    "        self.data = Data()\n",
    "        self.parent = None\n",
    "        self.children = []\n",
    "\n",
    "    def add_child(self, child):\n",
    "        self.children.append(child)\n",
    "        child.parent = self"
   ]
  },
  {
   "cell_type": "markdown",
   "metadata": {},
   "source": [
    "下面我们使用这个代码来做一些垃圾回收试验："
   ]
  },
  {
   "cell_type": "code",
   "execution_count": null,
   "metadata": {},
   "outputs": [],
   "source": [
    "a = Data()\n",
    "del a # Immediately deleted"
   ]
  },
  {
   "cell_type": "code",
   "execution_count": null,
   "metadata": {},
   "outputs": [],
   "source": [
    "a = Node()\n",
    "del a # Immediately deleted"
   ]
  },
  {
   "cell_type": "code",
   "execution_count": null,
   "metadata": {},
   "outputs": [],
   "source": [
    "a = Node()\n",
    "a.add_child(Node())\n",
    "del a # Not deleted (no message)"
   ]
  },
  {
   "cell_type": "markdown",
   "metadata": {},
   "source": [
    "可以看到，最后一个的删除时打印语句没有出现。原因是Python的垃圾回收机制是基于简单的引用计数。\n",
    "当一个对象的引用数变成0的时候才会立即删除掉。而对于循环引用这个条件永远不会成立。\n",
    "因此，在上面例子中最后部分，父节点和孩子节点互相拥有对方的引用，导致每个对象的引用计数都不可能变成0。"
   ]
  },
  {
   "cell_type": "markdown",
   "metadata": {},
   "source": [
    "Python有另外的垃圾回收器来专门针对循环引用的，但是你永远不知道它什么时候会触发。\n",
    "另外你还可以手动的触发它，但是代码看上去很挫："
   ]
  },
  {
   "cell_type": "code",
   "execution_count": null,
   "metadata": {},
   "outputs": [],
   "source": [
    "import gc\n",
    "gc.collect() # Force collection"
   ]
  },
  {
   "cell_type": "markdown",
   "metadata": {},
   "source": [
    "如果循环引用的对象自己还定义了自己的 __del__() 方法，那么会让情况变得更糟糕。\n",
    "假设你像下面这样给Node定义自己的 __del__() 方法："
   ]
  },
  {
   "cell_type": "code",
   "execution_count": null,
   "metadata": {},
   "outputs": [],
   "source": [
    "# Node class involving a cycle\n",
    "class Node:\n",
    "    def __init__(self):\n",
    "        self.data = Data()\n",
    "        self.parent = None\n",
    "        self.children = []\n",
    "\n",
    "    def add_child(self, child):\n",
    "        self.children.append(child)\n",
    "        child.parent = self\n",
    "\n",
    "    # NEVER DEFINE LIKE THIS.\n",
    "    # Only here to illustrate pathological behavior\n",
    "    def __del__(self):\n",
    "        del self.data\n",
    "        del.parent\n",
    "        del.children"
   ]
  },
  {
   "cell_type": "markdown",
   "metadata": {},
   "source": [
    "这种情况下，垃圾回收永远都不会去回收这个对象的，还会导致内存泄露。\n",
    "如果你试着去运行它会发现，Data.__del__ 消息永远不会出现了,甚至在你强制内存回收时："
   ]
  },
  {
   "cell_type": "code",
   "execution_count": null,
   "metadata": {},
   "outputs": [],
   "source": [
    "a = Node()\n",
    "a.add_child(Node()\n",
    "del a # No message (not collected)\n",
    "import gc\n",
    "gc.collect() # No message (not collected)"
   ]
  },
  {
   "cell_type": "markdown",
   "metadata": {},
   "source": [
    "弱引用消除了引用循环的这个问题，本质来讲，弱引用就是一个对象指针，它不会增加它的引用计数。\n",
    "你可以通过 weakref 来创建弱引用。例如："
   ]
  },
  {
   "cell_type": "code",
   "execution_count": null,
   "metadata": {},
   "outputs": [],
   "source": [
    "import weakref\n",
    "a = Node()\n",
    "a_ref = weakref.ref(a)\n",
    "a_ref"
   ]
  },
  {
   "cell_type": "markdown",
   "metadata": {},
   "source": [
    "为了访问弱引用所引用的对象，你可以像函数一样去调用它即可。如果那个对象还存在就会返回它，否则就返回一个None。\n",
    "由于原始对象的引用计数没有增加，那么就可以去删除它了。例如;"
   ]
  },
  {
   "cell_type": "code",
   "execution_count": null,
   "metadata": {},
   "outputs": [],
   "source": [
    "print(a_ref())"
   ]
  },
  {
   "cell_type": "code",
   "execution_count": null,
   "metadata": {},
   "outputs": [],
   "source": [
    "del a"
   ]
  },
  {
   "cell_type": "code",
   "execution_count": null,
   "metadata": {},
   "outputs": [],
   "source": [
    "print(a_ref())"
   ]
  },
  {
   "cell_type": "markdown",
   "metadata": {},
   "source": [
    "通过这里演示的弱引用技术，你会发现不再有循环引用问题了，一旦某个节点不被使用了，垃圾回收器立即回收它。\n",
    "你还能参考8.25小节关于弱引用的另外一个例子。"
   ]
  },
  {
   "cell_type": "markdown",
   "metadata": {},
   "source": [
    "## 8.24 让类支持比较操作\n"
   ]
  },
  {
   "cell_type": "markdown",
   "metadata": {},
   "source": [
    "### 问题\n"
   ]
  },
  {
   "cell_type": "markdown",
   "metadata": {},
   "source": [
    "你想让某个类的实例支持标准的比较运算(比如>=,!=,<=,<等)，但是又不想去实现那一大丢的特殊方法。"
   ]
  },
  {
   "cell_type": "markdown",
   "metadata": {},
   "source": [
    "### 解决方案\n"
   ]
  },
  {
   "cell_type": "markdown",
   "metadata": {},
   "source": [
    "Python类对每个比较操作都需要实现一个特殊方法来支持。\n",
    "例如为了支持>=操作符，你需要定义一个 __ge__() 方法。\n",
    "尽管定义一个方法没什么问题，但如果要你实现所有可能的比较方法那就有点烦人了。"
   ]
  },
  {
   "cell_type": "markdown",
   "metadata": {},
   "source": [
    "装饰器 functools.total_ordering 就是用来简化这个处理的。\n",
    "使用它来装饰一个来，你只需定义一个 __eq__() 方法，\n",
    "外加其他方法(__lt__, __le__, __gt__, or __ge__)中的一个即可。\n",
    "然后装饰器会自动为你填充其它比较方法。"
   ]
  },
  {
   "cell_type": "markdown",
   "metadata": {},
   "source": [
    "作为例子，我们构建一些房子，然后给它们增加一些房间，最后通过房子大小来比较它们："
   ]
  },
  {
   "cell_type": "code",
   "execution_count": null,
   "metadata": {},
   "outputs": [],
   "source": [
    "from functools import total_ordering\n",
    "\n",
    "class Room:\n",
    "    def __init__(self, name, length, width):\n",
    "        self.name = name\n",
    "        self.length = length\n",
    "        self.width = width\n",
    "        self.square_feet = self.length * self.width\n",
    "\n",
    "@total_ordering\n",
    "class House:\n",
    "    def __init__(self, name, style):\n",
    "        self.name = name\n",
    "        self.style = style\n",
    "        self.rooms = list()\n",
    "\n",
    "    @property\n",
    "    def living_space_footage(self):\n",
    "        return sum(r.square_feet for r in self.rooms)\n",
    "\n",
    "    def add_room(self, room):\n",
    "        self.rooms.append(room)\n",
    "\n",
    "    def __str__(self):\n",
    "        return '{}: {} square foot {}'.format(self.name,\n",
    "                self.living_space_footage,\n",
    "                self.style)\n",
    "\n",
    "    def __eq__(self, other):\n",
    "        return self.living_space_footage == other.living_space_footage\n",
    "\n",
    "    def __lt__(self, other):\n",
    "        return self.living_space_footage < other.living_space_footage"
   ]
  },
  {
   "cell_type": "markdown",
   "metadata": {},
   "source": [
    "这里我们只是给House类定义了两个方法：__eq__() 和 __lt__() ，它就能支持所有的比较操作："
   ]
  },
  {
   "cell_type": "code",
   "execution_count": null,
   "metadata": {},
   "outputs": [],
   "source": [
    "# Build a few houses, and add rooms to them\n",
    "h1 = House('h1', 'Cape')\n",
    "h1.add_room(Room('Master Bedroom', 14, 21))\n",
    "h1.add_room(Room('Living Room', 18, 20))\n",
    "h1.add_room(Room('Kitchen', 12, 16))\n",
    "h1.add_room(Room('Office', 12, 12))\n",
    "h2 = House('h2', 'Ranch')\n",
    "h2.add_room(Room('Master Bedroom', 14, 21))\n",
    "h2.add_room(Room('Living Room', 18, 20))\n",
    "h2.add_room(Room('Kitchen', 12, 16))\n",
    "h3 = House('h3', 'Split')\n",
    "h3.add_room(Room('Master Bedroom', 14, 21))\n",
    "h3.add_room(Room('Living Room', 18, 20))\n",
    "h3.add_room(Room('Office', 12, 16))\n",
    "h3.add_room(Room('Kitchen', 15, 17))\n",
    "houses = [h1, h2, h3]\n",
    "print('Is h1 bigger than h2?', h1 > h2) # prints True\n",
    "print('Is h2 smaller than h3?', h2 < h3) # prints True\n",
    "print('Is h2 greater than or equal to h1?', h2 >= h1) # Prints False\n",
    "print('Which one is biggest?', max(houses)) # Prints 'h3: 1101-square-foot Split'\n",
    "print('Which is smallest?', min(houses)) # Prints 'h2: 846-square-foot Ranch'"
   ]
  },
  {
   "cell_type": "markdown",
   "metadata": {},
   "source": [
    "### 讨论\n"
   ]
  },
  {
   "cell_type": "markdown",
   "metadata": {},
   "source": [
    "其实 total_ordering 装饰器也没那么神秘。\n",
    "它就是定义了一个从每个比较支持方法到所有需要定义的其他方法的一个映射而已。\n",
    "比如你定义了 __le__() 方法，那么它就被用来构建所有其他的需要定义的那些特殊方法。\n",
    "实际上就是在类里面像下面这样定义了一些特殊方法："
   ]
  },
  {
   "cell_type": "code",
   "execution_count": null,
   "metadata": {},
   "outputs": [],
   "source": [
    "class House:\n",
    "    def __eq__(self, other):\n",
    "        pass\n",
    "    def __lt__(self, other):\n",
    "        pass\n",
    "    # Methods created by @total_ordering\n",
    "    __le__ = lambda self, other: self < other or self == other\n",
    "    __gt__ = lambda self, other: not (self < other or self == other)\n",
    "    __ge__ = lambda self, other: not (self < other)\n",
    "    __ne__ = lambda self, other: not self == other"
   ]
  },
  {
   "cell_type": "markdown",
   "metadata": {},
   "source": [
    "当然，你自己去写也很容易，但是使用 @total_ordering 可以简化代码，何乐而不为呢。"
   ]
  },
  {
   "cell_type": "markdown",
   "metadata": {},
   "source": [
    "## 8.25 创建缓存实例\n"
   ]
  },
  {
   "cell_type": "markdown",
   "metadata": {},
   "source": [
    "### 问题\n"
   ]
  },
  {
   "cell_type": "markdown",
   "metadata": {},
   "source": [
    "在创建一个类的对象时，如果之前使用同样参数创建过这个对象， 你想返回它的缓存引用。"
   ]
  },
  {
   "cell_type": "markdown",
   "metadata": {},
   "source": [
    "### 解决方案\n"
   ]
  },
  {
   "cell_type": "markdown",
   "metadata": {},
   "source": [
    "这种通常是因为你希望相同参数创建的对象时单例的。\n",
    "在很多库中都有实际的例子，比如 logging 模块，使用相同的名称创建的 logger 实例永远只有一个。例如："
   ]
  },
  {
   "cell_type": "code",
   "execution_count": null,
   "metadata": {},
   "outputs": [],
   "source": [
    "import logging\n",
    "a = logging.getLogger('foo')\n",
    "b = logging.getLogger('bar')\n",
    "a is b"
   ]
  },
  {
   "cell_type": "code",
   "execution_count": null,
   "metadata": {},
   "outputs": [],
   "source": [
    "c = logging.getLogger('foo')\n",
    "a is c"
   ]
  },
  {
   "cell_type": "markdown",
   "metadata": {},
   "source": [
    "为了达到这样的效果，你需要使用一个和类本身分开的工厂函数，例如："
   ]
  },
  {
   "cell_type": "code",
   "execution_count": null,
   "metadata": {},
   "outputs": [],
   "source": [
    "# The class in question\n",
    "class Spam:\n",
    "    def __init__(self, name):\n",
    "        self.name = name\n",
    "\n",
    "# Caching support\n",
    "import weakref\n",
    "_spam_cache = weakref.WeakValueDictionary()\n",
    "def get_spam(name):\n",
    "    if name not in _spam_cache:\n",
    "        s = Spam(name)\n",
    "        _spam_cache[name] = s\n",
    "    else:\n",
    "        s = _spam_cache[name]\n",
    "    return s"
   ]
  },
  {
   "cell_type": "markdown",
   "metadata": {},
   "source": [
    "然后做一个测试，你会发现跟之前那个日志对象的创建行为是一致的："
   ]
  },
  {
   "cell_type": "code",
   "execution_count": null,
   "metadata": {},
   "outputs": [],
   "source": [
    "a = get_spam('foo')\n",
    "b = get_spam('bar')\n",
    "a is b"
   ]
  },
  {
   "cell_type": "code",
   "execution_count": null,
   "metadata": {},
   "outputs": [],
   "source": [
    "c = get_spam('foo')\n",
    "a is c"
   ]
  },
  {
   "cell_type": "markdown",
   "metadata": {},
   "source": [
    "### 讨论\n"
   ]
  },
  {
   "cell_type": "markdown",
   "metadata": {},
   "source": [
    "编写一个工厂函数来修改普通的实例创建行为通常是一个比较简单的方法。\n",
    "但是我们还能否找到更优雅的解决方案呢？"
   ]
  },
  {
   "cell_type": "markdown",
   "metadata": {},
   "source": [
    "例如，你可能会考虑重新定义类的 __new__() 方法，就像下面这样："
   ]
  },
  {
   "cell_type": "code",
   "execution_count": null,
   "metadata": {},
   "outputs": [],
   "source": [
    "# Note: This code doesn't quite work\n",
    "import weakref\n",
    "\n",
    "class Spam:\n",
    "    _spam_cache = weakref.WeakValueDictionary()\n",
    "    def __new__(cls, name):\n",
    "        if name in cls._spam_cache:\n",
    "            return cls._spam_cache[name]\n",
    "        else:\n",
    "            self = super().__new__(cls)\n",
    "            cls._spam_cache[name] = self\n",
    "            return self\n",
    "    def __init__(self, name):\n",
    "        print('Initializing Spam')\n",
    "        self.name = name"
   ]
  },
  {
   "cell_type": "markdown",
   "metadata": {},
   "source": [
    "初看起来好像可以达到预期效果，但是问题是 __init__() 每次都会被调用，不管这个实例是否被缓存了。例如："
   ]
  },
  {
   "cell_type": "code",
   "execution_count": null,
   "metadata": {},
   "outputs": [],
   "source": [
    "s = Spam('Dave')"
   ]
  },
  {
   "cell_type": "code",
   "execution_count": null,
   "metadata": {},
   "outputs": [],
   "source": [
    "t = Spam('Dave')"
   ]
  },
  {
   "cell_type": "code",
   "execution_count": null,
   "metadata": {},
   "outputs": [],
   "source": [
    "s is t"
   ]
  },
  {
   "cell_type": "markdown",
   "metadata": {},
   "source": [
    "这个或许不是你想要的效果，因此这种方法并不可取。"
   ]
  },
  {
   "cell_type": "markdown",
   "metadata": {},
   "source": [
    "上面我们使用到了弱引用计数，对于垃圾回收来讲是很有帮助的，关于这个我们在8.23小节已经讲过了。\n",
    "当我们保持实例缓存时，你可能只想在程序中使用到它们时才保存。\n",
    "一个 WeakValueDictionary 实例只会保存那些在其它地方还在被使用的实例。\n",
    "否则的话，只要实例不再被使用了，它就从字典中被移除了。观察下下面的测试结果："
   ]
  },
  {
   "cell_type": "code",
   "execution_count": null,
   "metadata": {},
   "outputs": [],
   "source": [
    "a = get_spam('foo')\n",
    "b = get_spam('bar')\n",
    "c = get_spam('foo')\n",
    "list(_spam_cache)"
   ]
  },
  {
   "cell_type": "code",
   "execution_count": null,
   "metadata": {},
   "outputs": [],
   "source": [
    "del a\n",
    "del c\n",
    "list(_spam_cache)"
   ]
  },
  {
   "cell_type": "code",
   "execution_count": null,
   "metadata": {},
   "outputs": [],
   "source": [
    "del b\n",
    "list(_spam_cache)"
   ]
  },
  {
   "cell_type": "markdown",
   "metadata": {},
   "source": [
    "对于大部分程序而已，这里代码已经够用了。不过还是有一些更高级的实现值得了解下。"
   ]
  },
  {
   "cell_type": "markdown",
   "metadata": {},
   "source": [
    "首先是这里使用到了一个全局变量，并且工厂函数跟类放在一块。我们可以通过将缓存代码放到一个单独的缓存管理器中："
   ]
  },
  {
   "cell_type": "code",
   "execution_count": null,
   "metadata": {},
   "outputs": [],
   "source": [
    "import weakref\n",
    "\n",
    "class CachedSpamManager:\n",
    "    def __init__(self):\n",
    "        self._cache = weakref.WeakValueDictionary()\n",
    "\n",
    "    def get_spam(self, name):\n",
    "        if name not in self._cache:\n",
    "            s = Spam(name)\n",
    "            self._cache[name] = s\n",
    "        else:\n",
    "            s = self._cache[name]\n",
    "        return s\n",
    "\n",
    "    def clear(self):\n",
    "            self._cache.clear()\n",
    "\n",
    "class Spam:\n",
    "    manager = CachedSpamManager()\n",
    "    def __init__(self, name):\n",
    "        self.name = name\n",
    "\n",
    "    def get_spam(name):\n",
    "        return Spam.manager.get_spam(name)"
   ]
  },
  {
   "cell_type": "markdown",
   "metadata": {},
   "source": [
    "这样的话代码更清晰，并且也更灵活，我们可以增加更多的缓存管理机制，只需要替代manager即可。"
   ]
  },
  {
   "cell_type": "markdown",
   "metadata": {},
   "source": [
    "还有一点就是，我们暴露了类的实例化给用户，用户很容易去直接实例化这个类，而不是使用工厂方法，如："
   ]
  },
  {
   "cell_type": "code",
   "execution_count": null,
   "metadata": {},
   "outputs": [],
   "source": [
    "a = Spam('foo')\n",
    "b = Spam('foo')\n",
    "a is b"
   ]
  },
  {
   "cell_type": "markdown",
   "metadata": {},
   "source": [
    "有几种方式可以防止用户这样做，第一个是将类的名字修改为以下划线(_)开头，提示用户别直接调用它。\n",
    "第二种就是让这个类的 __init__() 方法抛出一个异常，让它不能被初始化："
   ]
  },
  {
   "cell_type": "code",
   "execution_count": null,
   "metadata": {},
   "outputs": [],
   "source": [
    "class Spam:\n",
    "    def __init__(self, *args, **kwargs):\n",
    "        raise RuntimeError(\"Can't instantiate directly\")\n",
    "\n",
    "    # Alternate constructor\n",
    "    @classmethod\n",
    "    def _new(cls, name):\n",
    "        self = cls.__new__(cls)\n",
    "        self.name = name"
   ]
  },
  {
   "cell_type": "markdown",
   "metadata": {},
   "source": [
    "然后修改缓存管理器代码，使用 Spam._new() 来创建实例，而不是直接调用 Spam() 构造函数："
   ]
  },
  {
   "cell_type": "code",
   "execution_count": null,
   "metadata": {},
   "outputs": [],
   "source": [
    "# ------------------------最后的修正方案------------------------\n",
    "class CachedSpamManager2:\n",
    "    def __init__(self):\n",
    "        self._cache = weakref.WeakValueDictionary()\n",
    "\n",
    "    def get_spam(self, name):\n",
    "        if name not in self._cache:\n",
    "            temp = Spam3._new(name)  # Modified creation\n",
    "            self._cache[name] = temp\n",
    "        else:\n",
    "            temp = self._cache[name]\n",
    "        return temp\n",
    "\n",
    "    def clear(self):\n",
    "            self._cache.clear()\n",
    "\n",
    "class Spam3:\n",
    "    def __init__(self, *args, **kwargs):\n",
    "        raise RuntimeError(\"Can't instantiate directly\")\n",
    "\n",
    "    # Alternate constructor\n",
    "    @classmethod\n",
    "    def _new(cls, name):\n",
    "        self = cls.__new__(cls)\n",
    "        self.name = name\n",
    "        return self"
   ]
  },
  {
   "cell_type": "markdown",
   "metadata": {},
   "source": [
    "最后这样的方案就已经足够好了。\n",
    "缓存和其他构造模式还可以使用9.13小节中的元类实现的更优雅一点(使用了更高级的技术)。"
   ]
  }
 ],
 "metadata": {
  "kernelspec": {
   "display_name": "Python 3",
   "language": "python",
   "name": "python3"
  },
  "language_info": {
   "codemirror_mode": {
    "name": "ipython",
    "version": 3
   },
   "file_extension": ".py",
   "mimetype": "text/x-python",
   "name": "python",
   "nbconvert_exporter": "python",
   "pygments_lexer": "ipython3",
   "version": "3.7.4"
  },
  "toc": {
   "base_numbering": 1,
   "nav_menu": {},
   "number_sections": true,
   "sideBar": true,
   "skip_h1_title": true,
   "title_cell": "Table of Contents",
   "title_sidebar": "Contents",
   "toc_cell": false,
   "toc_position": {},
   "toc_section_display": true,
   "toc_window_display": true
  }
 },
 "nbformat": 4,
 "nbformat_minor": 2
}
