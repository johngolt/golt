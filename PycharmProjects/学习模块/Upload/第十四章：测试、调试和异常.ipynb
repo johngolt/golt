{
 "cells": [
  {
   "cell_type": "markdown",
   "metadata": {},
   "source": [
    "# 第十四章：测试、调试和异常\n",
    " 试验还是很棒的，但是调试？就没那么有趣了。事实是，在Python测试代码之前没有编译器来分析你的代码，因此使得测试成为开发的一个重要部分。本章的目标是讨论一些关于测试、调试和异常处理的常见问题。但是并不是为测试驱动开发或者单元测试模块做一个简要的介绍。因此，笔者假定读者熟悉测试概念。"
   ]
  },
  {
   "cell_type": "markdown",
   "metadata": {},
   "source": [
    "## 14.1 测试stdout输出\n"
   ]
  },
  {
   "cell_type": "markdown",
   "metadata": {},
   "source": [
    "### 问题\n"
   ]
  },
  {
   "cell_type": "markdown",
   "metadata": {},
   "source": [
    "你的程序中有个方法会输出到标准输出中（sys.stdout）。也就是说它会将文本打印到屏幕上面。\n",
    "你想写个测试来证明它，给定一个输入，相应的输出能正常显示出来。"
   ]
  },
  {
   "cell_type": "markdown",
   "metadata": {},
   "source": [
    "### 解决方案\n"
   ]
  },
  {
   "cell_type": "markdown",
   "metadata": {},
   "source": [
    "使用 unittest.mock 模块中的 patch() 函数，\n",
    "使用起来非常简单，可以为单个测试模拟 sys.stdout 然后回滚，\n",
    "并且不产生大量的临时变量或在测试用例直接暴露状态变量。"
   ]
  },
  {
   "cell_type": "markdown",
   "metadata": {},
   "source": [
    "作为一个例子，我们在 mymodule 模块中定义如下一个函数："
   ]
  },
  {
   "cell_type": "code",
   "execution_count": null,
   "metadata": {},
   "outputs": [],
   "source": [
    "# mymodule.py\n",
    "\n",
    "def urlprint(protocol, host, domain):\n",
    "    url = '{}://{}.{}'.format(protocol, host, domain)\n",
    "    print(url)"
   ]
  },
  {
   "cell_type": "markdown",
   "metadata": {},
   "source": [
    "默认情况下内置的 print 函数会将输出发送到 sys.stdout 。\n",
    "为了测试输出真的在那里，你可以使用一个替身对象来模拟它，然后使用断言来确认结果。\n",
    "使用 unittest.mock 模块的 patch() 方法可以很方便的在测试运行的上下文中替换对象，\n",
    "并且当测试完成时候自动返回它们的原有状态。下面是对 mymodule 模块的测试代码："
   ]
  },
  {
   "cell_type": "code",
   "execution_count": null,
   "metadata": {},
   "outputs": [],
   "source": [
    "from io import StringIO\n",
    "from unittest import TestCase\n",
    "from unittest.mock import patch\n",
    "import mymodule\n",
    "\n",
    "class TestURLPrint(TestCase):\n",
    "    def test_url_gets_to_stdout(self):\n",
    "        protocol = 'http'\n",
    "        host = 'www'\n",
    "        domain = 'example.com'\n",
    "        expected_url = '{}://{}.{}\\n'.format(protocol, host, domain)\n",
    "\n",
    "        with patch('sys.stdout', new=StringIO()) as fake_out:\n",
    "            mymodule.urlprint(protocol, host, domain)\n",
    "            self.assertEqual(fake_out.getvalue(), expected_url)"
   ]
  },
  {
   "cell_type": "markdown",
   "metadata": {},
   "source": [
    "### 讨论\n"
   ]
  },
  {
   "cell_type": "markdown",
   "metadata": {},
   "source": [
    "urlprint() 函数接受三个参数，测试方法开始会先设置每一个参数的值。\n",
    "expected_url 变量被设置成包含期望的输出的字符串。"
   ]
  },
  {
   "cell_type": "markdown",
   "metadata": {},
   "source": [
    "unittest.mock.patch() 函数被用作一个上下文管理器，使用 StringIO 对象来代替 sys.stdout .\n",
    "fake_out 变量是在该进程中被创建的模拟对象。\n",
    "在with语句中使用它可以执行各种检查。当with语句结束时，patch 会将所有东西恢复到测试开始前的状态。\n",
    "有一点需要注意的是某些对Python的C扩展可能会忽略掉 sys.stdout 的配置而直接写入到标准输出中。\n",
    "限于篇幅，本节不会涉及到这方面的讲解，它适用于纯Python代码。\n",
    "如果你真的需要在C扩展中捕获I/O，你可以先打开一个临时文件，然后将标准输出重定向到该文件中。\n",
    "更多关于捕获以字符串形式捕获I/O和 StringIO 对象请参阅5.6小节。"
   ]
  },
  {
   "cell_type": "markdown",
   "metadata": {},
   "source": [
    "## 14.2 在单元测试中给对象打补丁\n"
   ]
  },
  {
   "cell_type": "markdown",
   "metadata": {},
   "source": [
    "### 问题\n"
   ]
  },
  {
   "cell_type": "markdown",
   "metadata": {},
   "source": [
    "你写的单元测试中需要给指定的对象打补丁，\n",
    "用来断言它们在测试中的期望行为（比如，断言被调用时的参数个数，访问指定的属性等）。"
   ]
  },
  {
   "cell_type": "markdown",
   "metadata": {},
   "source": [
    "### 解决方案\n"
   ]
  },
  {
   "cell_type": "markdown",
   "metadata": {},
   "source": [
    "unittest.mock.patch() 函数可被用来解决这个问题。\n",
    "patch() 还可被用作一个装饰器、上下文管理器或单独使用，尽管并不常见。\n",
    "例如，下面是一个将它当做装饰器使用的例子："
   ]
  },
  {
   "cell_type": "code",
   "execution_count": null,
   "metadata": {},
   "outputs": [],
   "source": [
    "from unittest.mock import patch\n",
    "import example\n",
    "\n",
    "@patch('example.func')\n",
    "def test1(x, mock_func):\n",
    "    example.func(x)       # Uses patched example.func\n",
    "    mock_func.assert_called_with(x)"
   ]
  },
  {
   "cell_type": "markdown",
   "metadata": {},
   "source": [
    "它还可以被当做一个上下文管理器："
   ]
  },
  {
   "cell_type": "code",
   "execution_count": null,
   "metadata": {},
   "outputs": [],
   "source": [
    "with patch('example.func') as mock_func:\n",
    "    example.func(x)      # Uses patched example.func\n",
    "    mock_func.assert_called_with(x)"
   ]
  },
  {
   "cell_type": "markdown",
   "metadata": {},
   "source": [
    "最后，你还可以手动的使用它打补丁："
   ]
  },
  {
   "cell_type": "code",
   "execution_count": null,
   "metadata": {},
   "outputs": [],
   "source": [
    "p = patch('example.func')\n",
    "mock_func = p.start()\n",
    "example.func(x)\n",
    "mock_func.assert_called_with(x)\n",
    "p.stop()"
   ]
  },
  {
   "cell_type": "markdown",
   "metadata": {},
   "source": [
    "如果可能的话，你能够叠加装饰器和上下文管理器来给多个对象打补丁。例如："
   ]
  },
  {
   "cell_type": "code",
   "execution_count": null,
   "metadata": {},
   "outputs": [],
   "source": [
    "@patch('example.func1')\n",
    "@patch('example.func2')\n",
    "@patch('example.func3')\n",
    "def test1(mock1, mock2, mock3):\n",
    "    ...\n",
    "\n",
    "def test2():\n",
    "    with patch('example.patch1') as mock1, \\\n",
    "         patch('example.patch2') as mock2, \\\n",
    "         patch('example.patch3') as mock3:\n",
    "    ..."
   ]
  },
  {
   "cell_type": "markdown",
   "metadata": {},
   "source": [
    "### 讨论\n"
   ]
  },
  {
   "cell_type": "markdown",
   "metadata": {},
   "source": [
    "patch() 接受一个已存在对象的全路径名，将其替换为一个新的值。\n",
    "原来的值会在装饰器函数或上下文管理器完成后自动恢复回来。\n",
    "默认情况下，所有值会被 MagicMock 实例替代。例如："
   ]
  },
  {
   "cell_type": "code",
   "execution_count": null,
   "metadata": {},
   "outputs": [],
   "source": [
    "x = 42\n",
    "with patch('__main__.x'):\n",
    "    print(x)"
   ]
  },
  {
   "cell_type": "code",
   "execution_count": null,
   "metadata": {},
   "outputs": [],
   "source": [
    "x"
   ]
  },
  {
   "cell_type": "markdown",
   "metadata": {},
   "source": [
    "不过，你可以通过给 patch() 提供第二个参数来将值替换成任何你想要的："
   ]
  },
  {
   "cell_type": "code",
   "execution_count": null,
   "metadata": {},
   "outputs": [],
   "source": [
    "x"
   ]
  },
  {
   "cell_type": "code",
   "execution_count": null,
   "metadata": {},
   "outputs": [],
   "source": [
    "with patch('__main__.x', 'patched_value'):\n",
    "    print(x)"
   ]
  },
  {
   "cell_type": "code",
   "execution_count": null,
   "metadata": {},
   "outputs": [],
   "source": [
    "x"
   ]
  },
  {
   "cell_type": "markdown",
   "metadata": {},
   "source": [
    "被用来作为替换值的 MagicMock 实例能够模拟可调用对象和实例。\n",
    "他们记录对象的使用信息并允许你执行断言检查，例如："
   ]
  },
  {
   "cell_type": "code",
   "execution_count": null,
   "metadata": {},
   "outputs": [],
   "source": [
    "from unittest.mock import MagicMock\n",
    "m = MagicMock(return_value = 10)\n",
    "m(1, 2, debug=True)"
   ]
  },
  {
   "cell_type": "code",
   "execution_count": null,
   "metadata": {},
   "outputs": [],
   "source": [
    "m.assert_called_with(1, 2, debug=True)\n",
    "m.assert_called_with(1, 2)"
   ]
  },
  {
   "cell_type": "code",
   "execution_count": null,
   "metadata": {},
   "outputs": [],
   "source": [
    "m.upper.return_value = 'HELLO'\n",
    "m.upper('hello')"
   ]
  },
  {
   "cell_type": "code",
   "execution_count": null,
   "metadata": {},
   "outputs": [],
   "source": [
    "assert m.upper.called"
   ]
  },
  {
   "cell_type": "code",
   "execution_count": null,
   "metadata": {},
   "outputs": [],
   "source": [
    "m.split.return_value = ['hello', 'world']\n",
    "m.split('hello world')"
   ]
  },
  {
   "cell_type": "code",
   "execution_count": null,
   "metadata": {},
   "outputs": [],
   "source": [
    "m.split.assert_called_with('hello world')"
   ]
  },
  {
   "cell_type": "code",
   "execution_count": null,
   "metadata": {},
   "outputs": [],
   "source": [
    "m['blah']"
   ]
  },
  {
   "cell_type": "code",
   "execution_count": null,
   "metadata": {},
   "outputs": [],
   "source": [
    "m.__getitem__.called"
   ]
  },
  {
   "cell_type": "code",
   "execution_count": null,
   "metadata": {},
   "outputs": [],
   "source": [
    "m.__getitem__.assert_called_with('blah')"
   ]
  },
  {
   "cell_type": "markdown",
   "metadata": {},
   "source": [
    "一般来讲，这些操作会在一个单元测试中完成。例如，假设你已经有了像下面这样的函数："
   ]
  },
  {
   "cell_type": "code",
   "execution_count": null,
   "metadata": {},
   "outputs": [],
   "source": [
    "# example.py\n",
    "from urllib.request import urlopen\n",
    "import csv\n",
    "\n",
    "def dowprices():\n",
    "    u = urlopen('http://finance.yahoo.com/d/quotes.csv?s=@^DJI&f=sl1')\n",
    "    lines = (line.decode('utf-8') for line in u)\n",
    "    rows = (row for row in csv.reader(lines) if len(row) == 2)\n",
    "    prices = { name:float(price) for name, price in rows }\n",
    "    return prices"
   ]
  },
  {
   "cell_type": "markdown",
   "metadata": {},
   "source": [
    "正常来讲，这个函数会使用 urlopen() 从Web上面获取数据并解析它。\n",
    "在单元测试中，你可以给它一个预先定义好的数据集。下面是使用补丁操作的例子:"
   ]
  },
  {
   "cell_type": "code",
   "execution_count": null,
   "metadata": {},
   "outputs": [],
   "source": [
    "import unittest\n",
    "from unittest.mock import patch\n",
    "import io\n",
    "import example\n",
    "\n",
    "sample_data = io.BytesIO(b'''\\\n",
    "\"IBM\",91.1\\r\n",
    "\"AA\",13.25\\r\n",
    "\"MSFT\",27.72\\r\n",
    "\\r\n",
    "''')\n",
    "\n",
    "class Tests(unittest.TestCase):\n",
    "    @patch('example.urlopen', return_value=sample_data)\n",
    "    def test_dowprices(self, mock_urlopen):\n",
    "        p = example.dowprices()\n",
    "        self.assertTrue(mock_urlopen.called)\n",
    "        self.assertEqual(p,\n",
    "                         {'IBM': 91.1,\n",
    "                          'AA': 13.25,\n",
    "                          'MSFT' : 27.72})\n",
    "\n",
    "if __name__ == '__main__':\n",
    "    unittest.main()"
   ]
  },
  {
   "cell_type": "markdown",
   "metadata": {},
   "source": [
    "本例中，位于 example 模块中的 urlopen() 函数被一个模拟对象替代，\n",
    "该对象会返回一个包含测试数据的 ByteIO()."
   ]
  },
  {
   "cell_type": "markdown",
   "metadata": {},
   "source": [
    "还有一点，在打补丁时我们使用了 example.urlopen 来代替 urllib.request.urlopen 。\n",
    "当你创建补丁的时候，你必须使用它们在测试代码中的名称。\n",
    "由于测试代码使用了 from urllib.request import urlopen ,那么 dowprices() 函数\n",
    "中使用的 urlopen() 函数实际上就位于 example 模块了。"
   ]
  },
  {
   "cell_type": "markdown",
   "metadata": {},
   "source": [
    "本节实际上只是对 unittest.mock 模块的一次浅尝辄止。\n",
    "更多更高级的特性，请参考 官方文档"
   ]
  },
  {
   "cell_type": "markdown",
   "metadata": {},
   "source": [
    "## 14.3 在单元测试中测试异常情况\n"
   ]
  },
  {
   "cell_type": "markdown",
   "metadata": {},
   "source": [
    "### 问题\n"
   ]
  },
  {
   "cell_type": "markdown",
   "metadata": {},
   "source": [
    "你想写个测试用例来准确的判断某个异常是否被抛出。"
   ]
  },
  {
   "cell_type": "markdown",
   "metadata": {},
   "source": [
    "### 解决方案\n"
   ]
  },
  {
   "cell_type": "markdown",
   "metadata": {},
   "source": [
    "对于异常的测试可使用 assertRaises() 方法。\n",
    "例如，如果你想测试某个函数抛出了 ValueError 异常，像下面这样写："
   ]
  },
  {
   "cell_type": "code",
   "execution_count": null,
   "metadata": {},
   "outputs": [],
   "source": [
    "import unittest\n",
    "\n",
    "# A simple function to illustrate\n",
    "def parse_int(s):\n",
    "    return int(s)\n",
    "\n",
    "class TestConversion(unittest.TestCase):\n",
    "    def test_bad_int(self):\n",
    "        self.assertRaises(ValueError, parse_int, 'N/A')"
   ]
  },
  {
   "cell_type": "markdown",
   "metadata": {},
   "source": [
    "如果你想测试异常的具体值，需要用到另外一种方法："
   ]
  },
  {
   "cell_type": "code",
   "execution_count": null,
   "metadata": {},
   "outputs": [],
   "source": [
    "import errno\n",
    "\n",
    "class TestIO(unittest.TestCase):\n",
    "    def test_file_not_found(self):\n",
    "        try:\n",
    "            f = open('/file/not/found')\n",
    "        except IOError as e:\n",
    "            self.assertEqual(e.errno, errno.ENOENT)\n",
    "\n",
    "        else:\n",
    "            self.fail('IOError not raised')"
   ]
  },
  {
   "cell_type": "markdown",
   "metadata": {},
   "source": [
    "### 讨论\n"
   ]
  },
  {
   "cell_type": "markdown",
   "metadata": {},
   "source": [
    "assertRaises() 方法为测试异常存在性提供了一个简便方法。\n",
    "一个常见的陷阱是手动去进行异常检测。比如："
   ]
  },
  {
   "cell_type": "code",
   "execution_count": null,
   "metadata": {},
   "outputs": [],
   "source": [
    "class TestConversion(unittest.TestCase):\n",
    "    def test_bad_int(self):\n",
    "        try:\n",
    "            r = parse_int('N/A')\n",
    "        except ValueError as e:\n",
    "            self.assertEqual(type(e), ValueError)"
   ]
  },
  {
   "cell_type": "markdown",
   "metadata": {},
   "source": [
    "这种方法的问题在于它很容易遗漏其他情况，比如没有任何异常抛出的时候。\n",
    "那么你还得需要增加另外的检测过程，如下面这样："
   ]
  },
  {
   "cell_type": "code",
   "execution_count": null,
   "metadata": {},
   "outputs": [],
   "source": [
    "class TestConversion(unittest.TestCase):\n",
    "    def test_bad_int(self):\n",
    "        try:\n",
    "            r = parse_int('N/A')\n",
    "        except ValueError as e:\n",
    "            self.assertEqual(type(e), ValueError)\n",
    "        else:\n",
    "            self.fail('ValueError not raised')"
   ]
  },
  {
   "cell_type": "markdown",
   "metadata": {},
   "source": [
    "assertRaises() 方法会处理所有细节，因此你应该使用它。"
   ]
  },
  {
   "cell_type": "markdown",
   "metadata": {},
   "source": [
    "assertRaises() 的一个缺点是它测不了异常具体的值是多少。\n",
    "为了测试异常值，可以使用 assertRaisesRegex() 方法，\n",
    "它可同时测试异常的存在以及通过正则式匹配异常的字符串表示。例如："
   ]
  },
  {
   "cell_type": "code",
   "execution_count": null,
   "metadata": {},
   "outputs": [],
   "source": [
    "class TestConversion(unittest.TestCase):\n",
    "    def test_bad_int(self):\n",
    "        self.assertRaisesRegex(ValueError, 'invalid literal .*',\n",
    "                                       parse_int, 'N/A')"
   ]
  },
  {
   "cell_type": "markdown",
   "metadata": {},
   "source": [
    "assertRaises() 和 assertRaisesRegex()\n",
    "还有一个容易忽略的地方就是它们还能被当做上下文管理器使用："
   ]
  },
  {
   "cell_type": "code",
   "execution_count": null,
   "metadata": {},
   "outputs": [],
   "source": [
    "class TestConversion(unittest.TestCase):\n",
    "    def test_bad_int(self):\n",
    "        with self.assertRaisesRegex(ValueError, 'invalid literal .*'):\n",
    "            r = parse_int('N/A')"
   ]
  },
  {
   "cell_type": "markdown",
   "metadata": {},
   "source": [
    "但你的测试涉及到多个执行步骤的时候这种方法就很有用了。"
   ]
  },
  {
   "cell_type": "markdown",
   "metadata": {},
   "source": [
    "## 14.4 将测试输出用日志记录到文件中\n"
   ]
  },
  {
   "cell_type": "markdown",
   "metadata": {},
   "source": [
    "### 问题\n"
   ]
  },
  {
   "cell_type": "markdown",
   "metadata": {},
   "source": [
    "你希望将单元测试的输出写到到某个文件中去，而不是打印到标准输出。"
   ]
  },
  {
   "cell_type": "markdown",
   "metadata": {},
   "source": [
    "### 解决方案\n"
   ]
  },
  {
   "cell_type": "markdown",
   "metadata": {},
   "source": [
    "运行单元测试一个常见技术就是在测试文件底部加入下面这段代码片段："
   ]
  },
  {
   "cell_type": "code",
   "execution_count": null,
   "metadata": {},
   "outputs": [],
   "source": [
    "import unittest\n",
    "\n",
    "class MyTest(unittest.TestCase):\n",
    "    pass\n",
    "\n",
    "if __name__ == '__main__':\n",
    "    unittest.main()"
   ]
  },
  {
   "cell_type": "markdown",
   "metadata": {},
   "source": [
    "这样的话测试文件就是可执行的，并且会将运行测试的结果打印到标准输出上。\n",
    "如果你想重定向输出，就需要像下面这样修改 main() 函数："
   ]
  },
  {
   "cell_type": "code",
   "execution_count": null,
   "metadata": {},
   "outputs": [],
   "source": [
    "import sys\n",
    "\n",
    "def main(out=sys.stderr, verbosity=2):\n",
    "    loader = unittest.TestLoader()\n",
    "    suite = loader.loadTestsFromModule(sys.modules[__name__])\n",
    "    unittest.TextTestRunner(out,verbosity=verbosity).run(suite)\n",
    "\n",
    "if __name__ == '__main__':\n",
    "    with open('testing.out', 'w') as f:\n",
    "        main(f)"
   ]
  },
  {
   "cell_type": "markdown",
   "metadata": {},
   "source": [
    "### 讨论\n"
   ]
  },
  {
   "cell_type": "markdown",
   "metadata": {},
   "source": [
    "本节感兴趣的部分并不是将测试结果重定向到一个文件中，\n",
    "而是通过这样做向你展示了 unittest 模块中一些值得关注的内部工作原理。"
   ]
  },
  {
   "cell_type": "markdown",
   "metadata": {},
   "source": [
    "unittest 模块首先会组装一个测试套件。\n",
    "这个测试套件包含了你定义的各种方法。一旦套件组装完成，它所包含的测试就可以被执行了。"
   ]
  },
  {
   "cell_type": "markdown",
   "metadata": {},
   "source": [
    "这两步是分开的，unittest.TestLoader 实例被用来组装测试套件。\n",
    "loadTestsFromModule() 是它定义的方法之一，用来收集测试用例。\n",
    "它会为 TestCase 类扫描某个模块并将其中的测试方法提取出来。\n",
    "如果你想进行细粒度的控制，\n",
    "可以使用 loadTestsFromTestCase() 方法来从某个继承TestCase的类中提取测试方法。\n",
    "TextTestRunner 类是一个测试运行类的例子，\n",
    "这个类的主要用途是执行某个测试套件中包含的测试方法。\n",
    "这个类跟执行 unittest.main() 函数所使用的测试运行器是一样的。\n",
    "不过，我们在这里对它进行了一些列底层配置，包括输出文件和提升级别。\n",
    "尽管本节例子代码很少，但是能指导你如何对 unittest 框架进行更进一步的自定义。\n",
    "要想自定义测试套件的装配方式，你可以对 TestLoader 类执行更多的操作。\n",
    "为了自定义测试运行，你可以构造一个自己的测试运行类来模拟 TextTestRunner 的功能。\n",
    "而这些已经超出了本节的范围。unittest 模块的文档对底层实现原理有更深入的讲解，可以去看看。"
   ]
  },
  {
   "cell_type": "markdown",
   "metadata": {},
   "source": [
    "## 14.5 忽略或期望测试失败\n"
   ]
  },
  {
   "cell_type": "markdown",
   "metadata": {},
   "source": [
    "### 问题\n"
   ]
  },
  {
   "cell_type": "markdown",
   "metadata": {},
   "source": [
    "你想在单元测试中忽略或标记某些测试会按照预期运行失败。"
   ]
  },
  {
   "cell_type": "markdown",
   "metadata": {},
   "source": [
    "### 解决方案\n"
   ]
  },
  {
   "cell_type": "markdown",
   "metadata": {},
   "source": [
    "unittest 模块有装饰器可用来控制对指定测试方法的处理，例如："
   ]
  },
  {
   "cell_type": "code",
   "execution_count": null,
   "metadata": {},
   "outputs": [],
   "source": [
    "import unittest\n",
    "import os\n",
    "import platform\n",
    "\n",
    "class Tests(unittest.TestCase):\n",
    "    def test_0(self):\n",
    "        self.assertTrue(True)\n",
    "\n",
    "    @unittest.skip('skipped test')\n",
    "    def test_1(self):\n",
    "        self.fail('should have failed!')\n",
    "\n",
    "    @unittest.skipIf(os.name=='posix', 'Not supported on Unix')\n",
    "    def test_2(self):\n",
    "        import winreg\n",
    "\n",
    "    @unittest.skipUnless(platform.system() == 'Darwin', 'Mac specific test')\n",
    "    def test_3(self):\n",
    "        self.assertTrue(True)\n",
    "\n",
    "    @unittest.expectedFailure\n",
    "    def test_4(self):\n",
    "        self.assertEqual(2+2, 5)\n",
    "\n",
    "if __name__ == '__main__':\n",
    "    unittest.main()"
   ]
  },
  {
   "cell_type": "markdown",
   "metadata": {},
   "source": [
    "如果你在Mac上运行这段代码，你会得到如下输出："
   ]
  },
  {
   "cell_type": "code",
   "execution_count": null,
   "metadata": {},
   "outputs": [],
   "source": [
    "bash % python3 testsample.py -v\n",
    "test_0 (__main__.Tests) ... ok\n",
    "test_1 (__main__.Tests) ... skipped 'skipped test'\n",
    "test_2 (__main__.Tests) ... skipped 'Not supported on Unix'\n",
    "test_3 (__main__.Tests) ... ok\n",
    "test_4 (__main__.Tests) ... expected failure\n",
    "\n",
    "----------------------------------------------------------------------\n",
    "Ran 5 tests in 0.002s\n",
    "\n",
    "OK (skipped=2, expected failures=1)"
   ]
  },
  {
   "cell_type": "markdown",
   "metadata": {},
   "source": [
    "### 讨论\n"
   ]
  },
  {
   "cell_type": "markdown",
   "metadata": {},
   "source": [
    "skip() 装饰器能被用来忽略某个你不想运行的测试。\n",
    "skipIf() 和 skipUnless()\n",
    "对于你只想在某个特定平台或Python版本或其他依赖成立时才运行测试的时候非常有用。\n",
    "使用 @expected 的失败装饰器来标记那些确定会失败的测试，并且对这些测试你不想让测试框架打印更多信息。"
   ]
  },
  {
   "cell_type": "markdown",
   "metadata": {},
   "source": [
    "忽略方法的装饰器还可以被用来装饰整个测试类，比如："
   ]
  },
  {
   "cell_type": "code",
   "execution_count": null,
   "metadata": {},
   "outputs": [],
   "source": [
    "@unittest.skipUnless(platform.system() == 'Darwin', 'Mac specific tests')\n",
    "class DarwinTests(unittest.TestCase):\n",
    "    pass"
   ]
  },
  {
   "cell_type": "markdown",
   "metadata": {},
   "source": [
    "## 14.6 处理多个异常\n"
   ]
  },
  {
   "cell_type": "markdown",
   "metadata": {},
   "source": [
    "### 问题\n"
   ]
  },
  {
   "cell_type": "markdown",
   "metadata": {},
   "source": [
    "你有一个代码片段可能会抛出多个不同的异常，怎样才能不创建大量重复代码就能处理所有的可能异常呢？"
   ]
  },
  {
   "cell_type": "markdown",
   "metadata": {},
   "source": [
    "### 解决方案\n"
   ]
  },
  {
   "cell_type": "markdown",
   "metadata": {},
   "source": [
    "如果你可以用单个代码块处理不同的异常，可以将它们放入一个元组中，如下所示："
   ]
  },
  {
   "cell_type": "code",
   "execution_count": null,
   "metadata": {},
   "outputs": [],
   "source": [
    "try:\n",
    "    client_obj.get_url(url)\n",
    "except (URLError, ValueError, SocketTimeout):\n",
    "    client_obj.remove_url(url)"
   ]
  },
  {
   "cell_type": "markdown",
   "metadata": {},
   "source": [
    "在这个例子中，元祖中任何一个异常发生时都会执行 remove_url() 方法。\n",
    "如果你想对其中某个异常进行不同的处理，可以将其放入另外一个 except 语句中："
   ]
  },
  {
   "cell_type": "code",
   "execution_count": null,
   "metadata": {},
   "outputs": [],
   "source": [
    "try:\n",
    "    client_obj.get_url(url)\n",
    "except (URLError, ValueError):\n",
    "    client_obj.remove_url(url)\n",
    "except SocketTimeout:\n",
    "    client_obj.handle_url_timeout(url)"
   ]
  },
  {
   "cell_type": "markdown",
   "metadata": {},
   "source": [
    "很多的异常会有层级关系，对于这种情况，你可能使用它们的一个基类来捕获所有的异常。例如，下面的代码："
   ]
  },
  {
   "cell_type": "code",
   "execution_count": null,
   "metadata": {},
   "outputs": [],
   "source": [
    "try:\n",
    "    f = open(filename)\n",
    "except (FileNotFoundError, PermissionError):\n",
    "    pass"
   ]
  },
  {
   "cell_type": "markdown",
   "metadata": {},
   "source": [
    "可以被重写为："
   ]
  },
  {
   "cell_type": "code",
   "execution_count": null,
   "metadata": {},
   "outputs": [],
   "source": [
    "try:\n",
    "    f = open(filename)\n",
    "except OSError:\n",
    "    pass"
   ]
  },
  {
   "cell_type": "markdown",
   "metadata": {},
   "source": [
    "OSError 是 FileNotFoundError 和 PermissionError 异常的基类。"
   ]
  },
  {
   "cell_type": "markdown",
   "metadata": {},
   "source": [
    "### 讨论\n"
   ]
  },
  {
   "cell_type": "markdown",
   "metadata": {},
   "source": [
    "尽管处理多个异常本身并没什么特殊的，不过你可以使用 as 关键字来获得被抛出异常的引用："
   ]
  },
  {
   "cell_type": "code",
   "execution_count": null,
   "metadata": {},
   "outputs": [],
   "source": [
    "try:\n",
    "    f = open(filename)\n",
    "except OSError as e:\n",
    "    if e.errno == errno.ENOENT:\n",
    "        logger.error('File not found')\n",
    "    elif e.errno == errno.EACCES:\n",
    "        logger.error('Permission denied')\n",
    "    else:\n",
    "        logger.error('Unexpected error: %d', e.errno)"
   ]
  },
  {
   "cell_type": "markdown",
   "metadata": {},
   "source": [
    "这个例子中， e 变量指向一个被抛出的 OSError 异常实例。\n",
    "这个在你想更进一步分析这个异常的时候会很有用，比如基于某个状态码来处理它。"
   ]
  },
  {
   "cell_type": "markdown",
   "metadata": {},
   "source": [
    "同时还要注意的时候 except 语句是顺序检查的，第一个匹配的会执行。\n",
    "你可以很容易的构造多个 except 同时匹配的情形，比如："
   ]
  },
  {
   "cell_type": "code",
   "execution_count": null,
   "metadata": {},
   "outputs": [],
   "source": [
    "f = open('missing')"
   ]
  },
  {
   "cell_type": "code",
   "execution_count": null,
   "metadata": {},
   "outputs": [],
   "source": [
    "try:\n",
    "    f = open('missing')\n",
    "except OSError:\n",
    "    print('It failed')\n",
    "except FileNotFoundError:\n",
    "    print('File not found')"
   ]
  },
  {
   "cell_type": "markdown",
   "metadata": {},
   "source": [
    "这里的 FileNotFoundError 语句并没有执行的原因是 OSError 更一般，它可匹配 FileNotFoundError 异常，\n",
    "于是就是第一个匹配的。\n",
    "在调试的时候，如果你对某个特定异常的类成层级关系不是很确定，\n",
    "你可以通过查看该异常的 __mro__ 属性来快速浏览。比如："
   ]
  },
  {
   "cell_type": "code",
   "execution_count": null,
   "metadata": {},
   "outputs": [],
   "source": [
    "FileNotFoundError.__mro__"
   ]
  },
  {
   "cell_type": "markdown",
   "metadata": {},
   "source": [
    "上面列表中任何一个直到 BaseException 的类都能被用于 except 语句。"
   ]
  },
  {
   "cell_type": "markdown",
   "metadata": {},
   "source": [
    "## 14.7 捕获所有异常\n"
   ]
  },
  {
   "cell_type": "markdown",
   "metadata": {},
   "source": [
    "### 问题\n"
   ]
  },
  {
   "cell_type": "markdown",
   "metadata": {},
   "source": [
    "怎样捕获代码中的所有异常？"
   ]
  },
  {
   "cell_type": "markdown",
   "metadata": {},
   "source": [
    "### 解决方案\n"
   ]
  },
  {
   "cell_type": "markdown",
   "metadata": {},
   "source": [
    "想要捕获所有的异常，可以直接捕获 Exception 即可："
   ]
  },
  {
   "cell_type": "code",
   "execution_count": null,
   "metadata": {},
   "outputs": [],
   "source": [
    "try:\n",
    "   ...\n",
    "except Exception as e:\n",
    "   ...\n",
    "   log('Reason:', e)       # Important!"
   ]
  },
  {
   "cell_type": "markdown",
   "metadata": {},
   "source": [
    "这个将会捕获除了 SystemExit 、 KeyboardInterrupt 和 GeneratorExit 之外的所有异常。\n",
    "如果你还想捕获这三个异常，将 Exception 改成 BaseException 即可。"
   ]
  },
  {
   "cell_type": "markdown",
   "metadata": {},
   "source": [
    "### 讨论\n"
   ]
  },
  {
   "cell_type": "markdown",
   "metadata": {},
   "source": [
    "捕获所有异常通常是由于程序员在某些复杂操作中并不能记住所有可能的异常。\n",
    "如果你不是很细心的人，这也是编写不易调试代码的一个简单方法。"
   ]
  },
  {
   "cell_type": "markdown",
   "metadata": {},
   "source": [
    "正因如此，如果你选择捕获所有异常，那么在某个地方（比如日志文件、打印异常到屏幕）打印确切原因就比较重要了。\n",
    "如果你没有这样做，有时候你看到异常打印时可能摸不着头脑，就像下面这样："
   ]
  },
  {
   "cell_type": "code",
   "execution_count": null,
   "metadata": {},
   "outputs": [],
   "source": [
    "def parse_int(s):\n",
    "    try:\n",
    "        n = int(v)\n",
    "    except Exception:\n",
    "        print(\"Couldn't parse\")"
   ]
  },
  {
   "cell_type": "markdown",
   "metadata": {},
   "source": [
    "试着运行这个函数，结果如下："
   ]
  },
  {
   "cell_type": "code",
   "execution_count": null,
   "metadata": {},
   "outputs": [],
   "source": [
    "parse_int('n/a')"
   ]
  },
  {
   "cell_type": "code",
   "execution_count": null,
   "metadata": {},
   "outputs": [],
   "source": [
    "parse_int('42')"
   ]
  },
  {
   "cell_type": "markdown",
   "metadata": {},
   "source": [
    "这时候你就会挠头想：“这咋回事啊？” 假如你像下面这样重写这个函数："
   ]
  },
  {
   "cell_type": "code",
   "execution_count": null,
   "metadata": {},
   "outputs": [],
   "source": [
    "def parse_int(s):\n",
    "    try:\n",
    "        n = int(v)\n",
    "    except Exception as e:\n",
    "        print(\"Couldn't parse\")\n",
    "        print('Reason:', e)"
   ]
  },
  {
   "cell_type": "markdown",
   "metadata": {},
   "source": [
    "这时候你能获取如下输出，指明了有个编程错误："
   ]
  },
  {
   "cell_type": "code",
   "execution_count": null,
   "metadata": {},
   "outputs": [],
   "source": [
    "parse_int('42')"
   ]
  },
  {
   "cell_type": "markdown",
   "metadata": {},
   "source": [
    "很明显，你应该尽可能将异常处理器定义的精准一些。\n",
    "不过，要是你必须捕获所有异常，确保打印正确的诊断信息或将异常传播出去，这样不会丢失掉异常。"
   ]
  },
  {
   "cell_type": "markdown",
   "metadata": {},
   "source": [
    "## 14.8 创建自定义异常\n"
   ]
  },
  {
   "cell_type": "markdown",
   "metadata": {},
   "source": [
    "### 问题\n"
   ]
  },
  {
   "cell_type": "markdown",
   "metadata": {},
   "source": [
    "在你构建的应用程序中，你想将底层异常包装成自定义的异常。"
   ]
  },
  {
   "cell_type": "markdown",
   "metadata": {},
   "source": [
    "### 解决方案\n"
   ]
  },
  {
   "cell_type": "markdown",
   "metadata": {},
   "source": [
    "创建新的异常很简单——定义新的类，让它继承自 Exception （或者是任何一个已存在的异常类型）。\n",
    "例如，如果你编写网络相关的程序，你可能会定义一些类似如下的异常："
   ]
  },
  {
   "cell_type": "code",
   "execution_count": null,
   "metadata": {},
   "outputs": [],
   "source": [
    "class NetworkError(Exception):\n",
    "    pass\n",
    "\n",
    "class HostnameError(NetworkError):\n",
    "    pass\n",
    "\n",
    "class TimeoutError(NetworkError):\n",
    "    pass\n",
    "\n",
    "class ProtocolError(NetworkError):\n",
    "    pass"
   ]
  },
  {
   "cell_type": "markdown",
   "metadata": {},
   "source": [
    "然后用户就可以像通常那样使用这些异常了，例如："
   ]
  },
  {
   "cell_type": "code",
   "execution_count": null,
   "metadata": {},
   "outputs": [],
   "source": [
    "try:\n",
    "    msg = s.recv()\n",
    "except TimeoutError as e:\n",
    "    ...\n",
    "except ProtocolError as e:\n",
    "    ..."
   ]
  },
  {
   "cell_type": "markdown",
   "metadata": {},
   "source": [
    "### 讨论\n"
   ]
  },
  {
   "cell_type": "markdown",
   "metadata": {},
   "source": [
    "自定义异常类应该总是继承自内置的 Exception 类，\n",
    "或者是继承自那些本身就是从 Exception 继承而来的类。\n",
    "尽管所有类同时也继承自 BaseException ，但你不应该使用这个基类来定义新的异常。\n",
    "BaseException 是为系统退出异常而保留的，比如 KeyboardInterrupt 或 SystemExit\n",
    "以及其他那些会给应用发送信号而退出的异常。\n",
    "因此，捕获这些异常本身没什么意义。\n",
    "这样的话，假如你继承 BaseException\n",
    "可能会导致你的自定义异常不会被捕获而直接发送信号退出程序运行。"
   ]
  },
  {
   "cell_type": "markdown",
   "metadata": {},
   "source": [
    "在程序中引入自定义异常可以使得你的代码更具可读性，能清晰显示谁应该阅读这个代码。\n",
    "还有一种设计是将自定义异常通过继承组合起来。在复杂应用程序中，\n",
    "使用基类来分组各种异常类也是很有用的。它可以让用户捕获一个范围很窄的特定异常，比如下面这样的："
   ]
  },
  {
   "cell_type": "code",
   "execution_count": null,
   "metadata": {},
   "outputs": [],
   "source": [
    "try:\n",
    "    s.send(msg)\n",
    "except ProtocolError:\n",
    "    ..."
   ]
  },
  {
   "cell_type": "markdown",
   "metadata": {},
   "source": [
    "你还能捕获更大范围的异常，就像下面这样："
   ]
  },
  {
   "cell_type": "code",
   "execution_count": null,
   "metadata": {},
   "outputs": [],
   "source": [
    "try:\n",
    "    s.send(msg)\n",
    "except NetworkError:\n",
    "    ..."
   ]
  },
  {
   "cell_type": "markdown",
   "metadata": {},
   "source": [
    "如果你想定义的新异常重写了 __init__() 方法，\n",
    "确保你使用所有参数调用 Exception.__init__() ，例如："
   ]
  },
  {
   "cell_type": "code",
   "execution_count": null,
   "metadata": {},
   "outputs": [],
   "source": [
    "class CustomError(Exception):\n",
    "    def __init__(self, message, status):\n",
    "        super().__init__(message, status)\n",
    "        self.message = message\n",
    "        self.status = status"
   ]
  },
  {
   "cell_type": "markdown",
   "metadata": {},
   "source": [
    "看上去有点奇怪，不过Exception的默认行为是接受所有传递的参数并将它们以元组形式存储在 .args 属性中.\n",
    "很多其他函数库和部分Python库默认所有异常都必须有 .args 属性，\n",
    "因此如果你忽略了这一步，你会发现有些时候你定义的新异常不会按照期望运行。\n",
    "为了演示 .args 的使用，考虑下下面这个使用内置的 RuntimeError` 异常的交互会话，\n",
    "注意看raise语句中使用的参数个数是怎样的："
   ]
  },
  {
   "cell_type": "code",
   "execution_count": null,
   "metadata": {},
   "outputs": [],
   "source": [
    "try:\n",
    "    raise RuntimeError('It failed')\n",
    "except RuntimeError as e:\n",
    "    print(e.args)"
   ]
  },
  {
   "cell_type": "code",
   "execution_count": null,
   "metadata": {},
   "outputs": [],
   "source": [
    "try:\n",
    "    raise RuntimeError('It failed', 42, 'spam')\n",
    "except RuntimeError as e:"
   ]
  },
  {
   "cell_type": "code",
   "execution_count": null,
   "metadata": {},
   "outputs": [],
   "source": [
    "    print(e.args)"
   ]
  },
  {
   "cell_type": "markdown",
   "metadata": {},
   "source": [
    "关于创建自定义异常的更多信息，请参考`Python官方文档 <https://docs.python.org/3/tutorial/errors.html>`_"
   ]
  },
  {
   "cell_type": "markdown",
   "metadata": {},
   "source": [
    "## 14.9 捕获异常后抛出另外的异常\n"
   ]
  },
  {
   "cell_type": "markdown",
   "metadata": {},
   "source": [
    "### 问题\n"
   ]
  },
  {
   "cell_type": "markdown",
   "metadata": {},
   "source": [
    "你想捕获一个异常后抛出另外一个不同的异常，同时还得在异常回溯中保留两个异常的信息。"
   ]
  },
  {
   "cell_type": "markdown",
   "metadata": {},
   "source": [
    "### 解决方案\n"
   ]
  },
  {
   "cell_type": "markdown",
   "metadata": {},
   "source": [
    "为了链接异常，使用 raise from 语句来代替简单的 raise 语句。\n",
    "它会让你同时保留两个异常的信息。例如："
   ]
  },
  {
   "cell_type": "code",
   "execution_count": null,
   "metadata": {},
   "outputs": [],
   "source": [
    "def example():\n",
    "    try:\n",
    "            int('N/A')\n",
    "    except ValueError as e:\n",
    "            raise RuntimeError('A parsing error occurred') from e\n",
    "example()"
   ]
  },
  {
   "cell_type": "markdown",
   "metadata": {},
   "source": [
    "上面的异常是下面的异常产生的直接原因："
   ]
  },
  {
   "cell_type": "markdown",
   "metadata": {},
   "source": [
    "在回溯中可以看到，两个异常都被捕获。\n",
    "要想捕获这样的异常，你可以使用一个简单的 except 语句。\n",
    "不过，你还可以通过查看异常对象的 __cause__ 属性来跟踪异常链。例如："
   ]
  },
  {
   "cell_type": "code",
   "execution_count": null,
   "metadata": {},
   "outputs": [],
   "source": [
    "try:\n",
    "    example()\n",
    "except RuntimeError as e:\n",
    "    print(\"It didn't work:\", e)\n",
    "\n",
    "    if e.__cause__:\n",
    "        print('Cause:', e.__cause__)"
   ]
  },
  {
   "cell_type": "markdown",
   "metadata": {},
   "source": [
    "当在 except 块中又有另外的异常被抛出时会导致一个隐藏的异常链的出现。例如："
   ]
  },
  {
   "cell_type": "code",
   "execution_count": null,
   "metadata": {},
   "outputs": [],
   "source": [
    "def example2():\n",
    "    try:\n",
    "            int('N/A')\n",
    "    except ValueError as e:\n",
    "            print(\"Couldn't parse:\", err)\n",
    "example2()"
   ]
  },
  {
   "cell_type": "markdown",
   "metadata": {},
   "source": [
    "在处理上述异常的时候，另外一个异常发生了："
   ]
  },
  {
   "cell_type": "markdown",
   "metadata": {},
   "source": [
    "这个例子中，你同时获得了两个异常的信息，但是对异常的解释不同。\n",
    "这时候，NameError 异常被作为程序最终异常被抛出，而不是位于解析异常的直接回应中。"
   ]
  },
  {
   "cell_type": "markdown",
   "metadata": {},
   "source": [
    "如果，你想忽略掉异常链，可使用 raise from None :"
   ]
  },
  {
   "cell_type": "code",
   "execution_count": null,
   "metadata": {},
   "outputs": [],
   "source": [
    "def example3():\n",
    "    try:\n",
    "            int('N/A')\n",
    "    except ValueError:\n",
    "            raise RuntimeError('A parsing error occurred') from None"
   ]
  },
  {
   "cell_type": "markdown",
   "metadata": {},
   "source": [
    "### 讨论\n"
   ]
  },
  {
   "cell_type": "markdown",
   "metadata": {},
   "source": [
    "在设计代码时，在另外一个 except 代码块中使用 raise 语句的时候你要特别小心了。\n",
    "大多数情况下，这种 raise 语句都应该被改成 raise from 语句。也就是说你应该使用下面这种形式："
   ]
  },
  {
   "cell_type": "code",
   "execution_count": null,
   "metadata": {},
   "outputs": [],
   "source": [
    "try:\n",
    "   ...\n",
    "except SomeException as e:\n",
    "   raise DifferentException() from e"
   ]
  },
  {
   "cell_type": "markdown",
   "metadata": {},
   "source": [
    "这样做的原因是你应该显示的将原因链接起来。\n",
    "也就是说，DifferentException 是直接从 SomeException 衍生而来。\n",
    "这种关系可以从回溯结果中看出来。"
   ]
  },
  {
   "cell_type": "markdown",
   "metadata": {},
   "source": [
    "如果你像下面这样写代码，你仍然会得到一个链接异常，\n",
    "不过这个并没有很清晰的说明这个异常链到底是内部异常还是某个未知的编程错误。"
   ]
  },
  {
   "cell_type": "code",
   "execution_count": null,
   "metadata": {},
   "outputs": [],
   "source": [
    "try:\n",
    "   ...\n",
    "except SomeException:\n",
    "   raise DifferentException()"
   ]
  },
  {
   "cell_type": "markdown",
   "metadata": {},
   "source": [
    "当你使用 raise from 语句的话，就很清楚的表明抛出的是第二个异常。"
   ]
  },
  {
   "cell_type": "markdown",
   "metadata": {},
   "source": [
    "最后一个例子中隐藏异常链信息。\n",
    "尽管隐藏异常链信息不利于回溯，同时它也丢失了很多有用的调试信息。\n",
    "不过万事皆平等，有时候只保留适当的信息也是很有用的。"
   ]
  },
  {
   "cell_type": "markdown",
   "metadata": {},
   "source": [
    "## 14.10 重新抛出被捕获的异常\n"
   ]
  },
  {
   "cell_type": "markdown",
   "metadata": {},
   "source": [
    "### 问题\n"
   ]
  },
  {
   "cell_type": "markdown",
   "metadata": {},
   "source": [
    "你在一个 except 块中捕获了一个异常，现在想重新抛出它。"
   ]
  },
  {
   "cell_type": "markdown",
   "metadata": {},
   "source": [
    "### 解决方案\n"
   ]
  },
  {
   "cell_type": "markdown",
   "metadata": {},
   "source": [
    "简单的使用一个单独的 rasie 语句即可，例如："
   ]
  },
  {
   "cell_type": "code",
   "execution_count": null,
   "metadata": {},
   "outputs": [],
   "source": [
    "def example():\n",
    "    try:\n",
    "            int('N/A')\n",
    "    except ValueError:\n",
    "            print(\"Didn't work\")\n",
    "            raise"
   ]
  },
  {
   "cell_type": "code",
   "execution_count": null,
   "metadata": {},
   "outputs": [],
   "source": [
    "example()"
   ]
  },
  {
   "cell_type": "markdown",
   "metadata": {},
   "source": [
    "### 讨论\n"
   ]
  },
  {
   "cell_type": "markdown",
   "metadata": {},
   "source": [
    "这个问题通常是当你需要在捕获异常后执行某个操作（比如记录日志、清理等），但是之后想将异常传播下去。\n",
    "一个很常见的用法是在捕获所有异常的处理器中："
   ]
  },
  {
   "cell_type": "code",
   "execution_count": null,
   "metadata": {},
   "outputs": [],
   "source": [
    "try:\n",
    "   ...\n",
    "except Exception as e:\n",
    "   # Process exception information in some way\n",
    "   ...\n",
    "\n",
    "   # Propagate the exception\n",
    "   raise"
   ]
  },
  {
   "cell_type": "markdown",
   "metadata": {},
   "source": [
    "## 14.11 输出警告信息\n"
   ]
  },
  {
   "cell_type": "markdown",
   "metadata": {},
   "source": [
    "### 问题\n"
   ]
  },
  {
   "cell_type": "markdown",
   "metadata": {},
   "source": [
    "你希望自己的程序能生成警告信息（比如废弃特性或使用问题）。"
   ]
  },
  {
   "cell_type": "markdown",
   "metadata": {},
   "source": [
    "### 解决方案\n"
   ]
  },
  {
   "cell_type": "markdown",
   "metadata": {},
   "source": [
    "要输出一个警告消息，可使用 warning.warn() 函数。例如："
   ]
  },
  {
   "cell_type": "code",
   "execution_count": null,
   "metadata": {},
   "outputs": [],
   "source": [
    "import warnings\n",
    "\n",
    "def func(x, y, logfile=None, debug=False):\n",
    "    if logfile is not None:\n",
    "         warnings.warn('logfile argument deprecated', DeprecationWarning)\n",
    "    ..."
   ]
  },
  {
   "cell_type": "markdown",
   "metadata": {},
   "source": [
    "warn() 的参数是一个警告消息和一个警告类，警告类有如下几种：UserWarning,  DeprecationWarning,\n",
    "SyntaxWarning, RuntimeWarning, ResourceWarning, 或 FutureWarning."
   ]
  },
  {
   "cell_type": "markdown",
   "metadata": {},
   "source": [
    "对警告的处理取决于你如何运行解释器以及一些其他配置。\n",
    "例如，如果你使用 -W all 选项去运行Python，你会得到如下的输出："
   ]
  },
  {
   "cell_type": "code",
   "execution_count": null,
   "metadata": {},
   "outputs": [],
   "source": [
    "bash % python3 -W all example.py\n",
    "example.py:5: DeprecationWarning: logfile argument is deprecated\n",
    "  warnings.warn('logfile argument is deprecated', DeprecationWarning)"
   ]
  },
  {
   "cell_type": "markdown",
   "metadata": {},
   "source": [
    "通常来讲，警告会输出到标准错误上。如果你想讲警告转换为异常，可以使用 -W error 选项："
   ]
  },
  {
   "cell_type": "code",
   "execution_count": null,
   "metadata": {},
   "outputs": [],
   "source": [
    "bash % python3 -W error example.py\n",
    "Traceback (most recent call last):\n",
    "  File \"example.py\", line 10, in <module>\n",
    "    func(2, 3, logfile='log.txt')\n",
    "  File \"example.py\", line 5, in func\n",
    "    warnings.warn('logfile argument is deprecated', DeprecationWarning)\n",
    "DeprecationWarning: logfile argument is deprecated\n",
    "bash %"
   ]
  },
  {
   "cell_type": "markdown",
   "metadata": {},
   "source": [
    "### 讨论\n"
   ]
  },
  {
   "cell_type": "markdown",
   "metadata": {},
   "source": [
    "在你维护软件，提示用户某些信息，但是又不需要将其上升为异常级别，那么输出警告信息就会很有用了。\n",
    "例如，假设你准备修改某个函数库或框架的功能，你可以先为你要更改的部分输出警告信息，同时向后兼容一段时间。\n",
    "你还可以警告用户一些对代码有问题的使用方式。"
   ]
  },
  {
   "cell_type": "markdown",
   "metadata": {},
   "source": [
    "作为另外一个内置函数库的警告使用例子，下面演示了一个没有关闭文件就销毁它时产生的警告消息："
   ]
  },
  {
   "cell_type": "code",
   "execution_count": null,
   "metadata": {},
   "outputs": [],
   "source": [
    "import warnings\n",
    "warnings.simplefilter('always')\n",
    "f = open('/etc/passwd')\n",
    "del f"
   ]
  },
  {
   "cell_type": "markdown",
   "metadata": {},
   "source": [
    "默认情况下，并不是所有警告消息都会出现。-W 选项能控制警告消息的输出。\n",
    "-W all 会输出所有警告消息，-W ignore 忽略掉所有警告，-W error 将警告转换成异常。\n",
    "另外一种选择，你还可以使用 warnings.simplefilter() 函数控制输出。\n",
    "always 参数会让所有警告消息出现，`ignore 忽略调所有的警告，error 将警告转换成异常。"
   ]
  },
  {
   "cell_type": "markdown",
   "metadata": {},
   "source": [
    "对于简单的生成警告消息的情况这些已经足够了。\n",
    "warnings 模块对过滤和警告消息处理提供了大量的更高级的配置选项。\n",
    "更多信息请参考 Python文档"
   ]
  },
  {
   "cell_type": "markdown",
   "metadata": {},
   "source": [
    "## 14.12 调试基本的程序崩溃错误\n"
   ]
  },
  {
   "cell_type": "markdown",
   "metadata": {},
   "source": [
    "### 问题\n"
   ]
  },
  {
   "cell_type": "markdown",
   "metadata": {},
   "source": [
    "你的程序崩溃后该怎样去调试它？"
   ]
  },
  {
   "cell_type": "markdown",
   "metadata": {},
   "source": [
    "### 解决方案\n"
   ]
  },
  {
   "cell_type": "markdown",
   "metadata": {},
   "source": [
    "如果你的程序因为某个异常而崩溃，运行 python3 -i someprogram.py 可执行简单的调试。\n",
    "-i 选项可让程序结束后打开一个交互式shell。\n",
    "然后你就能查看环境，例如，假设你有下面的代码："
   ]
  },
  {
   "cell_type": "code",
   "execution_count": null,
   "metadata": {},
   "outputs": [],
   "source": [
    "# sample.py\n",
    "\n",
    "def func(n):\n",
    "    return n + 10\n",
    "\n",
    "func('Hello')"
   ]
  },
  {
   "cell_type": "markdown",
   "metadata": {},
   "source": [
    "运行 python3 -i sample.py 会有类似如下的输出："
   ]
  },
  {
   "cell_type": "code",
   "execution_count": null,
   "metadata": {},
   "outputs": [],
   "source": [
    "func(10)"
   ]
  },
  {
   "cell_type": "markdown",
   "metadata": {},
   "source": [
    "如果你看不到上面这样的，可以在程序崩溃后打开Python的调试器。例如："
   ]
  },
  {
   "cell_type": "code",
   "execution_count": null,
   "metadata": {},
   "outputs": [],
   "source": [
    "import pdb\n",
    "pdb.pm()"
   ]
  },
  {
   "cell_type": "markdown",
   "metadata": {},
   "source": [
    "如果你的代码所在的环境很难获取交互shell（比如在某个服务器上面），\n",
    "通常可以捕获异常后自己打印跟踪信息。例如："
   ]
  },
  {
   "cell_type": "code",
   "execution_count": null,
   "metadata": {},
   "outputs": [],
   "source": [
    "import traceback\n",
    "import sys\n",
    "\n",
    "try:\n",
    "    func(arg)\n",
    "except:\n",
    "    print('**** AN ERROR OCCURRED ****')\n",
    "    traceback.print_exc(file=sys.stderr)"
   ]
  },
  {
   "cell_type": "markdown",
   "metadata": {},
   "source": [
    "要是你的程序没有崩溃，而只是产生了一些你看不懂的结果，\n",
    "你在感兴趣的地方插入一下 print() 语句也是个不错的选择。\n",
    "不过，要是你打算这样做，有一些小技巧可以帮助你。\n",
    "首先，traceback.print_stack() 函数会你程序运行到那个点的时候创建一个跟踪栈。例如："
   ]
  },
  {
   "cell_type": "code",
   "execution_count": null,
   "metadata": {},
   "outputs": [],
   "source": [
    "def sample(n):\n",
    "    if n > 0:\n",
    "            sample(n-1)\n",
    "    else:\n",
    "            traceback.print_stack(file=sys.stderr)\n",
    "sample(5)"
   ]
  },
  {
   "cell_type": "markdown",
   "metadata": {},
   "source": [
    "另外，你还可以像下面这样使用 pdb.set_trace() 在任何地方手动的启动调试器："
   ]
  },
  {
   "cell_type": "code",
   "execution_count": null,
   "metadata": {},
   "outputs": [],
   "source": [
    "import pdb\n",
    "\n",
    "def func(arg):\n",
    "    ...\n",
    "    pdb.set_trace()\n",
    "    ..."
   ]
  },
  {
   "cell_type": "markdown",
   "metadata": {},
   "source": [
    "当程序比较大而你想调试控制流程以及函数参数的时候这个就比较有用了。\n",
    "例如，一旦调试器开始运行，你就能够使用 print 来观测变量值或敲击某个命令比如 w 来获取追踪信息。"
   ]
  },
  {
   "cell_type": "markdown",
   "metadata": {},
   "source": [
    "### 讨论\n"
   ]
  },
  {
   "cell_type": "markdown",
   "metadata": {},
   "source": [
    "不要将调试弄的过于复杂化。一些简单的错误只需要观察程序堆栈信息就能知道了，\n",
    "实际的错误一般是堆栈的最后一行。\n",
    "你在开发的时候，也可以在你需要调试的地方插入一下 print()\n",
    "函数来诊断信息（只需要最后发布的时候删除这些打印语句即可）。"
   ]
  },
  {
   "cell_type": "markdown",
   "metadata": {},
   "source": [
    "调试器的一个常见用法是观测某个已经崩溃的函数中的变量。\n",
    "知道怎样在函数崩溃后进入调试器是一个很有用的技能。"
   ]
  },
  {
   "cell_type": "markdown",
   "metadata": {},
   "source": [
    "当你想解剖一个非常复杂的程序，底层的控制逻辑你不是很清楚的时候，\n",
    "插入 pdb.set_trace() 这样的语句就很有用了。"
   ]
  },
  {
   "cell_type": "markdown",
   "metadata": {},
   "source": [
    "实际上，程序会一直运行到碰到 set_trace() 语句位置，然后立马进入调试器。\n",
    "然后你就可以做更多的事了。"
   ]
  },
  {
   "cell_type": "markdown",
   "metadata": {},
   "source": [
    "如果你使用IDE来做Python开发，通常IDE都会提供自己的调试器来替代pdb。\n",
    "更多这方面的信息可以参考你使用的IDE手册。"
   ]
  },
  {
   "cell_type": "markdown",
   "metadata": {},
   "source": [
    "## 14.13 给你的程序做性能测试\n"
   ]
  },
  {
   "cell_type": "markdown",
   "metadata": {},
   "source": [
    "### 问题\n"
   ]
  },
  {
   "cell_type": "markdown",
   "metadata": {},
   "source": [
    "你想测试你的程序运行所花费的时间并做性能测试。"
   ]
  },
  {
   "cell_type": "markdown",
   "metadata": {},
   "source": [
    "### 解决方案\n"
   ]
  },
  {
   "cell_type": "markdown",
   "metadata": {},
   "source": [
    "如果你只是简单的想测试下你的程序整体花费的时间，\n",
    "通常使用Unix时间函数就行了，比如："
   ]
  },
  {
   "cell_type": "code",
   "execution_count": null,
   "metadata": {},
   "outputs": [],
   "source": [
    "bash % time python3 someprogram.py\n",
    "real 0m13.937s\n",
    "user 0m12.162s\n",
    "sys  0m0.098s\n",
    "bash %"
   ]
  },
  {
   "cell_type": "markdown",
   "metadata": {},
   "source": [
    "如果你还需要一个程序各个细节的详细报告，可以使用 cProfile 模块："
   ]
  },
  {
   "cell_type": "code",
   "execution_count": null,
   "metadata": {},
   "outputs": [],
   "source": [
    "bash % python3 -m cProfile someprogram.py\n",
    "         859647 function calls in 16.016 CPU seconds\n",
    "\n",
    "   Ordered by: standard name\n",
    "\n",
    "   ncalls  tottime  percall  cumtime  percall filename:lineno(function)\n",
    "   263169    0.080    0.000    0.080    0.000 someprogram.py:16(frange)\n",
    "      513    0.001    0.000    0.002    0.000 someprogram.py:30(generate_mandel)\n",
    "   262656    0.194    0.000   15.295    0.000 someprogram.py:32(<genexpr>)\n",
    "        1    0.036    0.036   16.077   16.077 someprogram.py:4(<module>)\n",
    "   262144   15.021    0.000   15.021    0.000 someprogram.py:4(in_mandelbrot)\n",
    "        1    0.000    0.000    0.000    0.000 os.py:746(urandom)\n",
    "        1    0.000    0.000    0.000    0.000 png.py:1056(_readable)\n",
    "        1    0.000    0.000    0.000    0.000 png.py:1073(Reader)\n",
    "        1    0.227    0.227    0.438    0.438 png.py:163(<module>)\n",
    "      512    0.010    0.000    0.010    0.000 png.py:200(group)\n",
    "    ...\n",
    "bash %"
   ]
  },
  {
   "cell_type": "markdown",
   "metadata": {},
   "source": [
    "不过通常情况是介于这两个极端之间。比如你已经知道代码运行时在少数几个函数中花费了绝大部分时间。\n",
    "对于这些函数的性能测试，可以使用一个简单的装饰器："
   ]
  },
  {
   "cell_type": "code",
   "execution_count": null,
   "metadata": {},
   "outputs": [],
   "source": [
    "# timethis.py\n",
    "\n",
    "import time\n",
    "from functools import wraps\n",
    "\n",
    "def timethis(func):\n",
    "    @wraps(func)\n",
    "    def wrapper(*args, **kwargs):\n",
    "        start = time.perf_counter()\n",
    "        r = func(*args, **kwargs)\n",
    "        end = time.perf_counter()\n",
    "        print('{}.{} : {}'.format(func.__module__, func.__name__, end - start))\n",
    "        return r\n",
    "    return wrapper"
   ]
  },
  {
   "cell_type": "markdown",
   "metadata": {},
   "source": [
    "要使用这个装饰器，只需要将其放置在你要进行性能测试的函数定义前即可，比如："
   ]
  },
  {
   "cell_type": "code",
   "execution_count": null,
   "metadata": {},
   "outputs": [],
   "source": [
    "@timethis\n",
    "def countdown(n):\n",
    "    while n > 0:\n",
    "            n -= 1\n",
    "countdown(10000000)"
   ]
  },
  {
   "cell_type": "markdown",
   "metadata": {},
   "source": [
    "要测试某个代码块运行时间，你可以定义一个上下文管理器，例如："
   ]
  },
  {
   "cell_type": "code",
   "execution_count": null,
   "metadata": {},
   "outputs": [],
   "source": [
    "from contextlib import contextmanager\n",
    "\n",
    "@contextmanager\n",
    "def timeblock(label):\n",
    "    start = time.perf_counter()\n",
    "    try:\n",
    "        yield\n",
    "    finally:\n",
    "        end = time.perf_counter()\n",
    "        print('{} : {}'.format(label, end - start))"
   ]
  },
  {
   "cell_type": "markdown",
   "metadata": {},
   "source": [
    "下面是使用这个上下文管理器的例子："
   ]
  },
  {
   "cell_type": "code",
   "execution_count": null,
   "metadata": {},
   "outputs": [],
   "source": [
    "with timeblock('counting'):\n",
    "    n = 10000000\n",
    "    while n > 0:\n",
    "            n -= 1"
   ]
  },
  {
   "cell_type": "markdown",
   "metadata": {},
   "source": [
    "对于测试很小的代码片段运行性能，使用 timeit 模块会很方便，例如："
   ]
  },
  {
   "cell_type": "code",
   "execution_count": null,
   "metadata": {},
   "outputs": [],
   "source": [
    "from timeit import timeit\n",
    "timeit('math.sqrt(2)', 'import math')"
   ]
  },
  {
   "cell_type": "code",
   "execution_count": null,
   "metadata": {},
   "outputs": [],
   "source": [
    "timeit('sqrt(2)', 'from math import sqrt')"
   ]
  },
  {
   "cell_type": "markdown",
   "metadata": {},
   "source": [
    "timeit 会执行第一个参数中语句100万次并计算运行时间。\n",
    "第二个参数是运行测试之前配置环境。如果你想改变循环执行次数，\n",
    "可以像下面这样设置 number 参数的值："
   ]
  },
  {
   "cell_type": "code",
   "execution_count": null,
   "metadata": {},
   "outputs": [],
   "source": [
    "timeit('math.sqrt(2)', 'import math', number=10000000)"
   ]
  },
  {
   "cell_type": "code",
   "execution_count": null,
   "metadata": {},
   "outputs": [],
   "source": [
    "timeit('sqrt(2)', 'from math import sqrt', number=10000000)"
   ]
  },
  {
   "cell_type": "markdown",
   "metadata": {},
   "source": [
    "### 讨论\n"
   ]
  },
  {
   "cell_type": "markdown",
   "metadata": {},
   "source": [
    "当执行性能测试的时候，需要注意的是你获取的结果都是近似值。\n",
    "time.perf_counter() 函数会在给定平台上获取最高精度的计时值。\n",
    "不过，它仍然还是基于时钟时间，很多因素会影响到它的精确度，比如机器负载。\n",
    "如果你对于执行时间更感兴趣，使用 time.process_time() 来代替它。例如："
   ]
  },
  {
   "cell_type": "code",
   "execution_count": null,
   "metadata": {},
   "outputs": [],
   "source": [
    "from functools import wraps\n",
    "def timethis(func):\n",
    "    @wraps(func)\n",
    "    def wrapper(*args, **kwargs):\n",
    "        start = time.process_time()\n",
    "        r = func(*args, **kwargs)\n",
    "        end = time.process_time()\n",
    "        print('{}.{} : {}'.format(func.__module__, func.__name__, end - start))\n",
    "        return r\n",
    "    return wrapper"
   ]
  },
  {
   "cell_type": "markdown",
   "metadata": {},
   "source": [
    "最后，如果你想进行更深入的性能分析，那么你需要详细阅读 time 、timeit 和其他相关模块的文档。\n",
    "这样你可以理解和平台相关的差异以及一些其他陷阱。\n",
    "还可以参考13.13小节中相关的一个创建计时器类的例子。"
   ]
  },
  {
   "cell_type": "markdown",
   "metadata": {},
   "source": [
    "## 14.14 加速程序运行\n"
   ]
  },
  {
   "cell_type": "markdown",
   "metadata": {},
   "source": [
    "### 问题\n"
   ]
  },
  {
   "cell_type": "markdown",
   "metadata": {},
   "source": [
    "你的程序运行太慢，你想在不使用复杂技术比如C扩展或JIT编译器的情况下加快程序运行速度。"
   ]
  },
  {
   "cell_type": "markdown",
   "metadata": {},
   "source": [
    "### 解决方案\n"
   ]
  },
  {
   "cell_type": "markdown",
   "metadata": {},
   "source": [
    "关于程序优化的第一个准则是“不要优化”，第二个准则是“不要优化那些无关紧要的部分”。\n",
    "如果你的程序运行缓慢，首先你得使用14.13小节的技术先对它进行性能测试找到问题所在。"
   ]
  },
  {
   "cell_type": "markdown",
   "metadata": {},
   "source": [
    "通常来讲你会发现你得程序在少数几个热点地方花费了大量时间，\n",
    "比如内存的数据处理循环。一旦你定位到这些点，你就可以使用下面这些实用技术来加速程序运行。"
   ]
  },
  {
   "cell_type": "markdown",
   "metadata": {},
   "source": [
    "使用函数"
   ]
  },
  {
   "cell_type": "markdown",
   "metadata": {},
   "source": [
    "很多程序员刚开始会使用Python语言写一些简单脚本。\n",
    "当编写脚本的时候，通常习惯了写毫无结构的代码，比如："
   ]
  },
  {
   "cell_type": "code",
   "execution_count": null,
   "metadata": {},
   "outputs": [],
   "source": [
    "# somescript.py\n",
    "\n",
    "import sys\n",
    "import csv\n",
    "\n",
    "with open(sys.argv[1]) as f:\n",
    "     for row in csv.reader(f):\n",
    "\n",
    "         # Some kind of processing\n",
    "         pass"
   ]
  },
  {
   "cell_type": "markdown",
   "metadata": {},
   "source": [
    "很少有人知道，像这样定义在全局范围的代码运行起来要比定义在函数中运行慢的多。\n",
    "这种速度差异是由于局部变量和全局变量的实现方式（使用局部变量要更快些）。\n",
    "因此，如果你想让程序运行更快些，只需要将脚本语句放入函数中即可："
   ]
  },
  {
   "cell_type": "code",
   "execution_count": null,
   "metadata": {},
   "outputs": [],
   "source": [
    "# somescript.py\n",
    "import sys\n",
    "import csv\n",
    "\n",
    "def main(filename):\n",
    "    with open(filename) as f:\n",
    "         for row in csv.reader(f):\n",
    "             # Some kind of processing\n",
    "             pass\n",
    "\n",
    "main(sys.argv[1])"
   ]
  },
  {
   "cell_type": "markdown",
   "metadata": {},
   "source": [
    "速度的差异取决于实际运行的程序，不过根据经验，使用函数带来15-30%的性能提升是很常见的。"
   ]
  },
  {
   "cell_type": "markdown",
   "metadata": {},
   "source": [
    "尽可能去掉属性访问"
   ]
  },
  {
   "cell_type": "markdown",
   "metadata": {},
   "source": [
    "每一次使用点(.)操作符来访问属性的时候会带来额外的开销。\n",
    "它会触发特定的方法，比如 __getattribute__() 和 __getattr__() ，这些方法会进行字典操作操作。"
   ]
  },
  {
   "cell_type": "markdown",
   "metadata": {},
   "source": [
    "通常你可以使用 from module import name 这样的导入形式，以及使用绑定的方法。\n",
    "假设你有如下的代码片段："
   ]
  },
  {
   "cell_type": "code",
   "execution_count": null,
   "metadata": {},
   "outputs": [],
   "source": [
    "import math\n",
    "\n",
    "def compute_roots(nums):\n",
    "    result = []\n",
    "    for n in nums:\n",
    "        result.append(math.sqrt(n))\n",
    "    return result\n",
    "\n",
    "# Test\n",
    "nums = range(1000000)\n",
    "for n in range(100):\n",
    "    r = compute_roots(nums)"
   ]
  },
  {
   "cell_type": "markdown",
   "metadata": {},
   "source": [
    "在我们机器上面测试的时候，这个程序花费了大概40秒。现在我们修改 compute_roots() 函数如下："
   ]
  },
  {
   "cell_type": "code",
   "execution_count": null,
   "metadata": {},
   "outputs": [],
   "source": [
    "from math import sqrt\n",
    "\n",
    "def compute_roots(nums):\n",
    "\n",
    "    result = []\n",
    "    result_append = result.append\n",
    "    for n in nums:\n",
    "        result_append(sqrt(n))\n",
    "    return result"
   ]
  },
  {
   "cell_type": "markdown",
   "metadata": {},
   "source": [
    "修改后的版本运行时间大概是29秒。唯一不同之处就是消除了属性访问。\n",
    "用 sqrt() 代替了 math.sqrt() 。\n",
    "The result.append() 方法被赋给一个局部变量 result_append ，然后在内部循环中使用它。"
   ]
  },
  {
   "cell_type": "markdown",
   "metadata": {},
   "source": [
    "不过，这些改变只有在大量重复代码中才有意义，比如循环。\n",
    "因此，这些优化也只是在某些特定地方才应该被使用。"
   ]
  },
  {
   "cell_type": "markdown",
   "metadata": {},
   "source": [
    "理解局部变量"
   ]
  },
  {
   "cell_type": "markdown",
   "metadata": {},
   "source": [
    "之前提过，局部变量会比全局变量运行速度快。\n",
    "对于频繁访问的名称，通过将这些名称变成局部变量可以加速程序运行。\n",
    "例如，看下之前对于 compute_roots() 函数进行修改后的版本："
   ]
  },
  {
   "cell_type": "code",
   "execution_count": null,
   "metadata": {},
   "outputs": [],
   "source": [
    "import math\n",
    "\n",
    "def compute_roots(nums):\n",
    "    sqrt = math.sqrt\n",
    "    result = []\n",
    "    result_append = result.append\n",
    "    for n in nums:\n",
    "        result_append(sqrt(n))\n",
    "    return result"
   ]
  },
  {
   "cell_type": "markdown",
   "metadata": {},
   "source": [
    "在这个版本中，sqrt 从 match 模块被拿出并放入了一个局部变量中。\n",
    "如果你运行这个代码，大概花费25秒（对于之前29秒又是一个改进）。\n",
    "这个额外的加速原因是因为对于局部变量 sqrt 的查找要快于全局变量 sqrt"
   ]
  },
  {
   "cell_type": "markdown",
   "metadata": {},
   "source": [
    "对于类中的属性访问也同样适用于这个原理。\n",
    "通常来讲，查找某个值比如 self.name 会比访问一个局部变量要慢一些。\n",
    "在内部循环中，可以将某个需要频繁访问的属性放入到一个局部变量中。例如："
   ]
  },
  {
   "cell_type": "code",
   "execution_count": null,
   "metadata": {},
   "outputs": [],
   "source": [
    "# Slower\n",
    "class SomeClass:\n",
    "    ...\n",
    "    def method(self):\n",
    "         for x in s:\n",
    "             op(self.value)\n",
    "\n",
    "# Faster\n",
    "class SomeClass:\n",
    "\n",
    "    ...\n",
    "    def method(self):\n",
    "         value = self.value\n",
    "         for x in s:\n",
    "             op(value)"
   ]
  },
  {
   "cell_type": "markdown",
   "metadata": {},
   "source": [
    "避免不必要的抽象"
   ]
  },
  {
   "cell_type": "markdown",
   "metadata": {},
   "source": [
    "任何时候当你使用额外的处理层（比如装饰器、属性访问、描述器）去包装你的代码时，都会让程序运行变慢。\n",
    "比如看下如下的这个类："
   ]
  },
  {
   "cell_type": "code",
   "execution_count": null,
   "metadata": {},
   "outputs": [],
   "source": [
    "class A:\n",
    "    def __init__(self, x, y):\n",
    "        self.x = x\n",
    "        self.y = y\n",
    "    @property\n",
    "    def y(self):\n",
    "        return self._y\n",
    "    @y.setter\n",
    "    def y(self, value):\n",
    "        self._y = value"
   ]
  },
  {
   "cell_type": "markdown",
   "metadata": {},
   "source": [
    "现在进行一个简单测试："
   ]
  },
  {
   "cell_type": "code",
   "execution_count": null,
   "metadata": {},
   "outputs": [],
   "source": [
    "from timeit import timeit\n",
    "a = A(1,2)\n",
    "timeit('a.x', 'from __main__ import a')"
   ]
  },
  {
   "cell_type": "code",
   "execution_count": null,
   "metadata": {},
   "outputs": [],
   "source": [
    "timeit('a.y', 'from __main__ import a')"
   ]
  },
  {
   "cell_type": "markdown",
   "metadata": {},
   "source": [
    "可以看到，访问属性y相比属性x而言慢的不止一点点，大概慢了4.5倍。\n",
    "如果你在意性能的话，那么就需要重新审视下对于y的属性访问器的定义是否真的有必要了。\n",
    "如果没有必要，就使用简单属性吧。\n",
    "如果仅仅是因为其他编程语言需要使用getter/setter函数就去修改代码风格，这个真的没有必要。"
   ]
  },
  {
   "cell_type": "markdown",
   "metadata": {},
   "source": [
    "使用内置的容器"
   ]
  },
  {
   "cell_type": "markdown",
   "metadata": {},
   "source": [
    "内置的数据类型比如字符串、元组、列表、集合和字典都是使用C来实现的，运行起来非常快。\n",
    "如果你想自己实现新的数据结构（比如链接列表、平衡树等），\n",
    "那么要想在性能上达到内置的速度几乎不可能，因此，还是乖乖的使用内置的吧。"
   ]
  },
  {
   "cell_type": "markdown",
   "metadata": {},
   "source": [
    "避免创建不必要的数据结构或复制"
   ]
  },
  {
   "cell_type": "markdown",
   "metadata": {},
   "source": [
    "有时候程序员想显摆下，构造一些并没有必要的数据结构。例如，有人可能会像下面这样写："
   ]
  },
  {
   "cell_type": "code",
   "execution_count": null,
   "metadata": {},
   "outputs": [],
   "source": [
    "values = [x for x in sequence]\n",
    "squares = [x*x for x in values]"
   ]
  },
  {
   "cell_type": "markdown",
   "metadata": {},
   "source": [
    "也许这里的想法是首先将一些值收集到一个列表中，然后使用列表推导来执行操作。\n",
    "不过，第一个列表完全没有必要，可以简单的像下面这样写："
   ]
  },
  {
   "cell_type": "code",
   "execution_count": null,
   "metadata": {},
   "outputs": [],
   "source": [
    "squares = [x*x for x in sequence]"
   ]
  },
  {
   "cell_type": "markdown",
   "metadata": {},
   "source": [
    "与此相关，还要注意下那些对Python的共享数据机制过于偏执的程序所写的代码。\n",
    "有些人并没有很好的理解或信任Python的内存模型，滥用 copy.deepcopy() 之类的函数。\n",
    "通常在这些代码中是可以去掉复制操作的。"
   ]
  },
  {
   "cell_type": "markdown",
   "metadata": {},
   "source": [
    "### 讨论\n"
   ]
  },
  {
   "cell_type": "markdown",
   "metadata": {},
   "source": [
    "在优化之前，有必要先研究下使用的算法。\n",
    "选择一个复杂度为 O(n log n) 的算法要比你去调整一个复杂度为 O(n**2) 的算法所带来的性能提升要大得多。"
   ]
  },
  {
   "cell_type": "markdown",
   "metadata": {},
   "source": [
    "如果你觉得你还是得进行优化，那么请从整体考虑。\n",
    "作为一般准则，不要对程序的每一个部分都去优化,因为这些修改会导致代码难以阅读和理解。\n",
    "你应该专注于优化产生性能瓶颈的地方，比如内部循环。"
   ]
  },
  {
   "cell_type": "markdown",
   "metadata": {},
   "source": [
    "你还要注意微小优化的结果。例如考虑下面创建一个字典的两种方式："
   ]
  },
  {
   "cell_type": "code",
   "execution_count": null,
   "metadata": {},
   "outputs": [],
   "source": [
    "a = {\n",
    "    'name' : 'AAPL',\n",
    "    'shares' : 100,\n",
    "    'price' : 534.22\n",
    "}\n",
    "\n",
    "b = dict(name='AAPL', shares=100, price=534.22)"
   ]
  },
  {
   "cell_type": "markdown",
   "metadata": {},
   "source": [
    "后面一种写法更简洁一些（你不需要在关键字上输入引号）。\n",
    "不过，如果你将这两个代码片段进行性能测试对比时，会发现使用 dict() 的方式会慢了3倍。\n",
    "看到这个，你是不是有冲动把所有使用 dict() 的代码都替换成第一种。\n",
    "不够，聪明的程序员只会关注他应该关注的地方，比如内部循环。在其他地方，这点性能损失没有什么影响。"
   ]
  },
  {
   "cell_type": "markdown",
   "metadata": {},
   "source": [
    "如果你的优化要求比较高，本节的这些简单技术满足不了，那么你可以研究下基于即时编译（JIT）技术的一些工具。\n",
    "例如，PyPy工程是Python解释器的另外一种实现，它会分析你的程序运行并对那些频繁执行的部分生成本机机器码。\n",
    "它有时候能极大的提升性能，通常可以接近C代码的速度。\n",
    "不过可惜的是，到写这本书位置，PyPy还不能完全支持Python3.\n",
    "因此，这个是你将来需要去研究的。你还可以考虑下Numba工程，\n",
    "Numba是一个在你使用装饰器来选择Python函数进行优化时的动态编译器。\n",
    "这些函数会使用LLVM被编译成本地机器码。它同样可以极大的提升性能。\n",
    "但是，跟PyPy一样，它对于Python 3的支持现在还停留在实验阶段。"
   ]
  },
  {
   "cell_type": "markdown",
   "metadata": {},
   "source": [
    "最后我引用John Ousterhout说过的话作为结尾：“最好的性能优化是从不工作到工作状态的迁移”。\n",
    "直到你真的需要优化的时候再去考虑它。确保你程序正确的运行通常比让它运行更快要更重要一些（至少开始是这样的）."
   ]
  }
 ],
 "metadata": {
  "kernelspec": {
   "display_name": "Python 3",
   "language": "python",
   "name": "python3"
  },
  "language_info": {
   "codemirror_mode": {
    "name": "ipython",
    "version": 3
   },
   "file_extension": ".py",
   "mimetype": "text/x-python",
   "name": "python",
   "nbconvert_exporter": "python",
   "pygments_lexer": "ipython3",
   "version": "3.7.4"
  },
  "toc": {
   "base_numbering": 1,
   "nav_menu": {},
   "number_sections": true,
   "sideBar": true,
   "skip_h1_title": true,
   "title_cell": "Table of Contents",
   "title_sidebar": "Contents",
   "toc_cell": false,
   "toc_position": {},
   "toc_section_display": true,
   "toc_window_display": true
  },
  "varInspector": {
   "cols": {
    "lenName": 16,
    "lenType": 16,
    "lenVar": 40
   },
   "kernels_config": {
    "python": {
     "delete_cmd_postfix": "",
     "delete_cmd_prefix": "del ",
     "library": "var_list.py",
     "varRefreshCmd": "print(var_dic_list())"
    },
    "r": {
     "delete_cmd_postfix": ") ",
     "delete_cmd_prefix": "rm(",
     "library": "var_list.r",
     "varRefreshCmd": "cat(var_dic_list()) "
    }
   },
   "types_to_exclude": [
    "module",
    "function",
    "builtin_function_or_method",
    "instance",
    "_Feature"
   ],
   "window_display": false
  }
 },
 "nbformat": 4,
 "nbformat_minor": 2
}
