{
 "cells": [
  {
   "cell_type": "code",
   "execution_count": 1,
   "metadata": {
    "ExecuteTime": {
     "end_time": "2020-01-21T08:39:02.207021Z",
     "start_time": "2020-01-21T08:39:02.009239Z"
    }
   },
   "outputs": [],
   "source": [
    "import pylab as pl\n",
    "import numpy as np\n",
    "\n",
    "import matplotlib as mpl\n",
    "mpl.rcParams['font.sans-serif'] = ['SimHei']"
   ]
  },
  {
   "cell_type": "markdown",
   "metadata": {},
   "source": [
    "### 拟合与优化-optimize\n",
    "#### 非线性方程组求解"
   ]
  },
  {
   "cell_type": "code",
   "execution_count": 2,
   "metadata": {
    "ExecuteTime": {
     "end_time": "2020-01-21T08:40:31.163501Z",
     "start_time": "2020-01-21T08:40:30.897043Z"
    }
   },
   "outputs": [
    {
     "data": {
      "text/plain": [
       "(array([-0.70622057, -0.6       , -2.5       ]),\n",
       " [0.0, -9.126033262418787e-14, 5.329070518200751e-15])"
      ]
     },
     "execution_count": 2,
     "metadata": {},
     "output_type": "execute_result"
    }
   ],
   "source": [
    "from scipy import optimize\n",
    "\n",
    "def f(x):\n",
    "    x0, x1, x2 = x.tolist()\n",
    "    return [\n",
    "        5*x1+3,\n",
    "        4*x0*x0 - 2*np.sin(x1*x2),\n",
    "        x1*x2 - 1.5]\n",
    "\n",
    "result = optimize.fsolve(f, [1,1,1])\n",
    "#Find the roots of a function.\n",
    "result, f(result)"
   ]
  },
  {
   "cell_type": "code",
   "execution_count": null,
   "metadata": {},
   "outputs": [],
   "source": [
    "def j(x): \n",
    "    x0, x1, x2 = x.tolist()\n",
    "    return [[0, 5, 0],\n",
    "            [8 * x0, -2 * x2 * np.cos(x1 * x2), -2 * x1 * np.cos(x1 * x2)],\n",
    "            [0, x2, x1]]\n",
    "result = optimize.fsolve(f, [1, 1, 1], fprime=j)"
   ]
  },
  {
   "cell_type": "markdown",
   "metadata": {},
   "source": [
    "#### 最小二乘拟合\n",
    "$r = arg\\min(sum(func(y)^2, axis=0)$"
   ]
  },
  {
   "cell_type": "code",
   "execution_count": 4,
   "metadata": {
    "ExecuteTime": {
     "end_time": "2020-01-21T08:49:07.044634Z",
     "start_time": "2020-01-21T08:49:07.038615Z"
    }
   },
   "outputs": [
    {
     "name": "stdout",
     "output_type": "stream",
     "text": [
      "k = 0.6134953491930442 b = 1.794092543259387\n"
     ]
    }
   ],
   "source": [
    "X = np.array([ 8.19,  2.72,  6.39,  8.71,  4.7 ,  2.66,  3.78])\n",
    "Y = np.array([ 7.01,  2.78,  6.47,  6.71,  4.1 ,  4.23,  4.05])\n",
    "\n",
    "def residuals(p, y, x):\n",
    "    \"计算以p为参数的直线和原始数据之间的误差\"\n",
    "    k, b = p\n",
    "    return Y - (k*X + b)\n",
    "\n",
    "# leastsq使得residuals()的输出数组的平方和最小，参数的初始值为[1,0]\n",
    "r = optimize.leastsq(residuals, [1, 0], args=(Y, X))\n",
    "k, b = r[0]\n",
    "print (\"k =\",k, \"b =\",b)"
   ]
  },
  {
   "cell_type": "markdown",
   "metadata": {},
   "source": [
    "#### 计算函数局域最小值"
   ]
  },
  {
   "cell_type": "code",
   "execution_count": null,
   "metadata": {},
   "outputs": [],
   "source": [
    "def target_function(x, y):\n",
    "    return (1 - x)**2 + 100 * (y - x**2)**2\n",
    "\n",
    "\n",
    "class TargetFunction(object):\n",
    "    def __init__(self):\n",
    "        self.f_points = []\n",
    "        self.fprime_points = []\n",
    "        self.fhess_points = []\n",
    "\n",
    "    def f(self, p):\n",
    "        x, y = p.tolist()\n",
    "        z = target_function(x, y)\n",
    "        self.f_points.append((x, y))\n",
    "        return z\n",
    "\n",
    "    def fprime(self, p):\n",
    "        x, y = p.tolist()\n",
    "        self.fprime_points.append((x, y))\n",
    "        dx = -2 + 2 * x - 400 * x * (y - x**2)\n",
    "        dy = 200 * y - 200 * x**2\n",
    "        return np.array([dx, dy])\n",
    "\n",
    "    def fhess(self, p):\n",
    "        x, y = p.tolist()\n",
    "        self.fhess_points.append((x, y))\n",
    "        return np.array([[2 * (600 * x**2 - 200 * y + 1), -400 * x],\n",
    "                         [-400 * x, 200]])\n",
    "\n",
    "\n",
    "def fmin_demo(method):\n",
    "    target = TargetFunction()\n",
    "    init_point = (-1, -1)\n",
    "    res = optimize.minimize(\n",
    "        target.f,\n",
    "        init_point,\n",
    "        method=method,\n",
    "        jac=target.fprime,\n",
    "        hess=target.fhess)\n",
    "    return res, [\n",
    "        np.array(points) for points in (target.f_points, target.fprime_points,\n",
    "                                        target.fhess_points)\n",
    "    ]"
   ]
  },
  {
   "cell_type": "code",
   "execution_count": 6,
   "metadata": {
    "ExecuteTime": {
     "end_time": "2020-01-21T08:57:57.320585Z",
     "start_time": "2020-01-21T08:57:57.277661Z"
    }
   },
   "outputs": [
    {
     "name": "stdout",
     "output_type": "stream",
     "text": [
      "[10.25218676 -0.34239909  2.63341581]\n"
     ]
    }
   ],
   "source": [
    "# 计算全域最小值\n",
    "def func(x, p):\n",
    "    A, k, theta = p\n",
    "    return A*np.sin(2*np.pi*k*x+theta)\n",
    "\n",
    "def func_error(p, y, x):\n",
    "    return np.sum((y - func(x, p))**2)   \n",
    "\n",
    "x = np.linspace(0, 2*np.pi, 100)\n",
    "A, k, theta = 10, 0.34, np.pi/6 \n",
    "y0 = func(x, [A, k, theta])\n",
    "np.random.seed(0)\n",
    "y1 = y0 + 2 * np.random.randn(len(x))\n",
    "\n",
    "result = optimize.basinhopping(func_error, (1, 1, 1),\n",
    "                      niter = 10,\n",
    "                      minimizer_kwargs={\"method\":\"L-BFGS-B\",\n",
    "                                        \"args\":(y1, x)})\n",
    "print (result.x)"
   ]
  },
  {
   "cell_type": "markdown",
   "metadata": {},
   "source": [
    "### 线性代数-linalg\n",
    "\n",
    "#### 解线性方程组"
   ]
  },
  {
   "cell_type": "code",
   "execution_count": 7,
   "metadata": {
    "ExecuteTime": {
     "end_time": "2020-01-21T09:02:41.188155Z",
     "start_time": "2020-01-21T09:02:41.006005Z"
    }
   },
   "outputs": [
    {
     "name": "stdout",
     "output_type": "stream",
     "text": [
      "True\n"
     ]
    }
   ],
   "source": [
    "from scipy import linalg\n",
    "\n",
    "m, n = 500, 50\n",
    "A = np.random.rand(m, m)\n",
    "B = np.random.rand(m, n)\n",
    "X1 = linalg.solve(A, B)\n",
    "X2 = np.dot(linalg.inv(A), B)\n",
    "print (np.allclose(X1, X2))"
   ]
  },
  {
   "cell_type": "code",
   "execution_count": 8,
   "metadata": {
    "ExecuteTime": {
     "end_time": "2020-01-21T09:03:09.075448Z",
     "start_time": "2020-01-21T09:03:09.065478Z"
    }
   },
   "outputs": [
    {
     "data": {
      "text/plain": [
       "True"
      ]
     },
     "execution_count": 8,
     "metadata": {},
     "output_type": "execute_result"
    }
   ],
   "source": [
    "luf = linalg.lu_factor(A)\n",
    "X3 = linalg.lu_solve(luf, B)\n",
    "np.allclose(X1, X3)"
   ]
  },
  {
   "cell_type": "code",
   "execution_count": 9,
   "metadata": {
    "ExecuteTime": {
     "end_time": "2020-01-21T09:05:05.665268Z",
     "start_time": "2020-01-21T09:05:05.635349Z"
    }
   },
   "outputs": [],
   "source": [
    "# 特征值和特征向量\n",
    "A = np.array([[1, -0.3], [-0.1, 0.9]])\n",
    "evalues, evectors = linalg.eig(A)"
   ]
  },
  {
   "cell_type": "markdown",
   "metadata": {},
   "source": [
    "### 统计-stats"
   ]
  },
  {
   "cell_type": "code",
   "execution_count": 10,
   "metadata": {
    "ExecuteTime": {
     "end_time": "2020-01-21T09:08:31.738761Z",
     "start_time": "2020-01-21T09:08:31.490806Z"
    }
   },
   "outputs": [
    {
     "data": {
      "text/plain": [
       "array([0.10459777, 0.18372474, 0.18161843, 0.11908394])"
      ]
     },
     "execution_count": 10,
     "metadata": {},
     "output_type": "execute_result"
    }
   ],
   "source": [
    "from scipy import stats\n",
    "X = stats.norm(loc=1.0, scale=2.0)\n",
    "X.stats()\n",
    "x = X.rvs(size=10000) # 对随机变量取10000个值\n",
    "stats.norm.fit(x) # 得到随机序列期望值和标准差\n",
    "x = stats.gamma.rvs(2, scale=2, size=4)  \n",
    "stats.gamma.pdf(x, 2, scale=2) #Probability density function at x."
   ]
  },
  {
   "cell_type": "markdown",
   "metadata": {},
   "source": [
    "#### 离散概率分布"
   ]
  },
  {
   "cell_type": "code",
   "execution_count": 11,
   "metadata": {
    "ExecuteTime": {
     "end_time": "2020-01-21T09:10:36.771494Z",
     "start_time": "2020-01-21T09:10:36.761485Z"
    }
   },
   "outputs": [
    {
     "data": {
      "text/plain": [
       "array([5, 1, 1, 1, 2, 5, 4, 5, 1, 2, 3, 3, 5, 1, 1, 2, 1, 1, 2, 2])"
      ]
     },
     "execution_count": 11,
     "metadata": {},
     "output_type": "execute_result"
    }
   ],
   "source": [
    "x = range(1, 7)    \n",
    "p = (0.4, 0.2, 0.1, 0.1, 0.1, 0.1)\n",
    "\n",
    "dice = stats.rv_discrete(values=(x, p))\n",
    "dice.rvs(size=20)"
   ]
  },
  {
   "cell_type": "code",
   "execution_count": 13,
   "metadata": {
    "ExecuteTime": {
     "end_time": "2020-01-21T09:12:04.177705Z",
     "start_time": "2020-01-21T09:12:04.167701Z"
    }
   },
   "outputs": [
    {
     "data": {
      "text/plain": [
       "array([4.01877572e-01, 4.01877572e-01, 1.60751029e-01, 3.21502058e-02,\n",
       "       3.21502058e-03, 1.28600823e-04])"
      ]
     },
     "execution_count": 13,
     "metadata": {},
     "output_type": "execute_result"
    }
   ],
   "source": [
    "stats.binom.pmf(range(6), 5, 1/6.0)#Probability mass function at k "
   ]
  },
  {
   "cell_type": "code",
   "execution_count": null,
   "metadata": {},
   "outputs": [],
   "source": []
  }
 ],
 "metadata": {
  "kernelspec": {
   "display_name": "Python 3",
   "language": "python",
   "name": "python3"
  },
  "language_info": {
   "codemirror_mode": {
    "name": "ipython",
    "version": 3
   },
   "file_extension": ".py",
   "mimetype": "text/x-python",
   "name": "python",
   "nbconvert_exporter": "python",
   "pygments_lexer": "ipython3",
   "version": "3.7.4"
  },
  "toc": {
   "base_numbering": 1,
   "nav_menu": {},
   "number_sections": true,
   "sideBar": true,
   "skip_h1_title": false,
   "title_cell": "Table of Contents",
   "title_sidebar": "Contents",
   "toc_cell": false,
   "toc_position": {},
   "toc_section_display": true,
   "toc_window_display": false
  },
  "varInspector": {
   "cols": {
    "lenName": 16,
    "lenType": 16,
    "lenVar": 40
   },
   "kernels_config": {
    "python": {
     "delete_cmd_postfix": "",
     "delete_cmd_prefix": "del ",
     "library": "var_list.py",
     "varRefreshCmd": "print(var_dic_list())"
    },
    "r": {
     "delete_cmd_postfix": ") ",
     "delete_cmd_prefix": "rm(",
     "library": "var_list.r",
     "varRefreshCmd": "cat(var_dic_list()) "
    }
   },
   "types_to_exclude": [
    "module",
    "function",
    "builtin_function_or_method",
    "instance",
    "_Feature"
   ],
   "window_display": false
  }
 },
 "nbformat": 4,
 "nbformat_minor": 2
}
