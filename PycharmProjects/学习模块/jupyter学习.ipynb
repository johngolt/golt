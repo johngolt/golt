{
 "cells": [
  {
   "cell_type": "code",
   "execution_count": null,
   "metadata": {
    "ExecuteTime": {
     "end_time": "2020-07-15T07:01:08.661239Z",
     "start_time": "2020-07-15T07:01:08.656252Z"
    }
   },
   "outputs": [],
   "source": [
    "# 在IPython中直接输入?，可以打印出IPython的功能介绍\n",
    "?\n",
    "#在变量后面加上?，可以打印出该变量的详细信息。\n",
    "#??还可以查看函数或模块对象的源代码\n",
    "#在IPython中，执行history或hist命令能够查看历史输入\n",
    "#在IPython中，shell命令前加上感叹号!就可以直接执行。"
   ]
  },
  {
   "cell_type": "code",
   "execution_count": null,
   "metadata": {
    "ExecuteTime": {
     "end_time": "2020-07-15T07:02:16.061301Z",
     "start_time": "2020-07-15T07:02:16.054321Z"
    }
   },
   "outputs": [],
   "source": [
    "#魔法命令分为两种，一种是line magics，另外一种cell magics。Line magic是通过在前面加%，\n",
    "#表示magic只在本行有效。Cell magic是通过在前面加%%，表示magic在整个cell单元有效。"
   ]
  },
  {
   "cell_type": "code",
   "execution_count": null,
   "metadata": {},
   "outputs": [],
   "source": [
    "#在IPython会话环境中，\n",
    "#py文件可以通过%run命令当做Python程序来运行，输入%run 路径+文件名称即可。\n",
    "\n",
    "#%pwd显示工作路径\n",
    "#%quickref用来查看IPython的特定语法和魔法命令参考。\n",
    "#%ls path命令可以用来显示特定目录下的内容。\n",
    "#使用通配符*?可以模糊查询方法名及属性。\n",
    "#%cd命令可以修改当前工作目录。\n",
    "#%run -d用于对脚本进行调试。\n",
    "#%load命令用于将脚本代码加载到当前cell。"
   ]
  },
  {
   "cell_type": "code",
   "execution_count": 3,
   "metadata": {
    "ExecuteTime": {
     "end_time": "2020-07-15T07:10:18.512239Z",
     "start_time": "2020-07-15T07:10:18.508215Z"
    }
   },
   "outputs": [],
   "source": [
    "#%debug命令支持从最新的异常跟踪的底部进入交互式调试器。在ipdb调试模式下能访问所有的本地变量和整个栈回溯。\n",
    "#使用u和d向上和向下访问栈，使用q退出调试器。在调试器中输入?可以查看所有的可用命令列表。"
   ]
  },
  {
   "cell_type": "code",
   "execution_count": 4,
   "metadata": {
    "ExecuteTime": {
     "end_time": "2020-07-15T07:10:23.070752Z",
     "start_time": "2020-07-15T07:10:23.066763Z"
    }
   },
   "outputs": [],
   "source": [
    "#%pdb同样用于启动交互式调试器，不过支持对所有的异常进行调试。\n",
    "#你需要事先启动%pdb命令，之后对每一个异常都会进行调试。\n",
    "#%notebook path用于导出当前notebook内容到指定ipynb文件中。\n",
    "#%save path n1 n2..命令用于将指定cell代码保存到指定的py文件中。\n",
    "#%reset -f命令用于删除定义的所有变量，如果不指定参数-f，则需要确认后再重置。\n",
    "#%%latex命令用于将LaTeX语句渲染为公式，LaTeX是一种基于ΤΕΧ的排版系统。\n",
    "#%%markdown命令用于将markdown文本渲染为可视化输出。\n"
   ]
  },
  {
   "cell_type": "code",
   "execution_count": null,
   "metadata": {
    "ExecuteTime": {
     "end_time": "2020-07-15T07:11:30.650486Z",
     "start_time": "2020-07-15T07:11:30.646521Z"
    }
   },
   "outputs": [],
   "source": []
  },
  {
   "cell_type": "code",
   "execution_count": null,
   "metadata": {
    "ExecuteTime": {
     "end_time": "2020-07-15T07:10:37.764806Z",
     "start_time": "2020-07-15T07:10:37.753800Z"
    }
   },
   "outputs": [],
   "source": []
  },
  {
   "cell_type": "code",
   "execution_count": null,
   "metadata": {
    "ExecuteTime": {
     "end_time": "2020-07-15T07:11:35.769037Z",
     "start_time": "2020-07-15T07:11:35.764051Z"
    }
   },
   "outputs": [],
   "source": []
  },
  {
   "cell_type": "code",
   "execution_count": null,
   "metadata": {
    "ExecuteTime": {
     "end_time": "2020-07-15T07:11:36.421523Z",
     "start_time": "2020-07-15T07:11:36.416576Z"
    }
   },
   "outputs": [],
   "source": []
  },
  {
   "cell_type": "code",
   "execution_count": null,
   "metadata": {},
   "outputs": [],
   "source": []
  }
 ],
 "metadata": {
  "kernelspec": {
   "display_name": "Python 3",
   "language": "python",
   "name": "python3"
  },
  "language_info": {
   "codemirror_mode": {
    "name": "ipython",
    "version": 3
   },
   "file_extension": ".py",
   "mimetype": "text/x-python",
   "name": "python",
   "nbconvert_exporter": "python",
   "pygments_lexer": "ipython3",
   "version": "3.7.5"
  },
  "toc": {
   "base_numbering": 1,
   "nav_menu": {},
   "number_sections": true,
   "sideBar": true,
   "skip_h1_title": false,
   "title_cell": "Table of Contents",
   "title_sidebar": "Contents",
   "toc_cell": false,
   "toc_position": {},
   "toc_section_display": true,
   "toc_window_display": false
  },
  "varInspector": {
   "cols": {
    "lenName": 16,
    "lenType": 16,
    "lenVar": 40
   },
   "kernels_config": {
    "python": {
     "delete_cmd_postfix": "",
     "delete_cmd_prefix": "del ",
     "library": "var_list.py",
     "varRefreshCmd": "print(var_dic_list())"
    },
    "r": {
     "delete_cmd_postfix": ") ",
     "delete_cmd_prefix": "rm(",
     "library": "var_list.r",
     "varRefreshCmd": "cat(var_dic_list()) "
    }
   },
   "types_to_exclude": [
    "module",
    "function",
    "builtin_function_or_method",
    "instance",
    "_Feature"
   ],
   "window_display": false
  }
 },
 "nbformat": 4,
 "nbformat_minor": 2
}
