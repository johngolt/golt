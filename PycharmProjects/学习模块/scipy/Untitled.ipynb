{
 "cells": [
  {
   "cell_type": "code",
   "execution_count": 2,
   "metadata": {
    "ExecuteTime": {
     "end_time": "2020-07-08T00:43:59.868468Z",
     "start_time": "2020-07-08T00:43:59.864479Z"
    }
   },
   "outputs": [],
   "source": [
    "from scipy import stats\n",
    "import numpy as np"
   ]
  },
  {
   "cell_type": "code",
   "execution_count": 9,
   "metadata": {
    "ExecuteTime": {
     "end_time": "2020-07-08T01:37:53.779061Z",
     "start_time": "2020-07-08T01:37:53.774041Z"
    }
   },
   "outputs": [],
   "source": [
    "import pandas as pd\n",
    "%matplotlib inline"
   ]
  },
  {
   "cell_type": "code",
   "execution_count": 15,
   "metadata": {
    "ExecuteTime": {
     "end_time": "2020-07-08T08:57:41.117902Z",
     "start_time": "2020-07-08T08:57:41.086340Z"
    }
   },
   "outputs": [],
   "source": [
    "a = np.random.randn(100)\n",
    "b = np.random.randn(100)\n",
    "c = np.random.normal(1,5,100)\n",
    "d = np.zeros(200)\n",
    "d[100:]=1"
   ]
  },
  {
   "cell_type": "code",
   "execution_count": 20,
   "metadata": {
    "ExecuteTime": {
     "end_time": "2020-07-08T08:58:50.366076Z",
     "start_time": "2020-07-08T08:58:50.347127Z"
    }
   },
   "outputs": [],
   "source": [
    "df = pd.DataFrame({'a':np.r_[a,b],'b':d})"
   ]
  },
  {
   "cell_type": "code",
   "execution_count": 24,
   "metadata": {
    "ExecuteTime": {
     "end_time": "2020-07-08T08:59:50.495674Z",
     "start_time": "2020-07-08T08:59:50.488718Z"
    }
   },
   "outputs": [],
   "source": [
    "df1 = pd.DataFrame({'a':np.r_[a,c],'b':d})"
   ]
  },
  {
   "cell_type": "code",
   "execution_count": 25,
   "metadata": {
    "ExecuteTime": {
     "end_time": "2020-07-08T08:59:54.502680Z",
     "start_time": "2020-07-08T08:59:54.495724Z"
    }
   },
   "outputs": [
    {
     "data": {
      "text/plain": [
       "PointbiserialrResult(correlation=0.12982525847914728, pvalue=0.0669126511246321)"
      ]
     },
     "execution_count": 25,
     "metadata": {},
     "output_type": "execute_result"
    }
   ],
   "source": [
    "stats.pointbiserialr(df1['a'],df1['b'])"
   ]
  },
  {
   "cell_type": "code",
   "execution_count": 26,
   "metadata": {
    "ExecuteTime": {
     "end_time": "2020-07-08T09:00:26.632084Z",
     "start_time": "2020-07-08T09:00:26.623108Z"
    }
   },
   "outputs": [
    {
     "data": {
      "text/plain": [
       "PointbiserialrResult(correlation=-0.09924656608658287, pvalue=0.16204843247389117)"
      ]
     },
     "execution_count": 26,
     "metadata": {},
     "output_type": "execute_result"
    }
   ],
   "source": [
    "stats.pointbiserialr(df['a'],df['b'])"
   ]
  },
  {
   "cell_type": "code",
   "execution_count": null,
   "metadata": {},
   "outputs": [],
   "source": [
    "import pandas as pd\n",
    "import numpy as np\n",
    "\n",
    "from scipy import stats\n",
    "from statsmodels.formula.api import ols\n",
    "from statsmodels.stats.anova import anova_lm\n",
    "\n",
    "# 这是那四个水平的索赔额的观测值\n",
    "A1 = [1.6, 1.61, 1.65, 1.68, 1.7, 1.7, 1.78]\n",
    "A2 = [1.5, 1.64, 1.4, 1.7, 1.75]\n",
    "A3 = [1.6, 1.55, 1.6, 1.62, 1.64, 1.60, 1.74, 1.8]\n",
    "A4 = [1.51, 1.52, 1.53, 1.57, 1.64, 1.6]\n",
    "\n",
    "data = [A1, A2, A3, A4]\n",
    "# 方差的齐性检验\n",
    "w, p = stats.levene(*data)\n",
    "if p < 0.05:\n",
    "    print('方差齐性假设不成立')\n",
    "''' 因为方差分析的实质是检验多个水平的均值是否有显著差异，如果各个水平的观察值方差差异太大，\n",
    "只检验均值之间的差异就没有意义了，所以要进行方差齐性检验。'''\n",
    "# 成立之后， 就可以进行单因素方差分析\n",
    "f, p = stats.f_oneway(*data)\n",
    "print(f, p)      #  2.06507381767795 0.13406910483160134\n",
    "'''我们应该评估检验的假设条件， 就是看看每个数据是不是真的服从正态。\n",
    "数据是不是服从正态的方法了Shapiro-Wilk test（小样本情况下， 常用的正态检验方法）'''\n",
    "def normal_judge(data):\n",
    "    stat, p = shapiro(data)\n",
    "    if p > 0.05:\n",
    "        return 'stat={:.3f}, p = {:.3f}, probably gaussian'.format(stat,p)\n",
    "    else:\n",
    "        return 'stat={:.3f}, p = {:.3f}, probably not gaussian'.format(\n",
    "            stat,p)\n",
    "\n",
    "for d in data:\n",
    "    print(normal_judge(d))"
   ]
  }
 ],
 "metadata": {
  "kernelspec": {
   "display_name": "Python 3",
   "language": "python",
   "name": "python3"
  },
  "language_info": {
   "codemirror_mode": {
    "name": "ipython",
    "version": 3
   },
   "file_extension": ".py",
   "mimetype": "text/x-python",
   "name": "python",
   "nbconvert_exporter": "python",
   "pygments_lexer": "ipython3",
   "version": "3.7.5"
  },
  "toc": {
   "base_numbering": 1,
   "nav_menu": {},
   "number_sections": true,
   "sideBar": true,
   "skip_h1_title": false,
   "title_cell": "Table of Contents",
   "title_sidebar": "Contents",
   "toc_cell": false,
   "toc_position": {},
   "toc_section_display": true,
   "toc_window_display": false
  },
  "varInspector": {
   "cols": {
    "lenName": 16,
    "lenType": 16,
    "lenVar": 40
   },
   "kernels_config": {
    "python": {
     "delete_cmd_postfix": "",
     "delete_cmd_prefix": "del ",
     "library": "var_list.py",
     "varRefreshCmd": "print(var_dic_list())"
    },
    "r": {
     "delete_cmd_postfix": ") ",
     "delete_cmd_prefix": "rm(",
     "library": "var_list.r",
     "varRefreshCmd": "cat(var_dic_list()) "
    }
   },
   "types_to_exclude": [
    "module",
    "function",
    "builtin_function_or_method",
    "instance",
    "_Feature"
   ],
   "window_display": false
  }
 },
 "nbformat": 4,
 "nbformat_minor": 2
}
