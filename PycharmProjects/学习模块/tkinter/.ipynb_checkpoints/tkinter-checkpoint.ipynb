{
 "cells": [
  {
   "cell_type": "code",
   "execution_count": 2,
   "metadata": {
    "ExecuteTime": {
     "end_time": "2019-09-27T03:00:37.931363Z",
     "start_time": "2019-09-27T03:00:37.913010Z"
    }
   },
   "outputs": [],
   "source": [
    "import tkinter as tk\n",
    "from tkinter import ttk"
   ]
  },
  {
   "cell_type": "code",
   "execution_count": 84,
   "metadata": {
    "ExecuteTime": {
     "end_time": "2019-09-27T06:21:40.498994Z",
     "start_time": "2019-09-27T06:21:20.984973Z"
    }
   },
   "outputs": [
    {
     "name": "stdout",
     "output_type": "stream",
     "text": [
      "this is None\n",
      "this is None\n"
     ]
    }
   ],
   "source": [
    "root = tk.Tk()\n",
    "def get_value():\n",
    "    print(onevar.get())\n",
    "def get():\n",
    "    if not name.get():\n",
    "        print('this is None')\n",
    "content = ttk.Frame(root)\n",
    "frame = ttk.Frame(content,borderwidth=5,relief=\"sunken\",width=200,\n",
    "                  height=100)\n",
    "namelbl = ttk.Label(content, text=\"Name\")\n",
    "name = ttk.Entry(content)\n",
    "\n",
    "onevar = tk.BooleanVar()\n",
    "onevar.set(True)\n",
    "\n",
    "one = ttk.Checkbutton(content, text=\"One\", variable=onevar, onvalue=True)\n",
    "ok = ttk.Button(content, text=\"Okay\", command=get)\n",
    "cancel = ttk.Button(content, text=\"Cancel\", command=get_value)\n",
    "\n",
    "content.grid(column=0, row=0)\n",
    "frame.grid(column=0, row=0, columnspan=3, rowspan=2)\n",
    "namelbl.grid(column=3, row=0, columnspan=2)\n",
    "name.grid(column=3, row=1, columnspan=2)\n",
    "one.grid(column=0, row=3)\n",
    "ok.grid(column=3, row=3)\n",
    "cancel.grid(column=4, row=3)\n",
    "\n",
    "root.mainloop()"
   ]
  },
  {
   "cell_type": "code",
   "execution_count": 83,
   "metadata": {
    "ExecuteTime": {
     "end_time": "2019-09-27T06:18:04.853934Z",
     "start_time": "2019-09-27T06:17:53.390449Z"
    }
   },
   "outputs": [],
   "source": [
    "root = tk.Tk()\n",
    "content = ttk.Frame(root)\n",
    "frame1 = ttk.Frame(content, borderwidth=5, relief=\"sunken\", width=200,\n",
    "                  height=100)\n",
    "frame3 = ttk.Frame(content, borderwidth=5, relief=\"sunken\", width=200,\n",
    "                  height=100)\n",
    "\n",
    "f1label = ttk.Label(frame1, text='文件路径:')\n",
    "f1entry = ttk.Entry(frame1)\n",
    "f1button1 = ttk.Button(frame1, text='读取数据', command=None)\n",
    "f1button2 = ttk.Button(frame1, text='数据报告', command=None)\n",
    "\n",
    "f3label1 = ttk.Label(frame3, text='模型类型:')\n",
    "f3entry1 = ttk.Entry(frame3)\n",
    "onevar=tk.BooleanVar()\n",
    "onevar.set(True)\n",
    "f3check = ttk.Checkbutton(frame3, text=\"分类\", variable=onevar, \n",
    "                          onvalue=True)\n",
    "f3button = ttk.Button(frame3, text='基线模型', command=None)\n",
    "\n",
    "content.grid(column=0, row=0)\n",
    "frame1.grid(column=0, row=0, columnspan=2, rowspan=1)\n",
    "f1label.grid(column=0, row=0)\n",
    "f1entry.grid(column=1,row=0)\n",
    "f1button1.grid(column=2, row=0)\n",
    "f1button2.grid(column=3, row=0, columnspan=2)\n",
    "\n",
    "frame3.grid(column=0, row=2, columnspan=2, rowspan=2)\n",
    "f3label1.grid(column=0, row=3)\n",
    "f3entry1.grid(column=1, row=3,columnspan=1)\n",
    "f3check.grid(column=2, row=3,columnspan=1)\n",
    "f3button.grid(column=3, row=3, columnspan=1)\n",
    "root.mainloop()"
   ]
  },
  {
   "cell_type": "code",
   "execution_count": 125,
   "metadata": {
    "ExecuteTime": {
     "end_time": "2019-09-27T09:17:58.263647Z",
     "start_time": "2019-09-27T09:17:49.930233Z"
    }
   },
   "outputs": [],
   "source": [
    "import tkinter.messagebox\n",
    "import tkinter as tk \n",
    "window=tk.Tk()\n",
    "window.title('menu')\n",
    "window.geometry('400x400') \n",
    "def hit():  \n",
    "    data = np.random.randn(10,4)#box系列 \n",
    "    df = pd.DataFrame(data)\n",
    "    tk.messagebox.showinfo(title='result', message=repr(df))\n",
    "#tk.messagebox.showwarning(title='warning', message='this is a warningbox')\n",
    "#tk.messagebox.showerror(title='hi', message='the program iscrash!')    \n",
    "#ask系列   \n",
    "#tk.messagebox.askquestion(title='hi', message='Are you cancel it?') \n",
    "#返回'yes'或'no' \n",
    "#tk.messagebox.askyesno(title='hi', message='Are you sure to cancel it?')\n",
    "#返回True或者False    \n",
    "b=tk.Button(window,text='there will be a msgbox',command=hit).pack() \n",
    "tk.mainloop()"
   ]
  },
  {
   "cell_type": "code",
   "execution_count": 133,
   "metadata": {
    "ExecuteTime": {
     "end_time": "2019-09-27T09:33:16.659436Z",
     "start_time": "2019-09-27T09:33:16.652492Z"
    }
   },
   "outputs": [
    {
     "data": {
      "text/plain": [
       "'90%'"
      ]
     },
     "execution_count": 133,
     "metadata": {},
     "output_type": "execute_result"
    }
   ],
   "source": [
    "'{:.0%}'.format(0.9)"
   ]
  },
  {
   "cell_type": "code",
   "execution_count": 141,
   "metadata": {
    "ExecuteTime": {
     "end_time": "2019-09-27T09:36:56.818321Z",
     "start_time": "2019-09-27T09:36:52.585435Z"
    }
   },
   "outputs": [],
   "source": [
    "root = tk.Tk() \n",
    "def hello():    \n",
    "    print(\"hello!\") # create a toplevel menu\n",
    "menubar = tk.Menu(root)\n",
    "menubar.add_command(label=\"Hello!\", command=hello)\n",
    "menubar.add_command(label=\"Quit!\", command=root.quit) \n",
    "#menubar.grid()\n",
    "# display the menuroot.config(menu=menubar)\n",
    "root.mainloop()"
   ]
  },
  {
   "cell_type": "code",
   "execution_count": null,
   "metadata": {},
   "outputs": [],
   "source": []
  }
 ],
 "metadata": {
  "kernelspec": {
   "display_name": "Python 3",
   "language": "python",
   "name": "python3"
  },
  "language_info": {
   "codemirror_mode": {
    "name": "ipython",
    "version": 3
   },
   "file_extension": ".py",
   "mimetype": "text/x-python",
   "name": "python",
   "nbconvert_exporter": "python",
   "pygments_lexer": "ipython3",
   "version": "3.6.5"
  },
  "toc": {
   "base_numbering": 1,
   "nav_menu": {},
   "number_sections": true,
   "sideBar": true,
   "skip_h1_title": false,
   "title_cell": "Table of Contents",
   "title_sidebar": "Contents",
   "toc_cell": false,
   "toc_position": {},
   "toc_section_display": true,
   "toc_window_display": false
  },
  "varInspector": {
   "cols": {
    "lenName": 16,
    "lenType": 16,
    "lenVar": 40
   },
   "kernels_config": {
    "python": {
     "delete_cmd_postfix": "",
     "delete_cmd_prefix": "del ",
     "library": "var_list.py",
     "varRefreshCmd": "print(var_dic_list())"
    },
    "r": {
     "delete_cmd_postfix": ") ",
     "delete_cmd_prefix": "rm(",
     "library": "var_list.r",
     "varRefreshCmd": "cat(var_dic_list()) "
    }
   },
   "types_to_exclude": [
    "module",
    "function",
    "builtin_function_or_method",
    "instance",
    "_Feature"
   ],
   "window_display": false
  }
 },
 "nbformat": 4,
 "nbformat_minor": 2
}
