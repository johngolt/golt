{
 "cells": [
  {
   "cell_type": "code",
   "execution_count": 1,
   "metadata": {
    "ExecuteTime": {
     "end_time": "2019-09-29T02:03:01.888556Z",
     "start_time": "2019-09-29T02:03:01.827548Z"
    }
   },
   "outputs": [],
   "source": [
    "import tkinter as tk\n",
    "from tkinter import ttk"
   ]
  },
  {
   "cell_type": "code",
   "execution_count": 84,
   "metadata": {
    "ExecuteTime": {
     "end_time": "2019-09-27T06:21:40.498994Z",
     "start_time": "2019-09-27T06:21:20.984973Z"
    }
   },
   "outputs": [
    {
     "name": "stdout",
     "output_type": "stream",
     "text": [
      "this is None\n",
      "this is None\n"
     ]
    }
   ],
   "source": [
    "root = tk.Tk()\n",
    "content = ttk.Frame(root)\n",
    "frame2 = ttk.Frame(content, borderwidth=5, relief=\"sunken\", width=200,\n",
    "                  height=100)\n",
    "f2button1 = ttk.Button(frame2, text='缺失值情况', commnad =None)\n",
    "f2cheke1 = ttk.Checkbutton(frame2, text='是否删除缺失值')\n",
    "f2check2 = ttk.Checkbutton(fram2, text='是否衍生特征')\n",
    "\n",
    "f2entry1 = ttk.Entry(frame2) # 行缺失值删除的阈值\n",
    "f2entry2 = ttk.Entry(frame2)  #列缺失值删除的阈值\n",
    "f2button2 = ttk.Button(frame2, text='删除缺失值', command=None)\n",
    "f2list1 = tk.Listbox()  # 数值特征缺失值填补方法\n",
    "f2list2 = tk.Listbox()  # 类别特征缺失值处理方法\n",
    "f2button3 = ttk.Button(fram2, text='缺失值处理', command=None)\n",
    "\n"
   ]
  },
  {
   "cell_type": "code",
   "execution_count": 83,
   "metadata": {
    "ExecuteTime": {
     "end_time": "2019-09-27T06:18:04.853934Z",
     "start_time": "2019-09-27T06:17:53.390449Z"
    }
   },
   "outputs": [],
   "source": [
    "root = tk.Tk()\n",
    "content = ttk.Frame(root)\n",
    "frame1 = ttk.Frame(content, borderwidth=5, relief=\"sunken\", width=200,\n",
    "                  height=100)\n",
    "frame3 = ttk.Frame(content, borderwidth=5, relief=\"sunken\", width=200,\n",
    "                  height=100)\n",
    "\n",
    "f1label = ttk.Label(frame1, text='文件路径:')\n",
    "f1entry = ttk.Entry(frame1)\n",
    "f1button1 = ttk.Button(frame1, text='读取数据', command=None)\n",
    "f1button2 = ttk.Button(frame1, text='数据报告', command=None)\n",
    "\n",
    "f3label1 = ttk.Label(frame3, text='模型类型:')\n",
    "f3entry1 = ttk.Entry(frame3)\n",
    "onevar=tk.BooleanVar()\n",
    "onevar.set(True)\n",
    "f3check = ttk.Checkbutton(frame3, text=\"分类\", variable=onevar, \n",
    "                          onvalue=True)\n",
    "f3button = ttk.Button(frame3, text='基线模型', command=None)\n",
    "\n",
    "content.grid(column=0, row=0)\n",
    "frame1.grid(column=0, row=0, columnspan=2, rowspan=1)\n",
    "f1label.grid(column=0, row=0)\n",
    "f1entry.grid(column=1,row=0)\n",
    "f1button1.grid(column=2, row=0)\n",
    "f1button2.grid(column=3, row=0, columnspan=2)\n",
    "\n",
    "frame3.grid(column=0, row=2, columnspan=2, rowspan=2)\n",
    "f3label1.grid(column=0, row=3)\n",
    "f3entry1.grid(column=1, row=3,columnspan=1)\n",
    "f3check.grid(column=2, row=3,columnspan=1)\n",
    "f3button.grid(column=3, row=3, columnspan=1)\n",
    "root.mainloop()"
   ]
  },
  {
   "cell_type": "code",
   "execution_count": 125,
   "metadata": {
    "ExecuteTime": {
     "end_time": "2019-09-27T09:17:58.263647Z",
     "start_time": "2019-09-27T09:17:49.930233Z"
    }
   },
   "outputs": [],
   "source": [
    "import tkinter.messagebox\n",
    "import tkinter as tk \n",
    "window=tk.Tk()\n",
    "window.title('menu')\n",
    "window.geometry('400x400') \n",
    "def hit():  \n",
    "    data = np.random.randn(10,4)#box系列 \n",
    "    df = pd.DataFrame(data)\n",
    "    tk.messagebox.showinfo(title='result', message=repr(df))\n",
    "#tk.messagebox.showwarning(title='warning', message='this is a warningbox')\n",
    "#tk.messagebox.showerror(title='hi', message='the program iscrash!')    \n",
    "#ask系列   \n",
    "#tk.messagebox.askquestion(title='hi', message='Are you cancel it?') \n",
    "#返回'yes'或'no' \n",
    "#tk.messagebox.askyesno(title='hi', message='Are you sure to cancel it?')\n",
    "#返回True或者False    \n",
    "b=tk.Button(window,text='there will be a msgbox',command=hit).pack() \n",
    "tk.mainloop()"
   ]
  },
  {
   "cell_type": "code",
   "execution_count": 11,
   "metadata": {
    "ExecuteTime": {
     "end_time": "2019-10-08T01:36:37.085615Z",
     "start_time": "2019-10-08T01:36:14.363448Z"
    }
   },
   "outputs": [],
   "source": [
    "from tkinter import *\n",
    "from tkinter import ttk\n",
    "root = Tk()\n",
    "\n",
    "countrycodes = ('ar', 'au', 'be', 'br', 'ca', 'cn', 'dk', 'fi', 'fr', 'gr', 'in', 'it', 'jp', 'mx', 'nl', 'no', 'es', 'se', 'ch')\n",
    "countrynames = ('Argentina', 'Australia', 'Belgium', 'Brazil', 'Canada', 'China', 'Denmark', \\\n",
    "        'Finland', 'France', 'Greece', 'India', 'Italy', 'Japan', 'Mexico', 'Netherlands', 'Norway', 'Spain', \\\n",
    "        'Sweden', 'Switzerland')\n",
    "cnames = StringVar(value=countrynames)\n",
    "populations = {'ar':41000000, 'au':21179211, 'be':10584534, 'br':185971537, \\\n",
    "        'ca':33148682, 'cn':1323128240, 'dk':5457415, 'fi':5302000, 'fr':64102140, 'gr':11147000, \\\n",
    "        'in':1131043000, 'it':59206382, 'jp':127718000, 'mx':106535000, 'nl':16402414, \\\n",
    "        'no':4738085, 'es':45116894, 'se':9174082, 'ch':7508700}\n",
    "\n",
    "# Names of the gifts we can send\n",
    "gifts = { 'card':'Greeting card', 'flowers':'Flowers', 'nastygram':'Nastygram'}\n",
    "\n",
    "# State variables\n",
    "gift = StringVar()\n",
    "sentmsg = StringVar()\n",
    "statusmsg = StringVar()\n",
    "\n",
    "def showPopulation(*args):\n",
    "    idxs = lbox.curselection()\n",
    "    if len(idxs)==1:\n",
    "        idx = int(idxs[0])\n",
    "        code = countrycodes[idx]\n",
    "        name = countrynames[idx]\n",
    "        popn = populations[code]\n",
    "        statusmsg.set(\"The population of %s (%s) is %d\" % (name, \n",
    "                                                           code, popn))\n",
    "    sentmsg.set('')\n",
    "\n",
    "def sendGift(*args):\n",
    "    idxs = lbox.curselection()\n",
    "    if len(idxs)==1:\n",
    "        idx = int(idxs[0])\n",
    "        lbox.see(idx)\n",
    "        name = countrynames[idx]\n",
    "        # Gift sending left as an exercise to the reader\n",
    "        sentmsg.set(\"Sent %s to leader of %s\" % (gifts[gift.get()], name))\n",
    "\n",
    "# Create and grid the outer content frame\n",
    "c = ttk.Frame(root, padding=(5, 5, 12, 0))\n",
    "c.grid(column=0, row=0, sticky=(N,W,E,S))\n",
    "root.grid_columnconfigure(0, weight=1)\n",
    "root.grid_rowconfigure(0,weight=1)\n",
    "\n",
    "# Create the different widgets; note the variables that many\n",
    "# of them are bound to, as well as the button callback.\n",
    "# Note we're using the StringVar() 'cnames', constructed from 'countrynames'\n",
    "lbox = Listbox(c, listvariable=cnames, height=5)\n",
    "lbl = ttk.Label(c, text=\"Send to country's leader:\")\n",
    "g1 = ttk.Radiobutton(c, text=gifts['card'], variable=gift, value='card')\n",
    "g2 = ttk.Radiobutton(c, text=gifts['flowers'], \n",
    "                     variable=gift, value='flowers')\n",
    "g3 = ttk.Radiobutton(c, text=gifts['nastygram'], \n",
    "                     variable=gift, value='nastygram')\n",
    "send = ttk.Button(c, text='Send Gift', \n",
    "                  command=sendGift, default='active')\n",
    "sentlbl = ttk.Label(c, textvariable=sentmsg, anchor='center')\n",
    "status = ttk.Label(c, textvariable=statusmsg, anchor=W)\n",
    "\n",
    "# Grid all the widgets\n",
    "lbox.grid(column=0, row=0, rowspan=6, sticky=(N,S,E,W))\n",
    "lbl.grid(column=1, row=0, padx=10, pady=5)\n",
    "g1.grid(column=1, row=1, sticky=W, padx=20)\n",
    "g2.grid(column=1, row=2, sticky=W, padx=20)\n",
    "g3.grid(column=1, row=3, sticky=W, padx=20)\n",
    "send.grid(column=2, row=4, sticky=E)\n",
    "sentlbl.grid(column=1, row=5, columnspan=2, sticky=N, pady=5, padx=5)\n",
    "status.grid(column=0, row=6, columnspan=2, sticky=(W,E))\n",
    "c.grid_columnconfigure(0, weight=1)\n",
    "c.grid_rowconfigure(5, weight=1)\n",
    "\n",
    "# Set event bindings for when the selection in the listbox changes,\n",
    "# when the user double clicks the list, and when they hit the Return key\n",
    "lbox.bind('<<ListboxSelect>>', showPopulation)\n",
    "lbox.bind('<Double-1>', sendGift)\n",
    "root.bind('<Return>', sendGift)\n",
    "\n",
    "# Colorize alternating lines of the listbox\n",
    "for i in range(0,len(countrynames),2):\n",
    "    lbox.itemconfigure(i, background='#f0f0ff')\n",
    "\n",
    "gift.set('card')\n",
    "sentmsg.set('')\n",
    "statusmsg.set('')\n",
    "lbox.selection_set(0)\n",
    "showPopulation()\n",
    "\n",
    "root.mainloop()"
   ]
  },
  {
   "cell_type": "code",
   "execution_count": 2,
   "metadata": {
    "ExecuteTime": {
     "end_time": "2019-10-08T00:58:39.589515Z",
     "start_time": "2019-10-08T00:54:34.414194Z"
    }
   },
   "outputs": [],
   "source": [
    "from tkinter import *\n",
    "from tkinter import ttk\n",
    "\n",
    "root = Tk()\n",
    "l = Listbox(root, height=5)\n",
    "l.grid(column=0, row=0, sticky=(N,W,E,S))\n",
    "s = ttk.Scrollbar(root, orient=VERTICAL, command=l.yview)\n",
    "s.grid(column=1, row=0, sticky=(N,S))\n",
    "l['yscrollcommand'] = s.set\n",
    "ttk.Label(root, text=\"Status message here\", \n",
    "          anchor=(W)).grid(column=0, row=1, sticky=(W,E))\n",
    "ttk.Sizegrip(root).grid(column=1, row=1, sticky=(S,E))\n",
    "root.grid_columnconfigure(0, weight=1)\n",
    "root.grid_rowconfigure(0, weight=1)\n",
    "for i in range(1,101):\n",
    "    l.insert('end', 'Line %d of 100' % i)\n",
    "root.mainloop()"
   ]
  },
  {
   "cell_type": "code",
   "execution_count": 3,
   "metadata": {
    "ExecuteTime": {
     "end_time": "2019-10-08T00:59:24.899607Z",
     "start_time": "2019-10-08T00:59:24.895611Z"
    }
   },
   "outputs": [],
   "source": [
    "import tkinter as tk\n",
    "from tkinter import ttk"
   ]
  },
  {
   "cell_type": "code",
   "execution_count": 18,
   "metadata": {
    "ExecuteTime": {
     "end_time": "2019-10-08T07:16:35.733022Z",
     "start_time": "2019-10-08T07:16:25.783690Z"
    }
   },
   "outputs": [
    {
     "name": "stdout",
     "output_type": "stream",
     "text": [
      "this- is\n"
     ]
    }
   ],
   "source": [
    "def com():\n",
    "    data = entry.get()\n",
    "    print('-'.join(data.split(',')))\n",
    "root = tk.Tk()\n",
    "fm = ttk.Frame(root)\n",
    "entry = ttk.Entry(fm)\n",
    "button = ttk.Button(fm, text='打印', command=com)\n",
    "fm.grid(column=0, row=0, sticky=(N,W,E,S))\n",
    "entry.grid(column=0, row=0, rowspan=3, sticky=(N,S,E,W))\n",
    "button.grid(column=0, row=3, rowspan=3, sticky=(N,S,E,W))\n",
    "root.mainloop()"
   ]
  },
  {
   "cell_type": "code",
   "execution_count": 19,
   "metadata": {
    "ExecuteTime": {
     "end_time": "2019-10-08T07:17:20.313028Z",
     "start_time": "2019-10-08T07:17:20.245989Z"
    }
   },
   "outputs": [
    {
     "data": {
      "text/plain": [
       "0.99"
      ]
     },
     "execution_count": 19,
     "metadata": {},
     "output_type": "execute_result"
    }
   ],
   "source": [
    "float('   0.99   ')"
   ]
  },
  {
   "cell_type": "code",
   "execution_count": null,
   "metadata": {},
   "outputs": [],
   "source": []
  }
 ],
 "metadata": {
  "kernelspec": {
   "display_name": "Python 3",
   "language": "python",
   "name": "python3"
  },
  "language_info": {
   "codemirror_mode": {
    "name": "ipython",
    "version": 3
   },
   "file_extension": ".py",
   "mimetype": "text/x-python",
   "name": "python",
   "nbconvert_exporter": "python",
   "pygments_lexer": "ipython3",
   "version": "3.6.5"
  },
  "toc": {
   "base_numbering": 1,
   "nav_menu": {},
   "number_sections": true,
   "sideBar": true,
   "skip_h1_title": false,
   "title_cell": "Table of Contents",
   "title_sidebar": "Contents",
   "toc_cell": false,
   "toc_position": {},
   "toc_section_display": true,
   "toc_window_display": false
  },
  "varInspector": {
   "cols": {
    "lenName": 16,
    "lenType": 16,
    "lenVar": 40
   },
   "kernels_config": {
    "python": {
     "delete_cmd_postfix": "",
     "delete_cmd_prefix": "del ",
     "library": "var_list.py",
     "varRefreshCmd": "print(var_dic_list())"
    },
    "r": {
     "delete_cmd_postfix": ") ",
     "delete_cmd_prefix": "rm(",
     "library": "var_list.r",
     "varRefreshCmd": "cat(var_dic_list()) "
    }
   },
   "types_to_exclude": [
    "module",
    "function",
    "builtin_function_or_method",
    "instance",
    "_Feature"
   ],
   "window_display": false
  }
 },
 "nbformat": 4,
 "nbformat_minor": 2
}
