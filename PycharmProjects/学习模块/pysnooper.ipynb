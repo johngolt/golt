{
 "cells": [
  {
   "cell_type": "code",
   "execution_count": 1,
   "metadata": {
    "ExecuteTime": {
     "end_time": "2019-11-01T07:47:18.472810Z",
     "start_time": "2019-11-01T07:47:18.207169Z"
    }
   },
   "outputs": [
    {
     "name": "stderr",
     "output_type": "stream",
     "text": [
      "Source path:... <ipython-input-1-d9086aeb58cb>\n",
      "Starting var:.. number = 6\n",
      "15:47:18.404822 call         4 def number_to_bits(number):\n",
      "15:47:18.405820 line         5     if number:\n",
      "15:47:18.405820 line         6         bits = []\n",
      "New var:....... bits = []\n",
      "15:47:18.405820 line         7         while number:\n",
      "15:47:18.409894 line         8             number, remainder = divmod(number, 2)\n",
      "Modified var:.. number = 3\n",
      "New var:....... remainder = 0\n",
      "15:47:18.409894 line         9             bits.insert(0, remainder)\n",
      "Modified var:.. bits = [0]\n",
      "15:47:18.409894 line         7         while number:\n",
      "15:47:18.412841 line         8             number, remainder = divmod(number, 2)\n",
      "Modified var:.. number = 1\n",
      "Modified var:.. remainder = 1\n",
      "15:47:18.413823 line         9             bits.insert(0, remainder)\n",
      "Modified var:.. bits = [1, 0]\n",
      "15:47:18.414821 line         7         while number:\n",
      "15:47:18.415898 line         8             number, remainder = divmod(number, 2)\n",
      "Modified var:.. number = 0\n",
      "15:47:18.415898 line         9             bits.insert(0, remainder)\n",
      "Modified var:.. bits = [1, 1, 0]\n",
      "15:47:18.420840 line         7         while number:\n",
      "15:47:18.422840 line        10         return bits\n",
      "15:47:18.423886 return      10         return bits\n",
      "Return value:.. [1, 1, 0]\n"
     ]
    },
    {
     "data": {
      "text/plain": [
       "[1, 1, 0]"
      ]
     },
     "execution_count": 1,
     "metadata": {},
     "output_type": "execute_result"
    }
   ],
   "source": [
    "import pysnooper\n",
    "\n",
    "@pysnooper.snoop()\n",
    "def number_to_bits(number):\n",
    "    if number:\n",
    "        bits = []\n",
    "        while number:\n",
    "            number, remainder = divmod(number, 2)\n",
    "            bits.insert(0, remainder)\n",
    "        return bits\n",
    "    else:\n",
    "        return [0]\n",
    "\n",
    "number_to_bits(6)"
   ]
  },
  {
   "cell_type": "code",
   "execution_count": 2,
   "metadata": {
    "ExecuteTime": {
     "end_time": "2019-11-01T07:47:30.393068Z",
     "start_time": "2019-11-01T07:47:30.386066Z"
    }
   },
   "outputs": [
    {
     "name": "stdout",
     "output_type": "stream",
     "text": [
      "3 491.5 980\n"
     ]
    },
    {
     "name": "stderr",
     "output_type": "stream",
     "text": [
      "Source path:... <ipython-input-2-c7244b59db45>\n",
      "New var:....... lst = [784, 3, 714, 290, 815, 980, 297, 455, 627, 406]\n",
      "New var:....... i = 9\n",
      "15:47:30.388066 line        10         lower = min(lst)\n",
      "New var:....... lower = 3\n",
      "15:47:30.389067 line        11         upper = max(lst)\n",
      "New var:....... upper = 980\n",
      "15:47:30.389067 line        12         mid = (lower + upper) / 2\n",
      "New var:....... mid = 491.5\n",
      "15:47:30.389067 line        13         print(lower, mid, upper)\n"
     ]
    }
   ],
   "source": [
    "import pysnooper\n",
    "import random\n",
    "\n",
    "def foo():\n",
    "    lst = []\n",
    "    for i in range(10):\n",
    "        lst.append(random.randrange(1, 1000))\n",
    "\n",
    "    with pysnooper.snoop():\n",
    "        lower = min(lst)\n",
    "        upper = max(lst)\n",
    "        mid = (lower + upper) / 2\n",
    "        print(lower, mid, upper)\n",
    "\n",
    "foo()"
   ]
  },
  {
   "cell_type": "markdown",
   "metadata": {},
   "source": [
    "If stderr is not easily accessible for you, you can redirect the output to a file:<code>@pysnooper.snoop('/my/log/file.log')</code>\n",
    "\n",
    "See values of some expressions that aren't local variables:\n",
    "<code>@pysnooper.snoop(watch=('foo.bar', 'self.x[\"whatever\"]'))</code>\n",
    "\n",
    "Expand values to see all their attributes or items of lists/dictionaries:\n",
    "<code>@pysnooper.snoop(watch_explode=('foo', 'self'))</code>"
   ]
  },
  {
   "cell_type": "code",
   "execution_count": null,
   "metadata": {},
   "outputs": [],
   "source": [
    "def large(l):\n",
    "    return isinstance(l, list) and len(l) > 5\n",
    "\n",
    "def print_list_size(l):\n",
    "    return 'list(size={})'.format(len(l))\n",
    "\n",
    "def print_ndarray(a):\n",
    "    return 'ndarray(shape={}, dtype={})'.format(a.shape, a.dtype)\n",
    "\n",
    "@pysnooper.snoop(custom_repr=((large, print_list_size), (numpy.ndarray, print_ndarray)))\n",
    "def sum_to_x(x):\n",
    "    l = list(range(x))\n",
    "    a = numpy.zeros((10,10))\n",
    "    return sum(l)\n",
    "\n",
    "sum_to_x(10000)"
   ]
  },
  {
   "cell_type": "markdown",
   "metadata": {},
   "source": [
    "### Minepy"
   ]
  },
  {
   "cell_type": "code",
   "execution_count": null,
   "metadata": {},
   "outputs": [],
   "source": [
    "import numpy as np\n",
    "from minepy import MINE\n",
    "\n",
    "def print_stats(mine):\n",
    "    print(\"MIC\", mine.mic())\n",
    "\n",
    "x = np.linspace(0, 1, 1000)\n",
    "y = np.sin(10 * np.pi * x) + x\n",
    "mine = MINE(alpha=0.6, c=15, est=\"mic_approx\")\n",
    "mine.compute_score(x, y)\n",
    "\n",
    "print_stats(mine)\n",
    "pri\n",
    "\n",
    "np.random.seed(0)\n",
    "y +=np.random.uniform(-1, 1, x.shape[0]) # add some noise\n",
    "mine.compute_score(x, y)\n",
    "\n",
    "print_stats(mine)\n",
    "\n",
    "import numpy as np\n",
    "from minepy import pstats, cstats\n",
    "import time\n",
    "\n",
    "np.random.seed(0)\n",
    "# build the X matrix, 8 variables, 320 samples\n",
    "X = np.random.rand(8, 320)\n",
    "# build the Y matrix, 4 variables, 320 samples\n",
    "Y = np.random.rand(4, 320)\n",
    "# compute pairwise statistics MIC_e and normalized TIC_e between samples in X,\n",
    "# B=9, c=5，限制每个坐标上最大划分的数目\n",
    "mic_p, tic_p =  pstats(X, alpha=9, c=5, est=\"mic_e\")\n",
    "\n",
    "# compute statistics between each pair of samples in X and Y\n",
    "mic_c, tic_c =  cstats(X, Y, alpha=9, c=5, est=\"mic_e\")\n",
    "\n",
    "print(\"normalized TIC_e (X):\")\n",
    "print(tic_p)\n",
    "print(\"MIC_e (X vs. Y):\")\n",
    "print(mic_c)"
   ]
  },
  {
   "cell_type": "code",
   "execution_count": null,
   "metadata": {},
   "outputs": [],
   "source": []
  }
 ],
 "metadata": {
  "kernelspec": {
   "display_name": "Python 3",
   "language": "python",
   "name": "python3"
  },
  "language_info": {
   "codemirror_mode": {
    "name": "ipython",
    "version": 3
   },
   "file_extension": ".py",
   "mimetype": "text/x-python",
   "name": "python",
   "nbconvert_exporter": "python",
   "pygments_lexer": "ipython3",
   "version": "3.7.4"
  },
  "toc": {
   "base_numbering": 1,
   "nav_menu": {},
   "number_sections": true,
   "sideBar": true,
   "skip_h1_title": false,
   "title_cell": "Table of Contents",
   "title_sidebar": "Contents",
   "toc_cell": false,
   "toc_position": {},
   "toc_section_display": true,
   "toc_window_display": false
  },
  "varInspector": {
   "cols": {
    "lenName": 16,
    "lenType": 16,
    "lenVar": 40
   },
   "kernels_config": {
    "python": {
     "delete_cmd_postfix": "",
     "delete_cmd_prefix": "del ",
     "library": "var_list.py",
     "varRefreshCmd": "print(var_dic_list())"
    },
    "r": {
     "delete_cmd_postfix": ") ",
     "delete_cmd_prefix": "rm(",
     "library": "var_list.r",
     "varRefreshCmd": "cat(var_dic_list()) "
    }
   },
   "types_to_exclude": [
    "module",
    "function",
    "builtin_function_or_method",
    "instance",
    "_Feature"
   ],
   "window_display": false
  }
 },
 "nbformat": 4,
 "nbformat_minor": 2
}
