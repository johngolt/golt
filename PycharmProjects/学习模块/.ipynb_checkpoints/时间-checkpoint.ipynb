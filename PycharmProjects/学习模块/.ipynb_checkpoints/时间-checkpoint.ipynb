{
 "cells": [
  {
   "cell_type": "markdown",
   "metadata": {},
   "source": [
    "#### 将字符串转换为datetime 对象"
   ]
  },
  {
   "cell_type": "code",
   "execution_count": 1,
   "metadata": {
    "ExecuteTime": {
     "end_time": "2019-10-21T11:35:48.044643Z",
     "start_time": "2019-10-21T11:35:48.039679Z"
    }
   },
   "outputs": [],
   "source": [
    "from datetime import datetime\n",
    "from dateutil import parser"
   ]
  },
  {
   "cell_type": "code",
   "execution_count": 2,
   "metadata": {
    "ExecuteTime": {
     "end_time": "2019-10-21T11:37:28.903392Z",
     "start_time": "2019-10-21T11:37:28.899386Z"
    }
   },
   "outputs": [],
   "source": [
    "d1 = 'Jan 7 2015 1:15PM'\n",
    "d2 = '2015 Jan 7 1:33PM'"
   ]
  },
  {
   "cell_type": "code",
   "execution_count": 3,
   "metadata": {
    "ExecuteTime": {
     "end_time": "2019-10-21T11:37:29.663752Z",
     "start_time": "2019-10-21T11:37:29.656749Z"
    }
   },
   "outputs": [],
   "source": [
    "date1 = datetime.strptime(d1,'%b %d %Y %I:%M%p')"
   ]
  },
  {
   "cell_type": "code",
   "execution_count": 4,
   "metadata": {
    "ExecuteTime": {
     "end_time": "2019-10-21T11:37:33.755474Z",
     "start_time": "2019-10-21T11:37:33.689449Z"
    }
   },
   "outputs": [
    {
     "data": {
      "text/plain": [
       "(datetime.datetime(2015, 1, 7, 13, 15), datetime.datetime(2015, 1, 7, 13, 33))"
      ]
     },
     "execution_count": 4,
     "metadata": {},
     "output_type": "execute_result"
    }
   ],
   "source": [
    "date2 = parser.parse(d2)\n",
    "date1,date2"
   ]
  },
  {
   "cell_type": "code",
   "execution_count": 5,
   "metadata": {
    "ExecuteTime": {
     "end_time": "2019-10-21T11:39:05.982532Z",
     "start_time": "2019-10-21T11:39:05.975571Z"
    }
   },
   "outputs": [
    {
     "data": {
      "text/plain": [
       "1571657945978"
      ]
     },
     "execution_count": 5,
     "metadata": {},
     "output_type": "execute_result"
    }
   ],
   "source": [
    "#一毫秒为单位获取当前时间\n",
    "import time\n",
    "milliseconds = int(round(time.time()*1000))\n",
    "milliseconds"
   ]
  },
  {
   "cell_type": "code",
   "execution_count": 6,
   "metadata": {
    "ExecuteTime": {
     "end_time": "2019-10-21T11:40:29.247236Z",
     "start_time": "2019-10-21T11:40:29.238237Z"
    }
   },
   "outputs": [
    {
     "data": {
      "text/plain": [
       "2"
      ]
     },
     "execution_count": 6,
     "metadata": {},
     "output_type": "execute_result"
    }
   ],
   "source": [
    "from datetime import date\n",
    "date(2010,6,16).weekday()"
   ]
  },
  {
   "cell_type": "code",
   "execution_count": 7,
   "metadata": {
    "ExecuteTime": {
     "end_time": "2019-10-21T11:40:43.914802Z",
     "start_time": "2019-10-21T11:40:43.906845Z"
    }
   },
   "outputs": [
    {
     "data": {
      "text/plain": [
       "3"
      ]
     },
     "execution_count": 7,
     "metadata": {},
     "output_type": "execute_result"
    }
   ],
   "source": [
    "date(2010,6,16).isoweekday()"
   ]
  },
  {
   "cell_type": "code",
   "execution_count": 8,
   "metadata": {
    "ExecuteTime": {
     "end_time": "2019-10-21T11:42:41.092131Z",
     "start_time": "2019-10-21T11:42:41.082139Z"
    }
   },
   "outputs": [
    {
     "data": {
      "text/plain": [
       "1444443000.0"
      ]
     },
     "execution_count": 8,
     "metadata": {},
     "output_type": "execute_result"
    }
   ],
   "source": [
    "#将日期时间对象转化为Unix\n",
    "datime = datetime(2015,10,10,10,10)\n",
    "time.mktime(datime.timetuple())"
   ]
  },
  {
   "cell_type": "code",
   "execution_count": 19,
   "metadata": {
    "ExecuteTime": {
     "end_time": "2019-10-21T11:46:30.011960Z",
     "start_time": "2019-10-21T11:46:30.003988Z"
    }
   },
   "outputs": [
    {
     "data": {
      "text/plain": [
       "datetime.datetime(2020, 1, 21, 19, 46, 30, 6958)"
      ]
     },
     "execution_count": 19,
     "metadata": {},
     "output_type": "execute_result"
    }
   ],
   "source": [
    "# 将年月日等添加到当前日期\n",
    "from dateutil.relativedelta import relativedelta\n",
    "now = datetime.today()\n",
    "now - relativedelta(years=2)\n",
    "now + relativedelta(months=3)"
   ]
  },
  {
   "cell_type": "code",
   "execution_count": 20,
   "metadata": {
    "ExecuteTime": {
     "end_time": "2019-10-21T11:50:02.310502Z",
     "start_time": "2019-10-21T11:50:02.304508Z"
    }
   },
   "outputs": [],
   "source": [
    "# 获取两个日期之间的所有日期\n",
    "import datetime as dt\n",
    "start = dt.datetime.strptime('2016-06-15',\n",
    "                            '%Y-%m-%d')\n",
    "end = dt.datetime.strptime('2016-06-30',\n",
    "                          '%Y-%m-%d')\n",
    "array = (start+dt.timedelta(days=x)\n",
    "        for x in range(0,(end-start).days))"
   ]
  },
  {
   "cell_type": "code",
   "execution_count": null,
   "metadata": {},
   "outputs": [],
   "source": [
    "# 打印指定年所有的星期一\n",
    "datime = dt.date(2018,1,1)\n",
    "datime = dt.timedelta(days=1-datime.isoweekday())\n",
    "while datime.year == 2018:\n",
    "    print(datime)\n",
    "    datime += timedelta(days=7)"
   ]
  },
  {
   "cell_type": "code",
   "execution_count": 21,
   "metadata": {
    "ExecuteTime": {
     "end_time": "2019-10-21T11:55:01.245031Z",
     "start_time": "2019-10-21T11:55:01.237036Z"
    }
   },
   "outputs": [
    {
     "name": "stdout",
     "output_type": "stream",
     "text": [
      "weekday of first day of the month: 4\n",
      "Number of day in month: 28\n"
     ]
    }
   ],
   "source": [
    "#从指定的年和月中得到月第一天是星期几的日期码和这个月总共有多少天\n",
    "import calendar\n",
    "months = calendar.monthrange(2002,2)\n",
    "print('weekday of first day of the month:',months[0])\n",
    "print('Number of day in month:',months[1])"
   ]
  },
  {
   "cell_type": "code",
   "execution_count": 22,
   "metadata": {
    "ExecuteTime": {
     "end_time": "2019-10-21T11:58:25.365111Z",
     "start_time": "2019-10-21T11:58:25.354109Z"
    }
   },
   "outputs": [
    {
     "name": "stdout",
     "output_type": "stream",
     "text": [
      "Jan _ January\n",
      "Feb _ February\n",
      "Mar _ March\n",
      "Apr _ April\n",
      "May _ May\n",
      "Jun _ June\n",
      "Jul _ July\n",
      "Aug _ August\n",
      "Sep _ September\n",
      "Oct _ October\n",
      "Nov _ November\n",
      "Dec _ December\n"
     ]
    }
   ],
   "source": [
    "#怎样从月份数得到月份名？\n",
    "month_num = 1\n",
    "month_abre = dt.date(2015,month_num,1).strftime('%b')\n",
    "month_name = dt.date(2015,month_num,1).strftime('%B')\n",
    "for month_val in range(1,13):\n",
    "    print(calendar.month_abbr[month_val],'_',\n",
    "         calendar.month_name[month_val])"
   ]
  },
  {
   "cell_type": "code",
   "execution_count": 23,
   "metadata": {
    "ExecuteTime": {
     "end_time": "2019-10-21T12:00:13.499059Z",
     "start_time": "2019-10-21T12:00:13.490278Z"
    }
   },
   "outputs": [
    {
     "data": {
      "text/plain": [
       "(datetime.date(2019, 10, 21), datetime.date(2019, 10, 28))"
      ]
     },
     "execution_count": 23,
     "metadata": {},
     "output_type": "execute_result"
    }
   ],
   "source": [
    "# 根据当前日期找到上一个周一和即将到的周一的日期\n",
    "today = dt.date.today()\n",
    "last = today-dt.timedelta(days=today.weekday())\n",
    "#last = today-dt.timedelta(days=1-today.isoweekday())\n",
    "coming = today + dt.timedelta(days=-today.weekday(),\n",
    "                             weeks=1)\n",
    "last, coming"
   ]
  },
  {
   "cell_type": "code",
   "execution_count": 24,
   "metadata": {
    "ExecuteTime": {
     "end_time": "2019-10-21T12:00:33.104662Z",
     "start_time": "2019-10-21T12:00:33.100669Z"
    }
   },
   "outputs": [],
   "source": [
    "#如何得到指定日期所在周的开始和结束日期？\n",
    "date_str = '2018-01-14'\n",
    "date_obj = dt.datetime.strptime(date_str,'%Y-%m-%d')\n",
    "start_of_week = date_obj - dt.timedelta(\n",
    "    days=date_obj.weekday())\n",
    "end_of_week = start_of_week + timedelta(days=6)\n"
   ]
  },
  {
   "cell_type": "code",
   "execution_count": 26,
   "metadata": {
    "ExecuteTime": {
     "end_time": "2019-10-21T12:00:54.461658Z",
     "start_time": "2019-10-21T12:00:54.453663Z"
    }
   },
   "outputs": [
    {
     "data": {
      "text/plain": [
       "datetime.date(2019, 10, 28)"
      ]
     },
     "execution_count": 26,
     "metadata": {},
     "output_type": "execute_result"
    }
   ],
   "source": [
    "#获取当前季度的第一天和最后一天\n",
    "current = dt.datetime.now()\n",
    "quarter = round((current.month-1)/3+1)\n",
    "first_day = dt.datetime(current.year,3*quarter-2,1)\n",
    "last_day = dt.datetime(current.year,\n",
    "                       3*quarter+1,1)+dt.timedelta(\n",
    "    days=-1)"
   ]
  },
  {
   "cell_type": "code",
   "execution_count": null,
   "metadata": {},
   "outputs": [],
   "source": []
  }
 ],
 "metadata": {
  "kernelspec": {
   "display_name": "Python 3",
   "language": "python",
   "name": "python3"
  },
  "language_info": {
   "codemirror_mode": {
    "name": "ipython",
    "version": 3
   },
   "file_extension": ".py",
   "mimetype": "text/x-python",
   "name": "python",
   "nbconvert_exporter": "python",
   "pygments_lexer": "ipython3",
   "version": "3.6.5"
  },
  "toc": {
   "base_numbering": 1,
   "nav_menu": {},
   "number_sections": true,
   "sideBar": true,
   "skip_h1_title": false,
   "title_cell": "Table of Contents",
   "title_sidebar": "Contents",
   "toc_cell": false,
   "toc_position": {},
   "toc_section_display": true,
   "toc_window_display": false
  },
  "varInspector": {
   "cols": {
    "lenName": 16,
    "lenType": 16,
    "lenVar": 40
   },
   "kernels_config": {
    "python": {
     "delete_cmd_postfix": "",
     "delete_cmd_prefix": "del ",
     "library": "var_list.py",
     "varRefreshCmd": "print(var_dic_list())"
    },
    "r": {
     "delete_cmd_postfix": ") ",
     "delete_cmd_prefix": "rm(",
     "library": "var_list.r",
     "varRefreshCmd": "cat(var_dic_list()) "
    }
   },
   "types_to_exclude": [
    "module",
    "function",
    "builtin_function_or_method",
    "instance",
    "_Feature"
   ],
   "window_display": false
  }
 },
 "nbformat": 4,
 "nbformat_minor": 2
}
