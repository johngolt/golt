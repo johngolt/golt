{
 "cells": [
  {
   "cell_type": "code",
   "execution_count": 1,
   "metadata": {
    "ExecuteTime": {
     "end_time": "2020-05-06T03:03:07.258597Z",
     "start_time": "2020-05-06T03:03:07.240562Z"
    }
   },
   "outputs": [],
   "source": [
    "import warnings"
   ]
  },
  {
   "cell_type": "code",
   "execution_count": 3,
   "metadata": {
    "ExecuteTime": {
     "end_time": "2020-05-06T03:05:19.328296Z",
     "start_time": "2020-05-06T03:05:19.308265Z"
    }
   },
   "outputs": [
    {
     "name": "stdout",
     "output_type": "stream",
     "text": [
      "Hello World\n"
     ]
    },
    {
     "name": "stderr",
     "output_type": "stream",
     "text": [
      "C:\\自装\\python3\\lib\\site-packages\\ipykernel_launcher.py:1: UserWarning: Warning!\n",
      "  \"\"\"Entry point for launching an IPython kernel.\n"
     ]
    }
   ],
   "source": [
    "warnings.warn('Warning!')\n",
    "print('Hello World')"
   ]
  },
  {
   "cell_type": "code",
   "execution_count": 4,
   "metadata": {
    "ExecuteTime": {
     "end_time": "2020-05-06T03:23:48.937618Z",
     "start_time": "2020-05-06T03:23:48.895620Z"
    }
   },
   "outputs": [
    {
     "name": "stdout",
     "output_type": "stream",
     "text": [
      "Hello,world!\n",
      "Hello, *world*!\n"
     ]
    },
    {
     "name": "stderr",
     "output_type": "stream",
     "text": [
      "C:\\自装\\python3\\lib\\site-packages\\ipykernel_launcher.py:2: DeprecationWarning: \"hello\"will be removed in version 3.0\n",
      "  \n"
     ]
    }
   ],
   "source": [
    "def hello(name):\n",
    "    warnings.warn('\"hello\"will be removed in version 3.0', DeprecationWarning)\n",
    "    return f'Hello,{name}!'\n",
    "def newhello(name, decoration=''):\n",
    "    return f'Hello, {decoration}{name}{decoration}!'\n",
    "print(hello('world'))\n",
    "print(newhello('world','*'))"
   ]
  },
  {
   "cell_type": "code",
   "execution_count": null,
   "metadata": {},
   "outputs": [],
   "source": [
    "warnings.simplefilter()"
   ]
  },
  {
   "cell_type": "code",
   "execution_count": null,
   "metadata": {},
   "outputs": [],
   "source": [
    "warnings.simplefilter('ignore', UserWarning)\n",
    "warnings.simplefilter('error', DeprecationWarning)\n"
   ]
  },
  {
   "cell_type": "markdown",
   "metadata": {},
   "source": [
    "<code>\n",
    "    @contextmanager\n",
    "    def some_generator(args):\n",
    "        setup\n",
    "        try:\n",
    "            yield value\n",
    "        finally:\n",
    "            cleanup\n",
    "    </code>\n",
    "    \n",
    "setup所代表的设置类代码位于`try...finally`之前。注意关键字`yield`所在的位置，它所定义的值将赋值给`as`之后的变量，并保持值的稳定。如果存在一个未处理的异常，那么它将在生成器中`yield`位置被重新引发，然后执行`finally`代码块；反之，程序会优雅地运行下去，直至`finally`代码块运行结束。  "
   ]
  },
  {
   "cell_type": "code",
   "execution_count": null,
   "metadata": {},
   "outputs": [],
   "source": [
    "class CustomFileOpen:\n",
    "    def __init__(self, filename, mode):\n",
    "        self.filename = filename\n",
    "        self.mode = mode\n",
    "        \n",
    "    def __enter__(self):\n",
    "        self.f = open(self.filenane, self.mode)\n",
    "        return self.f\n",
    "    \n",
    "    def __exit__(self, *args):\n",
    "        self.f.close()\n",
    "with CustomFileOpen('file.txt', 'w') as f:\n",
    "    f.write('contents go here')\n",
    "    \n",
    "from contextlib import contextmanager\n",
    "@contextmanager\n",
    "def customfileopen(filename, mode):\n",
    "    f = open(filename, mode)\n",
    "    try:\n",
    "        yield f\n",
    "    finally:\n",
    "        f.close()\n"
   ]
  },
  {
   "cell_type": "markdown",
   "metadata": {},
   "source": [
    "将上下文管理器重写为装饰器。为此，在定义类时，须继承contextlib.ContextDecorator类。下面就编写一个名为RunTime的装饰器，该装饰器将能打开文件。并实现以下功能：\n",
    "打印向用户提供的功能说明\n",
    "打印运行该功能所需的时间\n",
    "\n",
    "上下文管理器拥有类似堆栈的逻辑，应按相反的顺序退出。任何一个上下文管理器都可以处理异常，若此异常已经被某个管理器所处理，那么其它的管理器将不会收到有关此异常的任何信息；因此，如果发生异常，诸多嵌套的上下文管理器的逻辑顺序就成了运维的重要依据；而问题的另一方面，我们可以使用`__exit__`方法来引发异常，然后使用上下文管理器对其进行处理。"
   ]
  },
  {
   "cell_type": "code",
   "execution_count": 5,
   "metadata": {
    "ExecuteTime": {
     "end_time": "2020-05-06T08:54:58.444144Z",
     "start_time": "2020-05-06T08:54:58.423141Z"
    }
   },
   "outputs": [
    {
     "name": "stdout",
     "output_type": "stream",
     "text": [
      "This function opens a file\n",
      "The function took 0.0029854774475097656 seconds to run.\n"
     ]
    }
   ],
   "source": [
    "from contextlib import ContextDecorator\n",
    "from time import time\n",
    "\n",
    "class RunTime(ContextDecorator):\n",
    "    \n",
    "    def __init__(self, description):\n",
    "        self.description = description\n",
    "    def __enter__(self):\n",
    "        print(self.description)\n",
    "        self.start_time = time()\n",
    "    \n",
    "    def __exit__(self, *args):\n",
    "        run_time = time() - self.start_time\n",
    "        print(f'The function took {run_time} seconds to run.')\n",
    "@RunTime('This function opens a file')\n",
    "def custom_file_open(filename, mode, content):\n",
    "    with open(filename, mode) as f:\n",
    "        f.write(content)\n",
    "custom_file_open('file.txt', 'w', 'jello')"
   ]
  },
  {
   "cell_type": "markdown",
   "metadata": {},
   "source": [
    "如果要优雅地管理多个资源，也可以使用ExitStack()。\n"
   ]
  },
  {
   "cell_type": "code",
   "execution_count": null,
   "metadata": {},
   "outputs": [],
   "source": [
    "from contextlib import ExitStack\n",
    "from pathlib import Path\n",
    "with ExitStack() as stack:\n",
    "    streams = (\n",
    "    stack.enter_context(open(fname, 'r')) for fname in Path('src').rglob('*.py')\n",
    "    )\n",
    "    contents = [f.read() for f in streams]"
   ]
  }
 ],
 "metadata": {
  "kernelspec": {
   "display_name": "Python 3",
   "language": "python",
   "name": "python3"
  },
  "language_info": {
   "codemirror_mode": {
    "name": "ipython",
    "version": 3
   },
   "file_extension": ".py",
   "mimetype": "text/x-python",
   "name": "python",
   "nbconvert_exporter": "python",
   "pygments_lexer": "ipython3",
   "version": "3.6.5"
  },
  "toc": {
   "base_numbering": 1,
   "nav_menu": {},
   "number_sections": true,
   "sideBar": true,
   "skip_h1_title": false,
   "title_cell": "Table of Contents",
   "title_sidebar": "Contents",
   "toc_cell": false,
   "toc_position": {},
   "toc_section_display": true,
   "toc_window_display": false
  },
  "varInspector": {
   "cols": {
    "lenName": 16,
    "lenType": 16,
    "lenVar": 40
   },
   "kernels_config": {
    "python": {
     "delete_cmd_postfix": "",
     "delete_cmd_prefix": "del ",
     "library": "var_list.py",
     "varRefreshCmd": "print(var_dic_list())"
    },
    "r": {
     "delete_cmd_postfix": ") ",
     "delete_cmd_prefix": "rm(",
     "library": "var_list.r",
     "varRefreshCmd": "cat(var_dic_list()) "
    }
   },
   "types_to_exclude": [
    "module",
    "function",
    "builtin_function_or_method",
    "instance",
    "_Feature"
   ],
   "window_display": false
  }
 },
 "nbformat": 4,
 "nbformat_minor": 2
}
