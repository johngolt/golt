{
 "cells": [
  {
   "cell_type": "markdown",
   "metadata": {},
   "source": [
    "##### 参数种类：定位参数和关键字参数传入的形参、定位参数元组、关键字参数字典、仅限关键字参数、仅限定位参数"
   ]
  },
  {
   "cell_type": "code",
   "execution_count": 17,
   "metadata": {},
   "outputs": [],
   "source": [
    "from inspect import signature\n",
    "def func(a,b=2,*arg,**kwarg):\n",
    "    print(a,b,arg,kwarg)"
   ]
  },
  {
   "cell_type": "code",
   "execution_count": 18,
   "metadata": {},
   "outputs": [
    {
     "name": "stdout",
     "output_type": "stream",
     "text": [
      "POSITIONAL_OR_KEYWORD a <class 'inspect._empty'>\n",
      "POSITIONAL_OR_KEYWORD b 2\n",
      "VAR_POSITIONAL arg <class 'inspect._empty'>\n",
      "VAR_KEYWORD kwarg <class 'inspect._empty'>\n"
     ]
    }
   ],
   "source": [
    "sig = signature(func)\n",
    "for name, param in sig.parameters.items():\n",
    "    print(param.kind, name, param.default)"
   ]
  },
  {
   "cell_type": "markdown",
   "metadata": {},
   "source": [
    "##### 支持函数式编程的包---operator模块、functools模块"
   ]
  },
  {
   "cell_type": "code",
   "execution_count": 19,
   "metadata": {},
   "outputs": [
    {
     "data": {
      "text/plain": [
       "[('Delhi NCR', 'IN', 21.935, (28.613889, 77.208889)),\n",
       " ('Tokyo', 'JP', 36.933, (35.689722, 139.691667)),\n",
       " ('Mexico City', 'MX', 20.142, (19.433333, -99.133333))]"
      ]
     },
     "execution_count": 19,
     "metadata": {},
     "output_type": "execute_result"
    }
   ],
   "source": [
    "'''itemgetter 使用 [] 运算符，因此它不仅支持序列，\n",
    "还支持映射和任何实现 __getitem__ 方法的类\n",
    "attrgetter 提取名称提取对象的属性 相当于 ’.‘ '''\n",
    "from operator import itemgetter\n",
    "metro_data = [ ('Tokyo', 'JP', 36.933, (35.689722, 139.691667)),\n",
    " ('Delhi NCR', 'IN', 21.935, (28.613889, 77.208889)),\n",
    " ('Mexico City', 'MX', 20.142, (19.433333, -99.133333)),]\n",
    "sorted(metro_data,key= itemgetter(1))"
   ]
  },
  {
   "cell_type": "code",
   "execution_count": 20,
   "metadata": {},
   "outputs": [
    {
     "data": {
      "text/plain": [
       "2"
      ]
     },
     "execution_count": 20,
     "metadata": {},
     "output_type": "execute_result"
    }
   ],
   "source": [
    "dic={1:2,3:4}\n",
    "f = itemgetter(1)\n",
    "f(dic)"
   ]
  },
  {
   "cell_type": "code",
   "execution_count": 21,
   "metadata": {},
   "outputs": [
    {
     "data": {
      "text/plain": [
       "'Tokyo'"
      ]
     },
     "execution_count": 21,
     "metadata": {},
     "output_type": "execute_result"
    }
   ],
   "source": [
    "from collections import namedtuple\n",
    "LatLong = namedtuple('LatLong', 'lat long') #\n",
    "Metropolis = namedtuple('Metropolis', 'name cc pop coord') \n",
    "metro_areas = [Metropolis(name, cc, pop, LatLong(lat, long)) \n",
    "                   for name, cc, pop, (lat, long) in metro_data]\n",
    "from operator import attrgetter\n",
    "sorted(metro_areas, key = attrgetter('coord.lat'))\n",
    "f = attrgetter('name') \n",
    "f(metro_areas[0]) # 相当于Metropolis.name"
   ]
  },
  {
   "cell_type": "code",
   "execution_count": 22,
   "metadata": {},
   "outputs": [
    {
     "data": {
      "text/plain": [
       "'THE TIME HAS COME'"
      ]
     },
     "execution_count": 22,
     "metadata": {},
     "output_type": "execute_result"
    }
   ],
   "source": [
    "from operator import methodcaller\n",
    "# methodcaller 创建的函数会在对象上调用参数指定的方法\n",
    "s = 'The time has come'\n",
    "upcase = methodcaller('upper')\n",
    "upcase(s)"
   ]
  },
  {
   "cell_type": "code",
   "execution_count": 23,
   "metadata": {},
   "outputs": [
    {
     "data": {
      "text/plain": [
       "648"
      ]
     },
     "execution_count": 23,
     "metadata": {},
     "output_type": "execute_result"
    }
   ],
   "source": [
    "# 使用functools.partial 冻结参数\n",
    "from operator import mul\n",
    "from functools import partial,reduce\n",
    "# partial 对象提供了访问原函数和固定参数的属性\n",
    "#partialmethod 函数用于处理方法\n",
    "def fun(a,b,c):\n",
    "    return a*b*c\n",
    "triple = partial(fun,3)\n",
    "reduce(triple,range(1,5))"
   ]
  },
  {
   "cell_type": "markdown",
   "metadata": {},
   "source": [
    "#### 装饰器\n",
    "装饰器：可调用对象，其参数时另一个函数装饰器可能会处理被装饰的函数，然后把它返回，或者将其替换成另一个函数或可调用对象。\n",
    "\n",
    "闭包：保留定义函数时存在的自由变量的绑定，这样调用函数时，虽然定义作用域不可用，但是仍能使用那些绑定。只有嵌套在其他函数中的函数才可能需要处理不在全局作用域中的外部变量。\n",
    "<code>\n",
    "    @clock\n",
    "    def factorial(n):\n",
    "等价于factorial = clock(factorial)</code>"
   ]
  },
  {
   "cell_type": "code",
   "execution_count": 1,
   "metadata": {},
   "outputs": [
    {
     "name": "stdout",
     "output_type": "stream",
     "text": [
      "running register(active=True)->decorate(<function f1 at 0x0000029E672B79D8>)\n"
     ]
    }
   ],
   "source": [
    "'''如何让装饰器函数接受其他参数？ \n",
    "创建一个装饰器工程函数，把参数传给它，返回一个装饰器，然后再把它应用到要装饰的函数上。'''\n",
    "import json\n",
    "# 在定义装饰器后真正的参数只有一个参数，那就是被装饰函数的指针。\n",
    "def json_output(indent = None, sort_keys = False):\n",
    "    def actual_decorator(decorated):\n",
    "        def inner(*args,**kwargs):\n",
    "            result = decorated(*args,**kwargs)\n",
    "            return json.dumps(result,indent=indent,sort_keys = sort_keys)\n",
    "        return inner\n",
    "    return actual_decorator\n",
    "@json_output(indent = 8) # 函数的返回值作为装饰器\n",
    "def do_nothing():\n",
    "    return {'status':'done','func':'yes'}\n",
    "do_nothing()"
   ]
  },
  {
   "cell_type": "code",
   "execution_count": null,
   "metadata": {},
   "outputs": [],
   "source": [
    "import functools\n",
    "def log(func):\n",
    "    @functools.wraps(func) #原始函数的__name__等属性复制到wrapper()函数中\n",
    "    def wrapper(*args, **kw):\n",
    "        print('call %s():' % func.__name__)\n",
    "        return func(*args, **kw)\n",
    "    return wrapper\n",
    "@log\n",
    "def now():\n",
    "    print('2015-3-25')"
   ]
  },
  {
   "cell_type": "markdown",
   "metadata": {},
   "source": [
    "#### Python 优雅地dumps非标准类型"
   ]
  },
  {
   "cell_type": "code",
   "execution_count": null,
   "metadata": {},
   "outputs": [],
   "source": [
    "import json\n",
    "from datetime import datetime\n",
    "from decimal import Decimal\n",
    "from functools import singledispatch\n",
    "\n",
    "class MyClass:\n",
    "    def __init__(self, value):\n",
    "        self._value = value\n",
    "    def get_value(self):\n",
    "        return self._value\n",
    "\n",
    "mc = MyClass('myclass')\n",
    "dm = Decimal('11.11')\n",
    "dt = datetime.now()\n",
    "@singledispatch\n",
    "def convert(o):\n",
    "    raise TypeError('can not convert type')\n",
    "@convert.register(datetime)\n",
    "def _(o):\n",
    "    return o.strftime('%b %d %Y %H: %M: %S')\n",
    "@convert.register(MyClass)\n",
    "def _(o):\n",
    "    return o.get_value()\n",
    "@convert.register(Decimal)\n",
    "def _(o):\n",
    "    return float(o)\n",
    "class ExtendJSONEncoder(json.JSONEncoder):\n",
    "    def default(self, obj):\n",
    "        try:\n",
    "            return convert(obj)\n",
    "        except TypeError:\n",
    "            return super(ExtendJSONEncoder, self).default(obj)\n",
    "data = {\n",
    "    'mc':mc, 'dm': dm, 'dt': dt\n",
    "}\n",
    "json.dumps(data, cls = ExtendJSONEncoder)"
   ]
  },
  {
   "cell_type": "code",
   "execution_count": null,
   "metadata": {},
   "outputs": [],
   "source": [
    "#创建一个自己的迭代辅助函数\n",
    "def with_next(iterable):\n",
    "    iterator = iter(iterable)\n",
    "    current = next(iterator)\n",
    "    for next_item in iterator:\n",
    "        yield next_item,current\n",
    "        current = next_item\n",
    "\n",
    "difference = []\n",
    "for next_item,current in with_next(events):\n",
    "    difference.append(next_item-current)\n",
    "difference"
   ]
  },
  {
   "cell_type": "code",
   "execution_count": null,
   "metadata": {},
   "outputs": [],
   "source": [
    "'''把变量从内存中变成可存储或传输的过程称之为序列化，在Python中叫pickling.\n",
    "序列化之后，就可以把序列化后的内容写入磁盘，或者通过网络传输到别的机器上。\n",
    "反过来，把变量内容从序列化的对象重新读到内存里称之为反序列化，即unpickling。'''\n",
    "'''数据库表是一个二维表，包含多行多列。把一个表的内容用Python的数据结构表示出来的话，\n",
    "可以用一个list表示多行，list的每一个元素是tuple，表示一行记录。\n",
    "但是用tuple表示一行很难看出表的结构。如果把一个tuple用class实例来表示，\n",
    "就可以更容易地看出表的结构来。\n",
    "这就是传说中的ORM技术：Object-Relational Mapping，把关系数据库的表结构映射到对象上。'''"
   ]
  },
  {
   "cell_type": "code",
   "execution_count": null,
   "metadata": {},
   "outputs": [],
   "source": [
    "class A:\n",
    "    def __init__(self, a, b):\n",
    "        self.a = a\n",
    "        self.b = b\n",
    "        \n",
    "    def mydefault(self,*args):\n",
    "        print('default',str(args[0]))\n",
    "# 只有当没有定义的方法调用时，才会有调用方法__getattr__。\n",
    "    def __getattr__(self,name):\n",
    "        return self.mydefault\n",
    "    \n",
    "a = A(1,2)\n",
    "a.first(5)"
   ]
  },
  {
   "cell_type": "code",
   "execution_count": null,
   "metadata": {},
   "outputs": [],
   "source": [
    "# 可切片序列\n",
    "from array import array\n",
    "import reprlib\n",
    "import math\n",
    "import numbers\n",
    "class Vector:\n",
    "    typecode = 'd'\n",
    "    def __init__(self, components):\n",
    "        self._components = array(self.typecode, components) \n",
    "    def __repr__(self):\n",
    "        components = reprlib.repr(self._components) \n",
    "        components = components[components.find('['):-1] \n",
    "        return 'Vector({})'.format(components)\n",
    "    \n",
    "    def __getitem__(self,index):\n",
    "        cls = type(self)\n",
    "        if isinstance(index,slice):\n",
    "            return cls(self._components[index])\n",
    "        elif isinstance(index,numbers.Integral):\n",
    "            return self._components[index]\n",
    "        else:\n",
    "            msg = '{cls.__name__} indices must be integers'\n",
    "            raise TypeError(msg.format(cls=cls))"
   ]
  },
  {
   "cell_type": "code",
   "execution_count": null,
   "metadata": {},
   "outputs": [],
   "source": [
    "class Seq:\n",
    "    def __init__(self,component):\n",
    "        self._components = list(component)\n",
    "    def __repr__(self):\n",
    "        components = reprlib.repr(self._components) \n",
    "        # 使用reprlib.repr() 获取self._components的有限长度表示形式。\n",
    "        components = components[components.find('['):] \n",
    "        # 把字符串插入 Vector 的构造方法调用之前，去掉前面的array('d' 和后面的 )\n",
    "        return 'Seq({})'.format(components)\n",
    "    def __getitem__(self,index):\n",
    "        cls = type(self)\n",
    "        if isinstance(index,tuple):\n",
    "            return cls(self._components[index[0]][index[1]])\n",
    "        else:\n",
    "            raise TypeError()"
   ]
  },
  {
   "cell_type": "code",
   "execution_count": null,
   "metadata": {},
   "outputs": [],
   "source": [
    "# 动态存取属性\n",
    "from array import array\n",
    "import reprlib\n",
    "import math\n",
    "import numbers\n",
    "import functools\n",
    "import operator\n",
    "class Vector:\n",
    "    typecode = 'd'\n",
    "    shortcut_names = 'xyzt'\n",
    "    def __init__(self, components):\n",
    "        self._components = array(self.typecode, components) \n",
    "    def __getattr__(self,name):\n",
    "        cls = type(self)\n",
    "        if len(name)==1:\n",
    "            pos = cls.shortcut_names.find(name)\n",
    "            if 0 <= pos <len(self._components):\n",
    "                return self._components[pos]\n",
    "        msg = '{.__name__!r} object has no attribute {!r}' \n",
    "        raise AttributeError(msg.format(cls, name))\n",
    "    \n",
    "    def __setattr__(self, name, value):\n",
    "        cls = type(self)\n",
    "        if len(name) == 1: \n",
    "            if name in cls.shortcut_names: \n",
    "                error = 'readonly attribute {attr_name!r}'\n",
    "            elif name.islower(): \n",
    "                error = \"can't set attributes 'a' to 'z' in {cls_name!r}\"\n",
    "            else:\n",
    "                error = '' \n",
    "        if error: \n",
    "            msg = error.format(cls_name=cls.__name__, attr_name=name)\n",
    "            raise AttributeError(msg)\n",
    "        super().__setattr__(name, value)\n",
    "\n",
    "'''多数时候，\n",
    "如果实现了 __getattr__ 方法，那么也要定义__setattr__ 方法，以防对象的行为不一致。'''\n"
   ]
  },
  {
   "cell_type": "code",
   "execution_count": null,
   "metadata": {},
   "outputs": [],
   "source": [
    "# 在迭代操作和其他操作的时候，怎样只保留最后N个元素\n",
    "from collections import deque #双向队列\n",
    "\n",
    "def search(lines, pattern, history = 5):\n",
    "    previous_line = deque(maxlen= history)\n",
    "    for line in lines:\n",
    "        if pattern in line:\n",
    "            yield line, previous_line\n",
    "        previous_line.append(line)\n",
    "with open('py.txt','r') as f:\n",
    "    for line, previous_line in search(f,'how',3):\n",
    "        for pline in previous_line:\n",
    "            print(pline, end=' ')\n",
    "        print(line, end=' ')\n",
    "        print('-'*20)\n",
    "    "
   ]
  },
  {
   "cell_type": "code",
   "execution_count": null,
   "metadata": {},
   "outputs": [],
   "source": [
    "# 查找最大或最小的n个元素\n",
    "import heapq\n",
    "nums = [1, 8, 2, 23, 7, -4, 18, 23, 42, 37, 2]\n",
    "display(heapq.nlargest(3,nums), heapq.nsmallest(3,nums))\n",
    "portfolio = [ {'name': 'IBM', 'shares': 100, 'price': 91.1},\n",
    "             {'name': 'AAPL', 'shares': 50, 'price': 543.22},\n",
    "             {'name': 'FB', 'shares': 200, 'price': 21.09}, \n",
    "             {'name': 'HPQ', 'shares': 35, 'price': 31.75}, \n",
    "             {'name': 'YHOO', 'shares': 45, 'price': 16.35}, \n",
    "             {'name': 'ACME', 'shares': 75, 'price': 115.65} ] \n",
    "cheap = heapq.nsmallest(3, portfolio, key=lambda s: s['price']) \n",
    "expensive = heapq.nlargest(3, portfolio, key=lambda s: s['price'])\n",
    "print(expensive)"
   ]
  },
  {
   "cell_type": "code",
   "execution_count": null,
   "metadata": {},
   "outputs": [],
   "source": [
    "class PriorityQueue:\n",
    "    def __init__(self):\n",
    "        self.queue = []\n",
    "        self.index = 0\n",
    "    def push(self, item, priority):\n",
    "        heapq.heappush(self.queue, (-priority, self.index, item))\n",
    "        self.index+=1 # index 变量也在相 同优先级元素比较的时候起到重要作用\n",
    "        \n",
    "    def pop(self):\n",
    "        return heapq.heappop(self.queue)[-1]\n",
    "    \n",
    "class Item:\n",
    "    def __init__(self, name):\n",
    "        self.name = name\n",
    "        \n",
    "    def __repr__(self):\n",
    "        return 'Item({!r})'.format(self.name)\n",
    "q= PriorityQueue()\n",
    "q.push(Item('foo'), 1) \n",
    "q.push(Item('bar'), 5) \n",
    "q.push(Item('spam'), 4) \n",
    "q.push(Item('grok'), 1) "
   ]
  },
  {
   "cell_type": "code",
   "execution_count": null,
   "metadata": {},
   "outputs": [],
   "source": [
    "# 删除序列相同的元素同时保持顺序不变\n",
    "#序列上的值都是 hashable 类型\n",
    "def dedupe(items): \n",
    "    seen = set() \n",
    "    for item in items: \n",
    "        if item not in seen: \n",
    "            yield item \n",
    "            seen.add(item)\n",
    "a = [1, 5, 2, 1, 9, 1, 5, 10]\n",
    "list(dedupe(a))\n",
    "#想消除元素不可哈 希 (比如 dict 类型) 的序列中重复元素\n",
    "def dedupe(items, key=None):\n",
    "    seen = set()\n",
    "    for item in items:\n",
    "        val = item if key is None else key(item)\n",
    "        if val not in seen: \n",
    "            yield item \n",
    "            seen.add(val) \n",
    "a = [ {'x':1, 'y':2}, {'x':1, 'y':3}, {'x':1, 'y':2}, {'x':2, 'y':4}] \n",
    "list(dedupe(a, key=lambda d: (d['x'],d['y'])))"
   ]
  },
  {
   "cell_type": "code",
   "execution_count": null,
   "metadata": {},
   "outputs": [],
   "source": [
    "# 通过某个字段将记录分组\n",
    "from itertools import groupby\n",
    "rows = [ {'address': '5412 N CLARK', 'date': '07/01/2012'}, \n",
    "        {'address': '5148 N CLARK', 'date': '07/04/2012'}, \n",
    "        {'address': '5800 E 58TH', 'date': '07/02/2012'}, \n",
    "        {'address': '2122 N CLARK', 'date': '07/03/2012'}, \n",
    "        {'address': '5645 N RAVENSWOOD', 'date': '07/02/2012'},\n",
    "        {'address': '1060 W ADDISON', 'date': '07/02/2012'}, \n",
    "        {'address': '4801 N BROADWAY', 'date': '07/01/2012'},\n",
    "        {'address': '1039 W GRANVILLE', 'date': '07/04/2012'}]\n",
    "rows.sort(key=itemgetter('date')) #先排序，后分组\n",
    "for date, items in groupby(rows, key=itemgetter('date')): \n",
    "    print(date) \n",
    "    for i in items:\n",
    "        print(' ', i)\n",
    "#要根据指定的字段将数据排序。因为 groupby() 仅仅检查连续的元素\n"
   ]
  },
  {
   "cell_type": "code",
   "execution_count": null,
   "metadata": {},
   "outputs": [],
   "source": [
    "### 字符串搜索\n",
    "import re\n",
    "text = 'Today is 11/27/2012. PyCon starts 3/13/2013' \n",
    "datapa = re.compile(r'(\\d+)/(\\d+)/(\\d+)')\n",
    "itertext = datapa.finditer(text)\n",
    "for tex in itertext:\n",
    "    print('{2}-{0}-{1}'.format(*tex.groups()))\n",
    "\n",
    "datepat = re.compile(r'(\\d+)/(\\d+)/(\\d+)') \n",
    "datepat.search('ddd11/27/2012').groups()\n",
    "\n",
    "### 字符串替代\n",
    "\n",
    " re.sub(r'(\\d+)/(\\d+)/(\\d+)', r'\\3/\\1/\\2', text) \n",
    "import re\n",
    "s = '2016-05-23  2016-05-24 2016-05-25'\n",
    "re.sub(r'(?P<year>\\d{4})-(?P<month>\\d{2})-(?P<day>\\d{2})',\n",
    "       r'\\g<month>/\\g<day>/\\g<year>',s)\n",
    "# re.sub(\"(\\d{4})-(\\d{2})-(\\d{2})\",r\"\\2/\\3/\\1\",s) \\2 表示第个group\n",
    "\n",
    "from calendar import month_abbr \n",
    "def change_date(m):\n",
    "    mon_name = month_abbr[int(m.group(1))]\n",
    "    return '{} {} {}'.format(m.group(2), mon_name, m.group(3)) \n",
    "datepat.sub(change_date, text) \n",
    "\n",
    "newtext,n=datepat.subn(r'\\3-\\1-\\2',text)\n",
    "display(newtext,n)# n表示替代发生次数\n",
    "\n",
    "### 字符串忽略大小写的搜索和替代\n",
    "\n",
    "text = 'UPPER PYTHON, lower python, Mixed Python' \n",
    "find= re.findall('python', text, flags=re.IGNORECASE) \n",
    "sub = re.sub('python', 'snake', text, flags=re.IGNORECASE)\n",
    "display(find,sub)\n",
    "\n",
    "def matchcase(word):\n",
    "    def replace(m):\n",
    "        text = m.group()\n",
    "        if text.isupper():\n",
    "            return word.upper()\n",
    "        elif text.islower():\n",
    "            return word.lower()\n",
    "        elif text[0].isupper():\n",
    "            return word.capitalize()\n",
    "        else:\n",
    "            return word\n",
    "    return replace\n",
    "re.sub('python', matchcase('snake'), text, flags=re.IGNORECASE) \n",
    "#group 是所有满足匹配的字符串的字符串。"
   ]
  },
  {
   "cell_type": "code",
   "execution_count": null,
   "metadata": {},
   "outputs": [],
   "source": [
    "#在一行中调用多个函数。\n",
    "def add(a, b):\n",
    "    return a + b\n",
    "def subtract(a, b):\n",
    "    return a - b\n",
    "a, b = 4, 5\n",
    "print((subtract if a > b else add)(a, b)) # 9\n",
    "\n",
    "#合并两个词典。\n",
    "def merge_dictionaries(a, b)\n",
    "   return {**a, **b}\n",
    "a = {  x : 1,  y : 2}\n",
    "b = {  y : 3,  z : 4}\n",
    "#返回列表中出现的最常见元素。\n",
    "def most_frequent(list):\n",
    "    return max(set(list), key = list.count)\n",
    "  \n",
    "list = [1,2,1,2,3,2,1,4,2]\n",
    "most_frequent(list)\n",
    "#输出一个执行单元中的所有结果\n",
    "from IPython.core.interactiveshell import InteractiveShell  \n",
    "InteractiveShell.ast_node_interactivity = \"all\"\n",
    "#如果要恢复成初始设定：\n",
    "InteractiveShell.ast_node_interactivity = \"last_expr\"\n",
    "\n",
    "import itertools\n",
    "\n",
    "for line in itertools.dropwhile(lambda line: line.startswith(\"//\"), \n",
    "                                string_from_file.split(\"\\n\")):\n",
    "    print(line)"
   ]
  },
  {
   "cell_type": "code",
   "execution_count": null,
   "metadata": {},
   "outputs": [],
   "source": [
    "'''迭代器切片: 如果对迭代器进行切片操作，会返回一个「TypeError」，\n",
    "提示生成器对象没有下标，但是我们可以用一个简单的方案来解决这个问题：'''\n",
    "#先实现迭代器对象，然后再实现可迭代对象。\n",
    "# islice(iterable, stop) --> islice object\n",
    "# islice(iterable, start, stop[, step]) --> islice object\n",
    "### 可迭代对象和迭代器\n",
    "import itertools\n",
    "s = itertools.islice((i*2 for i in range(30)), 10, 20)  \n",
    "for val in s:\n",
    "    print(val)"
   ]
  },
  {
   "cell_type": "code",
   "execution_count": null,
   "metadata": {},
   "outputs": [],
   "source": [
    "# 如何创建可管理的对象属性\n",
    "class Attr:\n",
    "    def __init__(self, name, type_):\n",
    "        self.name = name\n",
    "        self.type_ = type_\n",
    "        \n",
    "    def __get__(self, instance, cls):\n",
    "        return instance.__dict__[self.name]\n",
    "    \n",
    "    def __set__(self, instance, value):\n",
    "        if not isinstance(value, self.type_):\n",
    "            raise TypeError('not %s',self.type_)\n",
    "        instance.__dict__[self.name]= float(value)\n",
    "    \n",
    "    def __delete__(self, instance):\n",
    "        del instance.__dict__[self.name]\n",
    "        \n",
    "class A:\n",
    "    R = Attr('R',(int,float))\n",
    "    def __init__(self, radius):\n",
    "        self.R = radius\n",
    "a = A(5)\n",
    "a.R = 6\n",
    "a.R\n",
    "\n",
    "class Circle2:\n",
    "    def __init__(self, radius):\n",
    "        self.radius = radius\n",
    "    @property\n",
    "    def R(self):\n",
    "        return self.radius \n",
    "    @R.setter\n",
    "    def R(self, value):\n",
    "        if isinstance(value, (int, float)):\n",
    "            self.radius = float(value)\n",
    "        else:\n",
    "            raise ValueError('Wrong')\n",
    "            \n",
    "def quantity(storage_name):\n",
    "    def qty_getter(instance):\n",
    "        return instance.__dict__[storage_name]\n",
    "    def qty_setter(instance, value):\n",
    "        if value > 0:\n",
    "            instance.__dict__[storage_name] = value\n",
    "        else:\n",
    "            raise ValueError('value must be > 0')\n",
    "    return property(qty_getter, qty_setter)\n",
    "class LineItem:\n",
    "    #使用工厂函数把自定义的特性weight定义为类属性。\n",
    "    weight = quantity('weight')\n",
    "    #构建另一个自定义的特性，price。\n",
    "    price = quantity('price')\n",
    "    def __init__(self, description, weight, price):\n",
    "        self.description = description\n",
    "        self.weight = weight\n",
    "        self.price = price\n",
    "    def subtotal(self):\n",
    "        return self.weight * self.price\n",
    "\n",
    "nutmeg = LineItem('Moluccan nutmeg', 8, 13.95)"
   ]
  },
  {
   "cell_type": "code",
   "execution_count": null,
   "metadata": {},
   "outputs": [],
   "source": [
    "# 如何派生内置不可变类型并修改其实例化行为\n",
    "class IntTuple(tuple):\n",
    "    def __new__(cls, iterable): # 调用__init__函数之前，会先调用__new__函数\n",
    "        g= (x for x in iterable if isinstance(x, int) and x>0)\n",
    "        return super(IntTuple, cls).__new__(cls, g)# 继承父类的__new__函数\n",
    "    def __init__(self,iterable):\n",
    "        print(self)\n",
    "        super(IntTuple, self).__init__( )\n",
    "t =  IntTuple([1,-1,'abc',6,['x','y'],3])"
   ]
  },
  {
   "cell_type": "code",
   "execution_count": null,
   "metadata": {},
   "outputs": [],
   "source": []
  },
  {
   "cell_type": "code",
   "execution_count": null,
   "metadata": {},
   "outputs": [],
   "source": []
  },
  {
   "cell_type": "code",
   "execution_count": null,
   "metadata": {},
   "outputs": [],
   "source": []
  },
  {
   "cell_type": "code",
   "execution_count": null,
   "metadata": {},
   "outputs": [],
   "source": []
  }
 ],
 "metadata": {
  "kernelspec": {
   "display_name": "Python 3",
   "language": "python",
   "name": "python3"
  },
  "language_info": {
   "codemirror_mode": {
    "name": "ipython",
    "version": 3
   },
   "file_extension": ".py",
   "mimetype": "text/x-python",
   "name": "python",
   "nbconvert_exporter": "python",
   "pygments_lexer": "ipython3",
   "version": "3.7.4"
  }
 },
 "nbformat": 4,
 "nbformat_minor": 2
}
