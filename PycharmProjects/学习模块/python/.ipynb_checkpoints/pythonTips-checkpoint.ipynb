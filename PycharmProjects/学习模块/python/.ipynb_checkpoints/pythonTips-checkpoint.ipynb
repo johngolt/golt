{
 "cells": [
  {
   "cell_type": "markdown",
   "metadata": {},
   "source": [
    "##### 参数种类：定位参数和关键字参数传入的形参、定位参数元组、关键字参数字典、仅限关键字参数、仅限定位参数"
   ]
  },
  {
   "cell_type": "code",
   "execution_count": 17,
   "metadata": {},
   "outputs": [],
   "source": [
    "from inspect import signature\n",
    "def func(a,b=2,*arg,**kwarg):\n",
    "    print(a,b,arg,kwarg)"
   ]
  },
  {
   "cell_type": "code",
   "execution_count": 18,
   "metadata": {},
   "outputs": [
    {
     "name": "stdout",
     "output_type": "stream",
     "text": [
      "POSITIONAL_OR_KEYWORD a <class 'inspect._empty'>\n",
      "POSITIONAL_OR_KEYWORD b 2\n",
      "VAR_POSITIONAL arg <class 'inspect._empty'>\n",
      "VAR_KEYWORD kwarg <class 'inspect._empty'>\n"
     ]
    }
   ],
   "source": [
    "sig = signature(func)\n",
    "for name, param in sig.parameters.items():\n",
    "    print(param.kind, name, param.default)"
   ]
  },
  {
   "cell_type": "markdown",
   "metadata": {},
   "source": [
    "##### 支持函数式编程的包---operator模块、functools模块"
   ]
  },
  {
   "cell_type": "code",
   "execution_count": 19,
   "metadata": {},
   "outputs": [
    {
     "data": {
      "text/plain": [
       "[('Delhi NCR', 'IN', 21.935, (28.613889, 77.208889)),\n",
       " ('Tokyo', 'JP', 36.933, (35.689722, 139.691667)),\n",
       " ('Mexico City', 'MX', 20.142, (19.433333, -99.133333))]"
      ]
     },
     "execution_count": 19,
     "metadata": {},
     "output_type": "execute_result"
    }
   ],
   "source": [
    "'''itemgetter 使用 [] 运算符，因此它不仅支持序列，\n",
    "还支持映射和任何实现 __getitem__ 方法的类\n",
    "attrgetter 提取名称提取对象的属性 相当于 ’.‘ '''\n",
    "from operator import itemgetter\n",
    "metro_data = [ ('Tokyo', 'JP', 36.933, (35.689722, 139.691667)),\n",
    " ('Delhi NCR', 'IN', 21.935, (28.613889, 77.208889)),\n",
    " ('Mexico City', 'MX', 20.142, (19.433333, -99.133333)),]\n",
    "sorted(metro_data,key= itemgetter(1))"
   ]
  },
  {
   "cell_type": "code",
   "execution_count": 20,
   "metadata": {},
   "outputs": [
    {
     "data": {
      "text/plain": [
       "2"
      ]
     },
     "execution_count": 20,
     "metadata": {},
     "output_type": "execute_result"
    }
   ],
   "source": [
    "dic={1:2,3:4}\n",
    "f = itemgetter(1)\n",
    "f(dic)"
   ]
  },
  {
   "cell_type": "code",
   "execution_count": 21,
   "metadata": {},
   "outputs": [
    {
     "data": {
      "text/plain": [
       "'Tokyo'"
      ]
     },
     "execution_count": 21,
     "metadata": {},
     "output_type": "execute_result"
    }
   ],
   "source": [
    "from collections import namedtuple\n",
    "LatLong = namedtuple('LatLong', 'lat long') #\n",
    "Metropolis = namedtuple('Metropolis', 'name cc pop coord') \n",
    "metro_areas = [Metropolis(name, cc, pop, LatLong(lat, long)) \n",
    "                   for name, cc, pop, (lat, long) in metro_data]\n",
    "from operator import attrgetter\n",
    "sorted(metro_areas, key = attrgetter('coord.lat'))\n",
    "f = attrgetter('name') \n",
    "f(metro_areas[0]) # 相当于Metropolis.name"
   ]
  },
  {
   "cell_type": "code",
   "execution_count": 22,
   "metadata": {},
   "outputs": [
    {
     "data": {
      "text/plain": [
       "'THE TIME HAS COME'"
      ]
     },
     "execution_count": 22,
     "metadata": {},
     "output_type": "execute_result"
    }
   ],
   "source": [
    "from operator import methodcaller\n",
    "# methodcaller 创建的函数会在对象上调用参数指定的方法\n",
    "s = 'The time has come'\n",
    "upcase = methodcaller('upper')\n",
    "upcase(s)"
   ]
  },
  {
   "cell_type": "code",
   "execution_count": 23,
   "metadata": {},
   "outputs": [
    {
     "data": {
      "text/plain": [
       "648"
      ]
     },
     "execution_count": 23,
     "metadata": {},
     "output_type": "execute_result"
    }
   ],
   "source": [
    "#给定一个字符串，找到包含的不同字符个数不超过K的最长的连续子串\n",
    "def longest_substring_with_k_distinct(str1, k):\n",
    "    window_start = 0\n",
    "    max_length = 0\n",
    "    char_frequency = {}\n",
    "    for window_end in range(len(str1)):\n",
    "        right_char = str1[window_end]\n",
    "        if right_char not in char_frequency:\n",
    "            char_frequency[right_char] = 0\n",
    "        char_frequency[right_char] += 1\n",
    "\n",
    "        while len(char_frequency) > k:\n",
    "            left_char = str1[window_start]\n",
    "            char_frequency[left_char] -= 1\n",
    "            if char_frequency[left_char] == 0:\n",
    "                del char_frequency[left_char]\n",
    "            window_start += 1  # 收缩窗口\n",
    "        max_length = max(max_length, window_end-window_start + 1)\n",
    "    return max_length"
   ]
  },
  {
   "cell_type": "markdown",
   "metadata": {},
   "source": []
  },
  {
   "cell_type": "code",
   "execution_count": null,
   "metadata": {},
   "outputs": [],
   "source": [
    "'''把变量从内存中变成可存储或传输的过程称之为序列化，在Python中叫pickling.\n",
    "序列化之后，就可以把序列化后的内容写入磁盘，或者通过网络传输到别的机器上。\n",
    "反过来，把变量内容从序列化的对象重新读到内存里称之为反序列化，即unpickling。'''\n",
    "'''数据库表是一个二维表，包含多行多列。把一个表的内容用Python的数据结构表示出来的话，\n",
    "可以用一个list表示多行，list的每一个元素是tuple，表示一行记录。\n",
    "但是用tuple表示一行很难看出表的结构。如果把一个tuple用class实例来表示，\n",
    "就可以更容易地看出表的结构来。\n",
    "这就是传说中的ORM技术：Object-Relational Mapping，把关系数据库的表结构映射到对象上。'''"
   ]
  },
  {
   "cell_type": "code",
   "execution_count": 1,
   "metadata": {
    "ExecuteTime": {
     "end_time": "2020-07-16T06:27:53.402264Z",
     "start_time": "2020-07-16T06:27:53.391294Z"
    }
   },
   "outputs": [
    {
     "name": "stdout",
     "output_type": "stream",
     "text": [
      "default 5\n"
     ]
    }
   ],
   "source": []
  },
  {
   "cell_type": "code",
   "execution_count": null,
   "metadata": {},
   "outputs": [],
   "source": [
    "# 在迭代操作和其他操作的时候，怎样只保留最后N个元素\n",
    "from collections import deque #双向队列\n",
    "\n",
    "def search(lines, pattern, history = 5):\n",
    "    previous_line = deque(maxlen= history)\n",
    "    for line in lines:\n",
    "        if pattern in line:\n",
    "            yield line, previous_line\n",
    "        previous_line.append(line)\n",
    "with open('py.txt','r') as f:\n",
    "    for line, previous_line in search(f,'how',3):\n",
    "        for pline in previous_line:\n",
    "            print(pline, end=' ')\n",
    "        print(line, end=' ')\n",
    "        print('-'*20)\n",
    "    "
   ]
  },
  {
   "cell_type": "code",
   "execution_count": null,
   "metadata": {},
   "outputs": [],
   "source": [
    "# 查找最大或最小的n个元素\n",
    "import heapq\n",
    "nums = [1, 8, 2, 23, 7, -4, 18, 23, 42, 37, 2]\n",
    "display(heapq.nlargest(3,nums), heapq.nsmallest(3,nums))\n",
    "portfolio = [ {'name': 'IBM', 'shares': 100, 'price': 91.1},\n",
    "             {'name': 'AAPL', 'shares': 50, 'price': 543.22},\n",
    "             {'name': 'FB', 'shares': 200, 'price': 21.09}, \n",
    "             {'name': 'HPQ', 'shares': 35, 'price': 31.75}, \n",
    "             {'name': 'YHOO', 'shares': 45, 'price': 16.35}, \n",
    "             {'name': 'ACME', 'shares': 75, 'price': 115.65} ] \n",
    "cheap = heapq.nsmallest(3, portfolio, key=lambda s: s['price']) \n",
    "expensive = heapq.nlargest(3, portfolio, key=lambda s: s['price'])\n",
    "print(expensive)"
   ]
  },
  {
   "cell_type": "code",
   "execution_count": null,
   "metadata": {},
   "outputs": [],
   "source": [
    "class PriorityQueue:\n",
    "    def __init__(self):\n",
    "        self.queue = []\n",
    "        self.index = 0\n",
    "    def push(self, item, priority):\n",
    "        heapq.heappush(self.queue, (-priority, self.index, item))\n",
    "        self.index+=1 # index 变量也在相 同优先级元素比较的时候起到重要作用\n",
    "        \n",
    "    def pop(self):\n",
    "        return heapq.heappop(self.queue)[-1]\n",
    "    \n",
    "class Item:\n",
    "    def __init__(self, name):\n",
    "        self.name = name\n",
    "        \n",
    "    def __repr__(self):\n",
    "        return 'Item({!r})'.format(self.name)\n",
    "q= PriorityQueue()\n",
    "q.push(Item('foo'), 1) \n",
    "q.push(Item('bar'), 5) \n",
    "q.push(Item('spam'), 4) \n",
    "q.push(Item('grok'), 1) "
   ]
  },
  {
   "cell_type": "code",
   "execution_count": null,
   "metadata": {},
   "outputs": [],
   "source": [
    "# 删除序列相同的元素同时保持顺序不变\n",
    "#序列上的值都是 hashable 类型\n",
    "def dedupe(items): \n",
    "    seen = set() \n",
    "    for item in items: \n",
    "        if item not in seen: \n",
    "            yield item \n",
    "            seen.add(item)\n",
    "a = [1, 5, 2, 1, 9, 1, 5, 10]\n",
    "list(dedupe(a))\n",
    "#想消除元素不可哈 希 (比如 dict 类型) 的序列中重复元素\n",
    "def dedupe(items, key=None):\n",
    "    seen = set()\n",
    "    for item in items:\n",
    "        val = item if key is None else key(item)\n",
    "        if val not in seen: \n",
    "            yield item \n",
    "            seen.add(val) \n",
    "a = [ {'x':1, 'y':2}, {'x':1, 'y':3}, {'x':1, 'y':2}, {'x':2, 'y':4}] \n",
    "list(dedupe(a, key=lambda d: (d['x'],d['y'])))"
   ]
  },
  {
   "cell_type": "code",
   "execution_count": null,
   "metadata": {},
   "outputs": [],
   "source": [
    "# 通过某个字段将记录分组\n",
    "from itertools import groupby\n",
    "rows = [ {'address': '5412 N CLARK', 'date': '07/01/2012'}, \n",
    "        {'address': '5148 N CLARK', 'date': '07/04/2012'}, \n",
    "        {'address': '5800 E 58TH', 'date': '07/02/2012'}, \n",
    "        {'address': '2122 N CLARK', 'date': '07/03/2012'}, \n",
    "        {'address': '5645 N RAVENSWOOD', 'date': '07/02/2012'},\n",
    "        {'address': '1060 W ADDISON', 'date': '07/02/2012'}, \n",
    "        {'address': '4801 N BROADWAY', 'date': '07/01/2012'},\n",
    "        {'address': '1039 W GRANVILLE', 'date': '07/04/2012'}]\n",
    "rows.sort(key=itemgetter('date')) #先排序，后分组\n",
    "for date, items in groupby(rows, key=itemgetter('date')): \n",
    "    print(date) \n",
    "    for i in items:\n",
    "        print(' ', i)\n",
    "#要根据指定的字段将数据排序。因为 groupby() 仅仅检查连续的元素\n"
   ]
  },
  {
   "cell_type": "code",
   "execution_count": null,
   "metadata": {},
   "outputs": [],
   "source": [
    "### 字符串搜索\n",
    "import re\n",
    "text = 'Today is 11/27/2012. PyCon starts 3/13/2013' \n",
    "datapa = re.compile(r'(\\d+)/(\\d+)/(\\d+)')\n",
    "itertext = datapa.finditer(text)\n",
    "for tex in itertext:\n",
    "    print('{2}-{0}-{1}'.format(*tex.groups()))\n",
    "\n",
    "datepat = re.compile(r'(\\d+)/(\\d+)/(\\d+)') \n",
    "datepat.search('ddd11/27/2012').groups()\n",
    "\n",
    "### 字符串替代\n",
    "\n",
    " re.sub(r'(\\d+)/(\\d+)/(\\d+)', r'\\3/\\1/\\2', text) \n",
    "import re\n",
    "s = '2016-05-23  2016-05-24 2016-05-25'\n",
    "re.sub(r'(?P<year>\\d{4})-(?P<month>\\d{2})-(?P<day>\\d{2})',\n",
    "       r'\\g<month>/\\g<day>/\\g<year>',s)\n",
    "# re.sub(\"(\\d{4})-(\\d{2})-(\\d{2})\",r\"\\2/\\3/\\1\",s) \\2 表示第个group\n",
    "\n",
    "from calendar import month_abbr \n",
    "def change_date(m):\n",
    "    mon_name = month_abbr[int(m.group(1))]\n",
    "    return '{} {} {}'.format(m.group(2), mon_name, m.group(3)) \n",
    "datepat.sub(change_date, text) \n",
    "\n",
    "newtext,n=datepat.subn(r'\\3-\\1-\\2',text)\n",
    "display(newtext,n)# n表示替代发生次数\n",
    "\n",
    "### 字符串忽略大小写的搜索和替代\n",
    "\n",
    "text = 'UPPER PYTHON, lower python, Mixed Python' \n",
    "find= re.findall('python', text, flags=re.IGNORECASE) \n",
    "sub = re.sub('python', 'snake', text, flags=re.IGNORECASE)\n",
    "display(find,sub)\n",
    "\n",
    "def matchcase(word):\n",
    "    def replace(m):\n",
    "        text = m.group()\n",
    "        if text.isupper():\n",
    "            return word.upper()\n",
    "        elif text.islower():\n",
    "            return word.lower()\n",
    "        elif text[0].isupper():\n",
    "            return word.capitalize()\n",
    "        else:\n",
    "            return word\n",
    "    return replace\n",
    "re.sub('python', matchcase('snake'), text, flags=re.IGNORECASE) \n",
    "#group 是所有满足匹配的字符串的字符串。"
   ]
  },
  {
   "cell_type": "code",
   "execution_count": null,
   "metadata": {},
   "outputs": [],
   "source": [
    "#在一行中调用多个函数。\n",
    "def add(a, b):\n",
    "    return a + b\n",
    "def subtract(a, b):\n",
    "    return a - b\n",
    "a, b = 4, 5\n",
    "print((subtract if a > b else add)(a, b)) # 9\n",
    "\n",
    "#合并两个词典。\n",
    "def merge_dictionaries(a, b)\n",
    "   return {**a, **b}\n",
    "a = {  x : 1,  y : 2}\n",
    "b = {  y : 3,  z : 4}\n",
    "#返回列表中出现的最常见元素。\n",
    "def most_frequent(list):\n",
    "    return max(set(list), key = list.count)\n",
    "  \n",
    "list = [1,2,1,2,3,2,1,4,2]\n",
    "most_frequent(list)\n",
    "#输出一个执行单元中的所有结果\n",
    "from IPython.core.interactiveshell import InteractiveShell  \n",
    "InteractiveShell.ast_node_interactivity = \"all\"\n",
    "#如果要恢复成初始设定：\n",
    "InteractiveShell.ast_node_interactivity = \"last_expr\"\n",
    "\n",
    "import itertools\n",
    "\n",
    "for line in itertools.dropwhile(lambda line: line.startswith(\"//\"), \n",
    "                                string_from_file.split(\"\\n\")):\n",
    "    print(line)"
   ]
  },
  {
   "cell_type": "code",
   "execution_count": null,
   "metadata": {},
   "outputs": [],
   "source": [
    "'''迭代器切片: 如果对迭代器进行切片操作，会返回一个「TypeError」，\n",
    "提示生成器对象没有下标，但是我们可以用一个简单的方案来解决这个问题：'''\n",
    "#先实现迭代器对象，然后再实现可迭代对象。\n",
    "# islice(iterable, stop) --> islice object\n",
    "# islice(iterable, start, stop[, step]) --> islice object\n",
    "### 可迭代对象和迭代器\n",
    "import itertools\n",
    "s = itertools.islice((i*2 for i in range(30)), 10, 20)  \n",
    "for val in s:\n",
    "    print(val)"
   ]
  },
  {
   "cell_type": "code",
   "execution_count": null,
   "metadata": {},
   "outputs": [],
   "source": [
    "# 如何创建可管理的对象属性\n",
    "class Attr:\n",
    "    def __init__(self, name, type_):\n",
    "        self.name = name\n",
    "        self.type_ = type_\n",
    "        \n",
    "    def __get__(self, instance, cls):\n",
    "        return instance.__dict__[self.name]\n",
    "    \n",
    "    def __set__(self, instance, value):\n",
    "        if not isinstance(value, self.type_):\n",
    "            raise TypeError('not %s',self.type_)\n",
    "        instance.__dict__[self.name]= float(value)\n",
    "    \n",
    "    def __delete__(self, instance):\n",
    "        del instance.__dict__[self.name]\n",
    "        \n",
    "class A:\n",
    "    R = Attr('R',(int,float))\n",
    "    def __init__(self, radius):\n",
    "        self.R = radius\n",
    "a = A(5)\n",
    "a.R = 6\n",
    "a.R\n",
    "\n",
    "class Circle2:\n",
    "    def __init__(self, radius):\n",
    "        self.radius = radius\n",
    "    @property\n",
    "    def R(self):\n",
    "        return self.radius \n",
    "    @R.setter\n",
    "    def R(self, value):\n",
    "        if isinstance(value, (int, float)):\n",
    "            self.radius = float(value)\n",
    "        else:\n",
    "            raise ValueError('Wrong')\n",
    "            \n",
    "def quantity(storage_name):\n",
    "    def qty_getter(instance):\n",
    "        return instance.__dict__[storage_name]\n",
    "    def qty_setter(instance, value):\n",
    "        if value > 0:\n",
    "            instance.__dict__[storage_name] = value\n",
    "        else:\n",
    "            raise ValueError('value must be > 0')\n",
    "    return property(qty_getter, qty_setter)\n",
    "class LineItem:\n",
    "    #使用工厂函数把自定义的特性weight定义为类属性。\n",
    "    weight = quantity('weight')\n",
    "    #构建另一个自定义的特性，price。\n",
    "    price = quantity('price')\n",
    "    def __init__(self, description, weight, price):\n",
    "        self.description = description\n",
    "        self.weight = weight\n",
    "        self.price = price\n",
    "    def subtotal(self):\n",
    "        return self.weight * self.price\n",
    "\n",
    "nutmeg = LineItem('Moluccan nutmeg', 8, 13.95)"
   ]
  },
  {
   "cell_type": "code",
   "execution_count": null,
   "metadata": {},
   "outputs": [],
   "source": [
    "# 如何派生内置不可变类型并修改其实例化行为\n",
    "class IntTuple(tuple):\n",
    "    def __new__(cls, iterable): # 调用__init__函数之前，会先调用__new__函数\n",
    "        g= (x for x in iterable if isinstance(x, int) and x>0)\n",
    "        return super(IntTuple, cls).__new__(cls, g)# 继承父类的__new__函数\n",
    "    def __init__(self,iterable):\n",
    "        print(self)\n",
    "        super(IntTuple, self).__init__( )\n",
    "t =  IntTuple([1,-1,'abc',6,['x','y'],3])"
   ]
  },
  {
   "cell_type": "code",
   "execution_count": null,
   "metadata": {},
   "outputs": [],
   "source": [
    "'''将字符串左、右、两端的特定字符过滤掉，默认为空格…\n",
    "strip()要注意的地方是，strip('TolLive') 中的字符并非完整匹配，\n",
    "而是针对每一个字符进行匹配'''\n",
    "long_string = \"To live is to learn，to learn is to better live\"\n",
    "long_string.strip('Tol Live')"
   ]
  },
  {
   "cell_type": "code",
   "execution_count": null,
   "metadata": {},
   "outputs": [],
   "source": [
    "'''.*with() starts ends 不仅支持开头结尾的匹配，\n",
    "还支持start和end两个参数来动态定义字符串的index位置\n",
    "同样支持start、end来判断字符串的还有 .find()、.rfind()和 .index()、.rindex()\n",
    "这两类字符串寻址方法均支持从左到右、从右至左两种寻址方式，不同的是：\n",
    "find在未找到时，返回-1，而index在未找到时，会抛出ValueError的异常\n",
    "\n",
    "在生成器表达式中, in 子句在声明时执行, 而条件子句则是在运行时执行.\n",
    "\n",
    "当 a 和 b 在同一行中使用相同的值初始化时，如果初始值为不可变对象则会指向同一个对象.\n",
    "\n",
    "当在循环内部定义一个函数时, 如果该函数在其主体中使用了循环变量, 则闭包函数将与循环变量绑定, \n",
    "而不是它的值. 因此, 所有的函数都是使用最后分配给变量的值来进行计算的.\n",
    "可以通过将循环变量作为命名变量传递给函数来获得预期的结果. \n",
    "'''\n",
    "array_2 = [1,2,3,4]\n",
    "g2 = (x for x in array_2)\n",
    "array_2[:] = [1,2,3,4,5]\n",
    "array = [1, 8, 15]\n",
    "'''在定义的时候，生成器in语句中的array已经被赋值给[1,8,15]，当执行的时候\n",
    "判断语句中的array才被赋值，此时array为[2,8,22]'''\n",
    "g = (x for x in array if array.count(x) > 0)\n",
    "array = [2, 8, 22]"
   ]
  },
  {
   "cell_type": "code",
   "execution_count": null,
   "metadata": {},
   "outputs": [],
   "source": []
  },
  {
   "cell_type": "code",
   "execution_count": null,
   "metadata": {},
   "outputs": [],
   "source": []
  }
 ],
 "metadata": {
  "kernelspec": {
   "display_name": "Python 3",
   "language": "python",
   "name": "python3"
  },
  "language_info": {
   "codemirror_mode": {
    "name": "ipython",
    "version": 3
   },
   "file_extension": ".py",
   "mimetype": "text/x-python",
   "name": "python",
   "nbconvert_exporter": "python",
   "pygments_lexer": "ipython3",
   "version": "3.7.5"
  },
  "toc": {
   "base_numbering": 1,
   "nav_menu": {},
   "number_sections": true,
   "sideBar": true,
   "skip_h1_title": false,
   "title_cell": "Table of Contents",
   "title_sidebar": "Contents",
   "toc_cell": false,
   "toc_position": {},
   "toc_section_display": true,
   "toc_window_display": false
  },
  "varInspector": {
   "cols": {
    "lenName": 16,
    "lenType": 16,
    "lenVar": 40
   },
   "kernels_config": {
    "python": {
     "delete_cmd_postfix": "",
     "delete_cmd_prefix": "del ",
     "library": "var_list.py",
     "varRefreshCmd": "print(var_dic_list())"
    },
    "r": {
     "delete_cmd_postfix": ") ",
     "delete_cmd_prefix": "rm(",
     "library": "var_list.r",
     "varRefreshCmd": "cat(var_dic_list()) "
    }
   },
   "types_to_exclude": [
    "module",
    "function",
    "builtin_function_or_method",
    "instance",
    "_Feature"
   ],
   "window_display": false
  }
 },
 "nbformat": 4,
 "nbformat_minor": 2
}
