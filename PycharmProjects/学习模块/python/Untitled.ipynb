{
 "cells": [
  {
   "cell_type": "code",
   "execution_count": null,
   "metadata": {
    "ExecuteTime": {
     "end_time": "2020-05-08T07:00:49.239975Z",
     "start_time": "2020-05-08T07:00:49.225973Z"
    }
   },
   "outputs": [],
   "source": []
  },
  {
   "cell_type": "code",
   "execution_count": 6,
   "metadata": {
    "ExecuteTime": {
     "end_time": "2020-05-08T07:01:25.491297Z",
     "start_time": "2020-05-08T07:01:25.470301Z"
    }
   },
   "outputs": [
    {
     "name": "stdout",
     "output_type": "stream",
     "text": [
      "[2020-05-08 15:01:25]  WARNING: [<ipython-input-6-a9e5350b816e>:18] [MainProcess:14268 MainThread] - test msg\n"
     ]
    }
   ],
   "source": [
    "import logging\n",
    "import sys\n",
    "LOG_FORMAT = '%(asctime)s %(levelname) 8s: [%(filename)s:%(lineno)d] [%(processName)s:%(process)d %(threadName)s] - %(message)s'\n",
    "\n",
    "DATE_FORMAT = '[%Y-%m-%d %H:%M:%S]'\n",
    "\n",
    "\n",
    "def get_logger(name):\n",
    "\n",
    "    logger = logging.getLogger(name)\n",
    "    formatter = logging.Formatter(LOG_FORMAT, DATE_FORMAT)\n",
    "    handler = logging.StreamHandler(sys.stdout)\n",
    "    handler.setFormatter(formatter)\n",
    "    logger.addHandler(handler) \n",
    "    return logger\n",
    "\n",
    "logger = get_logger(__name__)\n",
    "logger.warning(\"test msg\")"
   ]
  },
  {
   "cell_type": "code",
   "execution_count": null,
   "metadata": {},
   "outputs": [],
   "source": [
    "mylist=[]\n",
    "for shape in [True, False]:\n",
    "     for weight in (1, 5):\n",
    "          firstlist=firstlist+function(shape, weight)\n",
    "\n",
    "from itertools import product, chain\n",
    "list(chain.from_iterable(function(shape, weight) for weight, shape in product([True, False], range(1, 5))))"
   ]
  }
 ],
 "metadata": {
  "kernelspec": {
   "display_name": "Python 3",
   "language": "python",
   "name": "python3"
  },
  "language_info": {
   "codemirror_mode": {
    "name": "ipython",
    "version": 3
   },
   "file_extension": ".py",
   "mimetype": "text/x-python",
   "name": "python",
   "nbconvert_exporter": "python",
   "pygments_lexer": "ipython3",
   "version": "3.6.5"
  },
  "toc": {
   "base_numbering": 1,
   "nav_menu": {},
   "number_sections": true,
   "sideBar": true,
   "skip_h1_title": false,
   "title_cell": "Table of Contents",
   "title_sidebar": "Contents",
   "toc_cell": false,
   "toc_position": {},
   "toc_section_display": true,
   "toc_window_display": false
  },
  "varInspector": {
   "cols": {
    "lenName": 16,
    "lenType": 16,
    "lenVar": 40
   },
   "kernels_config": {
    "python": {
     "delete_cmd_postfix": "",
     "delete_cmd_prefix": "del ",
     "library": "var_list.py",
     "varRefreshCmd": "print(var_dic_list())"
    },
    "r": {
     "delete_cmd_postfix": ") ",
     "delete_cmd_prefix": "rm(",
     "library": "var_list.r",
     "varRefreshCmd": "cat(var_dic_list()) "
    }
   },
   "types_to_exclude": [
    "module",
    "function",
    "builtin_function_or_method",
    "instance",
    "_Feature"
   ],
   "window_display": false
  }
 },
 "nbformat": 4,
 "nbformat_minor": 2
}
