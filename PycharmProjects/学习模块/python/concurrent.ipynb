{
 "cells": [
  {
   "cell_type": "markdown",
   "metadata": {},
   "source": [
    "##### map\n",
    "`map(self, fn, *iterables, **kwargs)`\n",
    "\n",
    "`map`方法的实例我们上面已经实现过，值得注意的是，返回的results列表是有序的，顺序和`*iterables`迭代器的顺序一致。\n",
    "这里我们使用`with`操作符，使得当任务执行完成之后，自动执行`shutdown`函数，而无需编写相关释放代码。"
   ]
  },
  {
   "cell_type": "code",
   "execution_count": 2,
   "metadata": {
    "ExecuteTime": {
     "end_time": "2020-01-07T08:41:57.075841Z",
     "start_time": "2020-01-07T08:41:57.068859Z"
    }
   },
   "outputs": [
    {
     "data": {
      "text/plain": [
       "2"
      ]
     },
     "execution_count": 2,
     "metadata": {},
     "output_type": "execute_result"
    }
   ],
   "source": [
    "def gcd(*pair):\n",
    "    a, b = pair\n",
    "    if max(a,b)%min(a,b) == 0:\n",
    "        return min(a,b)\n",
    "    div, mod = divmod(a,b)\n",
    "    return gcd(b, mod)\n",
    "gcd(*[2,6])"
   ]
  },
  {
   "cell_type": "code",
   "execution_count": null,
   "metadata": {},
   "outputs": [],
   "source": []
  },
  {
   "cell_type": "code",
   "execution_count": null,
   "metadata": {},
   "outputs": [],
   "source": [
    "import time\n",
    "from concurrent.futures import ThreadPoolExecutor, ProcessPoolExecutor, Executor\n",
    "start = time.time()\n",
    "with ProcessPoolExecutor(max_workers=2) as pool:\n",
    "    results = list(pool.map(gcd, numbers))\n",
    "print 'results: %s' % results\n",
    "end = time.time()"
   ]
  },
  {
   "cell_type": "markdown",
   "metadata": {},
   "source": [
    "##### submit\n",
    "\n",
    "`submit(self, fn, *args, **kwargs)`\n",
    "`submit`方法用于提交一个可并行的方法，`submit`方法同时返回一个`future`实例。\n",
    "`future`对象标识这个线程/进程异步进行，并在未来的某个时间执行完成。`future`实例表示线程/进程状态的回调。"
   ]
  },
  {
   "cell_type": "code",
   "execution_count": null,
   "metadata": {},
   "outputs": [],
   "source": [
    "start = time.time()\n",
    "futures = list()\n",
    "with ProcessPoolExecutor(max_workers=2) as pool:\n",
    "    for pair in numbers:\n",
    "        future = pool.submit(gcd, pair)\n",
    "        futures.append(future)\n",
    "print('results: %s' % [future.result() for future in futures])\n",
    "end = time.time()"
   ]
  },
  {
   "cell_type": "markdown",
   "metadata": {},
   "source": [
    "##### future\n",
    "submit函数返回future对象，future提供了跟踪任务执行状态的方法。比如判断任务是否执行中future.running()，判断任务是否执行完成future.done()等等。\n",
    "\n",
    "as_completed方法传入futures迭代器和timeout两个参数\n",
    "\n",
    "默认timeout=None，阻塞等待任务执行完成，并返回执行完成的future对象迭代器，迭代器是通过yield实现的。 \n",
    "\n",
    "timeout>0，等待timeout时间，如果timeout时间到仍有任务未能完成，不再执行并抛出异常TimeoutError"
   ]
  },
  {
   "cell_type": "code",
   "execution_count": null,
   "metadata": {},
   "outputs": [],
   "source": [
    "start = time.time()\n",
    "with ProcessPoolExecutor(max_workers=2) as pool:\n",
    "    futures = [ pool.submit(gcd, pair) for pair in numbers]\n",
    "    for future in futures:\n",
    "        print '执行中:%s, 已完成:%s' % (future.running(), future.done())\n",
    "    print '#### 分界线 ####'\n",
    "    for future in as_completed(futures, timeout=2):\n",
    "        print '执行中:%s, 已完成:%s' % (future.running(), future.done())\n",
    "end = time.time()"
   ]
  },
  {
   "cell_type": "markdown",
   "metadata": {},
   "source": [
    "##### wait\n",
    "wait方法接会返回一个tuple(元组)，tuple中包含两个set(集合)，一个是completed(已完成的)另外一个是uncompleted(未完成的)。\n",
    "\n",
    "使用wait方法的一个优势就是获得更大的自由度，它接收三个参数FIRST_COMPLETED, FIRST_EXCEPTION和ALL_COMPLETE，默认设置为ALL_COMPLETED。"
   ]
  },
  {
   "cell_type": "code",
   "execution_count": null,
   "metadata": {},
   "outputs": [],
   "source": [
    "from concurrent.futures import ThreadPoolExecutor, ProcessPoolExecutor, \n",
    "Executor, as_completed, wait, ALL_COMPLETED, FIRST_COMPLETED, FIRST_EXCEPTION\n",
    "\n",
    "start = time.time()\n",
    "with ProcessPoolExecutor(max_workers=2) as pool:\n",
    "    futures = [ pool.submit(gcd, pair) for pair in numbers]\n",
    "    for future in futures:\n",
    "        print '执行中:%s, 已完成:%s' % (future.running(), future.done())\n",
    "    print '#### 分界线 ####'\n",
    "    done, unfinished = wait(futures, timeout=2, return_when=ALL_COMPLETED)\n",
    "    for d in done:\n",
    "        print '执行中:%s, 已完成:%s' % (d.running(), d.done())\n",
    "        print d.result()\n",
    "end = time.time()\n",
    "'''如果我们将配置改为FIRST_COMPLETED，wait会等待直到第一个任务执行完成，\n",
    "返回当时所有执行成功的任务。这里并没有做并发控制。\n",
    "'''"
   ]
  },
  {
   "cell_type": "code",
   "execution_count": 3,
   "metadata": {
    "ExecuteTime": {
     "end_time": "2019-05-03T14:07:10.204968Z",
     "start_time": "2019-05-03T14:07:10.196992Z"
    }
   },
   "outputs": [],
   "source": [
    "data = {'girls;kg':[40.9, 38.5, 44.3, 42.2, 45.2, 41.7, 44.5, \n",
    "                    38.0, 40.6,44.5],\n",
    "'girls;m':[1.6, 1.51, 1.4, 1.3, 1.41, 1.39, 1.33, 1.46, 1.45, 1.43],\n",
    "'boys;kg':[39.0, 40.8, 43.2, 40.8, 43.1, 38.6, 41.4, 40.6, 36.3],\n",
    "'boys;m':[1.38, 1.5, 1.32, 1.25, 1.37, 1.48, 1.25, 1.49, 1.46],}\n",
    "\n",
    "from collections import namedtuple\n",
    "Result = namedtuple('Result', 'count, average')\n",
    "def averager():\n",
    "    total = 0.\n",
    "    count = 0\n",
    "    average = None\n",
    "    while True:\n",
    "        term = yield # main 函数中的客户代码发送的各个值绑定到这里的 term 变量上\n",
    "        if term is None:\n",
    "#至关重要的终止条件。如果不这么做，使用 yield from 调用这个协程的生成器会永远阻塞。\n",
    "            break\n",
    "        total += term\n",
    "        count += 1\n",
    "        average = total/ count\n",
    "    # 返回的 Result 会成为 grouper 函数中 yield from 表达式的值。\n",
    "    return Result(count, average)\n",
    "#grouper 是委派生成器。\n",
    "def grouper(results, key):\n",
    "    # 这个循环每次迭代时会新建一个 averager 实例；每个实例都是作为协程使用的生成器对象。\n",
    "    while True:\n",
    "'''grouper 发送的每个值都会经由 yield from 处理，通过管道传给 averager 实\n",
    "例。grouper 会在 yield from 表达式处暂停，等待 averager 实例处理客户端发来的\n",
    "值。averager实例运行完毕后，返回的值绑定到 results[key] 上。while 循环会不断\n",
    "创建 averager实例，处理更多的值。'''\n",
    "        results[key] = yield from averager()\n",
    "# main 函数是客户端代码。这是驱动一切的函数。\n",
    "def main(data):\n",
    "        results = {}\n",
    "        for key, values in data.items():\n",
    "'''group 是调用 grouper 函数得到的生成器对象，传给 grouper 函数的第一个参数是\n",
    "results，用于收集结果；第二个参数是某个键。group 作为协程使用。'''\n",
    "            group = grouper(results, key)\n",
    "            next(group)\n",
    "    #其中next(sfib)相当于sfib.send(None)，可以使得sfib运行至第一个yield处返回。\n",
    "            for value in values:\n",
    "    '''把各个value传给grouper。传入的值最终到达 averager 函数中 \n",
    "    term = yield那一行；grouper 永远不知道传入的值是什么。'''\n",
    "                group.send(value)\n",
    "'''把 None 传入 grouper，导致当前的 averager 实例终止，也让 grouper 继续运行，\n",
    "再创建一个 averager 实例，处理下一组值。'''\n",
    "            group.send(None)\n",
    "'''外层for循环每次迭代会新建一个grouper实例，赋值给group变量；group是委派生成器。\n",
    "调用next(group)，预激委派生成器grouper，此时进入while True循环，\n",
    "调用子生成器averager后， yield from表达式处暂停。内层for循环调用group.send(value)，\n",
    "直接把值传给子生成器averager。同时，当前的grouper实例group在yield from表达式\n",
    "处暂停。内层循环结束后，group实例依旧在yield from表达式处暂停，因此，\n",
    "grouper函数定义体中为results[key]赋值的语句还没有执行。\n",
    "如果外层for循环的末尾没有group.send(None)，那么averager子生成器永远不会终止，\n",
    "委派生成器group永远不会再次激活，因此永远不会为results[key]赋值。\n",
    "外层for循环重新迭代时会新建一个grouper实例，然后绑定到group变量上。\n",
    "前一个grouper实例以及它创建的尚未终止的averager子生成器实例被垃圾回收程序回收。'''\n",
    "        report(results)\n",
    "\n",
    "def report(results):\n",
    "    for key, result in sorted(results.items()):\n",
    "        group, unit = key.split(';')\n",
    "        print('{:2}{:5}averaging{:.2f}{}'.format(\n",
    "            result.count, group, result.average, unit))"
   ]
  },
  {
   "cell_type": "code",
   "execution_count": null,
   "metadata": {},
   "outputs": [],
   "source": [
    "import queue\n",
    "import random\n",
    "SEARCH_DURATION = 5\n",
    "TRIP_DURATION = 20\n",
    "\n",
    "Event = namedtuple('Event', 'time, proc, action')\n",
    "def taxi_process(ident, trips, start_time=0):\n",
    "    time = yield Event(start_time, ident, 'leave garage')\n",
    "    for i in range(trips): \n",
    "        time = yield Event(time, ident, 'pick up passenger') \n",
    "        time = yield Event(time, ident, 'drop off passenger') \n",
    "    yield Event(time, ident, 'going home')\n",
    "class Simulator:\n",
    "    def __init__(self, procs_map):\n",
    "        self.events = queue.PriorityQueue()\n",
    "        self.procs = dict(procs_map)\n",
    "    def run(self, end_time): \n",
    "        \"\"\"排定并显示事件，直到时间结束\"\"\"\n",
    "        # 排定各辆出租车的第一个事件\n",
    "        for _, proc in sorted(self.procs.items()): \n",
    "            first_event = next(proc) \n",
    "            self.events.put(first_event) \n",
    "        # 这个仿真系统的主循环\n",
    "        sim_time = 0 \n",
    "        while sim_time < end_time: \n",
    "            if self.events.empty(): \n",
    "                print('*** end of events ***')\n",
    "                break\n",
    "            current_event = self.events.get() \n",
    "            sim_time, proc_id, previous_action = current_event\n",
    "            print('taxi:', proc_id, proc_id * ' ', current_event)\n",
    "            active_proc = self.procs[proc_id] \n",
    "            next_time = sim_time + compute_duration(previous_action) \n",
    "            try:\n",
    "                next_event = active_proc.send(next_time) \n",
    "            except StopIteration:\n",
    "                del self.procs[proc_id] \n",
    "            else:\n",
    "                self.events.put(next_event) \n",
    "        else: \n",
    "            msg = '*** end of simulation time: {} events pending ***'\n",
    "            print(msg.format(self.events.qsize()))\n",
    "            \n",
    "def compute_duration(previous_action):\n",
    "    \"\"\"Compute action duration using exponential distribution\"\"\"\n",
    "    if previous_action in ['leave garage', 'drop off passenger']:\n",
    "        # new state is prowling\n",
    "        interval = SEARCH_DURATION\n",
    "    elif previous_action == 'pick up passenger':\n",
    "        # new state is trip\n",
    "        interval = TRIP_DURATION\n",
    "    elif previous_action == 'going home':\n",
    "        interval = 1\n",
    "    else:\n",
    "        raise ValueError('Unknown previous_action: %s' % previous_action)\n",
    "    return int(random.expovariate(1/interval)) + 1"
   ]
  },
  {
   "cell_type": "markdown",
   "metadata": {},
   "source": [
    "`@asyncio.coroutine`把一个generator标记为coroutine类型，然后，我们就把这个coroutine扔到EventLoop中执行。\n",
    "\n",
    "`hello()`会首先打印出Hello world!，然后，yield from语法可以让我们方便地调用另一个generator。由于`asyncio.sleep()`也是一个coroutine，所以线程不会等待`asyncio.sleep()`，而是直接中断并执行下一个消息循环。当`asyncio.sleep()`返回时，线程就可以从yield from拿到返回值（此处是None），然后接着执行下一行语句。\n",
    "\n",
    "把`asyncio.sleep(1)`看成是一个耗时1秒的IO操作，在此期间，主线程并未等待，而是去执行EventLoop中其他可以执行的coroutine了，因此可以实现并发执行。"
   ]
  },
  {
   "cell_type": "code",
   "execution_count": null,
   "metadata": {},
   "outputs": [],
   "source": [
    "import threading\n",
    "import asyncio\n",
    "\n",
    "@asyncio.coroutine\n",
    "def hello():\n",
    "    print('Hello world! (%s)' % threading.currentThread())\n",
    "    yield from asyncio.sleep(1)\n",
    "    print('Hello again! (%s)' % threading.currentThread())\n",
    "'''\n",
    "把@asyncio.coroutine替换为async；\n",
    "把yield from替换为await\n",
    "'''\n",
    "async def hello():\n",
    "    print(\"Hello world!\")\n",
    "    r = await asyncio.sleep(1)\n",
    "    print(\"Hello again!\")\n",
    "    \n",
    "loop = asyncio.get_event_loop()\n",
    "tasks = [hello(), hello()]\n",
    "loop.run_until_complete(asyncio.wait(tasks))\n",
    "loop.close()"
   ]
  },
  {
   "cell_type": "code",
   "execution_count": null,
   "metadata": {},
   "outputs": [],
   "source": [
    "import asyncio\n",
    "\n",
    "@asyncio.coroutine\n",
    "def wget(host):\n",
    "    print('wget %s...' % host)\n",
    "    connect = asyncio.open_connection(host, 80)\n",
    "    reader, writer = yield from connect\n",
    "    header = 'GET / HTTP/1.0\\r\\nHost: %s\\r\\n\\r\\n' % host\n",
    "    writer.write(header.encode('utf-8'))\n",
    "    yield from writer.drain()\n",
    "    while True:\n",
    "        line = yield from reader.readline()\n",
    "        if line == b'\\r\\n':\n",
    "            break\n",
    "        print('%s header > %s' % (host, line.decode('utf-8').rstrip()))\n",
    "    # Ignore the body, close the socket\n",
    "    writer.close()\n",
    "\n",
    "loop = asyncio.get_event_loop()\n",
    "tasks = [wget(host) for host in ['www.sina.com.cn', 'www.sohu.com', 'www.163.com']]\n",
    "loop.run_until_complete(asyncio.wait(tasks))\n",
    "loop.close()"
   ]
  }
 ],
 "metadata": {
  "kernelspec": {
   "display_name": "Python 3",
   "language": "python",
   "name": "python3"
  },
  "language_info": {
   "codemirror_mode": {
    "name": "ipython",
    "version": 3
   },
   "file_extension": ".py",
   "mimetype": "text/x-python",
   "name": "python",
   "nbconvert_exporter": "python",
   "pygments_lexer": "ipython3",
   "version": "3.7.5"
  },
  "toc": {
   "base_numbering": 1,
   "nav_menu": {},
   "number_sections": true,
   "sideBar": true,
   "skip_h1_title": false,
   "title_cell": "Table of Contents",
   "title_sidebar": "Contents",
   "toc_cell": false,
   "toc_position": {},
   "toc_section_display": true,
   "toc_window_display": false
  },
  "varInspector": {
   "cols": {
    "lenName": 16,
    "lenType": 16,
    "lenVar": 40
   },
   "kernels_config": {
    "python": {
     "delete_cmd_postfix": "",
     "delete_cmd_prefix": "del ",
     "library": "var_list.py",
     "varRefreshCmd": "print(var_dic_list())"
    },
    "r": {
     "delete_cmd_postfix": ") ",
     "delete_cmd_prefix": "rm(",
     "library": "var_list.r",
     "varRefreshCmd": "cat(var_dic_list()) "
    }
   },
   "types_to_exclude": [
    "module",
    "function",
    "builtin_function_or_method",
    "instance",
    "_Feature"
   ],
   "window_display": false
  }
 },
 "nbformat": 4,
 "nbformat_minor": 2
}
