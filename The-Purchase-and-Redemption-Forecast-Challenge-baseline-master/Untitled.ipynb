{
 "cells": [
  {
   "cell_type": "code",
   "execution_count": 1,
   "metadata": {
    "ExecuteTime": {
     "end_time": "2020-06-23T02:33:16.626347Z",
     "start_time": "2020-06-23T02:33:14.735558Z"
    }
   },
   "outputs": [],
   "source": [
    "import pandas as pd\n",
    "import sklearn as skr\n",
    "import numpy as np\n",
    "import datetime\n",
    "import matplotlib.pyplot as plt\n",
    "import seaborn as sns\n",
    "from dateutil.relativedelta import relativedelta\n",
    "import os\n",
    "os.chdir('D:/Dataset/PRD')\n",
    "import sys\n",
    "sys.path.append('D:/gitln/WorkCode/BaseFunc/')"
   ]
  },
  {
   "cell_type": "code",
   "execution_count": 4,
   "metadata": {
    "ExecuteTime": {
     "end_time": "2020-06-23T02:36:51.165797Z",
     "start_time": "2020-06-23T02:36:51.088455Z"
    }
   },
   "outputs": [],
   "source": [
    "import purchase.PurchaseBase as pbase"
   ]
  },
  {
   "cell_type": "code",
   "execution_count": 28,
   "metadata": {
    "ExecuteTime": {
     "end_time": "2020-06-18T06:06:48.427769Z",
     "start_time": "2020-06-18T06:06:36.174157Z"
    }
   },
   "outputs": [],
   "source": [
    "balance_data = pbase.load_data('user_balance_table.csv')\n",
    "balance_data = pbase.add_timestamp(balance_data)\n",
    "total_balance = pbase.get_total_balance(balance_data, date = '2014-03-01')\n",
    "total_balance = pbase.generate_test_data(total_balance)\n",
    "total_balance = pbase.add_timestamp(total_balance, 'date')"
   ]
  },
  {
   "cell_type": "code",
   "execution_count": 30,
   "metadata": {
    "ExecuteTime": {
     "end_time": "2020-06-18T06:07:16.995661Z",
     "start_time": "2020-06-18T06:07:16.981695Z"
    }
   },
   "outputs": [
    {
     "data": {
      "text/html": [
       "<div>\n",
       "<style scoped>\n",
       "    .dataframe tbody tr th:only-of-type {\n",
       "        vertical-align: middle;\n",
       "    }\n",
       "\n",
       "    .dataframe tbody tr th {\n",
       "        vertical-align: top;\n",
       "    }\n",
       "\n",
       "    .dataframe thead th {\n",
       "        text-align: right;\n",
       "    }\n",
       "</style>\n",
       "<table border=\"1\" class=\"dataframe\">\n",
       "  <thead>\n",
       "    <tr style=\"text-align: right;\">\n",
       "      <th></th>\n",
       "      <th>date</th>\n",
       "      <th>total_purchase_amt</th>\n",
       "      <th>total_redeem_amt</th>\n",
       "      <th>day</th>\n",
       "      <th>month</th>\n",
       "      <th>year</th>\n",
       "      <th>week</th>\n",
       "      <th>weekday</th>\n",
       "    </tr>\n",
       "  </thead>\n",
       "  <tbody>\n",
       "    <tr>\n",
       "      <th>0</th>\n",
       "      <td>2014-03-01</td>\n",
       "      <td>362865580.0</td>\n",
       "      <td>211279011.0</td>\n",
       "      <td>1</td>\n",
       "      <td>3</td>\n",
       "      <td>2014</td>\n",
       "      <td>9</td>\n",
       "      <td>5</td>\n",
       "    </tr>\n",
       "    <tr>\n",
       "      <th>1</th>\n",
       "      <td>2014-03-02</td>\n",
       "      <td>276202230.0</td>\n",
       "      <td>246199417.0</td>\n",
       "      <td>2</td>\n",
       "      <td>3</td>\n",
       "      <td>2014</td>\n",
       "      <td>9</td>\n",
       "      <td>6</td>\n",
       "    </tr>\n",
       "    <tr>\n",
       "      <th>2</th>\n",
       "      <td>2014-03-03</td>\n",
       "      <td>505305862.0</td>\n",
       "      <td>513017360.0</td>\n",
       "      <td>3</td>\n",
       "      <td>3</td>\n",
       "      <td>2014</td>\n",
       "      <td>10</td>\n",
       "      <td>0</td>\n",
       "    </tr>\n",
       "    <tr>\n",
       "      <th>3</th>\n",
       "      <td>2014-03-04</td>\n",
       "      <td>524146340.0</td>\n",
       "      <td>250562978.0</td>\n",
       "      <td>4</td>\n",
       "      <td>3</td>\n",
       "      <td>2014</td>\n",
       "      <td>10</td>\n",
       "      <td>1</td>\n",
       "    </tr>\n",
       "    <tr>\n",
       "      <th>4</th>\n",
       "      <td>2014-03-05</td>\n",
       "      <td>454295491.0</td>\n",
       "      <td>209072753.0</td>\n",
       "      <td>5</td>\n",
       "      <td>3</td>\n",
       "      <td>2014</td>\n",
       "      <td>10</td>\n",
       "      <td>2</td>\n",
       "    </tr>\n",
       "  </tbody>\n",
       "</table>\n",
       "</div>"
      ],
      "text/plain": [
       "        date  total_purchase_amt  total_redeem_amt  day  month  year  week  \\\n",
       "0 2014-03-01         362865580.0       211279011.0    1      3  2014     9   \n",
       "1 2014-03-02         276202230.0       246199417.0    2      3  2014     9   \n",
       "2 2014-03-03         505305862.0       513017360.0    3      3  2014    10   \n",
       "3 2014-03-04         524146340.0       250562978.0    4      3  2014    10   \n",
       "4 2014-03-05         454295491.0       209072753.0    5      3  2014    10   \n",
       "\n",
       "   weekday  \n",
       "0        5  \n",
       "1        6  \n",
       "2        0  \n",
       "3        1  \n",
       "4        2  "
      ]
     },
     "execution_count": 30,
     "metadata": {},
     "output_type": "execute_result"
    }
   ],
   "source": [
    "total_balance.head()"
   ]
  },
  {
   "cell_type": "code",
   "execution_count": 31,
   "metadata": {
    "ExecuteTime": {
     "end_time": "2020-06-18T06:10:23.034589Z",
     "start_time": "2020-06-18T06:10:23.030562Z"
    }
   },
   "outputs": [],
   "source": [
    "data = total_balance.copy()"
   ]
  },
  {
   "cell_type": "code",
   "execution_count": 32,
   "metadata": {
    "ExecuteTime": {
     "end_time": "2020-06-18T06:13:58.988875Z",
     "start_time": "2020-06-18T06:13:58.623075Z"
    }
   },
   "outputs": [],
   "source": [
    "base_list = []\n",
    "for i in range(4, 10):\n",
    "    base_list.append(pbase.generate_base(data, i\n",
    "                        ).reset_index(drop=True))\n"
   ]
  },
  {
   "cell_type": "code",
   "execution_count": 33,
   "metadata": {
    "ExecuteTime": {
     "end_time": "2020-06-18T06:14:05.341079Z",
     "start_time": "2020-06-18T06:14:05.328114Z"
    }
   },
   "outputs": [
    {
     "data": {
      "text/html": [
       "<div>\n",
       "<style scoped>\n",
       "    .dataframe tbody tr th:only-of-type {\n",
       "        vertical-align: middle;\n",
       "    }\n",
       "\n",
       "    .dataframe tbody tr th {\n",
       "        vertical-align: top;\n",
       "    }\n",
       "\n",
       "    .dataframe thead th {\n",
       "        text-align: right;\n",
       "    }\n",
       "</style>\n",
       "<table border=\"1\" class=\"dataframe\">\n",
       "  <thead>\n",
       "    <tr style=\"text-align: right;\">\n",
       "      <th></th>\n",
       "      <th>date</th>\n",
       "      <th>total_purchase_amt</th>\n",
       "      <th>total_redeem_amt</th>\n",
       "    </tr>\n",
       "  </thead>\n",
       "  <tbody>\n",
       "    <tr>\n",
       "      <th>0</th>\n",
       "      <td>2014-04-01</td>\n",
       "      <td>6.207296e+08</td>\n",
       "      <td>4.373304e+08</td>\n",
       "    </tr>\n",
       "    <tr>\n",
       "      <th>1</th>\n",
       "      <td>2014-04-02</td>\n",
       "      <td>4.342629e+08</td>\n",
       "      <td>3.578884e+08</td>\n",
       "    </tr>\n",
       "    <tr>\n",
       "      <th>2</th>\n",
       "      <td>2014-04-03</td>\n",
       "      <td>4.734257e+08</td>\n",
       "      <td>3.791019e+08</td>\n",
       "    </tr>\n",
       "    <tr>\n",
       "      <th>3</th>\n",
       "      <td>2014-04-04</td>\n",
       "      <td>3.703544e+08</td>\n",
       "      <td>2.161569e+08</td>\n",
       "    </tr>\n",
       "    <tr>\n",
       "      <th>4</th>\n",
       "      <td>2014-04-05</td>\n",
       "      <td>3.093513e+08</td>\n",
       "      <td>9.861873e+07</td>\n",
       "    </tr>\n",
       "  </tbody>\n",
       "</table>\n",
       "</div>"
      ],
      "text/plain": [
       "        date  total_purchase_amt  total_redeem_amt\n",
       "0 2014-04-01        6.207296e+08      4.373304e+08\n",
       "1 2014-04-02        4.342629e+08      3.578884e+08\n",
       "2 2014-04-03        4.734257e+08      3.791019e+08\n",
       "3 2014-04-04        3.703544e+08      2.161569e+08\n",
       "4 2014-04-05        3.093513e+08      9.861873e+07"
      ]
     },
     "execution_count": 33,
     "metadata": {},
     "output_type": "execute_result"
    }
   ],
   "source": [
    "base = pd.concat(base_list).reset_index(drop=True)\n",
    "base.head()"
   ]
  },
  {
   "cell_type": "code",
   "execution_count": null,
   "metadata": {},
   "outputs": [],
   "source": [
    "for i in ['total_purchase_amt','total_redeem_amt']:\n",
    "    base = base.rename(columns={i: i+'_base'})\n",
    "\n",
    "data = pd.merge(data.reset_index(drop=True), \n",
    "                base.reset_index(drop=True), \n",
    "                on='date', how='left').reset_index(drop=True)"
   ]
  },
  {
   "cell_type": "code",
   "execution_count": null,
   "metadata": {},
   "outputs": [],
   "source": [
    "data['purchase_residual'] = data[\n",
    "    'total_purchase_amt'] / data['total_purchase_amt_base']\n",
    "\n",
    "data['redeem_residual'] = data[\n",
    "    'total_redeem_amt'] / data['total_redeem_amt_base']"
   ]
  },
  {
   "cell_type": "code",
   "execution_count": null,
   "metadata": {},
   "outputs": [],
   "source": [
    "data = data[\n",
    "    ['date','purchase_residual','redeem_residual',\n",
    "     'total_purchase_amt_base', 'total_redeem_amt_base']]\n",
    "for i in data.columns:\n",
    "    if i == 'date':\n",
    "        data[i] = data[i].astype(str)\n",
    "        data[i] = data[i].str.replace('-','')\n",
    "data.columns = [\n",
    "    ['date'] + ['total_purchase_amt','total_redeem_amt'] + [\n",
    "        'total_purchase_predicted_by_cycle',\n",
    "        'total_redeem_predicted_by_cycle'] ]"
   ]
  },
  {
   "cell_type": "code",
   "execution_count": 2,
   "metadata": {
    "ExecuteTime": {
     "end_time": "2020-06-23T02:36:42.098538Z",
     "start_time": "2020-06-23T02:36:42.061870Z"
    }
   },
   "outputs": [],
   "source": [
    "balance = pd.read_csv('base.csv')"
   ]
  },
  {
   "cell_type": "code",
   "execution_count": 5,
   "metadata": {
    "ExecuteTime": {
     "end_time": "2020-06-23T02:36:56.529082Z",
     "start_time": "2020-06-23T02:36:56.501116Z"
    }
   },
   "outputs": [],
   "source": [
    "balance1 = pbase.add_timestamp(balance,time_index='date')"
   ]
  },
  {
   "cell_type": "code",
   "execution_count": 6,
   "metadata": {
    "ExecuteTime": {
     "end_time": "2020-06-23T02:36:58.530728Z",
     "start_time": "2020-06-23T02:36:58.509822Z"
    }
   },
   "outputs": [
    {
     "data": {
      "text/html": [
       "<div>\n",
       "<style scoped>\n",
       "    .dataframe tbody tr th:only-of-type {\n",
       "        vertical-align: middle;\n",
       "    }\n",
       "\n",
       "    .dataframe tbody tr th {\n",
       "        vertical-align: top;\n",
       "    }\n",
       "\n",
       "    .dataframe thead th {\n",
       "        text-align: right;\n",
       "    }\n",
       "</style>\n",
       "<table border=\"1\" class=\"dataframe\">\n",
       "  <thead>\n",
       "    <tr style=\"text-align: right;\">\n",
       "      <th></th>\n",
       "      <th>date</th>\n",
       "      <th>total_purchase_amt</th>\n",
       "      <th>total_redeem_amt</th>\n",
       "      <th>total_purchase_predicted_by_cycle</th>\n",
       "      <th>total_redeem_predicted_by_cycle</th>\n",
       "      <th>day</th>\n",
       "      <th>month</th>\n",
       "      <th>year</th>\n",
       "      <th>week</th>\n",
       "      <th>weekday</th>\n",
       "    </tr>\n",
       "  </thead>\n",
       "  <tbody>\n",
       "    <tr>\n",
       "      <th>0</th>\n",
       "      <td>2014-03-01</td>\n",
       "      <td>NaN</td>\n",
       "      <td>NaN</td>\n",
       "      <td>NaN</td>\n",
       "      <td>NaN</td>\n",
       "      <td>1</td>\n",
       "      <td>3</td>\n",
       "      <td>2014</td>\n",
       "      <td>9</td>\n",
       "      <td>5</td>\n",
       "    </tr>\n",
       "    <tr>\n",
       "      <th>1</th>\n",
       "      <td>2014-03-02</td>\n",
       "      <td>NaN</td>\n",
       "      <td>NaN</td>\n",
       "      <td>NaN</td>\n",
       "      <td>NaN</td>\n",
       "      <td>2</td>\n",
       "      <td>3</td>\n",
       "      <td>2014</td>\n",
       "      <td>9</td>\n",
       "      <td>6</td>\n",
       "    </tr>\n",
       "    <tr>\n",
       "      <th>2</th>\n",
       "      <td>2014-03-03</td>\n",
       "      <td>NaN</td>\n",
       "      <td>NaN</td>\n",
       "      <td>NaN</td>\n",
       "      <td>NaN</td>\n",
       "      <td>3</td>\n",
       "      <td>3</td>\n",
       "      <td>2014</td>\n",
       "      <td>10</td>\n",
       "      <td>0</td>\n",
       "    </tr>\n",
       "    <tr>\n",
       "      <th>3</th>\n",
       "      <td>2014-03-04</td>\n",
       "      <td>NaN</td>\n",
       "      <td>NaN</td>\n",
       "      <td>NaN</td>\n",
       "      <td>NaN</td>\n",
       "      <td>4</td>\n",
       "      <td>3</td>\n",
       "      <td>2014</td>\n",
       "      <td>10</td>\n",
       "      <td>1</td>\n",
       "    </tr>\n",
       "    <tr>\n",
       "      <th>4</th>\n",
       "      <td>2014-03-05</td>\n",
       "      <td>NaN</td>\n",
       "      <td>NaN</td>\n",
       "      <td>NaN</td>\n",
       "      <td>NaN</td>\n",
       "      <td>5</td>\n",
       "      <td>3</td>\n",
       "      <td>2014</td>\n",
       "      <td>10</td>\n",
       "      <td>2</td>\n",
       "    </tr>\n",
       "  </tbody>\n",
       "</table>\n",
       "</div>"
      ],
      "text/plain": [
       "        date  total_purchase_amt  total_redeem_amt  \\\n",
       "0 2014-03-01                 NaN               NaN   \n",
       "1 2014-03-02                 NaN               NaN   \n",
       "2 2014-03-03                 NaN               NaN   \n",
       "3 2014-03-04                 NaN               NaN   \n",
       "4 2014-03-05                 NaN               NaN   \n",
       "\n",
       "   total_purchase_predicted_by_cycle  total_redeem_predicted_by_cycle  day  \\\n",
       "0                                NaN                              NaN    1   \n",
       "1                                NaN                              NaN    2   \n",
       "2                                NaN                              NaN    3   \n",
       "3                                NaN                              NaN    4   \n",
       "4                                NaN                              NaN    5   \n",
       "\n",
       "   month  year  week  weekday  \n",
       "0      3  2014     9        5  \n",
       "1      3  2014     9        6  \n",
       "2      3  2014    10        0  \n",
       "3      3  2014    10        1  \n",
       "4      3  2014    10        2  "
      ]
     },
     "execution_count": 6,
     "metadata": {},
     "output_type": "execute_result"
    }
   ],
   "source": [
    "balance1.head()"
   ]
  },
  {
   "cell_type": "code",
   "execution_count": 7,
   "metadata": {
    "ExecuteTime": {
     "end_time": "2020-06-23T02:37:06.358713Z",
     "start_time": "2020-06-23T02:37:06.349738Z"
    }
   },
   "outputs": [],
   "source": [
    "import purchase.PurchaseFeatures as pfeature"
   ]
  },
  {
   "cell_type": "code",
   "execution_count": 8,
   "metadata": {
    "ExecuteTime": {
     "end_time": "2020-06-23T02:37:08.049245Z",
     "start_time": "2020-06-23T02:37:07.753158Z"
    }
   },
   "outputs": [],
   "source": [
    "total_balance = pfeature.extract_is_feature(balance1)"
   ]
  },
  {
   "cell_type": "code",
   "execution_count": 9,
   "metadata": {
    "ExecuteTime": {
     "end_time": "2020-06-23T02:37:08.936881Z",
     "start_time": "2020-06-23T02:37:08.917906Z"
    }
   },
   "outputs": [
    {
     "data": {
      "text/html": [
       "<div>\n",
       "<style scoped>\n",
       "    .dataframe tbody tr th:only-of-type {\n",
       "        vertical-align: middle;\n",
       "    }\n",
       "\n",
       "    .dataframe tbody tr th {\n",
       "        vertical-align: top;\n",
       "    }\n",
       "\n",
       "    .dataframe thead th {\n",
       "        text-align: right;\n",
       "    }\n",
       "</style>\n",
       "<table border=\"1\" class=\"dataframe\">\n",
       "  <thead>\n",
       "    <tr style=\"text-align: right;\">\n",
       "      <th></th>\n",
       "      <th>date</th>\n",
       "      <th>total_purchase_amt</th>\n",
       "      <th>total_redeem_amt</th>\n",
       "      <th>total_purchase_predicted_by_cycle</th>\n",
       "      <th>total_redeem_predicted_by_cycle</th>\n",
       "      <th>day</th>\n",
       "      <th>month</th>\n",
       "      <th>year</th>\n",
       "      <th>week</th>\n",
       "      <th>weekday</th>\n",
       "      <th>...</th>\n",
       "      <th>is_work_on_sunday</th>\n",
       "      <th>is_firstday_of_month</th>\n",
       "      <th>is_secday_of_month</th>\n",
       "      <th>is_premonth</th>\n",
       "      <th>is_midmonth</th>\n",
       "      <th>is_tailmonth</th>\n",
       "      <th>is_first_week</th>\n",
       "      <th>is_second_week</th>\n",
       "      <th>is_third_week</th>\n",
       "      <th>is_fourth_week</th>\n",
       "    </tr>\n",
       "  </thead>\n",
       "  <tbody>\n",
       "    <tr>\n",
       "      <th>0</th>\n",
       "      <td>2014-03-01</td>\n",
       "      <td>NaN</td>\n",
       "      <td>NaN</td>\n",
       "      <td>NaN</td>\n",
       "      <td>NaN</td>\n",
       "      <td>1</td>\n",
       "      <td>3</td>\n",
       "      <td>2014</td>\n",
       "      <td>9</td>\n",
       "      <td>5</td>\n",
       "      <td>...</td>\n",
       "      <td>0</td>\n",
       "      <td>1</td>\n",
       "      <td>0</td>\n",
       "      <td>1</td>\n",
       "      <td>0</td>\n",
       "      <td>0</td>\n",
       "      <td>1</td>\n",
       "      <td>0</td>\n",
       "      <td>0</td>\n",
       "      <td>0</td>\n",
       "    </tr>\n",
       "    <tr>\n",
       "      <th>1</th>\n",
       "      <td>2014-03-02</td>\n",
       "      <td>NaN</td>\n",
       "      <td>NaN</td>\n",
       "      <td>NaN</td>\n",
       "      <td>NaN</td>\n",
       "      <td>2</td>\n",
       "      <td>3</td>\n",
       "      <td>2014</td>\n",
       "      <td>9</td>\n",
       "      <td>6</td>\n",
       "      <td>...</td>\n",
       "      <td>0</td>\n",
       "      <td>0</td>\n",
       "      <td>1</td>\n",
       "      <td>1</td>\n",
       "      <td>0</td>\n",
       "      <td>0</td>\n",
       "      <td>1</td>\n",
       "      <td>0</td>\n",
       "      <td>0</td>\n",
       "      <td>0</td>\n",
       "    </tr>\n",
       "    <tr>\n",
       "      <th>2</th>\n",
       "      <td>2014-03-03</td>\n",
       "      <td>NaN</td>\n",
       "      <td>NaN</td>\n",
       "      <td>NaN</td>\n",
       "      <td>NaN</td>\n",
       "      <td>3</td>\n",
       "      <td>3</td>\n",
       "      <td>2014</td>\n",
       "      <td>10</td>\n",
       "      <td>0</td>\n",
       "      <td>...</td>\n",
       "      <td>0</td>\n",
       "      <td>0</td>\n",
       "      <td>0</td>\n",
       "      <td>1</td>\n",
       "      <td>0</td>\n",
       "      <td>0</td>\n",
       "      <td>0</td>\n",
       "      <td>1</td>\n",
       "      <td>0</td>\n",
       "      <td>0</td>\n",
       "    </tr>\n",
       "    <tr>\n",
       "      <th>3</th>\n",
       "      <td>2014-03-04</td>\n",
       "      <td>NaN</td>\n",
       "      <td>NaN</td>\n",
       "      <td>NaN</td>\n",
       "      <td>NaN</td>\n",
       "      <td>4</td>\n",
       "      <td>3</td>\n",
       "      <td>2014</td>\n",
       "      <td>10</td>\n",
       "      <td>1</td>\n",
       "      <td>...</td>\n",
       "      <td>0</td>\n",
       "      <td>0</td>\n",
       "      <td>0</td>\n",
       "      <td>1</td>\n",
       "      <td>0</td>\n",
       "      <td>0</td>\n",
       "      <td>0</td>\n",
       "      <td>1</td>\n",
       "      <td>0</td>\n",
       "      <td>0</td>\n",
       "    </tr>\n",
       "    <tr>\n",
       "      <th>4</th>\n",
       "      <td>2014-03-05</td>\n",
       "      <td>NaN</td>\n",
       "      <td>NaN</td>\n",
       "      <td>NaN</td>\n",
       "      <td>NaN</td>\n",
       "      <td>5</td>\n",
       "      <td>3</td>\n",
       "      <td>2014</td>\n",
       "      <td>10</td>\n",
       "      <td>2</td>\n",
       "      <td>...</td>\n",
       "      <td>0</td>\n",
       "      <td>0</td>\n",
       "      <td>0</td>\n",
       "      <td>1</td>\n",
       "      <td>0</td>\n",
       "      <td>0</td>\n",
       "      <td>0</td>\n",
       "      <td>1</td>\n",
       "      <td>0</td>\n",
       "      <td>0</td>\n",
       "    </tr>\n",
       "  </tbody>\n",
       "</table>\n",
       "<p>5 rows × 29 columns</p>\n",
       "</div>"
      ],
      "text/plain": [
       "        date  total_purchase_amt  total_redeem_amt  \\\n",
       "0 2014-03-01                 NaN               NaN   \n",
       "1 2014-03-02                 NaN               NaN   \n",
       "2 2014-03-03                 NaN               NaN   \n",
       "3 2014-03-04                 NaN               NaN   \n",
       "4 2014-03-05                 NaN               NaN   \n",
       "\n",
       "   total_purchase_predicted_by_cycle  total_redeem_predicted_by_cycle  day  \\\n",
       "0                                NaN                              NaN    1   \n",
       "1                                NaN                              NaN    2   \n",
       "2                                NaN                              NaN    3   \n",
       "3                                NaN                              NaN    4   \n",
       "4                                NaN                              NaN    5   \n",
       "\n",
       "   month  year  week  weekday  ...  is_work_on_sunday  is_firstday_of_month  \\\n",
       "0      3  2014     9        5  ...                  0                     1   \n",
       "1      3  2014     9        6  ...                  0                     0   \n",
       "2      3  2014    10        0  ...                  0                     0   \n",
       "3      3  2014    10        1  ...                  0                     0   \n",
       "4      3  2014    10        2  ...                  0                     0   \n",
       "\n",
       "   is_secday_of_month  is_premonth  is_midmonth  is_tailmonth  is_first_week  \\\n",
       "0                   0            1            0             0              1   \n",
       "1                   1            1            0             0              1   \n",
       "2                   0            1            0             0              0   \n",
       "3                   0            1            0             0              0   \n",
       "4                   0            1            0             0              0   \n",
       "\n",
       "   is_second_week  is_third_week  is_fourth_week  \n",
       "0               0              0               0  \n",
       "1               0              0               0  \n",
       "2               1              0               0  \n",
       "3               1              0               0  \n",
       "4               1              0               0  \n",
       "\n",
       "[5 rows x 29 columns]"
      ]
     },
     "execution_count": 9,
     "metadata": {},
     "output_type": "execute_result"
    }
   ],
   "source": [
    "total_balance.head()"
   ]
  },
  {
   "cell_type": "code",
   "execution_count": 10,
   "metadata": {
    "ExecuteTime": {
     "end_time": "2020-06-23T02:37:52.841664Z",
     "start_time": "2020-06-23T02:37:52.836678Z"
    }
   },
   "outputs": [],
   "source": [
    "labels = ['total_purchase_amt','total_redeem_amt']\n",
    "date_indexs = ['week','year','month','weekday','day']"
   ]
  },
  {
   "cell_type": "code",
   "execution_count": 11,
   "metadata": {
    "ExecuteTime": {
     "end_time": "2020-06-23T02:37:53.392547Z",
     "start_time": "2020-06-23T02:37:53.357675Z"
    }
   },
   "outputs": [
    {
     "name": "stderr",
     "output_type": "stream",
     "text": [
      "d:\\softwares\\python\\lib\\site-packages\\sklearn\\preprocessing\\_encoders.py:415: FutureWarning: The handling of integer data will change in version 0.22. Currently, the categories are determined based on the range [0, max(values)], while in the future they will be determined based on the unique values.\n",
      "If you want the future behaviour and silence this warning, you can specify \"categories='auto'\".\n",
      "In case you used a LabelEncoder before this OneHotEncoder to convert the categories to integers, then you can now use the OneHotEncoder directly.\n",
      "  warnings.warn(msg, FutureWarning)\n"
     ]
    }
   ],
   "source": [
    "total_balance = pfeature.encode_data(total_balance)\n",
    "feature = total_balance[\n",
    "    [x for x in total_balance.columns if x not in date_indexs]]"
   ]
  },
  {
   "cell_type": "code",
   "execution_count": 12,
   "metadata": {
    "ExecuteTime": {
     "end_time": "2020-06-23T02:37:56.011465Z",
     "start_time": "2020-06-23T02:37:56.006510Z"
    }
   },
   "outputs": [
    {
     "data": {
      "text/plain": [
       "Index(['date', 'total_purchase_amt', 'total_redeem_amt',\n",
       "       'total_purchase_predicted_by_cycle', 'total_redeem_predicted_by_cycle',\n",
       "       'is_weekend', 'is_holiday', 'is_firstday_of_holiday',\n",
       "       'is_lastday_of_holiday', 'is_firstday_of_work', 'is_work',\n",
       "       'is_gonna_work_tomorrow', 'is_worked_yestday', 'is_lastday_of_workday',\n",
       "       'is_work_on_sunday', 'is_firstday_of_month', 'is_secday_of_month',\n",
       "       'is_premonth', 'is_midmonth', 'is_tailmonth', 'is_first_week',\n",
       "       'is_second_week', 'is_third_week', 'is_fourth_week', 'weekday_onehot_0',\n",
       "       'weekday_onehot_1', 'weekday_onehot_2', 'weekday_onehot_3',\n",
       "       'weekday_onehot_4', 'weekday_onehot_5', 'weekday_onehot_6'],\n",
       "      dtype='object')"
      ]
     },
     "execution_count": 12,
     "metadata": {},
     "output_type": "execute_result"
    }
   ],
   "source": [
    "feature.columns"
   ]
  },
  {
   "cell_type": "code",
   "execution_count": 14,
   "metadata": {
    "ExecuteTime": {
     "end_time": "2020-06-23T02:41:18.660691Z",
     "start_time": "2020-06-23T02:41:10.543609Z"
    }
   },
   "outputs": [
    {
     "data": {
      "image/png": "[encoded data removed]",
      "text/plain": [
       "<Figure size 1296x1728 with 28 Axes>"
      ]
     },
     "metadata": {
      "needs_background": "light"
     },
     "output_type": "display_data"
    }
   ],
   "source": [
    "def draw_boxplot(data: pd.DataFrame)->None:\n",
    "    f, axes = plt.subplots(7, 4, figsize=(18, 24))\n",
    "    global date_indexs, labels\n",
    "    count = 0\n",
    "    for i in [x for x in data.columns if x not in date_indexs + labels + [\n",
    "        'date']]:\n",
    "        sns.boxenplot(x=i, y='total_redeem_amt', data=data, \n",
    "                      ax=axes[count // 4][count % 4])\n",
    "        count += 1\n",
    "draw_boxplot(feature)"
   ]
  },
  {
   "cell_type": "code",
   "execution_count": 15,
   "metadata": {
    "ExecuteTime": {
     "end_time": "2020-06-23T02:42:00.742844Z",
     "start_time": "2020-06-23T02:42:00.738851Z"
    }
   },
   "outputs": [],
   "source": [
    "purchase_feature_seems_useless = [\n",
    "      #样本量太少，建模时无效；但若确定这是一个有用规则，可以对结果做修正\n",
    "      'is_work_on_sunday',\n",
    "      #中位数差异不明显\n",
    "      'is_first_week']\n",
    "redeem_feature_seems_useless = ['is_work_on_sunday', 'is_first_week']"
   ]
  },
  {
   "cell_type": "code",
   "execution_count": 16,
   "metadata": {
    "ExecuteTime": {
     "end_time": "2020-06-23T02:42:28.991126Z",
     "start_time": "2020-06-23T02:42:28.939991Z"
    }
   },
   "outputs": [],
   "source": [
    "temp = np.abs(feature[[x for x in feature.columns \n",
    "                       if x not in ['total_redeem_amt', 'date'] ]\n",
    "                     ].corr('spearman')['total_purchase_amt'])\n",
    "purchase_feature_low_correlation = list(set(temp[temp < 0.1].index))"
   ]
  },
  {
   "cell_type": "code",
   "execution_count": 17,
   "metadata": {
    "ExecuteTime": {
     "end_time": "2020-06-23T02:42:30.454473Z",
     "start_time": "2020-06-23T02:42:30.416201Z"
    }
   },
   "outputs": [],
   "source": [
    "temp1 = np.abs(feature[[x for x in feature.columns \n",
    "                       if x not in ['total_purchase_amt', 'date'] ]\n",
    "                     ].corr('spearman')['total_redeem_amt'])\n",
    "redeem_feature_low_correlation = list(set(temp1[temp1 < 0.1].index))"
   ]
  },
  {
   "cell_type": "code",
   "execution_count": 18,
   "metadata": {
    "ExecuteTime": {
     "end_time": "2020-06-23T02:42:39.086615Z",
     "start_time": "2020-06-23T02:42:38.403809Z"
    }
   },
   "outputs": [],
   "source": [
    "total_balance = pfeature.extract_distance_feature(total_balance)"
   ]
  },
  {
   "cell_type": "code",
   "execution_count": 24,
   "metadata": {
    "ExecuteTime": {
     "end_time": "2020-06-23T02:46:02.193798Z",
     "start_time": "2020-06-23T02:46:02.187816Z"
    }
   },
   "outputs": [],
   "source": [
    "purchase_feature_seems_useless += [\n",
    "                                  #即使做了处理，但方差太大，不可信，规律不明显\n",
    "                                  'dis_to_holiday',\n",
    "                                  #方差太大，不可信\n",
    "                                  'dis_from_startofmonth',\n",
    "                                  #方差太大，不可信\n",
    "                                  'dis_from_middleofmonth']\n",
    "redeem_feature_seems_useless += [\n",
    "    'dis_to_holiday', \n",
    "    'dis_from_startofmonth', \n",
    "    'dis_from_middleofmonth'\n",
    "]\n"
   ]
  },
  {
   "cell_type": "code",
   "execution_count": null,
   "metadata": {
    "ExecuteTime": {
     "end_time": "2020-06-18T07:00:53.016488Z",
     "start_time": "2020-06-18T07:00:53.010505Z"
    }
   },
   "outputs": [],
   "source": []
  },
  {
   "cell_type": "code",
   "execution_count": 19,
   "metadata": {
    "ExecuteTime": {
     "end_time": "2020-06-23T02:42:58.492008Z",
     "start_time": "2020-06-23T02:42:58.476324Z"
    }
   },
   "outputs": [],
   "source": [
    "feature = total_balance[\n",
    "    [x for x in total_balance.columns if x not in date_indexs]]\n",
    "dis_feature_indexs = [\n",
    "    x for x in feature.columns if (\n",
    "        x not in date_indexs + labels + ['date']) & ('dis' in x)]"
   ]
  },
  {
   "cell_type": "code",
   "execution_count": 20,
   "metadata": {
    "ExecuteTime": {
     "end_time": "2020-06-23T02:43:03.654497Z",
     "start_time": "2020-06-23T02:43:03.620340Z"
    }
   },
   "outputs": [],
   "source": [
    "def dis_change(x):\n",
    "    if x > 5:\n",
    "        x = 10\n",
    "    return x\n",
    "dis_holiday_feature = [\n",
    "    x for x in total_balance.columns if 'dis' in x and 'holi' in x]\n",
    "dis_month_feature = [\n",
    "    x for x in total_balance.columns if 'dis' in x and 'month' in x]\n",
    "total_balance[dis_holiday_feature] = total_balance[\n",
    "    dis_holiday_feature].applymap(dis_change)\n",
    "total_balance[dis_month_feature] = total_balance[\n",
    "    dis_month_feature].applymap(dis_change)"
   ]
  },
  {
   "cell_type": "code",
   "execution_count": 21,
   "metadata": {
    "ExecuteTime": {
     "end_time": "2020-06-23T02:43:29.474364Z",
     "start_time": "2020-06-23T02:43:29.466387Z"
    }
   },
   "outputs": [],
   "source": [
    "temp = np.abs(feature[[x for x in feature.columns \n",
    "                       if ('dis' in x) | (x in ['total_purchase_amt']) \n",
    "                      ]].corr()['total_purchase_amt'])\n",
    "purchase_feature_low_correlation += list(set(temp[temp < 0.1].index) )"
   ]
  },
  {
   "cell_type": "code",
   "execution_count": 23,
   "metadata": {
    "ExecuteTime": {
     "end_time": "2020-06-23T02:43:35.737368Z",
     "start_time": "2020-06-23T02:43:35.721710Z"
    }
   },
   "outputs": [],
   "source": [
    "temp1 = np.abs(feature[[x for x in feature.columns \n",
    "                       if ('dis' in x) | (x in ['total_redeem_amt']) \n",
    "                      ]].corr()['total_redeem_amt'])\n",
    "redeem_feature_low_correlation += list(set(temp[temp < 0.1].index) )"
   ]
  },
  {
   "cell_type": "code",
   "execution_count": 68,
   "metadata": {
    "ExecuteTime": {
     "end_time": "2020-06-18T07:10:36.501261Z",
     "start_time": "2020-06-18T07:10:35.605863Z"
    }
   },
   "outputs": [
    {
     "name": "stderr",
     "output_type": "stream",
     "text": [
      "No handles with labels found to put in legend.\n",
      "No handles with labels found to put in legend.\n",
      "No handles with labels found to put in legend.\n"
     ]
    },
    {
     "data": {
      "image/png": "[encoded data removed]",
      "text/plain": [
       "<Figure size 1080x1080 with 3 Axes>"
      ]
     },
     "metadata": {
      "needs_background": "light"
     },
     "output_type": "display_data"
    }
   ],
   "source": [
    "fig = plt.figure(figsize=(15,15))\n",
    "for i in range(6, 9):\n",
    "    plt.subplot(5,1,i - 5)\n",
    "    total_balance_2 = total_balance[\n",
    "        (total_balance['date'] >= pd.Timestamp(datetime.date(2014,i,1))) & (\n",
    "            total_balance['date'] < pd.Timestamp(\n",
    "                datetime.date(2014,i+1,1)))]\n",
    "    sns.pointplot(x=total_balance_2['day'],\n",
    "                  y=total_balance_2['total_redeem_amt'])\n",
    "    plt.legend().set_title('Month:' + str(i))"
   ]
  },
  {
   "cell_type": "markdown",
   "metadata": {},
   "source": [
    "04-02                          04-05\n",
    "04-11                          04-13\n",
    "04-15                          04-22\n",
    "04-19                          04-22"
   ]
  },
  {
   "cell_type": "code",
   "execution_count": 25,
   "metadata": {
    "ExecuteTime": {
     "end_time": "2020-06-23T02:47:18.702216Z",
     "start_time": "2020-06-23T02:47:18.687258Z"
    }
   },
   "outputs": [
    {
     "data": {
      "text/plain": [
       "total_purchase_amt          1.000000\n",
       "dis_from_purchase_peak      0.007173\n",
       "dis_from_purchase_valley    0.006313\n",
       "Name: total_purchase_amt, dtype: float64"
      ]
     },
     "execution_count": 25,
     "metadata": {},
     "output_type": "execute_result"
    }
   ],
   "source": [
    "total_balance = pfeature.extract_peak_feature(total_balance)\n",
    "feature = total_balance[\n",
    "    [x for x in total_balance.columns if x not in date_indexs]]\n",
    "temp = np.abs(feature[\n",
    "    [x for x in feature.columns if ('peak' in x) or (\n",
    "        'valley' in x) or (x in ['total_purchase_amt']) ]\n",
    "].corr()['total_purchase_amt'])\n",
    "temp"
   ]
  },
  {
   "cell_type": "code",
   "execution_count": 27,
   "metadata": {
    "ExecuteTime": {
     "end_time": "2020-06-23T02:49:23.136702Z",
     "start_time": "2020-06-23T02:49:22.790998Z"
    }
   },
   "outputs": [
    {
     "name": "stderr",
     "output_type": "stream",
     "text": [
      "D:/gitln/WorkCode/BaseFunc\\purchase\\PurchaseFeatures.py:281: FutureWarning: Comparing Series of datetimes with 'datetime.date'.  Currently, the\n",
      "'datetime.date' is coerced to a datetime. In the future pandas will\n",
      "not coerce, and a TypeError will be raised. To retain the current\n",
      "behavior, convert the 'datetime.date' to a datetime with\n",
      "'pd.Timestamp'.\n",
      "  (pure_balance['date'] >= datetime.date(2014,3,1)\n",
      "D:/gitln/WorkCode/BaseFunc\\purchase\\PurchaseFeatures.py:282: FutureWarning: Comparing Series of datetimes with 'datetime.date'.  Currently, the\n",
      "'datetime.date' is coerced to a datetime. In the future pandas will\n",
      "not coerce, and a TypeError will be raised. To retain the current\n",
      "behavior, convert the 'datetime.date' to a datetime with\n",
      "'pd.Timestamp'.\n",
      "  ) & (pure_balance['date'] < datetime.date(2014, month_index, 1))]\n"
     ]
    }
   ],
   "source": [
    "# 生成周期因子并合并到数据集\n",
    "\n",
    "weekday_rate_list = []\n",
    "day_rate_list = []\n",
    "for i in range(3, 10):\n",
    "    weekday_rate, day_rate = pfeature.generate_rate(total_balance, i,labels)\n",
    "    weekday_rate_list.append(weekday_rate.reset_index(drop=True))\n",
    "    day_rate_list.append(day_rate.reset_index(drop=True))\n",
    "\n",
    "weekday_rate_list = pd.concat(weekday_rate_list).reset_index(drop=True)\n",
    "day_rate_list = pd.concat(day_rate_list).reset_index(drop=True)\n",
    "total_balance = pd.merge(total_balance, weekday_rate_list,\n",
    "                         on=['weekday','month'], how='left')\n",
    "total_balance = pd.merge(total_balance, day_rate_list, \n",
    "                         on=['day','month'], how='left')\n",
    "\n",
    "# 对周期因子进行特殊处理\n",
    "\n",
    "for i in [x for x in total_balance.columns \n",
    "          if 'rate' in x and x not in labels + date_indexs]:\n",
    "    total_balance[i] = total_balance[i].fillna(\n",
    "        np.nanmedian(total_balance[i]))\n",
    "    \n",
    "# 剔除相关性低的特征\n",
    "\n",
    "feature = total_balance.drop(date_indexs, axis=1)"
   ]
  },
  {
   "cell_type": "code",
   "execution_count": 28,
   "metadata": {
    "ExecuteTime": {
     "end_time": "2020-06-23T03:24:34.839731Z",
     "start_time": "2020-06-23T03:24:34.823773Z"
    }
   },
   "outputs": [],
   "source": [
    "def get_redeemfeature_with_time(data, labels, date_indexs):\n",
    "    df_tmp_ = data[labels + date_indexs + ['date']].copy()\n",
    "    total_balance = data.copy()\n",
    "    \n",
    "    df_tmp_ = df_tmp_[(df_tmp_['date']>=datetime.date(2014,3,3))]\n",
    "    df_tmp_['weekday'] = df_tmp_['date'].dt.weekday + 1\n",
    "    df_tmp_['week'] = df_tmp_['date'].dt.week - min(df_tmp_['date'].dt.week) + 1\n",
    "    df_tmp_['day'] = df_tmp_['date'].dt.day\n",
    "    df_tmp_['month'] = df_tmp_['date'].dt.month\n",
    "    df_tmp_.reset_index(inplace=True)\n",
    "    del df_tmp_['index']\n",
    "    df_redeem = pd.DataFrame(columns = ['weekday1','weekday2','weekday3','weekday4',\n",
    "                                          'weekday5','weekday6','weekday7'])\n",
    "    count = 0\n",
    "\n",
    "    for i in range(len(df_tmp_)):\n",
    "        df_redeem.loc[count,'weekday'+str(df_tmp_.loc[i,'weekday'])] = df_tmp_.loc[i,'total_redeem_amt']\n",
    "        if df_tmp_.loc[i,'weekday'] == 7:\n",
    "            count = count + 1\n",
    "\n",
    "    df_tmp_['redeem_weekday_median'] = np.nan\n",
    "    df_tmp_['redeem_weekday_mean'] = np.nan\n",
    "    df_tmp_['redeem_weekday_min'] = np.nan\n",
    "    df_tmp_['redeem_weekday_max'] = np.nan\n",
    "    df_tmp_['redeem_weekday_std'] = np.nan\n",
    "    df_tmp_['redeem_weekday_skew'] = np.nan\n",
    "\n",
    "    for i in range(len(df_tmp_)):\n",
    "        #从2014年3月31日开始统计\n",
    "        if i > 4*7-1:\n",
    "            df_tmp_.loc[i,'redeem_weekday_median'] = df_redeem.loc[:df_tmp_.loc[i,'week']-2,\n",
    "                                          'weekday'+str(df_tmp_.loc[i,'weekday'])].median()\n",
    "\n",
    "            df_tmp_.loc[i,'redeem_weekday_mean'] = df_redeem.loc[:df_tmp_.loc[i,'week']-2,\n",
    "                                          'weekday'+str(df_tmp_.loc[i,'weekday'])].mean()\n",
    "\n",
    "            df_tmp_.loc[i,'redeem_weekday_min'] = df_redeem.loc[:df_tmp_.loc[i,'week']-2,\n",
    "                                          'weekday'+str(df_tmp_.loc[i,'weekday'])].min()    \n",
    "\n",
    "            df_tmp_.loc[i,'redeem_weekday_max'] = df_redeem.loc[:df_tmp_.loc[i,'week']-2,\n",
    "                                          'weekday'+str(df_tmp_.loc[i,'weekday'])].max()   \n",
    "\n",
    "            df_tmp_.loc[i,'redeem_weekday_std'] = df_redeem.loc[:df_tmp_.loc[i,'week']-2,\n",
    "                                          'weekday'+str(df_tmp_.loc[i,'weekday'])].std() \n",
    "\n",
    "            df_tmp_.loc[i,'redeem_weekday_skew'] = df_redeem.loc[:df_tmp_.loc[i,'week']-2,\n",
    "                                          'weekday'+str(df_tmp_.loc[i,'weekday'])].skew() \n",
    "\n",
    "    colList = ['redeem_weekday_median','redeem_weekday_mean','redeem_weekday_min',\n",
    "               'redeem_weekday_max','redeem_weekday_std','redeem_weekday_skew']\n",
    "    total_balance = pd.merge(total_balance, df_tmp_[colList+['day','month']], on=['day','month'], how='left')\n",
    "    return total_balance"
   ]
  },
  {
   "cell_type": "code",
   "execution_count": 29,
   "metadata": {
    "ExecuteTime": {
     "end_time": "2020-06-23T03:24:42.288793Z",
     "start_time": "2020-06-23T03:24:41.342696Z"
    }
   },
   "outputs": [
    {
     "name": "stderr",
     "output_type": "stream",
     "text": [
      "d:\\softwares\\python\\lib\\site-packages\\ipykernel_launcher.py:5: FutureWarning: Comparing Series of datetimes with 'datetime.date'.  Currently, the\n",
      "'datetime.date' is coerced to a datetime. In the future pandas will\n",
      "not coerce, and a TypeError will be raised. To retain the current\n",
      "behavior, convert the 'datetime.date' to a datetime with\n",
      "'pd.Timestamp'.\n",
      "  \"\"\"\n",
      "d:\\softwares\\python\\lib\\site-packages\\numpy\\lib\\nanfunctions.py:1112: RuntimeWarning: Mean of empty slice\n",
      "  return np.nanmean(a, axis, out=out, keepdims=keepdims)\n"
     ]
    }
   ],
   "source": [
    "total_balance = get_redeemfeature_with_time(total_balance, labels, date_indexs)"
   ]
  },
  {
   "cell_type": "code",
   "execution_count": 30,
   "metadata": {
    "ExecuteTime": {
     "end_time": "2020-06-23T03:24:52.127640Z",
     "start_time": "2020-06-23T03:24:52.121657Z"
    }
   },
   "outputs": [
    {
     "data": {
      "text/plain": [
       "(228, 60)"
      ]
     },
     "execution_count": 30,
     "metadata": {},
     "output_type": "execute_result"
    }
   ],
   "source": [
    "total_balance.shape"
   ]
  },
  {
   "cell_type": "code",
   "execution_count": 31,
   "metadata": {
    "ExecuteTime": {
     "end_time": "2020-06-23T03:25:37.511586Z",
     "start_time": "2020-06-23T03:25:37.506603Z"
    }
   },
   "outputs": [
    {
     "data": {
      "text/plain": [
       "['weekday_onehot_2',\n",
       " 'weekday_onehot_0',\n",
       " 'weekday_onehot_6',\n",
       " 'is_secday_of_month',\n",
       " 'is_gonna_work_tomorrow',\n",
       " 'is_third_week',\n",
       " 'is_lastday_of_workday',\n",
       " 'weekday_onehot_4',\n",
       " 'is_midmonth',\n",
       " 'is_firstday_of_month',\n",
       " 'is_worked_yestday',\n",
       " 'weekday_onehot_3',\n",
       " 'is_second_week',\n",
       " 'total_redeem_predicted_by_cycle',\n",
       " 'is_firstday_of_work',\n",
       " 'is_weekend',\n",
       " 'dis_to_holiday',\n",
       " 'dis_from_middleofmonth',\n",
       " 'dis_from_holiendday',\n",
       " 'dis_from_middleofweek',\n",
       " 'dis_from_endofweek',\n",
       " 'dis_to_holiendday']"
      ]
     },
     "execution_count": 31,
     "metadata": {},
     "output_type": "execute_result"
    }
   ],
   "source": [
    "purchase_feature_low_correlation"
   ]
  },
  {
   "cell_type": "code",
   "execution_count": null,
   "metadata": {},
   "outputs": [],
   "source": []
  }
 ],
 "metadata": {
  "kernelspec": {
   "display_name": "Python 3",
   "language": "python",
   "name": "python3"
  },
  "language_info": {
   "codemirror_mode": {
    "name": "ipython",
    "version": 3
   },
   "file_extension": ".py",
   "mimetype": "text/x-python",
   "name": "python",
   "nbconvert_exporter": "python",
   "pygments_lexer": "ipython3",
   "version": "3.7.5"
  },
  "toc": {
   "base_numbering": 1,
   "nav_menu": {},
   "number_sections": true,
   "sideBar": true,
   "skip_h1_title": false,
   "title_cell": "Table of Contents",
   "title_sidebar": "Contents",
   "toc_cell": false,
   "toc_position": {},
   "toc_section_display": true,
   "toc_window_display": false
  },
  "varInspector": {
   "cols": {
    "lenName": 16,
    "lenType": 16,
    "lenVar": 40
   },
   "kernels_config": {
    "python": {
     "delete_cmd_postfix": "",
     "delete_cmd_prefix": "del ",
     "library": "var_list.py",
     "varRefreshCmd": "print(var_dic_list())"
    },
    "r": {
     "delete_cmd_postfix": ") ",
     "delete_cmd_prefix": "rm(",
     "library": "var_list.r",
     "varRefreshCmd": "cat(var_dic_list()) "
    }
   },
   "types_to_exclude": [
    "module",
    "function",
    "builtin_function_or_method",
    "instance",
    "_Feature"
   ],
   "window_display": false
  }
 },
 "nbformat": 4,
 "nbformat_minor": 2
}
