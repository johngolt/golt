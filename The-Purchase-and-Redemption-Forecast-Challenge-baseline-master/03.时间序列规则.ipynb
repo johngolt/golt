{
 "cells": [
  {
   "cell_type": "markdown",
   "metadata": {},
   "source": []
  },
  {
   "cell_type": "code",
   "execution_count": 2,
   "metadata": {
    "ExecuteTime": {
     "end_time": "2020-06-18T06:07:35.017970Z",
     "start_time": "2020-06-18T06:07:33.236581Z"
    }
   },
   "outputs": [],
   "source": [
    "import pandas as pd\n",
    "import sklearn as skr\n",
    "import numpy as np\n",
    "import datetime\n",
    "import matplotlib.pyplot as plt\n",
    "import seaborn as sns\n",
    "from dateutil.relativedelta import relativedelta"
   ]
  },
  {
   "cell_type": "code",
   "execution_count": 3,
   "metadata": {
    "ExecuteTime": {
     "end_time": "2020-06-18T06:07:35.049886Z",
     "start_time": "2020-06-18T06:07:35.026950Z"
    }
   },
   "outputs": [],
   "source": [
    "# Load the balance data\n",
    "def load_data(path='user_balance_table.csv'):\n",
    "    data_balance = pd.read_csv(path)\n",
    "    data_balance = add_timestamp(data_balance)\n",
    "    return data_balance.reset_index(drop=True)\n",
    "    \n",
    "\n",
    "# add tiemstamp to dataset\n",
    "def add_timestamp(data, time_index='report_date'):\n",
    "    data_balance = data.copy()\n",
    "    data_balance['date'] = pd.to_datetime(data_balance[time_index],\n",
    "                                          format= \"%Y%m%d\")\n",
    "    data_balance['day'] = data_balance['date'].dt.day\n",
    "    data_balance['month'] = data_balance['date'].dt.month\n",
    "    data_balance['year'] = data_balance['date'].dt.year\n",
    "    data_balance['week'] = data_balance['date'].dt.week\n",
    "    data_balance['weekday'] = data_balance['date'].dt.weekday\n",
    "    return data_balance.reset_index(drop=True)\n",
    "\n",
    "# total amount\n",
    "def get_total_balance(data,date):\n",
    "    df_tmp = data.copy()\n",
    "    df_tmp = df_tmp.groupby(['date'])['total_purchase_amt',\n",
    "                                      'total_redeem_amt'].sum()\n",
    "    df_tmp.reset_index(inplace=True)\n",
    "    return df_tmp[(df_tmp['date']>= date)].reset_index(drop=True)\n",
    "\n",
    "# Generate the test data\n",
    "def generate_test_data(data):\n",
    "    total_balance = data.copy()\n",
    "    start = datetime.datetime(2014,9,1)\n",
    "    testdata = []\n",
    "    while start != datetime.datetime(2014,10,15):\n",
    "        temp = [start, np.nan, np.nan]\n",
    "        testdata.append(temp)\n",
    "        start += datetime.timedelta(days = 1)\n",
    "    testdata = pd.DataFrame(testdata)\n",
    "    testdata.columns = total_balance.columns\n",
    "\n",
    "    total_balance = pd.concat([total_balance, testdata], axis = 0)\n",
    "    total_balance = total_balance.reset_index(drop=True)\n",
    "    return total_balance.reset_index(drop=True)\n",
    "\n",
    "# Load user's information\n",
    "def load_user_information(path='user_profile_table.csv'):\n",
    "    return pd.read_csv(path)"
   ]
  },
  {
   "cell_type": "code",
   "execution_count": 4,
   "metadata": {
    "ExecuteTime": {
     "end_time": "2020-06-18T06:07:50.229444Z",
     "start_time": "2020-06-18T06:07:35.060857Z"
    }
   },
   "outputs": [],
   "source": [
    "# 载入数据\n",
    "import os\n",
    "os.chdir('D:/Dataset/PRD')\n",
    "balance_data = load_data('user_balance_table.csv')\n",
    "balance_data = add_timestamp(balance_data)\n",
    "total_balance = get_total_balance(balance_data, date = '2014-03-01')\n",
    "total_balance = generate_test_data(total_balance)\n",
    "total_balance = add_timestamp(total_balance, 'date')"
   ]
  },
  {
   "cell_type": "code",
   "execution_count": 5,
   "metadata": {
    "ExecuteTime": {
     "end_time": "2020-06-18T06:07:51.106100Z",
     "start_time": "2020-06-18T06:07:51.080169Z"
    }
   },
   "outputs": [
    {
     "data": {
      "text/html": [
       "<div>\n",
       "<style scoped>\n",
       "    .dataframe tbody tr th:only-of-type {\n",
       "        vertical-align: middle;\n",
       "    }\n",
       "\n",
       "    .dataframe tbody tr th {\n",
       "        vertical-align: top;\n",
       "    }\n",
       "\n",
       "    .dataframe thead th {\n",
       "        text-align: right;\n",
       "    }\n",
       "</style>\n",
       "<table border=\"1\" class=\"dataframe\">\n",
       "  <thead>\n",
       "    <tr style=\"text-align: right;\">\n",
       "      <th></th>\n",
       "      <th>date</th>\n",
       "      <th>total_purchase_amt</th>\n",
       "      <th>total_redeem_amt</th>\n",
       "      <th>day</th>\n",
       "      <th>month</th>\n",
       "      <th>year</th>\n",
       "      <th>week</th>\n",
       "      <th>weekday</th>\n",
       "    </tr>\n",
       "  </thead>\n",
       "  <tbody>\n",
       "    <tr>\n",
       "      <th>0</th>\n",
       "      <td>2014-03-01</td>\n",
       "      <td>362865580.0</td>\n",
       "      <td>211279011.0</td>\n",
       "      <td>1</td>\n",
       "      <td>3</td>\n",
       "      <td>2014</td>\n",
       "      <td>9</td>\n",
       "      <td>5</td>\n",
       "    </tr>\n",
       "    <tr>\n",
       "      <th>1</th>\n",
       "      <td>2014-03-02</td>\n",
       "      <td>276202230.0</td>\n",
       "      <td>246199417.0</td>\n",
       "      <td>2</td>\n",
       "      <td>3</td>\n",
       "      <td>2014</td>\n",
       "      <td>9</td>\n",
       "      <td>6</td>\n",
       "    </tr>\n",
       "    <tr>\n",
       "      <th>2</th>\n",
       "      <td>2014-03-03</td>\n",
       "      <td>505305862.0</td>\n",
       "      <td>513017360.0</td>\n",
       "      <td>3</td>\n",
       "      <td>3</td>\n",
       "      <td>2014</td>\n",
       "      <td>10</td>\n",
       "      <td>0</td>\n",
       "    </tr>\n",
       "    <tr>\n",
       "      <th>3</th>\n",
       "      <td>2014-03-04</td>\n",
       "      <td>524146340.0</td>\n",
       "      <td>250562978.0</td>\n",
       "      <td>4</td>\n",
       "      <td>3</td>\n",
       "      <td>2014</td>\n",
       "      <td>10</td>\n",
       "      <td>1</td>\n",
       "    </tr>\n",
       "    <tr>\n",
       "      <th>4</th>\n",
       "      <td>2014-03-05</td>\n",
       "      <td>454295491.0</td>\n",
       "      <td>209072753.0</td>\n",
       "      <td>5</td>\n",
       "      <td>3</td>\n",
       "      <td>2014</td>\n",
       "      <td>10</td>\n",
       "      <td>2</td>\n",
       "    </tr>\n",
       "  </tbody>\n",
       "</table>\n",
       "</div>"
      ],
      "text/plain": [
       "        date  total_purchase_amt  total_redeem_amt  day  month  year  week  \\\n",
       "0 2014-03-01         362865580.0       211279011.0    1      3  2014     9   \n",
       "1 2014-03-02         276202230.0       246199417.0    2      3  2014     9   \n",
       "2 2014-03-03         505305862.0       513017360.0    3      3  2014    10   \n",
       "3 2014-03-04         524146340.0       250562978.0    4      3  2014    10   \n",
       "4 2014-03-05         454295491.0       209072753.0    5      3  2014    10   \n",
       "\n",
       "   weekday  \n",
       "0        5  \n",
       "1        6  \n",
       "2        0  \n",
       "3        1  \n",
       "4        2  "
      ]
     },
     "execution_count": 5,
     "metadata": {},
     "output_type": "execute_result"
    }
   ],
   "source": [
    "total_balance.head()"
   ]
  },
  {
   "cell_type": "code",
   "execution_count": 39,
   "metadata": {
    "ExecuteTime": {
     "end_time": "2020-06-12T08:30:09.089113Z",
     "start_time": "2020-06-12T08:30:09.084125Z"
    }
   },
   "outputs": [],
   "source": [
    "# 创建数据的深层拷贝\n",
    "\n",
    "data = total_balance.copy()"
   ]
  },
  {
   "cell_type": "code",
   "execution_count": 45,
   "metadata": {
    "ExecuteTime": {
     "end_time": "2020-06-12T08:33:21.688707Z",
     "start_time": "2020-06-12T08:33:21.662744Z"
    }
   },
   "outputs": [],
   "source": [
    "# 定义生成时间序列规则预测结果的方法\n",
    "def generate_base(df, month_index):\n",
    "    # 选中固定时间段的数据集\n",
    "    total_balance = df.copy()\n",
    "    total_balance = total_balance[['date','total_purchase_amt',\n",
    "                                   'total_redeem_amt']]\n",
    "    total_balance = total_balance[\n",
    "        (total_balance['date'] >= pd.Timestamp(\n",
    "            datetime.date(2014,3,1))) & (total_balance['date'] < pd.Timestamp(datetime.date(2014, month_index, 1)))]\n",
    "    # 加入时间戳\n",
    "    total_balance['weekday'] = total_balance['date'].dt.weekday\n",
    "    total_balance['day'] = total_balance['date'].dt.day\n",
    "    total_balance['week'] = total_balance['date'].dt.week\n",
    "    total_balance['month'] = total_balance['date'].dt.month\n",
    "    \n",
    "    # 统计翌日因子\n",
    "    mean_of_each_weekday = total_balance[\n",
    "        ['weekday']+['total_purchase_amt','total_redeem_amt']\n",
    "    ].groupby('weekday',as_index=False).mean()\n",
    "    for name in ['total_purchase_amt','total_redeem_amt']:\n",
    "        mean_of_each_weekday = mean_of_each_weekday.rename(\n",
    "            columns={name: name+'_weekdaymean'})\n",
    "    mean_of_each_weekday['total_purchase_amt_weekdaymean'] /= np.mean(\n",
    "        total_balance['total_purchase_amt'])\n",
    "    mean_of_each_weekday['total_redeem_amt_weekdaymean'] /= np.mean(\n",
    "        total_balance['total_redeem_amt'])\n",
    "\n",
    "    # 合并统计结果到原数据集\n",
    "    total_balance = pd.merge(total_balance, \n",
    "                             mean_of_each_weekday, on='weekday', how='left')\n",
    "\n",
    "    # 分别统计翌日在(1~31)号出现的频次\n",
    "    weekday_count = total_balance[['day','weekday','date']\n",
    "                                 ].groupby(['day','weekday'],as_index=False).count()\n",
    "    weekday_count = pd.merge(weekday_count, \n",
    "                             mean_of_each_weekday, on='weekday')\n",
    "\n",
    "    # 依据频次对翌日因子进行加权，获得日期因子\n",
    "    weekday_count['total_purchase_amt_weekdaymean'] *= weekday_count[\n",
    "        'date']   / len(np.unique(total_balance['month']))\n",
    "    weekday_count['total_redeem_amt_weekdaymean'] *= weekday_count[\n",
    "        'date']  / len(np.unique(total_balance['month']))\n",
    "    day_rate = weekday_count.drop(\n",
    "        ['weekday','date'],axis=1).groupby('day',as_index=False).sum()\n",
    "\n",
    "    # 将训练集中所有日期的均值剔除日期残差得到base\n",
    "    day_mean = total_balance[\n",
    "        ['day'] + ['total_purchase_amt','total_redeem_amt']\n",
    "                         ].groupby('day',as_index=False).mean()\n",
    "    day_pre = pd.merge(day_mean, day_rate, on='day', how='left')\n",
    "    day_pre['total_purchase_amt'] /= day_pre[\n",
    "        'total_purchase_amt_weekdaymean']\n",
    "    day_pre['total_redeem_amt'] /= day_pre['total_redeem_amt_weekdaymean']\n",
    "\n",
    "    # 生成测试集数据\n",
    "    for index, row in day_pre.iterrows():\n",
    "        if month_index in (2,4,6,9) and row['day'] == 31:\n",
    "            break\n",
    "        day_pre.loc[index, 'date'] = datetime.datetime(\n",
    "            2014, month_index, int(row['day']))\n",
    "\n",
    "    # 基于base与翌日因子获得最后的预测结果\n",
    "    day_pre['weekday'] = day_pre.date.dt.weekday\n",
    "    day_pre = day_pre[['date','weekday']+[\n",
    "        'total_purchase_amt','total_redeem_amt']]\n",
    "    day_pre = pd.merge(day_pre, mean_of_each_weekday,on='weekday')\n",
    "    day_pre['total_purchase_amt'] *= day_pre[\n",
    "        'total_purchase_amt_weekdaymean']\n",
    "    day_pre['total_redeem_amt'] *= day_pre[\n",
    "        'total_redeem_amt_weekdaymean']\n",
    "\n",
    "    day_pre = day_pre.sort_values(\n",
    "        'date')[['date']+['total_purchase_amt','total_redeem_amt']]\n",
    "    return day_pre"
   ]
  },
  {
   "cell_type": "code",
   "execution_count": 46,
   "metadata": {
    "ExecuteTime": {
     "end_time": "2020-06-12T08:33:22.781207Z",
     "start_time": "2020-06-12T08:33:22.448844Z"
    }
   },
   "outputs": [],
   "source": [
    "# 生成预测结果（以及残差）\n",
    "\n",
    "base_list = []\n",
    "for i in range(4, 10):\n",
    "    base_list.append(generate_base(data, i).reset_index(drop=True))"
   ]
  },
  {
   "cell_type": "code",
   "execution_count": null,
   "metadata": {
    "ExecuteTime": {
     "end_time": "2020-06-12T08:34:28.670333Z",
     "start_time": "2020-06-12T08:34:28.643405Z"
    }
   },
   "outputs": [],
   "source": []
  },
  {
   "cell_type": "code",
   "execution_count": 48,
   "metadata": {
    "ExecuteTime": {
     "end_time": "2020-06-12T08:35:12.114147Z",
     "start_time": "2020-06-12T08:35:12.099187Z"
    }
   },
   "outputs": [],
   "source": [
    "base = pd.concat(base_list).reset_index(drop=True)\n",
    "for i in ['total_purchase_amt','total_redeem_amt']:\n",
    "    base = base.rename(columns={i: i+'_base'})\n",
    "\n",
    "data = pd.merge(data.reset_index(drop=True), \n",
    "                base.reset_index(drop=True), \n",
    "                on='date', how='left').reset_index(drop=True)"
   ]
  },
  {
   "cell_type": "code",
   "execution_count": 51,
   "metadata": {
    "ExecuteTime": {
     "end_time": "2020-06-12T08:37:57.269218Z",
     "start_time": "2020-06-12T08:37:57.263233Z"
    }
   },
   "outputs": [],
   "source": [
    "b = data.loc[data['date']>='2014-04',:]"
   ]
  },
  {
   "cell_type": "code",
   "execution_count": null,
   "metadata": {
    "ExecuteTime": {
     "end_time": "2020-06-12T08:38:29.733096Z",
     "start_time": "2020-06-12T08:38:29.704626Z"
    }
   },
   "outputs": [],
   "source": []
  },
  {
   "cell_type": "code",
   "execution_count": 54,
   "metadata": {
    "ExecuteTime": {
     "end_time": "2020-06-12T08:40:35.084985Z",
     "start_time": "2020-06-12T08:40:35.076048Z"
    }
   },
   "outputs": [],
   "source": [
    "data['purchase_residual'] = data[\n",
    "    'total_purchase_amt'] / data['total_purchase_amt_base']\n",
    "\n",
    "data['redeem_residual'] = data[\n",
    "    'total_redeem_amt'] / data['total_redeem_amt_base']"
   ]
  },
  {
   "cell_type": "code",
   "execution_count": 55,
   "metadata": {
    "ExecuteTime": {
     "end_time": "2020-06-12T08:40:49.292805Z",
     "start_time": "2020-06-12T08:40:49.276848Z"
    }
   },
   "outputs": [
    {
     "data": {
      "text/html": [
       "<div>\n",
       "<style scoped>\n",
       "    .dataframe tbody tr th:only-of-type {\n",
       "        vertical-align: middle;\n",
       "    }\n",
       "\n",
       "    .dataframe tbody tr th {\n",
       "        vertical-align: top;\n",
       "    }\n",
       "\n",
       "    .dataframe thead th {\n",
       "        text-align: right;\n",
       "    }\n",
       "</style>\n",
       "<table border=\"1\" class=\"dataframe\">\n",
       "  <thead>\n",
       "    <tr style=\"text-align: right;\">\n",
       "      <th></th>\n",
       "      <th>date</th>\n",
       "      <th>total_purchase_amt</th>\n",
       "      <th>total_redeem_amt</th>\n",
       "      <th>day</th>\n",
       "      <th>month</th>\n",
       "      <th>year</th>\n",
       "      <th>week</th>\n",
       "      <th>weekday</th>\n",
       "      <th>total_purchase_amt_base</th>\n",
       "      <th>total_redeem_amt_base</th>\n",
       "      <th>purchase_residual</th>\n",
       "      <th>redeem_residual</th>\n",
       "    </tr>\n",
       "  </thead>\n",
       "  <tbody>\n",
       "    <tr>\n",
       "      <th>31</th>\n",
       "      <td>2014-04-01</td>\n",
       "      <td>453320585.0</td>\n",
       "      <td>277429358.0</td>\n",
       "      <td>1</td>\n",
       "      <td>4</td>\n",
       "      <td>2014</td>\n",
       "      <td>14</td>\n",
       "      <td>1</td>\n",
       "      <td>6.207296e+08</td>\n",
       "      <td>4.373304e+08</td>\n",
       "      <td>0.730303</td>\n",
       "      <td>0.634370</td>\n",
       "    </tr>\n",
       "    <tr>\n",
       "      <th>32</th>\n",
       "      <td>2014-04-02</td>\n",
       "      <td>355347118.0</td>\n",
       "      <td>272612066.0</td>\n",
       "      <td>2</td>\n",
       "      <td>4</td>\n",
       "      <td>2014</td>\n",
       "      <td>14</td>\n",
       "      <td>2</td>\n",
       "      <td>4.342629e+08</td>\n",
       "      <td>3.578884e+08</td>\n",
       "      <td>0.818276</td>\n",
       "      <td>0.761724</td>\n",
       "    </tr>\n",
       "    <tr>\n",
       "      <th>33</th>\n",
       "      <td>2014-04-03</td>\n",
       "      <td>363877120.0</td>\n",
       "      <td>266605457.0</td>\n",
       "      <td>3</td>\n",
       "      <td>4</td>\n",
       "      <td>2014</td>\n",
       "      <td>14</td>\n",
       "      <td>3</td>\n",
       "      <td>4.734257e+08</td>\n",
       "      <td>3.791019e+08</td>\n",
       "      <td>0.768604</td>\n",
       "      <td>0.703255</td>\n",
       "    </tr>\n",
       "    <tr>\n",
       "      <th>34</th>\n",
       "      <td>2014-04-04</td>\n",
       "      <td>251895894.0</td>\n",
       "      <td>200192637.0</td>\n",
       "      <td>4</td>\n",
       "      <td>4</td>\n",
       "      <td>2014</td>\n",
       "      <td>14</td>\n",
       "      <td>4</td>\n",
       "      <td>3.703544e+08</td>\n",
       "      <td>2.161569e+08</td>\n",
       "      <td>0.680148</td>\n",
       "      <td>0.926145</td>\n",
       "    </tr>\n",
       "    <tr>\n",
       "      <th>35</th>\n",
       "      <td>2014-04-05</td>\n",
       "      <td>202336542.0</td>\n",
       "      <td>163199682.0</td>\n",
       "      <td>5</td>\n",
       "      <td>4</td>\n",
       "      <td>2014</td>\n",
       "      <td>14</td>\n",
       "      <td>5</td>\n",
       "      <td>3.093513e+08</td>\n",
       "      <td>9.861873e+07</td>\n",
       "      <td>0.654067</td>\n",
       "      <td>1.654855</td>\n",
       "    </tr>\n",
       "  </tbody>\n",
       "</table>\n",
       "</div>"
      ],
      "text/plain": [
       "         date  total_purchase_amt  total_redeem_amt  day  month  year  week  \\\n",
       "31 2014-04-01         453320585.0       277429358.0    1      4  2014    14   \n",
       "32 2014-04-02         355347118.0       272612066.0    2      4  2014    14   \n",
       "33 2014-04-03         363877120.0       266605457.0    3      4  2014    14   \n",
       "34 2014-04-04         251895894.0       200192637.0    4      4  2014    14   \n",
       "35 2014-04-05         202336542.0       163199682.0    5      4  2014    14   \n",
       "\n",
       "    weekday  total_purchase_amt_base  total_redeem_amt_base  \\\n",
       "31        1             6.207296e+08           4.373304e+08   \n",
       "32        2             4.342629e+08           3.578884e+08   \n",
       "33        3             4.734257e+08           3.791019e+08   \n",
       "34        4             3.703544e+08           2.161569e+08   \n",
       "35        5             3.093513e+08           9.861873e+07   \n",
       "\n",
       "    purchase_residual  redeem_residual  \n",
       "31           0.730303         0.634370  \n",
       "32           0.818276         0.761724  \n",
       "33           0.768604         0.703255  \n",
       "34           0.680148         0.926145  \n",
       "35           0.654067         1.654855  "
      ]
     },
     "execution_count": 55,
     "metadata": {},
     "output_type": "execute_result"
    }
   ],
   "source": [
    "data.loc[data['date']>='2014-04',:].head()"
   ]
  },
  {
   "cell_type": "code",
   "execution_count": 56,
   "metadata": {
    "ExecuteTime": {
     "end_time": "2020-06-12T08:42:29.178888Z",
     "start_time": "2020-06-12T08:42:29.150994Z"
    }
   },
   "outputs": [],
   "source": [
    "# 对结果表重命名\n",
    "\n",
    "data = data[\n",
    "    ['date','purchase_residual','redeem_residual',\n",
    "     'total_purchase_amt_base', 'total_redeem_amt_base']]\n",
    "for i in data.columns:\n",
    "    if i == 'date':\n",
    "        data[i] = data[i].astype(str)\n",
    "        data[i] = data[i].str.replace('-','')\n",
    "data.columns = [\n",
    "    ['date'] + ['total_purchase_amt','total_redeem_amt'] + [\n",
    "        'total_purchase_predicted_by_cycle',\n",
    "        'total_redeem_predicted_by_cycle'] ]"
   ]
  },
  {
   "cell_type": "code",
   "execution_count": 33,
   "metadata": {
    "ExecuteTime": {
     "end_time": "2020-06-12T07:13:27.324612Z",
     "start_time": "2020-06-12T07:13:27.303670Z"
    }
   },
   "outputs": [],
   "source": [
    "# 保存预测结果到本地\n",
    "\n",
    "data.to_csv('base.csv',index=False)"
   ]
  },
  {
   "cell_type": "code",
   "execution_count": 57,
   "metadata": {
    "ExecuteTime": {
     "end_time": "2020-06-12T08:42:33.272166Z",
     "start_time": "2020-06-12T08:42:33.260237Z"
    }
   },
   "outputs": [
    {
     "data": {
      "text/html": [
       "<div>\n",
       "<style scoped>\n",
       "    .dataframe tbody tr th:only-of-type {\n",
       "        vertical-align: middle;\n",
       "    }\n",
       "\n",
       "    .dataframe tbody tr th {\n",
       "        vertical-align: top;\n",
       "    }\n",
       "\n",
       "    .dataframe thead tr th {\n",
       "        text-align: left;\n",
       "    }\n",
       "</style>\n",
       "<table border=\"1\" class=\"dataframe\">\n",
       "  <thead>\n",
       "    <tr>\n",
       "      <th></th>\n",
       "      <th>date</th>\n",
       "      <th>total_purchase_amt</th>\n",
       "      <th>total_redeem_amt</th>\n",
       "      <th>total_purchase_predicted_by_cycle</th>\n",
       "      <th>total_redeem_predicted_by_cycle</th>\n",
       "    </tr>\n",
       "  </thead>\n",
       "  <tbody>\n",
       "    <tr>\n",
       "      <th>0</th>\n",
       "      <td>20140301</td>\n",
       "      <td>NaN</td>\n",
       "      <td>NaN</td>\n",
       "      <td>NaN</td>\n",
       "      <td>NaN</td>\n",
       "    </tr>\n",
       "    <tr>\n",
       "      <th>1</th>\n",
       "      <td>20140302</td>\n",
       "      <td>NaN</td>\n",
       "      <td>NaN</td>\n",
       "      <td>NaN</td>\n",
       "      <td>NaN</td>\n",
       "    </tr>\n",
       "    <tr>\n",
       "      <th>2</th>\n",
       "      <td>20140303</td>\n",
       "      <td>NaN</td>\n",
       "      <td>NaN</td>\n",
       "      <td>NaN</td>\n",
       "      <td>NaN</td>\n",
       "    </tr>\n",
       "    <tr>\n",
       "      <th>3</th>\n",
       "      <td>20140304</td>\n",
       "      <td>NaN</td>\n",
       "      <td>NaN</td>\n",
       "      <td>NaN</td>\n",
       "      <td>NaN</td>\n",
       "    </tr>\n",
       "    <tr>\n",
       "      <th>4</th>\n",
       "      <td>20140305</td>\n",
       "      <td>NaN</td>\n",
       "      <td>NaN</td>\n",
       "      <td>NaN</td>\n",
       "      <td>NaN</td>\n",
       "    </tr>\n",
       "  </tbody>\n",
       "</table>\n",
       "</div>"
      ],
      "text/plain": [
       "       date total_purchase_amt total_redeem_amt  \\\n",
       "0  20140301                NaN              NaN   \n",
       "1  20140302                NaN              NaN   \n",
       "2  20140303                NaN              NaN   \n",
       "3  20140304                NaN              NaN   \n",
       "4  20140305                NaN              NaN   \n",
       "\n",
       "  total_purchase_predicted_by_cycle total_redeem_predicted_by_cycle  \n",
       "0                               NaN                             NaN  \n",
       "1                               NaN                             NaN  \n",
       "2                               NaN                             NaN  \n",
       "3                               NaN                             NaN  \n",
       "4                               NaN                             NaN  "
      ]
     },
     "execution_count": 57,
     "metadata": {},
     "output_type": "execute_result"
    }
   ],
   "source": [
    "data.head()"
   ]
  },
  {
   "cell_type": "code",
   "execution_count": null,
   "metadata": {
    "ExecuteTime": {
     "end_time": "2020-06-18T06:18:28.207835Z",
     "start_time": "2020-06-18T06:18:28.077632Z"
    }
   },
   "outputs": [],
   "source": []
  },
  {
   "cell_type": "code",
   "execution_count": null,
   "metadata": {},
   "outputs": [],
   "source": []
  }
 ],
 "metadata": {
  "kernelspec": {
   "display_name": "Python 3",
   "language": "python",
   "name": "python3"
  },
  "language_info": {
   "codemirror_mode": {
    "name": "ipython",
    "version": 3
   },
   "file_extension": ".py",
   "mimetype": "text/x-python",
   "name": "python",
   "nbconvert_exporter": "python",
   "pygments_lexer": "ipython3",
   "version": "3.7.5"
  },
  "toc": {
   "base_numbering": 1,
   "nav_menu": {},
   "number_sections": true,
   "sideBar": true,
   "skip_h1_title": false,
   "title_cell": "Table of Contents",
   "title_sidebar": "Contents",
   "toc_cell": false,
   "toc_position": {},
   "toc_section_display": true,
   "toc_window_display": false
  },
  "varInspector": {
   "cols": {
    "lenName": 16,
    "lenType": 16,
    "lenVar": 40
   },
   "kernels_config": {
    "python": {
     "delete_cmd_postfix": "",
     "delete_cmd_prefix": "del ",
     "library": "var_list.py",
     "varRefreshCmd": "print(var_dic_list())"
    },
    "r": {
     "delete_cmd_postfix": ") ",
     "delete_cmd_prefix": "rm(",
     "library": "var_list.r",
     "varRefreshCmd": "cat(var_dic_list()) "
    }
   },
   "types_to_exclude": [
    "module",
    "function",
    "builtin_function_or_method",
    "instance",
    "_Feature"
   ],
   "window_display": false
  }
 },
 "nbformat": 4,
 "nbformat_minor": 2
}
